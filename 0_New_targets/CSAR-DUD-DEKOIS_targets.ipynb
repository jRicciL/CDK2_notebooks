{
 "cells": [
  {
   "cell_type": "code",
   "execution_count": 1,
   "metadata": {
    "hideCode": false,
    "hidePrompt": false
   },
   "outputs": [],
   "source": [
    "dud_targets = {\n",
    "    \"ACE\": \"Angiotensin-converting enzyme\",\n",
    "    \"ACHE\": \"Acetylcholine esterase\",\n",
    "    \"ADA\": \"Adenosine deaminase\",\n",
    "    \"ALR2\": \"Aldose reductase\",\n",
    "    \"AmpC\": \"AmpC beta lactamase\",\n",
    "    \"AR\": \"Androgen receptor\",\n",
    "    \"CDK2\": \"Cyclin dependent kinase 2\",\n",
    "    \"COMT\": \"Catechol O-methyltransferase\",\n",
    "    \"COX-1\": \"Cyclooxygenase 1\",\n",
    "    \"COX-2\": \"Cyclooxygenase 2\",\n",
    "    \"DHFR\": \"Dihydrofolate reductase\",\n",
    "    \"EGFr\": \"Epidermal growth factor receptor kinase\",\n",
    "    \"ER_agonist\": \"Estrogen receptor agonist\",\n",
    "    \"ER_antagonist\": \"Estrogen receptor antagonist\",\n",
    "    \"FGFr1\": \"Fibroblast growth factor receptor kinase\",\n",
    "    \"FXa\": \"Factor Xa\",\n",
    "    \"GART\": \"glycinamide ribonucleotide transformylase\",\n",
    "    \"GPB\": \"Glycogen phosphorylase beta\",\n",
    "    \"GR\": \"Glutocorticoid receptor\",\n",
    "    \"HIVPR\": \"HIV protease\",\n",
    "    \"HIVRT\": \"HIV reverse transcriptase\",\n",
    "    \"HMGR\": \"Hydroxymethylglutaryl-CoA reductase\",\n",
    "    \"HSP90\": \"Human heat shock protein 90 kinase\",\n",
    "    \"InhA\": \"Enoyl ACP reductase\",\n",
    "    \"MR\": \"Mineralcorticoid receptor\",\n",
    "    \"NA\": \"Neuraminidase\",\n",
    "    \"P38\": \"P38 mitogen activated protein kinase\",\n",
    "    \"PARP\": \"Poly(ADP-ribose) polymerase\",\n",
    "    \"PDE5\": \"Phosphodiesterase V\",\n",
    "    \"PDGFrb\": \"Platlet derived growth factor receptor kinase\",\n",
    "    \"PNP\": \"Purine nucleoside phosphorylase\",\n",
    "    \"PPARg\": \"Peroxisome proliferator activated receptor gamma\",\n",
    "    \"PR\": \"Progesterone receptor\",\n",
    "    \"RXRa\": \"Retinoic X receptor alpha\",\n",
    "    \"SAHH\": \"S-adenosyl-homocysteine hydrolase\",\n",
    "    \"SRC\": \"Tyrosine kinase SRC\",\n",
    "    \"Thrombin\": \"Thrombin\",\n",
    "    \"TK\": \"Thymidine kinase\",\n",
    "    \"Trypsin\": \"Trypsin\",\n",
    "    \"VEGFr2\": \"Vascular endothelial growth factor receptor kinase\"\n",
    "}"
   ]
  },
  {
   "cell_type": "code",
   "execution_count": null,
   "metadata": {
    "hideCode": false,
    "hidePrompt": false
   },
   "outputs": [],
   "source": [
    "# Cargar cada estructura desde el archivo que proporciona DUD"
   ]
  },
  {
   "cell_type": "code",
   "execution_count": null,
   "metadata": {
    "collapsed": true,
    "hideCode": false,
    "hideOutput": true,
    "hidePrompt": false
   },
   "outputs": [],
   "source": [
    "https://www.uniprot.org/uniprot/?query=cyclin+dependent+kinase+2%20AND%20Human&sort=score&format=tab "
   ]
  }
 ],
 "metadata": {
  "hide_code_all_hidden": false,
  "kernelspec": {
   "display_name": "Python 3",
   "language": "python",
   "name": "python3"
  },
  "language_info": {
   "codemirror_mode": {
    "name": "ipython",
    "version": 3
   },
   "file_extension": ".py",
   "mimetype": "text/x-python",
   "name": "python",
   "nbconvert_exporter": "python",
   "pygments_lexer": "ipython3",
   "version": "3.6.9"
  }
 },
 "nbformat": 4,
 "nbformat_minor": 2
}
