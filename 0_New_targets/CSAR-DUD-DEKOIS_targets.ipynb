{
 "cells": [
  {
   "cell_type": "code",
   "execution_count": 6,
   "metadata": {
    "hideCode": false,
    "hidePrompt": false
   },
   "outputs": [],
   "source": [
    "dud_targets = {\n",
    "    \"ACE\": \"Angiotensin-converting enzyme\",\n",
    "    \"ACHE\": \"Acetylcholine esterase\",\n",
    "    \"ADA\": \"Adenosine deaminase\",\n",
    "    \"ALR2\": \"Aldose reductase\",\n",
    "    \"AmpC\": \"AmpC beta lactamase\",\n",
    "    \"AR\": \"Androgen receptor\",\n",
    "    \"CDK2\": \"Cyclin dependent kinase 2\",\n",
    "    \"COMT\": \"Catechol O-methyltransferase\",\n",
    "    \"COX-1\": \"Cyclooxygenase 1\",\n",
    "    \"COX-2\": \"Cyclooxygenase 2\",\n",
    "    \"DHFR\": \"Dihydrofolate reductase\",\n",
    "    \"EGFr\": \"Epidermal growth factor receptor kinase\",\n",
    "    \"ER_agonist\": \"Estrogen receptor agonist\",\n",
    "    \"ER_antagonist\": \"Estrogen receptor antagonist\",\n",
    "    \"FGFr1\": \"Fibroblast growth factor receptor kinase\",\n",
    "    \"FXa\": \"Factor Xa\",\n",
    "    \"GART\": \"glycinamide ribonucleotide transformylase\",\n",
    "    \"GPB\": \"Glycogen phosphorylase beta\",\n",
    "    \"GR\": \"Glutocorticoid receptor\",\n",
    "    \"HIVPR\": \"HIV protease\",\n",
    "    \"HIVRT\": \"HIV reverse transcriptase\",\n",
    "    \"HMGR\": \"Hydroxymethylglutaryl-CoA reductase\",\n",
    "    \"HSP90\": \"Human heat shock protein 90 kinase\",\n",
    "    \"InhA\": \"Enoyl ACP reductase\",\n",
    "    \"MR\": \"Mineralcorticoid receptor\",\n",
    "    \"NA\": \"Neuraminidase\",\n",
    "    \"P38\": \"P38 mitogen activated protein kinase\",\n",
    "    \"PARP\": \"Poly(ADP-ribose) polymerase\",\n",
    "    \"PDE5\": \"Phosphodiesterase V\",\n",
    "    \"PDGFrb\": \"Platlet derived growth factor receptor kinase\",\n",
    "    \"PNP\": \"Purine nucleoside phosphorylase\",\n",
    "    \"PPARg\": \"Peroxisome proliferator activated receptor gamma\",\n",
    "    \"PR\": \"Progesterone receptor\",\n",
    "    \"RXRa\": \"Retinoic X receptor alpha\",\n",
    "    \"SAHH\": \"S-adenosyl-homocysteine hydrolase\",\n",
    "    \"SRC\": \"Tyrosine kinase SRC\",\n",
    "    \"Thrombin\": \"Thrombin\",\n",
    "    \"TK\": \"Thymidine kinase\",\n",
    "    \"Trypsin\": \"Trypsin\",\n",
    "    \"VEGFr2\": \"Vascular endothelial growth factor receptor kinase\"\n",
    "}"
   ]
  },
  {
   "cell_type": "code",
   "execution_count": 7,
   "metadata": {
    "hideCode": false,
    "hidePrompt": false
   },
   "outputs": [],
   "source": [
    "# Cargar cada estructura desde el archivo que proporciona DUD"
   ]
  },
  {
   "cell_type": "code",
   "execution_count": 13,
   "metadata": {},
   "outputs": [],
   "source": [
    "import os\n",
    "import glob\n",
    "path_to_dud_target_files = os.path.join(*'../../../dud_targets'.split('/'))"
   ]
  },
  {
   "cell_type": "code",
   "execution_count": 9,
   "metadata": {},
   "outputs": [],
   "source": [
    "from prody import *"
   ]
  },
  {
   "cell_type": "code",
   "execution_count": 30,
   "metadata": {},
   "outputs": [
    {
     "name": "stderr",
     "output_type": "stream",
     "text": [
      "@> 2247 atoms and 1 coordinate set(s) were parsed in 0.02s.\n"
     ]
    }
   ],
   "source": [
    "prot_name = 'CDK2'.lower()\n",
    "rec_pdb_file = glob.glob(F'{path_to_dud_target_files}/{prot_name}/*pdb')\n",
    "rec_pdb = parsePDB(rec_pdb_file)\n",
    "seq_prot = 'MENFQKVEKIGEGTYGVVYKARNKLTGEVVALKKIRLDTETEGVPSTAIREISLLKELNHPNIVKLLDVIHTENKLYLVFEFLHQDLKKFMDASALTGIPLPLIKSYLFQLLQGLAFCHSHRVLHRDLKPQNLLINTEGAIKLADFGLARAFGVPVRTYTHEVVTLWYRAPEILLGCKYYSTAVDIWSLGCIFAEMVTRRALFPGDSEIDQLFRIFRTLGTPDEVVWPGVTSMPDYKPSFPKWARQDFSKVVPPLDEDGRSLLSQMLHYDPNKRISAKAALAHPFFQDVTKPVPHLRL'"
   ]
  },
  {
   "cell_type": "code",
   "execution_count": 35,
   "metadata": {},
   "outputs": [
    {
     "name": "stderr",
     "output_type": "stream",
     "text": [
      "@> Blast searching NCBI PDB database for \"MENFQ...\"\n",
      "@> WARNING Blast search time out.                    \n"
     ]
    }
   ],
   "source": [
    "blast_record = blastPDB(seq_prot)"
   ]
  },
  {
   "cell_type": "code",
   "execution_count": 36,
   "metadata": {},
   "outputs": [],
   "source": [
    "blast_record"
   ]
  },
  {
   "cell_type": "code",
   "execution_count": 38,
   "metadata": {},
   "outputs": [
    {
     "ename": "AttributeError",
     "evalue": "'NoneType' object has no attribute 'getHits'",
     "output_type": "error",
     "traceback": [
      "\u001b[0;31m---------------------------------------------------------------------------\u001b[0m",
      "\u001b[0;31mAttributeError\u001b[0m                            Traceback (most recent call last)",
      "\u001b[0;32m<ipython-input-38-9657d8f38ea8>\u001b[0m in \u001b[0;36m<module>\u001b[0;34m\u001b[0m\n\u001b[1;32m      1\u001b[0m \u001b[0midentidad\u001b[0m  \u001b[0;34m=\u001b[0m \u001b[0;36m80\u001b[0m\u001b[0;34m\u001b[0m\u001b[0;34m\u001b[0m\u001b[0m\n\u001b[0;32m----> 2\u001b[0;31m \u001b[0mpdbids\u001b[0m \u001b[0;34m=\u001b[0m \u001b[0mblast_record\u001b[0m\u001b[0;34m.\u001b[0m\u001b[0mgetHits\u001b[0m\u001b[0;34m(\u001b[0m\u001b[0mpercent_identity\u001b[0m \u001b[0;34m=\u001b[0m \u001b[0midentidad\u001b[0m\u001b[0;34m)\u001b[0m \u001b[0;31m# Devuelve un diccionario con cada proteína hit\u001b[0m\u001b[0;34m\u001b[0m\u001b[0;34m\u001b[0m\u001b[0m\n\u001b[0m\u001b[1;32m      3\u001b[0m \u001b[0mlen\u001b[0m\u001b[0;34m(\u001b[0m\u001b[0mpdbids\u001b[0m\u001b[0;34m)\u001b[0m \u001b[0;31m# 391 proteínas tienen un 95% de identidad con la seucuencia\u001b[0m\u001b[0;34m\u001b[0m\u001b[0;34m\u001b[0m\u001b[0m\n\u001b[1;32m      4\u001b[0m \u001b[0mpdbids_list\u001b[0m \u001b[0;34m=\u001b[0m \u001b[0mlist\u001b[0m\u001b[0;34m(\u001b[0m\u001b[0mpdbids\u001b[0m\u001b[0;34m.\u001b[0m\u001b[0mkeys\u001b[0m\u001b[0;34m(\u001b[0m\u001b[0;34m)\u001b[0m\u001b[0;34m)\u001b[0m \u001b[0;31m# lista de pdb_ids de las estructuras de CDK2\u001b[0m\u001b[0;34m\u001b[0m\u001b[0;34m\u001b[0m\u001b[0m\n\u001b[1;32m      5\u001b[0m \u001b[0mprint\u001b[0m\u001b[0;34m(\u001b[0m\u001b[0;34mF'Se obtuvo un total de {len(pdbids_list)} hits con una identidad del {identidad}%'\u001b[0m\u001b[0;34m)\u001b[0m\u001b[0;34m\u001b[0m\u001b[0;34m\u001b[0m\u001b[0m\n",
      "\u001b[0;31mAttributeError\u001b[0m: 'NoneType' object has no attribute 'getHits'"
     ]
    }
   ],
   "source": [
    "identidad  = 80\n",
    "pdbids = blast_record.getHits(percent_identity = identidad) # Devuelve un diccionario con cada proteína hit\n",
    "len(pdbids) # 391 proteínas tienen un 95% de identidad con la seucuencia\n",
    "pdbids_list = list(pdbids.keys()) # lista de pdb_ids de las estructuras de CDK2\n",
    "print(F'Se obtuvo un total de {len(pdbids_list)} hits con una identidad del {identidad}%')"
   ]
  },
  {
   "cell_type": "code",
   "execution_count": null,
   "metadata": {},
   "outputs": [],
   "source": []
  },
  {
   "cell_type": "code",
   "execution_count": null,
   "metadata": {},
   "outputs": [],
   "source": []
  },
  {
   "cell_type": "code",
   "execution_count": null,
   "metadata": {
    "collapsed": true,
    "hideCode": false,
    "hideOutput": true,
    "hidePrompt": false
   },
   "outputs": [],
   "source": [
    "https://www.uniprot.org/uniprot/?query=cyclin+dependent+kinase+2%20AND%20Human&sort=score&format=tab "
   ]
  }
 ],
 "metadata": {
  "hide_code_all_hidden": false,
  "kernelspec": {
   "display_name": "Python 3",
   "language": "python",
   "name": "python3"
  },
  "language_info": {
   "codemirror_mode": {
    "name": "ipython",
    "version": 3
   },
   "file_extension": ".py",
   "mimetype": "text/x-python",
   "name": "python",
   "nbconvert_exporter": "python",
   "pygments_lexer": "ipython3",
   "version": "3.7.4"
  }
 },
 "nbformat": 4,
 "nbformat_minor": 2
}
