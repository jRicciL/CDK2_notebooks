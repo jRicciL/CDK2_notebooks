{
 "cells": [
  {
   "cell_type": "code",
   "execution_count": 1,
   "metadata": {},
   "outputs": [],
   "source": [
    "import os\n",
    "import numpy as np\n",
    "import pandas as pd"
   ]
  },
  {
   "cell_type": "markdown",
   "metadata": {},
   "source": [
    "###  Carga de los datos"
   ]
  },
  {
   "cell_type": "code",
   "execution_count": 13,
   "metadata": {},
   "outputs": [],
   "source": [
    "df_targets = pd.read_json('targets_table.json')\n",
    "df_targets.index.name = 'accession'\n",
    "targets_pdb = pd.read_json('targets_PDB_IDS.json')\n",
    "targets_pdb.index.name = 'accession'"
   ]
  },
  {
   "cell_type": "markdown",
   "metadata": {},
   "source": [
    "## Tabla *df_prot_targets*\n",
    "\n",
    "La tabla `df_prot_targets` contiene información de las proteínas que se encuentran en los sets *DUD 2006* y *DEKOIS2.0*.\n",
    "\n",
    "- La primer columna de la tabla corresponde al _**accession number**_ de cada proteína, establecido como identificador único. La columna **name** corresponde al acrónimo dado a la proteína, y **long_name** al nombre completo de la proteína como aparece en *UNIPROT*.\n",
    "\n",
    "- Las columnas **DUD** y **DEKOIS2** indican con un *1* o un *0* si la proteína se encuentra o no, respectivamente, en dicho set.\n",
    "\n",
    "- Finalmente, las columnas **pdb_ids** y **n_crystals** indican cuántos y qué cristales hay disponibles en el PDB de dicha proteína."
   ]
  },
  {
   "cell_type": "code",
   "execution_count": 22,
   "metadata": {},
   "outputs": [
    {
     "data": {
      "text/html": [
       "<div>\n",
       "<style scoped>\n",
       "    .dataframe tbody tr th:only-of-type {\n",
       "        vertical-align: middle;\n",
       "    }\n",
       "\n",
       "    .dataframe tbody tr th {\n",
       "        vertical-align: top;\n",
       "    }\n",
       "\n",
       "    .dataframe thead th {\n",
       "        text-align: right;\n",
       "    }\n",
       "</style>\n",
       "<table border=\"1\" class=\"dataframe\">\n",
       "  <thead>\n",
       "    <tr style=\"text-align: right;\">\n",
       "      <th></th>\n",
       "      <th>name</th>\n",
       "      <th>long_name</th>\n",
       "      <th>DUD</th>\n",
       "      <th>DEKOIS2</th>\n",
       "      <th>pdb_ids</th>\n",
       "      <th>n_crystals</th>\n",
       "    </tr>\n",
       "    <tr>\n",
       "      <th>accession</th>\n",
       "      <th></th>\n",
       "      <th></th>\n",
       "      <th></th>\n",
       "      <th></th>\n",
       "      <th></th>\n",
       "      <th></th>\n",
       "    </tr>\n",
       "  </thead>\n",
       "  <tbody>\n",
       "    <tr>\n",
       "      <td>O14965</td>\n",
       "      <td>AURKA</td>\n",
       "      <td>Aurora kinase A</td>\n",
       "      <td>0</td>\n",
       "      <td>1</td>\n",
       "      <td>[1MQ4, 1MUO, 1OL5, 1OL6, 1OL7, 2BMC, 2C6D, 2C6...</td>\n",
       "      <td>155</td>\n",
       "    </tr>\n",
       "    <tr>\n",
       "      <td>O15530</td>\n",
       "      <td>PDK1</td>\n",
       "      <td>3-phosphoinositide-dependent protein kinase 1</td>\n",
       "      <td>0</td>\n",
       "      <td>1</td>\n",
       "      <td>[1H1W, 1OKY, 1OKZ, 1UU3, 1UU7, 1UU8, 1UU9, 1UV...</td>\n",
       "      <td>68</td>\n",
       "    </tr>\n",
       "    <tr>\n",
       "      <td>O76074</td>\n",
       "      <td>PDE5</td>\n",
       "      <td>cGMP-specific 3',5'-cyclic phosphodiesterase</td>\n",
       "      <td>0</td>\n",
       "      <td>1</td>\n",
       "      <td>[1RKP, 1T9R, 1T9S, 1TBF, 1UDT, 1UDU, 1UHO, 1XO...</td>\n",
       "      <td>37</td>\n",
       "    </tr>\n",
       "    <tr>\n",
       "      <td>P00374</td>\n",
       "      <td>DHFR</td>\n",
       "      <td>Dihydrofolate reductase</td>\n",
       "      <td>1</td>\n",
       "      <td>1</td>\n",
       "      <td>[1BOZ, 1DHF, 1DLR, 1DLS, 1DRF, 1HFP, 1HFQ, 1HF...</td>\n",
       "      <td>79</td>\n",
       "    </tr>\n",
       "    <tr>\n",
       "      <td>P00533</td>\n",
       "      <td>EGFR</td>\n",
       "      <td>Epidermal growth factor receptor</td>\n",
       "      <td>1</td>\n",
       "      <td>1</td>\n",
       "      <td>[1DNQ, 1DNR, 1IVO, 1M14, 1M17, 1MOX, 1NQL, 1XK...</td>\n",
       "      <td>189</td>\n",
       "    </tr>\n",
       "  </tbody>\n",
       "</table>\n",
       "</div>"
      ],
      "text/plain": [
       "            name                                      long_name  DUD  DEKOIS2  \\\n",
       "accession                                                                       \n",
       "O14965     AURKA                                Aurora kinase A    0        1   \n",
       "O15530      PDK1  3-phosphoinositide-dependent protein kinase 1    0        1   \n",
       "O76074      PDE5   cGMP-specific 3',5'-cyclic phosphodiesterase    0        1   \n",
       "P00374      DHFR                        Dihydrofolate reductase    1        1   \n",
       "P00533      EGFR               Epidermal growth factor receptor    1        1   \n",
       "\n",
       "                                                     pdb_ids  n_crystals  \n",
       "accession                                                                 \n",
       "O14965     [1MQ4, 1MUO, 1OL5, 1OL6, 1OL7, 2BMC, 2C6D, 2C6...         155  \n",
       "O15530     [1H1W, 1OKY, 1OKZ, 1UU3, 1UU7, 1UU8, 1UU9, 1UV...          68  \n",
       "O76074     [1RKP, 1T9R, 1T9S, 1TBF, 1UDT, 1UDU, 1UHO, 1XO...          37  \n",
       "P00374     [1BOZ, 1DHF, 1DLR, 1DLS, 1DRF, 1HFP, 1HFQ, 1HF...          79  \n",
       "P00533     [1DNQ, 1DNR, 1IVO, 1M14, 1M17, 1MOX, 1NQL, 1XK...         189  "
      ]
     },
     "execution_count": 22,
     "metadata": {},
     "output_type": "execute_result"
    }
   ],
   "source": [
    "df_prot_targets = pd.merge(df_targets, targets_pdb, left_index=True, right_index=True)\n",
    "df_prot_targets.head()"
   ]
  },
  {
   "cell_type": "markdown",
   "metadata": {},
   "source": [
    "### Número de porteínas por dataset\n",
    "- El número de proteínas por dataset es:\n",
    "    - 21 para **DUD**\n",
    "    - 81 para **DEKOIS**\n",
    "    "
   ]
  },
  {
   "cell_type": "code",
   "execution_count": 28,
   "metadata": {},
   "outputs": [
    {
     "name": "stdout",
     "output_type": "stream",
     "text": [
      "Número de proteínas en DUD: 20\n",
      "Número de proteínas en DEKOIS: 77\n"
     ]
    }
   ],
   "source": [
    "len_dud = len(df_prot_targets[df_prot_targets['DUD'] == 1])\n",
    "print(f'Número de proteínas en DUD: {len_dud}')\n",
    "\n",
    "len_dekois = len(df_prot_targets[df_prot_targets['DEKOIS2'] == 1])\n",
    "print(f'Número de proteínas en DEKOIS: {len_dekois}')"
   ]
  },
  {
   "cell_type": "code",
   "execution_count": 33,
   "metadata": {},
   "outputs": [
    {
     "data": {
      "text/plain": [
       "77"
      ]
     },
     "execution_count": 33,
     "metadata": {},
     "output_type": "execute_result"
    }
   ],
   "source": [
    "len(df_targets[df_targets['DEKOIS2'] == 1])"
   ]
  },
  {
   "cell_type": "code",
   "execution_count": 20,
   "metadata": {},
   "outputs": [
    {
     "data": {
      "text/html": [
       "<div>\n",
       "<style scoped>\n",
       "    .dataframe tbody tr th:only-of-type {\n",
       "        vertical-align: middle;\n",
       "    }\n",
       "\n",
       "    .dataframe tbody tr th {\n",
       "        vertical-align: top;\n",
       "    }\n",
       "\n",
       "    .dataframe thead th {\n",
       "        text-align: right;\n",
       "    }\n",
       "</style>\n",
       "<table border=\"1\" class=\"dataframe\">\n",
       "  <thead>\n",
       "    <tr style=\"text-align: right;\">\n",
       "      <th></th>\n",
       "      <th>name</th>\n",
       "      <th>long_name</th>\n",
       "      <th>DUD</th>\n",
       "      <th>DEKOIS2</th>\n",
       "      <th>pdb_ids</th>\n",
       "      <th>n_crystals</th>\n",
       "    </tr>\n",
       "    <tr>\n",
       "      <th>accession</th>\n",
       "      <th></th>\n",
       "      <th></th>\n",
       "      <th></th>\n",
       "      <th></th>\n",
       "      <th></th>\n",
       "      <th></th>\n",
       "    </tr>\n",
       "  </thead>\n",
       "  <tbody>\n",
       "    <tr>\n",
       "      <td>P24941</td>\n",
       "      <td>CDK2</td>\n",
       "      <td>CDK2_HUMAN Cyclin-dependent kinase 2 OS=Homo s...</td>\n",
       "      <td>1</td>\n",
       "      <td>1</td>\n",
       "      <td>[1AQ1, 1B38, 1B39, 1BUH, 1CKP, 1DI8, 1DM2, 1E1...</td>\n",
       "      <td>410</td>\n",
       "    </tr>\n",
       "  </tbody>\n",
       "</table>\n",
       "</div>"
      ],
      "text/plain": [
       "           name                                          long_name  DUD  \\\n",
       "accession                                                                 \n",
       "P24941     CDK2  CDK2_HUMAN Cyclin-dependent kinase 2 OS=Homo s...    1   \n",
       "\n",
       "           DEKOIS2                                            pdb_ids  \\\n",
       "accession                                                               \n",
       "P24941           1  [1AQ1, 1B38, 1B39, 1BUH, 1CKP, 1DI8, 1DM2, 1E1...   \n",
       "\n",
       "           n_crystals  \n",
       "accession              \n",
       "P24941            410  "
      ]
     },
     "execution_count": 20,
     "metadata": {},
     "output_type": "execute_result"
    }
   ],
   "source": [
    "df_prot_targets[df_prot_targets['name'] == 'CDK2']"
   ]
  },
  {
   "cell_type": "code",
   "execution_count": null,
   "metadata": {},
   "outputs": [],
   "source": []
  }
 ],
 "metadata": {
  "kernelspec": {
   "display_name": "Python 3",
   "language": "python",
   "name": "python3"
  },
  "language_info": {
   "codemirror_mode": {
    "name": "ipython",
    "version": 3
   },
   "file_extension": ".py",
   "mimetype": "text/x-python",
   "name": "python",
   "nbconvert_exporter": "python",
   "pygments_lexer": "ipython3",
   "version": "3.6.9"
  }
 },
 "nbformat": 4,
 "nbformat_minor": 2
}
