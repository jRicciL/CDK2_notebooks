{
 "cells": [
  {
   "cell_type": "markdown",
   "metadata": {},
   "source": [
    "# Proteínas de DUD y DEKOIS2"
   ]
  },
  {
   "cell_type": "code",
   "execution_count": 1,
   "metadata": {},
   "outputs": [],
   "source": [
    "import os\n",
    "import numpy as np\n",
    "import pandas as pd"
   ]
  },
  {
   "cell_type": "markdown",
   "metadata": {},
   "source": [
    "###  Carga de los datos"
   ]
  },
  {
   "cell_type": "code",
   "execution_count": 2,
   "metadata": {},
   "outputs": [],
   "source": [
    "df_targets = pd.read_json('targets_table.json')\n",
    "df_targets.index.name = 'accession'\n",
    "targets_pdb = pd.read_json('targets_PDB_IDS.json')\n",
    "targets_pdb.index.name = 'accession'"
   ]
  },
  {
   "cell_type": "markdown",
   "metadata": {},
   "source": [
    "## Tabla *df_prot_targets*\n",
    "\n",
    "La tabla `df_prot_targets` contiene información de las proteínas que se encuentran en los sets *DUD 2006* y *DEKOIS2.0*.\n",
    "\n",
    "- La primer columna de la tabla corresponde al _**accession number**_ de cada proteína, establecido como identificador único. La columna **name** corresponde al acrónimo dado a la proteína, y **long_name** al nombre completo de la proteína como aparece en *UNIPROT*.\n",
    "\n",
    "- Las columnas **DUD** y **DEKOIS2** indican con un *1* o un *0* si la proteína se encuentra o no, respectivamente, en dicho set.\n",
    "\n",
    "- Finalmente, las columnas **pdb_ids** y **n_crystals** indican cuántos y qué cristales hay disponibles en el PDB de dicha proteína."
   ]
  },
  {
   "cell_type": "code",
   "execution_count": 3,
   "metadata": {},
   "outputs": [
    {
     "data": {
      "text/html": [
       "<div>\n",
       "<style scoped>\n",
       "    .dataframe tbody tr th:only-of-type {\n",
       "        vertical-align: middle;\n",
       "    }\n",
       "\n",
       "    .dataframe tbody tr th {\n",
       "        vertical-align: top;\n",
       "    }\n",
       "\n",
       "    .dataframe thead th {\n",
       "        text-align: right;\n",
       "    }\n",
       "</style>\n",
       "<table border=\"1\" class=\"dataframe\">\n",
       "  <thead>\n",
       "    <tr style=\"text-align: right;\">\n",
       "      <th></th>\n",
       "      <th>name</th>\n",
       "      <th>long_name</th>\n",
       "      <th>DUD</th>\n",
       "      <th>DEKOIS2</th>\n",
       "      <th>pdb_ids</th>\n",
       "      <th>n_crystals</th>\n",
       "    </tr>\n",
       "    <tr>\n",
       "      <th>accession</th>\n",
       "      <th></th>\n",
       "      <th></th>\n",
       "      <th></th>\n",
       "      <th></th>\n",
       "      <th></th>\n",
       "      <th></th>\n",
       "    </tr>\n",
       "  </thead>\n",
       "  <tbody>\n",
       "    <tr>\n",
       "      <th>O14965</th>\n",
       "      <td>AURKA</td>\n",
       "      <td>Aurora kinase A</td>\n",
       "      <td>0</td>\n",
       "      <td>1</td>\n",
       "      <td>[1MQ4, 1MUO, 1OL5, 1OL6, 1OL7, 2BMC, 2C6D, 2C6...</td>\n",
       "      <td>155</td>\n",
       "    </tr>\n",
       "    <tr>\n",
       "      <th>O15530</th>\n",
       "      <td>PDK1</td>\n",
       "      <td>3-phosphoinositide-dependent protein kinase 1</td>\n",
       "      <td>0</td>\n",
       "      <td>1</td>\n",
       "      <td>[1H1W, 1OKY, 1OKZ, 1UU3, 1UU7, 1UU8, 1UU9, 1UV...</td>\n",
       "      <td>68</td>\n",
       "    </tr>\n",
       "    <tr>\n",
       "      <th>O76074</th>\n",
       "      <td>PDE5</td>\n",
       "      <td>cGMP-specific 3',5'-cyclic phosphodiesterase</td>\n",
       "      <td>0</td>\n",
       "      <td>1</td>\n",
       "      <td>[1RKP, 1T9R, 1T9S, 1TBF, 1UDT, 1UDU, 1UHO, 1XO...</td>\n",
       "      <td>37</td>\n",
       "    </tr>\n",
       "    <tr>\n",
       "      <th>P00374</th>\n",
       "      <td>DHFR</td>\n",
       "      <td>Dihydrofolate reductase</td>\n",
       "      <td>1</td>\n",
       "      <td>1</td>\n",
       "      <td>[1BOZ, 1DHF, 1DLR, 1DLS, 1DRF, 1HFP, 1HFQ, 1HF...</td>\n",
       "      <td>79</td>\n",
       "    </tr>\n",
       "    <tr>\n",
       "      <th>P00533</th>\n",
       "      <td>EGFR</td>\n",
       "      <td>Epidermal growth factor receptor</td>\n",
       "      <td>1</td>\n",
       "      <td>1</td>\n",
       "      <td>[1DNQ, 1DNR, 1IVO, 1M14, 1M17, 1MOX, 1NQL, 1XK...</td>\n",
       "      <td>189</td>\n",
       "    </tr>\n",
       "  </tbody>\n",
       "</table>\n",
       "</div>"
      ],
      "text/plain": [
       "            name                                      long_name  DUD  DEKOIS2  \\\n",
       "accession                                                                       \n",
       "O14965     AURKA                                Aurora kinase A    0        1   \n",
       "O15530      PDK1  3-phosphoinositide-dependent protein kinase 1    0        1   \n",
       "O76074      PDE5   cGMP-specific 3',5'-cyclic phosphodiesterase    0        1   \n",
       "P00374      DHFR                        Dihydrofolate reductase    1        1   \n",
       "P00533      EGFR               Epidermal growth factor receptor    1        1   \n",
       "\n",
       "                                                     pdb_ids  n_crystals  \n",
       "accession                                                                 \n",
       "O14965     [1MQ4, 1MUO, 1OL5, 1OL6, 1OL7, 2BMC, 2C6D, 2C6...         155  \n",
       "O15530     [1H1W, 1OKY, 1OKZ, 1UU3, 1UU7, 1UU8, 1UU9, 1UV...          68  \n",
       "O76074     [1RKP, 1T9R, 1T9S, 1TBF, 1UDT, 1UDU, 1UHO, 1XO...          37  \n",
       "P00374     [1BOZ, 1DHF, 1DLR, 1DLS, 1DRF, 1HFP, 1HFQ, 1HF...          79  \n",
       "P00533     [1DNQ, 1DNR, 1IVO, 1M14, 1M17, 1MOX, 1NQL, 1XK...         189  "
      ]
     },
     "execution_count": 3,
     "metadata": {},
     "output_type": "execute_result"
    }
   ],
   "source": [
    "df_prot_targets = pd.merge(df_targets, targets_pdb, left_index=True, right_index=True)\n",
    "df_prot_targets.head()"
   ]
  },
  {
   "cell_type": "markdown",
   "metadata": {},
   "source": [
    "### Número de porteínas por dataset\n",
    "- El número de proteínas por dataset es:\n",
    "    - 21 para **DUD**; **20 únicos**.\n",
    "        - De los cuales ER_agonist y ER_antagonist son dos conformaciones de la misma proteína.\n",
    "    - 81 para **DEKOIS**: **79 únicos**.\n",
    "        - HIVRT y HIVPR es el mismo gen que codifica a una poliproteína del HIV-1 que incluye a la transcriptasa reversa y a la proteasa del HIV.\n",
    "        - PYGL-in y PYGL-out son dos conformaciones de la misma proteína (glucógeno fosforilasa)\n"
   ]
  },
  {
   "cell_type": "code",
   "execution_count": 4,
   "metadata": {},
   "outputs": [
    {
     "name": "stdout",
     "output_type": "stream",
     "text": [
      "Número de proteínas en DUD: 20\n",
      "Número de proteínas en DEKOIS: 79\n"
     ]
    }
   ],
   "source": [
    "len_dud = len(df_prot_targets[df_prot_targets['DUD'] == 1])\n",
    "print(f'Número de proteínas en DUD: {len_dud}')\n",
    "\n",
    "len_dekois = len(df_prot_targets[df_prot_targets['DEKOIS2'] == 1])\n",
    "print(f'Número de proteínas en DEKOIS: {len_dekois}')"
   ]
  },
  {
   "cell_type": "markdown",
   "metadata": {},
   "source": [
    "### Ejemplo: Proteína CDK2"
   ]
  },
  {
   "cell_type": "code",
   "execution_count": 5,
   "metadata": {},
   "outputs": [
    {
     "data": {
      "text/html": [
       "<div>\n",
       "<style scoped>\n",
       "    .dataframe tbody tr th:only-of-type {\n",
       "        vertical-align: middle;\n",
       "    }\n",
       "\n",
       "    .dataframe tbody tr th {\n",
       "        vertical-align: top;\n",
       "    }\n",
       "\n",
       "    .dataframe thead th {\n",
       "        text-align: right;\n",
       "    }\n",
       "</style>\n",
       "<table border=\"1\" class=\"dataframe\">\n",
       "  <thead>\n",
       "    <tr style=\"text-align: right;\">\n",
       "      <th></th>\n",
       "      <th>name</th>\n",
       "      <th>long_name</th>\n",
       "      <th>DUD</th>\n",
       "      <th>DEKOIS2</th>\n",
       "      <th>pdb_ids</th>\n",
       "      <th>n_crystals</th>\n",
       "    </tr>\n",
       "    <tr>\n",
       "      <th>accession</th>\n",
       "      <th></th>\n",
       "      <th></th>\n",
       "      <th></th>\n",
       "      <th></th>\n",
       "      <th></th>\n",
       "      <th></th>\n",
       "    </tr>\n",
       "  </thead>\n",
       "  <tbody>\n",
       "    <tr>\n",
       "      <th>P24941</th>\n",
       "      <td>CDK2</td>\n",
       "      <td>CDK2_HUMAN Cyclin-dependent kinase 2 OS=Homo s...</td>\n",
       "      <td>1</td>\n",
       "      <td>1</td>\n",
       "      <td>[1AQ1, 1B38, 1B39, 1BUH, 1CKP, 1DI8, 1DM2, 1E1...</td>\n",
       "      <td>410</td>\n",
       "    </tr>\n",
       "  </tbody>\n",
       "</table>\n",
       "</div>"
      ],
      "text/plain": [
       "           name                                          long_name  DUD  \\\n",
       "accession                                                                 \n",
       "P24941     CDK2  CDK2_HUMAN Cyclin-dependent kinase 2 OS=Homo s...    1   \n",
       "\n",
       "           DEKOIS2                                            pdb_ids  \\\n",
       "accession                                                               \n",
       "P24941           1  [1AQ1, 1B38, 1B39, 1BUH, 1CKP, 1DI8, 1DM2, 1E1...   \n",
       "\n",
       "           n_crystals  \n",
       "accession              \n",
       "P24941            410  "
      ]
     },
     "execution_count": 5,
     "metadata": {},
     "output_type": "execute_result"
    }
   ],
   "source": [
    "df_prot_targets[df_prot_targets['name'] == 'CDK2']"
   ]
  },
  {
   "cell_type": "markdown",
   "metadata": {},
   "source": [
    "## Proteínas presentes en DUD y en DEKOIS2"
   ]
  },
  {
   "cell_type": "code",
   "execution_count": 6,
   "metadata": {},
   "outputs": [
    {
     "data": {
      "text/html": [
       "<div>\n",
       "<style scoped>\n",
       "    .dataframe tbody tr th:only-of-type {\n",
       "        vertical-align: middle;\n",
       "    }\n",
       "\n",
       "    .dataframe tbody tr th {\n",
       "        vertical-align: top;\n",
       "    }\n",
       "\n",
       "    .dataframe thead th {\n",
       "        text-align: right;\n",
       "    }\n",
       "</style>\n",
       "<table border=\"1\" class=\"dataframe\">\n",
       "  <thead>\n",
       "    <tr style=\"text-align: right;\">\n",
       "      <th></th>\n",
       "      <th>name</th>\n",
       "      <th>long_name</th>\n",
       "      <th>DUD</th>\n",
       "      <th>DEKOIS2</th>\n",
       "      <th>pdb_ids</th>\n",
       "      <th>n_crystals</th>\n",
       "    </tr>\n",
       "    <tr>\n",
       "      <th>accession</th>\n",
       "      <th></th>\n",
       "      <th></th>\n",
       "      <th></th>\n",
       "      <th></th>\n",
       "      <th></th>\n",
       "      <th></th>\n",
       "    </tr>\n",
       "  </thead>\n",
       "  <tbody>\n",
       "    <tr>\n",
       "      <th>P00374</th>\n",
       "      <td>DHFR</td>\n",
       "      <td>Dihydrofolate reductase</td>\n",
       "      <td>1</td>\n",
       "      <td>1</td>\n",
       "      <td>[1BOZ, 1DHF, 1DLR, 1DLS, 1DRF, 1HFP, 1HFQ, 1HF...</td>\n",
       "      <td>79</td>\n",
       "    </tr>\n",
       "    <tr>\n",
       "      <th>P00533</th>\n",
       "      <td>EGFR</td>\n",
       "      <td>Epidermal growth factor receptor</td>\n",
       "      <td>1</td>\n",
       "      <td>1</td>\n",
       "      <td>[1DNQ, 1DNR, 1IVO, 1M14, 1M17, 1MOX, 1NQL, 1XK...</td>\n",
       "      <td>189</td>\n",
       "    </tr>\n",
       "    <tr>\n",
       "      <th>P00742</th>\n",
       "      <td>FXa</td>\n",
       "      <td>FA10_HUMAN Coagulation factor X OS=Homo sapien...</td>\n",
       "      <td>1</td>\n",
       "      <td>1</td>\n",
       "      <td>[1C5M, 1EZQ, 1F0R, 1F0S, 1FAX, 1FJS, 1FXY, 1G2...</td>\n",
       "      <td>144</td>\n",
       "    </tr>\n",
       "    <tr>\n",
       "      <th>P04150</th>\n",
       "      <td>GR</td>\n",
       "      <td>Glucocorticoid receptor</td>\n",
       "      <td>1</td>\n",
       "      <td>1</td>\n",
       "      <td>[1M2Z, 1NHZ, 1P93, 3BQD, 3CLD, 3E7C, 3H52, 3K2...</td>\n",
       "      <td>43</td>\n",
       "    </tr>\n",
       "    <tr>\n",
       "      <th>P10275</th>\n",
       "      <td>AR</td>\n",
       "      <td>Androgen receptor</td>\n",
       "      <td>1</td>\n",
       "      <td>1</td>\n",
       "      <td>[1E3G, 1GS4, 1T5Z, 1T63, 1T65, 1XJ7, 1XOW, 1XQ...</td>\n",
       "      <td>82</td>\n",
       "    </tr>\n",
       "    <tr>\n",
       "      <th>P11362</th>\n",
       "      <td>FGFR1</td>\n",
       "      <td>Fibroblast growth factor receptor 1</td>\n",
       "      <td>1</td>\n",
       "      <td>1</td>\n",
       "      <td>[1AGW, 1CVS, 1EVT, 1FGI, 1FGK, 1FQ9, 1XR0, 2CR...</td>\n",
       "      <td>65</td>\n",
       "    </tr>\n",
       "    <tr>\n",
       "      <th>P12821</th>\n",
       "      <td>ACE</td>\n",
       "      <td>Angiotensin-converting enzyme</td>\n",
       "      <td>1</td>\n",
       "      <td>1</td>\n",
       "      <td>[1O86, 1O8A, 1UZE, 1UZF, 2C6F, 2C6N, 2IUL, 2IU...</td>\n",
       "      <td>44</td>\n",
       "    </tr>\n",
       "    <tr>\n",
       "      <th>P24941</th>\n",
       "      <td>CDK2</td>\n",
       "      <td>CDK2_HUMAN Cyclin-dependent kinase 2 OS=Homo s...</td>\n",
       "      <td>1</td>\n",
       "      <td>1</td>\n",
       "      <td>[1AQ1, 1B38, 1B39, 1BUH, 1CKP, 1DI8, 1DM2, 1E1...</td>\n",
       "      <td>410</td>\n",
       "    </tr>\n",
       "  </tbody>\n",
       "</table>\n",
       "</div>"
      ],
      "text/plain": [
       "            name                                          long_name  DUD  \\\n",
       "accession                                                                  \n",
       "P00374      DHFR                            Dihydrofolate reductase    1   \n",
       "P00533      EGFR                   Epidermal growth factor receptor    1   \n",
       "P00742       FXa  FA10_HUMAN Coagulation factor X OS=Homo sapien...    1   \n",
       "P04150        GR                            Glucocorticoid receptor    1   \n",
       "P10275        AR                                  Androgen receptor    1   \n",
       "P11362     FGFR1                Fibroblast growth factor receptor 1    1   \n",
       "P12821       ACE                      Angiotensin-converting enzyme    1   \n",
       "P24941      CDK2  CDK2_HUMAN Cyclin-dependent kinase 2 OS=Homo s...    1   \n",
       "\n",
       "           DEKOIS2                                            pdb_ids  \\\n",
       "accession                                                               \n",
       "P00374           1  [1BOZ, 1DHF, 1DLR, 1DLS, 1DRF, 1HFP, 1HFQ, 1HF...   \n",
       "P00533           1  [1DNQ, 1DNR, 1IVO, 1M14, 1M17, 1MOX, 1NQL, 1XK...   \n",
       "P00742           1  [1C5M, 1EZQ, 1F0R, 1F0S, 1FAX, 1FJS, 1FXY, 1G2...   \n",
       "P04150           1  [1M2Z, 1NHZ, 1P93, 3BQD, 3CLD, 3E7C, 3H52, 3K2...   \n",
       "P10275           1  [1E3G, 1GS4, 1T5Z, 1T63, 1T65, 1XJ7, 1XOW, 1XQ...   \n",
       "P11362           1  [1AGW, 1CVS, 1EVT, 1FGI, 1FGK, 1FQ9, 1XR0, 2CR...   \n",
       "P12821           1  [1O86, 1O8A, 1UZE, 1UZF, 2C6F, 2C6N, 2IUL, 2IU...   \n",
       "P24941           1  [1AQ1, 1B38, 1B39, 1BUH, 1CKP, 1DI8, 1DM2, 1E1...   \n",
       "\n",
       "           n_crystals  \n",
       "accession              \n",
       "P00374             79  \n",
       "P00533            189  \n",
       "P00742            144  \n",
       "P04150             43  \n",
       "P10275             82  \n",
       "P11362             65  \n",
       "P12821             44  \n",
       "P24941            410  "
      ]
     },
     "execution_count": 6,
     "metadata": {},
     "output_type": "execute_result"
    }
   ],
   "source": [
    "df_prot_targets[(df_prot_targets['DUD'] == 1) & (df_prot_targets['DEKOIS2'] == 1)]"
   ]
  },
  {
   "cell_type": "code",
   "execution_count": null,
   "metadata": {},
   "outputs": [],
   "source": []
  }
 ],
 "metadata": {
  "kernelspec": {
   "display_name": "Python 3",
   "language": "python",
   "name": "python3"
  },
  "language_info": {
   "codemirror_mode": {
    "name": "ipython",
    "version": 3
   },
   "file_extension": ".py",
   "mimetype": "text/x-python",
   "name": "python",
   "nbconvert_exporter": "python",
   "pygments_lexer": "ipython3",
   "version": "3.7.6"
  }
 },
 "nbformat": 4,
 "nbformat_minor": 2
}
