{
 "cells": [
  {
   "cell_type": "markdown",
   "metadata": {},
   "source": [
    "# Obtención de los ligandos ubicados en la cavidad de la proteína"
   ]
  },
  {
   "cell_type": "code",
   "execution_count": 5,
   "metadata": {},
   "outputs": [
    {
     "name": "stderr",
     "output_type": "stream",
     "text": [
      "/home/joel/anaconda3/envs/mds/lib/python3.6/importlib/_bootstrap.py:219: RuntimeWarning: numpy.ufunc size changed, may indicate binary incompatibility. Expected 192 from C header, got 216 from PyObject\n",
      "  return f(*args, **kwds)\n"
     ]
    }
   ],
   "source": [
    "from prody import *\n",
    "import numpy as np\n",
    "import csv\n",
    "import pandas as pd"
   ]
  },
  {
   "cell_type": "code",
   "execution_count": 6,
   "metadata": {},
   "outputs": [
    {
     "data": {
      "text/html": [
       "<div>\n",
       "<style scoped>\n",
       "    .dataframe tbody tr th:only-of-type {\n",
       "        vertical-align: middle;\n",
       "    }\n",
       "\n",
       "    .dataframe tbody tr th {\n",
       "        vertical-align: top;\n",
       "    }\n",
       "\n",
       "    .dataframe thead th {\n",
       "        text-align: right;\n",
       "    }\n",
       "</style>\n",
       "<table border=\"1\" class=\"dataframe\">\n",
       "  <thead>\n",
       "    <tr style=\"text-align: right;\">\n",
       "      <th></th>\n",
       "      <th>PDB_ID</th>\n",
       "      <th>Title</th>\n",
       "      <th>Date</th>\n",
       "      <th>Entities</th>\n",
       "      <th>ChainID</th>\n",
       "      <th>Resolution</th>\n",
       "      <th>Identity</th>\n",
       "      <th>Coverage</th>\n",
       "      <th>NumGaps</th>\n",
       "      <th>GapLen</th>\n",
       "      <th>GapPos</th>\n",
       "      <th>NumLigs</th>\n",
       "      <th>NameLigs</th>\n",
       "    </tr>\n",
       "  </thead>\n",
       "  <tbody>\n",
       "    <tr>\n",
       "      <th>0</th>\n",
       "      <td>1aq1</td>\n",
       "      <td>human cyclin dependent kinase 2 complexed with...</td>\n",
       "      <td>1997-11-12</td>\n",
       "      <td>1</td>\n",
       "      <td>A</td>\n",
       "      <td>2.00</td>\n",
       "      <td>298.0</td>\n",
       "      <td>92.953020</td>\n",
       "      <td>2.0</td>\n",
       "      <td>[8, 13]</td>\n",
       "      <td>[[36, 43], [149, 161]]</td>\n",
       "      <td>1.0</td>\n",
       "      <td>['STU']</td>\n",
       "    </tr>\n",
       "    <tr>\n",
       "      <th>1</th>\n",
       "      <td>1b38</td>\n",
       "      <td>human cyclin-dependent kinase 2</td>\n",
       "      <td>1998-12-23</td>\n",
       "      <td>1</td>\n",
       "      <td>A</td>\n",
       "      <td>2.00</td>\n",
       "      <td>298.0</td>\n",
       "      <td>97.315436</td>\n",
       "      <td>1.0</td>\n",
       "      <td>[8]</td>\n",
       "      <td>[[36, 43]]</td>\n",
       "      <td>3.0</td>\n",
       "      <td>['ACE', 'ATP', 'MG']</td>\n",
       "    </tr>\n",
       "    <tr>\n",
       "      <th>2</th>\n",
       "      <td>1b39</td>\n",
       "      <td>human cyclin-dependent kinase 2 phosphorylated...</td>\n",
       "      <td>1998-12-23</td>\n",
       "      <td>1</td>\n",
       "      <td>A</td>\n",
       "      <td>2.10</td>\n",
       "      <td>298.0</td>\n",
       "      <td>97.315436</td>\n",
       "      <td>1.0</td>\n",
       "      <td>[8]</td>\n",
       "      <td>[[36, 43]]</td>\n",
       "      <td>3.0</td>\n",
       "      <td>['ACE', 'ATP', 'MG']</td>\n",
       "    </tr>\n",
       "    <tr>\n",
       "      <th>3</th>\n",
       "      <td>1buh</td>\n",
       "      <td>crystal structure of the human cdk2 kinase com...</td>\n",
       "      <td>1998-09-09</td>\n",
       "      <td>2</td>\n",
       "      <td>A</td>\n",
       "      <td>2.60</td>\n",
       "      <td>298.0</td>\n",
       "      <td>96.308725</td>\n",
       "      <td>2.0</td>\n",
       "      <td>[7, 4]</td>\n",
       "      <td>[[40, 46], [295, 298]]</td>\n",
       "      <td>0.0</td>\n",
       "      <td>[]</td>\n",
       "    </tr>\n",
       "    <tr>\n",
       "      <th>4</th>\n",
       "      <td>1ckp</td>\n",
       "      <td>human cyclin dependent kinase 2 complexed with...</td>\n",
       "      <td>1999-01-13</td>\n",
       "      <td>1</td>\n",
       "      <td>A</td>\n",
       "      <td>2.05</td>\n",
       "      <td>298.0</td>\n",
       "      <td>93.624161</td>\n",
       "      <td>2.0</td>\n",
       "      <td>[8, 11]</td>\n",
       "      <td>[[36, 43], [153, 163]]</td>\n",
       "      <td>2.0</td>\n",
       "      <td>['EDO', 'PVB']</td>\n",
       "    </tr>\n",
       "  </tbody>\n",
       "</table>\n",
       "</div>"
      ],
      "text/plain": [
       "  PDB_ID                                              Title        Date  \\\n",
       "0   1aq1  human cyclin dependent kinase 2 complexed with...  1997-11-12   \n",
       "1   1b38                    human cyclin-dependent kinase 2  1998-12-23   \n",
       "2   1b39  human cyclin-dependent kinase 2 phosphorylated...  1998-12-23   \n",
       "3   1buh  crystal structure of the human cdk2 kinase com...  1998-09-09   \n",
       "4   1ckp  human cyclin dependent kinase 2 complexed with...  1999-01-13   \n",
       "\n",
       "   Entities ChainID  Resolution  Identity   Coverage  NumGaps   GapLen  \\\n",
       "0         1       A        2.00     298.0  92.953020      2.0  [8, 13]   \n",
       "1         1       A        2.00     298.0  97.315436      1.0      [8]   \n",
       "2         1       A        2.10     298.0  97.315436      1.0      [8]   \n",
       "3         2       A        2.60     298.0  96.308725      2.0   [7, 4]   \n",
       "4         1       A        2.05     298.0  93.624161      2.0  [8, 11]   \n",
       "\n",
       "                   GapPos  NumLigs              NameLigs  \n",
       "0  [[36, 43], [149, 161]]      1.0               ['STU']  \n",
       "1              [[36, 43]]      3.0  ['ACE', 'ATP', 'MG']  \n",
       "2              [[36, 43]]      3.0  ['ACE', 'ATP', 'MG']  \n",
       "3  [[40, 46], [295, 298]]      0.0                    []  \n",
       "4  [[36, 43], [153, 163]]      2.0        ['EDO', 'PVB']  "
      ]
     },
     "execution_count": 6,
     "metadata": {},
     "output_type": "execute_result"
    }
   ],
   "source": [
    "# abrir la tabla de metadatos de las proteinas\n",
    "df_cdk2 = pd.read_csv(\"./B_DATOS/TABLA_MTDATA_CDK2_402_crys.csv\", index_col = 0,\n",
    "                     converters={\"NameLigs\": lambda x: x.strip(\"[]\").split(\", \")}, \n",
    "                      # Convierte en lista la celda del nombre de los ligandos\n",
    "                     )\n",
    "df_cdk2.head(5)"
   ]
  },
  {
   "cell_type": "code",
   "execution_count": 7,
   "metadata": {},
   "outputs": [
    {
     "data": {
      "text/plain": [
       "(402, 13)"
      ]
     },
     "execution_count": 7,
     "metadata": {},
     "output_type": "execute_result"
    }
   ],
   "source": [
    "df_cdk2.shape"
   ]
  },
  {
   "cell_type": "code",
   "execution_count": 8,
   "metadata": {},
   "outputs": [
    {
     "name": "stdout",
     "output_type": "stream",
     "text": [
      "395 cristales con al menos un ligando.\n"
     ]
    }
   ],
   "source": [
    "# Preguntamos cuales tienen ligandos y guardamos en una nueva tabla\n",
    "df_cdk2_ligs = df_cdk2[df_cdk2.NumLigs > 0]\n",
    "# 395 cristales tienen al menos un ligando\n",
    "print(len(df_cdk2_ligs), \"cristales con al menos un ligando.\")"
   ]
  },
  {
   "cell_type": "code",
   "execution_count": 9,
   "metadata": {},
   "outputs": [
    {
     "name": "stdout",
     "output_type": "stream",
     "text": [
      "366 ligandos DISTINTOS.\n"
     ]
    }
   ],
   "source": [
    "# ¿Cuantos ligandos hay en total?\n",
    "import itertools\n",
    "# Lista de nombre de todos los ligandos\n",
    "ligFull_list = list( itertools.chain.from_iterable( df_cdk2.NameLigs ) )\n",
    "\n",
    "ligAll_list = list(set(ligFull_list))\n",
    "print(len(ligAll_list), \"ligandos DISTINTOS.\") # 366 ligandos DISTINTOS."
   ]
  },
  {
   "cell_type": "code",
   "execution_count": 34,
   "metadata": {},
   "outputs": [
    {
     "name": "stdout",
     "output_type": "stream",
     "text": [
      "40 residuos corresponden a los que definen al pocket de la proteína CDK2.\n",
      "8 9 10 11 12 13 14 15 16 17 18 19 30 31 32 33 64 65 79 80 81 82 83 84 85 86 87 88 89 90 129 130 131 132 133 134 143 144 145 146\n"
     ]
    }
   ],
   "source": [
    "from Funciones.subsecuencias_cdk2 import get_ricci_residues\n",
    "ricci_residues = get_ricci_residues('str')\n",
    "print(len(get_ricci_residues('list')), \"residuos corresponden a los que definen al pocket de la proteína CDK2.\")\n",
    "print(ricci_residues)"
   ]
  },
  {
   "cell_type": "code",
   "execution_count": 37,
   "metadata": {},
   "outputs": [
    {
     "name": "stderr",
     "output_type": "stream",
     "text": [
      "@> 2398 atoms and 1 coordinate set(s) were parsed in 0.02s.\n"
     ]
    }
   ],
   "source": [
    "# Estructura de referencia\n",
    "pdbs_model_dir = \"../ARCHIVOS/CRISTALES/PROT_CDK2_MODELOS_modeller_NoPrep/\"\n",
    "ref_id = '1fin'\n",
    "pdb_file_tail = \"_MODLL.pdb\"\n",
    "# Cargamos el archivo de referencia\n",
    "ref_structure = parsePDB(pdbs_model_dir + ref_id + pdb_file_tail)\n",
    "ref_structure.setChids(\"A\")"
   ]
  },
  {
   "cell_type": "code",
   "execution_count": 36,
   "metadata": {},
   "outputs": [
    {
     "name": "stdout",
     "output_type": "stream",
     "text": [
      "[-2.66453526e-16 -2.50077736e-15  6.66133815e-16] [-13.894 142.101  80.215]\n"
     ]
    }
   ],
   "source": [
    "# Centramos la estructura usando los CA de la secuencia del pocket (Ricci)\n",
    "moveAtoms(ref_structure.select('ca resnum ' + ricci_residues ), to=np.zeros(3))\n",
    "centro_strc_total = calcCenter(ref_structure).round(3)\n",
    "# Definimos los átomos del pocket\n",
    "pocket = ref_structure.select(\"ca resnum \" + ricci_residues)\n",
    "centro_pocket = calcCenter(pocket)\n",
    "print(centro_pocket, centro_total)"
   ]
  },
  {
   "cell_type": "code",
   "execution_count": 74,
   "metadata": {},
   "outputs": [],
   "source": [
    "def get_pocket_ligand(pdb_id, ref_structure,\n",
    "                         PROT_DIR_in = \"../ARCHIVOS/CRISTALES/PROT_CDK2_MODELOS_modeller_NoPrep/\", \n",
    "                         RAW_LIG_DIR= \"../ARCHIVOS/CRISTALES/LIGS_CDK2/RAW/\",\n",
    "                         PROT_DIR_out = \"../PDB_CDK2_DOCKING/CDK2_PROT_ALIGNED\",\n",
    "                         PREP_LIG_DIR_out= \"../PDB_CDK2_DOCKING/CDK2_INHIBIDORES_ALGNED\",\n",
    "                         zona = 2.0,\n",
    "                         pocket_residues = ricci_residues(),\n",
    "                         write_files = True):\n",
    "\n",
    "    # Se carga el ligando en CRUDO usando Prody\n",
    "    try:\n",
    "        lig = parsePDB(RAW_LIG_DIR + \"/\" + pdb_id  + \"_lig.pdb\")\n",
    "        # print(\"Número de ligandos\", len( np.unique(lig.getResnums() )) )\n",
    "    except Exception as e:\n",
    "        print(e, \"La proteina\", pdb_id, \"NO TIENE LIGANDO.\")\n",
    "        return(None, None)\n",
    "\n",
    "    # Se carga la proteína usando los residuos que definen el pocket de la proteína\n",
    "    protein = parsePDB(PROT_DIR_in + \"/\" + pdb_id + \"_PROT_dk.pdb\")\n",
    "    protein_pocket = protein.select(\"resid \" + pocket_residues)\n",
    "\n",
    "    # Se seleccionan los ligandos (RESIDUOS no protéicos) que estén a no más de X A\n",
    "    # de cualquier átomo de los residuos del pocket de la proteína\n",
    "    lig_sel = lig.select('within ' + str(zona) + ' of inhibitor', inhibitor = protein_pocket)\n",
    "    if lig_sel is None:\n",
    "        print(\"La proteina\", pdb_id, \"no tiene ligando en el pocket.\")\n",
    "        return(None, None)\n",
    "\n",
    "    # Se obtine la lista de moléculas que cumplen el criterio anterior\n",
    "    inhibidor_list = np.unique( lig_sel.getResnums() )\n",
    "    print(lig_sel.getResnums())\n",
    "    \n",
    "    # Calcula los centros geométricos de cada molécula\n",
    "    prot_pocket_center = calcCenter(protein_pocket).round(3)\n",
    "    \n",
    "    # Puede que haya más de una molécula en el pocket (debido a presencia de iones o moléculas pequeñas)\n",
    "    # Se itera entre cada molecula del ligando, se calcula su masa y se mantiene el ligando con mayor masa \n",
    "    masa_lig = 1\n",
    "    final_lig = \"\"\n",
    "\n",
    "    for i in inhibidor_list:\n",
    "            mol = lig.select(\"resnum \" + str(i))\n",
    "            masa = mol.getMasses().sum()\n",
    "            print(masa)\n",
    "            if masa == masa_lig:\n",
    "                dist_prot_m1 = calcDistance(prot_pocket_center, calcCenter(mol))\n",
    "                dist_prot_m2 = calcDistance(prot_pocket_center, calcCenter(final_lig))\n",
    "                if dist_prot_m1 < dist_prot_m2:\n",
    "                    masa_lig, final_lig = masa, mol\n",
    "                    continue\n",
    "            masa_lig, final_lig = (masa, mol) if masa > masa_lig else (masa_lig, final_lig)\n",
    "            \n",
    "    # Se extrae el nombre del ligando\n",
    "    name_lig = np.unique( final_lig.getResnames() )[0]\n",
    "    # print(name_lig, \" es el ligando, con una masa de \", masa_lig)\n",
    "    \n",
    "    # Se combinan proteína y ligando en una sola instancia, de tal manera que\n",
    "    # sea posible superponer las estructuras de la proteína de acuerdo a los residuos de su pocket\n",
    "    # y esto afcete la psoición del ligando\n",
    "    complejo_PL = protein + final_lig.toAtomGroup()\n",
    "\n",
    "    # Se hace el alineamiento con los residuos de Pisani y la estructura de referencia\n",
    "    matchAlign(complejo_PL, ref_structure, tarsel= \"ca resnum \" + ricci_residues())\n",
    "\n",
    "    # Se guarda el ligando sólo si su masa es igual o mayor a la de una molécula de benceno: 78,11\n",
    "    # si el ligando aparece 2 veces cerca del pocket, se elige la molécula más cercana al\n",
    "    # centro geométrico del pocket\n",
    "    if final_lig.getMasses().sum() >= 80:\n",
    "        if write_files:\n",
    "            # Se guardan ligando y proteína alineados según la estructura de referencia\n",
    "            # Ligando\n",
    "            writePDB( PREP_LIG_DIR_out+ \"/\" + pdb_id + \"_\" + name_lig + \"_LIG.pdb\", \n",
    "                     complejo_PL.select(\"resname \" + name_lig) )\n",
    "            \n",
    "            writePDB( PROT_DIR_out + \"/\" + pdb_id + \"_\" + name_lig + \"_PROT.pdb\", \n",
    "                     complejo_PL.select(\"protein\") )\n",
    "        return(name_lig, masa_lig)\n",
    "    \n",
    "    else: \n",
    "        print(\"La proteina\", pdb_id, \"NO TIENE LIGANDO (masa => 80.0).\")\n",
    "        return(None, None)"
   ]
  },
  {
   "cell_type": "code",
   "execution_count": null,
   "metadata": {},
   "outputs": [],
   "source": []
  },
  {
   "cell_type": "code",
   "execution_count": 76,
   "metadata": {},
   "outputs": [
    {
     "name": "stderr",
     "output_type": "stream",
     "text": [
      "@> 35 atoms and 1 coordinate set(s) were parsed in 0.00s.\n",
      "@> 4848 atoms and 1 coordinate set(s) were parsed in 0.09s.\n",
      "@> Checking AtomGroup 1aq1_PROT_dk + 1aq1_lig Selection 'resnum 299': 1 chains are identified\n",
      "@> Checking AtomGroup 1fin_PROT_dk: 1 chains are identified\n",
      "@> Trying to match chains based on residue numbers and names:\n",
      "@>   Comparing Chain   from 1aq1_PROT_dk + 1aq1_lig Selection 'resnum 299' (len=298) and Chain A from 1fin_PROT_dk (len=298):\n",
      "@> \tMatch: 298 residues match with 100% sequence identity and 100% overlap.\n",
      "@> Alignment is based on 34 atoms matching 'ca resnum 8 9 10 11 12 13 14 15 16 17 18 30 31 32 64 79 80 81 82 83 84 85 86 87 88 89 129 130 131 132 133 143 144 145'.\n",
      "@> Before alignment RMSD: 247.43\n",
      "@> After alignment  RMSD: 1.18\n"
     ]
    },
    {
     "name": "stdout",
     "output_type": "stream",
     "text": [
      "[299 299 299 299 299 299 299 299 299 299 299 299 299 299]\n",
      "440.0\n"
     ]
    },
    {
     "name": "stderr",
     "output_type": "stream",
     "text": [
      "@> 35 atoms and 1 coordinate set(s) were parsed in 0.00s.\n",
      "@> 4848 atoms and 1 coordinate set(s) were parsed in 0.08s.\n",
      "@> Checking AtomGroup 1b38_PROT_dk + 1b38_lig Selection 'resnum 381': 1 chains are identified\n",
      "@> Checking AtomGroup 1fin_PROT_dk: 1 chains are identified\n",
      "@> Trying to match chains based on residue numbers and names:\n",
      "@>   Comparing Chain   from 1b38_PROT_dk + 1b38_lig Selection 'resnum 381' (len=298) and Chain A from 1fin_PROT_dk (len=298):\n",
      "@> \tMatch: 298 residues match with 100% sequence identity and 100% overlap.\n",
      "@> Alignment is based on 34 atoms matching 'ca resnum 8 9 10 11 12 13 14 15 16 17 18 30 31 32 64 79 80 81 82 83 84 85 86 87 88 89 129 130 131 132 133 143 144 145'.\n",
      "@> Before alignment RMSD: 247.77\n",
      "@> After alignment  RMSD: 1.12\n"
     ]
    },
    {
     "name": "stdout",
     "output_type": "stream",
     "text": [
      "[382 381 381 381 381 381 381 381 381 381 381 381 381 381 381 381 381 381\n",
      " 381 381]\n",
      "398.0\n",
      "0.0\n"
     ]
    },
    {
     "name": "stderr",
     "output_type": "stream",
     "text": [
      "@> 35 atoms and 1 coordinate set(s) were parsed in 0.00s.\n",
      "@> 4848 atoms and 1 coordinate set(s) were parsed in 0.09s.\n",
      "@> Checking AtomGroup 1b39_PROT_dk + 1b39_lig Selection 'resnum 381': 1 chains are identified\n",
      "@> Checking AtomGroup 1fin_PROT_dk: 1 chains are identified\n",
      "@> Trying to match chains based on residue numbers and names:\n",
      "@>   Comparing Chain   from 1b39_PROT_dk + 1b39_lig Selection 'resnum 381' (len=298) and Chain A from 1fin_PROT_dk (len=298):\n",
      "@> \tMatch: 298 residues match with 100% sequence identity and 100% overlap.\n"
     ]
    },
    {
     "name": "stdout",
     "output_type": "stream",
     "text": [
      "[382 381 381 381 381 381 381 381 381 381 381 381 381 381 381 381 381 381\n",
      " 381 381]\n",
      "398.0\n",
      "0.0\n"
     ]
    },
    {
     "name": "stderr",
     "output_type": "stream",
     "text": [
      "@> Alignment is based on 34 atoms matching 'ca resnum 8 9 10 11 12 13 14 15 16 17 18 30 31 32 64 79 80 81 82 83 84 85 86 87 88 89 129 130 131 132 133 143 144 145'.\n",
      "@> Before alignment RMSD: 247.75\n",
      "@> After alignment  RMSD: 1.09\n",
      "@> 22 atoms and 1 coordinate set(s) were parsed in 0.00s.\n",
      "@> 4848 atoms and 1 coordinate set(s) were parsed in 0.10s.\n",
      "@> Checking AtomGroup 1ckp_PROT_dk + 1ckp_lig Selection 'resnum 299': 1 chains are identified\n",
      "@> Checking AtomGroup 1fin_PROT_dk: 1 chains are identified\n",
      "@> Trying to match chains based on residue numbers and names:\n",
      "@>   Comparing Chain   from 1ckp_PROT_dk + 1ckp_lig Selection 'resnum 299' (len=298) and Chain A from 1fin_PROT_dk (len=298):\n",
      "@> \tMatch: 298 residues match with 100% sequence identity and 100% overlap.\n"
     ]
    },
    {
     "name": "stdout",
     "output_type": "stream",
     "text": [
      "../PDB_CDK2_ligands_chainA/1buh_lig.pdb is not a valid filename or a valid PDB identifier. La proteina 1buh NO TIENE LIGANDO.\n",
      "[299 299 299 299 299 299 299 299 299 300 300]\n",
      "214.0\n",
      "56.0\n"
     ]
    },
    {
     "name": "stderr",
     "output_type": "stream",
     "text": [
      "@> Alignment is based on 34 atoms matching 'ca resnum 8 9 10 11 12 13 14 15 16 17 18 30 31 32 64 79 80 81 82 83 84 85 86 87 88 89 129 130 131 132 133 143 144 145'.\n",
      "@> Before alignment RMSD: 247.63\n",
      "@> After alignment  RMSD: 1.36\n",
      "@> 22 atoms and 1 coordinate set(s) were parsed in 0.00s.\n",
      "@> 4848 atoms and 1 coordinate set(s) were parsed in 0.05s.\n",
      "@> Checking AtomGroup 1di8_PROT_dk + 1di8_lig Selection 'resnum 500': 1 chains are identified\n",
      "@> Checking AtomGroup 1fin_PROT_dk: 1 chains are identified\n",
      "@> Trying to match chains based on residue numbers and names:\n",
      "@>   Comparing Chain   from 1di8_PROT_dk + 1di8_lig Selection 'resnum 500' (len=298) and Chain A from 1fin_PROT_dk (len=298):\n",
      "@> \tMatch: 298 residues match with 100% sequence identity and 100% overlap.\n",
      "@> Alignment is based on 34 atoms matching 'ca resnum 8 9 10 11 12 13 14 15 16 17 18 30 31 32 64 79 80 81 82 83 84 85 86 87 88 89 129 130 131 132 133 143 144 145'.\n",
      "@> Before alignment RMSD: 247.79\n",
      "@> After alignment  RMSD: 1.29\n"
     ]
    },
    {
     "name": "stdout",
     "output_type": "stream",
     "text": [
      "[500 500 500 500 500 500 500 500 500 500]\n",
      "282.0\n"
     ]
    },
    {
     "name": "stderr",
     "output_type": "stream",
     "text": [
      "@> 35 atoms and 1 coordinate set(s) were parsed in 0.00s.\n",
      "@> 4848 atoms and 1 coordinate set(s) were parsed in 0.08s.\n",
      "@> Checking AtomGroup 1dm2_PROT_dk + 1dm2_lig Selection 'resnum 400': 1 chains are identified\n",
      "@> Checking AtomGroup 1fin_PROT_dk: 1 chains are identified\n",
      "@> Trying to match chains based on residue numbers and names:\n",
      "@>   Comparing Chain   from 1dm2_PROT_dk + 1dm2_lig Selection 'resnum 400' (len=298) and Chain A from 1fin_PROT_dk (len=298):\n",
      "@> \tMatch: 298 residues match with 100% sequence identity and 100% overlap.\n",
      "@> Alignment is based on 34 atoms matching 'ca resnum 8 9 10 11 12 13 14 15 16 17 18 30 31 32 64 79 80 81 82 83 84 85 86 87 88 89 129 130 131 132 133 143 144 145'.\n",
      "@> Before alignment RMSD: 247.69\n",
      "@> After alignment  RMSD: 1.39\n"
     ]
    },
    {
     "name": "stdout",
     "output_type": "stream",
     "text": [
      "[400 400 400 400 400 400 401 401 401]\n",
      "234.0\n",
      "56.0\n"
     ]
    },
    {
     "name": "stderr",
     "output_type": "stream",
     "text": [
      "@> 21 atoms and 1 coordinate set(s) were parsed in 0.00s.\n",
      "@> 4848 atoms and 1 coordinate set(s) were parsed in 0.09s.\n",
      "@> Checking AtomGroup 1e1v_PROT_dk + 1e1v_lig Selection 'resnum 401': 1 chains are identified\n",
      "@> Checking AtomGroup 1fin_PROT_dk: 1 chains are identified\n",
      "@> Trying to match chains based on residue numbers and names:\n",
      "@>   Comparing Chain   from 1e1v_PROT_dk + 1e1v_lig Selection 'resnum 401' (len=298) and Chain A from 1fin_PROT_dk (len=298):\n",
      "@> \tMatch: 298 residues match with 100% sequence identity and 100% overlap.\n",
      "@> Alignment is based on 34 atoms matching 'ca resnum 8 9 10 11 12 13 14 15 16 17 18 30 31 32 64 79 80 81 82 83 84 85 86 87 88 89 129 130 131 132 133 143 144 145'.\n",
      "@> Before alignment RMSD: 248.01\n",
      "@> After alignment  RMSD: 1.38\n"
     ]
    },
    {
     "name": "stdout",
     "output_type": "stream",
     "text": [
      "[401 401 401 401 401 401 401 401 401]\n",
      "230.0\n"
     ]
    },
    {
     "name": "stderr",
     "output_type": "stream",
     "text": [
      "@> 21 atoms and 1 coordinate set(s) were parsed in 0.00s.\n",
      "@> 4848 atoms and 1 coordinate set(s) were parsed in 0.09s.\n",
      "@> Checking AtomGroup 1e1x_PROT_dk + 1e1x_lig Selection 'resnum 401': 1 chains are identified\n",
      "@> Checking AtomGroup 1fin_PROT_dk: 1 chains are identified\n",
      "@> Trying to match chains based on residue numbers and names:\n",
      "@>   Comparing Chain   from 1e1x_PROT_dk + 1e1x_lig Selection 'resnum 401' (len=298) and Chain A from 1fin_PROT_dk (len=298):\n",
      "@> \tMatch: 298 residues match with 100% sequence identity and 100% overlap.\n",
      "@> Alignment is based on 34 atoms matching 'ca resnum 8 9 10 11 12 13 14 15 16 17 18 30 31 32 64 79 80 81 82 83 84 85 86 87 88 89 129 130 131 132 133 143 144 145'.\n",
      "@> Before alignment RMSD: 247.97\n",
      "@> After alignment  RMSD: 1.49\n"
     ]
    },
    {
     "name": "stdout",
     "output_type": "stream",
     "text": [
      "[401 401 401 401 401 401 401]\n",
      "234.0\n"
     ]
    },
    {
     "name": "stderr",
     "output_type": "stream",
     "text": [
      "@> 24 atoms and 1 coordinate set(s) were parsed in 0.00s.\n",
      "@> 4849 atoms and 1 coordinate set(s) were parsed in 0.07s.\n",
      "@> Checking AtomGroup 1e9h_PROT_dk + 1e9h_lig Selection 'resnum 1298': 1 chains are identified\n",
      "@> Checking AtomGroup 1fin_PROT_dk: 1 chains are identified\n",
      "@> Trying to match chains based on residue numbers and names:\n",
      "@>   Comparing Chain   from 1e9h_PROT_dk + 1e9h_lig Selection 'resnum 1298' (len=298) and Chain A from 1fin_PROT_dk (len=298):\n",
      "@> \tMatch: 298 residues match with 100% sequence identity and 100% overlap.\n",
      "@> Alignment is based on 34 atoms matching 'ca resnum 8 9 10 11 12 13 14 15 16 17 18 30 31 32 64 79 80 81 82 83 84 85 86 87 88 89 129 130 131 132 133 143 144 145'.\n",
      "@> Before alignment RMSD: 246.58\n",
      "@> After alignment  RMSD: 0.65\n",
      "@> 1 atoms and 1 coordinate set(s) were parsed in 0.00s.\n"
     ]
    },
    {
     "name": "stdout",
     "output_type": "stream",
     "text": [
      "[1298 1298 1298 1298 1298 1298 1298 1298 1298 1298 1298]\n",
      "332.0\n"
     ]
    },
    {
     "name": "stderr",
     "output_type": "stream",
     "text": [
      "@> 4848 atoms and 1 coordinate set(s) were parsed in 0.10s.\n",
      "@> 31 atoms and 1 coordinate set(s) were parsed in 0.00s.\n",
      "@> 4848 atoms and 1 coordinate set(s) were parsed in 0.06s.\n",
      "@> Checking AtomGroup 1fin_PROT_dk + 1fin_lig Selection 'resnum 299': 1 chains are identified\n",
      "@> Checking AtomGroup 1fin_PROT_dk: 1 chains are identified\n",
      "@> Trying to match chains based on residue numbers and names:\n",
      "@>   Comparing Chain   from 1fin_PROT_dk + 1fin_lig Selection 'resnum 299' (len=298) and Chain A from 1fin_PROT_dk (len=298):\n",
      "@> \tMatch: 298 residues match with 100% sequence identity and 100% overlap.\n",
      "@> Alignment is based on 34 atoms matching 'ca resnum 8 9 10 11 12 13 14 15 16 17 18 30 31 32 64 79 80 81 82 83 84 85 86 87 88 89 129 130 131 132 133 143 144 145'.\n",
      "@> Before alignment RMSD: 246.68\n",
      "@> After alignment  RMSD: 0.00\n"
     ]
    },
    {
     "name": "stdout",
     "output_type": "stream",
     "text": [
      "La proteina 1f5q no tiene ligando en el pocket.\n",
      "[299 299 299 299 299 299 299 299 299 299]\n",
      "398.0\n"
     ]
    },
    {
     "name": "stderr",
     "output_type": "stream",
     "text": [
      "@> 32 atoms and 1 coordinate set(s) were parsed in 0.00s.\n",
      "@> 4849 atoms and 1 coordinate set(s) were parsed in 0.05s.\n",
      "@> Checking AtomGroup 1fq1_PROT_dk + 1fq1_lig Selection 'resnum 381': 1 chains are identified\n",
      "@> Checking AtomGroup 1fin_PROT_dk: 1 chains are identified\n",
      "@> Trying to match chains based on residue numbers and names:\n",
      "@>   Comparing Chain   from 1fq1_PROT_dk + 1fq1_lig Selection 'resnum 381' (len=297) and Chain A from 1fin_PROT_dk (len=298):\n",
      "@> \tMatch: 297 residues match with 100% sequence identity and 100% overlap.\n",
      "@> Alignment is based on 34 atoms matching 'ca resnum 8 9 10 11 12 13 14 15 16 17 18 30 31 32 64 79 80 81 82 83 84 85 86 87 88 89 129 130 131 132 133 143 144 145'.\n",
      "@> Before alignment RMSD: 247.03\n",
      "@> After alignment  RMSD: 1.16\n"
     ]
    },
    {
     "name": "stdout",
     "output_type": "stream",
     "text": [
      "[383 381 381 381 381 381 381 381 381 381 381 381 381 381]\n",
      "398.0\n",
      "0.0\n"
     ]
    },
    {
     "name": "stderr",
     "output_type": "stream",
     "text": [
      "@> 23 atoms and 1 coordinate set(s) were parsed in 0.00s.\n",
      "@> 4848 atoms and 1 coordinate set(s) were parsed in 0.08s.\n",
      "@> Checking AtomGroup 1fvt_PROT_dk + 1fvt_lig Selection 'resnum 299': 1 chains are identified\n",
      "@> Checking AtomGroup 1fin_PROT_dk: 1 chains are identified\n",
      "@> Trying to match chains based on residue numbers and names:\n",
      "@>   Comparing Chain   from 1fvt_PROT_dk + 1fvt_lig Selection 'resnum 299' (len=298) and Chain A from 1fin_PROT_dk (len=298):\n",
      "@> \tMatch: 298 residues match with 100% sequence identity and 100% overlap.\n",
      "@> Alignment is based on 34 atoms matching 'ca resnum 8 9 10 11 12 13 14 15 16 17 18 30 31 32 64 79 80 81 82 83 84 85 86 87 88 89 129 130 131 132 133 143 144 145'.\n",
      "@> Before alignment RMSD: 247.73\n",
      "@> After alignment  RMSD: 1.20\n"
     ]
    },
    {
     "name": "stdout",
     "output_type": "stream",
     "text": [
      "[299 299 299 299 299 299 299]\n",
      "304.0\n"
     ]
    },
    {
     "name": "stderr",
     "output_type": "stream",
     "text": [
      "@> 31 atoms and 1 coordinate set(s) were parsed in 0.00s.\n",
      "@> 4848 atoms and 1 coordinate set(s) were parsed in 0.07s.\n",
      "@> Checking AtomGroup 1fvv_PROT_dk + 1fvv_lig Selection 'resnum 501': 1 chains are identified\n",
      "@> Checking AtomGroup 1fin_PROT_dk: 1 chains are identified\n",
      "@> Trying to match chains based on residue numbers and names:\n",
      "@>   Comparing Chain   from 1fvv_PROT_dk + 1fvv_lig Selection 'resnum 501' (len=298) and Chain A from 1fin_PROT_dk (len=298):\n",
      "@> \tMatch: 298 residues match with 100% sequence identity and 100% overlap.\n",
      "@> Alignment is based on 34 atoms matching 'ca resnum 8 9 10 11 12 13 14 15 16 17 18 30 31 32 64 79 80 81 82 83 84 85 86 87 88 89 129 130 131 132 133 143 144 145'.\n",
      "@> Before alignment RMSD: 246.90\n",
      "@> After alignment  RMSD: 0.69\n",
      "@> 30 atoms and 1 coordinate set(s) were parsed in 0.00s.\n"
     ]
    },
    {
     "name": "stdout",
     "output_type": "stream",
     "text": [
      "[501 501 501 501 501 501 501 501 501 501 501 501 501]\n",
      "434.0\n"
     ]
    },
    {
     "name": "stderr",
     "output_type": "stream",
     "text": [
      "@> 4848 atoms and 1 coordinate set(s) were parsed in 0.08s.\n",
      "@> Checking AtomGroup 1g5s_PROT_dk + 1g5s_lig Selection 'resnum 400': 1 chains are identified\n",
      "@> Checking AtomGroup 1fin_PROT_dk: 1 chains are identified\n",
      "@> Trying to match chains based on residue numbers and names:\n",
      "@>   Comparing Chain   from 1g5s_PROT_dk + 1g5s_lig Selection 'resnum 400' (len=298) and Chain A from 1fin_PROT_dk (len=298):\n",
      "@> \tMatch: 298 residues match with 100% sequence identity and 100% overlap.\n",
      "@> Alignment is based on 34 atoms matching 'ca resnum 8 9 10 11 12 13 14 15 16 17 18 30 31 32 64 79 80 81 82 83 84 85 86 87 88 89 129 130 131 132 133 143 144 145'.\n",
      "@> Before alignment RMSD: 247.47\n",
      "@> After alignment  RMSD: 1.20\n",
      "@> 23 atoms and 1 coordinate set(s) were parsed in 0.00s.\n"
     ]
    },
    {
     "name": "stdout",
     "output_type": "stream",
     "text": [
      "[400 400 400 400 400 400 400 400 400 400 400 400]\n",
      "374.0\n"
     ]
    },
    {
     "name": "stderr",
     "output_type": "stream",
     "text": [
      "@> 4848 atoms and 1 coordinate set(s) were parsed in 0.08s.\n",
      "@> Checking AtomGroup 1gih_PROT_dk + 1gih_lig Selection 'resnum 501': 1 chains are identified\n",
      "@> Checking AtomGroup 1fin_PROT_dk: 1 chains are identified\n",
      "@> Trying to match chains based on residue numbers and names:\n",
      "@>   Comparing Chain   from 1gih_PROT_dk + 1gih_lig Selection 'resnum 501' (len=298) and Chain A from 1fin_PROT_dk (len=298):\n",
      "@> \tMatch: 298 residues match with 100% sequence identity and 100% overlap.\n",
      "@> Alignment is based on 34 atoms matching 'ca resnum 8 9 10 11 12 13 14 15 16 17 18 30 31 32 64 79 80 81 82 83 84 85 86 87 88 89 129 130 131 132 133 143 144 145'.\n",
      "@> Before alignment RMSD: 247.78\n",
      "@> After alignment  RMSD: 1.07\n",
      "@> 23 atoms and 1 coordinate set(s) were parsed in 0.00s.\n"
     ]
    },
    {
     "name": "stdout",
     "output_type": "stream",
     "text": [
      "[501 501 501 501 501 501 501]\n",
      "292.0\n"
     ]
    },
    {
     "name": "stderr",
     "output_type": "stream",
     "text": [
      "@> 4848 atoms and 1 coordinate set(s) were parsed in 0.07s.\n",
      "@> Checking AtomGroup 1gii_PROT_dk + 1gii_lig Selection 'resnum 501': 1 chains are identified\n",
      "@> Checking AtomGroup 1fin_PROT_dk: 1 chains are identified\n",
      "@> Trying to match chains based on residue numbers and names:\n",
      "@>   Comparing Chain   from 1gii_PROT_dk + 1gii_lig Selection 'resnum 501' (len=298) and Chain A from 1fin_PROT_dk (len=298):\n",
      "@> \tMatch: 298 residues match with 100% sequence identity and 100% overlap.\n",
      "@> Alignment is based on 34 atoms matching 'ca resnum 8 9 10 11 12 13 14 15 16 17 18 30 31 32 64 79 80 81 82 83 84 85 86 87 88 89 129 130 131 132 133 143 144 145'.\n",
      "@> Before alignment RMSD: 247.83\n",
      "@> After alignment  RMSD: 1.16\n",
      "@> 27 atoms and 1 coordinate set(s) were parsed in 0.00s.\n"
     ]
    },
    {
     "name": "stdout",
     "output_type": "stream",
     "text": [
      "[501 501 501 501 501 501 501 501 501 501 501]\n",
      "292.0\n"
     ]
    },
    {
     "name": "stderr",
     "output_type": "stream",
     "text": [
      "@> 4848 atoms and 1 coordinate set(s) were parsed in 0.07s.\n",
      "@> Checking AtomGroup 1gij_PROT_dk + 1gij_lig Selection 'resnum 501': 1 chains are identified\n",
      "@> Checking AtomGroup 1fin_PROT_dk: 1 chains are identified\n",
      "@> Trying to match chains based on residue numbers and names:\n",
      "@>   Comparing Chain   from 1gij_PROT_dk + 1gij_lig Selection 'resnum 501' (len=298) and Chain A from 1fin_PROT_dk (len=298):\n",
      "@> \tMatch: 298 residues match with 100% sequence identity and 100% overlap.\n",
      "@> Alignment is based on 34 atoms matching 'ca resnum 8 9 10 11 12 13 14 15 16 17 18 30 31 32 64 79 80 81 82 83 84 85 86 87 88 89 129 130 131 132 133 143 144 145'.\n",
      "@> Before alignment RMSD: 247.85\n",
      "@> After alignment  RMSD: 1.52\n"
     ]
    },
    {
     "name": "stdout",
     "output_type": "stream",
     "text": [
      "[501 501 501 501 501 501 501 501 501 501 501 501]\n",
      "344.0\n"
     ]
    },
    {
     "name": "stderr",
     "output_type": "stream",
     "text": [
      "@> 32 atoms and 1 coordinate set(s) were parsed in 0.00s.\n",
      "@> 4848 atoms and 1 coordinate set(s) were parsed in 0.08s.\n",
      "@> Checking AtomGroup 1gy3_PROT_dk + 1gy3_lig Selection 'resnum 1297': 1 chains are identified\n",
      "@> Checking AtomGroup 1fin_PROT_dk: 1 chains are identified\n",
      "@> Trying to match chains based on residue numbers and names:\n",
      "@>   Comparing Chain   from 1gy3_PROT_dk + 1gy3_lig Selection 'resnum 1297' (len=298) and Chain A from 1fin_PROT_dk (len=298):\n",
      "@> \tMatch: 298 residues match with 100% sequence identity and 100% overlap.\n",
      "@> Alignment is based on 34 atoms matching 'ca resnum 8 9 10 11 12 13 14 15 16 17 18 30 31 32 64 79 80 81 82 83 84 85 86 87 88 89 129 130 131 132 133 143 144 145'.\n",
      "@> Before alignment RMSD: 246.70\n",
      "@> After alignment  RMSD: 0.57\n",
      "@> 25 atoms and 1 coordinate set(s) were parsed in 0.00s.\n"
     ]
    },
    {
     "name": "stdout",
     "output_type": "stream",
     "text": [
      "[1297 1297 1297 1297 1297 1297 1297 1297 1297 1297 1297 1297 1298 1299\n",
      " 1299 1299]\n",
      "350.0\n",
      "0.0\n",
      "62.0\n"
     ]
    },
    {
     "name": "stderr",
     "output_type": "stream",
     "text": [
      "@> 4848 atoms and 1 coordinate set(s) were parsed in 0.09s.\n",
      "@> Checking AtomGroup 1gz8_PROT_dk + 1gz8_lig Selection 'resnum 1300': 1 chains are identified\n",
      "@> Checking AtomGroup 1fin_PROT_dk: 1 chains are identified\n",
      "@> Trying to match chains based on residue numbers and names:\n",
      "@>   Comparing Chain   from 1gz8_PROT_dk + 1gz8_lig Selection 'resnum 1300' (len=298) and Chain A from 1fin_PROT_dk (len=298):\n",
      "@> \tMatch: 298 residues match with 100% sequence identity and 100% overlap.\n",
      "@> Alignment is based on 34 atoms matching 'ca resnum 8 9 10 11 12 13 14 15 16 17 18 30 31 32 64 79 80 81 82 83 84 85 86 87 88 89 129 130 131 132 133 143 144 145'.\n",
      "@> Before alignment RMSD: 247.67\n",
      "@> After alignment  RMSD: 1.21\n"
     ]
    },
    {
     "name": "stdout",
     "output_type": "stream",
     "text": [
      "[1300 1300 1300 1300 1300 1300 1300 1300 1300]\n",
      "222.0\n"
     ]
    },
    {
     "name": "stderr",
     "output_type": "stream",
     "text": [
      "@> 33 atoms and 1 coordinate set(s) were parsed in 0.00s.\n",
      "@> 4848 atoms and 1 coordinate set(s) were parsed in 0.05s.\n",
      "@> Checking AtomGroup 1h00_PROT_dk + 1h00_lig Selection 'resnum 1300': 1 chains are identified\n",
      "@> Checking AtomGroup 1fin_PROT_dk: 1 chains are identified\n",
      "@> Trying to match chains based on residue numbers and names:\n",
      "@>   Comparing Chain   from 1h00_PROT_dk + 1h00_lig Selection 'resnum 1300' (len=298) and Chain A from 1fin_PROT_dk (len=298):\n",
      "@> \tMatch: 298 residues match with 100% sequence identity and 100% overlap.\n",
      "@> Alignment is based on 34 atoms matching 'ca resnum 8 9 10 11 12 13 14 15 16 17 18 30 31 32 64 79 80 81 82 83 84 85 86 87 88 89 129 130 131 132 133 143 144 145'.\n",
      "@> Before alignment RMSD: 247.84\n",
      "@> After alignment  RMSD: 1.02\n",
      "@> 54 atoms and 1 coordinate set(s) were parsed in 0.00s.\n"
     ]
    },
    {
     "name": "stdout",
     "output_type": "stream",
     "text": [
      "[1300 1300 1300 1300 1300 1300 1300 1300 1300 1300 1300 1300]\n",
      "354.0\n"
     ]
    },
    {
     "name": "stderr",
     "output_type": "stream",
     "text": [
      "@> 4848 atoms and 1 coordinate set(s) were parsed in 0.09s.\n",
      "@> Checking AtomGroup 1h01_PROT_dk + 1h01_lig Selection 'resnum 301': 1 chains are identified\n",
      "@> Checking AtomGroup 1fin_PROT_dk: 1 chains are identified\n",
      "@> Trying to match chains based on residue numbers and names:\n",
      "@>   Comparing Chain   from 1h01_PROT_dk + 1h01_lig Selection 'resnum 301' (len=298) and Chain A from 1fin_PROT_dk (len=298):\n",
      "@> \tMatch: 298 residues match with 100% sequence identity and 100% overlap.\n",
      "@> Alignment is based on 34 atoms matching 'ca resnum 8 9 10 11 12 13 14 15 16 17 18 30 31 32 64 79 80 81 82 83 84 85 86 87 88 89 129 130 131 132 133 143 144 145'.\n",
      "@> Before alignment RMSD: 247.56\n",
      "@> After alignment  RMSD: 1.33\n",
      "@> 36 atoms and 1 coordinate set(s) were parsed in 0.00s.\n"
     ]
    },
    {
     "name": "stdout",
     "output_type": "stream",
     "text": [
      "[ 33  33  33  33  33 299 299 299 299 300 300 300 300 301 301 301 301 301\n",
      " 301 301 301]\n",
      "160.0\n",
      "84.0\n",
      "84.0\n",
      "354.0\n"
     ]
    },
    {
     "name": "stderr",
     "output_type": "stream",
     "text": [
      "@> 4848 atoms and 1 coordinate set(s) were parsed in 0.08s.\n",
      "@> Checking AtomGroup 1h07_PROT_dk + 1h07_lig Selection 'resnum 301': 1 chains are identified\n",
      "@> Checking AtomGroup 1fin_PROT_dk: 1 chains are identified\n",
      "@> Trying to match chains based on residue numbers and names:\n",
      "@>   Comparing Chain   from 1h07_PROT_dk + 1h07_lig Selection 'resnum 301' (len=298) and Chain A from 1fin_PROT_dk (len=298):\n",
      "@> \tMatch: 298 residues match with 100% sequence identity and 100% overlap.\n",
      "@> Alignment is based on 34 atoms matching 'ca resnum 8 9 10 11 12 13 14 15 16 17 18 30 31 32 64 79 80 81 82 83 84 85 86 87 88 89 129 130 131 132 133 143 144 145'.\n",
      "@> Before alignment RMSD: 247.67\n",
      "@> After alignment  RMSD: 1.18\n",
      "@> 38 atoms and 1 coordinate set(s) were parsed in 0.00s.\n"
     ]
    },
    {
     "name": "stdout",
     "output_type": "stream",
     "text": [
      "[301 301 301 301 301 301 301 301 301 301 301 301 301]\n",
      "404.0\n"
     ]
    },
    {
     "name": "stderr",
     "output_type": "stream",
     "text": [
      "@> 4848 atoms and 1 coordinate set(s) were parsed in 0.05s.\n",
      "@> Checking AtomGroup 1h08_PROT_dk + 1h08_lig Selection 'resnum 299': 1 chains are identified\n",
      "@> Checking AtomGroup 1fin_PROT_dk: 1 chains are identified\n",
      "@> Trying to match chains based on residue numbers and names:\n",
      "@>   Comparing Chain   from 1h08_PROT_dk + 1h08_lig Selection 'resnum 299' (len=298) and Chain A from 1fin_PROT_dk (len=298):\n",
      "@> \tMatch: 298 residues match with 100% sequence identity and 100% overlap.\n",
      "@> Alignment is based on 34 atoms matching 'ca resnum 8 9 10 11 12 13 14 15 16 17 18 30 31 32 64 79 80 81 82 83 84 85 86 87 88 89 129 130 131 132 133 143 144 145'.\n",
      "@> Before alignment RMSD: 247.93\n",
      "@> After alignment  RMSD: 1.35\n",
      "@> 18 atoms and 1 coordinate set(s) were parsed in 0.00s.\n",
      "@> 4848 atoms and 1 coordinate set(s) were parsed in 0.05s.\n"
     ]
    },
    {
     "name": "stdout",
     "output_type": "stream",
     "text": [
      "[299 299 299 299 299 299 299 299 299 299 299 299 299 299]\n",
      "354.0\n"
     ]
    },
    {
     "name": "stderr",
     "output_type": "stream",
     "text": [
      "@> Checking AtomGroup 1h0v_PROT_dk + 1h0v_lig Selection 'resnum 1299': 1 chains are identified\n",
      "@> Checking AtomGroup 1fin_PROT_dk: 1 chains are identified\n",
      "@> Trying to match chains based on residue numbers and names:\n",
      "@>   Comparing Chain   from 1h0v_PROT_dk + 1h0v_lig Selection 'resnum 1299' (len=298) and Chain A from 1fin_PROT_dk (len=298):\n",
      "@> \tMatch: 298 residues match with 100% sequence identity and 100% overlap.\n",
      "@> Alignment is based on 34 atoms matching 'ca resnum 8 9 10 11 12 13 14 15 16 17 18 30 31 32 64 79 80 81 82 83 84 85 86 87 88 89 129 130 131 132 133 143 144 145'.\n",
      "@> Before alignment RMSD: 247.77\n",
      "@> After alignment  RMSD: 1.42\n",
      "@> 18 atoms and 1 coordinate set(s) were parsed in 0.00s.\n",
      "@> 4850 atoms and 1 coordinate set(s) were parsed in 0.08s.\n",
      "@> Checking AtomGroup 1h0w_PROT_dk + 1h0w_lig Selection 'resnum 1299': 1 chains are identified\n",
      "@> Checking AtomGroup 1fin_PROT_dk: 1 chains are identified\n",
      "@> Trying to match chains based on residue numbers and names:\n",
      "@>   Comparing Chain   from 1h0w_PROT_dk + 1h0w_lig Selection 'resnum 1299' (len=296) and Chain A from 1fin_PROT_dk (len=298):\n",
      "@> \tMatch: 296 residues match with 100% sequence identity and 99% overlap.\n",
      "@> Alignment is based on 34 atoms matching 'ca resnum 8 9 10 11 12 13 14 15 16 17 18 30 31 32 64 79 80 81 82 83 84 85 86 87 88 89 129 130 131 132 133 143 144 145'.\n",
      "@> Before alignment RMSD: 247.81\n",
      "@> After alignment  RMSD: 1.30\n",
      "@> 18 atoms and 1 coordinate set(s) were parsed in 0.00s.\n"
     ]
    },
    {
     "name": "stdout",
     "output_type": "stream",
     "text": [
      "[1299 1299 1299 1299]\n",
      "236.0\n",
      "[1299 1299 1299 1299 1299 1299 1299 1299]\n",
      "228.0\n"
     ]
    },
    {
     "name": "stderr",
     "output_type": "stream",
     "text": [
      "@> 4848 atoms and 1 coordinate set(s) were parsed in 0.05s.\n",
      "@> Checking AtomGroup 1h1p_PROT_dk + 1h1p_lig Selection 'resnum 1298': 1 chains are identified\n",
      "@> Checking AtomGroup 1fin_PROT_dk: 1 chains are identified\n",
      "@> Trying to match chains based on residue numbers and names:\n",
      "@>   Comparing Chain   from 1h1p_PROT_dk + 1h1p_lig Selection 'resnum 1298' (len=298) and Chain A from 1fin_PROT_dk (len=298):\n",
      "@> \tMatch: 298 residues match with 100% sequence identity and 100% overlap.\n",
      "@> Alignment is based on 34 atoms matching 'ca resnum 8 9 10 11 12 13 14 15 16 17 18 30 31 32 64 79 80 81 82 83 84 85 86 87 88 89 129 130 131 132 133 143 144 145'.\n",
      "@> Before alignment RMSD: 247.22\n",
      "@> After alignment  RMSD: 1.46\n",
      "@> 24 atoms and 1 coordinate set(s) were parsed in 0.00s.\n"
     ]
    },
    {
     "name": "stdout",
     "output_type": "stream",
     "text": [
      "[1298 1298 1298 1298 1298]\n",
      "230.0\n"
     ]
    },
    {
     "name": "stderr",
     "output_type": "stream",
     "text": [
      "@> 4849 atoms and 1 coordinate set(s) were parsed in 0.05s.\n",
      "@> Checking AtomGroup 1h1q_PROT_dk + 1h1q_lig Selection 'resnum 1298': 1 chains are identified\n",
      "@> Checking AtomGroup 1fin_PROT_dk: 1 chains are identified\n",
      "@> Trying to match chains based on residue numbers and names:\n",
      "@>   Comparing Chain   from 1h1q_PROT_dk + 1h1q_lig Selection 'resnum 1298' (len=298) and Chain A from 1fin_PROT_dk (len=298):\n",
      "@> \tMatch: 298 residues match with 100% sequence identity and 100% overlap.\n",
      "@> Alignment is based on 34 atoms matching 'ca resnum 8 9 10 11 12 13 14 15 16 17 18 30 31 32 64 79 80 81 82 83 84 85 86 87 88 89 129 130 131 132 133 143 144 145'.\n",
      "@> Before alignment RMSD: 247.11\n",
      "@> After alignment  RMSD: 1.30\n",
      "@> 25 atoms and 1 coordinate set(s) were parsed in 0.00s.\n"
     ]
    },
    {
     "name": "stdout",
     "output_type": "stream",
     "text": [
      "[1298 1298 1298 1298 1298 1298 1298 1298 1298 1298 1298 1298 1298]\n",
      "302.0\n"
     ]
    },
    {
     "name": "stderr",
     "output_type": "stream",
     "text": [
      "@> 4849 atoms and 1 coordinate set(s) were parsed in 0.05s.\n",
      "@> Checking AtomGroup 1h1r_PROT_dk + 1h1r_lig Selection 'resnum 1298': 1 chains are identified\n",
      "@> Checking AtomGroup 1fin_PROT_dk: 1 chains are identified\n",
      "@> Trying to match chains based on residue numbers and names:\n",
      "@>   Comparing Chain   from 1h1r_PROT_dk + 1h1r_lig Selection 'resnum 1298' (len=298) and Chain A from 1fin_PROT_dk (len=298):\n",
      "@> \tMatch: 298 residues match with 100% sequence identity and 100% overlap.\n",
      "@> Alignment is based on 34 atoms matching 'ca resnum 8 9 10 11 12 13 14 15 16 17 18 30 31 32 64 79 80 81 82 83 84 85 86 87 88 89 129 130 131 132 133 143 144 145'.\n",
      "@> Before alignment RMSD: 247.14\n",
      "@> After alignment  RMSD: 1.26\n",
      "@> 28 atoms and 1 coordinate set(s) were parsed in 0.00s.\n"
     ]
    },
    {
     "name": "stdout",
     "output_type": "stream",
     "text": [
      "[1298 1298 1298 1298 1298 1298 1298 1298 1298]\n",
      "302.0\n"
     ]
    },
    {
     "name": "stderr",
     "output_type": "stream",
     "text": [
      "@> 4848 atoms and 1 coordinate set(s) were parsed in 0.05s.\n",
      "@> Checking AtomGroup 1h1s_PROT_dk + 1h1s_lig Selection 'resnum 1298': 1 chains are identified\n",
      "@> Checking AtomGroup 1fin_PROT_dk: 1 chains are identified\n",
      "@> Trying to match chains based on residue numbers and names:\n",
      "@>   Comparing Chain   from 1h1s_PROT_dk + 1h1s_lig Selection 'resnum 1298' (len=298) and Chain A from 1fin_PROT_dk (len=298):\n",
      "@> \tMatch: 298 residues match with 100% sequence identity and 100% overlap.\n",
      "@> Alignment is based on 34 atoms matching 'ca resnum 8 9 10 11 12 13 14 15 16 17 18 30 31 32 64 79 80 81 82 83 84 85 86 87 88 89 129 130 131 132 133 143 144 145'.\n",
      "@> Before alignment RMSD: 247.12\n",
      "@> After alignment  RMSD: 1.25\n",
      "@> 1 atoms and 1 coordinate set(s) were parsed in 0.00s.\n"
     ]
    },
    {
     "name": "stdout",
     "output_type": "stream",
     "text": [
      "[1298 1298 1298 1298 1298 1298 1298 1298 1298 1298 1298 1298]\n",
      "380.0\n",
      "../PDB_CDK2_ligands_chainA/1h24_lig.pdb is not a valid filename or a valid PDB identifier. La proteina 1h24 NO TIENE LIGANDO.\n",
      "../PDB_CDK2_ligands_chainA/1h25_lig.pdb is not a valid filename or a valid PDB identifier. La proteina 1h25 NO TIENE LIGANDO.\n"
     ]
    },
    {
     "name": "stderr",
     "output_type": "stream",
     "text": [
      "@> 4848 atoms and 1 coordinate set(s) were parsed in 0.08s.\n",
      "@> 1 atoms and 1 coordinate set(s) were parsed in 0.00s.\n",
      "@> 4849 atoms and 1 coordinate set(s) were parsed in 0.05s.\n",
      "@> 32 atoms and 1 coordinate set(s) were parsed in 0.00s.\n",
      "@> 4848 atoms and 1 coordinate set(s) were parsed in 0.05s.\n",
      "@> Checking AtomGroup 1hck_PROT_dk + 1hck_lig Selection 'resnum 400': 1 chains are identified\n",
      "@> Checking AtomGroup 1fin_PROT_dk: 1 chains are identified\n",
      "@> Trying to match chains based on residue numbers and names:\n",
      "@>   Comparing Chain   from 1hck_PROT_dk + 1hck_lig Selection 'resnum 400' (len=298) and Chain A from 1fin_PROT_dk (len=298):\n",
      "@> \tMatch: 298 residues match with 100% sequence identity and 100% overlap.\n"
     ]
    },
    {
     "name": "stdout",
     "output_type": "stream",
     "text": [
      "La proteina 1h26 no tiene ligando en el pocket.\n",
      "La proteina 1h27 no tiene ligando en el pocket.\n",
      "../PDB_CDK2_ligands_chainA/1h28_lig.pdb is not a valid filename or a valid PDB identifier. La proteina 1h28 NO TIENE LIGANDO.\n",
      "[401 400 400 400 400 400 400 400 400 400 400 400 400 400 400 400 400 400\n",
      " 400 400 400 400]\n",
      "398.0\n",
      "0.0\n"
     ]
    },
    {
     "name": "stderr",
     "output_type": "stream",
     "text": [
      "@> Alignment is based on 34 atoms matching 'ca resnum 8 9 10 11 12 13 14 15 16 17 18 30 31 32 64 79 80 81 82 83 84 85 86 87 88 89 129 130 131 132 133 143 144 145'.\n",
      "@> Before alignment RMSD: 247.76\n",
      "@> After alignment  RMSD: 1.15\n",
      "@> 32 atoms and 1 coordinate set(s) were parsed in 0.00s.\n",
      "@> 4848 atoms and 1 coordinate set(s) were parsed in 0.05s.\n",
      "@> Checking AtomGroup 1jst_PROT_dk + 1jst_lig Selection 'resnum 300': 1 chains are identified\n",
      "@> Checking AtomGroup 1fin_PROT_dk: 1 chains are identified\n",
      "@> Trying to match chains based on residue numbers and names:\n",
      "@>   Comparing Chain   from 1jst_PROT_dk + 1jst_lig Selection 'resnum 300' (len=298) and Chain A from 1fin_PROT_dk (len=298):\n",
      "@> \tMatch: 298 residues match with 100% sequence identity and 100% overlap.\n",
      "@> Alignment is based on 34 atoms matching 'ca resnum 8 9 10 11 12 13 14 15 16 17 18 30 31 32 64 79 80 81 82 83 84 85 86 87 88 89 129 130 131 132 133 143 144 145'.\n",
      "@> Before alignment RMSD: 246.57\n",
      "@> After alignment  RMSD: 0.74\n"
     ]
    },
    {
     "name": "stdout",
     "output_type": "stream",
     "text": [
      "../PDB_CDK2_ligands_chainA/1hcl_lig.pdb is not a valid filename or a valid PDB identifier. La proteina 1hcl NO TIENE LIGANDO.\n",
      "[299 300 300 300 300 300 300 300 300 300 300 300 300 300 300 300 300 300\n",
      " 300]\n",
      "0.0\n",
      "398.0\n"
     ]
    },
    {
     "name": "stderr",
     "output_type": "stream",
     "text": [
      "@> 19 atoms and 1 coordinate set(s) were parsed in 0.00s.\n",
      "@> 4848 atoms and 1 coordinate set(s) were parsed in 0.08s.\n",
      "@> Checking AtomGroup 1jsv_PROT_dk + 1jsv_lig Selection 'resnum 400': 1 chains are identified\n",
      "@> Checking AtomGroup 1fin_PROT_dk: 1 chains are identified\n",
      "@> Trying to match chains based on residue numbers and names:\n",
      "@>   Comparing Chain   from 1jsv_PROT_dk + 1jsv_lig Selection 'resnum 400' (len=298) and Chain A from 1fin_PROT_dk (len=298):\n",
      "@> \tMatch: 298 residues match with 100% sequence identity and 100% overlap.\n",
      "@> Alignment is based on 34 atoms matching 'ca resnum 8 9 10 11 12 13 14 15 16 17 18 30 31 32 64 79 80 81 82 83 84 85 86 87 88 89 129 130 131 132 133 143 144 145'.\n",
      "@> Before alignment RMSD: 247.63\n",
      "@> After alignment  RMSD: 1.13\n",
      "@> 23 atoms and 1 coordinate set(s) were parsed in 0.00s.\n"
     ]
    },
    {
     "name": "stdout",
     "output_type": "stream",
     "text": [
      "[400 400 400 400 400 400]\n",
      "254.0\n",
      "../PDB_CDK2_ligands_chainA/1jvp_lig.pdb is not a valid filename or a valid PDB identifier. La proteina 1jvp NO TIENE LIGANDO.\n"
     ]
    },
    {
     "name": "stderr",
     "output_type": "stream",
     "text": [
      "@> 4849 atoms and 1 coordinate set(s) were parsed in 0.05s.\n",
      "@> Checking AtomGroup 1ke5_PROT_dk + 1ke5_lig Selection 'resnum 299': 1 chains are identified\n",
      "@> Checking AtomGroup 1fin_PROT_dk: 1 chains are identified\n",
      "@> Trying to match chains based on residue numbers and names:\n",
      "@>   Comparing Chain   from 1ke5_PROT_dk + 1ke5_lig Selection 'resnum 299' (len=298) and Chain A from 1fin_PROT_dk (len=298):\n",
      "@> \tMatch: 298 residues match with 100% sequence identity and 100% overlap.\n",
      "@> Alignment is based on 34 atoms matching 'ca resnum 8 9 10 11 12 13 14 15 16 17 18 30 31 32 64 79 80 81 82 83 84 85 86 87 88 89 129 130 131 132 133 143 144 145'.\n",
      "@> Before alignment RMSD: 247.84\n",
      "@> After alignment  RMSD: 1.17\n"
     ]
    },
    {
     "name": "stdout",
     "output_type": "stream",
     "text": [
      "[299 299 299 299 299 299 299 299 299]\n",
      "314.0\n"
     ]
    },
    {
     "name": "stderr",
     "output_type": "stream",
     "text": [
      "@> 27 atoms and 1 coordinate set(s) were parsed in 0.00s.\n",
      "@> 4848 atoms and 1 coordinate set(s) were parsed in 0.07s.\n",
      "@> Checking AtomGroup 1ke6_PROT_dk + 1ke6_lig Selection 'resnum 299': 1 chains are identified\n",
      "@> Checking AtomGroup 1fin_PROT_dk: 1 chains are identified\n",
      "@> Trying to match chains based on residue numbers and names:\n",
      "@>   Comparing Chain   from 1ke6_PROT_dk + 1ke6_lig Selection 'resnum 299' (len=298) and Chain A from 1fin_PROT_dk (len=298):\n",
      "@> \tMatch: 298 residues match with 100% sequence identity and 100% overlap.\n",
      "@> Alignment is based on 34 atoms matching 'ca resnum 8 9 10 11 12 13 14 15 16 17 18 30 31 32 64 79 80 81 82 83 84 85 86 87 88 89 129 130 131 132 133 143 144 145'.\n",
      "@> Before alignment RMSD: 247.78\n",
      "@> After alignment  RMSD: 1.16\n",
      "@> 28 atoms and 1 coordinate set(s) were parsed in 0.00s.\n"
     ]
    },
    {
     "name": "stdout",
     "output_type": "stream",
     "text": [
      "[299 299 299 299 299 299 299 299 299 299 299]\n",
      "386.0\n"
     ]
    },
    {
     "name": "stderr",
     "output_type": "stream",
     "text": [
      "@> 4848 atoms and 1 coordinate set(s) were parsed in 0.05s.\n",
      "@> Checking AtomGroup 1ke7_PROT_dk + 1ke7_lig Selection 'resnum 299': 1 chains are identified\n",
      "@> Checking AtomGroup 1fin_PROT_dk: 1 chains are identified\n",
      "@> Trying to match chains based on residue numbers and names:\n",
      "@>   Comparing Chain   from 1ke7_PROT_dk + 1ke7_lig Selection 'resnum 299' (len=298) and Chain A from 1fin_PROT_dk (len=298):\n",
      "@> \tMatch: 298 residues match with 100% sequence identity and 100% overlap.\n",
      "@> Alignment is based on 34 atoms matching 'ca resnum 8 9 10 11 12 13 14 15 16 17 18 30 31 32 64 79 80 81 82 83 84 85 86 87 88 89 129 130 131 132 133 143 144 145'.\n",
      "@> Before alignment RMSD: 247.78\n",
      "@> After alignment  RMSD: 1.22\n",
      "@> 27 atoms and 1 coordinate set(s) were parsed in 0.00s.\n"
     ]
    },
    {
     "name": "stdout",
     "output_type": "stream",
     "text": [
      "[299 299 299 299 299 299 299 299 299 299 299 299 299]\n",
      "378.0\n"
     ]
    },
    {
     "name": "stderr",
     "output_type": "stream",
     "text": [
      "@> 4848 atoms and 1 coordinate set(s) were parsed in 0.05s.\n",
      "@> Checking AtomGroup 1ke8_PROT_dk + 1ke8_lig Selection 'resnum 299': 1 chains are identified\n",
      "@> Checking AtomGroup 1fin_PROT_dk: 1 chains are identified\n",
      "@> Trying to match chains based on residue numbers and names:\n",
      "@>   Comparing Chain   from 1ke8_PROT_dk + 1ke8_lig Selection 'resnum 299' (len=298) and Chain A from 1fin_PROT_dk (len=298):\n",
      "@> \tMatch: 298 residues match with 100% sequence identity and 100% overlap.\n",
      "@> Alignment is based on 34 atoms matching 'ca resnum 8 9 10 11 12 13 14 15 16 17 18 30 31 32 64 79 80 81 82 83 84 85 86 87 88 89 129 130 131 132 133 143 144 145'.\n",
      "@> Before alignment RMSD: 247.81\n",
      "@> After alignment  RMSD: 1.18\n",
      "@> 25 atoms and 1 coordinate set(s) were parsed in 0.00s.\n"
     ]
    },
    {
     "name": "stdout",
     "output_type": "stream",
     "text": [
      "[299 299 299 299 299 299 299 299 299]\n",
      "384.0\n"
     ]
    },
    {
     "name": "stderr",
     "output_type": "stream",
     "text": [
      "@> 4848 atoms and 1 coordinate set(s) were parsed in 0.05s.\n",
      "@> Checking AtomGroup 1ke9_PROT_dk + 1ke9_lig Selection 'resnum 299': 1 chains are identified\n",
      "@> Checking AtomGroup 1fin_PROT_dk: 1 chains are identified\n",
      "@> Trying to match chains based on residue numbers and names:\n",
      "@>   Comparing Chain   from 1ke9_PROT_dk + 1ke9_lig Selection 'resnum 299' (len=298) and Chain A from 1fin_PROT_dk (len=298):\n",
      "@> \tMatch: 298 residues match with 100% sequence identity and 100% overlap.\n",
      "@> Alignment is based on 34 atoms matching 'ca resnum 8 9 10 11 12 13 14 15 16 17 18 30 31 32 64 79 80 81 82 83 84 85 86 87 88 89 129 130 131 132 133 143 144 145'.\n",
      "@> Before alignment RMSD: 247.80\n",
      "@> After alignment  RMSD: 1.25\n",
      "@> 27 atoms and 1 coordinate set(s) were parsed in 0.00s.\n"
     ]
    },
    {
     "name": "stdout",
     "output_type": "stream",
     "text": [
      "[299 299 299 299]\n",
      "342.0\n"
     ]
    },
    {
     "name": "stderr",
     "output_type": "stream",
     "text": [
      "@> 4848 atoms and 1 coordinate set(s) were parsed in 0.05s.\n",
      "@> Checking AtomGroup 1ogu_PROT_dk + 1ogu_lig Selection 'resnum 1298': 1 chains are identified\n",
      "@> Checking AtomGroup 1fin_PROT_dk: 1 chains are identified\n",
      "@> Trying to match chains based on residue numbers and names:\n",
      "@>   Comparing Chain   from 1ogu_PROT_dk + 1ogu_lig Selection 'resnum 1298' (len=298) and Chain A from 1fin_PROT_dk (len=298):\n",
      "@> \tMatch: 298 residues match with 100% sequence identity and 100% overlap.\n",
      "@> Alignment is based on 34 atoms matching 'ca resnum 8 9 10 11 12 13 14 15 16 17 18 30 31 32 64 79 80 81 82 83 84 85 86 87 88 89 129 130 131 132 133 143 144 145'.\n",
      "@> Before alignment RMSD: 247.09\n",
      "@> After alignment  RMSD: 1.28\n",
      "@> 25 atoms and 1 coordinate set(s) were parsed in 0.00s.\n"
     ]
    },
    {
     "name": "stdout",
     "output_type": "stream",
     "text": [
      "[1298 1298 1298 1298 1298 1298 1298]\n",
      "348.0\n"
     ]
    },
    {
     "name": "stderr",
     "output_type": "stream",
     "text": [
      "@> 4848 atoms and 1 coordinate set(s) were parsed in 0.06s.\n",
      "@> Checking AtomGroup 1oi9_PROT_dk + 1oi9_lig Selection 'resnum 1298': 1 chains are identified\n",
      "@> Checking AtomGroup 1fin_PROT_dk: 1 chains are identified\n",
      "@> Trying to match chains based on residue numbers and names:\n",
      "@>   Comparing Chain   from 1oi9_PROT_dk + 1oi9_lig Selection 'resnum 1298' (len=298) and Chain A from 1fin_PROT_dk (len=298):\n",
      "@> \tMatch: 298 residues match with 100% sequence identity and 100% overlap.\n",
      "@> Alignment is based on 34 atoms matching 'ca resnum 8 9 10 11 12 13 14 15 16 17 18 30 31 32 64 79 80 81 82 83 84 85 86 87 88 89 129 130 131 132 133 143 144 145'.\n",
      "@> Before alignment RMSD: 247.10\n",
      "@> After alignment  RMSD: 1.25\n",
      "@> 20 atoms and 1 coordinate set(s) were parsed in 0.00s.\n",
      "@> 4848 atoms and 1 coordinate set(s) were parsed in 0.04s.\n"
     ]
    },
    {
     "name": "stdout",
     "output_type": "stream",
     "text": [
      "[1298 1298 1298 1298 1298 1298 1298 1298 1298]\n",
      "318.0\n"
     ]
    },
    {
     "name": "stderr",
     "output_type": "stream",
     "text": [
      "@> Checking AtomGroup 1oiq_PROT_dk + 1oiq_lig Selection 'resnum 1299': 1 chains are identified\n",
      "@> Checking AtomGroup 1fin_PROT_dk: 1 chains are identified\n",
      "@> Trying to match chains based on residue numbers and names:\n",
      "@>   Comparing Chain   from 1oiq_PROT_dk + 1oiq_lig Selection 'resnum 1299' (len=298) and Chain A from 1fin_PROT_dk (len=298):\n",
      "@> \tMatch: 298 residues match with 100% sequence identity and 100% overlap.\n",
      "@> Alignment is based on 34 atoms matching 'ca resnum 8 9 10 11 12 13 14 15 16 17 18 30 31 32 64 79 80 81 82 83 84 85 86 87 88 89 129 130 131 132 133 143 144 145'.\n",
      "@> Before alignment RMSD: 247.76\n",
      "@> After alignment  RMSD: 1.65\n",
      "@> 43 atoms and 1 coordinate set(s) were parsed in 0.00s.\n"
     ]
    },
    {
     "name": "stdout",
     "output_type": "stream",
     "text": [
      "[1299 1299 1299 1299 1299 1299 1299 1299]\n",
      "254.0\n"
     ]
    },
    {
     "name": "stderr",
     "output_type": "stream",
     "text": [
      "@> 4848 atoms and 1 coordinate set(s) were parsed in 0.08s.\n",
      "@> Checking AtomGroup 1oir_PROT_dk + 1oir_lig Selection 'resnum 1298': 1 chains are identified\n",
      "@> Checking AtomGroup 1fin_PROT_dk: 1 chains are identified\n",
      "@> Trying to match chains based on residue numbers and names:\n",
      "@>   Comparing Chain   from 1oir_PROT_dk + 1oir_lig Selection 'resnum 1298' (len=298) and Chain A from 1fin_PROT_dk (len=298):\n",
      "@> \tMatch: 298 residues match with 100% sequence identity and 100% overlap.\n",
      "@> Alignment is based on 34 atoms matching 'ca resnum 8 9 10 11 12 13 14 15 16 17 18 30 31 32 64 79 80 81 82 83 84 85 86 87 88 89 129 130 131 132 133 143 144 145'.\n",
      "@> Before alignment RMSD: 247.52\n",
      "@> After alignment  RMSD: 1.30\n",
      "@> 26 atoms and 1 coordinate set(s) were parsed in 0.00s.\n"
     ]
    },
    {
     "name": "stdout",
     "output_type": "stream",
     "text": [
      "[  33   33   33   33   33   33 1298 1298 1298 1298 1298 1298]\n",
      "160.0\n",
      "392.0\n"
     ]
    },
    {
     "name": "stderr",
     "output_type": "stream",
     "text": [
      "@> 4848 atoms and 1 coordinate set(s) were parsed in 0.05s.\n",
      "@> Checking AtomGroup 1oit_PROT_dk + 1oit_lig Selection 'resnum 1299': 1 chains are identified\n",
      "@> Checking AtomGroup 1fin_PROT_dk: 1 chains are identified\n",
      "@> Trying to match chains based on residue numbers and names:\n",
      "@>   Comparing Chain   from 1oit_PROT_dk + 1oit_lig Selection 'resnum 1299' (len=298) and Chain A from 1fin_PROT_dk (len=298):\n",
      "@> \tMatch: 298 residues match with 100% sequence identity and 100% overlap.\n",
      "@> Alignment is based on 34 atoms matching 'ca resnum 8 9 10 11 12 13 14 15 16 17 18 30 31 32 64 79 80 81 82 83 84 85 86 87 88 89 129 130 131 132 133 143 144 145'.\n",
      "@> Before alignment RMSD: 247.79\n",
      "@> After alignment  RMSD: 1.61\n",
      "@> 28 atoms and 1 coordinate set(s) were parsed in 0.00s.\n"
     ]
    },
    {
     "name": "stdout",
     "output_type": "stream",
     "text": [
      "[1299 1299 1299 1299 1299 1299 1299 1299 1299 1299 1299 1299 1299 1299]\n",
      "352.0\n"
     ]
    },
    {
     "name": "stderr",
     "output_type": "stream",
     "text": [
      "@> 4848 atoms and 1 coordinate set(s) were parsed in 0.06s.\n",
      "@> Checking AtomGroup 1oiu_PROT_dk + 1oiu_lig Selection 'resnum 1298': 1 chains are identified\n",
      "@> Checking AtomGroup 1fin_PROT_dk: 1 chains are identified\n",
      "@> Trying to match chains based on residue numbers and names:\n",
      "@>   Comparing Chain   from 1oiu_PROT_dk + 1oiu_lig Selection 'resnum 1298' (len=298) and Chain A from 1fin_PROT_dk (len=298):\n",
      "@> \tMatch: 298 residues match with 100% sequence identity and 100% overlap.\n",
      "@> Alignment is based on 34 atoms matching 'ca resnum 8 9 10 11 12 13 14 15 16 17 18 30 31 32 64 79 80 81 82 83 84 85 86 87 88 89 129 130 131 132 133 143 144 145'.\n",
      "@> Before alignment RMSD: 247.15\n",
      "@> After alignment  RMSD: 1.26\n",
      "@> 27 atoms and 1 coordinate set(s) were parsed in 0.00s.\n"
     ]
    },
    {
     "name": "stdout",
     "output_type": "stream",
     "text": [
      "[1298 1298 1298 1298 1298 1298 1298 1298 1298]\n",
      "380.0\n"
     ]
    },
    {
     "name": "stderr",
     "output_type": "stream",
     "text": [
      "@> 4848 atoms and 1 coordinate set(s) were parsed in 0.05s.\n",
      "@> Checking AtomGroup 1oiy_PROT_dk + 1oiy_lig Selection 'resnum 1298': 1 chains are identified\n",
      "@> Checking AtomGroup 1fin_PROT_dk: 1 chains are identified\n",
      "@> Trying to match chains based on residue numbers and names:\n",
      "@>   Comparing Chain   from 1oiy_PROT_dk + 1oiy_lig Selection 'resnum 1298' (len=298) and Chain A from 1fin_PROT_dk (len=298):\n",
      "@> \tMatch: 298 residues match with 100% sequence identity and 100% overlap.\n",
      "@> Alignment is based on 34 atoms matching 'ca resnum 8 9 10 11 12 13 14 15 16 17 18 30 31 32 64 79 80 81 82 83 84 85 86 87 88 89 129 130 131 132 133 143 144 145'.\n",
      "@> Before alignment RMSD: 247.14\n",
      "@> After alignment  RMSD: 1.23\n",
      "@> 1 atoms and 1 coordinate set(s) were parsed in 0.00s.\n"
     ]
    },
    {
     "name": "stdout",
     "output_type": "stream",
     "text": [
      "[1298 1298 1298 1298 1298 1298 1298 1298 1298 1298 1298]\n",
      "344.0\n"
     ]
    },
    {
     "name": "stderr",
     "output_type": "stream",
     "text": [
      "@> 4848 atoms and 1 coordinate set(s) were parsed in 0.08s.\n",
      "@> 23 atoms and 1 coordinate set(s) were parsed in 0.00s.\n",
      "@> 4848 atoms and 1 coordinate set(s) were parsed in 0.05s.\n",
      "@> Checking AtomGroup 1p2a_PROT_dk + 1p2a_lig Selection 'resnum 301': 1 chains are identified\n",
      "@> Checking AtomGroup 1fin_PROT_dk: 1 chains are identified\n",
      "@> Trying to match chains based on residue numbers and names:\n",
      "@>   Comparing Chain   from 1p2a_PROT_dk + 1p2a_lig Selection 'resnum 301' (len=298) and Chain A from 1fin_PROT_dk (len=298):\n",
      "@> \tMatch: 298 residues match with 100% sequence identity and 100% overlap.\n",
      "@> Alignment is based on 34 atoms matching 'ca resnum 8 9 10 11 12 13 14 15 16 17 18 30 31 32 64 79 80 81 82 83 84 85 86 87 88 89 129 130 131 132 133 143 144 145'.\n",
      "@> Before alignment RMSD: 247.83\n",
      "@> After alignment  RMSD: 1.07\n"
     ]
    },
    {
     "name": "stdout",
     "output_type": "stream",
     "text": [
      "La proteina 1okv no tiene ligando en el pocket.\n",
      "../PDB_CDK2_ligands_chainA/1okw_lig.pdb is not a valid filename or a valid PDB identifier. La proteina 1okw NO TIENE LIGANDO.\n",
      "../PDB_CDK2_ligands_chainA/1ol1_lig.pdb is not a valid filename or a valid PDB identifier. La proteina 1ol1 NO TIENE LIGANDO.\n",
      "../PDB_CDK2_ligands_chainA/1ol2_lig.pdb is not a valid filename or a valid PDB identifier. La proteina 1ol2 NO TIENE LIGANDO.\n",
      "[301 301 301 301 301 301 301 301 301 301 301 301]\n",
      "276.0\n"
     ]
    },
    {
     "name": "stderr",
     "output_type": "stream",
     "text": [
      "@> 13 atoms and 1 coordinate set(s) were parsed in 0.00s.\n",
      "@> 4848 atoms and 1 coordinate set(s) were parsed in 0.05s.\n",
      "@> Checking AtomGroup 1p5e_PROT_dk + 1p5e_lig Selection 'resnum 301': 1 chains are identified\n",
      "@> Checking AtomGroup 1fin_PROT_dk: 1 chains are identified\n",
      "@> Trying to match chains based on residue numbers and names:\n",
      "@>   Comparing Chain   from 1p5e_PROT_dk + 1p5e_lig Selection 'resnum 301' (len=298) and Chain A from 1fin_PROT_dk (len=298):\n",
      "@> \tMatch: 298 residues match with 100% sequence identity and 100% overlap.\n",
      "@> Alignment is based on 34 atoms matching 'ca resnum 8 9 10 11 12 13 14 15 16 17 18 30 31 32 64 79 80 81 82 83 84 85 86 87 88 89 129 130 131 132 133 143 144 145'.\n",
      "@> Before alignment RMSD: 246.68\n",
      "@> After alignment  RMSD: 0.61\n",
      "@> 18 atoms and 1 coordinate set(s) were parsed in 0.00s.\n"
     ]
    },
    {
     "name": "stdout",
     "output_type": "stream",
     "text": [
      "[301 301 301 301 301 301]\n",
      "114.0\n"
     ]
    },
    {
     "name": "stderr",
     "output_type": "stream",
     "text": [
      "@> 4848 atoms and 1 coordinate set(s) were parsed in 0.05s.\n",
      "@> Checking AtomGroup 1pf8_PROT_dk + 1pf8_lig Selection 'resnum 500': 1 chains are identified\n",
      "@> Checking AtomGroup 1fin_PROT_dk: 1 chains are identified\n",
      "@> Trying to match chains based on residue numbers and names:\n",
      "@>   Comparing Chain   from 1pf8_PROT_dk + 1pf8_lig Selection 'resnum 500' (len=298) and Chain A from 1fin_PROT_dk (len=298):\n",
      "@> \tMatch: 298 residues match with 100% sequence identity and 100% overlap.\n",
      "@> Alignment is based on 34 atoms matching 'ca resnum 8 9 10 11 12 13 14 15 16 17 18 30 31 32 64 79 80 81 82 83 84 85 86 87 88 89 129 130 131 132 133 143 144 145'.\n",
      "@> Before alignment RMSD: 248.02\n",
      "@> After alignment  RMSD: 1.38\n",
      "@> 36 atoms and 1 coordinate set(s) were parsed in 0.00s.\n"
     ]
    },
    {
     "name": "stdout",
     "output_type": "stream",
     "text": [
      "[500 500 500 500 500 500 500 500 500 500 500]\n",
      "230.0\n"
     ]
    },
    {
     "name": "stderr",
     "output_type": "stream",
     "text": [
      "@> 4849 atoms and 1 coordinate set(s) were parsed in 0.05s.\n",
      "@> Checking AtomGroup 1pkd_PROT_dk + 1pkd_lig Selection 'resnum 410': 1 chains are identified\n",
      "@> Checking AtomGroup 1fin_PROT_dk: 1 chains are identified\n",
      "@> Trying to match chains based on residue numbers and names:\n",
      "@>   Comparing Chain   from 1pkd_PROT_dk + 1pkd_lig Selection 'resnum 410' (len=298) and Chain A from 1fin_PROT_dk (len=298):\n",
      "@> \tMatch: 298 residues match with 100% sequence identity and 100% overlap.\n",
      "@> Alignment is based on 34 atoms matching 'ca resnum 8 9 10 11 12 13 14 15 16 17 18 30 31 32 64 79 80 81 82 83 84 85 86 87 88 89 129 130 131 132 133 143 144 145'.\n",
      "@> Before alignment RMSD: 246.69\n",
      "@> After alignment  RMSD: 0.40\n",
      "@> 14 atoms and 1 coordinate set(s) were parsed in 0.00s.\n"
     ]
    },
    {
     "name": "stdout",
     "output_type": "stream",
     "text": [
      "[410 410 410 410 410 410 410 410 410 410 410 410]\n",
      "456.0\n",
      "../PDB_CDK2_ligands_chainA/1pw2_lig.pdb is not a valid filename or a valid PDB identifier. La proteina 1pw2 NO TIENE LIGANDO.\n"
     ]
    },
    {
     "name": "stderr",
     "output_type": "stream",
     "text": [
      "@> 4848 atoms and 1 coordinate set(s) were parsed in 0.05s.\n",
      "@> Checking AtomGroup 1pxi_PROT_dk + 1pxi_lig Selection 'resnum 500': 1 chains are identified\n",
      "@> Checking AtomGroup 1fin_PROT_dk: 1 chains are identified\n",
      "@> Trying to match chains based on residue numbers and names:\n",
      "@>   Comparing Chain   from 1pxi_PROT_dk + 1pxi_lig Selection 'resnum 500' (len=298) and Chain A from 1fin_PROT_dk (len=298):\n",
      "@> \tMatch: 298 residues match with 100% sequence identity and 100% overlap.\n",
      "@> Alignment is based on 34 atoms matching 'ca resnum 8 9 10 11 12 13 14 15 16 17 18 30 31 32 64 79 80 81 82 83 84 85 86 87 88 89 129 130 131 132 133 143 144 145'.\n",
      "@> Before alignment RMSD: 247.79\n",
      "@> After alignment  RMSD: 1.34\n",
      "@> 14 atoms and 1 coordinate set(s) were parsed in 0.00s.\n"
     ]
    },
    {
     "name": "stdout",
     "output_type": "stream",
     "text": [
      "[500 500 500 500]\n",
      "170.0\n"
     ]
    },
    {
     "name": "stderr",
     "output_type": "stream",
     "text": [
      "@> 4848 atoms and 1 coordinate set(s) were parsed in 0.08s.\n",
      "@> Checking AtomGroup 1pxj_PROT_dk + 1pxj_lig Selection 'resnum 500': 1 chains are identified\n",
      "@> Checking AtomGroup 1fin_PROT_dk: 1 chains are identified\n",
      "@> Trying to match chains based on residue numbers and names:\n",
      "@>   Comparing Chain   from 1pxj_PROT_dk + 1pxj_lig Selection 'resnum 500' (len=298) and Chain A from 1fin_PROT_dk (len=298):\n",
      "@> \tMatch: 298 residues match with 100% sequence identity and 100% overlap.\n",
      "@> Alignment is based on 34 atoms matching 'ca resnum 8 9 10 11 12 13 14 15 16 17 18 30 31 32 64 79 80 81 82 83 84 85 86 87 88 89 129 130 131 132 133 143 144 145'.\n",
      "@> Before alignment RMSD: 247.85\n",
      "@> After alignment  RMSD: 1.27\n",
      "@> 17 atoms and 1 coordinate set(s) were parsed in 0.00s.\n"
     ]
    },
    {
     "name": "stdout",
     "output_type": "stream",
     "text": [
      "[500 500 500 500 500 500]\n",
      "196.0\n"
     ]
    },
    {
     "name": "stderr",
     "output_type": "stream",
     "text": [
      "@> 4848 atoms and 1 coordinate set(s) were parsed in 0.08s.\n",
      "@> Checking AtomGroup 1pxk_PROT_dk + 1pxk_lig Selection 'resnum 500': 1 chains are identified\n",
      "@> Checking AtomGroup 1fin_PROT_dk: 1 chains are identified\n",
      "@> Trying to match chains based on residue numbers and names:\n",
      "@>   Comparing Chain   from 1pxk_PROT_dk + 1pxk_lig Selection 'resnum 500' (len=298) and Chain A from 1fin_PROT_dk (len=298):\n",
      "@> \tMatch: 298 residues match with 100% sequence identity and 100% overlap.\n",
      "@> Alignment is based on 34 atoms matching 'ca resnum 8 9 10 11 12 13 14 15 16 17 18 30 31 32 64 79 80 81 82 83 84 85 86 87 88 89 129 130 131 132 133 143 144 145'.\n",
      "@> Before alignment RMSD: 247.96\n",
      "@> After alignment  RMSD: 1.26\n",
      "@> 24 atoms and 1 coordinate set(s) were parsed in 0.00s.\n"
     ]
    },
    {
     "name": "stdout",
     "output_type": "stream",
     "text": [
      "[500 500 500 500 500 500 500 500 500 500 500]\n",
      "238.0\n"
     ]
    },
    {
     "name": "stderr",
     "output_type": "stream",
     "text": [
      "@> 4848 atoms and 1 coordinate set(s) were parsed in 0.07s.\n",
      "@> Checking AtomGroup 1pxl_PROT_dk + 1pxl_lig Selection 'resnum 500': 1 chains are identified\n",
      "@> Checking AtomGroup 1fin_PROT_dk: 1 chains are identified\n",
      "@> Trying to match chains based on residue numbers and names:\n",
      "@>   Comparing Chain   from 1pxl_PROT_dk + 1pxl_lig Selection 'resnum 500' (len=298) and Chain A from 1fin_PROT_dk (len=298):\n",
      "@> \tMatch: 298 residues match with 100% sequence identity and 100% overlap.\n",
      "@> Alignment is based on 34 atoms matching 'ca resnum 8 9 10 11 12 13 14 15 16 17 18 30 31 32 64 79 80 81 82 83 84 85 86 87 88 89 129 130 131 132 133 143 144 145'.\n",
      "@> Before alignment RMSD: 247.95\n",
      "@> After alignment  RMSD: 1.21\n",
      "@> 21 atoms and 1 coordinate set(s) were parsed in 0.00s.\n"
     ]
    },
    {
     "name": "stdout",
     "output_type": "stream",
     "text": [
      "[500 500 500 500 500 500 500 500]\n",
      "280.0\n"
     ]
    },
    {
     "name": "stderr",
     "output_type": "stream",
     "text": [
      "@> 4848 atoms and 1 coordinate set(s) were parsed in 0.06s.\n",
      "@> Checking AtomGroup 1pxm_PROT_dk + 1pxm_lig Selection 'resnum 500': 1 chains are identified\n",
      "@> Checking AtomGroup 1fin_PROT_dk: 1 chains are identified\n",
      "@> Trying to match chains based on residue numbers and names:\n",
      "@>   Comparing Chain   from 1pxm_PROT_dk + 1pxm_lig Selection 'resnum 500' (len=298) and Chain A from 1fin_PROT_dk (len=298):\n",
      "@> \tMatch: 298 residues match with 100% sequence identity and 100% overlap.\n",
      "@> Alignment is based on 34 atoms matching 'ca resnum 8 9 10 11 12 13 14 15 16 17 18 30 31 32 64 79 80 81 82 83 84 85 86 87 88 89 129 130 131 132 133 143 144 145'.\n",
      "@> Before alignment RMSD: 248.03\n",
      "@> After alignment  RMSD: 1.36\n",
      "@> 22 atoms and 1 coordinate set(s) were parsed in 0.00s.\n"
     ]
    },
    {
     "name": "stdout",
     "output_type": "stream",
     "text": [
      "[500 500 500 500 500 500 500 500 500 500]\n",
      "284.0\n"
     ]
    },
    {
     "name": "stderr",
     "output_type": "stream",
     "text": [
      "@> 4848 atoms and 1 coordinate set(s) were parsed in 0.08s.\n",
      "@> Checking AtomGroup 1pxn_PROT_dk + 1pxn_lig Selection 'resnum 500': 1 chains are identified\n",
      "@> Checking AtomGroup 1fin_PROT_dk: 1 chains are identified\n",
      "@> Trying to match chains based on residue numbers and names:\n",
      "@>   Comparing Chain   from 1pxn_PROT_dk + 1pxn_lig Selection 'resnum 500' (len=298) and Chain A from 1fin_PROT_dk (len=298):\n",
      "@> \tMatch: 298 residues match with 100% sequence identity and 100% overlap.\n",
      "@> Alignment is based on 34 atoms matching 'ca resnum 8 9 10 11 12 13 14 15 16 17 18 30 31 32 64 79 80 81 82 83 84 85 86 87 88 89 129 130 131 132 133 143 144 145'.\n",
      "@> Before alignment RMSD: 248.26\n",
      "@> After alignment  RMSD: 1.36\n",
      "@> 14 atoms and 1 coordinate set(s) were parsed in 0.00s.\n"
     ]
    },
    {
     "name": "stdout",
     "output_type": "stream",
     "text": [
      "[500 500 500 500 500 500 500 500 500 500 500 500]\n",
      "298.0\n"
     ]
    },
    {
     "name": "stderr",
     "output_type": "stream",
     "text": [
      "@> 4848 atoms and 1 coordinate set(s) were parsed in 0.06s.\n",
      "@> Checking AtomGroup 1pxo_PROT_dk + 1pxo_lig Selection 'resnum 500': 1 chains are identified\n",
      "@> Checking AtomGroup 1fin_PROT_dk: 1 chains are identified\n",
      "@> Trying to match chains based on residue numbers and names:\n",
      "@>   Comparing Chain   from 1pxo_PROT_dk + 1pxo_lig Selection 'resnum 500' (len=298) and Chain A from 1fin_PROT_dk (len=298):\n",
      "@> \tMatch: 298 residues match with 100% sequence identity and 100% overlap.\n",
      "@> Alignment is based on 34 atoms matching 'ca resnum 8 9 10 11 12 13 14 15 16 17 18 30 31 32 64 79 80 81 82 83 84 85 86 87 88 89 129 130 131 132 133 143 144 145'.\n",
      "@> Before alignment RMSD: 247.93\n",
      "@> After alignment  RMSD: 1.10\n",
      "@> 23 atoms and 1 coordinate set(s) were parsed in 0.00s.\n"
     ]
    },
    {
     "name": "stdout",
     "output_type": "stream",
     "text": [
      "[500 500 500 500 500 500]\n",
      "198.0\n"
     ]
    },
    {
     "name": "stderr",
     "output_type": "stream",
     "text": [
      "@> 4848 atoms and 1 coordinate set(s) were parsed in 0.05s.\n",
      "@> Checking AtomGroup 1pxp_PROT_dk + 1pxp_lig Selection 'resnum 500': 1 chains are identified\n",
      "@> Checking AtomGroup 1fin_PROT_dk: 1 chains are identified\n",
      "@> Trying to match chains based on residue numbers and names:\n",
      "@>   Comparing Chain   from 1pxp_PROT_dk + 1pxp_lig Selection 'resnum 500' (len=298) and Chain A from 1fin_PROT_dk (len=298):\n",
      "@> \tMatch: 298 residues match with 100% sequence identity and 100% overlap.\n",
      "@> Alignment is based on 34 atoms matching 'ca resnum 8 9 10 11 12 13 14 15 16 17 18 30 31 32 64 79 80 81 82 83 84 85 86 87 88 89 129 130 131 132 133 143 144 145'.\n",
      "@> Before alignment RMSD: 248.04\n",
      "@> After alignment  RMSD: 1.34\n"
     ]
    },
    {
     "name": "stdout",
     "output_type": "stream",
     "text": [
      "[500 500 500 500 500 500 500 500 500 500]\n",
      "306.0\n"
     ]
    },
    {
     "name": "stderr",
     "output_type": "stream",
     "text": [
      "@> 28 atoms and 1 coordinate set(s) were parsed in 0.00s.\n",
      "@> 4848 atoms and 1 coordinate set(s) were parsed in 0.08s.\n",
      "@> Checking AtomGroup 1pye_PROT_dk + 1pye_lig Selection 'resnum 700': 1 chains are identified\n",
      "@> Checking AtomGroup 1fin_PROT_dk: 1 chains are identified\n",
      "@> Trying to match chains based on residue numbers and names:\n",
      "@>   Comparing Chain   from 1pye_PROT_dk + 1pye_lig Selection 'resnum 700' (len=298) and Chain A from 1fin_PROT_dk (len=298):\n",
      "@> \tMatch: 298 residues match with 100% sequence identity and 100% overlap.\n",
      "@> Alignment is based on 34 atoms matching 'ca resnum 8 9 10 11 12 13 14 15 16 17 18 30 31 32 64 79 80 81 82 83 84 85 86 87 88 89 129 130 131 132 133 143 144 145'.\n",
      "@> Before alignment RMSD: 247.75\n",
      "@> After alignment  RMSD: 1.22\n",
      "@> 32 atoms and 1 coordinate set(s) were parsed in 0.00s.\n"
     ]
    },
    {
     "name": "stdout",
     "output_type": "stream",
     "text": [
      "[700 700 700 700 700 700 700 700 700 700 700 700 700 700 700 700]\n",
      "326.0\n"
     ]
    },
    {
     "name": "stderr",
     "output_type": "stream",
     "text": [
      "@> 4848 atoms and 1 coordinate set(s) were parsed in 0.05s.\n",
      "@> Checking AtomGroup 1qmz_PROT_dk + 1qmz_lig Selection 'resnum 381': 1 chains are identified\n",
      "@> Checking AtomGroup 1fin_PROT_dk: 1 chains are identified\n",
      "@> Trying to match chains based on residue numbers and names:\n",
      "@>   Comparing Chain   from 1qmz_PROT_dk + 1qmz_lig Selection 'resnum 381' (len=298) and Chain A from 1fin_PROT_dk (len=298):\n",
      "@> \tMatch: 298 residues match with 100% sequence identity and 100% overlap.\n",
      "@> Alignment is based on 34 atoms matching 'ca resnum 8 9 10 11 12 13 14 15 16 17 18 30 31 32 64 79 80 81 82 83 84 85 86 87 88 89 129 130 131 132 133 143 144 145'.\n",
      "@> Before alignment RMSD: 246.87\n",
      "@> After alignment  RMSD: 0.73\n",
      "@> 28 atoms and 1 coordinate set(s) were parsed in 0.00s.\n"
     ]
    },
    {
     "name": "stdout",
     "output_type": "stream",
     "text": [
      "[381 381 381 381 381 381 381 381 381 381 381 381 381 381 381 381 381 381\n",
      " 383]\n",
      "398.0\n",
      "0.0\n"
     ]
    },
    {
     "name": "stderr",
     "output_type": "stream",
     "text": [
      "@> 4848 atoms and 1 coordinate set(s) were parsed in 0.08s.\n",
      "@> Checking AtomGroup 1r78_PROT_dk + 1r78_lig Selection 'resnum 299': 1 chains are identified\n",
      "@> Checking AtomGroup 1fin_PROT_dk: 1 chains are identified\n",
      "@> Trying to match chains based on residue numbers and names:\n",
      "@>   Comparing Chain   from 1r78_PROT_dk + 1r78_lig Selection 'resnum 299' (len=298) and Chain A from 1fin_PROT_dk (len=298):\n",
      "@> \tMatch: 298 residues match with 100% sequence identity and 100% overlap.\n",
      "@> Alignment is based on 34 atoms matching 'ca resnum 8 9 10 11 12 13 14 15 16 17 18 30 31 32 64 79 80 81 82 83 84 85 86 87 88 89 129 130 131 132 133 143 144 145'.\n",
      "@> Before alignment RMSD: 247.68\n",
      "@> After alignment  RMSD: 1.37\n",
      "@> 35 atoms and 1 coordinate set(s) were parsed in 0.00s.\n",
      "@> 4848 atoms and 1 coordinate set(s) were parsed in 0.05s.\n"
     ]
    },
    {
     "name": "stdout",
     "output_type": "stream",
     "text": [
      "[299 299 299 299 299 299 299 299 299 299 299 299 299]\n",
      "346.0\n",
      "../PDB_CDK2_ligands_chainA/1urc_lig.pdb is not a valid filename or a valid PDB identifier. La proteina 1urc NO TIENE LIGANDO.\n"
     ]
    },
    {
     "name": "stderr",
     "output_type": "stream",
     "text": [
      "@> Checking AtomGroup 1urw_PROT_dk + 1urw_lig Selection 'resnum 1300': 1 chains are identified\n",
      "@> Checking AtomGroup 1fin_PROT_dk: 1 chains are identified\n",
      "@> Trying to match chains based on residue numbers and names:\n",
      "@>   Comparing Chain   from 1urw_PROT_dk + 1urw_lig Selection 'resnum 1300' (len=298) and Chain A from 1fin_PROT_dk (len=298):\n",
      "@> \tMatch: 298 residues match with 100% sequence identity and 100% overlap.\n",
      "@> Alignment is based on 34 atoms matching 'ca resnum 8 9 10 11 12 13 14 15 16 17 18 30 31 32 64 79 80 81 82 83 84 85 86 87 88 89 129 130 131 132 133 143 144 145'.\n",
      "@> Before alignment RMSD: 247.76\n",
      "@> After alignment  RMSD: 1.17\n"
     ]
    },
    {
     "name": "stdout",
     "output_type": "stream",
     "text": [
      "[1300 1300 1300 1300 1300 1300 1300]\n",
      "428.0\n"
     ]
    },
    {
     "name": "stderr",
     "output_type": "stream",
     "text": [
      "@> 36 atoms and 1 coordinate set(s) were parsed in 0.00s.\n",
      "@> 4848 atoms and 1 coordinate set(s) were parsed in 0.06s.\n",
      "@> Checking AtomGroup 1v1k_PROT_dk + 1v1k_lig Selection 'resnum 299': 1 chains are identified\n",
      "@> Checking AtomGroup 1fin_PROT_dk: 1 chains are identified\n",
      "@> Trying to match chains based on residue numbers and names:\n",
      "@>   Comparing Chain   from 1v1k_PROT_dk + 1v1k_lig Selection 'resnum 299' (len=298) and Chain A from 1fin_PROT_dk (len=298):\n",
      "@> \tMatch: 298 residues match with 100% sequence identity and 100% overlap.\n",
      "@> Alignment is based on 34 atoms matching 'ca resnum 8 9 10 11 12 13 14 15 16 17 18 30 31 32 64 79 80 81 82 83 84 85 86 87 88 89 129 130 131 132 133 143 144 145'.\n",
      "@> Before alignment RMSD: 247.62\n",
      "@> After alignment  RMSD: 0.96\n",
      "@> 27 atoms and 1 coordinate set(s) were parsed in 0.00s.\n"
     ]
    },
    {
     "name": "stdout",
     "output_type": "stream",
     "text": [
      "[299 299 299 299 299 299 299 299 299 299 299 299]\n",
      "366.0\n"
     ]
    },
    {
     "name": "stderr",
     "output_type": "stream",
     "text": [
      "@> 4848 atoms and 1 coordinate set(s) were parsed in 0.06s.\n",
      "@> Checking AtomGroup 1vyw_PROT_dk + 1vyw_lig Selection 'resnum 2300': 1 chains are identified\n",
      "@> Checking AtomGroup 1fin_PROT_dk: 1 chains are identified\n",
      "@> Trying to match chains based on residue numbers and names:\n",
      "@>   Comparing Chain   from 1vyw_PROT_dk + 1vyw_lig Selection 'resnum 2300' (len=298) and Chain A from 1fin_PROT_dk (len=298):\n",
      "@> \tMatch: 298 residues match with 100% sequence identity and 100% overlap.\n",
      "@> Alignment is based on 34 atoms matching 'ca resnum 8 9 10 11 12 13 14 15 16 17 18 30 31 32 64 79 80 81 82 83 84 85 86 87 88 89 129 130 131 132 133 143 144 145'.\n",
      "@> Before alignment RMSD: 246.59\n",
      "@> After alignment  RMSD: 0.50\n",
      "@> 17 atoms and 1 coordinate set(s) were parsed in 0.00s.\n"
     ]
    },
    {
     "name": "stdout",
     "output_type": "stream",
     "text": [
      "[2300 2300 2300 2300 2300 2300 2300 2300]\n",
      "274.0\n"
     ]
    },
    {
     "name": "stderr",
     "output_type": "stream",
     "text": [
      "@> 4848 atoms and 1 coordinate set(s) were parsed in 0.06s.\n",
      "@> Checking AtomGroup 1vyz_PROT_dk + 1vyz_lig Selection 'resnum 300': 1 chains are identified\n",
      "@> Checking AtomGroup 1fin_PROT_dk: 1 chains are identified\n",
      "@> Trying to match chains based on residue numbers and names:\n",
      "@>   Comparing Chain   from 1vyz_PROT_dk + 1vyz_lig Selection 'resnum 300' (len=298) and Chain A from 1fin_PROT_dk (len=298):\n",
      "@> \tMatch: 298 residues match with 100% sequence identity and 100% overlap.\n",
      "@> Alignment is based on 34 atoms matching 'ca resnum 8 9 10 11 12 13 14 15 16 17 18 30 31 32 64 79 80 81 82 83 84 85 86 87 88 89 129 130 131 132 133 143 144 145'.\n",
      "@> Before alignment RMSD: 247.76\n",
      "@> After alignment  RMSD: 1.27\n",
      "@> 25 atoms and 1 coordinate set(s) were parsed in 0.00s.\n"
     ]
    },
    {
     "name": "stdout",
     "output_type": "stream",
     "text": [
      "[300 300 300 300 300 300 300]\n",
      "214.0\n"
     ]
    },
    {
     "name": "stderr",
     "output_type": "stream",
     "text": [
      "@> 4848 atoms and 1 coordinate set(s) were parsed in 0.06s.\n",
      "@> Checking AtomGroup 1w0x_PROT_dk + 1w0x_lig Selection 'resnum 1299': 1 chains are identified\n",
      "@> Checking AtomGroup 1fin_PROT_dk: 1 chains are identified\n",
      "@> Trying to match chains based on residue numbers and names:\n",
      "@>   Comparing Chain   from 1w0x_PROT_dk + 1w0x_lig Selection 'resnum 1299' (len=298) and Chain A from 1fin_PROT_dk (len=298):\n",
      "@> \tMatch: 298 residues match with 100% sequence identity and 100% overlap.\n",
      "@> Alignment is based on 34 atoms matching 'ca resnum 8 9 10 11 12 13 14 15 16 17 18 30 31 32 64 79 80 81 82 83 84 85 86 87 88 89 129 130 131 132 133 143 144 145'.\n",
      "@> Before alignment RMSD: 247.79\n",
      "@> After alignment  RMSD: 1.20\n",
      "@> 32 atoms and 1 coordinate set(s) were parsed in 0.00s.\n"
     ]
    },
    {
     "name": "stdout",
     "output_type": "stream",
     "text": [
      "[1299 1299 1299 1299 1299 1299 1299 1299 1299 1299 1299 1299 1299]\n",
      "283.0\n"
     ]
    },
    {
     "name": "stderr",
     "output_type": "stream",
     "text": [
      "@> 4848 atoms and 1 coordinate set(s) were parsed in 0.05s.\n",
      "@> Checking AtomGroup 1w8c_PROT_dk + 1w8c_lig Selection 'resnum 1301': 1 chains are identified\n",
      "@> Checking AtomGroup 1fin_PROT_dk: 1 chains are identified\n",
      "@> Trying to match chains based on residue numbers and names:\n",
      "@>   Comparing Chain   from 1w8c_PROT_dk + 1w8c_lig Selection 'resnum 1301' (len=298) and Chain A from 1fin_PROT_dk (len=298):\n",
      "@> \tMatch: 298 residues match with 100% sequence identity and 100% overlap.\n",
      "@> Alignment is based on 34 atoms matching 'ca resnum 8 9 10 11 12 13 14 15 16 17 18 30 31 32 64 79 80 81 82 83 84 85 86 87 88 89 129 130 131 132 133 143 144 145'.\n",
      "@> Before alignment RMSD: 247.71\n",
      "@> After alignment  RMSD: 1.09\n",
      "@> 8 atoms and 1 coordinate set(s) were parsed in 0.00s.\n"
     ]
    },
    {
     "name": "stdout",
     "output_type": "stream",
     "text": [
      "[1301 1301 1301 1301 1301 1301]\n",
      "266.0\n",
      "../PDB_CDK2_ligands_chainA/1w98_lig.pdb is not a valid filename or a valid PDB identifier. La proteina 1w98 NO TIENE LIGANDO.\n"
     ]
    },
    {
     "name": "stderr",
     "output_type": "stream",
     "text": [
      "@> 4848 atoms and 1 coordinate set(s) were parsed in 0.05s.\n",
      "@> Checking AtomGroup 1wcc_PROT_dk + 1wcc_lig Selection 'resnum 1299': 1 chains are identified\n",
      "@> Checking AtomGroup 1fin_PROT_dk: 1 chains are identified\n",
      "@> Trying to match chains based on residue numbers and names:\n",
      "@>   Comparing Chain   from 1wcc_PROT_dk + 1wcc_lig Selection 'resnum 1299' (len=298) and Chain A from 1fin_PROT_dk (len=298):\n",
      "@> \tMatch: 298 residues match with 100% sequence identity and 100% overlap.\n",
      "@> Alignment is based on 34 atoms matching 'ca resnum 8 9 10 11 12 13 14 15 16 17 18 30 31 32 64 79 80 81 82 83 84 85 86 87 88 89 129 130 131 132 133 143 144 145'.\n",
      "@> Before alignment RMSD: 247.67\n",
      "@> After alignment  RMSD: 1.20\n",
      "@> 21 atoms and 1 coordinate set(s) were parsed in 0.00s.\n"
     ]
    },
    {
     "name": "stdout",
     "output_type": "stream",
     "text": [
      "[1299 1299 1299 1299]\n",
      "90.0\n"
     ]
    },
    {
     "name": "stderr",
     "output_type": "stream",
     "text": [
      "@> 4848 atoms and 1 coordinate set(s) were parsed in 0.06s.\n",
      "@> Checking AtomGroup 1y8y_PROT_dk + 1y8y_lig Selection 'resnum 401': 1 chains are identified\n",
      "@> Checking AtomGroup 1fin_PROT_dk: 1 chains are identified\n",
      "@> Trying to match chains based on residue numbers and names:\n",
      "@>   Comparing Chain   from 1y8y_PROT_dk + 1y8y_lig Selection 'resnum 401' (len=298) and Chain A from 1fin_PROT_dk (len=298):\n",
      "@> \tMatch: 298 residues match with 100% sequence identity and 100% overlap.\n",
      "@> Alignment is based on 34 atoms matching 'ca resnum 8 9 10 11 12 13 14 15 16 17 18 30 31 32 64 79 80 81 82 83 84 85 86 87 88 89 129 130 131 132 133 143 144 145'.\n",
      "@> Before alignment RMSD: 247.78\n",
      "@> After alignment  RMSD: 1.21\n",
      "@> 33 atoms and 1 coordinate set(s) were parsed in 0.00s.\n"
     ]
    },
    {
     "name": "stdout",
     "output_type": "stream",
     "text": [
      "[401 401 401 401 401]\n",
      "276.0\n"
     ]
    },
    {
     "name": "stderr",
     "output_type": "stream",
     "text": [
      "@> 4848 atoms and 1 coordinate set(s) were parsed in 0.05s.\n",
      "@> Checking AtomGroup 1y91_PROT_dk + 1y91_lig Selection 'resnum 401': 1 chains are identified\n",
      "@> Checking AtomGroup 1fin_PROT_dk: 1 chains are identified\n",
      "@> Trying to match chains based on residue numbers and names:\n",
      "@>   Comparing Chain   from 1y91_PROT_dk + 1y91_lig Selection 'resnum 401' (len=298) and Chain A from 1fin_PROT_dk (len=298):\n",
      "@> \tMatch: 298 residues match with 100% sequence identity and 100% overlap.\n",
      "@> Alignment is based on 34 atoms matching 'ca resnum 8 9 10 11 12 13 14 15 16 17 18 30 31 32 64 79 80 81 82 83 84 85 86 87 88 89 129 130 131 132 133 143 144 145'.\n",
      "@> Before alignment RMSD: 247.76\n",
      "@> After alignment  RMSD: 0.98\n",
      "@> 30 atoms and 1 coordinate set(s) were parsed in 0.00s.\n"
     ]
    },
    {
     "name": "stdout",
     "output_type": "stream",
     "text": [
      "[401 401 401 401 401 401 401 401 401 401 401 401 401 401 401 401 401 401\n",
      " 401 401]\n",
      "438.0\n"
     ]
    },
    {
     "name": "stderr",
     "output_type": "stream",
     "text": [
      "@> 4848 atoms and 1 coordinate set(s) were parsed in 0.05s.\n",
      "@> Checking AtomGroup 1ykr_PROT_dk + 1ykr_lig Selection 'resnum 299': 1 chains are identified\n",
      "@> Checking AtomGroup 1fin_PROT_dk: 1 chains are identified\n",
      "@> Trying to match chains based on residue numbers and names:\n",
      "@>   Comparing Chain   from 1ykr_PROT_dk + 1ykr_lig Selection 'resnum 299' (len=298) and Chain A from 1fin_PROT_dk (len=298):\n",
      "@> \tMatch: 298 residues match with 100% sequence identity and 100% overlap.\n",
      "@> Alignment is based on 34 atoms matching 'ca resnum 8 9 10 11 12 13 14 15 16 17 18 30 31 32 64 79 80 81 82 83 84 85 86 87 88 89 129 130 131 132 133 143 144 145'.\n",
      "@> Before alignment RMSD: 247.76\n",
      "@> After alignment  RMSD: 1.08\n",
      "@> 27 atoms and 1 coordinate set(s) were parsed in 0.00s.\n"
     ]
    },
    {
     "name": "stdout",
     "output_type": "stream",
     "text": [
      "[299 299 299 299 299 299 299 299 299 299 299 299 299 299 299]\n",
      "376.0\n"
     ]
    },
    {
     "name": "stderr",
     "output_type": "stream",
     "text": [
      "@> 4848 atoms and 1 coordinate set(s) were parsed in 0.06s.\n",
      "@> Checking AtomGroup 2a0c_PROT_dk + 2a0c_lig Selection 'resnum 500': 1 chains are identified\n",
      "@> Checking AtomGroup 1fin_PROT_dk: 1 chains are identified\n",
      "@> Trying to match chains based on residue numbers and names:\n",
      "@>   Comparing Chain   from 2a0c_PROT_dk + 2a0c_lig Selection 'resnum 500' (len=298) and Chain A from 1fin_PROT_dk (len=298):\n",
      "@> \tMatch: 298 residues match with 100% sequence identity and 100% overlap.\n",
      "@> Alignment is based on 34 atoms matching 'ca resnum 8 9 10 11 12 13 14 15 16 17 18 30 31 32 64 79 80 81 82 83 84 85 86 87 88 89 129 130 131 132 133 143 144 145'.\n",
      "@> Before alignment RMSD: 247.84\n",
      "@> After alignment  RMSD: 1.08\n",
      "@> 26 atoms and 1 coordinate set(s) were parsed in 0.00s.\n"
     ]
    },
    {
     "name": "stdout",
     "output_type": "stream",
     "text": [
      "[500 500 500 500 500 500 500 500 500 500 500 500 500]\n",
      "344.0\n"
     ]
    },
    {
     "name": "stderr",
     "output_type": "stream",
     "text": [
      "@> 4848 atoms and 1 coordinate set(s) were parsed in 0.08s.\n",
      "@> Checking AtomGroup 2a4l_PROT_dk + 2a4l_lig Selection 'resnum 300': 1 chains are identified\n",
      "@> Checking AtomGroup 1fin_PROT_dk: 1 chains are identified\n",
      "@> Trying to match chains based on residue numbers and names:\n",
      "@>   Comparing Chain   from 2a4l_PROT_dk + 2a4l_lig Selection 'resnum 300' (len=298) and Chain A from 1fin_PROT_dk (len=298):\n",
      "@> \tMatch: 298 residues match with 100% sequence identity and 100% overlap.\n",
      "@> Alignment is based on 34 atoms matching 'ca resnum 8 9 10 11 12 13 14 15 16 17 18 30 31 32 64 79 80 81 82 83 84 85 86 87 88 89 129 130 131 132 133 143 144 145'.\n",
      "@> Before alignment RMSD: 247.51\n",
      "@> After alignment  RMSD: 1.17\n",
      "@> 31 atoms and 1 coordinate set(s) were parsed in 0.00s.\n"
     ]
    },
    {
     "name": "stdout",
     "output_type": "stream",
     "text": [
      "[300 300 300 300 300 300 300 300 300 300]\n",
      "328.0\n"
     ]
    },
    {
     "name": "stderr",
     "output_type": "stream",
     "text": [
      "@> 4848 atoms and 1 coordinate set(s) were parsed in 0.05s.\n",
      "@> Checking AtomGroup 2b52_PROT_dk + 2b52_lig Selection 'resnum 299': 1 chains are identified\n",
      "@> Checking AtomGroup 1fin_PROT_dk: 1 chains are identified\n",
      "@> Trying to match chains based on residue numbers and names:\n",
      "@>   Comparing Chain   from 2b52_PROT_dk + 2b52_lig Selection 'resnum 299' (len=298) and Chain A from 1fin_PROT_dk (len=298):\n",
      "@> \tMatch: 298 residues match with 100% sequence identity and 100% overlap.\n",
      "@> Alignment is based on 34 atoms matching 'ca resnum 8 9 10 11 12 13 14 15 16 17 18 30 31 32 64 79 80 81 82 83 84 85 86 87 88 89 129 130 131 132 133 143 144 145'.\n",
      "@> Before alignment RMSD: 247.72\n",
      "@> After alignment  RMSD: 1.32\n",
      "@> 26 atoms and 1 coordinate set(s) were parsed in 0.00s.\n"
     ]
    },
    {
     "name": "stdout",
     "output_type": "stream",
     "text": [
      "[299 299 299 299 299 299 299 299 299 299 299 299 299 299 299 299 299]\n",
      "414.0\n"
     ]
    },
    {
     "name": "stderr",
     "output_type": "stream",
     "text": [
      "@> 4848 atoms and 1 coordinate set(s) were parsed in 0.08s.\n",
      "@> Checking AtomGroup 2b53_PROT_dk + 2b53_lig Selection 'resnum 299': 1 chains are identified\n",
      "@> Checking AtomGroup 1fin_PROT_dk: 1 chains are identified\n",
      "@> Trying to match chains based on residue numbers and names:\n",
      "@>   Comparing Chain   from 2b53_PROT_dk + 2b53_lig Selection 'resnum 299' (len=298) and Chain A from 1fin_PROT_dk (len=298):\n",
      "@> \tMatch: 298 residues match with 100% sequence identity and 100% overlap.\n",
      "@> Alignment is based on 34 atoms matching 'ca resnum 8 9 10 11 12 13 14 15 16 17 18 30 31 32 64 79 80 81 82 83 84 85 86 87 88 89 129 130 131 132 133 143 144 145'.\n",
      "@> Before alignment RMSD: 247.56\n",
      "@> After alignment  RMSD: 1.14\n",
      "@> 30 atoms and 1 coordinate set(s) were parsed in 0.00s.\n"
     ]
    },
    {
     "name": "stdout",
     "output_type": "stream",
     "text": [
      "[299 299 299 299 299 299]\n",
      "284.0\n"
     ]
    },
    {
     "name": "stderr",
     "output_type": "stream",
     "text": [
      "@> 4848 atoms and 1 coordinate set(s) were parsed in 0.06s.\n",
      "@> Checking AtomGroup 2b54_PROT_dk + 2b54_lig Selection 'resnum 300': 1 chains are identified\n",
      "@> Checking AtomGroup 1fin_PROT_dk: 1 chains are identified\n",
      "@> Trying to match chains based on residue numbers and names:\n",
      "@>   Comparing Chain   from 2b54_PROT_dk + 2b54_lig Selection 'resnum 300' (len=298) and Chain A from 1fin_PROT_dk (len=298):\n",
      "@> \tMatch: 298 residues match with 100% sequence identity and 100% overlap.\n",
      "@> Alignment is based on 34 atoms matching 'ca resnum 8 9 10 11 12 13 14 15 16 17 18 30 31 32 64 79 80 81 82 83 84 85 86 87 88 89 129 130 131 132 133 143 144 145'.\n",
      "@> Before alignment RMSD: 247.49\n",
      "@> After alignment  RMSD: 1.24\n",
      "@> 31 atoms and 1 coordinate set(s) were parsed in 0.00s.\n"
     ]
    },
    {
     "name": "stdout",
     "output_type": "stream",
     "text": [
      "[300 300 300 300 300 300 300 300 300 300]\n",
      "344.0\n"
     ]
    },
    {
     "name": "stderr",
     "output_type": "stream",
     "text": [
      "@> 4849 atoms and 1 coordinate set(s) were parsed in 0.06s.\n",
      "@> Checking AtomGroup 2b55_PROT_dk + 2b55_lig Selection 'resnum 299': 1 chains are identified\n",
      "@> Checking AtomGroup 1fin_PROT_dk: 1 chains are identified\n",
      "@> Trying to match chains based on residue numbers and names:\n",
      "@>   Comparing Chain   from 2b55_PROT_dk + 2b55_lig Selection 'resnum 299' (len=298) and Chain A from 1fin_PROT_dk (len=298):\n",
      "@> \tMatch: 298 residues match with 100% sequence identity and 100% overlap.\n",
      "@> Alignment is based on 34 atoms matching 'ca resnum 8 9 10 11 12 13 14 15 16 17 18 30 31 32 64 79 80 81 82 83 84 85 86 87 88 89 129 130 131 132 133 143 144 145'.\n",
      "@> Before alignment RMSD: 247.73\n",
      "@> After alignment  RMSD: 1.13\n",
      "@> 21 atoms and 1 coordinate set(s) were parsed in 0.00s.\n"
     ]
    },
    {
     "name": "stdout",
     "output_type": "stream",
     "text": [
      "[299 299 299 299 299 299 299 299 299 299 299]\n",
      "390.0\n"
     ]
    },
    {
     "name": "stderr",
     "output_type": "stream",
     "text": [
      "@> 4848 atoms and 1 coordinate set(s) were parsed in 0.08s.\n",
      "@> Checking AtomGroup 2bhe_PROT_dk + 2bhe_lig Selection 'resnum 1299': 1 chains are identified\n",
      "@> Checking AtomGroup 1fin_PROT_dk: 1 chains are identified\n",
      "@> Trying to match chains based on residue numbers and names:\n",
      "@>   Comparing Chain   from 2bhe_PROT_dk + 2bhe_lig Selection 'resnum 1299' (len=298) and Chain A from 1fin_PROT_dk (len=298):\n",
      "@> \tMatch: 298 residues match with 100% sequence identity and 100% overlap.\n",
      "@> Alignment is based on 34 atoms matching 'ca resnum 8 9 10 11 12 13 14 15 16 17 18 30 31 32 64 79 80 81 82 83 84 85 86 87 88 89 129 130 131 132 133 143 144 145'.\n",
      "@> Before alignment RMSD: 247.82\n",
      "@> After alignment  RMSD: 1.15\n",
      "@> 31 atoms and 1 coordinate set(s) were parsed in 0.00s.\n"
     ]
    },
    {
     "name": "stdout",
     "output_type": "stream",
     "text": [
      "[1299 1299 1299 1299 1299 1299 1299]\n",
      "252.0\n"
     ]
    },
    {
     "name": "stderr",
     "output_type": "stream",
     "text": [
      "@> 4848 atoms and 1 coordinate set(s) were parsed in 0.05s.\n",
      "@> Checking AtomGroup 2bhh_PROT_dk + 2bhh_lig Selection 'resnum 1299': 1 chains are identified\n",
      "@> Checking AtomGroup 1fin_PROT_dk: 1 chains are identified\n",
      "@> Trying to match chains based on residue numbers and names:\n",
      "@>   Comparing Chain   from 2bhh_PROT_dk + 2bhh_lig Selection 'resnum 1299' (len=298) and Chain A from 1fin_PROT_dk (len=298):\n",
      "@> \tMatch: 298 residues match with 100% sequence identity and 100% overlap.\n",
      "@> Alignment is based on 34 atoms matching 'ca resnum 8 9 10 11 12 13 14 15 16 17 18 30 31 32 64 79 80 81 82 83 84 85 86 87 88 89 129 130 131 132 133 143 144 145'.\n",
      "@> Before alignment RMSD: 247.69\n",
      "@> After alignment  RMSD: 1.15\n"
     ]
    },
    {
     "name": "stdout",
     "output_type": "stream",
     "text": [
      "[1299 1299 1299 1299 1299 1299 1299 1299 1299 1299 1299 1299]\n",
      "418.0\n"
     ]
    },
    {
     "name": "stderr",
     "output_type": "stream",
     "text": [
      "@> 30 atoms and 1 coordinate set(s) were parsed in 0.00s.\n",
      "@> 4848 atoms and 1 coordinate set(s) were parsed in 0.08s.\n",
      "@> Checking AtomGroup 2bkz_PROT_dk + 2bkz_lig Selection 'resnum 1299': 1 chains are identified\n",
      "@> Checking AtomGroup 1fin_PROT_dk: 1 chains are identified\n",
      "@> Trying to match chains based on residue numbers and names:\n",
      "@>   Comparing Chain   from 2bkz_PROT_dk + 2bkz_lig Selection 'resnum 1299' (len=298) and Chain A from 1fin_PROT_dk (len=298):\n",
      "@> \tMatch: 298 residues match with 100% sequence identity and 100% overlap.\n",
      "@> Alignment is based on 34 atoms matching 'ca resnum 8 9 10 11 12 13 14 15 16 17 18 30 31 32 64 79 80 81 82 83 84 85 86 87 88 89 129 130 131 132 133 143 144 145'.\n",
      "@> Before alignment RMSD: 246.59\n",
      "@> After alignment  RMSD: 0.67\n",
      "@> 30 atoms and 1 coordinate set(s) were parsed in 0.00s.\n"
     ]
    },
    {
     "name": "stdout",
     "output_type": "stream",
     "text": [
      "[1299 1299 1299 1299 1299 1299 1299 1299 1299]\n",
      "344.0\n"
     ]
    },
    {
     "name": "stderr",
     "output_type": "stream",
     "text": [
      "@> 4848 atoms and 1 coordinate set(s) were parsed in 0.07s.\n",
      "@> Checking AtomGroup 2bpm_PROT_dk + 2bpm_lig Selection 'resnum 1299': 1 chains are identified\n",
      "@> Checking AtomGroup 1fin_PROT_dk: 1 chains are identified\n",
      "@> Trying to match chains based on residue numbers and names:\n",
      "@>   Comparing Chain   from 2bpm_PROT_dk + 2bpm_lig Selection 'resnum 1299' (len=298) and Chain A from 1fin_PROT_dk (len=298):\n",
      "@> \tMatch: 298 residues match with 100% sequence identity and 100% overlap.\n",
      "@> Alignment is based on 34 atoms matching 'ca resnum 8 9 10 11 12 13 14 15 16 17 18 30 31 32 64 79 80 81 82 83 84 85 86 87 88 89 129 130 131 132 133 143 144 145'.\n",
      "@> Before alignment RMSD: 246.55\n",
      "@> After alignment  RMSD: 0.44\n",
      "@> 18 atoms and 1 coordinate set(s) were parsed in 0.00s.\n"
     ]
    },
    {
     "name": "stdout",
     "output_type": "stream",
     "text": [
      "[1299 1299 1299 1299 1299 1299 1299 1299 1299]\n",
      "318.0\n"
     ]
    },
    {
     "name": "stderr",
     "output_type": "stream",
     "text": [
      "@> 4848 atoms and 1 coordinate set(s) were parsed in 0.06s.\n",
      "@> Checking AtomGroup 2btr_PROT_dk + 2btr_lig Selection 'resnum 300': 1 chains are identified\n",
      "@> Checking AtomGroup 1fin_PROT_dk: 1 chains are identified\n",
      "@> Trying to match chains based on residue numbers and names:\n",
      "@>   Comparing Chain   from 2btr_PROT_dk + 2btr_lig Selection 'resnum 300' (len=298) and Chain A from 1fin_PROT_dk (len=298):\n",
      "@> \tMatch: 298 residues match with 100% sequence identity and 100% overlap.\n",
      "@> Alignment is based on 34 atoms matching 'ca resnum 8 9 10 11 12 13 14 15 16 17 18 30 31 32 64 79 80 81 82 83 84 85 86 87 88 89 129 130 131 132 133 143 144 145'.\n",
      "@> Before alignment RMSD: 247.70\n",
      "@> After alignment  RMSD: 0.93\n",
      "@> 19 atoms and 1 coordinate set(s) were parsed in 0.00s.\n"
     ]
    },
    {
     "name": "stdout",
     "output_type": "stream",
     "text": [
      "[300 300 300 300 300 300 300]\n",
      "246.0\n"
     ]
    },
    {
     "name": "stderr",
     "output_type": "stream",
     "text": [
      "@> 4849 atoms and 1 coordinate set(s) were parsed in 0.06s.\n",
      "@> Checking AtomGroup 2bts_PROT_dk + 2bts_lig Selection 'resnum 1299': 1 chains are identified\n",
      "@> Checking AtomGroup 1fin_PROT_dk: 1 chains are identified\n",
      "@> Trying to match chains based on residue numbers and names:\n",
      "@>   Comparing Chain   from 2bts_PROT_dk + 2bts_lig Selection 'resnum 1299' (len=298) and Chain A from 1fin_PROT_dk (len=298):\n",
      "@> \tMatch: 298 residues match with 100% sequence identity and 100% overlap.\n",
      "@> Alignment is based on 34 atoms matching 'ca resnum 8 9 10 11 12 13 14 15 16 17 18 30 31 32 64 79 80 81 82 83 84 85 86 87 88 89 129 130 131 132 133 143 144 145'.\n",
      "@> Before alignment RMSD: 247.50\n",
      "@> After alignment  RMSD: 1.04\n",
      "@> 25 atoms and 1 coordinate set(s) were parsed in 0.00s.\n"
     ]
    },
    {
     "name": "stdout",
     "output_type": "stream",
     "text": [
      "[1299 1299 1299 1299 1299 1299 1299 1299 1299]\n",
      "282.0\n"
     ]
    },
    {
     "name": "stderr",
     "output_type": "stream",
     "text": [
      "@> 4848 atoms and 1 coordinate set(s) were parsed in 0.09s.\n",
      "@> Checking AtomGroup 2c4g_PROT_dk + 2c4g_lig Selection 'resnum 306': 1 chains are identified\n",
      "@> Checking AtomGroup 1fin_PROT_dk: 1 chains are identified\n",
      "@> Trying to match chains based on residue numbers and names:\n",
      "@>   Comparing Chain   from 2c4g_PROT_dk + 2c4g_lig Selection 'resnum 306' (len=298) and Chain A from 1fin_PROT_dk (len=298):\n",
      "@> \tMatch: 298 residues match with 100% sequence identity and 100% overlap.\n",
      "@> Alignment is based on 34 atoms matching 'ca resnum 8 9 10 11 12 13 14 15 16 17 18 30 31 32 64 79 80 81 82 83 84 85 86 87 88 89 129 130 131 132 133 143 144 145'.\n",
      "@> Before alignment RMSD: 246.56\n",
      "@> After alignment  RMSD: 0.61\n",
      "@> 23 atoms and 1 coordinate set(s) were parsed in 0.00s.\n"
     ]
    },
    {
     "name": "stdout",
     "output_type": "stream",
     "text": [
      "[306 306 306 306 306 306 306 306]\n",
      "256.0\n"
     ]
    },
    {
     "name": "stderr",
     "output_type": "stream",
     "text": [
      "@> 4848 atoms and 1 coordinate set(s) were parsed in 0.05s.\n",
      "@> Checking AtomGroup 2c5n_PROT_dk + 2c5n_lig Selection 'resnum 1297': 1 chains are identified\n",
      "@> Checking AtomGroup 1fin_PROT_dk: 1 chains are identified\n",
      "@> Trying to match chains based on residue numbers and names:\n",
      "@>   Comparing Chain   from 2c5n_PROT_dk + 2c5n_lig Selection 'resnum 1297' (len=298) and Chain A from 1fin_PROT_dk (len=298):\n",
      "@> \tMatch: 298 residues match with 100% sequence identity and 100% overlap.\n",
      "@> Alignment is based on 34 atoms matching 'ca resnum 8 9 10 11 12 13 14 15 16 17 18 30 31 32 64 79 80 81 82 83 84 85 86 87 88 89 129 130 131 132 133 143 144 145'.\n",
      "@> Before alignment RMSD: 246.87\n",
      "@> After alignment  RMSD: 1.04\n"
     ]
    },
    {
     "name": "stdout",
     "output_type": "stream",
     "text": [
      "[1297 1297 1297 1297 1297 1297]\n",
      "306.0\n"
     ]
    },
    {
     "name": "stderr",
     "output_type": "stream",
     "text": [
      "@> 14 atoms and 1 coordinate set(s) were parsed in 0.00s.\n",
      "@> 4848 atoms and 1 coordinate set(s) were parsed in 0.08s.\n",
      "@> Checking AtomGroup 2c5o_PROT_dk + 2c5o_lig Selection 'resnum 1297': 1 chains are identified\n",
      "@> Checking AtomGroup 1fin_PROT_dk: 1 chains are identified\n",
      "@> Trying to match chains based on residue numbers and names:\n",
      "@>   Comparing Chain   from 2c5o_PROT_dk + 2c5o_lig Selection 'resnum 1297' (len=298) and Chain A from 1fin_PROT_dk (len=298):\n",
      "@> \tMatch: 298 residues match with 100% sequence identity and 100% overlap.\n",
      "@> Alignment is based on 34 atoms matching 'ca resnum 8 9 10 11 12 13 14 15 16 17 18 30 31 32 64 79 80 81 82 83 84 85 86 87 88 89 129 130 131 132 133 143 144 145'.\n",
      "@> Before alignment RMSD: 246.87\n",
      "@> After alignment  RMSD: 1.23\n",
      "@> 24 atoms and 1 coordinate set(s) were parsed in 0.00s.\n"
     ]
    },
    {
     "name": "stdout",
     "output_type": "stream",
     "text": [
      "[1297 1297 1297 1297]\n",
      "196.0\n"
     ]
    },
    {
     "name": "stderr",
     "output_type": "stream",
     "text": [
      "@> 4848 atoms and 1 coordinate set(s) were parsed in 0.07s.\n",
      "@> Checking AtomGroup 2c5v_PROT_dk + 2c5v_lig Selection 'resnum 1297': 1 chains are identified\n",
      "@> Checking AtomGroup 1fin_PROT_dk: 1 chains are identified\n",
      "@> Trying to match chains based on residue numbers and names:\n",
      "@>   Comparing Chain   from 2c5v_PROT_dk + 2c5v_lig Selection 'resnum 1297' (len=298) and Chain A from 1fin_PROT_dk (len=298):\n",
      "@> \tMatch: 298 residues match with 100% sequence identity and 100% overlap.\n",
      "@> Alignment is based on 34 atoms matching 'ca resnum 8 9 10 11 12 13 14 15 16 17 18 30 31 32 64 79 80 81 82 83 84 85 86 87 88 89 129 130 131 132 133 143 144 145'.\n",
      "@> Before alignment RMSD: 246.78\n",
      "@> After alignment  RMSD: 1.04\n",
      "@> 28 atoms and 1 coordinate set(s) were parsed in 0.00s.\n"
     ]
    },
    {
     "name": "stdout",
     "output_type": "stream",
     "text": [
      "[1297 1297 1297 1297 1297 1297 1297 1297 1297]\n",
      "280.0\n"
     ]
    },
    {
     "name": "stderr",
     "output_type": "stream",
     "text": [
      "@> 4848 atoms and 1 coordinate set(s) were parsed in 0.08s.\n",
      "@> Checking AtomGroup 2c5x_PROT_dk + 2c5x_lig Selection 'resnum 1297': 1 chains are identified\n",
      "@> Checking AtomGroup 1fin_PROT_dk: 1 chains are identified\n",
      "@> Trying to match chains based on residue numbers and names:\n",
      "@>   Comparing Chain   from 2c5x_PROT_dk + 2c5x_lig Selection 'resnum 1297' (len=298) and Chain A from 1fin_PROT_dk (len=298):\n",
      "@> \tMatch: 298 residues match with 100% sequence identity and 100% overlap.\n",
      "@> Alignment is based on 34 atoms matching 'ca resnum 8 9 10 11 12 13 14 15 16 17 18 30 31 32 64 79 80 81 82 83 84 85 86 87 88 89 129 130 131 132 133 143 144 145'.\n",
      "@> Before alignment RMSD: 246.88\n",
      "@> After alignment  RMSD: 0.93\n",
      "@> 28 atoms and 1 coordinate set(s) were parsed in 0.00s.\n",
      "@> 4848 atoms and 1 coordinate set(s) were parsed in 0.05s.\n"
     ]
    },
    {
     "name": "stdout",
     "output_type": "stream",
     "text": [
      "[1297 1297 1297 1297 1297 1297 1297 1297 1297]\n",
      "358.0\n",
      "[1298 1298 1298 1298 1298 1298 1298 1298 1298 1298 1298]\n",
      "358.0\n"
     ]
    },
    {
     "name": "stderr",
     "output_type": "stream",
     "text": [
      "@> Checking AtomGroup 2c5y_PROT_dk + 2c5y_lig Selection 'resnum 1298': 1 chains are identified\n",
      "@> Checking AtomGroup 1fin_PROT_dk: 1 chains are identified\n",
      "@> Trying to match chains based on residue numbers and names:\n",
      "@>   Comparing Chain   from 2c5y_PROT_dk + 2c5y_lig Selection 'resnum 1298' (len=298) and Chain A from 1fin_PROT_dk (len=298):\n",
      "@> \tMatch: 298 residues match with 100% sequence identity and 100% overlap.\n",
      "@> Alignment is based on 34 atoms matching 'ca resnum 8 9 10 11 12 13 14 15 16 17 18 30 31 32 64 79 80 81 82 83 84 85 86 87 88 89 129 130 131 132 133 143 144 145'.\n",
      "@> Before alignment RMSD: 247.79\n",
      "@> After alignment  RMSD: 1.22\n",
      "@> 24 atoms and 1 coordinate set(s) were parsed in 0.00s.\n",
      "@> 4848 atoms and 1 coordinate set(s) were parsed in 0.07s.\n",
      "@> Checking AtomGroup 2c68_PROT_dk + 2c68_lig Selection 'resnum 1297': 1 chains are identified\n",
      "@> Checking AtomGroup 1fin_PROT_dk: 1 chains are identified\n",
      "@> Trying to match chains based on residue numbers and names:\n",
      "@>   Comparing Chain   from 2c68_PROT_dk + 2c68_lig Selection 'resnum 1297' (len=298) and Chain A from 1fin_PROT_dk (len=298):\n",
      "@> \tMatch: 298 residues match with 100% sequence identity and 100% overlap.\n",
      "@> Alignment is based on 34 atoms matching 'ca resnum 8 9 10 11 12 13 14 15 16 17 18 30 31 32 64 79 80 81 82 83 84 85 86 87 88 89 129 130 131 132 133 143 144 145'.\n",
      "@> Before alignment RMSD: 247.75\n",
      "@> After alignment  RMSD: 1.22\n",
      "@> 24 atoms and 1 coordinate set(s) were parsed in 0.00s.\n"
     ]
    },
    {
     "name": "stdout",
     "output_type": "stream",
     "text": [
      "[1297 1297 1297 1297 1297 1297 1297 1297 1297]\n",
      "286.0\n"
     ]
    },
    {
     "name": "stderr",
     "output_type": "stream",
     "text": [
      "@> 4848 atoms and 1 coordinate set(s) were parsed in 0.05s.\n",
      "@> Checking AtomGroup 2c69_PROT_dk + 2c69_lig Selection 'resnum 1299': 1 chains are identified\n",
      "@> Checking AtomGroup 1fin_PROT_dk: 1 chains are identified\n",
      "@> Trying to match chains based on residue numbers and names:\n",
      "@>   Comparing Chain   from 2c69_PROT_dk + 2c69_lig Selection 'resnum 1299' (len=298) and Chain A from 1fin_PROT_dk (len=298):\n",
      "@> \tMatch: 298 residues match with 100% sequence identity and 100% overlap.\n",
      "@> Alignment is based on 34 atoms matching 'ca resnum 8 9 10 11 12 13 14 15 16 17 18 30 31 32 64 79 80 81 82 83 84 85 86 87 88 89 129 130 131 132 133 143 144 145'.\n",
      "@> Before alignment RMSD: 247.77\n",
      "@> After alignment  RMSD: 1.21\n",
      "@> 28 atoms and 1 coordinate set(s) were parsed in 0.00s.\n"
     ]
    },
    {
     "name": "stdout",
     "output_type": "stream",
     "text": [
      "[1299 1299 1299 1299 1299 1299]\n",
      "288.0\n"
     ]
    },
    {
     "name": "stderr",
     "output_type": "stream",
     "text": [
      "@> 4848 atoms and 1 coordinate set(s) were parsed in 0.08s.\n",
      "@> Checking AtomGroup 2c6i_PROT_dk + 2c6i_lig Selection 'resnum 1299': 1 chains are identified\n",
      "@> Checking AtomGroup 1fin_PROT_dk: 1 chains are identified\n",
      "@> Trying to match chains based on residue numbers and names:\n",
      "@>   Comparing Chain   from 2c6i_PROT_dk + 2c6i_lig Selection 'resnum 1299' (len=298) and Chain A from 1fin_PROT_dk (len=298):\n",
      "@> \tMatch: 298 residues match with 100% sequence identity and 100% overlap.\n",
      "@> Alignment is based on 34 atoms matching 'ca resnum 8 9 10 11 12 13 14 15 16 17 18 30 31 32 64 79 80 81 82 83 84 85 86 87 88 89 129 130 131 132 133 143 144 145'.\n",
      "@> Before alignment RMSD: 247.89\n",
      "@> After alignment  RMSD: 1.15\n",
      "@> 27 atoms and 1 coordinate set(s) were parsed in 0.00s.\n"
     ]
    },
    {
     "name": "stdout",
     "output_type": "stream",
     "text": [
      "[1299 1299 1299 1299 1299 1299 1299 1299 1299 1299 1299 1299 1299]\n",
      "380.0\n"
     ]
    },
    {
     "name": "stderr",
     "output_type": "stream",
     "text": [
      "@> 4848 atoms and 1 coordinate set(s) were parsed in 0.07s.\n",
      "@> Checking AtomGroup 2c6k_PROT_dk + 2c6k_lig Selection 'resnum 1299': 1 chains are identified\n",
      "@> Checking AtomGroup 1fin_PROT_dk: 1 chains are identified\n",
      "@> Trying to match chains based on residue numbers and names:\n",
      "@>   Comparing Chain   from 2c6k_PROT_dk + 2c6k_lig Selection 'resnum 1299' (len=298) and Chain A from 1fin_PROT_dk (len=298):\n",
      "@> \tMatch: 298 residues match with 100% sequence identity and 100% overlap.\n",
      "@> Alignment is based on 34 atoms matching 'ca resnum 8 9 10 11 12 13 14 15 16 17 18 30 31 32 64 79 80 81 82 83 84 85 86 87 88 89 129 130 131 132 133 143 144 145'.\n",
      "@> Before alignment RMSD: 247.80\n",
      "@> After alignment  RMSD: 1.28\n",
      "@> 28 atoms and 1 coordinate set(s) were parsed in 0.00s.\n"
     ]
    },
    {
     "name": "stdout",
     "output_type": "stream",
     "text": [
      "[1299 1299 1299 1299 1299 1299 1299]\n",
      "366.0\n"
     ]
    },
    {
     "name": "stderr",
     "output_type": "stream",
     "text": [
      "@> 4848 atoms and 1 coordinate set(s) were parsed in 0.05s.\n",
      "@> Checking AtomGroup 2c6l_PROT_dk + 2c6l_lig Selection 'resnum 1299': 1 chains are identified\n",
      "@> Checking AtomGroup 1fin_PROT_dk: 1 chains are identified\n",
      "@> Trying to match chains based on residue numbers and names:\n",
      "@>   Comparing Chain   from 2c6l_PROT_dk + 2c6l_lig Selection 'resnum 1299' (len=298) and Chain A from 1fin_PROT_dk (len=298):\n",
      "@> \tMatch: 298 residues match with 100% sequence identity and 100% overlap.\n",
      "@> Alignment is based on 34 atoms matching 'ca resnum 8 9 10 11 12 13 14 15 16 17 18 30 31 32 64 79 80 81 82 83 84 85 86 87 88 89 129 130 131 132 133 143 144 145'.\n",
      "@> Before alignment RMSD: 247.72\n",
      "@> After alignment  RMSD: 1.09\n",
      "@> 27 atoms and 1 coordinate set(s) were parsed in 0.00s.\n"
     ]
    },
    {
     "name": "stdout",
     "output_type": "stream",
     "text": [
      "[1299 1299 1299 1299 1299 1299 1299 1299 1299 1299]\n",
      "380.0\n"
     ]
    },
    {
     "name": "stderr",
     "output_type": "stream",
     "text": [
      "@> 4848 atoms and 1 coordinate set(s) were parsed in 0.05s.\n",
      "@> Checking AtomGroup 2c6m_PROT_dk + 2c6m_lig Selection 'resnum 1297': 1 chains are identified\n",
      "@> Checking AtomGroup 1fin_PROT_dk: 1 chains are identified\n",
      "@> Trying to match chains based on residue numbers and names:\n",
      "@>   Comparing Chain   from 2c6m_PROT_dk + 2c6m_lig Selection 'resnum 1297' (len=298) and Chain A from 1fin_PROT_dk (len=298):\n",
      "@> \tMatch: 298 residues match with 100% sequence identity and 100% overlap.\n",
      "@> Alignment is based on 34 atoms matching 'ca resnum 8 9 10 11 12 13 14 15 16 17 18 30 31 32 64 79 80 81 82 83 84 85 86 87 88 89 129 130 131 132 133 143 144 145'.\n",
      "@> Before alignment RMSD: 247.81\n",
      "@> After alignment  RMSD: 1.24\n",
      "@> 28 atoms and 1 coordinate set(s) were parsed in 0.00s.\n"
     ]
    },
    {
     "name": "stdout",
     "output_type": "stream",
     "text": [
      "[1297 1297 1297 1297 1297 1297 1297 1297 1297 1297 1297]\n",
      "368.0\n"
     ]
    },
    {
     "name": "stderr",
     "output_type": "stream",
     "text": [
      "@> 4848 atoms and 1 coordinate set(s) were parsed in 0.08s.\n",
      "@> Checking AtomGroup 2c6o_PROT_dk + 2c6o_lig Selection 'resnum 1297': 1 chains are identified\n",
      "@> Checking AtomGroup 1fin_PROT_dk: 1 chains are identified\n",
      "@> Trying to match chains based on residue numbers and names:\n",
      "@>   Comparing Chain   from 2c6o_PROT_dk + 2c6o_lig Selection 'resnum 1297' (len=298) and Chain A from 1fin_PROT_dk (len=298):\n",
      "@> \tMatch: 298 residues match with 100% sequence identity and 100% overlap.\n",
      "@> Alignment is based on 34 atoms matching 'ca resnum 8 9 10 11 12 13 14 15 16 17 18 30 31 32 64 79 80 81 82 83 84 85 86 87 88 89 129 130 131 132 133 143 144 145'.\n",
      "@> Before alignment RMSD: 247.92\n",
      "@> After alignment  RMSD: 1.20\n",
      "@> 27 atoms and 1 coordinate set(s) were parsed in 0.00s.\n"
     ]
    },
    {
     "name": "stdout",
     "output_type": "stream",
     "text": [
      "[1297 1297 1297 1297 1297 1297 1297 1297 1297 1297 1297 1297 1297]\n",
      "380.0\n"
     ]
    },
    {
     "name": "stderr",
     "output_type": "stream",
     "text": [
      "@> 4848 atoms and 1 coordinate set(s) were parsed in 0.08s.\n",
      "@> Checking AtomGroup 2c6t_PROT_dk + 2c6t_lig Selection 'resnum 1297': 1 chains are identified\n",
      "@> Checking AtomGroup 1fin_PROT_dk: 1 chains are identified\n",
      "@> Trying to match chains based on residue numbers and names:\n",
      "@>   Comparing Chain   from 2c6t_PROT_dk + 2c6t_lig Selection 'resnum 1297' (len=298) and Chain A from 1fin_PROT_dk (len=298):\n",
      "@> \tMatch: 298 residues match with 100% sequence identity and 100% overlap.\n",
      "@> Alignment is based on 34 atoms matching 'ca resnum 8 9 10 11 12 13 14 15 16 17 18 30 31 32 64 79 80 81 82 83 84 85 86 87 88 89 129 130 131 132 133 143 144 145'.\n",
      "@> Before alignment RMSD: 247.27\n",
      "@> After alignment  RMSD: 1.30\n",
      "@> 48 atoms and 1 coordinate set(s) were parsed in 0.00s.\n",
      "@> 4848 atoms and 1 coordinate set(s) were parsed in 0.05s.\n"
     ]
    },
    {
     "name": "stdout",
     "output_type": "stream",
     "text": [
      "[1297 1297 1297 1297 1297 1297 1297 1297 1297 1297]\n",
      "368.0\n",
      "[1297 1297 1297 1297 1297 1297 1297 1297 1297 1297 1297 1297]\n",
      "398.0\n"
     ]
    },
    {
     "name": "stderr",
     "output_type": "stream",
     "text": [
      "@> Checking AtomGroup 2cch_PROT_dk + 2cch_lig Selection 'resnum 1297': 1 chains are identified\n",
      "@> Checking AtomGroup 1fin_PROT_dk: 1 chains are identified\n",
      "@> Trying to match chains based on residue numbers and names:\n",
      "@>   Comparing Chain   from 2cch_PROT_dk + 2cch_lig Selection 'resnum 1297' (len=298) and Chain A from 1fin_PROT_dk (len=298):\n",
      "@> \tMatch: 298 residues match with 100% sequence identity and 100% overlap.\n",
      "@> Alignment is based on 34 atoms matching 'ca resnum 8 9 10 11 12 13 14 15 16 17 18 30 31 32 64 79 80 81 82 83 84 85 86 87 88 89 129 130 131 132 133 143 144 145'.\n",
      "@> Before alignment RMSD: 246.64\n",
      "@> After alignment  RMSD: 0.71\n",
      "@> 32 atoms and 1 coordinate set(s) were parsed in 0.00s.\n",
      "@> 4848 atoms and 1 coordinate set(s) were parsed in 0.05s.\n",
      "@> Checking AtomGroup 2cci_PROT_dk + 2cci_lig Selection 'resnum 1297': 1 chains are identified\n",
      "@> Checking AtomGroup 1fin_PROT_dk: 1 chains are identified\n",
      "@> Trying to match chains based on residue numbers and names:\n",
      "@>   Comparing Chain   from 2cci_PROT_dk + 2cci_lig Selection 'resnum 1297' (len=298) and Chain A from 1fin_PROT_dk (len=298):\n",
      "@> \tMatch: 298 residues match with 100% sequence identity and 100% overlap.\n",
      "@> Alignment is based on 34 atoms matching 'ca resnum 8 9 10 11 12 13 14 15 16 17 18 30 31 32 64 79 80 81 82 83 84 85 86 87 88 89 129 130 131 132 133 143 144 145'.\n",
      "@> Before alignment RMSD: 246.70\n",
      "@> After alignment  RMSD: 0.72\n",
      "@> 32 atoms and 1 coordinate set(s) were parsed in 0.00s.\n"
     ]
    },
    {
     "name": "stdout",
     "output_type": "stream",
     "text": [
      "[1297 1297 1297 1297 1297 1297 1297 1297 1297 1298]\n",
      "398.0\n",
      "0.0\n"
     ]
    },
    {
     "name": "stderr",
     "output_type": "stream",
     "text": [
      "@> 4848 atoms and 1 coordinate set(s) were parsed in 0.08s.\n",
      "@> Checking AtomGroup 2cjm_PROT_dk + 2cjm_lig Selection 'resnum 1294': 1 chains are identified\n",
      "@> Checking AtomGroup 1fin_PROT_dk: 1 chains are identified\n",
      "@> Trying to match chains based on residue numbers and names:\n",
      "@>   Comparing Chain   from 2cjm_PROT_dk + 2cjm_lig Selection 'resnum 1294' (len=298) and Chain A from 1fin_PROT_dk (len=298):\n",
      "@> \tMatch: 298 residues match with 100% sequence identity and 100% overlap.\n",
      "@> Alignment is based on 34 atoms matching 'ca resnum 8 9 10 11 12 13 14 15 16 17 18 30 31 32 64 79 80 81 82 83 84 85 86 87 88 89 129 130 131 132 133 143 144 145'.\n",
      "@> Before alignment RMSD: 246.57\n",
      "@> After alignment  RMSD: 0.47\n",
      "@> 16 atoms and 1 coordinate set(s) were parsed in 0.00s.\n",
      "@> 4848 atoms and 1 coordinate set(s) were parsed in 0.05s.\n"
     ]
    },
    {
     "name": "stdout",
     "output_type": "stream",
     "text": [
      "[1294 1294 1294 1294 1294 1294 1294 1294 1294 1294 1294 1294 1294 1294\n",
      " 1294 1294 1294 1294]\n",
      "398.0\n",
      "[1299 1299 1299 1299 1299 1299 1299 1299]\n",
      "208.0\n"
     ]
    },
    {
     "name": "stderr",
     "output_type": "stream",
     "text": [
      "@> Checking AtomGroup 2clx_PROT_dk + 2clx_lig Selection 'resnum 1299': 1 chains are identified\n",
      "@> Checking AtomGroup 1fin_PROT_dk: 1 chains are identified\n",
      "@> Trying to match chains based on residue numbers and names:\n",
      "@>   Comparing Chain   from 2clx_PROT_dk + 2clx_lig Selection 'resnum 1299' (len=298) and Chain A from 1fin_PROT_dk (len=298):\n",
      "@> \tMatch: 298 residues match with 100% sequence identity and 100% overlap.\n",
      "@> Alignment is based on 34 atoms matching 'ca resnum 8 9 10 11 12 13 14 15 16 17 18 30 31 32 64 79 80 81 82 83 84 85 86 87 88 89 129 130 131 132 133 143 144 145'.\n",
      "@> Before alignment RMSD: 247.83\n",
      "@> After alignment  RMSD: 1.24\n",
      "@> 30 atoms and 1 coordinate set(s) were parsed in 0.00s.\n",
      "@> 4848 atoms and 1 coordinate set(s) were parsed in 0.05s.\n",
      "@> Checking AtomGroup 2ds1_PROT_dk + 2ds1_lig Selection 'resnum 501': 1 chains are identified\n",
      "@> Checking AtomGroup 1fin_PROT_dk: 1 chains are identified\n",
      "@> Trying to match chains based on residue numbers and names:\n",
      "@>   Comparing Chain   from 2ds1_PROT_dk + 2ds1_lig Selection 'resnum 501' (len=298) and Chain A from 1fin_PROT_dk (len=298):\n",
      "@> \tMatch: 298 residues match with 100% sequence identity and 100% overlap.\n",
      "@> Alignment is based on 34 atoms matching 'ca resnum 8 9 10 11 12 13 14 15 16 17 18 30 31 32 64 79 80 81 82 83 84 85 86 87 88 89 129 130 131 132 133 143 144 145'.\n",
      "@> Before alignment RMSD: 247.64\n",
      "@> After alignment  RMSD: 1.20\n",
      "@> 28 atoms and 1 coordinate set(s) were parsed in 0.00s.\n"
     ]
    },
    {
     "name": "stdout",
     "output_type": "stream",
     "text": [
      "[501 501 501 501 501 501 501 501 501]\n",
      "382.0\n"
     ]
    },
    {
     "name": "stderr",
     "output_type": "stream",
     "text": [
      "@> 4848 atoms and 1 coordinate set(s) were parsed in 0.08s.\n",
      "@> Checking AtomGroup 2duv_PROT_dk + 2duv_lig Selection 'resnum 501': 1 chains are identified\n",
      "@> Checking AtomGroup 1fin_PROT_dk: 1 chains are identified\n",
      "@> Trying to match chains based on residue numbers and names:\n",
      "@>   Comparing Chain   from 2duv_PROT_dk + 2duv_lig Selection 'resnum 501' (len=298) and Chain A from 1fin_PROT_dk (len=298):\n",
      "@> \tMatch: 298 residues match with 100% sequence identity and 100% overlap.\n",
      "@> Alignment is based on 34 atoms matching 'ca resnum 8 9 10 11 12 13 14 15 16 17 18 30 31 32 64 79 80 81 82 83 84 85 86 87 88 89 129 130 131 132 133 143 144 145'.\n",
      "@> Before alignment RMSD: 247.64\n",
      "@> After alignment  RMSD: 1.27\n",
      "@> 15 atoms and 1 coordinate set(s) were parsed in 0.00s.\n"
     ]
    },
    {
     "name": "stdout",
     "output_type": "stream",
     "text": [
      "[501 501 501 501 501 501 501 501 501 501]\n",
      "386.0\n"
     ]
    },
    {
     "name": "stderr",
     "output_type": "stream",
     "text": [
      "@> 4848 atoms and 1 coordinate set(s) were parsed in 0.08s.\n",
      "@> Checking AtomGroup 2exm_PROT_dk + 2exm_lig Selection 'resnum 400': 1 chains are identified\n",
      "@> Checking AtomGroup 1fin_PROT_dk: 1 chains are identified\n",
      "@> Trying to match chains based on residue numbers and names:\n",
      "@>   Comparing Chain   from 2exm_PROT_dk + 2exm_lig Selection 'resnum 400' (len=298) and Chain A from 1fin_PROT_dk (len=298):\n",
      "@> \tMatch: 298 residues match with 100% sequence identity and 100% overlap.\n",
      "@> Alignment is based on 34 atoms matching 'ca resnum 8 9 10 11 12 13 14 15 16 17 18 30 31 32 64 79 80 81 82 83 84 85 86 87 88 89 129 130 131 132 133 143 144 145'.\n",
      "@> Before alignment RMSD: 247.58\n",
      "@> After alignment  RMSD: 1.22\n",
      "@> 30 atoms and 1 coordinate set(s) were parsed in 0.00s.\n"
     ]
    },
    {
     "name": "stdout",
     "output_type": "stream",
     "text": [
      "[400 400 400 400 400 400]\n",
      "190.0\n"
     ]
    },
    {
     "name": "stderr",
     "output_type": "stream",
     "text": [
      "@> 4848 atoms and 1 coordinate set(s) were parsed in 0.06s.\n",
      "@> Checking AtomGroup 2fvd_PROT_dk + 2fvd_lig Selection 'resnum 299': 1 chains are identified\n",
      "@> Checking AtomGroup 1fin_PROT_dk: 1 chains are identified\n",
      "@> Trying to match chains based on residue numbers and names:\n",
      "@>   Comparing Chain   from 2fvd_PROT_dk + 2fvd_lig Selection 'resnum 299' (len=298) and Chain A from 1fin_PROT_dk (len=298):\n",
      "@> \tMatch: 298 residues match with 100% sequence identity and 100% overlap.\n",
      "@> Alignment is based on 34 atoms matching 'ca resnum 8 9 10 11 12 13 14 15 16 17 18 30 31 32 64 79 80 81 82 83 84 85 86 87 88 89 129 130 131 132 133 143 144 145'.\n",
      "@> Before alignment RMSD: 247.61\n",
      "@> After alignment  RMSD: 0.63\n",
      "@> 34 atoms and 1 coordinate set(s) were parsed in 0.00s.\n"
     ]
    },
    {
     "name": "stdout",
     "output_type": "stream",
     "text": [
      "[299 299 299 299 299 299 299 299 299 299 299 299]\n",
      "382.0\n"
     ]
    },
    {
     "name": "stderr",
     "output_type": "stream",
     "text": [
      "@> 4848 atoms and 1 coordinate set(s) were parsed in 0.06s.\n",
      "@> Checking AtomGroup 2g9x_PROT_dk + 2g9x_lig Selection 'resnum 299': 1 chains are identified\n",
      "@> Checking AtomGroup 1fin_PROT_dk: 1 chains are identified\n",
      "@> Trying to match chains based on residue numbers and names:\n",
      "@>   Comparing Chain   from 2g9x_PROT_dk + 2g9x_lig Selection 'resnum 299' (len=298) and Chain A from 1fin_PROT_dk (len=298):\n",
      "@> \tMatch: 298 residues match with 100% sequence identity and 100% overlap.\n",
      "@> Alignment is based on 34 atoms matching 'ca resnum 8 9 10 11 12 13 14 15 16 17 18 30 31 32 64 79 80 81 82 83 84 85 86 87 88 89 129 130 131 132 133 143 144 145'.\n",
      "@> Before alignment RMSD: 247.01\n",
      "@> After alignment  RMSD: 1.20\n",
      "@> 31 atoms and 1 coordinate set(s) were parsed in 0.00s.\n"
     ]
    },
    {
     "name": "stdout",
     "output_type": "stream",
     "text": [
      "[299 299 299 299 299 299 299 299 299 299 299 299 299]\n",
      "456.0\n"
     ]
    },
    {
     "name": "stderr",
     "output_type": "stream",
     "text": [
      "@> 4848 atoms and 1 coordinate set(s) were parsed in 0.05s.\n",
      "@> Checking AtomGroup 2i40_PROT_dk + 2i40_lig Selection 'resnum 301': 1 chains are identified\n",
      "@> Checking AtomGroup 1fin_PROT_dk: 1 chains are identified\n",
      "@> Trying to match chains based on residue numbers and names:\n",
      "@>   Comparing Chain   from 2i40_PROT_dk + 2i40_lig Selection 'resnum 301' (len=298) and Chain A from 1fin_PROT_dk (len=298):\n",
      "@> \tMatch: 298 residues match with 100% sequence identity and 100% overlap.\n",
      "@> Alignment is based on 34 atoms matching 'ca resnum 8 9 10 11 12 13 14 15 16 17 18 30 31 32 64 79 80 81 82 83 84 85 86 87 88 89 129 130 131 132 133 143 144 145'.\n",
      "@> Before alignment RMSD: 246.67\n",
      "@> After alignment  RMSD: 0.55\n",
      "@> 33 atoms and 1 coordinate set(s) were parsed in 0.00s.\n"
     ]
    },
    {
     "name": "stdout",
     "output_type": "stream",
     "text": [
      "[301 301 301 301 301 301 301 301 301 301 301 301]\n",
      "402.0\n"
     ]
    },
    {
     "name": "stderr",
     "output_type": "stream",
     "text": [
      "@> 4848 atoms and 1 coordinate set(s) were parsed in 0.09s.\n",
      "@> Checking AtomGroup 2iw6_PROT_dk + 2iw6_lig Selection 'resnum 1296': 1 chains are identified\n",
      "@> Checking AtomGroup 1fin_PROT_dk: 1 chains are identified\n",
      "@> Trying to match chains based on residue numbers and names:\n",
      "@>   Comparing Chain   from 2iw6_PROT_dk + 2iw6_lig Selection 'resnum 1296' (len=298) and Chain A from 1fin_PROT_dk (len=298):\n",
      "@> \tMatch: 298 residues match with 100% sequence identity and 100% overlap.\n",
      "@> Alignment is based on 34 atoms matching 'ca resnum 8 9 10 11 12 13 14 15 16 17 18 30 31 32 64 79 80 81 82 83 84 85 86 87 88 89 129 130 131 132 133 143 144 145'.\n",
      "@> Before alignment RMSD: 247.02\n",
      "@> After alignment  RMSD: 1.20\n",
      "@> 28 atoms and 1 coordinate set(s) were parsed in 0.00s.\n"
     ]
    },
    {
     "name": "stdout",
     "output_type": "stream",
     "text": [
      "[1296 1296 1296 1296 1296 1296 1296 1296 1296]\n",
      "404.0\n"
     ]
    },
    {
     "name": "stderr",
     "output_type": "stream",
     "text": [
      "@> 4848 atoms and 1 coordinate set(s) were parsed in 0.05s.\n",
      "@> Checking AtomGroup 2iw8_PROT_dk + 2iw8_lig Selection 'resnum 1298': 1 chains are identified\n",
      "@> Checking AtomGroup 1fin_PROT_dk: 1 chains are identified\n",
      "@> Trying to match chains based on residue numbers and names:\n",
      "@>   Comparing Chain   from 2iw8_PROT_dk + 2iw8_lig Selection 'resnum 1298' (len=298) and Chain A from 1fin_PROT_dk (len=298):\n",
      "@> \tMatch: 298 residues match with 100% sequence identity and 100% overlap.\n",
      "@> Alignment is based on 34 atoms matching 'ca resnum 8 9 10 11 12 13 14 15 16 17 18 30 31 32 64 79 80 81 82 83 84 85 86 87 88 89 129 130 131 132 133 143 144 145'.\n",
      "@> Before alignment RMSD: 247.12\n",
      "@> After alignment  RMSD: 1.25\n",
      "@> 28 atoms and 1 coordinate set(s) were parsed in 0.00s.\n"
     ]
    },
    {
     "name": "stdout",
     "output_type": "stream",
     "text": [
      "[1298 1298 1298 1298 1298 1298 1298 1298 1298 1298]\n",
      "380.0\n"
     ]
    },
    {
     "name": "stderr",
     "output_type": "stream",
     "text": [
      "@> 4848 atoms and 1 coordinate set(s) were parsed in 0.05s.\n",
      "@> Checking AtomGroup 2iw9_PROT_dk + 2iw9_lig Selection 'resnum 1298': 1 chains are identified\n",
      "@> Checking AtomGroup 1fin_PROT_dk: 1 chains are identified\n",
      "@> Trying to match chains based on residue numbers and names:\n",
      "@>   Comparing Chain   from 2iw9_PROT_dk + 2iw9_lig Selection 'resnum 1298' (len=298) and Chain A from 1fin_PROT_dk (len=298):\n",
      "@> \tMatch: 298 residues match with 100% sequence identity and 100% overlap.\n",
      "@> Alignment is based on 34 atoms matching 'ca resnum 8 9 10 11 12 13 14 15 16 17 18 30 31 32 64 79 80 81 82 83 84 85 86 87 88 89 129 130 131 132 133 143 144 145'.\n",
      "@> Before alignment RMSD: 247.10\n",
      "@> After alignment  RMSD: 1.28\n"
     ]
    },
    {
     "name": "stdout",
     "output_type": "stream",
     "text": [
      "[1298 1298 1298 1298 1298 1298 1298 1298 1298 1298 1298 1298 1298]\n",
      "380.0\n"
     ]
    },
    {
     "name": "stderr",
     "output_type": "stream",
     "text": [
      "@> 22 atoms and 1 coordinate set(s) were parsed in 0.00s.\n",
      "@> 4848 atoms and 1 coordinate set(s) were parsed in 0.06s.\n",
      "@> Checking AtomGroup 2j9m_PROT_dk + 2j9m_lig Selection 'resnum 299': 1 chains are identified\n",
      "@> Checking AtomGroup 1fin_PROT_dk: 1 chains are identified\n",
      "@> Trying to match chains based on residue numbers and names:\n",
      "@>   Comparing Chain   from 2j9m_PROT_dk + 2j9m_lig Selection 'resnum 299' (len=298) and Chain A from 1fin_PROT_dk (len=298):\n",
      "@> \tMatch: 298 residues match with 100% sequence identity and 100% overlap.\n",
      "@> Alignment is based on 34 atoms matching 'ca resnum 8 9 10 11 12 13 14 15 16 17 18 30 31 32 64 79 80 81 82 83 84 85 86 87 88 89 129 130 131 132 133 143 144 145'.\n",
      "@> Before alignment RMSD: 247.81\n",
      "@> After alignment  RMSD: 1.12\n",
      "@> 29 atoms and 1 coordinate set(s) were parsed in 0.00s.\n"
     ]
    },
    {
     "name": "stdout",
     "output_type": "stream",
     "text": [
      "[299 299 299 299 299 299 299 299 299]\n",
      "290.0\n",
      "../PDB_CDK2_ligands_chainA/2jgz_lig.pdb is not a valid filename or a valid PDB identifier. La proteina 2jgz NO TIENE LIGANDO.\n"
     ]
    },
    {
     "name": "stderr",
     "output_type": "stream",
     "text": [
      "@> 4848 atoms and 1 coordinate set(s) were parsed in 0.05s.\n",
      "@> Checking AtomGroup 2r3f_PROT_dk + 2r3f_lig Selection 'resnum 501': 1 chains are identified\n",
      "@> Checking AtomGroup 1fin_PROT_dk: 1 chains are identified\n",
      "@> Trying to match chains based on residue numbers and names:\n",
      "@>   Comparing Chain   from 2r3f_PROT_dk + 2r3f_lig Selection 'resnum 501' (len=298) and Chain A from 1fin_PROT_dk (len=298):\n",
      "@> \tMatch: 298 residues match with 100% sequence identity and 100% overlap.\n",
      "@> Alignment is based on 34 atoms matching 'ca resnum 8 9 10 11 12 13 14 15 16 17 18 30 31 32 64 79 80 81 82 83 84 85 86 87 88 89 129 130 131 132 133 143 144 145'.\n",
      "@> Before alignment RMSD: 247.75\n",
      "@> After alignment  RMSD: 1.15\n",
      "@> 30 atoms and 1 coordinate set(s) were parsed in 0.00s.\n"
     ]
    },
    {
     "name": "stdout",
     "output_type": "stream",
     "text": [
      "[ 36 501 501 501 501 501 501 501 501 501]\n",
      "14.0\n",
      "286.0\n"
     ]
    },
    {
     "name": "stderr",
     "output_type": "stream",
     "text": [
      "@> 4848 atoms and 1 coordinate set(s) were parsed in 0.10s.\n",
      "@> Checking AtomGroup 2r3g_PROT_dk + 2r3g_lig Selection 'resnum 501': 1 chains are identified\n",
      "@> Checking AtomGroup 1fin_PROT_dk: 1 chains are identified\n",
      "@> Trying to match chains based on residue numbers and names:\n",
      "@>   Comparing Chain   from 2r3g_PROT_dk + 2r3g_lig Selection 'resnum 501' (len=298) and Chain A from 1fin_PROT_dk (len=298):\n",
      "@> \tMatch: 298 residues match with 100% sequence identity and 100% overlap.\n",
      "@> Alignment is based on 34 atoms matching 'ca resnum 8 9 10 11 12 13 14 15 16 17 18 30 31 32 64 79 80 81 82 83 84 85 86 87 88 89 129 130 131 132 133 143 144 145'.\n",
      "@> Before alignment RMSD: 247.73\n",
      "@> After alignment  RMSD: 1.21\n",
      "@> 24 atoms and 1 coordinate set(s) were parsed in 0.00s.\n"
     ]
    },
    {
     "name": "stdout",
     "output_type": "stream",
     "text": [
      "[501 501 501 501 501 501 501 501 501]\n",
      "286.0\n"
     ]
    },
    {
     "name": "stderr",
     "output_type": "stream",
     "text": [
      "@> 4848 atoms and 1 coordinate set(s) were parsed in 0.05s.\n",
      "@> Checking AtomGroup 2r3h_PROT_dk + 2r3h_lig Selection 'resnum 501': 1 chains are identified\n",
      "@> Checking AtomGroup 1fin_PROT_dk: 1 chains are identified\n",
      "@> Trying to match chains based on residue numbers and names:\n",
      "@>   Comparing Chain   from 2r3h_PROT_dk + 2r3h_lig Selection 'resnum 501' (len=298) and Chain A from 1fin_PROT_dk (len=298):\n",
      "@> \tMatch: 298 residues match with 100% sequence identity and 100% overlap.\n",
      "@> Alignment is based on 34 atoms matching 'ca resnum 8 9 10 11 12 13 14 15 16 17 18 30 31 32 64 79 80 81 82 83 84 85 86 87 88 89 129 130 131 132 133 143 144 145'.\n",
      "@> Before alignment RMSD: 247.79\n",
      "@> After alignment  RMSD: 1.23\n",
      "@> 36 atoms and 1 coordinate set(s) were parsed in 0.00s.\n"
     ]
    },
    {
     "name": "stdout",
     "output_type": "stream",
     "text": [
      "[ 36 501 501 501 501 501 501 501 501]\n",
      "14.0\n",
      "226.0\n"
     ]
    },
    {
     "name": "stderr",
     "output_type": "stream",
     "text": [
      "@> 4848 atoms and 1 coordinate set(s) were parsed in 0.07s.\n",
      "@> Checking AtomGroup 2r3i_PROT_dk + 2r3i_lig Selection 'resnum 501': 1 chains are identified\n",
      "@> Checking AtomGroup 1fin_PROT_dk: 1 chains are identified\n",
      "@> Trying to match chains based on residue numbers and names:\n",
      "@>   Comparing Chain   from 2r3i_PROT_dk + 2r3i_lig Selection 'resnum 501' (len=298) and Chain A from 1fin_PROT_dk (len=298):\n",
      "@> \tMatch: 298 residues match with 100% sequence identity and 100% overlap.\n",
      "@> Alignment is based on 34 atoms matching 'ca resnum 8 9 10 11 12 13 14 15 16 17 18 30 31 32 64 79 80 81 82 83 84 85 86 87 88 89 129 130 131 132 133 143 144 145'.\n",
      "@> Before alignment RMSD: 247.83\n",
      "@> After alignment  RMSD: 1.28\n",
      "@> 39 atoms and 1 coordinate set(s) were parsed in 0.00s.\n"
     ]
    },
    {
     "name": "stdout",
     "output_type": "stream",
     "text": [
      "[ 36 501 501 501 501 501 501 501 501]\n",
      "14.0\n",
      "286.0\n"
     ]
    },
    {
     "name": "stderr",
     "output_type": "stream",
     "text": [
      "@> 4848 atoms and 1 coordinate set(s) were parsed in 0.08s.\n",
      "@> Checking AtomGroup 2r3j_PROT_dk + 2r3j_lig Selection 'resnum 501': 1 chains are identified\n",
      "@> Checking AtomGroup 1fin_PROT_dk: 1 chains are identified\n",
      "@> Trying to match chains based on residue numbers and names:\n",
      "@>   Comparing Chain   from 2r3j_PROT_dk + 2r3j_lig Selection 'resnum 501' (len=298) and Chain A from 1fin_PROT_dk (len=298):\n",
      "@> \tMatch: 298 residues match with 100% sequence identity and 100% overlap.\n",
      "@> Alignment is based on 34 atoms matching 'ca resnum 8 9 10 11 12 13 14 15 16 17 18 30 31 32 64 79 80 81 82 83 84 85 86 87 88 89 129 130 131 132 133 143 144 145'.\n",
      "@> Before alignment RMSD: 247.83\n",
      "@> After alignment  RMSD: 1.26\n",
      "@> 39 atoms and 1 coordinate set(s) were parsed in 0.00s.\n"
     ]
    },
    {
     "name": "stdout",
     "output_type": "stream",
     "text": [
      "[ 36 501 501 501 501 501 501 501]\n",
      "14.0\n",
      "286.0\n"
     ]
    },
    {
     "name": "stderr",
     "output_type": "stream",
     "text": [
      "@> 4848 atoms and 1 coordinate set(s) were parsed in 0.06s.\n",
      "@> Checking AtomGroup 2r3k_PROT_dk + 2r3k_lig Selection 'resnum 501': 1 chains are identified\n",
      "@> Checking AtomGroup 1fin_PROT_dk: 1 chains are identified\n",
      "@> Trying to match chains based on residue numbers and names:\n",
      "@>   Comparing Chain   from 2r3k_PROT_dk + 2r3k_lig Selection 'resnum 501' (len=298) and Chain A from 1fin_PROT_dk (len=298):\n",
      "@> \tMatch: 298 residues match with 100% sequence identity and 100% overlap.\n",
      "@> Alignment is based on 34 atoms matching 'ca resnum 8 9 10 11 12 13 14 15 16 17 18 30 31 32 64 79 80 81 82 83 84 85 86 87 88 89 129 130 131 132 133 143 144 145'.\n",
      "@> Before alignment RMSD: 247.78\n",
      "@> After alignment  RMSD: 1.20\n",
      "@> 38 atoms and 1 coordinate set(s) were parsed in 0.00s.\n"
     ]
    },
    {
     "name": "stdout",
     "output_type": "stream",
     "text": [
      "[501 501 501 501 501 501 501 501]\n",
      "286.0\n"
     ]
    },
    {
     "name": "stderr",
     "output_type": "stream",
     "text": [
      "@> 4848 atoms and 1 coordinate set(s) were parsed in 0.05s.\n",
      "@> Checking AtomGroup 2r3l_PROT_dk + 2r3l_lig Selection 'resnum 501': 1 chains are identified\n",
      "@> Checking AtomGroup 1fin_PROT_dk: 1 chains are identified\n",
      "@> Trying to match chains based on residue numbers and names:\n",
      "@>   Comparing Chain   from 2r3l_PROT_dk + 2r3l_lig Selection 'resnum 501' (len=298) and Chain A from 1fin_PROT_dk (len=298):\n",
      "@> \tMatch: 298 residues match with 100% sequence identity and 100% overlap.\n",
      "@> Alignment is based on 34 atoms matching 'ca resnum 8 9 10 11 12 13 14 15 16 17 18 30 31 32 64 79 80 81 82 83 84 85 86 87 88 89 129 130 131 132 133 143 144 145'.\n",
      "@> Before alignment RMSD: 247.80\n",
      "@> After alignment  RMSD: 1.18\n",
      "@> 43 atoms and 1 coordinate set(s) were parsed in 0.00s.\n"
     ]
    },
    {
     "name": "stdout",
     "output_type": "stream",
     "text": [
      "[501 501 501 501 501 501]\n",
      "286.0\n"
     ]
    },
    {
     "name": "stderr",
     "output_type": "stream",
     "text": [
      "@> 4848 atoms and 1 coordinate set(s) were parsed in 0.08s.\n",
      "@> Checking AtomGroup 2r3m_PROT_dk + 2r3m_lig Selection 'resnum 501': 1 chains are identified\n",
      "@> Checking AtomGroup 1fin_PROT_dk: 1 chains are identified\n",
      "@> Trying to match chains based on residue numbers and names:\n",
      "@>   Comparing Chain   from 2r3m_PROT_dk + 2r3m_lig Selection 'resnum 501' (len=298) and Chain A from 1fin_PROT_dk (len=298):\n",
      "@> \tMatch: 298 residues match with 100% sequence identity and 100% overlap.\n",
      "@> Alignment is based on 34 atoms matching 'ca resnum 8 9 10 11 12 13 14 15 16 17 18 30 31 32 64 79 80 81 82 83 84 85 86 87 88 89 129 130 131 132 133 143 144 145'.\n",
      "@> Before alignment RMSD: 247.74\n",
      "@> After alignment  RMSD: 1.19\n",
      "@> 39 atoms and 1 coordinate set(s) were parsed in 0.00s.\n"
     ]
    },
    {
     "name": "stdout",
     "output_type": "stream",
     "text": [
      "[ 36 501 501 501 501 501 501 501 501 501 501 501 501 501]\n",
      "14.0\n",
      "326.0\n"
     ]
    },
    {
     "name": "stderr",
     "output_type": "stream",
     "text": [
      "@> 4848 atoms and 1 coordinate set(s) were parsed in 0.08s.\n",
      "@> Checking AtomGroup 2r3n_PROT_dk + 2r3n_lig Selection 'resnum 501': 1 chains are identified\n",
      "@> Checking AtomGroup 1fin_PROT_dk: 1 chains are identified\n",
      "@> Trying to match chains based on residue numbers and names:\n",
      "@>   Comparing Chain   from 2r3n_PROT_dk + 2r3n_lig Selection 'resnum 501' (len=298) and Chain A from 1fin_PROT_dk (len=298):\n",
      "@> \tMatch: 298 residues match with 100% sequence identity and 100% overlap.\n",
      "@> Alignment is based on 34 atoms matching 'ca resnum 8 9 10 11 12 13 14 15 16 17 18 30 31 32 64 79 80 81 82 83 84 85 86 87 88 89 129 130 131 132 133 143 144 145'.\n",
      "@> Before alignment RMSD: 247.91\n",
      "@> After alignment  RMSD: 1.42\n",
      "@> 37 atoms and 1 coordinate set(s) were parsed in 0.00s.\n"
     ]
    },
    {
     "name": "stdout",
     "output_type": "stream",
     "text": [
      "[501 501 501 501 501 501 501 501 501 501 501 501 501 501]\n",
      "322.0\n"
     ]
    },
    {
     "name": "stderr",
     "output_type": "stream",
     "text": [
      "@> 4848 atoms and 1 coordinate set(s) were parsed in 0.08s.\n",
      "@> Checking AtomGroup 2r3o_PROT_dk + 2r3o_lig Selection 'resnum 501': 1 chains are identified\n",
      "@> Checking AtomGroup 1fin_PROT_dk: 1 chains are identified\n",
      "@> Trying to match chains based on residue numbers and names:\n",
      "@>   Comparing Chain   from 2r3o_PROT_dk + 2r3o_lig Selection 'resnum 501' (len=298) and Chain A from 1fin_PROT_dk (len=298):\n",
      "@> \tMatch: 298 residues match with 100% sequence identity and 100% overlap.\n",
      "@> Alignment is based on 34 atoms matching 'ca resnum 8 9 10 11 12 13 14 15 16 17 18 30 31 32 64 79 80 81 82 83 84 85 86 87 88 89 129 130 131 132 133 143 144 145'.\n",
      "@> Before alignment RMSD: 247.87\n",
      "@> After alignment  RMSD: 1.31\n",
      "@> 40 atoms and 1 coordinate set(s) were parsed in 0.00s.\n"
     ]
    },
    {
     "name": "stdout",
     "output_type": "stream",
     "text": [
      "[501 501 501 501 501 501 501 501 501 501 501 501 501 501 501]\n",
      "314.0\n"
     ]
    },
    {
     "name": "stderr",
     "output_type": "stream",
     "text": [
      "@> 4848 atoms and 1 coordinate set(s) were parsed in 0.08s.\n",
      "@> Checking AtomGroup 2r3p_PROT_dk + 2r3p_lig Selection 'resnum 501': 1 chains are identified\n",
      "@> Checking AtomGroup 1fin_PROT_dk: 1 chains are identified\n",
      "@> Trying to match chains based on residue numbers and names:\n",
      "@>   Comparing Chain   from 2r3p_PROT_dk + 2r3p_lig Selection 'resnum 501' (len=298) and Chain A from 1fin_PROT_dk (len=298):\n",
      "@> \tMatch: 298 residues match with 100% sequence identity and 100% overlap.\n",
      "@> Alignment is based on 34 atoms matching 'ca resnum 8 9 10 11 12 13 14 15 16 17 18 30 31 32 64 79 80 81 82 83 84 85 86 87 88 89 129 130 131 132 133 143 144 145'.\n",
      "@> Before alignment RMSD: 247.73\n",
      "@> After alignment  RMSD: 1.10\n",
      "@> 40 atoms and 1 coordinate set(s) were parsed in 0.00s.\n"
     ]
    },
    {
     "name": "stdout",
     "output_type": "stream",
     "text": [
      "[ 36 501 501 501 501 501 501 501 501]\n",
      "14.0\n",
      "344.0\n"
     ]
    },
    {
     "name": "stderr",
     "output_type": "stream",
     "text": [
      "@> 4848 atoms and 1 coordinate set(s) were parsed in 0.06s.\n",
      "@> Checking AtomGroup 2r3q_PROT_dk + 2r3q_lig Selection 'resnum 501': 1 chains are identified\n",
      "@> Checking AtomGroup 1fin_PROT_dk: 1 chains are identified\n",
      "@> Trying to match chains based on residue numbers and names:\n",
      "@>   Comparing Chain   from 2r3q_PROT_dk + 2r3q_lig Selection 'resnum 501' (len=298) and Chain A from 1fin_PROT_dk (len=298):\n",
      "@> \tMatch: 298 residues match with 100% sequence identity and 100% overlap.\n",
      "@> Alignment is based on 34 atoms matching 'ca resnum 8 9 10 11 12 13 14 15 16 17 18 30 31 32 64 79 80 81 82 83 84 85 86 87 88 89 129 130 131 132 133 143 144 145'.\n",
      "@> Before alignment RMSD: 247.71\n",
      "@> After alignment  RMSD: 1.21\n",
      "@> 28 atoms and 1 coordinate set(s) were parsed in 0.00s.\n"
     ]
    },
    {
     "name": "stdout",
     "output_type": "stream",
     "text": [
      "[ 36 501 501 501 501 501 501 501 501 501 501]\n",
      "14.0\n",
      "314.0\n"
     ]
    },
    {
     "name": "stderr",
     "output_type": "stream",
     "text": [
      "@> 4848 atoms and 1 coordinate set(s) were parsed in 0.08s.\n",
      "@> Checking AtomGroup 2r3r_PROT_dk + 2r3r_lig Selection 'resnum 501': 1 chains are identified\n",
      "@> Checking AtomGroup 1fin_PROT_dk: 1 chains are identified\n",
      "@> Trying to match chains based on residue numbers and names:\n",
      "@>   Comparing Chain   from 2r3r_PROT_dk + 2r3r_lig Selection 'resnum 501' (len=298) and Chain A from 1fin_PROT_dk (len=298):\n",
      "@> \tMatch: 298 residues match with 100% sequence identity and 100% overlap.\n",
      "@> Alignment is based on 34 atoms matching 'ca resnum 8 9 10 11 12 13 14 15 16 17 18 30 31 32 64 79 80 81 82 83 84 85 86 87 88 89 129 130 131 132 133 143 144 145'.\n",
      "@> Before alignment RMSD: 247.82\n",
      "@> After alignment  RMSD: 1.28\n",
      "@> 32 atoms and 1 coordinate set(s) were parsed in 0.00s.\n"
     ]
    },
    {
     "name": "stdout",
     "output_type": "stream",
     "text": [
      "[ 36 501 501 501 501 501 501 501 501 501]\n",
      "14.0\n",
      "286.0\n"
     ]
    },
    {
     "name": "stderr",
     "output_type": "stream",
     "text": [
      "@> 4848 atoms and 1 coordinate set(s) were parsed in 0.05s.\n",
      "@> Checking AtomGroup 2r64_PROT_dk + 2r64_lig Selection 'resnum 500': 1 chains are identified\n",
      "@> Checking AtomGroup 1fin_PROT_dk: 1 chains are identified\n",
      "@> Trying to match chains based on residue numbers and names:\n",
      "@>   Comparing Chain   from 2r64_PROT_dk + 2r64_lig Selection 'resnum 500' (len=298) and Chain A from 1fin_PROT_dk (len=298):\n",
      "@> \tMatch: 298 residues match with 100% sequence identity and 100% overlap.\n",
      "@> Alignment is based on 34 atoms matching 'ca resnum 8 9 10 11 12 13 14 15 16 17 18 30 31 32 64 79 80 81 82 83 84 85 86 87 88 89 129 130 131 132 133 143 144 145'.\n",
      "@> Before alignment RMSD: 247.68\n",
      "@> After alignment  RMSD: 1.29\n",
      "@> 26 atoms and 1 coordinate set(s) were parsed in 0.00s.\n"
     ]
    },
    {
     "name": "stdout",
     "output_type": "stream",
     "text": [
      "[500 500 500 500 500 500 500 500 500 500 500 500 500 500 500 500 500]\n",
      "426.0\n"
     ]
    },
    {
     "name": "stderr",
     "output_type": "stream",
     "text": [
      "@> 4848 atoms and 1 coordinate set(s) were parsed in 0.08s.\n",
      "@> Checking AtomGroup 2uue_PROT_dk + 2uue_lig Selection 'resnum 1297': 1 chains are identified\n",
      "@> Checking AtomGroup 1fin_PROT_dk: 1 chains are identified\n",
      "@> Trying to match chains based on residue numbers and names:\n",
      "@>   Comparing Chain   from 2uue_PROT_dk + 2uue_lig Selection 'resnum 1297' (len=298) and Chain A from 1fin_PROT_dk (len=298):\n",
      "@> \tMatch: 298 residues match with 100% sequence identity and 100% overlap.\n",
      "@> Alignment is based on 34 atoms matching 'ca resnum 8 9 10 11 12 13 14 15 16 17 18 30 31 32 64 79 80 81 82 83 84 85 86 87 88 89 129 130 131 132 133 143 144 145'.\n",
      "@> Before alignment RMSD: 246.82\n",
      "@> After alignment  RMSD: 1.20\n",
      "@> 24 atoms and 1 coordinate set(s) were parsed in 0.00s.\n"
     ]
    },
    {
     "name": "stdout",
     "output_type": "stream",
     "text": [
      "[1297 1297 1297 1297 1297 1297 1297 1297 1297 1297 1297 1297]\n",
      "348.0\n"
     ]
    },
    {
     "name": "stderr",
     "output_type": "stream",
     "text": [
      "@> 4848 atoms and 1 coordinate set(s) were parsed in 0.05s.\n",
      "@> Checking AtomGroup 2uzb_PROT_dk + 2uzb_lig Selection 'resnum 1297': 1 chains are identified\n",
      "@> Checking AtomGroup 1fin_PROT_dk: 1 chains are identified\n",
      "@> Trying to match chains based on residue numbers and names:\n",
      "@>   Comparing Chain   from 2uzb_PROT_dk + 2uzb_lig Selection 'resnum 1297' (len=298) and Chain A from 1fin_PROT_dk (len=298):\n",
      "@> \tMatch: 298 residues match with 100% sequence identity and 100% overlap.\n",
      "@> Alignment is based on 34 atoms matching 'ca resnum 8 9 10 11 12 13 14 15 16 17 18 30 31 32 64 79 80 81 82 83 84 85 86 87 88 89 129 130 131 132 133 143 144 145'.\n",
      "@> Before alignment RMSD: 246.87\n",
      "@> After alignment  RMSD: 0.74\n",
      "@> 23 atoms and 1 coordinate set(s) were parsed in 0.00s.\n"
     ]
    },
    {
     "name": "stdout",
     "output_type": "stream",
     "text": [
      "[1297 1297 1297 1297 1297 1297 1297 1297 1297 1297]\n",
      "350.0\n"
     ]
    },
    {
     "name": "stderr",
     "output_type": "stream",
     "text": [
      "@> 4849 atoms and 1 coordinate set(s) were parsed in 0.05s.\n",
      "@> Checking AtomGroup 2uzd_PROT_dk + 2uzd_lig Selection 'resnum 1297': 1 chains are identified\n",
      "@> Checking AtomGroup 1fin_PROT_dk: 1 chains are identified\n",
      "@> Trying to match chains based on residue numbers and names:\n",
      "@>   Comparing Chain   from 2uzd_PROT_dk + 2uzd_lig Selection 'resnum 1297' (len=298) and Chain A from 1fin_PROT_dk (len=298):\n",
      "@> \tMatch: 298 residues match with 100% sequence identity and 100% overlap.\n",
      "@> Alignment is based on 34 atoms matching 'ca resnum 8 9 10 11 12 13 14 15 16 17 18 30 31 32 64 79 80 81 82 83 84 85 86 87 88 89 129 130 131 132 133 143 144 145'.\n",
      "@> Before alignment RMSD: 247.26\n",
      "@> After alignment  RMSD: 1.27\n",
      "@> 22 atoms and 1 coordinate set(s) were parsed in 0.00s.\n"
     ]
    },
    {
     "name": "stdout",
     "output_type": "stream",
     "text": [
      "[1297 1297 1297 1297 1297 1297 1297 1297 1297 1297]\n",
      "338.0\n"
     ]
    },
    {
     "name": "stderr",
     "output_type": "stream",
     "text": [
      "@> 4848 atoms and 1 coordinate set(s) were parsed in 0.05s.\n",
      "@> Checking AtomGroup 2uze_PROT_dk + 2uze_lig Selection 'resnum 1297': 1 chains are identified\n",
      "@> Checking AtomGroup 1fin_PROT_dk: 1 chains are identified\n",
      "@> Trying to match chains based on residue numbers and names:\n",
      "@>   Comparing Chain   from 2uze_PROT_dk + 2uze_lig Selection 'resnum 1297' (len=298) and Chain A from 1fin_PROT_dk (len=298):\n",
      "@> \tMatch: 298 residues match with 100% sequence identity and 100% overlap.\n",
      "@> Alignment is based on 34 atoms matching 'ca resnum 8 9 10 11 12 13 14 15 16 17 18 30 31 32 64 79 80 81 82 83 84 85 86 87 88 89 129 130 131 132 133 143 144 145'.\n",
      "@> Before alignment RMSD: 247.05\n",
      "@> After alignment  RMSD: 1.37\n",
      "@> 28 atoms and 1 coordinate set(s) were parsed in 0.00s.\n"
     ]
    },
    {
     "name": "stdout",
     "output_type": "stream",
     "text": [
      "[1297 1297 1297 1297 1297 1297 1297 1297 1297 1297 1297]\n",
      "304.0\n"
     ]
    },
    {
     "name": "stderr",
     "output_type": "stream",
     "text": [
      "@> 4849 atoms and 1 coordinate set(s) were parsed in 0.08s.\n",
      "@> Checking AtomGroup 2uzl_PROT_dk + 2uzl_lig Selection 'resnum 1297': 1 chains are identified\n",
      "@> Checking AtomGroup 1fin_PROT_dk: 1 chains are identified\n",
      "@> Trying to match chains based on residue numbers and names:\n",
      "@>   Comparing Chain   from 2uzl_PROT_dk + 2uzl_lig Selection 'resnum 1297' (len=298) and Chain A from 1fin_PROT_dk (len=298):\n",
      "@> \tMatch: 298 residues match with 100% sequence identity and 100% overlap.\n",
      "@> Alignment is based on 34 atoms matching 'ca resnum 8 9 10 11 12 13 14 15 16 17 18 30 31 32 64 79 80 81 82 83 84 85 86 87 88 89 129 130 131 132 133 143 144 145'.\n",
      "@> Before alignment RMSD: 247.09\n",
      "@> After alignment  RMSD: 1.33\n",
      "@> 24 atoms and 1 coordinate set(s) were parsed in 0.00s.\n"
     ]
    },
    {
     "name": "stdout",
     "output_type": "stream",
     "text": [
      "[1297 1297 1297 1297 1297 1297 1297 1297 1297 1297 1297]\n",
      "350.0\n"
     ]
    },
    {
     "name": "stderr",
     "output_type": "stream",
     "text": [
      "@> 4848 atoms and 1 coordinate set(s) were parsed in 0.06s.\n",
      "@> Checking AtomGroup 2uzn_PROT_dk + 2uzn_lig Selection 'resnum 1299': 1 chains are identified\n",
      "@> Checking AtomGroup 1fin_PROT_dk: 1 chains are identified\n",
      "@> Trying to match chains based on residue numbers and names:\n",
      "@>   Comparing Chain   from 2uzn_PROT_dk + 2uzn_lig Selection 'resnum 1299' (len=298) and Chain A from 1fin_PROT_dk (len=298):\n",
      "@> \tMatch: 298 residues match with 100% sequence identity and 100% overlap.\n",
      "@> Alignment is based on 34 atoms matching 'ca resnum 8 9 10 11 12 13 14 15 16 17 18 30 31 32 64 79 80 81 82 83 84 85 86 87 88 89 129 130 131 132 133 143 144 145'.\n",
      "@> Before alignment RMSD: 247.69\n",
      "@> After alignment  RMSD: 0.91\n",
      "@> 23 atoms and 1 coordinate set(s) were parsed in 0.00s.\n"
     ]
    },
    {
     "name": "stdout",
     "output_type": "stream",
     "text": [
      "[1299 1299 1299 1299 1299 1299 1299 1299]\n",
      "350.0\n"
     ]
    },
    {
     "name": "stderr",
     "output_type": "stream",
     "text": [
      "@> 4848 atoms and 1 coordinate set(s) were parsed in 0.06s.\n",
      "@> Checking AtomGroup 2uzo_PROT_dk + 2uzo_lig Selection 'resnum 1297': 1 chains are identified\n",
      "@> Checking AtomGroup 1fin_PROT_dk: 1 chains are identified\n",
      "@> Trying to match chains based on residue numbers and names:\n",
      "@>   Comparing Chain   from 2uzo_PROT_dk + 2uzo_lig Selection 'resnum 1297' (len=298) and Chain A from 1fin_PROT_dk (len=298):\n",
      "@> \tMatch: 298 residues match with 100% sequence identity and 100% overlap.\n",
      "@> Alignment is based on 34 atoms matching 'ca resnum 8 9 10 11 12 13 14 15 16 17 18 30 31 32 64 79 80 81 82 83 84 85 86 87 88 89 129 130 131 132 133 143 144 145'.\n",
      "@> Before alignment RMSD: 247.84\n",
      "@> After alignment  RMSD: 1.25\n",
      "@> 15 atoms and 1 coordinate set(s) were parsed in 0.00s.\n"
     ]
    },
    {
     "name": "stdout",
     "output_type": "stream",
     "text": [
      "[1297 1297 1297 1297 1297 1297 1297 1297]\n",
      "340.0\n"
     ]
    },
    {
     "name": "stderr",
     "output_type": "stream",
     "text": [
      "@> 4848 atoms and 1 coordinate set(s) were parsed in 0.05s.\n",
      "@> Checking AtomGroup 2v0d_PROT_dk + 2v0d_lig Selection 'resnum 1299': 1 chains are identified\n",
      "@> Checking AtomGroup 1fin_PROT_dk: 1 chains are identified\n",
      "@> Trying to match chains based on residue numbers and names:\n",
      "@>   Comparing Chain   from 2v0d_PROT_dk + 2v0d_lig Selection 'resnum 1299' (len=298) and Chain A from 1fin_PROT_dk (len=298):\n",
      "@> \tMatch: 298 residues match with 100% sequence identity and 100% overlap.\n",
      "@> Alignment is based on 34 atoms matching 'ca resnum 8 9 10 11 12 13 14 15 16 17 18 30 31 32 64 79 80 81 82 83 84 85 86 87 88 89 129 130 131 132 133 143 144 145'.\n",
      "@> Before alignment RMSD: 247.79\n",
      "@> After alignment  RMSD: 1.27\n",
      "@> 21 atoms and 1 coordinate set(s) were parsed in 0.00s.\n"
     ]
    },
    {
     "name": "stdout",
     "output_type": "stream",
     "text": [
      "[1299 1299 1299 1300]\n",
      "198.0\n",
      "0.0\n",
      "../PDB_CDK2_ligands_chainA/2v22_lig.pdb is not a valid filename or a valid PDB identifier. La proteina 2v22 NO TIENE LIGANDO.\n"
     ]
    },
    {
     "name": "stderr",
     "output_type": "stream",
     "text": [
      "@> 4848 atoms and 1 coordinate set(s) were parsed in 0.05s.\n",
      "@> Checking AtomGroup 2vta_PROT_dk + 2vta_lig Selection 'resnum 1301': 1 chains are identified\n",
      "@> Checking AtomGroup 1fin_PROT_dk: 1 chains are identified\n",
      "@> Trying to match chains based on residue numbers and names:\n",
      "@>   Comparing Chain   from 2vta_PROT_dk + 2vta_lig Selection 'resnum 1301' (len=298) and Chain A from 1fin_PROT_dk (len=298):\n",
      "@> \tMatch: 298 residues match with 100% sequence identity and 100% overlap.\n",
      "@> Alignment is based on 34 atoms matching 'ca resnum 8 9 10 11 12 13 14 15 16 17 18 30 31 32 64 79 80 81 82 83 84 85 86 87 88 89 129 130 131 132 133 143 144 145'.\n",
      "@> Before alignment RMSD: 247.72\n",
      "@> After alignment  RMSD: 1.03\n",
      "@> 21 atoms and 1 coordinate set(s) were parsed in 0.00s.\n"
     ]
    },
    {
     "name": "stdout",
     "output_type": "stream",
     "text": [
      "[1301 1301]\n",
      "112.0\n"
     ]
    },
    {
     "name": "stderr",
     "output_type": "stream",
     "text": [
      "@> 4848 atoms and 1 coordinate set(s) were parsed in 0.05s.\n",
      "@> Checking AtomGroup 2vth_PROT_dk + 2vth_lig Selection 'resnum 1300': 1 chains are identified\n",
      "@> Checking AtomGroup 1fin_PROT_dk: 1 chains are identified\n",
      "@> Trying to match chains based on residue numbers and names:\n",
      "@>   Comparing Chain   from 2vth_PROT_dk + 2vth_lig Selection 'resnum 1300' (len=298) and Chain A from 1fin_PROT_dk (len=298):\n",
      "@> \tMatch: 298 residues match with 100% sequence identity and 100% overlap.\n",
      "@> Alignment is based on 34 atoms matching 'ca resnum 8 9 10 11 12 13 14 15 16 17 18 30 31 32 64 79 80 81 82 83 84 85 86 87 88 89 129 130 131 132 133 143 144 145'.\n",
      "@> Before alignment RMSD: 247.78\n",
      "@> After alignment  RMSD: 1.21\n",
      "@> 22 atoms and 1 coordinate set(s) were parsed in 0.00s.\n"
     ]
    },
    {
     "name": "stdout",
     "output_type": "stream",
     "text": [
      "[1300 1300 1300]\n",
      "214.0\n"
     ]
    },
    {
     "name": "stderr",
     "output_type": "stream",
     "text": [
      "@> 4848 atoms and 1 coordinate set(s) were parsed in 0.05s.\n",
      "@> Checking AtomGroup 2vti_PROT_dk + 2vti_lig Selection 'resnum 1299': 1 chains are identified\n",
      "@> Checking AtomGroup 1fin_PROT_dk: 1 chains are identified\n",
      "@> Trying to match chains based on residue numbers and names:\n",
      "@>   Comparing Chain   from 2vti_PROT_dk + 2vti_lig Selection 'resnum 1299' (len=298) and Chain A from 1fin_PROT_dk (len=298):\n",
      "@> \tMatch: 298 residues match with 100% sequence identity and 100% overlap.\n",
      "@> Alignment is based on 34 atoms matching 'ca resnum 8 9 10 11 12 13 14 15 16 17 18 30 31 32 64 79 80 81 82 83 84 85 86 87 88 89 129 130 131 132 133 143 144 145'.\n",
      "@> Before alignment RMSD: 247.89\n",
      "@> After alignment  RMSD: 1.34\n"
     ]
    },
    {
     "name": "stdout",
     "output_type": "stream",
     "text": [
      "[1299 1299 1299 1299 1299 1299 1299]\n",
      "304.0\n"
     ]
    },
    {
     "name": "stderr",
     "output_type": "stream",
     "text": [
      "@> 24 atoms and 1 coordinate set(s) were parsed in 0.00s.\n",
      "@> 4848 atoms and 1 coordinate set(s) were parsed in 0.08s.\n",
      "@> Checking AtomGroup 2vtj_PROT_dk + 2vtj_lig Selection 'resnum 1300': 1 chains are identified\n",
      "@> Checking AtomGroup 1fin_PROT_dk: 1 chains are identified\n",
      "@> Trying to match chains based on residue numbers and names:\n",
      "@>   Comparing Chain   from 2vtj_PROT_dk + 2vtj_lig Selection 'resnum 1300' (len=298) and Chain A from 1fin_PROT_dk (len=298):\n",
      "@> \tMatch: 298 residues match with 100% sequence identity and 100% overlap.\n",
      "@> Alignment is based on 34 atoms matching 'ca resnum 8 9 10 11 12 13 14 15 16 17 18 30 31 32 64 79 80 81 82 83 84 85 86 87 88 89 129 130 131 132 133 143 144 145'.\n",
      "@> Before alignment RMSD: 247.72\n",
      "@> After alignment  RMSD: 1.17\n",
      "@> 14 atoms and 1 coordinate set(s) were parsed in 0.00s.\n"
     ]
    },
    {
     "name": "stdout",
     "output_type": "stream",
     "text": [
      "[1300 1300 1300 1300 1300 1300 1300 1300 1300]\n",
      "240.0\n"
     ]
    },
    {
     "name": "stderr",
     "output_type": "stream",
     "text": [
      "@> 4848 atoms and 1 coordinate set(s) were parsed in 0.08s.\n",
      "@> Checking AtomGroup 2vtl_PROT_dk + 2vtl_lig Selection 'resnum 1299': 1 chains are identified\n",
      "@> Checking AtomGroup 1fin_PROT_dk: 1 chains are identified\n",
      "@> Trying to match chains based on residue numbers and names:\n",
      "@>   Comparing Chain   from 2vtl_PROT_dk + 2vtl_lig Selection 'resnum 1299' (len=298) and Chain A from 1fin_PROT_dk (len=298):\n",
      "@> \tMatch: 298 residues match with 100% sequence identity and 100% overlap.\n",
      "@> Alignment is based on 34 atoms matching 'ca resnum 8 9 10 11 12 13 14 15 16 17 18 30 31 32 64 79 80 81 82 83 84 85 86 87 88 89 129 130 131 132 133 143 144 145'.\n",
      "@> Before alignment RMSD: 247.75\n",
      "@> After alignment  RMSD: 1.17\n",
      "@> 11 atoms and 1 coordinate set(s) were parsed in 0.00s.\n"
     ]
    },
    {
     "name": "stdout",
     "output_type": "stream",
     "text": [
      "[1299 1299 1299 1299 1299 1299 1299]\n",
      "178.0\n"
     ]
    },
    {
     "name": "stderr",
     "output_type": "stream",
     "text": [
      "@> 4848 atoms and 1 coordinate set(s) were parsed in 0.06s.\n",
      "@> Checking AtomGroup 2vtm_PROT_dk + 2vtm_lig Selection 'resnum 1299': 1 chains are identified\n",
      "@> Checking AtomGroup 1fin_PROT_dk: 1 chains are identified\n",
      "@> Trying to match chains based on residue numbers and names:\n",
      "@>   Comparing Chain   from 2vtm_PROT_dk + 2vtm_lig Selection 'resnum 1299' (len=298) and Chain A from 1fin_PROT_dk (len=298):\n",
      "@> \tMatch: 298 residues match with 100% sequence identity and 100% overlap.\n",
      "@> Alignment is based on 34 atoms matching 'ca resnum 8 9 10 11 12 13 14 15 16 17 18 30 31 32 64 79 80 81 82 83 84 85 86 87 88 89 129 130 131 132 133 143 144 145'.\n",
      "@> Before alignment RMSD: 247.77\n",
      "@> After alignment  RMSD: 1.12\n",
      "@> 19 atoms and 1 coordinate set(s) were parsed in 0.00s.\n"
     ]
    },
    {
     "name": "stdout",
     "output_type": "stream",
     "text": [
      "[1299 1299 1299 1299 1299]\n",
      "140.0\n"
     ]
    },
    {
     "name": "stderr",
     "output_type": "stream",
     "text": [
      "@> 4848 atoms and 1 coordinate set(s) were parsed in 0.05s.\n",
      "@> Checking AtomGroup 2vtn_PROT_dk + 2vtn_lig Selection 'resnum 1299': 1 chains are identified\n",
      "@> Checking AtomGroup 1fin_PROT_dk: 1 chains are identified\n",
      "@> Trying to match chains based on residue numbers and names:\n",
      "@>   Comparing Chain   from 2vtn_PROT_dk + 2vtn_lig Selection 'resnum 1299' (len=298) and Chain A from 1fin_PROT_dk (len=298):\n",
      "@> \tMatch: 298 residues match with 100% sequence identity and 100% overlap.\n",
      "@> Alignment is based on 34 atoms matching 'ca resnum 8 9 10 11 12 13 14 15 16 17 18 30 31 32 64 79 80 81 82 83 84 85 86 87 88 89 129 130 131 132 133 143 144 145'.\n",
      "@> Before alignment RMSD: 247.73\n",
      "@> After alignment  RMSD: 1.18\n",
      "@> 24 atoms and 1 coordinate set(s) were parsed in 0.00s.\n"
     ]
    },
    {
     "name": "stdout",
     "output_type": "stream",
     "text": [
      "[1299 1299 1299 1299 1299 1299]\n",
      "232.0\n"
     ]
    },
    {
     "name": "stderr",
     "output_type": "stream",
     "text": [
      "@> 4848 atoms and 1 coordinate set(s) were parsed in 0.08s.\n",
      "@> Checking AtomGroup 2vto_PROT_dk + 2vto_lig Selection 'resnum 1299': 1 chains are identified\n",
      "@> Checking AtomGroup 1fin_PROT_dk: 1 chains are identified\n",
      "@> Trying to match chains based on residue numbers and names:\n",
      "@>   Comparing Chain   from 2vto_PROT_dk + 2vto_lig Selection 'resnum 1299' (len=298) and Chain A from 1fin_PROT_dk (len=298):\n",
      "@> \tMatch: 298 residues match with 100% sequence identity and 100% overlap.\n",
      "@> Alignment is based on 34 atoms matching 'ca resnum 8 9 10 11 12 13 14 15 16 17 18 30 31 32 64 79 80 81 82 83 84 85 86 87 88 89 129 130 131 132 133 143 144 145'.\n",
      "@> Before alignment RMSD: 247.64\n",
      "@> After alignment  RMSD: 1.19\n",
      "@> 26 atoms and 1 coordinate set(s) were parsed in 0.00s.\n",
      "@> 4848 atoms and 1 coordinate set(s) were parsed in 0.05s.\n"
     ]
    },
    {
     "name": "stdout",
     "output_type": "stream",
     "text": [
      "[1299 1299 1299 1299 1299 1299 1299 1299]\n",
      "292.0\n",
      "[1299 1299 1299 1299 1299 1299 1299 1299 1299 1299 1299 1299 1299 1299]\n"
     ]
    },
    {
     "name": "stderr",
     "output_type": "stream",
     "text": [
      "@> Checking AtomGroup 2vtp_PROT_dk + 2vtp_lig Selection 'resnum 1299': 1 chains are identified\n",
      "@> Checking AtomGroup 1fin_PROT_dk: 1 chains are identified\n",
      "@> Trying to match chains based on residue numbers and names:\n",
      "@>   Comparing Chain   from 2vtp_PROT_dk + 2vtp_lig Selection 'resnum 1299' (len=298) and Chain A from 1fin_PROT_dk (len=298):\n",
      "@> \tMatch: 298 residues match with 100% sequence identity and 100% overlap.\n",
      "@> Alignment is based on 34 atoms matching 'ca resnum 8 9 10 11 12 13 14 15 16 17 18 30 31 32 64 79 80 81 82 83 84 85 86 87 88 89 129 130 131 132 133 143 144 145'.\n",
      "@> Before alignment RMSD: 247.67\n",
      "@> After alignment  RMSD: 1.20\n",
      "@> 25 atoms and 1 coordinate set(s) were parsed in 0.00s.\n"
     ]
    },
    {
     "name": "stdout",
     "output_type": "stream",
     "text": [
      "292.0\n"
     ]
    },
    {
     "name": "stderr",
     "output_type": "stream",
     "text": [
      "@> 4848 atoms and 1 coordinate set(s) were parsed in 0.06s.\n",
      "@> Checking AtomGroup 2vtq_PROT_dk + 2vtq_lig Selection 'resnum 1299': 1 chains are identified\n",
      "@> Checking AtomGroup 1fin_PROT_dk: 1 chains are identified\n",
      "@> Trying to match chains based on residue numbers and names:\n",
      "@>   Comparing Chain   from 2vtq_PROT_dk + 2vtq_lig Selection 'resnum 1299' (len=298) and Chain A from 1fin_PROT_dk (len=298):\n",
      "@> \tMatch: 298 residues match with 100% sequence identity and 100% overlap.\n",
      "@> Alignment is based on 34 atoms matching 'ca resnum 8 9 10 11 12 13 14 15 16 17 18 30 31 32 64 79 80 81 82 83 84 85 86 87 88 89 129 130 131 132 133 143 144 145'.\n",
      "@> Before alignment RMSD: 247.60\n",
      "@> After alignment  RMSD: 0.88\n",
      "@> 16 atoms and 1 coordinate set(s) were parsed in 0.00s.\n"
     ]
    },
    {
     "name": "stdout",
     "output_type": "stream",
     "text": [
      "[1299 1299 1299 1299 1299 1299 1299 1299 1299 1299]\n",
      "294.0\n"
     ]
    },
    {
     "name": "stderr",
     "output_type": "stream",
     "text": [
      "@> 4848 atoms and 1 coordinate set(s) were parsed in 0.05s.\n",
      "@> Checking AtomGroup 2vtr_PROT_dk + 2vtr_lig Selection 'resnum 1299': 1 chains are identified\n",
      "@> Checking AtomGroup 1fin_PROT_dk: 1 chains are identified\n",
      "@> Trying to match chains based on residue numbers and names:\n",
      "@>   Comparing Chain   from 2vtr_PROT_dk + 2vtr_lig Selection 'resnum 1299' (len=298) and Chain A from 1fin_PROT_dk (len=298):\n",
      "@> \tMatch: 298 residues match with 100% sequence identity and 100% overlap.\n",
      "@> Alignment is based on 34 atoms matching 'ca resnum 8 9 10 11 12 13 14 15 16 17 18 30 31 32 64 79 80 81 82 83 84 85 86 87 88 89 129 130 131 132 133 143 144 145'.\n",
      "@> Before alignment RMSD: 247.92\n",
      "@> After alignment  RMSD: 1.18\n"
     ]
    },
    {
     "name": "stdout",
     "output_type": "stream",
     "text": [
      "[1299 1299 1299 1299 1299]\n",
      "190.0\n"
     ]
    },
    {
     "name": "stderr",
     "output_type": "stream",
     "text": [
      "@> 23 atoms and 1 coordinate set(s) were parsed in 0.00s.\n",
      "@> 4848 atoms and 1 coordinate set(s) were parsed in 0.08s.\n",
      "@> Checking AtomGroup 2vts_PROT_dk + 2vts_lig Selection 'resnum 1299': 1 chains are identified\n",
      "@> Checking AtomGroup 1fin_PROT_dk: 1 chains are identified\n",
      "@> Trying to match chains based on residue numbers and names:\n",
      "@>   Comparing Chain   from 2vts_PROT_dk + 2vts_lig Selection 'resnum 1299' (len=298) and Chain A from 1fin_PROT_dk (len=298):\n",
      "@> \tMatch: 298 residues match with 100% sequence identity and 100% overlap.\n",
      "@> Alignment is based on 34 atoms matching 'ca resnum 8 9 10 11 12 13 14 15 16 17 18 30 31 32 64 79 80 81 82 83 84 85 86 87 88 89 129 130 131 132 133 143 144 145'.\n",
      "@> Before alignment RMSD: 247.61\n",
      "@> After alignment  RMSD: 1.01\n",
      "@> 25 atoms and 1 coordinate set(s) were parsed in 0.00s.\n"
     ]
    },
    {
     "name": "stdout",
     "output_type": "stream",
     "text": [
      "[1299 1299 1299 1299 1299 1299 1299 1299]\n",
      "290.0\n"
     ]
    },
    {
     "name": "stderr",
     "output_type": "stream",
     "text": [
      "@> 4848 atoms and 1 coordinate set(s) were parsed in 0.08s.\n",
      "@> Checking AtomGroup 2vtt_PROT_dk + 2vtt_lig Selection 'resnum 1299': 1 chains are identified\n",
      "@> Checking AtomGroup 1fin_PROT_dk: 1 chains are identified\n",
      "@> Trying to match chains based on residue numbers and names:\n",
      "@>   Comparing Chain   from 2vtt_PROT_dk + 2vtt_lig Selection 'resnum 1299' (len=298) and Chain A from 1fin_PROT_dk (len=298):\n",
      "@> \tMatch: 298 residues match with 100% sequence identity and 100% overlap.\n",
      "@> Alignment is based on 34 atoms matching 'ca resnum 8 9 10 11 12 13 14 15 16 17 18 30 31 32 64 79 80 81 82 83 84 85 86 87 88 89 129 130 131 132 133 143 144 145'.\n",
      "@> Before alignment RMSD: 247.68\n",
      "@> After alignment  RMSD: 0.92\n",
      "@> 25 atoms and 1 coordinate set(s) were parsed in 0.00s.\n"
     ]
    },
    {
     "name": "stdout",
     "output_type": "stream",
     "text": [
      "[1299 1299 1299 1299 1299 1299 1299 1299 1299 1299 1299 1299 1299 1299]\n",
      "294.0\n"
     ]
    },
    {
     "name": "stderr",
     "output_type": "stream",
     "text": [
      "@> 4848 atoms and 1 coordinate set(s) were parsed in 0.05s.\n",
      "@> Checking AtomGroup 2vu3_PROT_dk + 2vu3_lig Selection 'resnum 1299': 1 chains are identified\n",
      "@> Checking AtomGroup 1fin_PROT_dk: 1 chains are identified\n",
      "@> Trying to match chains based on residue numbers and names:\n",
      "@>   Comparing Chain   from 2vu3_PROT_dk + 2vu3_lig Selection 'resnum 1299' (len=298) and Chain A from 1fin_PROT_dk (len=298):\n",
      "@> \tMatch: 298 residues match with 100% sequence identity and 100% overlap.\n",
      "@> Alignment is based on 34 atoms matching 'ca resnum 8 9 10 11 12 13 14 15 16 17 18 30 31 32 64 79 80 81 82 83 84 85 86 87 88 89 129 130 131 132 133 143 144 145'.\n",
      "@> Before alignment RMSD: 247.59\n",
      "@> After alignment  RMSD: 0.67\n",
      "@> 35 atoms and 1 coordinate set(s) were parsed in 0.00s.\n"
     ]
    },
    {
     "name": "stdout",
     "output_type": "stream",
     "text": [
      "[1299 1299 1299 1299 1299 1299 1299 1299 1299 1299 1299 1299]\n",
      "294.0\n"
     ]
    },
    {
     "name": "stderr",
     "output_type": "stream",
     "text": [
      "@> 4848 atoms and 1 coordinate set(s) were parsed in 0.05s.\n",
      "@> Checking AtomGroup 2vv9_PROT_dk + 2vv9_lig Selection 'resnum 1300': 1 chains are identified\n",
      "@> Checking AtomGroup 1fin_PROT_dk: 1 chains are identified\n",
      "@> Trying to match chains based on residue numbers and names:\n",
      "@>   Comparing Chain   from 2vv9_PROT_dk + 2vv9_lig Selection 'resnum 1300' (len=298) and Chain A from 1fin_PROT_dk (len=298):\n",
      "@> \tMatch: 298 residues match with 100% sequence identity and 100% overlap.\n",
      "@> Alignment is based on 34 atoms matching 'ca resnum 8 9 10 11 12 13 14 15 16 17 18 30 31 32 64 79 80 81 82 83 84 85 86 87 88 89 129 130 131 132 133 143 144 145'.\n",
      "@> Before alignment RMSD: 247.67\n",
      "@> After alignment  RMSD: 0.97\n",
      "@> 30 atoms and 1 coordinate set(s) were parsed in 0.00s.\n",
      "@> 4848 atoms and 1 coordinate set(s) were parsed in 0.05s.\n"
     ]
    },
    {
     "name": "stdout",
     "output_type": "stream",
     "text": [
      "[1300 1300 1300 1300 1300 1300 1300 1300 1300 1300 1300 1300 1300]\n",
      "406.0\n"
     ]
    },
    {
     "name": "stderr",
     "output_type": "stream",
     "text": [
      "@> Checking AtomGroup 2w05_PROT_dk + 2w05_lig Selection 'resnum 1299': 1 chains are identified\n",
      "@> Checking AtomGroup 1fin_PROT_dk: 1 chains are identified\n",
      "@> Trying to match chains based on residue numbers and names:\n",
      "@>   Comparing Chain   from 2w05_PROT_dk + 2w05_lig Selection 'resnum 1299' (len=298) and Chain A from 1fin_PROT_dk (len=298):\n",
      "@> \tMatch: 298 residues match with 100% sequence identity and 100% overlap.\n",
      "@> Alignment is based on 34 atoms matching 'ca resnum 8 9 10 11 12 13 14 15 16 17 18 30 31 32 64 79 80 81 82 83 84 85 86 87 88 89 129 130 131 132 133 143 144 145'.\n",
      "@> Before alignment RMSD: 247.66\n",
      "@> After alignment  RMSD: 1.09\n",
      "@> 30 atoms and 1 coordinate set(s) were parsed in 0.00s.\n"
     ]
    },
    {
     "name": "stdout",
     "output_type": "stream",
     "text": [
      "[1299 1299 1299 1299 1299 1299 1299 1299 1299 1299 1299]\n",
      "404.0\n"
     ]
    },
    {
     "name": "stderr",
     "output_type": "stream",
     "text": [
      "@> 4849 atoms and 1 coordinate set(s) were parsed in 0.07s.\n",
      "@> Checking AtomGroup 2w06_PROT_dk + 2w06_lig Selection 'resnum 1300': 1 chains are identified\n",
      "@> Checking AtomGroup 1fin_PROT_dk: 1 chains are identified\n",
      "@> Trying to match chains based on residue numbers and names:\n",
      "@>   Comparing Chain   from 2w06_PROT_dk + 2w06_lig Selection 'resnum 1300' (len=297) and Chain A from 1fin_PROT_dk (len=298):\n",
      "@> \tMatch: 297 residues match with 100% sequence identity and 100% overlap.\n",
      "@> Alignment is based on 34 atoms matching 'ca resnum 8 9 10 11 12 13 14 15 16 17 18 30 31 32 64 79 80 81 82 83 84 85 86 87 88 89 129 130 131 132 133 143 144 145'.\n",
      "@> Before alignment RMSD: 247.81\n",
      "@> After alignment  RMSD: 1.27\n",
      "@> 40 atoms and 1 coordinate set(s) were parsed in 0.00s.\n"
     ]
    },
    {
     "name": "stdout",
     "output_type": "stream",
     "text": [
      "[1300 1300 1300 1300 1300 1300 1300 1300]\n",
      "364.0\n"
     ]
    },
    {
     "name": "stderr",
     "output_type": "stream",
     "text": [
      "@> 4848 atoms and 1 coordinate set(s) were parsed in 0.08s.\n",
      "@> Checking AtomGroup 2w17_PROT_dk + 2w17_lig Selection 'resnum 1300': 1 chains are identified\n",
      "@> Checking AtomGroup 1fin_PROT_dk: 1 chains are identified\n",
      "@> Trying to match chains based on residue numbers and names:\n",
      "@>   Comparing Chain   from 2w17_PROT_dk + 2w17_lig Selection 'resnum 1300' (len=298) and Chain A from 1fin_PROT_dk (len=298):\n",
      "@> \tMatch: 298 residues match with 100% sequence identity and 100% overlap.\n",
      "@> Alignment is based on 34 atoms matching 'ca resnum 8 9 10 11 12 13 14 15 16 17 18 30 31 32 64 79 80 81 82 83 84 85 86 87 88 89 129 130 131 132 133 143 144 145'.\n",
      "@> Before alignment RMSD: 247.63\n",
      "@> After alignment  RMSD: 0.95\n",
      "@> 23 atoms and 1 coordinate set(s) were parsed in 0.00s.\n"
     ]
    },
    {
     "name": "stdout",
     "output_type": "stream",
     "text": [
      "[1300 1300 1300 1300 1300 1300 1300 1300 1300 1300 1300 1300 1300]\n",
      "402.0\n"
     ]
    },
    {
     "name": "stderr",
     "output_type": "stream",
     "text": [
      "@> 4848 atoms and 1 coordinate set(s) were parsed in 0.08s.\n",
      "@> Checking AtomGroup 2w1h_PROT_dk + 2w1h_lig Selection 'resnum 1299': 1 chains are identified\n",
      "@> Checking AtomGroup 1fin_PROT_dk: 1 chains are identified\n",
      "@> Trying to match chains based on residue numbers and names:\n",
      "@>   Comparing Chain   from 2w1h_PROT_dk + 2w1h_lig Selection 'resnum 1299' (len=298) and Chain A from 1fin_PROT_dk (len=298):\n",
      "@> \tMatch: 298 residues match with 100% sequence identity and 100% overlap.\n",
      "@> Alignment is based on 34 atoms matching 'ca resnum 8 9 10 11 12 13 14 15 16 17 18 30 31 32 64 79 80 81 82 83 84 85 86 87 88 89 129 130 131 132 133 143 144 145'.\n",
      "@> Before alignment RMSD: 247.93\n",
      "@> After alignment  RMSD: 1.47\n",
      "@> 23 atoms and 1 coordinate set(s) were parsed in 0.00s.\n"
     ]
    },
    {
     "name": "stdout",
     "output_type": "stream",
     "text": [
      "[1299 1299 1299 1299 1299 1299 1299 1299]\n",
      "290.0\n"
     ]
    },
    {
     "name": "stderr",
     "output_type": "stream",
     "text": [
      "@> 4848 atoms and 1 coordinate set(s) were parsed in 0.08s.\n",
      "@> Checking AtomGroup 2wev_PROT_dk + 2wev_lig Selection 'resnum 1297': 1 chains are identified\n",
      "@> Checking AtomGroup 1fin_PROT_dk: 1 chains are identified\n",
      "@> Trying to match chains based on residue numbers and names:\n",
      "@>   Comparing Chain   from 2wev_PROT_dk + 2wev_lig Selection 'resnum 1297' (len=298) and Chain A from 1fin_PROT_dk (len=298):\n",
      "@> \tMatch: 298 residues match with 100% sequence identity and 100% overlap.\n",
      "@> Alignment is based on 34 atoms matching 'ca resnum 8 9 10 11 12 13 14 15 16 17 18 30 31 32 64 79 80 81 82 83 84 85 86 87 88 89 129 130 131 132 133 143 144 145'.\n",
      "@> Before alignment RMSD: 246.92\n",
      "@> After alignment  RMSD: 1.34\n",
      "@> 1 atoms and 1 coordinate set(s) were parsed in 0.00s.\n"
     ]
    },
    {
     "name": "stdout",
     "output_type": "stream",
     "text": [
      "[1297 1297 1297 1297 1297 1297 1297 1297 1297]\n",
      "316.0\n"
     ]
    },
    {
     "name": "stderr",
     "output_type": "stream",
     "text": [
      "@> 4848 atoms and 1 coordinate set(s) were parsed in 0.06s.\n",
      "@> 34 atoms and 1 coordinate set(s) were parsed in 0.00s.\n",
      "@> 4848 atoms and 1 coordinate set(s) were parsed in 0.05s.\n",
      "@> Checking AtomGroup 2wih_PROT_dk + 2wih_lig Selection 'resnum 1299': 1 chains are identified\n",
      "@> Checking AtomGroup 1fin_PROT_dk: 1 chains are identified\n",
      "@> Trying to match chains based on residue numbers and names:\n",
      "@>   Comparing Chain   from 2wih_PROT_dk + 2wih_lig Selection 'resnum 1299' (len=298) and Chain A from 1fin_PROT_dk (len=298):\n",
      "@> \tMatch: 298 residues match with 100% sequence identity and 100% overlap.\n",
      "@> Alignment is based on 34 atoms matching 'ca resnum 8 9 10 11 12 13 14 15 16 17 18 30 31 32 64 79 80 81 82 83 84 85 86 87 88 89 129 130 131 132 133 143 144 145'.\n",
      "@> Before alignment RMSD: 246.77\n",
      "@> After alignment  RMSD: 0.65\n"
     ]
    },
    {
     "name": "stdout",
     "output_type": "stream",
     "text": [
      "La proteina 2wfy no tiene ligando en el pocket.\n",
      "../PDB_CDK2_ligands_chainA/2whb_lig.pdb is not a valid filename or a valid PDB identifier. La proteina 2whb NO TIENE LIGANDO.\n",
      "[1299 1299 1299 1299 1299 1299 1299 1299]\n",
      "428.0\n"
     ]
    },
    {
     "name": "stderr",
     "output_type": "stream",
     "text": [
      "@> 24 atoms and 1 coordinate set(s) were parsed in 0.00s.\n",
      "@> 4848 atoms and 1 coordinate set(s) were parsed in 0.05s.\n",
      "@> Checking AtomGroup 2wip_PROT_dk + 2wip_lig Selection 'resnum 1299': 1 chains are identified\n",
      "@> Checking AtomGroup 1fin_PROT_dk: 1 chains are identified\n",
      "@> Trying to match chains based on residue numbers and names:\n",
      "@>   Comparing Chain   from 2wip_PROT_dk + 2wip_lig Selection 'resnum 1299' (len=298) and Chain A from 1fin_PROT_dk (len=298):\n",
      "@> \tMatch: 298 residues match with 100% sequence identity and 100% overlap.\n",
      "@> Alignment is based on 34 atoms matching 'ca resnum 8 9 10 11 12 13 14 15 16 17 18 30 31 32 64 79 80 81 82 83 84 85 86 87 88 89 129 130 131 132 133 143 144 145'.\n",
      "@> Before alignment RMSD: 247.04\n",
      "@> After alignment  RMSD: 2.14\n",
      "@> 31 atoms and 1 coordinate set(s) were parsed in 0.00s.\n"
     ]
    },
    {
     "name": "stdout",
     "output_type": "stream",
     "text": [
      "[1299 1299 1299 1299 1299 1299 1299 1299 1299 1299 1299 1299]\n",
      "306.0\n",
      "../PDB_CDK2_ligands_chainA/2wma_lig.pdb is not a valid filename or a valid PDB identifier. La proteina 2wma NO TIENE LIGANDO.\n",
      "../PDB_CDK2_ligands_chainA/2wmb_lig.pdb is not a valid filename or a valid PDB identifier. La proteina 2wmb NO TIENE LIGANDO.\n"
     ]
    },
    {
     "name": "stderr",
     "output_type": "stream",
     "text": [
      "@> 4848 atoms and 1 coordinate set(s) were parsed in 0.05s.\n",
      "@> Checking AtomGroup 2wpa_PROT_dk + 2wpa_lig Selection 'resnum 1301': 1 chains are identified\n",
      "@> Checking AtomGroup 1fin_PROT_dk: 1 chains are identified\n",
      "@> Trying to match chains based on residue numbers and names:\n",
      "@>   Comparing Chain   from 2wpa_PROT_dk + 2wpa_lig Selection 'resnum 1301' (len=298) and Chain A from 1fin_PROT_dk (len=298):\n",
      "@> \tMatch: 298 residues match with 100% sequence identity and 100% overlap.\n",
      "@> Alignment is based on 34 atoms matching 'ca resnum 8 9 10 11 12 13 14 15 16 17 18 30 31 32 64 79 80 81 82 83 84 85 86 87 88 89 129 130 131 132 133 143 144 145'.\n",
      "@> Before alignment RMSD: 246.55\n",
      "@> After alignment  RMSD: 0.71\n",
      "@> 29 atoms and 1 coordinate set(s) were parsed in 0.00s.\n"
     ]
    },
    {
     "name": "stdout",
     "output_type": "stream",
     "text": [
      "[1301 1301 1301 1301 1301 1301 1301 1301]\n",
      "330.0\n"
     ]
    },
    {
     "name": "stderr",
     "output_type": "stream",
     "text": [
      "@> 4848 atoms and 1 coordinate set(s) were parsed in 0.09s.\n",
      "@> Checking AtomGroup 2wxv_PROT_dk + 2wxv_lig Selection 'resnum 1299': 1 chains are identified\n",
      "@> Checking AtomGroup 1fin_PROT_dk: 1 chains are identified\n",
      "@> Trying to match chains based on residue numbers and names:\n",
      "@>   Comparing Chain   from 2wxv_PROT_dk + 2wxv_lig Selection 'resnum 1299' (len=298) and Chain A from 1fin_PROT_dk (len=298):\n",
      "@> \tMatch: 298 residues match with 100% sequence identity and 100% overlap.\n",
      "@> Alignment is based on 34 atoms matching 'ca resnum 8 9 10 11 12 13 14 15 16 17 18 30 31 32 64 79 80 81 82 83 84 85 86 87 88 89 129 130 131 132 133 143 144 145'.\n",
      "@> Before alignment RMSD: 246.66\n",
      "@> After alignment  RMSD: 0.58\n",
      "@> 24 atoms and 1 coordinate set(s) were parsed in 0.00s.\n"
     ]
    },
    {
     "name": "stdout",
     "output_type": "stream",
     "text": [
      "[1299 1299 1299 1299 1299 1299 1299 1299 1299 1299 1299 1299]\n",
      "394.0\n"
     ]
    },
    {
     "name": "stderr",
     "output_type": "stream",
     "text": [
      "@> 4848 atoms and 1 coordinate set(s) were parsed in 0.06s.\n",
      "@> Checking AtomGroup 2x1n_PROT_dk + 2x1n_lig Selection 'resnum 1297': 1 chains are identified\n",
      "@> Checking AtomGroup 1fin_PROT_dk: 1 chains are identified\n",
      "@> Trying to match chains based on residue numbers and names:\n",
      "@>   Comparing Chain   from 2x1n_PROT_dk + 2x1n_lig Selection 'resnum 1297' (len=298) and Chain A from 1fin_PROT_dk (len=298):\n",
      "@> \tMatch: 298 residues match with 100% sequence identity and 100% overlap.\n",
      "@> Alignment is based on 34 atoms matching 'ca resnum 8 9 10 11 12 13 14 15 16 17 18 30 31 32 64 79 80 81 82 83 84 85 86 87 88 89 129 130 131 132 133 143 144 145'.\n",
      "@> Before alignment RMSD: 246.88\n",
      "@> After alignment  RMSD: 1.19\n",
      "@> 29 atoms and 1 coordinate set(s) were parsed in 0.00s.\n"
     ]
    },
    {
     "name": "stdout",
     "output_type": "stream",
     "text": [
      "[1297 1297 1297 1297 1297 1297 1297 1297 1297 1297]\n",
      "326.0\n"
     ]
    },
    {
     "name": "stderr",
     "output_type": "stream",
     "text": [
      "@> 4848 atoms and 1 coordinate set(s) were parsed in 0.06s.\n",
      "@> Checking AtomGroup 2xmy_PROT_dk + 2xmy_lig Selection 'resnum 500': 1 chains are identified\n",
      "@> Checking AtomGroup 1fin_PROT_dk: 1 chains are identified\n",
      "@> Trying to match chains based on residue numbers and names:\n",
      "@>   Comparing Chain   from 2xmy_PROT_dk + 2xmy_lig Selection 'resnum 500' (len=298) and Chain A from 1fin_PROT_dk (len=298):\n",
      "@> \tMatch: 298 residues match with 100% sequence identity and 100% overlap.\n",
      "@> Alignment is based on 34 atoms matching 'ca resnum 8 9 10 11 12 13 14 15 16 17 18 30 31 32 64 79 80 81 82 83 84 85 86 87 88 89 129 130 131 132 133 143 144 145'.\n",
      "@> Before alignment RMSD: 247.92\n",
      "@> After alignment  RMSD: 1.29\n"
     ]
    },
    {
     "name": "stdout",
     "output_type": "stream",
     "text": [
      "[500 500 500 500 500 500 500 500 500 500 500]\n",
      "414.0\n"
     ]
    },
    {
     "name": "stderr",
     "output_type": "stream",
     "text": [
      "@> 27 atoms and 1 coordinate set(s) were parsed in 0.01s.\n",
      "@> 4848 atoms and 1 coordinate set(s) were parsed in 0.06s.\n",
      "@> Checking AtomGroup 2xnb_PROT_dk + 2xnb_lig Selection 'resnum 1299': 1 chains are identified\n",
      "@> Checking AtomGroup 1fin_PROT_dk: 1 chains are identified\n",
      "@> Trying to match chains based on residue numbers and names:\n",
      "@>   Comparing Chain   from 2xnb_PROT_dk + 2xnb_lig Selection 'resnum 1299' (len=298) and Chain A from 1fin_PROT_dk (len=298):\n",
      "@> \tMatch: 298 residues match with 100% sequence identity and 100% overlap.\n",
      "@> Alignment is based on 34 atoms matching 'ca resnum 8 9 10 11 12 13 14 15 16 17 18 30 31 32 64 79 80 81 82 83 84 85 86 87 88 89 129 130 131 132 133 143 144 145'.\n",
      "@> Before alignment RMSD: 247.89\n",
      "@> After alignment  RMSD: 1.27\n",
      "@> 18 atoms and 1 coordinate set(s) were parsed in 0.00s.\n"
     ]
    },
    {
     "name": "stdout",
     "output_type": "stream",
     "text": [
      "[1299 1299 1299 1299 1299 1299 1299 1299 1299 1299 1299 1299 1299]\n",
      "360.0\n"
     ]
    },
    {
     "name": "stderr",
     "output_type": "stream",
     "text": [
      "@> 4848 atoms and 1 coordinate set(s) were parsed in 0.05s.\n",
      "@> Checking AtomGroup 3bht_PROT_dk + 3bht_lig Selection 'resnum 299': 1 chains are identified\n",
      "@> Checking AtomGroup 1fin_PROT_dk: 1 chains are identified\n",
      "@> Trying to match chains based on residue numbers and names:\n",
      "@>   Comparing Chain   from 3bht_PROT_dk + 3bht_lig Selection 'resnum 299' (len=298) and Chain A from 1fin_PROT_dk (len=298):\n",
      "@> \tMatch: 298 residues match with 100% sequence identity and 100% overlap.\n",
      "@> Alignment is based on 34 atoms matching 'ca resnum 8 9 10 11 12 13 14 15 16 17 18 30 31 32 64 79 80 81 82 83 84 85 86 87 88 89 129 130 131 132 133 143 144 145'.\n",
      "@> Before alignment RMSD: 246.89\n",
      "@> After alignment  RMSD: 0.73\n"
     ]
    },
    {
     "name": "stdout",
     "output_type": "stream",
     "text": [
      "[299 299 299 299 299 299 299 299 299]\n",
      "230.0\n"
     ]
    },
    {
     "name": "stderr",
     "output_type": "stream",
     "text": [
      "@> 20 atoms and 1 coordinate set(s) were parsed in 0.00s.\n",
      "@> 4848 atoms and 1 coordinate set(s) were parsed in 0.05s.\n",
      "@> Checking AtomGroup 3bhu_PROT_dk + 3bhu_lig Selection 'resnum 299': 1 chains are identified\n",
      "@> Checking AtomGroup 1fin_PROT_dk: 1 chains are identified\n",
      "@> Trying to match chains based on residue numbers and names:\n",
      "@>   Comparing Chain   from 3bhu_PROT_dk + 3bhu_lig Selection 'resnum 299' (len=298) and Chain A from 1fin_PROT_dk (len=298):\n",
      "@> \tMatch: 298 residues match with 100% sequence identity and 100% overlap.\n",
      "@> Alignment is based on 34 atoms matching 'ca resnum 8 9 10 11 12 13 14 15 16 17 18 30 31 32 64 79 80 81 82 83 84 85 86 87 88 89 129 130 131 132 133 143 144 145'.\n",
      "@> Before alignment RMSD: 246.94\n",
      "@> After alignment  RMSD: 0.87\n",
      "@> 22 atoms and 1 coordinate set(s) were parsed in 0.00s.\n"
     ]
    },
    {
     "name": "stdout",
     "output_type": "stream",
     "text": [
      "[299 299 299 299 299 299 299 299 299]\n",
      "254.0\n"
     ]
    },
    {
     "name": "stderr",
     "output_type": "stream",
     "text": [
      "@> 4848 atoms and 1 coordinate set(s) were parsed in 0.05s.\n",
      "@> Checking AtomGroup 3bhv_PROT_dk + 3bhv_lig Selection 'resnum 299': 1 chains are identified\n",
      "@> Checking AtomGroup 1fin_PROT_dk: 1 chains are identified\n",
      "@> Trying to match chains based on residue numbers and names:\n",
      "@>   Comparing Chain   from 3bhv_PROT_dk + 3bhv_lig Selection 'resnum 299' (len=298) and Chain A from 1fin_PROT_dk (len=298):\n",
      "@> \tMatch: 298 residues match with 100% sequence identity and 100% overlap.\n",
      "@> Alignment is based on 34 atoms matching 'ca resnum 8 9 10 11 12 13 14 15 16 17 18 30 31 32 64 79 80 81 82 83 84 85 86 87 88 89 129 130 131 132 133 143 144 145'.\n",
      "@> Before alignment RMSD: 246.72\n",
      "@> After alignment  RMSD: 0.42\n",
      "@> 32 atoms and 1 coordinate set(s) were parsed in 0.00s.\n"
     ]
    },
    {
     "name": "stdout",
     "output_type": "stream",
     "text": [
      "[299 299 299 299 299 299 299 299 299 299]\n",
      "282.0\n"
     ]
    },
    {
     "name": "stderr",
     "output_type": "stream",
     "text": [
      "@> 4848 atoms and 1 coordinate set(s) were parsed in 0.05s.\n",
      "@> Checking AtomGroup 3ddp_PROT_dk + 3ddp_lig Selection 'resnum 299': 1 chains are identified\n",
      "@> Checking AtomGroup 1fin_PROT_dk: 1 chains are identified\n",
      "@> Trying to match chains based on residue numbers and names:\n",
      "@>   Comparing Chain   from 3ddp_PROT_dk + 3ddp_lig Selection 'resnum 299' (len=298) and Chain A from 1fin_PROT_dk (len=298):\n",
      "@> \tMatch: 298 residues match with 100% sequence identity and 100% overlap.\n",
      "@> Alignment is based on 34 atoms matching 'ca resnum 8 9 10 11 12 13 14 15 16 17 18 30 31 32 64 79 80 81 82 83 84 85 86 87 88 89 129 130 131 132 133 143 144 145'.\n",
      "@> Before alignment RMSD: 246.98\n",
      "@> After alignment  RMSD: 1.20\n",
      "@> 26 atoms and 1 coordinate set(s) were parsed in 0.00s.\n"
     ]
    },
    {
     "name": "stdout",
     "output_type": "stream",
     "text": [
      "[299 299 299 299 299 299 299 299 299 299 299 299]\n",
      "402.0\n"
     ]
    },
    {
     "name": "stderr",
     "output_type": "stream",
     "text": [
      "@> 4848 atoms and 1 coordinate set(s) were parsed in 0.05s.\n",
      "@> Checking AtomGroup 3ddq_PROT_dk + 3ddq_lig Selection 'resnum 299': 1 chains are identified\n",
      "@> Checking AtomGroup 1fin_PROT_dk: 1 chains are identified\n",
      "@> Trying to match chains based on residue numbers and names:\n",
      "@>   Comparing Chain   from 3ddq_PROT_dk + 3ddq_lig Selection 'resnum 299' (len=298) and Chain A from 1fin_PROT_dk (len=298):\n",
      "@> \tMatch: 298 residues match with 100% sequence identity and 100% overlap.\n",
      "@> Alignment is based on 34 atoms matching 'ca resnum 8 9 10 11 12 13 14 15 16 17 18 30 31 32 64 79 80 81 82 83 84 85 86 87 88 89 129 130 131 132 133 143 144 145'.\n",
      "@> Before alignment RMSD: 246.99\n",
      "@> After alignment  RMSD: 1.23\n",
      "@> 26 atoms and 1 coordinate set(s) were parsed in 0.00s.\n"
     ]
    },
    {
     "name": "stdout",
     "output_type": "stream",
     "text": [
      "[299 299 299 299 299 299 299 299 299 299 299]\n",
      "328.0\n"
     ]
    },
    {
     "name": "stderr",
     "output_type": "stream",
     "text": [
      "@> 4848 atoms and 1 coordinate set(s) were parsed in 0.05s.\n",
      "@> Checking AtomGroup 3dog_PROT_dk + 3dog_lig Selection 'resnum 299': 1 chains are identified\n",
      "@> Checking AtomGroup 1fin_PROT_dk: 1 chains are identified\n",
      "@> Trying to match chains based on residue numbers and names:\n",
      "@>   Comparing Chain   from 3dog_PROT_dk + 3dog_lig Selection 'resnum 299' (len=298) and Chain A from 1fin_PROT_dk (len=298):\n",
      "@> \tMatch: 298 residues match with 100% sequence identity and 100% overlap.\n",
      "@> Alignment is based on 34 atoms matching 'ca resnum 8 9 10 11 12 13 14 15 16 17 18 30 31 32 64 79 80 81 82 83 84 85 86 87 88 89 129 130 131 132 133 143 144 145'.\n",
      "@> Before alignment RMSD: 247.03\n",
      "@> After alignment  RMSD: 1.22\n",
      "@> 36 atoms and 1 coordinate set(s) were parsed in 0.00s.\n"
     ]
    },
    {
     "name": "stdout",
     "output_type": "stream",
     "text": [
      "[299 299 299 299 299 299 299 299 299 299]\n",
      "328.0\n"
     ]
    },
    {
     "name": "stderr",
     "output_type": "stream",
     "text": [
      "@> 4848 atoms and 1 coordinate set(s) were parsed in 0.06s.\n",
      "@> Checking AtomGroup 3eid_PROT_dk + 3eid_lig Selection 'resnum 299': 1 chains are identified\n",
      "@> Checking AtomGroup 1fin_PROT_dk: 1 chains are identified\n",
      "@> Trying to match chains based on residue numbers and names:\n",
      "@>   Comparing Chain   from 3eid_PROT_dk + 3eid_lig Selection 'resnum 299' (len=298) and Chain A from 1fin_PROT_dk (len=298):\n",
      "@> \tMatch: 298 residues match with 100% sequence identity and 100% overlap.\n",
      "@> Alignment is based on 34 atoms matching 'ca resnum 8 9 10 11 12 13 14 15 16 17 18 30 31 32 64 79 80 81 82 83 84 85 86 87 88 89 129 130 131 132 133 143 144 145'.\n",
      "@> Before alignment RMSD: 246.68\n",
      "@> After alignment  RMSD: 0.46\n",
      "@> 19 atoms and 1 coordinate set(s) were parsed in 0.00s.\n"
     ]
    },
    {
     "name": "stdout",
     "output_type": "stream",
     "text": [
      "[299 299 299 299 299 299 299 299 299]\n",
      "460.0\n"
     ]
    },
    {
     "name": "stderr",
     "output_type": "stream",
     "text": [
      "@> 4849 atoms and 1 coordinate set(s) were parsed in 0.05s.\n",
      "@> Checking AtomGroup 3ej1_PROT_dk + 3ej1_lig Selection 'resnum 299': 1 chains are identified\n",
      "@> Checking AtomGroup 1fin_PROT_dk: 1 chains are identified\n",
      "@> Trying to match chains based on residue numbers and names:\n",
      "@>   Comparing Chain   from 3ej1_PROT_dk + 3ej1_lig Selection 'resnum 299' (len=297) and Chain A from 1fin_PROT_dk (len=298):\n",
      "@> \tMatch: 297 residues match with 100% sequence identity and 100% overlap.\n",
      "@> Alignment is based on 34 atoms matching 'ca resnum 8 9 10 11 12 13 14 15 16 17 18 30 31 32 64 79 80 81 82 83 84 85 86 87 88 89 129 130 131 132 133 143 144 145'.\n",
      "@> Before alignment RMSD: 247.05\n",
      "@> After alignment  RMSD: 1.08\n",
      "@> 29 atoms and 1 coordinate set(s) were parsed in 0.00s.\n"
     ]
    },
    {
     "name": "stdout",
     "output_type": "stream",
     "text": [
      "[299 299 299 299 299 299]\n",
      "240.0\n"
     ]
    },
    {
     "name": "stderr",
     "output_type": "stream",
     "text": [
      "@> 4849 atoms and 1 coordinate set(s) were parsed in 0.05s.\n",
      "@> Checking AtomGroup 3eoc_PROT_dk + 3eoc_lig Selection 'resnum 501': 1 chains are identified\n",
      "@> Checking AtomGroup 1fin_PROT_dk: 1 chains are identified\n",
      "@> Trying to match chains based on residue numbers and names:\n",
      "@>   Comparing Chain   from 3eoc_PROT_dk + 3eoc_lig Selection 'resnum 501' (len=297) and Chain A from 1fin_PROT_dk (len=298):\n",
      "@> \tMatch: 297 residues match with 100% sequence identity and 100% overlap.\n",
      "@> Alignment is based on 34 atoms matching 'ca resnum 8 9 10 11 12 13 14 15 16 17 18 30 31 32 64 79 80 81 82 83 84 85 86 87 88 89 129 130 131 132 133 143 144 145'.\n",
      "@> Before alignment RMSD: 247.02\n",
      "@> After alignment  RMSD: 1.17\n",
      "@> 68 atoms and 1 coordinate set(s) were parsed in 0.00s.\n"
     ]
    },
    {
     "name": "stdout",
     "output_type": "stream",
     "text": [
      "[501 501 501 501 501 501 501 501 501 501 501]\n",
      "370.0\n"
     ]
    },
    {
     "name": "stderr",
     "output_type": "stream",
     "text": [
      "@> 4848 atoms and 1 coordinate set(s) were parsed in 0.10s.\n",
      "@> Checking AtomGroup 3ezr_PROT_dk + 3ezr_lig Selection 'resnum 300': 1 chains are identified\n",
      "@> Checking AtomGroup 1fin_PROT_dk: 1 chains are identified\n",
      "@> Trying to match chains based on residue numbers and names:\n",
      "@>   Comparing Chain   from 3ezr_PROT_dk + 3ezr_lig Selection 'resnum 300' (len=298) and Chain A from 1fin_PROT_dk (len=298):\n",
      "@> \tMatch: 298 residues match with 100% sequence identity and 100% overlap.\n",
      "@> Alignment is based on 34 atoms matching 'ca resnum 8 9 10 11 12 13 14 15 16 17 18 30 31 32 64 79 80 81 82 83 84 85 86 87 88 89 129 130 131 132 133 143 144 145'.\n",
      "@> Before alignment RMSD: 247.62\n",
      "@> After alignment  RMSD: 0.90\n",
      "@> 32 atoms and 1 coordinate set(s) were parsed in 0.00s.\n"
     ]
    },
    {
     "name": "stdout",
     "output_type": "stream",
     "text": [
      "[300 300 300 300 300 300 300 300 300 300 300 300 300 300 300 300]\n",
      "426.0\n"
     ]
    },
    {
     "name": "stderr",
     "output_type": "stream",
     "text": [
      "@> 4848 atoms and 1 coordinate set(s) were parsed in 0.11s.\n",
      "@> Checking AtomGroup 3ezv_PROT_dk + 3ezv_lig Selection 'resnum 300': 1 chains are identified\n",
      "@> Checking AtomGroup 1fin_PROT_dk: 1 chains are identified\n",
      "@> Trying to match chains based on residue numbers and names:\n",
      "@>   Comparing Chain   from 3ezv_PROT_dk + 3ezv_lig Selection 'resnum 300' (len=298) and Chain A from 1fin_PROT_dk (len=298):\n",
      "@> \tMatch: 298 residues match with 100% sequence identity and 100% overlap.\n",
      "@> Alignment is based on 34 atoms matching 'ca resnum 8 9 10 11 12 13 14 15 16 17 18 30 31 32 64 79 80 81 82 83 84 85 86 87 88 89 129 130 131 132 133 143 144 145'.\n",
      "@> Before alignment RMSD: 247.61\n",
      "@> After alignment  RMSD: 0.72\n",
      "@> 38 atoms and 1 coordinate set(s) were parsed in 0.00s.\n"
     ]
    },
    {
     "name": "stdout",
     "output_type": "stream",
     "text": [
      "[300 300 300 300 300 300 300 300 300 300 300 300 300 300]\n",
      "398.0\n"
     ]
    },
    {
     "name": "stderr",
     "output_type": "stream",
     "text": [
      "@> 4848 atoms and 1 coordinate set(s) were parsed in 0.08s.\n",
      "@> Checking AtomGroup 3f5x_PROT_dk + 3f5x_lig Selection 'resnum 300': 1 chains are identified\n",
      "@> Checking AtomGroup 1fin_PROT_dk: 1 chains are identified\n",
      "@> Trying to match chains based on residue numbers and names:\n",
      "@>   Comparing Chain   from 3f5x_PROT_dk + 3f5x_lig Selection 'resnum 300' (len=298) and Chain A from 1fin_PROT_dk (len=298):\n",
      "@> \tMatch: 298 residues match with 100% sequence identity and 100% overlap.\n",
      "@> Alignment is based on 34 atoms matching 'ca resnum 8 9 10 11 12 13 14 15 16 17 18 30 31 32 64 79 80 81 82 83 84 85 86 87 88 89 129 130 131 132 133 143 144 145'.\n",
      "@> Before alignment RMSD: 246.57\n",
      "@> After alignment  RMSD: 0.31\n"
     ]
    },
    {
     "name": "stdout",
     "output_type": "stream",
     "text": [
      "[299 300 300 300 300 300 300 300 300 300 300 300 300 300 300 300]\n",
      "84.0\n",
      "398.0\n"
     ]
    },
    {
     "name": "stderr",
     "output_type": "stream",
     "text": [
      "@> 19 atoms and 1 coordinate set(s) were parsed in 0.00s.\n",
      "@> 4848 atoms and 1 coordinate set(s) were parsed in 0.10s.\n",
      "@> Checking AtomGroup 3fz1_PROT_dk + 3fz1_lig Selection 'resnum 299': 1 chains are identified\n",
      "@> Checking AtomGroup 1fin_PROT_dk: 1 chains are identified\n",
      "@> Trying to match chains based on residue numbers and names:\n",
      "@>   Comparing Chain   from 3fz1_PROT_dk + 3fz1_lig Selection 'resnum 299' (len=298) and Chain A from 1fin_PROT_dk (len=298):\n",
      "@> \tMatch: 298 residues match with 100% sequence identity and 100% overlap.\n",
      "@> Alignment is based on 34 atoms matching 'ca resnum 8 9 10 11 12 13 14 15 16 17 18 30 31 32 64 79 80 81 82 83 84 85 86 87 88 89 129 130 131 132 133 143 144 145'.\n",
      "@> Before alignment RMSD: 247.68\n",
      "@> After alignment  RMSD: 1.04\n",
      "@> 28 atoms and 1 coordinate set(s) were parsed in 0.00s.\n"
     ]
    },
    {
     "name": "stdout",
     "output_type": "stream",
     "text": [
      "[299 299 299 299 299 299 299 299 299]\n",
      "262.0\n"
     ]
    },
    {
     "name": "stderr",
     "output_type": "stream",
     "text": [
      "@> 4848 atoms and 1 coordinate set(s) were parsed in 0.07s.\n",
      "@> Checking AtomGroup 3ig7_PROT_dk + 3ig7_lig Selection 'resnum 999': 1 chains are identified\n",
      "@> Checking AtomGroup 1fin_PROT_dk: 1 chains are identified\n",
      "@> Trying to match chains based on residue numbers and names:\n",
      "@>   Comparing Chain   from 3ig7_PROT_dk + 3ig7_lig Selection 'resnum 999' (len=298) and Chain A from 1fin_PROT_dk (len=298):\n",
      "@> \tMatch: 298 residues match with 100% sequence identity and 100% overlap.\n",
      "@> Alignment is based on 34 atoms matching 'ca resnum 8 9 10 11 12 13 14 15 16 17 18 30 31 32 64 79 80 81 82 83 84 85 86 87 88 89 129 130 131 132 133 143 144 145'.\n",
      "@> Before alignment RMSD: 247.69\n",
      "@> After alignment  RMSD: 0.96\n"
     ]
    },
    {
     "name": "stdout",
     "output_type": "stream",
     "text": [
      "[999 999 999 999 999 999 999 999 999 999 999 999 999]\n",
      "320.0\n"
     ]
    },
    {
     "name": "stderr",
     "output_type": "stream",
     "text": [
      "@> 25 atoms and 1 coordinate set(s) were parsed in 0.00s.\n",
      "@> 4848 atoms and 1 coordinate set(s) were parsed in 0.08s.\n",
      "@> Checking AtomGroup 3igg_PROT_dk + 3igg_lig Selection 'resnum 999': 1 chains are identified\n",
      "@> Checking AtomGroup 1fin_PROT_dk: 1 chains are identified\n",
      "@> Trying to match chains based on residue numbers and names:\n",
      "@>   Comparing Chain   from 3igg_PROT_dk + 3igg_lig Selection 'resnum 999' (len=298) and Chain A from 1fin_PROT_dk (len=298):\n",
      "@> \tMatch: 298 residues match with 100% sequence identity and 100% overlap.\n",
      "@> Alignment is based on 34 atoms matching 'ca resnum 8 9 10 11 12 13 14 15 16 17 18 30 31 32 64 79 80 81 82 83 84 85 86 87 88 89 129 130 131 132 133 143 144 145'.\n",
      "@> Before alignment RMSD: 247.82\n",
      "@> After alignment  RMSD: 1.30\n",
      "@> 25 atoms and 1 coordinate set(s) were parsed in 0.00s.\n"
     ]
    },
    {
     "name": "stdout",
     "output_type": "stream",
     "text": [
      "[999 999 999 999 999 999 999 999 999 999]\n",
      "282.0\n"
     ]
    },
    {
     "name": "stderr",
     "output_type": "stream",
     "text": [
      "@> 4848 atoms and 1 coordinate set(s) were parsed in 0.07s.\n",
      "@> Checking AtomGroup 3le6_PROT_dk + 3le6_lig Selection 'resnum 299': 1 chains are identified\n",
      "@> Checking AtomGroup 1fin_PROT_dk: 1 chains are identified\n",
      "@> Trying to match chains based on residue numbers and names:\n",
      "@>   Comparing Chain   from 3le6_PROT_dk + 3le6_lig Selection 'resnum 299' (len=298) and Chain A from 1fin_PROT_dk (len=298):\n",
      "@> \tMatch: 298 residues match with 100% sequence identity and 100% overlap.\n",
      "@> Alignment is based on 34 atoms matching 'ca resnum 8 9 10 11 12 13 14 15 16 17 18 30 31 32 64 79 80 81 82 83 84 85 86 87 88 89 129 130 131 132 133 143 144 145'.\n",
      "@> Before alignment RMSD: 247.64\n",
      "@> After alignment  RMSD: 1.24\n"
     ]
    },
    {
     "name": "stdout",
     "output_type": "stream",
     "text": [
      "[299 299 299 299 299 299 299]\n",
      "306.0\n"
     ]
    },
    {
     "name": "stderr",
     "output_type": "stream",
     "text": [
      "@> 28 atoms and 1 coordinate set(s) were parsed in 0.00s.\n",
      "@> 4848 atoms and 1 coordinate set(s) were parsed in 0.07s.\n",
      "@> Checking AtomGroup 3lfn_PROT_dk + 3lfn_lig Selection 'resnum 299': 1 chains are identified\n",
      "@> Checking AtomGroup 1fin_PROT_dk: 1 chains are identified\n",
      "@> Trying to match chains based on residue numbers and names:\n",
      "@>   Comparing Chain   from 3lfn_PROT_dk + 3lfn_lig Selection 'resnum 299' (len=298) and Chain A from 1fin_PROT_dk (len=298):\n",
      "@> \tMatch: 298 residues match with 100% sequence identity and 100% overlap.\n",
      "@> Alignment is based on 34 atoms matching 'ca resnum 8 9 10 11 12 13 14 15 16 17 18 30 31 32 64 79 80 81 82 83 84 85 86 87 88 89 129 130 131 132 133 143 144 145'.\n",
      "@> Before alignment RMSD: 247.71\n",
      "@> After alignment  RMSD: 1.27\n"
     ]
    },
    {
     "name": "stdout",
     "output_type": "stream",
     "text": [
      "[299 299 299 299 299 299 299 299 299 299 299 299]\n",
      "350.0\n"
     ]
    },
    {
     "name": "stderr",
     "output_type": "stream",
     "text": [
      "@> 23 atoms and 1 coordinate set(s) were parsed in 0.00s.\n",
      "@> 4848 atoms and 1 coordinate set(s) were parsed in 0.07s.\n",
      "@> Checking AtomGroup 3lfq_PROT_dk + 3lfq_lig Selection 'resnum 299': 1 chains are identified\n",
      "@> Checking AtomGroup 1fin_PROT_dk: 1 chains are identified\n",
      "@> Trying to match chains based on residue numbers and names:\n",
      "@>   Comparing Chain   from 3lfq_PROT_dk + 3lfq_lig Selection 'resnum 299' (len=298) and Chain A from 1fin_PROT_dk (len=298):\n",
      "@> \tMatch: 298 residues match with 100% sequence identity and 100% overlap.\n",
      "@> Alignment is based on 34 atoms matching 'ca resnum 8 9 10 11 12 13 14 15 16 17 18 30 31 32 64 79 80 81 82 83 84 85 86 87 88 89 129 130 131 132 133 143 144 145'.\n",
      "@> Before alignment RMSD: 247.52\n",
      "@> After alignment  RMSD: 1.17\n",
      "@> 22 atoms and 1 coordinate set(s) were parsed in 0.00s.\n"
     ]
    },
    {
     "name": "stdout",
     "output_type": "stream",
     "text": [
      "[299 299 299 299 299 299 299 299]\n",
      "262.0\n"
     ]
    },
    {
     "name": "stderr",
     "output_type": "stream",
     "text": [
      "@> 4848 atoms and 1 coordinate set(s) were parsed in 0.06s.\n",
      "@> Checking AtomGroup 3lfs_PROT_dk + 3lfs_lig Selection 'resnum 299': 1 chains are identified\n",
      "@> Checking AtomGroup 1fin_PROT_dk: 1 chains are identified\n",
      "@> Trying to match chains based on residue numbers and names:\n",
      "@>   Comparing Chain   from 3lfs_PROT_dk + 3lfs_lig Selection 'resnum 299' (len=298) and Chain A from 1fin_PROT_dk (len=298):\n",
      "@> \tMatch: 298 residues match with 100% sequence identity and 100% overlap.\n",
      "@> Alignment is based on 34 atoms matching 'ca resnum 8 9 10 11 12 13 14 15 16 17 18 30 31 32 64 79 80 81 82 83 84 85 86 87 88 89 129 130 131 132 133 143 144 145'.\n",
      "@> Before alignment RMSD: 247.49\n",
      "@> After alignment  RMSD: 1.10\n",
      "@> 23 atoms and 1 coordinate set(s) were parsed in 0.00s.\n"
     ]
    },
    {
     "name": "stdout",
     "output_type": "stream",
     "text": [
      "[299 299 299 299 299 299 299 299 299]\n",
      "262.0\n"
     ]
    },
    {
     "name": "stderr",
     "output_type": "stream",
     "text": [
      "@> 4848 atoms and 1 coordinate set(s) were parsed in 0.10s.\n",
      "@> Checking AtomGroup 3my5_PROT_dk + 3my5_lig Selection 'resnum 300': 1 chains are identified\n",
      "@> Checking AtomGroup 1fin_PROT_dk: 1 chains are identified\n",
      "@> Trying to match chains based on residue numbers and names:\n",
      "@>   Comparing Chain   from 3my5_PROT_dk + 3my5_lig Selection 'resnum 300' (len=298) and Chain A from 1fin_PROT_dk (len=298):\n",
      "@> \tMatch: 298 residues match with 100% sequence identity and 100% overlap.\n",
      "@> Alignment is based on 34 atoms matching 'ca resnum 8 9 10 11 12 13 14 15 16 17 18 30 31 32 64 79 80 81 82 83 84 85 86 87 88 89 129 130 131 132 133 143 144 145'.\n",
      "@> Before alignment RMSD: 246.69\n",
      "@> After alignment  RMSD: 0.68\n",
      "@> 28 atoms and 1 coordinate set(s) were parsed in 0.00s.\n"
     ]
    },
    {
     "name": "stdout",
     "output_type": "stream",
     "text": [
      "[300 300 300 300 300 300]\n",
      "236.0\n"
     ]
    },
    {
     "name": "stderr",
     "output_type": "stream",
     "text": [
      "@> 4848 atoms and 1 coordinate set(s) were parsed in 0.08s.\n",
      "@> Checking AtomGroup 3ns9_PROT_dk + 3ns9_lig Selection 'resnum 0': 1 chains are identified\n",
      "@> Checking AtomGroup 1fin_PROT_dk: 1 chains are identified\n",
      "@> Trying to match chains based on residue numbers and names:\n",
      "@>   Comparing Chain   from 3ns9_PROT_dk + 3ns9_lig Selection 'resnum 0' (len=298) and Chain A from 1fin_PROT_dk (len=298):\n",
      "@> \tMatch: 298 residues match with 100% sequence identity and 100% overlap.\n",
      "@> Alignment is based on 34 atoms matching 'ca resnum 8 9 10 11 12 13 14 15 16 17 18 30 31 32 64 79 80 81 82 83 84 85 86 87 88 89 129 130 131 132 133 143 144 145'.\n",
      "@> Before alignment RMSD: 247.76\n",
      "@> After alignment  RMSD: 1.27\n"
     ]
    },
    {
     "name": "stdout",
     "output_type": "stream",
     "text": [
      "[0 0 0 0 0 0 0 0 0 0 0 0]\n",
      "358.0\n"
     ]
    },
    {
     "name": "stderr",
     "output_type": "stream",
     "text": [
      "@> 26 atoms and 1 coordinate set(s) were parsed in 0.00s.\n",
      "@> 4848 atoms and 1 coordinate set(s) were parsed in 0.09s.\n",
      "@> Checking AtomGroup 3pj8_PROT_dk + 3pj8_lig Selection 'resnum 299': 1 chains are identified\n",
      "@> Checking AtomGroup 1fin_PROT_dk: 1 chains are identified\n",
      "@> Trying to match chains based on residue numbers and names:\n",
      "@>   Comparing Chain   from 3pj8_PROT_dk + 3pj8_lig Selection 'resnum 299' (len=298) and Chain A from 1fin_PROT_dk (len=298):\n",
      "@> \tMatch: 298 residues match with 100% sequence identity and 100% overlap.\n",
      "@> Alignment is based on 34 atoms matching 'ca resnum 8 9 10 11 12 13 14 15 16 17 18 30 31 32 64 79 80 81 82 83 84 85 86 87 88 89 129 130 131 132 133 143 144 145'.\n",
      "@> Before alignment RMSD: 247.66\n",
      "@> After alignment  RMSD: 1.29\n",
      "@> 62 atoms and 1 coordinate set(s) were parsed in 0.00s.\n"
     ]
    },
    {
     "name": "stdout",
     "output_type": "stream",
     "text": [
      "[299 299 299 299 299 299 299 299 299]\n",
      "328.0\n"
     ]
    },
    {
     "name": "stderr",
     "output_type": "stream",
     "text": [
      "@> 4908 atoms and 1 coordinate set(s) were parsed in 0.09s.\n",
      "@> Checking AtomGroup 3pxf_PROT_dk + 3pxf_lig Selection 'resnum 305': 1 chains are identified\n",
      "@> Checking AtomGroup 1fin_PROT_dk: 1 chains are identified\n",
      "@> Trying to match chains based on residue numbers and names:\n",
      "@>   Comparing Chain   from 3pxf_PROT_dk + 3pxf_lig Selection 'resnum 305' (len=302) and Chain A from 1fin_PROT_dk (len=298):\n",
      "@> \tFailed to match chains (seqid=6%, overlap=99%).\n",
      "@> Trying to match chains based on global sequence alignment:\n",
      "@>  Comparing Chain   from 3pxf_PROT_dk + 3pxf_lig Selection 'resnum 305' (len=302) and Chain A from 1fin_PROT_dk (len=298):\n",
      "@> \tMatch: 298 residues match with 100% sequence identity and 99% overlap.\n",
      "@> Alignment is based on 34 atoms matching 'ca resnum 8 9 10 11 12 13 14 15 16 17 18 30 31 32 64 79 80 81 82 83 84 85 86 87 88 89 129 130 131 132 133 143 144 145'.\n",
      "@> Before alignment RMSD: 247.56\n",
      "@> After alignment  RMSD: 1.69\n"
     ]
    },
    {
     "name": "stdout",
     "output_type": "stream",
     "text": [
      "[302 304 304 304 305 305 305 305 305]\n",
      "56.0\n",
      "286.0\n",
      "286.0\n"
     ]
    },
    {
     "name": "stderr",
     "output_type": "stream",
     "text": [
      "@> 67 atoms and 1 coordinate set(s) were parsed in 0.00s.\n",
      "@> 4848 atoms and 1 coordinate set(s) were parsed in 0.09s.\n",
      "@> Checking AtomGroup 3pxq_PROT_dk + 3pxq_lig Selection 'resnum 300': 1 chains are identified\n",
      "@> Checking AtomGroup 1fin_PROT_dk: 1 chains are identified\n",
      "@> Trying to match chains based on residue numbers and names:\n",
      "@>   Comparing Chain   from 3pxq_PROT_dk + 3pxq_lig Selection 'resnum 300' (len=298) and Chain A from 1fin_PROT_dk (len=298):\n",
      "@> \tMatch: 298 residues match with 100% sequence identity and 100% overlap.\n",
      "@> Alignment is based on 34 atoms matching 'ca resnum 8 9 10 11 12 13 14 15 16 17 18 30 31 32 64 79 80 81 82 83 84 85 86 87 88 89 129 130 131 132 133 143 144 145'.\n",
      "@> Before alignment RMSD: 247.50\n",
      "@> After alignment  RMSD: 1.68\n",
      "@> 4 atoms and 1 coordinate set(s) were parsed in 0.00s.\n"
     ]
    },
    {
     "name": "stdout",
     "output_type": "stream",
     "text": [
      "[300 300 300 300 300 300 300 300 300 300 300 302 302 302 302 302]\n",
      "286.0\n",
      "286.0\n"
     ]
    },
    {
     "name": "stderr",
     "output_type": "stream",
     "text": [
      "@> 4848 atoms and 1 coordinate set(s) were parsed in 0.07s.\n",
      "@> 22 atoms and 1 coordinate set(s) were parsed in 0.00s.\n",
      "@> 4848 atoms and 1 coordinate set(s) were parsed in 0.06s.\n",
      "@> Checking AtomGroup 3pxy_PROT_dk + 3pxy_lig Selection 'resnum 299': 1 chains are identified\n",
      "@> Checking AtomGroup 1fin_PROT_dk: 1 chains are identified\n",
      "@> Trying to match chains based on residue numbers and names:\n",
      "@>   Comparing Chain   from 3pxy_PROT_dk + 3pxy_lig Selection 'resnum 299' (len=298) and Chain A from 1fin_PROT_dk (len=298):\n",
      "@> \tMatch: 298 residues match with 100% sequence identity and 100% overlap.\n",
      "@> Alignment is based on 34 atoms matching 'ca resnum 8 9 10 11 12 13 14 15 16 17 18 30 31 32 64 79 80 81 82 83 84 85 86 87 88 89 129 130 131 132 133 143 144 145'.\n",
      "@> Before alignment RMSD: 248.18\n",
      "@> After alignment  RMSD: 1.63\n"
     ]
    },
    {
     "name": "stdout",
     "output_type": "stream",
     "text": [
      "La proteina 3pxr no tiene ligando en el pocket.\n",
      "[299 299 299 299 299 299 299 299 299 299 300 300 300 300 300]\n",
      "222.0\n",
      "64.0\n"
     ]
    },
    {
     "name": "stderr",
     "output_type": "stream",
     "text": [
      "@> 59 atoms and 1 coordinate set(s) were parsed in 0.00s.\n",
      "@> 4848 atoms and 1 coordinate set(s) were parsed in 0.09s.\n",
      "@> Checking AtomGroup 3pxz_PROT_dk + 3pxz_lig Selection 'resnum 300': 1 chains are identified\n",
      "@> Checking AtomGroup 1fin_PROT_dk: 1 chains are identified\n",
      "@> Trying to match chains based on residue numbers and names:\n",
      "@>   Comparing Chain   from 3pxz_PROT_dk + 3pxz_lig Selection 'resnum 300' (len=298) and Chain A from 1fin_PROT_dk (len=298):\n",
      "@> \tMatch: 298 residues match with 100% sequence identity and 100% overlap.\n",
      "@> Alignment is based on 34 atoms matching 'ca resnum 8 9 10 11 12 13 14 15 16 17 18 30 31 32 64 79 80 81 82 83 84 85 86 87 88 89 129 130 131 132 133 143 144 145'.\n",
      "@> Before alignment RMSD: 247.60\n",
      "@> After alignment  RMSD: 1.73\n",
      "@> 27 atoms and 1 coordinate set(s) were parsed in 0.00s.\n"
     ]
    },
    {
     "name": "stdout",
     "output_type": "stream",
     "text": [
      "[300 300 300 300 300 300 301 301 301 301 301 301]\n",
      "286.0\n",
      "222.0\n"
     ]
    },
    {
     "name": "stderr",
     "output_type": "stream",
     "text": [
      "@> 4848 atoms and 1 coordinate set(s) were parsed in 0.07s.\n",
      "@> Checking AtomGroup 3py0_PROT_dk + 3py0_lig Selection 'resnum 301': 1 chains are identified\n",
      "@> Checking AtomGroup 1fin_PROT_dk: 1 chains are identified\n",
      "@> Trying to match chains based on residue numbers and names:\n",
      "@>   Comparing Chain   from 3py0_PROT_dk + 3py0_lig Selection 'resnum 301' (len=298) and Chain A from 1fin_PROT_dk (len=298):\n",
      "@> \tMatch: 298 residues match with 100% sequence identity and 100% overlap.\n",
      "@> Alignment is based on 34 atoms matching 'ca resnum 8 9 10 11 12 13 14 15 16 17 18 30 31 32 64 79 80 81 82 83 84 85 86 87 88 89 129 130 131 132 133 143 144 145'.\n",
      "@> Before alignment RMSD: 248.20\n",
      "@> After alignment  RMSD: 1.56\n"
     ]
    },
    {
     "name": "stdout",
     "output_type": "stream",
     "text": [
      "[299 300 300 300 300 300 301 301 301 301 301 301 301 301 301]\n",
      "56.0\n",
      "64.0\n",
      "230.0\n"
     ]
    },
    {
     "name": "stderr",
     "output_type": "stream",
     "text": [
      "@> 64 atoms and 1 coordinate set(s) were parsed in 0.00s.\n",
      "@> 4848 atoms and 1 coordinate set(s) were parsed in 0.06s.\n",
      "@> Checking AtomGroup 3py1_PROT_dk + 3py1_lig Selection 'resnum 302': 1 chains are identified\n",
      "@> Checking AtomGroup 1fin_PROT_dk: 1 chains are identified\n",
      "@> Trying to match chains based on residue numbers and names:\n",
      "@>   Comparing Chain   from 3py1_PROT_dk + 3py1_lig Selection 'resnum 302' (len=298) and Chain A from 1fin_PROT_dk (len=298):\n",
      "@> \tMatch: 298 residues match with 100% sequence identity and 100% overlap.\n",
      "@> Alignment is based on 34 atoms matching 'ca resnum 8 9 10 11 12 13 14 15 16 17 18 30 31 32 64 79 80 81 82 83 84 85 86 87 88 89 129 130 131 132 133 143 144 145'.\n",
      "@> Before alignment RMSD: 248.03\n",
      "@> After alignment  RMSD: 1.79\n"
     ]
    },
    {
     "name": "stdout",
     "output_type": "stream",
     "text": [
      "[300 300 300 300 300 300 300 300 300 300 300 302 302 302 302 302 302 302\n",
      " 302]\n",
      "230.0\n",
      "286.0\n"
     ]
    },
    {
     "name": "stderr",
     "output_type": "stream",
     "text": [
      "@> 58 atoms and 1 coordinate set(s) were parsed in 0.00s.\n",
      "@> 4848 atoms and 1 coordinate set(s) were parsed in 0.09s.\n",
      "@> Checking AtomGroup 3qhr_PROT_dk + 3qhr_lig Selection 'resnum 297': 1 chains are identified\n",
      "@> Checking AtomGroup 1fin_PROT_dk: 1 chains are identified\n",
      "@> Trying to match chains based on residue numbers and names:\n",
      "@>   Comparing Chain   from 3qhr_PROT_dk + 3qhr_lig Selection 'resnum 297' (len=298) and Chain A from 1fin_PROT_dk (len=298):\n",
      "@> \tMatch: 298 residues match with 100% sequence identity and 100% overlap.\n",
      "@> Alignment is based on 34 atoms matching 'ca resnum 8 9 10 11 12 13 14 15 16 17 18 30 31 32 64 79 80 81 82 83 84 85 86 87 88 89 129 130 131 132 133 143 144 145'.\n",
      "@> Before alignment RMSD: 247.16\n",
      "@> After alignment  RMSD: 1.13\n",
      "@> 34 atoms and 1 coordinate set(s) were parsed in 0.00s.\n"
     ]
    },
    {
     "name": "stdout",
     "output_type": "stream",
     "text": [
      "[297 297 297 297 297 297 297 297 297 297 297 297 297 297 298 299 300 300\n",
      " 300 301]\n",
      "350.0\n",
      "0.0\n",
      "0.0\n",
      "0.0\n",
      "0.0\n"
     ]
    },
    {
     "name": "stderr",
     "output_type": "stream",
     "text": [
      "@> 4848 atoms and 1 coordinate set(s) were parsed in 0.06s.\n",
      "@> Checking AtomGroup 3qhw_PROT_dk + 3qhw_lig Selection 'resnum 297': 1 chains are identified\n",
      "@> Checking AtomGroup 1fin_PROT_dk: 1 chains are identified\n",
      "@> Trying to match chains based on residue numbers and names:\n",
      "@>   Comparing Chain   from 3qhw_PROT_dk + 3qhw_lig Selection 'resnum 297' (len=298) and Chain A from 1fin_PROT_dk (len=298):\n",
      "@> \tMatch: 298 residues match with 100% sequence identity and 100% overlap.\n",
      "@> Alignment is based on 34 atoms matching 'ca resnum 8 9 10 11 12 13 14 15 16 17 18 30 31 32 64 79 80 81 82 83 84 85 86 87 88 89 129 130 131 132 133 143 144 145'.\n",
      "@> Before alignment RMSD: 247.18\n",
      "@> After alignment  RMSD: 1.12\n"
     ]
    },
    {
     "name": "stdout",
     "output_type": "stream",
     "text": [
      "[297 297 297 297 297 297 297 297 297 297 297 297 297 298 299 300 300 300\n",
      " 301]\n",
      "350.0\n",
      "0.0\n",
      "0.0\n",
      "0.0\n",
      "0.0\n"
     ]
    },
    {
     "name": "stderr",
     "output_type": "stream",
     "text": [
      "@> 20 atoms and 1 coordinate set(s) were parsed in 0.00s.\n",
      "@> 4848 atoms and 1 coordinate set(s) were parsed in 0.07s.\n",
      "@> Checking AtomGroup 3ql8_PROT_dk + 3ql8_lig Selection 'resnum 300': 1 chains are identified\n",
      "@> Checking AtomGroup 1fin_PROT_dk: 1 chains are identified\n",
      "@> Trying to match chains based on residue numbers and names:\n",
      "@>   Comparing Chain   from 3ql8_PROT_dk + 3ql8_lig Selection 'resnum 300' (len=298) and Chain A from 1fin_PROT_dk (len=298):\n",
      "@> \tMatch: 298 residues match with 100% sequence identity and 100% overlap.\n",
      "@> Alignment is based on 34 atoms matching 'ca resnum 8 9 10 11 12 13 14 15 16 17 18 30 31 32 64 79 80 81 82 83 84 85 86 87 88 89 129 130 131 132 133 143 144 145'.\n",
      "@> Before alignment RMSD: 247.94\n",
      "@> After alignment  RMSD: 1.38\n"
     ]
    },
    {
     "name": "stdout",
     "output_type": "stream",
     "text": [
      "[300 300 300 300 300]\n",
      "206.0\n"
     ]
    },
    {
     "name": "stderr",
     "output_type": "stream",
     "text": [
      "@> 24 atoms and 1 coordinate set(s) were parsed in 0.00s.\n",
      "@> 4848 atoms and 1 coordinate set(s) were parsed in 0.08s.\n",
      "@> Checking AtomGroup 3qqf_PROT_dk + 3qqf_lig Selection 'resnum 543': 1 chains are identified\n",
      "@> Checking AtomGroup 1fin_PROT_dk: 1 chains are identified\n",
      "@> Trying to match chains based on residue numbers and names:\n",
      "@>   Comparing Chain   from 3qqf_PROT_dk + 3qqf_lig Selection 'resnum 543' (len=298) and Chain A from 1fin_PROT_dk (len=298):\n",
      "@> \tMatch: 298 residues match with 100% sequence identity and 100% overlap.\n",
      "@> Alignment is based on 34 atoms matching 'ca resnum 8 9 10 11 12 13 14 15 16 17 18 30 31 32 64 79 80 81 82 83 84 85 86 87 88 89 129 130 131 132 133 143 144 145'.\n",
      "@> Before alignment RMSD: 247.76\n",
      "@> After alignment  RMSD: 1.23\n",
      "@> 25 atoms and 1 coordinate set(s) were parsed in 0.00s.\n"
     ]
    },
    {
     "name": "stdout",
     "output_type": "stream",
     "text": [
      "[543 543 543 543 543 543 543 543 543 543]\n",
      "260.0\n"
     ]
    },
    {
     "name": "stderr",
     "output_type": "stream",
     "text": [
      "@> 4848 atoms and 1 coordinate set(s) were parsed in 0.09s.\n",
      "@> Checking AtomGroup 3qqg_PROT_dk + 3qqg_lig Selection 'resnum 300': 1 chains are identified\n",
      "@> Checking AtomGroup 1fin_PROT_dk: 1 chains are identified\n",
      "@> Trying to match chains based on residue numbers and names:\n",
      "@>   Comparing Chain   from 3qqg_PROT_dk + 3qqg_lig Selection 'resnum 300' (len=298) and Chain A from 1fin_PROT_dk (len=298):\n",
      "@> \tMatch: 298 residues match with 100% sequence identity and 100% overlap.\n",
      "@> Alignment is based on 34 atoms matching 'ca resnum 8 9 10 11 12 13 14 15 16 17 18 30 31 32 64 79 80 81 82 83 84 85 86 87 88 89 129 130 131 132 133 143 144 145'.\n",
      "@> Before alignment RMSD: 248.12\n",
      "@> After alignment  RMSD: 1.59\n"
     ]
    },
    {
     "name": "stdout",
     "output_type": "stream",
     "text": [
      "[300 300 300 300 300 300 300 300 301 301 301 301 301]\n",
      "194.0\n",
      "64.0\n"
     ]
    },
    {
     "name": "stderr",
     "output_type": "stream",
     "text": [
      "@> 43 atoms and 1 coordinate set(s) were parsed in 0.00s.\n",
      "@> 4848 atoms and 1 coordinate set(s) were parsed in 0.09s.\n",
      "@> Checking AtomGroup 3qqh_PROT_dk + 3qqh_lig Selection 'resnum 303': 1 chains are identified\n",
      "@> Checking AtomGroup 1fin_PROT_dk: 1 chains are identified\n",
      "@> Trying to match chains based on residue numbers and names:\n",
      "@>   Comparing Chain   from 3qqh_PROT_dk + 3qqh_lig Selection 'resnum 303' (len=298) and Chain A from 1fin_PROT_dk (len=298):\n",
      "@> \tMatch: 298 residues match with 100% sequence identity and 100% overlap.\n",
      "@> Alignment is based on 34 atoms matching 'ca resnum 8 9 10 11 12 13 14 15 16 17 18 30 31 32 64 79 80 81 82 83 84 85 86 87 88 89 129 130 131 132 133 143 144 145'.\n",
      "@> Before alignment RMSD: 248.25\n",
      "@> After alignment  RMSD: 1.64\n",
      "@> 24 atoms and 1 coordinate set(s) were parsed in 0.00s.\n"
     ]
    },
    {
     "name": "stdout",
     "output_type": "stream",
     "text": [
      "[303 303 303 303 303 303 303 303 303 303 303 304 304 304 304 304]\n",
      "266.0\n",
      "64.0\n"
     ]
    },
    {
     "name": "stderr",
     "output_type": "stream",
     "text": [
      "@> 4848 atoms and 1 coordinate set(s) were parsed in 0.05s.\n",
      "@> Checking AtomGroup 3qqj_PROT_dk + 3qqj_lig Selection 'resnum 300': 1 chains are identified\n",
      "@> Checking AtomGroup 1fin_PROT_dk: 1 chains are identified\n",
      "@> Trying to match chains based on residue numbers and names:\n",
      "@>   Comparing Chain   from 3qqj_PROT_dk + 3qqj_lig Selection 'resnum 300' (len=298) and Chain A from 1fin_PROT_dk (len=298):\n",
      "@> \tMatch: 298 residues match with 100% sequence identity and 100% overlap.\n",
      "@> Alignment is based on 34 atoms matching 'ca resnum 8 9 10 11 12 13 14 15 16 17 18 30 31 32 64 79 80 81 82 83 84 85 86 87 88 89 129 130 131 132 133 143 144 145'.\n",
      "@> Before alignment RMSD: 248.16\n",
      "@> After alignment  RMSD: 1.59\n",
      "@> 38 atoms and 1 coordinate set(s) were parsed in 0.00s.\n"
     ]
    },
    {
     "name": "stdout",
     "output_type": "stream",
     "text": [
      "[300 300 300 300 300 300 300 300 301 301 301 301 301]\n",
      "194.0\n",
      "64.0\n"
     ]
    },
    {
     "name": "stderr",
     "output_type": "stream",
     "text": [
      "@> 4848 atoms and 1 coordinate set(s) were parsed in 0.07s.\n",
      "@> Checking AtomGroup 3qqk_PROT_dk + 3qqk_lig Selection 'resnum 497': 1 chains are identified\n",
      "@> Checking AtomGroup 1fin_PROT_dk: 1 chains are identified\n",
      "@> Trying to match chains based on residue numbers and names:\n",
      "@>   Comparing Chain   from 3qqk_PROT_dk + 3qqk_lig Selection 'resnum 497' (len=298) and Chain A from 1fin_PROT_dk (len=298):\n",
      "@> \tMatch: 298 residues match with 100% sequence identity and 100% overlap.\n",
      "@> Alignment is based on 34 atoms matching 'ca resnum 8 9 10 11 12 13 14 15 16 17 18 30 31 32 64 79 80 81 82 83 84 85 86 87 88 89 129 130 131 132 133 143 144 145'.\n",
      "@> Before alignment RMSD: 247.75\n",
      "@> After alignment  RMSD: 1.16\n",
      "@> 18 atoms and 1 coordinate set(s) were parsed in 0.00s.\n"
     ]
    },
    {
     "name": "stdout",
     "output_type": "stream",
     "text": [
      "[497 497 497 497 497 497]\n",
      "246.0\n"
     ]
    },
    {
     "name": "stderr",
     "output_type": "stream",
     "text": [
      "@> 4848 atoms and 1 coordinate set(s) were parsed in 0.06s.\n",
      "@> Checking AtomGroup 3qql_PROT_dk + 3qql_lig Selection 'resnum 299': 1 chains are identified\n",
      "@> Checking AtomGroup 1fin_PROT_dk: 1 chains are identified\n",
      "@> Trying to match chains based on residue numbers and names:\n",
      "@>   Comparing Chain   from 3qql_PROT_dk + 3qql_lig Selection 'resnum 299' (len=298) and Chain A from 1fin_PROT_dk (len=298):\n",
      "@> \tMatch: 298 residues match with 100% sequence identity and 100% overlap.\n",
      "@> Alignment is based on 34 atoms matching 'ca resnum 8 9 10 11 12 13 14 15 16 17 18 30 31 32 64 79 80 81 82 83 84 85 86 87 88 89 129 130 131 132 133 143 144 145'.\n",
      "@> Before alignment RMSD: 247.65\n",
      "@> After alignment  RMSD: 1.24\n",
      "@> 36 atoms and 1 coordinate set(s) were parsed in 0.00s.\n"
     ]
    },
    {
     "name": "stdout",
     "output_type": "stream",
     "text": [
      "[299 299 299 299 299]\n",
      "228.0\n"
     ]
    },
    {
     "name": "stderr",
     "output_type": "stream",
     "text": [
      "@> 4848 atoms and 1 coordinate set(s) were parsed in 0.09s.\n",
      "@> Checking AtomGroup 3qrt_PROT_dk + 3qrt_lig Selection 'resnum 535': 1 chains are identified\n",
      "@> Checking AtomGroup 1fin_PROT_dk: 1 chains are identified\n",
      "@> Trying to match chains based on residue numbers and names:\n",
      "@>   Comparing Chain   from 3qrt_PROT_dk + 3qrt_lig Selection 'resnum 535' (len=298) and Chain A from 1fin_PROT_dk (len=298):\n",
      "@> \tMatch: 298 residues match with 100% sequence identity and 100% overlap.\n",
      "@> Alignment is based on 34 atoms matching 'ca resnum 8 9 10 11 12 13 14 15 16 17 18 30 31 32 64 79 80 81 82 83 84 85 86 87 88 89 129 130 131 132 133 143 144 145'.\n",
      "@> Before alignment RMSD: 247.57\n",
      "@> After alignment  RMSD: 1.18\n"
     ]
    },
    {
     "name": "stdout",
     "output_type": "stream",
     "text": [
      "[535 535 535 535 535 535 535 535 535 535 535 535 535 535]\n",
      "376.0\n"
     ]
    },
    {
     "name": "stderr",
     "output_type": "stream",
     "text": [
      "@> 22 atoms and 1 coordinate set(s) were parsed in 0.00s.\n",
      "@> 4848 atoms and 1 coordinate set(s) were parsed in 0.09s.\n",
      "@> Checking AtomGroup 3qru_PROT_dk + 3qru_lig Selection 'resnum 493': 1 chains are identified\n",
      "@> Checking AtomGroup 1fin_PROT_dk: 1 chains are identified\n",
      "@> Trying to match chains based on residue numbers and names:\n",
      "@>   Comparing Chain   from 3qru_PROT_dk + 3qru_lig Selection 'resnum 493' (len=298) and Chain A from 1fin_PROT_dk (len=298):\n",
      "@> \tMatch: 298 residues match with 100% sequence identity and 100% overlap.\n",
      "@> Alignment is based on 34 atoms matching 'ca resnum 8 9 10 11 12 13 14 15 16 17 18 30 31 32 64 79 80 81 82 83 84 85 86 87 88 89 129 130 131 132 133 143 144 145'.\n",
      "@> Before alignment RMSD: 247.76\n",
      "@> After alignment  RMSD: 1.23\n",
      "@> 22 atoms and 1 coordinate set(s) were parsed in 0.00s.\n"
     ]
    },
    {
     "name": "stdout",
     "output_type": "stream",
     "text": [
      "[492 492 492 493 493 493 493 493 493 493 493]\n",
      "56.0\n",
      "226.0\n"
     ]
    },
    {
     "name": "stderr",
     "output_type": "stream",
     "text": [
      "@> 4848 atoms and 1 coordinate set(s) were parsed in 0.08s.\n",
      "@> Checking AtomGroup 3qtq_PROT_dk + 3qtq_lig Selection 'resnum 476': 1 chains are identified\n",
      "@> Checking AtomGroup 1fin_PROT_dk: 1 chains are identified\n",
      "@> Trying to match chains based on residue numbers and names:\n",
      "@>   Comparing Chain   from 3qtq_PROT_dk + 3qtq_lig Selection 'resnum 476' (len=298) and Chain A from 1fin_PROT_dk (len=298):\n",
      "@> \tMatch: 298 residues match with 100% sequence identity and 100% overlap.\n",
      "@> Alignment is based on 34 atoms matching 'ca resnum 8 9 10 11 12 13 14 15 16 17 18 30 31 32 64 79 80 81 82 83 84 85 86 87 88 89 129 130 131 132 133 143 144 145'.\n",
      "@> Before alignment RMSD: 247.84\n",
      "@> After alignment  RMSD: 1.17\n",
      "@> 21 atoms and 1 coordinate set(s) were parsed in 0.00s.\n"
     ]
    },
    {
     "name": "stdout",
     "output_type": "stream",
     "text": [
      "[476 476 476 476 476 476 476 476 476 476]\n",
      "248.0\n"
     ]
    },
    {
     "name": "stderr",
     "output_type": "stream",
     "text": [
      "@> 4848 atoms and 1 coordinate set(s) were parsed in 0.07s.\n",
      "@> Checking AtomGroup 3qtr_PROT_dk + 3qtr_lig Selection 'resnum 497': 1 chains are identified\n",
      "@> Checking AtomGroup 1fin_PROT_dk: 1 chains are identified\n",
      "@> Trying to match chains based on residue numbers and names:\n",
      "@>   Comparing Chain   from 3qtr_PROT_dk + 3qtr_lig Selection 'resnum 497' (len=298) and Chain A from 1fin_PROT_dk (len=298):\n",
      "@> \tMatch: 298 residues match with 100% sequence identity and 100% overlap.\n",
      "@> Alignment is based on 34 atoms matching 'ca resnum 8 9 10 11 12 13 14 15 16 17 18 30 31 32 64 79 80 81 82 83 84 85 86 87 88 89 129 130 131 132 133 143 144 145'.\n",
      "@> Before alignment RMSD: 247.85\n",
      "@> After alignment  RMSD: 1.22\n"
     ]
    },
    {
     "name": "stdout",
     "output_type": "stream",
     "text": [
      "[497 497 497 497 497 497 497 497 497]\n",
      "282.0\n"
     ]
    },
    {
     "name": "stderr",
     "output_type": "stream",
     "text": [
      "@> 23 atoms and 1 coordinate set(s) were parsed in 0.00s.\n",
      "@> 4848 atoms and 1 coordinate set(s) were parsed in 0.10s.\n",
      "@> Checking AtomGroup 3qts_PROT_dk + 3qts_lig Selection 'resnum 299': 1 chains are identified\n",
      "@> Checking AtomGroup 1fin_PROT_dk: 1 chains are identified\n",
      "@> Trying to match chains based on residue numbers and names:\n",
      "@>   Comparing Chain   from 3qts_PROT_dk + 3qts_lig Selection 'resnum 299' (len=298) and Chain A from 1fin_PROT_dk (len=298):\n",
      "@> \tMatch: 298 residues match with 100% sequence identity and 100% overlap.\n",
      "@> Alignment is based on 34 atoms matching 'ca resnum 8 9 10 11 12 13 14 15 16 17 18 30 31 32 64 79 80 81 82 83 84 85 86 87 88 89 129 130 131 132 133 143 144 145'.\n",
      "@> Before alignment RMSD: 247.91\n",
      "@> After alignment  RMSD: 1.38\n",
      "@> 29 atoms and 1 coordinate set(s) were parsed in 0.00s.\n"
     ]
    },
    {
     "name": "stdout",
     "output_type": "stream",
     "text": [
      "[299 299 299 299 299 299 299]\n",
      "310.0\n"
     ]
    },
    {
     "name": "stderr",
     "output_type": "stream",
     "text": [
      "@> 4848 atoms and 1 coordinate set(s) were parsed in 0.06s.\n",
      "@> Checking AtomGroup 3qtu_PROT_dk + 3qtu_lig Selection 'resnum 451': 1 chains are identified\n",
      "@> Checking AtomGroup 1fin_PROT_dk: 1 chains are identified\n",
      "@> Trying to match chains based on residue numbers and names:\n",
      "@>   Comparing Chain   from 3qtu_PROT_dk + 3qtu_lig Selection 'resnum 451' (len=298) and Chain A from 1fin_PROT_dk (len=298):\n",
      "@> \tMatch: 298 residues match with 100% sequence identity and 100% overlap.\n",
      "@> Alignment is based on 34 atoms matching 'ca resnum 8 9 10 11 12 13 14 15 16 17 18 30 31 32 64 79 80 81 82 83 84 85 86 87 88 89 129 130 131 132 133 143 144 145'.\n",
      "@> Before alignment RMSD: 247.91\n",
      "@> After alignment  RMSD: 1.15\n",
      "@> 45 atoms and 1 coordinate set(s) were parsed in 0.00s.\n"
     ]
    },
    {
     "name": "stdout",
     "output_type": "stream",
     "text": [
      "[451 451 451 451 451 451 451 451 451 451 451 451 451 451 451 451]\n",
      "438.0\n"
     ]
    },
    {
     "name": "stderr",
     "output_type": "stream",
     "text": [
      "@> 4848 atoms and 1 coordinate set(s) were parsed in 0.06s.\n",
      "@> Checking AtomGroup 3qtw_PROT_dk + 3qtw_lig Selection 'resnum 451': 1 chains are identified\n",
      "@> Checking AtomGroup 1fin_PROT_dk: 1 chains are identified\n",
      "@> Trying to match chains based on residue numbers and names:\n",
      "@>   Comparing Chain   from 3qtw_PROT_dk + 3qtw_lig Selection 'resnum 451' (len=298) and Chain A from 1fin_PROT_dk (len=298):\n",
      "@> \tMatch: 298 residues match with 100% sequence identity and 100% overlap.\n",
      "@> Alignment is based on 34 atoms matching 'ca resnum 8 9 10 11 12 13 14 15 16 17 18 30 31 32 64 79 80 81 82 83 84 85 86 87 88 89 129 130 131 132 133 143 144 145'.\n",
      "@> Before alignment RMSD: 247.88\n",
      "@> After alignment  RMSD: 1.24\n",
      "@> 28 atoms and 1 coordinate set(s) were parsed in 0.00s.\n"
     ]
    },
    {
     "name": "stdout",
     "output_type": "stream",
     "text": [
      "[451 451 451 451 451 451 451 451 451 451]\n",
      "284.0\n"
     ]
    },
    {
     "name": "stderr",
     "output_type": "stream",
     "text": [
      "@> 4848 atoms and 1 coordinate set(s) were parsed in 0.06s.\n",
      "@> Checking AtomGroup 3qtx_PROT_dk + 3qtx_lig Selection 'resnum 299': 1 chains are identified\n",
      "@> Checking AtomGroup 1fin_PROT_dk: 1 chains are identified\n",
      "@> Trying to match chains based on residue numbers and names:\n",
      "@>   Comparing Chain   from 3qtx_PROT_dk + 3qtx_lig Selection 'resnum 299' (len=298) and Chain A from 1fin_PROT_dk (len=298):\n",
      "@> \tMatch: 298 residues match with 100% sequence identity and 100% overlap.\n",
      "@> Alignment is based on 34 atoms matching 'ca resnum 8 9 10 11 12 13 14 15 16 17 18 30 31 32 64 79 80 81 82 83 84 85 86 87 88 89 129 130 131 132 133 143 144 145'.\n",
      "@> Before alignment RMSD: 247.93\n",
      "@> After alignment  RMSD: 1.22\n",
      "@> 34 atoms and 1 coordinate set(s) were parsed in 0.00s.\n"
     ]
    },
    {
     "name": "stdout",
     "output_type": "stream",
     "text": [
      "[299 299 299 299 299 299 299 299 299 299 299 299 299]\n",
      "406.0\n"
     ]
    },
    {
     "name": "stderr",
     "output_type": "stream",
     "text": [
      "@> 4848 atoms and 1 coordinate set(s) were parsed in 0.06s.\n",
      "@> Checking AtomGroup 3qtz_PROT_dk + 3qtz_lig Selection 'resnum 453': 1 chains are identified\n",
      "@> Checking AtomGroup 1fin_PROT_dk: 1 chains are identified\n",
      "@> Trying to match chains based on residue numbers and names:\n",
      "@>   Comparing Chain   from 3qtz_PROT_dk + 3qtz_lig Selection 'resnum 453' (len=298) and Chain A from 1fin_PROT_dk (len=298):\n",
      "@> \tMatch: 298 residues match with 100% sequence identity and 100% overlap.\n",
      "@> Alignment is based on 34 atoms matching 'ca resnum 8 9 10 11 12 13 14 15 16 17 18 30 31 32 64 79 80 81 82 83 84 85 86 87 88 89 129 130 131 132 133 143 144 145'.\n",
      "@> Before alignment RMSD: 247.92\n",
      "@> After alignment  RMSD: 1.36\n",
      "@> 41 atoms and 1 coordinate set(s) were parsed in 0.00s.\n"
     ]
    },
    {
     "name": "stdout",
     "output_type": "stream",
     "text": [
      "[451 451 451 453 453 453 453 453 453 453 453 453 453 453 453]\n",
      "56.0\n",
      "360.0\n"
     ]
    },
    {
     "name": "stderr",
     "output_type": "stream",
     "text": [
      "@> 4848 atoms and 1 coordinate set(s) were parsed in 0.06s.\n",
      "@> Checking AtomGroup 3qu0_PROT_dk + 3qu0_lig Selection 'resnum 454': 1 chains are identified\n",
      "@> Checking AtomGroup 1fin_PROT_dk: 1 chains are identified\n",
      "@> Trying to match chains based on residue numbers and names:\n",
      "@>   Comparing Chain   from 3qu0_PROT_dk + 3qu0_lig Selection 'resnum 454' (len=298) and Chain A from 1fin_PROT_dk (len=298):\n",
      "@> \tMatch: 298 residues match with 100% sequence identity and 100% overlap.\n",
      "@> Alignment is based on 34 atoms matching 'ca resnum 8 9 10 11 12 13 14 15 16 17 18 30 31 32 64 79 80 81 82 83 84 85 86 87 88 89 129 130 131 132 133 143 144 145'.\n",
      "@> Before alignment RMSD: 247.90\n",
      "@> After alignment  RMSD: 1.24\n"
     ]
    },
    {
     "name": "stdout",
     "output_type": "stream",
     "text": [
      "[454 454 454 454 454 454 454 454 454 454]\n",
      "362.0\n"
     ]
    },
    {
     "name": "stderr",
     "output_type": "stream",
     "text": [
      "@> 26 atoms and 1 coordinate set(s) were parsed in 0.00s.\n",
      "@> 4848 atoms and 1 coordinate set(s) were parsed in 0.09s.\n",
      "@> Checking AtomGroup 3qwj_PROT_dk + 3qwj_lig Selection 'resnum 483': 1 chains are identified\n",
      "@> Checking AtomGroup 1fin_PROT_dk: 1 chains are identified\n",
      "@> Trying to match chains based on residue numbers and names:\n",
      "@>   Comparing Chain   from 3qwj_PROT_dk + 3qwj_lig Selection 'resnum 483' (len=298) and Chain A from 1fin_PROT_dk (len=298):\n",
      "@> \tMatch: 298 residues match with 100% sequence identity and 100% overlap.\n",
      "@> Alignment is based on 34 atoms matching 'ca resnum 8 9 10 11 12 13 14 15 16 17 18 30 31 32 64 79 80 81 82 83 84 85 86 87 88 89 129 130 131 132 133 143 144 145'.\n",
      "@> Before alignment RMSD: 247.66\n",
      "@> After alignment  RMSD: 1.28\n",
      "@> 38 atoms and 1 coordinate set(s) were parsed in 0.00s.\n"
     ]
    },
    {
     "name": "stdout",
     "output_type": "stream",
     "text": [
      "[483 483 483 483 483 483 483 483 483 483 483 483 483]\n",
      "276.0\n"
     ]
    },
    {
     "name": "stderr",
     "output_type": "stream",
     "text": [
      "@> 4848 atoms and 1 coordinate set(s) were parsed in 0.06s.\n",
      "@> Checking AtomGroup 3qwk_PROT_dk + 3qwk_lig Selection 'resnum 493': 1 chains are identified\n",
      "@> Checking AtomGroup 1fin_PROT_dk: 1 chains are identified\n",
      "@> Trying to match chains based on residue numbers and names:\n",
      "@>   Comparing Chain   from 3qwk_PROT_dk + 3qwk_lig Selection 'resnum 493' (len=298) and Chain A from 1fin_PROT_dk (len=298):\n",
      "@> \tMatch: 298 residues match with 100% sequence identity and 100% overlap.\n",
      "@> Alignment is based on 34 atoms matching 'ca resnum 8 9 10 11 12 13 14 15 16 17 18 30 31 32 64 79 80 81 82 83 84 85 86 87 88 89 129 130 131 132 133 143 144 145'.\n",
      "@> Before alignment RMSD: 247.65\n",
      "@> After alignment  RMSD: 1.26\n",
      "@> 29 atoms and 1 coordinate set(s) were parsed in 0.00s.\n"
     ]
    },
    {
     "name": "stdout",
     "output_type": "stream",
     "text": [
      "[490 490 493 493 493 493 493 493 493 493 493 493 493]\n",
      "56.0\n",
      "262.0\n"
     ]
    },
    {
     "name": "stderr",
     "output_type": "stream",
     "text": [
      "@> 4848 atoms and 1 coordinate set(s) were parsed in 0.06s.\n",
      "@> Checking AtomGroup 3qx2_PROT_dk + 3qx2_lig Selection 'resnum 300': 1 chains are identified\n",
      "@> Checking AtomGroup 1fin_PROT_dk: 1 chains are identified\n",
      "@> Trying to match chains based on residue numbers and names:\n",
      "@>   Comparing Chain   from 3qx2_PROT_dk + 3qx2_lig Selection 'resnum 300' (len=298) and Chain A from 1fin_PROT_dk (len=298):\n",
      "@> \tMatch: 298 residues match with 100% sequence identity and 100% overlap.\n",
      "@> Alignment is based on 34 atoms matching 'ca resnum 8 9 10 11 12 13 14 15 16 17 18 30 31 32 64 79 80 81 82 83 84 85 86 87 88 89 129 130 131 132 133 143 144 145'.\n",
      "@> Before alignment RMSD: 247.64\n",
      "@> After alignment  RMSD: 1.17\n"
     ]
    },
    {
     "name": "stdout",
     "output_type": "stream",
     "text": [
      "[300 300 300 300 300 300 300 300 300 300 300]\n",
      "330.0\n"
     ]
    },
    {
     "name": "stderr",
     "output_type": "stream",
     "text": [
      "@> 29 atoms and 1 coordinate set(s) were parsed in 0.00s.\n",
      "@> 4848 atoms and 1 coordinate set(s) were parsed in 0.06s.\n",
      "@> Checking AtomGroup 3qx4_PROT_dk + 3qx4_lig Selection 'resnum 454': 1 chains are identified\n",
      "@> Checking AtomGroup 1fin_PROT_dk: 1 chains are identified\n",
      "@> Trying to match chains based on residue numbers and names:\n",
      "@>   Comparing Chain   from 3qx4_PROT_dk + 3qx4_lig Selection 'resnum 454' (len=298) and Chain A from 1fin_PROT_dk (len=298):\n",
      "@> \tMatch: 298 residues match with 100% sequence identity and 100% overlap.\n",
      "@> Alignment is based on 34 atoms matching 'ca resnum 8 9 10 11 12 13 14 15 16 17 18 30 31 32 64 79 80 81 82 83 84 85 86 87 88 89 129 130 131 132 133 143 144 145'.\n",
      "@> Before alignment RMSD: 247.70\n",
      "@> After alignment  RMSD: 1.28\n",
      "@> 28 atoms and 1 coordinate set(s) were parsed in 0.00s.\n"
     ]
    },
    {
     "name": "stdout",
     "output_type": "stream",
     "text": [
      "[454 454 454 454 454 454 454 454 454 454 454 454 454]\n",
      "260.0\n"
     ]
    },
    {
     "name": "stderr",
     "output_type": "stream",
     "text": [
      "@> 4848 atoms and 1 coordinate set(s) were parsed in 0.06s.\n",
      "@> Checking AtomGroup 3qxo_PROT_dk + 3qxo_lig Selection 'resnum 668': 1 chains are identified\n",
      "@> Checking AtomGroup 1fin_PROT_dk: 1 chains are identified\n",
      "@> Trying to match chains based on residue numbers and names:\n",
      "@>   Comparing Chain   from 3qxo_PROT_dk + 3qxo_lig Selection 'resnum 668' (len=298) and Chain A from 1fin_PROT_dk (len=298):\n",
      "@> \tMatch: 298 residues match with 100% sequence identity and 100% overlap.\n",
      "@> Alignment is based on 34 atoms matching 'ca resnum 8 9 10 11 12 13 14 15 16 17 18 30 31 32 64 79 80 81 82 83 84 85 86 87 88 89 129 130 131 132 133 143 144 145'.\n",
      "@> Before alignment RMSD: 247.75\n",
      "@> After alignment  RMSD: 1.15\n",
      "@> 32 atoms and 1 coordinate set(s) were parsed in 0.00s.\n"
     ]
    },
    {
     "name": "stdout",
     "output_type": "stream",
     "text": [
      "[668 668 668 668 668 668 668 668 668]\n",
      "336.0\n"
     ]
    },
    {
     "name": "stderr",
     "output_type": "stream",
     "text": [
      "@> 4848 atoms and 1 coordinate set(s) were parsed in 0.06s.\n",
      "@> Checking AtomGroup 3qxp_PROT_dk + 3qxp_lig Selection 'resnum 300': 1 chains are identified\n",
      "@> Checking AtomGroup 1fin_PROT_dk: 1 chains are identified\n",
      "@> Trying to match chains based on residue numbers and names:\n",
      "@>   Comparing Chain   from 3qxp_PROT_dk + 3qxp_lig Selection 'resnum 300' (len=298) and Chain A from 1fin_PROT_dk (len=298):\n",
      "@> \tMatch: 298 residues match with 100% sequence identity and 100% overlap.\n",
      "@> Alignment is based on 34 atoms matching 'ca resnum 8 9 10 11 12 13 14 15 16 17 18 30 31 32 64 79 80 81 82 83 84 85 86 87 88 89 129 130 131 132 133 143 144 145'.\n",
      "@> Before alignment RMSD: 247.78\n",
      "@> After alignment  RMSD: 0.79\n",
      "@> 16 atoms and 1 coordinate set(s) were parsed in 0.00s.\n"
     ]
    },
    {
     "name": "stdout",
     "output_type": "stream",
     "text": [
      "[300 300 300 300 300 300 300 300 300 300 300]\n",
      "406.0\n"
     ]
    },
    {
     "name": "stderr",
     "output_type": "stream",
     "text": [
      "@> 4848 atoms and 1 coordinate set(s) were parsed in 0.07s.\n",
      "@> Checking AtomGroup 3qzf_PROT_dk + 3qzf_lig Selection 'resnum 299': 1 chains are identified\n",
      "@> Checking AtomGroup 1fin_PROT_dk: 1 chains are identified\n",
      "@> Trying to match chains based on residue numbers and names:\n",
      "@>   Comparing Chain   from 3qzf_PROT_dk + 3qzf_lig Selection 'resnum 299' (len=298) and Chain A from 1fin_PROT_dk (len=298):\n",
      "@> \tMatch: 298 residues match with 100% sequence identity and 100% overlap.\n",
      "@> Alignment is based on 34 atoms matching 'ca resnum 8 9 10 11 12 13 14 15 16 17 18 30 31 32 64 79 80 81 82 83 84 85 86 87 88 89 129 130 131 132 133 143 144 145'.\n",
      "@> Before alignment RMSD: 247.97\n",
      "@> After alignment  RMSD: 1.42\n",
      "@> 24 atoms and 1 coordinate set(s) were parsed in 0.00s.\n"
     ]
    },
    {
     "name": "stdout",
     "output_type": "stream",
     "text": [
      "[299 299 299 299 299 299]\n",
      "210.0\n"
     ]
    },
    {
     "name": "stderr",
     "output_type": "stream",
     "text": [
      "@> 4848 atoms and 1 coordinate set(s) were parsed in 0.09s.\n",
      "@> Checking AtomGroup 3qzg_PROT_dk + 3qzg_lig Selection 'resnum 471': 1 chains are identified\n",
      "@> Checking AtomGroup 1fin_PROT_dk: 1 chains are identified\n",
      "@> Trying to match chains based on residue numbers and names:\n",
      "@>   Comparing Chain   from 3qzg_PROT_dk + 3qzg_lig Selection 'resnum 471' (len=298) and Chain A from 1fin_PROT_dk (len=298):\n",
      "@> \tMatch: 298 residues match with 100% sequence identity and 100% overlap.\n",
      "@> Alignment is based on 34 atoms matching 'ca resnum 8 9 10 11 12 13 14 15 16 17 18 30 31 32 64 79 80 81 82 83 84 85 86 87 88 89 129 130 131 132 133 143 144 145'.\n",
      "@> Before alignment RMSD: 248.09\n",
      "@> After alignment  RMSD: 1.51\n",
      "@> 26 atoms and 1 coordinate set(s) were parsed in 0.00s.\n"
     ]
    },
    {
     "name": "stdout",
     "output_type": "stream",
     "text": [
      "[471 471 471 471 471 471 471 471 471 471 471]\n",
      "194.0\n"
     ]
    },
    {
     "name": "stderr",
     "output_type": "stream",
     "text": [
      "@> 4848 atoms and 1 coordinate set(s) were parsed in 0.05s.\n",
      "@> Checking AtomGroup 3qzh_PROT_dk + 3qzh_lig Selection 'resnum 839': 1 chains are identified\n",
      "@> Checking AtomGroup 1fin_PROT_dk: 1 chains are identified\n",
      "@> Trying to match chains based on residue numbers and names:\n",
      "@>   Comparing Chain   from 3qzh_PROT_dk + 3qzh_lig Selection 'resnum 839' (len=298) and Chain A from 1fin_PROT_dk (len=298):\n",
      "@> \tMatch: 298 residues match with 100% sequence identity and 100% overlap.\n",
      "@> Alignment is based on 34 atoms matching 'ca resnum 8 9 10 11 12 13 14 15 16 17 18 30 31 32 64 79 80 81 82 83 84 85 86 87 88 89 129 130 131 132 133 143 144 145'.\n",
      "@> Before alignment RMSD: 247.72\n",
      "@> After alignment  RMSD: 1.24\n",
      "@> 25 atoms and 1 coordinate set(s) were parsed in 0.00s.\n"
     ]
    },
    {
     "name": "stdout",
     "output_type": "stream",
     "text": [
      "[839 839 839 839 839 839 839 839 839 839 839 839]\n",
      "288.0\n"
     ]
    },
    {
     "name": "stderr",
     "output_type": "stream",
     "text": [
      "@> 4848 atoms and 1 coordinate set(s) were parsed in 0.15s.\n",
      "@> Checking AtomGroup 3qzi_PROT_dk + 3qzi_lig Selection 'resnum 512': 1 chains are identified\n",
      "@> Checking AtomGroup 1fin_PROT_dk: 1 chains are identified\n",
      "@> Trying to match chains based on residue numbers and names:\n",
      "@>   Comparing Chain   from 3qzi_PROT_dk + 3qzi_lig Selection 'resnum 512' (len=298) and Chain A from 1fin_PROT_dk (len=298):\n",
      "@> \tMatch: 298 residues match with 100% sequence identity and 100% overlap.\n",
      "@> Alignment is based on 34 atoms matching 'ca resnum 8 9 10 11 12 13 14 15 16 17 18 30 31 32 64 79 80 81 82 83 84 85 86 87 88 89 129 130 131 132 133 143 144 145'.\n",
      "@> Before alignment RMSD: 247.65\n",
      "@> After alignment  RMSD: 1.33\n",
      "@> 26 atoms and 1 coordinate set(s) were parsed in 0.00s.\n"
     ]
    },
    {
     "name": "stdout",
     "output_type": "stream",
     "text": [
      "[512 512 512 512 512 512 512 512 512 512]\n",
      "262.0\n"
     ]
    },
    {
     "name": "stderr",
     "output_type": "stream",
     "text": [
      "@> 4848 atoms and 1 coordinate set(s) were parsed in 0.07s.\n",
      "@> Checking AtomGroup 3r1q_PROT_dk + 3r1q_lig Selection 'resnum 616': 1 chains are identified\n",
      "@> Checking AtomGroup 1fin_PROT_dk: 1 chains are identified\n",
      "@> Trying to match chains based on residue numbers and names:\n",
      "@>   Comparing Chain   from 3r1q_PROT_dk + 3r1q_lig Selection 'resnum 616' (len=298) and Chain A from 1fin_PROT_dk (len=298):\n",
      "@> \tMatch: 298 residues match with 100% sequence identity and 100% overlap.\n",
      "@> Alignment is based on 34 atoms matching 'ca resnum 8 9 10 11 12 13 14 15 16 17 18 30 31 32 64 79 80 81 82 83 84 85 86 87 88 89 129 130 131 132 133 143 144 145'.\n",
      "@> Before alignment RMSD: 247.71\n",
      "@> After alignment  RMSD: 1.21\n"
     ]
    },
    {
     "name": "stdout",
     "output_type": "stream",
     "text": [
      "[616 616 616 616 616 616 616 616 616 616 616]\n",
      "260.0\n"
     ]
    },
    {
     "name": "stderr",
     "output_type": "stream",
     "text": [
      "@> 25 atoms and 1 coordinate set(s) were parsed in 0.00s.\n",
      "@> 4849 atoms and 1 coordinate set(s) were parsed in 0.09s.\n",
      "@> Checking AtomGroup 3r1s_PROT_dk + 3r1s_lig Selection 'resnum 647': 1 chains are identified\n",
      "@> Checking AtomGroup 1fin_PROT_dk: 1 chains are identified\n",
      "@> Trying to match chains based on residue numbers and names:\n",
      "@>   Comparing Chain   from 3r1s_PROT_dk + 3r1s_lig Selection 'resnum 647' (len=297) and Chain A from 1fin_PROT_dk (len=298):\n",
      "@> \tMatch: 297 residues match with 100% sequence identity and 100% overlap.\n",
      "@> Alignment is based on 34 atoms matching 'ca resnum 8 9 10 11 12 13 14 15 16 17 18 30 31 32 64 79 80 81 82 83 84 85 86 87 88 89 129 130 131 132 133 143 144 145'.\n",
      "@> Before alignment RMSD: 247.80\n",
      "@> After alignment  RMSD: 1.22\n",
      "@> 21 atoms and 1 coordinate set(s) were parsed in 0.00s.\n"
     ]
    },
    {
     "name": "stdout",
     "output_type": "stream",
     "text": [
      "[647 647 647 647 647 647 647 647 647]\n",
      "260.0\n"
     ]
    },
    {
     "name": "stderr",
     "output_type": "stream",
     "text": [
      "@> 4848 atoms and 1 coordinate set(s) were parsed in 0.05s.\n",
      "@> Checking AtomGroup 3r1y_PROT_dk + 3r1y_lig Selection 'resnum 488': 1 chains are identified\n",
      "@> Checking AtomGroup 1fin_PROT_dk: 1 chains are identified\n",
      "@> Trying to match chains based on residue numbers and names:\n",
      "@>   Comparing Chain   from 3r1y_PROT_dk + 3r1y_lig Selection 'resnum 488' (len=298) and Chain A from 1fin_PROT_dk (len=298):\n",
      "@> \tMatch: 298 residues match with 100% sequence identity and 100% overlap.\n",
      "@> Alignment is based on 34 atoms matching 'ca resnum 8 9 10 11 12 13 14 15 16 17 18 30 31 32 64 79 80 81 82 83 84 85 86 87 88 89 129 130 131 132 133 143 144 145'.\n",
      "@> Before alignment RMSD: 247.66\n",
      "@> After alignment  RMSD: 1.10\n"
     ]
    },
    {
     "name": "stdout",
     "output_type": "stream",
     "text": [
      "[488 488 488 488 488 488 488 488 488 488 488]\n",
      "214.0\n"
     ]
    },
    {
     "name": "stderr",
     "output_type": "stream",
     "text": [
      "@> 28 atoms and 1 coordinate set(s) were parsed in 0.00s.\n",
      "@> 4848 atoms and 1 coordinate set(s) were parsed in 0.08s.\n",
      "@> Checking AtomGroup 3r28_PROT_dk + 3r28_lig Selection 'resnum 782': 1 chains are identified\n",
      "@> Checking AtomGroup 1fin_PROT_dk: 1 chains are identified\n",
      "@> Trying to match chains based on residue numbers and names:\n",
      "@>   Comparing Chain   from 3r28_PROT_dk + 3r28_lig Selection 'resnum 782' (len=298) and Chain A from 1fin_PROT_dk (len=298):\n",
      "@> \tMatch: 298 residues match with 100% sequence identity and 100% overlap.\n",
      "@> Alignment is based on 34 atoms matching 'ca resnum 8 9 10 11 12 13 14 15 16 17 18 30 31 32 64 79 80 81 82 83 84 85 86 87 88 89 129 130 131 132 133 143 144 145'.\n",
      "@> Before alignment RMSD: 247.75\n",
      "@> After alignment  RMSD: 1.18\n",
      "@> 29 atoms and 1 coordinate set(s) were parsed in 0.00s.\n"
     ]
    },
    {
     "name": "stdout",
     "output_type": "stream",
     "text": [
      "[782 782 782 782 782 782 782 782 782 782 782 782 782]\n",
      "258.0\n"
     ]
    },
    {
     "name": "stderr",
     "output_type": "stream",
     "text": [
      "@> 4848 atoms and 1 coordinate set(s) were parsed in 0.07s.\n",
      "@> Checking AtomGroup 3r6x_PROT_dk + 3r6x_lig Selection 'resnum 778': 1 chains are identified\n",
      "@> Checking AtomGroup 1fin_PROT_dk: 1 chains are identified\n",
      "@> Trying to match chains based on residue numbers and names:\n",
      "@>   Comparing Chain   from 3r6x_PROT_dk + 3r6x_lig Selection 'resnum 778' (len=298) and Chain A from 1fin_PROT_dk (len=298):\n",
      "@> \tMatch: 298 residues match with 100% sequence identity and 100% overlap.\n",
      "@> Alignment is based on 34 atoms matching 'ca resnum 8 9 10 11 12 13 14 15 16 17 18 30 31 32 64 79 80 81 82 83 84 85 86 87 88 89 129 130 131 132 133 143 144 145'.\n",
      "@> Before alignment RMSD: 247.80\n",
      "@> After alignment  RMSD: 1.22\n"
     ]
    },
    {
     "name": "stdout",
     "output_type": "stream",
     "text": [
      "[778 778 778 778 778 778 778 778 778]\n",
      "326.0\n"
     ]
    },
    {
     "name": "stderr",
     "output_type": "stream",
     "text": [
      "@> 30 atoms and 1 coordinate set(s) were parsed in 0.00s.\n",
      "@> 4848 atoms and 1 coordinate set(s) were parsed in 0.06s.\n",
      "@> Checking AtomGroup 3r71_PROT_dk + 3r71_lig Selection 'resnum 800': 1 chains are identified\n",
      "@> Checking AtomGroup 1fin_PROT_dk: 1 chains are identified\n",
      "@> Trying to match chains based on residue numbers and names:\n",
      "@>   Comparing Chain   from 3r71_PROT_dk + 3r71_lig Selection 'resnum 800' (len=298) and Chain A from 1fin_PROT_dk (len=298):\n",
      "@> \tMatch: 298 residues match with 100% sequence identity and 100% overlap.\n",
      "@> Alignment is based on 34 atoms matching 'ca resnum 8 9 10 11 12 13 14 15 16 17 18 30 31 32 64 79 80 81 82 83 84 85 86 87 88 89 129 130 131 132 133 143 144 145'.\n",
      "@> Before alignment RMSD: 247.72\n",
      "@> After alignment  RMSD: 1.21\n",
      "@> 29 atoms and 1 coordinate set(s) were parsed in 0.00s.\n"
     ]
    },
    {
     "name": "stdout",
     "output_type": "stream",
     "text": [
      "[800 800 800 800 800 800 800 800]\n",
      "338.0\n"
     ]
    },
    {
     "name": "stderr",
     "output_type": "stream",
     "text": [
      "@> 4848 atoms and 1 coordinate set(s) were parsed in 0.07s.\n",
      "@> Checking AtomGroup 3r73_PROT_dk + 3r73_lig Selection 'resnum 920': 1 chains are identified\n",
      "@> Checking AtomGroup 1fin_PROT_dk: 1 chains are identified\n",
      "@> Trying to match chains based on residue numbers and names:\n",
      "@>   Comparing Chain   from 3r73_PROT_dk + 3r73_lig Selection 'resnum 920' (len=298) and Chain A from 1fin_PROT_dk (len=298):\n",
      "@> \tMatch: 298 residues match with 100% sequence identity and 100% overlap.\n",
      "@> Alignment is based on 34 atoms matching 'ca resnum 8 9 10 11 12 13 14 15 16 17 18 30 31 32 64 79 80 81 82 83 84 85 86 87 88 89 129 130 131 132 133 143 144 145'.\n",
      "@> Before alignment RMSD: 247.79\n",
      "@> After alignment  RMSD: 1.19\n",
      "@> 24 atoms and 1 coordinate set(s) were parsed in 0.00s.\n"
     ]
    },
    {
     "name": "stdout",
     "output_type": "stream",
     "text": [
      "[920 920 920 920 920 920 920]\n",
      "324.0\n"
     ]
    },
    {
     "name": "stderr",
     "output_type": "stream",
     "text": [
      "@> 4848 atoms and 1 coordinate set(s) were parsed in 0.07s.\n",
      "@> Checking AtomGroup 3r7e_PROT_dk + 3r7e_lig Selection 'resnum 919': 1 chains are identified\n",
      "@> Checking AtomGroup 1fin_PROT_dk: 1 chains are identified\n",
      "@> Trying to match chains based on residue numbers and names:\n",
      "@>   Comparing Chain   from 3r7e_PROT_dk + 3r7e_lig Selection 'resnum 919' (len=298) and Chain A from 1fin_PROT_dk (len=298):\n",
      "@> \tMatch: 298 residues match with 100% sequence identity and 100% overlap.\n",
      "@> Alignment is based on 34 atoms matching 'ca resnum 8 9 10 11 12 13 14 15 16 17 18 30 31 32 64 79 80 81 82 83 84 85 86 87 88 89 129 130 131 132 133 143 144 145'.\n",
      "@> Before alignment RMSD: 247.71\n",
      "@> After alignment  RMSD: 1.19\n",
      "@> 27 atoms and 1 coordinate set(s) were parsed in 0.00s.\n"
     ]
    },
    {
     "name": "stdout",
     "output_type": "stream",
     "text": [
      "[919 919 919 919 919 919 919 919 919 919]\n",
      "262.0\n"
     ]
    },
    {
     "name": "stderr",
     "output_type": "stream",
     "text": [
      "@> 4848 atoms and 1 coordinate set(s) were parsed in 0.05s.\n",
      "@> Checking AtomGroup 3r7i_PROT_dk + 3r7i_lig Selection 'resnum 505': 1 chains are identified\n",
      "@> Checking AtomGroup 1fin_PROT_dk: 1 chains are identified\n",
      "@> Trying to match chains based on residue numbers and names:\n",
      "@>   Comparing Chain   from 3r7i_PROT_dk + 3r7i_lig Selection 'resnum 505' (len=298) and Chain A from 1fin_PROT_dk (len=298):\n",
      "@> \tMatch: 298 residues match with 100% sequence identity and 100% overlap.\n",
      "@> Alignment is based on 34 atoms matching 'ca resnum 8 9 10 11 12 13 14 15 16 17 18 30 31 32 64 79 80 81 82 83 84 85 86 87 88 89 129 130 131 132 133 143 144 145'.\n",
      "@> Before alignment RMSD: 247.65\n",
      "@> After alignment  RMSD: 1.41\n",
      "@> 26 atoms and 1 coordinate set(s) were parsed in 0.00s.\n"
     ]
    },
    {
     "name": "stdout",
     "output_type": "stream",
     "text": [
      "[505 505 505 505 505 505 505 505]\n",
      "302.0\n"
     ]
    },
    {
     "name": "stderr",
     "output_type": "stream",
     "text": [
      "@> 4848 atoms and 1 coordinate set(s) were parsed in 0.06s.\n",
      "@> Checking AtomGroup 3r7u_PROT_dk + 3r7u_lig Selection 'resnum 523': 1 chains are identified\n",
      "@> Checking AtomGroup 1fin_PROT_dk: 1 chains are identified\n",
      "@> Trying to match chains based on residue numbers and names:\n",
      "@>   Comparing Chain   from 3r7u_PROT_dk + 3r7u_lig Selection 'resnum 523' (len=298) and Chain A from 1fin_PROT_dk (len=298):\n",
      "@> \tMatch: 298 residues match with 100% sequence identity and 100% overlap.\n",
      "@> Alignment is based on 34 atoms matching 'ca resnum 8 9 10 11 12 13 14 15 16 17 18 30 31 32 64 79 80 81 82 83 84 85 86 87 88 89 129 130 131 132 133 143 144 145'.\n",
      "@> Before alignment RMSD: 247.73\n",
      "@> After alignment  RMSD: 1.16\n"
     ]
    },
    {
     "name": "stdout",
     "output_type": "stream",
     "text": [
      "[523 523 523 523 523 523 523 523 523]\n",
      "284.0\n"
     ]
    },
    {
     "name": "stderr",
     "output_type": "stream",
     "text": [
      "@> 24 atoms and 1 coordinate set(s) were parsed in 0.00s.\n",
      "@> 4848 atoms and 1 coordinate set(s) were parsed in 0.07s.\n",
      "@> Checking AtomGroup 3r7v_PROT_dk + 3r7v_lig Selection 'resnum 490': 1 chains are identified\n",
      "@> Checking AtomGroup 1fin_PROT_dk: 1 chains are identified\n",
      "@> Trying to match chains based on residue numbers and names:\n",
      "@>   Comparing Chain   from 3r7v_PROT_dk + 3r7v_lig Selection 'resnum 490' (len=298) and Chain A from 1fin_PROT_dk (len=298):\n",
      "@> \tMatch: 298 residues match with 100% sequence identity and 100% overlap.\n",
      "@> Alignment is based on 34 atoms matching 'ca resnum 8 9 10 11 12 13 14 15 16 17 18 30 31 32 64 79 80 81 82 83 84 85 86 87 88 89 129 130 131 132 133 143 144 145'.\n",
      "@> Before alignment RMSD: 247.73\n",
      "@> After alignment  RMSD: 1.22\n",
      "@> 31 atoms and 1 coordinate set(s) were parsed in 0.00s.\n"
     ]
    },
    {
     "name": "stdout",
     "output_type": "stream",
     "text": [
      "[490 490 490 490 490 490 490 490 490]\n",
      "260.0\n"
     ]
    },
    {
     "name": "stderr",
     "output_type": "stream",
     "text": [
      "@> 4848 atoms and 1 coordinate set(s) were parsed in 0.09s.\n",
      "@> Checking AtomGroup 3r7y_PROT_dk + 3r7y_lig Selection 'resnum 484': 1 chains are identified\n",
      "@> Checking AtomGroup 1fin_PROT_dk: 1 chains are identified\n",
      "@> Trying to match chains based on residue numbers and names:\n",
      "@>   Comparing Chain   from 3r7y_PROT_dk + 3r7y_lig Selection 'resnum 484' (len=298) and Chain A from 1fin_PROT_dk (len=298):\n",
      "@> \tMatch: 298 residues match with 100% sequence identity and 100% overlap.\n",
      "@> Alignment is based on 34 atoms matching 'ca resnum 8 9 10 11 12 13 14 15 16 17 18 30 31 32 64 79 80 81 82 83 84 85 86 87 88 89 129 130 131 132 133 143 144 145'.\n",
      "@> Before alignment RMSD: 247.69\n",
      "@> After alignment  RMSD: 1.22\n",
      "@> 32 atoms and 1 coordinate set(s) were parsed in 0.00s.\n"
     ]
    },
    {
     "name": "stdout",
     "output_type": "stream",
     "text": [
      "[484 484 484 484 484 484 484 484 484 484 484 484 484]\n",
      "354.0\n"
     ]
    },
    {
     "name": "stderr",
     "output_type": "stream",
     "text": [
      "@> 4848 atoms and 1 coordinate set(s) were parsed in 0.09s.\n",
      "@> Checking AtomGroup 3r83_PROT_dk + 3r83_lig Selection 'resnum 589': 1 chains are identified\n",
      "@> Checking AtomGroup 1fin_PROT_dk: 1 chains are identified\n",
      "@> Trying to match chains based on residue numbers and names:\n",
      "@>   Comparing Chain   from 3r83_PROT_dk + 3r83_lig Selection 'resnum 589' (len=298) and Chain A from 1fin_PROT_dk (len=298):\n",
      "@> \tMatch: 298 residues match with 100% sequence identity and 100% overlap.\n"
     ]
    },
    {
     "name": "stdout",
     "output_type": "stream",
     "text": [
      "[589 589 589 589 589 589 589 589]\n",
      "364.0\n"
     ]
    },
    {
     "name": "stderr",
     "output_type": "stream",
     "text": [
      "@> Alignment is based on 34 atoms matching 'ca resnum 8 9 10 11 12 13 14 15 16 17 18 30 31 32 64 79 80 81 82 83 84 85 86 87 88 89 129 130 131 132 133 143 144 145'.\n",
      "@> Before alignment RMSD: 247.48\n",
      "@> After alignment  RMSD: 1.18\n",
      "@> 17 atoms and 1 coordinate set(s) were parsed in 0.00s.\n",
      "@> 4848 atoms and 1 coordinate set(s) were parsed in 0.28s.\n",
      "@> Checking AtomGroup 3r8l_PROT_dk + 3r8l_lig Selection 'resnum 423': 1 chains are identified\n",
      "@> Checking AtomGroup 1fin_PROT_dk: 1 chains are identified\n",
      "@> Trying to match chains based on residue numbers and names:\n",
      "@>   Comparing Chain   from 3r8l_PROT_dk + 3r8l_lig Selection 'resnum 423' (len=298) and Chain A from 1fin_PROT_dk (len=298):\n",
      "@> \tMatch: 298 residues match with 100% sequence identity and 100% overlap.\n",
      "@> Alignment is based on 34 atoms matching 'ca resnum 8 9 10 11 12 13 14 15 16 17 18 30 31 32 64 79 80 81 82 83 84 85 86 87 88 89 129 130 131 132 133 143 144 145'.\n",
      "@> Before alignment RMSD: 247.85\n",
      "@> After alignment  RMSD: 1.23\n"
     ]
    },
    {
     "name": "stdout",
     "output_type": "stream",
     "text": [
      "[423 423 423 423 423 423]\n",
      "216.0\n"
     ]
    },
    {
     "name": "stderr",
     "output_type": "stream",
     "text": [
      "@> 18 atoms and 1 coordinate set(s) were parsed in 0.00s.\n",
      "@> 4848 atoms and 1 coordinate set(s) were parsed in 0.08s.\n",
      "@> Checking AtomGroup 3r8m_PROT_dk + 3r8m_lig Selection 'resnum 486': 1 chains are identified\n",
      "@> Checking AtomGroup 1fin_PROT_dk: 1 chains are identified\n",
      "@> Trying to match chains based on residue numbers and names:\n",
      "@>   Comparing Chain   from 3r8m_PROT_dk + 3r8m_lig Selection 'resnum 486' (len=298) and Chain A from 1fin_PROT_dk (len=298):\n",
      "@> \tMatch: 298 residues match with 100% sequence identity and 100% overlap.\n",
      "@> Alignment is based on 34 atoms matching 'ca resnum 8 9 10 11 12 13 14 15 16 17 18 30 31 32 64 79 80 81 82 83 84 85 86 87 88 89 129 130 131 132 133 143 144 145'.\n",
      "@> Before alignment RMSD: 247.92\n",
      "@> After alignment  RMSD: 1.57\n"
     ]
    },
    {
     "name": "stdout",
     "output_type": "stream",
     "text": [
      "[485 485 485 485 485 486 486 486 486 486 486 486]\n",
      "64.0\n",
      "168.0\n"
     ]
    },
    {
     "name": "stderr",
     "output_type": "stream",
     "text": [
      "@> 16 atoms and 1 coordinate set(s) were parsed in 0.00s.\n",
      "@> 4848 atoms and 1 coordinate set(s) were parsed in 0.10s.\n",
      "@> Checking AtomGroup 3r8p_PROT_dk + 3r8p_lig Selection 'resnum 511': 1 chains are identified\n",
      "@> Checking AtomGroup 1fin_PROT_dk: 1 chains are identified\n",
      "@> Trying to match chains based on residue numbers and names:\n",
      "@>   Comparing Chain   from 3r8p_PROT_dk + 3r8p_lig Selection 'resnum 511' (len=298) and Chain A from 1fin_PROT_dk (len=298):\n",
      "@> \tMatch: 298 residues match with 100% sequence identity and 100% overlap.\n",
      "@> Alignment is based on 34 atoms matching 'ca resnum 8 9 10 11 12 13 14 15 16 17 18 30 31 32 64 79 80 81 82 83 84 85 86 87 88 89 129 130 131 132 133 143 144 145'.\n",
      "@> Before alignment RMSD: 247.73\n",
      "@> After alignment  RMSD: 1.27\n"
     ]
    },
    {
     "name": "stdout",
     "output_type": "stream",
     "text": [
      "[511 511 511 511 511 511 511 511]\n",
      "204.0\n"
     ]
    },
    {
     "name": "stderr",
     "output_type": "stream",
     "text": [
      "@> 22 atoms and 1 coordinate set(s) were parsed in 0.00s.\n",
      "@> 4848 atoms and 1 coordinate set(s) were parsed in 0.10s.\n",
      "@> Checking AtomGroup 3r8u_PROT_dk + 3r8u_lig Selection 'resnum 465': 1 chains are identified\n",
      "@> Checking AtomGroup 1fin_PROT_dk: 1 chains are identified\n",
      "@> Trying to match chains based on residue numbers and names:\n",
      "@>   Comparing Chain   from 3r8u_PROT_dk + 3r8u_lig Selection 'resnum 465' (len=298) and Chain A from 1fin_PROT_dk (len=298):\n",
      "@> \tMatch: 298 residues match with 100% sequence identity and 100% overlap.\n",
      "@> Alignment is based on 34 atoms matching 'ca resnum 8 9 10 11 12 13 14 15 16 17 18 30 31 32 64 79 80 81 82 83 84 85 86 87 88 89 129 130 131 132 133 143 144 145'.\n",
      "@> Before alignment RMSD: 247.85\n",
      "@> After alignment  RMSD: 1.33\n"
     ]
    },
    {
     "name": "stdout",
     "output_type": "stream",
     "text": [
      "[465 465 465 465 465 465 465 465]\n",
      "294.0\n"
     ]
    },
    {
     "name": "stderr",
     "output_type": "stream",
     "text": [
      "@> 21 atoms and 1 coordinate set(s) were parsed in 0.00s.\n",
      "@> 4848 atoms and 1 coordinate set(s) were parsed in 0.07s.\n"
     ]
    },
    {
     "name": "stdout",
     "output_type": "stream",
     "text": [
      "[473 473 473 473 473 473]\n",
      "292.0\n"
     ]
    },
    {
     "name": "stderr",
     "output_type": "stream",
     "text": [
      "@> Checking AtomGroup 3r8v_PROT_dk + 3r8v_lig Selection 'resnum 473': 1 chains are identified\n",
      "@> Checking AtomGroup 1fin_PROT_dk: 1 chains are identified\n",
      "@> Trying to match chains based on residue numbers and names:\n",
      "@>   Comparing Chain   from 3r8v_PROT_dk + 3r8v_lig Selection 'resnum 473' (len=298) and Chain A from 1fin_PROT_dk (len=298):\n",
      "@> \tMatch: 298 residues match with 100% sequence identity and 100% overlap.\n",
      "@> Alignment is based on 34 atoms matching 'ca resnum 8 9 10 11 12 13 14 15 16 17 18 30 31 32 64 79 80 81 82 83 84 85 86 87 88 89 129 130 131 132 133 143 144 145'.\n",
      "@> Before alignment RMSD: 247.96\n",
      "@> After alignment  RMSD: 1.40\n",
      "@> 18 atoms and 1 coordinate set(s) were parsed in 0.00s.\n",
      "@> 4848 atoms and 1 coordinate set(s) were parsed in 0.07s.\n",
      "@> Checking AtomGroup 3r8z_PROT_dk + 3r8z_lig Selection 'resnum 440': 1 chains are identified\n",
      "@> Checking AtomGroup 1fin_PROT_dk: 1 chains are identified\n",
      "@> Trying to match chains based on residue numbers and names:\n",
      "@>   Comparing Chain   from 3r8z_PROT_dk + 3r8z_lig Selection 'resnum 440' (len=298) and Chain A from 1fin_PROT_dk (len=298):\n",
      "@> \tMatch: 298 residues match with 100% sequence identity and 100% overlap.\n",
      "@> Alignment is based on 34 atoms matching 'ca resnum 8 9 10 11 12 13 14 15 16 17 18 30 31 32 64 79 80 81 82 83 84 85 86 87 88 89 129 130 131 132 133 143 144 145'.\n",
      "@> Before alignment RMSD: 247.81\n",
      "@> After alignment  RMSD: 0.83\n"
     ]
    },
    {
     "name": "stdout",
     "output_type": "stream",
     "text": [
      "[440 440 440 440 440 440 440 440 440 440]\n",
      "248.0\n"
     ]
    },
    {
     "name": "stderr",
     "output_type": "stream",
     "text": [
      "@> 27 atoms and 1 coordinate set(s) were parsed in 0.00s.\n",
      "@> 4848 atoms and 1 coordinate set(s) were parsed in 0.09s.\n",
      "@> Checking AtomGroup 3r9d_PROT_dk + 3r9d_lig Selection 'resnum 590': 1 chains are identified\n",
      "@> Checking AtomGroup 1fin_PROT_dk: 1 chains are identified\n",
      "@> Trying to match chains based on residue numbers and names:\n",
      "@>   Comparing Chain   from 3r9d_PROT_dk + 3r9d_lig Selection 'resnum 590' (len=298) and Chain A from 1fin_PROT_dk (len=298):\n",
      "@> \tMatch: 298 residues match with 100% sequence identity and 100% overlap.\n",
      "@> Alignment is based on 34 atoms matching 'ca resnum 8 9 10 11 12 13 14 15 16 17 18 30 31 32 64 79 80 81 82 83 84 85 86 87 88 89 129 130 131 132 133 143 144 145'.\n",
      "@> Before alignment RMSD: 247.92\n",
      "@> After alignment  RMSD: 1.29\n"
     ]
    },
    {
     "name": "stdout",
     "output_type": "stream",
     "text": [
      "[590 590 590 590 590 590 590 590 590 590 590 590 590]\n",
      "374.0\n"
     ]
    },
    {
     "name": "stderr",
     "output_type": "stream",
     "text": [
      "@> 28 atoms and 1 coordinate set(s) were parsed in 0.00s.\n",
      "@> 4849 atoms and 1 coordinate set(s) were parsed in 0.09s.\n",
      "@> Checking AtomGroup 3r9h_PROT_dk + 3r9h_lig Selection 'resnum 606': 1 chains are identified\n",
      "@> Checking AtomGroup 1fin_PROT_dk: 1 chains are identified\n",
      "@> Trying to match chains based on residue numbers and names:\n",
      "@>   Comparing Chain   from 3r9h_PROT_dk + 3r9h_lig Selection 'resnum 606' (len=297) and Chain A from 1fin_PROT_dk (len=298):\n",
      "@> \tMatch: 297 residues match with 100% sequence identity and 100% overlap.\n",
      "@> Alignment is based on 33 atoms matching 'ca resnum 8 9 10 11 12 13 14 15 16 17 18 30 31 32 64 79 80 81 82 83 84 85 86 87 88 89 129 130 131 132 133 143 144 145'.\n",
      "@> Before alignment RMSD: 247.80\n",
      "@> After alignment  RMSD: 1.18\n",
      "@> 24 atoms and 1 coordinate set(s) were parsed in 0.00s.\n"
     ]
    },
    {
     "name": "stdout",
     "output_type": "stream",
     "text": [
      "[606 606 606 606 606 606 606 606 606 606 606 606 606]\n",
      "374.0\n"
     ]
    },
    {
     "name": "stderr",
     "output_type": "stream",
     "text": [
      "@> 4848 atoms and 1 coordinate set(s) were parsed in 0.09s.\n",
      "@> Checking AtomGroup 3r9n_PROT_dk + 3r9n_lig Selection 'resnum 529': 1 chains are identified\n",
      "@> Checking AtomGroup 1fin_PROT_dk: 1 chains are identified\n",
      "@> Trying to match chains based on residue numbers and names:\n",
      "@>   Comparing Chain   from 3r9n_PROT_dk + 3r9n_lig Selection 'resnum 529' (len=298) and Chain A from 1fin_PROT_dk (len=298):\n",
      "@> \tMatch: 298 residues match with 100% sequence identity and 100% overlap.\n",
      "@> Alignment is based on 34 atoms matching 'ca resnum 8 9 10 11 12 13 14 15 16 17 18 30 31 32 64 79 80 81 82 83 84 85 86 87 88 89 129 130 131 132 133 143 144 145'.\n",
      "@> Before alignment RMSD: 247.90\n",
      "@> After alignment  RMSD: 1.35\n",
      "@> 28 atoms and 1 coordinate set(s) were parsed in 0.00s.\n"
     ]
    },
    {
     "name": "stdout",
     "output_type": "stream",
     "text": [
      "[529 529 529 529 529 529 529]\n",
      "328.0\n"
     ]
    },
    {
     "name": "stderr",
     "output_type": "stream",
     "text": [
      "@> 4848 atoms and 1 coordinate set(s) were parsed in 0.08s.\n",
      "@> Checking AtomGroup 3r9o_PROT_dk + 3r9o_lig Selection 'resnum 401': 1 chains are identified\n",
      "@> Checking AtomGroup 1fin_PROT_dk: 1 chains are identified\n",
      "@> Trying to match chains based on residue numbers and names:\n",
      "@>   Comparing Chain   from 3r9o_PROT_dk + 3r9o_lig Selection 'resnum 401' (len=298) and Chain A from 1fin_PROT_dk (len=298):\n",
      "@> \tMatch: 298 residues match with 100% sequence identity and 100% overlap.\n",
      "@> Alignment is based on 34 atoms matching 'ca resnum 8 9 10 11 12 13 14 15 16 17 18 30 31 32 64 79 80 81 82 83 84 85 86 87 88 89 129 130 131 132 133 143 144 145'.\n",
      "@> Before alignment RMSD: 247.84\n",
      "@> After alignment  RMSD: 1.25\n",
      "@> 25 atoms and 1 coordinate set(s) were parsed in 0.00s.\n"
     ]
    },
    {
     "name": "stdout",
     "output_type": "stream",
     "text": [
      "[401 401 401 401 401 401 401 401 401 401 401 401 401 401]\n",
      "374.0\n"
     ]
    },
    {
     "name": "stderr",
     "output_type": "stream",
     "text": [
      "@> 4848 atoms and 1 coordinate set(s) were parsed in 0.09s.\n",
      "@> Checking AtomGroup 3rah_PROT_dk + 3rah_lig Selection 'resnum 516': 1 chains are identified\n",
      "@> Checking AtomGroup 1fin_PROT_dk: 1 chains are identified\n",
      "@> Trying to match chains based on residue numbers and names:\n",
      "@>   Comparing Chain   from 3rah_PROT_dk + 3rah_lig Selection 'resnum 516' (len=298) and Chain A from 1fin_PROT_dk (len=298):\n",
      "@> \tMatch: 298 residues match with 100% sequence identity and 100% overlap.\n",
      "@> Alignment is based on 34 atoms matching 'ca resnum 8 9 10 11 12 13 14 15 16 17 18 30 31 32 64 79 80 81 82 83 84 85 86 87 88 89 129 130 131 132 133 143 144 145'.\n",
      "@> Before alignment RMSD: 247.83\n",
      "@> After alignment  RMSD: 1.31\n"
     ]
    },
    {
     "name": "stdout",
     "output_type": "stream",
     "text": [
      "[516 516 516 516 516 516]\n",
      "330.0\n"
     ]
    },
    {
     "name": "stderr",
     "output_type": "stream",
     "text": [
      "@> 34 atoms and 1 coordinate set(s) were parsed in 0.00s.\n",
      "@> 4848 atoms and 1 coordinate set(s) were parsed in 0.07s.\n",
      "@> Checking AtomGroup 3rai_PROT_dk + 3rai_lig Selection 'resnum 923': 1 chains are identified\n",
      "@> Checking AtomGroup 1fin_PROT_dk: 1 chains are identified\n",
      "@> Trying to match chains based on residue numbers and names:\n",
      "@>   Comparing Chain   from 3rai_PROT_dk + 3rai_lig Selection 'resnum 923' (len=298) and Chain A from 1fin_PROT_dk (len=298):\n",
      "@> \tMatch: 298 residues match with 100% sequence identity and 100% overlap.\n",
      "@> Alignment is based on 34 atoms matching 'ca resnum 8 9 10 11 12 13 14 15 16 17 18 30 31 32 64 79 80 81 82 83 84 85 86 87 88 89 129 130 131 132 133 143 144 145'.\n",
      "@> Before alignment RMSD: 247.74\n",
      "@> After alignment  RMSD: 1.20\n"
     ]
    },
    {
     "name": "stdout",
     "output_type": "stream",
     "text": [
      "[923 923 923 923 923 923 923 923 923 923 923 923]\n",
      "388.0\n"
     ]
    },
    {
     "name": "stderr",
     "output_type": "stream",
     "text": [
      "@> 25 atoms and 1 coordinate set(s) were parsed in 0.00s.\n",
      "@> 4848 atoms and 1 coordinate set(s) were parsed in 0.08s.\n",
      "@> Checking AtomGroup 3rak_PROT_dk + 3rak_lig Selection 'resnum 497': 1 chains are identified\n",
      "@> Checking AtomGroup 1fin_PROT_dk: 1 chains are identified\n",
      "@> Trying to match chains based on residue numbers and names:\n",
      "@>   Comparing Chain   from 3rak_PROT_dk + 3rak_lig Selection 'resnum 497' (len=298) and Chain A from 1fin_PROT_dk (len=298):\n",
      "@> \tMatch: 298 residues match with 100% sequence identity and 100% overlap.\n",
      "@> Alignment is based on 34 atoms matching 'ca resnum 8 9 10 11 12 13 14 15 16 17 18 30 31 32 64 79 80 81 82 83 84 85 86 87 88 89 129 130 131 132 133 143 144 145'.\n",
      "@> Before alignment RMSD: 247.81\n",
      "@> After alignment  RMSD: 0.96\n"
     ]
    },
    {
     "name": "stdout",
     "output_type": "stream",
     "text": [
      "[497 497 497 497 497 497 497 497 497 497 497]\n",
      "360.0\n"
     ]
    },
    {
     "name": "stderr",
     "output_type": "stream",
     "text": [
      "@> 27 atoms and 1 coordinate set(s) were parsed in 0.00s.\n",
      "@> 4848 atoms and 1 coordinate set(s) were parsed in 0.09s.\n",
      "@> Checking AtomGroup 3ral_PROT_dk + 3ral_lig Selection 'resnum 499': 1 chains are identified\n",
      "@> Checking AtomGroup 1fin_PROT_dk: 1 chains are identified\n",
      "@> Trying to match chains based on residue numbers and names:\n",
      "@>   Comparing Chain   from 3ral_PROT_dk + 3ral_lig Selection 'resnum 499' (len=298) and Chain A from 1fin_PROT_dk (len=298):\n",
      "@> \tMatch: 298 residues match with 100% sequence identity and 100% overlap.\n",
      "@> Alignment is based on 34 atoms matching 'ca resnum 8 9 10 11 12 13 14 15 16 17 18 30 31 32 64 79 80 81 82 83 84 85 86 87 88 89 129 130 131 132 133 143 144 145'.\n",
      "@> Before alignment RMSD: 247.83\n",
      "@> After alignment  RMSD: 1.13\n",
      "@> 22 atoms and 1 coordinate set(s) were parsed in 0.00s.\n"
     ]
    },
    {
     "name": "stdout",
     "output_type": "stream",
     "text": [
      "[499 499 499 499 499 499 499 499 499 499 499 499 499]\n",
      "388.0\n"
     ]
    },
    {
     "name": "stderr",
     "output_type": "stream",
     "text": [
      "@> 4848 atoms and 1 coordinate set(s) were parsed in 0.09s.\n",
      "@> Checking AtomGroup 3rjc_PROT_dk + 3rjc_lig Selection 'resnum 450': 1 chains are identified\n",
      "@> Checking AtomGroup 1fin_PROT_dk: 1 chains are identified\n",
      "@> Trying to match chains based on residue numbers and names:\n",
      "@>   Comparing Chain   from 3rjc_PROT_dk + 3rjc_lig Selection 'resnum 450' (len=298) and Chain A from 1fin_PROT_dk (len=298):\n",
      "@> \tMatch: 298 residues match with 100% sequence identity and 100% overlap.\n",
      "@> Alignment is based on 34 atoms matching 'ca resnum 8 9 10 11 12 13 14 15 16 17 18 30 31 32 64 79 80 81 82 83 84 85 86 87 88 89 129 130 131 132 133 143 144 145'.\n",
      "@> Before alignment RMSD: 247.96\n",
      "@> After alignment  RMSD: 1.35\n",
      "@> 24 atoms and 1 coordinate set(s) were parsed in 0.00s.\n"
     ]
    },
    {
     "name": "stdout",
     "output_type": "stream",
     "text": [
      "[450 450 450 450 450 450 450 450 450 450]\n",
      "282.0\n"
     ]
    },
    {
     "name": "stderr",
     "output_type": "stream",
     "text": [
      "@> 4848 atoms and 1 coordinate set(s) were parsed in 0.08s.\n",
      "@> Checking AtomGroup 3rk5_PROT_dk + 3rk5_lig Selection 'resnum 436': 1 chains are identified\n",
      "@> Checking AtomGroup 1fin_PROT_dk: 1 chains are identified\n",
      "@> Trying to match chains based on residue numbers and names:\n",
      "@>   Comparing Chain   from 3rk5_PROT_dk + 3rk5_lig Selection 'resnum 436' (len=298) and Chain A from 1fin_PROT_dk (len=298):\n",
      "@> \tMatch: 298 residues match with 100% sequence identity and 100% overlap.\n",
      "@> Alignment is based on 34 atoms matching 'ca resnum 8 9 10 11 12 13 14 15 16 17 18 30 31 32 64 79 80 81 82 83 84 85 86 87 88 89 129 130 131 132 133 143 144 145'.\n",
      "@> Before alignment RMSD: 247.89\n",
      "@> After alignment  RMSD: 1.25\n",
      "@> 28 atoms and 1 coordinate set(s) were parsed in 0.00s.\n"
     ]
    },
    {
     "name": "stdout",
     "output_type": "stream",
     "text": [
      "[436 436 436 436 436 436 436]\n",
      "328.0\n"
     ]
    },
    {
     "name": "stderr",
     "output_type": "stream",
     "text": [
      "@> 4848 atoms and 1 coordinate set(s) were parsed in 0.05s.\n",
      "@> Checking AtomGroup 3rk7_PROT_dk + 3rk7_lig Selection 'resnum 467': 1 chains are identified\n",
      "@> Checking AtomGroup 1fin_PROT_dk: 1 chains are identified\n",
      "@> Trying to match chains based on residue numbers and names:\n",
      "@>   Comparing Chain   from 3rk7_PROT_dk + 3rk7_lig Selection 'resnum 467' (len=298) and Chain A from 1fin_PROT_dk (len=298):\n",
      "@> \tMatch: 298 residues match with 100% sequence identity and 100% overlap.\n",
      "@> Alignment is based on 34 atoms matching 'ca resnum 8 9 10 11 12 13 14 15 16 17 18 30 31 32 64 79 80 81 82 83 84 85 86 87 88 89 129 130 131 132 133 143 144 145'.\n",
      "@> Before alignment RMSD: 247.83\n",
      "@> After alignment  RMSD: 1.18\n",
      "@> 18 atoms and 1 coordinate set(s) were parsed in 0.00s.\n",
      "@> 4848 atoms and 1 coordinate set(s) were parsed in 0.05s.\n"
     ]
    },
    {
     "name": "stdout",
     "output_type": "stream",
     "text": [
      "[467 467 467 467 467]\n",
      "326.0\n"
     ]
    },
    {
     "name": "stderr",
     "output_type": "stream",
     "text": [
      "@> Checking AtomGroup 3rk9_PROT_dk + 3rk9_lig Selection 'resnum 483': 1 chains are identified\n",
      "@> Checking AtomGroup 1fin_PROT_dk: 1 chains are identified\n",
      "@> Trying to match chains based on residue numbers and names:\n",
      "@>   Comparing Chain   from 3rk9_PROT_dk + 3rk9_lig Selection 'resnum 483' (len=298) and Chain A from 1fin_PROT_dk (len=298):\n",
      "@> \tMatch: 298 residues match with 100% sequence identity and 100% overlap.\n",
      "@> Alignment is based on 34 atoms matching 'ca resnum 8 9 10 11 12 13 14 15 16 17 18 30 31 32 64 79 80 81 82 83 84 85 86 87 88 89 129 130 131 132 133 143 144 145'.\n",
      "@> Before alignment RMSD: 247.82\n",
      "@> After alignment  RMSD: 1.18\n",
      "@> 25 atoms and 1 coordinate set(s) were parsed in 0.00s.\n"
     ]
    },
    {
     "name": "stdout",
     "output_type": "stream",
     "text": [
      "[483 483 483 483 483 483 483 483 483 483 483]\n",
      "248.0\n"
     ]
    },
    {
     "name": "stderr",
     "output_type": "stream",
     "text": [
      "@> 4848 atoms and 1 coordinate set(s) were parsed in 0.06s.\n",
      "@> Checking AtomGroup 3rkb_PROT_dk + 3rkb_lig Selection 'resnum 457': 1 chains are identified\n",
      "@> Checking AtomGroup 1fin_PROT_dk: 1 chains are identified\n",
      "@> Trying to match chains based on residue numbers and names:\n",
      "@>   Comparing Chain   from 3rkb_PROT_dk + 3rkb_lig Selection 'resnum 457' (len=298) and Chain A from 1fin_PROT_dk (len=298):\n",
      "@> \tMatch: 298 residues match with 100% sequence identity and 100% overlap.\n",
      "@> Alignment is based on 34 atoms matching 'ca resnum 8 9 10 11 12 13 14 15 16 17 18 30 31 32 64 79 80 81 82 83 84 85 86 87 88 89 129 130 131 132 133 143 144 145'.\n",
      "@> Before alignment RMSD: 247.85\n",
      "@> After alignment  RMSD: 0.85\n",
      "@> 34 atoms and 1 coordinate set(s) were parsed in 0.00s.\n"
     ]
    },
    {
     "name": "stdout",
     "output_type": "stream",
     "text": [
      "[457 457 457 457 457 457 457 457 457 457]\n",
      "284.0\n"
     ]
    },
    {
     "name": "stderr",
     "output_type": "stream",
     "text": [
      "@> 4848 atoms and 1 coordinate set(s) were parsed in 0.05s.\n",
      "@> Checking AtomGroup 3rm6_PROT_dk + 3rm6_lig Selection 'resnum 478': 1 chains are identified\n",
      "@> Checking AtomGroup 1fin_PROT_dk: 1 chains are identified\n",
      "@> Trying to match chains based on residue numbers and names:\n",
      "@>   Comparing Chain   from 3rm6_PROT_dk + 3rm6_lig Selection 'resnum 478' (len=298) and Chain A from 1fin_PROT_dk (len=298):\n",
      "@> \tMatch: 298 residues match with 100% sequence identity and 100% overlap.\n",
      "@> Alignment is based on 34 atoms matching 'ca resnum 8 9 10 11 12 13 14 15 16 17 18 30 31 32 64 79 80 81 82 83 84 85 86 87 88 89 129 130 131 132 133 143 144 145'.\n",
      "@> Before alignment RMSD: 247.61\n",
      "@> After alignment  RMSD: 1.15\n",
      "@> 25 atoms and 1 coordinate set(s) were parsed in 0.00s.\n"
     ]
    },
    {
     "name": "stdout",
     "output_type": "stream",
     "text": [
      "[478 478 478 478 478 478 478 478 478 478 478 478]\n",
      "390.0\n"
     ]
    },
    {
     "name": "stderr",
     "output_type": "stream",
     "text": [
      "@> 4848 atoms and 1 coordinate set(s) were parsed in 0.05s.\n",
      "@> Checking AtomGroup 3rm7_PROT_dk + 3rm7_lig Selection 'resnum 654': 1 chains are identified\n",
      "@> Checking AtomGroup 1fin_PROT_dk: 1 chains are identified\n",
      "@> Trying to match chains based on residue numbers and names:\n",
      "@>   Comparing Chain   from 3rm7_PROT_dk + 3rm7_lig Selection 'resnum 654' (len=298) and Chain A from 1fin_PROT_dk (len=298):\n",
      "@> \tMatch: 298 residues match with 100% sequence identity and 100% overlap.\n",
      "@> Alignment is based on 34 atoms matching 'ca resnum 8 9 10 11 12 13 14 15 16 17 18 30 31 32 64 79 80 81 82 83 84 85 86 87 88 89 129 130 131 132 133 143 144 145'.\n",
      "@> Before alignment RMSD: 247.73\n",
      "@> After alignment  RMSD: 1.22\n",
      "@> 29 atoms and 1 coordinate set(s) were parsed in 0.00s.\n"
     ]
    },
    {
     "name": "stdout",
     "output_type": "stream",
     "text": [
      "[654 654 654 654 654 654 654 654 654 654]\n",
      "274.0\n"
     ]
    },
    {
     "name": "stderr",
     "output_type": "stream",
     "text": [
      "@> 4848 atoms and 1 coordinate set(s) were parsed in 0.06s.\n",
      "@> Checking AtomGroup 3rmf_PROT_dk + 3rmf_lig Selection 'resnum 496': 1 chains are identified\n",
      "@> Checking AtomGroup 1fin_PROT_dk: 1 chains are identified\n",
      "@> Trying to match chains based on residue numbers and names:\n",
      "@>   Comparing Chain   from 3rmf_PROT_dk + 3rmf_lig Selection 'resnum 496' (len=298) and Chain A from 1fin_PROT_dk (len=298):\n",
      "@> \tMatch: 298 residues match with 100% sequence identity and 100% overlap.\n",
      "@> Alignment is based on 34 atoms matching 'ca resnum 8 9 10 11 12 13 14 15 16 17 18 30 31 32 64 79 80 81 82 83 84 85 86 87 88 89 129 130 131 132 133 143 144 145'.\n",
      "@> Before alignment RMSD: 247.83\n",
      "@> After alignment  RMSD: 1.14\n",
      "@> 25 atoms and 1 coordinate set(s) were parsed in 0.00s.\n"
     ]
    },
    {
     "name": "stdout",
     "output_type": "stream",
     "text": [
      "[496 496 496 496 496 496 496 496 496 496]\n",
      "408.0\n"
     ]
    },
    {
     "name": "stderr",
     "output_type": "stream",
     "text": [
      "@> 4848 atoms and 1 coordinate set(s) were parsed in 0.05s.\n",
      "@> Checking AtomGroup 3rni_PROT_dk + 3rni_lig Selection 'resnum 424': 1 chains are identified\n",
      "@> Checking AtomGroup 1fin_PROT_dk: 1 chains are identified\n",
      "@> Trying to match chains based on residue numbers and names:\n",
      "@>   Comparing Chain   from 3rni_PROT_dk + 3rni_lig Selection 'resnum 424' (len=298) and Chain A from 1fin_PROT_dk (len=298):\n",
      "@> \tMatch: 298 residues match with 100% sequence identity and 100% overlap.\n",
      "@> Alignment is based on 34 atoms matching 'ca resnum 8 9 10 11 12 13 14 15 16 17 18 30 31 32 64 79 80 81 82 83 84 85 86 87 88 89 129 130 131 132 133 143 144 145'.\n",
      "@> Before alignment RMSD: 247.81\n",
      "@> After alignment  RMSD: 1.25\n",
      "@> 31 atoms and 1 coordinate set(s) were parsed in 0.00s.\n"
     ]
    },
    {
     "name": "stdout",
     "output_type": "stream",
     "text": [
      "[424 424 424 424 424 424 424 424]\n",
      "360.0\n"
     ]
    },
    {
     "name": "stderr",
     "output_type": "stream",
     "text": [
      "@> 4848 atoms and 1 coordinate set(s) were parsed in 0.05s.\n",
      "@> Checking AtomGroup 3roy_PROT_dk + 3roy_lig Selection 'resnum 781': 1 chains are identified\n",
      "@> Checking AtomGroup 1fin_PROT_dk: 1 chains are identified\n",
      "@> Trying to match chains based on residue numbers and names:\n",
      "@>   Comparing Chain   from 3roy_PROT_dk + 3roy_lig Selection 'resnum 781' (len=298) and Chain A from 1fin_PROT_dk (len=298):\n",
      "@> \tMatch: 298 residues match with 100% sequence identity and 100% overlap.\n",
      "@> Alignment is based on 34 atoms matching 'ca resnum 8 9 10 11 12 13 14 15 16 17 18 30 31 32 64 79 80 81 82 83 84 85 86 87 88 89 129 130 131 132 133 143 144 145'.\n",
      "@> Before alignment RMSD: 247.78\n",
      "@> After alignment  RMSD: 1.27\n",
      "@> 31 atoms and 1 coordinate set(s) were parsed in 0.00s.\n"
     ]
    },
    {
     "name": "stdout",
     "output_type": "stream",
     "text": [
      "[781 781 781 781 781 781 781 781 781 781 781]\n",
      "346.0\n"
     ]
    },
    {
     "name": "stderr",
     "output_type": "stream",
     "text": [
      "@> 4848 atoms and 1 coordinate set(s) were parsed in 0.05s.\n",
      "@> Checking AtomGroup 3rpo_PROT_dk + 3rpo_lig Selection 'resnum 778': 1 chains are identified\n",
      "@> Checking AtomGroup 1fin_PROT_dk: 1 chains are identified\n",
      "@> Trying to match chains based on residue numbers and names:\n",
      "@>   Comparing Chain   from 3rpo_PROT_dk + 3rpo_lig Selection 'resnum 778' (len=298) and Chain A from 1fin_PROT_dk (len=298):\n",
      "@> \tMatch: 298 residues match with 100% sequence identity and 100% overlap.\n",
      "@> Alignment is based on 34 atoms matching 'ca resnum 8 9 10 11 12 13 14 15 16 17 18 30 31 32 64 79 80 81 82 83 84 85 86 87 88 89 129 130 131 132 133 143 144 145'.\n",
      "@> Before alignment RMSD: 247.78\n",
      "@> After alignment  RMSD: 1.19\n",
      "@> 25 atoms and 1 coordinate set(s) were parsed in 0.00s.\n"
     ]
    },
    {
     "name": "stdout",
     "output_type": "stream",
     "text": [
      "[778 778 778 778 778 778 778 778 778 778 778 778]\n",
      "354.0\n"
     ]
    },
    {
     "name": "stderr",
     "output_type": "stream",
     "text": [
      "@> 4848 atoms and 1 coordinate set(s) were parsed in 0.05s.\n",
      "@> Checking AtomGroup 3rpr_PROT_dk + 3rpr_lig Selection 'resnum 529': 1 chains are identified\n",
      "@> Checking AtomGroup 1fin_PROT_dk: 1 chains are identified\n",
      "@> Trying to match chains based on residue numbers and names:\n",
      "@>   Comparing Chain   from 3rpr_PROT_dk + 3rpr_lig Selection 'resnum 529' (len=298) and Chain A from 1fin_PROT_dk (len=298):\n",
      "@> \tMatch: 298 residues match with 100% sequence identity and 100% overlap.\n",
      "@> Alignment is based on 34 atoms matching 'ca resnum 8 9 10 11 12 13 14 15 16 17 18 30 31 32 64 79 80 81 82 83 84 85 86 87 88 89 129 130 131 132 133 143 144 145'.\n",
      "@> Before alignment RMSD: 247.92\n",
      "@> After alignment  RMSD: 1.37\n",
      "@> 30 atoms and 1 coordinate set(s) were parsed in 0.00s.\n"
     ]
    },
    {
     "name": "stdout",
     "output_type": "stream",
     "text": [
      "[529 529 529 529 529 529 529]\n",
      "294.0\n"
     ]
    },
    {
     "name": "stderr",
     "output_type": "stream",
     "text": [
      "@> 4848 atoms and 1 coordinate set(s) were parsed in 0.06s.\n",
      "@> Checking AtomGroup 3rpv_PROT_dk + 3rpv_lig Selection 'resnum 495': 1 chains are identified\n",
      "@> Checking AtomGroup 1fin_PROT_dk: 1 chains are identified\n",
      "@> Trying to match chains based on residue numbers and names:\n",
      "@>   Comparing Chain   from 3rpv_PROT_dk + 3rpv_lig Selection 'resnum 495' (len=298) and Chain A from 1fin_PROT_dk (len=298):\n",
      "@> \tMatch: 298 residues match with 100% sequence identity and 100% overlap.\n",
      "@> Alignment is based on 34 atoms matching 'ca resnum 8 9 10 11 12 13 14 15 16 17 18 30 31 32 64 79 80 81 82 83 84 85 86 87 88 89 129 130 131 132 133 143 144 145'.\n",
      "@> Before alignment RMSD: 247.87\n",
      "@> After alignment  RMSD: 1.25\n",
      "@> 20 atoms and 1 coordinate set(s) were parsed in 0.00s.\n"
     ]
    },
    {
     "name": "stdout",
     "output_type": "stream",
     "text": [
      "[495 495 495 495 495 495 495 495 495 495 495 495 495 495]\n",
      "374.0\n"
     ]
    },
    {
     "name": "stderr",
     "output_type": "stream",
     "text": [
      "@> 4848 atoms and 1 coordinate set(s) were parsed in 0.07s.\n",
      "@> Checking AtomGroup 3rpy_PROT_dk + 3rpy_lig Selection 'resnum 470': 1 chains are identified\n",
      "@> Checking AtomGroup 1fin_PROT_dk: 1 chains are identified\n",
      "@> Trying to match chains based on residue numbers and names:\n",
      "@>   Comparing Chain   from 3rpy_PROT_dk + 3rpy_lig Selection 'resnum 470' (len=298) and Chain A from 1fin_PROT_dk (len=298):\n",
      "@> \tMatch: 298 residues match with 100% sequence identity and 100% overlap.\n",
      "@> Alignment is based on 34 atoms matching 'ca resnum 8 9 10 11 12 13 14 15 16 17 18 30 31 32 64 79 80 81 82 83 84 85 86 87 88 89 129 130 131 132 133 143 144 145'.\n",
      "@> Before alignment RMSD: 247.93\n",
      "@> After alignment  RMSD: 1.27\n",
      "@> 16 atoms and 1 coordinate set(s) were parsed in 0.00s.\n",
      "@> 4848 atoms and 1 coordinate set(s) were parsed in 0.05s.\n"
     ]
    },
    {
     "name": "stdout",
     "output_type": "stream",
     "text": [
      "[470 470 470 470 470 470 470 470 470 470 470]\n",
      "302.0\n"
     ]
    },
    {
     "name": "stderr",
     "output_type": "stream",
     "text": [
      "@> Checking AtomGroup 3rzb_PROT_dk + 3rzb_lig Selection 'resnum 458': 1 chains are identified\n",
      "@> Checking AtomGroup 1fin_PROT_dk: 1 chains are identified\n",
      "@> Trying to match chains based on residue numbers and names:\n",
      "@>   Comparing Chain   from 3rzb_PROT_dk + 3rzb_lig Selection 'resnum 458' (len=298) and Chain A from 1fin_PROT_dk (len=298):\n",
      "@> \tMatch: 298 residues match with 100% sequence identity and 100% overlap.\n",
      "@> Alignment is based on 34 atoms matching 'ca resnum 8 9 10 11 12 13 14 15 16 17 18 30 31 32 64 79 80 81 82 83 84 85 86 87 88 89 129 130 131 132 133 143 144 145'.\n",
      "@> Before alignment RMSD: 247.94\n",
      "@> After alignment  RMSD: 1.28\n"
     ]
    },
    {
     "name": "stdout",
     "output_type": "stream",
     "text": [
      "[458 458 458 458 458 458 458 458]\n",
      "224.0\n"
     ]
    },
    {
     "name": "stderr",
     "output_type": "stream",
     "text": [
      "@> 18 atoms and 1 coordinate set(s) were parsed in 0.00s.\n",
      "@> 4848 atoms and 1 coordinate set(s) were parsed in 0.07s.\n",
      "@> Checking AtomGroup 3s00_PROT_dk + 3s00_lig Selection 'resnum 461': 1 chains are identified\n",
      "@> Checking AtomGroup 1fin_PROT_dk: 1 chains are identified\n",
      "@> Trying to match chains based on residue numbers and names:\n",
      "@>   Comparing Chain   from 3s00_PROT_dk + 3s00_lig Selection 'resnum 461' (len=298) and Chain A from 1fin_PROT_dk (len=298):\n",
      "@> \tMatch: 298 residues match with 100% sequence identity and 100% overlap.\n",
      "@> Alignment is based on 34 atoms matching 'ca resnum 8 9 10 11 12 13 14 15 16 17 18 30 31 32 64 79 80 81 82 83 84 85 86 87 88 89 129 130 131 132 133 143 144 145'.\n",
      "@> Before alignment RMSD: 247.95\n",
      "@> After alignment  RMSD: 1.46\n",
      "@> 18 atoms and 1 coordinate set(s) were parsed in 0.00s.\n"
     ]
    },
    {
     "name": "stdout",
     "output_type": "stream",
     "text": [
      "[461 461 461 461 461 461]\n",
      "254.0\n"
     ]
    },
    {
     "name": "stderr",
     "output_type": "stream",
     "text": [
      "@> 4848 atoms and 1 coordinate set(s) were parsed in 0.05s.\n",
      "@> Checking AtomGroup 3s0o_PROT_dk + 3s0o_lig Selection 'resnum 446': 1 chains are identified\n",
      "@> Checking AtomGroup 1fin_PROT_dk: 1 chains are identified\n",
      "@> Trying to match chains based on residue numbers and names:\n",
      "@>   Comparing Chain   from 3s0o_PROT_dk + 3s0o_lig Selection 'resnum 446' (len=298) and Chain A from 1fin_PROT_dk (len=298):\n",
      "@> \tMatch: 298 residues match with 100% sequence identity and 100% overlap.\n",
      "@> Alignment is based on 34 atoms matching 'ca resnum 8 9 10 11 12 13 14 15 16 17 18 30 31 32 64 79 80 81 82 83 84 85 86 87 88 89 129 130 131 132 133 143 144 145'.\n",
      "@> Before alignment RMSD: 247.94\n",
      "@> After alignment  RMSD: 1.34\n",
      "@> 27 atoms and 1 coordinate set(s) were parsed in 0.00s.\n"
     ]
    },
    {
     "name": "stdout",
     "output_type": "stream",
     "text": [
      "[446 446 446 446 446 446 446 446 446]\n",
      "248.0\n"
     ]
    },
    {
     "name": "stderr",
     "output_type": "stream",
     "text": [
      "@> 4848 atoms and 1 coordinate set(s) were parsed in 0.09s.\n",
      "@> Checking AtomGroup 3s1h_PROT_dk + 3s1h_lig Selection 'resnum 479': 1 chains are identified\n",
      "@> Checking AtomGroup 1fin_PROT_dk: 1 chains are identified\n",
      "@> Trying to match chains based on residue numbers and names:\n",
      "@>   Comparing Chain   from 3s1h_PROT_dk + 3s1h_lig Selection 'resnum 479' (len=298) and Chain A from 1fin_PROT_dk (len=298):\n",
      "@> \tMatch: 298 residues match with 100% sequence identity and 100% overlap.\n",
      "@> Alignment is based on 34 atoms matching 'ca resnum 8 9 10 11 12 13 14 15 16 17 18 30 31 32 64 79 80 81 82 83 84 85 86 87 88 89 129 130 131 132 133 143 144 145'.\n",
      "@> Before alignment RMSD: 247.81\n",
      "@> After alignment  RMSD: 1.04\n"
     ]
    },
    {
     "name": "stdout",
     "output_type": "stream",
     "text": [
      "[479 479 479 479 479 479 479 479]\n",
      "388.0\n"
     ]
    },
    {
     "name": "stderr",
     "output_type": "stream",
     "text": [
      "@> 24 atoms and 1 coordinate set(s) were parsed in 0.00s.\n",
      "@> 4848 atoms and 1 coordinate set(s) were parsed in 0.08s.\n",
      "@> Checking AtomGroup 3s2p_PROT_dk + 3s2p_lig Selection 'resnum 500': 1 chains are identified\n",
      "@> Checking AtomGroup 1fin_PROT_dk: 1 chains are identified\n",
      "@> Trying to match chains based on residue numbers and names:\n",
      "@>   Comparing Chain   from 3s2p_PROT_dk + 3s2p_lig Selection 'resnum 500' (len=298) and Chain A from 1fin_PROT_dk (len=298):\n",
      "@> \tMatch: 298 residues match with 100% sequence identity and 100% overlap.\n",
      "@> Alignment is based on 34 atoms matching 'ca resnum 8 9 10 11 12 13 14 15 16 17 18 30 31 32 64 79 80 81 82 83 84 85 86 87 88 89 129 130 131 132 133 143 144 145'.\n",
      "@> Before alignment RMSD: 247.67\n",
      "@> After alignment  RMSD: 1.17\n",
      "@> 30 atoms and 1 coordinate set(s) were parsed in 0.00s.\n"
     ]
    },
    {
     "name": "stdout",
     "output_type": "stream",
     "text": [
      "[500 500 500 500 500 500 500 500 500 500 500]\n",
      "308.0\n"
     ]
    },
    {
     "name": "stderr",
     "output_type": "stream",
     "text": [
      "@> 4848 atoms and 1 coordinate set(s) were parsed in 0.08s.\n",
      "@> Checking AtomGroup 3sqq_PROT_dk + 3sqq_lig Selection 'resnum 456': 1 chains are identified\n",
      "@> Checking AtomGroup 1fin_PROT_dk: 1 chains are identified\n",
      "@> Trying to match chains based on residue numbers and names:\n",
      "@>   Comparing Chain   from 3sqq_PROT_dk + 3sqq_lig Selection 'resnum 456' (len=298) and Chain A from 1fin_PROT_dk (len=298):\n",
      "@> \tMatch: 298 residues match with 100% sequence identity and 100% overlap.\n",
      "@> Alignment is based on 34 atoms matching 'ca resnum 8 9 10 11 12 13 14 15 16 17 18 30 31 32 64 79 80 81 82 83 84 85 86 87 88 89 129 130 131 132 133 143 144 145'.\n",
      "@> Before alignment RMSD: 247.75\n",
      "@> After alignment  RMSD: 1.21\n",
      "@> 31 atoms and 1 coordinate set(s) were parsed in 0.00s.\n"
     ]
    },
    {
     "name": "stdout",
     "output_type": "stream",
     "text": [
      "[456 456 456 456 456 456 456 456 456 456 456]\n",
      "372.0\n"
     ]
    },
    {
     "name": "stderr",
     "output_type": "stream",
     "text": [
      "@> 4848 atoms and 1 coordinate set(s) were parsed in 0.05s.\n",
      "@> Checking AtomGroup 3sw4_PROT_dk + 3sw4_lig Selection 'resnum 299': 1 chains are identified\n",
      "@> Checking AtomGroup 1fin_PROT_dk: 1 chains are identified\n",
      "@> Trying to match chains based on residue numbers and names:\n",
      "@>   Comparing Chain   from 3sw4_PROT_dk + 3sw4_lig Selection 'resnum 299' (len=298) and Chain A from 1fin_PROT_dk (len=298):\n",
      "@> \tMatch: 298 residues match with 100% sequence identity and 100% overlap.\n",
      "@> Alignment is based on 34 atoms matching 'ca resnum 8 9 10 11 12 13 14 15 16 17 18 30 31 32 64 79 80 81 82 83 84 85 86 87 88 89 129 130 131 132 133 143 144 145'.\n",
      "@> Before alignment RMSD: 247.96\n",
      "@> After alignment  RMSD: 1.25\n",
      "@> 29 atoms and 1 coordinate set(s) were parsed in 0.00s.\n"
     ]
    },
    {
     "name": "stdout",
     "output_type": "stream",
     "text": [
      "[ 36 299 299 299 299 299 299 299 299 299 299]\n",
      "14.0\n",
      "308.0\n"
     ]
    },
    {
     "name": "stderr",
     "output_type": "stream",
     "text": [
      "@> 4848 atoms and 1 coordinate set(s) were parsed in 0.08s.\n",
      "@> Checking AtomGroup 3sw7_PROT_dk + 3sw7_lig Selection 'resnum 299': 1 chains are identified\n",
      "@> Checking AtomGroup 1fin_PROT_dk: 1 chains are identified\n",
      "@> Trying to match chains based on residue numbers and names:\n",
      "@>   Comparing Chain   from 3sw7_PROT_dk + 3sw7_lig Selection 'resnum 299' (len=298) and Chain A from 1fin_PROT_dk (len=298):\n",
      "@> \tMatch: 298 residues match with 100% sequence identity and 100% overlap.\n",
      "@> Alignment is based on 34 atoms matching 'ca resnum 8 9 10 11 12 13 14 15 16 17 18 30 31 32 64 79 80 81 82 83 84 85 86 87 88 89 129 130 131 132 133 143 144 145'.\n",
      "@> Before alignment RMSD: 247.94\n",
      "@> After alignment  RMSD: 1.32\n",
      "@> 61 atoms and 1 coordinate set(s) were parsed in 0.00s.\n"
     ]
    },
    {
     "name": "stdout",
     "output_type": "stream",
     "text": [
      "[299 299 299 299 299 299 299 299 299 299 299]\n",
      "352.0\n"
     ]
    },
    {
     "name": "stderr",
     "output_type": "stream",
     "text": [
      "@> 4849 atoms and 1 coordinate set(s) were parsed in 0.08s.\n",
      "@> Checking AtomGroup 3ti1_PROT_dk + 3ti1_lig Selection 'resnum 299': 1 chains are identified\n",
      "@> Checking AtomGroup 1fin_PROT_dk: 1 chains are identified\n",
      "@> Trying to match chains based on residue numbers and names:\n",
      "@>   Comparing Chain   from 3ti1_PROT_dk + 3ti1_lig Selection 'resnum 299' (len=298) and Chain A from 1fin_PROT_dk (len=298):\n",
      "@> \tMatch: 298 residues match with 100% sequence identity and 100% overlap.\n",
      "@> Alignment is based on 34 atoms matching 'ca resnum 8 9 10 11 12 13 14 15 16 17 18 30 31 32 64 79 80 81 82 83 84 85 86 87 88 89 129 130 131 132 133 143 144 145'.\n",
      "@> Before alignment RMSD: 248.01\n",
      "@> After alignment  RMSD: 1.39\n",
      "@> 64 atoms and 1 coordinate set(s) were parsed in 0.00s.\n"
     ]
    },
    {
     "name": "stdout",
     "output_type": "stream",
     "text": [
      "[299 299 299 299 299 299 299 299 299 299 299 299 299 299 300 300]\n",
      "352.0\n",
      "56.0\n"
     ]
    },
    {
     "name": "stderr",
     "output_type": "stream",
     "text": [
      "@> 4848 atoms and 1 coordinate set(s) were parsed in 0.06s.\n",
      "@> Checking AtomGroup 3tiy_PROT_dk + 3tiy_lig Selection 'resnum 311': 1 chains are identified\n",
      "@> Checking AtomGroup 1fin_PROT_dk: 1 chains are identified\n",
      "@> Trying to match chains based on residue numbers and names:\n",
      "@>   Comparing Chain   from 3tiy_PROT_dk + 3tiy_lig Selection 'resnum 311' (len=298) and Chain A from 1fin_PROT_dk (len=298):\n",
      "@> \tMatch: 298 residues match with 100% sequence identity and 100% overlap.\n",
      "@> Alignment is based on 34 atoms matching 'ca resnum 8 9 10 11 12 13 14 15 16 17 18 30 31 32 64 79 80 81 82 83 84 85 86 87 88 89 129 130 131 132 133 143 144 145'.\n",
      "@> Before alignment RMSD: 247.89\n",
      "@> After alignment  RMSD: 1.34\n",
      "@> 52 atoms and 1 coordinate set(s) were parsed in 0.00s.\n"
     ]
    },
    {
     "name": "stdout",
     "output_type": "stream",
     "text": [
      "[300 310 310 310 311 311 311 311 311 311 311 311]\n",
      "56.0\n",
      "56.0\n",
      "212.0\n"
     ]
    },
    {
     "name": "stderr",
     "output_type": "stream",
     "text": [
      "@> 4848 atoms and 1 coordinate set(s) were parsed in 0.05s.\n",
      "@> Checking AtomGroup 3tiz_PROT_dk + 3tiz_lig Selection 'resnum 299': 1 chains are identified\n",
      "@> Checking AtomGroup 1fin_PROT_dk: 1 chains are identified\n",
      "@> Trying to match chains based on residue numbers and names:\n",
      "@>   Comparing Chain   from 3tiz_PROT_dk + 3tiz_lig Selection 'resnum 299' (len=298) and Chain A from 1fin_PROT_dk (len=298):\n",
      "@> \tMatch: 298 residues match with 100% sequence identity and 100% overlap.\n",
      "@> Alignment is based on 34 atoms matching 'ca resnum 8 9 10 11 12 13 14 15 16 17 18 30 31 32 64 79 80 81 82 83 84 85 86 87 88 89 129 130 131 132 133 143 144 145'.\n",
      "@> Before alignment RMSD: 248.10\n",
      "@> After alignment  RMSD: 1.62\n",
      "@> 16 atoms and 1 coordinate set(s) were parsed in 0.00s.\n"
     ]
    },
    {
     "name": "stdout",
     "output_type": "stream",
     "text": [
      "[299 299 299 299 299 299 299 299 299 299 299 303 303 307 307]\n",
      "250.0\n",
      "56.0\n",
      "56.0\n"
     ]
    },
    {
     "name": "stderr",
     "output_type": "stream",
     "text": [
      "@> 4848 atoms and 1 coordinate set(s) were parsed in 0.05s.\n",
      "@> Checking AtomGroup 3tnw_PROT_dk + 3tnw_lig Selection 'resnum 299': 1 chains are identified\n",
      "@> Checking AtomGroup 1fin_PROT_dk: 1 chains are identified\n",
      "@> Trying to match chains based on residue numbers and names:\n",
      "@>   Comparing Chain   from 3tnw_PROT_dk + 3tnw_lig Selection 'resnum 299' (len=298) and Chain A from 1fin_PROT_dk (len=298):\n",
      "@> \tMatch: 298 residues match with 100% sequence identity and 100% overlap.\n",
      "@> Alignment is based on 34 atoms matching 'ca resnum 8 9 10 11 12 13 14 15 16 17 18 30 31 32 64 79 80 81 82 83 84 85 86 87 88 89 129 130 131 132 133 143 144 145'.\n",
      "@> Before alignment RMSD: 246.61\n",
      "@> After alignment  RMSD: 0.46\n"
     ]
    },
    {
     "name": "stdout",
     "output_type": "stream",
     "text": [
      "[299 299 299 299 299 299 299 299 299 299]\n",
      "208.0\n"
     ]
    },
    {
     "name": "stderr",
     "output_type": "stream",
     "text": [
      "@> 30 atoms and 1 coordinate set(s) were parsed in 0.00s.\n",
      "@> 4848 atoms and 1 coordinate set(s) were parsed in 0.05s.\n",
      "@> Checking AtomGroup 3uli_PROT_dk + 3uli_lig Selection 'resnum 299': 1 chains are identified\n",
      "@> Checking AtomGroup 1fin_PROT_dk: 1 chains are identified\n",
      "@> Trying to match chains based on residue numbers and names:\n",
      "@>   Comparing Chain   from 3uli_PROT_dk + 3uli_lig Selection 'resnum 299' (len=298) and Chain A from 1fin_PROT_dk (len=298):\n",
      "@> \tMatch: 298 residues match with 100% sequence identity and 100% overlap.\n",
      "@> Alignment is based on 34 atoms matching 'ca resnum 8 9 10 11 12 13 14 15 16 17 18 30 31 32 64 79 80 81 82 83 84 85 86 87 88 89 129 130 131 132 133 143 144 145'.\n",
      "@> Before alignment RMSD: 247.76\n",
      "@> After alignment  RMSD: 0.98\n",
      "@> 28 atoms and 1 coordinate set(s) were parsed in 0.00s.\n"
     ]
    },
    {
     "name": "stdout",
     "output_type": "stream",
     "text": [
      "[299 299 299 299 299 299 299 299 299 299 299 299 299]\n",
      "368.0\n"
     ]
    },
    {
     "name": "stderr",
     "output_type": "stream",
     "text": [
      "@> 4848 atoms and 1 coordinate set(s) were parsed in 0.05s.\n",
      "@> Checking AtomGroup 3unj_PROT_dk + 3unj_lig Selection 'resnum 299': 1 chains are identified\n",
      "@> Checking AtomGroup 1fin_PROT_dk: 1 chains are identified\n",
      "@> Trying to match chains based on residue numbers and names:\n",
      "@>   Comparing Chain   from 3unj_PROT_dk + 3unj_lig Selection 'resnum 299' (len=298) and Chain A from 1fin_PROT_dk (len=298):\n",
      "@> \tMatch: 298 residues match with 100% sequence identity and 100% overlap.\n",
      "@> Alignment is based on 34 atoms matching 'ca resnum 8 9 10 11 12 13 14 15 16 17 18 30 31 32 64 79 80 81 82 83 84 85 86 87 88 89 129 130 131 132 133 143 144 145'.\n",
      "@> Before alignment RMSD: 248.19\n",
      "@> After alignment  RMSD: 1.73\n",
      "@> 29 atoms and 1 coordinate set(s) were parsed in 0.00s.\n"
     ]
    },
    {
     "name": "stdout",
     "output_type": "stream",
     "text": [
      "[299 299 299 299 299 299 299 299 299 299 299 299 299 300 300 300 300 300]\n",
      "292.0\n",
      "64.0\n"
     ]
    },
    {
     "name": "stderr",
     "output_type": "stream",
     "text": [
      "@> 4848 atoms and 1 coordinate set(s) were parsed in 0.08s.\n",
      "@> Checking AtomGroup 3unk_PROT_dk + 3unk_lig Selection 'resnum 299': 1 chains are identified\n",
      "@> Checking AtomGroup 1fin_PROT_dk: 1 chains are identified\n",
      "@> Trying to match chains based on residue numbers and names:\n",
      "@>   Comparing Chain   from 3unk_PROT_dk + 3unk_lig Selection 'resnum 299' (len=298) and Chain A from 1fin_PROT_dk (len=298):\n",
      "@> \tMatch: 298 residues match with 100% sequence identity and 100% overlap.\n",
      "@> Alignment is based on 34 atoms matching 'ca resnum 8 9 10 11 12 13 14 15 16 17 18 30 31 32 64 79 80 81 82 83 84 85 86 87 88 89 129 130 131 132 133 143 144 145'.\n",
      "@> Before alignment RMSD: 248.13\n",
      "@> After alignment  RMSD: 1.59\n",
      "@> 31 atoms and 1 coordinate set(s) were parsed in 0.00s.\n"
     ]
    },
    {
     "name": "stdout",
     "output_type": "stream",
     "text": [
      "[299 299 299 299 299 299 299 299 299 299 299 299 299 299 300 300 300 300\n",
      " 300]\n",
      "292.0\n",
      "64.0\n"
     ]
    },
    {
     "name": "stderr",
     "output_type": "stream",
     "text": [
      "@> 4848 atoms and 1 coordinate set(s) were parsed in 0.06s.\n",
      "@> Checking AtomGroup 3wbl_PROT_dk + 3wbl_lig Selection 'resnum 302': 1 chains are identified\n",
      "@> Checking AtomGroup 1fin_PROT_dk: 1 chains are identified\n",
      "@> Trying to match chains based on residue numbers and names:\n",
      "@>   Comparing Chain   from 3wbl_PROT_dk + 3wbl_lig Selection 'resnum 302' (len=298) and Chain A from 1fin_PROT_dk (len=298):\n",
      "@> \tMatch: 298 residues match with 100% sequence identity and 100% overlap.\n",
      "@> Alignment is based on 34 atoms matching 'ca resnum 8 9 10 11 12 13 14 15 16 17 18 30 31 32 64 79 80 81 82 83 84 85 86 87 88 89 129 130 131 132 133 143 144 145'.\n",
      "@> Before alignment RMSD: 247.70\n",
      "@> After alignment  RMSD: 1.14\n",
      "@> 69 atoms and 1 coordinate set(s) were parsed in 0.00s.\n"
     ]
    },
    {
     "name": "stdout",
     "output_type": "stream",
     "text": [
      "[302 302 302 302 302 302 302]\n",
      "340.0\n"
     ]
    },
    {
     "name": "stderr",
     "output_type": "stream",
     "text": [
      "@> 4849 atoms and 1 coordinate set(s) were parsed in 0.05s.\n",
      "@> Checking AtomGroup 4acm_PROT_dk + 4acm_lig Selection 'resnum 1302': 1 chains are identified\n",
      "@> Checking AtomGroup 1fin_PROT_dk: 1 chains are identified\n",
      "@> Trying to match chains based on residue numbers and names:\n",
      "@>   Comparing Chain   from 4acm_PROT_dk + 4acm_lig Selection 'resnum 1302' (len=297) and Chain A from 1fin_PROT_dk (len=298):\n",
      "@> \tMatch: 297 residues match with 100% sequence identity and 100% overlap.\n",
      "@> Alignment is based on 34 atoms matching 'ca resnum 8 9 10 11 12 13 14 15 16 17 18 30 31 32 64 79 80 81 82 83 84 85 86 87 88 89 129 130 131 132 133 143 144 145'.\n",
      "@> Before alignment RMSD: 247.91\n",
      "@> After alignment  RMSD: 1.40\n",
      "@> 48 atoms and 1 coordinate set(s) were parsed in 0.00s.\n"
     ]
    },
    {
     "name": "stdout",
     "output_type": "stream",
     "text": [
      "[1302 1302 1302 1302 1302 1302 1302 1302 1302 1302 1302 1302 1302 1302\n",
      " 1302 1302 1302 1302 1302 1302 1302]\n",
      "441.0\n"
     ]
    },
    {
     "name": "stderr",
     "output_type": "stream",
     "text": [
      "@> 4848 atoms and 1 coordinate set(s) were parsed in 0.05s.\n",
      "@> Checking AtomGroup 4bck_PROT_dk + 4bck_lig Selection 'resnum 1298': 1 chains are identified\n",
      "@> Checking AtomGroup 1fin_PROT_dk: 1 chains are identified\n",
      "@> Trying to match chains based on residue numbers and names:\n",
      "@>   Comparing Chain   from 4bck_PROT_dk + 4bck_lig Selection 'resnum 1298' (len=298) and Chain A from 1fin_PROT_dk (len=298):\n",
      "@> \tMatch: 298 residues match with 100% sequence identity and 100% overlap.\n",
      "@> Alignment is based on 34 atoms matching 'ca resnum 8 9 10 11 12 13 14 15 16 17 18 30 31 32 64 79 80 81 82 83 84 85 86 87 88 89 129 130 131 132 133 143 144 145'.\n",
      "@> Before alignment RMSD: 246.24\n",
      "@> After alignment  RMSD: 0.51\n",
      "@> 33 atoms and 1 coordinate set(s) were parsed in 0.00s.\n"
     ]
    },
    {
     "name": "stdout",
     "output_type": "stream",
     "text": [
      "[1298 1298 1298 1298 1298 1298 1298 1298 1298 1298 1298 1298 1298 1298\n",
      " 1298 1298 1298 1298 1298 1298 1298]\n",
      "401.0\n"
     ]
    },
    {
     "name": "stderr",
     "output_type": "stream",
     "text": [
      "@> 4848 atoms and 1 coordinate set(s) were parsed in 0.05s.\n",
      "@> Checking AtomGroup 4bcm_PROT_dk + 4bcm_lig Selection 'resnum 1297': 1 chains are identified\n",
      "@> Checking AtomGroup 1fin_PROT_dk: 1 chains are identified\n",
      "@> Trying to match chains based on residue numbers and names:\n",
      "@>   Comparing Chain   from 4bcm_PROT_dk + 4bcm_lig Selection 'resnum 1297' (len=298) and Chain A from 1fin_PROT_dk (len=298):\n",
      "@> \tMatch: 298 residues match with 100% sequence identity and 100% overlap.\n",
      "@> Alignment is based on 34 atoms matching 'ca resnum 8 9 10 11 12 13 14 15 16 17 18 30 31 32 64 79 80 81 82 83 84 85 86 87 88 89 129 130 131 132 133 143 144 145'.\n",
      "@> Before alignment RMSD: 246.75\n",
      "@> After alignment  RMSD: 0.51\n"
     ]
    },
    {
     "name": "stdout",
     "output_type": "stream",
     "text": [
      "[1297 1297 1297 1297 1297 1297 1297 1297 1297 1297 1297 1297 1297 1297\n",
      " 1297 1297 1297 1297 1297]\n",
      "462.0\n"
     ]
    },
    {
     "name": "stderr",
     "output_type": "stream",
     "text": [
      "@> 24 atoms and 1 coordinate set(s) were parsed in 0.00s.\n",
      "@> 4848 atoms and 1 coordinate set(s) were parsed in 0.05s.\n",
      "@> Checking AtomGroup 4bcn_PROT_dk + 4bcn_lig Selection 'resnum 1299': 1 chains are identified\n",
      "@> Checking AtomGroup 1fin_PROT_dk: 1 chains are identified\n",
      "@> Trying to match chains based on residue numbers and names:\n",
      "@>   Comparing Chain   from 4bcn_PROT_dk + 4bcn_lig Selection 'resnum 1299' (len=298) and Chain A from 1fin_PROT_dk (len=298):\n",
      "@> \tMatch: 298 residues match with 100% sequence identity and 100% overlap.\n",
      "@> Alignment is based on 34 atoms matching 'ca resnum 8 9 10 11 12 13 14 15 16 17 18 30 31 32 64 79 80 81 82 83 84 85 86 87 88 89 129 130 131 132 133 143 144 145'.\n",
      "@> Before alignment RMSD: 246.85\n",
      "@> After alignment  RMSD: 0.46\n"
     ]
    },
    {
     "name": "stdout",
     "output_type": "stream",
     "text": [
      "[1299 1299 1299 1299 1299 1299 1299 1299 1299 1299 1299]\n",
      "324.0\n"
     ]
    },
    {
     "name": "stderr",
     "output_type": "stream",
     "text": [
      "@> 33 atoms and 1 coordinate set(s) were parsed in 0.00s.\n",
      "@> 4849 atoms and 1 coordinate set(s) were parsed in 0.08s.\n",
      "@> Checking AtomGroup 4bco_PROT_dk + 4bco_lig Selection 'resnum 1299': 1 chains are identified\n",
      "@> Checking AtomGroup 1fin_PROT_dk: 1 chains are identified\n",
      "@> Trying to match chains based on residue numbers and names:\n",
      "@>   Comparing Chain   from 4bco_PROT_dk + 4bco_lig Selection 'resnum 1299' (len=298) and Chain A from 1fin_PROT_dk (len=298):\n",
      "@> \tMatch: 298 residues match with 100% sequence identity and 100% overlap.\n",
      "@> Alignment is based on 34 atoms matching 'ca resnum 8 9 10 11 12 13 14 15 16 17 18 30 31 32 64 79 80 81 82 83 84 85 86 87 88 89 129 130 131 132 133 143 144 145'.\n",
      "@> Before alignment RMSD: 246.98\n",
      "@> After alignment  RMSD: 1.34\n",
      "@> 30 atoms and 1 coordinate set(s) were parsed in 0.00s.\n"
     ]
    },
    {
     "name": "stdout",
     "output_type": "stream",
     "text": [
      "[1299 1299 1299 1299 1299 1299 1299 1299 1299 1299 1299]\n",
      "436.0\n"
     ]
    },
    {
     "name": "stderr",
     "output_type": "stream",
     "text": [
      "@> 4849 atoms and 1 coordinate set(s) were parsed in 0.05s.\n",
      "@> Checking AtomGroup 4bcp_PROT_dk + 4bcp_lig Selection 'resnum 1299': 1 chains are identified\n",
      "@> Checking AtomGroup 1fin_PROT_dk: 1 chains are identified\n",
      "@> Trying to match chains based on residue numbers and names:\n",
      "@>   Comparing Chain   from 4bcp_PROT_dk + 4bcp_lig Selection 'resnum 1299' (len=298) and Chain A from 1fin_PROT_dk (len=298):\n",
      "@> \tMatch: 298 residues match with 100% sequence identity and 100% overlap.\n",
      "@> Alignment is based on 34 atoms matching 'ca resnum 8 9 10 11 12 13 14 15 16 17 18 30 31 32 64 79 80 81 82 83 84 85 86 87 88 89 129 130 131 132 133 143 144 145'.\n",
      "@> Before alignment RMSD: 246.91\n",
      "@> After alignment  RMSD: 1.26\n",
      "@> 31 atoms and 1 coordinate set(s) were parsed in 0.00s.\n"
     ]
    },
    {
     "name": "stdout",
     "output_type": "stream",
     "text": [
      "[1299 1299 1299 1299 1299 1299 1299 1299 1299 1299 1299 1299 1299 1299\n",
      " 1299]\n",
      "396.0\n"
     ]
    },
    {
     "name": "stderr",
     "output_type": "stream",
     "text": [
      "@> 4848 atoms and 1 coordinate set(s) were parsed in 0.05s.\n",
      "@> Checking AtomGroup 4bcq_PROT_dk + 4bcq_lig Selection 'resnum 1296': 1 chains are identified\n",
      "@> Checking AtomGroup 1fin_PROT_dk: 1 chains are identified\n",
      "@> Trying to match chains based on residue numbers and names:\n",
      "@>   Comparing Chain   from 4bcq_PROT_dk + 4bcq_lig Selection 'resnum 1296' (len=298) and Chain A from 1fin_PROT_dk (len=298):\n",
      "@> \tMatch: 298 residues match with 100% sequence identity and 100% overlap.\n",
      "@> Alignment is based on 34 atoms matching 'ca resnum 8 9 10 11 12 13 14 15 16 17 18 30 31 32 64 79 80 81 82 83 84 85 86 87 88 89 129 130 131 132 133 143 144 145'.\n",
      "@> Before alignment RMSD: 246.26\n",
      "@> After alignment  RMSD: 2.16\n",
      "@> 23 atoms and 1 coordinate set(s) were parsed in 0.00s.\n"
     ]
    },
    {
     "name": "stdout",
     "output_type": "stream",
     "text": [
      "[1296 1296 1296 1296 1296 1296 1296]\n",
      "414.0\n"
     ]
    },
    {
     "name": "stderr",
     "output_type": "stream",
     "text": [
      "@> 4848 atoms and 1 coordinate set(s) were parsed in 0.09s.\n",
      "@> Checking AtomGroup 4bgh_PROT_dk + 4bgh_lig Selection 'resnum 1001': 1 chains are identified\n",
      "@> Checking AtomGroup 1fin_PROT_dk: 1 chains are identified\n",
      "@> Trying to match chains based on residue numbers and names:\n",
      "@>   Comparing Chain   from 4bgh_PROT_dk + 4bgh_lig Selection 'resnum 1001' (len=298) and Chain A from 1fin_PROT_dk (len=298):\n",
      "@> \tMatch: 298 residues match with 100% sequence identity and 100% overlap.\n",
      "@> Alignment is based on 34 atoms matching 'ca resnum 8 9 10 11 12 13 14 15 16 17 18 30 31 32 64 79 80 81 82 83 84 85 86 87 88 89 129 130 131 132 133 143 144 145'.\n",
      "@> Before alignment RMSD: 247.92\n",
      "@> After alignment  RMSD: 1.14\n",
      "@> 33 atoms and 1 coordinate set(s) were parsed in 0.00s.\n"
     ]
    },
    {
     "name": "stdout",
     "output_type": "stream",
     "text": [
      "[1001 1001 1001 1001 1001 1001 1001 1001 1001 1001]\n",
      "306.0\n"
     ]
    },
    {
     "name": "stderr",
     "output_type": "stream",
     "text": [
      "@> 4848 atoms and 1 coordinate set(s) were parsed in 0.07s.\n",
      "@> Checking AtomGroup 4bzd_PROT_dk + 4bzd_lig Selection 'resnum 1300': 1 chains are identified\n",
      "@> Checking AtomGroup 1fin_PROT_dk: 1 chains are identified\n",
      "@> Trying to match chains based on residue numbers and names:\n",
      "@>   Comparing Chain   from 4bzd_PROT_dk + 4bzd_lig Selection 'resnum 1300' (len=298) and Chain A from 1fin_PROT_dk (len=298):\n",
      "@> \tMatch: 298 residues match with 100% sequence identity and 100% overlap.\n",
      "@> Alignment is based on 34 atoms matching 'ca resnum 8 9 10 11 12 13 14 15 16 17 18 30 31 32 64 79 80 81 82 83 84 85 86 87 88 89 129 130 131 132 133 143 144 145'.\n",
      "@> Before alignment RMSD: 247.89\n",
      "@> After alignment  RMSD: 1.43\n"
     ]
    },
    {
     "name": "stdout",
     "output_type": "stream",
     "text": [
      "[1300 1300 1300 1300 1300 1300 1300 1300 1300]\n",
      "366.0\n"
     ]
    },
    {
     "name": "stderr",
     "output_type": "stream",
     "text": [
      "@> 25 atoms and 1 coordinate set(s) were parsed in 0.00s.\n",
      "@> 4849 atoms and 1 coordinate set(s) were parsed in 0.07s.\n",
      "@> Checking AtomGroup 4cfm_PROT_dk + 4cfm_lig Selection 'resnum 1297': 1 chains are identified\n",
      "@> Checking AtomGroup 1fin_PROT_dk: 1 chains are identified\n",
      "@> Trying to match chains based on residue numbers and names:\n",
      "@>   Comparing Chain   from 4cfm_PROT_dk + 4cfm_lig Selection 'resnum 1297' (len=298) and Chain A from 1fin_PROT_dk (len=298):\n",
      "@> \tMatch: 298 residues match with 100% sequence identity and 100% overlap.\n",
      "@> Alignment is based on 34 atoms matching 'ca resnum 8 9 10 11 12 13 14 15 16 17 18 30 31 32 64 79 80 81 82 83 84 85 86 87 88 89 129 130 131 132 133 143 144 145'.\n",
      "@> Before alignment RMSD: 246.90\n",
      "@> After alignment  RMSD: 1.07\n"
     ]
    },
    {
     "name": "stdout",
     "output_type": "stream",
     "text": [
      "[1297 1297 1297 1297 1297 1297 1297 1297 1297 1297 1297 1297 1297 1297]\n",
      "314.0\n"
     ]
    },
    {
     "name": "stderr",
     "output_type": "stream",
     "text": [
      "@> 22 atoms and 1 coordinate set(s) were parsed in 0.00s.\n",
      "@> 4848 atoms and 1 coordinate set(s) were parsed in 0.08s.\n",
      "@> Checking AtomGroup 4cfn_PROT_dk + 4cfn_lig Selection 'resnum 1298': 1 chains are identified\n",
      "@> Checking AtomGroup 1fin_PROT_dk: 1 chains are identified\n",
      "@> Trying to match chains based on residue numbers and names:\n",
      "@>   Comparing Chain   from 4cfn_PROT_dk + 4cfn_lig Selection 'resnum 1298' (len=298) and Chain A from 1fin_PROT_dk (len=298):\n",
      "@> \tMatch: 298 residues match with 100% sequence identity and 100% overlap.\n",
      "@> Alignment is based on 34 atoms matching 'ca resnum 8 9 10 11 12 13 14 15 16 17 18 30 31 32 64 79 80 81 82 83 84 85 86 87 88 89 129 130 131 132 133 143 144 145'.\n",
      "@> Before alignment RMSD: 246.88\n",
      "@> After alignment  RMSD: 1.15\n",
      "@> 29 atoms and 1 coordinate set(s) were parsed in 0.00s.\n"
     ]
    },
    {
     "name": "stdout",
     "output_type": "stream",
     "text": [
      "[1298 1298 1298 1298]\n",
      "242.0\n"
     ]
    },
    {
     "name": "stderr",
     "output_type": "stream",
     "text": [
      "@> 4848 atoms and 1 coordinate set(s) were parsed in 0.05s.\n",
      "@> Checking AtomGroup 4cfu_PROT_dk + 4cfu_lig Selection 'resnum 1299': 1 chains are identified\n",
      "@> Checking AtomGroup 1fin_PROT_dk: 1 chains are identified\n",
      "@> Trying to match chains based on residue numbers and names:\n",
      "@>   Comparing Chain   from 4cfu_PROT_dk + 4cfu_lig Selection 'resnum 1299' (len=298) and Chain A from 1fin_PROT_dk (len=298):\n",
      "@> \tMatch: 298 residues match with 100% sequence identity and 100% overlap.\n",
      "@> Alignment is based on 34 atoms matching 'ca resnum 8 9 10 11 12 13 14 15 16 17 18 30 31 32 64 79 80 81 82 83 84 85 86 87 88 89 129 130 131 132 133 143 144 145'.\n",
      "@> Before alignment RMSD: 246.67\n",
      "@> After alignment  RMSD: 0.57\n",
      "@> 26 atoms and 1 coordinate set(s) were parsed in 0.00s.\n"
     ]
    },
    {
     "name": "stdout",
     "output_type": "stream",
     "text": [
      "[1299 1299 1299 1299 1299 1299 1299 1299 1299 1299]\n",
      "358.0\n"
     ]
    },
    {
     "name": "stderr",
     "output_type": "stream",
     "text": [
      "@> 4848 atoms and 1 coordinate set(s) were parsed in 0.06s.\n",
      "@> Checking AtomGroup 4cfv_PROT_dk + 4cfv_lig Selection 'resnum 1299': 1 chains are identified\n",
      "@> Checking AtomGroup 1fin_PROT_dk: 1 chains are identified\n",
      "@> Trying to match chains based on residue numbers and names:\n",
      "@>   Comparing Chain   from 4cfv_PROT_dk + 4cfv_lig Selection 'resnum 1299' (len=298) and Chain A from 1fin_PROT_dk (len=298):\n",
      "@> \tMatch: 298 residues match with 100% sequence identity and 100% overlap.\n",
      "@> Alignment is based on 34 atoms matching 'ca resnum 8 9 10 11 12 13 14 15 16 17 18 30 31 32 64 79 80 81 82 83 84 85 86 87 88 89 129 130 131 132 133 143 144 145'.\n",
      "@> Before alignment RMSD: 246.60\n",
      "@> After alignment  RMSD: 0.36\n",
      "@> 29 atoms and 1 coordinate set(s) were parsed in 0.00s.\n",
      "@> 4848 atoms and 1 coordinate set(s) were parsed in 0.05s.\n"
     ]
    },
    {
     "name": "stdout",
     "output_type": "stream",
     "text": [
      "[1299 1299 1299 1299 1299]\n",
      "330.0\n"
     ]
    },
    {
     "name": "stderr",
     "output_type": "stream",
     "text": [
      "@> Checking AtomGroup 4cfw_PROT_dk + 4cfw_lig Selection 'resnum 1299': 1 chains are identified\n",
      "@> Checking AtomGroup 1fin_PROT_dk: 1 chains are identified\n",
      "@> Trying to match chains based on residue numbers and names:\n",
      "@>   Comparing Chain   from 4cfw_PROT_dk + 4cfw_lig Selection 'resnum 1299' (len=298) and Chain A from 1fin_PROT_dk (len=298):\n",
      "@> \tMatch: 298 residues match with 100% sequence identity and 100% overlap.\n",
      "@> Alignment is based on 34 atoms matching 'ca resnum 8 9 10 11 12 13 14 15 16 17 18 30 31 32 64 79 80 81 82 83 84 85 86 87 88 89 129 130 131 132 133 143 144 145'.\n",
      "@> Before alignment RMSD: 246.49\n",
      "@> After alignment  RMSD: 0.49\n",
      "@> 28 atoms and 1 coordinate set(s) were parsed in 0.00s.\n"
     ]
    },
    {
     "name": "stdout",
     "output_type": "stream",
     "text": [
      "[1299 1299 1299 1299 1299 1299 1299 1299 1299]\n",
      "392.0\n"
     ]
    },
    {
     "name": "stderr",
     "output_type": "stream",
     "text": [
      "@> 4848 atoms and 1 coordinate set(s) were parsed in 0.05s.\n",
      "@> Checking AtomGroup 4cfx_PROT_dk + 4cfx_lig Selection 'resnum 1299': 1 chains are identified\n",
      "@> Checking AtomGroup 1fin_PROT_dk: 1 chains are identified\n",
      "@> Trying to match chains based on residue numbers and names:\n",
      "@>   Comparing Chain   from 4cfx_PROT_dk + 4cfx_lig Selection 'resnum 1299' (len=298) and Chain A from 1fin_PROT_dk (len=298):\n",
      "@> \tMatch: 298 residues match with 100% sequence identity and 100% overlap.\n",
      "@> Alignment is based on 34 atoms matching 'ca resnum 8 9 10 11 12 13 14 15 16 17 18 30 31 32 64 79 80 81 82 83 84 85 86 87 88 89 129 130 131 132 133 143 144 145'.\n",
      "@> Before alignment RMSD: 246.61\n",
      "@> After alignment  RMSD: 0.47\n",
      "@> 18 atoms and 1 coordinate set(s) were parsed in 0.00s.\n"
     ]
    },
    {
     "name": "stdout",
     "output_type": "stream",
     "text": [
      "[1299 1299 1299 1299 1299 1299 1299 1299 1299]\n",
      "380.0\n"
     ]
    },
    {
     "name": "stderr",
     "output_type": "stream",
     "text": [
      "@> 4848 atoms and 1 coordinate set(s) were parsed in 0.06s.\n",
      "@> Checking AtomGroup 4d1x_PROT_dk + 4d1x_lig Selection 'resnum 1299': 1 chains are identified\n",
      "@> Checking AtomGroup 1fin_PROT_dk: 1 chains are identified\n",
      "@> Trying to match chains based on residue numbers and names:\n",
      "@>   Comparing Chain   from 4d1x_PROT_dk + 4d1x_lig Selection 'resnum 1299' (len=298) and Chain A from 1fin_PROT_dk (len=298):\n",
      "@> \tMatch: 298 residues match with 100% sequence identity and 100% overlap.\n",
      "@> Alignment is based on 34 atoms matching 'ca resnum 8 9 10 11 12 13 14 15 16 17 18 30 31 32 64 79 80 81 82 83 84 85 86 87 88 89 129 130 131 132 133 143 144 145'.\n",
      "@> Before alignment RMSD: 247.88\n",
      "@> After alignment  RMSD: 1.30\n",
      "@> 56 atoms and 1 coordinate set(s) were parsed in 0.00s.\n"
     ]
    },
    {
     "name": "stdout",
     "output_type": "stream",
     "text": [
      "[1299 1299 1299 1299 1299 1299]\n",
      "272.0\n"
     ]
    },
    {
     "name": "stderr",
     "output_type": "stream",
     "text": [
      "@> 4848 atoms and 1 coordinate set(s) were parsed in 0.05s.\n",
      "@> Checking AtomGroup 4d1z_PROT_dk + 4d1z_lig Selection 'resnum 1296': 1 chains are identified\n",
      "@> Checking AtomGroup 1fin_PROT_dk: 1 chains are identified\n",
      "@> Trying to match chains based on residue numbers and names:\n",
      "@>   Comparing Chain   from 4d1z_PROT_dk + 4d1z_lig Selection 'resnum 1296' (len=298) and Chain A from 1fin_PROT_dk (len=298):\n",
      "@> \tMatch: 298 residues match with 100% sequence identity and 100% overlap.\n",
      "@> Alignment is based on 34 atoms matching 'ca resnum 8 9 10 11 12 13 14 15 16 17 18 30 31 32 64 79 80 81 82 83 84 85 86 87 88 89 129 130 131 132 133 143 144 145'.\n",
      "@> Before alignment RMSD: 246.32\n",
      "@> After alignment  RMSD: 4.56\n",
      "@> 4 atoms and 1 coordinate set(s) were parsed in 0.00s.\n",
      "@> 4848 atoms and 1 coordinate set(s) were parsed in 0.05s.\n"
     ]
    },
    {
     "name": "stdout",
     "output_type": "stream",
     "text": [
      "[1296 1296 1296 1296 1296 1296 1296 1296 1296 1296 1296 1296 1296 1296\n",
      " 1296 1296 1296]\n",
      "273.0\n",
      "[36]\n",
      "14.0\n"
     ]
    },
    {
     "name": "stderr",
     "output_type": "stream",
     "text": [
      "@> Checking AtomGroup 4ek3_PROT_dk + 4ek3_lig Selection 'resnum 36': 2 chains are identified\n",
      "@> Checking AtomGroup 1fin_PROT_dk: 1 chains are identified\n",
      "@> Trying to match chains based on residue numbers and names:\n",
      "@>   Comparing Chain   from 4ek3_PROT_dk + 4ek3_lig Selection 'resnum 36' (len=298) and Chain A from 1fin_PROT_dk (len=298):\n",
      "@> \tMatch: 298 residues match with 100% sequence identity and 100% overlap.\n",
      "@>   Comparing Chain A from 4ek3_PROT_dk + 4ek3_lig Selection 'resnum 36' (len=1) and Chain A from 1fin_PROT_dk (len=298):\n",
      "@> \tFailed to match chains (seqid=100%, overlap=0%).\n",
      "@> Alignment is based on 34 atoms matching 'ca resnum 8 9 10 11 12 13 14 15 16 17 18 30 31 32 64 79 80 81 82 83 84 85 86 87 88 89 129 130 131 132 133 143 144 145'.\n",
      "@> Before alignment RMSD: 247.65\n",
      "@> After alignment  RMSD: 1.17\n",
      "@> 24 atoms and 1 coordinate set(s) were parsed in 0.00s.\n",
      "@> 4848 atoms and 1 coordinate set(s) were parsed in 0.05s.\n",
      "@> Checking AtomGroup 4ek4_PROT_dk + 4ek4_lig Selection 'resnum 301': 1 chains are identified\n",
      "@> Checking AtomGroup 1fin_PROT_dk: 1 chains are identified\n",
      "@> Trying to match chains based on residue numbers and names:\n",
      "@>   Comparing Chain   from 4ek4_PROT_dk + 4ek4_lig Selection 'resnum 301' (len=298) and Chain A from 1fin_PROT_dk (len=298):\n",
      "@> \tMatch: 298 residues match with 100% sequence identity and 100% overlap.\n",
      "@> Alignment is based on 34 atoms matching 'ca resnum 8 9 10 11 12 13 14 15 16 17 18 30 31 32 64 79 80 81 82 83 84 85 86 87 88 89 129 130 131 132 133 143 144 145'.\n",
      "@> Before alignment RMSD: 247.69\n",
      "@> After alignment  RMSD: 1.19\n"
     ]
    },
    {
     "name": "stdout",
     "output_type": "stream",
     "text": [
      "La proteina 4ek3 NO TIENE LIGANDO (masa => 80.0).\n",
      "[301 301 301 301 301 301 301 302]\n",
      "190.0\n",
      "0.0\n"
     ]
    },
    {
     "name": "stderr",
     "output_type": "stream",
     "text": [
      "@> 22 atoms and 1 coordinate set(s) were parsed in 0.00s.\n",
      "@> 4848 atoms and 1 coordinate set(s) were parsed in 0.08s.\n",
      "@> Checking AtomGroup 4ek5_PROT_dk + 4ek5_lig Selection 'resnum 300': 1 chains are identified\n",
      "@> Checking AtomGroup 1fin_PROT_dk: 1 chains are identified\n",
      "@> Trying to match chains based on residue numbers and names:\n",
      "@>   Comparing Chain   from 4ek5_PROT_dk + 4ek5_lig Selection 'resnum 300' (len=298) and Chain A from 1fin_PROT_dk (len=298):\n",
      "@> \tMatch: 298 residues match with 100% sequence identity and 100% overlap.\n",
      "@> Alignment is based on 34 atoms matching 'ca resnum 8 9 10 11 12 13 14 15 16 17 18 30 31 32 64 79 80 81 82 83 84 85 86 87 88 89 129 130 131 132 133 143 144 145'.\n",
      "@> Before alignment RMSD: 247.77\n",
      "@> After alignment  RMSD: 1.20\n",
      "@> 26 atoms and 1 coordinate set(s) were parsed in 0.00s.\n"
     ]
    },
    {
     "name": "stdout",
     "output_type": "stream",
     "text": [
      "[300 300 300 300 300 300 300 300 300]\n",
      "256.0\n"
     ]
    },
    {
     "name": "stderr",
     "output_type": "stream",
     "text": [
      "@> 4848 atoms and 1 coordinate set(s) were parsed in 0.05s.\n",
      "@> Checking AtomGroup 4ek8_PROT_dk + 4ek8_lig Selection 'resnum 301': 1 chains are identified\n",
      "@> Checking AtomGroup 1fin_PROT_dk: 1 chains are identified\n",
      "@> Trying to match chains based on residue numbers and names:\n",
      "@>   Comparing Chain   from 4ek8_PROT_dk + 4ek8_lig Selection 'resnum 301' (len=298) and Chain A from 1fin_PROT_dk (len=298):\n",
      "@> \tMatch: 298 residues match with 100% sequence identity and 100% overlap.\n",
      "@> Alignment is based on 34 atoms matching 'ca resnum 8 9 10 11 12 13 14 15 16 17 18 30 31 32 64 79 80 81 82 83 84 85 86 87 88 89 129 130 131 132 133 143 144 145'.\n",
      "@> Before alignment RMSD: 247.90\n",
      "@> After alignment  RMSD: 1.45\n",
      "@> 28 atoms and 1 coordinate set(s) were parsed in 0.00s.\n"
     ]
    },
    {
     "name": "stdout",
     "output_type": "stream",
     "text": [
      "[301 301 301 301 301 301 301 301 301 301]\n",
      "314.0\n"
     ]
    },
    {
     "name": "stderr",
     "output_type": "stream",
     "text": [
      "@> 4848 atoms and 1 coordinate set(s) were parsed in 0.07s.\n",
      "@> Checking AtomGroup 4eoi_PROT_dk + 4eoi_lig Selection 'resnum 301': 1 chains are identified\n",
      "@> Checking AtomGroup 1fin_PROT_dk: 1 chains are identified\n",
      "@> Trying to match chains based on residue numbers and names:\n",
      "@>   Comparing Chain   from 4eoi_PROT_dk + 4eoi_lig Selection 'resnum 301' (len=298) and Chain A from 1fin_PROT_dk (len=298):\n",
      "@> \tMatch: 298 residues match with 100% sequence identity and 100% overlap.\n",
      "@> Alignment is based on 34 atoms matching 'ca resnum 8 9 10 11 12 13 14 15 16 17 18 30 31 32 64 79 80 81 82 83 84 85 86 87 88 89 129 130 131 132 133 143 144 145'.\n",
      "@> Before alignment RMSD: 247.11\n",
      "@> After alignment  RMSD: 1.50\n",
      "@> 32 atoms and 1 coordinate set(s) were parsed in 0.00s.\n"
     ]
    },
    {
     "name": "stdout",
     "output_type": "stream",
     "text": [
      "[301 301 301 301 301 301 301 301 301 301 301]\n",
      "338.0\n"
     ]
    },
    {
     "name": "stderr",
     "output_type": "stream",
     "text": [
      "@> 4848 atoms and 1 coordinate set(s) were parsed in 0.08s.\n",
      "@> Checking AtomGroup 4eoj_PROT_dk + 4eoj_lig Selection 'resnum 301': 1 chains are identified\n",
      "@> Checking AtomGroup 1fin_PROT_dk: 1 chains are identified\n",
      "@> Trying to match chains based on residue numbers and names:\n",
      "@>   Comparing Chain   from 4eoj_PROT_dk + 4eoj_lig Selection 'resnum 301' (len=298) and Chain A from 1fin_PROT_dk (len=298):\n",
      "@> \tMatch: 298 residues match with 100% sequence identity and 100% overlap.\n",
      "@> Alignment is based on 34 atoms matching 'ca resnum 8 9 10 11 12 13 14 15 16 17 18 30 31 32 64 79 80 81 82 83 84 85 86 87 88 89 129 130 131 132 133 143 144 145'.\n",
      "@> Before alignment RMSD: 246.89\n",
      "@> After alignment  RMSD: 0.90\n",
      "@> 28 atoms and 1 coordinate set(s) were parsed in 0.00s.\n"
     ]
    },
    {
     "name": "stdout",
     "output_type": "stream",
     "text": [
      "[301 301 301 301 301 301 301 301 301 301 301 301 301 302]\n",
      "398.0\n",
      "0.0\n"
     ]
    },
    {
     "name": "stderr",
     "output_type": "stream",
     "text": [
      "@> 4848 atoms and 1 coordinate set(s) were parsed in 0.08s.\n",
      "@> Checking AtomGroup 4eok_PROT_dk + 4eok_lig Selection 'resnum 301': 1 chains are identified\n",
      "@> Checking AtomGroup 1fin_PROT_dk: 1 chains are identified\n",
      "@> Trying to match chains based on residue numbers and names:\n",
      "@>   Comparing Chain   from 4eok_PROT_dk + 4eok_lig Selection 'resnum 301' (len=298) and Chain A from 1fin_PROT_dk (len=298):\n",
      "@> \tMatch: 298 residues match with 100% sequence identity and 100% overlap.\n",
      "@> Alignment is based on 34 atoms matching 'ca resnum 8 9 10 11 12 13 14 15 16 17 18 30 31 32 64 79 80 81 82 83 84 85 86 87 88 89 129 130 131 132 133 143 144 145'.\n",
      "@> Before alignment RMSD: 247.29\n",
      "@> After alignment  RMSD: 1.26\n",
      "@> 24 atoms and 1 coordinate set(s) were parsed in 0.00s.\n"
     ]
    },
    {
     "name": "stdout",
     "output_type": "stream",
     "text": [
      "[301 301 301 301 301 301 301 301 301]\n",
      "380.0\n"
     ]
    },
    {
     "name": "stderr",
     "output_type": "stream",
     "text": [
      "@> 4849 atoms and 1 coordinate set(s) were parsed in 0.05s.\n",
      "@> Checking AtomGroup 4eol_PROT_dk + 4eol_lig Selection 'resnum 301': 1 chains are identified\n",
      "@> Checking AtomGroup 1fin_PROT_dk: 1 chains are identified\n",
      "@> Trying to match chains based on residue numbers and names:\n",
      "@>   Comparing Chain   from 4eol_PROT_dk + 4eol_lig Selection 'resnum 301' (len=298) and Chain A from 1fin_PROT_dk (len=298):\n",
      "@> \tMatch: 298 residues match with 100% sequence identity and 100% overlap.\n",
      "@> Alignment is based on 34 atoms matching 'ca resnum 8 9 10 11 12 13 14 15 16 17 18 30 31 32 64 79 80 81 82 83 84 85 86 87 88 89 129 130 131 132 133 143 144 145'.\n",
      "@> Before alignment RMSD: 247.21\n",
      "@> After alignment  RMSD: 1.50\n",
      "@> 36 atoms and 1 coordinate set(s) were parsed in 0.00s.\n"
     ]
    },
    {
     "name": "stdout",
     "output_type": "stream",
     "text": [
      "[301 301 301 301 301 301 301]\n",
      "338.0\n"
     ]
    },
    {
     "name": "stderr",
     "output_type": "stream",
     "text": [
      "@> 4848 atoms and 1 coordinate set(s) were parsed in 0.07s.\n",
      "@> Checking AtomGroup 4eom_PROT_dk + 4eom_lig Selection 'resnum 301': 1 chains are identified\n",
      "@> Checking AtomGroup 1fin_PROT_dk: 1 chains are identified\n",
      "@> Trying to match chains based on residue numbers and names:\n",
      "@>   Comparing Chain   from 4eom_PROT_dk + 4eom_lig Selection 'resnum 301' (len=298) and Chain A from 1fin_PROT_dk (len=298):\n",
      "@> \tMatch: 298 residues match with 100% sequence identity and 100% overlap.\n",
      "@> Alignment is based on 34 atoms matching 'ca resnum 8 9 10 11 12 13 14 15 16 17 18 30 31 32 64 79 80 81 82 83 84 85 86 87 88 89 129 130 131 132 133 143 144 145'.\n",
      "@> Before alignment RMSD: 246.64\n",
      "@> After alignment  RMSD: 0.74\n",
      "@> 24 atoms and 1 coordinate set(s) were parsed in 0.00s.\n"
     ]
    },
    {
     "name": "stdout",
     "output_type": "stream",
     "text": [
      "[301 301 301 301 301 301 301 301 301 301 301 301 301 301 301 301 301 301\n",
      " 302]\n",
      "402.0\n",
      "0.0\n"
     ]
    },
    {
     "name": "stderr",
     "output_type": "stream",
     "text": [
      "@> 4848 atoms and 1 coordinate set(s) were parsed in 0.06s.\n",
      "@> Checking AtomGroup 4eon_PROT_dk + 4eon_lig Selection 'resnum 301': 1 chains are identified\n",
      "@> Checking AtomGroup 1fin_PROT_dk: 1 chains are identified\n",
      "@> Trying to match chains based on residue numbers and names:\n",
      "@>   Comparing Chain   from 4eon_PROT_dk + 4eon_lig Selection 'resnum 301' (len=298) and Chain A from 1fin_PROT_dk (len=298):\n",
      "@> \tMatch: 298 residues match with 100% sequence identity and 100% overlap.\n",
      "@> Alignment is based on 34 atoms matching 'ca resnum 8 9 10 11 12 13 14 15 16 17 18 30 31 32 64 79 80 81 82 83 84 85 86 87 88 89 129 130 131 132 133 143 144 145'.\n",
      "@> Before alignment RMSD: 246.89\n",
      "@> After alignment  RMSD: 1.50\n",
      "@> 32 atoms and 1 coordinate set(s) were parsed in 0.00s.\n"
     ]
    },
    {
     "name": "stdout",
     "output_type": "stream",
     "text": [
      "[301 301 301 301 301 301 301 301 301]\n",
      "338.0\n"
     ]
    },
    {
     "name": "stderr",
     "output_type": "stream",
     "text": [
      "@> 4848 atoms and 1 coordinate set(s) were parsed in 0.09s.\n",
      "@> Checking AtomGroup 4eoo_PROT_dk + 4eoo_lig Selection 'resnum 302': 1 chains are identified\n",
      "@> Checking AtomGroup 1fin_PROT_dk: 1 chains are identified\n",
      "@> Trying to match chains based on residue numbers and names:\n",
      "@>   Comparing Chain   from 4eoo_PROT_dk + 4eoo_lig Selection 'resnum 302' (len=298) and Chain A from 1fin_PROT_dk (len=298):\n",
      "@> \tMatch: 298 residues match with 100% sequence identity and 100% overlap.\n",
      "@> Alignment is based on 34 atoms matching 'ca resnum 8 9 10 11 12 13 14 15 16 17 18 30 31 32 64 79 80 81 82 83 84 85 86 87 88 89 129 130 131 132 133 143 144 145'.\n",
      "@> Before alignment RMSD: 246.68\n",
      "@> After alignment  RMSD: 0.55\n"
     ]
    },
    {
     "name": "stdout",
     "output_type": "stream",
     "text": [
      "[301 302 302 302 302 302 302 302 302 302 302 302 302 302 302 302]\n",
      "0.0\n",
      "398.0\n"
     ]
    },
    {
     "name": "stderr",
     "output_type": "stream",
     "text": [
      "@> 24 atoms and 1 coordinate set(s) were parsed in 0.00s.\n",
      "@> 4849 atoms and 1 coordinate set(s) were parsed in 0.09s.\n",
      "@> Checking AtomGroup 4eop_PROT_dk + 4eop_lig Selection 'resnum 301': 1 chains are identified\n",
      "@> Checking AtomGroup 1fin_PROT_dk: 1 chains are identified\n",
      "@> Trying to match chains based on residue numbers and names:\n",
      "@>   Comparing Chain   from 4eop_PROT_dk + 4eop_lig Selection 'resnum 301' (len=298) and Chain A from 1fin_PROT_dk (len=298):\n",
      "@> \tMatch: 298 residues match with 100% sequence identity and 100% overlap.\n",
      "@> Alignment is based on 34 atoms matching 'ca resnum 8 9 10 11 12 13 14 15 16 17 18 30 31 32 64 79 80 81 82 83 84 85 86 87 88 89 129 130 131 132 133 143 144 145'.\n",
      "@> Before alignment RMSD: 247.11\n",
      "@> After alignment  RMSD: 1.52\n"
     ]
    },
    {
     "name": "stdout",
     "output_type": "stream",
     "text": [
      "[301 301 301 301 301 301 301 301 301 301]\n",
      "338.0\n"
     ]
    },
    {
     "name": "stderr",
     "output_type": "stream",
     "text": [
      "@> 32 atoms and 1 coordinate set(s) were parsed in 0.00s.\n",
      "@> 4848 atoms and 1 coordinate set(s) were parsed in 0.09s.\n",
      "@> Checking AtomGroup 4eoq_PROT_dk + 4eoq_lig Selection 'resnum 301': 1 chains are identified\n",
      "@> Checking AtomGroup 1fin_PROT_dk: 1 chains are identified\n",
      "@> Trying to match chains based on residue numbers and names:\n",
      "@>   Comparing Chain   from 4eoq_PROT_dk + 4eoq_lig Selection 'resnum 301' (len=298) and Chain A from 1fin_PROT_dk (len=298):\n",
      "@> \tMatch: 298 residues match with 100% sequence identity and 100% overlap.\n",
      "@> Alignment is based on 34 atoms matching 'ca resnum 8 9 10 11 12 13 14 15 16 17 18 30 31 32 64 79 80 81 82 83 84 85 86 87 88 89 129 130 131 132 133 143 144 145'.\n",
      "@> Before alignment RMSD: 246.58\n",
      "@> After alignment  RMSD: 0.57\n",
      "@> 28 atoms and 1 coordinate set(s) were parsed in 0.00s.\n"
     ]
    },
    {
     "name": "stdout",
     "output_type": "stream",
     "text": [
      "[301 301 301 301 301 301 301 301 301 301 301 302]\n",
      "398.0\n",
      "0.0\n"
     ]
    },
    {
     "name": "stderr",
     "output_type": "stream",
     "text": [
      "@> 4848 atoms and 1 coordinate set(s) were parsed in 0.09s.\n",
      "@> Checking AtomGroup 4eor_PROT_dk + 4eor_lig Selection 'resnum 301': 1 chains are identified\n",
      "@> Checking AtomGroup 1fin_PROT_dk: 1 chains are identified\n",
      "@> Trying to match chains based on residue numbers and names:\n",
      "@>   Comparing Chain   from 4eor_PROT_dk + 4eor_lig Selection 'resnum 301' (len=298) and Chain A from 1fin_PROT_dk (len=298):\n",
      "@> \tMatch: 298 residues match with 100% sequence identity and 100% overlap.\n",
      "@> Alignment is based on 34 atoms matching 'ca resnum 8 9 10 11 12 13 14 15 16 17 18 30 31 32 64 79 80 81 82 83 84 85 86 87 88 89 129 130 131 132 133 143 144 145'.\n",
      "@> Before alignment RMSD: 247.03\n",
      "@> After alignment  RMSD: 1.23\n",
      "@> 24 atoms and 1 coordinate set(s) were parsed in 0.00s.\n"
     ]
    },
    {
     "name": "stdout",
     "output_type": "stream",
     "text": [
      "[301 301 301 301 301 301 301 301 301 301 301]\n",
      "380.0\n"
     ]
    },
    {
     "name": "stderr",
     "output_type": "stream",
     "text": [
      "@> 4849 atoms and 1 coordinate set(s) were parsed in 0.09s.\n",
      "@> Checking AtomGroup 4eos_PROT_dk + 4eos_lig Selection 'resnum 301': 1 chains are identified\n",
      "@> Checking AtomGroup 1fin_PROT_dk: 1 chains are identified\n",
      "@> Trying to match chains based on residue numbers and names:\n",
      "@>   Comparing Chain   from 4eos_PROT_dk + 4eos_lig Selection 'resnum 301' (len=298) and Chain A from 1fin_PROT_dk (len=298):\n",
      "@> \tMatch: 298 residues match with 100% sequence identity and 100% overlap.\n",
      "@> Alignment is based on 34 atoms matching 'ca resnum 8 9 10 11 12 13 14 15 16 17 18 30 31 32 64 79 80 81 82 83 84 85 86 87 88 89 129 130 131 132 133 143 144 145'.\n",
      "@> Before alignment RMSD: 247.05\n",
      "@> After alignment  RMSD: 1.50\n",
      "@> 108 atoms and 1 coordinate set(s) were parsed in 0.00s.\n"
     ]
    },
    {
     "name": "stdout",
     "output_type": "stream",
     "text": [
      "[301 301 301 301 301 301 301 301]\n",
      "338.0\n"
     ]
    },
    {
     "name": "stderr",
     "output_type": "stream",
     "text": [
      "@> 4848 atoms and 1 coordinate set(s) were parsed in 0.08s.\n",
      "@> Checking AtomGroup 4erw_PROT_dk + 4erw_lig Selection 'resnum 301': 1 chains are identified\n",
      "@> Checking AtomGroup 1fin_PROT_dk: 1 chains are identified\n",
      "@> Trying to match chains based on residue numbers and names:\n",
      "@>   Comparing Chain   from 4erw_PROT_dk + 4erw_lig Selection 'resnum 301' (len=298) and Chain A from 1fin_PROT_dk (len=298):\n",
      "@> \tMatch: 298 residues match with 100% sequence identity and 100% overlap.\n",
      "@> Alignment is based on 34 atoms matching 'ca resnum 8 9 10 11 12 13 14 15 16 17 18 30 31 32 64 79 80 81 82 83 84 85 86 87 88 89 129 130 131 132 133 143 144 145'.\n",
      "@> Before alignment RMSD: 247.73\n",
      "@> After alignment  RMSD: 1.06\n",
      "@> 24 atoms and 1 coordinate set(s) were parsed in 0.00s.\n"
     ]
    },
    {
     "name": "stdout",
     "output_type": "stream",
     "text": [
      "[301 301 301 301 301 301 301 301 301 301 301 301 301 301 301 304 307 311\n",
      " 311 311 314 314 314]\n",
      "440.0\n",
      "56.0\n",
      "56.0\n",
      "56.0\n",
      "56.0\n"
     ]
    },
    {
     "name": "stderr",
     "output_type": "stream",
     "text": [
      "@> 4848 atoms and 1 coordinate set(s) were parsed in 0.10s.\n",
      "@> Checking AtomGroup 4ez3_PROT_dk + 4ez3_lig Selection 'resnum 301': 1 chains are identified\n",
      "@> Checking AtomGroup 1fin_PROT_dk: 1 chains are identified\n",
      "@> Trying to match chains based on residue numbers and names:\n",
      "@>   Comparing Chain   from 4ez3_PROT_dk + 4ez3_lig Selection 'resnum 301' (len=298) and Chain A from 1fin_PROT_dk (len=298):\n",
      "@> \tMatch: 298 residues match with 100% sequence identity and 100% overlap.\n",
      "@> Alignment is based on 34 atoms matching 'ca resnum 8 9 10 11 12 13 14 15 16 17 18 30 31 32 64 79 80 81 82 83 84 85 86 87 88 89 129 130 131 132 133 143 144 145'.\n",
      "@> Before alignment RMSD: 247.95\n",
      "@> After alignment  RMSD: 1.44\n",
      "@> 93 atoms and 1 coordinate set(s) were parsed in 0.00s.\n"
     ]
    },
    {
     "name": "stdout",
     "output_type": "stream",
     "text": [
      "[301 301 301 301 301 301 301 301 301 301 301 301 301 302 302 302]\n",
      "284.0\n",
      "56.0\n"
     ]
    },
    {
     "name": "stderr",
     "output_type": "stream",
     "text": [
      "@> 4848 atoms and 1 coordinate set(s) were parsed in 0.08s.\n",
      "@> Checking AtomGroup 4ez7_PROT_dk + 4ez7_lig Selection 'resnum 301': 1 chains are identified\n",
      "@> Checking AtomGroup 1fin_PROT_dk: 1 chains are identified\n",
      "@> Trying to match chains based on residue numbers and names:\n",
      "@>   Comparing Chain   from 4ez7_PROT_dk + 4ez7_lig Selection 'resnum 301' (len=298) and Chain A from 1fin_PROT_dk (len=298):\n",
      "@> \tMatch: 298 residues match with 100% sequence identity and 100% overlap.\n",
      "@> Alignment is based on 34 atoms matching 'ca resnum 8 9 10 11 12 13 14 15 16 17 18 30 31 32 64 79 80 81 82 83 84 85 86 87 88 89 129 130 131 132 133 143 144 145'.\n",
      "@> Before alignment RMSD: 247.54\n",
      "@> After alignment  RMSD: 1.39\n",
      "@> 23 atoms and 1 coordinate set(s) were parsed in 0.00s.\n"
     ]
    },
    {
     "name": "stdout",
     "output_type": "stream",
     "text": [
      "[301 301 301 301 301 301 301 301 301 301 301 301 301 301 301 301 301 302\n",
      " 302 302 302 302 302 302 306 307 307 307 307]\n",
      "440.0\n",
      "286.0\n",
      "56.0\n",
      "56.0\n"
     ]
    },
    {
     "name": "stderr",
     "output_type": "stream",
     "text": [
      "@> 4848 atoms and 1 coordinate set(s) were parsed in 0.06s.\n",
      "@> Checking AtomGroup 4fkg_PROT_dk + 4fkg_lig Selection 'resnum 300': 1 chains are identified\n",
      "@> Checking AtomGroup 1fin_PROT_dk: 1 chains are identified\n",
      "@> Trying to match chains based on residue numbers and names:\n",
      "@>   Comparing Chain   from 4fkg_PROT_dk + 4fkg_lig Selection 'resnum 300' (len=298) and Chain A from 1fin_PROT_dk (len=298):\n",
      "@> \tMatch: 298 residues match with 100% sequence identity and 100% overlap.\n",
      "@> Alignment is based on 34 atoms matching 'ca resnum 8 9 10 11 12 13 14 15 16 17 18 30 31 32 64 79 80 81 82 83 84 85 86 87 88 89 129 130 131 132 133 143 144 145'.\n",
      "@> Before alignment RMSD: 247.78\n",
      "@> After alignment  RMSD: 1.17\n"
     ]
    },
    {
     "name": "stdout",
     "output_type": "stream",
     "text": [
      "[300 300 300 300 300 300 300 300]\n",
      "258.0\n"
     ]
    },
    {
     "name": "stderr",
     "output_type": "stream",
     "text": [
      "@> 26 atoms and 1 coordinate set(s) were parsed in 0.00s.\n",
      "@> 4848 atoms and 1 coordinate set(s) were parsed in 0.09s.\n",
      "@> Checking AtomGroup 4fki_PROT_dk + 4fki_lig Selection 'resnum 301': 1 chains are identified\n",
      "@> Checking AtomGroup 1fin_PROT_dk: 1 chains are identified\n",
      "@> Trying to match chains based on residue numbers and names:\n",
      "@>   Comparing Chain   from 4fki_PROT_dk + 4fki_lig Selection 'resnum 301' (len=298) and Chain A from 1fin_PROT_dk (len=298):\n",
      "@> \tMatch: 298 residues match with 100% sequence identity and 100% overlap.\n",
      "@> Alignment is based on 34 atoms matching 'ca resnum 8 9 10 11 12 13 14 15 16 17 18 30 31 32 64 79 80 81 82 83 84 85 86 87 88 89 129 130 131 132 133 143 144 145'.\n",
      "@> Before alignment RMSD: 247.74\n",
      "@> After alignment  RMSD: 1.17\n"
     ]
    },
    {
     "name": "stdout",
     "output_type": "stream",
     "text": [
      "[301 301 301 301 301 301 301 301 301 301 301 301]\n",
      "254.0\n"
     ]
    },
    {
     "name": "stderr",
     "output_type": "stream",
     "text": [
      "@> 32 atoms and 1 coordinate set(s) were parsed in 0.00s.\n",
      "@> 4848 atoms and 1 coordinate set(s) were parsed in 0.09s.\n",
      "@> Checking AtomGroup 4fkj_PROT_dk + 4fkj_lig Selection 'resnum 301': 1 chains are identified\n",
      "@> Checking AtomGroup 1fin_PROT_dk: 1 chains are identified\n",
      "@> Trying to match chains based on residue numbers and names:\n",
      "@>   Comparing Chain   from 4fkj_PROT_dk + 4fkj_lig Selection 'resnum 301' (len=298) and Chain A from 1fin_PROT_dk (len=298):\n",
      "@> \tMatch: 298 residues match with 100% sequence identity and 100% overlap.\n",
      "@> Alignment is based on 34 atoms matching 'ca resnum 8 9 10 11 12 13 14 15 16 17 18 30 31 32 64 79 80 81 82 83 84 85 86 87 88 89 129 130 131 132 133 143 144 145'.\n",
      "@> Before alignment RMSD: 247.71\n",
      "@> After alignment  RMSD: 1.15\n",
      "@> 18 atoms and 1 coordinate set(s) were parsed in 0.00s.\n"
     ]
    },
    {
     "name": "stdout",
     "output_type": "stream",
     "text": [
      "[301 301 301 301 301 301 301 301 301]\n",
      "328.0\n"
     ]
    },
    {
     "name": "stderr",
     "output_type": "stream",
     "text": [
      "@> 4848 atoms and 1 coordinate set(s) were parsed in 0.09s.\n",
      "@> Checking AtomGroup 4fkl_PROT_dk + 4fkl_lig Selection 'resnum 300': 1 chains are identified\n",
      "@> Checking AtomGroup 1fin_PROT_dk: 1 chains are identified\n",
      "@> Trying to match chains based on residue numbers and names:\n",
      "@>   Comparing Chain   from 4fkl_PROT_dk + 4fkl_lig Selection 'resnum 300' (len=298) and Chain A from 1fin_PROT_dk (len=298):\n",
      "@> \tMatch: 298 residues match with 100% sequence identity and 100% overlap.\n",
      "@> Alignment is based on 34 atoms matching 'ca resnum 8 9 10 11 12 13 14 15 16 17 18 30 31 32 64 79 80 81 82 83 84 85 86 87 88 89 129 130 131 132 133 143 144 145'.\n",
      "@> Before alignment RMSD: 247.71\n",
      "@> After alignment  RMSD: 1.16\n"
     ]
    },
    {
     "name": "stdout",
     "output_type": "stream",
     "text": [
      "[ 36 300 300 300 300]\n",
      "14.0\n",
      "196.0\n"
     ]
    },
    {
     "name": "stderr",
     "output_type": "stream",
     "text": [
      "@> 31 atoms and 1 coordinate set(s) were parsed in 0.00s.\n",
      "@> 4847 atoms and 1 coordinate set(s) were parsed in 0.09s.\n",
      "@> Checking AtomGroup 4fko_PROT_dk + 4fko_lig Selection 'resnum 301': 1 chains are identified\n",
      "@> Checking AtomGroup 1fin_PROT_dk: 1 chains are identified\n",
      "@> Trying to match chains based on residue numbers and names:\n",
      "@>   Comparing Chain   from 4fko_PROT_dk + 4fko_lig Selection 'resnum 301' (len=297) and Chain A from 1fin_PROT_dk (len=298):\n",
      "@> \tMatch: 297 residues match with 100% sequence identity and 100% overlap.\n",
      "@> Alignment is based on 34 atoms matching 'ca resnum 8 9 10 11 12 13 14 15 16 17 18 30 31 32 64 79 80 81 82 83 84 85 86 87 88 89 129 130 131 132 133 143 144 145'.\n",
      "@> Before alignment RMSD: 248.16\n",
      "@> After alignment  RMSD: 1.41\n",
      "@> 31 atoms and 1 coordinate set(s) were parsed in 0.00s.\n"
     ]
    },
    {
     "name": "stdout",
     "output_type": "stream",
     "text": [
      "[301 301 301 301 301 301 301 301]\n",
      "306.0\n"
     ]
    },
    {
     "name": "stderr",
     "output_type": "stream",
     "text": [
      "@> 4848 atoms and 1 coordinate set(s) were parsed in 0.08s.\n",
      "@> Checking AtomGroup 4fkp_PROT_dk + 4fkp_lig Selection 'resnum 301': 1 chains are identified\n",
      "@> Checking AtomGroup 1fin_PROT_dk: 1 chains are identified\n",
      "@> Trying to match chains based on residue numbers and names:\n",
      "@>   Comparing Chain   from 4fkp_PROT_dk + 4fkp_lig Selection 'resnum 301' (len=298) and Chain A from 1fin_PROT_dk (len=298):\n",
      "@> \tMatch: 298 residues match with 100% sequence identity and 100% overlap.\n",
      "@> Alignment is based on 34 atoms matching 'ca resnum 8 9 10 11 12 13 14 15 16 17 18 30 31 32 64 79 80 81 82 83 84 85 86 87 88 89 129 130 131 132 133 143 144 145'.\n",
      "@> Before alignment RMSD: 247.84\n",
      "@> After alignment  RMSD: 1.39\n",
      "@> 34 atoms and 1 coordinate set(s) were parsed in 0.00s.\n"
     ]
    },
    {
     "name": "stdout",
     "output_type": "stream",
     "text": [
      "[301 301 301 301 301 301 301 301 301]\n",
      "342.0\n"
     ]
    },
    {
     "name": "stderr",
     "output_type": "stream",
     "text": [
      "@> 4848 atoms and 1 coordinate set(s) were parsed in 0.11s.\n",
      "@> Checking AtomGroup 4fkq_PROT_dk + 4fkq_lig Selection 'resnum 301': 1 chains are identified\n",
      "@> Checking AtomGroup 1fin_PROT_dk: 1 chains are identified\n",
      "@> Trying to match chains based on residue numbers and names:\n",
      "@>   Comparing Chain   from 4fkq_PROT_dk + 4fkq_lig Selection 'resnum 301' (len=298) and Chain A from 1fin_PROT_dk (len=298):\n",
      "@> \tMatch: 298 residues match with 100% sequence identity and 100% overlap.\n",
      "@> Alignment is based on 34 atoms matching 'ca resnum 8 9 10 11 12 13 14 15 16 17 18 30 31 32 64 79 80 81 82 83 84 85 86 87 88 89 129 130 131 132 133 143 144 145'.\n",
      "@> Before alignment RMSD: 247.92\n",
      "@> After alignment  RMSD: 1.44\n",
      "@> 34 atoms and 1 coordinate set(s) were parsed in 0.00s.\n"
     ]
    },
    {
     "name": "stdout",
     "output_type": "stream",
     "text": [
      "[301 301 301 301 301 301 301 301 301 301 301 301 301]\n",
      "346.0\n"
     ]
    },
    {
     "name": "stderr",
     "output_type": "stream",
     "text": [
      "@> 4848 atoms and 1 coordinate set(s) were parsed in 0.10s.\n",
      "@> Checking AtomGroup 4fkr_PROT_dk + 4fkr_lig Selection 'resnum 301': 1 chains are identified\n",
      "@> Checking AtomGroup 1fin_PROT_dk: 1 chains are identified\n",
      "@> Trying to match chains based on residue numbers and names:\n",
      "@>   Comparing Chain   from 4fkr_PROT_dk + 4fkr_lig Selection 'resnum 301' (len=298) and Chain A from 1fin_PROT_dk (len=298):\n",
      "@> \tMatch: 298 residues match with 100% sequence identity and 100% overlap.\n",
      "@> Alignment is based on 34 atoms matching 'ca resnum 8 9 10 11 12 13 14 15 16 17 18 30 31 32 64 79 80 81 82 83 84 85 86 87 88 89 129 130 131 132 133 143 144 145'.\n",
      "@> Before alignment RMSD: 247.87\n",
      "@> After alignment  RMSD: 1.28\n"
     ]
    },
    {
     "name": "stdout",
     "output_type": "stream",
     "text": [
      "[301 301 301 301 301 301 301 301 301 301 301]\n",
      "370.0\n"
     ]
    },
    {
     "name": "stderr",
     "output_type": "stream",
     "text": [
      "@> 45 atoms and 1 coordinate set(s) were parsed in 0.00s.\n",
      "@> 4848 atoms and 1 coordinate set(s) were parsed in 0.08s.\n",
      "@> Checking AtomGroup 4fks_PROT_dk + 4fks_lig Selection 'resnum 301': 1 chains are identified\n",
      "@> Checking AtomGroup 1fin_PROT_dk: 1 chains are identified\n",
      "@> Trying to match chains based on residue numbers and names:\n",
      "@>   Comparing Chain   from 4fks_PROT_dk + 4fks_lig Selection 'resnum 301' (len=298) and Chain A from 1fin_PROT_dk (len=298):\n",
      "@> \tMatch: 298 residues match with 100% sequence identity and 100% overlap.\n",
      "@> Alignment is based on 34 atoms matching 'ca resnum 8 9 10 11 12 13 14 15 16 17 18 30 31 32 64 79 80 81 82 83 84 85 86 87 88 89 129 130 131 132 133 143 144 145'.\n",
      "@> Before alignment RMSD: 247.89\n",
      "@> After alignment  RMSD: 1.40\n"
     ]
    },
    {
     "name": "stdout",
     "output_type": "stream",
     "text": [
      "[301 301 301 301 301 301 301 301 301 301 301 301 301 301 301 301 301 301\n",
      " 301]\n",
      "414.0\n"
     ]
    },
    {
     "name": "stderr",
     "output_type": "stream",
     "text": [
      "@> 52 atoms and 1 coordinate set(s) were parsed in 0.00s.\n",
      "@> 4848 atoms and 1 coordinate set(s) were parsed in 0.06s.\n",
      "@> Checking AtomGroup 4fkt_PROT_dk + 4fkt_lig Selection 'resnum 301': 1 chains are identified\n",
      "@> Checking AtomGroup 1fin_PROT_dk: 1 chains are identified\n",
      "@> Trying to match chains based on residue numbers and names:\n",
      "@>   Comparing Chain   from 4fkt_PROT_dk + 4fkt_lig Selection 'resnum 301' (len=298) and Chain A from 1fin_PROT_dk (len=298):\n",
      "@> \tMatch: 298 residues match with 100% sequence identity and 100% overlap.\n",
      "@> Alignment is based on 34 atoms matching 'ca resnum 8 9 10 11 12 13 14 15 16 17 18 30 31 32 64 79 80 81 82 83 84 85 86 87 88 89 129 130 131 132 133 143 144 145'.\n",
      "@> Before alignment RMSD: 247.81\n",
      "@> After alignment  RMSD: 1.24\n"
     ]
    },
    {
     "name": "stdout",
     "output_type": "stream",
     "text": [
      "[301 301 301 301 301 301 301 301 301 301 301 301 301 301 301 301 301 301\n",
      " 301 301 301 301]\n",
      "386.0\n"
     ]
    },
    {
     "name": "stderr",
     "output_type": "stream",
     "text": [
      "@> 82 atoms and 1 coordinate set(s) were parsed in 0.00s.\n",
      "@> 4848 atoms and 1 coordinate set(s) were parsed in 0.06s.\n",
      "@> Checking AtomGroup 4fku_PROT_dk + 4fku_lig Selection 'resnum 303': 1 chains are identified\n",
      "@> Checking AtomGroup 1fin_PROT_dk: 1 chains are identified\n",
      "@> Trying to match chains based on residue numbers and names:\n",
      "@>   Comparing Chain   from 4fku_PROT_dk + 4fku_lig Selection 'resnum 303' (len=298) and Chain A from 1fin_PROT_dk (len=298):\n",
      "@> \tMatch: 298 residues match with 100% sequence identity and 100% overlap.\n",
      "@> Alignment is based on 34 atoms matching 'ca resnum 8 9 10 11 12 13 14 15 16 17 18 30 31 32 64 79 80 81 82 83 84 85 86 87 88 89 129 130 131 132 133 143 144 145'.\n",
      "@> Before alignment RMSD: 247.96\n",
      "@> After alignment  RMSD: 1.24\n"
     ]
    },
    {
     "name": "stdout",
     "output_type": "stream",
     "text": [
      "[303 303 303 303 303 303 303 303 303 303 303 303 303 303 303 303 303 303\n",
      " 303]\n",
      "360.0\n"
     ]
    },
    {
     "name": "stderr",
     "output_type": "stream",
     "text": [
      "@> 40 atoms and 1 coordinate set(s) were parsed in 0.00s.\n",
      "@> 4848 atoms and 1 coordinate set(s) were parsed in 0.09s.\n",
      "@> Checking AtomGroup 4fkv_PROT_dk + 4fkv_lig Selection 'resnum 301': 1 chains are identified\n",
      "@> Checking AtomGroup 1fin_PROT_dk: 1 chains are identified\n",
      "@> Trying to match chains based on residue numbers and names:\n",
      "@>   Comparing Chain   from 4fkv_PROT_dk + 4fkv_lig Selection 'resnum 301' (len=298) and Chain A from 1fin_PROT_dk (len=298):\n",
      "@> \tMatch: 298 residues match with 100% sequence identity and 100% overlap.\n",
      "@> Alignment is based on 34 atoms matching 'ca resnum 8 9 10 11 12 13 14 15 16 17 18 30 31 32 64 79 80 81 82 83 84 85 86 87 88 89 129 130 131 132 133 143 144 145'.\n",
      "@> Before alignment RMSD: 247.73\n",
      "@> After alignment  RMSD: 1.06\n",
      "@> 37 atoms and 1 coordinate set(s) were parsed in 0.00s.\n"
     ]
    },
    {
     "name": "stdout",
     "output_type": "stream",
     "text": [
      "[301 301 301 301 301 301 301 301 301 301 301]\n",
      "434.0\n"
     ]
    },
    {
     "name": "stderr",
     "output_type": "stream",
     "text": [
      "@> 4849 atoms and 1 coordinate set(s) were parsed in 0.08s.\n",
      "@> Checking AtomGroup 4fkw_PROT_dk + 4fkw_lig Selection 'resnum 301': 1 chains are identified\n",
      "@> Checking AtomGroup 1fin_PROT_dk: 1 chains are identified\n",
      "@> Trying to match chains based on residue numbers and names:\n",
      "@>   Comparing Chain   from 4fkw_PROT_dk + 4fkw_lig Selection 'resnum 301' (len=298) and Chain A from 1fin_PROT_dk (len=298):\n",
      "@> \tMatch: 298 residues match with 100% sequence identity and 100% overlap.\n",
      "@> Alignment is based on 34 atoms matching 'ca resnum 8 9 10 11 12 13 14 15 16 17 18 30 31 32 64 79 80 81 82 83 84 85 86 87 88 89 129 130 131 132 133 143 144 145'.\n",
      "@> Before alignment RMSD: 247.79\n",
      "@> After alignment  RMSD: 1.20\n"
     ]
    },
    {
     "name": "stdout",
     "output_type": "stream",
     "text": [
      "[301 301 301 301 301 301 301 301 301 301 301 301]\n",
      "396.0\n"
     ]
    },
    {
     "name": "stderr",
     "output_type": "stream",
     "text": [
      "@> 45 atoms and 1 coordinate set(s) were parsed in 0.00s.\n",
      "@> 4847 atoms and 1 coordinate set(s) were parsed in 0.09s.\n",
      "@> Checking AtomGroup 4fx3_PROT_dk + 4fx3_lig Selection 'resnum 301': 1 chains are identified\n",
      "@> Checking AtomGroup 1fin_PROT_dk: 1 chains are identified\n",
      "@> Trying to match chains based on residue numbers and names:\n",
      "@>   Comparing Chain   from 4fx3_PROT_dk + 4fx3_lig Selection 'resnum 301' (len=297) and Chain A from 1fin_PROT_dk (len=298):\n",
      "@> \tMatch: 297 residues match with 100% sequence identity and 100% overlap.\n",
      "@> Alignment is based on 34 atoms matching 'ca resnum 8 9 10 11 12 13 14 15 16 17 18 30 31 32 64 79 80 81 82 83 84 85 86 87 88 89 129 130 131 132 133 143 144 145'.\n",
      "@> Before alignment RMSD: 247.03\n",
      "@> After alignment  RMSD: 0.83\n"
     ]
    },
    {
     "name": "stdout",
     "output_type": "stream",
     "text": [
      "[301 301 301 301 301 301 301 301 301 301 301 301 301 301 301 301 301 301\n",
      " 301 301 301 301]\n",
      "360.0\n"
     ]
    },
    {
     "name": "stderr",
     "output_type": "stream",
     "text": [
      "@> 44 atoms and 1 coordinate set(s) were parsed in 0.00s.\n",
      "@> 4848 atoms and 1 coordinate set(s) were parsed in 0.09s.\n",
      "@> Checking AtomGroup 4gcj_PROT_dk + 4gcj_lig Selection 'resnum 305': 1 chains are identified\n",
      "@> Checking AtomGroup 1fin_PROT_dk: 1 chains are identified\n",
      "@> Trying to match chains based on residue numbers and names:\n",
      "@>   Comparing Chain   from 4gcj_PROT_dk + 4gcj_lig Selection 'resnum 305' (len=298) and Chain A from 1fin_PROT_dk (len=298):\n",
      "@> \tMatch: 298 residues match with 100% sequence identity and 100% overlap.\n",
      "@> Alignment is based on 34 atoms matching 'ca resnum 8 9 10 11 12 13 14 15 16 17 18 30 31 32 64 79 80 81 82 83 84 85 86 87 88 89 129 130 131 132 133 143 144 145'.\n",
      "@> Before alignment RMSD: 247.94\n",
      "@> After alignment  RMSD: 1.00\n"
     ]
    },
    {
     "name": "stdout",
     "output_type": "stream",
     "text": [
      "[301 303 303 303 304 304 305 305 305 305 305 305 305 305 305 305 305 305\n",
      " 305]\n",
      "56.0\n",
      "56.0\n",
      "56.0\n",
      "406.0\n"
     ]
    },
    {
     "name": "stderr",
     "output_type": "stream",
     "text": [
      "@> 48 atoms and 1 coordinate set(s) were parsed in 0.00s.\n",
      "@> 4848 atoms and 1 coordinate set(s) were parsed in 0.13s.\n",
      "@> Checking AtomGroup 4i3z_PROT_dk + 4i3z_lig Selection 'resnum 301': 1 chains are identified\n",
      "@> Checking AtomGroup 1fin_PROT_dk: 1 chains are identified\n",
      "@> Trying to match chains based on residue numbers and names:\n",
      "@>   Comparing Chain   from 4i3z_PROT_dk + 4i3z_lig Selection 'resnum 301' (len=298) and Chain A from 1fin_PROT_dk (len=298):\n",
      "@> \tMatch: 298 residues match with 100% sequence identity and 100% overlap.\n",
      "@> Alignment is based on 34 atoms matching 'ca resnum 8 9 10 11 12 13 14 15 16 17 18 30 31 32 64 79 80 81 82 83 84 85 86 87 88 89 129 130 131 132 133 143 144 145'.\n",
      "@> Before alignment RMSD: 246.68\n",
      "@> After alignment  RMSD: 0.67\n"
     ]
    },
    {
     "name": "stdout",
     "output_type": "stream",
     "text": [
      "[301 301 301 301 301 301 301 301 302 303 305 306 306 306 306 306 307]\n",
      "350.0\n",
      "0.0\n",
      "0.0\n",
      "84.0\n",
      "84.0\n",
      "0.0\n"
     ]
    },
    {
     "name": "stderr",
     "output_type": "stream",
     "text": [
      "@> 34 atoms and 1 coordinate set(s) were parsed in 0.00s.\n",
      "@> 4848 atoms and 1 coordinate set(s) were parsed in 0.09s.\n",
      "@> Checking AtomGroup 4ii5_PROT_dk + 4ii5_lig Selection 'resnum 301': 1 chains are identified\n",
      "@> Checking AtomGroup 1fin_PROT_dk: 1 chains are identified\n",
      "@> Trying to match chains based on residue numbers and names:\n",
      "@>   Comparing Chain   from 4ii5_PROT_dk + 4ii5_lig Selection 'resnum 301' (len=298) and Chain A from 1fin_PROT_dk (len=298):\n",
      "@> \tMatch: 298 residues match with 100% sequence identity and 100% overlap.\n",
      "@> Alignment is based on 34 atoms matching 'ca resnum 8 9 10 11 12 13 14 15 16 17 18 30 31 32 64 79 80 81 82 83 84 85 86 87 88 89 129 130 131 132 133 143 144 145'.\n",
      "@> Before alignment RMSD: 246.74\n",
      "@> After alignment  RMSD: 0.66\n",
      "@> 33 atoms and 1 coordinate set(s) were parsed in 0.00s.\n"
     ]
    },
    {
     "name": "stdout",
     "output_type": "stream",
     "text": [
      "[301 301 301 301 301 301 301 301 301 301 302]\n",
      "350.0\n",
      "0.0\n"
     ]
    },
    {
     "name": "stderr",
     "output_type": "stream",
     "text": [
      "@> 4848 atoms and 1 coordinate set(s) were parsed in 0.11s.\n",
      "@> Checking AtomGroup 4kd1_PROT_dk + 4kd1_lig Selection 'resnum 302': 1 chains are identified\n",
      "@> Checking AtomGroup 1fin_PROT_dk: 1 chains are identified\n",
      "@> Trying to match chains based on residue numbers and names:\n",
      "@>   Comparing Chain   from 4kd1_PROT_dk + 4kd1_lig Selection 'resnum 302' (len=298) and Chain A from 1fin_PROT_dk (len=298):\n",
      "@> \tMatch: 298 residues match with 100% sequence identity and 100% overlap.\n",
      "@> Alignment is based on 34 atoms matching 'ca resnum 8 9 10 11 12 13 14 15 16 17 18 30 31 32 64 79 80 81 82 83 84 85 86 87 88 89 129 130 131 132 133 143 144 145'.\n",
      "@> Before alignment RMSD: 247.68\n",
      "@> After alignment  RMSD: 1.33\n"
     ]
    },
    {
     "name": "stdout",
     "output_type": "stream",
     "text": [
      "[301 301 301 302 302 302 302 302 302 302 302 302 302]\n",
      "56.0\n",
      "368.0\n"
     ]
    },
    {
     "name": "stderr",
     "output_type": "stream",
     "text": [
      "@> 27 atoms and 1 coordinate set(s) were parsed in 0.00s.\n",
      "@> 4848 atoms and 1 coordinate set(s) were parsed in 0.08s.\n",
      "@> Checking AtomGroup 4lyn_PROT_dk + 4lyn_lig Selection 'resnum 301': 1 chains are identified\n",
      "@> Checking AtomGroup 1fin_PROT_dk: 1 chains are identified\n",
      "@> Trying to match chains based on residue numbers and names:\n",
      "@>   Comparing Chain   from 4lyn_PROT_dk + 4lyn_lig Selection 'resnum 301' (len=298) and Chain A from 1fin_PROT_dk (len=298):\n",
      "@> \tMatch: 298 residues match with 100% sequence identity and 100% overlap.\n",
      "@> Alignment is based on 34 atoms matching 'ca resnum 8 9 10 11 12 13 14 15 16 17 18 30 31 32 64 79 80 81 82 83 84 85 86 87 88 89 129 130 131 132 133 143 144 145'.\n",
      "@> Before alignment RMSD: 247.58\n",
      "@> After alignment  RMSD: 1.19\n"
     ]
    },
    {
     "name": "stdout",
     "output_type": "stream",
     "text": [
      "[301 301 301 301 301 301 301 301 301 301 301 301 301]\n",
      "378.0\n"
     ]
    },
    {
     "name": "stderr",
     "output_type": "stream",
     "text": [
      "@> 51 atoms and 1 coordinate set(s) were parsed in 0.00s.\n",
      "@> 4848 atoms and 1 coordinate set(s) were parsed in 0.08s.\n",
      "@> Checking AtomGroup 4nj3_PROT_dk + 4nj3_lig Selection 'resnum 301': 1 chains are identified\n",
      "@> Checking AtomGroup 1fin_PROT_dk: 1 chains are identified\n",
      "@> Trying to match chains based on residue numbers and names:\n",
      "@>   Comparing Chain   from 4nj3_PROT_dk + 4nj3_lig Selection 'resnum 301' (len=298) and Chain A from 1fin_PROT_dk (len=298):\n",
      "@> \tMatch: 298 residues match with 100% sequence identity and 100% overlap.\n",
      "@> Alignment is based on 34 atoms matching 'ca resnum 8 9 10 11 12 13 14 15 16 17 18 30 31 32 64 79 80 81 82 83 84 85 86 87 88 89 129 130 131 132 133 143 144 145'.\n",
      "@> Before alignment RMSD: 247.46\n",
      "@> After alignment  RMSD: 0.81\n"
     ]
    },
    {
     "name": "stdout",
     "output_type": "stream",
     "text": [
      "[150 301 301 301 301 301 301 301 301 301 301 301]\n",
      "14.0\n",
      "448.0\n"
     ]
    },
    {
     "name": "stderr",
     "output_type": "stream",
     "text": [
      "@> 45 atoms and 1 coordinate set(s) were parsed in 0.00s.\n",
      "@> 4848 atoms and 1 coordinate set(s) were parsed in 0.11s.\n",
      "@> Checking AtomGroup 4rj3_PROT_dk + 4rj3_lig Selection 'resnum 302': 1 chains are identified\n",
      "@> Checking AtomGroup 1fin_PROT_dk: 1 chains are identified\n",
      "@> Trying to match chains based on residue numbers and names:\n",
      "@>   Comparing Chain   from 4rj3_PROT_dk + 4rj3_lig Selection 'resnum 302' (len=296) and Chain A from 1fin_PROT_dk (len=298):\n",
      "@> \tMatch: 296 residues match with 100% sequence identity and 99% overlap.\n",
      "@> Alignment is based on 34 atoms matching 'ca resnum 8 9 10 11 12 13 14 15 16 17 18 30 31 32 64 79 80 81 82 83 84 85 86 87 88 89 129 130 131 132 133 143 144 145'.\n",
      "@> Before alignment RMSD: 247.64\n",
      "@> After alignment  RMSD: 1.23\n"
     ]
    },
    {
     "name": "stdout",
     "output_type": "stream",
     "text": [
      "[ 33  33  33  33  33 301 301 302 302 302 302 302 302 302]\n",
      "156.0\n",
      "56.0\n",
      "364.0\n"
     ]
    },
    {
     "name": "stderr",
     "output_type": "stream",
     "text": [
      "@> 75 atoms and 1 coordinate set(s) were parsed in 0.00s.\n",
      "@> 4850 atoms and 1 coordinate set(s) were parsed in 0.10s.\n",
      "@> Checking AtomGroup 5a14_PROT_dk + 5a14_lig Selection 'resnum 1297': 1 chains are identified\n",
      "@> Checking AtomGroup 1fin_PROT_dk: 1 chains are identified\n",
      "@> Trying to match chains based on residue numbers and names:\n",
      "@>   Comparing Chain   from 5a14_PROT_dk + 5a14_lig Selection 'resnum 1297' (len=298) and Chain A from 1fin_PROT_dk (len=298):\n",
      "@> \tMatch: 298 residues match with 99% sequence identity and 100% overlap.\n",
      "@> Alignment is based on 34 atoms matching 'ca resnum 8 9 10 11 12 13 14 15 16 17 18 30 31 32 64 79 80 81 82 83 84 85 86 87 88 89 129 130 131 132 133 143 144 145'.\n",
      "@> Before alignment RMSD: 246.80\n",
      "@> After alignment  RMSD: 0.87\n"
     ]
    },
    {
     "name": "stdout",
     "output_type": "stream",
     "text": [
      "[1297 1297 1297 1297 1297 1297 1297 1297 1297]\n",
      "418.0\n"
     ]
    },
    {
     "name": "stderr",
     "output_type": "stream",
     "text": [
      "@> 14 atoms and 1 coordinate set(s) were parsed in 0.00s.\n",
      "@> 4848 atoms and 1 coordinate set(s) were parsed in 0.10s.\n",
      "@> Checking AtomGroup 5and_PROT_dk + 5and_lig Selection 'resnum 1295': 1 chains are identified\n",
      "@> Checking AtomGroup 1fin_PROT_dk: 1 chains are identified\n",
      "@> Trying to match chains based on residue numbers and names:\n",
      "@>   Comparing Chain   from 5and_PROT_dk + 5and_lig Selection 'resnum 1295' (len=298) and Chain A from 1fin_PROT_dk (len=298):\n",
      "@> \tMatch: 298 residues match with 100% sequence identity and 100% overlap.\n",
      "@> Alignment is based on 34 atoms matching 'ca resnum 8 9 10 11 12 13 14 15 16 17 18 30 31 32 64 79 80 81 82 83 84 85 86 87 88 89 129 130 131 132 133 143 144 145'.\n",
      "@> Before alignment RMSD: 247.73\n",
      "@> After alignment  RMSD: 1.12\n"
     ]
    },
    {
     "name": "stdout",
     "output_type": "stream",
     "text": [
      "[1295 1295 1295 1295 1295 1295 1295]\n",
      "176.0\n"
     ]
    },
    {
     "name": "stderr",
     "output_type": "stream",
     "text": [
      "@> 11 atoms and 1 coordinate set(s) were parsed in 0.00s.\n",
      "@> 4848 atoms and 1 coordinate set(s) were parsed in 0.09s.\n",
      "@> Checking AtomGroup 5ane_PROT_dk + 5ane_lig Selection 'resnum 1299': 1 chains are identified\n",
      "@> Checking AtomGroup 1fin_PROT_dk: 1 chains are identified\n",
      "@> Trying to match chains based on residue numbers and names:\n",
      "@>   Comparing Chain   from 5ane_PROT_dk + 5ane_lig Selection 'resnum 1299' (len=298) and Chain A from 1fin_PROT_dk (len=298):\n",
      "@> \tMatch: 298 residues match with 100% sequence identity and 100% overlap.\n",
      "@> Alignment is based on 34 atoms matching 'ca resnum 8 9 10 11 12 13 14 15 16 17 18 30 31 32 64 79 80 81 82 83 84 85 86 87 88 89 129 130 131 132 133 143 144 145'.\n",
      "@> Before alignment RMSD: 247.72\n",
      "@> After alignment  RMSD: 1.25\n"
     ]
    },
    {
     "name": "stdout",
     "output_type": "stream",
     "text": [
      "[1299 1299 1299 1299 1299 1299]\n",
      "144.0\n"
     ]
    },
    {
     "name": "stderr",
     "output_type": "stream",
     "text": [
      "@> 10 atoms and 1 coordinate set(s) were parsed in 0.00s.\n",
      "@> 4848 atoms and 1 coordinate set(s) were parsed in 0.09s.\n",
      "@> Checking AtomGroup 5ani_PROT_dk + 5ani_lig Selection 'resnum 1299': 1 chains are identified\n",
      "@> Checking AtomGroup 1fin_PROT_dk: 1 chains are identified\n",
      "@> Trying to match chains based on residue numbers and names:\n",
      "@>   Comparing Chain   from 5ani_PROT_dk + 5ani_lig Selection 'resnum 1299' (len=298) and Chain A from 1fin_PROT_dk (len=298):\n",
      "@> \tMatch: 298 residues match with 100% sequence identity and 100% overlap.\n",
      "@> Alignment is based on 34 atoms matching 'ca resnum 8 9 10 11 12 13 14 15 16 17 18 30 31 32 64 79 80 81 82 83 84 85 86 87 88 89 129 130 131 132 133 143 144 145'.\n",
      "@> Before alignment RMSD: 247.67\n",
      "@> After alignment  RMSD: 1.31\n"
     ]
    },
    {
     "name": "stdout",
     "output_type": "stream",
     "text": [
      "[1299 1299 1299 1299 1299]\n",
      "116.0\n"
     ]
    },
    {
     "name": "stderr",
     "output_type": "stream",
     "text": [
      "@> 17 atoms and 1 coordinate set(s) were parsed in 0.00s.\n",
      "@> 4848 atoms and 1 coordinate set(s) were parsed in 0.08s.\n",
      "@> Checking AtomGroup 5anj_PROT_dk + 5anj_lig Selection 'resnum 1299': 1 chains are identified\n",
      "@> Checking AtomGroup 1fin_PROT_dk: 1 chains are identified\n",
      "@> Trying to match chains based on residue numbers and names:\n",
      "@>   Comparing Chain   from 5anj_PROT_dk + 5anj_lig Selection 'resnum 1299' (len=298) and Chain A from 1fin_PROT_dk (len=298):\n",
      "@> \tMatch: 298 residues match with 100% sequence identity and 100% overlap.\n",
      "@> Alignment is based on 34 atoms matching 'ca resnum 8 9 10 11 12 13 14 15 16 17 18 30 31 32 64 79 80 81 82 83 84 85 86 87 88 89 129 130 131 132 133 143 144 145'.\n",
      "@> Before alignment RMSD: 247.60\n",
      "@> After alignment  RMSD: 1.28\n",
      "@> 18 atoms and 1 coordinate set(s) were parsed in 0.00s.\n"
     ]
    },
    {
     "name": "stdout",
     "output_type": "stream",
     "text": [
      "[1299 1299 1299 1299 1299 1299 1299]\n",
      "238.0\n"
     ]
    },
    {
     "name": "stderr",
     "output_type": "stream",
     "text": [
      "@> 4848 atoms and 1 coordinate set(s) were parsed in 0.09s.\n",
      "@> Checking AtomGroup 5ank_PROT_dk + 5ank_lig Selection 'resnum 1299': 1 chains are identified\n",
      "@> Checking AtomGroup 1fin_PROT_dk: 1 chains are identified\n",
      "@> Trying to match chains based on residue numbers and names:\n",
      "@>   Comparing Chain   from 5ank_PROT_dk + 5ank_lig Selection 'resnum 1299' (len=298) and Chain A from 1fin_PROT_dk (len=298):\n",
      "@> \tMatch: 298 residues match with 100% sequence identity and 100% overlap.\n",
      "@> Alignment is based on 34 atoms matching 'ca resnum 8 9 10 11 12 13 14 15 16 17 18 30 31 32 64 79 80 81 82 83 84 85 86 87 88 89 129 130 131 132 133 143 144 145'.\n",
      "@> Before alignment RMSD: 247.76\n",
      "@> After alignment  RMSD: 1.30\n"
     ]
    },
    {
     "name": "stdout",
     "output_type": "stream",
     "text": [
      "[1299 1299 1299 1299 1299 1299 1299 1299]\n",
      "238.0\n"
     ]
    },
    {
     "name": "stderr",
     "output_type": "stream",
     "text": [
      "@> 29 atoms and 1 coordinate set(s) were parsed in 0.00s.\n",
      "@> 4849 atoms and 1 coordinate set(s) were parsed in 0.09s.\n",
      "@> Checking AtomGroup 5cyi_PROT_dk + 5cyi_lig Selection 'resnum 301': 1 chains are identified\n",
      "@> Checking AtomGroup 1fin_PROT_dk: 1 chains are identified\n",
      "@> Trying to match chains based on residue numbers and names:\n",
      "@>   Comparing Chain   from 5cyi_PROT_dk + 5cyi_lig Selection 'resnum 301' (len=298) and Chain A from 1fin_PROT_dk (len=298):\n",
      "@> \tMatch: 298 residues match with 100% sequence identity and 100% overlap.\n"
     ]
    },
    {
     "name": "stdout",
     "output_type": "stream",
     "text": [
      "../PDB_CDK2_ligands_chainA/5ano_lig.pdb is not a valid filename or a valid PDB identifier. La proteina 5ano NO TIENE LIGANDO.\n",
      "[301 301 301 301 301 301 301 301 301 301]\n",
      "390.0\n"
     ]
    },
    {
     "name": "stderr",
     "output_type": "stream",
     "text": [
      "@> Alignment is based on 34 atoms matching 'ca resnum 8 9 10 11 12 13 14 15 16 17 18 30 31 32 64 79 80 81 82 83 84 85 86 87 88 89 129 130 131 132 133 143 144 145'.\n",
      "@> Before alignment RMSD: 247.04\n",
      "@> After alignment  RMSD: 1.24\n",
      "@> 25 atoms and 1 coordinate set(s) were parsed in 0.00s.\n",
      "@> 4848 atoms and 1 coordinate set(s) were parsed in 0.11s.\n",
      "@> Checking AtomGroup 5d1j_PROT_dk + 5d1j_lig Selection 'resnum 4000': 1 chains are identified\n",
      "@> Checking AtomGroup 1fin_PROT_dk: 1 chains are identified\n",
      "@> Trying to match chains based on residue numbers and names:\n",
      "@>   Comparing Chain   from 5d1j_PROT_dk + 5d1j_lig Selection 'resnum 4000' (len=298) and Chain A from 1fin_PROT_dk (len=298):\n",
      "@> \tMatch: 298 residues match with 100% sequence identity and 100% overlap.\n",
      "@> Alignment is based on 34 atoms matching 'ca resnum 8 9 10 11 12 13 14 15 16 17 18 30 31 32 64 79 80 81 82 83 84 85 86 87 88 89 129 130 131 132 133 143 144 145'.\n",
      "@> Before alignment RMSD: 247.72\n",
      "@> After alignment  RMSD: 1.44\n"
     ]
    },
    {
     "name": "stdout",
     "output_type": "stream",
     "text": [
      "[4000 4000 4000 4000 4000 4000 4000 4000]\n",
      "356.0\n"
     ]
    },
    {
     "name": "stderr",
     "output_type": "stream",
     "text": [
      "@> 31 atoms and 1 coordinate set(s) were parsed in 0.00s.\n",
      "@> 4848 atoms and 1 coordinate set(s) were parsed in 0.05s.\n",
      "@> Checking AtomGroup 5fp5_PROT_dk + 5fp5_lig Selection 'resnum 1297': 1 chains are identified\n",
      "@> Checking AtomGroup 1fin_PROT_dk: 1 chains are identified\n",
      "@> Trying to match chains based on residue numbers and names:\n",
      "@>   Comparing Chain   from 5fp5_PROT_dk + 5fp5_lig Selection 'resnum 1297' (len=298) and Chain A from 1fin_PROT_dk (len=298):\n",
      "@> \tMatch: 298 residues match with 100% sequence identity and 100% overlap.\n",
      "@> Alignment is based on 34 atoms matching 'ca resnum 8 9 10 11 12 13 14 15 16 17 18 30 31 32 64 79 80 81 82 83 84 85 86 87 88 89 129 130 131 132 133 143 144 145'.\n",
      "@> Before alignment RMSD: 247.67\n",
      "@> After alignment  RMSD: 0.85\n",
      "@> 44 atoms and 1 coordinate set(s) were parsed in 0.00s.\n"
     ]
    },
    {
     "name": "stdout",
     "output_type": "stream",
     "text": [
      "[1297 1297 1297 1297 1297 1297 1297 1297 1297 1296 1296]\n",
      "40.0\n",
      "120.0\n"
     ]
    },
    {
     "name": "stderr",
     "output_type": "stream",
     "text": [
      "@> 4849 atoms and 1 coordinate set(s) were parsed in 0.05s.\n",
      "@> Checking AtomGroup 5fp6_PROT_dk + 5fp6_lig Selection 'resnum 1295': 1 chains are identified\n",
      "@> Checking AtomGroup 1fin_PROT_dk: 1 chains are identified\n",
      "@> Trying to match chains based on residue numbers and names:\n",
      "@>   Comparing Chain   from 5fp6_PROT_dk + 5fp6_lig Selection 'resnum 1295' (len=298) and Chain A from 1fin_PROT_dk (len=298):\n",
      "@> \tMatch: 298 residues match with 100% sequence identity and 100% overlap.\n",
      "@> Alignment is based on 34 atoms matching 'ca resnum 8 9 10 11 12 13 14 15 16 17 18 30 31 32 64 79 80 81 82 83 84 85 86 87 88 89 129 130 131 132 133 143 144 145'.\n",
      "@> Before alignment RMSD: 247.72\n",
      "@> After alignment  RMSD: 0.98\n"
     ]
    },
    {
     "name": "stdout",
     "output_type": "stream",
     "text": [
      "[1295 1295 1295 1295 1295 1295 1295 1295 1295 1295 1295 1295 1295 1295]\n",
      "169.0\n"
     ]
    },
    {
     "name": "stderr",
     "output_type": "stream",
     "text": [
      "@> 29 atoms and 1 coordinate set(s) were parsed in 0.00s.\n",
      "@> 4848 atoms and 1 coordinate set(s) were parsed in 0.09s.\n",
      "@> Checking AtomGroup 5iev_PROT_dk + 5iev_lig Selection 'resnum 1001': 1 chains are identified\n",
      "@> Checking AtomGroup 1fin_PROT_dk: 1 chains are identified\n",
      "@> Trying to match chains based on residue numbers and names:\n",
      "@>   Comparing Chain   from 5iev_PROT_dk + 5iev_lig Selection 'resnum 1001' (len=298) and Chain A from 1fin_PROT_dk (len=298):\n",
      "@> \tMatch: 298 residues match with 100% sequence identity and 100% overlap.\n",
      "@> Alignment is based on 34 atoms matching 'ca resnum 8 9 10 11 12 13 14 15 16 17 18 30 31 32 64 79 80 81 82 83 84 85 86 87 88 89 129 130 131 132 133 143 144 145'.\n",
      "@> Before alignment RMSD: 247.83\n",
      "@> After alignment  RMSD: 1.15\n"
     ]
    },
    {
     "name": "stdout",
     "output_type": "stream",
     "text": [
      "[1001 1001 1001 1001 1001 1001 1001 1001 1001 1001 1001 1001]\n",
      "352.0\n"
     ]
    },
    {
     "name": "stderr",
     "output_type": "stream",
     "text": [
      "@> 26 atoms and 1 coordinate set(s) were parsed in 0.00s.\n",
      "@> 4849 atoms and 1 coordinate set(s) were parsed in 0.08s.\n",
      "@> Checking AtomGroup 5iex_PROT_dk + 5iex_lig Selection 'resnum 1001': 1 chains are identified\n",
      "@> Checking AtomGroup 1fin_PROT_dk: 1 chains are identified\n",
      "@> Trying to match chains based on residue numbers and names:\n",
      "@>   Comparing Chain   from 5iex_PROT_dk + 5iex_lig Selection 'resnum 1001' (len=297) and Chain A from 1fin_PROT_dk (len=298):\n",
      "@> \tMatch: 297 residues match with 100% sequence identity and 100% overlap.\n",
      "@> Alignment is based on 34 atoms matching 'ca resnum 8 9 10 11 12 13 14 15 16 17 18 30 31 32 64 79 80 81 82 83 84 85 86 87 88 89 129 130 131 132 133 143 144 145'.\n",
      "@> Before alignment RMSD: 247.87\n",
      "@> After alignment  RMSD: 1.20\n",
      "@> 23 atoms and 1 coordinate set(s) were parsed in 0.00s.\n"
     ]
    },
    {
     "name": "stdout",
     "output_type": "stream",
     "text": [
      "[1001 1001 1001 1001 1001 1001 1001 1001 1001]\n",
      "340.0\n"
     ]
    },
    {
     "name": "stderr",
     "output_type": "stream",
     "text": [
      "@> 4848 atoms and 1 coordinate set(s) were parsed in 0.07s.\n",
      "@> Checking AtomGroup 5iey_PROT_dk + 5iey_lig Selection 'resnum 1001': 1 chains are identified\n",
      "@> Checking AtomGroup 1fin_PROT_dk: 1 chains are identified\n",
      "@> Trying to match chains based on residue numbers and names:\n",
      "@>   Comparing Chain   from 5iey_PROT_dk + 5iey_lig Selection 'resnum 1001' (len=298) and Chain A from 1fin_PROT_dk (len=298):\n",
      "@> \tMatch: 298 residues match with 100% sequence identity and 100% overlap.\n",
      "@> Alignment is based on 34 atoms matching 'ca resnum 8 9 10 11 12 13 14 15 16 17 18 30 31 32 64 79 80 81 82 83 84 85 86 87 88 89 129 130 131 132 133 143 144 145'.\n",
      "@> Before alignment RMSD: 247.81\n",
      "@> After alignment  RMSD: 1.05\n",
      "@> 33 atoms and 1 coordinate set(s) were parsed in 0.00s.\n"
     ]
    },
    {
     "name": "stdout",
     "output_type": "stream",
     "text": [
      "[1001 1001 1001 1001 1001 1001 1001 1001]\n",
      "318.0\n",
      "../PDB_CDK2_ligands_chainA/5if1_lig.pdb is not a valid filename or a valid PDB identifier. La proteina 5if1 NO TIENE LIGANDO.\n"
     ]
    },
    {
     "name": "stderr",
     "output_type": "stream",
     "text": [
      "@> 4848 atoms and 1 coordinate set(s) were parsed in 0.07s.\n",
      "@> Checking AtomGroup 5jq5_PROT_dk + 5jq5_lig Selection 'resnum 302': 1 chains are identified\n",
      "@> Checking AtomGroup 1fin_PROT_dk: 1 chains are identified\n",
      "@> Trying to match chains based on residue numbers and names:\n",
      "@>   Comparing Chain   from 5jq5_PROT_dk + 5jq5_lig Selection 'resnum 302' (len=298) and Chain A from 1fin_PROT_dk (len=298):\n",
      "@> \tMatch: 298 residues match with 100% sequence identity and 100% overlap.\n",
      "@> Alignment is based on 34 atoms matching 'ca resnum 8 9 10 11 12 13 14 15 16 17 18 30 31 32 64 79 80 81 82 83 84 85 86 87 88 89 129 130 131 132 133 143 144 145'.\n",
      "@> Before alignment RMSD: 247.68\n",
      "@> After alignment  RMSD: 1.21\n",
      "@> 29 atoms and 1 coordinate set(s) were parsed in 0.00s.\n"
     ]
    },
    {
     "name": "stdout",
     "output_type": "stream",
     "text": [
      "[301 301 302 302 302 302 302 302 302 302 302 302]\n",
      "56.0\n",
      "364.0\n"
     ]
    },
    {
     "name": "stderr",
     "output_type": "stream",
     "text": [
      "@> 4848 atoms and 1 coordinate set(s) were parsed in 0.06s.\n",
      "@> Checking AtomGroup 5jq8_PROT_dk + 5jq8_lig Selection 'resnum 301': 1 chains are identified\n",
      "@> Checking AtomGroup 1fin_PROT_dk: 1 chains are identified\n",
      "@> Trying to match chains based on residue numbers and names:\n",
      "@>   Comparing Chain   from 5jq8_PROT_dk + 5jq8_lig Selection 'resnum 301' (len=298) and Chain A from 1fin_PROT_dk (len=298):\n",
      "@> \tMatch: 298 residues match with 100% sequence identity and 100% overlap.\n",
      "@> Alignment is based on 34 atoms matching 'ca resnum 8 9 10 11 12 13 14 15 16 17 18 30 31 32 64 79 80 81 82 83 84 85 86 87 88 89 129 130 131 132 133 143 144 145'.\n",
      "@> Before alignment RMSD: 247.85\n",
      "@> After alignment  RMSD: 1.15\n",
      "@> 31 atoms and 1 coordinate set(s) were parsed in 0.00s.\n"
     ]
    },
    {
     "name": "stdout",
     "output_type": "stream",
     "text": [
      "[301 301 301 301 301 301 301 301 301 301 301 301 301 301 301 301]\n",
      "364.0\n"
     ]
    },
    {
     "name": "stderr",
     "output_type": "stream",
     "text": [
      "@> 4848 atoms and 1 coordinate set(s) were parsed in 0.07s.\n",
      "@> Checking AtomGroup 5k4j_PROT_dk + 5k4j_lig Selection 'resnum 301': 1 chains are identified\n",
      "@> Checking AtomGroup 1fin_PROT_dk: 1 chains are identified\n",
      "@> Trying to match chains based on residue numbers and names:\n",
      "@>   Comparing Chain   from 5k4j_PROT_dk + 5k4j_lig Selection 'resnum 301' (len=298) and Chain A from 1fin_PROT_dk (len=298):\n",
      "@> \tMatch: 298 residues match with 100% sequence identity and 100% overlap.\n",
      "@> Alignment is based on 34 atoms matching 'ca resnum 8 9 10 11 12 13 14 15 16 17 18 30 31 32 64 79 80 81 82 83 84 85 86 87 88 89 129 130 131 132 133 143 144 145'.\n",
      "@> Before alignment RMSD: 247.69\n",
      "@> After alignment  RMSD: 0.83\n",
      "@> 35 atoms and 1 coordinate set(s) were parsed in 0.00s.\n"
     ]
    },
    {
     "name": "stdout",
     "output_type": "stream",
     "text": [
      "[301 301 301 301 301 301 301 301 301]\n",
      "368.0\n"
     ]
    },
    {
     "name": "stderr",
     "output_type": "stream",
     "text": [
      "@> 4848 atoms and 1 coordinate set(s) were parsed in 0.07s.\n",
      "@> Checking AtomGroup 5l2w_PROT_dk + 5l2w_lig Selection 'resnum 900': 1 chains are identified\n",
      "@> Checking AtomGroup 1fin_PROT_dk: 1 chains are identified\n",
      "@> Trying to match chains based on residue numbers and names:\n",
      "@>   Comparing Chain   from 5l2w_PROT_dk + 5l2w_lig Selection 'resnum 900' (len=298) and Chain A from 1fin_PROT_dk (len=298):\n",
      "@> \tMatch: 298 residues match with 100% sequence identity and 100% overlap.\n",
      "@> Alignment is based on 34 atoms matching 'ca resnum 8 9 10 11 12 13 14 15 16 17 18 30 31 32 64 79 80 81 82 83 84 85 86 87 88 89 129 130 131 132 133 143 144 145'.\n",
      "@> Before alignment RMSD: 246.68\n",
      "@> After alignment  RMSD: 1.37\n",
      "@> 33 atoms and 1 coordinate set(s) were parsed in 0.00s.\n"
     ]
    },
    {
     "name": "stdout",
     "output_type": "stream",
     "text": [
      "[900 900 900 900 900 900 900 901 901]\n",
      "368.0\n",
      "84.0\n"
     ]
    },
    {
     "name": "stderr",
     "output_type": "stream",
     "text": [
      "@> 4848 atoms and 1 coordinate set(s) were parsed in 0.05s.\n",
      "@> Checking AtomGroup 5lmk_PROT_dk + 5lmk_lig Selection 'resnum 301': 1 chains are identified\n",
      "@> Checking AtomGroup 1fin_PROT_dk: 1 chains are identified\n",
      "@> Trying to match chains based on residue numbers and names:\n",
      "@>   Comparing Chain   from 5lmk_PROT_dk + 5lmk_lig Selection 'resnum 301' (len=298) and Chain A from 1fin_PROT_dk (len=298):\n",
      "@> \tMatch: 298 residues match with 100% sequence identity and 100% overlap.\n",
      "@> Alignment is based on 34 atoms matching 'ca resnum 8 9 10 11 12 13 14 15 16 17 18 30 31 32 64 79 80 81 82 83 84 85 86 87 88 89 129 130 131 132 133 143 144 145'.\n",
      "@> Before alignment RMSD: 246.99\n",
      "@> After alignment  RMSD: 1.24\n",
      "@> 32 atoms and 1 coordinate set(s) were parsed in 0.00s.\n"
     ]
    },
    {
     "name": "stdout",
     "output_type": "stream",
     "text": [
      "[301 301 301 301 301 301 301 301]\n",
      "400.0\n"
     ]
    },
    {
     "name": "stderr",
     "output_type": "stream",
     "text": [
      "@> 4848 atoms and 1 coordinate set(s) were parsed in 0.09s.\n",
      "@> Checking AtomGroup 5nev_PROT_dk + 5nev_lig Selection 'resnum 301': 1 chains are identified\n",
      "@> Checking AtomGroup 1fin_PROT_dk: 1 chains are identified\n",
      "@> Trying to match chains based on residue numbers and names:\n",
      "@>   Comparing Chain   from 5nev_PROT_dk + 5nev_lig Selection 'resnum 301' (len=298) and Chain A from 1fin_PROT_dk (len=298):\n",
      "@> \tMatch: 298 residues match with 100% sequence identity and 100% overlap.\n",
      "@> Alignment is based on 34 atoms matching 'ca resnum 8 9 10 11 12 13 14 15 16 17 18 30 31 32 64 79 80 81 82 83 84 85 86 87 88 89 129 130 131 132 133 143 144 145'.\n",
      "@> Before alignment RMSD: 247.01\n",
      "@> After alignment  RMSD: 1.21\n",
      "@> 18 atoms and 1 coordinate set(s) were parsed in 0.00s.\n"
     ]
    },
    {
     "name": "stdout",
     "output_type": "stream",
     "text": [
      "[301 301 301 301 301 301 301 301 301 301 301 301]\n",
      "424.0\n"
     ]
    },
    {
     "name": "stderr",
     "output_type": "stream",
     "text": [
      "@> 4848 atoms and 1 coordinate set(s) were parsed in 0.09s.\n",
      "@> 17 atoms and 1 coordinate set(s) were parsed in 0.00s.\n",
      "@> 4848 atoms and 1 coordinate set(s) were parsed in 0.05s.\n",
      "@> Checking AtomGroup 5oo1_PROT_dk + 5oo1_lig Selection 'resnum 301': 1 chains are identified\n",
      "@> Checking AtomGroup 1fin_PROT_dk: 1 chains are identified\n",
      "@> Trying to match chains based on residue numbers and names:\n",
      "@>   Comparing Chain   from 5oo1_PROT_dk + 5oo1_lig Selection 'resnum 301' (len=298) and Chain A from 1fin_PROT_dk (len=298):\n",
      "@> \tMatch: 298 residues match with 100% sequence identity and 100% overlap.\n",
      "@> Alignment is based on 34 atoms matching 'ca resnum 8 9 10 11 12 13 14 15 16 17 18 30 31 32 64 79 80 81 82 83 84 85 86 87 88 89 129 130 131 132 133 143 144 145'.\n",
      "@> Before alignment RMSD: 247.39\n",
      "@> After alignment  RMSD: 1.03\n"
     ]
    },
    {
     "name": "stdout",
     "output_type": "stream",
     "text": [
      "La proteina 5oo0 no tiene ligando en el pocket.\n",
      "[301 301 301 301 301]\n",
      "214.0\n"
     ]
    },
    {
     "name": "stderr",
     "output_type": "stream",
     "text": [
      "@> 16 atoms and 1 coordinate set(s) were parsed in 0.00s.\n",
      "@> 4848 atoms and 1 coordinate set(s) were parsed in 0.08s.\n",
      "@> Checking AtomGroup 5oo3_PROT_dk + 5oo3_lig Selection 'resnum 301': 1 chains are identified\n",
      "@> Checking AtomGroup 1fin_PROT_dk: 1 chains are identified\n",
      "@> Trying to match chains based on residue numbers and names:\n",
      "@>   Comparing Chain   from 5oo3_PROT_dk + 5oo3_lig Selection 'resnum 301' (len=298) and Chain A from 1fin_PROT_dk (len=298):\n",
      "@> \tMatch: 298 residues match with 100% sequence identity and 100% overlap.\n",
      "@> Alignment is based on 34 atoms matching 'ca resnum 8 9 10 11 12 13 14 15 16 17 18 30 31 32 64 79 80 81 82 83 84 85 86 87 88 89 129 130 131 132 133 143 144 145'.\n",
      "@> Before alignment RMSD: 247.65\n",
      "@> After alignment  RMSD: 1.37\n"
     ]
    },
    {
     "name": "stdout",
     "output_type": "stream",
     "text": [
      "[301 301 301 301 301]\n",
      "200.0\n"
     ]
    },
    {
     "name": "stderr",
     "output_type": "stream",
     "text": [
      "@> 21 atoms and 1 coordinate set(s) were parsed in 0.00s.\n",
      "@> 4848 atoms and 1 coordinate set(s) were parsed in 0.08s.\n",
      "@> 18 atoms and 1 coordinate set(s) were parsed in 0.00s.\n",
      "@> 4847 atoms and 1 coordinate set(s) were parsed in 0.07s.\n",
      "@> Checking AtomGroup 5osm_PROT_dk + 5osm_lig Selection 'resnum 301': 1 chains are identified\n",
      "@> Checking AtomGroup 1fin_PROT_dk: 1 chains are identified\n",
      "@> Trying to match chains based on residue numbers and names:\n",
      "@>   Comparing Chain   from 5osm_PROT_dk + 5osm_lig Selection 'resnum 301' (len=297) and Chain A from 1fin_PROT_dk (len=298):\n",
      "@> \tMatch: 297 residues match with 100% sequence identity and 100% overlap.\n",
      "@> Alignment is based on 34 atoms matching 'ca resnum 8 9 10 11 12 13 14 15 16 17 18 30 31 32 64 79 80 81 82 83 84 85 86 87 88 89 129 130 131 132 133 143 144 145'.\n",
      "@> Before alignment RMSD: 247.83\n",
      "@> After alignment  RMSD: 1.35\n"
     ]
    },
    {
     "name": "stdout",
     "output_type": "stream",
     "text": [
      "La proteina 5osj no tiene ligando en el pocket.\n",
      "[301 301 301 301 301 301 301 301 301]\n",
      "230.0\n"
     ]
    },
    {
     "name": "stderr",
     "output_type": "stream",
     "text": [
      "@> 28 atoms and 1 coordinate set(s) were parsed in 0.00s.\n",
      "@> 4848 atoms and 1 coordinate set(s) were parsed in 0.07s.\n",
      "@> Checking AtomGroup 6gub_PROT_dk + 6gub_lig Selection 'resnum 301': 1 chains are identified\n",
      "@> Checking AtomGroup 1fin_PROT_dk: 1 chains are identified\n",
      "@> Trying to match chains based on residue numbers and names:\n",
      "@>   Comparing Chain   from 6gub_PROT_dk + 6gub_lig Selection 'resnum 301' (len=298) and Chain A from 1fin_PROT_dk (len=298):\n",
      "@> \tMatch: 298 residues match with 100% sequence identity and 100% overlap.\n",
      "@> Alignment is based on 34 atoms matching 'ca resnum 8 9 10 11 12 13 14 15 16 17 18 30 31 32 64 79 80 81 82 83 84 85 86 87 88 89 129 130 131 132 133 143 144 145'.\n",
      "@> Before alignment RMSD: 246.66\n",
      "@> After alignment  RMSD: 0.76\n"
     ]
    },
    {
     "name": "stdout",
     "output_type": "stream",
     "text": [
      "../PDB_CDK2_ligands_chainA/5uq1_lig.pdb is not a valid filename or a valid PDB identifier. La proteina 5uq1 NO TIENE LIGANDO.\n",
      "../PDB_CDK2_ligands_chainA/5uq2_lig.pdb is not a valid filename or a valid PDB identifier. La proteina 5uq2 NO TIENE LIGANDO.\n",
      "[301 301 301 301 301 301 301 301 301]\n",
      "346.0\n"
     ]
    },
    {
     "name": "stderr",
     "output_type": "stream",
     "text": [
      "@> 18 atoms and 1 coordinate set(s) were parsed in 0.00s.\n",
      "@> 4848 atoms and 1 coordinate set(s) were parsed in 0.07s.\n",
      "@> Checking AtomGroup 6guc_PROT_dk + 6guc_lig Selection 'resnum 301': 1 chains are identified\n",
      "@> Checking AtomGroup 1fin_PROT_dk: 1 chains are identified\n",
      "@> Trying to match chains based on residue numbers and names:\n",
      "@>   Comparing Chain   from 6guc_PROT_dk + 6guc_lig Selection 'resnum 301' (len=298) and Chain A from 1fin_PROT_dk (len=298):\n",
      "@> \tMatch: 298 residues match with 100% sequence identity and 100% overlap.\n",
      "@> Alignment is based on 34 atoms matching 'ca resnum 8 9 10 11 12 13 14 15 16 17 18 30 31 32 64 79 80 81 82 83 84 85 86 87 88 89 129 130 131 132 133 143 144 145'.\n",
      "@> Before alignment RMSD: 246.86\n",
      "@> After alignment  RMSD: 0.75\n"
     ]
    },
    {
     "name": "stdout",
     "output_type": "stream",
     "text": [
      "[301 301 301]\n",
      "230.0\n"
     ]
    },
    {
     "name": "stderr",
     "output_type": "stream",
     "text": [
      "@> 26 atoms and 1 coordinate set(s) were parsed in 0.00s.\n",
      "@> 4848 atoms and 1 coordinate set(s) were parsed in 0.09s.\n",
      "@> Checking AtomGroup 6gue_PROT_dk + 6gue_lig Selection 'resnum 301': 1 chains are identified\n",
      "@> Checking AtomGroup 1fin_PROT_dk: 1 chains are identified\n",
      "@> Trying to match chains based on residue numbers and names:\n",
      "@>   Comparing Chain   from 6gue_PROT_dk + 6gue_lig Selection 'resnum 301' (len=298) and Chain A from 1fin_PROT_dk (len=298):\n",
      "@> \tMatch: 298 residues match with 100% sequence identity and 100% overlap.\n",
      "@> Alignment is based on 34 atoms matching 'ca resnum 8 9 10 11 12 13 14 15 16 17 18 30 31 32 64 79 80 81 82 83 84 85 86 87 88 89 129 130 131 132 133 143 144 145'.\n",
      "@> Before alignment RMSD: 246.91\n",
      "@> After alignment  RMSD: 1.27\n",
      "@> 27 atoms and 1 coordinate set(s) were parsed in 0.00s.\n"
     ]
    },
    {
     "name": "stdout",
     "output_type": "stream",
     "text": [
      "[301 301 301 301 301 301 301 301 301]\n",
      "350.0\n"
     ]
    },
    {
     "name": "stderr",
     "output_type": "stream",
     "text": [
      "@> 4848 atoms and 1 coordinate set(s) were parsed in 0.10s.\n",
      "@> Checking AtomGroup 6guf_PROT_dk + 6guf_lig Selection 'resnum 301': 1 chains are identified\n",
      "@> Checking AtomGroup 1fin_PROT_dk: 1 chains are identified\n",
      "@> Trying to match chains based on residue numbers and names:\n",
      "@>   Comparing Chain   from 6guf_PROT_dk + 6guf_lig Selection 'resnum 301' (len=298) and Chain A from 1fin_PROT_dk (len=298):\n",
      "@> \tMatch: 298 residues match with 100% sequence identity and 100% overlap.\n",
      "@> Alignment is based on 34 atoms matching 'ca resnum 8 9 10 11 12 13 14 15 16 17 18 30 31 32 64 79 80 81 82 83 84 85 86 87 88 89 129 130 131 132 133 143 144 145'.\n",
      "@> Before alignment RMSD: 246.83\n",
      "@> After alignment  RMSD: 1.23\n"
     ]
    },
    {
     "name": "stdout",
     "output_type": "stream",
     "text": [
      "[301 301 301 301 301 301]\n",
      "326.0\n"
     ]
    },
    {
     "name": "stderr",
     "output_type": "stream",
     "text": [
      "@> 34 atoms and 1 coordinate set(s) were parsed in 0.00s.\n",
      "@> 4848 atoms and 1 coordinate set(s) were parsed in 0.12s.\n",
      "@> Checking AtomGroup 6guh_PROT_dk + 6guh_lig Selection 'resnum 301': 1 chains are identified\n",
      "@> Checking AtomGroup 1fin_PROT_dk: 1 chains are identified\n",
      "@> Trying to match chains based on residue numbers and names:\n",
      "@>   Comparing Chain   from 6guh_PROT_dk + 6guh_lig Selection 'resnum 301' (len=298) and Chain A from 1fin_PROT_dk (len=298):\n",
      "@> \tMatch: 298 residues match with 100% sequence identity and 100% overlap.\n",
      "@> Alignment is based on 34 atoms matching 'ca resnum 8 9 10 11 12 13 14 15 16 17 18 30 31 32 64 79 80 81 82 83 84 85 86 87 88 89 129 130 131 132 133 143 144 145'.\n",
      "@> Before alignment RMSD: 247.73\n",
      "@> After alignment  RMSD: 1.26\n"
     ]
    },
    {
     "name": "stdout",
     "output_type": "stream",
     "text": [
      "[301 301 301 301 301 301 301 301 301 301 302 302]\n",
      "350.0\n",
      "56.0\n"
     ]
    },
    {
     "name": "stderr",
     "output_type": "stream",
     "text": [
      "@> 27 atoms and 1 coordinate set(s) were parsed in 0.00s.\n",
      "@> 4848 atoms and 1 coordinate set(s) were parsed in 0.09s.\n",
      "@> Checking AtomGroup 6guk_PROT_dk + 6guk_lig Selection 'resnum 301': 1 chains are identified\n",
      "@> Checking AtomGroup 1fin_PROT_dk: 1 chains are identified\n",
      "@> Trying to match chains based on residue numbers and names:\n",
      "@>   Comparing Chain   from 6guk_PROT_dk + 6guk_lig Selection 'resnum 301' (len=298) and Chain A from 1fin_PROT_dk (len=298):\n",
      "@> \tMatch: 298 residues match with 100% sequence identity and 100% overlap.\n",
      "@> Alignment is based on 34 atoms matching 'ca resnum 8 9 10 11 12 13 14 15 16 17 18 30 31 32 64 79 80 81 82 83 84 85 86 87 88 89 129 130 131 132 133 143 144 145'.\n",
      "@> Before alignment RMSD: 247.67\n",
      "@> After alignment  RMSD: 1.57\n"
     ]
    },
    {
     "name": "stdout",
     "output_type": "stream",
     "text": [
      "[301 301 301 301 301 301 301 301]\n",
      "326.0\n"
     ]
    }
   ],
   "source": [
    "# Se obtienen los ligandos y a la tabla de datos se le agrega la información sobre el inhibidor y su masa\n",
    "\n",
    "df_cdk2_c = df_cdk2.copy()\n",
    "# Se agregan dos columnas\n",
    "df_cdk2_c[\"Inhib\"] = \"\"\n",
    "df_cdk2_c[\"Inhib_mass\"] = np.nan\n",
    "# Se establecen los PDB IDs  como indices\n",
    "df_cdk2_c = df_cdk2_c.set_index(\"PDB_ID\")\n",
    "\n",
    "pdb_id_prueba = [\"3pxf\"]\n",
    "\n",
    "# Se obtienen los ligandos\n",
    "for pdb_id in df_cdk2_c.index:\n",
    "    inhibidor = get_pocket_ligand(pdb_id, write_files=True, \n",
    "                                  ref_structure=ref_structure, zona=3.0)\n",
    "    df_cdk2_c.at[str(pdb_id), 'Inhib'] = inhibidor[0]\n",
    "    df_cdk2_c.at[pdb_id, 'Inhib_mass'] = inhibidor[1]\n",
    "    \n",
    "df_cdk2_c = df_cdk2_c.reset_index()"
   ]
  },
  {
   "cell_type": "code",
   "execution_count": 15,
   "metadata": {},
   "outputs": [
    {
     "data": {
      "text/html": [
       "<div>\n",
       "<style scoped>\n",
       "    .dataframe tbody tr th:only-of-type {\n",
       "        vertical-align: middle;\n",
       "    }\n",
       "\n",
       "    .dataframe tbody tr th {\n",
       "        vertical-align: top;\n",
       "    }\n",
       "\n",
       "    .dataframe thead th {\n",
       "        text-align: right;\n",
       "    }\n",
       "</style>\n",
       "<table border=\"1\" class=\"dataframe\">\n",
       "  <thead>\n",
       "    <tr style=\"text-align: right;\">\n",
       "      <th></th>\n",
       "      <th>PDB_ID</th>\n",
       "      <th>Title</th>\n",
       "      <th>Date</th>\n",
       "      <th>Entities</th>\n",
       "      <th>ChainID</th>\n",
       "      <th>Resolution</th>\n",
       "      <th>Identity</th>\n",
       "      <th>Coverage</th>\n",
       "      <th>NumGaps</th>\n",
       "      <th>GapLen</th>\n",
       "      <th>GapPos</th>\n",
       "      <th>NumLigs</th>\n",
       "      <th>NameLigs</th>\n",
       "      <th>Inhib</th>\n",
       "      <th>Inhib_mass</th>\n",
       "    </tr>\n",
       "  </thead>\n",
       "  <tbody>\n",
       "    <tr>\n",
       "      <th>0</th>\n",
       "      <td>1aq1</td>\n",
       "      <td>human cyclin dependent kinase 2 complexed with...</td>\n",
       "      <td>1997-11-12</td>\n",
       "      <td>1</td>\n",
       "      <td>A</td>\n",
       "      <td>2.00</td>\n",
       "      <td>298.0</td>\n",
       "      <td>92.953020</td>\n",
       "      <td>2.0</td>\n",
       "      <td>[8, 13]</td>\n",
       "      <td>[[36, 43], [149, 161]]</td>\n",
       "      <td>1.0</td>\n",
       "      <td>['STU']</td>\n",
       "      <td>STU</td>\n",
       "      <td>440.0</td>\n",
       "    </tr>\n",
       "    <tr>\n",
       "      <th>1</th>\n",
       "      <td>1b38</td>\n",
       "      <td>human cyclin-dependent kinase 2</td>\n",
       "      <td>1998-12-23</td>\n",
       "      <td>1</td>\n",
       "      <td>A</td>\n",
       "      <td>2.00</td>\n",
       "      <td>298.0</td>\n",
       "      <td>97.315436</td>\n",
       "      <td>1.0</td>\n",
       "      <td>[8]</td>\n",
       "      <td>[[36, 43]]</td>\n",
       "      <td>3.0</td>\n",
       "      <td>['ACE', 'ATP', 'MG']</td>\n",
       "      <td>ATP</td>\n",
       "      <td>398.0</td>\n",
       "    </tr>\n",
       "    <tr>\n",
       "      <th>2</th>\n",
       "      <td>1b39</td>\n",
       "      <td>human cyclin-dependent kinase 2 phosphorylated...</td>\n",
       "      <td>1998-12-23</td>\n",
       "      <td>1</td>\n",
       "      <td>A</td>\n",
       "      <td>2.10</td>\n",
       "      <td>298.0</td>\n",
       "      <td>97.315436</td>\n",
       "      <td>1.0</td>\n",
       "      <td>[8]</td>\n",
       "      <td>[[36, 43]]</td>\n",
       "      <td>3.0</td>\n",
       "      <td>['ACE', 'ATP', 'MG']</td>\n",
       "      <td>ATP</td>\n",
       "      <td>398.0</td>\n",
       "    </tr>\n",
       "    <tr>\n",
       "      <th>3</th>\n",
       "      <td>1buh</td>\n",
       "      <td>crystal structure of the human cdk2 kinase com...</td>\n",
       "      <td>1998-09-09</td>\n",
       "      <td>2</td>\n",
       "      <td>A</td>\n",
       "      <td>2.60</td>\n",
       "      <td>298.0</td>\n",
       "      <td>96.308725</td>\n",
       "      <td>2.0</td>\n",
       "      <td>[7, 4]</td>\n",
       "      <td>[[40, 46], [295, 298]]</td>\n",
       "      <td>0.0</td>\n",
       "      <td>[]</td>\n",
       "      <td>None</td>\n",
       "      <td>NaN</td>\n",
       "    </tr>\n",
       "    <tr>\n",
       "      <th>4</th>\n",
       "      <td>1ckp</td>\n",
       "      <td>human cyclin dependent kinase 2 complexed with...</td>\n",
       "      <td>1999-01-13</td>\n",
       "      <td>1</td>\n",
       "      <td>A</td>\n",
       "      <td>2.05</td>\n",
       "      <td>298.0</td>\n",
       "      <td>93.624161</td>\n",
       "      <td>2.0</td>\n",
       "      <td>[8, 11]</td>\n",
       "      <td>[[36, 43], [153, 163]]</td>\n",
       "      <td>2.0</td>\n",
       "      <td>['EDO', 'PVB']</td>\n",
       "      <td>PVB</td>\n",
       "      <td>214.0</td>\n",
       "    </tr>\n",
       "    <tr>\n",
       "      <th>5</th>\n",
       "      <td>1di8</td>\n",
       "      <td>the structure of cyclin-dependent kinase 2 (cd...</td>\n",
       "      <td>2000-11-29</td>\n",
       "      <td>1</td>\n",
       "      <td>A</td>\n",
       "      <td>2.20</td>\n",
       "      <td>298.0</td>\n",
       "      <td>94.966443</td>\n",
       "      <td>2.0</td>\n",
       "      <td>[6, 9]</td>\n",
       "      <td>[[37, 42], [153, 161]]</td>\n",
       "      <td>1.0</td>\n",
       "      <td>['DTQ']</td>\n",
       "      <td>DTQ</td>\n",
       "      <td>282.0</td>\n",
       "    </tr>\n",
       "    <tr>\n",
       "      <th>6</th>\n",
       "      <td>1dm2</td>\n",
       "      <td>human cyclin-dependent kinase 2 complexed with...</td>\n",
       "      <td>2000-05-31</td>\n",
       "      <td>1</td>\n",
       "      <td>A</td>\n",
       "      <td>2.10</td>\n",
       "      <td>298.0</td>\n",
       "      <td>91.946309</td>\n",
       "      <td>2.0</td>\n",
       "      <td>[9, 15]</td>\n",
       "      <td>[[36, 44], [149, 163]]</td>\n",
       "      <td>2.0</td>\n",
       "      <td>['EDO', 'HMD']</td>\n",
       "      <td>HMD</td>\n",
       "      <td>234.0</td>\n",
       "    </tr>\n",
       "    <tr>\n",
       "      <th>7</th>\n",
       "      <td>1e1v</td>\n",
       "      <td>human cyclin dependent kinase 2 complexed with...</td>\n",
       "      <td>2001-05-10</td>\n",
       "      <td>1</td>\n",
       "      <td>A</td>\n",
       "      <td>1.95</td>\n",
       "      <td>298.0</td>\n",
       "      <td>97.315436</td>\n",
       "      <td>1.0</td>\n",
       "      <td>[8]</td>\n",
       "      <td>[[36, 43]]</td>\n",
       "      <td>2.0</td>\n",
       "      <td>['ACE', 'CMG']</td>\n",
       "      <td>CMG</td>\n",
       "      <td>230.0</td>\n",
       "    </tr>\n",
       "    <tr>\n",
       "      <th>8</th>\n",
       "      <td>1e1x</td>\n",
       "      <td>human cyclin dependent kinase 2 complexed with...</td>\n",
       "      <td>2001-05-10</td>\n",
       "      <td>1</td>\n",
       "      <td>A</td>\n",
       "      <td>1.85</td>\n",
       "      <td>298.0</td>\n",
       "      <td>97.315436</td>\n",
       "      <td>1.0</td>\n",
       "      <td>[8]</td>\n",
       "      <td>[[36, 43]]</td>\n",
       "      <td>2.0</td>\n",
       "      <td>['ACE', 'NW1']</td>\n",
       "      <td>NW1</td>\n",
       "      <td>234.0</td>\n",
       "    </tr>\n",
       "    <tr>\n",
       "      <th>9</th>\n",
       "      <td>1e9h</td>\n",
       "      <td>thr 160 phosphorylated cdk2 - human cyclin a3 ...</td>\n",
       "      <td>2001-10-11</td>\n",
       "      <td>2</td>\n",
       "      <td>A</td>\n",
       "      <td>2.50</td>\n",
       "      <td>295.0</td>\n",
       "      <td>99.328859</td>\n",
       "      <td>1.0</td>\n",
       "      <td>[2]</td>\n",
       "      <td>[[296, 297]]</td>\n",
       "      <td>2.0</td>\n",
       "      <td>['INR', 'TPO']</td>\n",
       "      <td>INR</td>\n",
       "      <td>332.0</td>\n",
       "    </tr>\n",
       "    <tr>\n",
       "      <th>10</th>\n",
       "      <td>1f5q</td>\n",
       "      <td>crystal structure of murine gamma herpesvirus ...</td>\n",
       "      <td>2000-12-27</td>\n",
       "      <td>2</td>\n",
       "      <td>A</td>\n",
       "      <td>2.50</td>\n",
       "      <td>298.0</td>\n",
       "      <td>99.328859</td>\n",
       "      <td>1.0</td>\n",
       "      <td>[2]</td>\n",
       "      <td>[[10, 11]]</td>\n",
       "      <td>1.0</td>\n",
       "      <td>['CL']</td>\n",
       "      <td>TYR</td>\n",
       "      <td>163.0</td>\n",
       "    </tr>\n",
       "    <tr>\n",
       "      <th>11</th>\n",
       "      <td>1fin</td>\n",
       "      <td>cyclin a-cyclin-dependent kinase 2 complex</td>\n",
       "      <td>1997-01-27</td>\n",
       "      <td>2</td>\n",
       "      <td>A</td>\n",
       "      <td>2.30</td>\n",
       "      <td>298.0</td>\n",
       "      <td>100.000000</td>\n",
       "      <td>0.0</td>\n",
       "      <td>[]</td>\n",
       "      <td>[]</td>\n",
       "      <td>1.0</td>\n",
       "      <td>['ATP']</td>\n",
       "      <td>ATP</td>\n",
       "      <td>398.0</td>\n",
       "    </tr>\n",
       "    <tr>\n",
       "      <th>12</th>\n",
       "      <td>1fq1</td>\n",
       "      <td>crystal structure of kinase associated phospha...</td>\n",
       "      <td>2001-05-09</td>\n",
       "      <td>2</td>\n",
       "      <td>B</td>\n",
       "      <td>3.00</td>\n",
       "      <td>297.0</td>\n",
       "      <td>99.328859</td>\n",
       "      <td>1.0</td>\n",
       "      <td>[2]</td>\n",
       "      <td>[[296, 297]]</td>\n",
       "      <td>3.0</td>\n",
       "      <td>['ATP', 'MG', 'TPO']</td>\n",
       "      <td>ATP</td>\n",
       "      <td>398.0</td>\n",
       "    </tr>\n",
       "    <tr>\n",
       "      <th>13</th>\n",
       "      <td>1fvt</td>\n",
       "      <td>the structure of cyclin-dependent kinase 2 (cd...</td>\n",
       "      <td>2001-01-17</td>\n",
       "      <td>1</td>\n",
       "      <td>A</td>\n",
       "      <td>2.20</td>\n",
       "      <td>298.0</td>\n",
       "      <td>94.630872</td>\n",
       "      <td>2.0</td>\n",
       "      <td>[7, 9]</td>\n",
       "      <td>[[37, 43], [154, 162]]</td>\n",
       "      <td>1.0</td>\n",
       "      <td>['106']</td>\n",
       "      <td>106</td>\n",
       "      <td>304.0</td>\n",
       "    </tr>\n",
       "    <tr>\n",
       "      <th>14</th>\n",
       "      <td>1fvv</td>\n",
       "      <td>the structure of cdk2/cyclin a in complex with...</td>\n",
       "      <td>2001-01-17</td>\n",
       "      <td>2</td>\n",
       "      <td>A</td>\n",
       "      <td>2.80</td>\n",
       "      <td>298.0</td>\n",
       "      <td>100.000000</td>\n",
       "      <td>0.0</td>\n",
       "      <td>[]</td>\n",
       "      <td>[]</td>\n",
       "      <td>1.0</td>\n",
       "      <td>['107']</td>\n",
       "      <td>107</td>\n",
       "      <td>434.0</td>\n",
       "    </tr>\n",
       "    <tr>\n",
       "      <th>15</th>\n",
       "      <td>1g5s</td>\n",
       "      <td>crystal structure of human cyclin dependent ki...</td>\n",
       "      <td>2001-11-02</td>\n",
       "      <td>1</td>\n",
       "      <td>A</td>\n",
       "      <td>2.61</td>\n",
       "      <td>298.0</td>\n",
       "      <td>92.281879</td>\n",
       "      <td>2.0</td>\n",
       "      <td>[9, 14]</td>\n",
       "      <td>[[37, 45], [149, 162]]</td>\n",
       "      <td>1.0</td>\n",
       "      <td>['I17']</td>\n",
       "      <td>I17</td>\n",
       "      <td>374.0</td>\n",
       "    </tr>\n",
       "    <tr>\n",
       "      <th>16</th>\n",
       "      <td>1gih</td>\n",
       "      <td>human cyclin dependent kinase 2 complexed with...</td>\n",
       "      <td>2002-02-06</td>\n",
       "      <td>1</td>\n",
       "      <td>A</td>\n",
       "      <td>2.80</td>\n",
       "      <td>298.0</td>\n",
       "      <td>92.617450</td>\n",
       "      <td>2.0</td>\n",
       "      <td>[8, 14]</td>\n",
       "      <td>[[37, 44], [150, 163]]</td>\n",
       "      <td>1.0</td>\n",
       "      <td>['1PU']</td>\n",
       "      <td>1PU</td>\n",
       "      <td>292.0</td>\n",
       "    </tr>\n",
       "    <tr>\n",
       "      <th>17</th>\n",
       "      <td>1gii</td>\n",
       "      <td>human cyclin dependent kinase 2 complexed with...</td>\n",
       "      <td>2002-02-06</td>\n",
       "      <td>1</td>\n",
       "      <td>A</td>\n",
       "      <td>2.00</td>\n",
       "      <td>295.0</td>\n",
       "      <td>93.624161</td>\n",
       "      <td>2.0</td>\n",
       "      <td>[8, 11]</td>\n",
       "      <td>[[36, 43], [153, 163]]</td>\n",
       "      <td>1.0</td>\n",
       "      <td>['1PU']</td>\n",
       "      <td>1PU</td>\n",
       "      <td>292.0</td>\n",
       "    </tr>\n",
       "    <tr>\n",
       "      <th>18</th>\n",
       "      <td>1gij</td>\n",
       "      <td>human cyclin dependent kinase 2 complexed with...</td>\n",
       "      <td>2002-02-06</td>\n",
       "      <td>1</td>\n",
       "      <td>A</td>\n",
       "      <td>2.20</td>\n",
       "      <td>295.0</td>\n",
       "      <td>91.610738</td>\n",
       "      <td>2.0</td>\n",
       "      <td>[11, 14]</td>\n",
       "      <td>[[37, 47], [150, 163]]</td>\n",
       "      <td>1.0</td>\n",
       "      <td>['2PU']</td>\n",
       "      <td>2PU</td>\n",
       "      <td>344.0</td>\n",
       "    </tr>\n",
       "    <tr>\n",
       "      <th>19</th>\n",
       "      <td>1gy3</td>\n",
       "      <td>pcdk2/cyclin a in complex with mgadp, nitrate ...</td>\n",
       "      <td>2002-04-29</td>\n",
       "      <td>3</td>\n",
       "      <td>A</td>\n",
       "      <td>2.70</td>\n",
       "      <td>297.0</td>\n",
       "      <td>99.328859</td>\n",
       "      <td>1.0</td>\n",
       "      <td>[2]</td>\n",
       "      <td>[[296, 297]]</td>\n",
       "      <td>5.0</td>\n",
       "      <td>['ATP', 'GOL', 'MG', 'NO3', 'TPO']</td>\n",
       "      <td>ATP</td>\n",
       "      <td>350.0</td>\n",
       "    </tr>\n",
       "    <tr>\n",
       "      <th>20</th>\n",
       "      <td>1gz8</td>\n",
       "      <td>human cyclin dependent kinase 2 complexed with...</td>\n",
       "      <td>2003-06-12</td>\n",
       "      <td>1</td>\n",
       "      <td>A</td>\n",
       "      <td>1.30</td>\n",
       "      <td>297.0</td>\n",
       "      <td>97.315436</td>\n",
       "      <td>2.0</td>\n",
       "      <td>[7, 1]</td>\n",
       "      <td>[[37, 43], [177, 177]]</td>\n",
       "      <td>3.0</td>\n",
       "      <td>['ACE', 'CSD', 'MBP']</td>\n",
       "      <td>MBP</td>\n",
       "      <td>222.0</td>\n",
       "    </tr>\n",
       "    <tr>\n",
       "      <th>21</th>\n",
       "      <td>1h00</td>\n",
       "      <td>cdk2 in complex with a disubstituted 4, 6-bis ...</td>\n",
       "      <td>2003-07-11</td>\n",
       "      <td>1</td>\n",
       "      <td>A</td>\n",
       "      <td>1.60</td>\n",
       "      <td>298.0</td>\n",
       "      <td>93.288591</td>\n",
       "      <td>3.0</td>\n",
       "      <td>[2, 8, 10]</td>\n",
       "      <td>[[13, 14], [36, 43], [152, 161]]</td>\n",
       "      <td>3.0</td>\n",
       "      <td>['ACE', 'FAP', 'FCP']</td>\n",
       "      <td>FAP</td>\n",
       "      <td>354.0</td>\n",
       "    </tr>\n",
       "    <tr>\n",
       "      <th>22</th>\n",
       "      <td>1h01</td>\n",
       "      <td>cdk2 in complex with a disubstituted 2, 4-bis ...</td>\n",
       "      <td>2003-07-11</td>\n",
       "      <td>1</td>\n",
       "      <td>A</td>\n",
       "      <td>1.79</td>\n",
       "      <td>297.0</td>\n",
       "      <td>95.973154</td>\n",
       "      <td>2.0</td>\n",
       "      <td>[10, 2]</td>\n",
       "      <td>[[34, 43], [296, 297]]</td>\n",
       "      <td>4.0</td>\n",
       "      <td>['FAL', 'FBL', 'GOL', 'KCX']</td>\n",
       "      <td>FAL</td>\n",
       "      <td>354.0</td>\n",
       "    </tr>\n",
       "    <tr>\n",
       "      <th>23</th>\n",
       "      <td>1h07</td>\n",
       "      <td>cdk2 in complex with a disubstituted 4, 6-bis ...</td>\n",
       "      <td>2003-07-11</td>\n",
       "      <td>1</td>\n",
       "      <td>A</td>\n",
       "      <td>1.85</td>\n",
       "      <td>298.0</td>\n",
       "      <td>95.637584</td>\n",
       "      <td>3.0</td>\n",
       "      <td>[7, 4, 2]</td>\n",
       "      <td>[[37, 43], [151, 154], [296, 297]]</td>\n",
       "      <td>3.0</td>\n",
       "      <td>['ACE', 'MFP', 'MFQ']</td>\n",
       "      <td>MFP</td>\n",
       "      <td>404.0</td>\n",
       "    </tr>\n",
       "    <tr>\n",
       "      <th>24</th>\n",
       "      <td>1h08</td>\n",
       "      <td>cdk2 in complex with a disubstituted 2, 4-bis ...</td>\n",
       "      <td>2003-07-11</td>\n",
       "      <td>1</td>\n",
       "      <td>A</td>\n",
       "      <td>1.80</td>\n",
       "      <td>298.0</td>\n",
       "      <td>94.966443</td>\n",
       "      <td>2.0</td>\n",
       "      <td>[8, 7]</td>\n",
       "      <td>[[36, 43], [154, 160]]</td>\n",
       "      <td>4.0</td>\n",
       "      <td>['ACE', 'BWP', 'BYP', 'GOL']</td>\n",
       "      <td>BYP</td>\n",
       "      <td>354.0</td>\n",
       "    </tr>\n",
       "    <tr>\n",
       "      <th>25</th>\n",
       "      <td>1h0v</td>\n",
       "      <td>human cyclin dependent protein kinase 2 in com...</td>\n",
       "      <td>2003-06-27</td>\n",
       "      <td>1</td>\n",
       "      <td>A</td>\n",
       "      <td>1.90</td>\n",
       "      <td>298.0</td>\n",
       "      <td>96.644295</td>\n",
       "      <td>2.0</td>\n",
       "      <td>[7, 3]</td>\n",
       "      <td>[[37, 43], [159, 161]]</td>\n",
       "      <td>1.0</td>\n",
       "      <td>['UN4']</td>\n",
       "      <td>UN4</td>\n",
       "      <td>236.0</td>\n",
       "    </tr>\n",
       "    <tr>\n",
       "      <th>26</th>\n",
       "      <td>1h0w</td>\n",
       "      <td>human cyclin dependent protein kinase 2 in com...</td>\n",
       "      <td>2003-06-27</td>\n",
       "      <td>1</td>\n",
       "      <td>A</td>\n",
       "      <td>2.10</td>\n",
       "      <td>298.0</td>\n",
       "      <td>94.966443</td>\n",
       "      <td>2.0</td>\n",
       "      <td>[7, 8]</td>\n",
       "      <td>[[37, 43], [156, 163]]</td>\n",
       "      <td>1.0</td>\n",
       "      <td>['207']</td>\n",
       "      <td>207</td>\n",
       "      <td>228.0</td>\n",
       "    </tr>\n",
       "    <tr>\n",
       "      <th>27</th>\n",
       "      <td>1h1p</td>\n",
       "      <td>structure of human thr160-phospho cdk2/cyclin ...</td>\n",
       "      <td>2002-09-19</td>\n",
       "      <td>2</td>\n",
       "      <td>A</td>\n",
       "      <td>2.10</td>\n",
       "      <td>297.0</td>\n",
       "      <td>99.664430</td>\n",
       "      <td>1.0</td>\n",
       "      <td>[2]</td>\n",
       "      <td>[[297, 298]]</td>\n",
       "      <td>2.0</td>\n",
       "      <td>['CMG', 'TPO']</td>\n",
       "      <td>CMG</td>\n",
       "      <td>230.0</td>\n",
       "    </tr>\n",
       "    <tr>\n",
       "      <th>28</th>\n",
       "      <td>1h1q</td>\n",
       "      <td>structure of human thr160-phospho cdk2/cyclin ...</td>\n",
       "      <td>2002-09-19</td>\n",
       "      <td>2</td>\n",
       "      <td>A</td>\n",
       "      <td>2.50</td>\n",
       "      <td>297.0</td>\n",
       "      <td>99.664430</td>\n",
       "      <td>1.0</td>\n",
       "      <td>[2]</td>\n",
       "      <td>[[297, 298]]</td>\n",
       "      <td>2.0</td>\n",
       "      <td>['2A6', 'TPO']</td>\n",
       "      <td>2A6</td>\n",
       "      <td>302.0</td>\n",
       "    </tr>\n",
       "    <tr>\n",
       "      <th>29</th>\n",
       "      <td>1h1r</td>\n",
       "      <td>structure of human thr160-phospho cdk2/cyclin ...</td>\n",
       "      <td>2002-09-19</td>\n",
       "      <td>2</td>\n",
       "      <td>A</td>\n",
       "      <td>2.00</td>\n",
       "      <td>297.0</td>\n",
       "      <td>99.664430</td>\n",
       "      <td>1.0</td>\n",
       "      <td>[2]</td>\n",
       "      <td>[[297, 298]]</td>\n",
       "      <td>2.0</td>\n",
       "      <td>['6CP', 'TPO']</td>\n",
       "      <td>6CP</td>\n",
       "      <td>302.0</td>\n",
       "    </tr>\n",
       "    <tr>\n",
       "      <th>...</th>\n",
       "      <td>...</td>\n",
       "      <td>...</td>\n",
       "      <td>...</td>\n",
       "      <td>...</td>\n",
       "      <td>...</td>\n",
       "      <td>...</td>\n",
       "      <td>...</td>\n",
       "      <td>...</td>\n",
       "      <td>...</td>\n",
       "      <td>...</td>\n",
       "      <td>...</td>\n",
       "      <td>...</td>\n",
       "      <td>...</td>\n",
       "      <td>...</td>\n",
       "      <td>...</td>\n",
       "    </tr>\n",
       "    <tr>\n",
       "      <th>355</th>\n",
       "      <td>5anj</td>\n",
       "      <td>crystal structure of cdk2 in complex with n-(9...</td>\n",
       "      <td>2016-04-13</td>\n",
       "      <td>1</td>\n",
       "      <td>A</td>\n",
       "      <td>1.60</td>\n",
       "      <td>298.0</td>\n",
       "      <td>97.651007</td>\n",
       "      <td>2.0</td>\n",
       "      <td>[2, 5]</td>\n",
       "      <td>[[1, 2], [158, 162]]</td>\n",
       "      <td>1.0</td>\n",
       "      <td>['ZXC']</td>\n",
       "      <td>ZXC</td>\n",
       "      <td>238.0</td>\n",
       "    </tr>\n",
       "    <tr>\n",
       "      <th>356</th>\n",
       "      <td>5ank</td>\n",
       "      <td>crystal structure of cdk2 in complex with 2,4,...</td>\n",
       "      <td>2016-04-13</td>\n",
       "      <td>1</td>\n",
       "      <td>A</td>\n",
       "      <td>1.90</td>\n",
       "      <td>298.0</td>\n",
       "      <td>91.610738</td>\n",
       "      <td>3.0</td>\n",
       "      <td>[9, 4, 12]</td>\n",
       "      <td>[[37, 45], [72, 75], [153, 164]]</td>\n",
       "      <td>1.0</td>\n",
       "      <td>['RJI']</td>\n",
       "      <td>RJI</td>\n",
       "      <td>238.0</td>\n",
       "    </tr>\n",
       "    <tr>\n",
       "      <th>357</th>\n",
       "      <td>5ano</td>\n",
       "      <td>crystal structure of cdk2 processed with the c...</td>\n",
       "      <td>2016-04-13</td>\n",
       "      <td>1</td>\n",
       "      <td>A</td>\n",
       "      <td>1.70</td>\n",
       "      <td>298.0</td>\n",
       "      <td>92.953020</td>\n",
       "      <td>2.0</td>\n",
       "      <td>[10, 11]</td>\n",
       "      <td>[[36, 45], [152, 162]]</td>\n",
       "      <td>0.0</td>\n",
       "      <td>[]</td>\n",
       "      <td>None</td>\n",
       "      <td>NaN</td>\n",
       "    </tr>\n",
       "    <tr>\n",
       "      <th>358</th>\n",
       "      <td>5cyi</td>\n",
       "      <td>cdk2/cyclin a covalent complex with 6-(cyclohe...</td>\n",
       "      <td>2015-09-16</td>\n",
       "      <td>2</td>\n",
       "      <td>A</td>\n",
       "      <td>2.00</td>\n",
       "      <td>297.0</td>\n",
       "      <td>100.335570</td>\n",
       "      <td>0.0</td>\n",
       "      <td>[]</td>\n",
       "      <td>[]</td>\n",
       "      <td>2.0</td>\n",
       "      <td>['55S', 'TPO']</td>\n",
       "      <td>55S</td>\n",
       "      <td>390.0</td>\n",
       "    </tr>\n",
       "    <tr>\n",
       "      <th>359</th>\n",
       "      <td>5d1j</td>\n",
       "      <td>crystal structure of cyclin-dependent kinase 2...</td>\n",
       "      <td>2015-08-12</td>\n",
       "      <td>1</td>\n",
       "      <td>A</td>\n",
       "      <td>1.80</td>\n",
       "      <td>298.0</td>\n",
       "      <td>88.926174</td>\n",
       "      <td>3.0</td>\n",
       "      <td>[2, 14, 17]</td>\n",
       "      <td>[[13, 14], [35, 48], [147, 163]]</td>\n",
       "      <td>1.0</td>\n",
       "      <td>['56H']</td>\n",
       "      <td>56H</td>\n",
       "      <td>356.0</td>\n",
       "    </tr>\n",
       "    <tr>\n",
       "      <th>360</th>\n",
       "      <td>5fp5</td>\n",
       "      <td>structure of cyclin-dependent kinase 2 with sm...</td>\n",
       "      <td>2015-12-09</td>\n",
       "      <td>1</td>\n",
       "      <td>A</td>\n",
       "      <td>2.16</td>\n",
       "      <td>298.0</td>\n",
       "      <td>88.590604</td>\n",
       "      <td>5.0</td>\n",
       "      <td>[1, 11, 3, 16, 3]</td>\n",
       "      <td>[[14, 14], [36, 46], [73, 75], [149, 164], [29...</td>\n",
       "      <td>2.0</td>\n",
       "      <td>['1Y6', 'ACE']</td>\n",
       "      <td>TYR</td>\n",
       "      <td>163.0</td>\n",
       "    </tr>\n",
       "    <tr>\n",
       "      <th>361</th>\n",
       "      <td>5fp6</td>\n",
       "      <td>structure of cyclin-dependent kinase 2 with sm...</td>\n",
       "      <td>2015-12-23</td>\n",
       "      <td>1</td>\n",
       "      <td>A</td>\n",
       "      <td>1.85</td>\n",
       "      <td>298.0</td>\n",
       "      <td>93.288591</td>\n",
       "      <td>2.0</td>\n",
       "      <td>[16, 4]</td>\n",
       "      <td>[[148, 163], [295, 298]]</td>\n",
       "      <td>1.0</td>\n",
       "      <td>['MFZ']</td>\n",
       "      <td>MFZ</td>\n",
       "      <td>169.0</td>\n",
       "    </tr>\n",
       "    <tr>\n",
       "      <th>362</th>\n",
       "      <td>5iev</td>\n",
       "      <td>crystal structure of bay 1000394 (roniciclib) ...</td>\n",
       "      <td>2016-04-27</td>\n",
       "      <td>1</td>\n",
       "      <td>A</td>\n",
       "      <td>2.03</td>\n",
       "      <td>298.0</td>\n",
       "      <td>95.302013</td>\n",
       "      <td>2.0</td>\n",
       "      <td>[5, 9]</td>\n",
       "      <td>[[38, 42], [154, 162]]</td>\n",
       "      <td>1.0</td>\n",
       "      <td>['R0N']</td>\n",
       "      <td>R0N</td>\n",
       "      <td>352.0</td>\n",
       "    </tr>\n",
       "    <tr>\n",
       "      <th>363</th>\n",
       "      <td>5iex</td>\n",
       "      <td>crystal structure of (r,s)-s-{4-[(5-bromo-4-{[...</td>\n",
       "      <td>2016-04-27</td>\n",
       "      <td>1</td>\n",
       "      <td>A</td>\n",
       "      <td>2.03</td>\n",
       "      <td>298.0</td>\n",
       "      <td>95.637584</td>\n",
       "      <td>2.0</td>\n",
       "      <td>[5, 8]</td>\n",
       "      <td>[[38, 42], [156, 163]]</td>\n",
       "      <td>1.0</td>\n",
       "      <td>['6AF']</td>\n",
       "      <td>6AF</td>\n",
       "      <td>340.0</td>\n",
       "    </tr>\n",
       "    <tr>\n",
       "      <th>364</th>\n",
       "      <td>5iey</td>\n",
       "      <td>crystal structure of a cdk inhibitor bound to ...</td>\n",
       "      <td>2016-04-27</td>\n",
       "      <td>1</td>\n",
       "      <td>A</td>\n",
       "      <td>1.66</td>\n",
       "      <td>298.0</td>\n",
       "      <td>95.973154</td>\n",
       "      <td>2.0</td>\n",
       "      <td>[5, 7]</td>\n",
       "      <td>[[38, 42], [155, 161]]</td>\n",
       "      <td>1.0</td>\n",
       "      <td>['6AE']</td>\n",
       "      <td>6AE</td>\n",
       "      <td>318.0</td>\n",
       "    </tr>\n",
       "    <tr>\n",
       "      <th>365</th>\n",
       "      <td>5if1</td>\n",
       "      <td>crystal structure apo cdk2/cyclin a</td>\n",
       "      <td>2016-04-27</td>\n",
       "      <td>2</td>\n",
       "      <td>A</td>\n",
       "      <td>2.61</td>\n",
       "      <td>298.0</td>\n",
       "      <td>100.000000</td>\n",
       "      <td>0.0</td>\n",
       "      <td>[]</td>\n",
       "      <td>[]</td>\n",
       "      <td>0.0</td>\n",
       "      <td>[]</td>\n",
       "      <td>None</td>\n",
       "      <td>NaN</td>\n",
       "    </tr>\n",
       "    <tr>\n",
       "      <th>366</th>\n",
       "      <td>5jq5</td>\n",
       "      <td>crystal structure of cdk2 in complex with inhi...</td>\n",
       "      <td>2017-02-08</td>\n",
       "      <td>1</td>\n",
       "      <td>A</td>\n",
       "      <td>1.94</td>\n",
       "      <td>298.0</td>\n",
       "      <td>96.308725</td>\n",
       "      <td>2.0</td>\n",
       "      <td>[2, 9]</td>\n",
       "      <td>[[1, 2], [37, 45]]</td>\n",
       "      <td>2.0</td>\n",
       "      <td>['ACT', 'I74']</td>\n",
       "      <td>I74</td>\n",
       "      <td>364.0</td>\n",
       "    </tr>\n",
       "    <tr>\n",
       "      <th>367</th>\n",
       "      <td>5jq8</td>\n",
       "      <td>crystal structure of cdk2 in complex with inhi...</td>\n",
       "      <td>2017-02-08</td>\n",
       "      <td>1</td>\n",
       "      <td>A</td>\n",
       "      <td>1.94</td>\n",
       "      <td>298.0</td>\n",
       "      <td>93.288591</td>\n",
       "      <td>3.0</td>\n",
       "      <td>[2, 9, 9]</td>\n",
       "      <td>[[1, 2], [36, 44], [153, 161]]</td>\n",
       "      <td>1.0</td>\n",
       "      <td>['I73']</td>\n",
       "      <td>I73</td>\n",
       "      <td>364.0</td>\n",
       "    </tr>\n",
       "    <tr>\n",
       "      <th>368</th>\n",
       "      <td>5k4j</td>\n",
       "      <td>crystal structure of cdk2 in complex with comp...</td>\n",
       "      <td>2016-07-06</td>\n",
       "      <td>1</td>\n",
       "      <td>A</td>\n",
       "      <td>1.60</td>\n",
       "      <td>298.0</td>\n",
       "      <td>94.630872</td>\n",
       "      <td>2.0</td>\n",
       "      <td>[7, 10]</td>\n",
       "      <td>[[38, 44], [153, 162]]</td>\n",
       "      <td>1.0</td>\n",
       "      <td>['6QB']</td>\n",
       "      <td>6QB</td>\n",
       "      <td>368.0</td>\n",
       "    </tr>\n",
       "    <tr>\n",
       "      <th>369</th>\n",
       "      <td>5l2w</td>\n",
       "      <td>the x-ray co-crystal structure of human cdk2/c...</td>\n",
       "      <td>2016-08-24</td>\n",
       "      <td>2</td>\n",
       "      <td>A</td>\n",
       "      <td>2.80</td>\n",
       "      <td>297.0</td>\n",
       "      <td>100.000000</td>\n",
       "      <td>1.0</td>\n",
       "      <td>[1]</td>\n",
       "      <td>[[299, 299]]</td>\n",
       "      <td>3.0</td>\n",
       "      <td>['1QK', 'GOL', 'TPO']</td>\n",
       "      <td>1QK</td>\n",
       "      <td>368.0</td>\n",
       "    </tr>\n",
       "    <tr>\n",
       "      <th>370</th>\n",
       "      <td>5lmk</td>\n",
       "      <td>structure of phopsho-cdk2-cyclin a in complex ...</td>\n",
       "      <td>2017-01-25</td>\n",
       "      <td>3</td>\n",
       "      <td>A</td>\n",
       "      <td>2.40</td>\n",
       "      <td>297.0</td>\n",
       "      <td>99.664430</td>\n",
       "      <td>1.0</td>\n",
       "      <td>[2]</td>\n",
       "      <td>[[40, 41]]</td>\n",
       "      <td>4.0</td>\n",
       "      <td>['6ZK', 'MG', 'SGM', 'TPO']</td>\n",
       "      <td>6ZK</td>\n",
       "      <td>400.0</td>\n",
       "    </tr>\n",
       "    <tr>\n",
       "      <th>371</th>\n",
       "      <td>5nev</td>\n",
       "      <td>cdk2/cyclin a in complex with compound 73</td>\n",
       "      <td>2017-03-29</td>\n",
       "      <td>2</td>\n",
       "      <td>A</td>\n",
       "      <td>2.97</td>\n",
       "      <td>297.0</td>\n",
       "      <td>99.328859</td>\n",
       "      <td>1.0</td>\n",
       "      <td>[3]</td>\n",
       "      <td>[[297, 299]]</td>\n",
       "      <td>2.0</td>\n",
       "      <td>['72L', 'TPO']</td>\n",
       "      <td>72L</td>\n",
       "      <td>424.0</td>\n",
       "    </tr>\n",
       "    <tr>\n",
       "      <th>372</th>\n",
       "      <td>5oo0</td>\n",
       "      <td>cdk2(wt) covalent adduct with d28 at c177</td>\n",
       "      <td>2018-03-14</td>\n",
       "      <td>1</td>\n",
       "      <td>A</td>\n",
       "      <td>1.60</td>\n",
       "      <td>298.0</td>\n",
       "      <td>96.644295</td>\n",
       "      <td>3.0</td>\n",
       "      <td>[1, 7, 2]</td>\n",
       "      <td>[[1, 1], [37, 43], [296, 297]]</td>\n",
       "      <td>1.0</td>\n",
       "      <td>['9YZ']</td>\n",
       "      <td>TYR</td>\n",
       "      <td>163.0</td>\n",
       "    </tr>\n",
       "    <tr>\n",
       "      <th>373</th>\n",
       "      <td>5oo1</td>\n",
       "      <td>cdk2(f80c, c177a) covalent adduct with c37 at ...</td>\n",
       "      <td>2018-08-29</td>\n",
       "      <td>1</td>\n",
       "      <td>A</td>\n",
       "      <td>2.00</td>\n",
       "      <td>296.0</td>\n",
       "      <td>93.288591</td>\n",
       "      <td>2.0</td>\n",
       "      <td>[3, 17]</td>\n",
       "      <td>[[1, 3], [147, 163]]</td>\n",
       "      <td>1.0</td>\n",
       "      <td>['9Z2']</td>\n",
       "      <td>9Z2</td>\n",
       "      <td>214.0</td>\n",
       "    </tr>\n",
       "    <tr>\n",
       "      <th>374</th>\n",
       "      <td>5oo3</td>\n",
       "      <td>cdk2(f80c, c177a) with covalent ligand at f80c</td>\n",
       "      <td>2018-08-29</td>\n",
       "      <td>1</td>\n",
       "      <td>A</td>\n",
       "      <td>1.73</td>\n",
       "      <td>296.0</td>\n",
       "      <td>95.973154</td>\n",
       "      <td>3.0</td>\n",
       "      <td>[1, 7, 4]</td>\n",
       "      <td>[[1, 1], [38, 44], [295, 298]]</td>\n",
       "      <td>1.0</td>\n",
       "      <td>['9ZB']</td>\n",
       "      <td>9ZB</td>\n",
       "      <td>200.0</td>\n",
       "    </tr>\n",
       "    <tr>\n",
       "      <th>375</th>\n",
       "      <td>5osj</td>\n",
       "      <td>cdk2(wt) with covalent adduct at c177</td>\n",
       "      <td>2018-03-14</td>\n",
       "      <td>1</td>\n",
       "      <td>A</td>\n",
       "      <td>1.83</td>\n",
       "      <td>298.0</td>\n",
       "      <td>97.986577</td>\n",
       "      <td>3.0</td>\n",
       "      <td>[1, 3, 2]</td>\n",
       "      <td>[[1, 1], [39, 41], [296, 297]]</td>\n",
       "      <td>1.0</td>\n",
       "      <td>['AAK']</td>\n",
       "      <td>TYR</td>\n",
       "      <td>163.0</td>\n",
       "    </tr>\n",
       "    <tr>\n",
       "      <th>376</th>\n",
       "      <td>5osm</td>\n",
       "      <td>cdk2(f80c, c177a) with covalent adduct at c80</td>\n",
       "      <td>2018-03-14</td>\n",
       "      <td>1</td>\n",
       "      <td>A</td>\n",
       "      <td>1.77</td>\n",
       "      <td>296.0</td>\n",
       "      <td>97.986577</td>\n",
       "      <td>2.0</td>\n",
       "      <td>[8, 2]</td>\n",
       "      <td>[[41, 48], [300, 301]]</td>\n",
       "      <td>1.0</td>\n",
       "      <td>['AEQ']</td>\n",
       "      <td>AEQ</td>\n",
       "      <td>230.0</td>\n",
       "    </tr>\n",
       "    <tr>\n",
       "      <th>377</th>\n",
       "      <td>5uq1</td>\n",
       "      <td>crystal structure of human cdk2-spy1 complex</td>\n",
       "      <td>2017-07-05</td>\n",
       "      <td>2</td>\n",
       "      <td>A</td>\n",
       "      <td>3.20</td>\n",
       "      <td>298.0</td>\n",
       "      <td>96.644295</td>\n",
       "      <td>3.0</td>\n",
       "      <td>[2, 6, 2]</td>\n",
       "      <td>[[1, 2], [22, 27], [296, 297]]</td>\n",
       "      <td>0.0</td>\n",
       "      <td>[]</td>\n",
       "      <td>None</td>\n",
       "      <td>NaN</td>\n",
       "    </tr>\n",
       "    <tr>\n",
       "      <th>378</th>\n",
       "      <td>5uq2</td>\n",
       "      <td>crystal structure of human cdk2-spy1 complex</td>\n",
       "      <td>2017-07-05</td>\n",
       "      <td>2</td>\n",
       "      <td>A</td>\n",
       "      <td>2.70</td>\n",
       "      <td>298.0</td>\n",
       "      <td>99.328859</td>\n",
       "      <td>1.0</td>\n",
       "      <td>[2]</td>\n",
       "      <td>[[296, 297]]</td>\n",
       "      <td>0.0</td>\n",
       "      <td>[]</td>\n",
       "      <td>None</td>\n",
       "      <td>NaN</td>\n",
       "    </tr>\n",
       "    <tr>\n",
       "      <th>379</th>\n",
       "      <td>6gub</td>\n",
       "      <td>cdk2/cyclina in complex with flavopiridol</td>\n",
       "      <td>2018-12-05</td>\n",
       "      <td>2</td>\n",
       "      <td>A</td>\n",
       "      <td>2.52</td>\n",
       "      <td>297.0</td>\n",
       "      <td>98.657718</td>\n",
       "      <td>2.0</td>\n",
       "      <td>[3, 2]</td>\n",
       "      <td>[[39, 41], [297, 298]]</td>\n",
       "      <td>2.0</td>\n",
       "      <td>['F9Z', 'TPO']</td>\n",
       "      <td>F9Z</td>\n",
       "      <td>346.0</td>\n",
       "    </tr>\n",
       "    <tr>\n",
       "      <th>380</th>\n",
       "      <td>6guc</td>\n",
       "      <td>cdk2/cyclina in complex with su9516</td>\n",
       "      <td>2018-12-05</td>\n",
       "      <td>2</td>\n",
       "      <td>A</td>\n",
       "      <td>2.00</td>\n",
       "      <td>297.0</td>\n",
       "      <td>97.986577</td>\n",
       "      <td>2.0</td>\n",
       "      <td>[5, 2]</td>\n",
       "      <td>[[37, 41], [297, 298]]</td>\n",
       "      <td>2.0</td>\n",
       "      <td>['SU9', 'TPO']</td>\n",
       "      <td>SU9</td>\n",
       "      <td>230.0</td>\n",
       "    </tr>\n",
       "    <tr>\n",
       "      <th>381</th>\n",
       "      <td>6gue</td>\n",
       "      <td>cdk2/cyclina in complex with azd5438</td>\n",
       "      <td>2018-12-05</td>\n",
       "      <td>3</td>\n",
       "      <td>C</td>\n",
       "      <td>1.99</td>\n",
       "      <td>297.0</td>\n",
       "      <td>96.979866</td>\n",
       "      <td>3.0</td>\n",
       "      <td>[5, 3, 2]</td>\n",
       "      <td>[[226, 230], [243, 245], [297, 298]]</td>\n",
       "      <td>2.0</td>\n",
       "      <td>['FB8', 'TPO']</td>\n",
       "      <td>FB8</td>\n",
       "      <td>350.0</td>\n",
       "    </tr>\n",
       "    <tr>\n",
       "      <th>382</th>\n",
       "      <td>6guf</td>\n",
       "      <td>cdk2/cyclina in complex with cgp74514a</td>\n",
       "      <td>2018-12-05</td>\n",
       "      <td>2</td>\n",
       "      <td>A</td>\n",
       "      <td>2.65</td>\n",
       "      <td>297.0</td>\n",
       "      <td>99.328859</td>\n",
       "      <td>1.0</td>\n",
       "      <td>[3]</td>\n",
       "      <td>[[39, 41]]</td>\n",
       "      <td>2.0</td>\n",
       "      <td>['23D', 'TPO']</td>\n",
       "      <td>23D</td>\n",
       "      <td>326.0</td>\n",
       "    </tr>\n",
       "    <tr>\n",
       "      <th>383</th>\n",
       "      <td>6guh</td>\n",
       "      <td>cdk2 in complex with azd5438</td>\n",
       "      <td>2018-12-05</td>\n",
       "      <td>1</td>\n",
       "      <td>A</td>\n",
       "      <td>1.50</td>\n",
       "      <td>298.0</td>\n",
       "      <td>95.302013</td>\n",
       "      <td>2.0</td>\n",
       "      <td>[8, 8]</td>\n",
       "      <td>[[40, 47], [151, 158]]</td>\n",
       "      <td>2.0</td>\n",
       "      <td>['EDO', 'FB8']</td>\n",
       "      <td>FB8</td>\n",
       "      <td>350.0</td>\n",
       "    </tr>\n",
       "    <tr>\n",
       "      <th>384</th>\n",
       "      <td>6guk</td>\n",
       "      <td>cdk2 in complex with cgp74514a</td>\n",
       "      <td>2018-12-05</td>\n",
       "      <td>1</td>\n",
       "      <td>A</td>\n",
       "      <td>1.30</td>\n",
       "      <td>298.0</td>\n",
       "      <td>93.288591</td>\n",
       "      <td>2.0</td>\n",
       "      <td>[10, 10]</td>\n",
       "      <td>[[37, 46], [154, 163]]</td>\n",
       "      <td>1.0</td>\n",
       "      <td>['FC8']</td>\n",
       "      <td>FC8</td>\n",
       "      <td>326.0</td>\n",
       "    </tr>\n",
       "  </tbody>\n",
       "</table>\n",
       "<p>385 rows × 15 columns</p>\n",
       "</div>"
      ],
      "text/plain": [
       "    PDB_ID                                              Title        Date  \\\n",
       "0     1aq1  human cyclin dependent kinase 2 complexed with...  1997-11-12   \n",
       "1     1b38                    human cyclin-dependent kinase 2  1998-12-23   \n",
       "2     1b39  human cyclin-dependent kinase 2 phosphorylated...  1998-12-23   \n",
       "3     1buh  crystal structure of the human cdk2 kinase com...  1998-09-09   \n",
       "4     1ckp  human cyclin dependent kinase 2 complexed with...  1999-01-13   \n",
       "5     1di8  the structure of cyclin-dependent kinase 2 (cd...  2000-11-29   \n",
       "6     1dm2  human cyclin-dependent kinase 2 complexed with...  2000-05-31   \n",
       "7     1e1v  human cyclin dependent kinase 2 complexed with...  2001-05-10   \n",
       "8     1e1x  human cyclin dependent kinase 2 complexed with...  2001-05-10   \n",
       "9     1e9h  thr 160 phosphorylated cdk2 - human cyclin a3 ...  2001-10-11   \n",
       "10    1f5q  crystal structure of murine gamma herpesvirus ...  2000-12-27   \n",
       "11    1fin         cyclin a-cyclin-dependent kinase 2 complex  1997-01-27   \n",
       "12    1fq1  crystal structure of kinase associated phospha...  2001-05-09   \n",
       "13    1fvt  the structure of cyclin-dependent kinase 2 (cd...  2001-01-17   \n",
       "14    1fvv  the structure of cdk2/cyclin a in complex with...  2001-01-17   \n",
       "15    1g5s  crystal structure of human cyclin dependent ki...  2001-11-02   \n",
       "16    1gih  human cyclin dependent kinase 2 complexed with...  2002-02-06   \n",
       "17    1gii  human cyclin dependent kinase 2 complexed with...  2002-02-06   \n",
       "18    1gij  human cyclin dependent kinase 2 complexed with...  2002-02-06   \n",
       "19    1gy3  pcdk2/cyclin a in complex with mgadp, nitrate ...  2002-04-29   \n",
       "20    1gz8  human cyclin dependent kinase 2 complexed with...  2003-06-12   \n",
       "21    1h00  cdk2 in complex with a disubstituted 4, 6-bis ...  2003-07-11   \n",
       "22    1h01  cdk2 in complex with a disubstituted 2, 4-bis ...  2003-07-11   \n",
       "23    1h07  cdk2 in complex with a disubstituted 4, 6-bis ...  2003-07-11   \n",
       "24    1h08  cdk2 in complex with a disubstituted 2, 4-bis ...  2003-07-11   \n",
       "25    1h0v  human cyclin dependent protein kinase 2 in com...  2003-06-27   \n",
       "26    1h0w  human cyclin dependent protein kinase 2 in com...  2003-06-27   \n",
       "27    1h1p  structure of human thr160-phospho cdk2/cyclin ...  2002-09-19   \n",
       "28    1h1q  structure of human thr160-phospho cdk2/cyclin ...  2002-09-19   \n",
       "29    1h1r  structure of human thr160-phospho cdk2/cyclin ...  2002-09-19   \n",
       "..     ...                                                ...         ...   \n",
       "355   5anj  crystal structure of cdk2 in complex with n-(9...  2016-04-13   \n",
       "356   5ank  crystal structure of cdk2 in complex with 2,4,...  2016-04-13   \n",
       "357   5ano  crystal structure of cdk2 processed with the c...  2016-04-13   \n",
       "358   5cyi  cdk2/cyclin a covalent complex with 6-(cyclohe...  2015-09-16   \n",
       "359   5d1j  crystal structure of cyclin-dependent kinase 2...  2015-08-12   \n",
       "360   5fp5  structure of cyclin-dependent kinase 2 with sm...  2015-12-09   \n",
       "361   5fp6  structure of cyclin-dependent kinase 2 with sm...  2015-12-23   \n",
       "362   5iev  crystal structure of bay 1000394 (roniciclib) ...  2016-04-27   \n",
       "363   5iex  crystal structure of (r,s)-s-{4-[(5-bromo-4-{[...  2016-04-27   \n",
       "364   5iey  crystal structure of a cdk inhibitor bound to ...  2016-04-27   \n",
       "365   5if1                crystal structure apo cdk2/cyclin a  2016-04-27   \n",
       "366   5jq5  crystal structure of cdk2 in complex with inhi...  2017-02-08   \n",
       "367   5jq8  crystal structure of cdk2 in complex with inhi...  2017-02-08   \n",
       "368   5k4j  crystal structure of cdk2 in complex with comp...  2016-07-06   \n",
       "369   5l2w  the x-ray co-crystal structure of human cdk2/c...  2016-08-24   \n",
       "370   5lmk  structure of phopsho-cdk2-cyclin a in complex ...  2017-01-25   \n",
       "371   5nev          cdk2/cyclin a in complex with compound 73  2017-03-29   \n",
       "372   5oo0          cdk2(wt) covalent adduct with d28 at c177  2018-03-14   \n",
       "373   5oo1  cdk2(f80c, c177a) covalent adduct with c37 at ...  2018-08-29   \n",
       "374   5oo3     cdk2(f80c, c177a) with covalent ligand at f80c  2018-08-29   \n",
       "375   5osj              cdk2(wt) with covalent adduct at c177  2018-03-14   \n",
       "376   5osm      cdk2(f80c, c177a) with covalent adduct at c80  2018-03-14   \n",
       "377   5uq1       crystal structure of human cdk2-spy1 complex  2017-07-05   \n",
       "378   5uq2       crystal structure of human cdk2-spy1 complex  2017-07-05   \n",
       "379   6gub          cdk2/cyclina in complex with flavopiridol  2018-12-05   \n",
       "380   6guc                cdk2/cyclina in complex with su9516  2018-12-05   \n",
       "381   6gue               cdk2/cyclina in complex with azd5438  2018-12-05   \n",
       "382   6guf             cdk2/cyclina in complex with cgp74514a  2018-12-05   \n",
       "383   6guh                       cdk2 in complex with azd5438  2018-12-05   \n",
       "384   6guk                     cdk2 in complex with cgp74514a  2018-12-05   \n",
       "\n",
       "     Entities ChainID  Resolution  Identity    Coverage  NumGaps  \\\n",
       "0           1       A        2.00     298.0   92.953020      2.0   \n",
       "1           1       A        2.00     298.0   97.315436      1.0   \n",
       "2           1       A        2.10     298.0   97.315436      1.0   \n",
       "3           2       A        2.60     298.0   96.308725      2.0   \n",
       "4           1       A        2.05     298.0   93.624161      2.0   \n",
       "5           1       A        2.20     298.0   94.966443      2.0   \n",
       "6           1       A        2.10     298.0   91.946309      2.0   \n",
       "7           1       A        1.95     298.0   97.315436      1.0   \n",
       "8           1       A        1.85     298.0   97.315436      1.0   \n",
       "9           2       A        2.50     295.0   99.328859      1.0   \n",
       "10          2       A        2.50     298.0   99.328859      1.0   \n",
       "11          2       A        2.30     298.0  100.000000      0.0   \n",
       "12          2       B        3.00     297.0   99.328859      1.0   \n",
       "13          1       A        2.20     298.0   94.630872      2.0   \n",
       "14          2       A        2.80     298.0  100.000000      0.0   \n",
       "15          1       A        2.61     298.0   92.281879      2.0   \n",
       "16          1       A        2.80     298.0   92.617450      2.0   \n",
       "17          1       A        2.00     295.0   93.624161      2.0   \n",
       "18          1       A        2.20     295.0   91.610738      2.0   \n",
       "19          3       A        2.70     297.0   99.328859      1.0   \n",
       "20          1       A        1.30     297.0   97.315436      2.0   \n",
       "21          1       A        1.60     298.0   93.288591      3.0   \n",
       "22          1       A        1.79     297.0   95.973154      2.0   \n",
       "23          1       A        1.85     298.0   95.637584      3.0   \n",
       "24          1       A        1.80     298.0   94.966443      2.0   \n",
       "25          1       A        1.90     298.0   96.644295      2.0   \n",
       "26          1       A        2.10     298.0   94.966443      2.0   \n",
       "27          2       A        2.10     297.0   99.664430      1.0   \n",
       "28          2       A        2.50     297.0   99.664430      1.0   \n",
       "29          2       A        2.00     297.0   99.664430      1.0   \n",
       "..        ...     ...         ...       ...         ...      ...   \n",
       "355         1       A        1.60     298.0   97.651007      2.0   \n",
       "356         1       A        1.90     298.0   91.610738      3.0   \n",
       "357         1       A        1.70     298.0   92.953020      2.0   \n",
       "358         2       A        2.00     297.0  100.335570      0.0   \n",
       "359         1       A        1.80     298.0   88.926174      3.0   \n",
       "360         1       A        2.16     298.0   88.590604      5.0   \n",
       "361         1       A        1.85     298.0   93.288591      2.0   \n",
       "362         1       A        2.03     298.0   95.302013      2.0   \n",
       "363         1       A        2.03     298.0   95.637584      2.0   \n",
       "364         1       A        1.66     298.0   95.973154      2.0   \n",
       "365         2       A        2.61     298.0  100.000000      0.0   \n",
       "366         1       A        1.94     298.0   96.308725      2.0   \n",
       "367         1       A        1.94     298.0   93.288591      3.0   \n",
       "368         1       A        1.60     298.0   94.630872      2.0   \n",
       "369         2       A        2.80     297.0  100.000000      1.0   \n",
       "370         3       A        2.40     297.0   99.664430      1.0   \n",
       "371         2       A        2.97     297.0   99.328859      1.0   \n",
       "372         1       A        1.60     298.0   96.644295      3.0   \n",
       "373         1       A        2.00     296.0   93.288591      2.0   \n",
       "374         1       A        1.73     296.0   95.973154      3.0   \n",
       "375         1       A        1.83     298.0   97.986577      3.0   \n",
       "376         1       A        1.77     296.0   97.986577      2.0   \n",
       "377         2       A        3.20     298.0   96.644295      3.0   \n",
       "378         2       A        2.70     298.0   99.328859      1.0   \n",
       "379         2       A        2.52     297.0   98.657718      2.0   \n",
       "380         2       A        2.00     297.0   97.986577      2.0   \n",
       "381         3       C        1.99     297.0   96.979866      3.0   \n",
       "382         2       A        2.65     297.0   99.328859      1.0   \n",
       "383         1       A        1.50     298.0   95.302013      2.0   \n",
       "384         1       A        1.30     298.0   93.288591      2.0   \n",
       "\n",
       "                GapLen                                             GapPos  \\\n",
       "0              [8, 13]                             [[36, 43], [149, 161]]   \n",
       "1                  [8]                                         [[36, 43]]   \n",
       "2                  [8]                                         [[36, 43]]   \n",
       "3               [7, 4]                             [[40, 46], [295, 298]]   \n",
       "4              [8, 11]                             [[36, 43], [153, 163]]   \n",
       "5               [6, 9]                             [[37, 42], [153, 161]]   \n",
       "6              [9, 15]                             [[36, 44], [149, 163]]   \n",
       "7                  [8]                                         [[36, 43]]   \n",
       "8                  [8]                                         [[36, 43]]   \n",
       "9                  [2]                                       [[296, 297]]   \n",
       "10                 [2]                                         [[10, 11]]   \n",
       "11                  []                                                 []   \n",
       "12                 [2]                                       [[296, 297]]   \n",
       "13              [7, 9]                             [[37, 43], [154, 162]]   \n",
       "14                  []                                                 []   \n",
       "15             [9, 14]                             [[37, 45], [149, 162]]   \n",
       "16             [8, 14]                             [[37, 44], [150, 163]]   \n",
       "17             [8, 11]                             [[36, 43], [153, 163]]   \n",
       "18            [11, 14]                             [[37, 47], [150, 163]]   \n",
       "19                 [2]                                       [[296, 297]]   \n",
       "20              [7, 1]                             [[37, 43], [177, 177]]   \n",
       "21          [2, 8, 10]                   [[13, 14], [36, 43], [152, 161]]   \n",
       "22             [10, 2]                             [[34, 43], [296, 297]]   \n",
       "23           [7, 4, 2]                 [[37, 43], [151, 154], [296, 297]]   \n",
       "24              [8, 7]                             [[36, 43], [154, 160]]   \n",
       "25              [7, 3]                             [[37, 43], [159, 161]]   \n",
       "26              [7, 8]                             [[37, 43], [156, 163]]   \n",
       "27                 [2]                                       [[297, 298]]   \n",
       "28                 [2]                                       [[297, 298]]   \n",
       "29                 [2]                                       [[297, 298]]   \n",
       "..                 ...                                                ...   \n",
       "355             [2, 5]                               [[1, 2], [158, 162]]   \n",
       "356         [9, 4, 12]                   [[37, 45], [72, 75], [153, 164]]   \n",
       "357           [10, 11]                             [[36, 45], [152, 162]]   \n",
       "358                 []                                                 []   \n",
       "359        [2, 14, 17]                   [[13, 14], [35, 48], [147, 163]]   \n",
       "360  [1, 11, 3, 16, 3]  [[14, 14], [36, 46], [73, 75], [149, 164], [29...   \n",
       "361            [16, 4]                           [[148, 163], [295, 298]]   \n",
       "362             [5, 9]                             [[38, 42], [154, 162]]   \n",
       "363             [5, 8]                             [[38, 42], [156, 163]]   \n",
       "364             [5, 7]                             [[38, 42], [155, 161]]   \n",
       "365                 []                                                 []   \n",
       "366             [2, 9]                                 [[1, 2], [37, 45]]   \n",
       "367          [2, 9, 9]                     [[1, 2], [36, 44], [153, 161]]   \n",
       "368            [7, 10]                             [[38, 44], [153, 162]]   \n",
       "369                [1]                                       [[299, 299]]   \n",
       "370                [2]                                         [[40, 41]]   \n",
       "371                [3]                                       [[297, 299]]   \n",
       "372          [1, 7, 2]                     [[1, 1], [37, 43], [296, 297]]   \n",
       "373            [3, 17]                               [[1, 3], [147, 163]]   \n",
       "374          [1, 7, 4]                     [[1, 1], [38, 44], [295, 298]]   \n",
       "375          [1, 3, 2]                     [[1, 1], [39, 41], [296, 297]]   \n",
       "376             [8, 2]                             [[41, 48], [300, 301]]   \n",
       "377          [2, 6, 2]                     [[1, 2], [22, 27], [296, 297]]   \n",
       "378                [2]                                       [[296, 297]]   \n",
       "379             [3, 2]                             [[39, 41], [297, 298]]   \n",
       "380             [5, 2]                             [[37, 41], [297, 298]]   \n",
       "381          [5, 3, 2]               [[226, 230], [243, 245], [297, 298]]   \n",
       "382                [3]                                         [[39, 41]]   \n",
       "383             [8, 8]                             [[40, 47], [151, 158]]   \n",
       "384           [10, 10]                             [[37, 46], [154, 163]]   \n",
       "\n",
       "     NumLigs                            NameLigs Inhib  Inhib_mass  \n",
       "0        1.0                             ['STU']   STU       440.0  \n",
       "1        3.0                ['ACE', 'ATP', 'MG']   ATP       398.0  \n",
       "2        3.0                ['ACE', 'ATP', 'MG']   ATP       398.0  \n",
       "3        0.0                                  []  None         NaN  \n",
       "4        2.0                      ['EDO', 'PVB']   PVB       214.0  \n",
       "5        1.0                             ['DTQ']   DTQ       282.0  \n",
       "6        2.0                      ['EDO', 'HMD']   HMD       234.0  \n",
       "7        2.0                      ['ACE', 'CMG']   CMG       230.0  \n",
       "8        2.0                      ['ACE', 'NW1']   NW1       234.0  \n",
       "9        2.0                      ['INR', 'TPO']   INR       332.0  \n",
       "10       1.0                              ['CL']   TYR       163.0  \n",
       "11       1.0                             ['ATP']   ATP       398.0  \n",
       "12       3.0                ['ATP', 'MG', 'TPO']   ATP       398.0  \n",
       "13       1.0                             ['106']   106       304.0  \n",
       "14       1.0                             ['107']   107       434.0  \n",
       "15       1.0                             ['I17']   I17       374.0  \n",
       "16       1.0                             ['1PU']   1PU       292.0  \n",
       "17       1.0                             ['1PU']   1PU       292.0  \n",
       "18       1.0                             ['2PU']   2PU       344.0  \n",
       "19       5.0  ['ATP', 'GOL', 'MG', 'NO3', 'TPO']   ATP       350.0  \n",
       "20       3.0               ['ACE', 'CSD', 'MBP']   MBP       222.0  \n",
       "21       3.0               ['ACE', 'FAP', 'FCP']   FAP       354.0  \n",
       "22       4.0        ['FAL', 'FBL', 'GOL', 'KCX']   FAL       354.0  \n",
       "23       3.0               ['ACE', 'MFP', 'MFQ']   MFP       404.0  \n",
       "24       4.0        ['ACE', 'BWP', 'BYP', 'GOL']   BYP       354.0  \n",
       "25       1.0                             ['UN4']   UN4       236.0  \n",
       "26       1.0                             ['207']   207       228.0  \n",
       "27       2.0                      ['CMG', 'TPO']   CMG       230.0  \n",
       "28       2.0                      ['2A6', 'TPO']   2A6       302.0  \n",
       "29       2.0                      ['6CP', 'TPO']   6CP       302.0  \n",
       "..       ...                                 ...   ...         ...  \n",
       "355      1.0                             ['ZXC']   ZXC       238.0  \n",
       "356      1.0                             ['RJI']   RJI       238.0  \n",
       "357      0.0                                  []  None         NaN  \n",
       "358      2.0                      ['55S', 'TPO']   55S       390.0  \n",
       "359      1.0                             ['56H']   56H       356.0  \n",
       "360      2.0                      ['1Y6', 'ACE']   TYR       163.0  \n",
       "361      1.0                             ['MFZ']   MFZ       169.0  \n",
       "362      1.0                             ['R0N']   R0N       352.0  \n",
       "363      1.0                             ['6AF']   6AF       340.0  \n",
       "364      1.0                             ['6AE']   6AE       318.0  \n",
       "365      0.0                                  []  None         NaN  \n",
       "366      2.0                      ['ACT', 'I74']   I74       364.0  \n",
       "367      1.0                             ['I73']   I73       364.0  \n",
       "368      1.0                             ['6QB']   6QB       368.0  \n",
       "369      3.0               ['1QK', 'GOL', 'TPO']   1QK       368.0  \n",
       "370      4.0         ['6ZK', 'MG', 'SGM', 'TPO']   6ZK       400.0  \n",
       "371      2.0                      ['72L', 'TPO']   72L       424.0  \n",
       "372      1.0                             ['9YZ']   TYR       163.0  \n",
       "373      1.0                             ['9Z2']   9Z2       214.0  \n",
       "374      1.0                             ['9ZB']   9ZB       200.0  \n",
       "375      1.0                             ['AAK']   TYR       163.0  \n",
       "376      1.0                             ['AEQ']   AEQ       230.0  \n",
       "377      0.0                                  []  None         NaN  \n",
       "378      0.0                                  []  None         NaN  \n",
       "379      2.0                      ['F9Z', 'TPO']   F9Z       346.0  \n",
       "380      2.0                      ['SU9', 'TPO']   SU9       230.0  \n",
       "381      2.0                      ['FB8', 'TPO']   FB8       350.0  \n",
       "382      2.0                      ['23D', 'TPO']   23D       326.0  \n",
       "383      2.0                      ['EDO', 'FB8']   FB8       350.0  \n",
       "384      1.0                             ['FC8']   FC8       326.0  \n",
       "\n",
       "[385 rows x 15 columns]"
      ]
     },
     "execution_count": 15,
     "metadata": {},
     "output_type": "execute_result"
    }
   ],
   "source": [
    "df_cdk2_c"
   ]
  },
  {
   "cell_type": "code",
   "execution_count": 38,
   "metadata": {},
   "outputs": [
    {
     "name": "stdout",
     "output_type": "stream",
     "text": [
      "1aq1\n",
      "1b38\n",
      "1b39\n",
      "1buh\n",
      "1ckp\n",
      "1di8\n",
      "1dm2\n",
      "1e1v\n",
      "1e1x\n",
      "1e9h\n",
      "1f5q\n",
      "1fin\n",
      "1fq1\n",
      "1fvt\n",
      "1fvv\n",
      "1g5s\n",
      "1gih\n",
      "1gii\n",
      "1gij\n",
      "1gy3\n",
      "1gz8\n",
      "1h00\n",
      "1h01\n",
      "1h07\n",
      "1h08\n",
      "1h0v\n",
      "1h0w\n",
      "1h1p\n",
      "1h1q\n",
      "1h1r\n",
      "1h1s\n",
      "1h24\n",
      "1h25\n",
      "1h26\n",
      "1h27\n",
      "1h28\n",
      "1hck\n",
      "1hcl\n",
      "1jst\n",
      "1jsv\n",
      "1jvp\n",
      "1ke5\n",
      "1ke6\n",
      "1ke7\n",
      "1ke8\n",
      "1ke9\n",
      "1ogu\n",
      "1oi9\n",
      "1oiq\n",
      "1oir\n",
      "1oit\n",
      "1oiu\n",
      "1oiy\n",
      "1okv\n",
      "1okw\n",
      "1ol1\n",
      "1ol2\n",
      "1p2a\n",
      "1p5e\n",
      "1pf8\n",
      "1pkd\n",
      "1pw2\n",
      "1pxi\n",
      "1pxj\n",
      "1pxk\n",
      "1pxl\n",
      "1pxm\n",
      "1pxn\n",
      "1pxo\n",
      "1pxp\n",
      "1pye\n",
      "1qmz\n",
      "1r78\n",
      "1urc\n",
      "1urw\n",
      "1v1k\n",
      "1vyw\n",
      "1vyz\n",
      "1w0x\n",
      "1w8c\n",
      "1w98\n",
      "1wcc\n",
      "1y8y\n",
      "1y91\n",
      "1ykr\n",
      "2a0c\n",
      "2a4l\n",
      "2b52\n",
      "2b53\n",
      "2b54\n",
      "2b55\n",
      "2bhe\n",
      "2bhh\n",
      "2bkz\n",
      "2bpm\n",
      "2btr\n",
      "2bts\n",
      "2c4g\n",
      "2c5n\n",
      "2c5o\n",
      "2c5v\n",
      "2c5x\n",
      "2c5y\n",
      "2c68\n",
      "2c69\n",
      "2c6i\n",
      "2c6k\n",
      "2c6l\n",
      "2c6m\n",
      "2c6o\n",
      "2c6t\n",
      "2cch\n",
      "2cci\n",
      "2cjm\n",
      "2clx\n",
      "2ds1\n",
      "2duv\n",
      "2exm\n",
      "2fvd\n",
      "2g9x\n",
      "2i40\n",
      "2iw6\n",
      "2iw8\n",
      "2iw9\n",
      "2j9m\n",
      "2jgz\n",
      "2r3f\n",
      "2r3g\n",
      "2r3h\n",
      "2r3i\n",
      "2r3j\n",
      "2r3k\n",
      "2r3l\n",
      "2r3m\n",
      "2r3n\n",
      "2r3o\n",
      "2r3p\n",
      "2r3q\n",
      "2r3r\n",
      "2r64\n",
      "2uue\n",
      "2uzb\n",
      "2uzd\n",
      "2uze\n",
      "2uzl\n",
      "2uzn\n",
      "2uzo\n",
      "2v0d\n",
      "2v22\n",
      "2vta\n",
      "2vth\n",
      "2vti\n",
      "2vtj\n",
      "2vtl\n",
      "2vtm\n",
      "2vtn\n",
      "2vto\n",
      "2vtp\n",
      "2vtq\n",
      "2vtr\n",
      "2vts\n",
      "2vtt\n",
      "2vu3\n",
      "2vv9\n",
      "2w05\n",
      "2w06\n",
      "2w17\n",
      "2w1h\n",
      "2wev\n",
      "2wfy\n",
      "2whb\n",
      "2wih\n",
      "2wip\n",
      "2wma\n",
      "2wmb\n",
      "2wpa\n",
      "2wxv\n",
      "2x1n\n",
      "2xmy\n",
      "2xnb\n",
      "3bht\n",
      "3bhu\n",
      "3bhv\n",
      "3ddp\n",
      "3ddq\n",
      "3dog\n",
      "3eid\n",
      "3ej1\n",
      "3eoc\n",
      "3ezr\n",
      "3ezv\n",
      "3f5x\n",
      "3fz1\n",
      "3ig7\n",
      "3igg\n",
      "3le6\n",
      "3lfn\n",
      "3lfq\n",
      "3lfs\n",
      "3my5\n",
      "3ns9\n",
      "3pj8\n",
      "3pxf\n",
      "3pxq\n",
      "3pxr\n",
      "3pxy\n",
      "3pxz\n",
      "3py0\n",
      "3py1\n",
      "3qhr\n",
      "3qhw\n",
      "3ql8\n",
      "3qqf\n",
      "3qqg\n",
      "3qqh\n",
      "3qqj\n",
      "3qqk\n",
      "3qql\n",
      "3qrt\n",
      "3qru\n",
      "3qtq\n",
      "3qtr\n",
      "3qts\n",
      "3qtu\n",
      "3qtw\n",
      "3qtx\n",
      "3qtz\n",
      "3qu0\n",
      "3qwj\n",
      "3qwk\n",
      "3qx2\n",
      "3qx4\n",
      "3qxo\n",
      "3qxp\n",
      "3qzf\n",
      "3qzg\n",
      "3qzh\n",
      "3qzi\n",
      "3r1q\n",
      "3r1s\n",
      "3r1y\n",
      "3r28\n",
      "3r6x\n",
      "3r71\n",
      "3r73\n",
      "3r7e\n",
      "3r7i\n",
      "3r7u\n",
      "3r7v\n",
      "3r7y\n",
      "3r83\n",
      "3r8l\n",
      "3r8m\n",
      "3r8p\n",
      "3r8u\n",
      "3r8v\n",
      "3r8z\n",
      "3r9d\n",
      "3r9h\n",
      "3r9n\n",
      "3r9o\n",
      "3rah\n",
      "3rai\n",
      "3rak\n",
      "3ral\n",
      "3rjc\n",
      "3rk5\n",
      "3rk7\n",
      "3rk9\n",
      "3rkb\n",
      "3rm6\n",
      "3rm7\n",
      "3rmf\n",
      "3rni\n",
      "3roy\n",
      "3rpo\n",
      "3rpr\n",
      "3rpv\n",
      "3rpy\n",
      "3rzb\n",
      "3s00\n",
      "3s0o\n",
      "3s1h\n",
      "3s2p\n",
      "3sqq\n",
      "3sw4\n",
      "3sw7\n",
      "3ti1\n",
      "3tiy\n",
      "3tiz\n",
      "3tnw\n",
      "3uli\n",
      "3unj\n",
      "3unk\n",
      "3wbl\n",
      "4acm\n",
      "4bck\n",
      "4bcm\n",
      "4bcn\n",
      "4bco\n",
      "4bcp\n",
      "4bcq\n",
      "4bgh\n",
      "4bzd\n",
      "4cfm\n",
      "4cfn\n",
      "4cfu\n",
      "4cfv\n",
      "4cfw\n",
      "4cfx\n",
      "4d1x\n",
      "4d1z\n",
      "4ek3\n",
      "4ek4\n",
      "4ek5\n",
      "4ek8\n",
      "4eoi\n",
      "4eoj\n",
      "4eok\n",
      "4eol\n",
      "4eom\n",
      "4eon\n",
      "4eoo\n",
      "4eop\n",
      "4eoq\n",
      "4eor\n",
      "4eos\n",
      "4erw\n",
      "4ez3\n",
      "4ez7\n",
      "4fkg\n",
      "4fki\n",
      "4fkj\n",
      "4fkl\n",
      "4fko\n",
      "4fkp\n",
      "4fkq\n",
      "4fkr\n",
      "4fks\n",
      "4fkt\n",
      "4fku\n",
      "4fkv\n",
      "4fkw\n",
      "4fx3\n",
      "4gcj\n",
      "4i3z\n",
      "4ii5\n",
      "4kd1\n",
      "4lyn\n",
      "4nj3\n",
      "4rj3\n",
      "5a14\n",
      "5and\n",
      "5ane\n",
      "5ani\n",
      "5anj\n",
      "5ank\n",
      "5ano\n",
      "5cyi\n",
      "5d1j\n",
      "5fp5\n",
      "5fp6\n",
      "5iev\n",
      "5iex\n",
      "5iey\n",
      "5if1\n",
      "5jq5\n",
      "5jq8\n",
      "5k4j\n",
      "5l2w\n",
      "5lmk\n",
      "5nev\n",
      "5oo0\n",
      "5oo1\n",
      "5oo3\n",
      "5osj\n",
      "5osm\n",
      "5uq1\n",
      "5uq2\n",
      "6gub\n",
      "6guc\n",
      "6gue\n",
      "6guf\n",
      "6guh\n",
      "6guk\n"
     ]
    }
   ],
   "source": [
    "# Convertir con babel\n",
    "import os\n",
    "\n",
    "IN_dir = \"./CDK2_INHIBIDORES/\"\n",
    "OUT_dir = \"./CDK2_INHIBIDORES_PREPARADOS/\"\n",
    "\n",
    "lista_prueba = [\"1qmz\"]\n",
    "\n",
    "# Los ligandos deben convertirse a mol2, debido a que, por alguna razón\n",
    "# la asignación de cargas no es correcta con archivos pdb\n",
    "for pdb_id in df_cdk2_c.PDB_ID:\n",
    "    print(pdb_id)\n",
    "    os.system(\"obabel -ipdb \" + IN_dir + pdb_id + \"*.pdb\" + \n",
    "              \" -omol2 -O \" + OUT_dir + pdb_id + \"_LIG.mol2\" + \n",
    "              \" -h -p 7\")\n"
   ]
  },
  {
   "cell_type": "code",
   "execution_count": 19,
   "metadata": {},
   "outputs": [
    {
     "name": "stdout",
     "output_type": "stream",
     "text": [
      "ad4_multiDock_PARES.py  \u001b[0m\u001b[01;34mCDK2_INHIBIDORES_Hs\u001b[0m/  Obtener_ligandos_CDK2.ipynb\r\n",
      "\u001b[01;34mCDK2_INHIBIDORES\u001b[0m/       \u001b[01;34menvio_miztli\u001b[0m/         \u001b[01;34mprueba\u001b[0m/\r\n"
     ]
    }
   ],
   "source": [
    "%ls"
   ]
  },
  {
   "cell_type": "code",
   "execution_count": 32,
   "metadata": {},
   "outputs": [
    {
     "ename": "AttributeError",
     "evalue": "'generator' object has no attribute 'next'",
     "output_type": "error",
     "traceback": [
      "\u001b[0;31m---------------------------------------------------------------------------\u001b[0m",
      "\u001b[0;31mAttributeError\u001b[0m                            Traceback (most recent call last)",
      "\u001b[0;32m<ipython-input-32-6b274e73edc3>\u001b[0m in \u001b[0;36m<module>\u001b[0;34m\u001b[0m\n\u001b[1;32m      1\u001b[0m \u001b[0;32mimport\u001b[0m \u001b[0mpybel\u001b[0m\u001b[0;34m\u001b[0m\u001b[0;34m\u001b[0m\u001b[0m\n\u001b[1;32m      2\u001b[0m \u001b[0;34m\u001b[0m\u001b[0m\n\u001b[0;32m----> 3\u001b[0;31m \u001b[0mmol\u001b[0m \u001b[0;34m=\u001b[0m \u001b[0mpybel\u001b[0m\u001b[0;34m.\u001b[0m\u001b[0mreadfile\u001b[0m\u001b[0;34m(\u001b[0m\u001b[0mfilename\u001b[0m\u001b[0;34m=\u001b[0m\u001b[0;34m\"./CDK2_INHIBIDORES/1aq1-STU.pdb\"\u001b[0m\u001b[0;34m,\u001b[0m \u001b[0mformat\u001b[0m\u001b[0;34m=\u001b[0m\u001b[0;34m\"pdb\"\u001b[0m\u001b[0;34m)\u001b[0m\u001b[0;34m.\u001b[0m\u001b[0mnext\u001b[0m\u001b[0;34m(\u001b[0m\u001b[0;34m)\u001b[0m\u001b[0;34m\u001b[0m\u001b[0;34m\u001b[0m\u001b[0m\n\u001b[0m\u001b[1;32m      4\u001b[0m \u001b[0mprint\u001b[0m\u001b[0;34m(\u001b[0m\u001b[0mmol\u001b[0m\u001b[0;34m.\u001b[0m\u001b[0matoms\u001b[0m\u001b[0;34m)\u001b[0m\u001b[0;34m\u001b[0m\u001b[0;34m\u001b[0m\u001b[0m\n",
      "\u001b[0;31mAttributeError\u001b[0m: 'generator' object has no attribute 'next'"
     ]
    }
   ],
   "source": [
    "import pybel\n",
    "\n",
    "mol = pybel.readfile(filename=\"./CDK2_INHIBIDORES/1aq1-STU.pdb\", format=\"pdb\").next()\n",
    "print(mol.atoms)"
   ]
  }
 ],
 "metadata": {
  "kernelspec": {
   "display_name": "Python 3",
   "language": "python",
   "name": "python3"
  },
  "language_info": {
   "codemirror_mode": {
    "name": "ipython",
    "version": 3
   },
   "file_extension": ".py",
   "mimetype": "text/x-python",
   "name": "python",
   "nbconvert_exporter": "python",
   "pygments_lexer": "ipython3",
   "version": "3.6.7"
  }
 },
 "nbformat": 4,
 "nbformat_minor": 2
}
