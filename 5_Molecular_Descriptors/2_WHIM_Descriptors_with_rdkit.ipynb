{
 "cells": [
  {
   "cell_type": "markdown",
   "metadata": {},
   "source": [
    "# Análisis de Descriptores WHIM\n",
    "\n",
    "\n",
    "---\n",
    "<div style='background-color: #F9E5AB; padding: 1px 2px 5px 10px; font-size: 1em;'><h1 class='text-danger'>WHIM Descriptors\n",
    "<small class=\"text-muted\">Weighted Holistic Invariant Molecular descriptors</small>\n",
    "</h1>\n",
    "    </div>\n",
    "\n",
    "1. Los descriptores WHIM son **descriptores geométricos (3D)**.\n",
    "- Se construyen de tal forma que capturan información tridimencional relacionada con el tamaño molecular, la forma, la simetría y la distribución atómica.  \n",
    "- La molécula es representada como una **configuración de puntos** (los átomos) en un espacio tridimencional definido por los ejes $x, y, z$.\n",
    "- En términos generales su cálculo consiste en **centrar las coordenadas de los átomos** de la molécula, **calcular la matriz de covarianzas** de las coordenadas ($S_{qq'}$) y calcular los **eigenvalores** de dicha matriz:\n",
    "\n",
    "$$S_{qq'} = \\frac{\\sum_{i=1}^{A}w_i (q_i - \\overline{q}) (q'_i - \\overline{q}')}{\\sum_{i=1}^{A}w_i},$$\n",
    "\n",
    "> donde $q_i$ y $q'_i$ son coordenadas atómicas ($x, y, z$) del átomo $i$, $\\overline{q}$ y $\\overline{q}'$ son las medias de las coordenadas, $A$ es el número de átomos, $w_i$ es un 'peso' o porpiedad según el tipo de átomo.\n",
    "- Cada eigenvalor ($\\lambda_1, \\lambda_2, \\lambda_3$) de la matriz de covarianzas representa una medida de dispersión de los átomos proyectados en cada uno de los 3 ejes principales. Esta dispersión y distribución atómica en los ejes principales es depués evaluada en cada uno de los descriptores.\n",
    "\n",
    "- **Se dividen en dos clases principales:**\n",
    "    - Descriptores Axiales o Direccionales\n",
    "    - Descriptores Globales\n",
    "- Los descriptores direccionales son calculados a apartir de los eigenvalores de la matriz de covarianzas.\n",
    "- Los descriptores globales son una combinación de los direccionales.\n",
    "\n",
    "> Los descriptores:\n",
    "- **Axiales o Direccionales:**\n",
    "    - $L_k$ : Dimensión axial ($k$ = 1, 2, 3)\n",
    "    - $P_k$ : Forma axial ($k$ = 1, 2); `rdkit` omite el $k$ = 3\n",
    "    - $G_k$ : Simetria axial ($k$ = 1, 2, 3)\n",
    "    - $E_k$ : Densidad axial ($k$ = 1, 2, 3)  \n",
    "<br>\n",
    "- **Globales:**\n",
    "    - $T$ : Dimensión Global\n",
    "    - $A$ : Dimensión Global\n",
    "    - $G$ : Simetría Global\n",
    "    - $K$ : Forma Global\n",
    "    - $D$ : Densidad Global\n",
    "    - $V$ : Dimensión Global\n",
    "    \n",
    "- **Los descriptores son invariantes a la traslación y a la rotación de la molécula**. Invariante a la traslación porque las coordenadas de los átomos son centralizadas, e invariantes a la rotación, por la eigendescomposición de la matirz de covarianzas y la proyección en los eigenvectores resultantes.\n",
    "\n",
    "Las propiedades atómicas, o pesos, **_w_** son las siguientes (todos son siempre positivos y son escalados con respecto a un átomo de Carbono):\n",
    "> - **_u_** : _unweighted_\n",
    "- **_m_** : _Atomic mass_\n",
    "- **_v_** : _van der Waals Volume_\n",
    "- **_e_** : _Sanderson Electronegativity_\n",
    "- **_p_** : _Atomic polarizability_\n",
    "- **_s_** : _Electropological satate indices of Kier and Hall_\n",
    "- **_i_** : _Topologycal I-state_\n",
    "\n",
    "La lista de descriptores que clacula *rdkit* es la siguiente (Refs: [1](https://github.com/rdkit/rdkit/blob/master/Code/GraphMol/Descriptors/test_data/whim.out.txt), [2](http://www.scbdd.com/chemdes/list19/), [3](http://www.vcclab.org/lab/indexhlp/whimdes.html)):"
   ]
  },
  {
   "cell_type": "code",
   "execution_count": 15,
   "metadata": {},
   "outputs": [],
   "source": [
    "whim_axial = [ \"L1u\", \"L2u\", \"L3u\", \"P1u\", \"P2u\", \"G1u\", \"G2u\", \"G3u\", \"E1u\", \"E2u\", \"E3u\", \n",
    "               \"L1m\", \"L2m\", \"L3m\", \"P1m\", \"P2m\", \"G1m\", \"G2m\", \"G3m\", \"E1m\", \"E2m\", \"E3m\", \n",
    "               \"L1v\", \"L2v\", \"L3v\", \"P1v\", \"P2v\", \"G1v\", \"G2v\", \"G3v\", \"E1v\", \"E2v\", \"E3v\", \n",
    "               \"L1e\", \"L2e\", \"L3e\", \"P1e\", \"P2e\", \"G1e\", \"G2e\", \"G3e\", \"E1e\", \"E2e\", \"E3e\", \n",
    "               \"L1p\", \"L2p\", \"L3p\", \"P1p\", \"P2p\", \"G1p\", \"G2p\", \"G3p\", \"E1p\", \"E2p\", \"E3p\", \n",
    "               \"L1i\", \"L2i\", \"L3i\", \"P1i\", \"P2i\", \"G1i\", \"G2i\", \"G3i\", \"E1i\", \"E2i\", \"E3i\", \n",
    "               \"L1s\", \"L2s\", \"L3s\", \"P1s\", \"P2s\", \"G1s\", \"G2s\", \"G3s\", \"E1s\", \"E2s\", \"E3s\"]\n",
    "whim_global = [\"Tu\", \"Tm\", \"Tv\", \"Te\", \"Tp\", \"Ti\", \"Ts\", \n",
    "               \"Au\", \"Am\", \"Av\", \"Ae\", \"Ap\", \"Ai\", \"As\", \n",
    "               \"Gu\", \"Gm\", \n",
    "               \"Ku\", \"Km\", \"Kv\", \"Ke\", \"Kp\", \"Ki\", \"Ks\", \n",
    "               \"Du\", \"Dm\", \"Dv\", \"De\", \"Dp\", \"Di\", \"Ds\", \n",
    "               \"Vu\", \"Vm\", \"Vv\", \"Ve\", \"Vp\", \"Vi\", \"Vs\"]"
   ]
  },
  {
   "cell_type": "markdown",
   "metadata": {},
   "source": [
    "### Cálculo de los descriptores WHIM con RDKit\n",
    "\n",
    "Creamos una **matriz donde cada fila corresponde a una molécula y las 114 características corresponden a las 114 propiedades** que calcula *rdkit*, las cuales son las mismas que calcula el software *Dragon*."
   ]
  },
  {
   "cell_type": "markdown",
   "metadata": {},
   "source": [
    "#### Cargamos el archivo con las moléculas\n",
    "El siguiente archivo corresponde a un objeto de python (archivo binario) previamente creado, el cual contine los datos de las moléculas cocristalizadas con la proteína CDK2."
   ]
  },
  {
   "cell_type": "code",
   "execution_count": 31,
   "metadata": {},
   "outputs": [],
   "source": [
    "import numpy as np\n",
    "import pandas as pd\n",
    "import matplotlib.pyplot as plt\n",
    "from mpl_toolkits.mplot3d import Axes3D\n",
    "import pickle, glob, os"
   ]
  },
  {
   "cell_type": "code",
   "execution_count": 8,
   "metadata": {},
   "outputs": [],
   "source": [
    "path_to_file_str = F'../data/rdkit_molecules/cdk2_*_cocristalized_ligands.pyobj'.split('/')\n",
    "path_to_file = glob.glob(os.path.join(*path_to_file_str))[0]\n",
    "# Carga del archivo\n",
    "with open(path_to_file, 'rb') as f:\n",
    "    df_crys_poses_rdk = pickle.load(f)"
   ]
  },
  {
   "cell_type": "markdown",
   "metadata": {},
   "source": [
    "#### Creamos el DataFrame con las 365 moléculas y los 114 desciptores\n",
    "\n",
    "Como primer paso creamos una matriz de $n$ filas por $m$ columnas, donde $n$ = num. de moléculas y $m$ = num. de descriptores."
   ]
  },
  {
   "cell_type": "code",
   "execution_count": 11,
   "metadata": {},
   "outputs": [],
   "source": [
    "from rdkit import Chem\n",
    "from rdkit.Chem import rdMolDescriptors"
   ]
  },
  {
   "cell_type": "code",
   "execution_count": 12,
   "metadata": {},
   "outputs": [],
   "source": [
    "n_descriptors = 114\n",
    "n_moleculas = len(df_crys_poses_rdk.index)\n",
    "whim_array = np.empty((n_moleculas, n_descriptors))\n",
    "\n",
    "for i, mol in enumerate(df_crys_poses_rdk.mol_rdk):\n",
    "    whim_mol = Chem.rdMolDescriptors.CalcWHIM(mol)\n",
    "    whim_array[i] = whim_mol"
   ]
  },
  {
   "cell_type": "markdown",
   "metadata": {},
   "source": [
    "Ahora creamos el dataframe con un multiindex que corresponda al pdb_id y al nombre de la molécula."
   ]
  },
  {
   "cell_type": "code",
   "execution_count": 16,
   "metadata": {},
   "outputs": [],
   "source": [
    "index_values = [df_crys_poses_rdk.index, df_crys_poses_rdk.Lig]\n",
    "tuples = list(zip(*index_values))\n",
    "# Creamos el multiíndice\n",
    "m_index = pd.MultiIndex.from_tuples(tuples, names = ['pdb_id', 'lig_name'])"
   ]
  },
  {
   "cell_type": "code",
   "execution_count": 17,
   "metadata": {},
   "outputs": [
    {
     "data": {
      "text/html": [
       "<div>\n",
       "<style scoped>\n",
       "    .dataframe tbody tr th:only-of-type {\n",
       "        vertical-align: middle;\n",
       "    }\n",
       "\n",
       "    .dataframe tbody tr th {\n",
       "        vertical-align: top;\n",
       "    }\n",
       "\n",
       "    .dataframe thead th {\n",
       "        text-align: right;\n",
       "    }\n",
       "</style>\n",
       "<table border=\"1\" class=\"dataframe\">\n",
       "  <thead>\n",
       "    <tr style=\"text-align: right;\">\n",
       "      <th></th>\n",
       "      <th></th>\n",
       "      <th>L1u</th>\n",
       "      <th>L2u</th>\n",
       "      <th>L3u</th>\n",
       "      <th>P1u</th>\n",
       "      <th>P2u</th>\n",
       "      <th>G1u</th>\n",
       "      <th>G2u</th>\n",
       "      <th>G3u</th>\n",
       "      <th>E1u</th>\n",
       "      <th>E2u</th>\n",
       "      <th>...</th>\n",
       "      <th>Dp</th>\n",
       "      <th>Di</th>\n",
       "      <th>Ds</th>\n",
       "      <th>Vu</th>\n",
       "      <th>Vm</th>\n",
       "      <th>Vv</th>\n",
       "      <th>Ve</th>\n",
       "      <th>Vp</th>\n",
       "      <th>Vi</th>\n",
       "      <th>Vs</th>\n",
       "    </tr>\n",
       "    <tr>\n",
       "      <th>pdb_id</th>\n",
       "      <th>lig_name</th>\n",
       "      <th></th>\n",
       "      <th></th>\n",
       "      <th></th>\n",
       "      <th></th>\n",
       "      <th></th>\n",
       "      <th></th>\n",
       "      <th></th>\n",
       "      <th></th>\n",
       "      <th></th>\n",
       "      <th></th>\n",
       "      <th></th>\n",
       "      <th></th>\n",
       "      <th></th>\n",
       "      <th></th>\n",
       "      <th></th>\n",
       "      <th></th>\n",
       "      <th></th>\n",
       "      <th></th>\n",
       "      <th></th>\n",
       "      <th></th>\n",
       "      <th></th>\n",
       "    </tr>\n",
       "  </thead>\n",
       "  <tbody>\n",
       "    <tr>\n",
       "      <th>1aq1</th>\n",
       "      <th>STU</th>\n",
       "      <td>7.055</td>\n",
       "      <td>6.592</td>\n",
       "      <td>0.574</td>\n",
       "      <td>0.496</td>\n",
       "      <td>0.464</td>\n",
       "      <td>0.163</td>\n",
       "      <td>0.165</td>\n",
       "      <td>0.165</td>\n",
       "      <td>0.560</td>\n",
       "      <td>0.509</td>\n",
       "      <td>...</td>\n",
       "      <td>0.312</td>\n",
       "      <td>0.387</td>\n",
       "      <td>0.414</td>\n",
       "      <td>95.243</td>\n",
       "      <td>96.377</td>\n",
       "      <td>93.868</td>\n",
       "      <td>96.361</td>\n",
       "      <td>92.425</td>\n",
       "      <td>96.050</td>\n",
       "      <td>113.410</td>\n",
       "    </tr>\n",
       "    <tr>\n",
       "      <th>1b38</th>\n",
       "      <th>ATP</th>\n",
       "      <td>14.627</td>\n",
       "      <td>3.017</td>\n",
       "      <td>1.072</td>\n",
       "      <td>0.782</td>\n",
       "      <td>0.161</td>\n",
       "      <td>0.168</td>\n",
       "      <td>0.168</td>\n",
       "      <td>0.168</td>\n",
       "      <td>0.537</td>\n",
       "      <td>0.444</td>\n",
       "      <td>...</td>\n",
       "      <td>0.359</td>\n",
       "      <td>0.447</td>\n",
       "      <td>0.471</td>\n",
       "      <td>129.040</td>\n",
       "      <td>128.184</td>\n",
       "      <td>119.394</td>\n",
       "      <td>136.450</td>\n",
       "      <td>105.957</td>\n",
       "      <td>134.649</td>\n",
       "      <td>142.233</td>\n",
       "    </tr>\n",
       "    <tr>\n",
       "      <th>1b39</th>\n",
       "      <th>ATP</th>\n",
       "      <td>15.143</td>\n",
       "      <td>2.971</td>\n",
       "      <td>1.157</td>\n",
       "      <td>0.786</td>\n",
       "      <td>0.154</td>\n",
       "      <td>0.168</td>\n",
       "      <td>0.168</td>\n",
       "      <td>0.168</td>\n",
       "      <td>0.540</td>\n",
       "      <td>0.430</td>\n",
       "      <td>...</td>\n",
       "      <td>0.357</td>\n",
       "      <td>0.443</td>\n",
       "      <td>0.486</td>\n",
       "      <td>137.255</td>\n",
       "      <td>136.863</td>\n",
       "      <td>126.726</td>\n",
       "      <td>145.415</td>\n",
       "      <td>112.378</td>\n",
       "      <td>143.401</td>\n",
       "      <td>155.683</td>\n",
       "    </tr>\n",
       "    <tr>\n",
       "      <th>1ckp</th>\n",
       "      <th>PVB</th>\n",
       "      <td>9.851</td>\n",
       "      <td>1.338</td>\n",
       "      <td>0.323</td>\n",
       "      <td>0.856</td>\n",
       "      <td>0.116</td>\n",
       "      <td>0.193</td>\n",
       "      <td>0.193</td>\n",
       "      <td>0.193</td>\n",
       "      <td>0.581</td>\n",
       "      <td>0.507</td>\n",
       "      <td>...</td>\n",
       "      <td>0.590</td>\n",
       "      <td>0.502</td>\n",
       "      <td>0.698</td>\n",
       "      <td>32.549</td>\n",
       "      <td>40.035</td>\n",
       "      <td>33.804</td>\n",
       "      <td>33.414</td>\n",
       "      <td>35.072</td>\n",
       "      <td>32.473</td>\n",
       "      <td>37.695</td>\n",
       "    </tr>\n",
       "    <tr>\n",
       "      <th>1di8</th>\n",
       "      <th>DTQ</th>\n",
       "      <td>13.308</td>\n",
       "      <td>3.023</td>\n",
       "      <td>0.010</td>\n",
       "      <td>0.814</td>\n",
       "      <td>0.185</td>\n",
       "      <td>0.183</td>\n",
       "      <td>0.183</td>\n",
       "      <td>0.186</td>\n",
       "      <td>0.536</td>\n",
       "      <td>0.379</td>\n",
       "      <td>...</td>\n",
       "      <td>0.343</td>\n",
       "      <td>0.417</td>\n",
       "      <td>0.341</td>\n",
       "      <td>57.162</td>\n",
       "      <td>59.615</td>\n",
       "      <td>55.138</td>\n",
       "      <td>59.596</td>\n",
       "      <td>52.744</td>\n",
       "      <td>58.066</td>\n",
       "      <td>50.606</td>\n",
       "    </tr>\n",
       "  </tbody>\n",
       "</table>\n",
       "<p>5 rows × 114 columns</p>\n",
       "</div>"
      ],
      "text/plain": [
       "                    L1u    L2u    L3u    P1u    P2u    G1u    G2u    G3u  \\\n",
       "pdb_id lig_name                                                            \n",
       "1aq1   STU        7.055  6.592  0.574  0.496  0.464  0.163  0.165  0.165   \n",
       "1b38   ATP       14.627  3.017  1.072  0.782  0.161  0.168  0.168  0.168   \n",
       "1b39   ATP       15.143  2.971  1.157  0.786  0.154  0.168  0.168  0.168   \n",
       "1ckp   PVB        9.851  1.338  0.323  0.856  0.116  0.193  0.193  0.193   \n",
       "1di8   DTQ       13.308  3.023  0.010  0.814  0.185  0.183  0.183  0.186   \n",
       "\n",
       "                   E1u    E2u  ...     Dp     Di     Ds       Vu       Vm  \\\n",
       "pdb_id lig_name                ...                                          \n",
       "1aq1   STU       0.560  0.509  ...  0.312  0.387  0.414   95.243   96.377   \n",
       "1b38   ATP       0.537  0.444  ...  0.359  0.447  0.471  129.040  128.184   \n",
       "1b39   ATP       0.540  0.430  ...  0.357  0.443  0.486  137.255  136.863   \n",
       "1ckp   PVB       0.581  0.507  ...  0.590  0.502  0.698   32.549   40.035   \n",
       "1di8   DTQ       0.536  0.379  ...  0.343  0.417  0.341   57.162   59.615   \n",
       "\n",
       "                      Vv       Ve       Vp       Vi       Vs  \n",
       "pdb_id lig_name                                               \n",
       "1aq1   STU        93.868   96.361   92.425   96.050  113.410  \n",
       "1b38   ATP       119.394  136.450  105.957  134.649  142.233  \n",
       "1b39   ATP       126.726  145.415  112.378  143.401  155.683  \n",
       "1ckp   PVB        33.804   33.414   35.072   32.473   37.695  \n",
       "1di8   DTQ        55.138   59.596   52.744   58.066   50.606  \n",
       "\n",
       "[5 rows x 114 columns]"
      ]
     },
     "execution_count": 17,
     "metadata": {},
     "output_type": "execute_result"
    }
   ],
   "source": [
    "df_whim = pd.DataFrame(whim_array, index = m_index)\n",
    "df_whim.columns = whim_axial + whim_global\n",
    "df_whim.head(5)"
   ]
  },
  {
   "cell_type": "markdown",
   "metadata": {},
   "source": [
    "### Prueba: *Cálculo Manual de los Descriptores*"
   ]
  },
  {
   "cell_type": "code",
   "execution_count": 23,
   "metadata": {},
   "outputs": [
    {
     "data": {
      "image/png": "[encoded data removed]",
      "text/plain": [
       "<PIL.PngImagePlugin.PngImageFile image mode=RGB size=600x200 at 0x7EFE54CE2350>"
      ]
     },
     "execution_count": 23,
     "metadata": {},
     "output_type": "execute_result"
    }
   ],
   "source": [
    "# Example molecules\n",
    "mol_1 = df_crys_poses_rdk.loc['1fin', 'mol_rdk']\n",
    "mol_2 = df_crys_poses_rdk.loc['1b38', 'mol_rdk']\n",
    "\n",
    "Chem.Draw.MolsToGridImage([mol_1, mol_2])"
   ]
  },
  {
   "cell_type": "code",
   "execution_count": 85,
   "metadata": {},
   "outputs": [],
   "source": [
    "def get_mol_coords(mol, centered = True):\n",
    "    num_atoms = len(mol.GetAtoms())\n",
    "    coords = pd.DataFrame({\n",
    "       'x': [mol.GetConformer().GetAtomPosition(i).x for i in range(num_atoms)],\n",
    "       'y': [mol.GetConformer().GetAtomPosition(i).y for i in range(num_atoms)],\n",
    "       'z': [mol.GetConformer().GetAtomPosition(i).z for i in range(num_atoms)]},\n",
    "            index = [mol.GetAtomWithIdx(i).GetSymbol() for i in range(num_atoms)])\n",
    "    if centered:\n",
    "        coords = coords - coords.mean(axis =  0)\n",
    "    return coords"
   ]
  },
  {
   "cell_type": "code",
   "execution_count": 86,
   "metadata": {},
   "outputs": [],
   "source": [
    "coords_1 = get_mol_coords(mol_1)\n",
    "coords_2 = get_mol_coords(mol_2)"
   ]
  },
  {
   "cell_type": "code",
   "execution_count": 87,
   "metadata": {},
   "outputs": [],
   "source": [
    "def calc_cov(centered_coord):\n",
    "    n, m = centered_coord.shape\n",
    "    cov = np.dot(centered_coord.T, centered_coord) / (n)\n",
    "    return cov"
   ]
  },
  {
   "cell_type": "code",
   "execution_count": 95,
   "metadata": {},
   "outputs": [
    {
     "data": {
      "text/plain": [
       "array([[ 4.79456201,  0.98398779, -4.20694859],\n",
       "       [ 0.98398779,  1.34325994, -1.39228244],\n",
       "       [-4.20694859, -1.39228244, 12.57797997]])"
      ]
     },
     "execution_count": 95,
     "metadata": {},
     "output_type": "execute_result"
    }
   ],
   "source": [
    "cov_1 = calc_cov(coords_1)\n",
    "cov_2 = calc_cov(coords_2)"
   ]
  },
  {
   "cell_type": "code",
   "execution_count": 89,
   "metadata": {},
   "outputs": [],
   "source": [
    "def calc_eigen(cov):\n",
    "    eigen_values, eigen_vectors = np.linalg.eig(cov)\n",
    "    return eigen_values, eigen_vectors"
   ]
  },
  {
   "cell_type": "code",
   "execution_count": 96,
   "metadata": {},
   "outputs": [],
   "source": [
    "L_1, V_1 = calc_eigen(cov_1)\n",
    "L_1, V_2 = calc_eigen(cov_2)"
   ]
  },
  {
   "cell_type": "code",
   "execution_count": 24,
   "metadata": {},
   "outputs": [
    {
     "name": "stdout",
     "output_type": "stream",
     "text": [
      "[[ 3.70653789  1.88840546 -4.86600543]\n",
      " [ 1.88840546  2.36186779 -4.03800605]\n",
      " [-4.86600543 -4.03800605 15.67115522]]\n",
      "18.612656162751875 2.147132983078222 0.9797717490710709\n",
      "21.739560894901167\n",
      "60.303702871495275\n",
      "121.19871297172224\n",
      "[0.85616523 0.09876616 0.04506861]\n",
      "[0.54289629 0.44634262 0.33873591]\n"
     ]
    },
    {
     "data": {
      "text/plain": [
       "0.08208172370355445"
      ]
     },
     "execution_count": 24,
     "metadata": {},
     "output_type": "execute_result"
    }
   ],
   "source": [
    "# Cálculo de la matriz de correlación\n",
    "atm_mol = df_crys_poses_rdk.loc['1fin', 'mol_rdk']\n",
    "#atm_mol = Chem.RemoveHs(atm_mol)\n",
    "\n",
    "num_atoms = len(atm_mol.GetAtoms())\n",
    "# Obtenemos las coordenadas de los átomos\n",
    "coords = pd.DataFrame({\n",
    "   'x': [atm_mol.GetConformer().GetAtomPosition(i).x for i in range(num_atoms)],\n",
    "   'y': [atm_mol.GetConformer().GetAtomPosition(i).y for i in range(num_atoms)],\n",
    "   'z': [atm_mol.GetConformer().GetAtomPosition(i).z for i in range(num_atoms)]})\n",
    "# Centralizamos los valores\n",
    "centered_coord = coords - coords.mean(axis=0)\n",
    "# Cálculo de la matriz de covarianza sin pesos\n",
    "n, m = centered_coord.shape\n",
    "C = np.dot(centered_coord.T, centered_coord) / (n)\n",
    "C\n",
    "\n",
    "print(C)\n",
    "\n",
    "# un paso que se omite aquí es que el primer eje, aquí representado como x, \n",
    "# será aquel que tenga el átomo con mayor peso, esto ocurre con la molécula 1aq1\n",
    "\n",
    "# Obtenemos los eigenvalores\n",
    "l_1, l_2, l_3 = np.linalg.eig(C)[0]\n",
    "eigenvectors = np.linalg.eig(C)[1]\n",
    "L = np.array([l_1, l_2, l_3])\n",
    "print(l_1, l_2, l_3)\n",
    "\n",
    "# Cálculo de Tu\n",
    "T = L.sum()\n",
    "print(T)\n",
    "\n",
    "# Cálculo de A (Suma de los productos de la combinatoria)\n",
    "import itertools\n",
    "comb = itertools.combinations(L, 2)\n",
    "A = np.array([i[0]*i[1] for i in comb]).sum()\n",
    "print(A)\n",
    "\n",
    "# Cálculo de V\n",
    "# V = T + A + (l1*l1*l2)\n",
    "V = T + A + (L.prod())\n",
    "print(V)\n",
    "\n",
    "# Cálculo de K\n",
    "K = 3/4 * sum(abs((L / L.sum()) - (1/3)))\n",
    "\n",
    "# Cálculo de P\n",
    "P = L / L.sum()\n",
    "print(P)\n",
    "\n",
    "# Cálculo de E\n",
    "t = np.dot(centered_coord, eigenvectors) # Coordenadas proyectadas\n",
    "E = (L**2 * n) / (t ** 4).sum(axis = 0)\n",
    "print(E)\n",
    "\n",
    "# Cálculo de D\n",
    "E.prod()\n",
    "\n",
    "# Cál"
   ]
  },
  {
   "cell_type": "code",
   "execution_count": 26,
   "metadata": {},
   "outputs": [
    {
     "name": "stdout",
     "output_type": "stream",
     "text": [
      "[14.62728943  3.01695878  1.07155217]\n",
      "[18.61265616  2.14713298  0.97977175]\n"
     ]
    }
   ],
   "source": [
    "def get_mol_coords(mol, centered = True):\n",
    "    num_atoms = len(mol.GetAtoms())\n",
    "    coords = pd.DataFrame({\n",
    "       'x': [mol.GetConformer().GetAtomPosition(i).x for i in range(num_atoms)],\n",
    "       'y': [mol.GetConformer().GetAtomPosition(i).y for i in range(num_atoms)],\n",
    "       'z': [mol.GetConformer().GetAtomPosition(i).z for i in range(num_atoms)]})\n",
    "    if centered:\n",
    "        coords = coords - coords.mean(axis =  0)\n",
    "    return coords\n",
    "\n",
    "def calc_cov(centered_coord):\n",
    "    n, m = centered_coord.shape\n",
    "    cov = np.dot(centered_coord.T, centered_coord) / (n)\n",
    "    return cov\n",
    "\n",
    "def calc_eigen(cov):\n",
    "    eigen_values, eigen_vectors = np.linalg.eig(cov)\n",
    "    return eigen_values, eigen_vectors\n",
    "\n",
    "def project_coords(centered_coord, e_vectors):\n",
    "    projected = np.dot(centered_coord, e_vectors)\n",
    "    return projected\n",
    "\n",
    "\n",
    "atm_mol_1b38 = df_crys_poses_rdk.loc['1b38', 'mol_rdk']\n",
    "coords_1b38 = get_mol_coords(atm_mol_1b38)\n",
    "cov_1b38 = calc_cov(coords_1b38)\n",
    "L_1b38, V_1b38 = calc_eigen(cov_1b38)\n",
    "t_1b38 = project_coords(coords_1b38, V_1b38)\n",
    "\n",
    "atm_mol_1fin = df_crys_poses_rdk.loc['1fin', 'mol_rdk']\n",
    "coords_1fin = get_mol_coords(atm_mol_1fin)\n",
    "cov_1fin = calc_cov(coords_1fin)\n",
    "L_1fin, V_1fin = calc_eigen(cov_1fin)\n",
    "t_1fin = project_coords(coords_1fin, V_1fin)\n",
    "\n",
    "print(L_1b38)\n",
    "print(L_1fin)"
   ]
  },
  {
   "cell_type": "code",
   "execution_count": 27,
   "metadata": {},
   "outputs": [
    {
     "data": {
      "text/html": [
       "<div>\n",
       "<style scoped>\n",
       "    .dataframe tbody tr th:only-of-type {\n",
       "        vertical-align: middle;\n",
       "    }\n",
       "\n",
       "    .dataframe tbody tr th {\n",
       "        vertical-align: top;\n",
       "    }\n",
       "\n",
       "    .dataframe thead th {\n",
       "        text-align: right;\n",
       "    }\n",
       "</style>\n",
       "<table border=\"1\" class=\"dataframe\">\n",
       "  <thead>\n",
       "    <tr style=\"text-align: right;\">\n",
       "      <th></th>\n",
       "      <th></th>\n",
       "      <th>L1u</th>\n",
       "      <th>L2u</th>\n",
       "      <th>L3u</th>\n",
       "      <th>P1u</th>\n",
       "      <th>P2u</th>\n",
       "      <th>G1u</th>\n",
       "      <th>G2u</th>\n",
       "      <th>G3u</th>\n",
       "      <th>E1u</th>\n",
       "      <th>E2u</th>\n",
       "      <th>...</th>\n",
       "      <th>Dp</th>\n",
       "      <th>Di</th>\n",
       "      <th>Ds</th>\n",
       "      <th>Vu</th>\n",
       "      <th>Vm</th>\n",
       "      <th>Vv</th>\n",
       "      <th>Ve</th>\n",
       "      <th>Vp</th>\n",
       "      <th>Vi</th>\n",
       "      <th>Vs</th>\n",
       "    </tr>\n",
       "    <tr>\n",
       "      <th>pdb_id</th>\n",
       "      <th>lig_name</th>\n",
       "      <th></th>\n",
       "      <th></th>\n",
       "      <th></th>\n",
       "      <th></th>\n",
       "      <th></th>\n",
       "      <th></th>\n",
       "      <th></th>\n",
       "      <th></th>\n",
       "      <th></th>\n",
       "      <th></th>\n",
       "      <th></th>\n",
       "      <th></th>\n",
       "      <th></th>\n",
       "      <th></th>\n",
       "      <th></th>\n",
       "      <th></th>\n",
       "      <th></th>\n",
       "      <th></th>\n",
       "      <th></th>\n",
       "      <th></th>\n",
       "      <th></th>\n",
       "    </tr>\n",
       "  </thead>\n",
       "  <tbody>\n",
       "    <tr>\n",
       "      <th>1aq1</th>\n",
       "      <th>STU</th>\n",
       "      <td>7.055</td>\n",
       "      <td>6.592</td>\n",
       "      <td>0.574</td>\n",
       "      <td>0.496</td>\n",
       "      <td>0.464</td>\n",
       "      <td>0.163</td>\n",
       "      <td>0.165</td>\n",
       "      <td>0.165</td>\n",
       "      <td>0.560</td>\n",
       "      <td>0.509</td>\n",
       "      <td>...</td>\n",
       "      <td>0.312</td>\n",
       "      <td>0.387</td>\n",
       "      <td>0.414</td>\n",
       "      <td>95.243</td>\n",
       "      <td>96.377</td>\n",
       "      <td>93.868</td>\n",
       "      <td>96.361</td>\n",
       "      <td>92.425</td>\n",
       "      <td>96.050</td>\n",
       "      <td>113.410</td>\n",
       "    </tr>\n",
       "    <tr>\n",
       "      <th>1b38</th>\n",
       "      <th>ATP</th>\n",
       "      <td>14.627</td>\n",
       "      <td>3.017</td>\n",
       "      <td>1.072</td>\n",
       "      <td>0.782</td>\n",
       "      <td>0.161</td>\n",
       "      <td>0.168</td>\n",
       "      <td>0.168</td>\n",
       "      <td>0.168</td>\n",
       "      <td>0.537</td>\n",
       "      <td>0.444</td>\n",
       "      <td>...</td>\n",
       "      <td>0.359</td>\n",
       "      <td>0.447</td>\n",
       "      <td>0.471</td>\n",
       "      <td>129.040</td>\n",
       "      <td>128.184</td>\n",
       "      <td>119.394</td>\n",
       "      <td>136.450</td>\n",
       "      <td>105.957</td>\n",
       "      <td>134.649</td>\n",
       "      <td>142.233</td>\n",
       "    </tr>\n",
       "    <tr>\n",
       "      <th>1b39</th>\n",
       "      <th>ATP</th>\n",
       "      <td>15.143</td>\n",
       "      <td>2.971</td>\n",
       "      <td>1.157</td>\n",
       "      <td>0.786</td>\n",
       "      <td>0.154</td>\n",
       "      <td>0.168</td>\n",
       "      <td>0.168</td>\n",
       "      <td>0.168</td>\n",
       "      <td>0.540</td>\n",
       "      <td>0.430</td>\n",
       "      <td>...</td>\n",
       "      <td>0.357</td>\n",
       "      <td>0.443</td>\n",
       "      <td>0.486</td>\n",
       "      <td>137.255</td>\n",
       "      <td>136.863</td>\n",
       "      <td>126.726</td>\n",
       "      <td>145.415</td>\n",
       "      <td>112.378</td>\n",
       "      <td>143.401</td>\n",
       "      <td>155.683</td>\n",
       "    </tr>\n",
       "    <tr>\n",
       "      <th>1ckp</th>\n",
       "      <th>PVB</th>\n",
       "      <td>9.851</td>\n",
       "      <td>1.338</td>\n",
       "      <td>0.323</td>\n",
       "      <td>0.856</td>\n",
       "      <td>0.116</td>\n",
       "      <td>0.193</td>\n",
       "      <td>0.193</td>\n",
       "      <td>0.193</td>\n",
       "      <td>0.581</td>\n",
       "      <td>0.507</td>\n",
       "      <td>...</td>\n",
       "      <td>0.590</td>\n",
       "      <td>0.502</td>\n",
       "      <td>0.698</td>\n",
       "      <td>32.549</td>\n",
       "      <td>40.035</td>\n",
       "      <td>33.804</td>\n",
       "      <td>33.414</td>\n",
       "      <td>35.072</td>\n",
       "      <td>32.473</td>\n",
       "      <td>37.695</td>\n",
       "    </tr>\n",
       "    <tr>\n",
       "      <th>1di8</th>\n",
       "      <th>DTQ</th>\n",
       "      <td>13.308</td>\n",
       "      <td>3.023</td>\n",
       "      <td>0.010</td>\n",
       "      <td>0.814</td>\n",
       "      <td>0.185</td>\n",
       "      <td>0.183</td>\n",
       "      <td>0.183</td>\n",
       "      <td>0.186</td>\n",
       "      <td>0.536</td>\n",
       "      <td>0.379</td>\n",
       "      <td>...</td>\n",
       "      <td>0.343</td>\n",
       "      <td>0.417</td>\n",
       "      <td>0.341</td>\n",
       "      <td>57.162</td>\n",
       "      <td>59.616</td>\n",
       "      <td>55.138</td>\n",
       "      <td>59.596</td>\n",
       "      <td>52.744</td>\n",
       "      <td>58.066</td>\n",
       "      <td>50.606</td>\n",
       "    </tr>\n",
       "    <tr>\n",
       "      <th>1dm2</th>\n",
       "      <th>HMD</th>\n",
       "      <td>7.229</td>\n",
       "      <td>3.692</td>\n",
       "      <td>0.240</td>\n",
       "      <td>0.648</td>\n",
       "      <td>0.331</td>\n",
       "      <td>0.172</td>\n",
       "      <td>0.172</td>\n",
       "      <td>0.181</td>\n",
       "      <td>0.463</td>\n",
       "      <td>0.356</td>\n",
       "      <td>...</td>\n",
       "      <td>0.348</td>\n",
       "      <td>0.339</td>\n",
       "      <td>0.420</td>\n",
       "      <td>46.874</td>\n",
       "      <td>57.542</td>\n",
       "      <td>39.440</td>\n",
       "      <td>48.055</td>\n",
       "      <td>43.026</td>\n",
       "      <td>48.748</td>\n",
       "      <td>51.961</td>\n",
       "    </tr>\n",
       "    <tr>\n",
       "      <th>1e1v</th>\n",
       "      <th>CMG</th>\n",
       "      <td>10.130</td>\n",
       "      <td>1.867</td>\n",
       "      <td>0.163</td>\n",
       "      <td>0.833</td>\n",
       "      <td>0.154</td>\n",
       "      <td>0.193</td>\n",
       "      <td>0.193</td>\n",
       "      <td>0.193</td>\n",
       "      <td>0.613</td>\n",
       "      <td>0.345</td>\n",
       "      <td>...</td>\n",
       "      <td>0.485</td>\n",
       "      <td>0.429</td>\n",
       "      <td>0.292</td>\n",
       "      <td>36.122</td>\n",
       "      <td>35.743</td>\n",
       "      <td>35.956</td>\n",
       "      <td>35.733</td>\n",
       "      <td>36.193</td>\n",
       "      <td>36.594</td>\n",
       "      <td>31.385</td>\n",
       "    </tr>\n",
       "    <tr>\n",
       "      <th>1e1x</th>\n",
       "      <th>NW1</th>\n",
       "      <td>9.884</td>\n",
       "      <td>2.290</td>\n",
       "      <td>0.072</td>\n",
       "      <td>0.807</td>\n",
       "      <td>0.187</td>\n",
       "      <td>0.193</td>\n",
       "      <td>0.193</td>\n",
       "      <td>0.193</td>\n",
       "      <td>0.591</td>\n",
       "      <td>0.365</td>\n",
       "      <td>...</td>\n",
       "      <td>0.422</td>\n",
       "      <td>0.397</td>\n",
       "      <td>0.308</td>\n",
       "      <td>37.393</td>\n",
       "      <td>38.159</td>\n",
       "      <td>35.999</td>\n",
       "      <td>38.136</td>\n",
       "      <td>34.788</td>\n",
       "      <td>38.533</td>\n",
       "      <td>36.141</td>\n",
       "    </tr>\n",
       "    <tr>\n",
       "      <th>1e9h</th>\n",
       "      <th>INR</th>\n",
       "      <td>11.527</td>\n",
       "      <td>3.131</td>\n",
       "      <td>0.130</td>\n",
       "      <td>0.780</td>\n",
       "      <td>0.212</td>\n",
       "      <td>0.179</td>\n",
       "      <td>0.179</td>\n",
       "      <td>0.250</td>\n",
       "      <td>0.543</td>\n",
       "      <td>0.504</td>\n",
       "      <td>...</td>\n",
       "      <td>0.314</td>\n",
       "      <td>0.400</td>\n",
       "      <td>0.342</td>\n",
       "      <td>57.471</td>\n",
       "      <td>63.172</td>\n",
       "      <td>53.078</td>\n",
       "      <td>62.100</td>\n",
       "      <td>48.944</td>\n",
       "      <td>60.140</td>\n",
       "      <td>56.101</td>\n",
       "    </tr>\n",
       "    <tr>\n",
       "      <th>1fin</th>\n",
       "      <th>ATP</th>\n",
       "      <td>18.613</td>\n",
       "      <td>2.147</td>\n",
       "      <td>0.980</td>\n",
       "      <td>0.856</td>\n",
       "      <td>0.099</td>\n",
       "      <td>0.168</td>\n",
       "      <td>0.168</td>\n",
       "      <td>0.168</td>\n",
       "      <td>0.543</td>\n",
       "      <td>0.446</td>\n",
       "      <td>...</td>\n",
       "      <td>0.361</td>\n",
       "      <td>0.464</td>\n",
       "      <td>0.511</td>\n",
       "      <td>121.199</td>\n",
       "      <td>120.259</td>\n",
       "      <td>111.291</td>\n",
       "      <td>128.563</td>\n",
       "      <td>98.017</td>\n",
       "      <td>127.324</td>\n",
       "      <td>139.714</td>\n",
       "    </tr>\n",
       "    <tr>\n",
       "      <th>1fq1</th>\n",
       "      <th>ATP</th>\n",
       "      <td>16.911</td>\n",
       "      <td>3.053</td>\n",
       "      <td>0.804</td>\n",
       "      <td>0.814</td>\n",
       "      <td>0.147</td>\n",
       "      <td>0.168</td>\n",
       "      <td>0.168</td>\n",
       "      <td>0.168</td>\n",
       "      <td>0.577</td>\n",
       "      <td>0.423</td>\n",
       "      <td>...</td>\n",
       "      <td>0.352</td>\n",
       "      <td>0.441</td>\n",
       "      <td>0.561</td>\n",
       "      <td>129.960</td>\n",
       "      <td>134.605</td>\n",
       "      <td>118.257</td>\n",
       "      <td>139.784</td>\n",
       "      <td>104.873</td>\n",
       "      <td>136.940</td>\n",
       "      <td>165.204</td>\n",
       "    </tr>\n",
       "    <tr>\n",
       "      <th>1fvt</th>\n",
       "      <th>106</th>\n",
       "      <td>17.933</td>\n",
       "      <td>2.402</td>\n",
       "      <td>0.200</td>\n",
       "      <td>0.873</td>\n",
       "      <td>0.117</td>\n",
       "      <td>0.184</td>\n",
       "      <td>0.184</td>\n",
       "      <td>0.181</td>\n",
       "      <td>0.612</td>\n",
       "      <td>0.320</td>\n",
       "      <td>...</td>\n",
       "      <td>0.368</td>\n",
       "      <td>0.378</td>\n",
       "      <td>0.507</td>\n",
       "      <td>76.317</td>\n",
       "      <td>129.129</td>\n",
       "      <td>76.081</td>\n",
       "      <td>83.017</td>\n",
       "      <td>77.569</td>\n",
       "      <td>79.146</td>\n",
       "      <td>95.178</td>\n",
       "    </tr>\n",
       "    <tr>\n",
       "      <th>1fvv</th>\n",
       "      <th>107</th>\n",
       "      <td>21.963</td>\n",
       "      <td>3.368</td>\n",
       "      <td>1.355</td>\n",
       "      <td>0.823</td>\n",
       "      <td>0.126</td>\n",
       "      <td>0.168</td>\n",
       "      <td>0.168</td>\n",
       "      <td>0.168</td>\n",
       "      <td>0.704</td>\n",
       "      <td>0.495</td>\n",
       "      <td>...</td>\n",
       "      <td>0.481</td>\n",
       "      <td>0.517</td>\n",
       "      <td>0.648</td>\n",
       "      <td>235.255</td>\n",
       "      <td>241.512</td>\n",
       "      <td>225.064</td>\n",
       "      <td>244.671</td>\n",
       "      <td>215.545</td>\n",
       "      <td>242.096</td>\n",
       "      <td>305.856</td>\n",
       "    </tr>\n",
       "    <tr>\n",
       "      <th>1g5s</th>\n",
       "      <th>I17</th>\n",
       "      <td>15.045</td>\n",
       "      <td>5.598</td>\n",
       "      <td>0.494</td>\n",
       "      <td>0.712</td>\n",
       "      <td>0.265</td>\n",
       "      <td>0.169</td>\n",
       "      <td>0.169</td>\n",
       "      <td>0.171</td>\n",
       "      <td>0.488</td>\n",
       "      <td>0.534</td>\n",
       "      <td>...</td>\n",
       "      <td>0.495</td>\n",
       "      <td>0.470</td>\n",
       "      <td>0.401</td>\n",
       "      <td>157.170</td>\n",
       "      <td>153.713</td>\n",
       "      <td>162.594</td>\n",
       "      <td>153.844</td>\n",
       "      <td>165.796</td>\n",
       "      <td>151.269</td>\n",
       "      <td>143.751</td>\n",
       "    </tr>\n",
       "    <tr>\n",
       "      <th>1gih</th>\n",
       "      <th>1PU</th>\n",
       "      <td>8.444</td>\n",
       "      <td>3.643</td>\n",
       "      <td>0.105</td>\n",
       "      <td>0.693</td>\n",
       "      <td>0.299</td>\n",
       "      <td>0.181</td>\n",
       "      <td>0.181</td>\n",
       "      <td>0.184</td>\n",
       "      <td>0.560</td>\n",
       "      <td>0.516</td>\n",
       "      <td>...</td>\n",
       "      <td>0.451</td>\n",
       "      <td>0.441</td>\n",
       "      <td>0.474</td>\n",
       "      <td>47.443</td>\n",
       "      <td>47.829</td>\n",
       "      <td>47.558</td>\n",
       "      <td>47.848</td>\n",
       "      <td>46.978</td>\n",
       "      <td>46.652</td>\n",
       "      <td>56.156</td>\n",
       "    </tr>\n",
       "  </tbody>\n",
       "</table>\n",
       "<p>15 rows × 114 columns</p>\n",
       "</div>"
      ],
      "text/plain": [
       "                    L1u    L2u    L3u    P1u    P2u    G1u    G2u    G3u  \\\n",
       "pdb_id lig_name                                                            \n",
       "1aq1   STU        7.055  6.592  0.574  0.496  0.464  0.163  0.165  0.165   \n",
       "1b38   ATP       14.627  3.017  1.072  0.782  0.161  0.168  0.168  0.168   \n",
       "1b39   ATP       15.143  2.971  1.157  0.786  0.154  0.168  0.168  0.168   \n",
       "1ckp   PVB        9.851  1.338  0.323  0.856  0.116  0.193  0.193  0.193   \n",
       "1di8   DTQ       13.308  3.023  0.010  0.814  0.185  0.183  0.183  0.186   \n",
       "1dm2   HMD        7.229  3.692  0.240  0.648  0.331  0.172  0.172  0.181   \n",
       "1e1v   CMG       10.130  1.867  0.163  0.833  0.154  0.193  0.193  0.193   \n",
       "1e1x   NW1        9.884  2.290  0.072  0.807  0.187  0.193  0.193  0.193   \n",
       "1e9h   INR       11.527  3.131  0.130  0.780  0.212  0.179  0.179  0.250   \n",
       "1fin   ATP       18.613  2.147  0.980  0.856  0.099  0.168  0.168  0.168   \n",
       "1fq1   ATP       16.911  3.053  0.804  0.814  0.147  0.168  0.168  0.168   \n",
       "1fvt   106       17.933  2.402  0.200  0.873  0.117  0.184  0.184  0.181   \n",
       "1fvv   107       21.963  3.368  1.355  0.823  0.126  0.168  0.168  0.168   \n",
       "1g5s   I17       15.045  5.598  0.494  0.712  0.265  0.169  0.169  0.171   \n",
       "1gih   1PU        8.444  3.643  0.105  0.693  0.299  0.181  0.181  0.184   \n",
       "\n",
       "                   E1u    E2u  ...     Dp     Di     Ds       Vu       Vm  \\\n",
       "pdb_id lig_name                ...                                          \n",
       "1aq1   STU       0.560  0.509  ...  0.312  0.387  0.414   95.243   96.377   \n",
       "1b38   ATP       0.537  0.444  ...  0.359  0.447  0.471  129.040  128.184   \n",
       "1b39   ATP       0.540  0.430  ...  0.357  0.443  0.486  137.255  136.863   \n",
       "1ckp   PVB       0.581  0.507  ...  0.590  0.502  0.698   32.549   40.035   \n",
       "1di8   DTQ       0.536  0.379  ...  0.343  0.417  0.341   57.162   59.616   \n",
       "1dm2   HMD       0.463  0.356  ...  0.348  0.339  0.420   46.874   57.542   \n",
       "1e1v   CMG       0.613  0.345  ...  0.485  0.429  0.292   36.122   35.743   \n",
       "1e1x   NW1       0.591  0.365  ...  0.422  0.397  0.308   37.393   38.159   \n",
       "1e9h   INR       0.543  0.504  ...  0.314  0.400  0.342   57.471   63.172   \n",
       "1fin   ATP       0.543  0.446  ...  0.361  0.464  0.511  121.199  120.259   \n",
       "1fq1   ATP       0.577  0.423  ...  0.352  0.441  0.561  129.960  134.605   \n",
       "1fvt   106       0.612  0.320  ...  0.368  0.378  0.507   76.317  129.129   \n",
       "1fvv   107       0.704  0.495  ...  0.481  0.517  0.648  235.255  241.512   \n",
       "1g5s   I17       0.488  0.534  ...  0.495  0.470  0.401  157.170  153.713   \n",
       "1gih   1PU       0.560  0.516  ...  0.451  0.441  0.474   47.443   47.829   \n",
       "\n",
       "                      Vv       Ve       Vp       Vi       Vs  \n",
       "pdb_id lig_name                                               \n",
       "1aq1   STU        93.868   96.361   92.425   96.050  113.410  \n",
       "1b38   ATP       119.394  136.450  105.957  134.649  142.233  \n",
       "1b39   ATP       126.726  145.415  112.378  143.401  155.683  \n",
       "1ckp   PVB        33.804   33.414   35.072   32.473   37.695  \n",
       "1di8   DTQ        55.138   59.596   52.744   58.066   50.606  \n",
       "1dm2   HMD        39.440   48.055   43.026   48.748   51.961  \n",
       "1e1v   CMG        35.956   35.733   36.193   36.594   31.385  \n",
       "1e1x   NW1        35.999   38.136   34.788   38.533   36.141  \n",
       "1e9h   INR        53.078   62.100   48.944   60.140   56.101  \n",
       "1fin   ATP       111.291  128.563   98.017  127.324  139.714  \n",
       "1fq1   ATP       118.257  139.784  104.873  136.940  165.204  \n",
       "1fvt   106        76.081   83.017   77.569   79.146   95.178  \n",
       "1fvv   107       225.064  244.671  215.545  242.096  305.856  \n",
       "1g5s   I17       162.594  153.844  165.796  151.269  143.751  \n",
       "1gih   1PU        47.558   47.848   46.978   46.652   56.156  \n",
       "\n",
       "[15 rows x 114 columns]"
      ]
     },
     "execution_count": 27,
     "metadata": {},
     "output_type": "execute_result"
    }
   ],
   "source": [
    "df_whim.head(15)"
   ]
  },
  {
   "cell_type": "code",
   "execution_count": 29,
   "metadata": {},
   "outputs": [
    {
     "data": {
      "image/png": "[encoded data removed]",
      "text/plain": [
       "<Figure size 432x288 with 1 Axes>"
      ]
     },
     "metadata": {
      "needs_background": "light"
     },
     "output_type": "display_data"
    }
   ],
   "source": [
    "# plot de la molécula en los primeros dos componentes\n",
    "import matplotlib.pyplot as plt\n",
    "plt.scatter(x = t_1b38.T[0], y = t_1b38.T[1])\n",
    "plt.scatter(x = -1 * t_1fin.T[0], y = -1 * t_1fin.T[1])\n",
    "plt.show()"
   ]
  },
  {
   "cell_type": "markdown",
   "metadata": {},
   "source": [
    "# PENDIENTE"
   ]
  },
  {
   "cell_type": "code",
   "execution_count": 168,
   "metadata": {},
   "outputs": [
    {
     "name": "stdout",
     "output_type": "stream",
     "text": [
      "31\n",
      "[[ 4.95437998  1.01678768 -4.34717889]\n",
      " [ 1.01678768  1.38803751 -1.43869312]\n",
      " [-4.34717889 -1.43869312 12.9972429 ]]\n",
      "15.114865742772357 3.117524072626551 1.1072705759989463\n"
     ]
    },
    {
     "data": {
      "image/png": "[encoded data removed]",
      "text/plain": [
       "<rdkit.Chem.rdchem.Mol at 0x7f3f95ffac10>"
      ]
     },
     "execution_count": 168,
     "metadata": {},
     "output_type": "execute_result"
    }
   ],
   "source": [
    "# Cálculo de la matriz de correlación\n",
    "atm_mol = df_crys_poses_rdk.loc['1b38', 'mol_rdk']\n",
    "#atm_mol = Chem.RemoveHs(atm_mol)\n",
    "\n",
    "num_atoms = len(atm_mol.GetAtoms())\n",
    "print(num_atoms)\n",
    "# Obtenemos las coordenadas de los átomos\n",
    "coords = pd.DataFrame({\n",
    "   'x': [atm_mol.GetConformer().GetAtomPosition(i).x for i in range(num_atoms)],\n",
    "   'y': [atm_mol.GetConformer().GetAtomPosition(i).y for i in range(num_atoms)],\n",
    "   'z': [atm_mol.GetConformer().GetAtomPosition(i).z for i in range(num_atoms)]})\n",
    "\n",
    "centered_coord = coords - coords.mean(axis=0)\n",
    "\n",
    "n, m = centered_coord.shape\n",
    "C = np.dot(centered_coord.T, centered_coord) / (n)\n",
    "C\n",
    "\n",
    "# Generamos la matriz de coordenadas sin pesos\n",
    "#m_cov = np.cov(coords.T)\n",
    "print(C)\n",
    "\n",
    "# Obtenemos los eigenvalores\n",
    "l_1, l_2, l3 = np.linalg.eig(m_cov)[0]\n",
    "print(l_1, l_2, l3)\n",
    "\n",
    "Chem.RemoveHs(atm_mol)"
   ]
  },
  {
   "cell_type": "markdown",
   "metadata": {},
   "source": [
    "Visualizamos la matriz de correlación de los descriptores. Como puede observarse hay patrones de correlación entre los descriptores que se diferencian únicamente por los esquemas de peso usados."
   ]
  },
  {
   "cell_type": "code",
   "execution_count": 48,
   "metadata": {},
   "outputs": [
    {
     "data": {
      "image/png": "[encoded data removed]",
      "text/plain": [
       "<Figure size 648x504 with 2 Axes>"
      ]
     },
     "metadata": {
      "needs_background": "light"
     },
     "output_type": "display_data"
    }
   ],
   "source": [
    "%matplotlib inline\n",
    "import matplotlib.pyplot as plt\n",
    "\n",
    "fig = plt.figure(figsize=(9, 7))\n",
    "plt.rcParams.update({'font.size': 15})\n",
    "plt.imshow( df_whim.corr(), cmap='BrBG')\n",
    "plt.colorbar();"
   ]
  },
  {
   "cell_type": "markdown",
   "metadata": {},
   "source": [
    "***\n",
    "### Selección de características\n",
    "Importamos las librerías de **sklearn** que vamos a utilizar para hacer la selección de los descriptores finales."
   ]
  },
  {
   "cell_type": "code",
   "execution_count": 49,
   "metadata": {},
   "outputs": [],
   "source": [
    "from sklearn.feature_selection import VarianceThreshold\n",
    "from sklearn.preprocessing import StandardScaler"
   ]
  },
  {
   "cell_type": "code",
   "execution_count": 50,
   "metadata": {},
   "outputs": [],
   "source": [
    "#Estandarizamos\n",
    "if False:\n",
    "    scaler = StandardScaler()\n",
    "    df_whim[df_whim.columns] = scaler.fit_transform(df_whim[df_whim.columns])"
   ]
  },
  {
   "cell_type": "markdown",
   "metadata": {},
   "source": [
    "- **Eliminando características constantes o poco variables.**"
   ]
  },
  {
   "cell_type": "code",
   "execution_count": 51,
   "metadata": {},
   "outputs": [
    {
     "name": "stdout",
     "output_type": "stream",
     "text": [
      "Número de características a conservar: 98\n",
      "Su varianza es mayor a 0.001.\n"
     ]
    }
   ],
   "source": [
    "#Eliminando características constantes\n",
    "umbral_var = 0.001\n",
    "constant_filter = VarianceThreshold(threshold = umbral_var)\n",
    "constant_filter.fit( df_whim )\n",
    "non_const_columns = df_whim.columns[constant_filter.get_support()]\n",
    "\n",
    "print(F'Número de características a conservar: {len(non_const_columns)}\\nSu varianza es mayor a {umbral_var}.')"
   ]
  },
  {
   "cell_type": "code",
   "execution_count": 52,
   "metadata": {},
   "outputs": [
    {
     "data": {
      "text/html": [
       "<div>\n",
       "<style scoped>\n",
       "    .dataframe tbody tr th:only-of-type {\n",
       "        vertical-align: middle;\n",
       "    }\n",
       "\n",
       "    .dataframe tbody tr th {\n",
       "        vertical-align: top;\n",
       "    }\n",
       "\n",
       "    .dataframe thead th {\n",
       "        text-align: right;\n",
       "    }\n",
       "</style>\n",
       "<table border=\"1\" class=\"dataframe\">\n",
       "  <thead>\n",
       "    <tr style=\"text-align: right;\">\n",
       "      <th></th>\n",
       "      <th></th>\n",
       "      <th>L1u</th>\n",
       "      <th>L2u</th>\n",
       "      <th>L3u</th>\n",
       "      <th>P1u</th>\n",
       "      <th>P2u</th>\n",
       "      <th>G3u</th>\n",
       "      <th>E1u</th>\n",
       "      <th>E2u</th>\n",
       "      <th>E3u</th>\n",
       "      <th>L1m</th>\n",
       "      <th>...</th>\n",
       "      <th>Dp</th>\n",
       "      <th>Di</th>\n",
       "      <th>Ds</th>\n",
       "      <th>Vu</th>\n",
       "      <th>Vm</th>\n",
       "      <th>Vv</th>\n",
       "      <th>Ve</th>\n",
       "      <th>Vp</th>\n",
       "      <th>Vi</th>\n",
       "      <th>Vs</th>\n",
       "    </tr>\n",
       "    <tr>\n",
       "      <th>pdb_id</th>\n",
       "      <th>lig_name</th>\n",
       "      <th></th>\n",
       "      <th></th>\n",
       "      <th></th>\n",
       "      <th></th>\n",
       "      <th></th>\n",
       "      <th></th>\n",
       "      <th></th>\n",
       "      <th></th>\n",
       "      <th></th>\n",
       "      <th></th>\n",
       "      <th></th>\n",
       "      <th></th>\n",
       "      <th></th>\n",
       "      <th></th>\n",
       "      <th></th>\n",
       "      <th></th>\n",
       "      <th></th>\n",
       "      <th></th>\n",
       "      <th></th>\n",
       "      <th></th>\n",
       "      <th></th>\n",
       "    </tr>\n",
       "  </thead>\n",
       "  <tbody>\n",
       "    <tr>\n",
       "      <th>1aq1</th>\n",
       "      <th>STU</th>\n",
       "      <td>7.055</td>\n",
       "      <td>6.592</td>\n",
       "      <td>0.574</td>\n",
       "      <td>0.496</td>\n",
       "      <td>0.464</td>\n",
       "      <td>0.165</td>\n",
       "      <td>0.560</td>\n",
       "      <td>0.509</td>\n",
       "      <td>0.220</td>\n",
       "      <td>7.143</td>\n",
       "      <td>...</td>\n",
       "      <td>0.312</td>\n",
       "      <td>0.387</td>\n",
       "      <td>0.414</td>\n",
       "      <td>95.243</td>\n",
       "      <td>96.377</td>\n",
       "      <td>93.868</td>\n",
       "      <td>96.361</td>\n",
       "      <td>92.425</td>\n",
       "      <td>96.050</td>\n",
       "      <td>113.410</td>\n",
       "    </tr>\n",
       "    <tr>\n",
       "      <th>1b38</th>\n",
       "      <th>ATP</th>\n",
       "      <td>15.143</td>\n",
       "      <td>2.971</td>\n",
       "      <td>1.157</td>\n",
       "      <td>0.786</td>\n",
       "      <td>0.154</td>\n",
       "      <td>0.168</td>\n",
       "      <td>0.540</td>\n",
       "      <td>0.430</td>\n",
       "      <td>0.307</td>\n",
       "      <td>15.540</td>\n",
       "      <td>...</td>\n",
       "      <td>0.357</td>\n",
       "      <td>0.443</td>\n",
       "      <td>0.486</td>\n",
       "      <td>137.255</td>\n",
       "      <td>136.863</td>\n",
       "      <td>126.726</td>\n",
       "      <td>145.415</td>\n",
       "      <td>112.378</td>\n",
       "      <td>143.401</td>\n",
       "      <td>155.683</td>\n",
       "    </tr>\n",
       "    <tr>\n",
       "      <th>1b39</th>\n",
       "      <th>ATP</th>\n",
       "      <td>15.143</td>\n",
       "      <td>2.971</td>\n",
       "      <td>1.157</td>\n",
       "      <td>0.786</td>\n",
       "      <td>0.154</td>\n",
       "      <td>0.168</td>\n",
       "      <td>0.540</td>\n",
       "      <td>0.430</td>\n",
       "      <td>0.307</td>\n",
       "      <td>15.540</td>\n",
       "      <td>...</td>\n",
       "      <td>0.357</td>\n",
       "      <td>0.443</td>\n",
       "      <td>0.486</td>\n",
       "      <td>137.255</td>\n",
       "      <td>136.863</td>\n",
       "      <td>126.726</td>\n",
       "      <td>145.415</td>\n",
       "      <td>112.378</td>\n",
       "      <td>143.401</td>\n",
       "      <td>155.683</td>\n",
       "    </tr>\n",
       "    <tr>\n",
       "      <th>1ckp</th>\n",
       "      <th>PVB</th>\n",
       "      <td>9.851</td>\n",
       "      <td>1.338</td>\n",
       "      <td>0.323</td>\n",
       "      <td>0.856</td>\n",
       "      <td>0.116</td>\n",
       "      <td>0.193</td>\n",
       "      <td>0.581</td>\n",
       "      <td>0.507</td>\n",
       "      <td>0.451</td>\n",
       "      <td>10.938</td>\n",
       "      <td>...</td>\n",
       "      <td>0.590</td>\n",
       "      <td>0.502</td>\n",
       "      <td>0.698</td>\n",
       "      <td>32.549</td>\n",
       "      <td>40.035</td>\n",
       "      <td>33.804</td>\n",
       "      <td>33.414</td>\n",
       "      <td>35.072</td>\n",
       "      <td>32.473</td>\n",
       "      <td>37.695</td>\n",
       "    </tr>\n",
       "    <tr>\n",
       "      <th>1di8</th>\n",
       "      <th>DTQ</th>\n",
       "      <td>13.308</td>\n",
       "      <td>3.023</td>\n",
       "      <td>0.010</td>\n",
       "      <td>0.814</td>\n",
       "      <td>0.185</td>\n",
       "      <td>0.186</td>\n",
       "      <td>0.536</td>\n",
       "      <td>0.379</td>\n",
       "      <td>0.298</td>\n",
       "      <td>13.525</td>\n",
       "      <td>...</td>\n",
       "      <td>0.343</td>\n",
       "      <td>0.417</td>\n",
       "      <td>0.341</td>\n",
       "      <td>57.162</td>\n",
       "      <td>59.616</td>\n",
       "      <td>55.138</td>\n",
       "      <td>59.596</td>\n",
       "      <td>52.744</td>\n",
       "      <td>58.066</td>\n",
       "      <td>50.606</td>\n",
       "    </tr>\n",
       "  </tbody>\n",
       "</table>\n",
       "<p>5 rows × 98 columns</p>\n",
       "</div>"
      ],
      "text/plain": [
       "                    L1u    L2u    L3u    P1u    P2u    G3u    E1u    E2u  \\\n",
       "pdb_id lig_name                                                            \n",
       "1aq1   STU        7.055  6.592  0.574  0.496  0.464  0.165  0.560  0.509   \n",
       "1b38   ATP       15.143  2.971  1.157  0.786  0.154  0.168  0.540  0.430   \n",
       "1b39   ATP       15.143  2.971  1.157  0.786  0.154  0.168  0.540  0.430   \n",
       "1ckp   PVB        9.851  1.338  0.323  0.856  0.116  0.193  0.581  0.507   \n",
       "1di8   DTQ       13.308  3.023  0.010  0.814  0.185  0.186  0.536  0.379   \n",
       "\n",
       "                   E3u     L1m  ...     Dp     Di     Ds       Vu       Vm  \\\n",
       "pdb_id lig_name                 ...                                          \n",
       "1aq1   STU       0.220   7.143  ...  0.312  0.387  0.414   95.243   96.377   \n",
       "1b38   ATP       0.307  15.540  ...  0.357  0.443  0.486  137.255  136.863   \n",
       "1b39   ATP       0.307  15.540  ...  0.357  0.443  0.486  137.255  136.863   \n",
       "1ckp   PVB       0.451  10.938  ...  0.590  0.502  0.698   32.549   40.035   \n",
       "1di8   DTQ       0.298  13.525  ...  0.343  0.417  0.341   57.162   59.616   \n",
       "\n",
       "                      Vv       Ve       Vp       Vi       Vs  \n",
       "pdb_id lig_name                                               \n",
       "1aq1   STU        93.868   96.361   92.425   96.050  113.410  \n",
       "1b38   ATP       126.726  145.415  112.378  143.401  155.683  \n",
       "1b39   ATP       126.726  145.415  112.378  143.401  155.683  \n",
       "1ckp   PVB        33.804   33.414   35.072   32.473   37.695  \n",
       "1di8   DTQ        55.138   59.596   52.744   58.066   50.606  \n",
       "\n",
       "[5 rows x 98 columns]"
      ]
     },
     "execution_count": 52,
     "metadata": {},
     "output_type": "execute_result"
    }
   ],
   "source": [
    "df_whim_no_const = df_whim[non_const_columns]\n",
    "df_whim_no_const.head(5)"
   ]
  },
  {
   "cell_type": "code",
   "execution_count": 53,
   "metadata": {},
   "outputs": [
    {
     "data": {
      "text/plain": [
       "0"
      ]
     },
     "execution_count": 53,
     "metadata": {},
     "output_type": "execute_result"
    }
   ],
   "source": [
    "# Removiendo caracteristicas duplicadas\n",
    "# Verificamos si hay columnas identicas\n",
    "df_whim_no_const.T.duplicated().sum()"
   ]
  },
  {
   "cell_type": "code",
   "execution_count": 54,
   "metadata": {},
   "outputs": [
    {
     "data": {
      "text/plain": [
       "85"
      ]
     },
     "execution_count": 54,
     "metadata": {},
     "output_type": "execute_result"
    }
   ],
   "source": [
    "# Eliminando características correlacioneadas\n",
    "correlated_features = set()\n",
    "corr_mat_whim = df_whim_no_const.corr()\n",
    "\n",
    "for row in range(len(corr_mat_whim)):\n",
    "    for col in range(row):\n",
    "        if abs(corr_mat_whim.iloc[row, col]) > 0.7:\n",
    "            colname = corr_mat_whim.columns[row]\n",
    "            correlated_features.add(colname)\n",
    "len(correlated_features)"
   ]
  },
  {
   "cell_type": "code",
   "execution_count": 52,
   "metadata": {},
   "outputs": [],
   "source": [
    "#correlated_features"
   ]
  },
  {
   "cell_type": "code",
   "execution_count": 55,
   "metadata": {},
   "outputs": [],
   "source": [
    "# Eliminamos las características con mayor correlación\n",
    "df_whim_final = df_whim_no_const.drop(labels=correlated_features, axis=1)"
   ]
  },
  {
   "cell_type": "code",
   "execution_count": 56,
   "metadata": {},
   "outputs": [
    {
     "data": {
      "text/plain": [
       "Index(['L1u', 'L2u', 'L3u', 'G3u', 'E1u', 'E2u', 'E3u', 'E1m', 'E2m', 'E3m',\n",
       "       'E1s', 'E2s', 'E3s'],\n",
       "      dtype='object')"
      ]
     },
     "execution_count": 56,
     "metadata": {},
     "output_type": "execute_result"
    }
   ],
   "source": [
    "df_whim_final.columns"
   ]
  },
  {
   "cell_type": "code",
   "execution_count": 57,
   "metadata": {},
   "outputs": [
    {
     "data": {
      "image/png": "[encoded data removed]",
      "text/plain": [
       "<Figure size 648x504 with 2 Axes>"
      ]
     },
     "metadata": {
      "needs_background": "light"
     },
     "output_type": "display_data"
    }
   ],
   "source": [
    "%matplotlib inline\n",
    "# visualizamos la matriz D\n",
    "fig = plt.figure(figsize=(9, 7))\n",
    "plt.rcParams.update({'font.size': 15})\n",
    "plt.imshow(df_whim_final.corr(), cmap='BrBG')\n",
    "plt.colorbar();"
   ]
  },
  {
   "cell_type": "markdown",
   "metadata": {},
   "source": [
    "#### Análisis de Componentes Principales"
   ]
  },
  {
   "cell_type": "code",
   "execution_count": null,
   "metadata": {},
   "outputs": [],
   "source": []
  },
  {
   "cell_type": "code",
   "execution_count": 59,
   "metadata": {},
   "outputs": [],
   "source": [
    "from sklearn.decomposition import PCA\n",
    "#from modulos.plotting_functions import plot_mds_or_pca, plot_anotation_labels\n",
    "\n",
    "pca_whim = PCA(copy=True, n_components= 2).fit_transform( df_whim_final )"
   ]
  },
  {
   "cell_type": "code",
   "execution_count": null,
   "metadata": {},
   "outputs": [],
   "source": []
  },
  {
   "cell_type": "code",
   "execution_count": 63,
   "metadata": {},
   "outputs": [],
   "source": [
    "ligand_labels = [\"red\" if i else \"none\" for i in df_crys_poses_rdk.Lig == \"ATP\"]"
   ]
  },
  {
   "cell_type": "code",
   "execution_count": 65,
   "metadata": {},
   "outputs": [
    {
     "data": {
      "image/png": "[encoded data removed]",
      "text/plain": [
       "<Figure size 648x648 with 1 Axes>"
      ]
     },
     "metadata": {
      "needs_background": "light"
     },
     "output_type": "display_data"
    }
   ],
   "source": [
    "label_ATP = [\"red\" if i else \"none\" for i in df_crys_poses_rdk.Lig == \"ATP\"]\n",
    "label_ADP = [\"orange\" if i else \"none\" for i in df_crys_poses_rdk.Lig == \"ADP\"]\n",
    "label_STU = [\"magenta\" if i else \"none\" for i in df_crys_poses_rdk.index == \"5a14\"]\n",
    "\n",
    "lista_csar = [\"4ek4\", \"4ek5\", \"4fkg\", \"4fki\", \"4ek6\", \"4fjk\", \"4fkl\", \"4ek8\", \"3sw4\", \"3sw7\", \n",
    "              \"4fko\", \"4fkp\", \"4fkq\", \"4fkr\", \"4fks\", \"4fkt\", \"4fku\", \"4fkv\", \"4fkw\"]\n",
    "#lista_csar = [\"4fku\", \"4fkw\"]\n",
    "label_csar = [\"cyan\" if i in lista_csar else \"none\" for i in df_crys_poses_rdk.index]\n",
    "\n",
    "fig = plt.figure(figsize=(9, 9))\n",
    "#plot_mds_or_pca(mds = pca_whim.T, alpha = 0.8, colors_list=ligand_labels, general_font_size= 20)\n",
    "plt.scatter(pca_whim.T[0], pca_whim.T[1])\n",
    "plt.scatter(pca_whim.T[0], pca_whim.T[1], color=label_ATP)\n",
    "plt.scatter(pca_whim.T[0], pca_whim.T[1], color=label_csar)\n",
    "plt.scatter(pca_whim.T[0], pca_whim.T[1], color=label_ADP)\n",
    "plt.scatter(pca_whim.T[0], pca_whim.T[1], color=label_STU);\n"
   ]
  },
  {
   "cell_type": "code",
   "execution_count": 66,
   "metadata": {},
   "outputs": [],
   "source": [
    "from sklearn.manifold import LocallyLinearEmbedding\n",
    "lle = LocallyLinearEmbedding(n_components= 2, n_neighbors=10).fit_transform( df_whim_final )"
   ]
  },
  {
   "cell_type": "code",
   "execution_count": 67,
   "metadata": {},
   "outputs": [
    {
     "data": {
      "image/png": "[encoded data removed]",
      "text/plain": [
       "<Figure size 648x648 with 1 Axes>"
      ]
     },
     "metadata": {
      "needs_background": "light"
     },
     "output_type": "display_data"
    }
   ],
   "source": [
    "fig = plt.figure(figsize=(9, 9))\n",
    "#plot_mds_or_pca(mds = pca_whim.T, alpha = 0.8, colors_list=ligand_labels, general_font_size= 20)\n",
    "plt.scatter(lle[:,0], lle[:,1])\n",
    "plt.scatter(lle[:,0], lle[:,1], color=label_ATP)\n",
    "plt.scatter(lle[:,0], lle[:,1], color=label_ADP)\n",
    "plt.scatter(lle[:,0], lle[:,1], color=label_csar)\n",
    "plt.scatter(lle[:,0], lle[:,1], color=label_STU);\n"
   ]
  },
  {
   "cell_type": "code",
   "execution_count": null,
   "metadata": {},
   "outputs": [],
   "source": []
  },
  {
   "cell_type": "code",
   "execution_count": 95,
   "metadata": {},
   "outputs": [],
   "source": [
    "from scipy.spatial import distance_matrix\n",
    "from sklearn.preprocessing import StandardScaler\n",
    "scaler = StandardScaler()\n",
    "whim_final = scaler.fit_transform(df_whim_final)\n",
    "D = distance_matrix(whim_final, whim_final)"
   ]
  },
  {
   "cell_type": "code",
   "execution_count": 96,
   "metadata": {},
   "outputs": [],
   "source": [
    "from scipy.spatial.distance import euclidean\n",
    "import scipy\n",
    "\n",
    "from sklearn.preprocessing import StandardScaler\n",
    "scaler = StandardScaler()\n",
    "whim_final = scaler.fit_transform(df_whim_final)\n",
    "\n",
    "leng = whim_final.shape[0]\n",
    "D = scipy.zeros([leng,leng])\n",
    "for i in range(leng):\n",
    "    for j in range(leng):\n",
    "        D[i,j] = euclidean(whim_final[i], whim_final[j])"
   ]
  },
  {
   "cell_type": "code",
   "execution_count": 97,
   "metadata": {},
   "outputs": [
    {
     "data": {
      "text/plain": [
       "(365, 365)"
      ]
     },
     "execution_count": 97,
     "metadata": {},
     "output_type": "execute_result"
    }
   ],
   "source": [
    "D.shape"
   ]
  },
  {
   "cell_type": "code",
   "execution_count": 98,
   "metadata": {},
   "outputs": [],
   "source": [
    "from modulos.MDS import cMDS\n",
    "mds = cMDS(D)"
   ]
  },
  {
   "cell_type": "code",
   "execution_count": 99,
   "metadata": {},
   "outputs": [
    {
     "data": {
      "text/plain": [
       "<matplotlib.collections.PathCollection at 0x7f75c9c502e8>"
      ]
     },
     "execution_count": 99,
     "metadata": {},
     "output_type": "execute_result"
    },
    {
     "data": {
      "image/png": "[encoded data removed]",
      "text/plain": [
       "<Figure size 648x648 with 1 Axes>"
      ]
     },
     "metadata": {
      "needs_background": "light"
     },
     "output_type": "display_data"
    }
   ],
   "source": [
    "fig = plt.figure(figsize=(9, 9))\n",
    "plt.scatter(mds[0][0], mds[0][1])\n",
    "plt.scatter(mds[0][0], mds[0][1], color=label_ATP)\n",
    "plt.scatter(mds[0][0], mds[0][1], color=label_ADP)\n",
    "plt.scatter(mds[0][0], mds[0][1], color=label_STU)"
   ]
  },
  {
   "cell_type": "code",
   "execution_count": null,
   "metadata": {},
   "outputs": [],
   "source": []
  }
 ],
 "metadata": {
  "kernelspec": {
   "display_name": "Python 3",
   "language": "python",
   "name": "python3"
  },
  "language_info": {
   "codemirror_mode": {
    "name": "ipython",
    "version": 3
   },
   "file_extension": ".py",
   "mimetype": "text/x-python",
   "name": "python",
   "nbconvert_exporter": "python",
   "pygments_lexer": "ipython3",
   "version": "3.7.4"
  }
 },
 "nbformat": 4,
 "nbformat_minor": 2
}
