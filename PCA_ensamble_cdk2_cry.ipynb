{
 "cells": [
  {
   "cell_type": "markdown",
   "metadata": {},
   "source": [
    "# Análisis de Componetes Principales"
   ]
  },
  {
   "cell_type": "markdown",
   "metadata": {},
   "source": [
    "## Preliminares"
   ]
  },
  {
   "cell_type": "code",
   "execution_count": 3,
   "metadata": {
    "scrolled": true
   },
   "outputs": [
    {
     "name": "stderr",
     "output_type": "stream",
     "text": [
      "/home/joel/anaconda3/envs/mds/lib/python3.6/importlib/_bootstrap.py:219: RuntimeWarning: numpy.ufunc size changed, may indicate binary incompatibility. Expected 192 from C header, got 216 from PyObject\n",
      "  return f(*args, **kwds)\n"
     ]
    }
   ],
   "source": [
    "from prody import *\n",
    "from pylab import *"
   ]
  },
  {
   "cell_type": "markdown",
   "metadata": {},
   "source": [
    "### Se carga el ensamble previamente generado\n"
   ]
  },
  {
   "cell_type": "code",
   "execution_count": 7,
   "metadata": {},
   "outputs": [
    {
     "data": {
      "text/plain": [
       "385"
      ]
     },
     "execution_count": 7,
     "metadata": {},
     "output_type": "execute_result"
    }
   ],
   "source": [
    "ensamble = loadEnsemble(\"./cdk2_crys_ensamble_385_CA.ens.npz\")\n",
    "len(ensamble)"
   ]
  },
  {
   "cell_type": "markdown",
   "metadata": {},
   "source": [
    "### Pruebas con el ensamble"
   ]
  },
  {
   "cell_type": "code",
   "execution_count": 9,
   "metadata": {},
   "outputs": [
    {
     "data": {
      "text/plain": [
       "<PDBConformation: 1jsu_full_ca from Ensamble CDK2 pseudoNMR (index: 39; 298 atoms)>"
      ]
     },
     "execution_count": 9,
     "metadata": {},
     "output_type": "execute_result"
    }
   ],
   "source": [
    "# Para obtener una conformación a aprtir del índice\n",
    "ensamble.getConformation(39) # 1jsu\n",
    "# ensamble.getConformation(372) # 5mhq; rehacer el modelo?"
   ]
  },
  {
   "cell_type": "markdown",
   "metadata": {},
   "source": [
    "#### Residuos definidos por Pisani (2015) para su análisis\n",
    "\n",
    "Para hacer el ensamble y alinear las estructuras en una *\"trayectoria\"* se definen los residuos que se tomaran en cuenta para el alineamiento:  \n",
    "**PISANNI**: son los residuos usados por Pisiani en su artículo prara alinear las estructuras."
   ]
  },
  {
   "cell_type": "code",
   "execution_count": 8,
   "metadata": {},
   "outputs": [
    {
     "name": "stdout",
     "output_type": "stream",
     "text": [
      "4 5 6 7 8 9 10 11 17 18 19 20 21 22 23 29 30 31 32 33 46 47 48 49 50 51 52 53 54 66 67 68 69 70 76 77 78 79 80 87 88 89 90 91 92 101 102 103 104 105 106 107 108 109 110 111 112 113 114 115 116 117 118 119 121 122 123 124 125 126 127 128 129 130 131 132 133 134 140 141 142 143 144 145 146 147 148 149 182 183 184 185 186 187 188 189 190 191 192 193 277 278 279 280 281\n"
     ]
    }
   ],
   "source": [
    "from itertools import chain\n",
    "\n",
    "'''This list of residues was characterized as the subset of residues that contains \n",
    "the largest part of the information about the structural variability of CDK2 \n",
    "and includes residues of R-spine (except for Met 196), C-spine, DFG, and the catalytic loop.'''\n",
    "\n",
    "pisiani_rangeResidues = [ [4,12], [17, 24], [29,34], [46,55], [66,71], [76,81],  \n",
    "                         [87,93], [101, 120], [121, 135], [140, 150], [182, 194], [277, 282]]\n",
    "\n",
    "lista = [list( range(valor[0], valor[1]) ) for valor in pisiani_rangeResidues]\n",
    "\n",
    "# Se obtiene la lista de residuos, incluida en formato de cadena de texto\n",
    "pisiani_residues = list(chain.from_iterable(lista))\n",
    "pisiani_residues_str = ' '.join(str(e) for e in pisiani_residues)\n",
    "\n",
    "print(pisiani_residues_str)"
   ]
  },
  {
   "cell_type": "markdown",
   "metadata": {},
   "source": [
    "**RICCI**: Son residuos definidos a partir de la estructura 4fkw, del dataset de CSAR. Se definen al identificar todos los residuos que están dentro de 7 A de distancia de cualquier átomo del ligando cocristalizado, ubicado en la cavidad catalítica de la CDK2."
   ]
  },
  {
   "cell_type": "code",
   "execution_count": 21,
   "metadata": {},
   "outputs": [
    {
     "name": "stdout",
     "output_type": "stream",
     "text": [
      "8 9 10 11 12 13 14 15 16 17 18 30 31 32 64 79 80 81 82 83 84 85 86 87 88 89 129 130 131 132 133 143 144 145\n"
     ]
    }
   ],
   "source": [
    "# Pocket (4FKW y su ligando a 7 A): 8-19, 30-33, 64-65, 79-90, 129-134, 143-146\n",
    "# resid 8 to 19 30 to 33 64 65 79 to 90 129 to 134 143 to 146\n",
    "ricci_rangeResidues = [[8,19], [30,33], [64,65], [79,90], [129,134], [143,146]]\n",
    "\n",
    "lista = [list( range(valor[0], valor[1]) ) for valor in ricci_rangeResidues]\n",
    "ricci_residues = list(chain.from_iterable(lista))\n",
    "ricci_residues_str = ' '.join(str(e) for e in ricci_residues)\n",
    "\n",
    "print(ricci_residues_str)"
   ]
  },
  {
   "cell_type": "markdown",
   "metadata": {},
   "source": [
    "# Análisis de componentes principales"
   ]
  },
  {
   "cell_type": "markdown",
   "metadata": {},
   "source": [
    "## 1) PCA: Prody"
   ]
  },
  {
   "cell_type": "code",
   "execution_count": 9,
   "metadata": {},
   "outputs": [
    {
     "name": "stderr",
     "output_type": "stream",
     "text": [
      "@> Covariance is calculated using 385 coordinate sets.\n",
      "@> Covariance matrix calculated in 0.497094s.\n",
      "@> 20 modes were calculated in 0.42s.\n"
     ]
    }
   ],
   "source": [
    "# Instancia del PCA\n",
    "#ensamble.superpose()\n",
    "pca_prody = PCA(\"385 CDK2 Prody\")\n",
    "\n",
    "# Se obtiene la matriz de covarianzas\n",
    "pca_prody.buildCovariance(ensamble)\n",
    "\n",
    "# Se calculan los eginvectores\n",
    "pca_prody.calcModes()"
   ]
  },
  {
   "cell_type": "code",
   "execution_count": 10,
   "metadata": {},
   "outputs": [
    {
     "data": {
      "image/png": "[encoded data removed]",
      "text/plain": [
       "<Figure size 432x288 with 1 Axes>"
      ]
     },
     "metadata": {
      "needs_background": "light"
     },
     "output_type": "display_data"
    }
   ],
   "source": [
    "showProjection(ensamble, pca_prody[:2]);"
   ]
  },
  {
   "cell_type": "markdown",
   "metadata": {},
   "source": [
    "## 2) PCA: pytraj y sklearn"
   ]
  },
  {
   "cell_type": "code",
   "execution_count": 11,
   "metadata": {},
   "outputs": [],
   "source": [
    "import pytraj as pt\n",
    "import matplotlib.pyplot as plt\n",
    "from sklearn.decomposition import PCA"
   ]
  },
  {
   "cell_type": "code",
   "execution_count": 13,
   "metadata": {},
   "outputs": [
    {
     "data": {
      "text/plain": [
       "pytraj.Trajectory, 385 frames: \n",
       "Size: 0.002564 (GB)\n",
       "<Topology: 298 atoms, 298 residues, 298 mols, non-PBC>\n",
       "           "
      ]
     },
     "execution_count": 13,
     "metadata": {},
     "output_type": "execute_result"
    }
   ],
   "source": [
    "# Se carga el archivo pdb del ensamble\n",
    "traj = pt.load(\"./cdk2_crys_ensamble_385_CA.pdb\")\n",
    "traj"
   ]
  },
  {
   "cell_type": "code",
   "execution_count": 16,
   "metadata": {},
   "outputs": [
    {
     "data": {
      "text/plain": [
       "PCA(copy=True, iterated_power='auto', n_components=2, random_state=None,\n",
       "  svd_solver='auto', tol=0.0, whiten=False)"
      ]
     },
     "execution_count": 16,
     "metadata": {},
     "output_type": "execute_result"
    }
   ],
   "source": [
    "# Se instancia un PCA de sklearn\n",
    "# Se inicializa con los parámetros por default\n",
    "pca = PCA(copy=True, n_components= 2)\n",
    "pca"
   ]
  },
  {
   "cell_type": "code",
   "execution_count": 18,
   "metadata": {},
   "outputs": [
    {
     "data": {
      "text/plain": [
       "(385, 298, 3)"
      ]
     },
     "execution_count": 18,
     "metadata": {},
     "output_type": "execute_result"
    }
   ],
   "source": [
    "# La matriz de corrdedandas es una matriz de tres dimensiones\n",
    "shape(traj.xyz)"
   ]
  },
  {
   "cell_type": "code",
   "execution_count": 19,
   "metadata": {},
   "outputs": [
    {
     "data": {
      "text/plain": [
       "(385, 894)"
      ]
     },
     "execution_count": 19,
     "metadata": {},
     "output_type": "execute_result"
    }
   ],
   "source": [
    "# Se obtiene la matriz n*m de conformaciones y coordenadas (n= # conf y m = #de átomos * 3)\n",
    "xyz_2d = traj.xyz.reshape(traj.n_frames, traj.n_atoms * 3)\n",
    "# La matriz posee 385 conformaciones y 849 coordenadas (894/3 = 298 CA átomos)\n",
    "xyz_2d.shape"
   ]
  },
  {
   "cell_type": "code",
   "execution_count": 20,
   "metadata": {},
   "outputs": [],
   "source": [
    "# Se ajusta el modelo, fit_transform estandariza los valores de la matriz y\n",
    "# después realiza el ajuste\n",
    "reduced_cartesian = pca.fit_transform(xyz_2d)"
   ]
  },
  {
   "cell_type": "code",
   "execution_count": 141,
   "metadata": {},
   "outputs": [
    {
     "data": {
      "image/png": "[encoded data removed]",
      "text/plain": [
       "<Figure size 432x288 with 2 Axes>"
      ]
     },
     "metadata": {
      "needs_background": "light"
     },
     "output_type": "display_data"
    }
   ],
   "source": [
    "# Observamos la distribución de las conformaciones en función de las primeros\n",
    "# dos PCs\n",
    "import warnings\n",
    "warnings.filterwarnings('ignore')\n",
    "\n",
    "plt.figure()\n",
    "plt.scatter(reduced_cartesian[:, 0], reduced_cartesian[:,1], \n",
    "            marker='o', c=range(traj.n_frames), alpha=0.5)\n",
    "plt.xlabel('PC1')\n",
    "plt.ylabel('PC2')\n",
    "plt.title(\"Ensamble CDK2: Pisiani superpose\")\n",
    "cbar = plt.colorbar()\n",
    "cbar.set_label('frame #')"
   ]
  },
  {
   "cell_type": "code",
   "execution_count": 34,
   "metadata": {},
   "outputs": [
    {
     "data": {
      "text/plain": [
       "array([13.08621927, -8.94769035, -6.78224577, ..., -2.86463284,\n",
       "        0.24277417,  1.97749893])"
      ]
     },
     "execution_count": 34,
     "metadata": {},
     "output_type": "execute_result"
    }
   ],
   "source": [
    "# Comapro los PCS\n",
    "reduced_cartesian[:,1]\n"
   ]
  },
  {
   "cell_type": "code",
   "execution_count": 36,
   "metadata": {},
   "outputs": [
    {
     "data": {
      "text/plain": [
       "array([[ 2.08129568, -0.6967471 ,  0.94488754, ...,  0.2861791 ,\n",
       "         0.07553196, -0.25467529],\n",
       "       [-0.6967471 ,  0.76696529, -0.25826519, ..., -0.26053523,\n",
       "         0.0512905 ,  0.22533794],\n",
       "       [ 0.94488754, -0.25826519,  3.87013237, ...,  1.04382783,\n",
       "        -1.85601178, -1.44261594],\n",
       "       ...,\n",
       "       [ 0.2861791 , -0.26053523,  1.04382783, ..., 13.38291784,\n",
       "        -5.24217287,  1.32735562],\n",
       "       [ 0.07553196,  0.0512905 , -1.85601178, ..., -5.24217287,\n",
       "         9.80396022,  1.80666102],\n",
       "       [-0.25467529,  0.22533794, -1.44261594, ...,  1.32735562,\n",
       "         1.80666102,  3.06337324]])"
      ]
     },
     "execution_count": 36,
     "metadata": {},
     "output_type": "execute_result"
    }
   ],
   "source": [
    "pca_prody.getCovariance()"
   ]
  },
  {
   "cell_type": "markdown",
   "metadata": {},
   "source": [
    "### PCA usando superpose para la \"trayectoria\"\n",
    "En el caso de abajo el ensamble es alineado nuevamente usando el método superpose(), que por defecto debería tomar en cuenta toda la estructura de la proteína para minimizar la matriz de RMSD. Recordar que el ensamble guardado originalmente con prody está alineado usando los residuos de Pisani."
   ]
  },
  {
   "cell_type": "code",
   "execution_count": 4,
   "metadata": {},
   "outputs": [
    {
     "name": "stdout",
     "output_type": "stream",
     "text": [
      "(387, 894)\n",
      "[0.69569318 0.04673942]\n"
     ]
    },
    {
     "data": {
      "image/png": "[encoded data removed]",
      "text/plain": [
       "<Figure size 432x288 with 2 Axes>"
      ]
     },
     "metadata": {
      "needs_background": "light"
     },
     "output_type": "display_data"
    }
   ],
   "source": [
    "traj_2 = pt.load(\"./cdk2_crys_ensamble_387_CA.pdb\")\n",
    "\n",
    "pca_2 = PCA(copy=True, iterated_power='auto', n_components= 2, random_state= None,\n",
    "   svd_solver= 'auto', tol= 0.0, whiten= False)\n",
    "\n",
    "traj_2 = traj_2.superpose()\n",
    "xyz_2d_2 = traj_2.xyz.reshape(traj_2.n_frames, traj_2.n_atoms * 3)\n",
    "print(xyz_2d_2.shape)\n",
    "\n",
    "reduced_cartesian_2 = pca_2.fit_transform(xyz_2d_2)\n",
    "\n",
    "print(pca_2.explained_variance_ratio_) # Porcentaje de varianza explicada\n",
    "\n",
    "plt.figure()\n",
    "plt.scatter(reduced_cartesian_2[:, 0], reduced_cartesian_2[:,1],\n",
    "            marker='o', c=range(traj_2.n_frames), alpha=0.5)\n",
    "plt.xlabel('PC1')\n",
    "plt.ylabel('PC2')\n",
    "plt.title(\"Ensamble CDK2: Total superpose\")\n",
    "cbar = plt.colorbar()\n",
    "cbar.set_label('frame #')"
   ]
  },
  {
   "cell_type": "code",
   "execution_count": null,
   "metadata": {},
   "outputs": [],
   "source": [
    "# Queda pendiente garegar una gráfica añadiendo las conformaciones conocidas activa, dfg-out, etc"
   ]
  },
  {
   "cell_type": "code",
   "execution_count": null,
   "metadata": {},
   "outputs": [],
   "source": []
  },
  {
   "cell_type": "markdown",
   "metadata": {},
   "source": [
    "### Proyectando un conjunto de datos al subespacio ya definido\n",
    "Ahora comparamos los dos conjuntos de datos (ensamble alineado por Pisiani, y alineado total). Más que nada como una manera de probar cómo protyectar nuevos datos a un subespacio ya definido."
   ]
  },
  {
   "cell_type": "code",
   "execution_count": null,
   "metadata": {},
   "outputs": [],
   "source": [
    "# PRENDIENTE"
   ]
  },
  {
   "cell_type": "markdown",
   "metadata": {},
   "source": [
    "## 3) PCA: Forma manual"
   ]
  },
  {
   "cell_type": "markdown",
   "metadata": {},
   "source": [
    "[//]: # http://www.fuenterrebollo.com/Economicas/ECONOMETRIA/MULTIVARIANTE/ACP/ACP.pdf, http://www.ub.edu/stat/docencia/Mates/ejemploACP.PDF, \n",
    "https://sebastianraschka.com/Articles/2014_pca_step_by_step.html#2-computing-the-d-dimensional-mean-vector\n",
    "\n",
    "\n",
    "Se considera una serie de $m$ variables (coordenadas: $({x_1, x_2, .., x_m})$ sobre un grupo de $n$ individuos u observaciones (conformaciones) y se trata de calcular, a partir de ellos, un nuevo conjunto de variables (${w_1, w_2, .., w_j, .., w_m}$), incorreladas entre sí (ortogonales), cuyas varianzas van decreciendo progresivamente desde el primer CP al CP $m$.\n",
    "\n",
    "Por lo tanto, cada $w_j$, con $j\\in{1, .., m}$ es una combinación lineal de las (${x_1, x_2, .., x_m}$) originales, es decir:\n",
    "$$ \\mathbf{w_j} = a_{j1}·x_1 +  a_{j2}·x_2 + ... + a_{jm}·x_m, $$\n",
    "o, de otro modo\n",
    "$$ \\mathbf{w_j} = a^o_j·\\mathbf{x}, $$\n",
    "donde $a^o_j$ esun vector de constantes $a^o_j = (a_{j1}, a_{j2}, .., a_{jm})$ y $\\mathbf{x} = ({x_1, x_2, .., x_m})$ transpuesto.\n",
    "\n",
    "Debido a que lo que se busca es maximizar la varianza de cada CP ($w_j$), una alternativa podría ser aumentar indefinidamente los valores de su vector $a^o_{j}$. Por lo tanto, para mantener la ortogonalidad de la transformación, se impone que el módulo del vector (distancia euclídea) sea igualado a 1.\n",
    "\n"
   ]
  },
  {
   "cell_type": "code",
   "execution_count": 41,
   "metadata": {},
   "outputs": [
    {
     "name": "stdout",
     "output_type": "stream",
     "text": [
      "Matriz de coordenadas original: (385, 298, 3)  y es de tipo:  <class 'tuple'>\n"
     ]
    }
   ],
   "source": [
    "# Se obtiene la trayectoria\n",
    "traj_m = pt.load(\"./cdk2_crys_ensamble_385_CA.pdb\")\n",
    "\n",
    "# Se necesitan las coordenadas XYZ de la trayectoria\n",
    "print(\"Matriz de coordenadas original:\", traj_m.xyz.shape, \" y es de tipo: \", \n",
    "      type(traj_m.xyz.shape))\n",
    "# La trayectoria está representada en una matriz de 3 dimensiones\n",
    "# Para hacer el trabajo se requiere una matriz de dos dimensiones"
   ]
  },
  {
   "cell_type": "markdown",
   "metadata": {},
   "source": [
    "Se transforma la matriz a dos dimensiones."
   ]
  },
  {
   "cell_type": "code",
   "execution_count": 42,
   "metadata": {},
   "outputs": [
    {
     "name": "stdout",
     "output_type": "stream",
     "text": [
      "Matriz de coordenadas en 2d: (385, 894)  y es de tipo:  <class 'numpy.ndarray'>\n"
     ]
    }
   ],
   "source": [
    "# Se transforma la matriz a dos dimensiones y a una matriz de numpy\n",
    "# # de columnas = num de frames, filas = num de coordenadas (átomos * 3)\n",
    "xyz_2d_m = traj_m.xyz.reshape(traj_m.n_frames, traj_m.n_atoms * 3)\n",
    "\n",
    "print(\"Matriz de coordenadas en 2d:\", xyz_2d_m.shape, \" y es de tipo: \", type(xyz_2d_m))"
   ]
  },
  {
   "cell_type": "markdown",
   "metadata": {},
   "source": [
    "### 0) Preliminares\n",
    "#### ¿Se justifica el uso de un PCA?\n",
    "[//]: <http://www.ub.edu/stat/docencia/Mates/ejemploACP.PDF>\n",
    "Antes de aplicar el PCA hay que verificar si es necesario o beneficioso hacerlo, es decir, si la correlación (medida normalizada de la covarianza $r_{kj} = cov(k,j)/sd_k*sd_j$) entre las variables es lo suficientemente grande como para justificar la factorización de la matriz de correlaciones.  \n",
    "Para ello podemos hacer un test de Barlett cuya $H_0$ es que la matriz de covarianzas de las variables no es significativamente distinta a la matriz de identidad, es decir que para cada para de variables $j$ y $k$, donde $j \\neq k$, se tiene que $H_0=cov(j,k) = 0$."
   ]
  },
  {
   "cell_type": "code",
   "execution_count": null,
   "metadata": {},
   "outputs": [],
   "source": [
    "#### PENDIENTE"
   ]
  },
  {
   "cell_type": "markdown",
   "metadata": {},
   "source": [
    "### 1) Estandarización de los datos\n",
    "El PCA se ve afectado por la escala de las variables. Aunque en este caso la escala es la misma para todas las coordenadas; todas están en A, procedo a estandarizar cada dato $i$ para cada variable (coordenada) $x_j$:\n",
    "$$z_{ji} = \\frac{(x_{ji} - \\mu_{j})} {sd_{j}} $$\n",
    "\n",
    "#### Valores originales"
   ]
  },
  {
   "cell_type": "code",
   "execution_count": 43,
   "metadata": {},
   "outputs": [
    {
     "data": {
      "text/plain": [
       "array([[-13.743, 190.22 , 105.029, ...,   2.111, 214.475, 105.893],\n",
       "       [-12.923, 190.677, 105.77 , ...,   0.722, 213.462, 107.978],\n",
       "       [-13.83 , 190.927, 106.109, ...,   0.609, 213.291, 108.16 ],\n",
       "       ...,\n",
       "       [-13.124, 190.884, 102.087, ...,  -1.863, 214.657, 110.513],\n",
       "       [-10.753, 190.359, 106.61 , ...,   0.698, 213.412, 108.038],\n",
       "       [-10.593, 190.352, 106.158, ...,   0.849, 213.835, 108.759]])"
      ]
     },
     "execution_count": 43,
     "metadata": {},
     "output_type": "execute_result"
    }
   ],
   "source": [
    "# Valores originales\n",
    "xyz_2d_m"
   ]
  },
  {
   "cell_type": "markdown",
   "metadata": {},
   "source": [
    "#### Valores estandarizados"
   ]
  },
  {
   "cell_type": "code",
   "execution_count": 44,
   "metadata": {},
   "outputs": [
    {
     "data": {
      "text/plain": [
       "array([[-0.94265087, -0.27957182, -0.01149977, ...,  0.45659488,\n",
       "        -0.13195212, -1.83434245],\n",
       "       [-0.37425311,  0.24226374,  0.36516066, ...,  0.07690914,\n",
       "        -0.4554781 , -0.64307945],\n",
       "       [-1.00295649,  0.52773178,  0.537479  , ...,  0.04602038,\n",
       "        -0.51009108, -0.5390939 ],\n",
       "       ...,\n",
       "       [-0.51357988,  0.47863128, -1.5069586 , ..., -0.62970542,\n",
       "        -0.07382602,  0.80529067],\n",
       "       [ 1.12992146, -0.12085159,  0.79214415, ...,  0.0703487 ,\n",
       "        -0.47144681, -0.6087985 ],\n",
       "       [ 1.24082834, -0.1288447 ,  0.56238637, ...,  0.11162483,\n",
       "        -0.33635156, -0.19685576]])"
      ]
     },
     "execution_count": 44,
     "metadata": {},
     "output_type": "execute_result"
    }
   ],
   "source": [
    "# SOLO como ejercicio didáctico: Estandarización con numpy\n",
    "# z = (xi - u) / sd\n",
    "(xyz_2d_m - np.mean(xyz_2d_m, axis=0) ) / np.std(xyz_2d_m, axis=0) \n",
    "# Especificando la operación por columna con axis = 0\n",
    "# No los guardo en una variable porque usaré el método de sklearn unas celdas más abajo"
   ]
  },
  {
   "cell_type": "code",
   "execution_count": 46,
   "metadata": {},
   "outputs": [
    {
     "name": "stdout",
     "output_type": "stream",
     "text": [
      "Número de variables:  894\n"
     ]
    }
   ],
   "source": [
    "# Mejor aún, guardo los valores en variables para usarlos más tarde\n",
    "vec_means_var = np.mean(xyz_2d_m, axis=0)\n",
    "vec_sd_var = np.std(xyz_2d_m, axis=0)\n",
    "print(\"Número de variables: \", len(vec_means_var))"
   ]
  },
  {
   "cell_type": "markdown",
   "metadata": {},
   "source": [
    "#### Estandarización con sklearn.preprocessing.StandarScale"
   ]
  },
  {
   "cell_type": "code",
   "execution_count": 47,
   "metadata": {},
   "outputs": [
    {
     "data": {
      "text/plain": [
       "array([[-0.94265087, -0.27957182, -0.01149977, ...,  0.45659488,\n",
       "        -0.13195212, -1.83434245],\n",
       "       [-0.37425311,  0.24226374,  0.36516066, ...,  0.07690914,\n",
       "        -0.4554781 , -0.64307945],\n",
       "       [-1.00295649,  0.52773178,  0.537479  , ...,  0.04602038,\n",
       "        -0.51009108, -0.5390939 ],\n",
       "       ...,\n",
       "       [-0.51357988,  0.47863128, -1.5069586 , ..., -0.62970542,\n",
       "        -0.07382602,  0.80529067],\n",
       "       [ 1.12992146, -0.12085159,  0.79214415, ...,  0.0703487 ,\n",
       "        -0.47144681, -0.6087985 ],\n",
       "       [ 1.24082834, -0.1288447 ,  0.56238637, ...,  0.11162483,\n",
       "        -0.33635156, -0.19685576]])"
      ]
     },
     "execution_count": 47,
     "metadata": {},
     "output_type": "execute_result"
    }
   ],
   "source": [
    "# Estandarización con sk.learn\n",
    "from sklearn.preprocessing import StandardScaler\n",
    "xyz_std = StandardScaler().fit_transform( xyz_2d_m )\n",
    "# Valores transformados\n",
    "xyz_std"
   ]
  },
  {
   "cell_type": "code",
   "execution_count": 48,
   "metadata": {},
   "outputs": [
    {
     "data": {
      "text/plain": [
       "(385, 894)"
      ]
     },
     "execution_count": 48,
     "metadata": {},
     "output_type": "execute_result"
    }
   ],
   "source": [
    "shape(xyz_std)"
   ]
  },
  {
   "cell_type": "markdown",
   "metadata": {},
   "source": [
    "### 2) Cálculo de la matriz de covarianza\n",
    "La covarianza $\\sigma_{kj}$ entre dos variables $k$ y $j$ se calcula de la siguiente manera:\n",
    "$$ \\sigma_{kj} = \\frac{1}{n-1} \\sum_{i=1}^{n}\\left(x_{ik} - \\bar{x_k}\\right)\\left(x_{ij}-\\bar{x_j}\\right)$$\n",
    "Es la sumatoria del producto de las diferencias de cada observación $i$ de las variables $k$ y $j$ con respecto a su media, dividido entre el número de observaciones $n$ menos uno. \n",
    "\n",
    "En la representación matricial es equivalente a la matriz $\\Sigma$:\n",
    "$$\\Sigma = \\frac{1}{n-1} \\left( (\\mathbf{X} - \\mathbf{\\bar{x}})^T\\;(\\mathbf{X} - \\mathbf{\\bar{x}}) \\right)$$\n",
    "\n",
    "Con lo cual la matriz de covarianzas $\\Sigma$ es bidimensional de tamaño $m*m$, con $m$ = número de variables (# átomos * 3). Y el vector $\\mathbf{\\bar{x}}$, es el vector de medias de todas las $m$ variables."
   ]
  },
  {
   "cell_type": "code",
   "execution_count": 102,
   "metadata": {},
   "outputs": [
    {
     "data": {
      "text/plain": [
       "array([[ 1.00260417, -0.55291156,  0.33379766, ...,  0.05437938,\n",
       "         0.01676804, -0.10111081],\n",
       "       [-0.55291156,  1.00260417, -0.15029561, ..., -0.08152539,\n",
       "         0.01875559,  0.14739693],\n",
       "       [ 0.33379766, -0.15029561,  1.00260417, ...,  0.14541536,\n",
       "        -0.30210334, -0.42006361],\n",
       "       ...,\n",
       "       [ 0.05437938, -0.08152539,  0.14541536, ...,  1.00260417,\n",
       "        -0.45884391,  0.20784092],\n",
       "       [ 0.01676804,  0.01875559, -0.30210334, ..., -0.45884391,\n",
       "         1.00260417,  0.33051904],\n",
       "       [-0.10111081,  0.14739693, -0.42006361, ...,  0.20784092,\n",
       "         0.33051904,  1.00260417]])"
      ]
     },
     "execution_count": 102,
     "metadata": {},
     "output_type": "execute_result"
    }
   ],
   "source": [
    "# Para ir con la nomenclatura.\n",
    "X_std = xyz_std\n",
    "\n",
    "# Cálculo del vector de medias\n",
    "vec_medias = np.mean(X_std)\n",
    "\n",
    "# Número de observaciones\n",
    "num_obs = X_std.shape[0]\n",
    "\n",
    "# Cálculo de la matriz de covarianzas\n",
    "( 1 / ( num_obs - 1 )  ) * ( ( xyz_std -  vec_medias).T.dot( xyz_std -  vec_medias))"
   ]
  },
  {
   "cell_type": "code",
   "execution_count": 50,
   "metadata": {},
   "outputs": [
    {
     "data": {
      "text/plain": [
       "array([[ 1.00260417, -0.55291156,  0.33379766, ...,  0.05437938,\n",
       "         0.01676804, -0.10111081],\n",
       "       [-0.55291156,  1.00260417, -0.15029561, ..., -0.08152539,\n",
       "         0.01875559,  0.14739693],\n",
       "       [ 0.33379766, -0.15029561,  1.00260417, ...,  0.14541536,\n",
       "        -0.30210334, -0.42006361],\n",
       "       ...,\n",
       "       [ 0.05437938, -0.08152539,  0.14541536, ...,  1.00260417,\n",
       "        -0.45884391,  0.20784092],\n",
       "       [ 0.01676804,  0.01875559, -0.30210334, ..., -0.45884391,\n",
       "         1.00260417,  0.33051904],\n",
       "       [-0.10111081,  0.14739693, -0.42006361, ...,  0.20784092,\n",
       "         0.33051904,  1.00260417]])"
      ]
     },
     "execution_count": 50,
     "metadata": {},
     "output_type": "execute_result"
    }
   ],
   "source": [
    "# Versión simple usando numpy\n",
    "cov_mtx = np.cov(X_std.T)\n",
    "cov_mtx"
   ]
  },
  {
   "cell_type": "markdown",
   "metadata": {},
   "source": [
    "### 3) Cálculo de los egeinvectores y egeinvalores (vectores y valores propios)\n",
    "#### Planteamiento\n",
    "Si A es una matriz de $m*m$, hay $x$ vectores diferentes de cero en $R^n$ tales que $A·x$ sea un múltiplo escalar de $x$."
   ]
  },
  {
   "cell_type": "code",
   "execution_count": 54,
   "metadata": {},
   "outputs": [
    {
     "data": {
      "text/plain": [
       "894"
      ]
     },
     "execution_count": 54,
     "metadata": {},
     "output_type": "execute_result"
    }
   ],
   "source": [
    "eig_val_cov, eig_vec_cov = np.linalg.eig(cov_mtx)\n",
    "len(eig_val_sc)"
   ]
  },
  {
   "cell_type": "code",
   "execution_count": 77,
   "metadata": {},
   "outputs": [],
   "source": [
    "for i in range(len(eig_val_cov)):\n",
    "    eigv = eig_vec_cov[:,i].reshape(1, len(eig_val_sc) ).T\n",
    "    np.testing.assert_array_almost_equal(cov_mtx.dot(eigv), eig_val_cov[i] * eigv,\n",
    "                                         decimal=6, err_msg='', verbose=True)"
   ]
  },
  {
   "cell_type": "code",
   "execution_count": 79,
   "metadata": {},
   "outputs": [
    {
     "name": "stdout",
     "output_type": "stream",
     "text": [
      "490.58319150394\n",
      "79.28487427928455\n",
      "43.38196331100605\n",
      "25.477709224138685\n",
      "24.33562081070447\n",
      "19.0051856239982\n",
      "17.59968549908563\n",
      "15.116781127498298\n",
      "13.150053515483762\n",
      "10.171525727569035\n",
      "9.128082704696634\n",
      "7.778452148629314\n",
      "7.604852207315408\n",
      "5.9007643579673354\n",
      "5.5412266899863445\n",
      "4.994951302719222\n",
      "4.713974748928956\n",
      "4.58199092562698\n",
      "3.891624987887607\n",
      "3.5638915043903934\n",
      "3.431466434455211\n",
      "3.2628437506401498\n",
      "3.1727056689779274\n",
      "2.9391141484937626\n",
      "2.8273980905329252\n",
      "2.570539474299579\n",
      "2.460076751060265\n",
      "2.429676874768146\n",
      "2.185589077727886\n",
      "2.0824462566367012\n",
      "1.9440150426271905\n",
      "1.8344273216277487\n",
      "1.794709054360855\n",
      "1.7086448969778236\n",
      "1.6239764569304678\n",
      "1.5752117642688253\n",
      "1.5307416736785164\n",
      "1.456056732679972\n",
      "1.4011916892735825\n",
      "1.3458793729487206\n",
      "1.3358795882796157\n",
      "1.2837172474902239\n",
      "1.2350132918460996\n",
      "1.1122935282306823\n",
      "1.0654746634585928\n",
      "1.0312418406906803\n",
      "1.0015474873700858\n",
      "0.9840148079855677\n",
      "0.9615106974923661\n",
      "0.9271707461701365\n",
      "0.9188522900741567\n",
      "0.8831447258908643\n",
      "0.8399107058185599\n",
      "0.8223682873764971\n",
      "0.820199523504225\n",
      "0.777877140295288\n",
      "0.7649880737325541\n",
      "0.7424946067021714\n",
      "0.7151077095304418\n",
      "0.6901226155627085\n",
      "0.6789477018251309\n",
      "0.6714308998298114\n",
      "0.6667728419868949\n",
      "0.6605461259042197\n",
      "0.6369616813445192\n",
      "0.6245348995094706\n",
      "0.6187900752017699\n",
      "0.6054475207023308\n",
      "0.573790252922333\n",
      "0.5693515315541376\n",
      "0.5621086967110648\n",
      "0.5444763927564578\n",
      "0.5331122491763883\n",
      "0.5250129711251782\n",
      "0.5175201220320061\n",
      "0.4999645878605677\n",
      "0.49301155298653077\n",
      "0.4808448643276676\n",
      "0.46514062345158586\n",
      "0.45265168560031416\n",
      "0.4443141407957127\n",
      "0.4344870917760353\n",
      "0.4339753848927013\n",
      "0.4180082036587053\n",
      "0.4097726120491442\n",
      "0.4003148149061516\n",
      "0.39777714837041883\n",
      "0.38550309029907803\n",
      "0.3791297381320705\n",
      "0.37538606614310643\n",
      "0.3707081585689184\n",
      "0.3643651024725009\n",
      "0.3563640113958832\n",
      "0.3504367265025717\n",
      "0.3432905917624127\n",
      "0.335485713159681\n",
      "0.3259910905309509\n",
      "0.324199637254878\n",
      "0.3114909565869868\n",
      "0.30569722258861154\n",
      "0.2985762871519791\n",
      "0.2966995018549864\n",
      "0.2944142775307172\n",
      "0.2881953288830507\n",
      "0.28364644906994696\n",
      "0.2814143265191067\n",
      "0.27048902387931634\n",
      "0.2687095867480138\n",
      "0.2664372369773277\n",
      "0.26145610978923883\n",
      "0.26129637244827714\n",
      "0.25452432678746273\n",
      "0.2470112464222122\n",
      "0.24574042717998665\n",
      "0.24165692255669818\n",
      "0.23638552079683434\n",
      "0.22913747302126072\n",
      "0.22508813945718453\n",
      "0.21967749441919307\n",
      "0.2143280625271351\n",
      "0.21367789551871808\n",
      "0.2117220623199851\n",
      "0.20938918765943507\n",
      "0.20378421202734362\n",
      "0.19823945096662599\n",
      "0.19750121641826082\n",
      "0.19565331935783978\n",
      "0.19219287351374717\n",
      "0.18718992981341676\n",
      "0.18316031239895467\n",
      "0.18263509220984003\n",
      "0.17921640182142967\n",
      "0.1768924381643507\n",
      "0.17415131717217902\n",
      "0.17353709424546135\n",
      "0.16929220658967406\n",
      "0.16722636085623954\n",
      "0.16545627114155734\n",
      "0.16284549355162103\n",
      "0.1602706172797185\n",
      "0.1571228326260632\n",
      "0.15597455890836\n",
      "0.15134453055355981\n",
      "0.1495626777460681\n",
      "0.14584332275604006\n",
      "0.14337761438004282\n",
      "0.14139320574076558\n",
      "0.13971878993490583\n",
      "0.13933052562448653\n",
      "0.13708602755788324\n",
      "0.13537866645680638\n",
      "0.13288341580008714\n",
      "0.13059907353842753\n",
      "0.12945455359560473\n",
      "0.1267037506406846\n",
      "0.12566582677517651\n",
      "0.12305124108968539\n",
      "0.1222026435143387\n",
      "0.12030854028168228\n",
      "0.11715302987162024\n",
      "0.11617818124043072\n",
      "0.11464544581266989\n",
      "0.11159127339329553\n",
      "0.10974179123319473\n",
      "0.10832623157144561\n",
      "0.10619729744549762\n",
      "0.10497759807448698\n",
      "0.10303291413068458\n",
      "0.10251724677328265\n",
      "0.10147777636902104\n",
      "0.09920575834896872\n",
      "0.09848063556213638\n",
      "0.09729166133845127\n",
      "0.09458501929640287\n",
      "0.09363521726467328\n",
      "0.09292361554394275\n",
      "0.09044448767328321\n",
      "0.090032648001612\n",
      "0.0880266917897589\n",
      "0.08613837487115868\n",
      "0.08537194950897262\n",
      "0.08344767235562735\n",
      "0.08142870659510115\n",
      "0.080356678783772\n",
      "0.079203293023169\n",
      "0.07861456298839108\n",
      "0.07762445625078712\n",
      "0.07744375624619343\n",
      "0.07498549552622732\n",
      "0.07424027112957175\n",
      "0.07338491699908917\n",
      "0.07291882620490679\n",
      "0.07140378700198198\n",
      "0.07075614317279703\n",
      "0.07023952520472365\n",
      "0.06922289795995468\n",
      "0.0677070078391998\n",
      "0.06724267227730774\n",
      "0.06564262307996871\n",
      "0.06460870506355028\n",
      "0.06375960159068932\n",
      "0.06319051475242804\n",
      "0.06180373017634704\n",
      "0.06140590921593876\n",
      "0.06025007690284164\n",
      "0.0601441955049522\n",
      "0.05844868375001704\n",
      "0.058062088542203225\n",
      "0.05660572277972297\n",
      "0.05642722003881088\n",
      "0.05594790631791059\n",
      "0.05482070483077115\n",
      "0.05375893563342581\n",
      "0.053049056372584925\n",
      "0.05268308509605647\n",
      "0.05204281872180722\n",
      "0.05125394024438969\n",
      "0.051025237601760344\n",
      "0.050469899135547926\n",
      "0.04929364018018992\n",
      "0.048554319484554284\n",
      "0.04805221349092698\n",
      "0.04609777364512704\n",
      "0.04594637754203081\n",
      "0.04561787722796759\n",
      "0.045442768013174824\n",
      "0.044547748480498146\n",
      "0.04416522526070362\n",
      "0.04402965437508297\n",
      "0.04289281909020901\n",
      "0.04257287822274966\n",
      "0.041980612180473886\n",
      "0.04158235287388656\n",
      "0.0409777793316174\n",
      "0.040032470933708444\n",
      "0.03965747322307565\n",
      "0.03887937985671708\n",
      "0.03827662356496709\n",
      "0.03762433054509567\n",
      "0.036821902040614696\n",
      "0.03635129663812499\n",
      "0.03626041998843567\n",
      "0.0360688405162609\n",
      "0.03504637343480402\n",
      "0.03487058840657598\n",
      "0.034566997137941036\n",
      "0.03375279324844211\n",
      "0.03321696194209476\n",
      "0.03295618516738449\n",
      "0.03252232256844174\n",
      "0.031802135501609215\n",
      "0.03164754610165688\n",
      "0.03143074832965807\n",
      "0.030549692502452534\n",
      "0.030244058906164894\n",
      "0.02987761130783293\n",
      "0.02944181513614165\n",
      "0.02896719364189548\n",
      "0.028275764069296973\n",
      "0.028050426726600554\n",
      "0.027531144555697076\n",
      "0.02735027323033825\n",
      "0.026645202789327582\n",
      "0.026279822128074178\n",
      "0.026094789214815346\n",
      "0.02577572942799122\n",
      "0.025489662243327733\n",
      "0.025208683009706745\n",
      "0.02464120046627759\n",
      "0.024515275680495\n",
      "0.024193995568583426\n",
      "0.02362693942525927\n",
      "0.02348954423928495\n",
      "0.02281695308707624\n",
      "0.022706131699650713\n",
      "0.02201740393226774\n",
      "0.021743084013236262\n",
      "0.021536803611832533\n",
      "0.021182219391413293\n",
      "0.02072995282525866\n",
      "0.020655065798329215\n",
      "0.0203391858050059\n",
      "0.019701722116025732\n",
      "0.019562777602357563\n",
      "0.01933188452537009\n",
      "0.01893900238111534\n",
      "0.018574493094804002\n",
      "0.01827176407214858\n",
      "0.01803444822416914\n",
      "0.017769421626586047\n",
      "0.017346994990375363\n",
      "0.01713775711202685\n",
      "0.016896831380779288\n",
      "0.016685292099550986\n",
      "0.016503986062544225\n",
      "0.016296635273434702\n",
      "0.016059106282135516\n",
      "0.015754431104457678\n",
      "0.015456833217502672\n",
      "0.014978635708186642\n",
      "0.014881523425212467\n",
      "0.014564155416059732\n",
      "0.014241790243572498\n",
      "0.014140845444908099\n",
      "0.013834349018629401\n",
      "0.013669739873688809\n",
      "0.013420579297881386\n",
      "0.013156150653614196\n",
      "0.012915154162905\n",
      "0.01281231087270348\n",
      "0.012235682266666494\n",
      "0.012121404278786593\n",
      "0.011975937042364541\n",
      "0.011689783617945376\n",
      "0.011565757273678461\n",
      "0.011482984673108855\n",
      "0.011352244074373944\n",
      "0.0109354732498909\n",
      "0.010852145552919532\n",
      "0.010474784094968114\n",
      "0.010207632192823023\n",
      "0.010104354427638608\n",
      "0.009939740530431122\n",
      "0.009756714189003743\n",
      "0.009508897157322846\n",
      "0.009424402942537664\n",
      "0.009332105128420897\n",
      "0.00912029278344529\n",
      "0.008954173084389313\n",
      "0.008871733249377364\n",
      "0.008506268916914231\n",
      "0.008416269289307218\n",
      "0.00830719526762469\n",
      "0.008151471626210497\n",
      "0.00799284611831367\n",
      "0.007726956870152859\n",
      "0.007589427596084501\n",
      "0.007505533868330612\n",
      "0.00742711541708877\n",
      "0.007306592024078389\n",
      "0.00718580311667679\n",
      "0.007039770564061071\n",
      "0.006828039996755871\n",
      "0.006791708760547207\n",
      "0.0064302787088674415\n",
      "0.006241511645985866\n",
      "0.0061642750191554935\n",
      "0.006056954792396914\n",
      "0.005879983976381529\n",
      "0.005746631189324155\n",
      "0.005699827136328303\n",
      "0.0053662177468982684\n",
      "0.0052510398579563005\n",
      "0.005185194685357537\n",
      "0.005087138269776066\n",
      "0.004892625314265223\n",
      "0.004869657061843536\n",
      "0.004734988697103545\n",
      "0.004588495366166488\n",
      "0.004465505815906738\n",
      "0.0044270824620772\n",
      "0.0043632864824199764\n",
      "0.004204027158799798\n",
      "0.004136229751128713\n",
      "0.003995067321704794\n",
      "0.0036704769114393005\n",
      "0.0035982048761480858\n",
      "0.0035497311046977474\n",
      "0.003440034314276167\n",
      "0.0032733802005769684\n",
      "0.0032297869085724574\n",
      "0.0031040420875234594\n",
      "0.003024992444161864\n",
      "0.0028609527206400944\n",
      "0.002749403681974696\n",
      "0.0027201731859796954\n",
      "0.00266069316692508\n",
      "0.0024692676575770863\n",
      "0.002422764274676402\n",
      "0.0022236504510385314\n",
      "0.0021445149675301625\n",
      "0.001980881821435522\n",
      "0.0017756529780126398\n",
      "0.0016325437123569653\n",
      "9.731855890374523e-15\n",
      "9.615584818983564e-15\n",
      "9.225425449422143e-15\n",
      "9.068412302194598e-15\n",
      "8.921403298750682e-15\n",
      "8.921403298750682e-15\n",
      "8.887883167422291e-15\n",
      "8.887883167422291e-15\n",
      "8.795705142860321e-15\n",
      "8.795705142860321e-15\n",
      "8.74346448504251e-15\n",
      "8.66511575416368e-15\n",
      "8.66511575416368e-15\n",
      "8.582086164396765e-15\n",
      "8.582086164396765e-15\n",
      "8.552474603654378e-15\n",
      "8.552474603654378e-15\n",
      "8.433876180023994e-15\n",
      "8.433876180023994e-15\n",
      "8.355931793481286e-15\n",
      "8.355931793481286e-15\n",
      "8.22266949207903e-15\n",
      "8.22266949207903e-15\n",
      "8.07378350412156e-15\n",
      "8.07378350412156e-15\n",
      "7.946618447747936e-15\n",
      "7.946618447747936e-15\n",
      "7.944383240224601e-15\n",
      "7.944383240224601e-15\n",
      "7.892176139568179e-15\n",
      "7.876327305422176e-15\n",
      "7.876327305422176e-15\n",
      "7.869155365382978e-15\n",
      "7.66619363632527e-15\n",
      "7.66619363632527e-15\n",
      "7.631429598668825e-15\n",
      "7.631429598668825e-15\n",
      "7.595537855681541e-15\n",
      "7.55096893994048e-15\n",
      "7.55096893994048e-15\n",
      "7.548560845385227e-15\n",
      "7.548560845385227e-15\n",
      "7.546264634015561e-15\n",
      "7.546264634015561e-15\n",
      "7.435654949058427e-15\n",
      "7.435654949058427e-15\n",
      "7.339058058590051e-15\n",
      "7.339058058590051e-15\n",
      "7.26505507858731e-15\n",
      "7.26505507858731e-15\n",
      "7.245348985838745e-15\n",
      "7.207492433972298e-15\n",
      "7.175618005022484e-15\n",
      "7.175618005022484e-15\n",
      "7.169244426780613e-15\n",
      "7.147443263388627e-15\n",
      "7.147443263388627e-15\n",
      "7.09519596333862e-15\n",
      "7.09519596333862e-15\n",
      "7.0604493785024185e-15\n",
      "7.0604493785024185e-15\n",
      "6.975026065088554e-15\n",
      "6.975026065088554e-15\n",
      "6.9710005999269126e-15\n",
      "6.9710005999269126e-15\n",
      "6.9583297204625475e-15\n",
      "6.9583297204625475e-15\n",
      "6.6974706068986496e-15\n",
      "6.6974706068986496e-15\n",
      "6.659179530253097e-15\n",
      "6.659179530253097e-15\n",
      "6.631624187066202e-15\n",
      "6.631624187066202e-15\n",
      "6.628290145689946e-15\n",
      "6.628290145689946e-15\n",
      "6.575806115070453e-15\n",
      "6.575806115070453e-15\n",
      "6.549584118406453e-15\n",
      "6.531874295659004e-15\n",
      "6.5039672652032725e-15\n",
      "6.5039672652032725e-15\n",
      "6.48381958749754e-15\n",
      "6.48381958749754e-15\n",
      "6.326752577950545e-15\n",
      "6.326752577950545e-15\n",
      "6.317001350763973e-15\n",
      "6.317001350763973e-15\n",
      "6.3157321995619875e-15\n",
      "6.3157321995619875e-15\n",
      "6.274078946556546e-15\n",
      "6.274078946556546e-15\n",
      "6.249253086287473e-15\n",
      "6.249253086287473e-15\n",
      "6.2302234358674645e-15\n",
      "6.225115381330886e-15\n",
      "6.225115381330886e-15\n",
      "6.2220611580634535e-15\n",
      "6.2220611580634535e-15\n",
      "6.116208070207434e-15\n",
      "6.116208070207434e-15\n",
      "6.095446965572862e-15\n",
      "6.095446965572862e-15\n",
      "5.990329270892586e-15\n",
      "5.990329270892586e-15\n",
      "5.954253104938807e-15\n",
      "5.954253104938807e-15\n",
      "5.8826108956469395e-15\n",
      "5.8826108956469395e-15\n",
      "5.877552611079243e-15\n",
      "5.877552611079243e-15\n",
      "5.840298257110795e-15\n",
      "5.840298257110795e-15\n",
      "5.8056153552754236e-15\n",
      "5.8056153552754236e-15\n",
      "5.788411157115841e-15\n",
      "5.788411157115841e-15\n",
      "5.761074108504726e-15\n",
      "5.761074108504726e-15\n",
      "5.6755944756285395e-15\n",
      "5.6755944756285395e-15\n",
      "5.630635154231193e-15\n",
      "5.630635154231193e-15\n",
      "5.602054771104674e-15\n",
      "5.602054771104674e-15\n",
      "5.567645515283667e-15\n",
      "5.554266869179515e-15\n",
      "5.554266869179515e-15\n",
      "5.511381400590455e-15\n",
      "5.511381400590455e-15\n",
      "5.441132717715012e-15\n",
      "5.441132717715012e-15\n",
      "5.423547774917886e-15\n",
      "5.423547774917886e-15\n",
      "5.366808292052055e-15\n",
      "5.366808292052055e-15\n",
      "5.365041182021643e-15\n",
      "5.365041182021643e-15\n",
      "5.336559247780909e-15\n",
      "5.336559247780909e-15\n",
      "5.255173818085055e-15\n",
      "5.2349998260989e-15\n",
      "5.2349998260989e-15\n",
      "5.204409419392914e-15\n",
      "5.204409419392914e-15\n",
      "5.180467549959612e-15\n",
      "5.180467549959612e-15\n",
      "5.1733857752507815e-15\n",
      "5.1733857752507815e-15\n",
      "5.164151110709124e-15\n",
      "5.147837404488774e-15\n",
      "5.147837404488774e-15\n",
      "5.138460431411144e-15\n",
      "5.138460431411144e-15\n",
      "5.1173603316268055e-15\n",
      "5.1173603316268055e-15\n",
      "5.116846625577363e-15\n",
      "5.116846625577363e-15\n",
      "5.061917690560525e-15\n",
      "5.058096135129175e-15\n",
      "5.058096135129175e-15\n",
      "5.029850053236489e-15\n",
      "5.029850053236489e-15\n",
      "4.900134285673054e-15\n",
      "4.8760003762992045e-15\n",
      "4.8760003762992045e-15\n",
      "4.873158341901271e-15\n",
      "4.873158341901271e-15\n",
      "4.851492907068223e-15\n",
      "4.851492907068223e-15\n",
      "4.794516758067226e-15\n",
      "4.794516758067226e-15\n",
      "4.7354130642514306e-15\n",
      "4.7293695732071714e-15\n",
      "4.7293695732071714e-15\n",
      "4.715422513724974e-15\n",
      "4.715422513724974e-15\n",
      "4.658877514208635e-15\n",
      "4.658877514208635e-15\n",
      "4.627004065278347e-15\n",
      "4.627004065278347e-15\n",
      "4.604682728371696e-15\n",
      "4.604682728371696e-15\n",
      "4.597549392610264e-15\n",
      "4.597549392610264e-15\n",
      "4.573203881374258e-15\n",
      "4.573203881374258e-15\n",
      "4.568885347767374e-15\n",
      "4.484483764368599e-15\n",
      "4.450243222391721e-15\n",
      "4.450243222391721e-15\n",
      "4.431827480018151e-15\n",
      "4.431827480018151e-15\n",
      "4.403360085663765e-15\n",
      "4.403360085663765e-15\n",
      "4.372038497314732e-15\n",
      "4.372038497314732e-15\n",
      "4.318426119420102e-15\n",
      "4.318426119420102e-15\n",
      "4.293402549090292e-15\n",
      "4.293402549090292e-15\n",
      "4.292156440705791e-15\n",
      "4.292156440705791e-15\n",
      "4.263486178598853e-15\n",
      "4.263486178598853e-15\n",
      "4.250045932720689e-15\n",
      "4.250045932720689e-15\n",
      "4.213522201557735e-15\n",
      "4.213522201557735e-15\n",
      "4.19866658482908e-15\n",
      "4.19866658482908e-15\n",
      "4.176069687447096e-15\n",
      "4.176069687447096e-15\n",
      "4.151970580070329e-15\n",
      "4.151970580070329e-15\n",
      "4.0609339341831436e-15\n",
      "4.0609339341831436e-15\n",
      "4.055545693432754e-15\n",
      "4.055545693432754e-15\n",
      "4.046157461823117e-15\n",
      "4.018516646015831e-15\n",
      "4.018516646015831e-15\n",
      "3.983228101591633e-15\n",
      "3.983228101591633e-15\n",
      "3.9824357843446294e-15\n",
      "3.9824357843446294e-15\n",
      "3.969030578552678e-15\n",
      "3.969030578552678e-15\n",
      "3.9362721171390815e-15\n",
      "3.9362721171390815e-15\n",
      "3.876588516545366e-15\n",
      "3.876588516545366e-15\n",
      "3.858490530599398e-15\n",
      "3.852760792419676e-15\n",
      "3.852760792419676e-15\n",
      "3.849582057181098e-15\n",
      "3.849582057181098e-15\n",
      "3.8040843065222366e-15\n",
      "3.8040843065222366e-15\n",
      "3.795570848041897e-15\n",
      "3.795570848041897e-15\n",
      "3.767799733311759e-15\n",
      "3.767799733311759e-15\n",
      "3.711896807946761e-15\n",
      "3.711896807946761e-15\n",
      "3.70234988207979e-15\n",
      "3.70234988207979e-15\n",
      "3.642731260841995e-15\n",
      "3.642731260841995e-15\n",
      "3.61541127438645e-15\n",
      "3.61541127438645e-15\n",
      "3.591924153722695e-15\n",
      "3.591924153722695e-15\n",
      "3.582531876072039e-15\n",
      "3.558524638032387e-15\n",
      "3.558524638032387e-15\n",
      "3.5390312284465917e-15\n",
      "3.5390312284465917e-15\n",
      "3.5314590368925875e-15\n",
      "3.5314590368925875e-15\n",
      "3.444250674337685e-15\n",
      "3.444250674337685e-15\n",
      "3.4321328164123713e-15\n",
      "3.4321328164123713e-15\n",
      "3.372356968973211e-15\n",
      "3.372356968973211e-15\n",
      "3.3569406617105304e-15\n",
      "3.3569406617105304e-15\n",
      "3.3306201715210004e-15\n",
      "3.3306201715210004e-15\n",
      "3.3110027720704434e-15\n",
      "3.3110027720704434e-15\n",
      "3.2888502838685156e-15\n",
      "3.2888502838685156e-15\n",
      "3.2704599387583254e-15\n",
      "3.2704599387583254e-15\n",
      "3.2266039143972062e-15\n",
      "3.1919999024053827e-15\n",
      "3.1919999024053827e-15\n",
      "3.1684208847484e-15\n",
      "3.1684208847484e-15\n",
      "3.1357868925505366e-15\n",
      "3.1357868925505366e-15\n",
      "3.1316198015065924e-15\n",
      "3.1316198015065924e-15\n",
      "3.11434677937495e-15\n",
      "3.11434677937495e-15\n",
      "3.0918564749930438e-15\n",
      "3.0918564749930438e-15\n",
      "3.0801775876498034e-15\n",
      "3.0801775876498034e-15\n",
      "3.0719967614287064e-15\n",
      "3.0719967614287064e-15\n",
      "3.0526479599083714e-15\n",
      "3.0526479599083714e-15\n",
      "3.0515015918438165e-15\n",
      "3.0515015918438165e-15\n",
      "3.041310774638749e-15\n",
      "3.041310774638749e-15\n",
      "3.0389604896642477e-15\n",
      "3.0389604896642477e-15\n",
      "3.0308476367629952e-15\n",
      "3.0308476367629952e-15\n",
      "3.009546210735346e-15\n",
      "3.009546210735346e-15\n",
      "3.004280245911284e-15\n",
      "3.004280245911284e-15\n",
      "2.976228422926473e-15\n",
      "2.976228422926473e-15\n",
      "2.9694330290207523e-15\n",
      "2.8615093369264074e-15\n",
      "2.8615093369264074e-15\n",
      "2.850840054608544e-15\n",
      "2.850840054608544e-15\n",
      "2.807926908874771e-15\n",
      "2.807926908874771e-15\n",
      "2.7954235158080205e-15\n",
      "2.7954235158080205e-15\n",
      "2.7818504450223066e-15\n",
      "2.7818504450223066e-15\n",
      "2.777584475471511e-15\n",
      "2.777584475471511e-15\n",
      "2.767047696140683e-15\n",
      "2.767047696140683e-15\n",
      "2.7537850026267122e-15\n",
      "2.7537850026267122e-15\n",
      "2.745048377541041e-15\n",
      "2.745048377541041e-15\n",
      "2.7405047195707616e-15\n",
      "2.7405047195707616e-15\n",
      "2.6941815381512525e-15\n",
      "2.6941815381512525e-15\n",
      "2.63448820951415e-15\n",
      "2.63448820951415e-15\n",
      "2.6257516432208988e-15\n",
      "2.6257516432208988e-15\n",
      "2.5903501206438256e-15\n",
      "2.5903501206438256e-15\n",
      "2.580132484846774e-15\n",
      "2.580132484846774e-15\n",
      "2.559968607457186e-15\n",
      "2.559968607457186e-15\n",
      "2.5589841604413744e-15\n",
      "2.5589841604413744e-15\n",
      "2.537683688903768e-15\n",
      "2.537683688903768e-15\n",
      "2.5308864235821667e-15\n",
      "2.5308864235821667e-15\n",
      "2.503235768798544e-15\n",
      "2.503235768798544e-15\n",
      "2.4910396949636126e-15\n",
      "2.4910396949636126e-15\n",
      "2.472045966561619e-15\n",
      "2.472045966561619e-15\n",
      "2.4663302125777414e-15\n",
      "2.4663302125777414e-15\n",
      "2.4433250319229336e-15\n",
      "2.4433250319229336e-15\n",
      "2.4373760100300593e-15\n",
      "2.4373760100300593e-15\n",
      "2.399493106568006e-15\n",
      "2.399493106568006e-15\n",
      "2.3719421048576525e-15\n",
      "2.3719421048576525e-15\n",
      "2.358631577664379e-15\n",
      "2.354488362337453e-15\n",
      "2.3506345283548697e-15\n",
      "2.3506345283548697e-15\n",
      "2.340079762892606e-15\n",
      "2.340079762892606e-15\n",
      "2.3187764862475398e-15\n",
      "2.3187764862475398e-15\n",
      "2.2866706333931957e-15\n",
      "2.2866706333931957e-15\n",
      "2.199644511228198e-15\n",
      "2.1922690584250315e-15\n",
      "2.1922690584250315e-15\n",
      "2.1855157395417567e-15\n",
      "2.1855157395417567e-15\n",
      "2.149647651488441e-15\n",
      "2.149647651488441e-15\n",
      "2.1368315524766373e-15\n",
      "2.110071904908011e-15\n",
      "2.110071904908011e-15\n",
      "2.0699582028086613e-15\n",
      "2.0699582028086613e-15\n",
      "2.0433934280542265e-15\n",
      "2.0433934280542265e-15\n",
      "1.9892120222890182e-15\n",
      "1.9892120222890182e-15\n",
      "1.9713029787581773e-15\n",
      "1.9713029787581773e-15\n",
      "1.9628112383959135e-15\n",
      "1.9628112383959135e-15\n",
      "1.9573449510872805e-15\n",
      "1.9573449510872805e-15\n",
      "1.942216580166679e-15\n",
      "1.942216580166679e-15\n",
      "1.9368599784269736e-15\n",
      "1.9368599784269736e-15\n",
      "1.922516190545502e-15\n",
      "1.9212693772976965e-15\n",
      "1.9212693772976965e-15\n",
      "1.9012043562195007e-15\n",
      "1.9012043562195007e-15\n",
      "1.8725139670741865e-15\n",
      "1.8725139670741865e-15\n",
      "1.845728107460436e-15\n",
      "1.845728107460436e-15\n",
      "1.8391612285227616e-15\n",
      "1.8391612285227616e-15\n",
      "1.8306411168733047e-15\n",
      "1.8306411168733047e-15\n",
      "1.8015956957839316e-15\n",
      "1.8015956957839316e-15\n",
      "1.748659416042043e-15\n",
      "1.748659416042043e-15\n",
      "1.7280478336582292e-15\n",
      "1.7280478336582292e-15\n",
      "1.7271905667663458e-15\n",
      "1.7271905667663458e-15\n",
      "1.7042629077297172e-15\n",
      "1.68175507763063e-15\n",
      "1.68175507763063e-15\n",
      "1.6518078935630592e-15\n",
      "1.6409539456409006e-15\n",
      "1.6409539456409006e-15\n",
      "1.6167158786958847e-15\n",
      "1.6167158786958847e-15\n",
      "1.5658454138840454e-15\n",
      "1.5658454138840454e-15\n",
      "1.5525818294325701e-15\n",
      "1.5525818294325701e-15\n",
      "1.5341367083605056e-15\n",
      "1.5341367083605056e-15\n",
      "1.5200878961568819e-15\n",
      "1.5200878961568819e-15\n",
      "1.472427508788357e-15\n",
      "1.472427508788357e-15\n",
      "1.4548426007348605e-15\n",
      "1.4548426007348605e-15\n",
      "1.4403474739227553e-15\n",
      "1.4403474739227553e-15\n",
      "1.4269873183279734e-15\n",
      "1.4269873183279734e-15\n",
      "1.4008929885383339e-15\n",
      "1.4008929885383339e-15\n",
      "1.3371348879775634e-15\n",
      "1.3371348879775634e-15\n",
      "1.3207281711768385e-15\n",
      "1.3207281711768385e-15\n",
      "1.2862564191964665e-15\n",
      "1.2862564191964665e-15\n",
      "1.2585787248372567e-15\n",
      "1.2524870912355712e-15\n",
      "1.2524870912355712e-15\n",
      "1.2401413933745038e-15\n",
      "1.2401413933745038e-15\n",
      "1.2394125891955393e-15\n",
      "1.2394125891955393e-15\n",
      "1.2234355693662775e-15\n",
      "1.2234355693662775e-15\n",
      "1.1819471257813793e-15\n",
      "1.1819471257813793e-15\n",
      "1.1612086273981599e-15\n",
      "1.1612086273981599e-15\n",
      "1.1488847443659842e-15\n",
      "1.1488847443659842e-15\n",
      "1.1205528710826474e-15\n",
      "1.1205528710826474e-15\n",
      "1.0977025019873982e-15\n",
      "1.0411930460059918e-15\n",
      "1.0411930460059918e-15\n",
      "1.021240873828944e-15\n",
      "1.021240873828944e-15\n",
      "9.986141312860946e-16\n",
      "9.986141312860946e-16\n",
      "9.865984818235226e-16\n",
      "9.865984818235226e-16\n",
      "9.756677548893523e-16\n",
      "9.756677548893523e-16\n",
      "9.154480648962451e-16\n",
      "9.154480648962451e-16\n",
      "9.080048459777521e-16\n",
      "9.080048459777521e-16\n",
      "7.967140911299797e-16\n",
      "7.908109576604421e-16\n",
      "7.908109576604421e-16\n",
      "7.2764010801465365e-16\n",
      "7.2764010801465365e-16\n",
      "6.784908713835207e-16\n",
      "6.784908713835207e-16\n",
      "6.725983517705997e-16\n",
      "6.446482543254616e-16\n",
      "6.446482543254616e-16\n",
      "5.779630905682973e-16\n",
      "5.779630905682973e-16\n",
      "5.731789620213662e-16\n",
      "5.731789620213662e-16\n",
      "5.381515904721685e-16\n",
      "5.381515904721685e-16\n",
      "4.8151592412626e-16\n",
      "4.8151592412626e-16\n",
      "4.1892791605071827e-16\n",
      "4.08452836778964e-16\n",
      "4.08452836778964e-16\n",
      "3.738672519327388e-16\n",
      "3.738672519327388e-16\n",
      "2.7097702925804024e-16\n",
      "1.4671976694276366e-16\n",
      "3.375047008496018e-17\n"
     ]
    }
   ],
   "source": [
    "eig_pairs = [(np.abs(eig_val_cov[i]), eig_vec_cov[:,i]) for i in range(len(eig_val_cov))]\n",
    "\n",
    "# Sort the (eigenvalue, eigenvector) tuples from high to low\n",
    "eig_pairs.sort(key=lambda x: x[0], reverse=True)\n",
    "\n",
    "# Visually confirm that the list is correctly sorted by decreasing eigenvalues\n",
    "for i in eig_pairs:\n",
    "    print(i[0])"
   ]
  },
  {
   "cell_type": "code",
   "execution_count": 91,
   "metadata": {},
   "outputs": [
    {
     "name": "stdout",
     "output_type": "stream",
     "text": [
      "Matriz W:\n",
      " [[ 0.01116588+0.j  0.00107094+0.j]\n",
      " [-0.01427162+0.j -0.0186116 +0.j]\n",
      " [ 0.03743484+0.j  0.00311151+0.j]\n",
      " ...\n",
      " [ 0.0061793 +0.j  0.01823255+0.j]\n",
      " [-0.01671963+0.j -0.00204627+0.j]\n",
      " [-0.0235768 +0.j  0.0004078 +0.j]]\n"
     ]
    }
   ],
   "source": [
    "matrix_w = np.hstack((eig_pairs[0][1].reshape(894,1), eig_pairs[1][1].reshape(894,1)))\n",
    "print('Matriz W:\\n', matrix_w)"
   ]
  },
  {
   "cell_type": "code",
   "execution_count": 113,
   "metadata": {},
   "outputs": [
    {
     "data": {
      "text/plain": [
       "(894, 1)"
      ]
     },
     "execution_count": 113,
     "metadata": {},
     "output_type": "execute_result"
    }
   ],
   "source": [
    "shape((eig_pairs[0][1].reshape(894,1)))"
   ]
  },
  {
   "cell_type": "code",
   "execution_count": 110,
   "metadata": {},
   "outputs": [
    {
     "data": {
      "text/plain": [
       "array([ 0.01116588+0.j, -0.01427162+0.j,  0.03743484+0.j, ...,\n",
       "        0.0061793 +0.j, -0.01671963+0.j, -0.0235768 +0.j])"
      ]
     },
     "execution_count": 110,
     "metadata": {},
     "output_type": "execute_result"
    }
   ],
   "source": [
    "eig_pairs[0][1]"
   ]
  },
  {
   "cell_type": "code",
   "execution_count": 115,
   "metadata": {},
   "outputs": [
    {
     "data": {
      "text/plain": [
       "array([[-0.94265087, -0.27957182, -0.01149977, ...,  2.24472889,\n",
       "         2.16458121,  0.04354834],\n",
       "       [ 2.9417264 ,  0.83442469,  0.14878309, ..., -0.47230487,\n",
       "        -0.39260492,  0.79014776],\n",
       "       [-0.27095371, -0.41138486,  2.00190741, ...,  0.51487864,\n",
       "        -0.27654667,  0.06121542],\n",
       "       ...,\n",
       "       [ 0.32721847, -0.63354287, -1.2040875 , ...,  1.73700184,\n",
       "         2.70266235, -2.23872773],\n",
       "       [ 1.91670605,  2.48159714, -2.17749392, ..., -0.39303553,\n",
       "         0.4570616 , -0.52570939],\n",
       "       [-0.02248401,  0.41949457, -0.5703633 , ...,  0.11162483,\n",
       "        -0.33635156, -0.19685576]])"
      ]
     },
     "execution_count": 115,
     "metadata": {},
     "output_type": "execute_result"
    }
   ],
   "source": [
    "X_std.reshape(894,385)"
   ]
  },
  {
   "cell_type": "code",
   "execution_count": 116,
   "metadata": {},
   "outputs": [
    {
     "data": {
      "text/plain": [
       "array([[-0.94265087, -0.27957182, -0.01149977, ...,  0.45659488,\n",
       "        -0.13195212, -1.83434245],\n",
       "       [-0.37425311,  0.24226374,  0.36516066, ...,  0.07690914,\n",
       "        -0.4554781 , -0.64307945],\n",
       "       [-1.00295649,  0.52773178,  0.537479  , ...,  0.04602038,\n",
       "        -0.51009108, -0.5390939 ],\n",
       "       ...,\n",
       "       [-0.51357988,  0.47863128, -1.5069586 , ..., -0.62970542,\n",
       "        -0.07382602,  0.80529067],\n",
       "       [ 1.12992146, -0.12085159,  0.79214415, ...,  0.0703487 ,\n",
       "        -0.47144681, -0.6087985 ],\n",
       "       [ 1.24082834, -0.1288447 ,  0.56238637, ...,  0.11162483,\n",
       "        -0.33635156, -0.19685576]])"
      ]
     },
     "execution_count": 116,
     "metadata": {},
     "output_type": "execute_result"
    }
   ],
   "source": []
  },
  {
   "cell_type": "code",
   "execution_count": 137,
   "metadata": {},
   "outputs": [
    {
     "data": {
      "text/plain": [
       "(2, 385)"
      ]
     },
     "execution_count": 137,
     "metadata": {},
     "output_type": "execute_result"
    }
   ],
   "source": [
    "transformed = matrix_w.T.dot(X_std.reshape(894,385))\n",
    "shape(transformed)\n"
   ]
  },
  {
   "cell_type": "code",
   "execution_count": 138,
   "metadata": {},
   "outputs": [
    {
     "data": {
      "text/plain": [
       "array([ 0.38149659+0.j, -0.65071978+0.j, -0.21744576+0.j, ...,\n",
       "        0.40517306+0.j,  0.80527109+0.j,  1.20026336+0.j])"
      ]
     },
     "execution_count": 138,
     "metadata": {},
     "output_type": "execute_result"
    }
   ],
   "source": [
    "transformed[1]"
   ]
  },
  {
   "cell_type": "code",
   "execution_count": 140,
   "metadata": {},
   "outputs": [
    {
     "data": {
      "image/png": "[encoded data removed]",
      "text/plain": [
       "<Figure size 432x288 with 1 Axes>"
      ]
     },
     "metadata": {
      "needs_background": "light"
     },
     "output_type": "display_data"
    }
   ],
   "source": [
    "plt.plot(transformed[0], transformed[1], 'o', \n",
    "         markersize=7, color='blue', alpha=0.5, label='class1')\n",
    "\n",
    "\n",
    "plt.xlabel('x_values')\n",
    "plt.ylabel('y_values')\n",
    "plt.legend()\n",
    "plt.title('Transformed samples with class labels')\n",
    "\n",
    "plt.show()"
   ]
  },
  {
   "cell_type": "code",
   "execution_count": 71,
   "metadata": {},
   "outputs": [
    {
     "name": "stdout",
     "output_type": "stream",
     "text": [
      "Populating the interactive namespace from numpy and matplotlib\n"
     ]
    },
    {
     "ename": "TypeError",
     "evalue": "Cannot cast array data from dtype('complex128') to dtype('float64') according to the rule 'safe'",
     "output_type": "error",
     "traceback": [
      "\u001b[0;31m---------------------------------------------------------------------------\u001b[0m",
      "\u001b[0;31mTypeError\u001b[0m                                 Traceback (most recent call last)",
      "\u001b[0;32m~/anaconda3/envs/mds/lib/python3.6/site-packages/IPython/core/formatters.py\u001b[0m in \u001b[0;36m__call__\u001b[0;34m(self, obj)\u001b[0m\n\u001b[1;32m    339\u001b[0m                 \u001b[0;32mpass\u001b[0m\u001b[0;34m\u001b[0m\u001b[0;34m\u001b[0m\u001b[0m\n\u001b[1;32m    340\u001b[0m             \u001b[0;32melse\u001b[0m\u001b[0;34m:\u001b[0m\u001b[0;34m\u001b[0m\u001b[0;34m\u001b[0m\u001b[0m\n\u001b[0;32m--> 341\u001b[0;31m                 \u001b[0;32mreturn\u001b[0m \u001b[0mprinter\u001b[0m\u001b[0;34m(\u001b[0m\u001b[0mobj\u001b[0m\u001b[0;34m)\u001b[0m\u001b[0;34m\u001b[0m\u001b[0;34m\u001b[0m\u001b[0m\n\u001b[0m\u001b[1;32m    342\u001b[0m             \u001b[0;31m# Finally look for special method names\u001b[0m\u001b[0;34m\u001b[0m\u001b[0;34m\u001b[0m\u001b[0;34m\u001b[0m\u001b[0m\n\u001b[1;32m    343\u001b[0m             \u001b[0mmethod\u001b[0m \u001b[0;34m=\u001b[0m \u001b[0mget_real_method\u001b[0m\u001b[0;34m(\u001b[0m\u001b[0mobj\u001b[0m\u001b[0;34m,\u001b[0m \u001b[0mself\u001b[0m\u001b[0;34m.\u001b[0m\u001b[0mprint_method\u001b[0m\u001b[0;34m)\u001b[0m\u001b[0;34m\u001b[0m\u001b[0;34m\u001b[0m\u001b[0m\n",
      "\u001b[0;32m~/anaconda3/envs/mds/lib/python3.6/site-packages/IPython/core/pylabtools.py\u001b[0m in \u001b[0;36m<lambda>\u001b[0;34m(fig)\u001b[0m\n\u001b[1;32m    242\u001b[0m \u001b[0;34m\u001b[0m\u001b[0m\n\u001b[1;32m    243\u001b[0m     \u001b[0;32mif\u001b[0m \u001b[0;34m'png'\u001b[0m \u001b[0;32min\u001b[0m \u001b[0mformats\u001b[0m\u001b[0;34m:\u001b[0m\u001b[0;34m\u001b[0m\u001b[0;34m\u001b[0m\u001b[0m\n\u001b[0;32m--> 244\u001b[0;31m         \u001b[0mpng_formatter\u001b[0m\u001b[0;34m.\u001b[0m\u001b[0mfor_type\u001b[0m\u001b[0;34m(\u001b[0m\u001b[0mFigure\u001b[0m\u001b[0;34m,\u001b[0m \u001b[0;32mlambda\u001b[0m \u001b[0mfig\u001b[0m\u001b[0;34m:\u001b[0m \u001b[0mprint_figure\u001b[0m\u001b[0;34m(\u001b[0m\u001b[0mfig\u001b[0m\u001b[0;34m,\u001b[0m \u001b[0;34m'png'\u001b[0m\u001b[0;34m,\u001b[0m \u001b[0;34m**\u001b[0m\u001b[0mkwargs\u001b[0m\u001b[0;34m)\u001b[0m\u001b[0;34m)\u001b[0m\u001b[0;34m\u001b[0m\u001b[0;34m\u001b[0m\u001b[0m\n\u001b[0m\u001b[1;32m    245\u001b[0m     \u001b[0;32mif\u001b[0m \u001b[0;34m'retina'\u001b[0m \u001b[0;32min\u001b[0m \u001b[0mformats\u001b[0m \u001b[0;32mor\u001b[0m \u001b[0;34m'png2x'\u001b[0m \u001b[0;32min\u001b[0m \u001b[0mformats\u001b[0m\u001b[0;34m:\u001b[0m\u001b[0;34m\u001b[0m\u001b[0;34m\u001b[0m\u001b[0m\n\u001b[1;32m    246\u001b[0m         \u001b[0mpng_formatter\u001b[0m\u001b[0;34m.\u001b[0m\u001b[0mfor_type\u001b[0m\u001b[0;34m(\u001b[0m\u001b[0mFigure\u001b[0m\u001b[0;34m,\u001b[0m \u001b[0;32mlambda\u001b[0m \u001b[0mfig\u001b[0m\u001b[0;34m:\u001b[0m \u001b[0mretina_figure\u001b[0m\u001b[0;34m(\u001b[0m\u001b[0mfig\u001b[0m\u001b[0;34m,\u001b[0m \u001b[0;34m**\u001b[0m\u001b[0mkwargs\u001b[0m\u001b[0;34m)\u001b[0m\u001b[0;34m)\u001b[0m\u001b[0;34m\u001b[0m\u001b[0;34m\u001b[0m\u001b[0m\n",
      "\u001b[0;32m~/anaconda3/envs/mds/lib/python3.6/site-packages/IPython/core/pylabtools.py\u001b[0m in \u001b[0;36mprint_figure\u001b[0;34m(fig, fmt, bbox_inches, **kwargs)\u001b[0m\n\u001b[1;32m    126\u001b[0m \u001b[0;34m\u001b[0m\u001b[0m\n\u001b[1;32m    127\u001b[0m     \u001b[0mbytes_io\u001b[0m \u001b[0;34m=\u001b[0m \u001b[0mBytesIO\u001b[0m\u001b[0;34m(\u001b[0m\u001b[0;34m)\u001b[0m\u001b[0;34m\u001b[0m\u001b[0;34m\u001b[0m\u001b[0m\n\u001b[0;32m--> 128\u001b[0;31m     \u001b[0mfig\u001b[0m\u001b[0;34m.\u001b[0m\u001b[0mcanvas\u001b[0m\u001b[0;34m.\u001b[0m\u001b[0mprint_figure\u001b[0m\u001b[0;34m(\u001b[0m\u001b[0mbytes_io\u001b[0m\u001b[0;34m,\u001b[0m \u001b[0;34m**\u001b[0m\u001b[0mkw\u001b[0m\u001b[0;34m)\u001b[0m\u001b[0;34m\u001b[0m\u001b[0;34m\u001b[0m\u001b[0m\n\u001b[0m\u001b[1;32m    129\u001b[0m     \u001b[0mdata\u001b[0m \u001b[0;34m=\u001b[0m \u001b[0mbytes_io\u001b[0m\u001b[0;34m.\u001b[0m\u001b[0mgetvalue\u001b[0m\u001b[0;34m(\u001b[0m\u001b[0;34m)\u001b[0m\u001b[0;34m\u001b[0m\u001b[0;34m\u001b[0m\u001b[0m\n\u001b[1;32m    130\u001b[0m     \u001b[0;32mif\u001b[0m \u001b[0mfmt\u001b[0m \u001b[0;34m==\u001b[0m \u001b[0;34m'svg'\u001b[0m\u001b[0;34m:\u001b[0m\u001b[0;34m\u001b[0m\u001b[0;34m\u001b[0m\u001b[0m\n",
      "\u001b[0;32m~/anaconda3/envs/mds/lib/python3.6/site-packages/matplotlib/backend_bases.py\u001b[0m in \u001b[0;36mprint_figure\u001b[0;34m(self, filename, dpi, facecolor, edgecolor, orientation, format, bbox_inches, **kwargs)\u001b[0m\n\u001b[1;32m   2047\u001b[0m                         \u001b[0morientation\u001b[0m\u001b[0;34m=\u001b[0m\u001b[0morientation\u001b[0m\u001b[0;34m,\u001b[0m\u001b[0;34m\u001b[0m\u001b[0;34m\u001b[0m\u001b[0m\n\u001b[1;32m   2048\u001b[0m                         \u001b[0mdryrun\u001b[0m\u001b[0;34m=\u001b[0m\u001b[0;32mTrue\u001b[0m\u001b[0;34m,\u001b[0m\u001b[0;34m\u001b[0m\u001b[0;34m\u001b[0m\u001b[0m\n\u001b[0;32m-> 2049\u001b[0;31m                         **kwargs)\n\u001b[0m\u001b[1;32m   2050\u001b[0m                     \u001b[0mrenderer\u001b[0m \u001b[0;34m=\u001b[0m \u001b[0mself\u001b[0m\u001b[0;34m.\u001b[0m\u001b[0mfigure\u001b[0m\u001b[0;34m.\u001b[0m\u001b[0m_cachedRenderer\u001b[0m\u001b[0;34m\u001b[0m\u001b[0;34m\u001b[0m\u001b[0m\n\u001b[1;32m   2051\u001b[0m                     \u001b[0mbbox_artists\u001b[0m \u001b[0;34m=\u001b[0m \u001b[0mkwargs\u001b[0m\u001b[0;34m.\u001b[0m\u001b[0mpop\u001b[0m\u001b[0;34m(\u001b[0m\u001b[0;34m\"bbox_extra_artists\"\u001b[0m\u001b[0;34m,\u001b[0m \u001b[0;32mNone\u001b[0m\u001b[0;34m)\u001b[0m\u001b[0;34m\u001b[0m\u001b[0;34m\u001b[0m\u001b[0m\n",
      "\u001b[0;32m~/anaconda3/envs/mds/lib/python3.6/site-packages/matplotlib/backends/backend_agg.py\u001b[0m in \u001b[0;36mprint_png\u001b[0;34m(self, filename_or_obj, *args, **kwargs)\u001b[0m\n\u001b[1;32m    508\u001b[0m \u001b[0;34m\u001b[0m\u001b[0m\n\u001b[1;32m    509\u001b[0m         \"\"\"\n\u001b[0;32m--> 510\u001b[0;31m         \u001b[0mFigureCanvasAgg\u001b[0m\u001b[0;34m.\u001b[0m\u001b[0mdraw\u001b[0m\u001b[0;34m(\u001b[0m\u001b[0mself\u001b[0m\u001b[0;34m)\u001b[0m\u001b[0;34m\u001b[0m\u001b[0;34m\u001b[0m\u001b[0m\n\u001b[0m\u001b[1;32m    511\u001b[0m         \u001b[0mrenderer\u001b[0m \u001b[0;34m=\u001b[0m \u001b[0mself\u001b[0m\u001b[0;34m.\u001b[0m\u001b[0mget_renderer\u001b[0m\u001b[0;34m(\u001b[0m\u001b[0;34m)\u001b[0m\u001b[0;34m\u001b[0m\u001b[0;34m\u001b[0m\u001b[0m\n\u001b[1;32m    512\u001b[0m \u001b[0;34m\u001b[0m\u001b[0m\n",
      "\u001b[0;32m~/anaconda3/envs/mds/lib/python3.6/site-packages/matplotlib/backends/backend_agg.py\u001b[0m in \u001b[0;36mdraw\u001b[0;34m(self)\u001b[0m\n\u001b[1;32m    400\u001b[0m         \u001b[0mtoolbar\u001b[0m \u001b[0;34m=\u001b[0m \u001b[0mself\u001b[0m\u001b[0;34m.\u001b[0m\u001b[0mtoolbar\u001b[0m\u001b[0;34m\u001b[0m\u001b[0;34m\u001b[0m\u001b[0m\n\u001b[1;32m    401\u001b[0m         \u001b[0;32mtry\u001b[0m\u001b[0;34m:\u001b[0m\u001b[0;34m\u001b[0m\u001b[0;34m\u001b[0m\u001b[0m\n\u001b[0;32m--> 402\u001b[0;31m             \u001b[0mself\u001b[0m\u001b[0;34m.\u001b[0m\u001b[0mfigure\u001b[0m\u001b[0;34m.\u001b[0m\u001b[0mdraw\u001b[0m\u001b[0;34m(\u001b[0m\u001b[0mself\u001b[0m\u001b[0;34m.\u001b[0m\u001b[0mrenderer\u001b[0m\u001b[0;34m)\u001b[0m\u001b[0;34m\u001b[0m\u001b[0;34m\u001b[0m\u001b[0m\n\u001b[0m\u001b[1;32m    403\u001b[0m             \u001b[0;31m# A GUI class may be need to update a window using this draw, so\u001b[0m\u001b[0;34m\u001b[0m\u001b[0;34m\u001b[0m\u001b[0;34m\u001b[0m\u001b[0m\n\u001b[1;32m    404\u001b[0m             \u001b[0;31m# don't forget to call the superclass.\u001b[0m\u001b[0;34m\u001b[0m\u001b[0;34m\u001b[0m\u001b[0;34m\u001b[0m\u001b[0m\n",
      "\u001b[0;32m~/anaconda3/envs/mds/lib/python3.6/site-packages/matplotlib/artist.py\u001b[0m in \u001b[0;36mdraw_wrapper\u001b[0;34m(artist, renderer, *args, **kwargs)\u001b[0m\n\u001b[1;32m     48\u001b[0m                 \u001b[0mrenderer\u001b[0m\u001b[0;34m.\u001b[0m\u001b[0mstart_filter\u001b[0m\u001b[0;34m(\u001b[0m\u001b[0;34m)\u001b[0m\u001b[0;34m\u001b[0m\u001b[0;34m\u001b[0m\u001b[0m\n\u001b[1;32m     49\u001b[0m \u001b[0;34m\u001b[0m\u001b[0m\n\u001b[0;32m---> 50\u001b[0;31m             \u001b[0;32mreturn\u001b[0m \u001b[0mdraw\u001b[0m\u001b[0;34m(\u001b[0m\u001b[0martist\u001b[0m\u001b[0;34m,\u001b[0m \u001b[0mrenderer\u001b[0m\u001b[0;34m,\u001b[0m \u001b[0;34m*\u001b[0m\u001b[0margs\u001b[0m\u001b[0;34m,\u001b[0m \u001b[0;34m**\u001b[0m\u001b[0mkwargs\u001b[0m\u001b[0;34m)\u001b[0m\u001b[0;34m\u001b[0m\u001b[0;34m\u001b[0m\u001b[0m\n\u001b[0m\u001b[1;32m     51\u001b[0m         \u001b[0;32mfinally\u001b[0m\u001b[0;34m:\u001b[0m\u001b[0;34m\u001b[0m\u001b[0;34m\u001b[0m\u001b[0m\n\u001b[1;32m     52\u001b[0m             \u001b[0;32mif\u001b[0m \u001b[0martist\u001b[0m\u001b[0;34m.\u001b[0m\u001b[0mget_agg_filter\u001b[0m\u001b[0;34m(\u001b[0m\u001b[0;34m)\u001b[0m \u001b[0;32mis\u001b[0m \u001b[0;32mnot\u001b[0m \u001b[0;32mNone\u001b[0m\u001b[0;34m:\u001b[0m\u001b[0;34m\u001b[0m\u001b[0;34m\u001b[0m\u001b[0m\n",
      "\u001b[0;32m~/anaconda3/envs/mds/lib/python3.6/site-packages/matplotlib/figure.py\u001b[0m in \u001b[0;36mdraw\u001b[0;34m(self, renderer)\u001b[0m\n\u001b[1;32m   1647\u001b[0m \u001b[0;34m\u001b[0m\u001b[0m\n\u001b[1;32m   1648\u001b[0m             mimage._draw_list_compositing_images(\n\u001b[0;32m-> 1649\u001b[0;31m                 renderer, self, artists, self.suppressComposite)\n\u001b[0m\u001b[1;32m   1650\u001b[0m \u001b[0;34m\u001b[0m\u001b[0m\n\u001b[1;32m   1651\u001b[0m             \u001b[0mrenderer\u001b[0m\u001b[0;34m.\u001b[0m\u001b[0mclose_group\u001b[0m\u001b[0;34m(\u001b[0m\u001b[0;34m'figure'\u001b[0m\u001b[0;34m)\u001b[0m\u001b[0;34m\u001b[0m\u001b[0;34m\u001b[0m\u001b[0m\n",
      "\u001b[0;32m~/anaconda3/envs/mds/lib/python3.6/site-packages/matplotlib/image.py\u001b[0m in \u001b[0;36m_draw_list_compositing_images\u001b[0;34m(renderer, parent, artists, suppress_composite)\u001b[0m\n\u001b[1;32m    136\u001b[0m     \u001b[0;32mif\u001b[0m \u001b[0mnot_composite\u001b[0m \u001b[0;32mor\u001b[0m \u001b[0;32mnot\u001b[0m \u001b[0mhas_images\u001b[0m\u001b[0;34m:\u001b[0m\u001b[0;34m\u001b[0m\u001b[0;34m\u001b[0m\u001b[0m\n\u001b[1;32m    137\u001b[0m         \u001b[0;32mfor\u001b[0m \u001b[0ma\u001b[0m \u001b[0;32min\u001b[0m \u001b[0martists\u001b[0m\u001b[0;34m:\u001b[0m\u001b[0;34m\u001b[0m\u001b[0;34m\u001b[0m\u001b[0m\n\u001b[0;32m--> 138\u001b[0;31m             \u001b[0ma\u001b[0m\u001b[0;34m.\u001b[0m\u001b[0mdraw\u001b[0m\u001b[0;34m(\u001b[0m\u001b[0mrenderer\u001b[0m\u001b[0;34m)\u001b[0m\u001b[0;34m\u001b[0m\u001b[0;34m\u001b[0m\u001b[0m\n\u001b[0m\u001b[1;32m    139\u001b[0m     \u001b[0;32melse\u001b[0m\u001b[0;34m:\u001b[0m\u001b[0;34m\u001b[0m\u001b[0;34m\u001b[0m\u001b[0m\n\u001b[1;32m    140\u001b[0m         \u001b[0;31m# Composite any adjacent images together\u001b[0m\u001b[0;34m\u001b[0m\u001b[0;34m\u001b[0m\u001b[0;34m\u001b[0m\u001b[0m\n",
      "\u001b[0;32m~/anaconda3/envs/mds/lib/python3.6/site-packages/matplotlib/artist.py\u001b[0m in \u001b[0;36mdraw_wrapper\u001b[0;34m(artist, renderer, *args, **kwargs)\u001b[0m\n\u001b[1;32m     48\u001b[0m                 \u001b[0mrenderer\u001b[0m\u001b[0;34m.\u001b[0m\u001b[0mstart_filter\u001b[0m\u001b[0;34m(\u001b[0m\u001b[0;34m)\u001b[0m\u001b[0;34m\u001b[0m\u001b[0;34m\u001b[0m\u001b[0m\n\u001b[1;32m     49\u001b[0m \u001b[0;34m\u001b[0m\u001b[0m\n\u001b[0;32m---> 50\u001b[0;31m             \u001b[0;32mreturn\u001b[0m \u001b[0mdraw\u001b[0m\u001b[0;34m(\u001b[0m\u001b[0martist\u001b[0m\u001b[0;34m,\u001b[0m \u001b[0mrenderer\u001b[0m\u001b[0;34m,\u001b[0m \u001b[0;34m*\u001b[0m\u001b[0margs\u001b[0m\u001b[0;34m,\u001b[0m \u001b[0;34m**\u001b[0m\u001b[0mkwargs\u001b[0m\u001b[0;34m)\u001b[0m\u001b[0;34m\u001b[0m\u001b[0;34m\u001b[0m\u001b[0m\n\u001b[0m\u001b[1;32m     51\u001b[0m         \u001b[0;32mfinally\u001b[0m\u001b[0;34m:\u001b[0m\u001b[0;34m\u001b[0m\u001b[0;34m\u001b[0m\u001b[0m\n\u001b[1;32m     52\u001b[0m             \u001b[0;32mif\u001b[0m \u001b[0martist\u001b[0m\u001b[0;34m.\u001b[0m\u001b[0mget_agg_filter\u001b[0m\u001b[0;34m(\u001b[0m\u001b[0;34m)\u001b[0m \u001b[0;32mis\u001b[0m \u001b[0;32mnot\u001b[0m \u001b[0;32mNone\u001b[0m\u001b[0;34m:\u001b[0m\u001b[0;34m\u001b[0m\u001b[0;34m\u001b[0m\u001b[0m\n",
      "\u001b[0;32m~/anaconda3/envs/mds/lib/python3.6/site-packages/mpl_toolkits/mplot3d/axes3d.py\u001b[0m in \u001b[0;36mdraw\u001b[0;34m(self, renderer)\u001b[0m\n\u001b[1;32m    302\u001b[0m \u001b[0;34m\u001b[0m\u001b[0m\n\u001b[1;32m    303\u001b[0m         \u001b[0;31m# Then rest\u001b[0m\u001b[0;34m\u001b[0m\u001b[0;34m\u001b[0m\u001b[0;34m\u001b[0m\u001b[0m\n\u001b[0;32m--> 304\u001b[0;31m         \u001b[0msuper\u001b[0m\u001b[0;34m(\u001b[0m\u001b[0;34m)\u001b[0m\u001b[0;34m.\u001b[0m\u001b[0mdraw\u001b[0m\u001b[0;34m(\u001b[0m\u001b[0mrenderer\u001b[0m\u001b[0;34m)\u001b[0m\u001b[0;34m\u001b[0m\u001b[0;34m\u001b[0m\u001b[0m\n\u001b[0m\u001b[1;32m    305\u001b[0m \u001b[0;34m\u001b[0m\u001b[0m\n\u001b[1;32m    306\u001b[0m     \u001b[0;32mdef\u001b[0m \u001b[0mget_axis_position\u001b[0m\u001b[0;34m(\u001b[0m\u001b[0mself\u001b[0m\u001b[0;34m)\u001b[0m\u001b[0;34m:\u001b[0m\u001b[0;34m\u001b[0m\u001b[0;34m\u001b[0m\u001b[0m\n",
      "\u001b[0;32m~/anaconda3/envs/mds/lib/python3.6/site-packages/matplotlib/artist.py\u001b[0m in \u001b[0;36mdraw_wrapper\u001b[0;34m(artist, renderer, *args, **kwargs)\u001b[0m\n\u001b[1;32m     48\u001b[0m                 \u001b[0mrenderer\u001b[0m\u001b[0;34m.\u001b[0m\u001b[0mstart_filter\u001b[0m\u001b[0;34m(\u001b[0m\u001b[0;34m)\u001b[0m\u001b[0;34m\u001b[0m\u001b[0;34m\u001b[0m\u001b[0m\n\u001b[1;32m     49\u001b[0m \u001b[0;34m\u001b[0m\u001b[0m\n\u001b[0;32m---> 50\u001b[0;31m             \u001b[0;32mreturn\u001b[0m \u001b[0mdraw\u001b[0m\u001b[0;34m(\u001b[0m\u001b[0martist\u001b[0m\u001b[0;34m,\u001b[0m \u001b[0mrenderer\u001b[0m\u001b[0;34m,\u001b[0m \u001b[0;34m*\u001b[0m\u001b[0margs\u001b[0m\u001b[0;34m,\u001b[0m \u001b[0;34m**\u001b[0m\u001b[0mkwargs\u001b[0m\u001b[0;34m)\u001b[0m\u001b[0;34m\u001b[0m\u001b[0;34m\u001b[0m\u001b[0m\n\u001b[0m\u001b[1;32m     51\u001b[0m         \u001b[0;32mfinally\u001b[0m\u001b[0;34m:\u001b[0m\u001b[0;34m\u001b[0m\u001b[0;34m\u001b[0m\u001b[0m\n\u001b[1;32m     52\u001b[0m             \u001b[0;32mif\u001b[0m \u001b[0martist\u001b[0m\u001b[0;34m.\u001b[0m\u001b[0mget_agg_filter\u001b[0m\u001b[0;34m(\u001b[0m\u001b[0;34m)\u001b[0m \u001b[0;32mis\u001b[0m \u001b[0;32mnot\u001b[0m \u001b[0;32mNone\u001b[0m\u001b[0;34m:\u001b[0m\u001b[0;34m\u001b[0m\u001b[0;34m\u001b[0m\u001b[0m\n",
      "\u001b[0;32m~/anaconda3/envs/mds/lib/python3.6/site-packages/matplotlib/axes/_base.py\u001b[0m in \u001b[0;36mdraw\u001b[0;34m(self, renderer, inframe)\u001b[0m\n\u001b[1;32m   2626\u001b[0m             \u001b[0mrenderer\u001b[0m\u001b[0;34m.\u001b[0m\u001b[0mstop_rasterizing\u001b[0m\u001b[0;34m(\u001b[0m\u001b[0;34m)\u001b[0m\u001b[0;34m\u001b[0m\u001b[0;34m\u001b[0m\u001b[0m\n\u001b[1;32m   2627\u001b[0m \u001b[0;34m\u001b[0m\u001b[0m\n\u001b[0;32m-> 2628\u001b[0;31m         \u001b[0mmimage\u001b[0m\u001b[0;34m.\u001b[0m\u001b[0m_draw_list_compositing_images\u001b[0m\u001b[0;34m(\u001b[0m\u001b[0mrenderer\u001b[0m\u001b[0;34m,\u001b[0m \u001b[0mself\u001b[0m\u001b[0;34m,\u001b[0m \u001b[0martists\u001b[0m\u001b[0;34m)\u001b[0m\u001b[0;34m\u001b[0m\u001b[0;34m\u001b[0m\u001b[0m\n\u001b[0m\u001b[1;32m   2629\u001b[0m \u001b[0;34m\u001b[0m\u001b[0m\n\u001b[1;32m   2630\u001b[0m         \u001b[0mrenderer\u001b[0m\u001b[0;34m.\u001b[0m\u001b[0mclose_group\u001b[0m\u001b[0;34m(\u001b[0m\u001b[0;34m'axes'\u001b[0m\u001b[0;34m)\u001b[0m\u001b[0;34m\u001b[0m\u001b[0;34m\u001b[0m\u001b[0m\n",
      "\u001b[0;32m~/anaconda3/envs/mds/lib/python3.6/site-packages/matplotlib/image.py\u001b[0m in \u001b[0;36m_draw_list_compositing_images\u001b[0;34m(renderer, parent, artists, suppress_composite)\u001b[0m\n\u001b[1;32m    136\u001b[0m     \u001b[0;32mif\u001b[0m \u001b[0mnot_composite\u001b[0m \u001b[0;32mor\u001b[0m \u001b[0;32mnot\u001b[0m \u001b[0mhas_images\u001b[0m\u001b[0;34m:\u001b[0m\u001b[0;34m\u001b[0m\u001b[0;34m\u001b[0m\u001b[0m\n\u001b[1;32m    137\u001b[0m         \u001b[0;32mfor\u001b[0m \u001b[0ma\u001b[0m \u001b[0;32min\u001b[0m \u001b[0martists\u001b[0m\u001b[0;34m:\u001b[0m\u001b[0;34m\u001b[0m\u001b[0;34m\u001b[0m\u001b[0m\n\u001b[0;32m--> 138\u001b[0;31m             \u001b[0ma\u001b[0m\u001b[0;34m.\u001b[0m\u001b[0mdraw\u001b[0m\u001b[0;34m(\u001b[0m\u001b[0mrenderer\u001b[0m\u001b[0;34m)\u001b[0m\u001b[0;34m\u001b[0m\u001b[0;34m\u001b[0m\u001b[0m\n\u001b[0m\u001b[1;32m    139\u001b[0m     \u001b[0;32melse\u001b[0m\u001b[0;34m:\u001b[0m\u001b[0;34m\u001b[0m\u001b[0;34m\u001b[0m\u001b[0m\n\u001b[1;32m    140\u001b[0m         \u001b[0;31m# Composite any adjacent images together\u001b[0m\u001b[0;34m\u001b[0m\u001b[0;34m\u001b[0m\u001b[0;34m\u001b[0m\u001b[0m\n",
      "\u001b[0;32m<ipython-input-71-29ed70c7db48>\u001b[0m in \u001b[0;36mdraw\u001b[0;34m(self, renderer)\u001b[0m\n\u001b[1;32m     16\u001b[0m         \u001b[0mxs\u001b[0m\u001b[0;34m,\u001b[0m \u001b[0mys\u001b[0m\u001b[0;34m,\u001b[0m \u001b[0mzs\u001b[0m \u001b[0;34m=\u001b[0m \u001b[0mproj3d\u001b[0m\u001b[0;34m.\u001b[0m\u001b[0mproj_transform\u001b[0m\u001b[0;34m(\u001b[0m\u001b[0mxs3d\u001b[0m\u001b[0;34m,\u001b[0m \u001b[0mys3d\u001b[0m\u001b[0;34m,\u001b[0m \u001b[0mzs3d\u001b[0m\u001b[0;34m,\u001b[0m \u001b[0mrenderer\u001b[0m\u001b[0;34m.\u001b[0m\u001b[0mM\u001b[0m\u001b[0;34m)\u001b[0m\u001b[0;34m\u001b[0m\u001b[0;34m\u001b[0m\u001b[0m\n\u001b[1;32m     17\u001b[0m         \u001b[0mself\u001b[0m\u001b[0;34m.\u001b[0m\u001b[0mset_positions\u001b[0m\u001b[0;34m(\u001b[0m\u001b[0;34m(\u001b[0m\u001b[0mxs\u001b[0m\u001b[0;34m[\u001b[0m\u001b[0;36m0\u001b[0m\u001b[0;34m]\u001b[0m\u001b[0;34m,\u001b[0m\u001b[0mys\u001b[0m\u001b[0;34m[\u001b[0m\u001b[0;36m0\u001b[0m\u001b[0;34m]\u001b[0m\u001b[0;34m)\u001b[0m\u001b[0;34m,\u001b[0m\u001b[0;34m(\u001b[0m\u001b[0mxs\u001b[0m\u001b[0;34m[\u001b[0m\u001b[0;36m1\u001b[0m\u001b[0;34m]\u001b[0m\u001b[0;34m,\u001b[0m\u001b[0mys\u001b[0m\u001b[0;34m[\u001b[0m\u001b[0;36m1\u001b[0m\u001b[0;34m]\u001b[0m\u001b[0;34m)\u001b[0m\u001b[0;34m)\u001b[0m\u001b[0;34m\u001b[0m\u001b[0;34m\u001b[0m\u001b[0m\n\u001b[0;32m---> 18\u001b[0;31m         \u001b[0mFancyArrowPatch\u001b[0m\u001b[0;34m.\u001b[0m\u001b[0mdraw\u001b[0m\u001b[0;34m(\u001b[0m\u001b[0mself\u001b[0m\u001b[0;34m,\u001b[0m \u001b[0mrenderer\u001b[0m\u001b[0;34m)\u001b[0m\u001b[0;34m\u001b[0m\u001b[0;34m\u001b[0m\u001b[0m\n\u001b[0m\u001b[1;32m     19\u001b[0m \u001b[0;34m\u001b[0m\u001b[0m\n\u001b[1;32m     20\u001b[0m \u001b[0mfig\u001b[0m \u001b[0;34m=\u001b[0m \u001b[0mplt\u001b[0m\u001b[0;34m.\u001b[0m\u001b[0mfigure\u001b[0m\u001b[0;34m(\u001b[0m\u001b[0mfigsize\u001b[0m\u001b[0;34m=\u001b[0m\u001b[0;34m(\u001b[0m\u001b[0;36m7\u001b[0m\u001b[0;34m,\u001b[0m\u001b[0;36m7\u001b[0m\u001b[0;34m)\u001b[0m\u001b[0;34m)\u001b[0m\u001b[0;34m\u001b[0m\u001b[0;34m\u001b[0m\u001b[0m\n",
      "\u001b[0;32m~/anaconda3/envs/mds/lib/python3.6/site-packages/matplotlib/patches.py\u001b[0m in \u001b[0;36mdraw\u001b[0;34m(self, renderer)\u001b[0m\n\u001b[1;32m   4307\u001b[0m         \u001b[0;31m# dpi_cor = renderer.points_to_pixels(1.)\u001b[0m\u001b[0;34m\u001b[0m\u001b[0;34m\u001b[0m\u001b[0;34m\u001b[0m\u001b[0m\n\u001b[1;32m   4308\u001b[0m         \u001b[0mself\u001b[0m\u001b[0;34m.\u001b[0m\u001b[0mset_dpi_cor\u001b[0m\u001b[0;34m(\u001b[0m\u001b[0mrenderer\u001b[0m\u001b[0;34m.\u001b[0m\u001b[0mpoints_to_pixels\u001b[0m\u001b[0;34m(\u001b[0m\u001b[0;36m1.\u001b[0m\u001b[0;34m)\u001b[0m\u001b[0;34m)\u001b[0m\u001b[0;34m\u001b[0m\u001b[0;34m\u001b[0m\u001b[0m\n\u001b[0;32m-> 4309\u001b[0;31m         \u001b[0mpath\u001b[0m\u001b[0;34m,\u001b[0m \u001b[0mfillable\u001b[0m \u001b[0;34m=\u001b[0m \u001b[0mself\u001b[0m\u001b[0;34m.\u001b[0m\u001b[0mget_path_in_displaycoord\u001b[0m\u001b[0;34m(\u001b[0m\u001b[0;34m)\u001b[0m\u001b[0;34m\u001b[0m\u001b[0;34m\u001b[0m\u001b[0m\n\u001b[0m\u001b[1;32m   4310\u001b[0m \u001b[0;34m\u001b[0m\u001b[0m\n\u001b[1;32m   4311\u001b[0m         \u001b[0;32mif\u001b[0m \u001b[0;32mnot\u001b[0m \u001b[0mcbook\u001b[0m\u001b[0;34m.\u001b[0m\u001b[0miterable\u001b[0m\u001b[0;34m(\u001b[0m\u001b[0mfillable\u001b[0m\u001b[0;34m)\u001b[0m\u001b[0;34m:\u001b[0m\u001b[0;34m\u001b[0m\u001b[0;34m\u001b[0m\u001b[0m\n",
      "\u001b[0;32m~/anaconda3/envs/mds/lib/python3.6/site-packages/matplotlib/patches.py\u001b[0m in \u001b[0;36mget_path_in_displaycoord\u001b[0;34m(self)\u001b[0m\n\u001b[1;32m   4241\u001b[0m \u001b[0;34m\u001b[0m\u001b[0m\n\u001b[1;32m   4242\u001b[0m         \u001b[0;32mif\u001b[0m \u001b[0mself\u001b[0m\u001b[0;34m.\u001b[0m\u001b[0m_posA_posB\u001b[0m \u001b[0;32mis\u001b[0m \u001b[0;32mnot\u001b[0m \u001b[0;32mNone\u001b[0m\u001b[0;34m:\u001b[0m\u001b[0;34m\u001b[0m\u001b[0;34m\u001b[0m\u001b[0m\n\u001b[0;32m-> 4243\u001b[0;31m             \u001b[0mposA\u001b[0m \u001b[0;34m=\u001b[0m \u001b[0mself\u001b[0m\u001b[0;34m.\u001b[0m\u001b[0mget_transform\u001b[0m\u001b[0;34m(\u001b[0m\u001b[0;34m)\u001b[0m\u001b[0;34m.\u001b[0m\u001b[0mtransform_point\u001b[0m\u001b[0;34m(\u001b[0m\u001b[0mself\u001b[0m\u001b[0;34m.\u001b[0m\u001b[0m_posA_posB\u001b[0m\u001b[0;34m[\u001b[0m\u001b[0;36m0\u001b[0m\u001b[0;34m]\u001b[0m\u001b[0;34m)\u001b[0m\u001b[0;34m\u001b[0m\u001b[0;34m\u001b[0m\u001b[0m\n\u001b[0m\u001b[1;32m   4244\u001b[0m             \u001b[0mposB\u001b[0m \u001b[0;34m=\u001b[0m \u001b[0mself\u001b[0m\u001b[0;34m.\u001b[0m\u001b[0mget_transform\u001b[0m\u001b[0;34m(\u001b[0m\u001b[0;34m)\u001b[0m\u001b[0;34m.\u001b[0m\u001b[0mtransform_point\u001b[0m\u001b[0;34m(\u001b[0m\u001b[0mself\u001b[0m\u001b[0;34m.\u001b[0m\u001b[0m_posA_posB\u001b[0m\u001b[0;34m[\u001b[0m\u001b[0;36m1\u001b[0m\u001b[0;34m]\u001b[0m\u001b[0;34m)\u001b[0m\u001b[0;34m\u001b[0m\u001b[0;34m\u001b[0m\u001b[0m\n\u001b[1;32m   4245\u001b[0m             _path = self.get_connectionstyle()(posA, posB,\n",
      "\u001b[0;32m~/anaconda3/envs/mds/lib/python3.6/site-packages/matplotlib/transforms.py\u001b[0m in \u001b[0;36mtransform_point\u001b[0;34m(self, point)\u001b[0m\n\u001b[1;32m   1509\u001b[0m         \u001b[0;32mif\u001b[0m \u001b[0mlen\u001b[0m\u001b[0;34m(\u001b[0m\u001b[0mpoint\u001b[0m\u001b[0;34m)\u001b[0m \u001b[0;34m!=\u001b[0m \u001b[0mself\u001b[0m\u001b[0;34m.\u001b[0m\u001b[0minput_dims\u001b[0m\u001b[0;34m:\u001b[0m\u001b[0;34m\u001b[0m\u001b[0;34m\u001b[0m\u001b[0m\n\u001b[1;32m   1510\u001b[0m             \u001b[0;32mraise\u001b[0m \u001b[0mValueError\u001b[0m\u001b[0;34m(\u001b[0m\u001b[0;34m\"The length of 'point' must be 'self.input_dims'\"\u001b[0m\u001b[0;34m)\u001b[0m\u001b[0;34m\u001b[0m\u001b[0;34m\u001b[0m\u001b[0m\n\u001b[0;32m-> 1511\u001b[0;31m         \u001b[0;32mreturn\u001b[0m \u001b[0mself\u001b[0m\u001b[0;34m.\u001b[0m\u001b[0mtransform\u001b[0m\u001b[0;34m(\u001b[0m\u001b[0mnp\u001b[0m\u001b[0;34m.\u001b[0m\u001b[0masarray\u001b[0m\u001b[0;34m(\u001b[0m\u001b[0;34m[\u001b[0m\u001b[0mpoint\u001b[0m\u001b[0;34m]\u001b[0m\u001b[0;34m)\u001b[0m\u001b[0;34m)\u001b[0m\u001b[0;34m[\u001b[0m\u001b[0;36m0\u001b[0m\u001b[0;34m]\u001b[0m\u001b[0;34m\u001b[0m\u001b[0;34m\u001b[0m\u001b[0m\n\u001b[0m\u001b[1;32m   1512\u001b[0m \u001b[0;34m\u001b[0m\u001b[0m\n\u001b[1;32m   1513\u001b[0m     \u001b[0;32mdef\u001b[0m \u001b[0mtransform_path\u001b[0m\u001b[0;34m(\u001b[0m\u001b[0mself\u001b[0m\u001b[0;34m,\u001b[0m \u001b[0mpath\u001b[0m\u001b[0;34m)\u001b[0m\u001b[0;34m:\u001b[0m\u001b[0;34m\u001b[0m\u001b[0;34m\u001b[0m\u001b[0m\n",
      "\u001b[0;32m~/anaconda3/envs/mds/lib/python3.6/site-packages/matplotlib/transforms.py\u001b[0m in \u001b[0;36mtransform\u001b[0;34m(self, values)\u001b[0m\n\u001b[1;32m   1422\u001b[0m \u001b[0;34m\u001b[0m\u001b[0m\n\u001b[1;32m   1423\u001b[0m         \u001b[0;31m# Transform the values\u001b[0m\u001b[0;34m\u001b[0m\u001b[0;34m\u001b[0m\u001b[0;34m\u001b[0m\u001b[0m\n\u001b[0;32m-> 1424\u001b[0;31m         \u001b[0mres\u001b[0m \u001b[0;34m=\u001b[0m \u001b[0mself\u001b[0m\u001b[0;34m.\u001b[0m\u001b[0mtransform_affine\u001b[0m\u001b[0;34m(\u001b[0m\u001b[0mself\u001b[0m\u001b[0;34m.\u001b[0m\u001b[0mtransform_non_affine\u001b[0m\u001b[0;34m(\u001b[0m\u001b[0mvalues\u001b[0m\u001b[0;34m)\u001b[0m\u001b[0;34m)\u001b[0m\u001b[0;34m\u001b[0m\u001b[0;34m\u001b[0m\u001b[0m\n\u001b[0m\u001b[1;32m   1425\u001b[0m \u001b[0;34m\u001b[0m\u001b[0m\n\u001b[1;32m   1426\u001b[0m         \u001b[0;31m# Convert the result back to the shape of the input values.\u001b[0m\u001b[0;34m\u001b[0m\u001b[0;34m\u001b[0m\u001b[0;34m\u001b[0m\u001b[0m\n",
      "\u001b[0;32m~/anaconda3/envs/mds/lib/python3.6/site-packages/matplotlib/transforms.py\u001b[0m in \u001b[0;36mtransform_affine\u001b[0;34m(self, points)\u001b[0m\n\u001b[1;32m   2432\u001b[0m \u001b[0;34m\u001b[0m\u001b[0m\n\u001b[1;32m   2433\u001b[0m     \u001b[0;32mdef\u001b[0m \u001b[0mtransform_affine\u001b[0m\u001b[0;34m(\u001b[0m\u001b[0mself\u001b[0m\u001b[0;34m,\u001b[0m \u001b[0mpoints\u001b[0m\u001b[0;34m)\u001b[0m\u001b[0;34m:\u001b[0m\u001b[0;34m\u001b[0m\u001b[0;34m\u001b[0m\u001b[0m\n\u001b[0;32m-> 2434\u001b[0;31m         \u001b[0;32mreturn\u001b[0m \u001b[0mself\u001b[0m\u001b[0;34m.\u001b[0m\u001b[0mget_affine\u001b[0m\u001b[0;34m(\u001b[0m\u001b[0;34m)\u001b[0m\u001b[0;34m.\u001b[0m\u001b[0mtransform\u001b[0m\u001b[0;34m(\u001b[0m\u001b[0mpoints\u001b[0m\u001b[0;34m)\u001b[0m\u001b[0;34m\u001b[0m\u001b[0;34m\u001b[0m\u001b[0m\n\u001b[0m\u001b[1;32m   2435\u001b[0m     \u001b[0mtransform_affine\u001b[0m\u001b[0;34m.\u001b[0m\u001b[0m__doc__\u001b[0m \u001b[0;34m=\u001b[0m \u001b[0mTransform\u001b[0m\u001b[0;34m.\u001b[0m\u001b[0mtransform_affine\u001b[0m\u001b[0;34m.\u001b[0m\u001b[0m__doc__\u001b[0m\u001b[0;34m\u001b[0m\u001b[0;34m\u001b[0m\u001b[0m\n\u001b[1;32m   2436\u001b[0m \u001b[0;34m\u001b[0m\u001b[0m\n",
      "\u001b[0;32m~/anaconda3/envs/mds/lib/python3.6/site-packages/matplotlib/transforms.py\u001b[0m in \u001b[0;36mtransform\u001b[0;34m(self, values)\u001b[0m\n\u001b[1;32m   1745\u001b[0m \u001b[0;34m\u001b[0m\u001b[0m\n\u001b[1;32m   1746\u001b[0m     \u001b[0;32mdef\u001b[0m \u001b[0mtransform\u001b[0m\u001b[0;34m(\u001b[0m\u001b[0mself\u001b[0m\u001b[0;34m,\u001b[0m \u001b[0mvalues\u001b[0m\u001b[0;34m)\u001b[0m\u001b[0;34m:\u001b[0m\u001b[0;34m\u001b[0m\u001b[0;34m\u001b[0m\u001b[0m\n\u001b[0;32m-> 1747\u001b[0;31m         \u001b[0;32mreturn\u001b[0m \u001b[0mself\u001b[0m\u001b[0;34m.\u001b[0m\u001b[0mtransform_affine\u001b[0m\u001b[0;34m(\u001b[0m\u001b[0mvalues\u001b[0m\u001b[0;34m)\u001b[0m\u001b[0;34m\u001b[0m\u001b[0;34m\u001b[0m\u001b[0m\n\u001b[0m\u001b[1;32m   1748\u001b[0m     \u001b[0mtransform\u001b[0m\u001b[0;34m.\u001b[0m\u001b[0m__doc__\u001b[0m \u001b[0;34m=\u001b[0m \u001b[0mTransform\u001b[0m\u001b[0;34m.\u001b[0m\u001b[0mtransform\u001b[0m\u001b[0;34m.\u001b[0m\u001b[0m__doc__\u001b[0m\u001b[0;34m\u001b[0m\u001b[0;34m\u001b[0m\u001b[0m\n\u001b[1;32m   1749\u001b[0m \u001b[0;34m\u001b[0m\u001b[0m\n",
      "\u001b[0;32m~/anaconda3/envs/mds/lib/python3.6/site-packages/matplotlib/transforms.py\u001b[0m in \u001b[0;36mtransform_affine\u001b[0;34m(self, points)\u001b[0m\n\u001b[1;32m   1829\u001b[0m             \u001b[0mtpoints\u001b[0m \u001b[0;34m=\u001b[0m \u001b[0maffine_transform\u001b[0m\u001b[0;34m(\u001b[0m\u001b[0mpoints\u001b[0m\u001b[0;34m.\u001b[0m\u001b[0mdata\u001b[0m\u001b[0;34m,\u001b[0m \u001b[0mmtx\u001b[0m\u001b[0;34m)\u001b[0m\u001b[0;34m\u001b[0m\u001b[0;34m\u001b[0m\u001b[0m\n\u001b[1;32m   1830\u001b[0m             \u001b[0;32mreturn\u001b[0m \u001b[0mnp\u001b[0m\u001b[0;34m.\u001b[0m\u001b[0mma\u001b[0m\u001b[0;34m.\u001b[0m\u001b[0mMaskedArray\u001b[0m\u001b[0;34m(\u001b[0m\u001b[0mtpoints\u001b[0m\u001b[0;34m,\u001b[0m \u001b[0mmask\u001b[0m\u001b[0;34m=\u001b[0m\u001b[0mnp\u001b[0m\u001b[0;34m.\u001b[0m\u001b[0mma\u001b[0m\u001b[0;34m.\u001b[0m\u001b[0mgetmask\u001b[0m\u001b[0;34m(\u001b[0m\u001b[0mpoints\u001b[0m\u001b[0;34m)\u001b[0m\u001b[0;34m)\u001b[0m\u001b[0;34m\u001b[0m\u001b[0;34m\u001b[0m\u001b[0m\n\u001b[0;32m-> 1831\u001b[0;31m         \u001b[0;32mreturn\u001b[0m \u001b[0maffine_transform\u001b[0m\u001b[0;34m(\u001b[0m\u001b[0mpoints\u001b[0m\u001b[0;34m,\u001b[0m \u001b[0mmtx\u001b[0m\u001b[0;34m)\u001b[0m\u001b[0;34m\u001b[0m\u001b[0;34m\u001b[0m\u001b[0m\n\u001b[0m\u001b[1;32m   1832\u001b[0m \u001b[0;34m\u001b[0m\u001b[0m\n\u001b[1;32m   1833\u001b[0m     \u001b[0;32mdef\u001b[0m \u001b[0mtransform_point\u001b[0m\u001b[0;34m(\u001b[0m\u001b[0mself\u001b[0m\u001b[0;34m,\u001b[0m \u001b[0mpoint\u001b[0m\u001b[0;34m)\u001b[0m\u001b[0;34m:\u001b[0m\u001b[0;34m\u001b[0m\u001b[0;34m\u001b[0m\u001b[0m\n",
      "\u001b[0;31mTypeError\u001b[0m: Cannot cast array data from dtype('complex128') to dtype('float64') according to the rule 'safe'"
     ]
    },
    {
     "data": {
      "text/plain": [
       "<Figure size 504x504 with 1 Axes>"
      ]
     },
     "metadata": {
      "needs_background": "light"
     },
     "output_type": "display_data"
    }
   ],
   "source": [
    "%pylab inline\n",
    "\n",
    "from matplotlib import pyplot as plt\n",
    "from mpl_toolkits.mplot3d import Axes3D\n",
    "from mpl_toolkits.mplot3d import proj3d\n",
    "from matplotlib.patches import FancyArrowPatch\n",
    "\n",
    "\n",
    "class Arrow3D(FancyArrowPatch):\n",
    "    def __init__(self, xs, ys, zs, *args, **kwargs):\n",
    "        FancyArrowPatch.__init__(self, (0,0), (0,0), *args, **kwargs)\n",
    "        self._verts3d = xs, ys, zs\n",
    "\n",
    "    def draw(self, renderer):\n",
    "        xs3d, ys3d, zs3d = self._verts3d\n",
    "        xs, ys, zs = proj3d.proj_transform(xs3d, ys3d, zs3d, renderer.M)\n",
    "        self.set_positions((xs[0],ys[0]),(xs[1],ys[1]))\n",
    "        FancyArrowPatch.draw(self, renderer)\n",
    "\n",
    "fig = plt.figure(figsize=(7,7))\n",
    "ax = fig.add_subplot(111, projection='3d')\n",
    "\n",
    "mean_x = np.mean(xyz_std[0,:])\n",
    "mean_y = np.mean(xyz_std[1,:])\n",
    "mean_z = np.mean(xyz_std[2,:])\n",
    "\n",
    "ax.plot(xyz_std[0,:], xyz_std[1,:], xyz_std[2,:], 'o', markersize=8, color='green', alpha=0.2)\n",
    "ax.plot([mean_x], [mean_y], [mean_z], 'o', markersize=10, color='red', alpha=0.5)\n",
    "for v in eig_vec_sc.T:\n",
    "    a = Arrow3D([mean_x, v[0]], [mean_y, v[1]], [mean_z, v[2]], mutation_scale=20, \n",
    "                lw=3, arrowstyle=\"-|>\", color=\"r\")\n",
    "    ax.add_artist(a)\n",
    "ax.set_xlabel('x_values')\n",
    "ax.set_ylabel('y_values')\n",
    "ax.set_zlabel('z_values')\n",
    "\n",
    "plt.title('Eigenvectors')\n",
    "\n",
    "plt.show()"
   ]
  },
  {
   "cell_type": "code",
   "execution_count": 74,
   "metadata": {},
   "outputs": [
    {
     "data": {
      "text/plain": [
       "numpy.float64"
      ]
     },
     "execution_count": 74,
     "metadata": {},
     "output_type": "execute_result"
    }
   ],
   "source": [
    "type(xyz_std[0,1])"
   ]
  }
 ],
 "metadata": {
  "kernelspec": {
   "display_name": "Python 3",
   "language": "python",
   "name": "python3"
  },
  "language_info": {
   "codemirror_mode": {
    "name": "ipython",
    "version": 3
   },
   "file_extension": ".py",
   "mimetype": "text/x-python",
   "name": "python",
   "nbconvert_exporter": "python",
   "pygments_lexer": "ipython3",
   "version": "3.6.7"
  }
 },
 "nbformat": 4,
 "nbformat_minor": 2
}
