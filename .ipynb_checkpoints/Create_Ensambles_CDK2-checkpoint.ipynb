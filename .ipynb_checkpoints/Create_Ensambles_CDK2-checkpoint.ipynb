{
 "cells": [
  {
   "cell_type": "code",
   "execution_count": 8,
   "metadata": {},
   "outputs": [
    {
     "name": "stderr",
     "output_type": "stream",
     "text": [
      "/home/joel/anaconda3/envs/mds/lib/python3.6/importlib/_bootstrap.py:219: RuntimeWarning: numpy.ufunc size changed, may indicate binary incompatibility. Expected 192 from C header, got 216 from PyObject\n",
      "  return f(*args, **kwds)\n"
     ]
    }
   ],
   "source": [
    "from prody import *\n",
    "from pylab import *"
   ]
  },
  {
   "cell_type": "code",
   "execution_count": 14,
   "metadata": {},
   "outputs": [
    {
     "data": {
      "text/plain": [
       "['../ARCHIVOS/CRISTALES/PROT_CDK2_PREPARADAS/PREP_ALL_ENSAMBLE/1aq1_ENS.pdb',\n",
       " '../ARCHIVOS/CRISTALES/PROT_CDK2_PREPARADAS/PREP_ALL_ENSAMBLE/1b38_ENS.pdb',\n",
       " '../ARCHIVOS/CRISTALES/PROT_CDK2_PREPARADAS/PREP_ALL_ENSAMBLE/1b39_ENS.pdb',\n",
       " '../ARCHIVOS/CRISTALES/PROT_CDK2_PREPARADAS/PREP_ALL_ENSAMBLE/1buh_ENS.pdb',\n",
       " '../ARCHIVOS/CRISTALES/PROT_CDK2_PREPARADAS/PREP_ALL_ENSAMBLE/1ckp_ENS.pdb',\n",
       " '../ARCHIVOS/CRISTALES/PROT_CDK2_PREPARADAS/PREP_ALL_ENSAMBLE/1di8_ENS.pdb',\n",
       " '../ARCHIVOS/CRISTALES/PROT_CDK2_PREPARADAS/PREP_ALL_ENSAMBLE/1dm2_ENS.pdb',\n",
       " '../ARCHIVOS/CRISTALES/PROT_CDK2_PREPARADAS/PREP_ALL_ENSAMBLE/1e1v_ENS.pdb',\n",
       " '../ARCHIVOS/CRISTALES/PROT_CDK2_PREPARADAS/PREP_ALL_ENSAMBLE/1e1x_ENS.pdb',\n",
       " '../ARCHIVOS/CRISTALES/PROT_CDK2_PREPARADAS/PREP_ALL_ENSAMBLE/1e9h_ENS.pdb']"
      ]
     },
     "execution_count": 14,
     "metadata": {},
     "output_type": "execute_result"
    }
   ],
   "source": [
    "# Genero una lista de archivos disponibles en el directorio de los modelos completos\n",
    "import glob\n",
    "main_PDBS_dir = \"../ARCHIVOS/CRISTALES/PROT_CDK2_PREPARADAS/\"\n",
    "dir_ENS = main_PDBS_dir +  \"PREP_ALL_ENSAMBLE/\" # Hidrógenos agregados sin pka\n",
    "\n",
    "# Es importante generar la lista ORDENADA!!\n",
    "files_pdbs_cdk2_ENS = sorted( glob.glob(dir_ENS + \"*\") )\n",
    "files_pdbs_cdk2_ENS[0:10]"
   ]
  },
  {
   "cell_type": "code",
   "execution_count": 11,
   "metadata": {},
   "outputs": [
    {
     "name": "stderr",
     "output_type": "stream",
     "text": [
      "@> 402 PDBs were parsed in 23.34s.                                                                   \n"
     ]
    }
   ],
   "source": [
    "# Carga de los archivos pdb\n",
    "# Obtengo el conjunto de estructuras pdb de CDK2\n",
    "pdbs_cdk2_ENS = parsePDB( *[ pdb for pdb in files_pdbs_cdk2_ENS ])"
   ]
  },
  {
   "cell_type": "code",
   "execution_count": 13,
   "metadata": {},
   "outputs": [
    {
     "data": {
      "text/plain": [
       "list"
      ]
     },
     "execution_count": 13,
     "metadata": {},
     "output_type": "execute_result"
    }
   ],
   "source": [
    "type(pdbs_cdk2_ENS)"
   ]
  },
  {
   "cell_type": "code",
   "execution_count": 12,
   "metadata": {},
   "outputs": [],
   "source": [
    "# Podemos crear ensambles de las proteínas alineando ya sea con Pisani o con el pocket\n",
    "from Funciones.subsecuencias_cdk2 import get_pisani_residues, get_ricci_residues"
   ]
  },
  {
   "cell_type": "code",
   "execution_count": 20,
   "metadata": {},
   "outputs": [
    {
     "name": "stderr",
     "output_type": "stream",
     "text": [
      "@> 4848 atoms and 1 coordinate set(s) were parsed in 0.07s.\n"
     ]
    }
   ],
   "source": [
    "ref_id = '1fin'\n",
    "ens_f_tail = \"_ENS\"\n",
    "ref_strc = parsePDB(dir_ENS + ref_id + ens_f_tail + \".pdb\")\n",
    "# Selecciones para alineamiento\n",
    "sel_ref_pisani = ref_strc.select(\"ca resnum \" + get_pisani_residues(\"str\"))\n",
    "sel_ref_ricci = ref_strc.select(\"ca resnum \" + get_ricci_residues(\"str\"))"
   ]
  },
  {
   "cell_type": "code",
   "execution_count": 23,
   "metadata": {},
   "outputs": [],
   "source": [
    "# Coordenadas de la CDK2 de refrencia tomando sólo los residuos de Pisiani\n",
    "ens_cdk2 = PDBEnsemble(\"Ensamble CDK2 402 estructuras\")\n",
    "# Átomos de referencia\n",
    "ens_cdk2.setAtoms( ref_strc )\n",
    "# Coordenadas de referencia\n",
    "ens_cdk2.setCoords( ref_strc.getCoords() )\n",
    "# Ahora añadimos todas las estructuras al ensamble una a una\n",
    "for structure in pdbs_cdk2_ENS:\n",
    "    ens_cdk2.addCoordset(structure)"
   ]
  },
  {
   "cell_type": "code",
   "execution_count": 26,
   "metadata": {},
   "outputs": [
    {
     "data": {
      "text/plain": [
       "402"
      ]
     },
     "execution_count": 26,
     "metadata": {},
     "output_type": "execute_result"
    }
   ],
   "source": [
    "len( ens_cdk2.getLabels() )"
   ]
  },
  {
   "cell_type": "code",
   "execution_count": null,
   "metadata": {},
   "outputs": [],
   "source": [
    "\n"
   ]
  }
 ],
 "metadata": {
  "kernelspec": {
   "display_name": "Python 3",
   "language": "python",
   "name": "python3"
  },
  "language_info": {
   "codemirror_mode": {
    "name": "ipython",
    "version": 3
   },
   "file_extension": ".py",
   "mimetype": "text/x-python",
   "name": "python",
   "nbconvert_exporter": "python",
   "pygments_lexer": "ipython3",
   "version": "3.6.7"
  }
 },
 "nbformat": 4,
 "nbformat_minor": 2
}
