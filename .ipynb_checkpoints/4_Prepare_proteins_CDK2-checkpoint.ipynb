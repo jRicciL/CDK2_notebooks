{
 "cells": [
  {
   "cell_type": "code",
   "execution_count": null,
   "metadata": {},
   "outputs": [],
   "source": []
  },
  {
   "cell_type": "code",
   "execution_count": 2,
   "metadata": {},
   "outputs": [
    {
     "name": "stderr",
     "output_type": "stream",
     "text": [
      "/home/joel/anaconda3/envs/mds/lib/python3.6/importlib/_bootstrap.py:219: RuntimeWarning: numpy.ufunc size changed, may indicate binary incompatibility. Expected 192 from C header, got 216 from PyObject\n",
      "  return f(*args, **kwds)\n"
     ]
    }
   ],
   "source": [
    "import pdb2pqr\n",
    "import pdb4amber\n",
    "import os\n",
    "from pathlib import Path\n",
    "import glob"
   ]
  },
  {
   "cell_type": "code",
   "execution_count": null,
   "metadata": {},
   "outputs": [],
   "source": []
  },
  {
   "cell_type": "code",
   "execution_count": 3,
   "metadata": {},
   "outputs": [],
   "source": [
    "# Directorio actual de trabajo\n",
    "cwd = os.getcwd()\n",
    "main_out_dir = \"../ARCHIVOS/CRISTALES/PROT_CDK2_PREPARADAS/\"\n",
    "out_dir_ens = main_out_dir +  \"PREP_ALL_ENSAMBLE/\" # Hidrógenos agregados sin pka\n",
    "out_dir_pka = main_out_dir + \"PREP_PH_7/\" # Hidrógenos agregados usando Propka (res ionizables a pH 7)\n",
    "out_dir_pqr = main_out_dir + \"PQR_PKAs/\" # Directorio de pqr\"\n",
    "\n",
    "# Lista de archivos pdb para preparar, originalmente modelos generados con Modeller\n",
    "pdb_list = glob.glob(\"../ARCHIVOS/CRISTALES/PROT_CDK2_MODELOS_modeller_NoPrep/*\")\n",
    "pdb_list.sort()\n",
    "# Sufijos para nombrar los archivos resultantes\n",
    "ens_f_tail = \"_ENS\"\n",
    "prep_f_tail = \"_PROT\"\n",
    "\n",
    "for pdb_file in pdb_list:\n",
    "    print(pdb_file)\n",
    "    pdb_id = Path(pdb_file).stem.rsplit('_', 1)[0]\n",
    "    # ENSAMBLE: Añade átomos faltantes, incluyendo Hs\n",
    "    # No toma en cuenta los estados ionizables\n",
    "    ensamble_file = out_dir_ens + pdb_id + ens_f_tail + \".pdb\"\n",
    "    pdb4amber.run(arg_pdbin = pdb_file,\n",
    "                  arg_add_missing_atoms = True, \n",
    "                  arg_pdbout = ensamble_file)\n",
    "    # PROT PREPARADA:\n",
    "    # Ejecuta pdb2pqr para obtener los estados de protonación de los residuos ionizables\n",
    "    pqr_file = out_dir_pqr + pdb_id + \"_PQR.pdb\"\n",
    "    os.system(\"pdb2pqr_cli --ff=amber --with-ph=7.0 --ffout=amber --ph-calc-method=propka --chain \"\n",
    "               + pdb_file + \" \" \n",
    "               + pqr_file )\n",
    "    # Vuelve a ejecutar pdb4amber para generar las PROT con los estados ionizables usando \"--reduce\"\n",
    "    prepared_file = out_dir_pka  + pdb_id + prep_f_tail + \".pdb\"\n",
    "    pdb4amber.run(arg_pdbin  = pdb_file,\n",
    "                  arg_reduce = True,\n",
    "                  arg_pdbout = prepared_file )\n",
    "    # Elimina los archivos temporales\n",
    "    os.system(\"rm \" + out_dir_ens + \"/*\" + ens_f_tail + \"_*\")\n",
    "    os.system(\"rm \" + out_dir_pka + \"/*\" + prep_f_tail + \"_*\")"
   ]
  },
  {
   "cell_type": "code",
   "execution_count": 49,
   "metadata": {},
   "outputs": [
    {
     "name": "stderr",
     "output_type": "stream",
     "text": [
      "@> 4848 atoms and 1 coordinate set(s) were parsed in 0.05s.\n",
      "@> 4848 atoms and 1 coordinate set(s) were parsed in 0.05s.\n",
      "@> 4848 atoms and 1 coordinate sets were parsed in 0.02s.\n"
     ]
    },
    {
     "data": {
      "text/plain": [
       "array([121, 125])"
      ]
     },
     "execution_count": 49,
     "metadata": {},
     "output_type": "execute_result"
    }
   ],
   "source": [
    "# Comprobar número de residuos\n",
    "from prody import *\n",
    "pdb_reduce = parsePDB(out_dir_pka  + pdb_id + prep_f_tail + \".pdb\")\n",
    "pdb_ens = parsePDB(out_dir_ens + pdb_id + ens_f_tail + \".pdb\")\n",
    "pdb_pqr = parsePQR(out_dir_pqr + pdb_id + \"_PQR.pdb\")\n",
    "\n",
    "# Número de histidinas\n",
    "len(pdb_ens.select(\"ca resname HIE\"))\n",
    "len(pdb_reduce.select(\"ca resname HIE\"))\n",
    "\n",
    "pdb_reduce.select(\"ca resname HID\").getResnums()"
   ]
  },
  {
   "cell_type": "code",
   "execution_count": null,
   "metadata": {},
   "outputs": [],
   "source": []
  },
  {
   "cell_type": "code",
   "execution_count": null,
   "metadata": {},
   "outputs": [],
   "source": []
  },
  {
   "cell_type": "code",
   "execution_count": null,
   "metadata": {},
   "outputs": [],
   "source": []
  },
  {
   "cell_type": "code",
   "execution_count": null,
   "metadata": {},
   "outputs": [],
   "source": [
    "\n"
   ]
  },
  {
   "cell_type": "code",
   "execution_count": null,
   "metadata": {},
   "outputs": [],
   "source": []
  },
  {
   "cell_type": "code",
   "execution_count": null,
   "metadata": {},
   "outputs": [],
   "source": []
  }
 ],
 "metadata": {
  "kernelspec": {
   "display_name": "Python 3",
   "language": "python",
   "name": "python3"
  },
  "language_info": {
   "codemirror_mode": {
    "name": "ipython",
    "version": 3
   },
   "file_extension": ".py",
   "mimetype": "text/x-python",
   "name": "python",
   "nbconvert_exporter": "python",
   "pygments_lexer": "ipython3",
   "version": "3.6.7"
  }
 },
 "nbformat": 4,
 "nbformat_minor": 2
}
