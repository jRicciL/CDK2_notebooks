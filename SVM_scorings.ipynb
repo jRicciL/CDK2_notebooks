{
 "cells": [
  {
   "cell_type": "markdown",
   "metadata": {},
   "source": [
    "# SVM con *scorings*\n",
    "Prueba de SVM con los scorings calculados con:\n",
    "- 111 ligandos\n",
    "    - 27 Activos\n",
    "- 402 Conformaciones de la porteína CDK2\n",
    "    - Conformaciones experimentales\n",
    "- 3 progrmas de acoplamiento molecular"
   ]
  },
  {
   "cell_type": "code",
   "execution_count": 73,
   "metadata": {},
   "outputs": [],
   "source": [
    "import pandas as pd\n",
    "import numpy as np\n",
    "import matplotlib.pyplot as plt\n",
    "import seaborn as sns\n",
    "import pylab\n",
    "import warnings\n",
    "warnings.filterwarnings('ignore')"
   ]
  },
  {
   "cell_type": "markdown",
   "metadata": {},
   "source": [
    "Carga del DataFrame Principal:"
   ]
  },
  {
   "cell_type": "code",
   "execution_count": 2,
   "metadata": {},
   "outputs": [
    {
     "data": {
      "text/html": [
       "<div>\n",
       "<style scoped>\n",
       "    .dataframe tbody tr th:only-of-type {\n",
       "        vertical-align: middle;\n",
       "    }\n",
       "\n",
       "    .dataframe tbody tr th {\n",
       "        vertical-align: top;\n",
       "    }\n",
       "\n",
       "    .dataframe thead th {\n",
       "        text-align: right;\n",
       "    }\n",
       "</style>\n",
       "<table border=\"1\" class=\"dataframe\">\n",
       "  <thead>\n",
       "    <tr style=\"text-align: right;\">\n",
       "      <th></th>\n",
       "      <th>Title</th>\n",
       "      <th>Date</th>\n",
       "      <th>Entities</th>\n",
       "      <th>ChainID</th>\n",
       "      <th>Resolution</th>\n",
       "      <th>Identity</th>\n",
       "      <th>Coverage</th>\n",
       "      <th>NumGaps</th>\n",
       "      <th>GapLen</th>\n",
       "      <th>GapPos</th>\n",
       "      <th>NumLigs</th>\n",
       "      <th>NameLigs</th>\n",
       "      <th>Inhib</th>\n",
       "      <th>Inhib_mass</th>\n",
       "      <th>Labels_conf</th>\n",
       "      <th>AUC_vrd_16x</th>\n",
       "      <th>AUC_vrd_8x</th>\n",
       "      <th>AUC_vina</th>\n",
       "      <th>AUC_ad4_LC</th>\n",
       "      <th>AUC_ad4_LE</th>\n",
       "    </tr>\n",
       "  </thead>\n",
       "  <tbody>\n",
       "    <tr>\n",
       "      <th>1aq1</th>\n",
       "      <td>human cyclin dependent kinase 2 complexed with...</td>\n",
       "      <td>1997-11-12</td>\n",
       "      <td>1</td>\n",
       "      <td>A</td>\n",
       "      <td>2.0</td>\n",
       "      <td>298</td>\n",
       "      <td>92.953020</td>\n",
       "      <td>2</td>\n",
       "      <td>[8, 13]</td>\n",
       "      <td>[[36, 43], [149, 161]]</td>\n",
       "      <td>1</td>\n",
       "      <td>['STU']</td>\n",
       "      <td>STU</td>\n",
       "      <td>440.0</td>\n",
       "      <td>inact_b</td>\n",
       "      <td>0.730317</td>\n",
       "      <td>0.740724</td>\n",
       "      <td>0.575339</td>\n",
       "      <td>0.634163</td>\n",
       "      <td>0.572172</td>\n",
       "    </tr>\n",
       "    <tr>\n",
       "      <th>1b38</th>\n",
       "      <td>human cyclin-dependent kinase 2</td>\n",
       "      <td>1998-12-23</td>\n",
       "      <td>1</td>\n",
       "      <td>A</td>\n",
       "      <td>2.0</td>\n",
       "      <td>298</td>\n",
       "      <td>97.315436</td>\n",
       "      <td>1</td>\n",
       "      <td>[8]</td>\n",
       "      <td>[[36, 43]]</td>\n",
       "      <td>3</td>\n",
       "      <td>['ACE', 'ATP', 'MG']</td>\n",
       "      <td>ATP</td>\n",
       "      <td>398.0</td>\n",
       "      <td>inact_a</td>\n",
       "      <td>0.677828</td>\n",
       "      <td>0.683258</td>\n",
       "      <td>0.546154</td>\n",
       "      <td>0.571946</td>\n",
       "      <td>0.483032</td>\n",
       "    </tr>\n",
       "    <tr>\n",
       "      <th>1b39</th>\n",
       "      <td>human cyclin-dependent kinase 2 phosphorylated...</td>\n",
       "      <td>1998-12-23</td>\n",
       "      <td>1</td>\n",
       "      <td>A</td>\n",
       "      <td>2.1</td>\n",
       "      <td>298</td>\n",
       "      <td>97.315436</td>\n",
       "      <td>1</td>\n",
       "      <td>[8]</td>\n",
       "      <td>[[36, 43]]</td>\n",
       "      <td>3</td>\n",
       "      <td>['ACE', 'ATP', 'MG']</td>\n",
       "      <td>ATP</td>\n",
       "      <td>398.0</td>\n",
       "      <td>inact_a</td>\n",
       "      <td>0.764706</td>\n",
       "      <td>0.785520</td>\n",
       "      <td>0.580543</td>\n",
       "      <td>0.670814</td>\n",
       "      <td>0.607919</td>\n",
       "    </tr>\n",
       "  </tbody>\n",
       "</table>\n",
       "</div>"
      ],
      "text/plain": [
       "                                                  Title       Date  Entities  \\\n",
       "1aq1  human cyclin dependent kinase 2 complexed with... 1997-11-12         1   \n",
       "1b38                    human cyclin-dependent kinase 2 1998-12-23         1   \n",
       "1b39  human cyclin-dependent kinase 2 phosphorylated... 1998-12-23         1   \n",
       "\n",
       "     ChainID  Resolution  Identity   Coverage  NumGaps   GapLen  \\\n",
       "1aq1       A         2.0       298  92.953020        2  [8, 13]   \n",
       "1b38       A         2.0       298  97.315436        1      [8]   \n",
       "1b39       A         2.1       298  97.315436        1      [8]   \n",
       "\n",
       "                      GapPos  NumLigs              NameLigs Inhib Inhib_mass  \\\n",
       "1aq1  [[36, 43], [149, 161]]        1               ['STU']   STU      440.0   \n",
       "1b38              [[36, 43]]        3  ['ACE', 'ATP', 'MG']   ATP      398.0   \n",
       "1b39              [[36, 43]]        3  ['ACE', 'ATP', 'MG']   ATP      398.0   \n",
       "\n",
       "     Labels_conf  AUC_vrd_16x  AUC_vrd_8x  AUC_vina  AUC_ad4_LC  AUC_ad4_LE  \n",
       "1aq1     inact_b     0.730317    0.740724  0.575339    0.634163    0.572172  \n",
       "1b38     inact_a     0.677828    0.683258  0.546154    0.571946    0.483032  \n",
       "1b39     inact_a     0.764706    0.785520  0.580543    0.670814    0.607919  "
      ]
     },
     "execution_count": 2,
     "metadata": {},
     "output_type": "execute_result"
    }
   ],
   "source": [
    "data_dir = './B_DATOS'\n",
    "df_cdk2_labels = pd.read_json(F\"{data_dir}/TABLA_MTDATA_CDK2_402_crys_LIGS_INFO_LABELS_AUC_docking.json\")\n",
    "df_cdk2_labels.head(3)"
   ]
  },
  {
   "cell_type": "markdown",
   "metadata": {},
   "source": [
    "Carga de los dataframes con los mejores scores de las proteínas para cada programa de *docking*."
   ]
  },
  {
   "cell_type": "code",
   "execution_count": 4,
   "metadata": {},
   "outputs": [],
   "source": [
    "# Vinardo scoring 16x\n",
    "df_vinardo_results = pd.read_csv(F'./B_DATOS/vs_docking_crys_ensemble_VINARDO.csv', index_col=0)"
   ]
  },
  {
   "cell_type": "code",
   "execution_count": 271,
   "metadata": {},
   "outputs": [
    {
     "name": "stdout",
     "output_type": "stream",
     "text": [
      "Dims X_DUD (2146, 402)\n"
     ]
    }
   ],
   "source": [
    "# Carga de los datos DUD\n",
    "# Split de los sets de entrenamiento y prueba\n",
    "df_vrd_DUD2006 = pd.read_csv(F'./B_DATOS/vs_docking_DUD2006_vs_402_crys_vinardo_8x.csv', index_col=0)\n",
    "y_DUD = pd.Series(df_vrd_DUD2006.Actividad == \"Active\", dtype = int)\n",
    "X_DUD = df_vrd_DUD2006.drop([\"Actividad\"], axis = 1)\n",
    "\n",
    "print(\"Dims X_DUD\", X_DUD.shape)"
   ]
  },
  {
   "cell_type": "code",
   "execution_count": 100,
   "metadata": {},
   "outputs": [],
   "source": [
    "# Establecemos los parámetros para graficar\n",
    "import pylab\n",
    "pylab.rcParams['figure.figsize'] = (7, 7)\n",
    "sns.set( context = 'talk', style = 'white', palette = \"Set2\")\n",
    "\n",
    "def add_plot_roc(predicted_values, true_values, label = ''):\n",
    "    # inverted_input = np.negative(predicted_values)\n",
    "    fpr, tpr, thresholds = roc_curve(true_values, predicted_values)\n",
    "    auc = roc_auc_score( y_true = true_values, y_score = predicted_values)\n",
    "    plt.plot(fpr, tpr, label= label + ' AUC = %0.2f' % auc, lw = 4)\n",
    "\n",
    "def plot_roc(predicted_values, true_values, label = '', titulo = \"ROC curve\"):\n",
    "    sns.color_palette(\"Paired\")\n",
    "    add_plot_roc(predicted_values, true_values, label)\n",
    "    plt.legend()\n",
    "    plt.plot([0, 1], [0, 1], 'k--')\n",
    "    plt.xlabel(\"FPR (1 - specificity)\")\n",
    "    plt.ylabel(\"TPR (sensitivity)\")\n",
    "    plt.grid(linestyle='--', linewidth='0.8')\n",
    "    plt.title(titulo)\n",
    "    plt.show()"
   ]
  },
  {
   "cell_type": "markdown",
   "metadata": {},
   "source": [
    "# SVM Lineal con Vinardo 16x\n",
    "## Dataset Completo"
   ]
  },
  {
   "cell_type": "code",
   "execution_count": 266,
   "metadata": {},
   "outputs": [],
   "source": [
    "from sklearn.pipeline import Pipeline\n",
    "from sklearn.preprocessing import StandardScaler\n",
    "from sklearn.model_selection import train_test_split\n",
    "from sklearn.model_selection import GridSearchCV\n",
    "from sklearn.calibration import CalibratedClassifierCV\n",
    "from sklearn.svm import SVC\n",
    "from sklearn.metrics import roc_curve, roc_auc_score\n",
    "from sklearn import metrics\n",
    "from sklearn.metrics import confusion_matrix"
   ]
  },
  {
   "cell_type": "code",
   "execution_count": 289,
   "metadata": {},
   "outputs": [],
   "source": [
    "def run_CV(X_train, y_train):    \n",
    "    # Se establece el pipeline para el gridSearch\n",
    "    SVCpipe = Pipeline([\n",
    "            (\"scaler\", StandardScaler()),\n",
    "            (\"SVC\", SVC(kernel='linear', probability = True))\n",
    "        ])\n",
    "\n",
    "    parametros = {'SVC__C': [10**i for i in range(-3, 4)]}\n",
    "    linear_SVC = GridSearchCV(SVCpipe, parametros, \n",
    "                             scoring = 'roc_auc',\n",
    "                             cv = 5, return_train_score = True)\n",
    "\n",
    "    # Entrenamiento con el grid\n",
    "    linear_SVC.fit(X_train, y_train)\n",
    "    \n",
    "    # Retorna el mejor modelo\n",
    "    return(linear_SVC.best_estimator_)"
   ]
  },
  {
   "cell_type": "code",
   "execution_count": 224,
   "metadata": {},
   "outputs": [
    {
     "name": "stdout",
     "output_type": "stream",
     "text": [
      "Dimensiones de X: (111, 402)\n",
      "Dimensiones de y: (111,)\n"
     ]
    }
   ],
   "source": [
    "filtro = df_vinardo_results.columns\n",
    "df = df_vinardo_results[ filtro ]\n",
    "X = df.drop([\"ActiveInactive\"], axis = 1)\n",
    "y = (df[\"ActiveInactive\"] == \"Active\").astype(np.float32)\n",
    "\n",
    "print(F'Dimensiones de X: {X.shape}')\n",
    "print(F'Dimensiones de y: {y.shape}')\n",
    "\n",
    "# Split del dataset\n",
    "X_train, X_test, y_train, y_test = train_test_split(X, y, test_size = 0.2, stratify = y, random_state = 1)"
   ]
  },
  {
   "cell_type": "code",
   "execution_count": 225,
   "metadata": {},
   "outputs": [],
   "source": [
    "svc_1 = run_SVM(X_train, y_train)"
   ]
  },
  {
   "cell_type": "code",
   "execution_count": 226,
   "metadata": {},
   "outputs": [
    {
     "data": {
      "text/plain": [
       "1.0"
      ]
     },
     "execution_count": 226,
     "metadata": {},
     "output_type": "execute_result"
    }
   ],
   "source": [
    "svc_1.score(X_train, y_train)"
   ]
  },
  {
   "cell_type": "code",
   "execution_count": 227,
   "metadata": {},
   "outputs": [
    {
     "data": {
      "text/plain": [
       "0.9565217391304348"
      ]
     },
     "execution_count": 227,
     "metadata": {},
     "output_type": "execute_result"
    }
   ],
   "source": [
    "svc_1.score(X_test, y_test)"
   ]
  },
  {
   "cell_type": "code",
   "execution_count": 228,
   "metadata": {},
   "outputs": [
    {
     "data": {
      "text/plain": [
       "array([0., 0., 0., 0., 0., 0., 0., 1., 0., 0., 0., 1., 0., 0., 0., 0., 1.,\n",
       "       1., 0., 0., 0., 0., 0.], dtype=float32)"
      ]
     },
     "execution_count": 228,
     "metadata": {},
     "output_type": "execute_result"
    }
   ],
   "source": [
    "svc_1.predict(X_test)"
   ]
  },
  {
   "cell_type": "code",
   "execution_count": 229,
   "metadata": {},
   "outputs": [
    {
     "data": {
      "text/plain": [
       "array([-1.54618711, -1.08269584, -1.39574516, -1.06302291, -1.07419751,\n",
       "       -0.99037922, -1.23362861,  1.32038029, -1.2541012 , -1.45413776,\n",
       "       -0.9438115 ,  0.71850265, -0.90011185, -0.14535717, -0.52724259,\n",
       "       -1.39881169,  1.07361179,  0.13471664, -0.96193687, -0.91687901,\n",
       "       -1.57142368, -1.19606174, -1.29813874])"
      ]
     },
     "execution_count": 229,
     "metadata": {},
     "output_type": "execute_result"
    }
   ],
   "source": [
    "y_score = svc_1.decision_function(X_test)\n",
    "y_score"
   ]
  },
  {
   "cell_type": "code",
   "execution_count": 230,
   "metadata": {},
   "outputs": [
    {
     "data": {
      "text/plain": [
       "1.0"
      ]
     },
     "execution_count": 230,
     "metadata": {},
     "output_type": "execute_result"
    }
   ],
   "source": [
    "roc_auc_score( y_true = y_test, y_score = svc_1.decision_function(X_test)) "
   ]
  },
  {
   "cell_type": "code",
   "execution_count": 231,
   "metadata": {},
   "outputs": [
    {
     "data": {
      "image/png": "[encoded data removed]",
      "text/plain": [
       "<Figure size 504x504 with 1 Axes>"
      ]
     },
     "metadata": {},
     "output_type": "display_data"
    }
   ],
   "source": [
    "plot_roc(y_score, y_test, titulo = \"ROC curve\")"
   ]
  },
  {
   "cell_type": "code",
   "execution_count": 232,
   "metadata": {},
   "outputs": [
    {
     "data": {
      "text/plain": [
       "0.929636533084809"
      ]
     },
     "execution_count": 232,
     "metadata": {},
     "output_type": "execute_result"
    }
   ],
   "source": [
    "# Prueba del modelo con los DUD\n",
    "svc_1.score(X_DUD, y_DUD)"
   ]
  },
  {
   "cell_type": "code",
   "execution_count": 233,
   "metadata": {},
   "outputs": [
    {
     "data": {
      "text/plain": [
       "array([ 0.7748632 , -0.51856976, -0.17909053, ..., -0.66184445,\n",
       "       -1.6141995 , -0.1865491 ])"
      ]
     },
     "execution_count": 233,
     "metadata": {},
     "output_type": "execute_result"
    }
   ],
   "source": [
    "# Prueba AUC\n",
    "y_dud_score = svc_1.decision_function(X_DUD)\n",
    "y_dud_score"
   ]
  },
  {
   "cell_type": "code",
   "execution_count": 234,
   "metadata": {},
   "outputs": [
    {
     "data": {
      "text/plain": [
       "0.791231383263688"
      ]
     },
     "execution_count": 234,
     "metadata": {},
     "output_type": "execute_result"
    }
   ],
   "source": [
    "roc_auc_score( y_true = y_DUD, y_score = y_dud_score) "
   ]
  },
  {
   "cell_type": "code",
   "execution_count": 235,
   "metadata": {},
   "outputs": [
    {
     "data": {
      "image/png": "[encoded data removed]",
      "text/plain": [
       "<Figure size 504x504 with 1 Axes>"
      ]
     },
     "metadata": {},
     "output_type": "display_data"
    }
   ],
   "source": [
    "plot_roc(y_dud_score, y_DUD, titulo = \"ROC curve\")"
   ]
  },
  {
   "cell_type": "code",
   "execution_count": 216,
   "metadata": {},
   "outputs": [
    {
     "data": {
      "text/plain": [
       "Pipeline(memory=None,\n",
       "         steps=[('scaler',\n",
       "                 StandardScaler(copy=True, with_mean=True, with_std=True)),\n",
       "                ('SVC',\n",
       "                 SVC(C=0.1, cache_size=200, class_weight=None, coef0=0.0,\n",
       "                     decision_function_shape='ovr', degree=3,\n",
       "                     gamma='auto_deprecated', kernel='linear', max_iter=-1,\n",
       "                     probability=True, random_state=None, shrinking=True,\n",
       "                     tol=0.001, verbose=False))],\n",
       "         verbose=False)"
      ]
     },
     "execution_count": 216,
     "metadata": {},
     "output_type": "execute_result"
    }
   ],
   "source": [
    "# Se reentrena el modelo con todos los datos del primer set\n",
    "svc_1.fit(X, y)"
   ]
  },
  {
   "cell_type": "code",
   "execution_count": 217,
   "metadata": {},
   "outputs": [
    {
     "data": {
      "text/plain": [
       "0.9137931034482759"
      ]
     },
     "execution_count": 217,
     "metadata": {},
     "output_type": "execute_result"
    }
   ],
   "source": [
    "svc_1.score(X_DUD, y_DUD)"
   ]
  },
  {
   "cell_type": "code",
   "execution_count": 218,
   "metadata": {},
   "outputs": [
    {
     "data": {
      "text/plain": [
       "0.7849766955962714"
      ]
     },
     "execution_count": 218,
     "metadata": {},
     "output_type": "execute_result"
    }
   ],
   "source": [
    "y_dud_score = svc_1.decision_function(X_DUD)\n",
    "roc_auc_score( y_true = y_DUD, y_score = y_dud_score) "
   ]
  },
  {
   "cell_type": "code",
   "execution_count": null,
   "metadata": {},
   "outputs": [],
   "source": []
  },
  {
   "cell_type": "code",
   "execution_count": null,
   "metadata": {},
   "outputs": [],
   "source": []
  },
  {
   "cell_type": "code",
   "execution_count": 160,
   "metadata": {},
   "outputs": [],
   "source": [
    "# Prueba con las conformaciones del frente de pareto 5 objetivos\n",
    "pf_5_obj = ['1ckp', '1h07', '1ke9', '1oiq', '1pxm', '1urw', '1vyz', '2c4g', '2r3p',\n",
    "       '2r64', '2vv9', '2w05', '3eid', '3ezv', '3lfn', '3qu0', '3s0o', '3s2p',\n",
    "       '3unj', '3unk', '4bzd', '4cfn', '4eor', '4fkq', '6guf']"
   ]
  },
  {
   "cell_type": "code",
   "execution_count": 316,
   "metadata": {},
   "outputs": [],
   "source": [
    "def run_SVM(X_train, X_test, y_train, y_test):\n",
    "    # Determina el mejor modelo usando grid search y validación cruzada\n",
    "    #best_clasifier = run_CV(X_train, y_train)\n",
    "    SVCpipe = Pipeline([\n",
    "            (\"scaler\", StandardScaler()), # Realiza la estandarización sobre el X_train\n",
    "            (\"SVC\", SVC(kernel='linear', probability = True))\n",
    "        ])\n",
    "\n",
    "    parametros = {'SVC__C': [10**i for i in range(-3, 4)]}\n",
    "    linear_SVC = GridSearchCV(SVCpipe, parametros, \n",
    "                             scoring = 'roc_auc',\n",
    "                             cv = 5, return_train_score = True)\n",
    "    # Entrenamiento con el grid\n",
    "    linear_SVC.fit(X_train, y_train)\n",
    "    \n",
    "    # Retorna el mejor modelo\n",
    "    best_clasifier = linear_SVC.best_estimator_\n",
    "    # Realiza la estandarización sobre el X_test\n",
    "    X_test = StandardScaler().fit_transform(X_test)\n",
    "    \n",
    "    # Predicciones sobre X_test\n",
    "    y_pred = best_clasifier.predict(X_test) # Valores predichos\n",
    "    y_score = best_clasifier.decision_function(X_test) # Distancia al hiperplano\n",
    "    y_prob = best_clasifier.predict_proba(X_test)\n",
    "    # Genera algunos outputs\n",
    "    print(\"Accuracy:\", metrics.accuracy_score(y_true = y_test, y_pred = y_pred))\n",
    "    print(\"Precision:\",metrics.precision_score(y_true = y_test, y_pred = y_pred))\n",
    "    print(\"Recall:\",metrics.recall_score(y_true = y_test, y_pred = y_pred))\n",
    "    # Matirz de confusión\n",
    "    print('Matriz de confusión:\\n', confusion_matrix(y_true = y_test, y_pred = y_pred))\n",
    "    # AUC\n",
    "    print(\"AUC ROC:\", roc_auc_score( y_true = y_test, y_score = y_score))\n",
    "    # Plot del ROC\n",
    "    plot_roc(y_score, y_test, titulo = \"ROC curve\")"
   ]
  },
  {
   "cell_type": "code",
   "execution_count": 317,
   "metadata": {},
   "outputs": [
    {
     "name": "stdout",
     "output_type": "stream",
     "text": [
      "Accuracy: 0.8392357875116496\n",
      "Precision: 0.10888252148997135\n",
      "Recall: 0.5277777777777778\n",
      "Matriz de confusión:\n",
      " [[1763  311]\n",
      " [  34   38]]\n",
      "AUC ROC: 0.8047385620915033\n"
     ]
    },
    {
     "data": {
      "image/png": "[encoded data removed]",
      "text/plain": [
       "<Figure size 504x504 with 1 Axes>"
      ]
     },
     "metadata": {},
     "output_type": "display_data"
    }
   ],
   "source": [
    "# Usando DUD\n",
    "X_train = df_vinardo_results.drop([\"ActiveInactive\"], axis=1)\n",
    "y_train = (df[\"ActiveInactive\"] == \"Active\").astype(np.float32)\n",
    "\n",
    "X_test = X_DUD\n",
    "y_test = y_DUD\n",
    "\n",
    "run_SVM(X_train, X_test, y_train, y_test)"
   ]
  },
  {
   "cell_type": "code",
   "execution_count": 313,
   "metadata": {},
   "outputs": [
    {
     "name": "stdout",
     "output_type": "stream",
     "text": [
      "Accuracy: 0.9565217391304348\n",
      "Precision: 0.8333333333333334\n",
      "Recall: 1.0\n",
      "Matriz de confusión:\n",
      " [[17  1]\n",
      " [ 0  5]]\n",
      "AUC ROC: 1.0\n"
     ]
    }
   ],
   "source": [
    "X = df_vinardo_results.drop([\"ActiveInactive\"], axis=1)\n",
    "y = (df[\"ActiveInactive\"] == \"Active\").astype(np.float32)\n",
    "X_train, X_test, y_train, y_test = train_test_split(X, y, test_size = 0.2, stratify = y)\n",
    "\n",
    "run_SVM(X_train, X_test, y_train, y_test)"
   ]
  },
  {
   "cell_type": "code",
   "execution_count": 294,
   "metadata": {},
   "outputs": [
    {
     "name": "stdout",
     "output_type": "stream",
     "text": [
      "Accuracy: 0.9221808014911463\n",
      "Precision: 0.18543046357615894\n",
      "Recall: 0.3888888888888889\n",
      "Matriz de confusión:\n",
      " [[1951  123]\n",
      " [  44   28]]\n",
      "AUC ROC: 0.7771817743490839\n"
     ]
    }
   ],
   "source": [
    "# Usando DUD\n",
    "X_train = df_vinardo_results.drop([\"ActiveInactive\"], axis=1)\n",
    "y_train = (df[\"ActiveInactive\"] == \"Active\").astype(np.float32)\n",
    "\n",
    "X_test = X_DUD\n",
    "y_test = y_DUD\n",
    "\n",
    "run_SVM(X_train, X_test, y_train, y_test)"
   ]
  },
  {
   "cell_type": "code",
   "execution_count": 259,
   "metadata": {},
   "outputs": [
    {
     "name": "stdout",
     "output_type": "stream",
     "text": [
      "Dimensiones de X: (111, 402)\n",
      "Dimensiones de y: (111,)\n",
      "Dimensiones de X_train: (88, 402)\n",
      "Dimensiones de y_train: (88,)\n",
      "Accuracy: 0.9137931034482759\n",
      "Precision: 0.17341040462427745\n",
      "Recall: 0.4166666666666667\n",
      "AUC ROC: 0.7849766955962714\n"
     ]
    },
    {
     "data": {
      "image/png": "[encoded data removed]",
      "text/plain": [
       "<Figure size 504x504 with 1 Axes>"
      ]
     },
     "metadata": {},
     "output_type": "display_data"
    }
   ],
   "source": [
    "# Primero se define la matriz X y el vector y\n",
    "X = df_vinardo_results.drop([\"ActiveInactive\"], axis=1)\n",
    "y = (df[\"ActiveInactive\"] == \"Active\").astype(np.float32)\n",
    "print(F'Dimensiones de X: {X.shape}')\n",
    "print(F'Dimensiones de y: {y.shape}')\n",
    "\n",
    "X_DUD = X_DUD\n",
    "\n",
    "# Depués se realiza el split para obtener los conjuntos de entrenamiento y de validación\n",
    "# Usamos el parémtro stratify para estable\n",
    "X_train, X_test, y_train, y_test = train_test_split(X, y, test_size = 0.2, stratify = y)\n",
    "print(F'Dimensiones de X_train: {X_train.shape}')\n",
    "print(F'Dimensiones de y_train: {y_train.shape}')\n",
    "\n",
    "# Se genera el modelo\n",
    "best_clasificador = run_SVM(X, y)\n",
    "# Se obtienen los datos del modelo\n",
    "# Predicción del modelo sobre y_test\n",
    "y_pred = best_clasificador.predict(X_DUD)\n",
    "y_score = best_clasificador.decision_function(X_DUD)\n",
    "# SCORE\n",
    "#print('Score:', best_clasificador.score(X_test, y_test))\n",
    "# Exactitud\n",
    "print(\"Accuracy:\", metrics.accuracy_score(y_DUD, y_pred))\n",
    "# PRECISION\n",
    "print(\"Precision:\",metrics.precision_score(y_DUD, y_pred))\n",
    "print(\"Recall:\",metrics.recall_score(y_DUD, y_pred))\n",
    "# ROC AUC\n",
    "print(\"AUC ROC:\", roc_auc_score( y_true = y_DUD, y_score = y_score))\n",
    "\n",
    "plot_roc(y_score, y_DUD, titulo = \"ROC curve\")"
   ]
  },
  {
   "cell_type": "code",
   "execution_count": 182,
   "metadata": {},
   "outputs": [
    {
     "data": {
      "image/png": "[encoded data removed]",
      "text/plain": [
       "<Figure size 504x504 with 1 Axes>"
      ]
     },
     "metadata": {},
     "output_type": "display_data"
    }
   ],
   "source": []
  },
  {
   "cell_type": "code",
   "execution_count": 162,
   "metadata": {},
   "outputs": [],
   "source": [
    "svc_2 = run_SVM(X_train, y_train)"
   ]
  },
  {
   "cell_type": "code",
   "execution_count": 163,
   "metadata": {},
   "outputs": [
    {
     "data": {
      "text/plain": [
       "0.8260869565217391"
      ]
     },
     "execution_count": 163,
     "metadata": {},
     "output_type": "execute_result"
    }
   ],
   "source": [
    "svc_2.score(X_test, y_test)"
   ]
  },
  {
   "cell_type": "code",
   "execution_count": 164,
   "metadata": {},
   "outputs": [
    {
     "data": {
      "text/plain": [
       "array([0., 1., 0., 0., 1., 0., 1., 0., 0., 1., 0., 0., 1., 1., 0., 0., 1.,\n",
       "       0., 0., 0., 0., 0., 0.], dtype=float32)"
      ]
     },
     "execution_count": 164,
     "metadata": {},
     "output_type": "execute_result"
    }
   ],
   "source": [
    "svc_2.predict(X_test)"
   ]
  },
  {
   "cell_type": "code",
   "execution_count": 171,
   "metadata": {},
   "outputs": [
    {
     "data": {
      "text/plain": [
       "array([-1.72016622, -1.93800141, -0.74354454, -0.79358885, -3.37525838,\n",
       "       -1.01619051,  0.68982714, -0.16716964,  0.29202902,  0.43628471,\n",
       "       -1.36717695,  0.7791691 , -2.0850043 , -2.98829744, -1.92062773,\n",
       "       -0.75874   , -1.7354806 , -2.0583857 ,  0.37287767, -1.34585488,\n",
       "       -1.6415637 , -1.05600717, -0.43481144])"
      ]
     },
     "execution_count": 171,
     "metadata": {},
     "output_type": "execute_result"
    }
   ],
   "source": [
    "y_score = svc_2.decision_function(X_test)\n",
    "y_score"
   ]
  },
  {
   "cell_type": "code",
   "execution_count": 172,
   "metadata": {},
   "outputs": [
    {
     "data": {
      "text/plain": [
       "1.0"
      ]
     },
     "execution_count": 172,
     "metadata": {},
     "output_type": "execute_result"
    }
   ],
   "source": [
    "roc_auc_score( y_true = y_test, y_score = svc_2.decision_function(X_test)) "
   ]
  },
  {
   "cell_type": "code",
   "execution_count": null,
   "metadata": {},
   "outputs": [],
   "source": []
  },
  {
   "cell_type": "code",
   "execution_count": null,
   "metadata": {},
   "outputs": [],
   "source": []
  },
  {
   "cell_type": "code",
   "execution_count": null,
   "metadata": {},
   "outputs": [],
   "source": []
  },
  {
   "cell_type": "code",
   "execution_count": null,
   "metadata": {},
   "outputs": [],
   "source": []
  },
  {
   "cell_type": "code",
   "execution_count": 58,
   "metadata": {},
   "outputs": [
    {
     "data": {
      "text/plain": [
       "array([0., 0., 0., 1., 0., 0., 0., 0., 0., 1., 1., 0., 0., 0., 0., 0., 0.,\n",
       "       0., 1., 0., 0., 0., 0.], dtype=float32)"
      ]
     },
     "execution_count": 58,
     "metadata": {},
     "output_type": "execute_result"
    }
   ],
   "source": [
    "bestSVC.predict(X_test)"
   ]
  },
  {
   "cell_type": "code",
   "execution_count": 59,
   "metadata": {},
   "outputs": [
    {
     "data": {
      "text/plain": [
       "array([0., 0., 0., 1., 1., 0., 0., 0., 0., 1., 1., 0., 0., 0., 0., 0., 0.,\n",
       "       0., 1., 0., 0., 0., 0.], dtype=float32)"
      ]
     },
     "execution_count": 59,
     "metadata": {},
     "output_type": "execute_result"
    }
   ],
   "source": [
    "y_test.to_numpy()"
   ]
  },
  {
   "cell_type": "code",
   "execution_count": 60,
   "metadata": {},
   "outputs": [
    {
     "data": {
      "text/plain": [
       "0.9565217391304348"
      ]
     },
     "execution_count": 60,
     "metadata": {},
     "output_type": "execute_result"
    }
   ],
   "source": [
    "y_test_predicted = bestSVC.score(X_test, y_test)\n",
    "y_test_predicted"
   ]
  },
  {
   "cell_type": "code",
   "execution_count": 70,
   "metadata": {},
   "outputs": [
    {
     "data": {
      "text/plain": [
       "array([ 0.83669393, -0.55243806, -0.06602759, ..., -0.74873066,\n",
       "       -1.42002621, -0.02911411])"
      ]
     },
     "execution_count": 70,
     "metadata": {},
     "output_type": "execute_result"
    }
   ],
   "source": [
    "#y_test_pred_prob\n",
    "bestSVC.decision_function(X_DUD)"
   ]
  },
  {
   "cell_type": "code",
   "execution_count": null,
   "metadata": {},
   "outputs": [],
   "source": [
    "y_DUD"
   ]
  },
  {
   "cell_type": "code",
   "execution_count": 72,
   "metadata": {},
   "outputs": [
    {
     "data": {
      "text/plain": [
       "0.7752665273759778"
      ]
     },
     "execution_count": 72,
     "metadata": {},
     "output_type": "execute_result"
    }
   ],
   "source": [
    "# Evaluación con el AUC\n",
    "from sklearn.metrics import roc_curve, roc_auc_score\n",
    "roc_auc_score( y_true = y_DUD, y_score = bestSVC.decision_function(X_DUD)) "
   ]
  },
  {
   "cell_type": "code",
   "execution_count": 35,
   "metadata": {},
   "outputs": [],
   "source": [
    "fpr, tpr, thresholds = roc_curve(y_test, bestSVC.decision_function(X_test))"
   ]
  },
  {
   "cell_type": "markdown",
   "metadata": {},
   "source": [
    "# ----------------"
   ]
  },
  {
   "cell_type": "code",
   "execution_count": 3,
   "metadata": {},
   "outputs": [],
   "source": [
    "# Autodock 4. LE (lowest energy)\n",
    "df_ad4_results_LE = pd.read_csv(F'./B_DATOS/vs_docking_crys_ensemble_AD4_LE.csv', index_col=0)\n",
    "# Autodock 4. LC (largest Cluster)\n",
    "df_ad4_results_LC = pd.read_csv(F'./B_DATOS/vs_docking_crys_ensemble_AD4_LC.csv', index_col=0)\n",
    "# Autodock Vina\n",
    "df_vina_results = pd.read_csv(F'./B_DATOS/vs_docking_crys_ensemble_VINA.csv', index_col=0)\n",
    "# Vinardo scoring 16x\n",
    "df_vinardo_results = pd.read_csv(F'./B_DATOS/vs_docking_crys_ensemble_VINARDO.csv', index_col=0)\n",
    "# vinardo scorings 8x\n",
    "df_vinardo_results = pd.read_csv(F'./B_DATOS/vs_docking_crys_ensemble_VINARDO_ex8.csv', index_col=0)"
   ]
  },
  {
   "cell_type": "markdown",
   "metadata": {},
   "source": [
    "## Vinardo"
   ]
  },
  {
   "cell_type": "markdown",
   "metadata": {},
   "source": [
    "# SVM Lineal con Vinardo 16x"
   ]
  },
  {
   "cell_type": "code",
   "execution_count": 230,
   "metadata": {},
   "outputs": [],
   "source": [
    "from sklearn.pipeline import Pipeline\n",
    "from sklearn.preprocessing import StandardScaler\n",
    "from sklearn.svm import LinearSVC\n",
    "from sklearn.model_selection import train_test_split\n",
    "from sklearn.model_selection import GridSearchCV\n",
    "from sklearn.metrics import roc_curve, roc_auc_score, make_scorer"
   ]
  },
  {
   "cell_type": "code",
   "execution_count": 413,
   "metadata": {},
   "outputs": [
    {
     "name": "stdout",
     "output_type": "stream",
     "text": [
      "Dimensiones de X: (111, 402)\n",
      "Dimensiones de y: (111,)\n"
     ]
    }
   ],
   "source": [
    "# Primer intento para vinardo a 16x\n",
    "X = df_vinardo_results.drop([\"ActiveInactive\"], axis = 1)\n",
    "y = (df_vinardo_results[\"ActiveInactive\"] == \"Active\").astype(np.float32)\n",
    "\n",
    "print(F'Dimensiones de X: {X.shape}')\n",
    "print(F'Dimensiones de y: {y.shape}')"
   ]
  },
  {
   "cell_type": "code",
   "execution_count": 414,
   "metadata": {},
   "outputs": [
    {
     "name": "stdout",
     "output_type": "stream",
     "text": [
      "Dimensiones de X: (111, 288)\n"
     ]
    }
   ],
   "source": [
    "# Cambio en la versión del dataset X\n",
    "# best_vinardo_confs = df_cdk2_labels[df_cdk2_labels.AUC_vrd_16x >= 0.68].index\n",
    "best_vinardo_confs = df_cdk2_labels[df_cdk2_labels.Labels_conf != 'active'].index\n",
    "X = X[best_vinardo_confs]\n",
    "\n",
    "print(F'Dimensiones de X: {X.shape}')"
   ]
  },
  {
   "cell_type": "markdown",
   "metadata": {},
   "source": [
    "## Pipeline"
   ]
  },
  {
   "cell_type": "code",
   "execution_count": 434,
   "metadata": {},
   "outputs": [
    {
     "name": "stdout",
     "output_type": "stream",
     "text": [
      "C: [0.01, 0.1, 1, 10, 100, 1000, 10000]\n"
     ]
    }
   ],
   "source": [
    "# Se establece el pipeline para el gridSearch\n",
    "SVCpipe = Pipeline([\n",
    "        (\"scaler\", StandardScaler()),\n",
    "        (\"SVC\", LinearSVC(loss = 'hinge'))\n",
    "    ])\n",
    "\n",
    "parametros = {'SVC__C': [10**i for i in range(-2, 5)]}\n",
    "print(\"C:\", parametros[\"SVC__C\"])\n",
    "linearSVC = GridSearchCV(SVCpipe, parametros, \n",
    "                         scoring = 'roc_auc',\n",
    "                         cv = 5, return_train_score = True)\n",
    "\n",
    "# Split del dataset\n",
    "X_train, X_test, y_train, y_test = train_test_split(X, y, test_size = 0.2, stratify = y)\n"
   ]
  },
  {
   "cell_type": "code",
   "execution_count": 429,
   "metadata": {},
   "outputs": [
    {
     "name": "stderr",
     "output_type": "stream",
     "text": [
      "/home/joel/anaconda3/envs/mds/lib/python3.7/site-packages/sklearn/svm/base.py:929: ConvergenceWarning: Liblinear failed to converge, increase the number of iterations.\n",
      "  \"the number of iterations.\", ConvergenceWarning)\n",
      "/home/joel/anaconda3/envs/mds/lib/python3.7/site-packages/sklearn/svm/base.py:929: ConvergenceWarning: Liblinear failed to converge, increase the number of iterations.\n",
      "  \"the number of iterations.\", ConvergenceWarning)\n",
      "/home/joel/anaconda3/envs/mds/lib/python3.7/site-packages/sklearn/svm/base.py:929: ConvergenceWarning: Liblinear failed to converge, increase the number of iterations.\n",
      "  \"the number of iterations.\", ConvergenceWarning)\n",
      "/home/joel/anaconda3/envs/mds/lib/python3.7/site-packages/sklearn/svm/base.py:929: ConvergenceWarning: Liblinear failed to converge, increase the number of iterations.\n",
      "  \"the number of iterations.\", ConvergenceWarning)\n",
      "/home/joel/anaconda3/envs/mds/lib/python3.7/site-packages/sklearn/svm/base.py:929: ConvergenceWarning: Liblinear failed to converge, increase the number of iterations.\n",
      "  \"the number of iterations.\", ConvergenceWarning)\n",
      "/home/joel/anaconda3/envs/mds/lib/python3.7/site-packages/sklearn/svm/base.py:929: ConvergenceWarning: Liblinear failed to converge, increase the number of iterations.\n",
      "  \"the number of iterations.\", ConvergenceWarning)\n",
      "/home/joel/anaconda3/envs/mds/lib/python3.7/site-packages/sklearn/svm/base.py:929: ConvergenceWarning: Liblinear failed to converge, increase the number of iterations.\n",
      "  \"the number of iterations.\", ConvergenceWarning)\n",
      "/home/joel/anaconda3/envs/mds/lib/python3.7/site-packages/sklearn/svm/base.py:929: ConvergenceWarning: Liblinear failed to converge, increase the number of iterations.\n",
      "  \"the number of iterations.\", ConvergenceWarning)\n",
      "/home/joel/anaconda3/envs/mds/lib/python3.7/site-packages/sklearn/svm/base.py:929: ConvergenceWarning: Liblinear failed to converge, increase the number of iterations.\n",
      "  \"the number of iterations.\", ConvergenceWarning)\n",
      "/home/joel/anaconda3/envs/mds/lib/python3.7/site-packages/sklearn/svm/base.py:929: ConvergenceWarning: Liblinear failed to converge, increase the number of iterations.\n",
      "  \"the number of iterations.\", ConvergenceWarning)\n",
      "/home/joel/anaconda3/envs/mds/lib/python3.7/site-packages/sklearn/svm/base.py:929: ConvergenceWarning: Liblinear failed to converge, increase the number of iterations.\n",
      "  \"the number of iterations.\", ConvergenceWarning)\n",
      "/home/joel/anaconda3/envs/mds/lib/python3.7/site-packages/sklearn/svm/base.py:929: ConvergenceWarning: Liblinear failed to converge, increase the number of iterations.\n",
      "  \"the number of iterations.\", ConvergenceWarning)\n",
      "/home/joel/anaconda3/envs/mds/lib/python3.7/site-packages/sklearn/svm/base.py:929: ConvergenceWarning: Liblinear failed to converge, increase the number of iterations.\n",
      "  \"the number of iterations.\", ConvergenceWarning)\n",
      "/home/joel/anaconda3/envs/mds/lib/python3.7/site-packages/sklearn/svm/base.py:929: ConvergenceWarning: Liblinear failed to converge, increase the number of iterations.\n",
      "  \"the number of iterations.\", ConvergenceWarning)\n",
      "/home/joel/anaconda3/envs/mds/lib/python3.7/site-packages/sklearn/svm/base.py:929: ConvergenceWarning: Liblinear failed to converge, increase the number of iterations.\n",
      "  \"the number of iterations.\", ConvergenceWarning)\n",
      "/home/joel/anaconda3/envs/mds/lib/python3.7/site-packages/sklearn/svm/base.py:929: ConvergenceWarning: Liblinear failed to converge, increase the number of iterations.\n",
      "  \"the number of iterations.\", ConvergenceWarning)\n",
      "/home/joel/anaconda3/envs/mds/lib/python3.7/site-packages/sklearn/svm/base.py:929: ConvergenceWarning: Liblinear failed to converge, increase the number of iterations.\n",
      "  \"the number of iterations.\", ConvergenceWarning)\n",
      "/home/joel/anaconda3/envs/mds/lib/python3.7/site-packages/sklearn/svm/base.py:929: ConvergenceWarning: Liblinear failed to converge, increase the number of iterations.\n",
      "  \"the number of iterations.\", ConvergenceWarning)\n",
      "/home/joel/anaconda3/envs/mds/lib/python3.7/site-packages/sklearn/svm/base.py:929: ConvergenceWarning: Liblinear failed to converge, increase the number of iterations.\n",
      "  \"the number of iterations.\", ConvergenceWarning)\n",
      "/home/joel/anaconda3/envs/mds/lib/python3.7/site-packages/sklearn/svm/base.py:929: ConvergenceWarning: Liblinear failed to converge, increase the number of iterations.\n",
      "  \"the number of iterations.\", ConvergenceWarning)\n",
      "/home/joel/anaconda3/envs/mds/lib/python3.7/site-packages/sklearn/svm/base.py:929: ConvergenceWarning: Liblinear failed to converge, increase the number of iterations.\n",
      "  \"the number of iterations.\", ConvergenceWarning)\n",
      "/home/joel/anaconda3/envs/mds/lib/python3.7/site-packages/sklearn/svm/base.py:929: ConvergenceWarning: Liblinear failed to converge, increase the number of iterations.\n",
      "  \"the number of iterations.\", ConvergenceWarning)\n",
      "/home/joel/anaconda3/envs/mds/lib/python3.7/site-packages/sklearn/svm/base.py:929: ConvergenceWarning: Liblinear failed to converge, increase the number of iterations.\n",
      "  \"the number of iterations.\", ConvergenceWarning)\n",
      "/home/joel/anaconda3/envs/mds/lib/python3.7/site-packages/sklearn/svm/base.py:929: ConvergenceWarning: Liblinear failed to converge, increase the number of iterations.\n",
      "  \"the number of iterations.\", ConvergenceWarning)\n",
      "/home/joel/anaconda3/envs/mds/lib/python3.7/site-packages/sklearn/svm/base.py:929: ConvergenceWarning: Liblinear failed to converge, increase the number of iterations.\n",
      "  \"the number of iterations.\", ConvergenceWarning)\n",
      "/home/joel/anaconda3/envs/mds/lib/python3.7/site-packages/sklearn/svm/base.py:929: ConvergenceWarning: Liblinear failed to converge, increase the number of iterations.\n",
      "  \"the number of iterations.\", ConvergenceWarning)\n",
      "/home/joel/anaconda3/envs/mds/lib/python3.7/site-packages/sklearn/svm/base.py:929: ConvergenceWarning: Liblinear failed to converge, increase the number of iterations.\n",
      "  \"the number of iterations.\", ConvergenceWarning)\n",
      "/home/joel/anaconda3/envs/mds/lib/python3.7/site-packages/sklearn/svm/base.py:929: ConvergenceWarning: Liblinear failed to converge, increase the number of iterations.\n",
      "  \"the number of iterations.\", ConvergenceWarning)\n",
      "/home/joel/anaconda3/envs/mds/lib/python3.7/site-packages/sklearn/svm/base.py:929: ConvergenceWarning: Liblinear failed to converge, increase the number of iterations.\n",
      "  \"the number of iterations.\", ConvergenceWarning)\n",
      "/home/joel/anaconda3/envs/mds/lib/python3.7/site-packages/sklearn/svm/base.py:929: ConvergenceWarning: Liblinear failed to converge, increase the number of iterations.\n",
      "  \"the number of iterations.\", ConvergenceWarning)\n",
      "/home/joel/anaconda3/envs/mds/lib/python3.7/site-packages/sklearn/svm/base.py:929: ConvergenceWarning: Liblinear failed to converge, increase the number of iterations.\n",
      "  \"the number of iterations.\", ConvergenceWarning)\n",
      "/home/joel/anaconda3/envs/mds/lib/python3.7/site-packages/sklearn/svm/base.py:929: ConvergenceWarning: Liblinear failed to converge, increase the number of iterations.\n",
      "  \"the number of iterations.\", ConvergenceWarning)\n",
      "/home/joel/anaconda3/envs/mds/lib/python3.7/site-packages/sklearn/svm/base.py:929: ConvergenceWarning: Liblinear failed to converge, increase the number of iterations.\n",
      "  \"the number of iterations.\", ConvergenceWarning)\n",
      "/home/joel/anaconda3/envs/mds/lib/python3.7/site-packages/sklearn/svm/base.py:929: ConvergenceWarning: Liblinear failed to converge, increase the number of iterations.\n",
      "  \"the number of iterations.\", ConvergenceWarning)\n",
      "/home/joel/anaconda3/envs/mds/lib/python3.7/site-packages/sklearn/svm/base.py:929: ConvergenceWarning: Liblinear failed to converge, increase the number of iterations.\n",
      "  \"the number of iterations.\", ConvergenceWarning)\n",
      "/home/joel/anaconda3/envs/mds/lib/python3.7/site-packages/sklearn/svm/base.py:929: ConvergenceWarning: Liblinear failed to converge, increase the number of iterations.\n",
      "  \"the number of iterations.\", ConvergenceWarning)\n"
     ]
    },
    {
     "data": {
      "text/plain": [
       "GridSearchCV(cv=5, error_score='raise-deprecating',\n",
       "             estimator=Pipeline(memory=None,\n",
       "                                steps=[('scaler',\n",
       "                                        StandardScaler(copy=True,\n",
       "                                                       with_mean=True,\n",
       "                                                       with_std=True)),\n",
       "                                       ('SVC',\n",
       "                                        LinearSVC(C=1.0, class_weight=None,\n",
       "                                                  dual=True, fit_intercept=True,\n",
       "                                                  intercept_scaling=1,\n",
       "                                                  loss='hinge', max_iter=1000,\n",
       "                                                  multi_class='ovr',\n",
       "                                                  penalty='l2',\n",
       "                                                  random_state=None, tol=0.0001,\n",
       "                                                  verbose=0))],\n",
       "                                verbose=False),\n",
       "             iid='warn', n_jobs=None,\n",
       "             param_grid={'SVC__C': [0.01, 0.1, 1, 10, 100, 1000, 10000]},\n",
       "             pre_dispatch='2*n_jobs', refit=True, return_train_score=True,\n",
       "             scoring='roc_auc', verbose=0)"
      ]
     },
     "execution_count": 429,
     "metadata": {},
     "output_type": "execute_result"
    }
   ],
   "source": [
    "# Entrenamiento con el grid\n",
    "linearSVC.fit(X_DUD, y_DUD)"
   ]
  },
  {
   "cell_type": "code",
   "execution_count": 430,
   "metadata": {},
   "outputs": [
    {
     "data": {
      "text/plain": [
       "0.8068181818181818"
      ]
     },
     "execution_count": 430,
     "metadata": {},
     "output_type": "execute_result"
    }
   ],
   "source": [
    "# DEfinimos el rango de parámetros para el parámtro C\n",
    "bestSVC = linearSVC.best_estimator_\n",
    "bestSVC.score(X_train, y_train)"
   ]
  },
  {
   "cell_type": "code",
   "execution_count": 425,
   "metadata": {},
   "outputs": [
    {
     "name": "stderr",
     "output_type": "stream",
     "text": [
      "/home/joel/anaconda3/envs/mds/lib/python3.7/site-packages/sklearn/svm/base.py:929: ConvergenceWarning: Liblinear failed to converge, increase the number of iterations.\n",
      "  \"the number of iterations.\", ConvergenceWarning)\n"
     ]
    },
    {
     "data": {
      "text/plain": [
       "Pipeline(memory=None,\n",
       "         steps=[('scaler',\n",
       "                 StandardScaler(copy=True, with_mean=True, with_std=True)),\n",
       "                ('SVC',\n",
       "                 LinearSVC(C=0.1, class_weight=None, dual=True,\n",
       "                           fit_intercept=True, intercept_scaling=1,\n",
       "                           loss='hinge', max_iter=1000, multi_class='ovr',\n",
       "                           penalty='l2', random_state=None, tol=0.0001,\n",
       "                           verbose=0))],\n",
       "         verbose=False)"
      ]
     },
     "execution_count": 425,
     "metadata": {},
     "output_type": "execute_result"
    }
   ],
   "source": []
  },
  {
   "cell_type": "code",
   "execution_count": 433,
   "metadata": {},
   "outputs": [
    {
     "data": {
      "text/plain": [
       "0.782608695652174"
      ]
     },
     "execution_count": 433,
     "metadata": {},
     "output_type": "execute_result"
    }
   ],
   "source": [
    "bestSVC.score(X_test, y_test)"
   ]
  },
  {
   "cell_type": "code",
   "execution_count": 67,
   "metadata": {},
   "outputs": [],
   "source": [
    "# Split de los sets de entrenamiento y prueba\n",
    "df_vrd_DUD2006 = pd.read_csv(F'./B_DATOS/vs_docking_DUD2006_vs_402_crys_vinardo_8x.csv', index_col=0)\n",
    "y_DUD = pd.Series(df_vrd_DUD2006.Actividad == \"Active\", dtype = int)\n",
    "X_DUD = df_vrd_DUD2006.drop([\"Actividad\"], axis = 1)"
   ]
  },
  {
   "cell_type": "code",
   "execution_count": 68,
   "metadata": {},
   "outputs": [
    {
     "data": {
      "text/plain": [
       "0.9137931034482759"
      ]
     },
     "execution_count": 68,
     "metadata": {},
     "output_type": "execute_result"
    }
   ],
   "source": [
    "bestSVC.score(X_DUD, y_DUD)"
   ]
  },
  {
   "cell_type": "code",
   "execution_count": 69,
   "metadata": {},
   "outputs": [
    {
     "name": "stdout",
     "output_type": "stream",
     "text": [
      "Vinardo 8x: 0.6805622522232937\n"
     ]
    }
   ],
   "source": [
    "pred = bestSVC.predict(X_DUD)\n",
    "print(\"Vinardo 8x:\", roc_auc_score( y_true = y_DUD, y_score = pred ))"
   ]
  },
  {
   "cell_type": "code",
   "execution_count": null,
   "metadata": {},
   "outputs": [],
   "source": []
  },
  {
   "cell_type": "code",
   "execution_count": 368,
   "metadata": {},
   "outputs": [
    {
     "name": "stdout",
     "output_type": "stream",
     "text": [
      "Dimensiones de X: (111, 402)\n",
      "Dimensiones de y: (111,)\n"
     ]
    }
   ],
   "source": [
    "# Primer intento para vinardo a 16x\n",
    "X = df_vinardo_results.drop([\"ActiveInactive\"], axis = 1)\n",
    "y = (df_vinardo_results[\"ActiveInactive\"] == \"Active\").astype(np.float32)\n",
    "\n",
    "print(F'Dimensiones de X: {X.shape}')\n",
    "print(F'Dimensiones de y: {y.shape}')"
   ]
  },
  {
   "cell_type": "code",
   "execution_count": null,
   "metadata": {},
   "outputs": [],
   "source": []
  },
  {
   "cell_type": "code",
   "execution_count": null,
   "metadata": {},
   "outputs": [],
   "source": []
  },
  {
   "cell_type": "markdown",
   "metadata": {},
   "source": [
    "## SVM lineal con las mejores conformaciones\n",
    "Seleccionamos las conformaciones con un AUC en vinardo mayor a 0.75"
   ]
  },
  {
   "cell_type": "code",
   "execution_count": 20,
   "metadata": {},
   "outputs": [
    {
     "ename": "KeyError",
     "evalue": "\"None of [Index(['ActiveInactive1h01', 'ActiveInactive1h07', 'ActiveInactive1ke5',\\n       'ActiveInactive1ke6', 'ActiveInactive1ogu', 'ActiveInactive1oiq',\\n       'ActiveInactive1pxm', 'ActiveInactive1urw', 'ActiveInactive1vyz',\\n       'ActiveInactive2btr', 'ActiveInactive2c4g', 'ActiveInactive2c6o',\\n       'ActiveInactive2iw6', 'ActiveInactive2iw8', 'ActiveInactive2iw9',\\n       'ActiveInactive2r3p', 'ActiveInactive2r64', 'ActiveInactive2vv9',\\n       'ActiveInactive3dog', 'ActiveInactive3ig7', 'ActiveInactive3lfn',\\n       'ActiveInactive3ns9', 'ActiveInactive3qu0', 'ActiveInactive3r9h',\\n       'ActiveInactive3rk9', 'ActiveInactive3s0o', 'ActiveInactive3sqq',\\n       'ActiveInactive3unj', 'ActiveInactive3unk', 'ActiveInactive4bzd',\\n       'ActiveInactive4cfn', 'ActiveInactive4eor', 'ActiveInactive4fkj',\\n       'ActiveInactive4fkq', 'ActiveInactive5if1', 'ActiveInactive5nev',\\n       'ActiveInactive6guf'],\\n      dtype='object')] are in the [columns]\"",
     "output_type": "error",
     "traceback": [
      "\u001b[0;31m---------------------------------------------------------------------------\u001b[0m",
      "\u001b[0;31mKeyError\u001b[0m                                  Traceback (most recent call last)",
      "\u001b[0;32m<ipython-input-20-d86085ab7a25>\u001b[0m in \u001b[0;36m<module>\u001b[0;34m\u001b[0m\n\u001b[1;32m      2\u001b[0m \u001b[0mbest_vinardo_confs\u001b[0m\u001b[0;34m.\u001b[0m\u001b[0mshape\u001b[0m\u001b[0;34m\u001b[0m\u001b[0;34m\u001b[0m\u001b[0m\n\u001b[1;32m      3\u001b[0m \u001b[0;34m\u001b[0m\u001b[0m\n\u001b[0;32m----> 4\u001b[0;31m \u001b[0mdf\u001b[0m \u001b[0;34m=\u001b[0m \u001b[0mdf_vinardo_results\u001b[0m\u001b[0;34m[\u001b[0m\u001b[0;34m[\u001b[0m\u001b[0;34m\"ActiveInactive\"\u001b[0m\u001b[0;34m]\u001b[0m \u001b[0;34m+\u001b[0m \u001b[0mbest_vinardo_confs\u001b[0m\u001b[0;34m]\u001b[0m\u001b[0;34m\u001b[0m\u001b[0;34m\u001b[0m\u001b[0m\n\u001b[0m\u001b[1;32m      5\u001b[0m \u001b[0mX\u001b[0m \u001b[0;34m=\u001b[0m \u001b[0mdf\u001b[0m\u001b[0;34m.\u001b[0m\u001b[0miloc\u001b[0m\u001b[0;34m[\u001b[0m\u001b[0;34m:\u001b[0m\u001b[0;34m,\u001b[0m \u001b[0;36m1\u001b[0m\u001b[0;34m:\u001b[0m\u001b[0;34m]\u001b[0m\u001b[0;34m\u001b[0m\u001b[0;34m\u001b[0m\u001b[0m\n\u001b[1;32m      6\u001b[0m \u001b[0my\u001b[0m \u001b[0;34m=\u001b[0m \u001b[0;34m(\u001b[0m\u001b[0mdf\u001b[0m\u001b[0;34m[\u001b[0m\u001b[0;34m\"ActiveInactive\"\u001b[0m\u001b[0;34m]\u001b[0m \u001b[0;34m==\u001b[0m \u001b[0;34m\"Active\"\u001b[0m\u001b[0;34m)\u001b[0m\u001b[0;34m.\u001b[0m\u001b[0mastype\u001b[0m\u001b[0;34m(\u001b[0m\u001b[0mnp\u001b[0m\u001b[0;34m.\u001b[0m\u001b[0mfloat32\u001b[0m\u001b[0;34m)\u001b[0m\u001b[0;34m\u001b[0m\u001b[0;34m\u001b[0m\u001b[0m\n",
      "\u001b[0;32m~/anaconda3/envs/mds/lib/python3.7/site-packages/pandas/core/frame.py\u001b[0m in \u001b[0;36m__getitem__\u001b[0;34m(self, key)\u001b[0m\n\u001b[1;32m   2999\u001b[0m             \u001b[0;32mif\u001b[0m \u001b[0mis_iterator\u001b[0m\u001b[0;34m(\u001b[0m\u001b[0mkey\u001b[0m\u001b[0;34m)\u001b[0m\u001b[0;34m:\u001b[0m\u001b[0;34m\u001b[0m\u001b[0;34m\u001b[0m\u001b[0m\n\u001b[1;32m   3000\u001b[0m                 \u001b[0mkey\u001b[0m \u001b[0;34m=\u001b[0m \u001b[0mlist\u001b[0m\u001b[0;34m(\u001b[0m\u001b[0mkey\u001b[0m\u001b[0;34m)\u001b[0m\u001b[0;34m\u001b[0m\u001b[0;34m\u001b[0m\u001b[0m\n\u001b[0;32m-> 3001\u001b[0;31m             \u001b[0mindexer\u001b[0m \u001b[0;34m=\u001b[0m \u001b[0mself\u001b[0m\u001b[0;34m.\u001b[0m\u001b[0mloc\u001b[0m\u001b[0;34m.\u001b[0m\u001b[0m_convert_to_indexer\u001b[0m\u001b[0;34m(\u001b[0m\u001b[0mkey\u001b[0m\u001b[0;34m,\u001b[0m \u001b[0maxis\u001b[0m\u001b[0;34m=\u001b[0m\u001b[0;36m1\u001b[0m\u001b[0;34m,\u001b[0m \u001b[0mraise_missing\u001b[0m\u001b[0;34m=\u001b[0m\u001b[0;32mTrue\u001b[0m\u001b[0;34m)\u001b[0m\u001b[0;34m\u001b[0m\u001b[0;34m\u001b[0m\u001b[0m\n\u001b[0m\u001b[1;32m   3002\u001b[0m \u001b[0;34m\u001b[0m\u001b[0m\n\u001b[1;32m   3003\u001b[0m         \u001b[0;31m# take() does not accept boolean indexers\u001b[0m\u001b[0;34m\u001b[0m\u001b[0;34m\u001b[0m\u001b[0;34m\u001b[0m\u001b[0m\n",
      "\u001b[0;32m~/anaconda3/envs/mds/lib/python3.7/site-packages/pandas/core/indexing.py\u001b[0m in \u001b[0;36m_convert_to_indexer\u001b[0;34m(self, obj, axis, is_setter, raise_missing)\u001b[0m\n\u001b[1;32m   1283\u001b[0m                 \u001b[0;31m# When setting, missing keys are not allowed, even with .loc:\u001b[0m\u001b[0;34m\u001b[0m\u001b[0;34m\u001b[0m\u001b[0;34m\u001b[0m\u001b[0m\n\u001b[1;32m   1284\u001b[0m                 \u001b[0mkwargs\u001b[0m \u001b[0;34m=\u001b[0m \u001b[0;34m{\u001b[0m\u001b[0;34m\"raise_missing\"\u001b[0m\u001b[0;34m:\u001b[0m \u001b[0;32mTrue\u001b[0m \u001b[0;32mif\u001b[0m \u001b[0mis_setter\u001b[0m \u001b[0;32melse\u001b[0m \u001b[0mraise_missing\u001b[0m\u001b[0;34m}\u001b[0m\u001b[0;34m\u001b[0m\u001b[0;34m\u001b[0m\u001b[0m\n\u001b[0;32m-> 1285\u001b[0;31m                 \u001b[0;32mreturn\u001b[0m \u001b[0mself\u001b[0m\u001b[0;34m.\u001b[0m\u001b[0m_get_listlike_indexer\u001b[0m\u001b[0;34m(\u001b[0m\u001b[0mobj\u001b[0m\u001b[0;34m,\u001b[0m \u001b[0maxis\u001b[0m\u001b[0;34m,\u001b[0m \u001b[0;34m**\u001b[0m\u001b[0mkwargs\u001b[0m\u001b[0;34m)\u001b[0m\u001b[0;34m[\u001b[0m\u001b[0;36m1\u001b[0m\u001b[0;34m]\u001b[0m\u001b[0;34m\u001b[0m\u001b[0;34m\u001b[0m\u001b[0m\n\u001b[0m\u001b[1;32m   1286\u001b[0m         \u001b[0;32melse\u001b[0m\u001b[0;34m:\u001b[0m\u001b[0;34m\u001b[0m\u001b[0;34m\u001b[0m\u001b[0m\n\u001b[1;32m   1287\u001b[0m             \u001b[0;32mtry\u001b[0m\u001b[0;34m:\u001b[0m\u001b[0;34m\u001b[0m\u001b[0;34m\u001b[0m\u001b[0m\n",
      "\u001b[0;32m~/anaconda3/envs/mds/lib/python3.7/site-packages/pandas/core/indexing.py\u001b[0m in \u001b[0;36m_get_listlike_indexer\u001b[0;34m(self, key, axis, raise_missing)\u001b[0m\n\u001b[1;32m   1090\u001b[0m \u001b[0;34m\u001b[0m\u001b[0m\n\u001b[1;32m   1091\u001b[0m         self._validate_read_indexer(\n\u001b[0;32m-> 1092\u001b[0;31m             \u001b[0mkeyarr\u001b[0m\u001b[0;34m,\u001b[0m \u001b[0mindexer\u001b[0m\u001b[0;34m,\u001b[0m \u001b[0mo\u001b[0m\u001b[0;34m.\u001b[0m\u001b[0m_get_axis_number\u001b[0m\u001b[0;34m(\u001b[0m\u001b[0maxis\u001b[0m\u001b[0;34m)\u001b[0m\u001b[0;34m,\u001b[0m \u001b[0mraise_missing\u001b[0m\u001b[0;34m=\u001b[0m\u001b[0mraise_missing\u001b[0m\u001b[0;34m\u001b[0m\u001b[0;34m\u001b[0m\u001b[0m\n\u001b[0m\u001b[1;32m   1093\u001b[0m         )\n\u001b[1;32m   1094\u001b[0m         \u001b[0;32mreturn\u001b[0m \u001b[0mkeyarr\u001b[0m\u001b[0;34m,\u001b[0m \u001b[0mindexer\u001b[0m\u001b[0;34m\u001b[0m\u001b[0;34m\u001b[0m\u001b[0m\n",
      "\u001b[0;32m~/anaconda3/envs/mds/lib/python3.7/site-packages/pandas/core/indexing.py\u001b[0m in \u001b[0;36m_validate_read_indexer\u001b[0;34m(self, key, indexer, axis, raise_missing)\u001b[0m\n\u001b[1;32m   1175\u001b[0m                 raise KeyError(\n\u001b[1;32m   1176\u001b[0m                     \"None of [{key}] are in the [{axis}]\".format(\n\u001b[0;32m-> 1177\u001b[0;31m                         \u001b[0mkey\u001b[0m\u001b[0;34m=\u001b[0m\u001b[0mkey\u001b[0m\u001b[0;34m,\u001b[0m \u001b[0maxis\u001b[0m\u001b[0;34m=\u001b[0m\u001b[0mself\u001b[0m\u001b[0;34m.\u001b[0m\u001b[0mobj\u001b[0m\u001b[0;34m.\u001b[0m\u001b[0m_get_axis_name\u001b[0m\u001b[0;34m(\u001b[0m\u001b[0maxis\u001b[0m\u001b[0;34m)\u001b[0m\u001b[0;34m\u001b[0m\u001b[0;34m\u001b[0m\u001b[0m\n\u001b[0m\u001b[1;32m   1178\u001b[0m                     )\n\u001b[1;32m   1179\u001b[0m                 )\n",
      "\u001b[0;31mKeyError\u001b[0m: \"None of [Index(['ActiveInactive1h01', 'ActiveInactive1h07', 'ActiveInactive1ke5',\\n       'ActiveInactive1ke6', 'ActiveInactive1ogu', 'ActiveInactive1oiq',\\n       'ActiveInactive1pxm', 'ActiveInactive1urw', 'ActiveInactive1vyz',\\n       'ActiveInactive2btr', 'ActiveInactive2c4g', 'ActiveInactive2c6o',\\n       'ActiveInactive2iw6', 'ActiveInactive2iw8', 'ActiveInactive2iw9',\\n       'ActiveInactive2r3p', 'ActiveInactive2r64', 'ActiveInactive2vv9',\\n       'ActiveInactive3dog', 'ActiveInactive3ig7', 'ActiveInactive3lfn',\\n       'ActiveInactive3ns9', 'ActiveInactive3qu0', 'ActiveInactive3r9h',\\n       'ActiveInactive3rk9', 'ActiveInactive3s0o', 'ActiveInactive3sqq',\\n       'ActiveInactive3unj', 'ActiveInactive3unk', 'ActiveInactive4bzd',\\n       'ActiveInactive4cfn', 'ActiveInactive4eor', 'ActiveInactive4fkj',\\n       'ActiveInactive4fkq', 'ActiveInactive5if1', 'ActiveInactive5nev',\\n       'ActiveInactive6guf'],\\n      dtype='object')] are in the [columns]\""
     ]
    }
   ],
   "source": [
    "best_vinardo_confs = df_cdk2_labels[df_cdk2_labels.AUC_vrd_16x >= 0.8].index\n",
    "best_vinardo_confs.shape\n",
    "\n",
    "df = df_vinardo_results[[\"ActiveInactive\"] + best_vinardo_confs] \n",
    "X = df.iloc[:, 1:]\n",
    "y = (df[\"ActiveInactive\"] == \"Active\").astype(np.float32)\n",
    "X.shape"
   ]
  },
  {
   "cell_type": "code",
   "execution_count": null,
   "metadata": {},
   "outputs": [],
   "source": [
    "# Se establece el pipeline para el gridSearch\n",
    "SVCpipe = Pipeline([\n",
    "        (\"scaler\", StandardScaler()),\n",
    "        (\"SVC\", LinearSVC(loss = 'hinge', max_iter = 10000))\n",
    "    ])\n",
    "\n",
    "parametros = {'SVC__C': [10**i for i in range(-2, 5)]}\n",
    "print(\"C:\", parametros[\"SVC__C\"])\n",
    "\n",
    "# Grid par CV\n",
    "linearSVC = GridSearchCV(SVCpipe, parametros, cv = 5, return_train_score = True)\n",
    "\n",
    "# split \n",
    "X_train, X_test, y_train, y_test = train_test_split(X, y, test_size = 0.2, random_state = 0, stratify = y)\n",
    "linearSVC.fit(X_train, y_train)"
   ]
  },
  {
   "cell_type": "markdown",
   "metadata": {},
   "source": [
    "## Intento con Vina (peor desempeño que vinardo)"
   ]
  },
  {
   "cell_type": "code",
   "execution_count": null,
   "metadata": {},
   "outputs": [],
   "source": [
    "# Primer intento para vinardo\n",
    "df = df_vina_results\n",
    "X = df.iloc[:, 1:]\n",
    "y = (df[\"ActiveInactive\"] == \"Active\").astype(np.float32)\n",
    "\n",
    "# Se establece el pipeline para el gridSearch\n",
    "SVCpipe = Pipeline([\n",
    "        (\"scaler\", StandardScaler()),\n",
    "        (\"SVC\", LinearSVC(loss = 'hinge', max_iter = 10000))\n",
    "    ])\n",
    "\n",
    "parametros = {'SVC__C': [10**i for i in range(-2, 5)]}\n",
    "print(\"C:\", parametros[\"SVC__C\"])\n",
    "\n",
    "# Grid par CV\n",
    "linearSVC = GridSearchCV(SVCpipe, parametros, cv = 5, return_train_score = True)\n",
    "\n",
    "# split \n",
    "X_train, X_test, y_train, y_test = train_test_split(X, y, test_size = 0.2, random_state = 0, stratify = y)\n",
    "linearSVC.fit(X_train, y_train)"
   ]
  },
  {
   "cell_type": "code",
   "execution_count": null,
   "metadata": {},
   "outputs": [],
   "source": [
    "# Mejor modelo para vina\n",
    "bestSVC_vina = linearSVC.best_estimator_\n",
    "# Seleccionamos el mejor modelo\n",
    "linearSVC.best_params_"
   ]
  },
  {
   "cell_type": "code",
   "execution_count": null,
   "metadata": {},
   "outputs": [],
   "source": [
    "# Entrenando el mejor modelo nuevamente\n",
    "bestSVC_vina.fit(X_train, y_train)"
   ]
  },
  {
   "cell_type": "code",
   "execution_count": null,
   "metadata": {},
   "outputs": [],
   "source": [
    "# Exactitud Train\n",
    "bestSVC_vina.score(X_train, y_train)"
   ]
  },
  {
   "cell_type": "code",
   "execution_count": null,
   "metadata": {},
   "outputs": [],
   "source": [
    "# Exactitud Test\n",
    "bestSVC.score(X_test, y_test)"
   ]
  },
  {
   "cell_type": "code",
   "execution_count": null,
   "metadata": {},
   "outputs": [],
   "source": []
  }
 ],
 "metadata": {
  "file_extension": ".py",
  "kernelspec": {
   "display_name": "Python 3",
   "language": "python",
   "name": "python3"
  },
  "language_info": {
   "codemirror_mode": {
    "name": "ipython",
    "version": 3
   },
   "file_extension": ".py",
   "mimetype": "text/x-python",
   "name": "python",
   "nbconvert_exporter": "python",
   "pygments_lexer": "ipython3",
   "version": "3.7.4"
  },
  "mimetype": "text/x-python",
  "name": "python",
  "npconvert_exporter": "python",
  "pygments_lexer": "ipython3",
  "version": 3
 },
 "nbformat": 4,
 "nbformat_minor": 2
}
