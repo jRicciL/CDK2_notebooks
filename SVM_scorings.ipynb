{
 "cells": [
  {
   "cell_type": "markdown",
   "metadata": {},
   "source": [
    "# SVM con *scorings*\n",
    "Prueba de SVM con los scorings calculados con:\n",
    "- 111 ligandos\n",
    "    - 27 Activos\n",
    "- 402 Conformaciones de la porteína CDK2\n",
    "    - Conformaciones experimentales\n",
    "- 3 progrmas de acoplamiento molecular"
   ]
  },
  {
   "cell_type": "code",
   "execution_count": 1,
   "metadata": {},
   "outputs": [],
   "source": [
    "import pandas as pd\n",
    "import numpy as np"
   ]
  },
  {
   "cell_type": "markdown",
   "metadata": {},
   "source": [
    "Carga del DataFrame Principal:"
   ]
  },
  {
   "cell_type": "code",
   "execution_count": 2,
   "metadata": {},
   "outputs": [
    {
     "data": {
      "text/html": [
       "<div>\n",
       "<style scoped>\n",
       "    .dataframe tbody tr th:only-of-type {\n",
       "        vertical-align: middle;\n",
       "    }\n",
       "\n",
       "    .dataframe tbody tr th {\n",
       "        vertical-align: top;\n",
       "    }\n",
       "\n",
       "    .dataframe thead th {\n",
       "        text-align: right;\n",
       "    }\n",
       "</style>\n",
       "<table border=\"1\" class=\"dataframe\">\n",
       "  <thead>\n",
       "    <tr style=\"text-align: right;\">\n",
       "      <th></th>\n",
       "      <th>Title</th>\n",
       "      <th>Date</th>\n",
       "      <th>Entities</th>\n",
       "      <th>ChainID</th>\n",
       "      <th>Resolution</th>\n",
       "      <th>Identity</th>\n",
       "      <th>Coverage</th>\n",
       "      <th>NumGaps</th>\n",
       "      <th>GapLen</th>\n",
       "      <th>GapPos</th>\n",
       "      <th>NumLigs</th>\n",
       "      <th>NameLigs</th>\n",
       "      <th>Inhib</th>\n",
       "      <th>Inhib_mass</th>\n",
       "      <th>Labels_conf</th>\n",
       "      <th>AUC_vrd</th>\n",
       "      <th>AUC_vina</th>\n",
       "      <th>AUC_ad4_LC</th>\n",
       "      <th>AUC_ad4_LE</th>\n",
       "    </tr>\n",
       "  </thead>\n",
       "  <tbody>\n",
       "    <tr>\n",
       "      <th>1aq1</th>\n",
       "      <td>human cyclin dependent kinase 2 complexed with...</td>\n",
       "      <td>1997-11-12</td>\n",
       "      <td>1</td>\n",
       "      <td>A</td>\n",
       "      <td>2.0</td>\n",
       "      <td>298</td>\n",
       "      <td>92.953020</td>\n",
       "      <td>2</td>\n",
       "      <td>[8, 13]</td>\n",
       "      <td>[[36, 43], [149, 161]]</td>\n",
       "      <td>1</td>\n",
       "      <td>['STU']</td>\n",
       "      <td>STU</td>\n",
       "      <td>440.0</td>\n",
       "      <td>inact_b</td>\n",
       "      <td>0.730317</td>\n",
       "      <td>0.575339</td>\n",
       "      <td>0.634163</td>\n",
       "      <td>0.572172</td>\n",
       "    </tr>\n",
       "    <tr>\n",
       "      <th>1b38</th>\n",
       "      <td>human cyclin-dependent kinase 2</td>\n",
       "      <td>1998-12-23</td>\n",
       "      <td>1</td>\n",
       "      <td>A</td>\n",
       "      <td>2.0</td>\n",
       "      <td>298</td>\n",
       "      <td>97.315436</td>\n",
       "      <td>1</td>\n",
       "      <td>[8]</td>\n",
       "      <td>[[36, 43]]</td>\n",
       "      <td>3</td>\n",
       "      <td>['ACE', 'ATP', 'MG']</td>\n",
       "      <td>ATP</td>\n",
       "      <td>398.0</td>\n",
       "      <td>inact_a</td>\n",
       "      <td>0.677828</td>\n",
       "      <td>0.546154</td>\n",
       "      <td>0.571946</td>\n",
       "      <td>0.483032</td>\n",
       "    </tr>\n",
       "    <tr>\n",
       "      <th>1b39</th>\n",
       "      <td>human cyclin-dependent kinase 2 phosphorylated...</td>\n",
       "      <td>1998-12-23</td>\n",
       "      <td>1</td>\n",
       "      <td>A</td>\n",
       "      <td>2.1</td>\n",
       "      <td>298</td>\n",
       "      <td>97.315436</td>\n",
       "      <td>1</td>\n",
       "      <td>[8]</td>\n",
       "      <td>[[36, 43]]</td>\n",
       "      <td>3</td>\n",
       "      <td>['ACE', 'ATP', 'MG']</td>\n",
       "      <td>ATP</td>\n",
       "      <td>398.0</td>\n",
       "      <td>inact_a</td>\n",
       "      <td>0.764706</td>\n",
       "      <td>0.580543</td>\n",
       "      <td>0.670814</td>\n",
       "      <td>0.607919</td>\n",
       "    </tr>\n",
       "  </tbody>\n",
       "</table>\n",
       "</div>"
      ],
      "text/plain": [
       "                                                  Title       Date  Entities  \\\n",
       "1aq1  human cyclin dependent kinase 2 complexed with... 1997-11-12         1   \n",
       "1b38                    human cyclin-dependent kinase 2 1998-12-23         1   \n",
       "1b39  human cyclin-dependent kinase 2 phosphorylated... 1998-12-23         1   \n",
       "\n",
       "     ChainID  Resolution  Identity   Coverage  NumGaps   GapLen  \\\n",
       "1aq1       A         2.0       298  92.953020        2  [8, 13]   \n",
       "1b38       A         2.0       298  97.315436        1      [8]   \n",
       "1b39       A         2.1       298  97.315436        1      [8]   \n",
       "\n",
       "                      GapPos  NumLigs              NameLigs Inhib Inhib_mass  \\\n",
       "1aq1  [[36, 43], [149, 161]]        1               ['STU']   STU      440.0   \n",
       "1b38              [[36, 43]]        3  ['ACE', 'ATP', 'MG']   ATP      398.0   \n",
       "1b39              [[36, 43]]        3  ['ACE', 'ATP', 'MG']   ATP      398.0   \n",
       "\n",
       "     Labels_conf   AUC_vrd  AUC_vina  AUC_ad4_LC  AUC_ad4_LE  \n",
       "1aq1     inact_b  0.730317  0.575339    0.634163    0.572172  \n",
       "1b38     inact_a  0.677828  0.546154    0.571946    0.483032  \n",
       "1b39     inact_a  0.764706  0.580543    0.670814    0.607919  "
      ]
     },
     "execution_count": 2,
     "metadata": {},
     "output_type": "execute_result"
    }
   ],
   "source": [
    "data_dir = './B_DATOS'\n",
    "df_cdk2_labels = pd.read_json(F\"{data_dir}/TABLA_MTDATA_CDK2_402_crys_LIGS_INFO_LABELS_AUC_docking.json\")\n",
    "df_cdk2_labels.head(3)"
   ]
  },
  {
   "cell_type": "markdown",
   "metadata": {},
   "source": [
    "Carga de los dataframes con los mejores scores de las proteínas para cada programa de *docking*."
   ]
  },
  {
   "cell_type": "code",
   "execution_count": 3,
   "metadata": {},
   "outputs": [],
   "source": [
    "# Autodock 4. LE (lowest energy), LC (largest Cluster)\n",
    "df_ad4_results_LE = pd.read_csv(F'{data_dir}/vs_docking_crys_ensemble_AD4_LE.csv', index_col=0)\n",
    "df_ad4_results_LC = pd.read_csv(F'{data_dir}/vs_docking_crys_ensemble_AD4_LC.csv', index_col=0)\n",
    "# Autodock Vina\n",
    "df_vina_results = pd.read_csv(F'{data_dir}/vs_docking_crys_ensemble_VINA.csv', index_col=0)\n",
    "# Vinardo scoring\n",
    "df_vinardo_results = pd.read_csv(F'{data_dir}/vs_docking_crys_ensemble_VINARDO.csv', index_col=0)"
   ]
  },
  {
   "cell_type": "code",
   "execution_count": null,
   "metadata": {},
   "outputs": [],
   "source": [
    "# Caso estudio Vinardo\n",
    "# Correlación entre las conformaciones\n",
    "import matplotlib.pyplot as plt\n",
    "import seaborn as sns\n",
    "import pylab\n",
    "sns.set( context = 'talk', style = 'white', palette = \"Set2\", rc={'figure.figsize':(7, 7)})"
   ]
  },
  {
   "cell_type": "code",
   "execution_count": null,
   "metadata": {},
   "outputs": [],
   "source": [
    "corr = df_vinardo_results.corr()\n",
    "\n",
    "f, ax = plt.subplots(figsize=(16, 14))\n",
    "cmap = sns.diverging_palette(220, 10, as_cmap=True)\n",
    "ax = sns.heatmap(corr, cmap=cmap);"
   ]
  },
  {
   "cell_type": "markdown",
   "metadata": {},
   "source": [
    "## SVM Lineal"
   ]
  },
  {
   "cell_type": "code",
   "execution_count": null,
   "metadata": {},
   "outputs": [],
   "source": [
    "from sklearn.pipeline import Pipeline\n",
    "from sklearn.preprocessing import StandardScaler\n",
    "from sklearn.svm import LinearSVC\n",
    "from sklearn.model_selection import train_test_split"
   ]
  },
  {
   "cell_type": "code",
   "execution_count": null,
   "metadata": {},
   "outputs": [],
   "source": [
    "# Primer intento para vinardo\n",
    "X = df_vinardo_results.iloc[:, 1:]\n",
    "y = (df_vinardo_results[\"ActiveInactive\"] == \"Active\").astype(np.float32)"
   ]
  },
  {
   "cell_type": "code",
   "execution_count": null,
   "metadata": {},
   "outputs": [],
   "source": [
    "# Se establece el pipeline para el gridSearch\n",
    "SVCpipe = Pipeline([\n",
    "        (\"scaler\", StandardScaler()),\n",
    "        (\"SVC\", LinearSVC(loss = 'hinge'))\n",
    "    ])"
   ]
  },
  {
   "cell_type": "code",
   "execution_count": null,
   "metadata": {},
   "outputs": [],
   "source": [
    "# DEfinimos el rango de parámetros para el parámtro C\n",
    "parametros = {'SVC__C': [10**i for i in range(-2, 5)]}\n",
    "print(\"C:\", parametros[\"SVC__C\"])"
   ]
  },
  {
   "cell_type": "code",
   "execution_count": null,
   "metadata": {},
   "outputs": [],
   "source": [
    "from sklearn.model_selection import GridSearchCV\n",
    "linearSVC = GridSearchCV(SVCpipe, parametros, cv = 5, return_train_score = True)"
   ]
  },
  {
   "cell_type": "code",
   "execution_count": null,
   "metadata": {},
   "outputs": [],
   "source": [
    "# Split de los sets de entrenamiento y prueba\n",
    "from sklearn.model_selection import train_test_split\n",
    "X_train, X_test, y_train, y_test = train_test_split(X, y, test_size = 0.2, random_state = 0, stratify = y)"
   ]
  },
  {
   "cell_type": "code",
   "execution_count": null,
   "metadata": {},
   "outputs": [],
   "source": [
    "linearSVC.fit(X_train, y_train)"
   ]
  },
  {
   "cell_type": "code",
   "execution_count": null,
   "metadata": {},
   "outputs": [],
   "source": [
    "bestSVC = linearSVC.best_estimator_"
   ]
  },
  {
   "cell_type": "code",
   "execution_count": null,
   "metadata": {},
   "outputs": [],
   "source": [
    "# Seleccionamos el mejor modelo\n",
    "linearSVC.best_params_"
   ]
  },
  {
   "cell_type": "code",
   "execution_count": null,
   "metadata": {},
   "outputs": [],
   "source": [
    "# Evaluamos el mejor score\n",
    "linearSVC.best_score_"
   ]
  },
  {
   "cell_type": "code",
   "execution_count": null,
   "metadata": {},
   "outputs": [],
   "source": [
    "# Entrenando el mejor modelo nuevamente\n",
    "bestSVC.fit(X_train, y_train)"
   ]
  },
  {
   "cell_type": "code",
   "execution_count": null,
   "metadata": {},
   "outputs": [],
   "source": [
    "# Exactitud\n",
    "bestSVC.score(X_train, y_train)"
   ]
  },
  {
   "cell_type": "code",
   "execution_count": null,
   "metadata": {},
   "outputs": [],
   "source": [
    "# Exactitud\n",
    "bestSVC.score(X_test, y_test)"
   ]
  },
  {
   "cell_type": "markdown",
   "metadata": {},
   "source": [
    "## Intento con Vina (peor desempeño que vinardo)"
   ]
  },
  {
   "cell_type": "code",
   "execution_count": null,
   "metadata": {},
   "outputs": [],
   "source": [
    "# Primer intento para vinardo\n",
    "df = df_vina_results\n",
    "X = df.iloc[:, 1:]\n",
    "y = (df[\"ActiveInactive\"] == \"Active\").astype(np.float32)\n",
    "\n",
    "# Se establece el pipeline para el gridSearch\n",
    "SVCpipe = Pipeline([\n",
    "        (\"scaler\", StandardScaler()),\n",
    "        (\"SVC\", LinearSVC(loss = 'hinge', max_iter = 10000))\n",
    "    ])\n",
    "\n",
    "parametros = {'SVC__C': [10**i for i in range(-2, 5)]}\n",
    "print(\"C:\", parametros[\"SVC__C\"])\n",
    "\n",
    "# Grid par CV\n",
    "linearSVC = GridSearchCV(SVCpipe, parametros, cv = 5, return_train_score = True)\n",
    "\n",
    "# split \n",
    "X_train, X_test, y_train, y_test = train_test_split(X, y, test_size = 0.2, random_state = 0, stratify = y)\n",
    "linearSVC.fit(X_train, y_train)"
   ]
  },
  {
   "cell_type": "code",
   "execution_count": 21,
   "metadata": {},
   "outputs": [
    {
     "data": {
      "text/plain": [
       "{'SVC__C': 0.1}"
      ]
     },
     "execution_count": 21,
     "metadata": {},
     "output_type": "execute_result"
    }
   ],
   "source": [
    "# Mejor modelo para vina\n",
    "bestSVC_vina = linearSVC.best_estimator_\n",
    "# Seleccionamos el mejor modelo\n",
    "linearSVC.best_params_"
   ]
  },
  {
   "cell_type": "code",
   "execution_count": 22,
   "metadata": {},
   "outputs": [
    {
     "name": "stderr",
     "output_type": "stream",
     "text": [
      "/home/linuxlite/anaconda3/envs/mds/lib/python3.6/site-packages/sklearn/svm/base.py:929: ConvergenceWarning: Liblinear failed to converge, increase the number of iterations.\n",
      "  \"the number of iterations.\", ConvergenceWarning)\n"
     ]
    },
    {
     "data": {
      "text/plain": [
       "Pipeline(memory=None,\n",
       "         steps=[('scaler',\n",
       "                 StandardScaler(copy=True, with_mean=True, with_std=True)),\n",
       "                ('SVC',\n",
       "                 LinearSVC(C=0.1, class_weight=None, dual=True,\n",
       "                           fit_intercept=True, intercept_scaling=1,\n",
       "                           loss='hinge', max_iter=1000, multi_class='ovr',\n",
       "                           penalty='l2', random_state=None, tol=0.0001,\n",
       "                           verbose=0))],\n",
       "         verbose=False)"
      ]
     },
     "execution_count": 22,
     "metadata": {},
     "output_type": "execute_result"
    }
   ],
   "source": [
    "# Entrenando el mejor modelo nuevamente\n",
    "bestSVC_vina.fit(X_train, y_train)"
   ]
  },
  {
   "cell_type": "code",
   "execution_count": 24,
   "metadata": {},
   "outputs": [
    {
     "data": {
      "text/plain": [
       "1.0"
      ]
     },
     "execution_count": 24,
     "metadata": {},
     "output_type": "execute_result"
    }
   ],
   "source": [
    "# Exactitud Train\n",
    "bestSVC_vina.score(X_train, y_train)"
   ]
  },
  {
   "cell_type": "code",
   "execution_count": 26,
   "metadata": {},
   "outputs": [
    {
     "data": {
      "text/plain": [
       "0.8260869565217391"
      ]
     },
     "execution_count": 26,
     "metadata": {},
     "output_type": "execute_result"
    }
   ],
   "source": [
    "# Exactitud Test\n",
    "bestSVC.score(X_test, y_test)"
   ]
  }
 ],
 "metadata": {
  "file_extension": ".py",
  "kernelspec": {
   "display_name": "Python 3",
   "language": "python",
   "name": "python3"
  },
  "language_info": {
   "codemirror_mode": {
    "name": "ipython",
    "version": 3
   },
   "file_extension": ".py",
   "mimetype": "text/x-python",
   "name": "python",
   "nbconvert_exporter": "python",
   "pygments_lexer": "ipython3",
   "version": "3.7.4"
  },
  "mimetype": "text/x-python",
  "name": "python",
  "npconvert_exporter": "python",
  "pygments_lexer": "ipython3",
  "version": 3
 },
 "nbformat": 4,
 "nbformat_minor": 2
}
