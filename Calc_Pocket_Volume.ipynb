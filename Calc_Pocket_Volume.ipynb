{
 "cells": [
  {
   "cell_type": "markdown",
   "metadata": {},
   "source": [
    "# Cálculo del volumen del *Pocket*\n",
    "## Preparativos para usar POVME\n",
    "Esta libreta permite preparar los archivos y describir los pasos necesarios para ejecutar POVME y así calcular el Volumen del pocket de una proteína."
   ]
  },
  {
   "cell_type": "code",
   "execution_count": 38,
   "metadata": {},
   "outputs": [],
   "source": [
    "from prody import *\n",
    "from pylab import *\n",
    "import numpy as np\n",
    "from pathlib import Path\n",
    "import pandas as pd"
   ]
  },
  {
   "cell_type": "markdown",
   "metadata": {},
   "source": [
    "### Lista de archivos PDBs que conformarán el ensamble\n",
    "Cargamos la lista de archivos que conformarán el ensamble de cristales de la proteína CDK2, así como la lista de pdb IDs que les corresponden"
   ]
  },
  {
   "cell_type": "code",
   "execution_count": 5,
   "metadata": {},
   "outputs": [
    {
     "data": {
      "text/plain": [
       "['../ARCHIVOS/CRISTALES/PROT_CDK2_PREPARADAS/PREP_ALL_ENSAMBLE/1aq1_ENS.pdb',\n",
       " '../ARCHIVOS/CRISTALES/PROT_CDK2_PREPARADAS/PREP_ALL_ENSAMBLE/1b38_ENS.pdb',\n",
       " '../ARCHIVOS/CRISTALES/PROT_CDK2_PREPARADAS/PREP_ALL_ENSAMBLE/1b39_ENS.pdb',\n",
       " '../ARCHIVOS/CRISTALES/PROT_CDK2_PREPARADAS/PREP_ALL_ENSAMBLE/1buh_ENS.pdb',\n",
       " '../ARCHIVOS/CRISTALES/PROT_CDK2_PREPARADAS/PREP_ALL_ENSAMBLE/1ckp_ENS.pdb']"
      ]
     },
     "execution_count": 5,
     "metadata": {},
     "output_type": "execute_result"
    }
   ],
   "source": [
    "# Genero una lista de archivos disponibles en el directorio de los modelos completos\n",
    "import glob\n",
    "main_PDBS_dir = \"../ARCHIVOS/CRISTALES/PROT_CDK2_PREPARADAS/\"\n",
    "dir_ENS = main_PDBS_dir +  \"PREP_ALL_ENSAMBLE/\" # Hidrógenos agregados sin pka\n",
    "\n",
    "# LISTA DE ARCHIVOS: Es importante generar la lista ORDENADA!!\n",
    "files_pdbs_cdk2_ENS = sorted( glob.glob(dir_ENS + \"*\") )\n",
    "# LISTA DE PDB_IDS: Se obtiene también ordenada\n",
    "pdbS_cdk2_ids = [ Path(pdb_file).stem.rsplit('_', 1)[0] for pdb_file in files_pdbs_cdk2_ENS ]\n",
    "\n",
    "files_pdbs_cdk2_ENS[0:5]"
   ]
  },
  {
   "cell_type": "markdown",
   "metadata": {},
   "source": [
    "### Se cargan los PDBs"
   ]
  },
  {
   "cell_type": "code",
   "execution_count": 8,
   "metadata": {},
   "outputs": [
    {
     "name": "stderr",
     "output_type": "stream",
     "text": [
      "@> 402 PDBs were parsed in 27.76s.                                                                   \n"
     ]
    }
   ],
   "source": [
    "# Carga de los archivos pdb\n",
    "# Obtengo el conjunto de estructuras pdb de CDK2\n",
    "pdbs_cdk2_ENS = parsePDB( *[ pdb for pdb in files_pdbs_cdk2_ENS ])"
   ]
  },
  {
   "cell_type": "markdown",
   "metadata": {},
   "source": [
    "### Se acarga la estructura de referencia 1fin \n",
    "#### y las subsecuecnias Pisani y ricci"
   ]
  },
  {
   "cell_type": "code",
   "execution_count": 6,
   "metadata": {},
   "outputs": [
    {
     "name": "stderr",
     "output_type": "stream",
     "text": [
      "@> 4848 atoms and 1 coordinate set(s) were parsed in 0.22s.\n"
     ]
    }
   ],
   "source": [
    "# Podemos crear ensambles de las proteínas alineando ya sea con Pisani o con el pocket\n",
    "from Funciones.subsecuencias_cdk2 import get_pisani_residues, get_ricci_residues\n",
    "# Estructura de referencia\n",
    "ref_id = '1fin'\n",
    "ens_f_tail = \"_ENS\"\n",
    "ref_strc = parsePDB(dir_ENS + ref_id + ens_f_tail + \".pdb\")\n",
    "# Selecciones para el posterior alineamiento y cálculo del centro del pocket\n",
    "sel_ref_pisani = ref_strc.select(\"ca resnum \" + get_pisani_residues(\"str\"))\n",
    "sel_ref_ricci = ref_strc.select(\"ca resnum \" + get_ricci_residues(\"str\"))"
   ]
  },
  {
   "cell_type": "markdown",
   "metadata": {},
   "source": [
    "### Se crea el ENSAMBLE de 402 estructuras"
   ]
  },
  {
   "cell_type": "code",
   "execution_count": 54,
   "metadata": {},
   "outputs": [],
   "source": [
    "# Coordenadas de la CDK2 de refrencia tomando sólo los residuos de Pisiani\n",
    "ens_cdk2 = PDBEnsemble(\"Ensamble CDK2 402 estructuras\")\n",
    "# Átomos de referencia\n",
    "ens_cdk2.setAtoms( ref_strc )\n",
    "# Coordenadas de referencia\n",
    "ens_cdk2.setCoords( ref_strc.getCoords() )\n",
    "# Ahora añadimos todas las estructuras al ensamble una a una\n",
    "for structure in pdbs_cdk2_ENS:\n",
    "    ens_cdk2.addCoordset(structure)"
   ]
  },
  {
   "cell_type": "markdown",
   "metadata": {},
   "source": [
    "##### Número de átomos y de etiquetas"
   ]
  },
  {
   "cell_type": "code",
   "execution_count": 55,
   "metadata": {},
   "outputs": [
    {
     "name": "stdout",
     "output_type": "stream",
     "text": [
      "4848\n",
      "402\n",
      "['1aq1_ENS', '1b38_ENS', '1b39_ENS', '1buh_ENS', '1ckp_ENS', '1di8_ENS', '1dm2_ENS', '1e1v_ENS', '1e1x_ENS', '1e9h_ENS']\n"
     ]
    }
   ],
   "source": [
    "print(ens_cdk2.numAtoms())\n",
    "print( len(ens_cdk2.getLabels() ) )\n",
    "print( ens_cdk2.getLabels()[0:10])"
   ]
  },
  {
   "cell_type": "markdown",
   "metadata": {},
   "source": [
    "## Ensamble con PISANI\n",
    "Vamos a comparar dos alineamientos, el de Pisani y el de Ricci al momento de calcular el volument de las cavidades de CDK2.\n",
    "### Alineamiento por CA de los residuos definidos por Pisani"
   ]
  },
  {
   "cell_type": "code",
   "execution_count": 46,
   "metadata": {},
   "outputs": [
    {
     "name": "stderr",
     "output_type": "stream",
     "text": [
      "@> Starting iterative superposition:\n",
      "@> Step #1: RMSD difference = 4.9622e-02\n",
      "@> Step #2: RMSD difference = 1.7996e-04\n",
      "@> Step #3: RMSD difference = 1.1857e-06\n",
      "@> Iterative superposition completed in 1.21s.\n",
      "@> Final superposition to calculate transformations.\n",
      "@> Superposition completed in 0.18 seconds.\n"
     ]
    },
    {
     "data": {
      "image/png": "[encoded data removed]",
      "text/plain": [
       "<Figure size 432x288 with 1 Axes>"
      ]
     },
     "metadata": {
      "needs_background": "light"
     },
     "output_type": "display_data"
    }
   ],
   "source": [
    "# Seleccionamos y alineamos con base en los CA de los residuos de Pisani\n",
    "ens_cdk2.setAtoms( sel_ref_pisani )\n",
    "ens_cdk2.iterpose()\n",
    "# Podemos ver el rmsd entre la sestructuras\n",
    "rmsd_ens_pisani = calcRMSD(ens_cdk2)\n",
    "plot(rmsd_ens_pisani)\n",
    "title(\"RMSD en alineamiento con CA Res Pisani\");"
   ]
  },
  {
   "cell_type": "markdown",
   "metadata": {},
   "source": [
    "### Guardamos el ensamble de  PISANI como PDB y .ens"
   ]
  },
  {
   "cell_type": "code",
   "execution_count": 42,
   "metadata": {},
   "outputs": [
    {
     "data": {
      "text/plain": [
       "'../ARCHIVOS/CRISTALES/PROT_CDK2_PREPARADAS/PRODY_ENSAMBLES/PDB_402_cdk2_PISANI_ALL.pdb'"
      ]
     },
     "execution_count": 42,
     "metadata": {},
     "output_type": "execute_result"
    }
   ],
   "source": [
    "# Guardamos el ensamble\n",
    "# Primero volvemos a INCLUIR TODOS LOS ÁTOMOS!\n",
    "ens_cdk2.setAtoms( ref_strc )\n",
    "# Como archivo de ensamble\n",
    "# saveEnsemble(ens_cdk2, \"../ARCHIVOS/CRISTALES/PROT_CDK2_PREPARADAS/PRODY_ENSAMBLES/\" + \"ENS_402_cdk2_PISANI_ALL\")\n",
    "# Como archivo PDB\n",
    "# writePDB(\"../ARCHIVOS/CRISTALES/PROT_CDK2_PREPARADAS/PRODY_ENSAMBLES/\" + \"PDB_402_cdk2_PISANI_ALL\", ens_cdk2)"
   ]
  },
  {
   "cell_type": "markdown",
   "metadata": {},
   "source": [
    "### Ahora guardamos archivos PDB y .ens con el alineamiento por CA de residuso RICCI"
   ]
  },
  {
   "cell_type": "code",
   "execution_count": 65,
   "metadata": {},
   "outputs": [
    {
     "name": "stderr",
     "output_type": "stream",
     "text": [
      "@> Starting iterative superposition:\n",
      "@> Step #1: RMSD difference = 1.7323e-07\n",
      "@> Iterative superposition completed in 0.45s.\n",
      "@> Final superposition to calculate transformations.\n",
      "@> Superposition completed in 0.14 seconds.\n"
     ]
    },
    {
     "data": {
      "image/png": "[encoded data removed]",
      "text/plain": [
       "<Figure size 432x288 with 1 Axes>"
      ]
     },
     "metadata": {
      "needs_background": "light"
     },
     "output_type": "display_data"
    }
   ],
   "source": [
    "# Seleccionamos y alineamos con base en los CA de los residuos de Pisani\n",
    "ens_cdk2.setAtoms( sel_ref_ricci )\n",
    "ens_cdk2.iterpose()\n",
    "# Primero volvemos a INCLUIR TODOS LOS ÁTOMOS!\n",
    "# ens_cdk2.setAtoms( ref_strc )\n",
    "# Como archivo de ensamble\n",
    "# saveEnsemble(ens_cdk2, \"../ARCHIVOS/CRISTALES/PROT_CDK2_PREPARADAS/PRODY_ENSAMBLES/\" + \"ENS_402_cdk2_RICCIi_ALL\")\n",
    "# Como archivo PDB\n",
    "# writePDB(\"../ARCHIVOS/CRISTALES/PROT_CDK2_PREPARADAS/PRODY_ENSAMBLES/\" + \"PDB_402_cdk2_RICCI_ALL\", ens_cdk2)\n",
    "\n",
    "# Podemos ver el rmsd entre la sestructuras\n",
    "rmsd_ens_ricci = calcRMSD(ens_cdk2)\n",
    "plot(rmsd_ens_ricci)\n",
    "title(\"RMSD en alineamiento con CA Res Ricci\");"
   ]
  },
  {
   "cell_type": "markdown",
   "metadata": {},
   "source": [
    "## Cálculo del centro del pocket\n",
    "Para cada "
   ]
  },
  {
   "cell_type": "code",
   "execution_count": 64,
   "metadata": {},
   "outputs": [
    {
     "name": "stderr",
     "output_type": "stream",
     "text": [
      "@> Starting iterative superposition:\n",
      "@> Step #1: RMSD difference = 5.5038e-02\n",
      "@> Step #2: RMSD difference = 9.5484e-05\n",
      "@> Iterative superposition completed in 0.76s.\n",
      "@> Final superposition to calculate transformations.\n",
      "@> Superposition completed in 0.18 seconds.\n"
     ]
    },
    {
     "data": {
      "text/plain": [
       "array([-12.52025375, 206.41124316, 113.77416799])"
      ]
     },
     "execution_count": 64,
     "metadata": {},
     "output_type": "execute_result"
    }
   ],
   "source": [
    "ens_cdk2.setAtoms( sel_ref_ricci )\n",
    "ens_cdk2.iterpose()\n",
    "# Calculo de la posicion del centro\n",
    "calcCenter(ens_cdk2)"
   ]
  },
  {
   "cell_type": "code",
   "execution_count": 63,
   "metadata": {},
   "outputs": [
    {
     "name": "stderr",
     "output_type": "stream",
     "text": [
      "@> Starting iterative superposition:\n",
      "@> Step #1: RMSD difference = 7.3952e-09\n",
      "@> Iterative superposition completed in 0.43s.\n",
      "@> Final superposition to calculate transformations.\n",
      "@> Superposition completed in 0.14 seconds.\n"
     ]
    },
    {
     "data": {
      "text/plain": [
       "array([-12.52025375, 206.41124316, 113.77416799])"
      ]
     },
     "execution_count": 63,
     "metadata": {},
     "output_type": "execute_result"
    }
   ],
   "source": [
    "ens_cdk2.setAtoms( sel_ref_pisani )\n",
    "ens_cdk2.iterpose()\n",
    "# Calculo de la posicion del centro\n",
    "ens_cdk2.setAtoms( sel_ref_ricci )\n",
    "calcCenter(ens_cdk2)"
   ]
  }
 ],
 "metadata": {
  "kernelspec": {
   "display_name": "Python 3",
   "language": "python",
   "name": "python3"
  },
  "language_info": {
   "codemirror_mode": {
    "name": "ipython",
    "version": 3
   },
   "file_extension": ".py",
   "mimetype": "text/x-python",
   "name": "python",
   "nbconvert_exporter": "python",
   "pygments_lexer": "ipython3",
   "version": "3.6.7"
  }
 },
 "nbformat": 4,
 "nbformat_minor": 2
}
