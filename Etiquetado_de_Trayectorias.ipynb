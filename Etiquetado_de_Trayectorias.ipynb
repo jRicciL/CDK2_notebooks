{
 "cells": [
  {
   "cell_type": "code",
   "execution_count": 1,
   "metadata": {},
   "outputs": [
    {
     "name": "stderr",
     "output_type": "stream",
     "text": [
      "/home/joel/anaconda3/envs/mds/lib/python3.6/importlib/_bootstrap.py:219: RuntimeWarning: numpy.ufunc size changed, may indicate binary incompatibility. Expected 192 from C header, got 216 from PyObject\n",
      "  return f(*args, **kwds)\n"
     ]
    }
   ],
   "source": [
    "import pandas as pd\n",
    "import numpy as np\n",
    "import pytraj as pyt\n",
    "import matplotlib.pyplot as plt\n",
    "from modulos.label_cdk2_confs import label_cdk2_conformations"
   ]
  },
  {
   "cell_type": "code",
   "execution_count": 2,
   "metadata": {},
   "outputs": [],
   "source": [
    "path_dinamicas = \"../ARCHIVOS/DINAMICA/\""
   ]
  },
  {
   "cell_type": "code",
   "execution_count": 3,
   "metadata": {},
   "outputs": [
    {
     "ename": "NameError",
     "evalue": "name 'file_sa_1fin_r1' is not defined",
     "output_type": "error",
     "traceback": [
      "\u001b[0;31m---------------------------------------------------------------------------\u001b[0m",
      "\u001b[0;31mNameError\u001b[0m                                 Traceback (most recent call last)",
      "\u001b[0;32m<timed exec>\u001b[0m in \u001b[0;36m<module>\u001b[0;34m\u001b[0m\n",
      "\u001b[0;31mNameError\u001b[0m: name 'file_sa_1fin_r1' is not defined"
     ]
    }
   ],
   "source": [
    "%%time\n",
    "file_mxs_1fin_r1 = path_dinamicas + \"1fin/mxs_sa/rep_1/\"\n",
    "traj_1fin_SA_r1 = pyt.load(top = file_sa_1fin_r1 + \"sa_dm_1fin.prmtop\",\n",
    "                    filename = file_sa_1fin_r1 + \"4_prod/\" + \"sa_dm_1fin_prod.nc\")"
   ]
  },
  {
   "cell_type": "code",
   "execution_count": 8,
   "metadata": {},
   "outputs": [],
   "source": [
    "label_cdk2_conformations?"
   ]
  },
  {
   "cell_type": "code",
   "execution_count": 27,
   "metadata": {},
   "outputs": [],
   "source": [
    "def generate_traj_labels(top_file, traj_file):\n",
    "    traj = pyt.load(top = top_file, filename = traj_file)\n",
    "    traj_labels = label_cdk2_conformations(traj, min_num_res_helix=8)\n",
    "    return traj_labels"
   ]
  },
  {
   "cell_type": "code",
   "execution_count": 28,
   "metadata": {},
   "outputs": [
    {
     "name": "stdout",
     "output_type": "stream",
     "text": [
      "CPU times: user 1.51 s, sys: 4.8 s, total: 6.32 s\n",
      "Wall time: 6.3 s\n"
     ]
    }
   ],
   "source": [
    "%%time\n",
    "file_lig_4fku_r1 = path_dinamicas + \"4fku/sa_lig_CS262/rep_4/\"\n",
    "traj_labels = generate_traj_labels(top_file=  file_lig_4fku_r1 + \"cdk2_LIG.prmtop\", \n",
    "                            traj_file = file_lig_4fku_r1 + \"4_prod/\" + \"cdk2_LIG_prod.nc\")"
   ]
  },
  {
   "cell_type": "code",
   "execution_count": 29,
   "metadata": {},
   "outputs": [
    {
     "data": {
      "text/plain": [
       "(array(['inact_a', 'inact_b', 'inact_ope'], dtype='<U9'),\n",
       " array([851, 147,   2]))"
      ]
     },
     "execution_count": 29,
     "metadata": {},
     "output_type": "execute_result"
    }
   ],
   "source": [
    "np.unique(traj_labels, return_counts=True)"
   ]
  },
  {
   "cell_type": "code",
   "execution_count": null,
   "metadata": {},
   "outputs": [],
   "source": []
  }
 ],
 "metadata": {
  "kernelspec": {
   "display_name": "Python 3",
   "language": "python",
   "name": "python3"
  },
  "language_info": {
   "codemirror_mode": {
    "name": "ipython",
    "version": 3
   },
   "file_extension": ".py",
   "mimetype": "text/x-python",
   "name": "python",
   "nbconvert_exporter": "python",
   "pygments_lexer": "ipython3",
   "version": "3.6.7"
  }
 },
 "nbformat": 4,
 "nbformat_minor": 2
}
