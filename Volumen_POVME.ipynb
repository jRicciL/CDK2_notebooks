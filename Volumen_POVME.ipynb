{
 "cells": [
  {
   "cell_type": "code",
   "execution_count": null,
   "metadata": {},
   "outputs": [],
   "source": [
    "# TODO: Libreta apra analizar y comprender los resultados btenidos con POVME"
   ]
  },
  {
   "cell_type": "code",
   "execution_count": null,
   "metadata": {},
   "outputs": [],
   "source": []
  },
  {
   "cell_type": "code",
   "execution_count": null,
   "metadata": {},
   "outputs": [],
   "source": [
    "# Directorio donde están guardados los resultados de POVME\n",
    "dir_volumen_results = '../ARCHIVOS/CRISTALES/VOLUMEN/CDK2_VOL_RICCI_402/res_frameInfo/'"
   ]
  },
  {
   "cell_type": "code",
   "execution_count": null,
   "metadata": {},
   "outputs": [],
   "source": [
    "# Resultado povme para un frame (1-index)\n",
    "frame_1_povme = np.load(F'{dir_volumen_results}/res_frame_1.npy')\n",
    "frame_1_povme.shape\n",
    "\n",
    "coordinate_set=set([])\n",
    "\n",
    "# Para un frame el script de povme realiza lo siguiente\n",
    "frame_1_povme_1 = set(tuple(i) for i in frame_1_povme)\n",
    "# frame_1_povme\n",
    "frame_pocket_coordinates_list = frame_1_povme_1\n",
    "# frame_pocket_coordinates_list\n",
    "frame_pocket_coordinates_string_list=[[str(i) for i in j] for j in frame_pocket_coordinates_list]\n",
    "coordinate_set=(frame_1_povme_1 | coordinate_set)\n",
    "\n",
    "coordinate_set"
   ]
  },
  {
   "cell_type": "code",
   "execution_count": null,
   "metadata": {},
   "outputs": [],
   "source": [
    "from mpl_toolkits import mplot3d\n",
    "\n",
    "ax = plt.axes(projection='3d')\n",
    "frame_2_povme = frame_2_povme.T\n",
    "ax.scatter3D(frame_2_povme[0], frame_2_povme[1], frame_2_povme[2], alpha = 0.5)\n",
    "ax.view_init(50, 35)\n",
    "fig;"
   ]
  }
 ],
 "metadata": {
  "kernelspec": {
   "display_name": "Python 3",
   "language": "python",
   "name": "python3"
  },
  "language_info": {
   "codemirror_mode": {
    "name": "ipython",
    "version": 3
   },
   "file_extension": ".py",
   "mimetype": "text/x-python",
   "name": "python",
   "nbconvert_exporter": "python",
   "pygments_lexer": "ipython3",
   "version": "3.7.4"
  }
 },
 "nbformat": 4,
 "nbformat_minor": 2
}
