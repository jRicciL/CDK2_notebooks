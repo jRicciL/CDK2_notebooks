{
 "cells": [
  {
   "cell_type": "code",
   "execution_count": 1,
   "metadata": {},
   "outputs": [],
   "source": [
    "import pandas as pd\n",
    "import numpy as np\n",
    "from glob import glob\n",
    "import sys\n",
    "import os"
   ]
  },
  {
   "cell_type": "code",
   "execution_count": 2,
   "metadata": {},
   "outputs": [],
   "source": [
    "def _get_the_dataframe(dir_path):\n",
    "    list_files = glob(dir_path + '*')\n",
    "    assert list_files\n",
    "    # Sort the values in natural order\n",
    "    list_files.sort(key = lambda x: x.split('/')[-1].split('_')[0])\n",
    "\n",
    "    list_of_dfs = [pd.read_csv(i, index_col='Ligando') for i in list_files]\n",
    "    df = pd.concat(list_of_dfs, axis=1)\n",
    "    df.index.names = ['ligand'] # Rename the index\n",
    "    # Rename columns\n",
    "    df.columns = df.columns.str.strip().str.replace('DkScore_', '') # First strip to remove all white spaces\n",
    "    return df\n",
    "\n",
    "def process_smina_docking_results(dir_path, mol_library, docking_tool, save = True, \n",
    "                                  cocrys_molecules=False, cocrys_pattern=True):\n",
    "    '''\n",
    "    Concatenate a set of csv files with Smina docking results. If the molecules are named as \"ligand_xxx\" and\n",
    "    \"decoy_xxx\", cocrys_molecules parameter should be kept as False.\n",
    "    If cocristalized, the function expects that the ligand name has the following patter: 'pdbi_LIG_XXX'\n",
    "    where lig is the  three letter molecule name.\n",
    "    '''\n",
    "    df = _get_the_dataframe(dir_path)\n",
    "    \n",
    "    if cocrys_molecules:\n",
    "        # Add the Activity column.\n",
    "        df['activity'] = 1 # If cocristalized it'll be assumed as active\n",
    "        # We dont need to sort by numerical ordering, but by ligand name, so extract it\n",
    "        df = df.reset_index()\\\n",
    "                    .sort_values('ligand', ascending = True)\\\n",
    "                    .set_index('ligand')\n",
    "        if cocrys_pattern:\n",
    "            df.index = df.index.map(lambda x: x.split('_')[1])\n",
    "        \n",
    "    else:\n",
    "        # Add the Activity column.\n",
    "        df['activity'] = [1 if 'ligand' in i else 0 for i in df.index ]\n",
    "        # Sort indices by natural ordering\n",
    "        df['order'] = [int(i.split('_')[-1]) for i in df.index]\n",
    "        df = df.reset_index()\\\n",
    "                    .sort_values(['activity', 'order'], ascending=[False, True])\\\n",
    "                    .set_index('ligand')\\\n",
    "                    .drop('order', axis=1)\n",
    "    # Save the dataframe as csv\n",
    "    n_cols = df.shape[1]\n",
    "    m_mols = df.shape[0]\n",
    "    print('Shape of the final df:', df.shape)\n",
    "    if save:\n",
    "        df.to_csv(f'./{mol_library}_{docking_tool}_{n_cols}_prots_{m_mols}_mols.csv')\n",
    "    return df\n"
   ]
  },
  {
   "cell_type": "markdown",
   "metadata": {},
   "source": [
    "#### COCRYSTALIZED MOLECULES"
   ]
  },
  {
   "cell_type": "code",
   "execution_count": 3,
   "metadata": {},
   "outputs": [],
   "source": [
    "# DIR OF FILES\n",
    "mol_library = 'COCRYS'\n",
    "docking_tool = 'VINARDO'\n",
    "# COCRYS_PATH = f'../../ARCHIVOS/CRISTALES/DOKINGS//{mol_library}/{docking_tool}/'\n",
    "\n",
    "# df_cocrys_vrd = process_smina_docking_results(COCRYS_PATH, mol_library, docking_tool, cocrys_molecules=True,\n",
    "#                                              cocrys_pattern=False)\n",
    "\n",
    "# df_cocrys_vrd.head()"
   ]
  },
  {
   "cell_type": "markdown",
   "metadata": {},
   "source": [
    "### DEKOIS \n",
    "#### VINARDO"
   ]
  },
  {
   "cell_type": "code",
   "execution_count": 4,
   "metadata": {},
   "outputs": [
    {
     "name": "stdout",
     "output_type": "stream",
     "text": [
      "Shape of the final df: (1240, 403)\n"
     ]
    }
   ],
   "source": [
    "# DIR OF FILES\n",
    "mol_library = 'DEKOIS'\n",
    "docking_tool = 'VINARDO'\n",
    "DB_PATH = f'../../ARCHIVOS/CRISTALES/DOCKINGS/FXA_LIGANDS_CROSS/{mol_library}/{docking_tool}/'\n",
    "\n",
    "df_dekois_vrd = process_smina_docking_results(DB_PATH, mol_library, docking_tool)"
   ]
  },
  {
   "cell_type": "markdown",
   "metadata": {},
   "source": [
    "### DUD \n",
    "#### VINARDO"
   ]
  },
  {
   "cell_type": "code",
   "execution_count": 5,
   "metadata": {},
   "outputs": [],
   "source": [
    "# DIR OF FILES\n",
    "mol_library = 'DUD'\n",
    "docking_tool = 'VINARDO'\n",
    "# DUD_PATH = f'../../FILES/CRYSTALS/DOKINGS/CDK2_LIGANDS_CROSS/{mol_library}/{docking_tool}/'\n",
    "\n",
    "# df_dud_vrd = process_smina_docking_results(DUD_PATH, mol_library, docking_tool)"
   ]
  }
 ],
 "metadata": {
  "kernelspec": {
   "display_name": "Python 3",
   "language": "python",
   "name": "python3"
  },
  "language_info": {
   "codemirror_mode": {
    "name": "ipython",
    "version": 3
   },
   "file_extension": ".py",
   "mimetype": "text/x-python",
   "name": "python",
   "nbconvert_exporter": "python",
   "pygments_lexer": "ipython3",
   "version": "3.7.6"
  }
 },
 "nbformat": 4,
 "nbformat_minor": 4
}
