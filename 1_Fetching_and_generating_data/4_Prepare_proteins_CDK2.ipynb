{
 "cells": [
  {
   "cell_type": "markdown",
   "metadata": {},
   "source": [
    "# Preparación de Proteínas para Docking y DM\n",
    "Se realiza la preparación final de las proteínas generadas con Modeller, añadiendo átomos faltantes e hidrógenos a las estructuras."
   ]
  },
  {
   "cell_type": "code",
   "execution_count": 1,
   "metadata": {},
   "outputs": [
    {
     "name": "stderr",
     "output_type": "stream",
     "text": [
      "/home/joel/anaconda3/envs/mds/lib/python3.6/importlib/_bootstrap.py:219: RuntimeWarning: numpy.ufunc size changed, may indicate binary incompatibility. Expected 192 from C header, got 216 from PyObject\n",
      "  return f(*args, **kwds)\n"
     ]
    }
   ],
   "source": [
    "import pdb2pqr\n",
    "import pdb4amber\n",
    "import os\n",
    "from pathlib import Path\n",
    "import glob"
   ]
  },
  {
   "cell_type": "markdown",
   "metadata": {},
   "source": [
    "## Se generan las estructuras preparadas \n",
    "### (pdb4amber, reduce, pdb2pqr y propka)\n",
    "La siguiente función recibe como entrada cada una de las estructuras generadas con Modeller (a alas cuales no se le agregaron hidrógenos) y devuelve:\n",
    "- **Archivos ID_ENS.pdb**: La estructura de la proteína con **todos los hidrógenos añadidos**, pero **no optimizados** para los residuos ionizables. Esto implica que todos sus residuos de histidina serán **HIS**. Además, **todas las conformaciones de la proteína tendrán el mismo número de átomos**, y en las mismas posiciones, lo que permitirá crear un ensamble con ellas.\n",
    "- **Archivos ID_PROT.pdb**: Estructura de la proteína con hidrógenos añadidos a un pH = 7, para lo cual se ha usado la herramienta **_reduce_** incluida en AmberTools y **PDB2PQR**. Pueden ser usados como estructura inicial para _docking_ y dinámica molecular.\n",
    "- **Archivos ID_PQR.pdb y ID_PQR.propka**: Archivos resultantes tras la ejecuación de **PDB2PQR** y **propka**."
   ]
  },
  {
   "cell_type": "code",
   "execution_count": 11,
   "metadata": {},
   "outputs": [
    {
     "name": "stdout",
     "output_type": "stream",
     "text": [
      "../ARCHIVOS/CRISTALES/PROT_CDK2_MODELOS_modeller_NoPrep/1aq1_MODLL.pdb\n"
     ]
    }
   ],
   "source": [
    "pdb_list = glob.glob(\"../ARCHIVOS/CRISTALES/PROT_CDK2_MODELOS_modeller_NoPrep/*\")\n",
    "pdb_list.sort()\n",
    "for pdb_file in pdb_list[0:1]:\n",
    "    print(pdb_file)"
   ]
  },
  {
   "cell_type": "code",
   "execution_count": 12,
   "metadata": {},
   "outputs": [
    {
     "name": "stdout",
     "output_type": "stream",
     "text": [
      "../ARCHIVOS/CRISTALES/PROT_CDK2_MODELOS_modeller_NoPrep/1aq1_MODLL.pdb\n"
     ]
    }
   ],
   "source": [
    "# Directorio actual de trabajo\n",
    "cwd = os.getcwd()\n",
    "main_out_dir = \"../ARCHIVOS/CRISTALES/PROT_CDK2_PREPARADAS/\"\n",
    "out_dir_ens = main_out_dir +  \"PREP_ALL_ENSAMBLE/\" # Hidrógenos agregados sin pka\n",
    "out_dir_PREP_PROT = main_out_dir + \"PREP_PH_7/\" # Hidrógenos agregados usando Propka (res ionizables a pH 7)\n",
    "out_dir_pqr = main_out_dir + \"PQR_PKAs/\" # Directorio de pqr\"\n",
    "\n",
    "# Lista de archivos pdb para preparar, originalmente modelos generados con Modeller\n",
    "pdb_list = glob.glob(\"../ARCHIVOS/CRISTALES/PROT_CDK2_MODELOS_modeller_NoPrep/*\")\n",
    "pdb_list.sort()\n",
    "# Sufijos para nombrar los archivos resultantes\n",
    "ens_f_tail = \"_ENS\"\n",
    "prep_f_tail = \"_PROT\"\n",
    "\n",
    "for pdb_file in pdb_list[0:1]:\n",
    "    print(pdb_file)\n",
    "    pdb_id = Path(pdb_file).stem.rsplit('_', 1)[0]\n",
    "    # ENSAMBLE: Añade átomos faltantes, incluyendo Hs\n",
    "    # No toma en cuenta los estados ionizables\n",
    "    ensamble_file = out_dir_ens + pdb_id + ens_f_tail + \".pdb\"\n",
    "    pdb4amber.run(arg_pdbin = pdb_file,\n",
    "                  arg_add_missing_atoms = True, \n",
    "                  arg_pdbout = ensamble_file)\n",
    "    # PROT PREPARADA:\n",
    "    # Ejecuta pdb2pqr para obtener los estados de protonación de los residuos ionizables\n",
    "    pqr_file = out_dir_pqr + pdb_id + \"_PQR.pdb\"\n",
    "    os.system(\"pdb2pqr_cli --ff=amber --with-ph=7.0 --ffout=amber --ph-calc-method=propka --chain \"\n",
    "               + pdb_file + \" \" \n",
    "               + pqr_file )\n",
    "    # Vuelve a ejecutar pdb4amber para generar las PROT con los estados ionizables usando \"--reduce\"\n",
    "    prepared_file = out_dir_PREP_PROT  + pdb_id + prep_f_tail + \".pdb\"\n",
    "    pdb4amber.run(arg_pdbin  = pdb_file,\n",
    "                  arg_reduce = True,\n",
    "                  arg_pdbout = prepared_file )\n",
    "    # Elimina los archivos temporales de pdb4amber\n",
    "    os.system(\"rm \" + out_dir_ens + \"/*\" + ens_f_tail + \"_*\")\n",
    "    os.system(\"rm \" + out_dir_PREP_PROT + \"/*\" + prep_f_tail + \"_*\")"
   ]
  },
  {
   "cell_type": "code",
   "execution_count": 49,
   "metadata": {},
   "outputs": [
    {
     "name": "stderr",
     "output_type": "stream",
     "text": [
      "@> 4848 atoms and 1 coordinate set(s) were parsed in 0.05s.\n",
      "@> 4848 atoms and 1 coordinate set(s) were parsed in 0.05s.\n",
      "@> 4848 atoms and 1 coordinate sets were parsed in 0.02s.\n"
     ]
    },
    {
     "data": {
      "text/plain": [
       "array([121, 125])"
      ]
     },
     "execution_count": 49,
     "metadata": {},
     "output_type": "execute_result"
    }
   ],
   "source": [
    "# Comprobar número de residuos\n",
    "from prody import *\n",
    "pdb_reduce = parsePDB(out_dir_pka  + pdb_id + prep_f_tail + \".pdb\")\n",
    "pdb_ens = parsePDB(out_dir_ens + pdb_id + ens_f_tail + \".pdb\")\n",
    "pdb_pqr = parsePQR(out_dir_pqr + pdb_id + \"_PQR.pdb\")\n",
    "\n",
    "# Número de histidinas\n",
    "len(pdb_ens.select(\"ca resname HIE\"))\n",
    "len(pdb_reduce.select(\"ca resname HIE\"))\n",
    "\n",
    "pdb_reduce.select(\"ca resname HID\").getResnums()"
   ]
  },
  {
   "cell_type": "code",
   "execution_count": null,
   "metadata": {},
   "outputs": [],
   "source": []
  },
  {
   "cell_type": "code",
   "execution_count": null,
   "metadata": {},
   "outputs": [],
   "source": []
  },
  {
   "cell_type": "code",
   "execution_count": null,
   "metadata": {},
   "outputs": [],
   "source": []
  },
  {
   "cell_type": "code",
   "execution_count": null,
   "metadata": {},
   "outputs": [],
   "source": [
    "\n"
   ]
  },
  {
   "cell_type": "code",
   "execution_count": null,
   "metadata": {},
   "outputs": [],
   "source": []
  },
  {
   "cell_type": "code",
   "execution_count": null,
   "metadata": {},
   "outputs": [],
   "source": []
  }
 ],
 "metadata": {
  "kernelspec": {
   "display_name": "Python 3",
   "language": "python",
   "name": "python3"
  },
  "language_info": {
   "codemirror_mode": {
    "name": "ipython",
    "version": 3
   },
   "file_extension": ".py",
   "mimetype": "text/x-python",
   "name": "python",
   "nbconvert_exporter": "python",
   "pygments_lexer": "ipython3",
   "version": "3.6.7"
  }
 },
 "nbformat": 4,
 "nbformat_minor": 2
}
