{
 "cells": [
  {
   "cell_type": "markdown",
   "metadata": {},
   "source": [
    "# Ligandos Cocristalizados para *Cross docking**\n",
    "\n",
    "### Obtención una conformación minimizada de cada ligando cocristalizado con la proteína\n",
    "\n",
    "**Esta libreta tiene como objetivo determinar cuántos ligandos únicos han sido cocristalizados con la proteína en el sitio activo y generar conformaciones minimizadas de dichos ligandos para posteriormente realizar un _cross docking_ con dichas moléculas y todas las conformaciones disponibles de la porteína.**"
   ]
  },
  {
   "cell_type": "markdown",
   "metadata": {},
   "source": [
    "### Importamos las liberías y los datos necesarios"
   ]
  },
  {
   "cell_type": "code",
   "execution_count": 12,
   "metadata": {},
   "outputs": [],
   "source": [
    "import pandas as pd\n",
    "import glob, os"
   ]
  },
  {
   "cell_type": "code",
   "execution_count": 13,
   "metadata": {},
   "outputs": [],
   "source": [
    "# Nombre de la proteina de interes\n",
    "prot_name = 'cdk2'"
   ]
  },
  {
   "cell_type": "markdown",
   "metadata": {},
   "source": [
    "Cargamos el dataFrame con los datos de los ligandos cocristalizados y generamos un conjunto que incluya los ligandos que han sido cocristalizados con la proteína (sin repetir elementos)."
   ]
  },
  {
   "cell_type": "code",
   "execution_count": 20,
   "metadata": {},
   "outputs": [],
   "source": [
    "# Path hacia el archivo\n",
    "patho_to_json_file = glob.glob((os.path.join('..', 'data', \n",
    "                        F'TABLA_MTDATA_{prot_name.upper()}_*_crys_LIGS_INFO.json')))[0]\n",
    "# Cargamos la tabla de datos\n",
    "df_prot_labels = pd.read_json(patho_to_json_file)\n",
    "# Obtenemos el nombre de los ligandos\n",
    "lista_de_ligs_cdk2 = df_prot_labels.Inhib[df_prot_labels.Inhib.notnull()]\n",
    "# Generamos un set para eliminar nombres repetidos\n",
    "ligs_crys_prot = list(set(lista_de_ligs_cdk2))"
   ]
  },
  {
   "cell_type": "code",
   "execution_count": 18,
   "metadata": {},
   "outputs": [
    {
     "name": "stdout",
     "output_type": "stream",
     "text": [
      "Número de ligandos identificados: 315\n"
     ]
    }
   ],
   "source": [
    "print(F'Número de ligandos identificados: {len(ligs_crys_prot)}')"
   ]
  },
  {
   "cell_type": "markdown",
   "metadata": {},
   "source": [
    "## Procesamos los ligandos y generamos los archivos\n",
    "\n",
    "Definición y creación de los directorios de salida:"
   ]
  },
  {
   "cell_type": "code",
   "execution_count": 19,
   "metadata": {},
   "outputs": [],
   "source": [
    "# Creamos el directorio donde guardaremos los ligandos\n",
    "ligs_dir = '../ARCHIVOS/CRISTALES/LIGS_CDK2'\n",
    "input_dir = F'{ligs_dir}/IN_POCKET_NON_PREP'\n",
    "output_dir = F'{ligs_dir}/LIGS_PREP_CROSS_DK_317'\n",
    "\n",
    "# Creamos el directorio de salida\n",
    "import os\n",
    "if not os.path.exists(output_dir):\n",
    "    os.makedirs(output_dir)"
   ]
  },
  {
   "cell_type": "markdown",
   "metadata": {},
   "source": [
    "### Usamos OpenBabel para generar los archivos mol2\n",
    "\n",
    "**Nota:** Tener en cuenta que los archivos *mol2* generados por *babel* no dan conflictos con *prepare_ligand42.py* de ADTools, no obstante sí tienen conflictos con *rdkit*. Así que de ser necesario, generar archivos *sdf* también.\n",
    "\n",
    "**Los ligandos serán generados añadiéndoles hidrógenos a un pH de 7.0 y usando el parámetro --gen3d para obtener una conformación 3D minimizada de los mismos.**\n",
    "\n",
    "#### Gen3D\n",
    "> To illustrate how some of the above methods might be used in practice, consider the gen3d operation. This operation (invoked using --gen3d at the commandline) generates 3D structures for 0D or 2D structures using the following series of steps, all of which have been described above:\n",
    "- Use the OBBuilder to create a 3D structure using rules and fragment templates\n",
    "- Do 250 steps of a steepest descent geometry optimization with the MMFF94 forcefield\n",
    "- Do 200 iterations of a Weighted Rotor conformational search (optimizing each conformer with 25 steps of a steepest descent)\n",
    "- Do 250 steps of a conjugate gradient geometry optimization\n",
    "\n",
    "### Ejecutamos OpenBabel desde este notebook"
   ]
  },
  {
   "cell_type": "code",
   "execution_count": 26,
   "metadata": {},
   "outputs": [
    {
     "name": "stdout",
     "output_type": "stream",
     "text": [
      "1) Procesando JYM...\n",
      "2) Procesando 12Z...\n",
      "3) Procesando N20...\n",
      "4) Procesando LIA...\n",
      "5) Procesando CK2...\n",
      "6) Procesando 4CK...\n",
      "7) Procesando EFQ...\n",
      "8) Procesando 1PU...\n",
      "9) Procesando BLZ...\n",
      "10) Procesando T2A...\n"
     ]
    }
   ],
   "source": [
    "%%bash -s \"$input_dir\" \"$output_dir\" \"{' '.join(ligs_crys_prot)}\" \n",
    "contador=0\n",
    "for i in $3 # Para cada ligando en la lista\n",
    "do \n",
    "contador=$((contador+1))\n",
    "echo ${contador}\\) Procesando ${i}...\n",
    "# Convierte el archivo \n",
    "obabel -ipdb ${1}/*${i}*.pdb -omol2 -O ${2}/${i}.mol2 -c --gen3d -p 7.0\n",
    "done"
   ]
  },
  {
   "cell_type": "markdown",
   "metadata": {},
   "source": [
    "# ¡Terminado!"
   ]
  }
 ],
 "metadata": {
  "kernelspec": {
   "display_name": "Python 3",
   "language": "python",
   "name": "python3"
  },
  "language_info": {
   "codemirror_mode": {
    "name": "ipython",
    "version": 3
   },
   "file_extension": ".py",
   "mimetype": "text/x-python",
   "name": "python",
   "nbconvert_exporter": "python",
   "pygments_lexer": "ipython3",
   "version": "3.7.4"
  }
 },
 "nbformat": 4,
 "nbformat_minor": 2
}
