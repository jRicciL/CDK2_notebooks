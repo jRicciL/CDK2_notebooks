{
 "cells": [
  {
   "cell_type": "markdown",
   "metadata": {},
   "source": [
    "# Descarga de PDBs de la proteína CDK2\n",
    "Esta libreta de Jupiter permite descargar las estructuras cristalográficas disponibles de una proteína dada una secuencia de UniProt, un valor de identidad y un valor de covertura.\n",
    "\n",
    "Como resultado, al final de la ejecución todos los archivos pdb disponibles de la proteína son descargados, generándose tres archivos por cada pdb id:\n",
    "\n",
    "- Archivo en crudo del pdb id (el archivo tal y como se puede descargar del PDB).\n",
    "- Archivo pdb con únicamnete la cadena protéica correspondiente a la proteína de interés.\n",
    "- Archivo pdb con todas las moléculas con la etiqueta HETATM que acompañana a la proteína pudiendo ser moléculas pequeñas, iones o residuos portéicos modificados (las moléculas d eagua son removidas)."
   ]
  },
  {
   "cell_type": "code",
   "execution_count": 3,
   "metadata": {},
   "outputs": [],
   "source": [
    "from prody import *\n",
    "from pylab import *\n",
    "import pickle"
   ]
  },
  {
   "cell_type": "code",
   "execution_count": 1,
   "metadata": {},
   "outputs": [],
   "source": [
    "import sys\n",
    "# Añadimos la ruta del directorio raíz para tener acceso a los archivos y módulos\n",
    "sys.path.append(r'..')"
   ]
  },
  {
   "cell_type": "markdown",
   "metadata": {},
   "source": [
    "## Secuencia de la proteína\n",
    "Se define el nombre de la proteína y su identificador en UNIPROT:"
   ]
  },
  {
   "cell_type": "code",
   "execution_count": 4,
   "metadata": {},
   "outputs": [],
   "source": [
    "# Nombre de la proteina de interes\n",
    "prot_name = 'cdk2'\n",
    "# Secuencia P28482 (ERK2_HUMAN)\n",
    "uniprot_id = \"P24941\""
   ]
  },
  {
   "cell_type": "markdown",
   "metadata": {},
   "source": [
    "Se obtiene la secuencia de la proteína y se guarda en un archivo en la carpeta data:"
   ]
  },
  {
   "cell_type": "code",
   "execution_count": 7,
   "metadata": {},
   "outputs": [
    {
     "name": "stdout",
     "output_type": "stream",
     "text": [
      "MENFQKVEKIGEGTYGVVYKARNKLTGEVVALKKIRLDTETEGVPSTAIREISLLKELNHPNIVKLLDVIHTENKLYLVFEFLHQDLKKFMDASALTGIPLPLIKSYLFQLLQGLAFCHSHRVLHRDLKPQNLLINTEGAIKLADFGLARAFGVPVRTYTHEVVTLWYRAPEILLGCKYYSTAVDIWSLGCIFAEMVTRRALFPGDSEIDQLFRIFRTLGTPDEVVWPGVTSMPDYKPSFPKWARQDFSKVVPPLDEDGRSLLSQMLHYDPNKRISAKAALAHPFFQDVTKPVPHLRL\n",
      "\n",
      "La longitud de la secuancia es: 298 residuos.\n"
     ]
    }
   ],
   "source": [
    "# Secuencia de la CDK2 de UniProt\n",
    "import requests\n",
    "from Bio import SeqIO\n",
    "\n",
    "# Descargamos el fasta de UniProt\n",
    "url_fasta = requests.get(\"https://www.uniprot.org/uniprot/\" + uniprot_id + \".fasta\")\n",
    "file_name_fasta = '../data/' + uniprot_id + '.fasta'\n",
    "open(file_name_fasta, 'wb').write(url_fasta.content)\n",
    "# Leemos la secuenciade aminoácidos\n",
    "fasta_prot = SeqIO.read(open(file_name_fasta),'fasta')\n",
    "seq_prot = str(fasta_prot.seq)\n",
    "print(seq_prot)\n",
    "print(F'\\nLa longitud de la secuancia es: {len(seq_prot)} residuos.')"
   ]
  },
  {
   "cell_type": "markdown",
   "metadata": {},
   "source": [
    "### BLASTp de la secuencia en el PDB\n",
    "Descomentar el código para volver a ejecutar, o en su defecto, recuperar el archivo de blast guardado en el directorio."
   ]
  },
  {
   "cell_type": "code",
   "execution_count": 8,
   "metadata": {},
   "outputs": [
    {
     "name": "stderr",
     "output_type": "stream",
     "text": [
      "@> Blast searching NCBI PDB database for \"MENFQ...\"\n",
      "@> Blast search completed in 9.3s.                  \n"
     ]
    }
   ],
   "source": [
    "# Hacemos un blast\n",
    "blast_record = blastPDB(seq_prot)\n",
    "\n",
    "# Lo guardamos para poder usarlo y no tener que rehacerlo\n",
    "# pickle.dump(blast_record, open('B_DATOS/cdk2_blast_record.pkl', 'wb'))\n",
    "\n",
    "# Para abrirlo:\n",
    "blast_record = pickle.load(open('../data/cdk2_blast_record.pkl', 'rb'))"
   ]
  },
  {
   "cell_type": "markdown",
   "metadata": {},
   "source": [
    "Se obtienen los \"hits\" del BLAST según un valor de identidad especificado. También se obtiene una lista con los identificadores de dichos hits."
   ]
  },
  {
   "cell_type": "code",
   "execution_count": 9,
   "metadata": {},
   "outputs": [
    {
     "name": "stdout",
     "output_type": "stream",
     "text": [
      "Se obtuvo un total de 408 hits con una identidad del 95%\n"
     ]
    }
   ],
   "source": [
    "identidad  = 95\n",
    "pdbids = blast_record.getHits(percent_identity = identidad) # Devuelve un diccionario con cada proteína hit\n",
    "len(pdbids) # 391 proteínas tienen un 95% de identidad con la seucuencia\n",
    "pdbids_list = list(pdbids.keys()) # lista de pdb_ids de las estructuras de CDK2\n",
    "print(F'Se obtuvo un total de {len(pdbids_list)} hits con una identidad del {identidad}%')"
   ]
  },
  {
   "cell_type": "markdown",
   "metadata": {},
   "source": [
    "### Lista de identificadores de los PDB hits\n",
    "Se guarda un archivo csv con todos los identificadores. Descomentar el código para volver a guardar.  "
   ]
  },
  {
   "cell_type": "code",
   "execution_count": 77,
   "metadata": {},
   "outputs": [],
   "source": [
    "# Guarda la lista de PDB IDs de los hits\n",
    "import csv\n",
    "num_pdb_ids = len(pdbids_list); num_pdb_ids\n",
    "with open(F'../data/CDK2_pdb_{str(num_pdb_ids)}_IDs_{uniprot_id}.csv', 'w') as myfile:\n",
    "    wr = csv.writer(myfile, quoting=csv.QUOTE_ALL)\n",
    "    wr.writerow(pdbids_list)"
   ]
  },
  {
   "cell_type": "markdown",
   "metadata": {},
   "source": [
    "## Selección de los residuos usados por Pisani (2016)\n",
    "Para el caso de la proteína CDK2, vamos a utilizar una secuencia de residuos dada por Pisani, *et al.* (2016), la cual corresponde a la mayor parte de las regiones con estructura secundaria de la proteína en la región N-terminal de la misma."
   ]
  },
  {
   "cell_type": "code",
   "execution_count": 7,
   "metadata": {},
   "outputs": [
    {
     "name": "stdout",
     "output_type": "stream",
     "text": [
      "117 residuos corresponden a la secuencia dada por Pisani.\n"
     ]
    }
   ],
   "source": [
    "from modulos.subsecuencias_cdk2 import get_pisani_residues\n",
    "\n",
    "# Se obtiene la lista de residuos, incluida en formato de cadena de texto\n",
    "pisiani_residues = get_pisani_residues('list')\n",
    "pisiani_residues_str = get_pisani_residues('str')\n",
    "open('../data/List_Pisani_residues.txt', 'w').write(pisiani_residues_str)\n",
    "print(len(pisiani_residues), \"residuos corresponden a la secuencia dada por Pisani.\")"
   ]
  },
  {
   "cell_type": "markdown",
   "metadata": {},
   "source": [
    "## Descarga de los archivos PDB\n",
    "El siguiente ciclo descarga cada uno de los archivos PDB de la lista de identificadores PDB.\n",
    "* Descarga el archivo PDB completo\n",
    "* Descarga únicamente la cadena protéica del PDB con mayor identidad a la secuencia de UniProt dada (**Quedan alineadas por Pisani**)\n",
    "* Descarga cualquier ligando asociado a la cadena protéica de mayor identidad."
   ]
  },
  {
   "cell_type": "code",
   "execution_count": null,
   "metadata": {},
   "outputs": [],
   "source": [
    "prot_name = \n",
    "# Directorios\n",
    "DIR_OUT_RAW_PDBS = F'../../ARCHIVOS/CRISTALES/PDB_{prot_name}_RAW_files/'\n",
    "DIR_OUT_PROT_CHAINS = F'../../ARCHIVOS/CRISTALES/PROT_{prot_name}_CHAINS/'\n",
    "DIR_OUT_PROT_LIGS = F'../../ARCHIVOS/CRISTALES/LIGS_{prot_name}/RAW/'\n",
    "\n",
    "# Crea los directorios si no existen\n",
    "import os\n",
    "for dir in [DIR_OUT_RAW_PDBS, DIR_OUT_PROT_CHAINS, DIR_OUT_PROT_LIGS]:\n",
    "    if not os.path.exists(dir):\n",
    "        os.makedirs(dir)"
   ]
  },
  {
   "cell_type": "code",
   "execution_count": null,
   "metadata": {},
   "outputs": [],
   "source": [
    "# Estructura de referencia para alinear los PDBs, se usarán los CA de los átomos definidos por Pisani\n",
    "best_id = blast_record.getBest()['pdb_id']\n",
    "chain_best_id = pdbids[best_id]['chain_id']\n",
    "ref_struct = parsePDB(best_id, \n",
    "                      folder = DIR_OUT_RAW_PDBS).select('protein and chain ' + \n",
    "                                                                 chain_best_id)\n",
    "\n",
    "for pdb_id in pdbids_list:\n",
    "    try:\n",
    "        # Obtiene el id de la cadena correspondiente a la mejor estructura empatada según el BLAST\n",
    "        chain_id = pdbids[pdb_id]['chain_id']\n",
    "        # Obtiene del pdb la estructura y la guarda en el folder\n",
    "        pdb_cry = parsePDB(pdb_id, folder = DIR_OUT_RAW_PDBS)\n",
    "        # Selecciona de la proteína a la cadena que el BLAST indicó\n",
    "        pdb_chain = pdb_cry.select('protein and chain ' + chain_id)\n",
    "        # Realiza el alineamiento usando los residuos de Pisani\n",
    "        pdb_alg = matchAlign(pdb_chain, ref_struct, \n",
    "                             overlap=85, tarsel=F'calpha and resnum {pisiani_residues_str}') \n",
    "        # Retorna un tuple con la estructura alineada en el primer índice\n",
    "        protein = pdb_alg[0]\n",
    "    except Exception as e:\n",
    "        print(e, \"Error al alinear:\", pdb_id)\n",
    "        continue\n",
    "    else:\n",
    "    repr(protein)\n",
    "        if protein: # Si hubo una cadena, la guarda\n",
    "            protein.setChids(\"A\") # fuerza que la cadena sea renombrada a \"A\", para homogenizar\n",
    "            writePDB(DIR_OUT_PROT_CHAINS + pdb_id + '_A.pdb', protein) # Guarda el archivo\n",
    "        # Comprueba si existen ligandos (moléculas no protéicas)\n",
    "        ligand = pdb_cry.select('hetatm')\n",
    "        repr(ligand)\n",
    "        if ligand: # Si hubo un ligando, lo guarda\n",
    "            writePDB(DIR_OUT_PROT_LIGS + pdb_id + '_lig.pdb', ligand)"
   ]
  },
  {
   "cell_type": "markdown",
   "metadata": {},
   "source": [
    "# ¡Terminado!"
   ]
  }
 ],
 "metadata": {
  "kernelspec": {
   "display_name": "Python 3",
   "language": "python",
   "name": "python3"
  },
  "language_info": {
   "codemirror_mode": {
    "name": "ipython",
    "version": 3
   },
   "file_extension": ".py",
   "mimetype": "text/x-python",
   "name": "python",
   "nbconvert_exporter": "python",
   "pygments_lexer": "ipython3",
   "version": "3.7.6"
  }
 },
 "nbformat": 4,
 "nbformat_minor": 2
}
