{
 "cells": [
  {
   "cell_type": "markdown",
   "metadata": {},
   "source": [
    "# Pipeline to prepare ligand files"
   ]
  },
  {
   "cell_type": "code",
   "execution_count": 1,
   "metadata": {},
   "outputs": [],
   "source": [
    "prot_name = 'cdk2'"
   ]
  },
  {
   "cell_type": "code",
   "execution_count": 2,
   "metadata": {},
   "outputs": [],
   "source": [
    "DIR_LIGS = F'../../ARCHIVOS/CRISTALES/LIGS_{prot_name.upper()}'\n",
    "dir_inputs = F'{DIR_LIGS}/IN_POCKET_NON_PREP/'\n",
    "dir_outputs_sdf = F'{DIR_LIGS}/POCKET_LIGS_PREP_SDF/'\n",
    "dir_outputs_mol2 = F'{DIR_LIGS}/POCKET_LIGS_PREP_MOL2/'"
   ]
  },
  {
   "cell_type": "markdown",
   "metadata": {},
   "source": [
    "### Primer paso: creamos los directorios de salida"
   ]
  },
  {
   "cell_type": "code",
   "execution_count": 3,
   "metadata": {},
   "outputs": [
    {
     "name": "stdout",
     "output_type": "stream",
     "text": [
      "../../ARCHIVOS/CRISTALES/LIGS_CDK2/POCKET_LIGS_PREP_MOL2/\n",
      "../../ARCHIVOS/CRISTALES/LIGS_CDK2/POCKET_LIGS_PREP_SDF/\n"
     ]
    }
   ],
   "source": [
    "import os\n",
    "for i in [dir_outputs_mol2, dir_outputs_sdf]:\n",
    "    print(i)\n",
    "    if not os.path.exists(i):\n",
    "        os.makedirs(i)\n",
    "        print('Creado...')"
   ]
  },
  {
   "cell_type": "markdown",
   "metadata": {},
   "source": [
    "### Segundo paso:\n",
    "\n",
    "### Formato de las moléculas\n",
    "\n",
    "<div style='background-color: #F5A566; padding: 5px 12px;'>Antes de cargar las moléculas, debemos convertirlas a un formato que sea correctamente leído con rdkit.</div>\n",
    "\n",
    "<br>\n",
    "<div class='bg-info' style='padding: 10px;'>\n",
    "Por lo que se ha analizado hasta ahora, <span style='font-weight: bold;'> desde un archivo mol2 no funcionará</span>  si la molécula tiene ciclos que no siguen el estándar de corina ('C.ar' o 'N.ar'), u oxígenos unidos a fósforo debido a que rdkit no reconoce los Oxígenos O.c2 en archivos mol2 generados por babel o Chimera (formatos distintos al estándar 'corina' que sigue rdkit).<br>El problema no parece poder resolverse sustituyendo, por ejemplo, 'C.ar' por 'C.2', pues manualmente hay que elegir qué átomos deben tener un enlace <i>sp2</i> (C=C) o sp3 (C-C) dentro del ciclo.<a src='https://sourceforge.net/p/rdkit/mailman/message/28665746/'>Fuente</a>.\n",
    "</div>\n",
    "\n",
    "\n",
    "**Para ello en necesario considerar lo siguiente:**\n",
    "\n",
    "Para usar rdkit, los archivos pueden ser leídos a partir de dos fuentes:\n",
    "1. **`sdf` desde un pdb:** Desde un archivo pdb sin Hs, usando: `obabel -ipdb file.pdb -osdf file.sdf -p 7.4`\n",
    "2. **`sdf` desde uel mol2:** Desde el archivo mol2 generado con `Chimera` que ya ha sido protonado con este mismo programa, usando: `obabel -imol2 file.mol2 -osdf file.sdf`. Es importante no usar el parámetro `-p`.\n",
    "\n",
    "### Generamos los archivos .mol2 de las moléculas empleando UCSF Chimera\n",
    "\n",
    "En algunas ocasiones ha resultado más conveniente generar las moléculas con hidrógenos utilizando UCSF Chimera (al menos cuando se espera que sea a pH neutro). Para ello usar el siguiente script llamado `chim_addh.py``:\n",
    "\n",
    "```python\n",
    "from chimera import runCommand as rc\n",
    "\n",
    "from os import chdir, listdir\n",
    "chdir(\"path/to/the/pdb_molecules/dir\") \n",
    "\n",
    "for m in listdir('.'):\n",
    "\trc('open ' + m)\n",
    "\trc(\"addh\")\n",
    "\trc('write format mol2 0 ' + m[:-4] + '.mol2')\n",
    "\trc('close all')\n",
    "```\n",
    "\n",
    "Y se ejecuta con el siguiente comando desde la terminal:\n",
    "\n",
    "`chimera --nogui chim_addh.py`\n",
    "\n",
    "Nota: chimera debe estar en el path, de otro modo hay que ejecutar el script añadiendo la dirección absoluta hacia el ejecutable de chimera."
   ]
  },
  {
   "cell_type": "markdown",
   "metadata": {},
   "source": [
    "### Creamos el script en el directorio actual:\n",
    "La siguiente celda crea el script mencionado arriba."
   ]
  },
  {
   "cell_type": "code",
   "execution_count": 4,
   "metadata": {},
   "outputs": [],
   "source": [
    "with open('chim_addh.py', 'w') as f:\n",
    "    f.write(F'''\n",
    "from chimera import runCommand as rc\n",
    "\n",
    "from os import chdir, listdir\n",
    "chdir(\"{dir_inputs}\") \n",
    "\n",
    "for m in listdir('.'):\n",
    "    rc('open ' + m)\n",
    "    rc(\"addh\")\n",
    "    rc('write format mol2 0 ' + m[:-4] + '.mol2')\n",
    "    rc('close all')    \n",
    "    ''')"
   ]
  },
  {
   "cell_type": "markdown",
   "metadata": {},
   "source": [
    "### Ejecutamos el script con UCSF Chimera"
   ]
  },
  {
   "cell_type": "code",
   "execution_count": null,
   "metadata": {},
   "outputs": [],
   "source": [
    "%%bash -s $dir_inputs $dir_outputs_mol2\n",
    "# Ruta al aejecutable de chimera\n",
    "chimera='/home/joel/.local/UCSF-Chimera64-1.14rc/bin/chimera'\n",
    "\n",
    "$chimera --nogui chim_addh.py\n",
    "wait\n",
    "## Ahora movemos los archivos mol2 a la carpeta correspondiente\n",
    "mv $1/*.mol2 $2"
   ]
  },
  {
   "cell_type": "markdown",
   "metadata": {},
   "source": [
    "Como resultado tendríamos las moléculas mol2 en su carpeta correspondiente. el siguiente paso es usar babel, para generar los archivos *sdf*."
   ]
  },
  {
   "cell_type": "markdown",
   "metadata": {},
   "source": [
    "### Usamos OpenBabel para generar los archivos sdf (para usar con rdkit)\n",
    "\n",
    "\n",
    "Los archivos pueden ser leídos a partir de dos fuentes:\n",
    "1. **`sdf` desde un pdb:** Desde un archivo pdb sin Hs, usando: `obabel -ipdb file.pdb -osdf file.sdf -p 7.4`\n",
    "2. **`sdf` desde uel mol2:** Desde el archivo mol2 generado con `Chimera` que ya ha sido protonado con este mismo programa, usando: `obabel -imol2 file.mol2 -osdf file.sdf`. Es importante no usar el parámetro `-p`\n",
    "\n",
    "```bash\n",
    "# Usamos obabel \n",
    "cd \"../ARCHIVOS/CRISTALES/LIGS_CDK2/IN_POCKET_NON_PREP\"\n",
    "for mol in `ls *pdb`\n",
    "do \n",
    "    name=${mol%.*}\n",
    "    # Directamente desde el archivo pdb sin Hs\n",
    "    obabel -ipdb $mol -osdf -O ${name}_from_pdb.sdf -p 7.4 # Añade Hs a ph fisiológico\n",
    "done\n",
    "\n",
    "mv *sdf ../LIGS_POSES_SDF/\n",
    "\n",
    "cd \"../LIGS_PREP_IN_POCKET\"\n",
    "for mol in `ls *mol2`\n",
    "do \n",
    "    name=${mol%.*}\n",
    "    # directamente desde el archivo mol2 generado con chimera y sin el parámetro -p\n",
    "    obabel -imol2 $mol -osdf -O ${name}_from_mol2.sdf\n",
    "done\n",
    "\n",
    "mv *sdf ../LIGS_POSES_SDF/\n",
    "```"
   ]
  },
  {
   "cell_type": "markdown",
   "metadata": {},
   "source": [
    "### Ejecutamos obabel"
   ]
  },
  {
   "cell_type": "code",
   "execution_count": 9,
   "metadata": {},
   "outputs": [],
   "source": [
    "mol2_dir = dir_outputs_mol2.split('/')[-2]\n",
    "sdf_dir = dir_outputs_sdf.split('/')[-2]"
   ]
  },
  {
   "cell_type": "code",
   "execution_count": null,
   "metadata": {},
   "outputs": [],
   "source": [
    "%%bash -s $dir_inputs $sdf_dir $mol2_dir\n",
    "cd $1\n",
    "for mol in `ls *pdb`\n",
    "do \n",
    "    name=${mol%.*}\n",
    "    # Directamente desde el archivo pdb sin Hs\n",
    "    obabel -ipdb $mol -osdf -O ${name}_from_pdb.sdf -p 7.4 # Añade Hs a ph fisiológico\n",
    "done\n",
    "# Mueve los archivos al directorio de sdfs\n",
    "mv *.sdf ../$2\n",
    "\n",
    "# Nos movemos al directorio con archivos mol2\n",
    "cd ../$3\n",
    "for mol in `ls *mol2`\n",
    "do \n",
    "    name=${mol%.*}\n",
    "    # directamente desde el archivo mol2 generado con chimera y sin el parámetro -p\n",
    "    obabel -imol2 $mol -osdf -O ${name}_from_mol2.sdf\n",
    "done\n",
    "# Mueve los archivos al directorio de sdfs\n",
    "mv *.sdf ../$2"
   ]
  },
  {
   "cell_type": "markdown",
   "metadata": {},
   "source": [
    "Cuando la molécula provenga desde un archivo *pdbqt* o *pdb* de docking, el proceso para obtener los archivos superiores es primero remover los hidrógenos de la molécula y luego añadirlos con `Chimera` o `babel` (en teoría, antes del docking se habría hecho el mismo proceso para tener el estado de protonación correcto). Finalemente se guardará la molécula en un archivo **`mol2`** que correspoonde al solicitado en el punto #1 de la lista anterior."
   ]
  },
  {
   "cell_type": "markdown",
   "metadata": {},
   "source": [
    "## ¡Terminado!\n",
    "El análisis continúa en el notbooks de cálculo de descriptores con *rdkit*."
   ]
  }
 ],
 "metadata": {
  "kernelspec": {
   "display_name": "Python 3",
   "language": "python",
   "name": "python3"
  },
  "language_info": {
   "codemirror_mode": {
    "name": "ipython",
    "version": 3
   },
   "file_extension": ".py",
   "mimetype": "text/x-python",
   "name": "python",
   "nbconvert_exporter": "python",
   "pygments_lexer": "ipython3",
   "version": "3.7.6"
  }
 },
 "nbformat": 4,
 "nbformat_minor": 2
}
