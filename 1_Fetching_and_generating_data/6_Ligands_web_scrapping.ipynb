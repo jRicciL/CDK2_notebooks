{
 "cells": [
  {
   "cell_type": "markdown",
   "metadata": {},
   "source": [
    "# Datos y metadatos de los ligandos\n",
    "\n",
    "## Obtención de los datos de los ligandos  cocristalizados con CDK2\n",
    "\n",
    "> Puntos clave de esta libreta:\n",
    "- Se extrae de la tabla de datos principal de la proteína las conformaciones que poseen a algún ligando en el sitio activo.\n",
    "- Se crea un set de moléculas usando identificador PDB de cada molécula (cada molécula es designada con un id de 3 letras).\n",
    "- Se usa el id de cada molécula (LIG) para obtener los datos de la página `http://www.rcsb.org/ligand/LIG`, correspondiente a cada ligando. Con ello obtenemos:\n",
    "    - El smile isomérico de la molécula.\n",
    "    - El InChI\n",
    "    - El InChI Key\n",
    "- Usamos el **InChI** para obtener los datos de cada molécula desde _**PUBCHEM**_ y _**CHEMBL**_.\n",
    "- Guardamos los datos en un diccionario y a su vez lo exportamos a un archivo pinckle."
   ]
  },
  {
   "cell_type": "markdown",
   "metadata": {},
   "source": [
    "## Cargamos los datos de la tabla principal"
   ]
  },
  {
   "cell_type": "code",
   "execution_count": 1,
   "metadata": {},
   "outputs": [],
   "source": [
    "import pandas as pd\n",
    "import numpy as np\n",
    "import glob"
   ]
  },
  {
   "cell_type": "markdown",
   "metadata": {},
   "source": [
    "Nombre de la proteína:"
   ]
  },
  {
   "cell_type": "code",
   "execution_count": 3,
   "metadata": {},
   "outputs": [],
   "source": [
    "# Nombre de la proteina de interes\n",
    "prot_name = 'cdk2'\n",
    "# Directorio de metadatos\n",
    "DIR_DATA = '../data/'"
   ]
  },
  {
   "cell_type": "markdown",
   "metadata": {},
   "source": [
    "Cargamos el dataframe principal de la proteína:"
   ]
  },
  {
   "cell_type": "code",
   "execution_count": 76,
   "metadata": {},
   "outputs": [
    {
     "data": {
      "text/plain": [
       "(402, 15)"
      ]
     },
     "execution_count": 76,
     "metadata": {},
     "output_type": "execute_result"
    }
   ],
   "source": [
    "# Este es el DF que no tiene aun afgregados los valores AUC de las conformaciones\n",
    "df_prot_labels = pd.read_json(F'{DIR_DATA}/TABLA_MTDATA_{prot_name.upper()}_402_crys_LIGS_INFO_LABELS.json')\n",
    "df_prot_labels.shape"
   ]
  },
  {
   "cell_type": "markdown",
   "metadata": {},
   "source": [
    "## Identificación de los inhibidores\n",
    "### Seleccionamos las conformaciones que posean algun inhibidor"
   ]
  },
  {
   "cell_type": "code",
   "execution_count": 390,
   "metadata": {},
   "outputs": [],
   "source": [
    "filtro_inh = df_prot_labels.Inhib != ''\n",
    "df_ligs_crys = df_prot_labels[filtro_inh]"
   ]
  },
  {
   "cell_type": "code",
   "execution_count": 391,
   "metadata": {},
   "outputs": [
    {
     "data": {
      "text/plain": [
       "(367, 15)"
      ]
     },
     "execution_count": 391,
     "metadata": {},
     "output_type": "execute_result"
    }
   ],
   "source": [
    "# Número total de conformaciones con algún ligando en el sitio activo\n",
    "df_ligs_crys.shape"
   ]
  },
  {
   "cell_type": "markdown",
   "metadata": {},
   "source": [
    "### Identificamos el número de ligandos únicos"
   ]
  },
  {
   "cell_type": "code",
   "execution_count": 397,
   "metadata": {},
   "outputs": [
    {
     "data": {
      "text/plain": [
       "317"
      ]
     },
     "execution_count": 397,
     "metadata": {},
     "output_type": "execute_result"
    }
   ],
   "source": [
    "ligs_crys_prot = set(df_ligs_crys.Inhib)\n",
    "len(ligs_crys_prot)"
   ]
  },
  {
   "cell_type": "markdown",
   "metadata": {},
   "source": [
    "## Comenzamos la obtención de los datos\n",
    "### Web scrapping de los ligandos"
   ]
  },
  {
   "cell_type": "code",
   "execution_count": 393,
   "metadata": {},
   "outputs": [],
   "source": [
    "# Librerías útiles para el web scrapping de los ligandos\n",
    "import urllib.request\n",
    "from bs4 import BeautifulSoup\n",
    "from chembl_webresource_client.new_client import new_client\n",
    "import pubchempy"
   ]
  },
  {
   "cell_type": "code",
   "execution_count": 394,
   "metadata": {},
   "outputs": [],
   "source": [
    "# Url para accesar a la información de los ligandos en el PDB\n",
    "URL_PDB = 'http://www.rcsb.org/ligand'"
   ]
  },
  {
   "cell_type": "markdown",
   "metadata": {},
   "source": [
    "### Obtenemos los datos de cada ligando y los guardamos en un diccionario"
   ]
  },
  {
   "cell_type": "code",
   "execution_count": null,
   "metadata": {},
   "outputs": [],
   "source": [
    "# Generamos un diccionario con los datos de la molécula\n",
    "dic_ligs_crys_prot = {}\n",
    "\n",
    "for ligando in ligs_crys_prot[:\n",
    "    url_lig = F'{URL_PDB}/{ligando}'\n",
    "    print(F'Procesando al ligando: {ligando}\\n')\n",
    "    \n",
    "    # Extraemos los datos del html del ligando:\n",
    "    lig_data = urllib.request.urlopen( url_lig ).read().decode()\n",
    "    \n",
    "    # Extraemos del bsoup los siguientes datos:\n",
    "    # InChIKey\n",
    "    soup = BeautifulSoup(lig_data)\n",
    "    inchi_key = soup.find(\"tr\", {\"id\": \"chemicalInChIKey\"})\n",
    "    inchi_key_str = inchi_key.find('td').text\n",
    "    \n",
    "    # InChI\n",
    "    inchi = soup.find(\"tr\", {\"id\": \"chemicalInChI\"})\n",
    "    inchi_str = inchi.find('td').text\n",
    "    \n",
    "    # isomeric SMILE (por si no se encuentra en la API de PbCh)\n",
    "    smiles = soup.find(\"tr\", {\"id\": \"chemicalIsomeric\"})\n",
    "    smiles_str = smiles.find('td').text\n",
    "    \n",
    "    # Peso molecular\n",
    "    mw = soup.find(\"tr\", {\"id\": \"chemicalMolecularWeight\"})\n",
    "    mw_str = mw.find('td').text\n",
    "    \n",
    "    # Con los datos anteriores usamos la librería para accesar al Chembl\n",
    "    # **** CHEMBL ****\n",
    "    # Procedemos a extraer los datos del Chembl\n",
    "    molecule = new_client.molecule\n",
    "    try:\n",
    "        chblMol_info = molecule.get(inchi_key_str)\n",
    "        chembl_id = chblMol_info['molecule_chembl_id']\n",
    "    except:\n",
    "        print(F'No se pudo obtener infor de CEHMBL: {ligando}')\n",
    "        print(inchi_str + '\\n')\n",
    "        chblMol_info = None\n",
    "        chembl_id = None\n",
    "        \n",
    "    # Ahora obtenemos datos correspondientes a pubchem\n",
    "    # *** PUBCHEM ***\n",
    "    try:\n",
    "        pbch_mol = pubchempy.get_compounds(inchi_str, 'inchi')[0]\n",
    "        pbch_cid = pbch_mol.cid\n",
    "        pbch_data = pbch_mol.to_dict()\n",
    "        canonical_smiles = pbch_mol.canonical_smiles\n",
    "    except:\n",
    "        print(F'Fallo con datos PUBCHEM: {ligando}')\n",
    "        pbch_mol = None\n",
    "        pbch_cid = None\n",
    "        pbch_data = None\n",
    "        canonical_smiles = None\n",
    "    # Creamos la entrada para el diccionario\n",
    "    # Primero el diccionario del ligando\n",
    "    dic_lig = {'inchi_key': inchi_key_str,\n",
    "               'inchi': inchi_str,\n",
    "               'molecular_weight': float(mw_str),\n",
    "               'canonical_smiles': canonical_smiles,\n",
    "               'isomeric_similes': smiles_str,\n",
    "               'chembl_id': chembl_id,\n",
    "               'chembl_data': chblMol_info,\n",
    "               'pubchem_id': pbch_cid,\n",
    "               'pubchem_data': pbch_data,}\n",
    "    \n",
    "    # Anidamos el dict  del ligando al dic principal\n",
    "    dic_ligs_crys_prot[ligando] = dic_lig"
   ]
  },
  {
   "cell_type": "markdown",
   "metadata": {},
   "source": [
    "## Guardamos el set de datos en formato json"
   ]
  },
  {
   "cell_type": "code",
   "execution_count": 1,
   "metadata": {},
   "outputs": [
    {
     "name": "stdout",
     "output_type": "stream",
     "text": [
      "El archivo ya ha sido creado.\n"
     ]
    }
   ],
   "source": [
    "import pickle\n",
    "import os\n",
    "\n",
    "nombre_archivo = './B_DATOS/LIGS_CDK2_crys_pubchem_chembl_data.pkl'\n",
    "if not os.path.exists(nombre_archivo):\n",
    "    with open(nombre_archivo, 'wb') as dic_file:\n",
    "        pickle.dump(dic_ligs_crys_prot, dic_file, protocol=pickle.HIGHEST_PROTOCOL)\n",
    "else:\n",
    "    print(\"El archivo ya ha sido creado.\")"
   ]
  },
  {
   "cell_type": "markdown",
   "metadata": {},
   "source": [
    "### Lectura del del archivo guardado"
   ]
  },
  {
   "cell_type": "code",
   "execution_count": 27,
   "metadata": {},
   "outputs": [],
   "source": [
    "# Lectura del diccionario con pickle\n",
    "nombre_archivo = './B_DATOS/LIGS_CDK2_crys_pubchem_chembl_data.pkl'\n",
    "with open(nombre_archivo, 'rb') as dic_file:\n",
    "    dic_ligs_crys_prot = pickle.load(open(nombre_archivo, 'rb'))"
   ]
  },
  {
   "cell_type": "markdown",
   "metadata": {},
   "source": [
    "# Finalmente:\n",
    "## Uso del diccionario final\n",
    "A modo de ejemplo visualizamos algunos de los datos disponibles en el diccionario:"
   ]
  },
  {
   "cell_type": "code",
   "execution_count": null,
   "metadata": {},
   "outputs": [],
   "source": [
    "import rdkit as rd"
   ]
  },
  {
   "cell_type": "code",
   "execution_count": 334,
   "metadata": {},
   "outputs": [
    {
     "name": "stdout",
     "output_type": "stream",
     "text": [
      "ID Chembl: CHEMBL14249\n",
      "cid Pubchem: 5957\n",
      "Nombre: ADENOSINE TRIPHOSPHATE\n"
     ]
    },
    {
     "data": {
      "image/png": "[encoded data removed]",
      "text/plain": [
       "<rdkit.Chem.rdchem.Mol at 0x7f4981c0d530>"
      ]
     },
     "execution_count": 334,
     "metadata": {},
     "output_type": "execute_result"
    }
   ],
   "source": [
    "# Obtención del un ligando a través de una conformación\n",
    "lig_1aq1 = df_ligs_crys.loc['1fin', 'Inhib']\n",
    "# Imprimimos su nombre y otros datos interesantes\n",
    "lig_1aq1_data = dic_ligs_crys_prot[lig_1aq1]\n",
    "print(F'ID Chembl: {lig_1aq1_data[\"chembl_id\"]}')\n",
    "print(F'cid Pubchem: {lig_1aq1_data[\"pubchem_id\"]}')\n",
    "print(F'Nombre: {lig_1aq1_data[\"chembl_data\"][\"pref_name\"]}')\n",
    "# Obtenemos el smiles canonico\n",
    "lig_1aq1_smiles = dic_ligs_crys_prot[lig_1aq1]['canonical_smiles']\n",
    "# Lo visualizamos con rdkit\n",
    "rd.Chem.MolFromSmiles(lig_1aq1_smiles)"
   ]
  },
  {
   "cell_type": "code",
   "execution_count": 335,
   "metadata": {},
   "outputs": [
    {
     "name": "stdout",
     "output_type": "stream",
     "text": [
      "ID Chembl: CHEMBL388978\n",
      "Cid Pubchem: 44259\n",
      "Nombre: STAUROSPORINE\n"
     ]
    },
    {
     "data": {
      "image/png": "[encoded data removed]",
      "text/plain": [
       "<rdkit.Chem.rdchem.Mol at 0x7f4981c0da80>"
      ]
     },
     "execution_count": 335,
     "metadata": {},
     "output_type": "execute_result"
    }
   ],
   "source": [
    "# Obtención del un ligando a través de una conformación\n",
    "lig_1aq1 = df_ligs_crys.loc['1aq1', 'Inhib']\n",
    "# Imprimimos su nombre y otros datos interesantes\n",
    "lig_1aq1_data = dic_ligs_crys_prot[lig_1aq1]\n",
    "print(F'ID Chembl: {lig_1aq1_data[\"chembl_id\"]}')\n",
    "print(F'Cid Pubchem: {lig_1aq1_data[\"pubchem_id\"]}')\n",
    "print(F'Nombre: {lig_1aq1_data[\"chembl_data\"][\"pref_name\"]}')\n",
    "# Obtenemos el smiles canonico\n",
    "lig_1aq1_smiles = dic_ligs_crys_prot[lig_1aq1]['canonical_smiles']\n",
    "# Lo visualizamos con rdkit\n",
    "rd.Chem.MolFromSmiles(lig_1aq1_smiles)"
   ]
  },
  {
   "cell_type": "code",
   "execution_count": null,
   "metadata": {},
   "outputs": [],
   "source": []
  },
  {
   "cell_type": "markdown",
   "metadata": {},
   "source": [
    "# DUD PRUEBAS"
   ]
  },
  {
   "cell_type": "code",
   "execution_count": 14,
   "metadata": {},
   "outputs": [],
   "source": [
    "import rdkit as rd"
   ]
  },
  {
   "cell_type": "code",
   "execution_count": 15,
   "metadata": {},
   "outputs": [],
   "source": [
    "#Convertir el archivo mol2 a sdf para poserlo parsear con rdkit\n",
    "dud_actives = '../ARCHIVOS/CRISTALES/LIGS_CDK2/DUDE_DECOYS/DUD_2006/dud_ligands2006/cdk2_ligands'"
   ]
  },
  {
   "cell_type": "code",
   "execution_count": 16,
   "metadata": {},
   "outputs": [
    {
     "name": "stderr",
     "output_type": "stream",
     "text": [
      "72 molecules converted\n"
     ]
    }
   ],
   "source": [
    "%%bash -s \"$dud_actives\"\n",
    "obabel -imol2 ${1}.mol2 -osmi -O ${1}.smi"
   ]
  },
  {
   "cell_type": "code",
   "execution_count": 17,
   "metadata": {},
   "outputs": [],
   "source": [
    "a = rd.Chem.SDMolSupplier(dud_actives + '.sdf', False)"
   ]
  },
  {
   "cell_type": "code",
   "execution_count": null,
   "metadata": {},
   "outputs": [],
   "source": []
  },
  {
   "cell_type": "code",
   "execution_count": null,
   "metadata": {},
   "outputs": [],
   "source": []
  },
  {
   "cell_type": "code",
   "execution_count": 18,
   "metadata": {},
   "outputs": [
    {
     "data": {
      "text/plain": [
       "58"
      ]
     },
     "execution_count": 18,
     "metadata": {},
     "output_type": "execute_result"
    }
   ],
   "source": [
    "contador_lineas = 0\n",
    "s = set()\n",
    "with open(F'{dud_actives}.smi', \"r\") as file:\n",
    "    for i, line in enumerate(file):\n",
    "        contador_lineas += 1\n",
    "        s.add(line)\n",
    "contador_lineas\n",
    "len(s)"
   ]
  },
  {
   "cell_type": "code",
   "execution_count": null,
   "metadata": {},
   "outputs": [],
   "source": []
  },
  {
   "cell_type": "code",
   "execution_count": 19,
   "metadata": {},
   "outputs": [],
   "source": [
    "# Extremos del set los smiles\n",
    "dic_dud_mols = {}\n",
    "# ordenamos el set\n",
    "set_ordenado = sorted(s, key = lambda x: int(x.replace('\\n', '').split('ZINC')[1]))\n",
    "for i, string in enumerate(set_ordenado):\n",
    "    split_string = string.replace('\\n', '').split('\\t')\n",
    "    mol_name = F'{i}_{split_string[1]}'\n",
    "    mol_smile = split_string[0]\n",
    "    mol_rdkit = rd.Chem.MolFromSmiles(mol_smile, False)\n",
    "    dic_dud_mols[mol_name] = mol_rdkit"
   ]
  },
  {
   "cell_type": "code",
   "execution_count": 21,
   "metadata": {},
   "outputs": [
    {
     "name": "stderr",
     "output_type": "stream",
     "text": [
      "RDKit ERROR: [21:19:00] Can't kekulize mol.  Unkekulized atoms: 1 2 4 5 6 7 8\n",
      "RDKit ERROR: \n"
     ]
    },
    {
     "data": {
      "image/png": "[encoded data removed]",
      "text/plain": [
       "<rdkit.Chem.rdchem.Mol at 0x7f34f710c710>"
      ]
     },
     "execution_count": 21,
     "metadata": {},
     "output_type": "execute_result"
    }
   ],
   "source": [
    "dic_dud_mols['25_ZINC03814452']"
   ]
  },
  {
   "cell_type": "code",
   "execution_count": 23,
   "metadata": {},
   "outputs": [
    {
     "data": {
      "image/png": "[encoded data removed]",
      "text/plain": [
       "<rdkit.Chem.rdchem.Mol at 0x7f34f710c7b0>"
      ]
     },
     "execution_count": 23,
     "metadata": {},
     "output_type": "execute_result"
    }
   ],
   "source": [
    "dic_dud_mols['26_ZINC03814452']"
   ]
  },
  {
   "cell_type": "code",
   "execution_count": 24,
   "metadata": {},
   "outputs": [
    {
     "data": {
      "text/plain": [
       "True"
      ]
     },
     "execution_count": 24,
     "metadata": {},
     "output_type": "execute_result"
    }
   ],
   "source": [
    "# Un set para ver si hay repetidos en los smiles\n",
    "set_smiles = set()\n",
    "for i in dic_dud_mols:\n",
    "    set_smiles.add(i)\n",
    "    \n",
    "len(set_smiles) == len(dic_dud_mols)"
   ]
  },
  {
   "cell_type": "code",
   "execution_count": 25,
   "metadata": {},
   "outputs": [],
   "source": [
    "# Extraemos los smiles de los activos de DUD\n",
    "dud_smiles_iso = []\n",
    "for key,smi in dic_dud_mols.items():\n",
    "    smi = rd.Chem.MolToSmiles(smi, isomericSmiles=True)\n",
    "    dud_smiles_iso.append( smi )\n",
    "\n",
    "#dud_smiles_iso"
   ]
  },
  {
   "cell_type": "code",
   "execution_count": 28,
   "metadata": {},
   "outputs": [
    {
     "data": {
      "text/plain": [
       "317"
      ]
     },
     "execution_count": 28,
     "metadata": {},
     "output_type": "execute_result"
    }
   ],
   "source": [
    "# Generamos el diccionario de moléculas cocristalizadas \n",
    "dic_crys_mols = {}\n",
    "for key in dic_ligs_crys_prot:\n",
    "    # Usamos el smile isomérico, pues no de todos los ligandos fue posible obtener el canónico\n",
    "    # Debido a que el API de Chembl no está actualizada (moleculas depositadas en 2019 suelen dar error)\n",
    "    # Aunque rdkit, puede proveerlo una vez cargada la molécula\n",
    "    smile = dic_ligs_crys_prot[key]['isomeric_similes']\n",
    "    mol = rd.Chem.MolFromSmiles(smile, False)\n",
    "    dic_crys_mols[key] = mol\n",
    "\n",
    "len(dic_crys_mols )"
   ]
  },
  {
   "cell_type": "code",
   "execution_count": 29,
   "metadata": {},
   "outputs": [],
   "source": [
    "# Extraemos los smiles canónicos de las moléculas cocristalizadas\n",
    "crys_smiles_iso = []\n",
    "for key,smi in dic_crys_mols.items():\n",
    "    smi = rd.Chem.MolToSmiles(smi, isomericSmiles=True )\n",
    "    crys_smiles_iso.append( smi)\n",
    "\n",
    "#crys_smiles_iso"
   ]
  },
  {
   "cell_type": "code",
   "execution_count": null,
   "metadata": {},
   "outputs": [],
   "source": []
  },
  {
   "cell_type": "code",
   "execution_count": 31,
   "metadata": {},
   "outputs": [],
   "source": [
    "from rdkit import DataStructs\n",
    "from rdkit.Chem.Fingerprints import FingerprintMols"
   ]
  },
  {
   "cell_type": "code",
   "execution_count": 32,
   "metadata": {},
   "outputs": [],
   "source": [
    "dic_fps_dud = {i: rd.Chem.RDKFingerprint(j) for i, j in dic_dud_mols.items()}\n",
    "dic_fps_crys = {i: rd.Chem.RDKFingerprint(j) for i, j in dic_crys_mols.items()}"
   ]
  },
  {
   "cell_type": "code",
   "execution_count": null,
   "metadata": {},
   "outputs": [],
   "source": []
  },
  {
   "cell_type": "code",
   "execution_count": 33,
   "metadata": {},
   "outputs": [
    {
     "data": {
      "text/plain": [
       "0.2589105581708137"
      ]
     },
     "execution_count": 33,
     "metadata": {},
     "output_type": "execute_result"
    }
   ],
   "source": [
    "DataStructs.FingerprintSimilarity(dic_fps_dud['0_ZINC00003491'], dic_fps_crys['ATP'])"
   ]
  },
  {
   "cell_type": "code",
   "execution_count": 167,
   "metadata": {},
   "outputs": [
    {
     "name": "stdout",
     "output_type": "stream",
     "text": [
      "1 1_ZINC00023543 CMG 1.0\n",
      "2 7_ZINC00603011 4SP 1.0\n",
      "3 9_ZINC01641925 OLO 1.0\n",
      "4 10_ZINC01649340 RRC 1.0\n",
      "5 11_ZINC03591113 I17 1.0\n",
      "6 13_ZINC03814434 STU 1.0\n",
      "7 14_ZINC03814435 UCN 1.0\n",
      "8 15_ZINC03814437 PVB 1.0\n",
      "9 17_ZINC03814440 INR 1.0\n",
      "10 19_ZINC03814443 LS1 1.0\n",
      "11 20_ZINC03814444 LS2 1.0\n",
      "12 21_ZINC03814447 LS4 1.0\n",
      "13 22_ZINC03814449 1PU 1.0\n",
      "14 24_ZINC03814451 ST8 1.0\n",
      "15 31_ZINC03814457 MBP 1.0\n",
      "16 34_ZINC03814460 UN4 1.0\n",
      "17 35_ZINC03814461 6CP 1.0\n",
      "18 36_ZINC03814462 2A6 1.0\n",
      "19 41_ZINC03814467 SU9 1.0\n",
      "20 42_ZINC03814467 SU9 1.0\n",
      "21 51_ZINC03814479 NW1 1.0\n",
      "22 52_ZINC03814479 NW1 1.0\n",
      "23 56_ZINC04617747 LS5 1.0\n"
     ]
    }
   ],
   "source": [
    "contador_sim = 0\n",
    "cutoff = 1\n",
    "# Comparamos similitud entre los ligandos\n",
    "for name_dud, fps_dud in dic_fps_dud.items():\n",
    "    for name_crys, fps_crys in dic_fps_crys.items():\n",
    "        # Comparamos ambas estructuras usando los fingerprints\n",
    "        similarity = DataStructs.FingerprintSimilarity(fps_dud, fps_crys,\n",
    "                    metric= DataStructs.DiceSimilarity)\n",
    "        if similarity >= cutoff:\n",
    "            contador_sim += 1\n",
    "            print(contador_sim, name_dud, name_crys, similarity)\n",
    "            break # Termina el ciclo si encuentra al menos una estructura"
   ]
  },
  {
   "cell_type": "code",
   "execution_count": 36,
   "metadata": {},
   "outputs": [
    {
     "data": {
      "image/png": "[encoded data removed]",
      "text/plain": [
       "<rdkit.Chem.rdchem.Mol at 0x7f34f710e3f0>"
      ]
     },
     "execution_count": 36,
     "metadata": {},
     "output_type": "execute_result"
    }
   ],
   "source": [
    "dic_dud_mols['51_ZINC03814479']"
   ]
  },
  {
   "cell_type": "code",
   "execution_count": 37,
   "metadata": {},
   "outputs": [
    {
     "data": {
      "image/png": "[encoded data removed]",
      "text/plain": [
       "<rdkit.Chem.rdchem.Mol at 0x7f34f710e350>"
      ]
     },
     "execution_count": 37,
     "metadata": {},
     "output_type": "execute_result"
    }
   ],
   "source": [
    "dic_dud_mols['52_ZINC03814479']"
   ]
  },
  {
   "cell_type": "code",
   "execution_count": 38,
   "metadata": {},
   "outputs": [
    {
     "data": {
      "image/png": "[encoded data removed]",
      "text/plain": [
       "<rdkit.Chem.rdchem.Mol at 0x7f34f4fe6e40>"
      ]
     },
     "execution_count": 38,
     "metadata": {},
     "output_type": "execute_result"
    }
   ],
   "source": [
    "dic_crys_mols['NW1']"
   ]
  },
  {
   "cell_type": "code",
   "execution_count": null,
   "metadata": {},
   "outputs": [],
   "source": [
    "# Otra comparación esntre estructura a 0.9"
   ]
  },
  {
   "cell_type": "code",
   "execution_count": 164,
   "metadata": {},
   "outputs": [
    {
     "data": {
      "image/png": "[encoded data removed]",
      "text/plain": [
       "<rdkit.Chem.rdchem.Mol at 0x7f34f710ca30>"
      ]
     },
     "execution_count": 164,
     "metadata": {},
     "output_type": "execute_result"
    }
   ],
   "source": [
    "dic_dud_mols['11_ZINC03591113']"
   ]
  },
  {
   "cell_type": "code",
   "execution_count": 165,
   "metadata": {},
   "outputs": [
    {
     "data": {
      "image/png": "[encoded data removed]",
      "text/plain": [
       "<rdkit.Chem.rdchem.Mol at 0x7f34f4fe48f0>"
      ]
     },
     "execution_count": 165,
     "metadata": {},
     "output_type": "execute_result"
    }
   ],
   "source": [
    "dic_crys_mols['RRC']"
   ]
  },
  {
   "cell_type": "markdown",
   "metadata": {},
   "source": [
    "## Comparación con los ligandos cocristalizados"
   ]
  },
  {
   "cell_type": "code",
   "execution_count": 5,
   "metadata": {},
   "outputs": [],
   "source": [
    "# Cargamos la tabla de información de los ligandos CSAR\n",
    "df_csar_2012 = pd.read_json('./B_DATOS/csar_Binding_Data_Corrected_2016.json')"
   ]
  },
  {
   "cell_type": "code",
   "execution_count": 9,
   "metadata": {},
   "outputs": [],
   "source": [
    "# Cargamos las moléculas en un diccionario usando rdkit\n",
    "dic_csar_mols = {i: rd.Chem.MolFromSmiles(df_csar_2012.loc[i, \"SMILES\"]) for i in df_csar_2012.index}"
   ]
  },
  {
   "cell_type": "code",
   "execution_count": 11,
   "metadata": {},
   "outputs": [
    {
     "data": {
      "image/png": "[encoded data removed]",
      "text/plain": [
       "<rdkit.Chem.rdchem.Mol at 0x7f34f71c6440>"
      ]
     },
     "execution_count": 11,
     "metadata": {},
     "output_type": "execute_result"
    }
   ],
   "source": [
    "# Ejemplo de una primer molécula\n",
    "dic_csar_mols['CS1']"
   ]
  },
  {
   "cell_type": "code",
   "execution_count": 12,
   "metadata": {},
   "outputs": [],
   "source": [
    "# Ahora calculamos los fingerprints\n",
    "dic_fps_csar = {i: rd.Chem.RDKFingerprint(j) for i, j in dic_csar_mols.items()}"
   ]
  },
  {
   "cell_type": "code",
   "execution_count": null,
   "metadata": {},
   "outputs": [],
   "source": [
    "# Comparamos los fingerprints de CSAR frente a los cristalográficos"
   ]
  },
  {
   "cell_type": "code",
   "execution_count": 149,
   "metadata": {},
   "outputs": [
    {
     "name": "stdout",
     "output_type": "stream",
     "text": [
      "1 CS1 1CK\n",
      "2 CS3 03K\n",
      "3 CS4 4CK\n",
      "4 CS9 09K\n",
      "5 CS11 11K\n",
      "6 CS12 CK2\n",
      "7 CS16 16K\n",
      "8 CS18 18K\n",
      "9 CS19 19K\n",
      "10 CS20 20K\n",
      "11 CS241 LS5\n",
      "12 CS242 42K\n",
      "13 CS245 45K\n",
      "14 CS248 48K\n",
      "15 CS260 60K\n",
      "16 CS261 61K\n",
      "17 CS262 62K\n"
     ]
    }
   ],
   "source": [
    "contador_sim = 0\n",
    "cutoff = 1\n",
    "# Comparamos similitud entre los ligandos\n",
    "for name_csar, fps_csar in dic_fps_csar.items():\n",
    "    for name_crys, fps_crys in dic_fps_crys.items():\n",
    "        # Comparamos ambas estructuras usando los fingerprints\n",
    "        similarity = DataStructs.FingerprintSimilarity(fps_csar, fps_crys)\n",
    "        if similarity >= cutoff:\n",
    "            contador_sim += 1\n",
    "            print(contador_sim, name_csar, name_crys)"
   ]
  },
  {
   "cell_type": "code",
   "execution_count": 102,
   "metadata": {},
   "outputs": [],
   "source": [
    "# df_prot_labels.loc['4EK6'] # 4ek6 fue removida durante el modelado con \n",
    "# modeller ya que modelar el loop no fue posible"
   ]
  },
  {
   "cell_type": "code",
   "execution_count": 109,
   "metadata": {},
   "outputs": [
    {
     "data": {
      "text/plain": [
       "CS1      4EK4\n",
       "CS2      None\n",
       "CS3      4EK5\n",
       "CS4      4FKG\n",
       "CS9      4FKI\n",
       "CS10     4EK6\n",
       "CS11     4FJK\n",
       "CS12     4FKL\n",
       "CS13     None\n",
       "CS14     None\n",
       "CS15     None\n",
       "CS16     4EK8\n",
       "CS17     None\n",
       "CS18     3SW4\n",
       "CS19     3SW7\n",
       "CS20     4FKO\n",
       "CS241    4FKP\n",
       "CS242    4FKQ\n",
       "CS244    None\n",
       "CS245    4FKR\n",
       "CS246    4FKS\n",
       "CS247    None\n",
       "CS248    4FKT\n",
       "CS260    4FKU\n",
       "CS261    4FKV\n",
       "CS262    4FKW\n",
       "Name: PDB ID, dtype: object"
      ]
     },
     "execution_count": 109,
     "metadata": {},
     "output_type": "execute_result"
    }
   ],
   "source": [
    "df_csar_2012[df_csar_2012.ActiveInactive == 'Active']['PDB ID']"
   ]
  },
  {
   "cell_type": "code",
   "execution_count": 105,
   "metadata": {},
   "outputs": [
    {
     "data": {
      "text/plain": [
       "19"
      ]
     },
     "execution_count": 105,
     "metadata": {},
     "output_type": "execute_result"
    }
   ],
   "source": [
    "df_csar_2012[df_csar_2012.ActiveInactive == 'Active']['PDB ID'].count()"
   ]
  },
  {
   "cell_type": "code",
   "execution_count": 106,
   "metadata": {},
   "outputs": [],
   "source": [
    "# No están ni 4e6k (CS10) ni 4fks (cs246)"
   ]
  },
  {
   "cell_type": "code",
   "execution_count": null,
   "metadata": {},
   "outputs": [],
   "source": [
    "# ¿Por que 4fks no está? Las compararemos a continuación"
   ]
  },
  {
   "cell_type": "code",
   "execution_count": 108,
   "metadata": {},
   "outputs": [
    {
     "data": {
      "image/png": "[encoded data removed]",
      "text/plain": [
       "<rdkit.Chem.rdchem.Mol at 0x7f34f71c8e40>"
      ]
     },
     "execution_count": 108,
     "metadata": {},
     "output_type": "execute_result"
    }
   ],
   "source": [
    "dic_csar_mols['CS246']"
   ]
  },
  {
   "cell_type": "code",
   "execution_count": 111,
   "metadata": {},
   "outputs": [
    {
     "data": {
      "text/plain": [
       "'46K'"
      ]
     },
     "execution_count": 111,
     "metadata": {},
     "output_type": "execute_result"
    }
   ],
   "source": [
    "df_prot_labels.loc['4fks', 'Inhib']"
   ]
  },
  {
   "cell_type": "code",
   "execution_count": 112,
   "metadata": {},
   "outputs": [
    {
     "data": {
      "image/png": "[encoded data removed]",
      "text/plain": [
       "<rdkit.Chem.rdchem.Mol at 0x7f34f4fe9670>"
      ]
     },
     "execution_count": 112,
     "metadata": {},
     "output_type": "execute_result"
    }
   ],
   "source": [
    "# LA conformación reportada por el pdb es esta:\n",
    "dic_crys_mols['46K']"
   ]
  },
  {
   "cell_type": "code",
   "execution_count": 160,
   "metadata": {},
   "outputs": [
    {
     "data": {
      "text/plain": [
       "0.9312859884836853"
      ]
     },
     "execution_count": 160,
     "metadata": {},
     "output_type": "execute_result"
    }
   ],
   "source": [
    "DataStructs.FingerprintSimilarity(dic_fps_csar['CS246'], dic_fps_crys['46K'], \n",
    "                                  metric = DataStructs.DiceSimilarity)"
   ]
  }
 ],
 "metadata": {
  "kernelspec": {
   "display_name": "Python 3",
   "language": "python",
   "name": "python3"
  },
  "language_info": {
   "codemirror_mode": {
    "name": "ipython",
    "version": 3
   },
   "file_extension": ".py",
   "mimetype": "text/x-python",
   "name": "python",
   "nbconvert_exporter": "python",
   "pygments_lexer": "ipython3",
   "version": "3.7.4"
  }
 },
 "nbformat": 4,
 "nbformat_minor": 2
}
