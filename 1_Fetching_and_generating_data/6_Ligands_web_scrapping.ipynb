{
 "cells": [
  {
   "cell_type": "markdown",
   "metadata": {},
   "source": [
    "# Datos de los ligandos\n",
    "\n",
    "## Obtención de los datos de los ligandos  cocristalizados con CDK2 desde Pubchem y Chembl\n",
    "\n",
    "**Esta libreta tiene como objetivo extraer datos de las moléculas cocristalizadas con la proteína CDK2 a partir de las bases de datos CheMBL y PubChem**\n",
    "\n",
    "> Puntos clave de esta libreta:\n",
    "- Se extrae de la tabla de datos principal de la proteína las conformaciones que poseen a algún ligando en el sitio activo.\n",
    "- Se crea un set de moléculas usando identificador PDB de cada molécula (cada molécula es designada con un id de 3 letras).\n",
    "- Se usa el id de cada molécula (LIG) para obtener los datos de la página `http://www.rcsb.org/ligand/LIG`, correspondiente a cada ligando. Con ello obtenemos:\n",
    "    - El smile isomérico de la molécula.\n",
    "    - El InChI\n",
    "    - El InChI Key\n",
    "- Usamos el **InChI** para obtener los datos de cada molécula desde _**PUBCHEM**_ y _**CHEMBL**_.\n",
    "- Guardamos los datos en un diccionario y a su vez lo exportamos a un archivo pinckle."
   ]
  },
  {
   "cell_type": "markdown",
   "metadata": {},
   "source": [
    "### Importamos algunas librerías iniciales"
   ]
  },
  {
   "cell_type": "code",
   "execution_count": 1,
   "metadata": {},
   "outputs": [],
   "source": [
    "import pandas as pd\n",
    "import numpy as np\n",
    "import glob, os, sys\n",
    "# Añadimos la ruta del directorio raíz para tener acceso a los archivos y módulos\n",
    "sys.path.append(r'..')"
   ]
  },
  {
   "cell_type": "markdown",
   "metadata": {},
   "source": [
    "## Cargamos los datos de la tabla principal"
   ]
  },
  {
   "cell_type": "markdown",
   "metadata": {},
   "source": [
    "Nombre de la proteína:"
   ]
  },
  {
   "cell_type": "code",
   "execution_count": 2,
   "metadata": {},
   "outputs": [],
   "source": [
    "# Nombre de la proteina de interes\n",
    "prot_name = 'cdk2'"
   ]
  },
  {
   "cell_type": "markdown",
   "metadata": {},
   "source": [
    "Cargamos el dataframe principal de la proteína:"
   ]
  },
  {
   "cell_type": "code",
   "execution_count": 3,
   "metadata": {},
   "outputs": [
    {
     "data": {
      "text/plain": [
       "(402, 14)"
      ]
     },
     "execution_count": 3,
     "metadata": {},
     "output_type": "execute_result"
    }
   ],
   "source": [
    "# Este es el DF que no tiene aun afgregados los valores AUC de las conformaciones\n",
    "patho_to_json_file = glob.glob((os.path.join('..', 'data', \n",
    "                        F'TABLA_MTDATA_{prot_name.upper()}_*_crys_LIGS_INFO.json')))[0]\n",
    "                      \n",
    "df_prot_labels = pd.read_json(patho_to_json_file)\n",
    "df_prot_labels.shape"
   ]
  },
  {
   "cell_type": "markdown",
   "metadata": {},
   "source": [
    "**Esta tabla contiene ya la información de la molécula presente en el sitio activo de cada conformación de la proteína**"
   ]
  },
  {
   "cell_type": "code",
   "execution_count": 4,
   "metadata": {},
   "outputs": [
    {
     "data": {
      "text/html": [
       "<div>\n",
       "<style scoped>\n",
       "    .dataframe tbody tr th:only-of-type {\n",
       "        vertical-align: middle;\n",
       "    }\n",
       "\n",
       "    .dataframe tbody tr th {\n",
       "        vertical-align: top;\n",
       "    }\n",
       "\n",
       "    .dataframe thead th {\n",
       "        text-align: right;\n",
       "    }\n",
       "</style>\n",
       "<table border=\"1\" class=\"dataframe\">\n",
       "  <thead>\n",
       "    <tr style=\"text-align: right;\">\n",
       "      <th></th>\n",
       "      <th>Title</th>\n",
       "      <th>Date</th>\n",
       "      <th>Entities</th>\n",
       "      <th>ChainID</th>\n",
       "      <th>Resolution</th>\n",
       "      <th>Identity</th>\n",
       "      <th>Coverage</th>\n",
       "      <th>NumGaps</th>\n",
       "      <th>GapLen</th>\n",
       "      <th>GapPos</th>\n",
       "      <th>NumLigs</th>\n",
       "      <th>NameLigs</th>\n",
       "      <th>Inhib</th>\n",
       "      <th>Inhib_mass</th>\n",
       "    </tr>\n",
       "  </thead>\n",
       "  <tbody>\n",
       "    <tr>\n",
       "      <th>1aq1</th>\n",
       "      <td>human cyclin dependent kinase 2 complexed with...</td>\n",
       "      <td>1997-11-12</td>\n",
       "      <td>1</td>\n",
       "      <td>A</td>\n",
       "      <td>2.0</td>\n",
       "      <td>298</td>\n",
       "      <td>92.953020</td>\n",
       "      <td>2</td>\n",
       "      <td>[9, 14]</td>\n",
       "      <td>[[36, 44], [149, 162]]</td>\n",
       "      <td>1</td>\n",
       "      <td>[STU]</td>\n",
       "      <td>STU</td>\n",
       "      <td>440.0</td>\n",
       "    </tr>\n",
       "    <tr>\n",
       "      <th>1b38</th>\n",
       "      <td>human cyclin-dependent kinase 2</td>\n",
       "      <td>1998-12-23</td>\n",
       "      <td>1</td>\n",
       "      <td>A</td>\n",
       "      <td>2.0</td>\n",
       "      <td>298</td>\n",
       "      <td>97.315436</td>\n",
       "      <td>1</td>\n",
       "      <td>[9]</td>\n",
       "      <td>[[36, 44]]</td>\n",
       "      <td>3</td>\n",
       "      <td>[ACE, ATP, MG]</td>\n",
       "      <td>ATP</td>\n",
       "      <td>398.0</td>\n",
       "    </tr>\n",
       "    <tr>\n",
       "      <th>1b39</th>\n",
       "      <td>human cyclin-dependent kinase 2 phosphorylated...</td>\n",
       "      <td>1998-12-23</td>\n",
       "      <td>1</td>\n",
       "      <td>A</td>\n",
       "      <td>2.1</td>\n",
       "      <td>298</td>\n",
       "      <td>97.315436</td>\n",
       "      <td>1</td>\n",
       "      <td>[9]</td>\n",
       "      <td>[[36, 44]]</td>\n",
       "      <td>3</td>\n",
       "      <td>[ACE, ATP, MG]</td>\n",
       "      <td>ATP</td>\n",
       "      <td>398.0</td>\n",
       "    </tr>\n",
       "  </tbody>\n",
       "</table>\n",
       "</div>"
      ],
      "text/plain": [
       "                                                  Title       Date  Entities  \\\n",
       "1aq1  human cyclin dependent kinase 2 complexed with... 1997-11-12         1   \n",
       "1b38                    human cyclin-dependent kinase 2 1998-12-23         1   \n",
       "1b39  human cyclin-dependent kinase 2 phosphorylated... 1998-12-23         1   \n",
       "\n",
       "     ChainID  Resolution  Identity   Coverage  NumGaps   GapLen  \\\n",
       "1aq1       A         2.0       298  92.953020        2  [9, 14]   \n",
       "1b38       A         2.0       298  97.315436        1      [9]   \n",
       "1b39       A         2.1       298  97.315436        1      [9]   \n",
       "\n",
       "                      GapPos  NumLigs        NameLigs Inhib  Inhib_mass  \n",
       "1aq1  [[36, 44], [149, 162]]        1           [STU]   STU       440.0  \n",
       "1b38              [[36, 44]]        3  [ACE, ATP, MG]   ATP       398.0  \n",
       "1b39              [[36, 44]]        3  [ACE, ATP, MG]   ATP       398.0  "
      ]
     },
     "execution_count": 4,
     "metadata": {},
     "output_type": "execute_result"
    }
   ],
   "source": [
    "df_prot_labels.head(3)"
   ]
  },
  {
   "cell_type": "markdown",
   "metadata": {},
   "source": [
    "## Identificación de los inhibidores\n",
    "### Seleccionamos las conformaciones que posean algun inhibidor"
   ]
  },
  {
   "cell_type": "code",
   "execution_count": 5,
   "metadata": {},
   "outputs": [],
   "source": [
    "filtro_inh = df_prot_labels.Inhib.notnull()\n",
    "df_ligs_crys = df_prot_labels[filtro_inh]"
   ]
  },
  {
   "cell_type": "code",
   "execution_count": 6,
   "metadata": {},
   "outputs": [
    {
     "data": {
      "text/plain": [
       "(365, 14)"
      ]
     },
     "execution_count": 6,
     "metadata": {},
     "output_type": "execute_result"
    }
   ],
   "source": [
    "# Número total de conformaciones con algún ligando en el sitio activo\n",
    "df_ligs_crys.shape"
   ]
  },
  {
   "cell_type": "markdown",
   "metadata": {},
   "source": [
    "### Identificamos el número de ligandos únicos"
   ]
  },
  {
   "cell_type": "code",
   "execution_count": 7,
   "metadata": {},
   "outputs": [
    {
     "data": {
      "text/plain": [
       "315"
      ]
     },
     "execution_count": 7,
     "metadata": {},
     "output_type": "execute_result"
    }
   ],
   "source": [
    "ligs_crys_prot = set(df_ligs_crys.Inhib)\n",
    "len(ligs_crys_prot)"
   ]
  },
  {
   "cell_type": "markdown",
   "metadata": {},
   "source": [
    "## Comenzamos la obtención de los datos\n",
    "El proceso es el siguiente:\n",
    "> 1. Con el identificador de la molécula del PDB (nombe de tres letras, por ejemplo: ATP) se busca en el PDB la información de dicha molécula: http://www.rcsb.org/ligand\n",
    "2. Se obtiene el *chemicalInChIKey*, el *chemicalInChI* y el SMILES isomérico de la molécula.\n",
    "3. El *InChI el *InChIKey* o en su defecto el SMILES isimérico, es usado para buscar a la molécula en las bases de datos PubChem y Chembl.\n",
    "    - Dichos *request* a la la API de cada base de datos se hacen con las librerías **_chembl_webresource_client_** y **_pubchemy_**.\n",
    "4. Todos los datos disponibles de las moléculas son guardados en un diccionario de pyhton.\n",
    "5. Finalmente el objeto se guarda en un archivo para posteriormente poder tener acceso al mismo.\n",
    "\n",
    "\n",
    "### Web scrapping de los ligandos"
   ]
  },
  {
   "cell_type": "code",
   "execution_count": 8,
   "metadata": {},
   "outputs": [],
   "source": [
    "# Librerías útiles para el web scrapping de los ligandos\n",
    "import urllib.request\n",
    "from bs4 import BeautifulSoup\n",
    "from chembl_webresource_client.new_client import new_client\n",
    "import pubchempy"
   ]
  },
  {
   "cell_type": "code",
   "execution_count": 9,
   "metadata": {},
   "outputs": [],
   "source": [
    "# Url para accesar a la información de los ligandos en el PDB\n",
    "URL_PDB = 'http://www.rcsb.org/ligand'"
   ]
  },
  {
   "cell_type": "markdown",
   "metadata": {},
   "source": [
    "### Obtenemos los datos de cada ligando y los guardamos en un diccionario"
   ]
  },
  {
   "cell_type": "code",
   "execution_count": 10,
   "metadata": {},
   "outputs": [],
   "source": [
    "# Generamos un diccionario con los datos de la molécula\n",
    "dic_ligs_crys_prot = {}\n",
    "\n",
    "for ligando in ligs_crys_prot[:\n",
    "    url_lig = F'{URL_PDB}/{ligando}'\n",
    "    print(F'Procesando al ligando: {ligando}\\n')\n",
    "    \n",
    "    # Extraemos los datos del html del ligando:\n",
    "    lig_data = urllib.request.urlopen( url_lig ).read().decode()\n",
    "    \n",
    "    # Extraemos del bsoup los siguientes datos:\n",
    "    # InChIKey\n",
    "    soup = BeautifulSoup(lig_data)\n",
    "    inchi_key = soup.find(\"tr\", {\"id\": \"chemicalInChIKey\"})\n",
    "    inchi_key_str = inchi_key.find('td').text\n",
    "    \n",
    "    # InChI\n",
    "    inchi = soup.find(\"tr\", {\"id\": \"chemicalInChI\"})\n",
    "    inchi_str = inchi.find('td').text\n",
    "    \n",
    "    # isomeric SMILE (por si no se encuentra en la API de PbCh)\n",
    "    smiles = soup.find(\"tr\", {\"id\": \"chemicalIsomeric\"})\n",
    "    smiles_str = smiles.find('td').text\n",
    "    \n",
    "    # Peso molecular\n",
    "    mw = soup.find(\"tr\", {\"id\": \"chemicalMolecularWeight\"})\n",
    "    mw_str = mw.find('td').text\n",
    "    \n",
    "    # Con los datos anteriores usamos la librería para accesar al Chembl\n",
    "    # **** CHEMBL ****\n",
    "    # Procedemos a extraer los datos del Chembl\n",
    "    molecule = new_client.molecule\n",
    "    try:\n",
    "        chblMol_info = molecule.get(inchi_key_str)\n",
    "        chembl_id = chblMol_info['molecule_chembl_id']\n",
    "    except:\n",
    "        print(F'No se pudo obtener infor de CEHMBL: {ligando}')\n",
    "        print(inchi_str + '\\n')\n",
    "        chblMol_info = None\n",
    "        chembl_id = None\n",
    "        \n",
    "    # Ahora obtenemos datos correspondientes a pubchem\n",
    "    # *** PUBCHEM ***\n",
    "    try:\n",
    "        pbch_mol = pubchempy.get_compounds(inchi_str, 'inchi')[0]\n",
    "        pbch_cid = pbch_mol.cid\n",
    "        pbch_data = pbch_mol.to_dict()\n",
    "        canonical_smiles = pbch_mol.canonical_smiles\n",
    "    except:\n",
    "        print(F'Fallo con datos PUBCHEM: {ligando}')\n",
    "        pbch_mol = None\n",
    "        pbch_cid = None\n",
    "        pbch_data = None\n",
    "        canonical_smiles = None\n",
    "    # Creamos la entrada para el diccionario\n",
    "    # Primero el diccionario del ligando\n",
    "    dic_lig = {'inchi_key': inchi_key_str,\n",
    "               'inchi': inchi_str,\n",
    "               'molecular_weight': float(mw_str),\n",
    "               'canonical_smiles': canonical_smiles,\n",
    "               'isomeric_similes': smiles_str,\n",
    "               'chembl_id': chembl_id,\n",
    "               'chembl_data': chblMol_info,\n",
    "               'pubchem_id': pbch_cid,\n",
    "               'pubchem_data': pbch_data,}\n",
    "    \n",
    "    # Anidamos el dict  del ligando al dic principal\n",
    "    dic_ligs_crys_prot[ligando] = dic_lig"
   ]
  },
  {
   "cell_type": "markdown",
   "metadata": {},
   "source": [
    "## Guardamos el set de datos en formato *pickle*"
   ]
  },
  {
   "cell_type": "code",
   "execution_count": 11,
   "metadata": {},
   "outputs": [],
   "source": [
    "import pickle"
   ]
  },
  {
   "cell_type": "code",
   "execution_count": 12,
   "metadata": {},
   "outputs": [],
   "source": [
    "nombre_archivo = os.path.join('..','data', 'LIGS_CDK2_crys_pubchem_chembl_data.pkl')\n",
    "if not os.path.exists(nombre_archivo):\n",
    "    with open(nombre_archivo, 'wb') as dic_file:\n",
    "        pickle.dump(dic_ligs_crys_prot, dic_file, protocol=pickle.HIGHEST_PROTOCOL)\n",
    "else:\n",
    "    print(\"El archivo ya ha sido creado.\")"
   ]
  },
  {
   "cell_type": "markdown",
   "metadata": {},
   "source": [
    "### Lectura del del archivo guardado"
   ]
  },
  {
   "cell_type": "code",
   "execution_count": 13,
   "metadata": {},
   "outputs": [],
   "source": [
    "# Lectura del diccionario con pickle\n",
    "nombre_archivo = os.path.join('..','data', 'LIGS_CDK2_crys_pubchem_chembl_data.pkl')\n",
    "with open(nombre_archivo, 'rb') as dic_file:\n",
    "    dic_ligs_crys_prot = pickle.load(open(nombre_archivo, 'rb'))"
   ]
  },
  {
   "cell_type": "markdown",
   "metadata": {},
   "source": [
    "# Finalmente:\n",
    "## Uso del diccionario final\n",
    "A modo de ejemplo visualizamos algunos de los datos disponibles en el diccionario:"
   ]
  },
  {
   "cell_type": "code",
   "execution_count": 14,
   "metadata": {},
   "outputs": [
    {
     "name": "stderr",
     "output_type": "stream",
     "text": [
      "RDKit WARNING: [16:53:39] Enabling RDKit 2019.09.1 jupyter extensions\n"
     ]
    }
   ],
   "source": [
    "import rdkit as rd"
   ]
  },
  {
   "cell_type": "code",
   "execution_count": 15,
   "metadata": {},
   "outputs": [
    {
     "name": "stdout",
     "output_type": "stream",
     "text": [
      "ID Chembl: CHEMBL14249\n",
      "cid Pubchem: 5957\n",
      "Nombre: ADENOSINE TRIPHOSPHATE\n"
     ]
    },
    {
     "data": {
      "image/png": "[encoded data removed]",
      "text/plain": [
       "<rdkit.Chem.rdchem.Mol at 0x7fe1bfba1d00>"
      ]
     },
     "execution_count": 15,
     "metadata": {},
     "output_type": "execute_result"
    }
   ],
   "source": [
    "# Obtención del un ligando a través de una conformación\n",
    "lig_1aq1 = df_ligs_crys.loc['1fin', 'Inhib']\n",
    "# Imprimimos su nombre y otros datos interesantes\n",
    "lig_1aq1_data = dic_ligs_crys_prot[lig_1aq1]\n",
    "print(F'ID Chembl: {lig_1aq1_data[\"chembl_id\"]}')\n",
    "print(F'cid Pubchem: {lig_1aq1_data[\"pubchem_id\"]}')\n",
    "print(F'Nombre: {lig_1aq1_data[\"chembl_data\"][\"pref_name\"]}')\n",
    "# Obtenemos el smiles canonico\n",
    "lig_1aq1_smiles = dic_ligs_crys_prot[lig_1aq1]['canonical_smiles']\n",
    "# Lo visualizamos con rdkit\n",
    "rd.Chem.MolFromSmiles(lig_1aq1_smiles)"
   ]
  },
  {
   "cell_type": "code",
   "execution_count": 16,
   "metadata": {},
   "outputs": [
    {
     "name": "stdout",
     "output_type": "stream",
     "text": [
      "ID Chembl: CHEMBL388978\n",
      "Cid Pubchem: 44259\n",
      "Nombre: STAUROSPORINE\n"
     ]
    },
    {
     "data": {
      "image/png": "[encoded data removed]",
      "text/plain": [
       "<rdkit.Chem.rdchem.Mol at 0x7fe1bfb9fb20>"
      ]
     },
     "execution_count": 16,
     "metadata": {},
     "output_type": "execute_result"
    }
   ],
   "source": [
    "# Obtención del un ligando a través de una conformación\n",
    "lig_1aq1 = df_ligs_crys.loc['1aq1', 'Inhib']\n",
    "# Imprimimos su nombre y otros datos interesantes\n",
    "lig_1aq1_data = dic_ligs_crys_prot[lig_1aq1]\n",
    "print(F'ID Chembl: {lig_1aq1_data[\"chembl_id\"]}')\n",
    "print(F'Cid Pubchem: {lig_1aq1_data[\"pubchem_id\"]}')\n",
    "print(F'Nombre: {lig_1aq1_data[\"chembl_data\"][\"pref_name\"]}')\n",
    "# Obtenemos el smiles canonico\n",
    "lig_1aq1_smiles = dic_ligs_crys_prot[lig_1aq1]['canonical_smiles']\n",
    "# Lo visualizamos con rdkit\n",
    "rd.Chem.MolFromSmiles(lig_1aq1_smiles)"
   ]
  },
  {
   "cell_type": "markdown",
   "metadata": {},
   "source": [
    "# ¡Terminado!"
   ]
  }
 ],
 "metadata": {
  "kernelspec": {
   "display_name": "Python 3",
   "language": "python",
   "name": "python3"
  },
  "language_info": {
   "codemirror_mode": {
    "name": "ipython",
    "version": 3
   },
   "file_extension": ".py",
   "mimetype": "text/x-python",
   "name": "python",
   "nbconvert_exporter": "python",
   "pygments_lexer": "ipython3",
   "version": "3.7.4"
  }
 },
 "nbformat": 4,
 "nbformat_minor": 2
}
