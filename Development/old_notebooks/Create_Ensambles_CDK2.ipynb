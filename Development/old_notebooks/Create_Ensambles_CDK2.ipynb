{
 "cells": [
  {
   "cell_type": "markdown",
   "metadata": {},
   "source": [
    "# Creación y trabajo con Ensamble y Trayectorias"
   ]
  },
  {
   "cell_type": "code",
   "execution_count": 55,
   "metadata": {},
   "outputs": [],
   "source": [
    "from prody import *\n",
    "from pylab import *"
   ]
  },
  {
   "cell_type": "code",
   "execution_count": 56,
   "metadata": {},
   "outputs": [
    {
     "data": {
      "text/plain": [
       "['../ARCHIVOS/CRISTALES/PROT_CDK2_PREPARADAS/PREP_ALL_ENSAMBLE/1aq1_ENS.pdb',\n",
       " '../ARCHIVOS/CRISTALES/PROT_CDK2_PREPARADAS/PREP_ALL_ENSAMBLE/1b38_ENS.pdb',\n",
       " '../ARCHIVOS/CRISTALES/PROT_CDK2_PREPARADAS/PREP_ALL_ENSAMBLE/1b39_ENS.pdb',\n",
       " '../ARCHIVOS/CRISTALES/PROT_CDK2_PREPARADAS/PREP_ALL_ENSAMBLE/1buh_ENS.pdb',\n",
       " '../ARCHIVOS/CRISTALES/PROT_CDK2_PREPARADAS/PREP_ALL_ENSAMBLE/1ckp_ENS.pdb',\n",
       " '../ARCHIVOS/CRISTALES/PROT_CDK2_PREPARADAS/PREP_ALL_ENSAMBLE/1di8_ENS.pdb',\n",
       " '../ARCHIVOS/CRISTALES/PROT_CDK2_PREPARADAS/PREP_ALL_ENSAMBLE/1dm2_ENS.pdb',\n",
       " '../ARCHIVOS/CRISTALES/PROT_CDK2_PREPARADAS/PREP_ALL_ENSAMBLE/1e1v_ENS.pdb',\n",
       " '../ARCHIVOS/CRISTALES/PROT_CDK2_PREPARADAS/PREP_ALL_ENSAMBLE/1e1x_ENS.pdb',\n",
       " '../ARCHIVOS/CRISTALES/PROT_CDK2_PREPARADAS/PREP_ALL_ENSAMBLE/1e9h_ENS.pdb']"
      ]
     },
     "execution_count": 56,
     "metadata": {},
     "output_type": "execute_result"
    }
   ],
   "source": [
    "# Genero una lista de archivos disponibles en el directorio de los modelos completos\n",
    "import glob\n",
    "main_PDBS_dir = \"../ARCHIVOS/CRISTALES/PROT_CDK2_PREPARADAS/\"\n",
    "dir_ENS = main_PDBS_dir +  \"PREP_ALL_ENSAMBLE/\" # Hidrógenos agregados sin pka\n",
    "\n",
    "# Es importante generar la lista ORDENADA!!\n",
    "files_pdbs_cdk2_ENS = sorted( glob.glob(dir_ENS + \"*\") )\n",
    "files_pdbs_cdk2_ENS[0:10]"
   ]
  },
  {
   "cell_type": "code",
   "execution_count": 57,
   "metadata": {},
   "outputs": [
    {
     "name": "stderr",
     "output_type": "stream",
     "text": [
      "@> 402 PDBs were parsed in 22.98s.                                                                   \n"
     ]
    }
   ],
   "source": [
    "# Carga de los archivos pdb\n",
    "# Obtengo el conjunto de estructuras pdb de CDK2\n",
    "pdbs_cdk2_ENS = parsePDB( *[ pdb for pdb in files_pdbs_cdk2_ENS ])"
   ]
  },
  {
   "cell_type": "code",
   "execution_count": 13,
   "metadata": {},
   "outputs": [
    {
     "data": {
      "text/plain": [
       "list"
      ]
     },
     "execution_count": 13,
     "metadata": {},
     "output_type": "execute_result"
    }
   ],
   "source": [
    "type(pdbs_cdk2_ENS)"
   ]
  },
  {
   "cell_type": "code",
   "execution_count": 58,
   "metadata": {},
   "outputs": [],
   "source": [
    "# Podemos crear ensambles de las proteínas alineando ya sea con Pisani o con el pocket\n",
    "from Funciones.subsecuencias_cdk2 import get_pisani_residues, get_ricci_residues"
   ]
  },
  {
   "cell_type": "code",
   "execution_count": 59,
   "metadata": {},
   "outputs": [
    {
     "name": "stderr",
     "output_type": "stream",
     "text": [
      "@> 4848 atoms and 1 coordinate set(s) were parsed in 0.07s.\n"
     ]
    }
   ],
   "source": [
    "ref_id = '1fin'\n",
    "ens_f_tail = \"_ENS\"\n",
    "ref_strc = parsePDB(dir_ENS + ref_id + ens_f_tail + \".pdb\")\n",
    "# Selecciones para alineamiento\n",
    "sel_ref_pisani = ref_strc.select(\"ca resnum \" + get_pisani_residues(\"str\"))\n",
    "sel_ref_ricci = ref_strc.select(\"ca resnum \" + get_ricci_residues(\"str\"))"
   ]
  },
  {
   "cell_type": "code",
   "execution_count": 61,
   "metadata": {},
   "outputs": [
    {
     "data": {
      "text/plain": [
       "' O en una sola línea:'"
      ]
     },
     "execution_count": 61,
     "metadata": {},
     "output_type": "execute_result"
    }
   ],
   "source": [
    "# Coordenadas de la CDK2 de refrencia tomando sólo los residuos de Pisiani\n",
    "ens_cdk2 = PDBEnsemble(\"Ensamble CDK2 402 estructuras\")\n",
    "# Átomos de referencia\n",
    "ens_cdk2.setAtoms( ref_strc )\n",
    "# Coordenadas de referencia\n",
    "ens_cdk2.setCoords( ref_strc.getCoords() )\n",
    "# Ahora añadimos todas las estructuras al ensamble una a una\n",
    "for structure in pdbs_cdk2_ENS:\n",
    "    ens_cdk2.addCoordset(structure)\n",
    "# O en una sola línea:\n",
    "# ens_cdk2 = buildPDBEnsemble(pdbs_cdk2_ENS, ref=ref_strc, title=\"Ensamble CDK2 402 estructuras\")"
   ]
  },
  {
   "cell_type": "code",
   "execution_count": 53,
   "metadata": {},
   "outputs": [
    {
     "data": {
      "text/plain": [
       "402"
      ]
     },
     "execution_count": 53,
     "metadata": {},
     "output_type": "execute_result"
    }
   ],
   "source": [
    "len(ens_cdk2.getLabels() )"
   ]
  },
  {
   "cell_type": "code",
   "execution_count": 71,
   "metadata": {},
   "outputs": [
    {
     "data": {
      "text/plain": [
       "'8 9 10 11 12 13 14 15 16 17 18 19 30 31 32 33 64 65 79 80 81 82 83 84 85 86 87 88 89 90 129 130 131 132 133 134 143 144 145 146'"
      ]
     },
     "execution_count": 71,
     "metadata": {},
     "output_type": "execute_result"
    }
   ],
   "source": [
    "get_ricci_residues(\"str\")"
   ]
  },
  {
   "cell_type": "markdown",
   "metadata": {},
   "source": [
    "## Ensamble con PISANI\n",
    "### Podemos crear un ensamble de estructuras alineadas por Pisani"
   ]
  },
  {
   "cell_type": "code",
   "execution_count": 64,
   "metadata": {},
   "outputs": [
    {
     "name": "stderr",
     "output_type": "stream",
     "text": [
      "@> Starting iterative superposition:\n",
      "@> Step #1: RMSD difference = 1.2765e-08\n",
      "@> Iterative superposition completed in 0.43s.\n",
      "@> Final superposition to calculate transformations.\n",
      "@> Superposition completed in 0.14 seconds.\n"
     ]
    }
   ],
   "source": [
    "# Seleccionamos y alineamos con base en los CA de los residuos de Pisani\n",
    "ens_cdk2.setAtoms( sel_ref_pisani )\n",
    "ens_cdk2.iterpose()"
   ]
  },
  {
   "cell_type": "code",
   "execution_count": 65,
   "metadata": {},
   "outputs": [
    {
     "data": {
      "image/png": "[encoded data removed]",
      "text/plain": [
       "<Figure size 432x288 with 1 Axes>"
      ]
     },
     "metadata": {
      "needs_background": "light"
     },
     "output_type": "display_data"
    }
   ],
   "source": [
    "# Podemos ver el rmsd entre la sestructuras\n",
    "rmsd_ens_pisani = calcRMSD(ens_cdk2)\n",
    "plot(rmsd_ens_pisani);"
   ]
  },
  {
   "cell_type": "code",
   "execution_count": 72,
   "metadata": {},
   "outputs": [
    {
     "name": "stdout",
     "output_type": "stream",
     "text": [
      "[-20.1 215.  119.3]\n",
      "[-18.4 211.2 113.2]\n",
      "[-12.5 206.4 113.8]\n"
     ]
    }
   ],
   "source": [
    "# Cálculamos el centro definido por los residuos del pocket\n",
    "print(calcCenter(ref_strc).round(1))\n",
    "print(calcCenter(sel_ref_pisani).round(1))\n",
    "print(calcCenter(sel_ref_ricci).round(1))"
   ]
  },
  {
   "cell_type": "code",
   "execution_count": null,
   "metadata": {},
   "outputs": [],
   "source": [
    "# Guardamos el ensamble\n",
    "# Primero volvemos a INCLUIR TODOS LOS ÁTOMOS!\n",
    "ens_cdk2.setAtoms( ref_strc )\n",
    "# Como archivo de ensamble\n",
    "saveEnsemble(ens_cdk2, \"../ARCHIVOS/CRISTALES/PROT_CDK2_PREPARADAS/PRODY_ENSAMBLES/\" + \"ENS_402_cdk2_Pisani_ALL\")\n",
    "# Como archivo PDB\n",
    "writePDB(\"../ARCHIVOS/CRISTALES/PROT_CDK2_PREPARADAS/PRODY_ENSAMBLES/\" + \"PDB_402_cdk2_Pisani_ALL\",\n",
    "        ens_cdk2)\n"
   ]
  },
  {
   "cell_type": "code",
   "execution_count": 52,
   "metadata": {},
   "outputs": [
    {
     "name": "stderr",
     "output_type": "stream",
     "text": [
      "@> Starting iterative superposition:\n",
      "@> Step #1: RMSD difference = 1.2206e-01\n",
      "@> Step #2: RMSD difference = 1.7668e-04\n",
      "@> Step #3: RMSD difference = 2.8013e-07\n",
      "@> Iterative superposition completed in 0.30s.\n",
      "@> Final superposition to calculate transformations.\n",
      "@> Superposition completed in 0.09 seconds.\n"
     ]
    },
    {
     "data": {
      "image/png": "[encoded data removed]",
      "text/plain": [
       "<Figure size 432x288 with 1 Axes>"
      ]
     },
     "metadata": {
      "needs_background": "light"
     },
     "output_type": "display_data"
    }
   ],
   "source": [
    "ens_cdk2.setAtoms( sel_ref_ricci )\n",
    "ens_cdk2.iterpose()\n",
    "rmsd_ens_ricci = calcRMSD(ens_cdk2)\n",
    "plot(rmsd_ens_ricci);"
   ]
  }
 ],
 "metadata": {
  "kernelspec": {
   "display_name": "Python 3",
   "language": "python",
   "name": "python3"
  },
  "language_info": {
   "codemirror_mode": {
    "name": "ipython",
    "version": 3
   },
   "file_extension": ".py",
   "mimetype": "text/x-python",
   "name": "python",
   "nbconvert_exporter": "python",
   "pygments_lexer": "ipython3",
   "version": "3.6.7"
  }
 },
 "nbformat": 4,
 "nbformat_minor": 2
}
