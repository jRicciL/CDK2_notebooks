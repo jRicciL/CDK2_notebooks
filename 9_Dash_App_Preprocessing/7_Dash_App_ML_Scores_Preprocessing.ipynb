{
 "cells": [
  {
   "cell_type": "code",
   "execution_count": 2,
   "metadata": {},
   "outputs": [],
   "source": [
    "import pandas as pd\n",
    "import numpy as np\n",
    "import pytraj as pyt\n",
    "import matplotlib.pyplot as plt\n",
    "import glob, sys, os\n",
    "sys.path.append(r'..')"
   ]
  },
  {
   "cell_type": "code",
   "execution_count": 3,
   "metadata": {},
   "outputs": [],
   "source": [
    "prot_name = 'cdk2'"
   ]
  },
  {
   "cell_type": "markdown",
   "metadata": {},
   "source": [
    "## 1) Protein Metadata"
   ]
  },
  {
   "cell_type": "code",
   "execution_count": 4,
   "metadata": {},
   "outputs": [],
   "source": [
    "### Protein data table"
   ]
  },
  {
   "cell_type": "code",
   "execution_count": 33,
   "metadata": {},
   "outputs": [],
   "source": [
    "path_to_file = '../data/TABLA_MTDATA_CDK2_402_crys_LIGS_INFO_LABELS.json'\n",
    "df_prot = pd.read_json(path_to_file)\n",
    "# df_prot"
   ]
  },
  {
   "cell_type": "code",
   "execution_count": 8,
   "metadata": {},
   "outputs": [],
   "source": [
    "## Load all protein structures"
   ]
  },
  {
   "cell_type": "code",
   "execution_count": 6,
   "metadata": {},
   "outputs": [
    {
     "name": "stdout",
     "output_type": "stream",
     "text": [
      "Número de frames: 402.\n",
      "Número de átomos: 4848.\n"
     ]
    }
   ],
   "source": [
    "file_pdb_traj_all = '../../ARCHIVOS/CRISTALES/TRAJ_CRISTALS_PDB/PDB_402_cdk2_PISANI_ALL.pdb'\n",
    "traj_crystals = pyt.load(file_pdb_traj_all)\n",
    "\n",
    "print(F'Número de frames: {traj_crystals.n_frames}.\\nNúmero de átomos: {traj_crystals.n_atoms}.')"
   ]
  },
  {
   "cell_type": "code",
   "execution_count": 20,
   "metadata": {},
   "outputs": [],
   "source": [
    "# Used residues "
   ]
  },
  {
   "cell_type": "code",
   "execution_count": 7,
   "metadata": {},
   "outputs": [],
   "source": [
    "from modules.subsecuencias_cdk2 import *\n",
    "pisiani_residues = get_pisani_residues(sep=\",\") # subsecuencia de la estructura secuendaria\n",
    "pocket_residues = get_pocket_residues(sep=\",\")"
   ]
  },
  {
   "cell_type": "code",
   "execution_count": 8,
   "metadata": {},
   "outputs": [],
   "source": [
    "# Mask to select CA atoms from secondary structure residues\n",
    "sec_str_mask = f'(:{pisiani_residues})&(@CA)'\n",
    "\n",
    "# Mask to select CA form pocket residues\n",
    "pkt_str_mask = f'(:{pocket_residues})&(@CA)'"
   ]
  },
  {
   "cell_type": "code",
   "execution_count": 9,
   "metadata": {},
   "outputs": [],
   "source": [
    "# Volume Information"
   ]
  },
  {
   "cell_type": "code",
   "execution_count": 10,
   "metadata": {},
   "outputs": [],
   "source": [
    "# Volume using povme\n",
    "def get_volume_results(files, col_names, index_col):\n",
    "    df_columns = []\n",
    "    for file in files:\n",
    "        df = pd.read_csv(file, sep='\\t', header=None, names=['conf_num', 'volume'])[['volume']]\n",
    "        df_columns.append(df)\n",
    "    # Concatenate dataframes\n",
    "    res_df = pd.concat(df_columns, axis=1)\n",
    "    res_df.columns = col_names\n",
    "    # Set the index\n",
    "    res_df.index = index_col\n",
    "    return res_df"
   ]
  },
  {
   "cell_type": "code",
   "execution_count": 13,
   "metadata": {},
   "outputs": [],
   "source": [
    "# Pocket residues alignment (done using vmd)\n",
    "pocket_file = '../../ARCHIVOS/CRISTALES/VOLUMEN/CDK2_VOL_RICCI_402/res_volumes.tabbed.txt'\n",
    "\n",
    "# Append results from secondary structure alignment\n",
    "sec_file =  '../../ARCHIVOS/CRISTALES/VOLUMEN/CDK2_VOL_PISANI_402/res_volumes.tabbed.txt'\n",
    "\n",
    "df_volumen = get_volume_results([pocket_file, sec_file], ['pocket', 'sec-struct'], index_col=df_prot.index)"
   ]
  },
  {
   "cell_type": "code",
   "execution_count": null,
   "metadata": {},
   "outputs": [],
   "source": [
    "# Format table for dash app"
   ]
  },
  {
   "cell_type": "code",
   "execution_count": 34,
   "metadata": {},
   "outputs": [],
   "source": [
    "# Add volume info to the main table\n",
    "df_dash_app = pd.concat([df_prot, df_volumen], axis=1)\n",
    "# Drop unuseful columns\n",
    "df_dash_app.reset_index(inplace=True)\n",
    "cols2keep = {'index': 'PDB-id', 'Date': 'Date', 'Resolution': 'Resolution', \n",
    "                'Coverage': 'Coverage', 'Inhib': 'Ligand',  'Inhib_mass': 'LigMass', \n",
    "                'pocket': 'Pocket Volume (Sec)','sec-struct': 'Pocket Volume (Pkt)',\n",
    "                'Labels_conf': 'Conformation'}\n",
    "\n",
    "df_dash_app = df_dash_app[cols2keep.keys()]\n",
    "df_dash_app = df_dash_app.rename(columns=cols2keep)\n",
    "\n",
    "# Fill na values\n",
    "df_dash_app.fillna(0)\n",
    "\n",
    "# Format conformation column \n",
    "df_dash_app.Conformation = df_dash_app['Conformation'].apply(lambda x: x.replace('_', ' ').capitalize())\n",
    "\n",
    "# Cas data types\n",
    "df_dash_app = df_dash_app.infer_objects()\n",
    "df_dash_app\n",
    "# Save the table to be added to the APP\n",
    "df_dash_app.to_pickle('./CDK2_PDB_metadata_TABLE_dashApp.obj')"
   ]
  },
  {
   "cell_type": "markdown",
   "metadata": {},
   "source": [
    "## 2) Dimensionality Reduction Table"
   ]
  },
  {
   "cell_type": "markdown",
   "metadata": {},
   "source": [
    "### Classical Multidimensional Scaling"
   ]
  },
  {
   "cell_type": "code",
   "execution_count": 35,
   "metadata": {},
   "outputs": [],
   "source": [
    "from modules.MDS import cMDS\n",
    "from modules.plotting_functions import plot_points, plot_anotation_labels"
   ]
  },
  {
   "cell_type": "code",
   "execution_count": 36,
   "metadata": {},
   "outputs": [],
   "source": [
    "pair_rmsd_sec = pyt.pairwise_rmsd(traj = traj_crystals,\n",
    "                                 mask = sec_str_mask, metric='rms')\n",
    "\n",
    "pair_rmsd_pkt = pyt.pairwise_rmsd(traj = traj_crystals,\n",
    "                                 mask = pkt_str_mask, metric='rms')"
   ]
  },
  {
   "cell_type": "code",
   "execution_count": 37,
   "metadata": {},
   "outputs": [],
   "source": [
    "# Generación del cMDS"
   ]
  },
  {
   "cell_type": "code",
   "execution_count": 38,
   "metadata": {},
   "outputs": [],
   "source": [
    "mds_sec = cMDS(pair_rmsd_sec)[0]\n",
    "mds_pkt = cMDS(pair_rmsd_pkt)[0]"
   ]
  },
  {
   "cell_type": "markdown",
   "metadata": {},
   "source": [
    "### t-SNE"
   ]
  },
  {
   "cell_type": "code",
   "execution_count": 39,
   "metadata": {},
   "outputs": [],
   "source": [
    "from copy import copy\n",
    "\n",
    "def get_new_dimentions(dmr_obj, traj, frames = None, atom_mask = \"@CA\"):\n",
    "    ''' Retorna un objeto pca dada una trayectoria de pytraj y una mascara de selección'''\n",
    "    if frames is None:\n",
    "        frames = range(0, traj.n_frames)\n",
    "    traj_subset = traj_crystals[frames, atom_mask]\n",
    "    xyz_2d_array = traj_subset.xyz.reshape(traj_subset.n_frames, traj_subset.n_atoms * 3)\n",
    "    # Crea una copia del estimador para evitar reentrenar el mismo objeto\n",
    "    dmr_obj_copy = copy(dmr_obj)\n",
    "    reduced = dmr_obj_copy.fit_transform( xyz_2d_array )\n",
    "    return reduced"
   ]
  },
  {
   "cell_type": "code",
   "execution_count": 40,
   "metadata": {},
   "outputs": [],
   "source": [
    "# tSNE"
   ]
  },
  {
   "cell_type": "code",
   "execution_count": 41,
   "metadata": {},
   "outputs": [],
   "source": [
    "from sklearn.manifold import TSNE\n",
    "tsne_obj = TSNE(n_components=2, learning_rate=50)\n",
    "\n",
    "tsne_sec = get_new_dimentions(tsne_obj, traj_crystals, \n",
    "                              frames=None, atom_mask=sec_str_mask).T\n",
    "\n",
    "\n",
    "tsne_pkt = get_new_dimentions(tsne_obj, traj_crystals, \n",
    "                              frames=None, atom_mask=pkt_str_mask).T"
   ]
  },
  {
   "cell_type": "code",
   "execution_count": 44,
   "metadata": {},
   "outputs": [],
   "source": [
    "# Pocket shape information\n",
    "# python3 binding_site_overlap_RICCI.py -f *frame_*npy  -c --csv\n",
    "\n",
    "# *******************\n",
    "# Secondary Structure\n",
    "# *******************\n",
    "dir_volumen_results = '../../ARCHIVOS/CRISTALES/VOLUMEN/CDK2_VOL_PISANI_402/res_frameInfo/'\n",
    "\n",
    "vol_tan_mtx = pd.read_csv(dir_volumen_results + 'POVME_Tanimoto_matrix.csv', header=None)\n",
    "vol_tan_col_mtx = pd.read_csv(dir_volumen_results + 'POVME_Tanimoto_matrix_colored.csv', header=None)\n",
    "vol_tan_hyfb_mtx = pd.read_csv(dir_volumen_results +'POVME_Tanimoto_matrix_hydrophobic.csv', header=None)\n",
    "\n",
    "# MDS using only col Tanimoto\n",
    "mds_vol_sec = cMDS(1 - vol_tan_mtx)[0]\n",
    "\n",
    "# *******************\n",
    "# Pocket Residues \n",
    "# *******************\n",
    "dir_volumen_results = '../../ARCHIVOS/CRISTALES/VOLUMEN/CDK2_VOL_RICCI_402/res_frameInfo/'\n",
    "\n",
    "vol_tan_mtx = pd.read_csv(dir_volumen_results + 'POVME_Tanimoto_matrix.csv', header=None)\n",
    "vol_tan_col_mtx = pd.read_csv(dir_volumen_results + 'POVME_Tanimoto_matrix_colored.csv', header=None)\n",
    "vol_tan_hyfb_mtx = pd.read_csv(dir_volumen_results +'POVME_Tanimoto_matrix_hydrophobic.csv', header=None)\n",
    "\n",
    "# MDS using only col Tanimoto\n",
    "mds_vol_pkt = cMDS(1 - vol_tan_mtx)[0]"
   ]
  },
  {
   "cell_type": "markdown",
   "metadata": {},
   "source": [
    "### Merge all values: Dimensionality Reduction"
   ]
  },
  {
   "cell_type": "code",
   "execution_count": 45,
   "metadata": {},
   "outputs": [],
   "source": [
    "df_dims = pd.DataFrame([mds_sec[0], mds_sec[1],\n",
    "                        mds_pkt[0], mds_pkt[1],\n",
    "                        tsne_sec[0], tsne_sec[1],\n",
    "                        tsne_pkt[0], tsne_pkt[1],\n",
    "                        mds_vol_sec[0], mds_vol_sec[1],\n",
    "                        mds_vol_pkt[0], mds_vol_pkt[1]]).T\n",
    "\n",
    "# Set names\n",
    "colnames = ['mds_sec_x', 'mds_sec_y',\n",
    "            'mds_pkt_x', 'mds_pkt_y',\n",
    "            'tsne_sec_x', 'tsne_sec_y',\n",
    "            'tsne_pkt_x', 'tsne_pkt_y',\n",
    "            'mds_vol_sec_x', 'mds_vol_sec_y',\n",
    "            'mds_vol_pkt_x', 'mds_vol_pkt_y',\n",
    "           ]\n",
    "\n",
    "# Set the names\n",
    "df_dims.columns = colnames\n",
    "# Set index\n",
    "df_dims.index = df_prot.index\n",
    "df_dims\n",
    "\n",
    "\n",
    "# Save the results\n",
    "df_dims.to_pickle('./CDK2_DIMS_reduced_TABLE_dashApp.obj')"
   ]
  },
  {
   "cell_type": "markdown",
   "metadata": {},
   "source": [
    "## 3) Table: Merged dataframes with Scores Results"
   ]
  },
  {
   "cell_type": "code",
   "execution_count": 57,
   "metadata": {},
   "outputs": [
    {
     "data": {
      "text/plain": [
       "(3466, 402)"
      ]
     },
     "execution_count": 57,
     "metadata": {},
     "output_type": "execute_result"
    }
   ],
   "source": [
    "file_name = '../6_Machine_Learning_Models/df_DkSc_results_COCRYS_CSAR_DEKOIS_DUD.pkl'\n",
    "X_merged_dksc = pd.read_pickle(file_name)\n",
    "# Extract activity column\n",
    "y_true_merged = X_merged_dksc['activity']\n",
    "# Drop column from merged_dkksc\n",
    "X_merged_dksc = X_merged_dksc.drop('activity', axis=1)\n",
    "X_merged_dksc.shape"
   ]
  },
  {
   "cell_type": "markdown",
   "metadata": {},
   "source": [
    "## 4) Preselected Conformations"
   ]
  },
  {
   "cell_type": "code",
   "execution_count": 65,
   "metadata": {},
   "outputs": [],
   "source": [
    "import joblib\n",
    "import warnings\n",
    "warnings.filterwarnings(\"ignore\")"
   ]
  },
  {
   "cell_type": "code",
   "execution_count": 79,
   "metadata": {},
   "outputs": [],
   "source": [
    "# Funtion to get the dataframe with selected k conformations using RFE\n",
    "def selected_confs_from_RFE(rfe_selector, X):\n",
    "    '''Returns a Data Frame with n rows (n = num of protein conformations) and one\n",
    "       column where each cell contains a list of k indices indicating the selected conformations.\n",
    "       Selected conformatios are obtained from an rfe_selector estimator and the X matrix.'''\n",
    "    # Get the features ranking\n",
    "    df_ranks = pd.DataFrame({'pdb_id': X.columns, 'rfe_ranking': rfe_selector.ranking_})\n",
    "    # Sort features by ranking\n",
    "    df_ranks.sort_values('rfe_ranking', inplace = True)\n",
    "    # Get the dataframe with the list of conf indices per k conformations\n",
    "    confs_per_k = [ df_ranks.index[:i + 1].tolist() for i in range(len(df_ranks))]\n",
    "    df_sel_confs = pd.DataFrame({'confs_idx_per_k': confs_per_k})\n",
    "    return df_sel_confs\n",
    "\n",
    "\n",
    "# Auxiliar Function to extract RFE preselected conformations\n",
    "def get_preselected_conf_sorted_RFE(filename, X):\n",
    "    \n",
    "    # RFE selector LogReg Random split\n",
    "    rfe_selector = joblib.load(filename)\n",
    "\n",
    "    #**************************\n",
    "    # Get the features ranking\n",
    "    df_sel_confs = selected_confs_from_RFE(rfe_selector, X)\n",
    "\n",
    "    # Get the array of preselected conformations\n",
    "    # Due to RFE is a sequential selector, we only need the last row of the dataframe\n",
    "    return np.array(df_sel_confs.iloc[-1].values[0])"
   ]
  },
  {
   "cell_type": "code",
   "execution_count": 80,
   "metadata": {},
   "outputs": [],
   "source": [
    "X = X_merged_dksc"
   ]
  },
  {
   "cell_type": "code",
   "execution_count": 81,
   "metadata": {},
   "outputs": [],
   "source": [
    "#***************************\n",
    "# Create an empty dictionary\n",
    "#***************************\n",
    "preselect_confs = {}"
   ]
  },
  {
   "cell_type": "markdown",
   "metadata": {},
   "source": [
    "### Random Splitting"
   ]
  },
  {
   "cell_type": "code",
   "execution_count": 90,
   "metadata": {},
   "outputs": [],
   "source": [
    "# Logistic Regression Estimator \n",
    "dataset = 'MERGED'\n",
    "model_name = 'LogReg'\n",
    "split = 'random'\n",
    "filename = f'../6_Machine_Learning_Models/ml_models/RFECV_selector_{model_name}_{dataset}_{split}_split.joblib'\n",
    "# RFE selector LogReg Random split\n",
    "preselect_confs[f'RFE_{model_name}_{split}'] = get_preselected_conf_sorted_RFE(filename, X)\n",
    "\n",
    "\n",
    "# Random Forest Estimator \n",
    "dataset = 'MERGED'\n",
    "model_name = 'RandomForest'\n",
    "split = 'random'\n",
    "filename = f'../6_Machine_Learning_Models/ml_models/RFECV_selector_{model_name}_{dataset}_{split}_split.joblib'\n",
    "# RFE selector LogReg Random split\n",
    "preselect_confs[f'RFE_{model_name}_{split}'] = get_preselected_conf_sorted_RFE(filename, X)\n",
    "\n",
    "\n",
    "# XGB tree Estimator \n",
    "dataset = 'MERGED'\n",
    "model_name = 'XGB_tree'\n",
    "split = 'random'\n",
    "filename = f'../6_Machine_Learning_Models/ml_models/RFECV_selector_{model_name}_{dataset}_{split}_split.joblib'\n",
    "# RFE selector LogReg Random split\n",
    "preselect_confs[f'RFE_{model_name}_{split}'] = get_preselected_conf_sorted_RFE(filename, X)"
   ]
  },
  {
   "cell_type": "markdown",
   "metadata": {},
   "source": [
    "### Scaffold Splitting"
   ]
  },
  {
   "cell_type": "code",
   "execution_count": 92,
   "metadata": {},
   "outputs": [],
   "source": [
    "# Logistic Regression Estimator \n",
    "dataset = 'MERGED'\n",
    "model_name = 'LogReg'\n",
    "split = 'scaffold'\n",
    "filename = f'../6_Machine_Learning_Models/ml_models/RFECV_selector_{model_name}_{dataset}_{split}_split.joblib'\n",
    "# RFE selector LogReg Random split\n",
    "preselect_confs[f'RFE_{model_name}_{split}'] = get_preselected_conf_sorted_RFE(filename, X)\n",
    "\n",
    "\n",
    "# Random Forest Estimator \n",
    "dataset = 'MERGED'\n",
    "model_name = 'RandomForest'\n",
    "split = 'scaffold'\n",
    "filename = f'../6_Machine_Learning_Models/ml_models/RFECV_selector_{model_name}_{dataset}_{split}_split.joblib'\n",
    "# RFE selector LogReg Random split\n",
    "preselect_confs[f'RFE_{model_name}_{split}'] = get_preselected_conf_sorted_RFE(filename, X)\n",
    "\n",
    "\n",
    "# XGB tree Estimator \n",
    "dataset = 'MERGED'\n",
    "model_name = 'XGB_tree'\n",
    "split = 'scaffold'\n",
    "filename = f'../6_Machine_Learning_Models/ml_models/RFECV_selector_{model_name}_{dataset}_{split}_split.joblib'\n",
    "# RFE selector LogReg Random split\n",
    "preselect_confs[f'RFE_{model_name}_{split}'] = get_preselected_conf_sorted_RFE(filename, X)"
   ]
  },
  {
   "cell_type": "code",
   "execution_count": 93,
   "metadata": {},
   "outputs": [
    {
     "data": {
      "text/plain": [
       "{'RFE_LogReg_random': array([  0, 270, 268, ...,  37, 286, 371]),\n",
       " 'RFE_RandomForest_random': array([321, 293, 334, ..., 199, 401, 200]),\n",
       " 'RFE_XGB_tree_random': array([  0, 182, 183, ..., 143, 204, 221]),\n",
       " 'RFE_LogReg_scaffold': array([  0, 272, 271, ...,  41, 242, 247]),\n",
       " 'RFE_RandomForest_scaffold': array([248, 333, 332, ...,   2,   1,   0]),\n",
       " 'RFE_XGB_tree_scaffold': array([  0, 272, 271, ..., 137, 401, 352])}"
      ]
     },
     "execution_count": 93,
     "metadata": {},
     "output_type": "execute_result"
    }
   ],
   "source": [
    "preselect_confs"
   ]
  },
  {
   "cell_type": "code",
   "execution_count": null,
   "metadata": {},
   "outputs": [],
   "source": []
  }
 ],
 "metadata": {
  "kernelspec": {
   "display_name": "Python 3",
   "language": "python",
   "name": "python3"
  },
  "language_info": {
   "codemirror_mode": {
    "name": "ipython",
    "version": 3
   },
   "file_extension": ".py",
   "mimetype": "text/x-python",
   "name": "python",
   "nbconvert_exporter": "python",
   "pygments_lexer": "ipython3",
   "version": "3.7.6"
  }
 },
 "nbformat": 4,
 "nbformat_minor": 4
}
