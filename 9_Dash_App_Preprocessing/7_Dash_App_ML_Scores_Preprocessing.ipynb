{
 "cells": [
  {
   "cell_type": "code",
   "execution_count": 2,
   "metadata": {},
   "outputs": [],
   "source": [
    "import pandas as pd\n",
    "import numpy as np\n",
    "import pytraj as pyt\n",
    "import matplotlib.pyplot as plt\n",
    "import glob, sys, os\n",
    "sys.path.append(r'..')"
   ]
  },
  {
   "cell_type": "code",
   "execution_count": 3,
   "metadata": {},
   "outputs": [],
   "source": [
    "prot_name = 'cdk2'"
   ]
  },
  {
   "cell_type": "markdown",
   "metadata": {},
   "source": [
    "## 1) Protein Metadata"
   ]
  },
  {
   "cell_type": "code",
   "execution_count": 4,
   "metadata": {},
   "outputs": [],
   "source": [
    "### Protein data table"
   ]
  },
  {
   "cell_type": "code",
   "execution_count": 33,
   "metadata": {},
   "outputs": [],
   "source": [
    "path_to_file = '../data/TABLA_MTDATA_CDK2_402_crys_LIGS_INFO_LABELS.json'\n",
    "df_prot = pd.read_json(path_to_file)\n",
    "# df_prot"
   ]
  },
  {
   "cell_type": "code",
   "execution_count": 8,
   "metadata": {},
   "outputs": [],
   "source": [
    "## Load all protein structures"
   ]
  },
  {
   "cell_type": "code",
   "execution_count": 6,
   "metadata": {},
   "outputs": [
    {
     "name": "stdout",
     "output_type": "stream",
     "text": [
      "Número de frames: 402.\n",
      "Número de átomos: 4848.\n"
     ]
    }
   ],
   "source": [
    "file_pdb_traj_all = '../../ARCHIVOS/CRISTALES/TRAJ_CRISTALS_PDB/PDB_402_cdk2_PISANI_ALL.pdb'\n",
    "traj_crystals = pyt.load(file_pdb_traj_all)\n",
    "\n",
    "print(F'Número de frames: {traj_crystals.n_frames}.\\nNúmero de átomos: {traj_crystals.n_atoms}.')"
   ]
  },
  {
   "cell_type": "code",
   "execution_count": 20,
   "metadata": {},
   "outputs": [],
   "source": [
    "# Used residues "
   ]
  },
  {
   "cell_type": "code",
   "execution_count": 7,
   "metadata": {},
   "outputs": [],
   "source": [
    "from modules.subsecuencias_cdk2 import *\n",
    "pisiani_residues = get_pisani_residues(sep=\",\") # subsecuencia de la estructura secuendaria\n",
    "pocket_residues = get_pocket_residues(sep=\",\")"
   ]
  },
  {
   "cell_type": "code",
   "execution_count": 8,
   "metadata": {},
   "outputs": [],
   "source": [
    "# Mask to select CA atoms from secondary structure residues\n",
    "sec_str_mask = f'(:{pisiani_residues})&(@CA)'\n",
    "\n",
    "# Mask to select CA form pocket residues\n",
    "pkt_str_mask = f'(:{pocket_residues})&(@CA)'"
   ]
  },
  {
   "cell_type": "code",
   "execution_count": 9,
   "metadata": {},
   "outputs": [],
   "source": [
    "# Volume Information"
   ]
  },
  {
   "cell_type": "code",
   "execution_count": 10,
   "metadata": {},
   "outputs": [],
   "source": [
    "# Volume using povme\n",
    "def get_volume_results(files, col_names, index_col):\n",
    "    df_columns = []\n",
    "    for file in files:\n",
    "        df = pd.read_csv(file, sep='\\t', header=None, names=['conf_num', 'volume'])[['volume']]\n",
    "        df_columns.append(df)\n",
    "    # Concatenate dataframes\n",
    "    res_df = pd.concat(df_columns, axis=1)\n",
    "    res_df.columns = col_names\n",
    "    # Set the index\n",
    "    res_df.index = index_col\n",
    "    return res_df"
   ]
  },
  {
   "cell_type": "code",
   "execution_count": 13,
   "metadata": {},
   "outputs": [],
   "source": [
    "# Pocket residues alignment (done using vmd)\n",
    "pocket_file = '../../ARCHIVOS/CRISTALES/VOLUMEN/CDK2_VOL_RICCI_402/res_volumes.tabbed.txt'\n",
    "\n",
    "# Append results from secondary structure alignment\n",
    "sec_file =  '../../ARCHIVOS/CRISTALES/VOLUMEN/CDK2_VOL_PISANI_402/res_volumes.tabbed.txt'\n",
    "\n",
    "df_volumen = get_volume_results([pocket_file, sec_file], ['pocket', 'sec-struct'], index_col=df_prot.index)"
   ]
  },
  {
   "cell_type": "code",
   "execution_count": null,
   "metadata": {},
   "outputs": [],
   "source": [
    "# Format table for dash app"
   ]
  },
  {
   "cell_type": "code",
   "execution_count": 34,
   "metadata": {},
   "outputs": [],
   "source": [
    "# Add volume info to the main table\n",
    "df_dash_app = pd.concat([df_prot, df_volumen], axis=1)\n",
    "# Drop unuseful columns\n",
    "df_dash_app.reset_index(inplace=True)\n",
    "cols2keep = {'index': 'PDB-id', 'Date': 'Date', 'Resolution': 'Resolution', \n",
    "                'Coverage': 'Coverage', 'Inhib': 'Ligand',  'Inhib_mass': 'LigMass', \n",
    "                'pocket': 'Pocket Volume (Sec)','sec-struct': 'Pocket Volume (Pkt)',\n",
    "                'Labels_conf': 'Conformation'}\n",
    "\n",
    "df_dash_app = df_dash_app[cols2keep.keys()]\n",
    "df_dash_app = df_dash_app.rename(columns=cols2keep)\n",
    "\n",
    "# Fill na values\n",
    "df_dash_app.fillna(0)\n",
    "\n",
    "# Format conformation column \n",
    "df_dash_app.Conformation = df_dash_app['Conformation'].apply(lambda x: x.replace('_', ' ').capitalize())\n",
    "\n",
    "# Cas data types\n",
    "df_dash_app = df_dash_app.infer_objects()\n",
    "df_dash_app\n",
    "# Save the table to be added to the APP\n",
    "df_dash_app.to_pickle('./CDK2_PDB_metadata_TABLE_dashApp.obj')"
   ]
  },
  {
   "cell_type": "markdown",
   "metadata": {},
   "source": [
    "## 2) Dimensionality Reduction Table"
   ]
  },
  {
   "cell_type": "markdown",
   "metadata": {},
   "source": [
    "### Classical Multidimensional Scaling"
   ]
  },
  {
   "cell_type": "code",
   "execution_count": 35,
   "metadata": {},
   "outputs": [],
   "source": [
    "from modules.MDS import cMDS\n",
    "from modules.plotting_functions import plot_points, plot_anotation_labels"
   ]
  },
  {
   "cell_type": "code",
   "execution_count": 36,
   "metadata": {},
   "outputs": [],
   "source": [
    "pair_rmsd_sec = pyt.pairwise_rmsd(traj = traj_crystals,\n",
    "                                 mask = sec_str_mask, metric='rms')\n",
    "\n",
    "pair_rmsd_pkt = pyt.pairwise_rmsd(traj = traj_crystals,\n",
    "                                 mask = pkt_str_mask, metric='rms')"
   ]
  },
  {
   "cell_type": "code",
   "execution_count": 37,
   "metadata": {},
   "outputs": [],
   "source": [
    "# Generación del cMDS"
   ]
  },
  {
   "cell_type": "code",
   "execution_count": 38,
   "metadata": {},
   "outputs": [],
   "source": [
    "mds_sec = cMDS(pair_rmsd_sec)[0]\n",
    "mds_pkt = cMDS(pair_rmsd_pkt)[0]"
   ]
  },
  {
   "cell_type": "markdown",
   "metadata": {},
   "source": [
    "### t-SNE"
   ]
  },
  {
   "cell_type": "code",
   "execution_count": 39,
   "metadata": {},
   "outputs": [],
   "source": [
    "from copy import copy\n",
    "\n",
    "def get_new_dimentions(dmr_obj, traj, frames = None, atom_mask = \"@CA\"):\n",
    "    ''' Retorna un objeto pca dada una trayectoria de pytraj y una mascara de selección'''\n",
    "    if frames is None:\n",
    "        frames = range(0, traj.n_frames)\n",
    "    traj_subset = traj_crystals[frames, atom_mask]\n",
    "    xyz_2d_array = traj_subset.xyz.reshape(traj_subset.n_frames, traj_subset.n_atoms * 3)\n",
    "    # Crea una copia del estimador para evitar reentrenar el mismo objeto\n",
    "    dmr_obj_copy = copy(dmr_obj)\n",
    "    reduced = dmr_obj_copy.fit_transform( xyz_2d_array )\n",
    "    return reduced"
   ]
  },
  {
   "cell_type": "code",
   "execution_count": 40,
   "metadata": {},
   "outputs": [],
   "source": [
    "# tSNE"
   ]
  },
  {
   "cell_type": "code",
   "execution_count": 41,
   "metadata": {},
   "outputs": [],
   "source": [
    "from sklearn.manifold import TSNE\n",
    "tsne_obj = TSNE(n_components=2, learning_rate=50)\n",
    "\n",
    "tsne_sec = get_new_dimentions(tsne_obj, traj_crystals, \n",
    "                              frames=None, atom_mask=sec_str_mask).T\n",
    "\n",
    "\n",
    "tsne_pkt = get_new_dimentions(tsne_obj, traj_crystals, \n",
    "                              frames=None, atom_mask=pkt_str_mask).T"
   ]
  },
  {
   "cell_type": "code",
   "execution_count": 44,
   "metadata": {},
   "outputs": [],
   "source": [
    "# Pocket shape information\n",
    "# python3 binding_site_overlap_RICCI.py -f *frame_*npy  -c --csv\n",
    "\n",
    "# *******************\n",
    "# Secondary Structure\n",
    "# *******************\n",
    "dir_volumen_results = '../../ARCHIVOS/CRISTALES/VOLUMEN/CDK2_VOL_PISANI_402/res_frameInfo/'\n",
    "\n",
    "vol_tan_mtx = pd.read_csv(dir_volumen_results + 'POVME_Tanimoto_matrix.csv', header=None)\n",
    "vol_tan_col_mtx = pd.read_csv(dir_volumen_results + 'POVME_Tanimoto_matrix_colored.csv', header=None)\n",
    "vol_tan_hyfb_mtx = pd.read_csv(dir_volumen_results +'POVME_Tanimoto_matrix_hydrophobic.csv', header=None)\n",
    "\n",
    "# MDS using only col Tanimoto\n",
    "mds_vol_sec = cMDS(1 - vol_tan_mtx)[0]\n",
    "\n",
    "# *******************\n",
    "# Pocket Residues \n",
    "# *******************\n",
    "dir_volumen_results = '../../ARCHIVOS/CRISTALES/VOLUMEN/CDK2_VOL_RICCI_402/res_frameInfo/'\n",
    "\n",
    "vol_tan_mtx = pd.read_csv(dir_volumen_results + 'POVME_Tanimoto_matrix.csv', header=None)\n",
    "vol_tan_col_mtx = pd.read_csv(dir_volumen_results + 'POVME_Tanimoto_matrix_colored.csv', header=None)\n",
    "vol_tan_hyfb_mtx = pd.read_csv(dir_volumen_results +'POVME_Tanimoto_matrix_hydrophobic.csv', header=None)\n",
    "\n",
    "# MDS using only col Tanimoto\n",
    "mds_vol_pkt = cMDS(1 - vol_tan_mtx)[0]"
   ]
  },
  {
   "cell_type": "markdown",
   "metadata": {},
   "source": [
    "### Merge all values: Dimensionality Reduction"
   ]
  },
  {
   "cell_type": "code",
   "execution_count": 96,
   "metadata": {},
   "outputs": [],
   "source": [
    "df_dims = pd.DataFrame([mds_sec[0], mds_sec[1],\n",
    "                        mds_pkt[0], mds_pkt[1],\n",
    "                        tsne_sec[0], tsne_sec[1],\n",
    "                        tsne_pkt[0], tsne_pkt[1],\n",
    "                        mds_vol_sec[0], mds_vol_sec[1],\n",
    "                        mds_vol_pkt[0], mds_vol_pkt[1]]).T\n",
    "\n",
    "# Set names\n",
    "colnames = ['mds_sec_x', 'mds_sec_y',\n",
    "            'mds_pkt_x', 'mds_pkt_y',\n",
    "            'tsne_sec_x', 'tsne_sec_y',\n",
    "            'tsne_pkt_x', 'tsne_pkt_y',\n",
    "            'mds_vol_sec_x', 'mds_vol_sec_y',\n",
    "            'mds_vol_pkt_x', 'mds_vol_pkt_y',\n",
    "           ]\n",
    "\n",
    "# Set the names\n",
    "df_dims.columns = colnames\n",
    "# Set index\n",
    "df_dims.index = df_prot.index\n",
    "\n",
    "# Save the results\n",
    "# df_dims.to_pickle('./CDK2_DIMS_reduced_TABLE_dashApp.obj')"
   ]
  },
  {
   "cell_type": "markdown",
   "metadata": {},
   "source": [
    "## 3) Table: Merged dataframes with Scores Results"
   ]
  },
  {
   "cell_type": "code",
   "execution_count": 111,
   "metadata": {},
   "outputs": [],
   "source": [
    "%run ../modules/plotting_metrics.py"
   ]
  },
  {
   "cell_type": "code",
   "execution_count": 57,
   "metadata": {},
   "outputs": [
    {
     "data": {
      "text/plain": [
       "(3466, 402)"
      ]
     },
     "execution_count": 57,
     "metadata": {},
     "output_type": "execute_result"
    }
   ],
   "source": [
    "file_name = '../6_Machine_Learning_Models/df_DkSc_results_COCRYS_CSAR_DEKOIS_DUD.pkl'\n",
    "X_merged_dksc = pd.read_pickle(file_name)\n",
    "# Extract activity column\n",
    "y_true_merged = X_merged_dksc['activity']\n",
    "# Drop column from merged_dkksc\n",
    "X_merged_dksc = X_merged_dksc.drop('activity', axis=1)\n",
    "X_merged_dksc.shape"
   ]
  },
  {
   "cell_type": "markdown",
   "metadata": {},
   "source": [
    "### Compute Metrics on Raw docking Scores"
   ]
  },
  {
   "cell_type": "code",
   "execution_count": 234,
   "metadata": {},
   "outputs": [],
   "source": [
    "import sys\n",
    "sys.path.append('../2_Docking_analysis/')\n",
    "from scaffold_splitter import train_test_scaffold_split\n",
    "\n",
    "# Compute or load the dataframe containing the Generic Murcko Scaffolds\n",
    "file = '../2_Docking_analysis/df_COCRYS_CSAR_DUD_DEKOIS_Murcko_Scaffolds_SMILES.obj'\n",
    "\n",
    "X = X_merged_dksc\n",
    "y = y_true_merged\n",
    "\n",
    "# Scaffold splitted subsets\n",
    "df_scff_murcko = pd.read_pickle(file)\n",
    "df_scff_murcko.shape\n",
    "scaffold_series = df_scff_murcko['scff_generic']\n",
    "\n",
    "# Create the scaffold splitting\n",
    "X_scff_train, X_scff_test, y_scff_train, y_scff_test = train_test_scaffold_split(X, y, \n",
    "                                    scaffold_series = scaffold_series,\n",
    "                                    test_size=0.25, stratify=y)\n",
    "# The rest of subsections\n",
    "lib = 'CSAR'\n",
    "X_CSAR, y_CSAR = X.loc[lib], y.loc[lib]\n",
    "\n",
    "lib = 'DEKOIS'\n",
    "X_DEKOIS, y_DEKOIS = X.loc[lib], y.loc[lib]\n",
    "\n",
    "lib = 'DUD'\n",
    "X_DUD, y_DUD = X.loc[lib], y.loc[lib]\n",
    "\n",
    "# ******************************\n",
    "# Create a dictionary of subsets\n",
    "# ******************************\n",
    "\n",
    "raw_dksc_subsets = {\n",
    "    'csar': (X_CSAR, y_CSAR),\n",
    "    'dekois': (X_DEKOIS, y_DEKOIS),\n",
    "    'dud': (X_DUD, y_DUD),\n",
    "    'merged': (X, y),\n",
    "    'scff-train': (X_scff_train, y_scff_train),\n",
    "    'scff-test': (X_scff_test, y_scff_test)\n",
    "}"
   ]
  },
  {
   "cell_type": "code",
   "execution_count": 235,
   "metadata": {},
   "outputs": [],
   "source": [
    "# List of parameters to compute\n",
    "roc_params = {'metric_name': 'roc_auc'}\n",
    "nef_params = {'metric_name': 'nef_auc'}\n",
    "pr_params = {'metric_name': 'pr_auc'}\n",
    "\n",
    "# The Ra value for the testing set in FXa is 75/1559 = 0.05\n",
    "# Therefore the maximum value of alpha for bedroc could be a=20\n",
    "bedroc_20 = {'metric_name': 'bedroc', 'alpha': 20}\n",
    "bedroc_10 = {'metric_name': 'bedroc', 'alpha': 10}\n",
    "bedroc_2 = {'metric_name': 'bedroc', 'alpha': 2}\n",
    "bedroc_05 = {'metric_name': 'bedroc', 'alpha': 0.5}\n",
    "\n",
    "# ef values 0.001, 0.005, 0.02, 0.1, 0.2\n",
    "ef_0001 = {'metric_name': 'ef', 'fraction': 0.001}\n",
    "ef_0005 = {'metric_name': 'ef', 'fraction': 0.005}\n",
    "ef_002 = {'metric_name': 'ef', 'fraction': 0.02}\n",
    "ef_02 = {'metric_name': 'ef', 'fraction': 0.2}\n",
    "\n",
    "# List of metrics\n",
    "metrics = [roc_params, nef_params, pr_params,\n",
    "           bedroc_20, bedroc_10, bedroc_2, bedroc_05,\n",
    "           ef_0001, ef_0005, ef_002, ef_02]"
   ]
  },
  {
   "cell_type": "code",
   "execution_count": 236,
   "metadata": {},
   "outputs": [],
   "source": [
    "def get_dksc_metric_results(X, y, metric_params):\n",
    "    dict_y_preds = X.to_dict('list')\n",
    "    metric_results = PlotMetric(y_true=y, y_pred_dict=dict_y_preds, \n",
    "                                decreasing=True).format_metric_results(\n",
    "                                **metric_params)\n",
    "    return metric_results"
   ]
  },
  {
   "cell_type": "code",
   "execution_count": 237,
   "metadata": {},
   "outputs": [],
   "source": [
    "dict_metrics_dksc = {}\n",
    "\n",
    "for subset, (X, y) in raw_dksc_subsets.items():\n",
    "    for m_p in metrics:\n",
    "        metric_name = '-'.join([str(i) for i in list(m_p.values())])\n",
    "        colname = subset + '_' + metric_name\n",
    "        \n",
    "        values = get_dksc_metric_results(X, y, m_p).T.values[0]\n",
    "        \n",
    "        dict_metrics_dksc[colname] = values\n",
    "\n",
    "#*******************\n",
    "# Create a dataframe\n",
    "#*******************\n",
    "\n",
    "df_raw_dksc_metrics = pd.DataFrame(dict_metrics_dksc, index=df_prot.index)"
   ]
  },
  {
   "cell_type": "markdown",
   "metadata": {},
   "source": [
    "## 4) Preselected Conformations"
   ]
  },
  {
   "cell_type": "code",
   "execution_count": 65,
   "metadata": {},
   "outputs": [],
   "source": [
    "import joblib\n",
    "import warnings\n",
    "warnings.filterwarnings(\"ignore\")"
   ]
  },
  {
   "cell_type": "code",
   "execution_count": 79,
   "metadata": {},
   "outputs": [],
   "source": [
    "# Funtion to get the dataframe with selected k conformations using RFE\n",
    "def selected_confs_from_RFE(rfe_selector, X):\n",
    "    '''Returns a Data Frame with n rows (n = num of protein conformations) and one\n",
    "       column where each cell contains a list of k indices indicating the selected conformations.\n",
    "       Selected conformatios are obtained from an rfe_selector estimator and the X matrix.'''\n",
    "    # Get the features ranking\n",
    "    df_ranks = pd.DataFrame({'pdb_id': X.columns, 'rfe_ranking': rfe_selector.ranking_})\n",
    "    # Sort features by ranking\n",
    "    df_ranks.sort_values('rfe_ranking', inplace = True)\n",
    "    # Get the dataframe with the list of conf indices per k conformations\n",
    "    confs_per_k = [ df_ranks.index[:i + 1].tolist() for i in range(len(df_ranks))]\n",
    "    df_sel_confs = pd.DataFrame({'confs_idx_per_k': confs_per_k})\n",
    "    return df_sel_confs\n",
    "\n",
    "\n",
    "# Auxiliar Function to extract RFE preselected conformations\n",
    "def get_preselected_conf_sorted_RFE(filename, X):\n",
    "    \n",
    "    # RFE selector LogReg Random split\n",
    "    rfe_selector = joblib.load(filename)\n",
    "\n",
    "    #**************************\n",
    "    # Get the features ranking\n",
    "    df_sel_confs = selected_confs_from_RFE(rfe_selector, X)\n",
    "\n",
    "    # Get the array of preselected conformations\n",
    "    # Due to RFE is a sequential selector, we only need the last row of the dataframe\n",
    "    return np.array(df_sel_confs.iloc[-1].values[0])"
   ]
  },
  {
   "cell_type": "code",
   "execution_count": 81,
   "metadata": {},
   "outputs": [],
   "source": [
    "#***************************\n",
    "# Create an empty dictionary\n",
    "#***************************\n",
    "preselect_confs = {}"
   ]
  },
  {
   "cell_type": "markdown",
   "metadata": {},
   "source": [
    "### Random Splitting"
   ]
  },
  {
   "cell_type": "code",
   "execution_count": 90,
   "metadata": {},
   "outputs": [],
   "source": [
    "# Logistic Regression Estimator \n",
    "dataset = 'MERGED'\n",
    "model_name = 'LogReg'\n",
    "split = 'random'\n",
    "filename = f'../6_Machine_Learning_Models/ml_models/RFECV_selector_{model_name}_{dataset}_{split}_split.joblib'\n",
    "# RFE selector LogReg Random split\n",
    "preselect_confs[f'RFE_{model_name}_{split}'] = get_preselected_conf_sorted_RFE(filename, X)\n",
    "\n",
    "\n",
    "# Random Forest Estimator \n",
    "dataset = 'MERGED'\n",
    "model_name = 'RandomForest'\n",
    "split = 'random'\n",
    "filename = f'../6_Machine_Learning_Models/ml_models/RFECV_selector_{model_name}_{dataset}_{split}_split.joblib'\n",
    "# RFE selector LogReg Random split\n",
    "preselect_confs[f'RFE_{model_name}_{split}'] = get_preselected_conf_sorted_RFE(filename, X)\n",
    "\n",
    "\n",
    "# XGB tree Estimator \n",
    "dataset = 'MERGED'\n",
    "model_name = 'XGB_tree'\n",
    "split = 'random'\n",
    "filename = f'../6_Machine_Learning_Models/ml_models/RFECV_selector_{model_name}_{dataset}_{split}_split.joblib'\n",
    "# RFE selector LogReg Random split\n",
    "preselect_confs[f'RFE_{model_name}_{split}'] = get_preselected_conf_sorted_RFE(filename, X)"
   ]
  },
  {
   "cell_type": "markdown",
   "metadata": {},
   "source": [
    "### Scaffold Splitting"
   ]
  },
  {
   "cell_type": "code",
   "execution_count": 92,
   "metadata": {},
   "outputs": [],
   "source": [
    "# Logistic Regression Estimator \n",
    "dataset = 'MERGED'\n",
    "model_name = 'LogReg'\n",
    "split = 'scaffold'\n",
    "filename = f'../6_Machine_Learning_Models/ml_models/RFECV_selector_{model_name}_{dataset}_{split}_split.joblib'\n",
    "# RFE selector LogReg Random split\n",
    "preselect_confs[f'RFE_{model_name}_{split}'] = get_preselected_conf_sorted_RFE(filename, X)\n",
    "\n",
    "\n",
    "# Random Forest Estimator \n",
    "dataset = 'MERGED'\n",
    "model_name = 'RandomForest'\n",
    "split = 'scaffold'\n",
    "filename = f'../6_Machine_Learning_Models/ml_models/RFECV_selector_{model_name}_{dataset}_{split}_split.joblib'\n",
    "# RFE selector LogReg Random split\n",
    "preselect_confs[f'RFE_{model_name}_{split}'] = get_preselected_conf_sorted_RFE(filename, X)\n",
    "\n",
    "\n",
    "# XGB tree Estimator \n",
    "dataset = 'MERGED'\n",
    "model_name = 'XGB_tree'\n",
    "split = 'scaffold'\n",
    "filename = f'../6_Machine_Learning_Models/ml_models/RFECV_selector_{model_name}_{dataset}_{split}_split.joblib'\n",
    "# RFE selector LogReg Random split\n",
    "preselect_confs[f'RFE_{model_name}_{split}'] = get_preselected_conf_sorted_RFE(filename, X)"
   ]
  },
  {
   "cell_type": "code",
   "execution_count": 93,
   "metadata": {},
   "outputs": [
    {
     "data": {
      "text/plain": [
       "{'RFE_LogReg_random': array([  0, 270, 268, ...,  37, 286, 371]),\n",
       " 'RFE_RandomForest_random': array([321, 293, 334, ..., 199, 401, 200]),\n",
       " 'RFE_XGB_tree_random': array([  0, 182, 183, ..., 143, 204, 221]),\n",
       " 'RFE_LogReg_scaffold': array([  0, 272, 271, ...,  41, 242, 247]),\n",
       " 'RFE_RandomForest_scaffold': array([248, 333, 332, ...,   2,   1,   0]),\n",
       " 'RFE_XGB_tree_scaffold': array([  0, 272, 271, ..., 137, 401, 352])}"
      ]
     },
     "execution_count": 93,
     "metadata": {},
     "output_type": "execute_result"
    }
   ],
   "source": [
    "preselect_confs"
   ]
  },
  {
   "cell_type": "markdown",
   "metadata": {},
   "source": [
    "## 5) Conformational Selection Results"
   ]
  },
  {
   "cell_type": "code",
   "execution_count": 100,
   "metadata": {},
   "outputs": [],
   "source": [
    "import pickle"
   ]
  },
  {
   "cell_type": "code",
   "execution_count": 208,
   "metadata": {},
   "outputs": [],
   "source": [
    "filename = '../6_Machine_Learning_Models/CDK2_ML_results_conformational_selection.obj'\n",
    "with open(filename, 'rb') as f:\n",
    "    dic_ml_results = pickle.load(f)"
   ]
  },
  {
   "cell_type": "markdown",
   "metadata": {},
   "source": [
    "# FINAL OBJECT"
   ]
  },
  {
   "cell_type": "code",
   "execution_count": 238,
   "metadata": {},
   "outputs": [],
   "source": [
    "FINAL_DIC = dict(\n",
    "    df_PROT_METADATA = df_dash_app,\n",
    "    df_DIM_REDUCT = df_dims,\n",
    "    df_DKSC_METRICS = df_raw_dksc_metrics,\n",
    "    df_SELECTED_CONFS = preselect_confs,\n",
    "    dict_ML_RESULTS = dic_ml_results\n",
    ")"
   ]
  },
  {
   "cell_type": "code",
   "execution_count": 239,
   "metadata": {},
   "outputs": [],
   "source": [
    "# Save the object\n"
   ]
  },
  {
   "cell_type": "markdown",
   "metadata": {},
   "source": [
    "# Plot Testing"
   ]
  },
  {
   "cell_type": "code",
   "execution_count": 240,
   "metadata": {},
   "outputs": [],
   "source": [
    "import plotly.graph_objects as go"
   ]
  },
  {
   "cell_type": "code",
   "execution_count": 241,
   "metadata": {},
   "outputs": [],
   "source": [
    "metric = 'roc_auc'"
   ]
  },
  {
   "cell_type": "code",
   "execution_count": 274,
   "metadata": {},
   "outputs": [],
   "source": [
    "W = FINAL_DIC['df_DKSC_METRICS'].filter(regex=metric)\n",
    "\n",
    "selected_points = preselect_confs['RFE_LogReg_random'][0:34]"
   ]
  },
  {
   "cell_type": "code",
   "execution_count": 280,
   "metadata": {},
   "outputs": [
    {
     "data": {
      "application/vnd.plotly.v1+json": {
       "config": {
        "plotlyServerURL": "https://plot.ly"
       },
       "data": [
        {
         "box": {
          "visible": true
         },
         "jitter": 1,
         "marker": {
          "size": 5
         },
         "name": "CSAR",
         "points": "all",
         "selectedpoints": [
          0,
          270,
          268,
          267,
          266,
          265,
          264,
          263,
          261,
          260,
          271,
          259,
          257,
          256,
          255,
          254,
          253,
          252,
          251,
          249,
          248,
          258,
          247,
          272,
          274,
          295,
          294,
          293,
          292,
          291,
          290,
          289,
          288,
          287
         ],
         "side": "positive",
         "type": "violin",
         "y": [
          0.643,
          0.488,
          0.55,
          0.602,
          0.561,
          0.568,
          0.622,
          0.536,
          0.55,
          0.596,
          0.464,
          0.632,
          0.382,
          0.465,
          0.496,
          0.557,
          0.564,
          0.581,
          0.579,
          0.465,
          0.512,
          0.546,
          0.588,
          0.621,
          0.532,
          0.518,
          0.58,
          0.555,
          0.439,
          0.524,
          0.542,
          0.575,
          0.572,
          0.497,
          0.432,
          0.466,
          0.594,
          0.582,
          0.512,
          0.533,
          0.502,
          0.59,
          0.569,
          0.522,
          0.572,
          0.573,
          0.605,
          0.582,
          0.605,
          0.514,
          0.488,
          0.609,
          0.522,
          0.468,
          0.461,
          0.59,
          0.478,
          0.593,
          0.481,
          0.582,
          0.578,
          0.501,
          0.52,
          0.49,
          0.55,
          0.557,
          0.597,
          0.548,
          0.476,
          0.621,
          0.489,
          0.547,
          0.566,
          0.564,
          0.622,
          0.547,
          0.546,
          0.624,
          0.576,
          0.483,
          0.563,
          0.438,
          0.494,
          0.545,
          0.554,
          0.585,
          0.568,
          0.605,
          0.536,
          0.543,
          0.584,
          0.599,
          0.42,
          0.502,
          0.549,
          0.579,
          0.419,
          0.617,
          0.491,
          0.531,
          0.521,
          0.522,
          0.521,
          0.588,
          0.547,
          0.521,
          0.506,
          0.51,
          0.508,
          0.601,
          0.529,
          0.551,
          0.576,
          0.482,
          0.508,
          0.518,
          0.51,
          0.526,
          0.541,
          0.578,
          0.599,
          0.611,
          0.594,
          0.581,
          0.523,
          0.513,
          0.595,
          0.509,
          0.5,
          0.5,
          0.575,
          0.5,
          0.609,
          0.522,
          0.589,
          0.591,
          0.623,
          0.579,
          0.599,
          0.592,
          0.524,
          0.521,
          0.55,
          0.526,
          0.535,
          0.509,
          0.498,
          0.567,
          0.515,
          0.447,
          0.56,
          0.535,
          0.497,
          0.472,
          0.476,
          0.464,
          0.486,
          0.516,
          0.511,
          0.55,
          0.531,
          0.53,
          0.584,
          0.657,
          0.593,
          0.542,
          0.516,
          0.519,
          0.565,
          0.502,
          0.491,
          0.543,
          0.575,
          0.454,
          0.499,
          0.553,
          0.616,
          0.589,
          0.528,
          0.601,
          0.516,
          0.488,
          0.468,
          0.577,
          0.586,
          0.605,
          0.579,
          0.547,
          0.531,
          0.624,
          0.686,
          0.592,
          0.473,
          0.624,
          0.597,
          0.472,
          0.611,
          0.528,
          0.489,
          0.544,
          0.606,
          0.546,
          0.579,
          0.529,
          0.54,
          0.588,
          0.544,
          0.529,
          0.518,
          0.576,
          0.55,
          0.498,
          0.544,
          0.547,
          0.557,
          0.533,
          0.552,
          0.461,
          0.524,
          0.582,
          0.536,
          0.467,
          0.57,
          0.507,
          0.459,
          0.532,
          0.567,
          0.574,
          0.532,
          0.565,
          0.6,
          0.512,
          0.532,
          0.54,
          0.474,
          0.501,
          0.508,
          0.58,
          0.601,
          0.588,
          0.438,
          0.577,
          0.59,
          0.528,
          0.582,
          0.493,
          0.501,
          0.495,
          0.498,
          0.567,
          0.501,
          0.621,
          0.52,
          0.49,
          0.564,
          0.463,
          0.55,
          0.55,
          0.608,
          0.556,
          0.537,
          0.581,
          0.584,
          0.481,
          0.511,
          0.561,
          0.508,
          0.492,
          0.581,
          0.523,
          0.593,
          0.53,
          0.521,
          0.511,
          0.571,
          0.598,
          0.554,
          0.587,
          0.514,
          0.53,
          0.554,
          0.624,
          0.542,
          0.511,
          0.601,
          0.603,
          0.556,
          0.564,
          0.454,
          0.608,
          0.57,
          0.619,
          0.657,
          0.643,
          0.509,
          0.572,
          0.588,
          0.579,
          0.598,
          0.548,
          0.553,
          0.556,
          0.561,
          0.612,
          0.605,
          0.611,
          0.616,
          0.638,
          0.588,
          0.597,
          0.56,
          0.562,
          0.496,
          0.564,
          0.52,
          0.564,
          0.648,
          0.542,
          0.498,
          0.504,
          0.549,
          0.588,
          0.549,
          0.615,
          0.557,
          0.623,
          0.629,
          0.625,
          0.568,
          0.503,
          0.521,
          0.565,
          0.615,
          0.547,
          0.57,
          0.533,
          0.581,
          0.519,
          0.577,
          0.495,
          0.536,
          0.52,
          0.521,
          0.557,
          0.509,
          0.563,
          0.518,
          0.623,
          0.595,
          0.575,
          0.539,
          0.61,
          0.569,
          0.533,
          0.452,
          0.5,
          0.515,
          0.563,
          0.575,
          0.599,
          0.523,
          0.551,
          0.545,
          0.559,
          0.567,
          0.615,
          0.539,
          0.536,
          0.534,
          0.6,
          0.582,
          0.592,
          0.46,
          0.571,
          0.514,
          0.477,
          0.622,
          0.477,
          0.511,
          0.54,
          0.55,
          0.583,
          0.66,
          0.621,
          0.505,
          0.515,
          0.46,
          0.403,
          0.528,
          0.528,
          0.506,
          0.496,
          0.588,
          0.553,
          0.459,
          0.495,
          0.535,
          0.467,
          0.489,
          0.501,
          0.512,
          0.507
         ]
        },
        {
         "box": {
          "visible": true
         },
         "jitter": 1,
         "marker": {
          "size": 5
         },
         "name": "DEKOIS",
         "points": "all",
         "selectedpoints": [
          0,
          270,
          268,
          267,
          266,
          265,
          264,
          263,
          261,
          260,
          271,
          259,
          257,
          256,
          255,
          254,
          253,
          252,
          251,
          249,
          248,
          258,
          247,
          272,
          274,
          295,
          294,
          293,
          292,
          291,
          290,
          289,
          288,
          287
         ],
         "side": "positive",
         "type": "violin",
         "y": [
          0.729,
          0.675,
          0.691,
          0.688,
          0.72,
          0.73,
          0.745,
          0.718,
          0.724,
          0.756,
          0.639,
          0.696,
          0.61,
          0.698,
          0.682,
          0.763,
          0.724,
          0.701,
          0.701,
          0.646,
          0.673,
          0.677,
          0.69,
          0.696,
          0.692,
          0.698,
          0.679,
          0.719,
          0.668,
          0.748,
          0.768,
          0.722,
          0.681,
          0.724,
          0.696,
          0.726,
          0.706,
          0.646,
          0.658,
          0.647,
          0.61,
          0.701,
          0.731,
          0.723,
          0.726,
          0.761,
          0.784,
          0.767,
          0.692,
          0.68,
          0.659,
          0.764,
          0.712,
          0.605,
          0.636,
          0.765,
          0.652,
          0.638,
          0.73,
          0.681,
          0.763,
          0.646,
          0.63,
          0.648,
          0.638,
          0.681,
          0.68,
          0.687,
          0.636,
          0.694,
          0.706,
          0.72,
          0.69,
          0.756,
          0.741,
          0.694,
          0.713,
          0.717,
          0.71,
          0.64,
          0.66,
          0.629,
          0.671,
          0.707,
          0.745,
          0.635,
          0.694,
          0.746,
          0.738,
          0.666,
          0.724,
          0.686,
          0.642,
          0.719,
          0.719,
          0.709,
          0.636,
          0.696,
          0.716,
          0.722,
          0.685,
          0.692,
          0.705,
          0.639,
          0.638,
          0.653,
          0.69,
          0.669,
          0.7,
          0.705,
          0.671,
          0.73,
          0.752,
          0.683,
          0.693,
          0.743,
          0.689,
          0.63,
          0.696,
          0.784,
          0.733,
          0.79,
          0.79,
          0.788,
          0.671,
          0.71,
          0.579,
          0.69,
          0.67,
          0.656,
          0.654,
          0.65,
          0.671,
          0.697,
          0.629,
          0.671,
          0.729,
          0.623,
          0.663,
          0.748,
          0.658,
          0.756,
          0.739,
          0.734,
          0.699,
          0.66,
          0.671,
          0.678,
          0.699,
          0.609,
          0.629,
          0.673,
          0.665,
          0.649,
          0.644,
          0.683,
          0.652,
          0.68,
          0.746,
          0.667,
          0.642,
          0.634,
          0.714,
          0.673,
          0.743,
          0.728,
          0.707,
          0.683,
          0.739,
          0.647,
          0.72,
          0.739,
          0.68,
          0.665,
          0.743,
          0.72,
          0.753,
          0.74,
          0.658,
          0.756,
          0.717,
          0.688,
          0.701,
          0.753,
          0.739,
          0.754,
          0.753,
          0.667,
          0.752,
          0.678,
          0.649,
          0.735,
          0.653,
          0.728,
          0.718,
          0.704,
          0.703,
          0.707,
          0.717,
          0.684,
          0.665,
          0.735,
          0.68,
          0.665,
          0.691,
          0.752,
          0.687,
          0.685,
          0.685,
          0.716,
          0.717,
          0.704,
          0.704,
          0.701,
          0.717,
          0.687,
          0.736,
          0.686,
          0.719,
          0.761,
          0.69,
          0.702,
          0.654,
          0.707,
          0.662,
          0.686,
          0.704,
          0.732,
          0.623,
          0.655,
          0.691,
          0.64,
          0.755,
          0.718,
          0.624,
          0.688,
          0.679,
          0.685,
          0.732,
          0.693,
          0.623,
          0.683,
          0.698,
          0.673,
          0.684,
          0.677,
          0.685,
          0.659,
          0.684,
          0.732,
          0.624,
          0.69,
          0.705,
          0.711,
          0.648,
          0.685,
          0.652,
          0.715,
          0.712,
          0.699,
          0.701,
          0.693,
          0.692,
          0.655,
          0.714,
          0.701,
          0.686,
          0.681,
          0.736,
          0.702,
          0.656,
          0.71,
          0.672,
          0.707,
          0.688,
          0.697,
          0.704,
          0.705,
          0.667,
          0.706,
          0.737,
          0.712,
          0.675,
          0.661,
          0.705,
          0.764,
          0.728,
          0.663,
          0.68,
          0.721,
          0.736,
          0.709,
          0.736,
          0.736,
          0.676,
          0.672,
          0.685,
          0.709,
          0.717,
          0.724,
          0.743,
          0.66,
          0.675,
          0.754,
          0.755,
          0.741,
          0.727,
          0.736,
          0.699,
          0.734,
          0.675,
          0.617,
          0.631,
          0.704,
          0.673,
          0.737,
          0.756,
          0.652,
          0.729,
          0.729,
          0.746,
          0.761,
          0.715,
          0.734,
          0.754,
          0.697,
          0.758,
          0.751,
          0.676,
          0.704,
          0.692,
          0.74,
          0.735,
          0.604,
          0.716,
          0.673,
          0.713,
          0.64,
          0.677,
          0.658,
          0.736,
          0.701,
          0.709,
          0.769,
          0.66,
          0.743,
          0.707,
          0.67,
          0.727,
          0.702,
          0.699,
          0.661,
          0.677,
          0.702,
          0.657,
          0.664,
          0.646,
          0.684,
          0.742,
          0.745,
          0.666,
          0.654,
          0.694,
          0.678,
          0.645,
          0.737,
          0.698,
          0.701,
          0.704,
          0.736,
          0.738,
          0.714,
          0.609,
          0.639,
          0.676,
          0.663,
          0.664,
          0.671,
          0.681,
          0.749,
          0.699,
          0.723,
          0.742,
          0.669,
          0.707,
          0.691,
          0.664,
          0.649,
          0.634,
          0.66,
          0.655,
          0.613,
          0.645,
          0.664,
          0.638,
          0.7,
          0.628,
          0.668,
          0.674,
          0.698,
          0.729,
          0.636
         ]
        },
        {
         "box": {
          "visible": true
         },
         "jitter": 1,
         "marker": {
          "size": 5
         },
         "name": "DUD",
         "points": "all",
         "selectedpoints": [
          0,
          270,
          268,
          267,
          266,
          265,
          264,
          263,
          261,
          260,
          271,
          259,
          257,
          256,
          255,
          254,
          253,
          252,
          251,
          249,
          248,
          258,
          247,
          272,
          274,
          295,
          294,
          293,
          292,
          291,
          290,
          289,
          288,
          287
         ],
         "side": "positive",
         "type": "violin",
         "y": [
          0.609,
          0.562,
          0.593,
          0.458,
          0.638,
          0.619,
          0.569,
          0.49,
          0.535,
          0.589,
          0.452,
          0.607,
          0.519,
          0.604,
          0.6,
          0.633,
          0.611,
          0.624,
          0.631,
          0.521,
          0.471,
          0.571,
          0.593,
          0.579,
          0.609,
          0.526,
          0.496,
          0.65,
          0.597,
          0.605,
          0.638,
          0.566,
          0.508,
          0.587,
          0.553,
          0.548,
          0.603,
          0.463,
          0.574,
          0.463,
          0.504,
          0.613,
          0.62,
          0.603,
          0.619,
          0.63,
          0.599,
          0.635,
          0.576,
          0.544,
          0.577,
          0.625,
          0.582,
          0.518,
          0.52,
          0.613,
          0.492,
          0.557,
          0.557,
          0.56,
          0.596,
          0.469,
          0.461,
          0.468,
          0.571,
          0.567,
          0.531,
          0.571,
          0.544,
          0.607,
          0.622,
          0.592,
          0.637,
          0.585,
          0.618,
          0.596,
          0.565,
          0.632,
          0.601,
          0.455,
          0.567,
          0.535,
          0.483,
          0.652,
          0.568,
          0.59,
          0.601,
          0.593,
          0.608,
          0.508,
          0.633,
          0.612,
          0.565,
          0.555,
          0.614,
          0.598,
          0.541,
          0.605,
          0.553,
          0.582,
          0.533,
          0.497,
          0.544,
          0.453,
          0.454,
          0.502,
          0.524,
          0.517,
          0.507,
          0.594,
          0.541,
          0.599,
          0.61,
          0.522,
          0.607,
          0.645,
          0.58,
          0.49,
          0.596,
          0.632,
          0.604,
          0.618,
          0.624,
          0.624,
          0.521,
          0.589,
          0.443,
          0.458,
          0.602,
          0.493,
          0.621,
          0.59,
          0.626,
          0.605,
          0.586,
          0.451,
          0.583,
          0.481,
          0.452,
          0.627,
          0.585,
          0.593,
          0.598,
          0.593,
          0.563,
          0.579,
          0.598,
          0.516,
          0.565,
          0.551,
          0.603,
          0.615,
          0.58,
          0.448,
          0.47,
          0.585,
          0.567,
          0.606,
          0.617,
          0.619,
          0.462,
          0.549,
          0.563,
          0.598,
          0.567,
          0.578,
          0.611,
          0.536,
          0.582,
          0.534,
          0.63,
          0.603,
          0.492,
          0.571,
          0.62,
          0.593,
          0.587,
          0.577,
          0.618,
          0.606,
          0.566,
          0.545,
          0.564,
          0.637,
          0.603,
          0.614,
          0.563,
          0.569,
          0.646,
          0.481,
          0.572,
          0.617,
          0.618,
          0.597,
          0.602,
          0.672,
          0.587,
          0.6,
          0.57,
          0.586,
          0.57,
          0.589,
          0.441,
          0.437,
          0.594,
          0.605,
          0.49,
          0.613,
          0.561,
          0.546,
          0.575,
          0.559,
          0.59,
          0.623,
          0.565,
          0.603,
          0.628,
          0.52,
          0.592,
          0.607,
          0.621,
          0.627,
          0.559,
          0.585,
          0.57,
          0.615,
          0.615,
          0.587,
          0.58,
          0.615,
          0.513,
          0.586,
          0.59,
          0.581,
          0.551,
          0.598,
          0.577,
          0.565,
          0.615,
          0.587,
          0.523,
          0.558,
          0.585,
          0.474,
          0.601,
          0.606,
          0.552,
          0.599,
          0.59,
          0.569,
          0.522,
          0.564,
          0.59,
          0.553,
          0.456,
          0.469,
          0.571,
          0.576,
          0.583,
          0.558,
          0.557,
          0.517,
          0.515,
          0.629,
          0.626,
          0.617,
          0.575,
          0.591,
          0.578,
          0.606,
          0.56,
          0.574,
          0.618,
          0.595,
          0.617,
          0.598,
          0.557,
          0.604,
          0.602,
          0.614,
          0.536,
          0.623,
          0.619,
          0.584,
          0.616,
          0.592,
          0.582,
          0.608,
          0.576,
          0.583,
          0.585,
          0.611,
          0.588,
          0.637,
          0.615,
          0.615,
          0.551,
          0.539,
          0.554,
          0.551,
          0.584,
          0.532,
          0.592,
          0.604,
          0.57,
          0.602,
          0.567,
          0.56,
          0.547,
          0.618,
          0.526,
          0.589,
          0.396,
          0.453,
          0.572,
          0.591,
          0.614,
          0.568,
          0.608,
          0.643,
          0.625,
          0.608,
          0.653,
          0.601,
          0.614,
          0.637,
          0.598,
          0.642,
          0.628,
          0.562,
          0.564,
          0.586,
          0.615,
          0.417,
          0.596,
          0.614,
          0.644,
          0.616,
          0.664,
          0.609,
          0.624,
          0.618,
          0.659,
          0.626,
          0.535,
          0.581,
          0.639,
          0.488,
          0.567,
          0.569,
          0.591,
          0.448,
          0.616,
          0.456,
          0.451,
          0.425,
          0.483,
          0.583,
          0.615,
          0.613,
          0.544,
          0.63,
          0.62,
          0.586,
          0.528,
          0.601,
          0.583,
          0.56,
          0.591,
          0.585,
          0.621,
          0.625,
          0.54,
          0.511,
          0.53,
          0.471,
          0.411,
          0.568,
          0.594,
          0.551,
          0.597,
          0.611,
          0.671,
          0.499,
          0.591,
          0.572,
          0.518,
          0.432,
          0.455,
          0.52,
          0.436,
          0.44,
          0.438,
          0.462,
          0.474,
          0.464,
          0.463,
          0.442,
          0.526,
          0.449,
          0.55,
          0.437
         ]
        },
        {
         "box": {
          "visible": true
         },
         "jitter": 1,
         "marker": {
          "size": 5
         },
         "name": "MERGED",
         "points": "all",
         "selectedpoints": [
          0,
          270,
          268,
          267,
          266,
          265,
          264,
          263,
          261,
          260,
          271,
          259,
          257,
          256,
          255,
          254,
          253,
          252,
          251,
          249,
          248,
          258,
          247,
          272,
          274,
          295,
          294,
          293,
          292,
          291,
          290,
          289,
          288,
          287
         ],
         "side": "positive",
         "type": "violin",
         "y": [
          0.623,
          0.591,
          0.618,
          0.555,
          0.632,
          0.64,
          0.646,
          0.574,
          0.609,
          0.631,
          0.557,
          0.62,
          0.549,
          0.616,
          0.614,
          0.654,
          0.636,
          0.612,
          0.625,
          0.581,
          0.563,
          0.626,
          0.63,
          0.628,
          0.611,
          0.581,
          0.588,
          0.636,
          0.593,
          0.635,
          0.645,
          0.611,
          0.591,
          0.633,
          0.587,
          0.595,
          0.625,
          0.56,
          0.596,
          0.565,
          0.571,
          0.637,
          0.65,
          0.64,
          0.643,
          0.65,
          0.641,
          0.657,
          0.622,
          0.577,
          0.59,
          0.648,
          0.622,
          0.558,
          0.582,
          0.638,
          0.59,
          0.586,
          0.62,
          0.586,
          0.623,
          0.575,
          0.536,
          0.542,
          0.587,
          0.611,
          0.614,
          0.598,
          0.57,
          0.613,
          0.618,
          0.623,
          0.622,
          0.619,
          0.651,
          0.626,
          0.627,
          0.65,
          0.623,
          0.548,
          0.599,
          0.566,
          0.561,
          0.638,
          0.613,
          0.594,
          0.628,
          0.642,
          0.627,
          0.596,
          0.636,
          0.616,
          0.58,
          0.595,
          0.616,
          0.625,
          0.574,
          0.64,
          0.592,
          0.614,
          0.591,
          0.593,
          0.611,
          0.587,
          0.578,
          0.577,
          0.59,
          0.589,
          0.59,
          0.626,
          0.596,
          0.609,
          0.63,
          0.579,
          0.611,
          0.624,
          0.618,
          0.553,
          0.621,
          0.649,
          0.612,
          0.66,
          0.67,
          0.66,
          0.534,
          0.612,
          0.558,
          0.569,
          0.617,
          0.565,
          0.617,
          0.606,
          0.637,
          0.637,
          0.609,
          0.584,
          0.634,
          0.59,
          0.578,
          0.651,
          0.589,
          0.625,
          0.625,
          0.628,
          0.611,
          0.603,
          0.612,
          0.597,
          0.608,
          0.575,
          0.606,
          0.615,
          0.609,
          0.542,
          0.558,
          0.602,
          0.587,
          0.607,
          0.613,
          0.619,
          0.56,
          0.556,
          0.61,
          0.63,
          0.636,
          0.62,
          0.606,
          0.572,
          0.632,
          0.58,
          0.629,
          0.626,
          0.574,
          0.588,
          0.627,
          0.625,
          0.605,
          0.618,
          0.623,
          0.663,
          0.606,
          0.585,
          0.605,
          0.647,
          0.641,
          0.655,
          0.624,
          0.614,
          0.631,
          0.572,
          0.617,
          0.625,
          0.598,
          0.646,
          0.628,
          0.619,
          0.638,
          0.602,
          0.586,
          0.624,
          0.613,
          0.639,
          0.541,
          0.536,
          0.614,
          0.64,
          0.548,
          0.604,
          0.59,
          0.614,
          0.631,
          0.608,
          0.634,
          0.633,
          0.622,
          0.629,
          0.647,
          0.57,
          0.595,
          0.648,
          0.628,
          0.607,
          0.591,
          0.634,
          0.605,
          0.617,
          0.65,
          0.641,
          0.602,
          0.643,
          0.618,
          0.602,
          0.621,
          0.624,
          0.603,
          0.619,
          0.621,
          0.611,
          0.643,
          0.62,
          0.554,
          0.62,
          0.622,
          0.571,
          0.63,
          0.607,
          0.585,
          0.589,
          0.618,
          0.622,
          0.581,
          0.611,
          0.626,
          0.608,
          0.558,
          0.572,
          0.591,
          0.621,
          0.638,
          0.625,
          0.601,
          0.605,
          0.606,
          0.611,
          0.625,
          0.627,
          0.613,
          0.622,
          0.642,
          0.628,
          0.605,
          0.616,
          0.608,
          0.619,
          0.643,
          0.622,
          0.623,
          0.648,
          0.603,
          0.608,
          0.619,
          0.643,
          0.612,
          0.602,
          0.643,
          0.654,
          0.634,
          0.617,
          0.583,
          0.654,
          0.61,
          0.632,
          0.627,
          0.653,
          0.614,
          0.618,
          0.598,
          0.617,
          0.624,
          0.606,
          0.623,
          0.567,
          0.618,
          0.668,
          0.642,
          0.629,
          0.624,
          0.625,
          0.612,
          0.636,
          0.609,
          0.587,
          0.539,
          0.583,
          0.605,
          0.637,
          0.641,
          0.593,
          0.603,
          0.64,
          0.656,
          0.644,
          0.65,
          0.647,
          0.649,
          0.655,
          0.641,
          0.648,
          0.631,
          0.573,
          0.605,
          0.62,
          0.644,
          0.54,
          0.638,
          0.617,
          0.639,
          0.595,
          0.64,
          0.618,
          0.631,
          0.617,
          0.627,
          0.645,
          0.587,
          0.642,
          0.646,
          0.616,
          0.618,
          0.615,
          0.628,
          0.565,
          0.624,
          0.574,
          0.531,
          0.543,
          0.543,
          0.625,
          0.65,
          0.634,
          0.626,
          0.625,
          0.623,
          0.609,
          0.585,
          0.626,
          0.619,
          0.608,
          0.618,
          0.644,
          0.652,
          0.627,
          0.58,
          0.548,
          0.566,
          0.569,
          0.536,
          0.589,
          0.594,
          0.599,
          0.611,
          0.621,
          0.656,
          0.573,
          0.609,
          0.6,
          0.586,
          0.544,
          0.556,
          0.589,
          0.553,
          0.556,
          0.549,
          0.571,
          0.558,
          0.563,
          0.568,
          0.549,
          0.597,
          0.568,
          0.607,
          0.559
         ]
        },
        {
         "box": {
          "visible": true
         },
         "jitter": 1,
         "marker": {
          "size": 5
         },
         "name": "SCFF-TRAIN",
         "points": "all",
         "selectedpoints": [
          0,
          270,
          268,
          267,
          266,
          265,
          264,
          263,
          261,
          260,
          271,
          259,
          257,
          256,
          255,
          254,
          253,
          252,
          251,
          249,
          248,
          258,
          247,
          272,
          274,
          295,
          294,
          293,
          292,
          291,
          290,
          289,
          288,
          287
         ],
         "side": "positive",
         "type": "violin",
         "y": [
          0.609,
          0.579,
          0.603,
          0.532,
          0.622,
          0.614,
          0.633,
          0.549,
          0.587,
          0.606,
          0.552,
          0.61,
          0.551,
          0.606,
          0.603,
          0.647,
          0.616,
          0.601,
          0.605,
          0.582,
          0.544,
          0.624,
          0.612,
          0.614,
          0.598,
          0.562,
          0.581,
          0.619,
          0.583,
          0.613,
          0.631,
          0.6,
          0.586,
          0.623,
          0.58,
          0.585,
          0.616,
          0.543,
          0.591,
          0.555,
          0.561,
          0.628,
          0.632,
          0.632,
          0.638,
          0.625,
          0.606,
          0.636,
          0.607,
          0.559,
          0.582,
          0.621,
          0.599,
          0.554,
          0.578,
          0.62,
          0.584,
          0.577,
          0.607,
          0.563,
          0.606,
          0.571,
          0.513,
          0.524,
          0.577,
          0.597,
          0.603,
          0.583,
          0.56,
          0.606,
          0.607,
          0.615,
          0.608,
          0.595,
          0.635,
          0.614,
          0.611,
          0.634,
          0.608,
          0.535,
          0.592,
          0.563,
          0.545,
          0.636,
          0.597,
          0.588,
          0.619,
          0.625,
          0.612,
          0.584,
          0.625,
          0.601,
          0.564,
          0.579,
          0.601,
          0.616,
          0.565,
          0.622,
          0.574,
          0.594,
          0.588,
          0.573,
          0.594,
          0.577,
          0.574,
          0.569,
          0.583,
          0.58,
          0.582,
          0.613,
          0.584,
          0.598,
          0.616,
          0.577,
          0.602,
          0.61,
          0.602,
          0.54,
          0.617,
          0.619,
          0.603,
          0.639,
          0.641,
          0.637,
          0.512,
          0.608,
          0.549,
          0.545,
          0.605,
          0.555,
          0.611,
          0.596,
          0.627,
          0.629,
          0.595,
          0.569,
          0.624,
          0.584,
          0.568,
          0.637,
          0.586,
          0.603,
          0.606,
          0.61,
          0.586,
          0.586,
          0.606,
          0.586,
          0.602,
          0.57,
          0.598,
          0.605,
          0.596,
          0.527,
          0.549,
          0.595,
          0.579,
          0.594,
          0.604,
          0.615,
          0.551,
          0.538,
          0.599,
          0.624,
          0.612,
          0.601,
          0.585,
          0.553,
          0.62,
          0.578,
          0.614,
          0.614,
          0.547,
          0.577,
          0.618,
          0.613,
          0.585,
          0.596,
          0.615,
          0.644,
          0.586,
          0.565,
          0.591,
          0.622,
          0.618,
          0.636,
          0.602,
          0.609,
          0.615,
          0.553,
          0.603,
          0.601,
          0.592,
          0.634,
          0.613,
          0.612,
          0.62,
          0.595,
          0.556,
          0.61,
          0.596,
          0.622,
          0.513,
          0.512,
          0.611,
          0.623,
          0.523,
          0.596,
          0.579,
          0.593,
          0.621,
          0.585,
          0.628,
          0.619,
          0.614,
          0.618,
          0.642,
          0.547,
          0.579,
          0.624,
          0.622,
          0.598,
          0.59,
          0.627,
          0.588,
          0.612,
          0.639,
          0.621,
          0.598,
          0.642,
          0.61,
          0.599,
          0.6,
          0.615,
          0.589,
          0.606,
          0.614,
          0.601,
          0.634,
          0.609,
          0.544,
          0.614,
          0.61,
          0.564,
          0.619,
          0.598,
          0.577,
          0.584,
          0.613,
          0.603,
          0.578,
          0.591,
          0.615,
          0.592,
          0.547,
          0.549,
          0.583,
          0.602,
          0.626,
          0.62,
          0.587,
          0.593,
          0.596,
          0.61,
          0.613,
          0.617,
          0.594,
          0.609,
          0.626,
          0.621,
          0.6,
          0.602,
          0.6,
          0.61,
          0.634,
          0.612,
          0.611,
          0.638,
          0.6,
          0.6,
          0.604,
          0.626,
          0.606,
          0.59,
          0.633,
          0.637,
          0.619,
          0.605,
          0.568,
          0.642,
          0.592,
          0.616,
          0.599,
          0.634,
          0.602,
          0.606,
          0.58,
          0.601,
          0.601,
          0.586,
          0.611,
          0.554,
          0.617,
          0.654,
          0.624,
          0.606,
          0.605,
          0.604,
          0.598,
          0.623,
          0.596,
          0.582,
          0.52,
          0.569,
          0.595,
          0.618,
          0.614,
          0.582,
          0.582,
          0.628,
          0.645,
          0.626,
          0.646,
          0.626,
          0.636,
          0.637,
          0.609,
          0.64,
          0.629,
          0.553,
          0.594,
          0.603,
          0.628,
          0.531,
          0.625,
          0.61,
          0.627,
          0.587,
          0.637,
          0.612,
          0.616,
          0.603,
          0.611,
          0.629,
          0.571,
          0.63,
          0.646,
          0.605,
          0.603,
          0.601,
          0.616,
          0.542,
          0.613,
          0.555,
          0.514,
          0.526,
          0.528,
          0.612,
          0.629,
          0.619,
          0.634,
          0.617,
          0.61,
          0.604,
          0.571,
          0.616,
          0.603,
          0.59,
          0.603,
          0.611,
          0.624,
          0.603,
          0.579,
          0.531,
          0.545,
          0.564,
          0.502,
          0.587,
          0.589,
          0.581,
          0.596,
          0.6,
          0.641,
          0.543,
          0.591,
          0.579,
          0.578,
          0.526,
          0.558,
          0.575,
          0.538,
          0.547,
          0.532,
          0.553,
          0.534,
          0.535,
          0.566,
          0.53,
          0.593,
          0.552,
          0.599,
          0.547
         ]
        },
        {
         "box": {
          "visible": true
         },
         "jitter": 1,
         "marker": {
          "size": 5
         },
         "name": "SCFF-TEST",
         "points": "all",
         "selectedpoints": [
          0,
          270,
          268,
          267,
          266,
          265,
          264,
          263,
          261,
          260,
          271,
          259,
          257,
          256,
          255,
          254,
          253,
          252,
          251,
          249,
          248,
          258,
          247,
          272,
          274,
          295,
          294,
          293,
          292,
          291,
          290,
          289,
          288,
          287
         ],
         "side": "positive",
         "type": "violin",
         "y": [
          0.658,
          0.612,
          0.66,
          0.62,
          0.657,
          0.705,
          0.676,
          0.634,
          0.663,
          0.697,
          0.57,
          0.648,
          0.527,
          0.642,
          0.64,
          0.669,
          0.674,
          0.635,
          0.674,
          0.568,
          0.608,
          0.623,
          0.67,
          0.661,
          0.638,
          0.626,
          0.605,
          0.68,
          0.614,
          0.692,
          0.674,
          0.641,
          0.596,
          0.656,
          0.6,
          0.619,
          0.644,
          0.602,
          0.604,
          0.595,
          0.588,
          0.665,
          0.698,
          0.657,
          0.657,
          0.711,
          0.736,
          0.715,
          0.659,
          0.619,
          0.606,
          0.724,
          0.677,
          0.562,
          0.587,
          0.685,
          0.595,
          0.604,
          0.652,
          0.648,
          0.668,
          0.58,
          0.597,
          0.583,
          0.61,
          0.645,
          0.643,
          0.632,
          0.582,
          0.623,
          0.645,
          0.641,
          0.653,
          0.676,
          0.689,
          0.656,
          0.663,
          0.687,
          0.654,
          0.573,
          0.607,
          0.572,
          0.607,
          0.637,
          0.652,
          0.598,
          0.647,
          0.69,
          0.666,
          0.623,
          0.662,
          0.66,
          0.618,
          0.632,
          0.648,
          0.651,
          0.599,
          0.682,
          0.635,
          0.66,
          0.586,
          0.641,
          0.651,
          0.614,
          0.588,
          0.597,
          0.603,
          0.609,
          0.6,
          0.659,
          0.622,
          0.639,
          0.664,
          0.581,
          0.628,
          0.655,
          0.66,
          0.588,
          0.627,
          0.729,
          0.635,
          0.718,
          0.746,
          0.719,
          0.591,
          0.62,
          0.58,
          0.63,
          0.635,
          0.584,
          0.627,
          0.627,
          0.658,
          0.651,
          0.639,
          0.619,
          0.65,
          0.603,
          0.596,
          0.683,
          0.59,
          0.679,
          0.67,
          0.668,
          0.676,
          0.644,
          0.624,
          0.626,
          0.615,
          0.575,
          0.627,
          0.64,
          0.636,
          0.571,
          0.572,
          0.616,
          0.6,
          0.639,
          0.632,
          0.626,
          0.582,
          0.602,
          0.632,
          0.631,
          0.701,
          0.666,
          0.658,
          0.614,
          0.656,
          0.585,
          0.667,
          0.657,
          0.647,
          0.607,
          0.651,
          0.653,
          0.663,
          0.67,
          0.642,
          0.705,
          0.651,
          0.63,
          0.633,
          0.72,
          0.704,
          0.701,
          0.68,
          0.616,
          0.673,
          0.625,
          0.654,
          0.689,
          0.608,
          0.674,
          0.663,
          0.631,
          0.677,
          0.608,
          0.662,
          0.653,
          0.654,
          0.683,
          0.618,
          0.595,
          0.615,
          0.678,
          0.615,
          0.621,
          0.607,
          0.659,
          0.647,
          0.657,
          0.643,
          0.666,
          0.637,
          0.644,
          0.655,
          0.626,
          0.633,
          0.71,
          0.639,
          0.623,
          0.589,
          0.645,
          0.649,
          0.626,
          0.675,
          0.69,
          0.605,
          0.637,
          0.633,
          0.599,
          0.675,
          0.642,
          0.63,
          0.649,
          0.632,
          0.636,
          0.658,
          0.646,
          0.57,
          0.627,
          0.646,
          0.585,
          0.65,
          0.621,
          0.603,
          0.594,
          0.625,
          0.67,
          0.578,
          0.659,
          0.652,
          0.644,
          0.584,
          0.627,
          0.602,
          0.672,
          0.669,
          0.627,
          0.632,
          0.633,
          0.628,
          0.604,
          0.654,
          0.649,
          0.661,
          0.652,
          0.681,
          0.639,
          0.613,
          0.648,
          0.621,
          0.641,
          0.665,
          0.643,
          0.652,
          0.668,
          0.598,
          0.622,
          0.655,
          0.689,
          0.622,
          0.624,
          0.664,
          0.696,
          0.663,
          0.644,
          0.619,
          0.676,
          0.656,
          0.666,
          0.696,
          0.701,
          0.635,
          0.643,
          0.646,
          0.657,
          0.683,
          0.659,
          0.657,
          0.602,
          0.613,
          0.696,
          0.692,
          0.692,
          0.676,
          0.684,
          0.646,
          0.672,
          0.645,
          0.6,
          0.584,
          0.617,
          0.627,
          0.678,
          0.707,
          0.616,
          0.652,
          0.668,
          0.682,
          0.687,
          0.666,
          0.7,
          0.682,
          0.704,
          0.725,
          0.668,
          0.628,
          0.612,
          0.625,
          0.662,
          0.68,
          0.552,
          0.662,
          0.637,
          0.664,
          0.599,
          0.647,
          0.626,
          0.664,
          0.65,
          0.668,
          0.685,
          0.631,
          0.674,
          0.641,
          0.642,
          0.654,
          0.651,
          0.652,
          0.624,
          0.649,
          0.627,
          0.571,
          0.582,
          0.58,
          0.649,
          0.701,
          0.672,
          0.603,
          0.639,
          0.651,
          0.62,
          0.619,
          0.647,
          0.66,
          0.652,
          0.65,
          0.727,
          0.726,
          0.685,
          0.577,
          0.59,
          0.621,
          0.58,
          0.629,
          0.581,
          0.596,
          0.641,
          0.646,
          0.67,
          0.694,
          0.657,
          0.648,
          0.654,
          0.597,
          0.582,
          0.542,
          0.616,
          0.586,
          0.573,
          0.591,
          0.613,
          0.617,
          0.631,
          0.564,
          0.598,
          0.6,
          0.606,
          0.618,
          0.585
         ]
        }
       ],
       "layout": {
        "template": {
         "data": {
          "bar": [
           {
            "error_x": {
             "color": "#2a3f5f"
            },
            "error_y": {
             "color": "#2a3f5f"
            },
            "marker": {
             "line": {
              "color": "#E5ECF6",
              "width": 0.5
             }
            },
            "type": "bar"
           }
          ],
          "barpolar": [
           {
            "marker": {
             "line": {
              "color": "#E5ECF6",
              "width": 0.5
             }
            },
            "type": "barpolar"
           }
          ],
          "carpet": [
           {
            "aaxis": {
             "endlinecolor": "#2a3f5f",
             "gridcolor": "white",
             "linecolor": "white",
             "minorgridcolor": "white",
             "startlinecolor": "#2a3f5f"
            },
            "baxis": {
             "endlinecolor": "#2a3f5f",
             "gridcolor": "white",
             "linecolor": "white",
             "minorgridcolor": "white",
             "startlinecolor": "#2a3f5f"
            },
            "type": "carpet"
           }
          ],
          "choropleth": [
           {
            "colorbar": {
             "outlinewidth": 0,
             "ticks": ""
            },
            "type": "choropleth"
           }
          ],
          "contour": [
           {
            "colorbar": {
             "outlinewidth": 0,
             "ticks": ""
            },
            "colorscale": [
             [
              0,
              "#0d0887"
             ],
             [
              0.1111111111111111,
              "#46039f"
             ],
             [
              0.2222222222222222,
              "#7201a8"
             ],
             [
              0.3333333333333333,
              "#9c179e"
             ],
             [
              0.4444444444444444,
              "#bd3786"
             ],
             [
              0.5555555555555556,
              "#d8576b"
             ],
             [
              0.6666666666666666,
              "#ed7953"
             ],
             [
              0.7777777777777778,
              "#fb9f3a"
             ],
             [
              0.8888888888888888,
              "#fdca26"
             ],
             [
              1,
              "#f0f921"
             ]
            ],
            "type": "contour"
           }
          ],
          "contourcarpet": [
           {
            "colorbar": {
             "outlinewidth": 0,
             "ticks": ""
            },
            "type": "contourcarpet"
           }
          ],
          "heatmap": [
           {
            "colorbar": {
             "outlinewidth": 0,
             "ticks": ""
            },
            "colorscale": [
             [
              0,
              "#0d0887"
             ],
             [
              0.1111111111111111,
              "#46039f"
             ],
             [
              0.2222222222222222,
              "#7201a8"
             ],
             [
              0.3333333333333333,
              "#9c179e"
             ],
             [
              0.4444444444444444,
              "#bd3786"
             ],
             [
              0.5555555555555556,
              "#d8576b"
             ],
             [
              0.6666666666666666,
              "#ed7953"
             ],
             [
              0.7777777777777778,
              "#fb9f3a"
             ],
             [
              0.8888888888888888,
              "#fdca26"
             ],
             [
              1,
              "#f0f921"
             ]
            ],
            "type": "heatmap"
           }
          ],
          "heatmapgl": [
           {
            "colorbar": {
             "outlinewidth": 0,
             "ticks": ""
            },
            "colorscale": [
             [
              0,
              "#0d0887"
             ],
             [
              0.1111111111111111,
              "#46039f"
             ],
             [
              0.2222222222222222,
              "#7201a8"
             ],
             [
              0.3333333333333333,
              "#9c179e"
             ],
             [
              0.4444444444444444,
              "#bd3786"
             ],
             [
              0.5555555555555556,
              "#d8576b"
             ],
             [
              0.6666666666666666,
              "#ed7953"
             ],
             [
              0.7777777777777778,
              "#fb9f3a"
             ],
             [
              0.8888888888888888,
              "#fdca26"
             ],
             [
              1,
              "#f0f921"
             ]
            ],
            "type": "heatmapgl"
           }
          ],
          "histogram": [
           {
            "marker": {
             "colorbar": {
              "outlinewidth": 0,
              "ticks": ""
             }
            },
            "type": "histogram"
           }
          ],
          "histogram2d": [
           {
            "colorbar": {
             "outlinewidth": 0,
             "ticks": ""
            },
            "colorscale": [
             [
              0,
              "#0d0887"
             ],
             [
              0.1111111111111111,
              "#46039f"
             ],
             [
              0.2222222222222222,
              "#7201a8"
             ],
             [
              0.3333333333333333,
              "#9c179e"
             ],
             [
              0.4444444444444444,
              "#bd3786"
             ],
             [
              0.5555555555555556,
              "#d8576b"
             ],
             [
              0.6666666666666666,
              "#ed7953"
             ],
             [
              0.7777777777777778,
              "#fb9f3a"
             ],
             [
              0.8888888888888888,
              "#fdca26"
             ],
             [
              1,
              "#f0f921"
             ]
            ],
            "type": "histogram2d"
           }
          ],
          "histogram2dcontour": [
           {
            "colorbar": {
             "outlinewidth": 0,
             "ticks": ""
            },
            "colorscale": [
             [
              0,
              "#0d0887"
             ],
             [
              0.1111111111111111,
              "#46039f"
             ],
             [
              0.2222222222222222,
              "#7201a8"
             ],
             [
              0.3333333333333333,
              "#9c179e"
             ],
             [
              0.4444444444444444,
              "#bd3786"
             ],
             [
              0.5555555555555556,
              "#d8576b"
             ],
             [
              0.6666666666666666,
              "#ed7953"
             ],
             [
              0.7777777777777778,
              "#fb9f3a"
             ],
             [
              0.8888888888888888,
              "#fdca26"
             ],
             [
              1,
              "#f0f921"
             ]
            ],
            "type": "histogram2dcontour"
           }
          ],
          "mesh3d": [
           {
            "colorbar": {
             "outlinewidth": 0,
             "ticks": ""
            },
            "type": "mesh3d"
           }
          ],
          "parcoords": [
           {
            "line": {
             "colorbar": {
              "outlinewidth": 0,
              "ticks": ""
             }
            },
            "type": "parcoords"
           }
          ],
          "pie": [
           {
            "automargin": true,
            "type": "pie"
           }
          ],
          "scatter": [
           {
            "marker": {
             "colorbar": {
              "outlinewidth": 0,
              "ticks": ""
             }
            },
            "type": "scatter"
           }
          ],
          "scatter3d": [
           {
            "line": {
             "colorbar": {
              "outlinewidth": 0,
              "ticks": ""
             }
            },
            "marker": {
             "colorbar": {
              "outlinewidth": 0,
              "ticks": ""
             }
            },
            "type": "scatter3d"
           }
          ],
          "scattercarpet": [
           {
            "marker": {
             "colorbar": {
              "outlinewidth": 0,
              "ticks": ""
             }
            },
            "type": "scattercarpet"
           }
          ],
          "scattergeo": [
           {
            "marker": {
             "colorbar": {
              "outlinewidth": 0,
              "ticks": ""
             }
            },
            "type": "scattergeo"
           }
          ],
          "scattergl": [
           {
            "marker": {
             "colorbar": {
              "outlinewidth": 0,
              "ticks": ""
             }
            },
            "type": "scattergl"
           }
          ],
          "scattermapbox": [
           {
            "marker": {
             "colorbar": {
              "outlinewidth": 0,
              "ticks": ""
             }
            },
            "type": "scattermapbox"
           }
          ],
          "scatterpolar": [
           {
            "marker": {
             "colorbar": {
              "outlinewidth": 0,
              "ticks": ""
             }
            },
            "type": "scatterpolar"
           }
          ],
          "scatterpolargl": [
           {
            "marker": {
             "colorbar": {
              "outlinewidth": 0,
              "ticks": ""
             }
            },
            "type": "scatterpolargl"
           }
          ],
          "scatterternary": [
           {
            "marker": {
             "colorbar": {
              "outlinewidth": 0,
              "ticks": ""
             }
            },
            "type": "scatterternary"
           }
          ],
          "surface": [
           {
            "colorbar": {
             "outlinewidth": 0,
             "ticks": ""
            },
            "colorscale": [
             [
              0,
              "#0d0887"
             ],
             [
              0.1111111111111111,
              "#46039f"
             ],
             [
              0.2222222222222222,
              "#7201a8"
             ],
             [
              0.3333333333333333,
              "#9c179e"
             ],
             [
              0.4444444444444444,
              "#bd3786"
             ],
             [
              0.5555555555555556,
              "#d8576b"
             ],
             [
              0.6666666666666666,
              "#ed7953"
             ],
             [
              0.7777777777777778,
              "#fb9f3a"
             ],
             [
              0.8888888888888888,
              "#fdca26"
             ],
             [
              1,
              "#f0f921"
             ]
            ],
            "type": "surface"
           }
          ],
          "table": [
           {
            "cells": {
             "fill": {
              "color": "#EBF0F8"
             },
             "line": {
              "color": "white"
             }
            },
            "header": {
             "fill": {
              "color": "#C8D4E3"
             },
             "line": {
              "color": "white"
             }
            },
            "type": "table"
           }
          ]
         },
         "layout": {
          "annotationdefaults": {
           "arrowcolor": "#2a3f5f",
           "arrowhead": 0,
           "arrowwidth": 1
          },
          "coloraxis": {
           "colorbar": {
            "outlinewidth": 0,
            "ticks": ""
           }
          },
          "colorscale": {
           "diverging": [
            [
             0,
             "#8e0152"
            ],
            [
             0.1,
             "#c51b7d"
            ],
            [
             0.2,
             "#de77ae"
            ],
            [
             0.3,
             "#f1b6da"
            ],
            [
             0.4,
             "#fde0ef"
            ],
            [
             0.5,
             "#f7f7f7"
            ],
            [
             0.6,
             "#e6f5d0"
            ],
            [
             0.7,
             "#b8e186"
            ],
            [
             0.8,
             "#7fbc41"
            ],
            [
             0.9,
             "#4d9221"
            ],
            [
             1,
             "#276419"
            ]
           ],
           "sequential": [
            [
             0,
             "#0d0887"
            ],
            [
             0.1111111111111111,
             "#46039f"
            ],
            [
             0.2222222222222222,
             "#7201a8"
            ],
            [
             0.3333333333333333,
             "#9c179e"
            ],
            [
             0.4444444444444444,
             "#bd3786"
            ],
            [
             0.5555555555555556,
             "#d8576b"
            ],
            [
             0.6666666666666666,
             "#ed7953"
            ],
            [
             0.7777777777777778,
             "#fb9f3a"
            ],
            [
             0.8888888888888888,
             "#fdca26"
            ],
            [
             1,
             "#f0f921"
            ]
           ],
           "sequentialminus": [
            [
             0,
             "#0d0887"
            ],
            [
             0.1111111111111111,
             "#46039f"
            ],
            [
             0.2222222222222222,
             "#7201a8"
            ],
            [
             0.3333333333333333,
             "#9c179e"
            ],
            [
             0.4444444444444444,
             "#bd3786"
            ],
            [
             0.5555555555555556,
             "#d8576b"
            ],
            [
             0.6666666666666666,
             "#ed7953"
            ],
            [
             0.7777777777777778,
             "#fb9f3a"
            ],
            [
             0.8888888888888888,
             "#fdca26"
            ],
            [
             1,
             "#f0f921"
            ]
           ]
          },
          "colorway": [
           "#636efa",
           "#EF553B",
           "#00cc96",
           "#ab63fa",
           "#FFA15A",
           "#19d3f3",
           "#FF6692",
           "#B6E880",
           "#FF97FF",
           "#FECB52"
          ],
          "font": {
           "color": "#2a3f5f"
          },
          "geo": {
           "bgcolor": "white",
           "lakecolor": "white",
           "landcolor": "#E5ECF6",
           "showlakes": true,
           "showland": true,
           "subunitcolor": "white"
          },
          "hoverlabel": {
           "align": "left"
          },
          "hovermode": "closest",
          "mapbox": {
           "style": "light"
          },
          "paper_bgcolor": "white",
          "plot_bgcolor": "#E5ECF6",
          "polar": {
           "angularaxis": {
            "gridcolor": "white",
            "linecolor": "white",
            "ticks": ""
           },
           "bgcolor": "#E5ECF6",
           "radialaxis": {
            "gridcolor": "white",
            "linecolor": "white",
            "ticks": ""
           }
          },
          "scene": {
           "xaxis": {
            "backgroundcolor": "#E5ECF6",
            "gridcolor": "white",
            "gridwidth": 2,
            "linecolor": "white",
            "showbackground": true,
            "ticks": "",
            "zerolinecolor": "white"
           },
           "yaxis": {
            "backgroundcolor": "#E5ECF6",
            "gridcolor": "white",
            "gridwidth": 2,
            "linecolor": "white",
            "showbackground": true,
            "ticks": "",
            "zerolinecolor": "white"
           },
           "zaxis": {
            "backgroundcolor": "#E5ECF6",
            "gridcolor": "white",
            "gridwidth": 2,
            "linecolor": "white",
            "showbackground": true,
            "ticks": "",
            "zerolinecolor": "white"
           }
          },
          "shapedefaults": {
           "line": {
            "color": "#2a3f5f"
           }
          },
          "ternary": {
           "aaxis": {
            "gridcolor": "white",
            "linecolor": "white",
            "ticks": ""
           },
           "baxis": {
            "gridcolor": "white",
            "linecolor": "white",
            "ticks": ""
           },
           "bgcolor": "#E5ECF6",
           "caxis": {
            "gridcolor": "white",
            "linecolor": "white",
            "ticks": ""
           }
          },
          "title": {
           "x": 0.05
          },
          "xaxis": {
           "automargin": true,
           "gridcolor": "white",
           "linecolor": "white",
           "ticks": "",
           "title": {
            "standoff": 15
           },
           "zerolinecolor": "white",
           "zerolinewidth": 2
          },
          "yaxis": {
           "automargin": true,
           "gridcolor": "white",
           "linecolor": "white",
           "ticks": "",
           "title": {
            "standoff": 15
           },
           "zerolinecolor": "white",
           "zerolinewidth": 2
          }
         }
        }
       }
      },
      "text/html": [
       "<div>\n",
       "        \n",
       "        \n",
       "            <div id=\"bd377e35-3f08-47ac-96f4-e98b7e869700\" class=\"plotly-graph-div\" style=\"height:525px; width:100%;\"></div>\n",
       "            <script type=\"text/javascript\">\n",
       "                require([\"plotly\"], function(Plotly) {\n",
       "                    window.PLOTLYENV=window.PLOTLYENV || {};\n",
       "                    \n",
       "                if (document.getElementById(\"bd377e35-3f08-47ac-96f4-e98b7e869700\")) {\n",
       "                    Plotly.newPlot(\n",
       "                        'bd377e35-3f08-47ac-96f4-e98b7e869700',\n",
       "                        [{\"box\": {\"visible\": true}, \"jitter\": 1, \"marker\": {\"size\": 5}, \"name\": \"CSAR\", \"points\": \"all\", \"selectedpoints\": [0, 270, 268, 267, 266, 265, 264, 263, 261, 260, 271, 259, 257, 256, 255, 254, 253, 252, 251, 249, 248, 258, 247, 272, 274, 295, 294, 293, 292, 291, 290, 289, 288, 287], \"side\": \"positive\", \"type\": \"violin\", \"y\": [0.643, 0.488, 0.55, 0.602, 0.561, 0.568, 0.622, 0.536, 0.55, 0.596, 0.464, 0.632, 0.382, 0.465, 0.496, 0.557, 0.564, 0.581, 0.579, 0.465, 0.512, 0.546, 0.588, 0.621, 0.532, 0.518, 0.58, 0.555, 0.439, 0.524, 0.542, 0.575, 0.572, 0.497, 0.432, 0.466, 0.594, 0.582, 0.512, 0.533, 0.502, 0.59, 0.569, 0.522, 0.572, 0.573, 0.605, 0.582, 0.605, 0.514, 0.488, 0.609, 0.522, 0.468, 0.461, 0.59, 0.478, 0.593, 0.481, 0.582, 0.578, 0.501, 0.52, 0.49, 0.55, 0.557, 0.597, 0.548, 0.476, 0.621, 0.489, 0.547, 0.566, 0.564, 0.622, 0.547, 0.546, 0.624, 0.576, 0.483, 0.563, 0.438, 0.494, 0.545, 0.554, 0.585, 0.568, 0.605, 0.536, 0.543, 0.584, 0.599, 0.42, 0.502, 0.549, 0.579, 0.419, 0.617, 0.491, 0.531, 0.521, 0.522, 0.521, 0.588, 0.547, 0.521, 0.506, 0.51, 0.508, 0.601, 0.529, 0.551, 0.576, 0.482, 0.508, 0.518, 0.51, 0.526, 0.541, 0.578, 0.599, 0.611, 0.594, 0.581, 0.523, 0.513, 0.595, 0.509, 0.5, 0.5, 0.575, 0.5, 0.609, 0.522, 0.589, 0.591, 0.623, 0.579, 0.599, 0.592, 0.524, 0.521, 0.55, 0.526, 0.535, 0.509, 0.498, 0.567, 0.515, 0.447, 0.56, 0.535, 0.497, 0.472, 0.476, 0.464, 0.486, 0.516, 0.511, 0.55, 0.531, 0.53, 0.584, 0.657, 0.593, 0.542, 0.516, 0.519, 0.565, 0.502, 0.491, 0.543, 0.575, 0.454, 0.499, 0.553, 0.616, 0.589, 0.528, 0.601, 0.516, 0.488, 0.468, 0.577, 0.586, 0.605, 0.579, 0.547, 0.531, 0.624, 0.686, 0.592, 0.473, 0.624, 0.597, 0.472, 0.611, 0.528, 0.489, 0.544, 0.606, 0.546, 0.579, 0.529, 0.54, 0.588, 0.544, 0.529, 0.518, 0.576, 0.55, 0.498, 0.544, 0.547, 0.557, 0.533, 0.552, 0.461, 0.524, 0.582, 0.536, 0.467, 0.57, 0.507, 0.459, 0.532, 0.567, 0.574, 0.532, 0.565, 0.6, 0.512, 0.532, 0.54, 0.474, 0.501, 0.508, 0.58, 0.601, 0.588, 0.438, 0.577, 0.59, 0.528, 0.582, 0.493, 0.501, 0.495, 0.498, 0.567, 0.501, 0.621, 0.52, 0.49, 0.564, 0.463, 0.55, 0.55, 0.608, 0.556, 0.537, 0.581, 0.584, 0.481, 0.511, 0.561, 0.508, 0.492, 0.581, 0.523, 0.593, 0.53, 0.521, 0.511, 0.571, 0.598, 0.554, 0.587, 0.514, 0.53, 0.554, 0.624, 0.542, 0.511, 0.601, 0.603, 0.556, 0.564, 0.454, 0.608, 0.57, 0.619, 0.657, 0.643, 0.509, 0.572, 0.588, 0.579, 0.598, 0.548, 0.553, 0.556, 0.561, 0.612, 0.605, 0.611, 0.616, 0.638, 0.588, 0.597, 0.56, 0.562, 0.496, 0.564, 0.52, 0.564, 0.648, 0.542, 0.498, 0.504, 0.549, 0.588, 0.549, 0.615, 0.557, 0.623, 0.629, 0.625, 0.568, 0.503, 0.521, 0.565, 0.615, 0.547, 0.57, 0.533, 0.581, 0.519, 0.577, 0.495, 0.536, 0.52, 0.521, 0.557, 0.509, 0.563, 0.518, 0.623, 0.595, 0.575, 0.539, 0.61, 0.569, 0.533, 0.452, 0.5, 0.515, 0.563, 0.575, 0.599, 0.523, 0.551, 0.545, 0.559, 0.567, 0.615, 0.539, 0.536, 0.534, 0.6, 0.582, 0.592, 0.46, 0.571, 0.514, 0.477, 0.622, 0.477, 0.511, 0.54, 0.55, 0.583, 0.66, 0.621, 0.505, 0.515, 0.46, 0.403, 0.528, 0.528, 0.506, 0.496, 0.588, 0.553, 0.459, 0.495, 0.535, 0.467, 0.489, 0.501, 0.512, 0.507]}, {\"box\": {\"visible\": true}, \"jitter\": 1, \"marker\": {\"size\": 5}, \"name\": \"DEKOIS\", \"points\": \"all\", \"selectedpoints\": [0, 270, 268, 267, 266, 265, 264, 263, 261, 260, 271, 259, 257, 256, 255, 254, 253, 252, 251, 249, 248, 258, 247, 272, 274, 295, 294, 293, 292, 291, 290, 289, 288, 287], \"side\": \"positive\", \"type\": \"violin\", \"y\": [0.729, 0.675, 0.691, 0.688, 0.72, 0.73, 0.745, 0.718, 0.724, 0.756, 0.639, 0.696, 0.61, 0.698, 0.682, 0.763, 0.724, 0.701, 0.701, 0.646, 0.673, 0.677, 0.69, 0.696, 0.692, 0.698, 0.679, 0.719, 0.668, 0.748, 0.768, 0.722, 0.681, 0.724, 0.696, 0.726, 0.706, 0.646, 0.658, 0.647, 0.61, 0.701, 0.731, 0.723, 0.726, 0.761, 0.784, 0.767, 0.692, 0.68, 0.659, 0.764, 0.712, 0.605, 0.636, 0.765, 0.652, 0.638, 0.73, 0.681, 0.763, 0.646, 0.63, 0.648, 0.638, 0.681, 0.68, 0.687, 0.636, 0.694, 0.706, 0.72, 0.69, 0.756, 0.741, 0.694, 0.713, 0.717, 0.71, 0.64, 0.66, 0.629, 0.671, 0.707, 0.745, 0.635, 0.694, 0.746, 0.738, 0.666, 0.724, 0.686, 0.642, 0.719, 0.719, 0.709, 0.636, 0.696, 0.716, 0.722, 0.685, 0.692, 0.705, 0.639, 0.638, 0.653, 0.69, 0.669, 0.7, 0.705, 0.671, 0.73, 0.752, 0.683, 0.693, 0.743, 0.689, 0.63, 0.696, 0.784, 0.733, 0.79, 0.79, 0.788, 0.671, 0.71, 0.579, 0.69, 0.67, 0.656, 0.654, 0.65, 0.671, 0.697, 0.629, 0.671, 0.729, 0.623, 0.663, 0.748, 0.658, 0.756, 0.739, 0.734, 0.699, 0.66, 0.671, 0.678, 0.699, 0.609, 0.629, 0.673, 0.665, 0.649, 0.644, 0.683, 0.652, 0.68, 0.746, 0.667, 0.642, 0.634, 0.714, 0.673, 0.743, 0.728, 0.707, 0.683, 0.739, 0.647, 0.72, 0.739, 0.68, 0.665, 0.743, 0.72, 0.753, 0.74, 0.658, 0.756, 0.717, 0.688, 0.701, 0.753, 0.739, 0.754, 0.753, 0.667, 0.752, 0.678, 0.649, 0.735, 0.653, 0.728, 0.718, 0.704, 0.703, 0.707, 0.717, 0.684, 0.665, 0.735, 0.68, 0.665, 0.691, 0.752, 0.687, 0.685, 0.685, 0.716, 0.717, 0.704, 0.704, 0.701, 0.717, 0.687, 0.736, 0.686, 0.719, 0.761, 0.69, 0.702, 0.654, 0.707, 0.662, 0.686, 0.704, 0.732, 0.623, 0.655, 0.691, 0.64, 0.755, 0.718, 0.624, 0.688, 0.679, 0.685, 0.732, 0.693, 0.623, 0.683, 0.698, 0.673, 0.684, 0.677, 0.685, 0.659, 0.684, 0.732, 0.624, 0.69, 0.705, 0.711, 0.648, 0.685, 0.652, 0.715, 0.712, 0.699, 0.701, 0.693, 0.692, 0.655, 0.714, 0.701, 0.686, 0.681, 0.736, 0.702, 0.656, 0.71, 0.672, 0.707, 0.688, 0.697, 0.704, 0.705, 0.667, 0.706, 0.737, 0.712, 0.675, 0.661, 0.705, 0.764, 0.728, 0.663, 0.68, 0.721, 0.736, 0.709, 0.736, 0.736, 0.676, 0.672, 0.685, 0.709, 0.717, 0.724, 0.743, 0.66, 0.675, 0.754, 0.755, 0.741, 0.727, 0.736, 0.699, 0.734, 0.675, 0.617, 0.631, 0.704, 0.673, 0.737, 0.756, 0.652, 0.729, 0.729, 0.746, 0.761, 0.715, 0.734, 0.754, 0.697, 0.758, 0.751, 0.676, 0.704, 0.692, 0.74, 0.735, 0.604, 0.716, 0.673, 0.713, 0.64, 0.677, 0.658, 0.736, 0.701, 0.709, 0.769, 0.66, 0.743, 0.707, 0.67, 0.727, 0.702, 0.699, 0.661, 0.677, 0.702, 0.657, 0.664, 0.646, 0.684, 0.742, 0.745, 0.666, 0.654, 0.694, 0.678, 0.645, 0.737, 0.698, 0.701, 0.704, 0.736, 0.738, 0.714, 0.609, 0.639, 0.676, 0.663, 0.664, 0.671, 0.681, 0.749, 0.699, 0.723, 0.742, 0.669, 0.707, 0.691, 0.664, 0.649, 0.634, 0.66, 0.655, 0.613, 0.645, 0.664, 0.638, 0.7, 0.628, 0.668, 0.674, 0.698, 0.729, 0.636]}, {\"box\": {\"visible\": true}, \"jitter\": 1, \"marker\": {\"size\": 5}, \"name\": \"DUD\", \"points\": \"all\", \"selectedpoints\": [0, 270, 268, 267, 266, 265, 264, 263, 261, 260, 271, 259, 257, 256, 255, 254, 253, 252, 251, 249, 248, 258, 247, 272, 274, 295, 294, 293, 292, 291, 290, 289, 288, 287], \"side\": \"positive\", \"type\": \"violin\", \"y\": [0.609, 0.562, 0.593, 0.458, 0.638, 0.619, 0.569, 0.49, 0.535, 0.589, 0.452, 0.607, 0.519, 0.604, 0.6, 0.633, 0.611, 0.624, 0.631, 0.521, 0.471, 0.571, 0.593, 0.579, 0.609, 0.526, 0.496, 0.65, 0.597, 0.605, 0.638, 0.566, 0.508, 0.587, 0.553, 0.548, 0.603, 0.463, 0.574, 0.463, 0.504, 0.613, 0.62, 0.603, 0.619, 0.63, 0.599, 0.635, 0.576, 0.544, 0.577, 0.625, 0.582, 0.518, 0.52, 0.613, 0.492, 0.557, 0.557, 0.56, 0.596, 0.469, 0.461, 0.468, 0.571, 0.567, 0.531, 0.571, 0.544, 0.607, 0.622, 0.592, 0.637, 0.585, 0.618, 0.596, 0.565, 0.632, 0.601, 0.455, 0.567, 0.535, 0.483, 0.652, 0.568, 0.59, 0.601, 0.593, 0.608, 0.508, 0.633, 0.612, 0.565, 0.555, 0.614, 0.598, 0.541, 0.605, 0.553, 0.582, 0.533, 0.497, 0.544, 0.453, 0.454, 0.502, 0.524, 0.517, 0.507, 0.594, 0.541, 0.599, 0.61, 0.522, 0.607, 0.645, 0.58, 0.49, 0.596, 0.632, 0.604, 0.618, 0.624, 0.624, 0.521, 0.589, 0.443, 0.458, 0.602, 0.493, 0.621, 0.59, 0.626, 0.605, 0.586, 0.451, 0.583, 0.481, 0.452, 0.627, 0.585, 0.593, 0.598, 0.593, 0.563, 0.579, 0.598, 0.516, 0.565, 0.551, 0.603, 0.615, 0.58, 0.448, 0.47, 0.585, 0.567, 0.606, 0.617, 0.619, 0.462, 0.549, 0.563, 0.598, 0.567, 0.578, 0.611, 0.536, 0.582, 0.534, 0.63, 0.603, 0.492, 0.571, 0.62, 0.593, 0.587, 0.577, 0.618, 0.606, 0.566, 0.545, 0.564, 0.637, 0.603, 0.614, 0.563, 0.569, 0.646, 0.481, 0.572, 0.617, 0.618, 0.597, 0.602, 0.672, 0.587, 0.6, 0.57, 0.586, 0.57, 0.589, 0.441, 0.437, 0.594, 0.605, 0.49, 0.613, 0.561, 0.546, 0.575, 0.559, 0.59, 0.623, 0.565, 0.603, 0.628, 0.52, 0.592, 0.607, 0.621, 0.627, 0.559, 0.585, 0.57, 0.615, 0.615, 0.587, 0.58, 0.615, 0.513, 0.586, 0.59, 0.581, 0.551, 0.598, 0.577, 0.565, 0.615, 0.587, 0.523, 0.558, 0.585, 0.474, 0.601, 0.606, 0.552, 0.599, 0.59, 0.569, 0.522, 0.564, 0.59, 0.553, 0.456, 0.469, 0.571, 0.576, 0.583, 0.558, 0.557, 0.517, 0.515, 0.629, 0.626, 0.617, 0.575, 0.591, 0.578, 0.606, 0.56, 0.574, 0.618, 0.595, 0.617, 0.598, 0.557, 0.604, 0.602, 0.614, 0.536, 0.623, 0.619, 0.584, 0.616, 0.592, 0.582, 0.608, 0.576, 0.583, 0.585, 0.611, 0.588, 0.637, 0.615, 0.615, 0.551, 0.539, 0.554, 0.551, 0.584, 0.532, 0.592, 0.604, 0.57, 0.602, 0.567, 0.56, 0.547, 0.618, 0.526, 0.589, 0.396, 0.453, 0.572, 0.591, 0.614, 0.568, 0.608, 0.643, 0.625, 0.608, 0.653, 0.601, 0.614, 0.637, 0.598, 0.642, 0.628, 0.562, 0.564, 0.586, 0.615, 0.417, 0.596, 0.614, 0.644, 0.616, 0.664, 0.609, 0.624, 0.618, 0.659, 0.626, 0.535, 0.581, 0.639, 0.488, 0.567, 0.569, 0.591, 0.448, 0.616, 0.456, 0.451, 0.425, 0.483, 0.583, 0.615, 0.613, 0.544, 0.63, 0.62, 0.586, 0.528, 0.601, 0.583, 0.56, 0.591, 0.585, 0.621, 0.625, 0.54, 0.511, 0.53, 0.471, 0.411, 0.568, 0.594, 0.551, 0.597, 0.611, 0.671, 0.499, 0.591, 0.572, 0.518, 0.432, 0.455, 0.52, 0.436, 0.44, 0.438, 0.462, 0.474, 0.464, 0.463, 0.442, 0.526, 0.449, 0.55, 0.437]}, {\"box\": {\"visible\": true}, \"jitter\": 1, \"marker\": {\"size\": 5}, \"name\": \"MERGED\", \"points\": \"all\", \"selectedpoints\": [0, 270, 268, 267, 266, 265, 264, 263, 261, 260, 271, 259, 257, 256, 255, 254, 253, 252, 251, 249, 248, 258, 247, 272, 274, 295, 294, 293, 292, 291, 290, 289, 288, 287], \"side\": \"positive\", \"type\": \"violin\", \"y\": [0.623, 0.591, 0.618, 0.555, 0.632, 0.64, 0.646, 0.574, 0.609, 0.631, 0.557, 0.62, 0.549, 0.616, 0.614, 0.654, 0.636, 0.612, 0.625, 0.581, 0.563, 0.626, 0.63, 0.628, 0.611, 0.581, 0.588, 0.636, 0.593, 0.635, 0.645, 0.611, 0.591, 0.633, 0.587, 0.595, 0.625, 0.56, 0.596, 0.565, 0.571, 0.637, 0.65, 0.64, 0.643, 0.65, 0.641, 0.657, 0.622, 0.577, 0.59, 0.648, 0.622, 0.558, 0.582, 0.638, 0.59, 0.586, 0.62, 0.586, 0.623, 0.575, 0.536, 0.542, 0.587, 0.611, 0.614, 0.598, 0.57, 0.613, 0.618, 0.623, 0.622, 0.619, 0.651, 0.626, 0.627, 0.65, 0.623, 0.548, 0.599, 0.566, 0.561, 0.638, 0.613, 0.594, 0.628, 0.642, 0.627, 0.596, 0.636, 0.616, 0.58, 0.595, 0.616, 0.625, 0.574, 0.64, 0.592, 0.614, 0.591, 0.593, 0.611, 0.587, 0.578, 0.577, 0.59, 0.589, 0.59, 0.626, 0.596, 0.609, 0.63, 0.579, 0.611, 0.624, 0.618, 0.553, 0.621, 0.649, 0.612, 0.66, 0.67, 0.66, 0.534, 0.612, 0.558, 0.569, 0.617, 0.565, 0.617, 0.606, 0.637, 0.637, 0.609, 0.584, 0.634, 0.59, 0.578, 0.651, 0.589, 0.625, 0.625, 0.628, 0.611, 0.603, 0.612, 0.597, 0.608, 0.575, 0.606, 0.615, 0.609, 0.542, 0.558, 0.602, 0.587, 0.607, 0.613, 0.619, 0.56, 0.556, 0.61, 0.63, 0.636, 0.62, 0.606, 0.572, 0.632, 0.58, 0.629, 0.626, 0.574, 0.588, 0.627, 0.625, 0.605, 0.618, 0.623, 0.663, 0.606, 0.585, 0.605, 0.647, 0.641, 0.655, 0.624, 0.614, 0.631, 0.572, 0.617, 0.625, 0.598, 0.646, 0.628, 0.619, 0.638, 0.602, 0.586, 0.624, 0.613, 0.639, 0.541, 0.536, 0.614, 0.64, 0.548, 0.604, 0.59, 0.614, 0.631, 0.608, 0.634, 0.633, 0.622, 0.629, 0.647, 0.57, 0.595, 0.648, 0.628, 0.607, 0.591, 0.634, 0.605, 0.617, 0.65, 0.641, 0.602, 0.643, 0.618, 0.602, 0.621, 0.624, 0.603, 0.619, 0.621, 0.611, 0.643, 0.62, 0.554, 0.62, 0.622, 0.571, 0.63, 0.607, 0.585, 0.589, 0.618, 0.622, 0.581, 0.611, 0.626, 0.608, 0.558, 0.572, 0.591, 0.621, 0.638, 0.625, 0.601, 0.605, 0.606, 0.611, 0.625, 0.627, 0.613, 0.622, 0.642, 0.628, 0.605, 0.616, 0.608, 0.619, 0.643, 0.622, 0.623, 0.648, 0.603, 0.608, 0.619, 0.643, 0.612, 0.602, 0.643, 0.654, 0.634, 0.617, 0.583, 0.654, 0.61, 0.632, 0.627, 0.653, 0.614, 0.618, 0.598, 0.617, 0.624, 0.606, 0.623, 0.567, 0.618, 0.668, 0.642, 0.629, 0.624, 0.625, 0.612, 0.636, 0.609, 0.587, 0.539, 0.583, 0.605, 0.637, 0.641, 0.593, 0.603, 0.64, 0.656, 0.644, 0.65, 0.647, 0.649, 0.655, 0.641, 0.648, 0.631, 0.573, 0.605, 0.62, 0.644, 0.54, 0.638, 0.617, 0.639, 0.595, 0.64, 0.618, 0.631, 0.617, 0.627, 0.645, 0.587, 0.642, 0.646, 0.616, 0.618, 0.615, 0.628, 0.565, 0.624, 0.574, 0.531, 0.543, 0.543, 0.625, 0.65, 0.634, 0.626, 0.625, 0.623, 0.609, 0.585, 0.626, 0.619, 0.608, 0.618, 0.644, 0.652, 0.627, 0.58, 0.548, 0.566, 0.569, 0.536, 0.589, 0.594, 0.599, 0.611, 0.621, 0.656, 0.573, 0.609, 0.6, 0.586, 0.544, 0.556, 0.589, 0.553, 0.556, 0.549, 0.571, 0.558, 0.563, 0.568, 0.549, 0.597, 0.568, 0.607, 0.559]}, {\"box\": {\"visible\": true}, \"jitter\": 1, \"marker\": {\"size\": 5}, \"name\": \"SCFF-TRAIN\", \"points\": \"all\", \"selectedpoints\": [0, 270, 268, 267, 266, 265, 264, 263, 261, 260, 271, 259, 257, 256, 255, 254, 253, 252, 251, 249, 248, 258, 247, 272, 274, 295, 294, 293, 292, 291, 290, 289, 288, 287], \"side\": \"positive\", \"type\": \"violin\", \"y\": [0.609, 0.579, 0.603, 0.532, 0.622, 0.614, 0.633, 0.549, 0.587, 0.606, 0.552, 0.61, 0.551, 0.606, 0.603, 0.647, 0.616, 0.601, 0.605, 0.582, 0.544, 0.624, 0.612, 0.614, 0.598, 0.562, 0.581, 0.619, 0.583, 0.613, 0.631, 0.6, 0.586, 0.623, 0.58, 0.585, 0.616, 0.543, 0.591, 0.555, 0.561, 0.628, 0.632, 0.632, 0.638, 0.625, 0.606, 0.636, 0.607, 0.559, 0.582, 0.621, 0.599, 0.554, 0.578, 0.62, 0.584, 0.577, 0.607, 0.563, 0.606, 0.571, 0.513, 0.524, 0.577, 0.597, 0.603, 0.583, 0.56, 0.606, 0.607, 0.615, 0.608, 0.595, 0.635, 0.614, 0.611, 0.634, 0.608, 0.535, 0.592, 0.563, 0.545, 0.636, 0.597, 0.588, 0.619, 0.625, 0.612, 0.584, 0.625, 0.601, 0.564, 0.579, 0.601, 0.616, 0.565, 0.622, 0.574, 0.594, 0.588, 0.573, 0.594, 0.577, 0.574, 0.569, 0.583, 0.58, 0.582, 0.613, 0.584, 0.598, 0.616, 0.577, 0.602, 0.61, 0.602, 0.54, 0.617, 0.619, 0.603, 0.639, 0.641, 0.637, 0.512, 0.608, 0.549, 0.545, 0.605, 0.555, 0.611, 0.596, 0.627, 0.629, 0.595, 0.569, 0.624, 0.584, 0.568, 0.637, 0.586, 0.603, 0.606, 0.61, 0.586, 0.586, 0.606, 0.586, 0.602, 0.57, 0.598, 0.605, 0.596, 0.527, 0.549, 0.595, 0.579, 0.594, 0.604, 0.615, 0.551, 0.538, 0.599, 0.624, 0.612, 0.601, 0.585, 0.553, 0.62, 0.578, 0.614, 0.614, 0.547, 0.577, 0.618, 0.613, 0.585, 0.596, 0.615, 0.644, 0.586, 0.565, 0.591, 0.622, 0.618, 0.636, 0.602, 0.609, 0.615, 0.553, 0.603, 0.601, 0.592, 0.634, 0.613, 0.612, 0.62, 0.595, 0.556, 0.61, 0.596, 0.622, 0.513, 0.512, 0.611, 0.623, 0.523, 0.596, 0.579, 0.593, 0.621, 0.585, 0.628, 0.619, 0.614, 0.618, 0.642, 0.547, 0.579, 0.624, 0.622, 0.598, 0.59, 0.627, 0.588, 0.612, 0.639, 0.621, 0.598, 0.642, 0.61, 0.599, 0.6, 0.615, 0.589, 0.606, 0.614, 0.601, 0.634, 0.609, 0.544, 0.614, 0.61, 0.564, 0.619, 0.598, 0.577, 0.584, 0.613, 0.603, 0.578, 0.591, 0.615, 0.592, 0.547, 0.549, 0.583, 0.602, 0.626, 0.62, 0.587, 0.593, 0.596, 0.61, 0.613, 0.617, 0.594, 0.609, 0.626, 0.621, 0.6, 0.602, 0.6, 0.61, 0.634, 0.612, 0.611, 0.638, 0.6, 0.6, 0.604, 0.626, 0.606, 0.59, 0.633, 0.637, 0.619, 0.605, 0.568, 0.642, 0.592, 0.616, 0.599, 0.634, 0.602, 0.606, 0.58, 0.601, 0.601, 0.586, 0.611, 0.554, 0.617, 0.654, 0.624, 0.606, 0.605, 0.604, 0.598, 0.623, 0.596, 0.582, 0.52, 0.569, 0.595, 0.618, 0.614, 0.582, 0.582, 0.628, 0.645, 0.626, 0.646, 0.626, 0.636, 0.637, 0.609, 0.64, 0.629, 0.553, 0.594, 0.603, 0.628, 0.531, 0.625, 0.61, 0.627, 0.587, 0.637, 0.612, 0.616, 0.603, 0.611, 0.629, 0.571, 0.63, 0.646, 0.605, 0.603, 0.601, 0.616, 0.542, 0.613, 0.555, 0.514, 0.526, 0.528, 0.612, 0.629, 0.619, 0.634, 0.617, 0.61, 0.604, 0.571, 0.616, 0.603, 0.59, 0.603, 0.611, 0.624, 0.603, 0.579, 0.531, 0.545, 0.564, 0.502, 0.587, 0.589, 0.581, 0.596, 0.6, 0.641, 0.543, 0.591, 0.579, 0.578, 0.526, 0.558, 0.575, 0.538, 0.547, 0.532, 0.553, 0.534, 0.535, 0.566, 0.53, 0.593, 0.552, 0.599, 0.547]}, {\"box\": {\"visible\": true}, \"jitter\": 1, \"marker\": {\"size\": 5}, \"name\": \"SCFF-TEST\", \"points\": \"all\", \"selectedpoints\": [0, 270, 268, 267, 266, 265, 264, 263, 261, 260, 271, 259, 257, 256, 255, 254, 253, 252, 251, 249, 248, 258, 247, 272, 274, 295, 294, 293, 292, 291, 290, 289, 288, 287], \"side\": \"positive\", \"type\": \"violin\", \"y\": [0.658, 0.612, 0.66, 0.62, 0.657, 0.705, 0.676, 0.634, 0.663, 0.697, 0.57, 0.648, 0.527, 0.642, 0.64, 0.669, 0.674, 0.635, 0.674, 0.568, 0.608, 0.623, 0.67, 0.661, 0.638, 0.626, 0.605, 0.68, 0.614, 0.692, 0.674, 0.641, 0.596, 0.656, 0.6, 0.619, 0.644, 0.602, 0.604, 0.595, 0.588, 0.665, 0.698, 0.657, 0.657, 0.711, 0.736, 0.715, 0.659, 0.619, 0.606, 0.724, 0.677, 0.562, 0.587, 0.685, 0.595, 0.604, 0.652, 0.648, 0.668, 0.58, 0.597, 0.583, 0.61, 0.645, 0.643, 0.632, 0.582, 0.623, 0.645, 0.641, 0.653, 0.676, 0.689, 0.656, 0.663, 0.687, 0.654, 0.573, 0.607, 0.572, 0.607, 0.637, 0.652, 0.598, 0.647, 0.69, 0.666, 0.623, 0.662, 0.66, 0.618, 0.632, 0.648, 0.651, 0.599, 0.682, 0.635, 0.66, 0.586, 0.641, 0.651, 0.614, 0.588, 0.597, 0.603, 0.609, 0.6, 0.659, 0.622, 0.639, 0.664, 0.581, 0.628, 0.655, 0.66, 0.588, 0.627, 0.729, 0.635, 0.718, 0.746, 0.719, 0.591, 0.62, 0.58, 0.63, 0.635, 0.584, 0.627, 0.627, 0.658, 0.651, 0.639, 0.619, 0.65, 0.603, 0.596, 0.683, 0.59, 0.679, 0.67, 0.668, 0.676, 0.644, 0.624, 0.626, 0.615, 0.575, 0.627, 0.64, 0.636, 0.571, 0.572, 0.616, 0.6, 0.639, 0.632, 0.626, 0.582, 0.602, 0.632, 0.631, 0.701, 0.666, 0.658, 0.614, 0.656, 0.585, 0.667, 0.657, 0.647, 0.607, 0.651, 0.653, 0.663, 0.67, 0.642, 0.705, 0.651, 0.63, 0.633, 0.72, 0.704, 0.701, 0.68, 0.616, 0.673, 0.625, 0.654, 0.689, 0.608, 0.674, 0.663, 0.631, 0.677, 0.608, 0.662, 0.653, 0.654, 0.683, 0.618, 0.595, 0.615, 0.678, 0.615, 0.621, 0.607, 0.659, 0.647, 0.657, 0.643, 0.666, 0.637, 0.644, 0.655, 0.626, 0.633, 0.71, 0.639, 0.623, 0.589, 0.645, 0.649, 0.626, 0.675, 0.69, 0.605, 0.637, 0.633, 0.599, 0.675, 0.642, 0.63, 0.649, 0.632, 0.636, 0.658, 0.646, 0.57, 0.627, 0.646, 0.585, 0.65, 0.621, 0.603, 0.594, 0.625, 0.67, 0.578, 0.659, 0.652, 0.644, 0.584, 0.627, 0.602, 0.672, 0.669, 0.627, 0.632, 0.633, 0.628, 0.604, 0.654, 0.649, 0.661, 0.652, 0.681, 0.639, 0.613, 0.648, 0.621, 0.641, 0.665, 0.643, 0.652, 0.668, 0.598, 0.622, 0.655, 0.689, 0.622, 0.624, 0.664, 0.696, 0.663, 0.644, 0.619, 0.676, 0.656, 0.666, 0.696, 0.701, 0.635, 0.643, 0.646, 0.657, 0.683, 0.659, 0.657, 0.602, 0.613, 0.696, 0.692, 0.692, 0.676, 0.684, 0.646, 0.672, 0.645, 0.6, 0.584, 0.617, 0.627, 0.678, 0.707, 0.616, 0.652, 0.668, 0.682, 0.687, 0.666, 0.7, 0.682, 0.704, 0.725, 0.668, 0.628, 0.612, 0.625, 0.662, 0.68, 0.552, 0.662, 0.637, 0.664, 0.599, 0.647, 0.626, 0.664, 0.65, 0.668, 0.685, 0.631, 0.674, 0.641, 0.642, 0.654, 0.651, 0.652, 0.624, 0.649, 0.627, 0.571, 0.582, 0.58, 0.649, 0.701, 0.672, 0.603, 0.639, 0.651, 0.62, 0.619, 0.647, 0.66, 0.652, 0.65, 0.727, 0.726, 0.685, 0.577, 0.59, 0.621, 0.58, 0.629, 0.581, 0.596, 0.641, 0.646, 0.67, 0.694, 0.657, 0.648, 0.654, 0.597, 0.582, 0.542, 0.616, 0.586, 0.573, 0.591, 0.613, 0.617, 0.631, 0.564, 0.598, 0.6, 0.606, 0.618, 0.585]}],\n",
       "                        {\"template\": {\"data\": {\"bar\": [{\"error_x\": {\"color\": \"#2a3f5f\"}, \"error_y\": {\"color\": \"#2a3f5f\"}, \"marker\": {\"line\": {\"color\": \"#E5ECF6\", \"width\": 0.5}}, \"type\": \"bar\"}], \"barpolar\": [{\"marker\": {\"line\": {\"color\": \"#E5ECF6\", \"width\": 0.5}}, \"type\": \"barpolar\"}], \"carpet\": [{\"aaxis\": {\"endlinecolor\": \"#2a3f5f\", \"gridcolor\": \"white\", \"linecolor\": \"white\", \"minorgridcolor\": \"white\", \"startlinecolor\": \"#2a3f5f\"}, \"baxis\": {\"endlinecolor\": \"#2a3f5f\", \"gridcolor\": \"white\", \"linecolor\": \"white\", \"minorgridcolor\": \"white\", \"startlinecolor\": \"#2a3f5f\"}, \"type\": \"carpet\"}], \"choropleth\": [{\"colorbar\": {\"outlinewidth\": 0, \"ticks\": \"\"}, \"type\": \"choropleth\"}], \"contour\": [{\"colorbar\": {\"outlinewidth\": 0, \"ticks\": \"\"}, \"colorscale\": [[0.0, \"#0d0887\"], [0.1111111111111111, \"#46039f\"], [0.2222222222222222, \"#7201a8\"], [0.3333333333333333, \"#9c179e\"], [0.4444444444444444, \"#bd3786\"], [0.5555555555555556, \"#d8576b\"], [0.6666666666666666, \"#ed7953\"], [0.7777777777777778, \"#fb9f3a\"], [0.8888888888888888, \"#fdca26\"], [1.0, \"#f0f921\"]], \"type\": \"contour\"}], \"contourcarpet\": [{\"colorbar\": {\"outlinewidth\": 0, \"ticks\": \"\"}, \"type\": \"contourcarpet\"}], \"heatmap\": [{\"colorbar\": {\"outlinewidth\": 0, \"ticks\": \"\"}, \"colorscale\": [[0.0, \"#0d0887\"], [0.1111111111111111, \"#46039f\"], [0.2222222222222222, \"#7201a8\"], [0.3333333333333333, \"#9c179e\"], [0.4444444444444444, \"#bd3786\"], [0.5555555555555556, \"#d8576b\"], [0.6666666666666666, \"#ed7953\"], [0.7777777777777778, \"#fb9f3a\"], [0.8888888888888888, \"#fdca26\"], [1.0, \"#f0f921\"]], \"type\": \"heatmap\"}], \"heatmapgl\": [{\"colorbar\": {\"outlinewidth\": 0, \"ticks\": \"\"}, \"colorscale\": [[0.0, \"#0d0887\"], [0.1111111111111111, \"#46039f\"], [0.2222222222222222, \"#7201a8\"], [0.3333333333333333, \"#9c179e\"], [0.4444444444444444, \"#bd3786\"], [0.5555555555555556, \"#d8576b\"], [0.6666666666666666, \"#ed7953\"], [0.7777777777777778, \"#fb9f3a\"], [0.8888888888888888, \"#fdca26\"], [1.0, \"#f0f921\"]], \"type\": \"heatmapgl\"}], \"histogram\": [{\"marker\": {\"colorbar\": {\"outlinewidth\": 0, \"ticks\": \"\"}}, \"type\": \"histogram\"}], \"histogram2d\": [{\"colorbar\": {\"outlinewidth\": 0, \"ticks\": \"\"}, \"colorscale\": [[0.0, \"#0d0887\"], [0.1111111111111111, \"#46039f\"], [0.2222222222222222, \"#7201a8\"], [0.3333333333333333, \"#9c179e\"], [0.4444444444444444, \"#bd3786\"], [0.5555555555555556, \"#d8576b\"], [0.6666666666666666, \"#ed7953\"], [0.7777777777777778, \"#fb9f3a\"], [0.8888888888888888, \"#fdca26\"], [1.0, \"#f0f921\"]], \"type\": \"histogram2d\"}], \"histogram2dcontour\": [{\"colorbar\": {\"outlinewidth\": 0, \"ticks\": \"\"}, \"colorscale\": [[0.0, \"#0d0887\"], [0.1111111111111111, \"#46039f\"], [0.2222222222222222, \"#7201a8\"], [0.3333333333333333, \"#9c179e\"], [0.4444444444444444, \"#bd3786\"], [0.5555555555555556, \"#d8576b\"], [0.6666666666666666, \"#ed7953\"], [0.7777777777777778, \"#fb9f3a\"], [0.8888888888888888, \"#fdca26\"], [1.0, \"#f0f921\"]], \"type\": \"histogram2dcontour\"}], \"mesh3d\": [{\"colorbar\": {\"outlinewidth\": 0, \"ticks\": \"\"}, \"type\": \"mesh3d\"}], \"parcoords\": [{\"line\": {\"colorbar\": {\"outlinewidth\": 0, \"ticks\": \"\"}}, \"type\": \"parcoords\"}], \"pie\": [{\"automargin\": true, \"type\": \"pie\"}], \"scatter\": [{\"marker\": {\"colorbar\": {\"outlinewidth\": 0, \"ticks\": \"\"}}, \"type\": \"scatter\"}], \"scatter3d\": [{\"line\": {\"colorbar\": {\"outlinewidth\": 0, \"ticks\": \"\"}}, \"marker\": {\"colorbar\": {\"outlinewidth\": 0, \"ticks\": \"\"}}, \"type\": \"scatter3d\"}], \"scattercarpet\": [{\"marker\": {\"colorbar\": {\"outlinewidth\": 0, \"ticks\": \"\"}}, \"type\": \"scattercarpet\"}], \"scattergeo\": [{\"marker\": {\"colorbar\": {\"outlinewidth\": 0, \"ticks\": \"\"}}, \"type\": \"scattergeo\"}], \"scattergl\": [{\"marker\": {\"colorbar\": {\"outlinewidth\": 0, \"ticks\": \"\"}}, \"type\": \"scattergl\"}], \"scattermapbox\": [{\"marker\": {\"colorbar\": {\"outlinewidth\": 0, \"ticks\": \"\"}}, \"type\": \"scattermapbox\"}], \"scatterpolar\": [{\"marker\": {\"colorbar\": {\"outlinewidth\": 0, \"ticks\": \"\"}}, \"type\": \"scatterpolar\"}], \"scatterpolargl\": [{\"marker\": {\"colorbar\": {\"outlinewidth\": 0, \"ticks\": \"\"}}, \"type\": \"scatterpolargl\"}], \"scatterternary\": [{\"marker\": {\"colorbar\": {\"outlinewidth\": 0, \"ticks\": \"\"}}, \"type\": \"scatterternary\"}], \"surface\": [{\"colorbar\": {\"outlinewidth\": 0, \"ticks\": \"\"}, \"colorscale\": [[0.0, \"#0d0887\"], [0.1111111111111111, \"#46039f\"], [0.2222222222222222, \"#7201a8\"], [0.3333333333333333, \"#9c179e\"], [0.4444444444444444, \"#bd3786\"], [0.5555555555555556, \"#d8576b\"], [0.6666666666666666, \"#ed7953\"], [0.7777777777777778, \"#fb9f3a\"], [0.8888888888888888, \"#fdca26\"], [1.0, \"#f0f921\"]], \"type\": \"surface\"}], \"table\": [{\"cells\": {\"fill\": {\"color\": \"#EBF0F8\"}, \"line\": {\"color\": \"white\"}}, \"header\": {\"fill\": {\"color\": \"#C8D4E3\"}, \"line\": {\"color\": \"white\"}}, \"type\": \"table\"}]}, \"layout\": {\"annotationdefaults\": {\"arrowcolor\": \"#2a3f5f\", \"arrowhead\": 0, \"arrowwidth\": 1}, \"coloraxis\": {\"colorbar\": {\"outlinewidth\": 0, \"ticks\": \"\"}}, \"colorscale\": {\"diverging\": [[0, \"#8e0152\"], [0.1, \"#c51b7d\"], [0.2, \"#de77ae\"], [0.3, \"#f1b6da\"], [0.4, \"#fde0ef\"], [0.5, \"#f7f7f7\"], [0.6, \"#e6f5d0\"], [0.7, \"#b8e186\"], [0.8, \"#7fbc41\"], [0.9, \"#4d9221\"], [1, \"#276419\"]], \"sequential\": [[0.0, \"#0d0887\"], [0.1111111111111111, \"#46039f\"], [0.2222222222222222, \"#7201a8\"], [0.3333333333333333, \"#9c179e\"], [0.4444444444444444, \"#bd3786\"], [0.5555555555555556, \"#d8576b\"], [0.6666666666666666, \"#ed7953\"], [0.7777777777777778, \"#fb9f3a\"], [0.8888888888888888, \"#fdca26\"], [1.0, \"#f0f921\"]], \"sequentialminus\": [[0.0, \"#0d0887\"], [0.1111111111111111, \"#46039f\"], [0.2222222222222222, \"#7201a8\"], [0.3333333333333333, \"#9c179e\"], [0.4444444444444444, \"#bd3786\"], [0.5555555555555556, \"#d8576b\"], [0.6666666666666666, \"#ed7953\"], [0.7777777777777778, \"#fb9f3a\"], [0.8888888888888888, \"#fdca26\"], [1.0, \"#f0f921\"]]}, \"colorway\": [\"#636efa\", \"#EF553B\", \"#00cc96\", \"#ab63fa\", \"#FFA15A\", \"#19d3f3\", \"#FF6692\", \"#B6E880\", \"#FF97FF\", \"#FECB52\"], \"font\": {\"color\": \"#2a3f5f\"}, \"geo\": {\"bgcolor\": \"white\", \"lakecolor\": \"white\", \"landcolor\": \"#E5ECF6\", \"showlakes\": true, \"showland\": true, \"subunitcolor\": \"white\"}, \"hoverlabel\": {\"align\": \"left\"}, \"hovermode\": \"closest\", \"mapbox\": {\"style\": \"light\"}, \"paper_bgcolor\": \"white\", \"plot_bgcolor\": \"#E5ECF6\", \"polar\": {\"angularaxis\": {\"gridcolor\": \"white\", \"linecolor\": \"white\", \"ticks\": \"\"}, \"bgcolor\": \"#E5ECF6\", \"radialaxis\": {\"gridcolor\": \"white\", \"linecolor\": \"white\", \"ticks\": \"\"}}, \"scene\": {\"xaxis\": {\"backgroundcolor\": \"#E5ECF6\", \"gridcolor\": \"white\", \"gridwidth\": 2, \"linecolor\": \"white\", \"showbackground\": true, \"ticks\": \"\", \"zerolinecolor\": \"white\"}, \"yaxis\": {\"backgroundcolor\": \"#E5ECF6\", \"gridcolor\": \"white\", \"gridwidth\": 2, \"linecolor\": \"white\", \"showbackground\": true, \"ticks\": \"\", \"zerolinecolor\": \"white\"}, \"zaxis\": {\"backgroundcolor\": \"#E5ECF6\", \"gridcolor\": \"white\", \"gridwidth\": 2, \"linecolor\": \"white\", \"showbackground\": true, \"ticks\": \"\", \"zerolinecolor\": \"white\"}}, \"shapedefaults\": {\"line\": {\"color\": \"#2a3f5f\"}}, \"ternary\": {\"aaxis\": {\"gridcolor\": \"white\", \"linecolor\": \"white\", \"ticks\": \"\"}, \"baxis\": {\"gridcolor\": \"white\", \"linecolor\": \"white\", \"ticks\": \"\"}, \"bgcolor\": \"#E5ECF6\", \"caxis\": {\"gridcolor\": \"white\", \"linecolor\": \"white\", \"ticks\": \"\"}}, \"title\": {\"x\": 0.05}, \"xaxis\": {\"automargin\": true, \"gridcolor\": \"white\", \"linecolor\": \"white\", \"ticks\": \"\", \"title\": {\"standoff\": 15}, \"zerolinecolor\": \"white\", \"zerolinewidth\": 2}, \"yaxis\": {\"automargin\": true, \"gridcolor\": \"white\", \"linecolor\": \"white\", \"ticks\": \"\", \"title\": {\"standoff\": 15}, \"zerolinecolor\": \"white\", \"zerolinewidth\": 2}}}},\n",
       "                        {\"responsive\": true}\n",
       "                    ).then(function(){\n",
       "                            \n",
       "var gd = document.getElementById('bd377e35-3f08-47ac-96f4-e98b7e869700');\n",
       "var x = new MutationObserver(function (mutations, observer) {{\n",
       "        var display = window.getComputedStyle(gd).display;\n",
       "        if (!display || display === 'none') {{\n",
       "            console.log([gd, 'removed!']);\n",
       "            Plotly.purge(gd);\n",
       "            observer.disconnect();\n",
       "        }}\n",
       "}});\n",
       "\n",
       "// Listen for the removal of the full notebook cells\n",
       "var notebookContainer = gd.closest('#notebook-container');\n",
       "if (notebookContainer) {{\n",
       "    x.observe(notebookContainer, {childList: true});\n",
       "}}\n",
       "\n",
       "// Listen for the clearing of the current output cell\n",
       "var outputEl = gd.closest('.output');\n",
       "if (outputEl) {{\n",
       "    x.observe(outputEl, {childList: true});\n",
       "}}\n",
       "\n",
       "                        })\n",
       "                };\n",
       "                });\n",
       "            </script>\n",
       "        </div>"
      ]
     },
     "metadata": {},
     "output_type": "display_data"
    }
   ],
   "source": [
    "# Violin plots\n",
    "fig = go.Figure()\n",
    "\n",
    "for column in W:\n",
    "    fig.add_trace(go.Violin(\n",
    "        y = W[column],\n",
    "       name=column.split('_')[0].upper(),\n",
    "       jitter=1, points='all', side='positive',\n",
    "       box_visible=True,\n",
    "       selectedpoints=selected_points,\n",
    "           marker= dict(\n",
    "               size = 5\n",
    "                           )))\n",
    "fig"
   ]
  },
  {
   "cell_type": "code",
   "execution_count": 281,
   "metadata": {},
   "outputs": [],
   "source": [
    "## Scatter Plot"
   ]
  },
  {
   "cell_type": "code",
   "execution_count": 291,
   "metadata": {},
   "outputs": [],
   "source": [
    "df_DIM_REDUCT = FINAL_DIC['df_DIM_REDUCT']\n",
    "method = 'mds'\n",
    "prot_section = 'sec'\n",
    "\n",
    "name = f'{method}_{prot_section}_'\n",
    "Z = df_DIM_REDUCT[[name + 'x', name + 'y']]\n",
    "Z.columns = ['x', 'y']"
   ]
  },
  {
   "cell_type": "code",
   "execution_count": 302,
   "metadata": {},
   "outputs": [
    {
     "ename": "ValueError",
     "evalue": "Invalid property specified for object of type plotly.graph_objs.Scatter: 'color'\n\n    Valid properties:\n        cliponaxis\n            Determines whether or not markers and text nodes are\n            clipped about the subplot axes. To show markers and\n            text nodes above axis lines and tick labels, make sure\n            to set `xaxis.layer` and `yaxis.layer` to *below\n            traces*.\n        connectgaps\n            Determines whether or not gaps (i.e. {nan} or missing\n            values) in the provided data arrays are connected.\n        customdata\n            Assigns extra data each datum. This may be useful when\n            listening to hover, click and selection events. Note\n            that, \"scatter\" traces also appends customdata items in\n            the markers DOM elements\n        customdatasrc\n            Sets the source reference on Chart Studio Cloud for\n            customdata .\n        dx\n            Sets the x coordinate step. See `x0` for more info.\n        dy\n            Sets the y coordinate step. See `y0` for more info.\n        error_x\n            :class:`plotly.graph_objects.scatter.ErrorX` instance\n            or dict with compatible properties\n        error_y\n            :class:`plotly.graph_objects.scatter.ErrorY` instance\n            or dict with compatible properties\n        fill\n            Sets the area to fill with a solid color. Defaults to\n            \"none\" unless this trace is stacked, then it gets\n            \"tonexty\" (\"tonextx\") if `orientation` is \"v\" (\"h\") Use\n            with `fillcolor` if not \"none\". \"tozerox\" and \"tozeroy\"\n            fill to x=0 and y=0 respectively. \"tonextx\" and\n            \"tonexty\" fill between the endpoints of this trace and\n            the endpoints of the trace before it, connecting those\n            endpoints with straight lines (to make a stacked area\n            graph); if there is no trace before it, they behave\n            like \"tozerox\" and \"tozeroy\". \"toself\" connects the\n            endpoints of the trace (or each segment of the trace if\n            it has gaps) into a closed shape. \"tonext\" fills the\n            space between two traces if one completely encloses the\n            other (eg consecutive contour lines), and behaves like\n            \"toself\" if there is no trace before it. \"tonext\"\n            should not be used if one trace does not enclose the\n            other. Traces in a `stackgroup` will only fill to (or\n            be filled to) other traces in the same group. With\n            multiple `stackgroup`s or some traces stacked and some\n            not, if fill-linked traces are not already consecutive,\n            the later ones will be pushed down in the drawing\n            order.\n        fillcolor\n            Sets the fill color. Defaults to a half-transparent\n            variant of the line color, marker color, or marker line\n            color, whichever is available.\n        groupnorm\n            Only relevant when `stackgroup` is used, and only the\n            first `groupnorm` found in the `stackgroup` will be\n            used - including if `visible` is \"legendonly\" but not\n            if it is `false`. Sets the normalization for the sum of\n            this `stackgroup`. With \"fraction\", the value of each\n            trace at each location is divided by the sum of all\n            trace values at that location. \"percent\" is the same\n            but multiplied by 100 to show percentages. If there are\n            multiple subplots, or multiple `stackgroup`s on one\n            subplot, each will be normalized within its own set.\n        hoverinfo\n            Determines which trace information appear on hover. If\n            `none` or `skip` are set, no information is displayed\n            upon hovering. But, if `none` is set, click and hover\n            events are still fired.\n        hoverinfosrc\n            Sets the source reference on Chart Studio Cloud for\n            hoverinfo .\n        hoverlabel\n            :class:`plotly.graph_objects.scatter.Hoverlabel`\n            instance or dict with compatible properties\n        hoveron\n            Do the hover effects highlight individual points\n            (markers or line points) or do they highlight filled\n            regions? If the fill is \"toself\" or \"tonext\" and there\n            are no markers or text, then the default is \"fills\",\n            otherwise it is \"points\".\n        hovertemplate\n            Template string used for rendering the information that\n            appear on hover box. Note that this will override\n            `hoverinfo`. Variables are inserted using %{variable},\n            for example \"y: %{y}\". Numbers are formatted using\n            d3-format's syntax %{variable:d3-format}, for example\n            \"Price: %{y:$.2f}\". https://github.com/d3/d3-3.x-api-\n            reference/blob/master/Formatting.md#d3_format for\n            details on the formatting syntax. Dates are formatted\n            using d3-time-format's syntax %{variable|d3-time-\n            format}, for example \"Day: %{2019-01-01|%A}\".\n            https://github.com/d3/d3-3.x-api-\n            reference/blob/master/Time-Formatting.md#format for\n            details on the date formatting syntax. The variables\n            available in `hovertemplate` are the ones emitted as\n            event data described at this link\n            https://plotly.com/javascript/plotlyjs-events/#event-\n            data. Additionally, every attributes that can be\n            specified per-point (the ones that are `arrayOk: true`)\n            are available.  Anything contained in tag `<extra>` is\n            displayed in the secondary box, for example\n            \"<extra>{fullData.name}</extra>\". To hide the secondary\n            box completely, use an empty tag `<extra></extra>`.\n        hovertemplatesrc\n            Sets the source reference on Chart Studio Cloud for\n            hovertemplate .\n        hovertext\n            Sets hover text elements associated with each (x,y)\n            pair. If a single string, the same string appears over\n            all the data points. If an array of string, the items\n            are mapped in order to the this trace's (x,y)\n            coordinates. To be seen, trace `hoverinfo` must contain\n            a \"text\" flag.\n        hovertextsrc\n            Sets the source reference on Chart Studio Cloud for\n            hovertext .\n        ids\n            Assigns id labels to each datum. These ids for object\n            constancy of data points during animation. Should be an\n            array of strings, not numbers or any other type.\n        idssrc\n            Sets the source reference on Chart Studio Cloud for\n            ids .\n        legendgroup\n            Sets the legend group for this trace. Traces part of\n            the same legend group hide/show at the same time when\n            toggling legend items.\n        line\n            :class:`plotly.graph_objects.scatter.Line` instance or\n            dict with compatible properties\n        marker\n            :class:`plotly.graph_objects.scatter.Marker` instance\n            or dict with compatible properties\n        meta\n            Assigns extra meta information associated with this\n            trace that can be used in various text attributes.\n            Attributes such as trace `name`, graph, axis and\n            colorbar `title.text`, annotation `text`\n            `rangeselector`, `updatemenues` and `sliders` `label`\n            text all support `meta`. To access the trace `meta`\n            values in an attribute in the same trace, simply use\n            `%{meta[i]}` where `i` is the index or key of the\n            `meta` item in question. To access trace `meta` in\n            layout attributes, use `%{data[n[.meta[i]}` where `i`\n            is the index or key of the `meta` and `n` is the trace\n            index.\n        metasrc\n            Sets the source reference on Chart Studio Cloud for\n            meta .\n        mode\n            Determines the drawing mode for this scatter trace. If\n            the provided `mode` includes \"text\" then the `text`\n            elements appear at the coordinates. Otherwise, the\n            `text` elements appear on hover. If there are less than\n            20 points and the trace is not stacked then the default\n            is \"lines+markers\". Otherwise, \"lines\".\n        name\n            Sets the trace name. The trace name appear as the\n            legend item and on hover.\n        opacity\n            Sets the opacity of the trace.\n        orientation\n            Only relevant when `stackgroup` is used, and only the\n            first `orientation` found in the `stackgroup` will be\n            used - including if `visible` is \"legendonly\" but not\n            if it is `false`. Sets the stacking direction. With \"v\"\n            (\"h\"), the y (x) values of subsequent traces are added.\n            Also affects the default value of `fill`.\n        r\n            r coordinates in scatter traces are deprecated!Please\n            switch to the \"scatterpolar\" trace type.Sets the radial\n            coordinatesfor legacy polar chart only.\n        rsrc\n            Sets the source reference on Chart Studio Cloud for  r\n            .\n        selected\n            :class:`plotly.graph_objects.scatter.Selected` instance\n            or dict with compatible properties\n        selectedpoints\n            Array containing integer indices of selected points.\n            Has an effect only for traces that support selections.\n            Note that an empty array means an empty selection where\n            the `unselected` are turned on for all points, whereas,\n            any other non-array values means no selection all where\n            the `selected` and `unselected` styles have no effect.\n        showlegend\n            Determines whether or not an item corresponding to this\n            trace is shown in the legend.\n        stackgaps\n            Only relevant when `stackgroup` is used, and only the\n            first `stackgaps` found in the `stackgroup` will be\n            used - including if `visible` is \"legendonly\" but not\n            if it is `false`. Determines how we handle locations at\n            which other traces in this group have data but this one\n            does not. With *infer zero* we insert a zero at these\n            locations. With \"interpolate\" we linearly interpolate\n            between existing values, and extrapolate a constant\n            beyond the existing values.\n        stackgroup\n            Set several scatter traces (on the same subplot) to the\n            same stackgroup in order to add their y values (or\n            their x values if `orientation` is \"h\"). If blank or\n            omitted this trace will not be stacked. Stacking also\n            turns `fill` on by default, using \"tonexty\" (\"tonextx\")\n            if `orientation` is \"h\" (\"v\") and sets the default\n            `mode` to \"lines\" irrespective of point count. You can\n            only stack on a numeric (linear or log) axis. Traces in\n            a `stackgroup` will only fill to (or be filled to)\n            other traces in the same group. With multiple\n            `stackgroup`s or some traces stacked and some not, if\n            fill-linked traces are not already consecutive, the\n            later ones will be pushed down in the drawing order.\n        stream\n            :class:`plotly.graph_objects.scatter.Stream` instance\n            or dict with compatible properties\n        t\n            t coordinates in scatter traces are deprecated!Please\n            switch to the \"scatterpolar\" trace type.Sets the\n            angular coordinatesfor legacy polar chart only.\n        text\n            Sets text elements associated with each (x,y) pair. If\n            a single string, the same string appears over all the\n            data points. If an array of string, the items are\n            mapped in order to the this trace's (x,y) coordinates.\n            If trace `hoverinfo` contains a \"text\" flag and\n            \"hovertext\" is not set, these elements will be seen in\n            the hover labels.\n        textfont\n            Sets the text font.\n        textposition\n            Sets the positions of the `text` elements with respects\n            to the (x,y) coordinates.\n        textpositionsrc\n            Sets the source reference on Chart Studio Cloud for\n            textposition .\n        textsrc\n            Sets the source reference on Chart Studio Cloud for\n            text .\n        texttemplate\n            Template string used for rendering the information text\n            that appear on points. Note that this will override\n            `textinfo`. Variables are inserted using %{variable},\n            for example \"y: %{y}\". Numbers are formatted using\n            d3-format's syntax %{variable:d3-format}, for example\n            \"Price: %{y:$.2f}\". https://github.com/d3/d3-3.x-api-\n            reference/blob/master/Formatting.md#d3_format for\n            details on the formatting syntax. Dates are formatted\n            using d3-time-format's syntax %{variable|d3-time-\n            format}, for example \"Day: %{2019-01-01|%A}\".\n            https://github.com/d3/d3-3.x-api-\n            reference/blob/master/Time-Formatting.md#format for\n            details on the date formatting syntax. Every attributes\n            that can be specified per-point (the ones that are\n            `arrayOk: true`) are available.\n        texttemplatesrc\n            Sets the source reference on Chart Studio Cloud for\n            texttemplate .\n        tsrc\n            Sets the source reference on Chart Studio Cloud for  t\n            .\n        uid\n            Assign an id to this trace, Use this to provide object\n            constancy between traces during animations and\n            transitions.\n        uirevision\n            Controls persistence of some user-driven changes to the\n            trace: `constraintrange` in `parcoords` traces, as well\n            as some `editable: true` modifications such as `name`\n            and `colorbar.title`. Defaults to `layout.uirevision`.\n            Note that other user-driven trace attribute changes are\n            controlled by `layout` attributes: `trace.visible` is\n            controlled by `layout.legend.uirevision`,\n            `selectedpoints` is controlled by\n            `layout.selectionrevision`, and `colorbar.(x|y)`\n            (accessible with `config: {editable: true}`) is\n            controlled by `layout.editrevision`. Trace changes are\n            tracked by `uid`, which only falls back on trace index\n            if no `uid` is provided. So if your app can add/remove\n            traces before the end of the `data` array, such that\n            the same trace has a different index, you can still\n            preserve user-driven changes if you give each trace a\n            `uid` that stays with it as it moves.\n        unselected\n            :class:`plotly.graph_objects.scatter.Unselected`\n            instance or dict with compatible properties\n        visible\n            Determines whether or not this trace is visible. If\n            \"legendonly\", the trace is not drawn, but can appear as\n            a legend item (provided that the legend itself is\n            visible).\n        x\n            Sets the x coordinates.\n        x0\n            Alternate to `x`. Builds a linear space of x\n            coordinates. Use with `dx` where `x0` is the starting\n            coordinate and `dx` the step.\n        xaxis\n            Sets a reference between this trace's x coordinates and\n            a 2D cartesian x axis. If \"x\" (the default value), the\n            x coordinates refer to `layout.xaxis`. If \"x2\", the x\n            coordinates refer to `layout.xaxis2`, and so on.\n        xcalendar\n            Sets the calendar system to use with `x` date data.\n        xsrc\n            Sets the source reference on Chart Studio Cloud for  x\n            .\n        y\n            Sets the y coordinates.\n        y0\n            Alternate to `y`. Builds a linear space of y\n            coordinates. Use with `dy` where `y0` is the starting\n            coordinate and `dy` the step.\n        yaxis\n            Sets a reference between this trace's y coordinates and\n            a 2D cartesian y axis. If \"y\" (the default value), the\n            y coordinates refer to `layout.yaxis`. If \"y2\", the y\n            coordinates refer to `layout.yaxis2`, and so on.\n        ycalendar\n            Sets the calendar system to use with `y` date data.\n        ysrc\n            Sets the source reference on Chart Studio Cloud for  y\n            .\n        ",
     "output_type": "error",
     "traceback": [
      "\u001b[0;31m---------------------------------------------------------------------------\u001b[0m",
      "\u001b[0;31mValueError\u001b[0m                                Traceback (most recent call last)",
      "\u001b[0;32m<ipython-input-302-3881c7d506d3>\u001b[0m in \u001b[0;36m<module>\u001b[0;34m\u001b[0m\n\u001b[1;32m      4\u001b[0m     \u001b[0mx\u001b[0m \u001b[0;34m=\u001b[0m \u001b[0mZ\u001b[0m\u001b[0;34m.\u001b[0m\u001b[0mx\u001b[0m\u001b[0;34m,\u001b[0m \u001b[0my\u001b[0m \u001b[0;34m=\u001b[0m \u001b[0mZ\u001b[0m\u001b[0;34m.\u001b[0m\u001b[0my\u001b[0m\u001b[0;34m,\u001b[0m\u001b[0;34m\u001b[0m\u001b[0;34m\u001b[0m\u001b[0m\n\u001b[1;32m      5\u001b[0m     \u001b[0mmode\u001b[0m\u001b[0;34m=\u001b[0m\u001b[0;34m'markers'\u001b[0m\u001b[0;34m,\u001b[0m\u001b[0;34m\u001b[0m\u001b[0;34m\u001b[0m\u001b[0m\n\u001b[0;32m----> 6\u001b[0;31m     \u001b[0mcolor\u001b[0m\u001b[0;34m=\u001b[0m \u001b[0mdf_dash_app\u001b[0m\u001b[0;34m[\u001b[0m\u001b[0;34m'Conformation'\u001b[0m\u001b[0;34m]\u001b[0m\u001b[0;34m\u001b[0m\u001b[0;34m\u001b[0m\u001b[0m\n\u001b[0m\u001b[1;32m      7\u001b[0m \u001b[0;34m\u001b[0m\u001b[0m\n\u001b[1;32m      8\u001b[0m ))\n",
      "\u001b[0;32m~/miniconda3/envs/mds/lib/python3.7/site-packages/plotly/graph_objs/_scatter.py\u001b[0m in \u001b[0;36m__init__\u001b[0;34m(self, arg, cliponaxis, connectgaps, customdata, customdatasrc, dx, dy, error_x, error_y, fill, fillcolor, groupnorm, hoverinfo, hoverinfosrc, hoverlabel, hoveron, hovertemplate, hovertemplatesrc, hovertext, hovertextsrc, ids, idssrc, legendgroup, line, marker, meta, metasrc, mode, name, opacity, orientation, r, rsrc, selected, selectedpoints, showlegend, stackgaps, stackgroup, stream, t, text, textfont, textposition, textpositionsrc, textsrc, texttemplate, texttemplatesrc, tsrc, uid, uirevision, unselected, visible, x, x0, xaxis, xcalendar, xsrc, y, y0, yaxis, ycalendar, ysrc, **kwargs)\u001b[0m\n\u001b[1;32m   2962\u001b[0m         \u001b[0;31m# Process unknown kwargs\u001b[0m\u001b[0;34m\u001b[0m\u001b[0;34m\u001b[0m\u001b[0;34m\u001b[0m\u001b[0m\n\u001b[1;32m   2963\u001b[0m         \u001b[0;31m# ----------------------\u001b[0m\u001b[0;34m\u001b[0m\u001b[0;34m\u001b[0m\u001b[0;34m\u001b[0m\u001b[0m\n\u001b[0;32m-> 2964\u001b[0;31m         \u001b[0mself\u001b[0m\u001b[0;34m.\u001b[0m\u001b[0m_process_kwargs\u001b[0m\u001b[0;34m(\u001b[0m\u001b[0;34m**\u001b[0m\u001b[0mdict\u001b[0m\u001b[0;34m(\u001b[0m\u001b[0marg\u001b[0m\u001b[0;34m,\u001b[0m \u001b[0;34m**\u001b[0m\u001b[0mkwargs\u001b[0m\u001b[0;34m)\u001b[0m\u001b[0;34m)\u001b[0m\u001b[0;34m\u001b[0m\u001b[0;34m\u001b[0m\u001b[0m\n\u001b[0m\u001b[1;32m   2965\u001b[0m \u001b[0;34m\u001b[0m\u001b[0m\n\u001b[1;32m   2966\u001b[0m         \u001b[0;31m# Reset skip_invalid\u001b[0m\u001b[0;34m\u001b[0m\u001b[0;34m\u001b[0m\u001b[0;34m\u001b[0m\u001b[0m\n",
      "\u001b[0;32m~/miniconda3/envs/mds/lib/python3.7/site-packages/plotly/basedatatypes.py\u001b[0m in \u001b[0;36m_process_kwargs\u001b[0;34m(self, **kwargs)\u001b[0m\n\u001b[1;32m   3518\u001b[0m \u001b[0;34m\u001b[0m\u001b[0m\n\u001b[1;32m   3519\u001b[0m         \u001b[0;32mif\u001b[0m \u001b[0minvalid_kwargs\u001b[0m \u001b[0;32mand\u001b[0m \u001b[0;32mnot\u001b[0m \u001b[0mself\u001b[0m\u001b[0;34m.\u001b[0m\u001b[0m_skip_invalid\u001b[0m\u001b[0;34m:\u001b[0m\u001b[0;34m\u001b[0m\u001b[0;34m\u001b[0m\u001b[0m\n\u001b[0;32m-> 3520\u001b[0;31m             \u001b[0mself\u001b[0m\u001b[0;34m.\u001b[0m\u001b[0m_raise_on_invalid_property_error\u001b[0m\u001b[0;34m(\u001b[0m\u001b[0;34m*\u001b[0m\u001b[0minvalid_kwargs\u001b[0m\u001b[0;34m.\u001b[0m\u001b[0mkeys\u001b[0m\u001b[0;34m(\u001b[0m\u001b[0;34m)\u001b[0m\u001b[0;34m)\u001b[0m\u001b[0;34m\u001b[0m\u001b[0;34m\u001b[0m\u001b[0m\n\u001b[0m\u001b[1;32m   3521\u001b[0m \u001b[0;34m\u001b[0m\u001b[0m\n\u001b[1;32m   3522\u001b[0m     \u001b[0;34m@\u001b[0m\u001b[0mproperty\u001b[0m\u001b[0;34m\u001b[0m\u001b[0;34m\u001b[0m\u001b[0m\n",
      "\u001b[0;32m~/miniconda3/envs/mds/lib/python3.7/site-packages/plotly/basedatatypes.py\u001b[0m in \u001b[0;36m_raise_on_invalid_property_error\u001b[0;34m(self, *args)\u001b[0m\n\u001b[1;32m   4194\u001b[0m                     \u001b[0mfull_obj_name\u001b[0m\u001b[0;34m=\u001b[0m\u001b[0mfull_obj_name\u001b[0m\u001b[0;34m,\u001b[0m\u001b[0;34m\u001b[0m\u001b[0;34m\u001b[0m\u001b[0m\n\u001b[1;32m   4195\u001b[0m                     \u001b[0minvalid_str\u001b[0m\u001b[0;34m=\u001b[0m\u001b[0minvalid_str\u001b[0m\u001b[0;34m,\u001b[0m\u001b[0;34m\u001b[0m\u001b[0;34m\u001b[0m\u001b[0m\n\u001b[0;32m-> 4196\u001b[0;31m                     \u001b[0mprop_descriptions\u001b[0m\u001b[0;34m=\u001b[0m\u001b[0mself\u001b[0m\u001b[0;34m.\u001b[0m\u001b[0m_prop_descriptions\u001b[0m\u001b[0;34m,\u001b[0m\u001b[0;34m\u001b[0m\u001b[0;34m\u001b[0m\u001b[0m\n\u001b[0m\u001b[1;32m   4197\u001b[0m                 )\n\u001b[1;32m   4198\u001b[0m             )\n",
      "\u001b[0;31mValueError\u001b[0m: Invalid property specified for object of type plotly.graph_objs.Scatter: 'color'\n\n    Valid properties:\n        cliponaxis\n            Determines whether or not markers and text nodes are\n            clipped about the subplot axes. To show markers and\n            text nodes above axis lines and tick labels, make sure\n            to set `xaxis.layer` and `yaxis.layer` to *below\n            traces*.\n        connectgaps\n            Determines whether or not gaps (i.e. {nan} or missing\n            values) in the provided data arrays are connected.\n        customdata\n            Assigns extra data each datum. This may be useful when\n            listening to hover, click and selection events. Note\n            that, \"scatter\" traces also appends customdata items in\n            the markers DOM elements\n        customdatasrc\n            Sets the source reference on Chart Studio Cloud for\n            customdata .\n        dx\n            Sets the x coordinate step. See `x0` for more info.\n        dy\n            Sets the y coordinate step. See `y0` for more info.\n        error_x\n            :class:`plotly.graph_objects.scatter.ErrorX` instance\n            or dict with compatible properties\n        error_y\n            :class:`plotly.graph_objects.scatter.ErrorY` instance\n            or dict with compatible properties\n        fill\n            Sets the area to fill with a solid color. Defaults to\n            \"none\" unless this trace is stacked, then it gets\n            \"tonexty\" (\"tonextx\") if `orientation` is \"v\" (\"h\") Use\n            with `fillcolor` if not \"none\". \"tozerox\" and \"tozeroy\"\n            fill to x=0 and y=0 respectively. \"tonextx\" and\n            \"tonexty\" fill between the endpoints of this trace and\n            the endpoints of the trace before it, connecting those\n            endpoints with straight lines (to make a stacked area\n            graph); if there is no trace before it, they behave\n            like \"tozerox\" and \"tozeroy\". \"toself\" connects the\n            endpoints of the trace (or each segment of the trace if\n            it has gaps) into a closed shape. \"tonext\" fills the\n            space between two traces if one completely encloses the\n            other (eg consecutive contour lines), and behaves like\n            \"toself\" if there is no trace before it. \"tonext\"\n            should not be used if one trace does not enclose the\n            other. Traces in a `stackgroup` will only fill to (or\n            be filled to) other traces in the same group. With\n            multiple `stackgroup`s or some traces stacked and some\n            not, if fill-linked traces are not already consecutive,\n            the later ones will be pushed down in the drawing\n            order.\n        fillcolor\n            Sets the fill color. Defaults to a half-transparent\n            variant of the line color, marker color, or marker line\n            color, whichever is available.\n        groupnorm\n            Only relevant when `stackgroup` is used, and only the\n            first `groupnorm` found in the `stackgroup` will be\n            used - including if `visible` is \"legendonly\" but not\n            if it is `false`. Sets the normalization for the sum of\n            this `stackgroup`. With \"fraction\", the value of each\n            trace at each location is divided by the sum of all\n            trace values at that location. \"percent\" is the same\n            but multiplied by 100 to show percentages. If there are\n            multiple subplots, or multiple `stackgroup`s on one\n            subplot, each will be normalized within its own set.\n        hoverinfo\n            Determines which trace information appear on hover. If\n            `none` or `skip` are set, no information is displayed\n            upon hovering. But, if `none` is set, click and hover\n            events are still fired.\n        hoverinfosrc\n            Sets the source reference on Chart Studio Cloud for\n            hoverinfo .\n        hoverlabel\n            :class:`plotly.graph_objects.scatter.Hoverlabel`\n            instance or dict with compatible properties\n        hoveron\n            Do the hover effects highlight individual points\n            (markers or line points) or do they highlight filled\n            regions? If the fill is \"toself\" or \"tonext\" and there\n            are no markers or text, then the default is \"fills\",\n            otherwise it is \"points\".\n        hovertemplate\n            Template string used for rendering the information that\n            appear on hover box. Note that this will override\n            `hoverinfo`. Variables are inserted using %{variable},\n            for example \"y: %{y}\". Numbers are formatted using\n            d3-format's syntax %{variable:d3-format}, for example\n            \"Price: %{y:$.2f}\". https://github.com/d3/d3-3.x-api-\n            reference/blob/master/Formatting.md#d3_format for\n            details on the formatting syntax. Dates are formatted\n            using d3-time-format's syntax %{variable|d3-time-\n            format}, for example \"Day: %{2019-01-01|%A}\".\n            https://github.com/d3/d3-3.x-api-\n            reference/blob/master/Time-Formatting.md#format for\n            details on the date formatting syntax. The variables\n            available in `hovertemplate` are the ones emitted as\n            event data described at this link\n            https://plotly.com/javascript/plotlyjs-events/#event-\n            data. Additionally, every attributes that can be\n            specified per-point (the ones that are `arrayOk: true`)\n            are available.  Anything contained in tag `<extra>` is\n            displayed in the secondary box, for example\n            \"<extra>{fullData.name}</extra>\". To hide the secondary\n            box completely, use an empty tag `<extra></extra>`.\n        hovertemplatesrc\n            Sets the source reference on Chart Studio Cloud for\n            hovertemplate .\n        hovertext\n            Sets hover text elements associated with each (x,y)\n            pair. If a single string, the same string appears over\n            all the data points. If an array of string, the items\n            are mapped in order to the this trace's (x,y)\n            coordinates. To be seen, trace `hoverinfo` must contain\n            a \"text\" flag.\n        hovertextsrc\n            Sets the source reference on Chart Studio Cloud for\n            hovertext .\n        ids\n            Assigns id labels to each datum. These ids for object\n            constancy of data points during animation. Should be an\n            array of strings, not numbers or any other type.\n        idssrc\n            Sets the source reference on Chart Studio Cloud for\n            ids .\n        legendgroup\n            Sets the legend group for this trace. Traces part of\n            the same legend group hide/show at the same time when\n            toggling legend items.\n        line\n            :class:`plotly.graph_objects.scatter.Line` instance or\n            dict with compatible properties\n        marker\n            :class:`plotly.graph_objects.scatter.Marker` instance\n            or dict with compatible properties\n        meta\n            Assigns extra meta information associated with this\n            trace that can be used in various text attributes.\n            Attributes such as trace `name`, graph, axis and\n            colorbar `title.text`, annotation `text`\n            `rangeselector`, `updatemenues` and `sliders` `label`\n            text all support `meta`. To access the trace `meta`\n            values in an attribute in the same trace, simply use\n            `%{meta[i]}` where `i` is the index or key of the\n            `meta` item in question. To access trace `meta` in\n            layout attributes, use `%{data[n[.meta[i]}` where `i`\n            is the index or key of the `meta` and `n` is the trace\n            index.\n        metasrc\n            Sets the source reference on Chart Studio Cloud for\n            meta .\n        mode\n            Determines the drawing mode for this scatter trace. If\n            the provided `mode` includes \"text\" then the `text`\n            elements appear at the coordinates. Otherwise, the\n            `text` elements appear on hover. If there are less than\n            20 points and the trace is not stacked then the default\n            is \"lines+markers\". Otherwise, \"lines\".\n        name\n            Sets the trace name. The trace name appear as the\n            legend item and on hover.\n        opacity\n            Sets the opacity of the trace.\n        orientation\n            Only relevant when `stackgroup` is used, and only the\n            first `orientation` found in the `stackgroup` will be\n            used - including if `visible` is \"legendonly\" but not\n            if it is `false`. Sets the stacking direction. With \"v\"\n            (\"h\"), the y (x) values of subsequent traces are added.\n            Also affects the default value of `fill`.\n        r\n            r coordinates in scatter traces are deprecated!Please\n            switch to the \"scatterpolar\" trace type.Sets the radial\n            coordinatesfor legacy polar chart only.\n        rsrc\n            Sets the source reference on Chart Studio Cloud for  r\n            .\n        selected\n            :class:`plotly.graph_objects.scatter.Selected` instance\n            or dict with compatible properties\n        selectedpoints\n            Array containing integer indices of selected points.\n            Has an effect only for traces that support selections.\n            Note that an empty array means an empty selection where\n            the `unselected` are turned on for all points, whereas,\n            any other non-array values means no selection all where\n            the `selected` and `unselected` styles have no effect.\n        showlegend\n            Determines whether or not an item corresponding to this\n            trace is shown in the legend.\n        stackgaps\n            Only relevant when `stackgroup` is used, and only the\n            first `stackgaps` found in the `stackgroup` will be\n            used - including if `visible` is \"legendonly\" but not\n            if it is `false`. Determines how we handle locations at\n            which other traces in this group have data but this one\n            does not. With *infer zero* we insert a zero at these\n            locations. With \"interpolate\" we linearly interpolate\n            between existing values, and extrapolate a constant\n            beyond the existing values.\n        stackgroup\n            Set several scatter traces (on the same subplot) to the\n            same stackgroup in order to add their y values (or\n            their x values if `orientation` is \"h\"). If blank or\n            omitted this trace will not be stacked. Stacking also\n            turns `fill` on by default, using \"tonexty\" (\"tonextx\")\n            if `orientation` is \"h\" (\"v\") and sets the default\n            `mode` to \"lines\" irrespective of point count. You can\n            only stack on a numeric (linear or log) axis. Traces in\n            a `stackgroup` will only fill to (or be filled to)\n            other traces in the same group. With multiple\n            `stackgroup`s or some traces stacked and some not, if\n            fill-linked traces are not already consecutive, the\n            later ones will be pushed down in the drawing order.\n        stream\n            :class:`plotly.graph_objects.scatter.Stream` instance\n            or dict with compatible properties\n        t\n            t coordinates in scatter traces are deprecated!Please\n            switch to the \"scatterpolar\" trace type.Sets the\n            angular coordinatesfor legacy polar chart only.\n        text\n            Sets text elements associated with each (x,y) pair. If\n            a single string, the same string appears over all the\n            data points. If an array of string, the items are\n            mapped in order to the this trace's (x,y) coordinates.\n            If trace `hoverinfo` contains a \"text\" flag and\n            \"hovertext\" is not set, these elements will be seen in\n            the hover labels.\n        textfont\n            Sets the text font.\n        textposition\n            Sets the positions of the `text` elements with respects\n            to the (x,y) coordinates.\n        textpositionsrc\n            Sets the source reference on Chart Studio Cloud for\n            textposition .\n        textsrc\n            Sets the source reference on Chart Studio Cloud for\n            text .\n        texttemplate\n            Template string used for rendering the information text\n            that appear on points. Note that this will override\n            `textinfo`. Variables are inserted using %{variable},\n            for example \"y: %{y}\". Numbers are formatted using\n            d3-format's syntax %{variable:d3-format}, for example\n            \"Price: %{y:$.2f}\". https://github.com/d3/d3-3.x-api-\n            reference/blob/master/Formatting.md#d3_format for\n            details on the formatting syntax. Dates are formatted\n            using d3-time-format's syntax %{variable|d3-time-\n            format}, for example \"Day: %{2019-01-01|%A}\".\n            https://github.com/d3/d3-3.x-api-\n            reference/blob/master/Time-Formatting.md#format for\n            details on the date formatting syntax. Every attributes\n            that can be specified per-point (the ones that are\n            `arrayOk: true`) are available.\n        texttemplatesrc\n            Sets the source reference on Chart Studio Cloud for\n            texttemplate .\n        tsrc\n            Sets the source reference on Chart Studio Cloud for  t\n            .\n        uid\n            Assign an id to this trace, Use this to provide object\n            constancy between traces during animations and\n            transitions.\n        uirevision\n            Controls persistence of some user-driven changes to the\n            trace: `constraintrange` in `parcoords` traces, as well\n            as some `editable: true` modifications such as `name`\n            and `colorbar.title`. Defaults to `layout.uirevision`.\n            Note that other user-driven trace attribute changes are\n            controlled by `layout` attributes: `trace.visible` is\n            controlled by `layout.legend.uirevision`,\n            `selectedpoints` is controlled by\n            `layout.selectionrevision`, and `colorbar.(x|y)`\n            (accessible with `config: {editable: true}`) is\n            controlled by `layout.editrevision`. Trace changes are\n            tracked by `uid`, which only falls back on trace index\n            if no `uid` is provided. So if your app can add/remove\n            traces before the end of the `data` array, such that\n            the same trace has a different index, you can still\n            preserve user-driven changes if you give each trace a\n            `uid` that stays with it as it moves.\n        unselected\n            :class:`plotly.graph_objects.scatter.Unselected`\n            instance or dict with compatible properties\n        visible\n            Determines whether or not this trace is visible. If\n            \"legendonly\", the trace is not drawn, but can appear as\n            a legend item (provided that the legend itself is\n            visible).\n        x\n            Sets the x coordinates.\n        x0\n            Alternate to `x`. Builds a linear space of x\n            coordinates. Use with `dx` where `x0` is the starting\n            coordinate and `dx` the step.\n        xaxis\n            Sets a reference between this trace's x coordinates and\n            a 2D cartesian x axis. If \"x\" (the default value), the\n            x coordinates refer to `layout.xaxis`. If \"x2\", the x\n            coordinates refer to `layout.xaxis2`, and so on.\n        xcalendar\n            Sets the calendar system to use with `x` date data.\n        xsrc\n            Sets the source reference on Chart Studio Cloud for  x\n            .\n        y\n            Sets the y coordinates.\n        y0\n            Alternate to `y`. Builds a linear space of y\n            coordinates. Use with `dy` where `y0` is the starting\n            coordinate and `dy` the step.\n        yaxis\n            Sets a reference between this trace's y coordinates and\n            a 2D cartesian y axis. If \"y\" (the default value), the\n            y coordinates refer to `layout.yaxis`. If \"y2\", the y\n            coordinates refer to `layout.yaxis2`, and so on.\n        ycalendar\n            Sets the calendar system to use with `y` date data.\n        ysrc\n            Sets the source reference on Chart Studio Cloud for  y\n            .\n        "
     ]
    }
   ],
   "source": [
    "fig = go.Figure()\n",
    "\n",
    "fig.add_trace(go.Scatter(\n",
    "    x = Z.x, y = Z.y,\n",
    "    mode='markers',\n",
    "    color= df_dash_app['Conformation'],\n",
    "    marker = dict(\n",
    "        colorscale='Viridis'\n",
    "    )\n",
    "    \n",
    "))"
   ]
  },
  {
   "cell_type": "code",
   "execution_count": 310,
   "metadata": {},
   "outputs": [
    {
     "data": {
      "application/vnd.plotly.v1+json": {
       "config": {
        "plotlyServerURL": "https://plot.ly"
       },
       "data": [
        {
         "hovertemplate": "color=Inact b<br>x=%{x}<br>y=%{y}<extra></extra>",
         "legendgroup": "Inact b",
         "marker": {
          "color": "#636efa",
          "symbol": "circle"
         },
         "mode": "markers",
         "name": "Inact b",
         "orientation": "v",
         "showlegend": true,
         "type": "scatter",
         "x": [
          0.44711678229865415,
          0.4058508501593374,
          0.23528040891401028,
          0.665291410938107,
          0.25248613264977693,
          0.6693871086895389,
          0.4138136062122243,
          0.5528205016958254,
          0.6050594763423736,
          0.6493120924232095,
          0.7283898456876716,
          0.592613384506523,
          0.7108987974442177,
          0.5034650148241709,
          0.481842533100941,
          0.5940446135182254,
          0.49232265816159193,
          0.624990789660726,
          0.467937946524815,
          0.7484997462730647,
          0.5460104081345699,
          0.49168773831728896,
          0.45341142113232663,
          0.3203750889761443,
          0.31688658072670794,
          0.45526735771644494,
          0.40740001461899195,
          0.43099627496483117,
          0.6548024104951248,
          0.6015927538121604,
          0.7041856223583378,
          0.40001368502504736,
          0.36279684059264333,
          0.4363534661560377,
          0.479776954060118,
          0.5488465019700832,
          0.4812235723552399,
          0.4453434497456094,
          0.43659844120729624,
          0.5233896948096457,
          0.4466064147397937,
          0.3948809736672544,
          0.5994508876022594,
          0.4744456081743615,
          0.4656898470717707,
          0.6066755263527713,
          0.43515444997197195,
          0.4851827838489231,
          0.4509845153338296,
          0.4760824130970588,
          0.4572913415467847,
          0.467331667063471,
          0.4668431378607235,
          0.5481305013334844,
          0.5098033060745014,
          0.42956669994174795,
          0.5078241168444747,
          0.5107582271506602,
          0.5402414833844452,
          0.42735333670710424,
          0.6505170088092529,
          0.5444408384065468,
          0.6117328685448681,
          0.7338542137917368,
          0.7521254070104287,
          0.6038475629056294,
          0.2572422576475152,
          0.36522214093882954,
          0.47437277149660784,
          0.6736760781609288,
          0.6060210905007437,
          0.36593212510896894,
          0.7506363869207738,
          0.7045360328360184,
          0.3818572940313013,
          0.4368473160979988,
          0.3828205561433173,
          0.587651932942523
         ],
         "xaxis": "x",
         "y": [
          0.1289341076252598,
          0.571725050677881,
          0.39351135252123265,
          0.13729236566638056,
          0.011116173892435462,
          0.0035021203047639806,
          0.6395928992600745,
          0.6020043247315796,
          0.43603526947250326,
          0.3489264168467652,
          -0.04062552815176733,
          0.43281251368486545,
          0.6412678557837638,
          0.4701056963043872,
          0.3961670029430019,
          -0.028206266005788686,
          0.35163459695426313,
          0.37920277621756415,
          0.564146066308215,
          0.0024184379265018534,
          0.42128893546194746,
          0.6228128032818399,
          0.46717284231683565,
          0.4784097812222601,
          0.5295711345177452,
          0.4042169086209601,
          0.18865044491413185,
          0.4108734656427772,
          0.1971108409839817,
          0.6100061452939985,
          0.09312580307835354,
          0.5251735233247213,
          0.1633938874620513,
          0.33656112065368904,
          0.43373197796481827,
          0.5761830982548286,
          0.31043656518574375,
          0.4787675775193658,
          0.48610771298902944,
          0.38765646120474173,
          0.27232855398957845,
          0.5179179030374057,
          -0.056351976457700806,
          0.3151134914770881,
          0.5667929253865286,
          0.3887084791766825,
          0.4843427466688443,
          0.6228528353119376,
          0.7661499147918156,
          0.38890718018092835,
          0.43791061275997917,
          0.41659461027108396,
          0.4774638586716224,
          0.6392813623509862,
          0.4817829039593546,
          0.5359706221709043,
          0.6942490485476104,
          0.25972492668355235,
          0.5915246186343652,
          0.6607411139124727,
          0.5187694344231043,
          0.48794936796172333,
          0.0767302462488586,
          0.07321607813064904,
          0.12756419281997328,
          0.5371930680956892,
          0.2787346707073068,
          0.5544395340006452,
          0.6205081807213644,
          0.4842556661371232,
          0.26920554062804947,
          0.6795521389190506,
          0.33536218385495725,
          0.40672765447953085,
          0.6784218565514178,
          0.8644583733408261,
          0.45457238286584506,
          0.6261923523443582
         ],
         "yaxis": "y"
        },
        {
         "hovertemplate": "color=Inact a<br>x=%{x}<br>y=%{y}<extra></extra>",
         "legendgroup": "Inact a",
         "marker": {
          "color": "#EF553B",
          "symbol": "circle"
         },
         "mode": "markers",
         "name": "Inact a",
         "orientation": "v",
         "showlegend": true,
         "type": "scatter",
         "x": [
          0.4987139513502077,
          0.5910649181842182,
          0.4691823122606177,
          0.4987301073328963,
          0.6948703287514282,
          0.5806642649106334,
          0.6519507490415414,
          0.637605239222272,
          0.6752188312598355,
          0.5719997459002455,
          0.6053823966761875,
          0.5516127775431561,
          0.5633450410989035,
          0.6348765435744997,
          0.6064209995182999,
          0.7188563416949943,
          0.5586610646097191,
          0.5931484884065207,
          0.530979203153774,
          0.6700287804353969,
          0.6416987776974441,
          0.6472744267952038,
          0.6671143016813004,
          0.6412336036954096,
          0.3117320772763124,
          0.21675036376366383,
          0.5638141643668272,
          0.6241199171168241,
          0.6247050113245258,
          0.6455300670528236,
          0.579507034521691,
          0.7122616862245652,
          0.6569835183962554,
          0.719231844213422,
          0.6609736604568,
          0.5563155360041407,
          0.5863073270229142,
          0.6508112042290155,
          0.6230983938443766,
          0.594767865845372,
          0.6393066890466094,
          0.5030914683452857,
          0.5861179495683833,
          0.6094997329360562,
          0.43819535711423496,
          0.5297381773772601,
          0.5769816548871677,
          0.47932709740238827,
          0.6162734832952069,
          0.6250885688896269,
          0.6278585744716166,
          0.6131244846279218,
          0.5753759517449339,
          0.636954081929509,
          0.6156906570361557,
          0.527346159945942,
          0.5090987662987487,
          0.36289694803920025,
          0.618150130982178,
          0.5761895302631976,
          0.3910191372548288,
          0.5612301607529566,
          0.6411314165738967,
          0.6595755582173554,
          0.6318863681289337,
          0.528050500954773,
          0.5458873768300041,
          0.5744628095645127,
          0.5794821076874062,
          0.6178722467584687,
          0.5420506167536155,
          0.5306321117821609,
          0.6909382335334748,
          0.6369427699660979,
          0.5939046970894348,
          0.5971495474373268,
          0.6401819064470403,
          0.6343522503505824,
          0.5642626104461589,
          0.5643934282059911,
          0.5138736412128543,
          0.5161580746412134,
          0.5623715090402842,
          0.5006133055877529,
          0.6574798816022925,
          0.6497647469601365,
          0.6146838774811977,
          0.6330611506558235,
          0.5883214172974013,
          0.5422204683303651,
          0.6164417771684071,
          0.5085025278655037,
          0.6025381808190912,
          0.5233818213964773,
          0.5647740904400237,
          0.5197296670510398,
          0.5532130233894533,
          0.6111807935554805,
          0.7359987417206323,
          0.6133957285173366,
          0.6441097429905338,
          0.7082449205344119,
          0.6837716426351366,
          0.6921485385822382,
          0.539732602562948,
          0.7270097368370537,
          0.47173319156367255,
          0.599062152169574,
          0.5931408568707053,
          0.5911862017508698,
          0.6151431537859713,
          0.5967284782442097,
          0.7370199426789045,
          0.6174348743259923,
          0.6066317983136769,
          0.6180432441768432,
          0.6324870020682298,
          0.6746155141708172,
          0.6222613693477481,
          0.6164838354123818,
          0.5829275857039367,
          0.6283759295589687,
          0.6334765485396965,
          0.6124221117091548,
          0.6382636542830968,
          0.6129938240920454,
          0.6066493518066107,
          0.5778963411364979,
          0.6105402608841072,
          0.5188784899858457,
          0.7090225189511671,
          0.7403463008935197,
          0.7369080242205238,
          0.7324605538755102,
          0.6154257451185754,
          0.5270933713640693,
          0.4878093291906239,
          0.6520381329689806,
          0.6260536023831462,
          0.5976586290600594,
          0.7420252439133127,
          0.4532144931160315,
          0.7037863442845922,
          0.5614708283234565,
          0.7291183487128522,
          0.5566604976466899,
          0.6788649675730477,
          0.734608487246884,
          0.6028202734390121,
          0.6407620379883828,
          0.6190935476918021,
          0.5405774501925712,
          0.552681416404426,
          0.5486342835699746,
          0.6215180070151287,
          0.574926829452797,
          0.5695766993301964,
          0.5898003874271279,
          0.5723712047929614,
          0.6170960581898766,
          0.716466202061035,
          0.6955565813999305,
          0.6100180440097459,
          0.615696287653188,
          0.613407127888487,
          0.592585447726976,
          0.5817896326176811,
          0.6313937805178518,
          0.517062100815369,
          0.5610770738794288,
          0.5617987770660519,
          0.578354935317372,
          0.5506957852344132,
          0.550052483360687,
          0.5959285709452248,
          0.5738665577898457,
          0.6919679740062237,
          0.5965660092555224,
          0.5010949285580922,
          0.5810123889540343,
          0.5618914424975858,
          0.37707882635258355,
          0.33321930916718107,
          0.3405111960594577,
          0.560519821597171,
          0.5647054091786465,
          0.6844974320502109,
          0.5928215492781412,
          0.5272837111774958,
          0.6598361451577431,
          0.6351337659521712,
          0.565845815428516,
          0.5518904802772597,
          0.5540166870637007,
          0.5942586907222497,
          0.6734494011273948,
          0.5365787751671698,
          0.6629155623927591,
          0.6541369447799871,
          0.6599852733588204,
          0.7084710865911208,
          0.5191404526989484
         ],
         "xaxis": "x",
         "y": [
          -0.19001793613425969,
          -0.18818449394503725,
          -0.33216974976129854,
          -0.21123774646263302,
          -0.09032004377750158,
          -0.20437173504959888,
          -0.19506401831138317,
          -0.1357462510575061,
          -0.07895670267222882,
          -0.2425059965433942,
          -0.10868800031684349,
          -0.30907336839332983,
          -0.15425822164867647,
          -0.05916910515081822,
          -0.20341596584187213,
          -0.17673023749835545,
          -0.21394588155642302,
          -0.22387930683197035,
          -0.19330039452679346,
          -0.07862775147595469,
          -0.13145355710292522,
          -0.11584790279660027,
          -0.08500970001726553,
          -0.12710713243769872,
          -0.4363805852049988,
          -0.3849954388583993,
          -0.21765423790212063,
          -0.2524499176841966,
          -0.163280772450635,
          -0.17406460786318215,
          -0.15048844265923553,
          -0.07436496541031698,
          -0.03012369356744947,
          -0.13076778173915102,
          -0.09682918613111653,
          -0.07311086438744906,
          -0.18077887097241152,
          -0.06574272504927861,
          -0.21784397067289268,
          -0.20318186182038447,
          -0.17141264266614892,
          -0.03542153112337798,
          -0.16897730459596758,
          -0.1371034130885876,
          -0.1440472523908867,
          -0.2798326911013934,
          -0.22005608962489515,
          -0.17375499794491814,
          -0.21192712282505782,
          -0.1989794369927855,
          -0.10075918044261747,
          -0.15665048995435768,
          -0.14766267159507704,
          -0.15351048787539162,
          -0.11221021807461921,
          -0.14813966775184498,
          -0.16841297257547747,
          -0.26950980707479333,
          -0.2248997538726123,
          -0.22384239001718687,
          -0.2049545785226173,
          -0.1622052476410079,
          -0.19861673725872928,
          -0.10345531169584571,
          -0.13476516226398635,
          -0.15090526732897866,
          -0.18912275262767644,
          -0.19344789643343874,
          -0.23332150892977865,
          -0.1819807025686328,
          -0.1673882705005474,
          -0.18292565936471833,
          -0.14948407213556122,
          -0.19149287914309315,
          -0.08881381288243224,
          -0.12255177782240574,
          -0.16146808648369032,
          -0.14390786214941304,
          -0.2035227575622412,
          -0.15669829955991954,
          -0.09684581363778186,
          -0.14907128105548137,
          -0.13127955911374398,
          -0.1662708589105616,
          -0.13789370112387897,
          -0.0291835621746451,
          -0.05535757909781412,
          0.09194015005388494,
          -0.14755655642254342,
          -0.12503347950619842,
          -0.21057296281756804,
          -0.21071472503649422,
          -0.041226866355834606,
          -0.27847247203788394,
          -0.23786271527201802,
          -0.19885320937092096,
          -0.15083338939083527,
          -0.2964963583514471,
          0.014082403901908389,
          0.04581864076700298,
          -0.24746540650110246,
          -0.02767894768997467,
          -0.08564222625987107,
          -0.0695207393511609,
          -0.23162071623703145,
          -0.23129055948305594,
          0.38477686335491323,
          -0.2822317899707362,
          -0.2704599142307707,
          -0.2717731830664485,
          -0.25422201860378335,
          -0.15577614147131924,
          -0.1341197269422795,
          -0.27815893632731215,
          -0.30528158624901713,
          -0.28109543524636127,
          -0.27723595151795505,
          -0.20140388936512832,
          -0.29151913338233554,
          -0.28165818273011306,
          -0.28241317135052574,
          -0.27160145919863804,
          -0.2528772637375769,
          -0.2824019873683362,
          -0.23756580396694307,
          -0.26698592207838523,
          -0.27136270658631756,
          -0.2944784604554929,
          -0.1814453640959046,
          -0.2715674182125395,
          -0.2493339825199025,
          -0.26141417555256397,
          -0.2860214529737541,
          -0.2784915517059844,
          -0.2887592829634881,
          0.3305993556995561,
          0.10992699555062291,
          -0.2367014158503361,
          -0.28587492157797373,
          -0.2693488869757125,
          -0.2730921020625891,
          0.5724519264922011,
          -0.2528083451382839,
          -0.20357381580952053,
          -0.08228143687352124,
          0.1435647876424395,
          -0.12060680124403643,
          -0.03723435742071617,
          -0.1536998054938574,
          -0.05981102408622437,
          -0.11068087913721729,
          -0.27052816769074295,
          -0.2577636940989848,
          -0.21570255413948317,
          -0.15780608649685698,
          -0.22044392693035772,
          -0.19849256523787678,
          -0.1943395108712105,
          -0.25074670186433534,
          -0.19348933420932246,
          -0.16312966459085926,
          -0.1381714531801645,
          -0.13433027892580884,
          -0.17388666383328238,
          0.2550186305556602,
          -0.057942673134525224,
          -0.24691920399429299,
          -0.11344035332976998,
          -0.2650561314665536,
          -0.18983791894556915,
          -0.23178511922342396,
          -0.24887928298871656,
          -0.2664298627524933,
          -0.23997324116314148,
          -0.133977948649414,
          0.07354264720738221,
          -0.05888064988108391,
          -0.051832062884915424,
          -0.2500815011355232,
          -0.14753016505516087,
          -0.09901932206751388,
          -0.1910206382542401,
          -0.17616254413729324,
          -0.14443083881035101,
          -0.2093433445432952,
          -0.21834469544944993,
          -0.2555032814565929,
          -0.255819882409344,
          -0.3653320926188954,
          -0.3398452182286662,
          -0.3519246360931203,
          -0.34373625100321104,
          -0.3687216100755719,
          -0.3762991930927077,
          -0.38725846701052746,
          -0.33057105274423215,
          -0.37480717593143853,
          -0.3761876138704515,
          -0.3634119206616774,
          -0.31649544771754645,
          -0.3202300704607682,
          -0.3683571118306482
         ],
         "yaxis": "y"
        },
        {
         "hovertemplate": "color=Active<br>x=%{x}<br>y=%{y}<extra></extra>",
         "legendgroup": "Active",
         "marker": {
          "color": "#00cc96",
          "symbol": "circle"
         },
         "mode": "markers",
         "name": "Active",
         "orientation": "v",
         "showlegend": true,
         "type": "scatter",
         "x": [
          -1.426982349150185,
          -1.2840249512122035,
          -1.3536942921865738,
          -1.2202641805138181,
          -1.3139252386614295,
          -1.243309031304485,
          -1.1650150577232887,
          -1.3734980962174144,
          -1.3450681534865132,
          -1.3099819997378161,
          -1.5068343590686524,
          -1.4127979658766578,
          -1.411610086066163,
          -1.4331995231249577,
          -1.3552720642959866,
          -1.53632365635293,
          -1.410380619290383,
          -1.372486520437145,
          -1.3889006922348568,
          -1.36441993318491,
          -1.623962173603157,
          -1.555652661824044,
          -1.5329039560618964,
          -1.5756189585141631,
          -1.440125652481253,
          -1.4286314297342646,
          -1.2848777073168636,
          -1.5205022667107018,
          -1.4248953620387865,
          -1.3853633175339795,
          -1.471710757652865,
          -1.4329102702090042,
          -1.431620082596007,
          -1.5109530024988103,
          -1.509998701074187,
          -1.5001073121083945,
          -1.5292169656421866,
          -1.2490565321976412,
          -1.304273866819764,
          -1.3581685689642577,
          -1.5164769793135926,
          -1.3808137135619882,
          -1.3341501511576495,
          -1.355586575117442,
          -1.3052469747037312,
          -1.3785655646327664,
          -1.3451122990664104,
          -1.5667321222893007,
          -1.3229241433985501,
          -1.2229386727844853,
          -1.2956478632127053,
          -1.311252499700628,
          -1.536674842741026,
          -1.5005795125152326,
          -1.5593872817505638,
          -1.5420068912736684,
          -1.40425877192587,
          -1.3573515075076683,
          -1.4649443394221071,
          -1.3892593910503095,
          -1.465802834379409,
          -1.3586622468544518,
          -1.5466788193679888,
          -1.3991274036023202,
          -1.376541895187717,
          -1.4439873550458255,
          -1.3943756786647912,
          -1.4385536167401112,
          -1.4199686042010413,
          -1.406871955611455,
          -1.3947183443461466,
          -1.3765113939516767,
          -1.4543868207820196,
          -1.4426758917077214,
          -1.2293283202584702,
          -1.2358721360653218,
          -1.4498803064031418,
          -1.3727124039654015,
          -1.4124860242933166,
          -1.36929410845366,
          -1.3898752946939548,
          -1.394790551530196,
          -1.3610157900119593,
          -1.4184366719597041,
          -1.4517299676439022,
          -1.4587675119481762,
          -1.4569004519895774,
          -1.4632447973302203,
          -1.3689820999368165,
          -1.4047567510916228,
          -1.4011001189487495,
          -1.255586562148316,
          -1.2907838678097174,
          -1.4237527493542699,
          -1.3096474379221175,
          -1.414524826488395,
          -1.390452511325202,
          -1.449566216837085,
          -1.3798653869057371,
          -1.398959549286477,
          -1.310689029205305,
          -1.2585016198976982,
          -1.2580722679184215,
          -1.3692252590775522,
          -1.3922085311359067,
          -1.3457564805331053,
          -1.412642294291378,
          -1.5139501044942576,
          -1.5080132877934396,
          -1.40039322754,
          -1.3569475156981075,
          -1.4328011431133911,
          -1.4269330885026574,
          -1.2276604105762368
         ],
         "xaxis": "x",
         "y": [
          0.004600537187702118,
          -0.08417509498266147,
          -0.10097361426214047,
          -0.023417405616260236,
          -0.039320163836016615,
          -0.009479802804915897,
          0.05777085300452183,
          0.020502606220541748,
          0.036688702407324976,
          0.04280368840077033,
          -0.09766172968013892,
          -0.0408465227505889,
          -0.0365068723808976,
          -0.07558107875077671,
          0.005736959509676042,
          -0.05270184312390258,
          -0.0003740902567099762,
          0.02337124030221143,
          0.020053864147120348,
          0.0072123997537842524,
          -0.12501957587063117,
          -0.11259298649916509,
          -0.06540311930740823,
          -0.08541873439425393,
          -0.04576750452261526,
          -0.04143487048262828,
          0.02376478034293413,
          -0.03885952431893612,
          -0.09375062369024752,
          -0.003417655291438595,
          -0.1094234617030792,
          -0.08962280133792211,
          -0.05052310355322636,
          -0.0863872491470062,
          -0.044456199671441134,
          -0.0884590913567056,
          -0.060471717833486094,
          0.10440540399155114,
          -0.045612555848414886,
          -0.0338993233398128,
          -0.10343136057374515,
          0.025101948653149013,
          -0.08285552166593073,
          -0.036710209890761826,
          0.04492969495221327,
          0.029328550092247888,
          -0.0018617352446633855,
          -0.10311501400082297,
          -0.015473537479831798,
          0.053854222780678196,
          0.01605071851917451,
          -0.0010961514888981928,
          -0.08032303071694703,
          -0.028396129564910652,
          -0.10734675627249916,
          -0.053342336749034006,
          -0.04615588841690345,
          -0.06349462377612289,
          -0.023380059665214087,
          -0.041201435286653126,
          -0.12822996856441604,
          -0.05402024465743507,
          -0.02966196760599623,
          -0.04568882914045978,
          -0.031846707814993866,
          -0.06819120128979528,
          0.011268315665063167,
          0.003939778095558098,
          -0.01691586071682573,
          -0.07398979722724726,
          -0.04546509297970679,
          -0.04782643068758414,
          -0.08617977214236835,
          -0.06924740178479737,
          0.016344245217669,
          0.026757229826405916,
          -0.03637994194737562,
          -0.04895775801321099,
          -0.06427705735723203,
          -0.06040333743203873,
          -0.027922378781301473,
          -0.02553535674251518,
          -0.13054058326859166,
          -0.03175519970894704,
          -0.061409035603401455,
          -0.08143108994802693,
          -0.08411999353868783,
          -0.09295936915898477,
          -0.05240509546808046,
          0.025997074719438736,
          -0.0211824848437186,
          0.12116339971457343,
          0.06855165912437776,
          -0.02231734014357885,
          0.08763658190020207,
          -0.029800926792348966,
          0.03112032415278927,
          -0.056544548834001715,
          0.03215317813670545,
          0.0373944047619489,
          0.054894053266205986,
          0.009591761998680119,
          0.01025045871425507,
          0.03358883096292992,
          -0.07709123419058285,
          0.03041097722431231,
          0.019534809295592266,
          0.03417469792154969,
          -0.047346008355739135,
          -0.051298423663069505,
          -0.031212914076113176,
          0.04559420818395296,
          -0.011957505044761908,
          0.05688592903317853
         ],
         "yaxis": "y"
        },
        {
         "hovertemplate": "color=Undefined<br>x=%{x}<br>y=%{y}<extra></extra>",
         "legendgroup": "Undefined",
         "marker": {
          "color": "#ab63fa",
          "symbol": "circle"
         },
         "mode": "markers",
         "name": "Undefined",
         "orientation": "v",
         "showlegend": true,
         "type": "scatter",
         "x": [
          0.791540925682751
         ],
         "xaxis": "x",
         "y": [
          0.8609552150885474
         ],
         "yaxis": "y"
        },
        {
         "hovertemplate": "color=Inact ope<br>x=%{x}<br>y=%{y}<extra></extra>",
         "legendgroup": "Inact ope",
         "marker": {
          "color": "#FFA15A",
          "symbol": "circle"
         },
         "mode": "markers",
         "name": "Inact ope",
         "orientation": "v",
         "showlegend": true,
         "type": "scatter",
         "x": [
          0.15336055023341133,
          0.034417514656034286,
          0.15291277967006844,
          0.17777638260404968,
          -0.022235929628903167
         ],
         "xaxis": "x",
         "y": [
          1.0813507563737168,
          1.1606802410569808,
          1.094508866142856,
          1.130838969586968,
          1.1690844935431104
         ],
         "yaxis": "y"
        },
        {
         "hovertemplate": "color=Dfg out<br>x=%{x}<br>y=%{y}<extra></extra>",
         "legendgroup": "Dfg out",
         "marker": {
          "color": "#19d3f3",
          "symbol": "circle"
         },
         "mode": "markers",
         "name": "Dfg out",
         "orientation": "v",
         "showlegend": true,
         "type": "scatter",
         "x": [
          -0.5255156457265745,
          -1.3362253154122368
         ],
         "xaxis": "x",
         "y": [
          0.7518062598682785,
          -0.0515848627244996
         ],
         "yaxis": "y"
        },
        {
         "marker": {
          "color": "black"
         },
         "mode": "markers",
         "type": "scatter",
         "x": [
          0.4987139513502077,
          0.5910649181842182,
          0.6412336036954096
         ],
         "y": [
          -0.19001793613425969,
          -0.18818449394503725,
          -0.12710713243769872
         ]
        }
       ],
       "layout": {
        "legend": {
         "title": {
          "text": "color"
         },
         "tracegroupgap": 0
        },
        "margin": {
         "t": 60
        },
        "template": {
         "data": {
          "bar": [
           {
            "error_x": {
             "color": "#2a3f5f"
            },
            "error_y": {
             "color": "#2a3f5f"
            },
            "marker": {
             "line": {
              "color": "#E5ECF6",
              "width": 0.5
             }
            },
            "type": "bar"
           }
          ],
          "barpolar": [
           {
            "marker": {
             "line": {
              "color": "#E5ECF6",
              "width": 0.5
             }
            },
            "type": "barpolar"
           }
          ],
          "carpet": [
           {
            "aaxis": {
             "endlinecolor": "#2a3f5f",
             "gridcolor": "white",
             "linecolor": "white",
             "minorgridcolor": "white",
             "startlinecolor": "#2a3f5f"
            },
            "baxis": {
             "endlinecolor": "#2a3f5f",
             "gridcolor": "white",
             "linecolor": "white",
             "minorgridcolor": "white",
             "startlinecolor": "#2a3f5f"
            },
            "type": "carpet"
           }
          ],
          "choropleth": [
           {
            "colorbar": {
             "outlinewidth": 0,
             "ticks": ""
            },
            "type": "choropleth"
           }
          ],
          "contour": [
           {
            "colorbar": {
             "outlinewidth": 0,
             "ticks": ""
            },
            "colorscale": [
             [
              0,
              "#0d0887"
             ],
             [
              0.1111111111111111,
              "#46039f"
             ],
             [
              0.2222222222222222,
              "#7201a8"
             ],
             [
              0.3333333333333333,
              "#9c179e"
             ],
             [
              0.4444444444444444,
              "#bd3786"
             ],
             [
              0.5555555555555556,
              "#d8576b"
             ],
             [
              0.6666666666666666,
              "#ed7953"
             ],
             [
              0.7777777777777778,
              "#fb9f3a"
             ],
             [
              0.8888888888888888,
              "#fdca26"
             ],
             [
              1,
              "#f0f921"
             ]
            ],
            "type": "contour"
           }
          ],
          "contourcarpet": [
           {
            "colorbar": {
             "outlinewidth": 0,
             "ticks": ""
            },
            "type": "contourcarpet"
           }
          ],
          "heatmap": [
           {
            "colorbar": {
             "outlinewidth": 0,
             "ticks": ""
            },
            "colorscale": [
             [
              0,
              "#0d0887"
             ],
             [
              0.1111111111111111,
              "#46039f"
             ],
             [
              0.2222222222222222,
              "#7201a8"
             ],
             [
              0.3333333333333333,
              "#9c179e"
             ],
             [
              0.4444444444444444,
              "#bd3786"
             ],
             [
              0.5555555555555556,
              "#d8576b"
             ],
             [
              0.6666666666666666,
              "#ed7953"
             ],
             [
              0.7777777777777778,
              "#fb9f3a"
             ],
             [
              0.8888888888888888,
              "#fdca26"
             ],
             [
              1,
              "#f0f921"
             ]
            ],
            "type": "heatmap"
           }
          ],
          "heatmapgl": [
           {
            "colorbar": {
             "outlinewidth": 0,
             "ticks": ""
            },
            "colorscale": [
             [
              0,
              "#0d0887"
             ],
             [
              0.1111111111111111,
              "#46039f"
             ],
             [
              0.2222222222222222,
              "#7201a8"
             ],
             [
              0.3333333333333333,
              "#9c179e"
             ],
             [
              0.4444444444444444,
              "#bd3786"
             ],
             [
              0.5555555555555556,
              "#d8576b"
             ],
             [
              0.6666666666666666,
              "#ed7953"
             ],
             [
              0.7777777777777778,
              "#fb9f3a"
             ],
             [
              0.8888888888888888,
              "#fdca26"
             ],
             [
              1,
              "#f0f921"
             ]
            ],
            "type": "heatmapgl"
           }
          ],
          "histogram": [
           {
            "marker": {
             "colorbar": {
              "outlinewidth": 0,
              "ticks": ""
             }
            },
            "type": "histogram"
           }
          ],
          "histogram2d": [
           {
            "colorbar": {
             "outlinewidth": 0,
             "ticks": ""
            },
            "colorscale": [
             [
              0,
              "#0d0887"
             ],
             [
              0.1111111111111111,
              "#46039f"
             ],
             [
              0.2222222222222222,
              "#7201a8"
             ],
             [
              0.3333333333333333,
              "#9c179e"
             ],
             [
              0.4444444444444444,
              "#bd3786"
             ],
             [
              0.5555555555555556,
              "#d8576b"
             ],
             [
              0.6666666666666666,
              "#ed7953"
             ],
             [
              0.7777777777777778,
              "#fb9f3a"
             ],
             [
              0.8888888888888888,
              "#fdca26"
             ],
             [
              1,
              "#f0f921"
             ]
            ],
            "type": "histogram2d"
           }
          ],
          "histogram2dcontour": [
           {
            "colorbar": {
             "outlinewidth": 0,
             "ticks": ""
            },
            "colorscale": [
             [
              0,
              "#0d0887"
             ],
             [
              0.1111111111111111,
              "#46039f"
             ],
             [
              0.2222222222222222,
              "#7201a8"
             ],
             [
              0.3333333333333333,
              "#9c179e"
             ],
             [
              0.4444444444444444,
              "#bd3786"
             ],
             [
              0.5555555555555556,
              "#d8576b"
             ],
             [
              0.6666666666666666,
              "#ed7953"
             ],
             [
              0.7777777777777778,
              "#fb9f3a"
             ],
             [
              0.8888888888888888,
              "#fdca26"
             ],
             [
              1,
              "#f0f921"
             ]
            ],
            "type": "histogram2dcontour"
           }
          ],
          "mesh3d": [
           {
            "colorbar": {
             "outlinewidth": 0,
             "ticks": ""
            },
            "type": "mesh3d"
           }
          ],
          "parcoords": [
           {
            "line": {
             "colorbar": {
              "outlinewidth": 0,
              "ticks": ""
             }
            },
            "type": "parcoords"
           }
          ],
          "pie": [
           {
            "automargin": true,
            "type": "pie"
           }
          ],
          "scatter": [
           {
            "marker": {
             "colorbar": {
              "outlinewidth": 0,
              "ticks": ""
             }
            },
            "type": "scatter"
           }
          ],
          "scatter3d": [
           {
            "line": {
             "colorbar": {
              "outlinewidth": 0,
              "ticks": ""
             }
            },
            "marker": {
             "colorbar": {
              "outlinewidth": 0,
              "ticks": ""
             }
            },
            "type": "scatter3d"
           }
          ],
          "scattercarpet": [
           {
            "marker": {
             "colorbar": {
              "outlinewidth": 0,
              "ticks": ""
             }
            },
            "type": "scattercarpet"
           }
          ],
          "scattergeo": [
           {
            "marker": {
             "colorbar": {
              "outlinewidth": 0,
              "ticks": ""
             }
            },
            "type": "scattergeo"
           }
          ],
          "scattergl": [
           {
            "marker": {
             "colorbar": {
              "outlinewidth": 0,
              "ticks": ""
             }
            },
            "type": "scattergl"
           }
          ],
          "scattermapbox": [
           {
            "marker": {
             "colorbar": {
              "outlinewidth": 0,
              "ticks": ""
             }
            },
            "type": "scattermapbox"
           }
          ],
          "scatterpolar": [
           {
            "marker": {
             "colorbar": {
              "outlinewidth": 0,
              "ticks": ""
             }
            },
            "type": "scatterpolar"
           }
          ],
          "scatterpolargl": [
           {
            "marker": {
             "colorbar": {
              "outlinewidth": 0,
              "ticks": ""
             }
            },
            "type": "scatterpolargl"
           }
          ],
          "scatterternary": [
           {
            "marker": {
             "colorbar": {
              "outlinewidth": 0,
              "ticks": ""
             }
            },
            "type": "scatterternary"
           }
          ],
          "surface": [
           {
            "colorbar": {
             "outlinewidth": 0,
             "ticks": ""
            },
            "colorscale": [
             [
              0,
              "#0d0887"
             ],
             [
              0.1111111111111111,
              "#46039f"
             ],
             [
              0.2222222222222222,
              "#7201a8"
             ],
             [
              0.3333333333333333,
              "#9c179e"
             ],
             [
              0.4444444444444444,
              "#bd3786"
             ],
             [
              0.5555555555555556,
              "#d8576b"
             ],
             [
              0.6666666666666666,
              "#ed7953"
             ],
             [
              0.7777777777777778,
              "#fb9f3a"
             ],
             [
              0.8888888888888888,
              "#fdca26"
             ],
             [
              1,
              "#f0f921"
             ]
            ],
            "type": "surface"
           }
          ],
          "table": [
           {
            "cells": {
             "fill": {
              "color": "#EBF0F8"
             },
             "line": {
              "color": "white"
             }
            },
            "header": {
             "fill": {
              "color": "#C8D4E3"
             },
             "line": {
              "color": "white"
             }
            },
            "type": "table"
           }
          ]
         },
         "layout": {
          "annotationdefaults": {
           "arrowcolor": "#2a3f5f",
           "arrowhead": 0,
           "arrowwidth": 1
          },
          "coloraxis": {
           "colorbar": {
            "outlinewidth": 0,
            "ticks": ""
           }
          },
          "colorscale": {
           "diverging": [
            [
             0,
             "#8e0152"
            ],
            [
             0.1,
             "#c51b7d"
            ],
            [
             0.2,
             "#de77ae"
            ],
            [
             0.3,
             "#f1b6da"
            ],
            [
             0.4,
             "#fde0ef"
            ],
            [
             0.5,
             "#f7f7f7"
            ],
            [
             0.6,
             "#e6f5d0"
            ],
            [
             0.7,
             "#b8e186"
            ],
            [
             0.8,
             "#7fbc41"
            ],
            [
             0.9,
             "#4d9221"
            ],
            [
             1,
             "#276419"
            ]
           ],
           "sequential": [
            [
             0,
             "#0d0887"
            ],
            [
             0.1111111111111111,
             "#46039f"
            ],
            [
             0.2222222222222222,
             "#7201a8"
            ],
            [
             0.3333333333333333,
             "#9c179e"
            ],
            [
             0.4444444444444444,
             "#bd3786"
            ],
            [
             0.5555555555555556,
             "#d8576b"
            ],
            [
             0.6666666666666666,
             "#ed7953"
            ],
            [
             0.7777777777777778,
             "#fb9f3a"
            ],
            [
             0.8888888888888888,
             "#fdca26"
            ],
            [
             1,
             "#f0f921"
            ]
           ],
           "sequentialminus": [
            [
             0,
             "#0d0887"
            ],
            [
             0.1111111111111111,
             "#46039f"
            ],
            [
             0.2222222222222222,
             "#7201a8"
            ],
            [
             0.3333333333333333,
             "#9c179e"
            ],
            [
             0.4444444444444444,
             "#bd3786"
            ],
            [
             0.5555555555555556,
             "#d8576b"
            ],
            [
             0.6666666666666666,
             "#ed7953"
            ],
            [
             0.7777777777777778,
             "#fb9f3a"
            ],
            [
             0.8888888888888888,
             "#fdca26"
            ],
            [
             1,
             "#f0f921"
            ]
           ]
          },
          "colorway": [
           "#636efa",
           "#EF553B",
           "#00cc96",
           "#ab63fa",
           "#FFA15A",
           "#19d3f3",
           "#FF6692",
           "#B6E880",
           "#FF97FF",
           "#FECB52"
          ],
          "font": {
           "color": "#2a3f5f"
          },
          "geo": {
           "bgcolor": "white",
           "lakecolor": "white",
           "landcolor": "#E5ECF6",
           "showlakes": true,
           "showland": true,
           "subunitcolor": "white"
          },
          "hoverlabel": {
           "align": "left"
          },
          "hovermode": "closest",
          "mapbox": {
           "style": "light"
          },
          "paper_bgcolor": "white",
          "plot_bgcolor": "#E5ECF6",
          "polar": {
           "angularaxis": {
            "gridcolor": "white",
            "linecolor": "white",
            "ticks": ""
           },
           "bgcolor": "#E5ECF6",
           "radialaxis": {
            "gridcolor": "white",
            "linecolor": "white",
            "ticks": ""
           }
          },
          "scene": {
           "xaxis": {
            "backgroundcolor": "#E5ECF6",
            "gridcolor": "white",
            "gridwidth": 2,
            "linecolor": "white",
            "showbackground": true,
            "ticks": "",
            "zerolinecolor": "white"
           },
           "yaxis": {
            "backgroundcolor": "#E5ECF6",
            "gridcolor": "white",
            "gridwidth": 2,
            "linecolor": "white",
            "showbackground": true,
            "ticks": "",
            "zerolinecolor": "white"
           },
           "zaxis": {
            "backgroundcolor": "#E5ECF6",
            "gridcolor": "white",
            "gridwidth": 2,
            "linecolor": "white",
            "showbackground": true,
            "ticks": "",
            "zerolinecolor": "white"
           }
          },
          "shapedefaults": {
           "line": {
            "color": "#2a3f5f"
           }
          },
          "ternary": {
           "aaxis": {
            "gridcolor": "white",
            "linecolor": "white",
            "ticks": ""
           },
           "baxis": {
            "gridcolor": "white",
            "linecolor": "white",
            "ticks": ""
           },
           "bgcolor": "#E5ECF6",
           "caxis": {
            "gridcolor": "white",
            "linecolor": "white",
            "ticks": ""
           }
          },
          "title": {
           "x": 0.05
          },
          "xaxis": {
           "automargin": true,
           "gridcolor": "white",
           "linecolor": "white",
           "ticks": "",
           "title": {
            "standoff": 15
           },
           "zerolinecolor": "white",
           "zerolinewidth": 2
          },
          "yaxis": {
           "automargin": true,
           "gridcolor": "white",
           "linecolor": "white",
           "ticks": "",
           "title": {
            "standoff": 15
           },
           "zerolinecolor": "white",
           "zerolinewidth": 2
          }
         }
        },
        "xaxis": {
         "anchor": "y",
         "domain": [
          0,
          1
         ],
         "title": {
          "text": "x"
         }
        },
        "yaxis": {
         "anchor": "x",
         "domain": [
          0,
          1
         ],
         "title": {
          "text": "y"
         }
        }
       }
      },
      "text/html": [
       "<div>\n",
       "        \n",
       "        \n",
       "            <div id=\"0af7d39c-d25b-451e-8c3c-186185cf7b74\" class=\"plotly-graph-div\" style=\"height:525px; width:100%;\"></div>\n",
       "            <script type=\"text/javascript\">\n",
       "                require([\"plotly\"], function(Plotly) {\n",
       "                    window.PLOTLYENV=window.PLOTLYENV || {};\n",
       "                    \n",
       "                if (document.getElementById(\"0af7d39c-d25b-451e-8c3c-186185cf7b74\")) {\n",
       "                    Plotly.newPlot(\n",
       "                        '0af7d39c-d25b-451e-8c3c-186185cf7b74',\n",
       "                        [{\"hovertemplate\": \"color=Inact b<br>x=%{x}<br>y=%{y}<extra></extra>\", \"legendgroup\": \"Inact b\", \"marker\": {\"color\": \"#636efa\", \"symbol\": \"circle\"}, \"mode\": \"markers\", \"name\": \"Inact b\", \"orientation\": \"v\", \"showlegend\": true, \"type\": \"scatter\", \"x\": [0.44711678229865415, 0.4058508501593374, 0.23528040891401028, 0.665291410938107, 0.25248613264977693, 0.6693871086895389, 0.4138136062122243, 0.5528205016958254, 0.6050594763423736, 0.6493120924232095, 0.7283898456876716, 0.592613384506523, 0.7108987974442177, 0.5034650148241709, 0.481842533100941, 0.5940446135182254, 0.49232265816159193, 0.624990789660726, 0.467937946524815, 0.7484997462730647, 0.5460104081345699, 0.49168773831728896, 0.45341142113232663, 0.3203750889761443, 0.31688658072670794, 0.45526735771644494, 0.40740001461899195, 0.43099627496483117, 0.6548024104951248, 0.6015927538121604, 0.7041856223583378, 0.40001368502504736, 0.36279684059264333, 0.4363534661560377, 0.479776954060118, 0.5488465019700832, 0.4812235723552399, 0.4453434497456094, 0.43659844120729624, 0.5233896948096457, 0.4466064147397937, 0.3948809736672544, 0.5994508876022594, 0.4744456081743615, 0.4656898470717707, 0.6066755263527713, 0.43515444997197195, 0.4851827838489231, 0.4509845153338296, 0.4760824130970588, 0.4572913415467847, 0.467331667063471, 0.4668431378607235, 0.5481305013334844, 0.5098033060745014, 0.42956669994174795, 0.5078241168444747, 0.5107582271506602, 0.5402414833844452, 0.42735333670710424, 0.6505170088092529, 0.5444408384065468, 0.6117328685448681, 0.7338542137917368, 0.7521254070104287, 0.6038475629056294, 0.2572422576475152, 0.36522214093882954, 0.47437277149660784, 0.6736760781609288, 0.6060210905007437, 0.36593212510896894, 0.7506363869207738, 0.7045360328360184, 0.3818572940313013, 0.4368473160979988, 0.3828205561433173, 0.587651932942523], \"xaxis\": \"x\", \"y\": [0.1289341076252598, 0.571725050677881, 0.39351135252123265, 0.13729236566638056, 0.011116173892435462, 0.0035021203047639806, 0.6395928992600745, 0.6020043247315796, 0.43603526947250326, 0.3489264168467652, -0.04062552815176733, 0.43281251368486545, 0.6412678557837638, 0.4701056963043872, 0.3961670029430019, -0.028206266005788686, 0.35163459695426313, 0.37920277621756415, 0.564146066308215, 0.0024184379265018534, 0.42128893546194746, 0.6228128032818399, 0.46717284231683565, 0.4784097812222601, 0.5295711345177452, 0.4042169086209601, 0.18865044491413185, 0.4108734656427772, 0.1971108409839817, 0.6100061452939985, 0.09312580307835354, 0.5251735233247213, 0.1633938874620513, 0.33656112065368904, 0.43373197796481827, 0.5761830982548286, 0.31043656518574375, 0.4787675775193658, 0.48610771298902944, 0.38765646120474173, 0.27232855398957845, 0.5179179030374057, -0.056351976457700806, 0.3151134914770881, 0.5667929253865286, 0.3887084791766825, 0.4843427466688443, 0.6228528353119376, 0.7661499147918156, 0.38890718018092835, 0.43791061275997917, 0.41659461027108396, 0.4774638586716224, 0.6392813623509862, 0.4817829039593546, 0.5359706221709043, 0.6942490485476104, 0.25972492668355235, 0.5915246186343652, 0.6607411139124727, 0.5187694344231043, 0.48794936796172333, 0.0767302462488586, 0.07321607813064904, 0.12756419281997328, 0.5371930680956892, 0.2787346707073068, 0.5544395340006452, 0.6205081807213644, 0.4842556661371232, 0.26920554062804947, 0.6795521389190506, 0.33536218385495725, 0.40672765447953085, 0.6784218565514178, 0.8644583733408261, 0.45457238286584506, 0.6261923523443582], \"yaxis\": \"y\"}, {\"hovertemplate\": \"color=Inact a<br>x=%{x}<br>y=%{y}<extra></extra>\", \"legendgroup\": \"Inact a\", \"marker\": {\"color\": \"#EF553B\", \"symbol\": \"circle\"}, \"mode\": \"markers\", \"name\": \"Inact a\", \"orientation\": \"v\", \"showlegend\": true, \"type\": \"scatter\", \"x\": [0.4987139513502077, 0.5910649181842182, 0.4691823122606177, 0.4987301073328963, 0.6948703287514282, 0.5806642649106334, 0.6519507490415414, 0.637605239222272, 0.6752188312598355, 0.5719997459002455, 0.6053823966761875, 0.5516127775431561, 0.5633450410989035, 0.6348765435744997, 0.6064209995182999, 0.7188563416949943, 0.5586610646097191, 0.5931484884065207, 0.530979203153774, 0.6700287804353969, 0.6416987776974441, 0.6472744267952038, 0.6671143016813004, 0.6412336036954096, 0.3117320772763124, 0.21675036376366383, 0.5638141643668272, 0.6241199171168241, 0.6247050113245258, 0.6455300670528236, 0.579507034521691, 0.7122616862245652, 0.6569835183962554, 0.719231844213422, 0.6609736604568, 0.5563155360041407, 0.5863073270229142, 0.6508112042290155, 0.6230983938443766, 0.594767865845372, 0.6393066890466094, 0.5030914683452857, 0.5861179495683833, 0.6094997329360562, 0.43819535711423496, 0.5297381773772601, 0.5769816548871677, 0.47932709740238827, 0.6162734832952069, 0.6250885688896269, 0.6278585744716166, 0.6131244846279218, 0.5753759517449339, 0.636954081929509, 0.6156906570361557, 0.527346159945942, 0.5090987662987487, 0.36289694803920025, 0.618150130982178, 0.5761895302631976, 0.3910191372548288, 0.5612301607529566, 0.6411314165738967, 0.6595755582173554, 0.6318863681289337, 0.528050500954773, 0.5458873768300041, 0.5744628095645127, 0.5794821076874062, 0.6178722467584687, 0.5420506167536155, 0.5306321117821609, 0.6909382335334748, 0.6369427699660979, 0.5939046970894348, 0.5971495474373268, 0.6401819064470403, 0.6343522503505824, 0.5642626104461589, 0.5643934282059911, 0.5138736412128543, 0.5161580746412134, 0.5623715090402842, 0.5006133055877529, 0.6574798816022925, 0.6497647469601365, 0.6146838774811977, 0.6330611506558235, 0.5883214172974013, 0.5422204683303651, 0.6164417771684071, 0.5085025278655037, 0.6025381808190912, 0.5233818213964773, 0.5647740904400237, 0.5197296670510398, 0.5532130233894533, 0.6111807935554805, 0.7359987417206323, 0.6133957285173366, 0.6441097429905338, 0.7082449205344119, 0.6837716426351366, 0.6921485385822382, 0.539732602562948, 0.7270097368370537, 0.47173319156367255, 0.599062152169574, 0.5931408568707053, 0.5911862017508698, 0.6151431537859713, 0.5967284782442097, 0.7370199426789045, 0.6174348743259923, 0.6066317983136769, 0.6180432441768432, 0.6324870020682298, 0.6746155141708172, 0.6222613693477481, 0.6164838354123818, 0.5829275857039367, 0.6283759295589687, 0.6334765485396965, 0.6124221117091548, 0.6382636542830968, 0.6129938240920454, 0.6066493518066107, 0.5778963411364979, 0.6105402608841072, 0.5188784899858457, 0.7090225189511671, 0.7403463008935197, 0.7369080242205238, 0.7324605538755102, 0.6154257451185754, 0.5270933713640693, 0.4878093291906239, 0.6520381329689806, 0.6260536023831462, 0.5976586290600594, 0.7420252439133127, 0.4532144931160315, 0.7037863442845922, 0.5614708283234565, 0.7291183487128522, 0.5566604976466899, 0.6788649675730477, 0.734608487246884, 0.6028202734390121, 0.6407620379883828, 0.6190935476918021, 0.5405774501925712, 0.552681416404426, 0.5486342835699746, 0.6215180070151287, 0.574926829452797, 0.5695766993301964, 0.5898003874271279, 0.5723712047929614, 0.6170960581898766, 0.716466202061035, 0.6955565813999305, 0.6100180440097459, 0.615696287653188, 0.613407127888487, 0.592585447726976, 0.5817896326176811, 0.6313937805178518, 0.517062100815369, 0.5610770738794288, 0.5617987770660519, 0.578354935317372, 0.5506957852344132, 0.550052483360687, 0.5959285709452248, 0.5738665577898457, 0.6919679740062237, 0.5965660092555224, 0.5010949285580922, 0.5810123889540343, 0.5618914424975858, 0.37707882635258355, 0.33321930916718107, 0.3405111960594577, 0.560519821597171, 0.5647054091786465, 0.6844974320502109, 0.5928215492781412, 0.5272837111774958, 0.6598361451577431, 0.6351337659521712, 0.565845815428516, 0.5518904802772597, 0.5540166870637007, 0.5942586907222497, 0.6734494011273948, 0.5365787751671698, 0.6629155623927591, 0.6541369447799871, 0.6599852733588204, 0.7084710865911208, 0.5191404526989484], \"xaxis\": \"x\", \"y\": [-0.19001793613425969, -0.18818449394503725, -0.33216974976129854, -0.21123774646263302, -0.09032004377750158, -0.20437173504959888, -0.19506401831138317, -0.1357462510575061, -0.07895670267222882, -0.2425059965433942, -0.10868800031684349, -0.30907336839332983, -0.15425822164867647, -0.05916910515081822, -0.20341596584187213, -0.17673023749835545, -0.21394588155642302, -0.22387930683197035, -0.19330039452679346, -0.07862775147595469, -0.13145355710292522, -0.11584790279660027, -0.08500970001726553, -0.12710713243769872, -0.4363805852049988, -0.3849954388583993, -0.21765423790212063, -0.2524499176841966, -0.163280772450635, -0.17406460786318215, -0.15048844265923553, -0.07436496541031698, -0.03012369356744947, -0.13076778173915102, -0.09682918613111653, -0.07311086438744906, -0.18077887097241152, -0.06574272504927861, -0.21784397067289268, -0.20318186182038447, -0.17141264266614892, -0.03542153112337798, -0.16897730459596758, -0.1371034130885876, -0.1440472523908867, -0.2798326911013934, -0.22005608962489515, -0.17375499794491814, -0.21192712282505782, -0.1989794369927855, -0.10075918044261747, -0.15665048995435768, -0.14766267159507704, -0.15351048787539162, -0.11221021807461921, -0.14813966775184498, -0.16841297257547747, -0.26950980707479333, -0.2248997538726123, -0.22384239001718687, -0.2049545785226173, -0.1622052476410079, -0.19861673725872928, -0.10345531169584571, -0.13476516226398635, -0.15090526732897866, -0.18912275262767644, -0.19344789643343874, -0.23332150892977865, -0.1819807025686328, -0.1673882705005474, -0.18292565936471833, -0.14948407213556122, -0.19149287914309315, -0.08881381288243224, -0.12255177782240574, -0.16146808648369032, -0.14390786214941304, -0.2035227575622412, -0.15669829955991954, -0.09684581363778186, -0.14907128105548137, -0.13127955911374398, -0.1662708589105616, -0.13789370112387897, -0.0291835621746451, -0.05535757909781412, 0.09194015005388494, -0.14755655642254342, -0.12503347950619842, -0.21057296281756804, -0.21071472503649422, -0.041226866355834606, -0.27847247203788394, -0.23786271527201802, -0.19885320937092096, -0.15083338939083527, -0.2964963583514471, 0.014082403901908389, 0.04581864076700298, -0.24746540650110246, -0.02767894768997467, -0.08564222625987107, -0.0695207393511609, -0.23162071623703145, -0.23129055948305594, 0.38477686335491323, -0.2822317899707362, -0.2704599142307707, -0.2717731830664485, -0.25422201860378335, -0.15577614147131924, -0.1341197269422795, -0.27815893632731215, -0.30528158624901713, -0.28109543524636127, -0.27723595151795505, -0.20140388936512832, -0.29151913338233554, -0.28165818273011306, -0.28241317135052574, -0.27160145919863804, -0.2528772637375769, -0.2824019873683362, -0.23756580396694307, -0.26698592207838523, -0.27136270658631756, -0.2944784604554929, -0.1814453640959046, -0.2715674182125395, -0.2493339825199025, -0.26141417555256397, -0.2860214529737541, -0.2784915517059844, -0.2887592829634881, 0.3305993556995561, 0.10992699555062291, -0.2367014158503361, -0.28587492157797373, -0.2693488869757125, -0.2730921020625891, 0.5724519264922011, -0.2528083451382839, -0.20357381580952053, -0.08228143687352124, 0.1435647876424395, -0.12060680124403643, -0.03723435742071617, -0.1536998054938574, -0.05981102408622437, -0.11068087913721729, -0.27052816769074295, -0.2577636940989848, -0.21570255413948317, -0.15780608649685698, -0.22044392693035772, -0.19849256523787678, -0.1943395108712105, -0.25074670186433534, -0.19348933420932246, -0.16312966459085926, -0.1381714531801645, -0.13433027892580884, -0.17388666383328238, 0.2550186305556602, -0.057942673134525224, -0.24691920399429299, -0.11344035332976998, -0.2650561314665536, -0.18983791894556915, -0.23178511922342396, -0.24887928298871656, -0.2664298627524933, -0.23997324116314148, -0.133977948649414, 0.07354264720738221, -0.05888064988108391, -0.051832062884915424, -0.2500815011355232, -0.14753016505516087, -0.09901932206751388, -0.1910206382542401, -0.17616254413729324, -0.14443083881035101, -0.2093433445432952, -0.21834469544944993, -0.2555032814565929, -0.255819882409344, -0.3653320926188954, -0.3398452182286662, -0.3519246360931203, -0.34373625100321104, -0.3687216100755719, -0.3762991930927077, -0.38725846701052746, -0.33057105274423215, -0.37480717593143853, -0.3761876138704515, -0.3634119206616774, -0.31649544771754645, -0.3202300704607682, -0.3683571118306482], \"yaxis\": \"y\"}, {\"hovertemplate\": \"color=Active<br>x=%{x}<br>y=%{y}<extra></extra>\", \"legendgroup\": \"Active\", \"marker\": {\"color\": \"#00cc96\", \"symbol\": \"circle\"}, \"mode\": \"markers\", \"name\": \"Active\", \"orientation\": \"v\", \"showlegend\": true, \"type\": \"scatter\", \"x\": [-1.426982349150185, -1.2840249512122035, -1.3536942921865738, -1.2202641805138181, -1.3139252386614295, -1.243309031304485, -1.1650150577232887, -1.3734980962174144, -1.3450681534865132, -1.3099819997378161, -1.5068343590686524, -1.4127979658766578, -1.411610086066163, -1.4331995231249577, -1.3552720642959866, -1.53632365635293, -1.410380619290383, -1.372486520437145, -1.3889006922348568, -1.36441993318491, -1.623962173603157, -1.555652661824044, -1.5329039560618964, -1.5756189585141631, -1.440125652481253, -1.4286314297342646, -1.2848777073168636, -1.5205022667107018, -1.4248953620387865, -1.3853633175339795, -1.471710757652865, -1.4329102702090042, -1.431620082596007, -1.5109530024988103, -1.509998701074187, -1.5001073121083945, -1.5292169656421866, -1.2490565321976412, -1.304273866819764, -1.3581685689642577, -1.5164769793135926, -1.3808137135619882, -1.3341501511576495, -1.355586575117442, -1.3052469747037312, -1.3785655646327664, -1.3451122990664104, -1.5667321222893007, -1.3229241433985501, -1.2229386727844853, -1.2956478632127053, -1.311252499700628, -1.536674842741026, -1.5005795125152326, -1.5593872817505638, -1.5420068912736684, -1.40425877192587, -1.3573515075076683, -1.4649443394221071, -1.3892593910503095, -1.465802834379409, -1.3586622468544518, -1.5466788193679888, -1.3991274036023202, -1.376541895187717, -1.4439873550458255, -1.3943756786647912, -1.4385536167401112, -1.4199686042010413, -1.406871955611455, -1.3947183443461466, -1.3765113939516767, -1.4543868207820196, -1.4426758917077214, -1.2293283202584702, -1.2358721360653218, -1.4498803064031418, -1.3727124039654015, -1.4124860242933166, -1.36929410845366, -1.3898752946939548, -1.394790551530196, -1.3610157900119593, -1.4184366719597041, -1.4517299676439022, -1.4587675119481762, -1.4569004519895774, -1.4632447973302203, -1.3689820999368165, -1.4047567510916228, -1.4011001189487495, -1.255586562148316, -1.2907838678097174, -1.4237527493542699, -1.3096474379221175, -1.414524826488395, -1.390452511325202, -1.449566216837085, -1.3798653869057371, -1.398959549286477, -1.310689029205305, -1.2585016198976982, -1.2580722679184215, -1.3692252590775522, -1.3922085311359067, -1.3457564805331053, -1.412642294291378, -1.5139501044942576, -1.5080132877934396, -1.40039322754, -1.3569475156981075, -1.4328011431133911, -1.4269330885026574, -1.2276604105762368], \"xaxis\": \"x\", \"y\": [0.004600537187702118, -0.08417509498266147, -0.10097361426214047, -0.023417405616260236, -0.039320163836016615, -0.009479802804915897, 0.05777085300452183, 0.020502606220541748, 0.036688702407324976, 0.04280368840077033, -0.09766172968013892, -0.0408465227505889, -0.0365068723808976, -0.07558107875077671, 0.005736959509676042, -0.05270184312390258, -0.0003740902567099762, 0.02337124030221143, 0.020053864147120348, 0.0072123997537842524, -0.12501957587063117, -0.11259298649916509, -0.06540311930740823, -0.08541873439425393, -0.04576750452261526, -0.04143487048262828, 0.02376478034293413, -0.03885952431893612, -0.09375062369024752, -0.003417655291438595, -0.1094234617030792, -0.08962280133792211, -0.05052310355322636, -0.0863872491470062, -0.044456199671441134, -0.0884590913567056, -0.060471717833486094, 0.10440540399155114, -0.045612555848414886, -0.0338993233398128, -0.10343136057374515, 0.025101948653149013, -0.08285552166593073, -0.036710209890761826, 0.04492969495221327, 0.029328550092247888, -0.0018617352446633855, -0.10311501400082297, -0.015473537479831798, 0.053854222780678196, 0.01605071851917451, -0.0010961514888981928, -0.08032303071694703, -0.028396129564910652, -0.10734675627249916, -0.053342336749034006, -0.04615588841690345, -0.06349462377612289, -0.023380059665214087, -0.041201435286653126, -0.12822996856441604, -0.05402024465743507, -0.02966196760599623, -0.04568882914045978, -0.031846707814993866, -0.06819120128979528, 0.011268315665063167, 0.003939778095558098, -0.01691586071682573, -0.07398979722724726, -0.04546509297970679, -0.04782643068758414, -0.08617977214236835, -0.06924740178479737, 0.016344245217669, 0.026757229826405916, -0.03637994194737562, -0.04895775801321099, -0.06427705735723203, -0.06040333743203873, -0.027922378781301473, -0.02553535674251518, -0.13054058326859166, -0.03175519970894704, -0.061409035603401455, -0.08143108994802693, -0.08411999353868783, -0.09295936915898477, -0.05240509546808046, 0.025997074719438736, -0.0211824848437186, 0.12116339971457343, 0.06855165912437776, -0.02231734014357885, 0.08763658190020207, -0.029800926792348966, 0.03112032415278927, -0.056544548834001715, 0.03215317813670545, 0.0373944047619489, 0.054894053266205986, 0.009591761998680119, 0.01025045871425507, 0.03358883096292992, -0.07709123419058285, 0.03041097722431231, 0.019534809295592266, 0.03417469792154969, -0.047346008355739135, -0.051298423663069505, -0.031212914076113176, 0.04559420818395296, -0.011957505044761908, 0.05688592903317853], \"yaxis\": \"y\"}, {\"hovertemplate\": \"color=Undefined<br>x=%{x}<br>y=%{y}<extra></extra>\", \"legendgroup\": \"Undefined\", \"marker\": {\"color\": \"#ab63fa\", \"symbol\": \"circle\"}, \"mode\": \"markers\", \"name\": \"Undefined\", \"orientation\": \"v\", \"showlegend\": true, \"type\": \"scatter\", \"x\": [0.791540925682751], \"xaxis\": \"x\", \"y\": [0.8609552150885474], \"yaxis\": \"y\"}, {\"hovertemplate\": \"color=Inact ope<br>x=%{x}<br>y=%{y}<extra></extra>\", \"legendgroup\": \"Inact ope\", \"marker\": {\"color\": \"#FFA15A\", \"symbol\": \"circle\"}, \"mode\": \"markers\", \"name\": \"Inact ope\", \"orientation\": \"v\", \"showlegend\": true, \"type\": \"scatter\", \"x\": [0.15336055023341133, 0.034417514656034286, 0.15291277967006844, 0.17777638260404968, -0.022235929628903167], \"xaxis\": \"x\", \"y\": [1.0813507563737168, 1.1606802410569808, 1.094508866142856, 1.130838969586968, 1.1690844935431104], \"yaxis\": \"y\"}, {\"hovertemplate\": \"color=Dfg out<br>x=%{x}<br>y=%{y}<extra></extra>\", \"legendgroup\": \"Dfg out\", \"marker\": {\"color\": \"#19d3f3\", \"symbol\": \"circle\"}, \"mode\": \"markers\", \"name\": \"Dfg out\", \"orientation\": \"v\", \"showlegend\": true, \"type\": \"scatter\", \"x\": [-0.5255156457265745, -1.3362253154122368], \"xaxis\": \"x\", \"y\": [0.7518062598682785, -0.0515848627244996], \"yaxis\": \"y\"}, {\"marker\": {\"color\": \"black\"}, \"mode\": \"markers\", \"type\": \"scatter\", \"x\": [0.4987139513502077, 0.5910649181842182, 0.6412336036954096], \"y\": [-0.19001793613425969, -0.18818449394503725, -0.12710713243769872]}],\n",
       "                        {\"legend\": {\"title\": {\"text\": \"color\"}, \"tracegroupgap\": 0}, \"margin\": {\"t\": 60}, \"template\": {\"data\": {\"bar\": [{\"error_x\": {\"color\": \"#2a3f5f\"}, \"error_y\": {\"color\": \"#2a3f5f\"}, \"marker\": {\"line\": {\"color\": \"#E5ECF6\", \"width\": 0.5}}, \"type\": \"bar\"}], \"barpolar\": [{\"marker\": {\"line\": {\"color\": \"#E5ECF6\", \"width\": 0.5}}, \"type\": \"barpolar\"}], \"carpet\": [{\"aaxis\": {\"endlinecolor\": \"#2a3f5f\", \"gridcolor\": \"white\", \"linecolor\": \"white\", \"minorgridcolor\": \"white\", \"startlinecolor\": \"#2a3f5f\"}, \"baxis\": {\"endlinecolor\": \"#2a3f5f\", \"gridcolor\": \"white\", \"linecolor\": \"white\", \"minorgridcolor\": \"white\", \"startlinecolor\": \"#2a3f5f\"}, \"type\": \"carpet\"}], \"choropleth\": [{\"colorbar\": {\"outlinewidth\": 0, \"ticks\": \"\"}, \"type\": \"choropleth\"}], \"contour\": [{\"colorbar\": {\"outlinewidth\": 0, \"ticks\": \"\"}, \"colorscale\": [[0.0, \"#0d0887\"], [0.1111111111111111, \"#46039f\"], [0.2222222222222222, \"#7201a8\"], [0.3333333333333333, \"#9c179e\"], [0.4444444444444444, \"#bd3786\"], [0.5555555555555556, \"#d8576b\"], [0.6666666666666666, \"#ed7953\"], [0.7777777777777778, \"#fb9f3a\"], [0.8888888888888888, \"#fdca26\"], [1.0, \"#f0f921\"]], \"type\": \"contour\"}], \"contourcarpet\": [{\"colorbar\": {\"outlinewidth\": 0, \"ticks\": \"\"}, \"type\": \"contourcarpet\"}], \"heatmap\": [{\"colorbar\": {\"outlinewidth\": 0, \"ticks\": \"\"}, \"colorscale\": [[0.0, \"#0d0887\"], [0.1111111111111111, \"#46039f\"], [0.2222222222222222, \"#7201a8\"], [0.3333333333333333, \"#9c179e\"], [0.4444444444444444, \"#bd3786\"], [0.5555555555555556, \"#d8576b\"], [0.6666666666666666, \"#ed7953\"], [0.7777777777777778, \"#fb9f3a\"], [0.8888888888888888, \"#fdca26\"], [1.0, \"#f0f921\"]], \"type\": \"heatmap\"}], \"heatmapgl\": [{\"colorbar\": {\"outlinewidth\": 0, \"ticks\": \"\"}, \"colorscale\": [[0.0, \"#0d0887\"], [0.1111111111111111, \"#46039f\"], [0.2222222222222222, \"#7201a8\"], [0.3333333333333333, \"#9c179e\"], [0.4444444444444444, \"#bd3786\"], [0.5555555555555556, \"#d8576b\"], [0.6666666666666666, \"#ed7953\"], [0.7777777777777778, \"#fb9f3a\"], [0.8888888888888888, \"#fdca26\"], [1.0, \"#f0f921\"]], \"type\": \"heatmapgl\"}], \"histogram\": [{\"marker\": {\"colorbar\": {\"outlinewidth\": 0, \"ticks\": \"\"}}, \"type\": \"histogram\"}], \"histogram2d\": [{\"colorbar\": {\"outlinewidth\": 0, \"ticks\": \"\"}, \"colorscale\": [[0.0, \"#0d0887\"], [0.1111111111111111, \"#46039f\"], [0.2222222222222222, \"#7201a8\"], [0.3333333333333333, \"#9c179e\"], [0.4444444444444444, \"#bd3786\"], [0.5555555555555556, \"#d8576b\"], [0.6666666666666666, \"#ed7953\"], [0.7777777777777778, \"#fb9f3a\"], [0.8888888888888888, \"#fdca26\"], [1.0, \"#f0f921\"]], \"type\": \"histogram2d\"}], \"histogram2dcontour\": [{\"colorbar\": {\"outlinewidth\": 0, \"ticks\": \"\"}, \"colorscale\": [[0.0, \"#0d0887\"], [0.1111111111111111, \"#46039f\"], [0.2222222222222222, \"#7201a8\"], [0.3333333333333333, \"#9c179e\"], [0.4444444444444444, \"#bd3786\"], [0.5555555555555556, \"#d8576b\"], [0.6666666666666666, \"#ed7953\"], [0.7777777777777778, \"#fb9f3a\"], [0.8888888888888888, \"#fdca26\"], [1.0, \"#f0f921\"]], \"type\": \"histogram2dcontour\"}], \"mesh3d\": [{\"colorbar\": {\"outlinewidth\": 0, \"ticks\": \"\"}, \"type\": \"mesh3d\"}], \"parcoords\": [{\"line\": {\"colorbar\": {\"outlinewidth\": 0, \"ticks\": \"\"}}, \"type\": \"parcoords\"}], \"pie\": [{\"automargin\": true, \"type\": \"pie\"}], \"scatter\": [{\"marker\": {\"colorbar\": {\"outlinewidth\": 0, \"ticks\": \"\"}}, \"type\": \"scatter\"}], \"scatter3d\": [{\"line\": {\"colorbar\": {\"outlinewidth\": 0, \"ticks\": \"\"}}, \"marker\": {\"colorbar\": {\"outlinewidth\": 0, \"ticks\": \"\"}}, \"type\": \"scatter3d\"}], \"scattercarpet\": [{\"marker\": {\"colorbar\": {\"outlinewidth\": 0, \"ticks\": \"\"}}, \"type\": \"scattercarpet\"}], \"scattergeo\": [{\"marker\": {\"colorbar\": {\"outlinewidth\": 0, \"ticks\": \"\"}}, \"type\": \"scattergeo\"}], \"scattergl\": [{\"marker\": {\"colorbar\": {\"outlinewidth\": 0, \"ticks\": \"\"}}, \"type\": \"scattergl\"}], \"scattermapbox\": [{\"marker\": {\"colorbar\": {\"outlinewidth\": 0, \"ticks\": \"\"}}, \"type\": \"scattermapbox\"}], \"scatterpolar\": [{\"marker\": {\"colorbar\": {\"outlinewidth\": 0, \"ticks\": \"\"}}, \"type\": \"scatterpolar\"}], \"scatterpolargl\": [{\"marker\": {\"colorbar\": {\"outlinewidth\": 0, \"ticks\": \"\"}}, \"type\": \"scatterpolargl\"}], \"scatterternary\": [{\"marker\": {\"colorbar\": {\"outlinewidth\": 0, \"ticks\": \"\"}}, \"type\": \"scatterternary\"}], \"surface\": [{\"colorbar\": {\"outlinewidth\": 0, \"ticks\": \"\"}, \"colorscale\": [[0.0, \"#0d0887\"], [0.1111111111111111, \"#46039f\"], [0.2222222222222222, \"#7201a8\"], [0.3333333333333333, \"#9c179e\"], [0.4444444444444444, \"#bd3786\"], [0.5555555555555556, \"#d8576b\"], [0.6666666666666666, \"#ed7953\"], [0.7777777777777778, \"#fb9f3a\"], [0.8888888888888888, \"#fdca26\"], [1.0, \"#f0f921\"]], \"type\": \"surface\"}], \"table\": [{\"cells\": {\"fill\": {\"color\": \"#EBF0F8\"}, \"line\": {\"color\": \"white\"}}, \"header\": {\"fill\": {\"color\": \"#C8D4E3\"}, \"line\": {\"color\": \"white\"}}, \"type\": \"table\"}]}, \"layout\": {\"annotationdefaults\": {\"arrowcolor\": \"#2a3f5f\", \"arrowhead\": 0, \"arrowwidth\": 1}, \"coloraxis\": {\"colorbar\": {\"outlinewidth\": 0, \"ticks\": \"\"}}, \"colorscale\": {\"diverging\": [[0, \"#8e0152\"], [0.1, \"#c51b7d\"], [0.2, \"#de77ae\"], [0.3, \"#f1b6da\"], [0.4, \"#fde0ef\"], [0.5, \"#f7f7f7\"], [0.6, \"#e6f5d0\"], [0.7, \"#b8e186\"], [0.8, \"#7fbc41\"], [0.9, \"#4d9221\"], [1, \"#276419\"]], \"sequential\": [[0.0, \"#0d0887\"], [0.1111111111111111, \"#46039f\"], [0.2222222222222222, \"#7201a8\"], [0.3333333333333333, \"#9c179e\"], [0.4444444444444444, \"#bd3786\"], [0.5555555555555556, \"#d8576b\"], [0.6666666666666666, \"#ed7953\"], [0.7777777777777778, \"#fb9f3a\"], [0.8888888888888888, \"#fdca26\"], [1.0, \"#f0f921\"]], \"sequentialminus\": [[0.0, \"#0d0887\"], [0.1111111111111111, \"#46039f\"], [0.2222222222222222, \"#7201a8\"], [0.3333333333333333, \"#9c179e\"], [0.4444444444444444, \"#bd3786\"], [0.5555555555555556, \"#d8576b\"], [0.6666666666666666, \"#ed7953\"], [0.7777777777777778, \"#fb9f3a\"], [0.8888888888888888, \"#fdca26\"], [1.0, \"#f0f921\"]]}, \"colorway\": [\"#636efa\", \"#EF553B\", \"#00cc96\", \"#ab63fa\", \"#FFA15A\", \"#19d3f3\", \"#FF6692\", \"#B6E880\", \"#FF97FF\", \"#FECB52\"], \"font\": {\"color\": \"#2a3f5f\"}, \"geo\": {\"bgcolor\": \"white\", \"lakecolor\": \"white\", \"landcolor\": \"#E5ECF6\", \"showlakes\": true, \"showland\": true, \"subunitcolor\": \"white\"}, \"hoverlabel\": {\"align\": \"left\"}, \"hovermode\": \"closest\", \"mapbox\": {\"style\": \"light\"}, \"paper_bgcolor\": \"white\", \"plot_bgcolor\": \"#E5ECF6\", \"polar\": {\"angularaxis\": {\"gridcolor\": \"white\", \"linecolor\": \"white\", \"ticks\": \"\"}, \"bgcolor\": \"#E5ECF6\", \"radialaxis\": {\"gridcolor\": \"white\", \"linecolor\": \"white\", \"ticks\": \"\"}}, \"scene\": {\"xaxis\": {\"backgroundcolor\": \"#E5ECF6\", \"gridcolor\": \"white\", \"gridwidth\": 2, \"linecolor\": \"white\", \"showbackground\": true, \"ticks\": \"\", \"zerolinecolor\": \"white\"}, \"yaxis\": {\"backgroundcolor\": \"#E5ECF6\", \"gridcolor\": \"white\", \"gridwidth\": 2, \"linecolor\": \"white\", \"showbackground\": true, \"ticks\": \"\", \"zerolinecolor\": \"white\"}, \"zaxis\": {\"backgroundcolor\": \"#E5ECF6\", \"gridcolor\": \"white\", \"gridwidth\": 2, \"linecolor\": \"white\", \"showbackground\": true, \"ticks\": \"\", \"zerolinecolor\": \"white\"}}, \"shapedefaults\": {\"line\": {\"color\": \"#2a3f5f\"}}, \"ternary\": {\"aaxis\": {\"gridcolor\": \"white\", \"linecolor\": \"white\", \"ticks\": \"\"}, \"baxis\": {\"gridcolor\": \"white\", \"linecolor\": \"white\", \"ticks\": \"\"}, \"bgcolor\": \"#E5ECF6\", \"caxis\": {\"gridcolor\": \"white\", \"linecolor\": \"white\", \"ticks\": \"\"}}, \"title\": {\"x\": 0.05}, \"xaxis\": {\"automargin\": true, \"gridcolor\": \"white\", \"linecolor\": \"white\", \"ticks\": \"\", \"title\": {\"standoff\": 15}, \"zerolinecolor\": \"white\", \"zerolinewidth\": 2}, \"yaxis\": {\"automargin\": true, \"gridcolor\": \"white\", \"linecolor\": \"white\", \"ticks\": \"\", \"title\": {\"standoff\": 15}, \"zerolinecolor\": \"white\", \"zerolinewidth\": 2}}}, \"xaxis\": {\"anchor\": \"y\", \"domain\": [0.0, 1.0], \"title\": {\"text\": \"x\"}}, \"yaxis\": {\"anchor\": \"x\", \"domain\": [0.0, 1.0], \"title\": {\"text\": \"y\"}}},\n",
       "                        {\"responsive\": true}\n",
       "                    ).then(function(){\n",
       "                            \n",
       "var gd = document.getElementById('0af7d39c-d25b-451e-8c3c-186185cf7b74');\n",
       "var x = new MutationObserver(function (mutations, observer) {{\n",
       "        var display = window.getComputedStyle(gd).display;\n",
       "        if (!display || display === 'none') {{\n",
       "            console.log([gd, 'removed!']);\n",
       "            Plotly.purge(gd);\n",
       "            observer.disconnect();\n",
       "        }}\n",
       "}});\n",
       "\n",
       "// Listen for the removal of the full notebook cells\n",
       "var notebookContainer = gd.closest('#notebook-container');\n",
       "if (notebookContainer) {{\n",
       "    x.observe(notebookContainer, {childList: true});\n",
       "}}\n",
       "\n",
       "// Listen for the clearing of the current output cell\n",
       "var outputEl = gd.closest('.output');\n",
       "if (outputEl) {{\n",
       "    x.observe(outputEl, {childList: true});\n",
       "}}\n",
       "\n",
       "                        })\n",
       "                };\n",
       "                });\n",
       "            </script>\n",
       "        </div>"
      ]
     },
     "metadata": {},
     "output_type": "display_data"
    }
   ],
   "source": [
    "fig = go.Figure()\n",
    "\n",
    "import plotly.express as px\n",
    "\n",
    "fig = px.scatter(\n",
    "    x = Z.x, y = Z.y,\n",
    "    color= df_dash_app['Conformation']\n",
    ")\n",
    "\n",
    "selected = Z.iloc[[1, 2, 45]]\n",
    "fig.add_trace(go.Scatter(\n",
    "    x = selected.x, y = selected.y,\n",
    "    mode='markers',\n",
    "    marker_color='black'\n",
    "))\n",
    "\n",
    "fig.show()"
   ]
  },
  {
   "cell_type": "code",
   "execution_count": null,
   "metadata": {},
   "outputs": [],
   "source": []
  }
 ],
 "metadata": {
  "kernelspec": {
   "display_name": "Python 3",
   "language": "python",
   "name": "python3"
  },
  "language_info": {
   "codemirror_mode": {
    "name": "ipython",
    "version": 3
   },
   "file_extension": ".py",
   "mimetype": "text/x-python",
   "name": "python",
   "nbconvert_exporter": "python",
   "pygments_lexer": "ipython3",
   "version": "3.7.6"
  }
 },
 "nbformat": 4,
 "nbformat_minor": 4
}
