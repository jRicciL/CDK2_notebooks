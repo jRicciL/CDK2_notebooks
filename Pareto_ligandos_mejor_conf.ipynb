{
 "cells": [
  {
   "cell_type": "markdown",
   "metadata": {},
   "source": [
    "# Análisis de la conformación con mejor AUC"
   ]
  },
  {
   "cell_type": "code",
   "execution_count": 1,
   "metadata": {},
   "outputs": [],
   "source": [
    "import pandas as pd\n",
    "import numpy as np"
   ]
  },
  {
   "cell_type": "markdown",
   "metadata": {},
   "source": [
    "### Carga de los datos"
   ]
  },
  {
   "cell_type": "code",
   "execution_count": 2,
   "metadata": {},
   "outputs": [],
   "source": [
    "# Carga de los datos por conformación\n",
    "data_dir = './B_DATOS'\n",
    "df_cdk2_labels = pd.read_json(F\"{data_dir}/TABLA_MTDATA_CDK2_402_crys_LIGS_INFO_LABELS_AUC_docking.json\")\n",
    "# Sólo la necesitamos para saber cual es la mejor conformación según su AUC"
   ]
  },
  {
   "cell_type": "code",
   "execution_count": 3,
   "metadata": {},
   "outputs": [
    {
     "data": {
      "text/plain": [
       "(402, 5)"
      ]
     },
     "execution_count": 3,
     "metadata": {},
     "output_type": "execute_result"
    }
   ],
   "source": [
    "# Seleccionamos las columnas que poseen los scores para cada método usado\n",
    "df_auc_scores = df_cdk2_labels[['AUC_ad4_LE', 'AUC_ad4_LC', \n",
    "                'AUC_vina', 'AUC_vrd_8x', 'AUC_vrd_16x']]\n",
    "df_auc_scores.shape"
   ]
  },
  {
   "cell_type": "markdown",
   "metadata": {},
   "source": [
    "### Elección de la conformación con mejor AUC"
   ]
  },
  {
   "cell_type": "code",
   "execution_count": 4,
   "metadata": {},
   "outputs": [
    {
     "data": {
      "text/plain": [
       "'2vv9'"
      ]
     },
     "execution_count": 4,
     "metadata": {},
     "output_type": "execute_result"
    }
   ],
   "source": [
    "# Seleccionamos la conformación con mejor AUC en vinardo_16x\n",
    "best_conf = df_auc_scores[['AUC_vrd_16x']].idxmax()[0]\n",
    "best_conf\n",
    "# conformación 2vv9"
   ]
  },
  {
   "cell_type": "markdown",
   "metadata": {},
   "source": [
    "### Carga de los scores por ligando por conformación"
   ]
  },
  {
   "cell_type": "code",
   "execution_count": 5,
   "metadata": {},
   "outputs": [],
   "source": [
    "# Directorio de los scores por ligando\n",
    "data_dir = './B_DATOS'\n",
    "# Carga de los dataFrames\n",
    "# Autodock 4. LE (lowest energy), LC (largest Cluster)\n",
    "df_ad4_results_LE = pd.read_csv(F'{data_dir}/vs_docking_crys_ensemble_AD4_LE.csv', index_col=0)\n",
    "df_ad4_results_LC = pd.read_csv(F'{data_dir}/vs_docking_crys_ensemble_AD4_LC.csv', index_col=0)\n",
    "# Autodock Vina\n",
    "df_vina_results = pd.read_csv(F'{data_dir}/vs_docking_crys_ensemble_VINA.csv', index_col=0)\n",
    "# Vinardo scoring\n",
    "df_vinardo_results_16x = pd.read_csv(F'{data_dir}/vs_docking_crys_ensemble_VINARDO.csv', index_col=0)\n",
    "# Vinardo scoring exh 8\n",
    "df_vinardo_results_ex8 = pd.read_csv(F'{data_dir}/vs_docking_crys_ensemble_VINARDO_ex8.csv', index_col=0)"
   ]
  },
  {
   "cell_type": "markdown",
   "metadata": {},
   "source": [
    "### DataFrame de la mejor conformación\n",
    "#### Con sus respectivos valores de scoring por ligandos"
   ]
  },
  {
   "cell_type": "code",
   "execution_count": 6,
   "metadata": {},
   "outputs": [
    {
     "data": {
      "text/html": [
       "<div>\n",
       "<style scoped>\n",
       "    .dataframe tbody tr th:only-of-type {\n",
       "        vertical-align: middle;\n",
       "    }\n",
       "\n",
       "    .dataframe tbody tr th {\n",
       "        vertical-align: top;\n",
       "    }\n",
       "\n",
       "    .dataframe thead th {\n",
       "        text-align: right;\n",
       "    }\n",
       "</style>\n",
       "<table border=\"1\" class=\"dataframe\">\n",
       "  <thead>\n",
       "    <tr style=\"text-align: right;\">\n",
       "      <th></th>\n",
       "      <th>Activity</th>\n",
       "      <th>ad4_LE</th>\n",
       "      <th>ad4_LC</th>\n",
       "      <th>vina</th>\n",
       "      <th>vrd_8x</th>\n",
       "      <th>vrd_16x</th>\n",
       "    </tr>\n",
       "    <tr>\n",
       "      <th>Ligando</th>\n",
       "      <th></th>\n",
       "      <th></th>\n",
       "      <th></th>\n",
       "      <th></th>\n",
       "      <th></th>\n",
       "      <th></th>\n",
       "    </tr>\n",
       "  </thead>\n",
       "  <tbody>\n",
       "    <tr>\n",
       "      <th>CS1</th>\n",
       "      <td>True</td>\n",
       "      <td>-7.94</td>\n",
       "      <td>-7.85</td>\n",
       "      <td>-7.7</td>\n",
       "      <td>-7.1</td>\n",
       "      <td>-7.1</td>\n",
       "    </tr>\n",
       "    <tr>\n",
       "      <th>CS2</th>\n",
       "      <td>True</td>\n",
       "      <td>-6.63</td>\n",
       "      <td>-6.36</td>\n",
       "      <td>-6.8</td>\n",
       "      <td>-7.8</td>\n",
       "      <td>-7.8</td>\n",
       "    </tr>\n",
       "    <tr>\n",
       "      <th>CS3</th>\n",
       "      <td>True</td>\n",
       "      <td>-8.98</td>\n",
       "      <td>-8.98</td>\n",
       "      <td>-8.5</td>\n",
       "      <td>-7.3</td>\n",
       "      <td>-7.3</td>\n",
       "    </tr>\n",
       "    <tr>\n",
       "      <th>CS4</th>\n",
       "      <td>True</td>\n",
       "      <td>-9.02</td>\n",
       "      <td>-9.02</td>\n",
       "      <td>-8.3</td>\n",
       "      <td>-8.1</td>\n",
       "      <td>-8.1</td>\n",
       "    </tr>\n",
       "    <tr>\n",
       "      <th>CS5</th>\n",
       "      <td>False</td>\n",
       "      <td>-10.23</td>\n",
       "      <td>-10.23</td>\n",
       "      <td>-8.6</td>\n",
       "      <td>-7.7</td>\n",
       "      <td>-7.7</td>\n",
       "    </tr>\n",
       "    <tr>\n",
       "      <th>...</th>\n",
       "      <td>...</td>\n",
       "      <td>...</td>\n",
       "      <td>...</td>\n",
       "      <td>...</td>\n",
       "      <td>...</td>\n",
       "      <td>...</td>\n",
       "    </tr>\n",
       "    <tr>\n",
       "      <th>CS247</th>\n",
       "      <td>True</td>\n",
       "      <td>-11.32</td>\n",
       "      <td>-10.94</td>\n",
       "      <td>-11.0</td>\n",
       "      <td>-11.0</td>\n",
       "      <td>-11.0</td>\n",
       "    </tr>\n",
       "    <tr>\n",
       "      <th>CS248</th>\n",
       "      <td>True</td>\n",
       "      <td>-11.23</td>\n",
       "      <td>-11.23</td>\n",
       "      <td>-9.5</td>\n",
       "      <td>-10.0</td>\n",
       "      <td>-10.0</td>\n",
       "    </tr>\n",
       "    <tr>\n",
       "      <th>CS260</th>\n",
       "      <td>True</td>\n",
       "      <td>-9.60</td>\n",
       "      <td>-9.60</td>\n",
       "      <td>-9.9</td>\n",
       "      <td>-9.3</td>\n",
       "      <td>-9.3</td>\n",
       "    </tr>\n",
       "    <tr>\n",
       "      <th>CS261</th>\n",
       "      <td>True</td>\n",
       "      <td>-11.36</td>\n",
       "      <td>-11.01</td>\n",
       "      <td>-9.8</td>\n",
       "      <td>-10.8</td>\n",
       "      <td>-10.9</td>\n",
       "    </tr>\n",
       "    <tr>\n",
       "      <th>CS262</th>\n",
       "      <td>True</td>\n",
       "      <td>-10.40</td>\n",
       "      <td>-10.40</td>\n",
       "      <td>-10.0</td>\n",
       "      <td>-10.1</td>\n",
       "      <td>-10.1</td>\n",
       "    </tr>\n",
       "  </tbody>\n",
       "</table>\n",
       "<p>111 rows × 6 columns</p>\n",
       "</div>"
      ],
      "text/plain": [
       "         Activity  ad4_LE  ad4_LC  vina  vrd_8x  vrd_16x\n",
       "Ligando                                                 \n",
       "CS1          True   -7.94   -7.85  -7.7    -7.1     -7.1\n",
       "CS2          True   -6.63   -6.36  -6.8    -7.8     -7.8\n",
       "CS3          True   -8.98   -8.98  -8.5    -7.3     -7.3\n",
       "CS4          True   -9.02   -9.02  -8.3    -8.1     -8.1\n",
       "CS5         False  -10.23  -10.23  -8.6    -7.7     -7.7\n",
       "...           ...     ...     ...   ...     ...      ...\n",
       "CS247        True  -11.32  -10.94 -11.0   -11.0    -11.0\n",
       "CS248        True  -11.23  -11.23  -9.5   -10.0    -10.0\n",
       "CS260        True   -9.60   -9.60  -9.9    -9.3     -9.3\n",
       "CS261        True  -11.36  -11.01  -9.8   -10.8    -10.9\n",
       "CS262        True  -10.40  -10.40 -10.0   -10.1    -10.1\n",
       "\n",
       "[111 rows x 6 columns]"
      ]
     },
     "execution_count": 6,
     "metadata": {},
     "output_type": "execute_result"
    }
   ],
   "source": [
    "# Creamos el DF para la conformación 2vv9\n",
    "is_active = df_ad4_results_LE.ActiveInactive == \"Active\"\n",
    "cols_names = {'Activity': is_active,\n",
    "              'ad4_LE': df_ad4_results_LE[best_conf], \n",
    "              'ad4_LC': df_ad4_results_LC[best_conf], \n",
    "              'vina': df_vina_results[best_conf], \n",
    "              'vrd_8x': df_vinardo_results_16x[best_conf],\n",
    "              'vrd_16x': df_vinardo_results_ex8[best_conf]}\n",
    "\n",
    "df_conf_2vv9 = pd.DataFrame(cols_names)\n",
    "\n",
    "df_conf_2vv9"
   ]
  },
  {
   "cell_type": "markdown",
   "metadata": {},
   "source": [
    "***\n",
    "# Empieza el análisis\n",
    "## Rankings de los ligandos de la mejor conformación"
   ]
  },
  {
   "cell_type": "code",
   "execution_count": 51,
   "metadata": {},
   "outputs": [
    {
     "data": {
      "image/png": "[encoded data removed]",
      "text/plain": [
       "<Figure size 1080x720 with 1 Axes>"
      ]
     },
     "metadata": {},
     "output_type": "display_data"
    }
   ],
   "source": [
    "# Plot del ranking\n",
    "import matplotlib.pyplot as  plt\n",
    "import seaborn as sns\n",
    "sns.set( context = 'talk', style = 'white')\n",
    "\n",
    "data = df_conf_2vv9.drop(['Activity'], axis = 1).melt()\n",
    "data['Activity'] = np.tile(is_active, 5)\n",
    "\n",
    "cmp_ranking = sns.color_palette([\"#50DAB4\", \"#FA5F50\"])\n",
    "\n",
    "fig, axes = plt.subplots()\n",
    "fig.set_size_inches(15, 10)\n",
    "sns.swarmplot(x = \"variable\", y = \"value\", data= data, ax = axes, alpha=0.8, \n",
    "              hue = \"Activity\", s = 8, palette = cmp_ranking)\n",
    "axes.set_title('Rankings de los programas de docking')\n",
    "axes.grid(linestyle='--', linewidth='0.8')\n",
    "plt.xlabel(\"Programas/scores de docking\")\n",
    "plt.ylabel(\"Score del programa\")\n",
    "plt.show()"
   ]
  },
  {
   "cell_type": "markdown",
   "metadata": {},
   "source": [
    "> ## Nota:  \n",
    "Los ligandos en los rankings de Vina y Vinardo se ven más apilados porque sus scores (energía de interacción) sólo tienen un cifra decimal mientras que AD4 reporta sus valores con dos cifras decimales."
   ]
  },
  {
   "cell_type": "markdown",
   "metadata": {},
   "source": [
    "***\n",
    "# Frente de pareto de los ligandos con la conf. 2vv9"
   ]
  },
  {
   "cell_type": "code",
   "execution_count": 151,
   "metadata": {},
   "outputs": [],
   "source": [
    "# Funciones necesarias para calcular el frente de pareto\n",
    "\n",
    "class Pareto:\n",
    "    def __init__(self, df_scores, methods, minimize = True):\n",
    "        self.methods = methods\n",
    "        self.df_scores = df_scores\n",
    "        self.counter = 0\n",
    "        self.minimize = minimize\n",
    "        self.fronts_dic = {}\n",
    "\n",
    "    def pareto_front(self, scores):\n",
    "        ''' Función para determinar si una observación pertenece \n",
    "        al frente no dominado dado un arreglo de n_observaciones, \n",
    "        y m_scores de las funciones objetivo.\n",
    "        '''\n",
    "        # Se crea un arreglo inicial de tamaño igual al número de observaciones\n",
    "        # Todos los elementos se inicializan como parte del frente no dominado ( = 1)\n",
    "        pareto_front = np.ones(scores.shape[0], dtype = bool)\n",
    "        # Se itera sobre cada observación\n",
    "        for i, s in enumerate(scores):\n",
    "            # Comprueba si el punto i domina a los demás elementos\n",
    "            if not np.all(np.any(scores[i] > scores[:i], axis=1)): # Para elementos \n",
    "                pareto_front[i] = 0\n",
    "                continue\n",
    "            if not np.all(np.any(scores[i] > scores[i+1:], axis=1)):\n",
    "                pareto_front[i] = 0\n",
    "        return pareto_front\n",
    "    \n",
    "    def get_front(self, df_scores):\n",
    "        scores_sub_mtx = df_scores[self.methods].to_numpy()\n",
    "        if self.minimize:\n",
    "            scores_sub_mtx = scores_sub_mtx*-1\n",
    "        pareto_points = self.pareto_front(scores_sub_mtx) # Se calculan lso scores\n",
    "        df_pareto = df_scores[pareto_points]\n",
    "        return(df_pareto)\n",
    "    \n",
    "    def get_pareto_front(self):\n",
    "        df_pareto = self.get_front(self.df_scores)\n",
    "        return(df_pareto)\n",
    "    \n",
    "    def get_all_fronts(self, df_scores = None, just_actives = True):\n",
    "        if df_scores is None:\n",
    "            df_scores = self.df_scores\n",
    "        df_pf = self.get_front(df_scores)\n",
    "        efficient_confs = df_pf.index.to_numpy()\n",
    "        if len(efficient_confs) > 0:\n",
    "            is_active = df_pf['Activity']\n",
    "            self.counter = self.counter + 1\n",
    "            self.fronts_dic[F'Frente_{self.counter}'] = efficient_confs\n",
    "            if np.any(is_active) or not just_actives:\n",
    "                df_scores = df_scores.drop(efficient_confs)\n",
    "                self.get_all_fronts(df_scores, just_actives = just_actives)\n",
    "        return(self.fronts_dic)\n",
    "    \n",
    "    def get_num_of_actives_per_front(self):\n",
    "        print(F'Número total de frentes: {len(self.fronts_dic)}')\n",
    "        print(\"___________________________________\")\n",
    "        for frente, puntos in self.fronts_dic.items():\n",
    "            puntos_df = self.df_scores.loc[puntos][['Activity']]\n",
    "            n_elementos = ( puntos_df.count())[0]\n",
    "            n_activos = puntos_df.sum()[0]\n",
    "            print(F'{frente}: {n_activos}/{n_elementos} activos.')\n",
    "            print(puntos_df.T)\n",
    "            print(\"___________________________________\")\n",
    "\n",
    "\n",
    "    def get_pareto_front_2(self):\n",
    "        scores_np = scores[metodos].to_numpy() # Se convierte el DataFrame a matriz de numpy\n",
    "        pareto_points = pareto_front(scores_np, minimize=minimize) # Se calculan lso scores\n",
    "        df_pareto = scores[pareto_points]\n",
    "        # Graficamos\n",
    "        #if plot:\n",
    "         #   plt.figure(figsize=(6, 6))\n",
    "          #  sns.lineplot(df_pareto[metodos[0]], df_pareto[metodos[1]])\n",
    "           # sns.scatterplot(scores[metodos[0]], scores[metodos[1]], \n",
    "            #                hue=pareto_points, s=75, palette= cmp)\n",
    "        return(df_pareto[['Activity'] + metodos])\n",
    "\n",
    "\n",
    "    "
   ]
  },
  {
   "cell_type": "code",
   "execution_count": 152,
   "metadata": {},
   "outputs": [
    {
     "name": "stdout",
     "output_type": "stream",
     "text": [
      "Número total de frentes: 13\n",
      "___________________________________\n",
      "Frente_1: 4/4 activos.\n",
      "Ligando   CS244  CS245  CS247  CS261\n",
      "Activity   True   True   True   True\n",
      "___________________________________\n",
      "Frente_2: 4/8 activos.\n",
      "Ligando    CS74  CS110  CS232  CS238  CS241  CS242  CS246  CS262\n",
      "Activity  False  False  False  False   True   True   True   True\n",
      "___________________________________\n",
      "Frente_3: 4/12 activos.\n",
      "Ligando   CS17  CS20   CS34   CS36   CS70   CS71  CS102  CS112  CS148  CS166  \\\n",
      "Activity  True  True  False  False  False  False  False  False  False  False   \n",
      "\n",
      "Ligando   CS248  CS260  \n",
      "Activity   True   True  \n",
      "___________________________________\n",
      "Frente_4: 3/12 activos.\n",
      "Ligando   CS16  CS18  CS19   CS67   CS68   CS81   CS82  CS100  CS140  CS165  \\\n",
      "Activity  True  True  True  False  False  False  False  False  False  False   \n",
      "\n",
      "Ligando   CS188  CS196  \n",
      "Activity  False  False  \n",
      "___________________________________\n",
      "Frente_5: 3/9 activos.\n",
      "Ligando     CS5  CS10  CS13  CS15   CS31   CS38   CS49   CS59  CS150\n",
      "Activity  False  True  True  True  False  False  False  False  False\n",
      "___________________________________\n",
      "Frente_6: 1/10 activos.\n",
      "Ligando   CS14   CS58   CS65   CS66   CS93  CS109  CS154  CS160  CS209  CS236\n",
      "Activity  True  False  False  False  False  False  False  False  False  False\n",
      "___________________________________\n",
      "Frente_7: 1/12 activos.\n",
      "Ligando    CS9   CS29   CS37   CS64   CS78   CS80   CS85   CS98  CS104  CS130  \\\n",
      "Activity  True  False  False  False  False  False  False  False  False  False   \n",
      "\n",
      "Ligando   CS213  CS222  \n",
      "Activity  False  False  \n",
      "___________________________________\n",
      "Frente_8: 3/17 activos.\n",
      "Ligando    CS3   CS4  CS11   CS46   CS47   CS76   CS77   CS95   CS96  CS115  \\\n",
      "Activity  True  True  True  False  False  False  False  False  False  False   \n",
      "\n",
      "Ligando   CS152  CS169  CS173  CS177  CS184  CS200  CS208  \n",
      "Activity  False  False  False  False  False  False  False  \n",
      "___________________________________\n",
      "Frente_9: 0/9 activos.\n",
      "Ligando    CS27   CS32   CS72  CS119  CS197  CS204  CS231  CS234  CS237\n",
      "Activity  False  False  False  False  False  False  False  False  False\n",
      "___________________________________\n",
      "Frente_10: 0/5 activos.\n",
      "Ligando    CS41   CS55   CS69  CS116  CS230\n",
      "Activity  False  False  False  False  False\n",
      "___________________________________\n",
      "Frente_11: 2/6 activos.\n",
      "Ligando    CS1   CS2   CS33   CS73   CS92  CS105\n",
      "Activity  True  True  False  False  False  False\n",
      "___________________________________\n",
      "Frente_12: 1/6 activos.\n",
      "Ligando   CS12   CS53  CS142  CS175  CS198  CS202\n",
      "Activity  True  False  False  False  False  False\n",
      "___________________________________\n",
      "Frente_13: 0/1 activos.\n",
      "Ligando   CS189\n",
      "Activity  False\n",
      "___________________________________\n"
     ]
    }
   ],
   "source": [
    "metodos = ['ad4_LE', 'ad4_LC', 'vina', 'vrd_8x', 'vrd_16x']\n",
    "a = Pareto(df_conf_2vv9, metodos, minimize = True)\n",
    "x = a.get_all_fronts(just_actives = False)\n",
    "a.get_num_of_actives_per_front()"
   ]
  },
  {
   "cell_type": "code",
   "execution_count": 71,
   "metadata": {},
   "outputs": [
    {
     "data": {
      "text/html": [
       "<div>\n",
       "<style scoped>\n",
       "    .dataframe tbody tr th:only-of-type {\n",
       "        vertical-align: middle;\n",
       "    }\n",
       "\n",
       "    .dataframe tbody tr th {\n",
       "        vertical-align: top;\n",
       "    }\n",
       "\n",
       "    .dataframe thead th {\n",
       "        text-align: right;\n",
       "    }\n",
       "</style>\n",
       "<table border=\"1\" class=\"dataframe\">\n",
       "  <thead>\n",
       "    <tr style=\"text-align: right;\">\n",
       "      <th></th>\n",
       "      <th>Activity</th>\n",
       "      <th>ad4_LE</th>\n",
       "      <th>ad4_LC</th>\n",
       "      <th>vina</th>\n",
       "      <th>vrd_8x</th>\n",
       "      <th>vrd_16x</th>\n",
       "    </tr>\n",
       "    <tr>\n",
       "      <th>Ligando</th>\n",
       "      <th></th>\n",
       "      <th></th>\n",
       "      <th></th>\n",
       "      <th></th>\n",
       "      <th></th>\n",
       "      <th></th>\n",
       "    </tr>\n",
       "  </thead>\n",
       "  <tbody>\n",
       "    <tr>\n",
       "      <th>CS247</th>\n",
       "      <td>True</td>\n",
       "      <td>-11.32</td>\n",
       "      <td>-10.94</td>\n",
       "      <td>-11.0</td>\n",
       "      <td>-11.0</td>\n",
       "      <td>-11.0</td>\n",
       "    </tr>\n",
       "    <tr>\n",
       "      <th>CS261</th>\n",
       "      <td>True</td>\n",
       "      <td>-11.36</td>\n",
       "      <td>-11.01</td>\n",
       "      <td>-9.8</td>\n",
       "      <td>-10.8</td>\n",
       "      <td>-10.9</td>\n",
       "    </tr>\n",
       "    <tr>\n",
       "      <th>CS244</th>\n",
       "      <td>True</td>\n",
       "      <td>-12.22</td>\n",
       "      <td>-12.22</td>\n",
       "      <td>-10.1</td>\n",
       "      <td>-10.6</td>\n",
       "      <td>-10.6</td>\n",
       "    </tr>\n",
       "    <tr>\n",
       "      <th>CS246</th>\n",
       "      <td>True</td>\n",
       "      <td>-11.33</td>\n",
       "      <td>-11.33</td>\n",
       "      <td>-9.9</td>\n",
       "      <td>-10.5</td>\n",
       "      <td>-10.6</td>\n",
       "    </tr>\n",
       "    <tr>\n",
       "      <th>CS17</th>\n",
       "      <td>True</td>\n",
       "      <td>-10.43</td>\n",
       "      <td>-9.24</td>\n",
       "      <td>-8.8</td>\n",
       "      <td>-10.5</td>\n",
       "      <td>-10.4</td>\n",
       "    </tr>\n",
       "    <tr>\n",
       "      <th>CS260</th>\n",
       "      <td>True</td>\n",
       "      <td>-9.60</td>\n",
       "      <td>-9.60</td>\n",
       "      <td>-9.9</td>\n",
       "      <td>-9.3</td>\n",
       "      <td>-9.3</td>\n",
       "    </tr>\n",
       "  </tbody>\n",
       "</table>\n",
       "</div>"
      ],
      "text/plain": [
       "         Activity  ad4_LE  ad4_LC  vina  vrd_8x  vrd_16x\n",
       "Ligando                                                 \n",
       "CS247        True  -11.32  -10.94 -11.0   -11.0    -11.0\n",
       "CS261        True  -11.36  -11.01  -9.8   -10.8    -10.9\n",
       "CS244        True  -12.22  -12.22 -10.1   -10.6    -10.6\n",
       "CS246        True  -11.33  -11.33  -9.9   -10.5    -10.6\n",
       "CS17         True  -10.43   -9.24  -8.8   -10.5    -10.4\n",
       "CS260        True   -9.60   -9.60  -9.9    -9.3     -9.3"
      ]
     },
     "execution_count": 71,
     "metadata": {},
     "output_type": "execute_result"
    }
   ],
   "source": [
    "df_conf_2vv9.loc[['CS247', 'CS261', 'CS244', 'CS246', 'CS17', 'CS260']]"
   ]
  },
  {
   "cell_type": "code",
   "execution_count": 54,
   "metadata": {},
   "outputs": [
    {
     "data": {
      "text/html": [
       "<div>\n",
       "<style scoped>\n",
       "    .dataframe tbody tr th:only-of-type {\n",
       "        vertical-align: middle;\n",
       "    }\n",
       "\n",
       "    .dataframe tbody tr th {\n",
       "        vertical-align: top;\n",
       "    }\n",
       "\n",
       "    .dataframe thead th {\n",
       "        text-align: right;\n",
       "    }\n",
       "</style>\n",
       "<table border=\"1\" class=\"dataframe\">\n",
       "  <thead>\n",
       "    <tr style=\"text-align: right;\">\n",
       "      <th></th>\n",
       "      <th>Activity</th>\n",
       "      <th>ad4_LE</th>\n",
       "      <th>ad4_LC</th>\n",
       "      <th>vina</th>\n",
       "      <th>vrd_8x</th>\n",
       "      <th>vrd_16x</th>\n",
       "    </tr>\n",
       "    <tr>\n",
       "      <th>Ligando</th>\n",
       "      <th></th>\n",
       "      <th></th>\n",
       "      <th></th>\n",
       "      <th></th>\n",
       "      <th></th>\n",
       "      <th></th>\n",
       "    </tr>\n",
       "  </thead>\n",
       "  <tbody>\n",
       "  </tbody>\n",
       "</table>\n",
       "</div>"
      ],
      "text/plain": [
       "Empty DataFrame\n",
       "Columns: [Activity, ad4_LE, ad4_LC, vina, vrd_8x, vrd_16x]\n",
       "Index: []"
      ]
     },
     "execution_count": 54,
     "metadata": {},
     "output_type": "execute_result"
    }
   ],
   "source": [
    "a = Pareto(df_conf_2vv9.drop(['CS247', 'CS261', 'CS244', 'CS246', 'CS17', 'CS260']), metodos, minimize = True)\n",
    "a.get_pareto_front()"
   ]
  },
  {
   "cell_type": "markdown",
   "metadata": {},
   "source": [
    "## Ejemplos por pares de scorings\n",
    "Como ejemplo de los frentes generados vamos a visualizar por pares de scorings antes de generar frentes con más de un método de docking/scoring."
   ]
  },
  {
   "cell_type": "code",
   "execution_count": null,
   "metadata": {},
   "outputs": [],
   "source": [
    "# Vina vs ad4_LC\n",
    "metodos = ['vina', 'ad4_LC']\n",
    "get_pareto_front(df_conf_2vv9, metodos, minimize=True)"
   ]
  },
  {
   "cell_type": "code",
   "execution_count": null,
   "metadata": {},
   "outputs": [],
   "source": [
    "# Vina vs vinardo_16x\n",
    "metodos = ['vina', 'vrd_16x']\n",
    "get_pareto_front(df_conf_2vv9, metodos, minimize=True)"
   ]
  },
  {
   "cell_type": "code",
   "execution_count": null,
   "metadata": {},
   "outputs": [],
   "source": [
    "# Vina vs vinardo_16x\n",
    "metodos = ['vina', 'vrd_8x']\n",
    "get_pareto_front(df_conf_2vv9, metodos, minimize=True)"
   ]
  },
  {
   "cell_type": "code",
   "execution_count": null,
   "metadata": {},
   "outputs": [],
   "source": [
    "# Vina vs vinardo_16x\n",
    "metodos = ['vrd_8x', 'ad4_LC']\n",
    "get_pareto_front(df_conf_2vv9, metodos, minimize=True)"
   ]
  },
  {
   "cell_type": "markdown",
   "metadata": {},
   "source": [
    "# Frente combinando más de dos scores"
   ]
  },
  {
   "cell_type": "markdown",
   "metadata": {},
   "source": [
    "## Los 5 scores (5 objetivos)"
   ]
  },
  {
   "cell_type": "code",
   "execution_count": null,
   "metadata": {},
   "outputs": [],
   "source": [
    "metodos = ['ad4_LE', 'ad4_LC', 'vina', 'vrd_8x', 'vrd_16x']\n",
    "get_pareto_front(df_conf_2vv9, metodos, minimize=True, plot = False)"
   ]
  },
  {
   "cell_type": "code",
   "execution_count": null,
   "metadata": {},
   "outputs": [],
   "source": [
    "get_pareto_front(df_conf_2vv9.drop(['CS244', 'CS245', 'CS247', 'CS261']), metodos, minimize=True, plot = False)"
   ]
  },
  {
   "cell_type": "markdown",
   "metadata": {},
   "source": [
    "## Sin ad4_LE "
   ]
  },
  {
   "cell_type": "code",
   "execution_count": null,
   "metadata": {},
   "outputs": [],
   "source": [
    "metodos = ['ad4_LC', 'vina', 'vrd_8x', 'vrd_16x']\n",
    "get_pareto_front(df_conf_2vv9, metodos, minimize=True, plot = False)"
   ]
  },
  {
   "cell_type": "markdown",
   "metadata": {},
   "source": [
    "## Sin ad4_LC"
   ]
  },
  {
   "cell_type": "code",
   "execution_count": null,
   "metadata": {},
   "outputs": [],
   "source": [
    "metodos = ['ad4_LE', 'vina', 'vrd_8x', 'vrd_16x']\n",
    "get_pareto_front(df_conf_2vv9, metodos, minimize=True, plot = False)"
   ]
  },
  {
   "cell_type": "markdown",
   "metadata": {},
   "source": [
    "## Sin Vina"
   ]
  },
  {
   "cell_type": "code",
   "execution_count": null,
   "metadata": {},
   "outputs": [],
   "source": [
    "metodos = ['ad4_LE', 'ad4_LC', 'vrd_8x', 'vrd_16x']\n",
    "get_pareto_front(df_conf_2vv9, metodos, minimize=True, plot = False)"
   ]
  },
  {
   "cell_type": "markdown",
   "metadata": {},
   "source": [
    "## Sin vinardo_8x"
   ]
  },
  {
   "cell_type": "code",
   "execution_count": null,
   "metadata": {},
   "outputs": [],
   "source": [
    "metodos = ['ad4_LE', 'ad4_LC', 'vina',  'vrd_16x']\n",
    "get_pareto_front(df_conf_2vv9, metodos, minimize=True, plot = False)"
   ]
  },
  {
   "cell_type": "markdown",
   "metadata": {},
   "source": [
    "## Sin vinardo_16x"
   ]
  },
  {
   "cell_type": "code",
   "execution_count": null,
   "metadata": {},
   "outputs": [],
   "source": [
    "metodos = ['ad4_LE', 'ad4_LC', 'vina', 'vrd_8x']\n",
    "get_pareto_front(df_conf_2vv9, metodos, minimize=True, plot = False)"
   ]
  },
  {
   "cell_type": "markdown",
   "metadata": {},
   "source": [
    "## Sin vinardos"
   ]
  },
  {
   "cell_type": "code",
   "execution_count": null,
   "metadata": {},
   "outputs": [],
   "source": [
    "metodos = ['ad4_LE', 'ad4_LC', 'vina']\n",
    "get_pareto_front(df_conf_2vv9, metodos, minimize=True, plot = False)"
   ]
  },
  {
   "cell_type": "markdown",
   "metadata": {},
   "source": [
    "## Sin ad4s"
   ]
  },
  {
   "cell_type": "code",
   "execution_count": null,
   "metadata": {},
   "outputs": [],
   "source": [
    "metodos = ['vina', 'vrd_8x', 'vrd_16x']\n",
    "get_pareto_front(df_conf_2vv9, metodos, minimize=True, plot = False)"
   ]
  }
 ],
 "metadata": {
  "kernelspec": {
   "display_name": "Python 3",
   "language": "python",
   "name": "python3"
  },
  "language_info": {
   "codemirror_mode": {
    "name": "ipython",
    "version": 3
   },
   "file_extension": ".py",
   "mimetype": "text/x-python",
   "name": "python",
   "nbconvert_exporter": "python",
   "pygments_lexer": "ipython3",
   "version": "3.7.4"
  }
 },
 "nbformat": 4,
 "nbformat_minor": 2
}
