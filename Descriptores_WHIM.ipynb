{
 "cells": [
  {
   "cell_type": "markdown",
   "metadata": {},
   "source": [
    "# Análisis de los descriptores WHIM"
   ]
  },
  {
   "cell_type": "code",
   "execution_count": null,
   "metadata": {},
   "outputs": [],
   "source": [
    "# pendiente calcular descriptores de csar en diferetes conformacioens"
   ]
  },
  {
   "cell_type": "code",
   "execution_count": 5,
   "metadata": {},
   "outputs": [],
   "source": [
    "import numpy as np\n",
    "import pandas as pd\n",
    "import pytraj as pyt\n",
    "import glob, os"
   ]
  },
  {
   "cell_type": "code",
   "execution_count": null,
   "metadata": {},
   "outputs": [],
   "source": [
    "from __future__ import print_function\n",
    "from rdkit import Chem\n",
    "from rdkit.Chem import AllChem"
   ]
  },
  {
   "cell_type": "markdown",
   "metadata": {},
   "source": [
    "### Se carga la tabla de datos de la CDK2\n",
    "**Se lee la tabla de datos de las conformaciones con la información de los ligandos y las etiquetas según el tipo de conformación (activa/inactiva) de la protreína.** "
   ]
  },
  {
   "cell_type": "code",
   "execution_count": 6,
   "metadata": {},
   "outputs": [],
   "source": [
    "# Nombre de la proteina de interes\n",
    "prot_name = 'cdk2'\n",
    "patho_to_json_file = glob.glob((os.path.join('.', 'data', \n",
    "                        F'TABLA_MTDATA_{prot_name.upper()}_*_crys_LIGS_INFO_LABELS_AUC_docking_DUD.json')))[0]\n",
    "df_cdk2_labels = pd.read_json(patho_to_json_file)\n",
    "#df_cdk2_labels.head()"
   ]
  },
  {
   "cell_type": "markdown",
   "metadata": {},
   "source": [
    "Antes de cargar las moléculas, **debemos convertirlas a un formato que sea correctamente leído con _rdkit_**."
   ]
  },
  {
   "cell_type": "raw",
   "metadata": {},
   "source": [
    "%%bash\n",
    "cd \"../ARCHIVOS/CRISTALES/LIGS_CDK2/LIGS_PREP_PDB_REDUCED\"\n",
    "for mol in `ls`\n",
    "do \n",
    "    name=${mol%.*}\n",
    "    obabel -ipdb $mol -osdf -O ${name}.sdf\n",
    "done"
   ]
  },
  {
   "cell_type": "code",
   "execution_count": 38,
   "metadata": {},
   "outputs": [],
   "source": [
    "%%bash\n",
    "cd ../ARCHIVOS/CRISTALES/LIGS_CDK2/\n",
    "#mkdir LIGS_PREP_SDF_REDUCED\n",
    "# Movemos todos los archivos sdf a la carpeta correspondiente\n",
    "mv ./LIGS_PREP_PDB_REDUCED/*sdf ./LIGS_PREP_SDF_REDUCED/"
   ]
  },
  {
   "cell_type": "code",
   "execution_count": 42,
   "metadata": {},
   "outputs": [],
   "source": [
    "cocrys_sdf_file = '365_ligs_cocrys.sdf'"
   ]
  },
  {
   "cell_type": "code",
   "execution_count": 45,
   "metadata": {},
   "outputs": [],
   "source": [
    "%%bash -s $cocrys_sdf_file\n",
    "# Ahora creamos un archivo único con esos sdf generados\n",
    "cd ../ARCHIVOS/CRISTALES/LIGS_CDK2/LIGS_PREP_SDF_REDUCED/\n",
    "cat *.sdf > $1"
   ]
  },
  {
   "cell_type": "markdown",
   "metadata": {},
   "source": [
    "## Ligandos cocristalizados\n",
    "### Las moléculas son cargadas en formato mol2\n",
    "**Se genera lista con los _paths_ de los archivos cocristalizados.** Los archivos *pdb* leidos fueron generados usando el programa **Reduce** de AmberTools."
   ]
  },
  {
   "cell_type": "code",
   "execution_count": 39,
   "metadata": {},
   "outputs": [
    {
     "name": "stdout",
     "output_type": "stream",
     "text": [
      "Número de archivos de ligandos a cargar: 365\n"
     ]
    }
   ],
   "source": [
    "path_crys_poses = \"../ARCHIVOS/CRISTALES/LIGS_CDK2/LIGS_PREP_SDF_REDUCED/\"\n",
    "files_pose_crys = sorted( glob.glob(path_crys_poses + \"*\") )\n",
    "print(F'Número de archivos de ligandos a cargar: {len(files_pose_crys)}')"
   ]
  },
  {
   "cell_type": "markdown",
   "metadata": {},
   "source": [
    "### Cargamos las moléculas con *rdkit*\n",
    "Usamos el módulo **Chem.SDMolSupplier** de redkit para cargar cada uno de los ligandos cocristalizados con la proteína. Para ello se crea un diccionario con los objetos correspondientes a cada molécula."
   ]
  },
  {
   "cell_type": "code",
   "execution_count": 93,
   "metadata": {},
   "outputs": [],
   "source": [
    "# Cargamos los ids y nombre de los ligandos ordenados en una lista\n",
    "pdb_lig_dic = {file.split(\"/\")[-1].split(\"_\")[0]: file.split(\"/\")[-1].split(\"_\")[1] \n",
    "               for file in files_pose_crys}"
   ]
  },
  {
   "cell_type": "code",
   "execution_count": 89,
   "metadata": {},
   "outputs": [],
   "source": [
    "# Cargamos los archivos en un diccionario u\n",
    "ligs_cdk2_dic = {file.split(\"/\")[-1].split(\"_\")[0]: \n",
    "                 Chem.SDMolSupplier(file) for file in files_pose_crys}"
   ]
  },
  {
   "cell_type": "code",
   "execution_count": 98,
   "metadata": {},
   "outputs": [
    {
     "data": {
      "image/png": "[encoded data removed]",
      "text/plain": [
       "<rdkit.Chem.rdchem.Mol at 0x7f636b125210>"
      ]
     },
     "execution_count": 98,
     "metadata": {},
     "output_type": "execute_result"
    }
   ],
   "source": [
    "# Molécula de ejemplo\n",
    "ligs_cdk2_dic['1b38'][0]"
   ]
  },
  {
   "cell_type": "code",
   "execution_count": 100,
   "metadata": {},
   "outputs": [
    {
     "data": {
      "image/png": "[encoded data removed]",
      "text/plain": [
       "<rdkit.Chem.rdchem.Mol at 0x7f636b122940>"
      ]
     },
     "execution_count": 100,
     "metadata": {},
     "output_type": "execute_result"
    }
   ],
   "source": [
    "# Sólo a modo de ejemplo lo comparamos con un archivo PDB\n",
    "Chem.MolFromPDBFile(\"../ARCHIVOS/CRISTALES/LIGS_CDK2/LIGS_PREP_PDB_REDUCED/1b38_ATP_LIG.pdb\")"
   ]
  },
  {
   "cell_type": "code",
   "execution_count": null,
   "metadata": {},
   "outputs": [],
   "source": [
    "# Cargamos los archivos en un diccionario u\n",
    "ligs_cdk2_dic = {file.split(\"/\")[-1].split(\"_\")[0]: \n",
    "                 Chem.MolFromPDBFile(file) for file in files_pose_crys}"
   ]
  },
  {
   "cell_type": "code",
   "execution_count": null,
   "metadata": {},
   "outputs": [],
   "source": []
  },
  {
   "cell_type": "code",
   "execution_count": 92,
   "metadata": {},
   "outputs": [
    {
     "data": {
      "text/plain": [
       "{'1aq1': 'STU',\n",
       " '1b38': 'ATP',\n",
       " '1b39': 'ATP',\n",
       " '1ckp': 'PVB',\n",
       " '1di8': 'DTQ',\n",
       " '1dm2': 'HMD',\n",
       " '1e1v': 'CMG',\n",
       " '1e1x': 'NW1',\n",
       " '1e9h': 'INR',\n",
       " '1fin': 'ATP',\n",
       " '1fq1': 'ATP',\n",
       " '1fvt': '106',\n",
       " '1fvv': '107',\n",
       " '1g5s': 'I17',\n",
       " '1gih': '1PU',\n",
       " '1gii': '1PU',\n",
       " '1gij': '2PU',\n",
       " '1gy3': 'ATP',\n",
       " '1gz8': 'MBP',\n",
       " '1h00': 'FAP',\n",
       " '1h01': 'FAL',\n",
       " '1h07': 'MFP',\n",
       " '1h08': 'BYP',\n",
       " '1h0v': 'UN4',\n",
       " '1h0w': '207',\n",
       " '1h1p': 'CMG',\n",
       " '1h1q': '2A6',\n",
       " '1h1r': '6CP',\n",
       " '1h1s': '4SP',\n",
       " '1hck': 'ATP',\n",
       " '1jst': 'ATP',\n",
       " '1jsv': 'U55',\n",
       " '1ke5': 'LS1',\n",
       " '1ke6': 'LS2',\n",
       " '1ke7': 'LS3',\n",
       " '1ke8': 'LS4',\n",
       " '1ke9': 'LS5',\n",
       " '1ogu': 'ST8',\n",
       " '1oi9': 'N20',\n",
       " '1oiq': 'HDU',\n",
       " '1oir': 'HDY',\n",
       " '1oit': 'HDT',\n",
       " '1oiu': 'N76',\n",
       " '1oiy': 'N41',\n",
       " '1p2a': '5BN',\n",
       " '1p5e': 'TBS',\n",
       " '1pf8': 'SU9',\n",
       " '1pkd': 'UCN',\n",
       " '1pxi': 'CK1',\n",
       " '1pxj': 'CK2',\n",
       " '1pxk': 'CK3',\n",
       " '1pxl': 'CK4',\n",
       " '1pxm': 'CK5',\n",
       " '1pxn': 'CK6',\n",
       " '1pxo': 'CK7',\n",
       " '1pxp': 'CK8',\n",
       " '1pye': 'PM1',\n",
       " '1qmz': 'ATP',\n",
       " '1r78': 'FMD',\n",
       " '1urw': 'I1P',\n",
       " '1v1k': '3FP',\n",
       " '1vyw': '292',\n",
       " '1vyz': 'N5B',\n",
       " '1w0x': 'OLO',\n",
       " '1w8c': 'N69',\n",
       " '1wcc': 'CIG',\n",
       " '1y8y': 'CT7',\n",
       " '1y91': 'CT9',\n",
       " '1ykr': '628',\n",
       " '2a0c': 'CK9',\n",
       " '2a4l': 'RRC',\n",
       " '2b52': 'D42',\n",
       " '2b53': 'D23',\n",
       " '2b54': 'D05',\n",
       " '2b55': 'D31',\n",
       " '2bhe': 'BRY',\n",
       " '2bhh': 'RYU',\n",
       " '2bkz': 'SBC',\n",
       " '2bpm': '529',\n",
       " '2btr': 'U73',\n",
       " '2bts': 'U32',\n",
       " '2c4g': '514',\n",
       " '2c5n': 'CK8',\n",
       " '2c5o': 'CK2',\n",
       " '2c5v': 'CK4',\n",
       " '2c5x': 'MTW',\n",
       " '2c5y': 'MTW',\n",
       " '2c68': 'CT6',\n",
       " '2c69': 'CT8',\n",
       " '2c6i': 'DT1',\n",
       " '2c6k': 'DT2',\n",
       " '2c6l': 'DT4',\n",
       " '2c6m': 'DT5',\n",
       " '2c6o': '4SP',\n",
       " '2c6t': 'DT5',\n",
       " '2cch': 'ATP',\n",
       " '2cci': 'ATP',\n",
       " '2cjm': 'ATP',\n",
       " '2clx': 'F18',\n",
       " '2ds1': '1CD',\n",
       " '2duv': '371',\n",
       " '2exm': 'ZIP',\n",
       " '2fvd': 'LIA',\n",
       " '2g9x': 'NU5',\n",
       " '2i40': 'BLZ',\n",
       " '2iw6': 'QQ2',\n",
       " '2iw8': '4SP',\n",
       " '2iw9': '4SP',\n",
       " '2j9m': 'PY8',\n",
       " '2r3f': 'SC8',\n",
       " '2r3g': 'SC9',\n",
       " '2r3h': 'SCE',\n",
       " '2r3i': 'SCF',\n",
       " '2r3j': 'SCJ',\n",
       " '2r3k': 'SCQ',\n",
       " '2r3l': 'SCW',\n",
       " '2r3m': 'SCX',\n",
       " '2r3n': 'SCZ',\n",
       " '2r3o': '2SC',\n",
       " '2r3p': '3SC',\n",
       " '2r3q': '5SC',\n",
       " '2r3r': '6SC',\n",
       " '2r64': '740',\n",
       " '2uue': 'MTZ',\n",
       " '2uzb': 'C75',\n",
       " '2uzd': 'C85',\n",
       " '2uze': 'C95',\n",
       " '2uzl': 'C94',\n",
       " '2uzn': 'C96',\n",
       " '2uzo': 'C62',\n",
       " '2v0d': 'C53',\n",
       " '2vta': 'LZ1',\n",
       " '2vth': 'LZ2',\n",
       " '2vti': 'LZ3',\n",
       " '2vtj': 'LZ4',\n",
       " '2vtl': 'LZ5',\n",
       " '2vtm': 'LZM',\n",
       " '2vtn': 'LZ7',\n",
       " '2vto': 'LZ8',\n",
       " '2vtp': 'LZ9',\n",
       " '2vtq': 'LZA',\n",
       " '2vtr': 'LZB',\n",
       " '2vts': 'LZC',\n",
       " '2vtt': 'LZD',\n",
       " '2vu3': 'LZE',\n",
       " '2vv9': 'IM9',\n",
       " '2w05': 'FRT',\n",
       " '2w06': 'FRV',\n",
       " '2w17': 'I19',\n",
       " '2w1h': 'L0F',\n",
       " '2wev': 'CK7',\n",
       " '2wih': 'P48',\n",
       " '2wip': 'P49',\n",
       " '2wpa': '889',\n",
       " '2wxv': 'WXV',\n",
       " '2x1n': 'X1N',\n",
       " '2xmy': 'CDK',\n",
       " '2xnb': 'Y8L',\n",
       " '3bht': 'MFR',\n",
       " '3bhu': 'MHR',\n",
       " '3bhv': 'VAR',\n",
       " '3ddp': 'RC8',\n",
       " '3ddq': 'RRC',\n",
       " '3dog': 'NNN',\n",
       " '3eid': 'PO5',\n",
       " '3ej1': '5BP',\n",
       " '3eoc': 'T2A',\n",
       " '3ezr': 'EZR',\n",
       " '3ezv': 'EZV',\n",
       " '3f5x': 'EZV',\n",
       " '3fz1': 'B98',\n",
       " '3ig7': 'EFP',\n",
       " '3igg': 'EFQ',\n",
       " '3le6': '2BZ',\n",
       " '3lfn': 'A27',\n",
       " '3lfq': 'A28',\n",
       " '3lfs': 'A07',\n",
       " '3my5': 'RFZ',\n",
       " '3ns9': 'NS9',\n",
       " '3pj8': '404',\n",
       " '3pxf': '2AN',\n",
       " '3pxq': '2AN',\n",
       " '3pxy': 'JWS',\n",
       " '3pxz': '2AN',\n",
       " '3py0': 'SU9',\n",
       " '3py1': '2AN',\n",
       " '3qhr': 'ADP',\n",
       " '3qhw': 'ADP',\n",
       " '3ql8': 'X01',\n",
       " '3qqf': 'X07',\n",
       " '3qqg': 'X06',\n",
       " '3qqh': 'X0A',\n",
       " '3qqj': 'X11',\n",
       " '3qqk': 'X02',\n",
       " '3qql': 'X03',\n",
       " '3qrt': 'X14',\n",
       " '3qru': 'X19',\n",
       " '3qtq': 'X35',\n",
       " '3qtr': 'X36',\n",
       " '3qts': 'X46',\n",
       " '3qtu': 'X44',\n",
       " '3qtw': 'X3A',\n",
       " '3qtx': 'X43',\n",
       " '3qtz': 'X42',\n",
       " '3qu0': 'X40',\n",
       " '3qwj': 'X6A',\n",
       " '3qwk': 'X62',\n",
       " '3qx2': 'X63',\n",
       " '3qx4': 'X4B',\n",
       " '3qxo': 'X65',\n",
       " '3qxp': 'X64',\n",
       " '3qzf': 'X66',\n",
       " '3qzg': 'X67',\n",
       " '3qzh': 'X69',\n",
       " '3qzi': 'X72',\n",
       " '3r1q': 'X75',\n",
       " '3r1s': 'X73',\n",
       " '3r1y': 'X76',\n",
       " '3r28': 'XA0',\n",
       " '3r6x': 'X84',\n",
       " '3r71': 'X86',\n",
       " '3r73': 'X87',\n",
       " '3r7e': 'X88',\n",
       " '3r7i': 'X9I',\n",
       " '3r7u': 'X96',\n",
       " '3r7v': 'Z02',\n",
       " '3r7y': 'Z04',\n",
       " '3r83': 'Z14',\n",
       " '3r8l': 'Z30',\n",
       " '3r8m': 'Z19',\n",
       " '3r8p': 'Z46',\n",
       " '3r8u': 'Z31',\n",
       " '3r8v': 'Z62',\n",
       " '3r8z': 'Z63',\n",
       " '3r9d': 'X6B',\n",
       " '3r9h': 'Z67',\n",
       " '3r9n': 'Z68',\n",
       " '3r9o': 'Z71',\n",
       " '3rah': 'O1Z',\n",
       " '3rai': 'X85',\n",
       " '3rak': '03Z',\n",
       " '3ral': '04Z',\n",
       " '3rjc': '06Z',\n",
       " '3rk5': '07Z',\n",
       " '3rk7': '08Z',\n",
       " '3rk9': '09Z',\n",
       " '3rkb': '12Z',\n",
       " '3rm6': '18Z',\n",
       " '3rm7': '19Z',\n",
       " '3rmf': '20Z',\n",
       " '3rni': '21Z',\n",
       " '3roy': '22Z',\n",
       " '3rpo': '24Z',\n",
       " '3rpr': '25Z',\n",
       " '3rpv': '26Z',\n",
       " '3rpy': '27Z',\n",
       " '3rzb': '02Z',\n",
       " '3s00': 'Z60',\n",
       " '3s0o': '50Z',\n",
       " '3s1h': '56Z',\n",
       " '3s2p': 'PMU',\n",
       " '3sqq': '99Z',\n",
       " '3sw4': '18K',\n",
       " '3sw7': '19K',\n",
       " '3ti1': 'B49',\n",
       " '3tiy': 'TIY',\n",
       " '3tiz': '3TI',\n",
       " '3tnw': 'F18',\n",
       " '3uli': '1N3',\n",
       " '3unj': '0BX',\n",
       " '3unk': '0BY',\n",
       " '3wbl': 'PDY',\n",
       " '4acm': '7YG',\n",
       " '4bck': 'T3E',\n",
       " '4bcm': 'T7Z',\n",
       " '4bcn': 'T9N',\n",
       " '4bco': 'T6Q',\n",
       " '4bcp': 'T3C',\n",
       " '4bcq': 'TJF',\n",
       " '4bgh': '3I6',\n",
       " '4bzd': 'D6I',\n",
       " '4cfm': '4QE',\n",
       " '4cfn': 'JYM',\n",
       " '4cfu': '2WC',\n",
       " '4cfv': '75X',\n",
       " '4cfw': 'SQ9',\n",
       " '4cfx': 'G6T',\n",
       " '4d1x': 'ESJ',\n",
       " '4d1z': 'WG8',\n",
       " '4ek4': '1CK',\n",
       " '4ek5': '03K',\n",
       " '4ek8': '16K',\n",
       " '4eoi': '1RO',\n",
       " '4eoj': 'ATP',\n",
       " '4eok': '4SP',\n",
       " '4eol': '1RO',\n",
       " '4eom': 'ATP',\n",
       " '4eon': '1RO',\n",
       " '4eoo': 'ATP',\n",
       " '4eop': '1RO',\n",
       " '4eoq': 'ATP',\n",
       " '4eor': '4SP',\n",
       " '4eos': '1RO',\n",
       " '4erw': 'STU',\n",
       " '4ez3': '0S0',\n",
       " '4ez7': 'STU',\n",
       " '4fkg': '4CK',\n",
       " '4fki': '09K',\n",
       " '4fkj': '11K',\n",
       " '4fkl': 'CK2',\n",
       " '4fko': '20K',\n",
       " '4fkp': 'LS5',\n",
       " '4fkq': '42K',\n",
       " '4fkr': '45K',\n",
       " '4fks': '46K',\n",
       " '4fkt': '48K',\n",
       " '4fku': '60K',\n",
       " '4fkv': '61K',\n",
       " '4fkw': '62K',\n",
       " '4fx3': '60K',\n",
       " '4gcj': 'X64',\n",
       " '4i3z': 'ADP',\n",
       " '4ii5': 'ADP',\n",
       " '4kd1': '1QK',\n",
       " '4lyn': '1YG',\n",
       " '4nj3': '2KD',\n",
       " '4rj3': '3QS',\n",
       " '5a14': 'LQ5',\n",
       " '5and': '5JE',\n",
       " '5ane': 'SZL',\n",
       " '5ani': 'ES4',\n",
       " '5anj': 'ZXC',\n",
       " '5ank': 'RJI',\n",
       " '5cyi': '55S',\n",
       " '5d1j': '56H',\n",
       " '5fp5': '1Y6',\n",
       " '5fp6': 'MFZ',\n",
       " '5iev': 'R0N',\n",
       " '5iex': '6AF',\n",
       " '5iey': '6AE',\n",
       " '5jq5': 'I74',\n",
       " '5jq8': 'I73',\n",
       " '5k4j': '6QB',\n",
       " '5l2w': '1QK',\n",
       " '5lmk': '6ZK',\n",
       " '5nev': '72L',\n",
       " '5oo1': '9Z2',\n",
       " '5oo3': '9ZB',\n",
       " '5osm': 'AEQ',\n",
       " '6gub': 'F9Z',\n",
       " '6guc': 'SU9',\n",
       " '6gue': 'FB8',\n",
       " '6guf': '23D',\n",
       " '6guh': 'FB8',\n",
       " '6guk': 'FC8',\n",
       " '6gva': 'FCQ',\n",
       " '6q48': 'HHQ',\n",
       " '6q4c': 'HH8',\n",
       " '6q4d': 'HHT',\n",
       " '6q4e': 'HH5',\n",
       " '6q4f': '26D',\n",
       " '6q4g': 'HJK',\n",
       " '6q4h': 'HGH',\n",
       " '6q4i': 'HGK',\n",
       " '6q4j': 'HHB'}"
      ]
     },
     "execution_count": 92,
     "metadata": {},
     "output_type": "execute_result"
    }
   ],
   "source": [
    "pdb_lig_dic"
   ]
  },
  {
   "cell_type": "markdown",
   "metadata": {},
   "source": [
    "#### Creamos un Dataframe a partir del diccionario\n",
    "En este punto se crea un **Dataframe** que permita vincular cada objeto de rdkir con el nombre de la molécula, el PDB id al que pertenece y al archivo del ligando."
   ]
  },
  {
   "cell_type": "code",
   "execution_count": 5,
   "metadata": {},
   "outputs": [
    {
     "data": {
      "text/html": [
       "<div>\n",
       "<style scoped>\n",
       "    .dataframe tbody tr th:only-of-type {\n",
       "        vertical-align: middle;\n",
       "    }\n",
       "\n",
       "    .dataframe tbody tr th {\n",
       "        vertical-align: top;\n",
       "    }\n",
       "\n",
       "    .dataframe thead th {\n",
       "        text-align: right;\n",
       "    }\n",
       "</style>\n",
       "<table border=\"1\" class=\"dataframe\">\n",
       "  <thead>\n",
       "    <tr style=\"text-align: right;\">\n",
       "      <th></th>\n",
       "      <th>Lig</th>\n",
       "      <th>mol_rdk</th>\n",
       "      <th>file</th>\n",
       "      <th>Labels_conf</th>\n",
       "    </tr>\n",
       "  </thead>\n",
       "  <tbody>\n",
       "    <tr>\n",
       "      <th>1aq1</th>\n",
       "      <td>STU</td>\n",
       "      <td>&lt;rdkit.Chem.rdchem.Mol object at 0x7f33eb154b70&gt;</td>\n",
       "      <td>../ARCHIVOS/CRISTALES/LIGS_CDK2/LIGS_PREP_PDB_...</td>\n",
       "      <td>inact_b</td>\n",
       "    </tr>\n",
       "    <tr>\n",
       "      <th>1b38</th>\n",
       "      <td>ATP</td>\n",
       "      <td>&lt;rdkit.Chem.rdchem.Mol object at 0x7f33eb1549e0&gt;</td>\n",
       "      <td>../ARCHIVOS/CRISTALES/LIGS_CDK2/LIGS_PREP_PDB_...</td>\n",
       "      <td>inact_a</td>\n",
       "    </tr>\n",
       "    <tr>\n",
       "      <th>1b39</th>\n",
       "      <td>ATP</td>\n",
       "      <td>&lt;rdkit.Chem.rdchem.Mol object at 0x7f33eb154f30&gt;</td>\n",
       "      <td>../ARCHIVOS/CRISTALES/LIGS_CDK2/LIGS_PREP_PDB_...</td>\n",
       "      <td>inact_a</td>\n",
       "    </tr>\n",
       "    <tr>\n",
       "      <th>1ckp</th>\n",
       "      <td>PVB</td>\n",
       "      <td>&lt;rdkit.Chem.rdchem.Mol object at 0x7f33eb154e90&gt;</td>\n",
       "      <td>../ARCHIVOS/CRISTALES/LIGS_CDK2/LIGS_PREP_PDB_...</td>\n",
       "      <td>inact_a</td>\n",
       "    </tr>\n",
       "    <tr>\n",
       "      <th>1di8</th>\n",
       "      <td>DTQ</td>\n",
       "      <td>&lt;rdkit.Chem.rdchem.Mol object at 0x7f33eb154f80&gt;</td>\n",
       "      <td>../ARCHIVOS/CRISTALES/LIGS_CDK2/LIGS_PREP_PDB_...</td>\n",
       "      <td>inact_a</td>\n",
       "    </tr>\n",
       "  </tbody>\n",
       "</table>\n",
       "</div>"
      ],
      "text/plain": [
       "      Lig                                           mol_rdk  \\\n",
       "1aq1  STU  <rdkit.Chem.rdchem.Mol object at 0x7f33eb154b70>   \n",
       "1b38  ATP  <rdkit.Chem.rdchem.Mol object at 0x7f33eb1549e0>   \n",
       "1b39  ATP  <rdkit.Chem.rdchem.Mol object at 0x7f33eb154f30>   \n",
       "1ckp  PVB  <rdkit.Chem.rdchem.Mol object at 0x7f33eb154e90>   \n",
       "1di8  DTQ  <rdkit.Chem.rdchem.Mol object at 0x7f33eb154f80>   \n",
       "\n",
       "                                                   file Labels_conf  \n",
       "1aq1  ../ARCHIVOS/CRISTALES/LIGS_CDK2/LIGS_PREP_PDB_...     inact_b  \n",
       "1b38  ../ARCHIVOS/CRISTALES/LIGS_CDK2/LIGS_PREP_PDB_...     inact_a  \n",
       "1b39  ../ARCHIVOS/CRISTALES/LIGS_CDK2/LIGS_PREP_PDB_...     inact_a  \n",
       "1ckp  ../ARCHIVOS/CRISTALES/LIGS_CDK2/LIGS_PREP_PDB_...     inact_a  \n",
       "1di8  ../ARCHIVOS/CRISTALES/LIGS_CDK2/LIGS_PREP_PDB_...     inact_a  "
      ]
     },
     "execution_count": 5,
     "metadata": {},
     "output_type": "execute_result"
    }
   ],
   "source": [
    "# Liasta de PDBIds y sus ligandos\n",
    "df_pdb_ligs = pd.DataFrame.from_dict(pdb_lig_dic, orient='index', columns=[\"Lig\"])\n",
    "# Se añaden las rutas a losarchivos pdb\n",
    "df_pdb_ligs[\"mol_rdk\"] = ligs_cdk2_dic.values()\n",
    "df_pdb_ligs[\"file\"] = files_pose_crys\n",
    "df_pdb_ligs[\"Labels_conf\"] = df_cdk2_labels.loc[pdb_lig_dic.keys()].Labels_conf\n",
    "# Visualizamos parte del dataframe\n",
    "df_pdb_ligs.head(5)"
   ]
  },
  {
   "cell_type": "markdown",
   "metadata": {},
   "source": [
    "### Visualizamos las poses: Ejemplo ATP\n",
    "Como ejemplo podemos hacer una búsqueda para elegir el número de conformaciones que poseen ATP."
   ]
  },
  {
   "cell_type": "code",
   "execution_count": 6,
   "metadata": {},
   "outputs": [
    {
     "name": "stdout",
     "output_type": "stream",
     "text": [
      "Número de estructuras cristalográficas que poseen ATP: 15\n"
     ]
    }
   ],
   "source": [
    "print(F'Número de estructuras cristalográficas que poseen ATP: {len(df_pdb_ligs[df_pdb_ligs.Lig == \"ATP\"])}')"
   ]
  },
  {
   "cell_type": "markdown",
   "metadata": {},
   "source": [
    "Importamos **nglview**, y para este ejemplo usamos los archivos *pdb* de los ligandos, aunque también es posible realizar la vizualización desde los objetos de rdkit. Pra este ejemplo seleccionamos las conformaciones de ATP en estructuras inactivas de CDK2."
   ]
  },
  {
   "cell_type": "code",
   "execution_count": 7,
   "metadata": {},
   "outputs": [
    {
     "data": {
      "application/vnd.jupyter.widget-view+json": {
       "model_id": "89cdce9e67b14552b1e4f90db6771f7a",
       "version_major": 2,
       "version_minor": 0
      },
      "text/plain": [
       "_ColormakerRegistry()"
      ]
     },
     "metadata": {},
     "output_type": "display_data"
    },
    {
     "data": {
      "application/vnd.jupyter.widget-view+json": {
       "model_id": "f1f7aab3ca864c7a9b5d2c452071d2fe",
       "version_major": 2,
       "version_minor": 0
      },
      "text/plain": [
       "NGLWidget(background='#333333')"
      ]
     },
     "metadata": {},
     "output_type": "display_data"
    }
   ],
   "source": [
    "import nglview\n",
    "view = nglview.NGLWidget()\n",
    "view.background = '#333333'\n",
    "# Creamos una lista de moléculas a visualizar\n",
    "list_viz = df_pdb_ligs.file[df_pdb_ligs.Lig == \"ATP\"][df_pdb_ligs.Labels_conf == \"inact_a\"]\n",
    "# Leemos los archivos usando pytraj y los visualizamos con nglview\n",
    "for lig in list_viz:\n",
    "    stc_lig = pyt.load(lig)\n",
    "    view.add_trajectory(stc_lig)\n",
    "view"
   ]
  },
  {
   "cell_type": "markdown",
   "metadata": {},
   "source": [
    "***\n",
    "### Calculamos los descriptores WHIM para las moléculas\n",
    "Creamos una **matriz donde cada fila corresponde a una molécula y las 114 características corresponden a las 114 propiedades** que calcula *rdkit*, las cuales son las mismas que calcula el software *Dragon*."
   ]
  },
  {
   "cell_type": "code",
   "execution_count": 8,
   "metadata": {},
   "outputs": [],
   "source": [
    "n_moleculas = len(df_pdb_ligs.index)\n",
    "whim_array = np.empty((n_moleculas, 114))\n",
    "\n",
    "for i, mol in enumerate(df_pdb_ligs.mol_rdk):\n",
    "    whim_mol = Chem.rdMolDescriptors.CalcWHIM(mol)\n",
    "    whim_array[i] = whim_mol"
   ]
  },
  {
   "cell_type": "markdown",
   "metadata": {},
   "source": [
    "Esta  es las lista de descriptores que calcula *rdkit*."
   ]
  },
  {
   "cell_type": "code",
   "execution_count": 9,
   "metadata": {},
   "outputs": [],
   "source": [
    "whim_axial = [\"L1u\", \"L2u\", \"L3u\", \"P1u\", \"P2u\", \"G1u\", \"G2u\", \"G3u\", \"E1u\", \"E2u\", \"E3u\", \n",
    "               \"L1m\", \"L2m\", \"L3m\", \"P1m\", \"P2m\", \"G1m\", \"G2m\", \"G3m\", \"E1m\", \"E2m\", \"E3m\", \n",
    "               \"L1v\", \"L2v\", \"L3v\", \"P1v\", \"P2v\", \"G1v\", \"G2v\", \"G3v\", \"E1v\", \"E2v\", \"E3v\", \n",
    "               \"L1e\", \"L2e\", \"L3e\", \"P1e\", \"P2e\", \"G1e\", \"G2e\", \"G3e\", \"E1e\", \"E2e\", \"E3e\", \n",
    "               \"L1p\", \"L2p\", \"L3p\", \"P1p\", \"P2p\", \"G1p\", \"G2p\", \"G3p\", \"E1p\", \"E2p\", \"E3p\", \n",
    "               \"L1i\", \"L2i\", \"L3i\", \"P1i\", \"P2i\", \"G1i\", \"G2i\", \"G3i\", \"E1i\", \"E2i\", \"E3i\", \n",
    "               \"L1s\", \"L2s\", \"L3s\", \"P1s\", \"P2s\", \"G1s\", \"G2s\", \"G3s\", \"E1s\", \"E2s\", \"E3s\"]\n",
    "whim_global = [\"Tu\", \"Tm\", \"Tv\", \"Te\", \"Tp\", \"Ti\", \"Ts\", \n",
    "               \"Au\", \"Am\", \"Av\", \"Ae\", \"Ap\", \"Ai\", \"As\", \n",
    "               \"Gu\", \"Gm\", \n",
    "               \"Ku\", \"Km\", \"Kv\", \"Ke\", \"Kp\", \"Ki\", \"Ks\", \n",
    "               \"Du\", \"Dm\", \"Dv\", \"De\", \"Dp\", \"Di\", \"Ds\", \n",
    "               \"Vu\", \"Vm\", \"Vv\", \"Ve\", \"Vp\", \"Vi\", \"Vs\"]"
   ]
  },
  {
   "cell_type": "markdown",
   "metadata": {},
   "source": [
    "#### Creamos el DataFrame con las 365 moléculas y los 114 desciptores"
   ]
  },
  {
   "cell_type": "code",
   "execution_count": 10,
   "metadata": {},
   "outputs": [],
   "source": [
    "df_whim = pd.DataFrame(whim_array, index = df_pdb_ligs.index)\n",
    "df_whim.columns = whim_axial + whim_global"
   ]
  },
  {
   "cell_type": "markdown",
   "metadata": {},
   "source": [
    "Visualizamos la matriz de correlación de los descriptores. Como puede observarse hay patrones de correlación entre los descriptores que se diferencian únicamente por los esquemas de peso usados."
   ]
  },
  {
   "cell_type": "code",
   "execution_count": 11,
   "metadata": {},
   "outputs": [
    {
     "data": {
      "image/png": "[encoded data removed]",
      "text/plain": [
       "<Figure size 648x504 with 2 Axes>"
      ]
     },
     "metadata": {
      "needs_background": "light"
     },
     "output_type": "display_data"
    }
   ],
   "source": [
    "%matplotlib inline\n",
    "\n",
    "fig = plt.figure(figsize=(9, 7))\n",
    "plt.rcParams.update({'font.size': 15})\n",
    "plt.imshow( df_whim.corr(), cmap='BrBG')\n",
    "plt.colorbar();"
   ]
  },
  {
   "cell_type": "markdown",
   "metadata": {},
   "source": [
    "***\n",
    "### Selección de características\n",
    "Importamos las librerías de **sklearn** que vamos a utilizar para hacer la selección de los descriptores finales."
   ]
  },
  {
   "cell_type": "code",
   "execution_count": 12,
   "metadata": {},
   "outputs": [],
   "source": [
    "from sklearn.feature_selection import VarianceThreshold\n",
    "from sklearn.preprocessing import StandardScaler"
   ]
  },
  {
   "cell_type": "code",
   "execution_count": 13,
   "metadata": {},
   "outputs": [],
   "source": [
    "#Estandarizamos\n",
    "if False:\n",
    "    scaler = StandardScaler()\n",
    "    df_whim[df_whim.columns] = scaler.fit_transform(df_whim[df_whim.columns])"
   ]
  },
  {
   "cell_type": "markdown",
   "metadata": {},
   "source": [
    "- **Eliminando características constantes o poco variables.**"
   ]
  },
  {
   "cell_type": "code",
   "execution_count": 35,
   "metadata": {},
   "outputs": [
    {
     "name": "stdout",
     "output_type": "stream",
     "text": [
      "Número de características a conservar: 98\n",
      "Su varianza es mayor a 0.001.\n"
     ]
    }
   ],
   "source": [
    "#Eliminando características constantes\n",
    "umbral_var = 0.001\n",
    "constant_filter = VarianceThreshold(threshold = umbral_var)\n",
    "constant_filter.fit( df_whim )\n",
    "non_const_columns = df_whim.columns[constant_filter.get_support()]\n",
    "\n",
    "print(F'Número de características a conservar: {len(non_const_columns)}\\nSu varianza es mayor a {umbral_var}.')"
   ]
  },
  {
   "cell_type": "code",
   "execution_count": 36,
   "metadata": {},
   "outputs": [
    {
     "data": {
      "text/html": [
       "<div>\n",
       "<style scoped>\n",
       "    .dataframe tbody tr th:only-of-type {\n",
       "        vertical-align: middle;\n",
       "    }\n",
       "\n",
       "    .dataframe tbody tr th {\n",
       "        vertical-align: top;\n",
       "    }\n",
       "\n",
       "    .dataframe thead th {\n",
       "        text-align: right;\n",
       "    }\n",
       "</style>\n",
       "<table border=\"1\" class=\"dataframe\">\n",
       "  <thead>\n",
       "    <tr style=\"text-align: right;\">\n",
       "      <th></th>\n",
       "      <th>L1u</th>\n",
       "      <th>L2u</th>\n",
       "      <th>L3u</th>\n",
       "      <th>P1u</th>\n",
       "      <th>P2u</th>\n",
       "      <th>G3u</th>\n",
       "      <th>E1u</th>\n",
       "      <th>E2u</th>\n",
       "      <th>E3u</th>\n",
       "      <th>L1m</th>\n",
       "      <th>...</th>\n",
       "      <th>Dp</th>\n",
       "      <th>Di</th>\n",
       "      <th>Ds</th>\n",
       "      <th>Vu</th>\n",
       "      <th>Vm</th>\n",
       "      <th>Vv</th>\n",
       "      <th>Ve</th>\n",
       "      <th>Vp</th>\n",
       "      <th>Vi</th>\n",
       "      <th>Vs</th>\n",
       "    </tr>\n",
       "  </thead>\n",
       "  <tbody>\n",
       "    <tr>\n",
       "      <th>1aq1</th>\n",
       "      <td>7.055</td>\n",
       "      <td>6.592</td>\n",
       "      <td>0.574</td>\n",
       "      <td>0.496</td>\n",
       "      <td>0.464</td>\n",
       "      <td>0.165</td>\n",
       "      <td>0.560</td>\n",
       "      <td>0.509</td>\n",
       "      <td>0.220</td>\n",
       "      <td>7.143</td>\n",
       "      <td>...</td>\n",
       "      <td>0.312</td>\n",
       "      <td>0.387</td>\n",
       "      <td>0.335</td>\n",
       "      <td>95.243</td>\n",
       "      <td>96.377</td>\n",
       "      <td>93.868</td>\n",
       "      <td>96.361</td>\n",
       "      <td>92.425</td>\n",
       "      <td>96.050</td>\n",
       "      <td>83.125</td>\n",
       "    </tr>\n",
       "    <tr>\n",
       "      <th>1b38</th>\n",
       "      <td>14.627</td>\n",
       "      <td>3.017</td>\n",
       "      <td>1.072</td>\n",
       "      <td>0.782</td>\n",
       "      <td>0.161</td>\n",
       "      <td>0.168</td>\n",
       "      <td>0.537</td>\n",
       "      <td>0.444</td>\n",
       "      <td>0.306</td>\n",
       "      <td>15.008</td>\n",
       "      <td>...</td>\n",
       "      <td>0.359</td>\n",
       "      <td>0.447</td>\n",
       "      <td>0.345</td>\n",
       "      <td>129.040</td>\n",
       "      <td>128.184</td>\n",
       "      <td>119.394</td>\n",
       "      <td>136.450</td>\n",
       "      <td>105.957</td>\n",
       "      <td>134.649</td>\n",
       "      <td>97.375</td>\n",
       "    </tr>\n",
       "    <tr>\n",
       "      <th>1b39</th>\n",
       "      <td>15.143</td>\n",
       "      <td>2.971</td>\n",
       "      <td>1.157</td>\n",
       "      <td>0.786</td>\n",
       "      <td>0.154</td>\n",
       "      <td>0.168</td>\n",
       "      <td>0.540</td>\n",
       "      <td>0.430</td>\n",
       "      <td>0.307</td>\n",
       "      <td>15.540</td>\n",
       "      <td>...</td>\n",
       "      <td>0.357</td>\n",
       "      <td>0.443</td>\n",
       "      <td>0.341</td>\n",
       "      <td>137.255</td>\n",
       "      <td>136.863</td>\n",
       "      <td>126.726</td>\n",
       "      <td>145.415</td>\n",
       "      <td>112.378</td>\n",
       "      <td>143.401</td>\n",
       "      <td>101.990</td>\n",
       "    </tr>\n",
       "    <tr>\n",
       "      <th>1ckp</th>\n",
       "      <td>9.851</td>\n",
       "      <td>1.338</td>\n",
       "      <td>0.323</td>\n",
       "      <td>0.856</td>\n",
       "      <td>0.116</td>\n",
       "      <td>0.193</td>\n",
       "      <td>0.581</td>\n",
       "      <td>0.507</td>\n",
       "      <td>0.451</td>\n",
       "      <td>10.938</td>\n",
       "      <td>...</td>\n",
       "      <td>0.590</td>\n",
       "      <td>0.502</td>\n",
       "      <td>0.418</td>\n",
       "      <td>32.549</td>\n",
       "      <td>40.035</td>\n",
       "      <td>33.804</td>\n",
       "      <td>33.414</td>\n",
       "      <td>35.072</td>\n",
       "      <td>32.473</td>\n",
       "      <td>29.241</td>\n",
       "    </tr>\n",
       "    <tr>\n",
       "      <th>1di8</th>\n",
       "      <td>13.308</td>\n",
       "      <td>3.023</td>\n",
       "      <td>0.010</td>\n",
       "      <td>0.814</td>\n",
       "      <td>0.185</td>\n",
       "      <td>0.186</td>\n",
       "      <td>0.536</td>\n",
       "      <td>0.379</td>\n",
       "      <td>0.298</td>\n",
       "      <td>13.525</td>\n",
       "      <td>...</td>\n",
       "      <td>0.343</td>\n",
       "      <td>0.417</td>\n",
       "      <td>0.338</td>\n",
       "      <td>57.162</td>\n",
       "      <td>59.616</td>\n",
       "      <td>55.138</td>\n",
       "      <td>59.596</td>\n",
       "      <td>52.744</td>\n",
       "      <td>58.066</td>\n",
       "      <td>47.071</td>\n",
       "    </tr>\n",
       "  </tbody>\n",
       "</table>\n",
       "<p>5 rows × 98 columns</p>\n",
       "</div>"
      ],
      "text/plain": [
       "         L1u    L2u    L3u    P1u    P2u    G3u    E1u    E2u    E3u     L1m  \\\n",
       "1aq1   7.055  6.592  0.574  0.496  0.464  0.165  0.560  0.509  0.220   7.143   \n",
       "1b38  14.627  3.017  1.072  0.782  0.161  0.168  0.537  0.444  0.306  15.008   \n",
       "1b39  15.143  2.971  1.157  0.786  0.154  0.168  0.540  0.430  0.307  15.540   \n",
       "1ckp   9.851  1.338  0.323  0.856  0.116  0.193  0.581  0.507  0.451  10.938   \n",
       "1di8  13.308  3.023  0.010  0.814  0.185  0.186  0.536  0.379  0.298  13.525   \n",
       "\n",
       "      ...     Dp     Di     Ds       Vu       Vm       Vv       Ve       Vp  \\\n",
       "1aq1  ...  0.312  0.387  0.335   95.243   96.377   93.868   96.361   92.425   \n",
       "1b38  ...  0.359  0.447  0.345  129.040  128.184  119.394  136.450  105.957   \n",
       "1b39  ...  0.357  0.443  0.341  137.255  136.863  126.726  145.415  112.378   \n",
       "1ckp  ...  0.590  0.502  0.418   32.549   40.035   33.804   33.414   35.072   \n",
       "1di8  ...  0.343  0.417  0.338   57.162   59.616   55.138   59.596   52.744   \n",
       "\n",
       "           Vi       Vs  \n",
       "1aq1   96.050   83.125  \n",
       "1b38  134.649   97.375  \n",
       "1b39  143.401  101.990  \n",
       "1ckp   32.473   29.241  \n",
       "1di8   58.066   47.071  \n",
       "\n",
       "[5 rows x 98 columns]"
      ]
     },
     "execution_count": 36,
     "metadata": {},
     "output_type": "execute_result"
    }
   ],
   "source": [
    "df_whim_no_const = df_whim[non_const_columns]\n",
    "df_whim_no_const.head(5)"
   ]
  },
  {
   "cell_type": "code",
   "execution_count": 37,
   "metadata": {},
   "outputs": [
    {
     "data": {
      "text/plain": [
       "0"
      ]
     },
     "execution_count": 37,
     "metadata": {},
     "output_type": "execute_result"
    }
   ],
   "source": [
    "# Removiendo caracteristicas duplicadas\n",
    "# Verificamos si hay columnas identicas\n",
    "df_whim_no_const.T.duplicated().sum()"
   ]
  },
  {
   "cell_type": "code",
   "execution_count": 51,
   "metadata": {},
   "outputs": [
    {
     "data": {
      "text/plain": [
       "85"
      ]
     },
     "execution_count": 51,
     "metadata": {},
     "output_type": "execute_result"
    }
   ],
   "source": [
    "# Eliminando características correlacioneadas\n",
    "correlated_features = set()\n",
    "corr_mat_whim = df_whim_no_const.corr()\n",
    "\n",
    "for row in range(len(corr_mat_whim)):\n",
    "    for col in range(row):\n",
    "        if abs(corr_mat_whim.iloc[row, col]) > 0.7:\n",
    "            colname = corr_mat_whim.columns[row]\n",
    "            correlated_features.add(colname)\n",
    "len(correlated_features)"
   ]
  },
  {
   "cell_type": "code",
   "execution_count": 52,
   "metadata": {},
   "outputs": [],
   "source": [
    "#correlated_features"
   ]
  },
  {
   "cell_type": "code",
   "execution_count": 53,
   "metadata": {},
   "outputs": [],
   "source": [
    "# Eliminamos las características con mayor correlación\n",
    "df_whim_final = df_whim_no_const.drop(labels=correlated_features, axis=1)"
   ]
  },
  {
   "cell_type": "code",
   "execution_count": 54,
   "metadata": {},
   "outputs": [
    {
     "data": {
      "text/plain": [
       "Index(['L1u', 'L2u', 'L3u', 'G3u', 'E1u', 'E2u', 'E3u', 'E1m', 'E2m', 'E1s',\n",
       "       'E2s', 'E3s', 'Ds'],\n",
       "      dtype='object')"
      ]
     },
     "execution_count": 54,
     "metadata": {},
     "output_type": "execute_result"
    }
   ],
   "source": [
    "df_whim_final.columns"
   ]
  },
  {
   "cell_type": "code",
   "execution_count": 55,
   "metadata": {},
   "outputs": [
    {
     "data": {
      "image/png": "[encoded data removed]",
      "text/plain": [
       "<Figure size 648x504 with 2 Axes>"
      ]
     },
     "metadata": {
      "needs_background": "light"
     },
     "output_type": "display_data"
    }
   ],
   "source": [
    "%matplotlib inline\n",
    "# visualizamos la matriz D\n",
    "fig = plt.figure(figsize=(9, 7))\n",
    "plt.rcParams.update({'font.size': 15})\n",
    "plt.imshow(df_whim_final.corr(), cmap='BrBG')\n",
    "plt.colorbar();"
   ]
  },
  {
   "cell_type": "markdown",
   "metadata": {},
   "source": [
    "#### Análisis de Componentes Principales"
   ]
  },
  {
   "cell_type": "code",
   "execution_count": null,
   "metadata": {},
   "outputs": [],
   "source": []
  },
  {
   "cell_type": "code",
   "execution_count": 56,
   "metadata": {},
   "outputs": [],
   "source": [
    "from sklearn.decomposition import PCA\n",
    "from modulos.plotting_functions import plot_mds_or_pca, plot_anotation_labels\n",
    "\n",
    "pca_whim = PCA(copy=True, n_components= 2).fit_transform( df_whim_final )"
   ]
  },
  {
   "cell_type": "code",
   "execution_count": null,
   "metadata": {},
   "outputs": [],
   "source": []
  },
  {
   "cell_type": "code",
   "execution_count": 57,
   "metadata": {},
   "outputs": [
    {
     "data": {
      "text/plain": [
       "365"
      ]
     },
     "execution_count": 57,
     "metadata": {},
     "output_type": "execute_result"
    }
   ],
   "source": [
    "ligand_labels = [\"red\" if i else \"none\" for i in df_pdb_ligs.Lig == \"ATP\"]\n",
    "len(ligand_labels)"
   ]
  },
  {
   "cell_type": "code",
   "execution_count": 58,
   "metadata": {},
   "outputs": [
    {
     "data": {
      "image/png": "[encoded data removed]",
      "text/plain": [
       "<Figure size 648x648 with 1 Axes>"
      ]
     },
     "metadata": {
      "needs_background": "light"
     },
     "output_type": "display_data"
    }
   ],
   "source": [
    "label_ATP = [\"red\" if i else \"none\" for i in df_pdb_ligs.Lig == \"ATP\"]\n",
    "label_ADP = [\"orange\" if i else \"none\" for i in df_pdb_ligs.Lig == \"ADP\"]\n",
    "label_STU = [\"magenta\" if i else \"none\" for i in df_pdb_ligs.index == \"5a14\"]\n",
    "\n",
    "lista_csar = [\"4ek4\", \"4ek5\", \"4fkg\", \"4fki\", \"4ek6\", \"4fjk\", \"4fkl\", \"4ek8\", \"3sw4\", \"3sw7\", \n",
    "              \"4fko\", \"4fkp\", \"4fkq\", \"4fkr\", \"4fks\", \"4fkt\", \"4fku\", \"4fkv\", \"4fkw\"]\n",
    "#lista_csar = [\"4fku\", \"4fkw\"]\n",
    "label_csar = [\"cyan\" if i in lista_csar else \"none\" for i in df_pdb_ligs.index]\n",
    "\n",
    "fig = plt.figure(figsize=(9, 9))\n",
    "#plot_mds_or_pca(mds = pca_whim.T, alpha = 0.8, colors_list=ligand_labels, general_font_size= 20)\n",
    "plt.scatter(pca_whim.T[0], pca_whim.T[1])\n",
    "plt.scatter(pca_whim.T[0], pca_whim.T[1], color=label_ATP)\n",
    "plt.scatter(pca_whim.T[0], pca_whim.T[1], color=label_csar)\n",
    "plt.scatter(pca_whim.T[0], pca_whim.T[1], color=label_ADP)\n",
    "plt.scatter(pca_whim.T[0], pca_whim.T[1], color=label_STU);\n"
   ]
  },
  {
   "cell_type": "code",
   "execution_count": 63,
   "metadata": {},
   "outputs": [],
   "source": [
    "from sklearn.manifold import LocallyLinearEmbedding\n",
    "lle = LocallyLinearEmbedding(n_components= 2, n_neighbors=10).fit_transform( df_whim_final )"
   ]
  },
  {
   "cell_type": "code",
   "execution_count": 64,
   "metadata": {},
   "outputs": [
    {
     "data": {
      "image/png": "[encoded data removed]",
      "text/plain": [
       "<Figure size 648x648 with 1 Axes>"
      ]
     },
     "metadata": {
      "needs_background": "light"
     },
     "output_type": "display_data"
    }
   ],
   "source": [
    "fig = plt.figure(figsize=(9, 9))\n",
    "#plot_mds_or_pca(mds = pca_whim.T, alpha = 0.8, colors_list=ligand_labels, general_font_size= 20)\n",
    "plt.scatter(lle[:,0], lle[:,1])\n",
    "plt.scatter(lle[:,0], lle[:,1], color=label_ATP)\n",
    "plt.scatter(lle[:,0], lle[:,1], color=label_ADP)\n",
    "plt.scatter(lle[:,0], lle[:,1], color=label_csar)\n",
    "plt.scatter(lle[:,0], lle[:,1], color=label_STU);\n"
   ]
  },
  {
   "cell_type": "code",
   "execution_count": null,
   "metadata": {},
   "outputs": [],
   "source": []
  },
  {
   "cell_type": "code",
   "execution_count": 95,
   "metadata": {},
   "outputs": [],
   "source": [
    "from scipy.spatial import distance_matrix\n",
    "from sklearn.preprocessing import StandardScaler\n",
    "scaler = StandardScaler()\n",
    "whim_final = scaler.fit_transform(df_whim_final)\n",
    "D = distance_matrix(whim_final, whim_final)"
   ]
  },
  {
   "cell_type": "code",
   "execution_count": 96,
   "metadata": {},
   "outputs": [],
   "source": [
    "from scipy.spatial.distance import euclidean\n",
    "import scipy\n",
    "\n",
    "from sklearn.preprocessing import StandardScaler\n",
    "scaler = StandardScaler()\n",
    "whim_final = scaler.fit_transform(df_whim_final)\n",
    "\n",
    "leng = whim_final.shape[0]\n",
    "D = scipy.zeros([leng,leng])\n",
    "for i in range(leng):\n",
    "    for j in range(leng):\n",
    "        D[i,j] = euclidean(whim_final[i], whim_final[j])"
   ]
  },
  {
   "cell_type": "code",
   "execution_count": 97,
   "metadata": {},
   "outputs": [
    {
     "data": {
      "text/plain": [
       "(365, 365)"
      ]
     },
     "execution_count": 97,
     "metadata": {},
     "output_type": "execute_result"
    }
   ],
   "source": [
    "D.shape"
   ]
  },
  {
   "cell_type": "code",
   "execution_count": 98,
   "metadata": {},
   "outputs": [],
   "source": [
    "from modulos.MDS import cMDS\n",
    "mds = cMDS(D)"
   ]
  },
  {
   "cell_type": "code",
   "execution_count": 99,
   "metadata": {},
   "outputs": [
    {
     "data": {
      "text/plain": [
       "<matplotlib.collections.PathCollection at 0x7f75c9c502e8>"
      ]
     },
     "execution_count": 99,
     "metadata": {},
     "output_type": "execute_result"
    },
    {
     "data": {
      "image/png": "[encoded data removed]",
      "text/plain": [
       "<Figure size 648x648 with 1 Axes>"
      ]
     },
     "metadata": {
      "needs_background": "light"
     },
     "output_type": "display_data"
    }
   ],
   "source": [
    "fig = plt.figure(figsize=(9, 9))\n",
    "plt.scatter(mds[0][0], mds[0][1])\n",
    "plt.scatter(mds[0][0], mds[0][1], color=label_ATP)\n",
    "plt.scatter(mds[0][0], mds[0][1], color=label_ADP)\n",
    "plt.scatter(mds[0][0], mds[0][1], color=label_STU)"
   ]
  },
  {
   "cell_type": "code",
   "execution_count": null,
   "metadata": {},
   "outputs": [],
   "source": []
  }
 ],
 "metadata": {
  "kernelspec": {
   "display_name": "Python 3",
   "language": "python",
   "name": "python3"
  },
  "language_info": {
   "codemirror_mode": {
    "name": "ipython",
    "version": 3
   },
   "file_extension": ".py",
   "mimetype": "text/x-python",
   "name": "python",
   "nbconvert_exporter": "python",
   "pygments_lexer": "ipython3",
   "version": "3.7.4"
  }
 },
 "nbformat": 4,
 "nbformat_minor": 2
}
