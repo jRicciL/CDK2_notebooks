{
 "cells": [
  {
   "cell_type": "markdown",
   "metadata": {},
   "source": [
    "# Análisis de los descriptores WHIM"
   ]
  },
  {
   "cell_type": "code",
   "execution_count": 1,
   "metadata": {},
   "outputs": [],
   "source": [
    "# pendiente calcular descriptores de csar en diferetes conformacioens"
   ]
  },
  {
   "cell_type": "code",
   "execution_count": 2,
   "metadata": {},
   "outputs": [],
   "source": [
    "import numpy as np\n",
    "import pandas as pd\n",
    "import pytraj as pyt\n",
    "import glob, os"
   ]
  },
  {
   "cell_type": "code",
   "execution_count": 3,
   "metadata": {},
   "outputs": [
    {
     "name": "stderr",
     "output_type": "stream",
     "text": [
      "RDKit WARNING: [19:57:20] Enabling RDKit 2019.09.1 jupyter extensions\n"
     ]
    }
   ],
   "source": [
    "from __future__ import print_function\n",
    "from rdkit import Chem\n",
    "from rdkit.Chem import AllChem"
   ]
  },
  {
   "cell_type": "markdown",
   "metadata": {},
   "source": [
    "### Se carga la tabla de datos de la CDK2\n",
    "**Se lee la tabla de datos de las conformaciones con la información de los ligandos y las etiquetas según el tipo de conformación (activa/inactiva) de la protreína.** "
   ]
  },
  {
   "cell_type": "code",
   "execution_count": 477,
   "metadata": {},
   "outputs": [],
   "source": [
    "# Nombre de la proteina de interes\n",
    "prot_name = 'cdk2'\n",
    "path_to_json_file = glob.glob((os.path.join('.', 'data', \n",
    "                        F'TABLA_MTDATA_{prot_name.upper()}_*_crys_LIGS_INFO_LABELS_AUC_docking_DUD.json')))[0]\n",
    "df_cdk2_labels = pd.read_json(path_to_json_file)"
   ]
  },
  {
   "cell_type": "markdown",
   "metadata": {},
   "source": [
    "Antes de cargar las moléculas, **debemos convertirlas a un formato que sea correctamente leído con _rdkit_**.\n",
    "\n",
    "```bash\n",
    "cd \"../ARCHIVOS/CRISTALES/LIGS_CDK2/LIGS_PREP_PDB_REDUCED\"\n",
    "for mol in `ls`\n",
    "do \n",
    "    name=${mol%.*}\n",
    "    obabel -ipdb $mol -osdf -O ${name}_no_inizado.sdf\n",
    "    obabel -ipdb $mol -osdf -O ${name}_p7.sdf -p 7.4 # Añade Hs a ph fisiológico\n",
    "done\n",
    "```\n",
    "\n",
    "Ahora, movemos los archivos a la carpeta correspondiente.\n",
    "\n",
    "```bash\n",
    "cd ../ARCHIVOS/CRISTALES/LIGS_CDK2\n",
    "mkdir LIGS_PREP_SDF_REDUCED\n",
    "mv ./LIGS_PREP_PDB_REDUCED/*sdf ./LIGS_PREP_SDF_REDUCED/\n",
    "```"
   ]
  },
  {
   "cell_type": "code",
   "execution_count": null,
   "metadata": {},
   "outputs": [],
   "source": [
    "# los archivos sdf pueden venir direactamente del pdb en crudo, para lo cual se usa el parámetro -p\n",
    "# o directamente del archivo mol2 generado con chimera, los cuales ya tienen los estados de protonación elegidos,\n",
    "# por lo tanto no es necesario el parámetro -p"
   ]
  },
  {
   "cell_type": "code",
   "execution_count": null,
   "metadata": {},
   "outputs": [],
   "source": [
    "# El proceso será, \n",
    "# borrar los Hs del pdb, conservar ese archivo\n",
    "# agregar hidrogenos con Chimera, y guardar como mol2, y guardar esos archivos"
   ]
  },
  {
   "cell_type": "code",
   "execution_count": null,
   "metadata": {},
   "outputs": [],
   "source": [
    "%%bash\n",
    "cd \"../ARCHIVOS/CRISTALES/LIGS_CDK2/IN_POCKET_NON_PREP\"\n",
    "for mol in `ls *pdb`\n",
    "do \n",
    "    name=${mol%.*}\n",
    "    # directamente desde el archivo pdb sin Hs\n",
    "    obabel -ipdb $mol -osdf -O ${name}_from_pdb.sdf -p 7.4 # Añade Hs a ph fisiológico\n",
    "done\n",
    "\n",
    "mv *sdf ../LIGS_POSES_SDF/\n",
    "\n",
    "cd \"../LIGS_PREP_IN_POCKET\"\n",
    "for mol in `ls *mol2`\n",
    "do \n",
    "    name=${mol%.*}\n",
    "    # directamente desde el archivo mol2 generado con chimera y sin el parámetro -p\n",
    "    obabel -imol2 $mol -osdf -O ${name}_from_mol2.sdf\n",
    "done\n",
    "\n",
    "mv *sdf ../LIGS_POSES_SDF/"
   ]
  },
  {
   "cell_type": "markdown",
   "metadata": {},
   "source": [
    "## Ligandos cocristalizados\n",
    "### Las moléculas son cargadas en formato SDF\n",
    "**Se genera lista con los _paths_ de los archivos cocristalizados.** Los archivos *pdb* leidos fueron generados usando el programa **Reduce** de AmberTools."
   ]
  },
  {
   "cell_type": "code",
   "execution_count": 5,
   "metadata": {},
   "outputs": [
    {
     "name": "stdout",
     "output_type": "stream",
     "text": [
      "Número de archivos de ligandos a cargar: 365\n"
     ]
    }
   ],
   "source": [
    "path_crys_poses = \"../ARCHIVOS/CRISTALES/LIGS_CDK2/LIGS_PREP_SDF_REDUCED/\"\n",
    "files_pose_crys = sorted( glob.glob(path_crys_poses + \"*_p7.sdf\") )\n",
    "# El número de ligandos a evaluar\n",
    "print(F'Número de archivos de ligandos a cargar: {len(files_pose_crys)}')"
   ]
  },
  {
   "cell_type": "markdown",
   "metadata": {},
   "source": [
    "### Cargamos las moléculas con *rdkit*\n",
    "Usamos el módulo **Chem.SDMolSupplier** de redkit para cargar cada uno de los ligandos cocristalizados con la proteína. Para ello se crea un diccionario con los objetos correspondientes a cada molécula.\n",
    "\n",
    "\n",
    "<div class='alert alert-danger'><h4>Sanitización:</h4> Las moléculas son cargadas por defecto con el parámetro de 'Sanitización' activo, no obstante, si no pueden ser leidas así, serán cargadas sin sanitizar, esperando que el formato de SDF, generado con OpenBabel, sea el correcto.\n",
    "\n",
    "Más sobre el proceso de sanitización:</div>"
   ]
  },
  {
   "cell_type": "code",
   "execution_count": 7,
   "metadata": {},
   "outputs": [],
   "source": [
    "# Cargamos los ids y nombre de los ligandos ordenados en una lista\n",
    "pdbId_lig_dic = {file.split(\"/\")[-1].split(\"_\")[0]: file.split(\"/\")[-1].split(\"_\")[1] \n",
    "               for file in files_pose_crys}"
   ]
  },
  {
   "cell_type": "code",
   "execution_count": 62,
   "metadata": {},
   "outputs": [
    {
     "name": "stderr",
     "output_type": "stream",
     "text": [
      "RDKit ERROR: [20:09:09] ERROR: Explicit valence for atom # 9 C greater than permitted\n",
      "RDKit ERROR: [20:09:17] Explicit valence for atom # 18 C greater than permitted\n",
      "RDKit ERROR: [20:09:17] ERROR: Could not sanitize molecule ending on line 66\n",
      "RDKit ERROR: [20:09:17] ERROR: Explicit valence for atom # 18 C greater than permitted\n",
      "RDKit ERROR: [20:09:17] Explicit valence for atom # 0 N, 4, is greater than permitted\n",
      "RDKit ERROR: [20:09:17] ERROR: Could not sanitize molecule ending on line 79\n",
      "RDKit ERROR: [20:09:17] ERROR: Explicit valence for atom # 0 N, 4, is greater than permitted\n",
      "RDKit ERROR: [20:09:17] Explicit valence for atom # 0 N, 4, is greater than permitted\n",
      "RDKit ERROR: [20:09:17] ERROR: Could not sanitize molecule ending on line 79\n",
      "RDKit ERROR: [20:09:17] ERROR: Explicit valence for atom # 0 N, 4, is greater than permitted\n",
      "RDKit ERROR: [20:09:17] Explicit valence for atom # 0 C greater than permitted\n",
      "RDKit ERROR: [20:09:17] ERROR: Could not sanitize molecule ending on line 73\n",
      "RDKit ERROR: [20:09:17] ERROR: Explicit valence for atom # 0 C greater than permitted\n",
      "RDKit ERROR: [20:09:17] Explicit valence for atom # 0 N, 4, is greater than permitted\n",
      "RDKit ERROR: [20:09:17] ERROR: Could not sanitize molecule ending on line 79\n",
      "RDKit ERROR: [20:09:17] ERROR: Explicit valence for atom # 0 N, 4, is greater than permitted\n",
      "RDKit ERROR: [20:09:17] Explicit valence for atom # 13 N, 4, is greater than permitted\n",
      "RDKit ERROR: [20:09:17] ERROR: Could not sanitize molecule ending on line 107\n",
      "RDKit ERROR: [20:09:17] ERROR: Explicit valence for atom # 13 N, 4, is greater than permitted\n",
      "RDKit ERROR: [20:09:17] Explicit valence for atom # 13 N, 4, is greater than permitted\n",
      "RDKit ERROR: [20:09:17] ERROR: Could not sanitize molecule ending on line 107\n",
      "RDKit ERROR: [20:09:17] ERROR: Explicit valence for atom # 13 N, 4, is greater than permitted\n",
      "RDKit ERROR: [20:09:17] Explicit valence for atom # 14 N, 4, is greater than permitted\n",
      "RDKit ERROR: [20:09:17] ERROR: Could not sanitize molecule ending on line 110\n",
      "RDKit ERROR: [20:09:17] ERROR: Explicit valence for atom # 14 N, 4, is greater than permitted\n",
      "RDKit ERROR: [20:09:17] Explicit valence for atom # 22 C greater than permitted\n",
      "RDKit ERROR: [20:09:17] ERROR: Could not sanitize molecule ending on line 88\n",
      "RDKit ERROR: [20:09:17] ERROR: Explicit valence for atom # 22 C greater than permitted\n",
      "RDKit ERROR: [20:09:17] Explicit valence for atom # 13 N, 4, is greater than permitted\n",
      "RDKit ERROR: [20:09:17] ERROR: Could not sanitize molecule ending on line 108\n",
      "RDKit ERROR: [20:09:17] ERROR: Explicit valence for atom # 13 N, 4, is greater than permitted\n",
      "RDKit ERROR: [20:09:17] Explicit valence for atom # 14 N, 4, is greater than permitted\n",
      "RDKit ERROR: [20:09:17] ERROR: Could not sanitize molecule ending on line 102\n",
      "RDKit ERROR: [20:09:17] ERROR: Explicit valence for atom # 14 N, 4, is greater than permitted\n",
      "RDKit ERROR: [20:09:17] Explicit valence for atom # 4 C greater than permitted\n",
      "RDKit ERROR: [20:09:17] ERROR: Could not sanitize molecule ending on line 78\n",
      "RDKit ERROR: [20:09:17] ERROR: Explicit valence for atom # 4 C greater than permitted\n",
      "RDKit ERROR: [20:09:17] Explicit valence for atom # 15 N, 4, is greater than permitted\n",
      "RDKit ERROR: [20:09:17] ERROR: Could not sanitize molecule ending on line 110\n",
      "RDKit ERROR: [20:09:17] ERROR: Explicit valence for atom # 15 N, 4, is greater than permitted\n",
      "RDKit ERROR: [20:09:17] Explicit valence for atom # 13 N, 4, is greater than permitted\n",
      "RDKit ERROR: [20:09:17] ERROR: Could not sanitize molecule ending on line 108\n",
      "RDKit ERROR: [20:09:17] ERROR: Explicit valence for atom # 13 N, 4, is greater than permitted\n",
      "RDKit ERROR: [20:09:17] Explicit valence for atom # 7 C greater than permitted\n",
      "RDKit ERROR: [20:09:17] ERROR: Could not sanitize molecule ending on line 94\n",
      "RDKit ERROR: [20:09:17] ERROR: Explicit valence for atom # 7 C greater than permitted\n",
      "RDKit ERROR: [20:09:17] Explicit valence for atom # 2 N, 4, is greater than permitted\n",
      "RDKit ERROR: [20:09:17] ERROR: Could not sanitize molecule ending on line 97\n",
      "RDKit ERROR: [20:09:17] ERROR: Explicit valence for atom # 2 N, 4, is greater than permitted\n",
      "RDKit ERROR: [20:09:17] Explicit valence for atom # 7 C greater than permitted\n",
      "RDKit ERROR: [20:09:17] ERROR: Could not sanitize molecule ending on line 101\n",
      "RDKit ERROR: [20:09:17] ERROR: Explicit valence for atom # 7 C greater than permitted\n",
      "RDKit ERROR: [20:09:17] Explicit valence for atom # 1 C greater than permitted\n",
      "RDKit ERROR: [20:09:17] ERROR: Could not sanitize molecule ending on line 72\n",
      "RDKit ERROR: [20:09:17] ERROR: Explicit valence for atom # 1 C greater than permitted\n",
      "RDKit ERROR: [20:09:17] Explicit valence for atom # 17 C, 5, is greater than permitted\n",
      "RDKit ERROR: [20:09:17] ERROR: Could not sanitize molecule ending on line 104\n",
      "RDKit ERROR: [20:09:17] ERROR: Explicit valence for atom # 17 C, 5, is greater than permitted\n",
      "RDKit ERROR: [20:09:17] Explicit valence for atom # 17 C, 5, is greater than permitted\n",
      "RDKit ERROR: [20:09:17] ERROR: Could not sanitize molecule ending on line 104\n",
      "RDKit ERROR: [20:09:17] ERROR: Explicit valence for atom # 17 C, 5, is greater than permitted\n",
      "RDKit ERROR: [20:09:17] Explicit valence for atom # 14 N, 4, is greater than permitted\n",
      "RDKit ERROR: [20:09:17] ERROR: Could not sanitize molecule ending on line 110\n",
      "RDKit ERROR: [20:09:17] ERROR: Explicit valence for atom # 14 N, 4, is greater than permitted\n",
      "RDKit ERROR: [20:09:17] Explicit valence for atom # 14 N, 4, is greater than permitted\n",
      "RDKit ERROR: [20:09:17] ERROR: Could not sanitize molecule ending on line 104\n",
      "RDKit ERROR: [20:09:17] ERROR: Explicit valence for atom # 14 N, 4, is greater than permitted\n",
      "RDKit ERROR: [20:09:17] Explicit valence for atom # 14 N, 4, is greater than permitted\n",
      "RDKit ERROR: [20:09:17] ERROR: Could not sanitize molecule ending on line 110\n",
      "RDKit ERROR: [20:09:17] ERROR: Explicit valence for atom # 14 N, 4, is greater than permitted\n",
      "RDKit ERROR: [20:09:17] Explicit valence for atom # 14 N, 4, is greater than permitted\n",
      "RDKit ERROR: [20:09:17] ERROR: Could not sanitize molecule ending on line 104\n",
      "RDKit ERROR: [20:09:17] ERROR: Explicit valence for atom # 14 N, 4, is greater than permitted\n",
      "RDKit ERROR: [20:09:17] Explicit valence for atom # 18 N, 4, is greater than permitted\n",
      "RDKit ERROR: [20:09:17] ERROR: Could not sanitize molecule ending on line 145\n",
      "RDKit ERROR: [20:09:17] ERROR: Explicit valence for atom # 18 N, 4, is greater than permitted\n",
      "RDKit ERROR: [20:09:17] Explicit valence for atom # 14 N, 4, is greater than permitted\n",
      "RDKit ERROR: [20:09:17] ERROR: Could not sanitize molecule ending on line 110\n",
      "RDKit ERROR: [20:09:17] ERROR: Explicit valence for atom # 14 N, 4, is greater than permitted\n",
      "RDKit ERROR: [20:09:17] Explicit valence for atom # 14 N, 4, is greater than permitted\n",
      "RDKit ERROR: [20:09:17] ERROR: Could not sanitize molecule ending on line 110\n",
      "RDKit ERROR: [20:09:17] ERROR: Explicit valence for atom # 14 N, 4, is greater than permitted\n",
      "RDKit ERROR: [20:09:17] Explicit valence for atom # 13 C, 5, is greater than permitted\n",
      "RDKit ERROR: [20:09:17] ERROR: Could not sanitize molecule ending on line 106\n",
      "RDKit ERROR: [20:09:17] ERROR: Explicit valence for atom # 13 C, 5, is greater than permitted\n",
      "RDKit ERROR: [20:09:17] Explicit valence for atom # 19 C greater than permitted\n",
      "RDKit ERROR: [20:09:17] ERROR: Could not sanitize molecule ending on line 82\n",
      "RDKit ERROR: [20:09:17] ERROR: Explicit valence for atom # 19 C greater than permitted\n",
      "RDKit ERROR: [20:09:17] Explicit valence for atom # 18 C greater than permitted\n",
      "RDKit ERROR: [20:09:17] ERROR: Could not sanitize molecule ending on line 80\n",
      "RDKit ERROR: [20:09:17] ERROR: Explicit valence for atom # 18 C greater than permitted\n",
      "RDKit ERROR: [20:09:17] Explicit valence for atom # 22 C greater than permitted\n",
      "RDKit ERROR: [20:09:17] ERROR: Could not sanitize molecule ending on line 82\n",
      "RDKit ERROR: [20:09:17] ERROR: Explicit valence for atom # 22 C greater than permitted\n",
      "RDKit ERROR: [20:09:17] Explicit valence for atom # 18 C greater than permitted\n",
      "RDKit ERROR: [20:09:17] ERROR: Could not sanitize molecule ending on line 82\n",
      "RDKit ERROR: [20:09:17] ERROR: Explicit valence for atom # 18 C greater than permitted\n",
      "RDKit ERROR: [20:09:17] Explicit valence for atom # 12 C greater than permitted\n",
      "RDKit ERROR: [20:09:17] ERROR: Could not sanitize molecule ending on line 53\n",
      "RDKit ERROR: [20:09:17] ERROR: Explicit valence for atom # 12 C greater than permitted\n",
      "RDKit ERROR: [20:09:17] Explicit valence for atom # 10 C, 5, is greater than permitted\n",
      "RDKit ERROR: [20:09:17] ERROR: Could not sanitize molecule ending on line 88\n",
      "RDKit ERROR: [20:09:17] ERROR: Explicit valence for atom # 10 C, 5, is greater than permitted\n",
      "RDKit ERROR: [20:09:17] Explicit valence for atom # 13 C, 5, is greater than permitted\n",
      "RDKit ERROR: [20:09:17] ERROR: Could not sanitize molecule ending on line 115\n",
      "RDKit ERROR: [20:09:17] ERROR: Explicit valence for atom # 13 C, 5, is greater than permitted\n",
      "RDKit ERROR: [20:09:17] Explicit valence for atom # 0 C greater than permitted\n",
      "RDKit ERROR: [20:09:17] ERROR: Could not sanitize molecule ending on line 137\n",
      "RDKit ERROR: [20:09:17] ERROR: Explicit valence for atom # 0 C greater than permitted\n",
      "RDKit ERROR: [20:09:17] Explicit valence for atom # 6 C greater than permitted\n",
      "RDKit ERROR: [20:09:17] ERROR: Could not sanitize molecule ending on line 118\n",
      "RDKit ERROR: [20:09:17] ERROR: Explicit valence for atom # 6 C greater than permitted\n",
      "RDKit ERROR: [20:09:17] Explicit valence for atom # 12 C greater than permitted\n",
      "RDKit ERROR: [20:09:17] ERROR: Could not sanitize molecule ending on line 83\n",
      "RDKit ERROR: [20:09:17] ERROR: Explicit valence for atom # 12 C greater than permitted\n",
      "RDKit ERROR: [20:09:17] Explicit valence for atom # 0 N, 4, is greater than permitted\n",
      "RDKit ERROR: [20:09:17] ERROR: Could not sanitize molecule ending on line 65\n",
      "RDKit ERROR: [20:09:17] ERROR: Explicit valence for atom # 0 N, 4, is greater than permitted\n",
      "RDKit ERROR: [20:09:17] Explicit valence for atom # 0 N, 4, is greater than permitted\n",
      "RDKit ERROR: [20:09:17] ERROR: Could not sanitize molecule ending on line 55\n",
      "RDKit ERROR: [20:09:17] ERROR: Explicit valence for atom # 0 N, 4, is greater than permitted\n",
      "RDKit ERROR: [20:09:17] Explicit valence for atom # 0 N, 4, is greater than permitted\n",
      "RDKit ERROR: [20:09:17] ERROR: Could not sanitize molecule ending on line 57\n",
      "RDKit ERROR: [20:09:17] ERROR: Explicit valence for atom # 0 N, 4, is greater than permitted\n",
      "RDKit ERROR: [20:09:17] Explicit valence for atom # 0 N, 4, is greater than permitted\n",
      "RDKit ERROR: [20:09:17] ERROR: Could not sanitize molecule ending on line 78\n",
      "RDKit ERROR: [20:09:17] ERROR: Explicit valence for atom # 0 N, 4, is greater than permitted\n",
      "RDKit ERROR: [20:09:17] Explicit valence for atom # 0 N, 4, is greater than permitted\n",
      "RDKit ERROR: [20:09:17] ERROR: Could not sanitize molecule ending on line 57\n",
      "RDKit ERROR: [20:09:17] ERROR: Explicit valence for atom # 0 N, 4, is greater than permitted\n",
      "RDKit ERROR: [20:09:17] Explicit valence for atom # 0 N, 4, is greater than permitted\n",
      "RDKit ERROR: [20:09:17] ERROR: Could not sanitize molecule ending on line 59\n",
      "RDKit ERROR: [20:09:17] ERROR: Explicit valence for atom # 0 N, 4, is greater than permitted\n",
      "RDKit ERROR: [20:09:17] Explicit valence for atom # 2 N, 4, is greater than permitted\n",
      "RDKit ERROR: [20:09:17] ERROR: Could not sanitize molecule ending on line 57\n",
      "RDKit ERROR: [20:09:17] ERROR: Explicit valence for atom # 2 N, 4, is greater than permitted\n",
      "RDKit ERROR: [20:09:17] Explicit valence for atom # 11 C, 5, is greater than permitted\n",
      "RDKit ERROR: [20:09:17] ERROR: Could not sanitize molecule ending on line 89\n",
      "RDKit ERROR: [20:09:17] ERROR: Explicit valence for atom # 11 C, 5, is greater than permitted\n",
      "RDKit ERROR: [20:09:17] Explicit valence for atom # 9 N, 4, is greater than permitted\n",
      "RDKit ERROR: [20:09:17] ERROR: Could not sanitize molecule ending on line 106\n",
      "RDKit ERROR: [20:09:17] ERROR: Explicit valence for atom # 9 N, 4, is greater than permitted\n",
      "RDKit ERROR: [20:09:17] Explicit valence for atom # 9 N, 4, is greater than permitted\n",
      "RDKit ERROR: [20:09:17] ERROR: Could not sanitize molecule ending on line 111\n",
      "RDKit ERROR: [20:09:17] ERROR: Explicit valence for atom # 9 N, 4, is greater than permitted\n",
      "RDKit ERROR: [20:09:17] Explicit valence for atom # 0 N, 4, is greater than permitted\n",
      "RDKit ERROR: [20:09:17] ERROR: Could not sanitize molecule ending on line 109\n",
      "RDKit ERROR: [20:09:17] ERROR: Explicit valence for atom # 0 N, 4, is greater than permitted\n",
      "RDKit ERROR: [20:09:17] Explicit valence for atom # 0 N, 4, is greater than permitted\n",
      "RDKit ERROR: [20:09:17] ERROR: Could not sanitize molecule ending on line 117\n",
      "RDKit ERROR: [20:09:17] ERROR: Explicit valence for atom # 0 N, 4, is greater than permitted\n",
      "RDKit ERROR: [20:09:17] Explicit valence for atom # 0 N, 4, is greater than permitted\n",
      "RDKit ERROR: [20:09:17] ERROR: Could not sanitize molecule ending on line 111\n",
      "RDKit ERROR: [20:09:17] ERROR: Explicit valence for atom # 0 N, 4, is greater than permitted\n",
      "RDKit ERROR: [20:09:17] Explicit valence for atom # 3 C greater than permitted\n",
      "RDKit ERROR: [20:09:17] ERROR: Could not sanitize molecule ending on line 83\n",
      "RDKit ERROR: [20:09:17] ERROR: Explicit valence for atom # 3 C greater than permitted\n",
      "RDKit ERROR: [20:09:17] Explicit valence for atom # 14 N, 4, is greater than permitted\n",
      "RDKit ERROR: [20:09:17] ERROR: Could not sanitize molecule ending on line 110\n",
      "RDKit ERROR: [20:09:17] ERROR: Explicit valence for atom # 14 N, 4, is greater than permitted\n",
      "RDKit ERROR: [20:09:17] Explicit valence for atom # 3 C greater than permitted\n",
      "RDKit ERROR: [20:09:17] ERROR: Could not sanitize molecule ending on line 83\n",
      "RDKit ERROR: [20:09:17] ERROR: Explicit valence for atom # 3 C greater than permitted\n",
      "RDKit ERROR: [20:09:17] Explicit valence for atom # 3 C greater than permitted\n",
      "RDKit ERROR: [20:09:17] ERROR: Could not sanitize molecule ending on line 83\n",
      "RDKit ERROR: [20:09:17] ERROR: Explicit valence for atom # 3 C greater than permitted\n",
      "RDKit ERROR: [20:09:17] Explicit valence for atom # 3 C greater than permitted\n",
      "RDKit ERROR: [20:09:17] ERROR: Could not sanitize molecule ending on line 83\n",
      "RDKit ERROR: [20:09:17] ERROR: Explicit valence for atom # 3 C greater than permitted\n",
      "RDKit ERROR: [20:09:17] Explicit valence for atom # 14 N, 4, is greater than permitted\n",
      "RDKit ERROR: [20:09:17] ERROR: Could not sanitize molecule ending on line 110\n",
      "RDKit ERROR: [20:09:17] ERROR: Explicit valence for atom # 14 N, 4, is greater than permitted\n",
      "RDKit ERROR: [20:09:17] Explicit valence for atom # 3 C greater than permitted\n",
      "RDKit ERROR: [20:09:17] ERROR: Could not sanitize molecule ending on line 83\n",
      "RDKit ERROR: [20:09:17] ERROR: Explicit valence for atom # 3 C greater than permitted\n",
      "RDKit ERROR: [20:09:17] Explicit valence for atom # 22 C greater than permitted\n",
      "RDKit ERROR: [20:09:17] ERROR: Could not sanitize molecule ending on line 88\n",
      "RDKit ERROR: [20:09:17] ERROR: Explicit valence for atom # 22 C greater than permitted\n",
      "RDKit ERROR: [20:09:17] Explicit valence for atom # 19 N, 4, is greater than permitted\n",
      "RDKit ERROR: [20:09:17] ERROR: Could not sanitize molecule ending on line 113\n",
      "RDKit ERROR: [20:09:17] ERROR: Explicit valence for atom # 19 N, 4, is greater than permitted\n",
      "RDKit ERROR: [20:09:17] Explicit valence for atom # 17 N, 4, is greater than permitted\n",
      "RDKit ERROR: [20:09:17] ERROR: Could not sanitize molecule ending on line 107\n",
      "RDKit ERROR: [20:09:17] ERROR: Explicit valence for atom # 17 N, 4, is greater than permitted\n",
      "RDKit ERROR: [20:09:17] Explicit valence for atom # 8 N, 4, is greater than permitted\n",
      "RDKit ERROR: [20:09:17] ERROR: Could not sanitize molecule ending on line 109\n",
      "RDKit ERROR: [20:09:17] ERROR: Explicit valence for atom # 8 N, 4, is greater than permitted\n",
      "RDKit ERROR: [20:09:17] Explicit valence for atom # 6 C, 5, is greater than permitted\n",
      "RDKit ERROR: [20:09:17] ERROR: Could not sanitize molecule ending on line 116\n",
      "RDKit ERROR: [20:09:17] ERROR: Explicit valence for atom # 6 C, 5, is greater than permitted\n",
      "RDKit ERROR: [20:09:17] Explicit valence for atom # 18 C greater than permitted\n",
      "RDKit ERROR: [20:09:17] ERROR: Could not sanitize molecule ending on line 117\n",
      "RDKit ERROR: [20:09:17] ERROR: Explicit valence for atom # 18 C greater than permitted\n",
      "RDKit ERROR: [20:09:17] Explicit valence for atom # 6 C, 5, is greater than permitted\n",
      "RDKit ERROR: [20:09:17] ERROR: Could not sanitize molecule ending on line 103\n",
      "RDKit ERROR: [20:09:17] ERROR: Explicit valence for atom # 6 C, 5, is greater than permitted\n",
      "RDKit ERROR: [20:09:17] Explicit valence for atom # 9 C, 5, is greater than permitted\n",
      "RDKit ERROR: [20:09:17] ERROR: Could not sanitize molecule ending on line 113\n",
      "RDKit ERROR: [20:09:17] ERROR: Explicit valence for atom # 9 C, 5, is greater than permitted\n",
      "RDKit ERROR: [20:09:17] Explicit valence for atom # 9 C greater than permitted\n",
      "RDKit ERROR: [20:09:17] ERROR: Could not sanitize molecule ending on line 72\n"
     ]
    }
   ],
   "source": [
    "# Cargamos los archivos en un diccionario u\n",
    "ligs_cdk2_dic = {}\n",
    "\n",
    "for file in files_pose_crys:\n",
    "    # En un primer intento, carga la molécula\n",
    "    pdb_id = file.split(\"/\")[-1].split(\"_\")[0]\n",
    "    ligs_cdk2_dic[pdb_id] =  Chem.SDMolSupplier(file, sanitize = True)\n",
    "    # Si la molécula NO es correctamente cargada con sanitize = True\n",
    "    # entonces la propiedad GetAtoms() no existe y se ejecuta el catch\n",
    "    try:\n",
    "        ligs_cdk2_dic[pdb_id][0].GetAtoms()\n",
    "        pass\n",
    "    except: # Si sanitize no funciona, la molécula será cargada sin sanitizar\n",
    "#         ligs_cdk2_dic[pdb_id] =  Chem.SDMolSupplier(file, sanitize = False)\n",
    "        file = file.replace('_p7.sdf', '_no_inizado.sdf')\n",
    "        ligs_cdk2_dic[pdb_id] =  Chem.SDMolSupplier(file, sanitize = False)"
   ]
  },
  {
   "cell_type": "code",
   "execution_count": 475,
   "metadata": {},
   "outputs": [
    {
     "name": "stdout",
     "output_type": "stream",
     "text": [
      "Número de archivos de ligandos a cargar: 365\n"
     ]
    },
    {
     "name": "stderr",
     "output_type": "stream",
     "text": [
      "RDKit WARNING: [21:00:44] 1b38_ATP_LIG.pdb: warning - O.co2 with non C.2 or S.o2 neighbor.\n",
      "RDKit WARNING: [21:00:44] 1b39_ATP_LIG.pdb: warning - O.co2 with non C.2 or S.o2 neighbor.\n",
      "RDKit ERROR: [19:13:34] ERROR: Explicit valence for atom # 0 N, 4, is greater than permitted\n",
      "RDKit ERROR: [21:00:44] Can't kekulize mol.  Unkekulized atoms: 0 2 3 4 5 6 7 8 9\n",
      "RDKit ERROR: \n",
      "RDKit ERROR: [21:00:44] Explicit valence for atom # 8 C, 5, is greater than permitted\n",
      "RDKit ERROR: [21:00:44] Can't kekulize mol.  Unkekulized atoms: 0 1 2 3 4 5 8 9 10\n",
      "RDKit ERROR: \n",
      "RDKit ERROR: [21:00:44] Explicit valence for atom # 5 C, 5, is greater than permitted\n",
      "RDKit WARNING: [21:00:44] sanitise [21:00:44] 1ckp_PVB_LIG.pdb: [21:00:44] sanitise [21:00:44] 1dm2_HMD_LIG.pdb: [21:00:44] sanitise [21:00:44] 1e1v_CMG_LIG.pdb: [21:00:44] sanitise [21:00:44] 1e9h_INR_LIG.pdb: [21:00:44] 1fin_ATP_LIG.pdb: warning - O.co2 with non C.2 or S.o2 neighbor.\n",
      "RDKit WARNING: [21:00:44] 1fq1_ATP_LIG.pdb: warning - O.co2 with non C.2 or S.o2 neighbor.\n",
      "RDKit ERROR: [21:00:44] Explicit valence for atom # 1 C, 6, is greater than permitted\n",
      "RDKit ERROR: [21:00:44] Explicit valence for atom # 1 C, 6, is greater than permitted\n",
      "RDKit ERROR: [21:00:44] Can't kekulize mol.  Unkekulized atoms: 1 2 3 4 5 6 7 8 9\n",
      "RDKit ERROR: \n",
      "RDKit ERROR: [21:00:44] Explicit valence for atom # 14 C, 6, is greater than permitted\n",
      "RDKit ERROR: [21:00:44] Explicit valence for atom # 14 C, 6, is greater than permitted\n",
      "RDKit ERROR: [21:00:44] Explicit valence for atom # 14 C, 6, is greater than permitted\n",
      "RDKit WARNING: [21:00:44] sanitise [21:00:44] 1fvt_106_LIG.pdb: [21:00:44] sanitise [21:00:44] 1fvv_107_LIG.pdb: [21:00:44] sanitise [21:00:44] 1g5s_I17_LIG.pdb: [21:00:44] sanitise [21:00:44] 1gih_1PU_LIG.pdb: [21:00:44] sanitise [21:00:44] 1gii_1PU_LIG.pdb: [21:00:44] sanitise [21:00:44] 1gij_2PU_LIG.pdb: [21:00:44] 1gy3_ATP_LIG.pdb: warning - O.co2 with non C.2 or S.o2 neighbor.\n",
      "RDKit ERROR: [21:00:44] Can't kekulize mol.  Unkekulized atoms: 0 1 2 8 9 11 12 15 16\n",
      "RDKit ERROR: \n",
      "RDKit ERROR: [21:00:44] Can't kekulize mol.  Unkekulized atoms: 0 1 2 6 7 9 10 14 15\n",
      "RDKit ERROR: \n",
      "RDKit ERROR: [21:00:44] Can't kekulize mol.  Unkekulized atoms: 0 1 2 3 4 5 8 9 10\n",
      "RDKit ERROR: \n",
      "RDKit ERROR: [21:00:44] Can't kekulize mol.  Unkekulized atoms: 0 1 2 3 4 5 8 9 10\n",
      "RDKit ERROR: \n",
      "RDKit ERROR: [21:00:44] Can't kekulize mol.  Unkekulized atoms: 0 1 13 14 16 17 18 19 20\n",
      "RDKit ERROR: \n",
      "RDKit ERROR: [21:00:44] Can't kekulize mol.  Unkekulized atoms: 0 1 13 14 16 17 18 19 20\n",
      "RDKit ERROR: \n",
      "RDKit ERROR: [21:00:44] Can't kekulize mol.  Unkekulized atoms: 0 1 14 15 17 18 19 20 21\n",
      "RDKit ERROR: \n",
      "RDKit WARNING: [21:00:44] sanitise [21:00:44] 1gz8_MBP_LIG.pdb: [21:00:44] sanitise [21:00:44] 1h0v_UN4_LIG.pdb: [21:00:44] sanitise [21:00:44] 1h0w_207_LIG.pdb: [21:00:44] sanitise [21:00:44] 1h1p_CMG_LIG.pdb: [21:00:44] sanitise [21:00:44] 1h1q_2A6_LIG.pdb: [21:00:44] sanitise [21:00:44] 1h1r_6CP_LIG.pdb: [21:00:44] sanitise [21:00:44] 1h1s_4SP_LIG.pdb: [21:00:44] 1hck_ATP_LIG.pdb: warning - O.co2 with non C.2 or S.o2 neighbor.\n",
      "RDKit WARNING: [21:00:44] 1jst_ATP_LIG.pdb: warning - O.co2 with non C.2 or S.o2 neighbor.\n",
      "RDKit ERROR: [21:00:44] Explicit valence for atom # 1 C, 6, is greater than permitted\n",
      "RDKit ERROR: [21:00:44] Explicit valence for atom # 1 C, 6, is greater than permitted\n",
      "RDKit ERROR: [21:00:44] Explicit valence for atom # 1 C, 6, is greater than permitted\n",
      "RDKit ERROR: [21:00:44] Explicit valence for atom # 1 C, 6, is greater than permitted\n",
      "RDKit ERROR: [21:00:44] Explicit valence for atom # 10 C, 5, is greater than permitted\n",
      "RDKit ERROR: [21:00:44] Can't kekulize mol.  Unkekulized atoms: 0 2 14 15 17 18 19 20 21\n",
      "RDKit ERROR: \n",
      "RDKit ERROR: [21:00:44] Explicit valence for atom # 17 C, 5, is greater than permitted\n",
      "RDKit ERROR: [21:00:44] Explicit valence for atom # 5 C, 5, is greater than permitted\n",
      "RDKit ERROR: [21:00:44] Explicit valence for atom # 5 C, 5, is greater than permitted\n",
      "RDKit ERROR: [21:00:44] Can't kekulize mol.  Unkekulized atoms: 0 1 15 16 18 19 20 21 22\n",
      "RDKit ERROR: \n",
      "RDKit ERROR: [21:00:44] Can't kekulize mol.  Unkekulized atoms: 0 13 14 16 17 18 19 20 25\n",
      "RDKit ERROR: \n",
      "RDKit ERROR: [21:00:44] Explicit valence for atom # 7 C, 5, is greater than permitted\n",
      "RDKit ERROR: [21:00:44] Can't kekulize mol.  Unkekulized atoms: 0 1 2 3 4 5 6 7 8\n",
      "RDKit ERROR: \n",
      "RDKit ERROR: [21:00:44] Explicit valence for atom # 5 C, 5, is greater than permitted\n",
      "RDKit ERROR: [21:00:44] Explicit valence for atom # 0 C, 6, is greater than permitted\n",
      "RDKit WARNING: [21:00:44] sanitise [21:00:44] 1ke5_LS1_LIG.pdb: [21:00:44] sanitise [21:00:44] 1ke6_LS2_LIG.pdb: [21:00:44] sanitise [21:00:44] 1ke7_LS3_LIG.pdb: [21:00:44] sanitise [21:00:44] 1ke8_LS4_LIG.pdb: [21:00:44] sanitise [21:00:44] 1ke9_LS5_LIG.pdb: [21:00:44] sanitise [21:00:44] 1oi9_N20_LIG.pdb: [21:00:44] sanitise [21:00:44] 1oiq_HDU_LIG.pdb: [21:00:44] sanitise [21:00:44] 1oir_HDY_LIG.pdb: [21:00:44] sanitise [21:00:44] 1oit_HDT_LIG.pdb: [21:00:44] sanitise [21:00:44] 1oiu_N76_LIG.pdb: [21:00:44] sanitise [21:00:44] 1oiy_N41_LIG.pdb: [21:00:44] sanitise [21:00:44] 1p2a_5BN_LIG.pdb: [21:00:44] sanitise [21:00:44] 1p5e_TBS_LIG.pdb: [21:00:44] sanitise [21:00:44] 1pf8_SU9_LIG.pdb: [21:00:44] sanitise [21:00:44] 1pye_PM1_LIG.pdb: [21:00:44] 1qmz_ATP_LIG.pdb: warning - O.co2 with non C.2 or S.o2 neighbor.\n",
      "RDKit ERROR: [21:00:44] Explicit valence for atom # 15 C, 6, is greater than permitted\n",
      "RDKit ERROR: [21:00:44] Explicit valence for atom # 1 C, 5, is greater than permitted\n",
      "RDKit ERROR: [21:00:44] Can't kekulize mol.  Unkekulized atoms: 3 4 5 6 7\n",
      "RDKit ERROR: \n",
      "RDKit ERROR: [21:00:44] Can't kekulize mol.  Unkekulized atoms: 0 2 3 6 7\n",
      "RDKit ERROR: \n",
      "RDKit ERROR: [21:00:44] Can't kekulize mol.  Unkekulized atoms: 0 1 2 3 4 5 6 7 8\n",
      "RDKit ERROR: \n",
      "RDKit ERROR: [21:00:44] Can't kekulize mol.  Unkekulized atoms: 1 2 3 4 5 6 10 11 12\n",
      "RDKit ERROR: \n",
      "RDKit ERROR: [21:00:44] Explicit valence for atom # 10 C, 5, is greater than permitted\n",
      "RDKit ERROR: [21:00:44] Explicit valence for atom # 17 C, 5, is greater than permitted\n",
      "RDKit ERROR: [21:00:44] Explicit valence for atom # 0 C, 6, is greater than permitted\n",
      "RDKit ERROR: [21:00:44] Can't kekulize mol.  Unkekulized atoms: 9 10 11 12 13 14 18 19 20\n",
      "RDKit ERROR: \n",
      "RDKit ERROR: [21:00:44] Can't kekulize mol.  Unkekulized atoms: 6 7 8 9 13 14 15 16 17\n",
      "RDKit ERROR: \n",
      "RDKit ERROR: [21:00:44] Explicit valence for atom # 8 C, 6, is greater than permitted\n",
      "RDKit ERROR: [21:00:44] Can't kekulize mol.  Unkekulized atoms: 3 4 6 7 8\n",
      "RDKit ERROR: \n",
      "RDKit ERROR: [21:00:44] Explicit valence for atom # 17 C, 5, is greater than permitted\n",
      "RDKit ERROR: [21:00:44] Explicit valence for atom # 1 C, 5, is greater than permitted\n",
      "RDKit ERROR: [21:00:44] Explicit valence for atom # 7 C, 6, is greater than permitted\n",
      "RDKit ERROR: [21:00:44] Can't kekulize mol.  Unkekulized atoms: 5 6 7 8 9\n",
      "RDKit ERROR: \n",
      "RDKit ERROR: [21:00:44] Can't kekulize mol.  Unkekulized atoms: 1 2 3 13 14\n",
      "RDKit ERROR: \n",
      "RDKit WARNING: [21:00:44] sanitise [21:00:44] 1r78_FMD_LIG.pdb: [21:00:44] sanitise [21:00:44] 1urw_I1P_LIG.pdb: [21:00:44] sanitise [21:00:44] 1vyw_292_LIG.pdb: [21:00:44] sanitise [21:00:44] 1vyz_N5B_LIG.pdb: [21:00:44] sanitise [21:00:44] 1w0x_OLO_LIG.pdb: [21:00:44] sanitise [21:00:44] 1w8c_N69_LIG.pdb: [21:00:44] sanitise [21:00:44] 1y8y_CT7_LIG.pdb: [21:00:44] sanitise [21:00:44] 1y91_CT9_LIG.pdb: [21:00:44] sanitise [21:00:44] 1ykr_628_LIG.pdb: [21:00:44] sanitise [21:00:44] 2a0c_CK9_LIG.pdb: [21:00:44] sanitise [21:00:44] 2a4l_RRC_LIG.pdb: [21:00:44] sanitise [21:00:44] 2b52_D42_LIG.pdb: [21:00:44] sanitise [21:00:44] 2b54_D05_LIG.pdb: [21:00:44] sanitise [21:00:44] 2b55_D31_LIG.pdb: [21:00:44] sanitise [21:00:44] 2bhe_BRY_LIG.pdb: [21:00:44] sanitise [21:00:44] 2bkz_SBC_LIG.pdb: [21:00:44] sanitise [21:00:44] 2bpm_529_LIG.pdb: [21:00:44] sanitise [21:00:44] 2c4g_514_LIG.pdb: [21:00:44] 2c5x_MTW_LIG.pdb: warning - O.co2 with non C.2 or S.o2 neighbor.\n",
      "RDKit WARNING: [21:00:44] 2c5y_MTW_LIG.pdb: warning - O.co2 with non C.2 or S.o2 neighbor.\n",
      "RDKit ERROR: [21:00:44] Explicit valence for atom # 7 C, 5, is greater than permitted\n",
      "RDKit ERROR: [21:00:44] Explicit valence for atom # 7 C, 5, is greater than permitted\n",
      "RDKit ERROR: [21:00:44] Explicit valence for atom # 11 C, 5, is greater than permitted\n",
      "RDKit ERROR: [21:00:44] Explicit valence for atom # 11 C, 5, is greater than permitted\n",
      "RDKit ERROR: [21:00:44] Explicit valence for atom # 11 C, 5, is greater than permitted\n",
      "RDKit ERROR: [21:00:44] Explicit valence for atom # 11 C, 5, is greater than permitted\n",
      "RDKit ERROR: [21:00:44] Can't kekulize mol.  Unkekulized atoms: 0 1 14 15 17 18 19 20 21\n",
      "RDKit ERROR: \n",
      "RDKit ERROR: [21:00:44] Explicit valence for atom # 11 C, 5, is greater than permitted\n",
      "RDKit WARNING: [21:00:44] sanitise [21:00:44] 2c68_CT6_LIG.pdb: [21:00:44] sanitise [21:00:44] 2c69_CT8_LIG.pdb: [21:00:44] sanitise [21:00:44] 2c6i_DT1_LIG.pdb: [21:00:44] sanitise [21:00:44] 2c6k_DT2_LIG.pdb: [21:00:44] sanitise [21:00:44] 2c6l_DT4_LIG.pdb: [21:00:44] sanitise [21:00:44] 2c6m_DT5_LIG.pdb: [21:00:44] sanitise [21:00:44] 2c6o_4SP_LIG.pdb: [21:00:44] sanitise [21:00:44] 2c6t_DT5_LIG.pdb: [21:00:44] 2cch_ATP_LIG.pdb: warning - O.co2 with non C.2 or S.o2 neighbor.\n",
      "RDKit WARNING: [21:00:44] 2cci_ATP_LIG.pdb: warning - O.co2 with non C.2 or S.o2 neighbor.\n",
      "RDKit WARNING: [21:00:44] 2cjm_ATP_LIG.pdb: warning - O.co2 with non C.2 or S.o2 neighbor.\n",
      "RDKit ERROR: [21:00:44] Can't kekulize mol.  Unkekulized atoms: 9 10 12 13 14\n",
      "RDKit ERROR: \n",
      "RDKit ERROR: [21:00:44] Explicit valence for atom # 14 C, 6, is greater than permitted\n",
      "RDKit ERROR: [21:00:44] Explicit valence for atom # 2 C, 5, is greater than permitted\n",
      "RDKit ERROR: [21:00:44] Can't kekulize mol.  Unkekulized atoms: 6 7 8 9 10 11 12 13 14\n",
      "RDKit ERROR: \n",
      "RDKit ERROR: [21:00:44] Can't kekulize mol.  Unkekulized atoms: 17 18 19 20 21 22 23 24 25\n",
      "RDKit ERROR: \n",
      "RDKit ERROR: [21:00:44] Can't kekulize mol.  Unkekulized atoms: 2 3 4 5 6 7 26 27 28\n",
      "RDKit ERROR: \n",
      "RDKit ERROR: [21:00:44] Can't kekulize mol.  Unkekulized atoms: 0 1 14 15 17 18 19 20 21\n",
      "RDKit ERROR: \n",
      "RDKit ERROR: [21:00:44] Can't kekulize mol.  Unkekulized atoms: 0 1 14 15 17 18 19 20 21\n",
      "RDKit ERROR: \n",
      "RDKit ERROR: [21:00:44] Explicit valence for atom # 6 C, 5, is greater than permitted\n",
      "RDKit ERROR: [21:00:44] Explicit valence for atom # 6 C, 5, is greater than permitted\n",
      "RDKit ERROR: [21:00:44] Explicit valence for atom # 6 C, 5, is greater than permitted\n",
      "RDKit ERROR: [21:00:44] Explicit valence for atom # 6 C, 5, is greater than permitted\n",
      "RDKit ERROR: [21:00:44] Explicit valence for atom # 6 C, 5, is greater than permitted\n",
      "RDKit ERROR: [21:00:44] Explicit valence for atom # 6 C, 5, is greater than permitted\n",
      "RDKit ERROR: [21:00:44] Explicit valence for atom # 6 C, 5, is greater than permitted\n",
      "RDKit ERROR: [21:00:44] Explicit valence for atom # 6 C, 5, is greater than permitted\n",
      "RDKit ERROR: [21:00:44] Explicit valence for atom # 6 C, 5, is greater than permitted\n",
      "RDKit ERROR: [21:00:44] Explicit valence for atom # 6 C, 5, is greater than permitted\n",
      "RDKit ERROR: [21:00:44] Explicit valence for atom # 6 C, 5, is greater than permitted\n",
      "RDKit WARNING: [21:00:44] sanitise [21:00:44] 2clx_F18_LIG.pdb: [21:00:44] sanitise [21:00:44] 2ds1_1CD_LIG.pdb: [21:00:44] sanitise [21:00:44] 2duv_371_LIG.pdb: [21:00:44] sanitise [21:00:44] 2exm_ZIP_LIG.pdb: [21:00:44] sanitise [21:00:44] 2g9x_NU5_LIG.pdb: [21:00:44] sanitise [21:00:44] 2i40_BLZ_LIG.pdb: [21:00:44] sanitise [21:00:44] 2iw8_4SP_LIG.pdb: [21:00:44] sanitise [21:00:44] 2iw9_4SP_LIG.pdb: [21:00:44] sanitise [21:00:44] 2r3f_SC8_LIG.pdb: [21:00:44] sanitise [21:00:44] 2r3g_SC9_LIG.pdb: [21:00:44] sanitise [21:00:44] 2r3h_SCE_LIG.pdb: [21:00:44] sanitise [21:00:44] 2r3i_SCF_LIG.pdb: [21:00:44] sanitise [21:00:44] 2r3j_SCJ_LIG.pdb: [21:00:44] sanitise [21:00:44] 2r3k_SCQ_LIG.pdb: [21:00:44] sanitise [21:00:44] 2r3l_SCW_LIG.pdb: [21:00:44] sanitise [21:00:44] 2r3m_SCX_LIG.pdb: [21:00:44] sanitise [21:00:44] 2r3n_SCZ_LIG.pdb: [21:00:44] sanitise [21:00:44] 2r3o_2SC_LIG.pdb: [21:00:44] sanitise [21:00:44] 2r3p_3SC_LIG.pdb: [21:00:44] 2r3q_5SC_LIG.pdb: warning - O.co2 with non ... truncatedRDKit ERROR: [21:00:44] Explicit valence for atom # 6 C, 5, is greater than permitted\n",
      "RDKit ERROR: [21:00:44] Can't kekulize mol.  Unkekulized atoms: 9 10 11 12 13 14 15 16 17\n",
      "RDKit ERROR: \n",
      "RDKit ERROR: [21:00:44] Explicit valence for atom # 17 C, 5, is greater than permitted\n",
      "RDKit ERROR: [21:00:44] Explicit valence for atom # 16 C, 5, is greater than permitted\n",
      "RDKit ERROR: [21:00:44] Explicit valence for atom # 14 C, 5, is greater than permitted\n",
      "RDKit ERROR: [21:00:44] Explicit valence for atom # 20 C, 5, is greater than permitted\n",
      "RDKit ERROR: [21:00:44] Explicit valence for atom # 16 C, 5, is greater than permitted\n",
      "RDKit ERROR: [21:00:44] Explicit valence for atom # 7 C, 5, is greater than permitted\n",
      "RDKit ERROR: [21:00:44] Can't kekulize mol.  Unkekulized atoms: 0 1 2 3 4 5 6 7 8\n",
      "RDKit ERROR: \n",
      "RDKit ERROR: [21:00:44] Can't kekulize mol.  Unkekulized atoms: 2 3 4 5 6 7 9 10 21\n",
      "RDKit ERROR: \n",
      "RDKit ERROR: [21:00:44] Can't kekulize mol.  Unkekulized atoms: 9 10 11 12 13\n",
      "RDKit ERROR: \n",
      "RDKit ERROR: [21:00:44] Explicit valence for atom # 7 C, 5, is greater than permitted\n",
      "RDKit ERROR: [21:00:44] Can't kekulize mol.  Unkekulized atoms: 4 5 6 7 8\n",
      "RDKit ERROR: \n",
      "RDKit ERROR: [21:00:44] Can't kekulize mol.  Unkekulized atoms: 8 9 10 11 12\n",
      "RDKit ERROR: \n",
      "RDKit ERROR: [21:00:44] Can't kekulize mol.  Unkekulized atoms: 8 9 10 11 12\n",
      "RDKit ERROR: \n",
      "RDKit ERROR: [21:00:44] Can't kekulize mol.  Unkekulized atoms: 6 7 8 9 10\n",
      "RDKit ERROR: \n",
      "RDKit ERROR: [21:00:44] Explicit valence for atom # 4 C, 5, is greater than permitted\n",
      "RDKit ERROR: [21:00:44] Explicit valence for atom # 4 C, 5, is greater than permitted\n",
      "RDKit ERROR: [21:00:44] Can't kekulize mol.  Unkekulized atoms: 7 8 9 10 11\n",
      "RDKit ERROR: \n",
      "RDKit ERROR: [21:00:44] Can't kekulize mol.  Unkekulized atoms: 6 7 8 9 10\n",
      "RDKit ERROR: \n",
      "RDKit ERROR: [21:00:44] Can't kekulize mol.  Unkekulized atoms: 3 4 6 7 8\n",
      "RDKit ERROR: \n",
      "RDKit ERROR: [21:00:44] Can't kekulize mol.  Unkekulized atoms: 19 20 21 22 23\n",
      "RDKit ERROR: \n",
      "RDKit ERROR: [21:00:44] Can't kekulize mol.  Unkekulized atoms: 1 3 8 9 25\n",
      "RDKit ERROR: \n",
      "RDKit ERROR: [21:00:44] Can't kekulize mol.  Unkekulized atoms: 3 4 6 7 8\n",
      "RDKit ERROR: \n",
      "RDKit ERROR: [21:00:44] Explicit valence for atom # 8 C, 5, is greater than permitted\n"
     ]
    },
    {
     "name": "stderr",
     "output_type": "stream",
     "text": [
      "RDKit WARNING: [21:00:44] sanitise [21:00:44] 2r3r_6SC_LIG.pdb: [21:00:44] sanitise [21:00:44] 2r64_740_LIG.pdb: [21:00:44] sanitise [21:00:44] 2uzb_C75_LIG.pdb: [21:00:44] sanitise [21:00:44] 2uzd_C85_LIG.pdb: [21:00:44] sanitise [21:00:44] 2uze_C95_LIG.pdb: [21:00:44] sanitise [21:00:44] 2uzl_C94_LIG.pdb: [21:00:44] sanitise [21:00:44] 2uzn_C96_LIG.pdb: [21:00:44] sanitise [21:00:44] 2v0d_C53_LIG.pdb: [21:00:44] sanitise [21:00:44] 2vta_LZ1_LIG.pdb: [21:00:44] sanitise [21:00:44] 2vti_LZ3_LIG.pdb: [21:00:44] sanitise [21:00:44] 2vtl_LZ5_LIG.pdb: [21:00:44] sanitise [21:00:44] 2vtm_LZM_LIG.pdb: [21:00:44] sanitise [21:00:44] 2vtn_LZ7_LIG.pdb: [21:00:44] sanitise [21:00:44] 2vto_LZ8_LIG.pdb: [21:00:44] sanitise [21:00:44] 2vtp_LZ9_LIG.pdb: [21:00:44] sanitise [21:00:44] 2vtq_LZA_LIG.pdb: [21:00:44] sanitise [21:00:44] 2vtr_LZB_LIG.pdb: [21:00:44] sanitise [21:00:44] 2vts_LZC_LIG.pdb: [21:00:44] sanitise [21:00:44] 2vtt_LZD_LIG.pdb: [21:00:44] sanitise [21:00:44] 2vu3_LZE_LIG.pdb: [21:0... truncatedRDKit ERROR: [21:00:44] Can't kekulize mol.  Unkekulized atoms: 4 5 6 8 9 10 11 16 17 18 19\n",
      "RDKit ERROR: \n",
      "RDKit ERROR: [21:00:44] Explicit valence for atom # 8 C, 5, is greater than permitted\n",
      "RDKit ERROR: [21:00:44] Can't kekulize mol.  Unkekulized atoms: 14 15 16 17 18\n",
      "RDKit ERROR: \n",
      "RDKit ERROR: [21:00:44] Can't kekulize mol.  Unkekulized atoms: 2 3 4 5 6 10 11 12 13 14 15\n",
      "RDKit ERROR: \n",
      "RDKit WARNING: [21:00:44] sanitise [21:00:44] 2wih_P48_LIG.pdb: [21:00:44] sanitise [21:00:44] 2wip_P49_LIG.pdb: [21:00:44] sanitise [21:00:44] 2wpa_889_LIG.pdb: [21:00:44] sanitise [21:00:44] 2wxv_WXV_LIG.pdb: [21:00:44] 2x1n_X1N_LIG.pdb: warning - O.co2 with non C.2 or S.o2 neighbor.\n",
      "RDKit ERROR: [21:00:44] Explicit valence for atom # 11 C, 5, is greater than permitted\n",
      "RDKit ERROR: [21:00:44] Explicit valence for atom # 11 C, 5, is greater than permitted\n",
      "RDKit ERROR: [21:00:44] Explicit valence for atom # 7 C, 5, is greater than permitted\n",
      "RDKit ERROR: [21:00:44] Can't kekulize mol.  Unkekulized atoms: 0 1 2 3 4 13 14 16 17\n",
      "RDKit ERROR: \n",
      "RDKit ERROR: [21:00:44] Can't kekulize mol.  Unkekulized atoms: 6 7 8 9 13 14 15 16 17\n",
      "RDKit ERROR: \n",
      "RDKit ERROR: [21:00:44] Explicit valence for atom # 6 C, 6, is greater than permitted\n",
      "RDKit ERROR: [21:00:44] Explicit valence for atom # 1 C, 5, is greater than permitted\n",
      "RDKit ERROR: [21:00:44] Explicit valence for atom # 3 C, 5, is greater than permitted\n",
      "RDKit ERROR: [21:00:44] Explicit valence for atom # 11 C, 6, is greater than permitted\n",
      "RDKit ERROR: [21:00:44] Can't kekulize mol.  Unkekulized atoms: 1 2 6 9 14 20 21 26 28\n",
      "RDKit ERROR: \n",
      "RDKit ERROR: [21:00:44] Can't kekulize mol.  Unkekulized atoms: 0 1 2 3 4 5 6 7 8\n",
      "RDKit ERROR: \n",
      "RDKit ERROR: [21:00:44] Can't kekulize mol.  Unkekulized atoms: 0 1 2 3 4 5 6 7 8\n",
      "RDKit ERROR: \n",
      "RDKit ERROR: [21:00:44] Can't kekulize mol.  Unkekulized atoms: 1 2 3 16 17\n",
      "RDKit ERROR: \n",
      "RDKit ERROR: [21:00:44] Can't kekulize mol.  Unkekulized atoms: 1 3 4 6 11\n",
      "RDKit ERROR: \n",
      "RDKit WARNING: [21:00:44] sanitise [21:00:44] 3bht_MFR_LIG.pdb: [21:00:44] sanitise [21:00:44] 3bhu_MHR_LIG.pdb: [21:00:44] sanitise [21:00:44] 3bhv_VAR_LIG.pdb: [21:00:44] sanitise [21:00:44] 3ddp_RC8_LIG.pdb: [21:00:44] sanitise [21:00:44] 3ddq_RRC_LIG.pdb: [21:00:44] sanitise [21:00:44] 3dog_NNN_LIG.pdb: [21:00:44] sanitise [21:00:44] 3eid_PO5_LIG.pdb: [21:00:44] sanitise [21:00:44] 3ej1_5BP_LIG.pdb: [21:00:44] sanitise [21:00:44] 3eoc_T2A_LIG.pdb: [21:00:44] sanitise [21:00:44] 3ezr_EZR_LIG.pdb: [21:00:44] sanitise [21:00:44] 3ezv_EZV_LIG.pdb: [21:00:44] sanitise [21:00:44] 3f5x_EZV_LIG.pdb: [21:00:44] sanitise [21:00:44] 3ig7_EFP_LIG.pdb: [21:00:44] sanitise [21:00:44] 3igg_EFQ_LIG.pdb: [21:00:44] 3le6_2BZ_LIG.pdb: warning - O.co2 with non C.2 or S.o2 neighbor.\n",
      "RDKit ERROR: [21:00:44] Can't kekulize mol.  Unkekulized atoms: 6 7 8 9 10 11 19 20 21\n",
      "RDKit ERROR: \n",
      "RDKit ERROR: [21:00:44] Can't kekulize mol.  Unkekulized atoms: 0 1 2 3 4 5 6 7 8\n",
      "RDKit ERROR: \n",
      "RDKit ERROR: [21:00:44] Can't kekulize mol.  Unkekulized atoms: 7 8 9 10 11 12 13 14 15\n",
      "RDKit ERROR: \n",
      "RDKit ERROR: [21:00:44] Can't kekulize mol.  Unkekulized atoms: 0 1 2 4 6 7 8 9 10\n",
      "RDKit ERROR: \n",
      "RDKit ERROR: [21:00:44] Explicit valence for atom # 2 C, 5, is greater than permitted\n",
      "RDKit ERROR: [21:00:44] Can't kekulize mol.  Unkekulized atoms: 0 1 2 3 4 5 6 7 8\n",
      "RDKit ERROR: \n",
      "RDKit ERROR: [21:00:44] Explicit valence for atom # 1 C, 5, is greater than permitted\n",
      "RDKit WARNING: [21:00:44] sanitise [21:00:44] 3lfn_A27_LIG.pdb: [21:00:44] sanitise [21:00:44] 3lfq_A28_LIG.pdb: [21:00:44] sanitise [21:00:44] 3lfs_A07_LIG.pdb: [21:00:44] sanitise [21:00:44] 3my5_RFZ_LIG.pdb: [21:00:44] sanitise [21:00:44] 3ns9_NS9_LIG.pdb: [21:00:44] sanitise [21:00:44] 3pj8_404_LIG.pdb: [21:00:44] sanitise [21:00:44] 3py0_SU9_LIG.pdb: [21:00:44] 3qhr_ADP_LIG.pdb: warning - O.co2 with non C.2 or S.o2 neighbor.\n",
      "RDKit WARNING: [21:00:44] 3qhw_ADP_LIG.pdb: warning - O.co2 with non C.2 or S.o2 neighbor.\n",
      "RDKit WARNING: [21:00:44] 3qqf_X07_LIG.pdb: warning - O.co2 with non C.2 or S.o2 neighbor.\n",
      "RDKit ERROR: [21:00:44] Can't kekulize mol.  Unkekulized atoms: 0 1 2 3 4\n",
      "RDKit ERROR: \n",
      "RDKit ERROR: [21:00:44] Can't kekulize mol.  Unkekulized atoms: 0 1 4 5 6\n",
      "RDKit ERROR: \n",
      "RDKit ERROR: [21:00:44] Can't kekulize mol.  Unkekulized atoms: 0 1 3 4 5\n",
      "RDKit ERROR: \n",
      "RDKit WARNING: [21:00:44] sanitise [21:00:44] 3qql_X03_LIG.pdb: [21:00:44] sanitise [21:00:44] 3qrt_X14_LIG.pdb: [21:00:44] sanitise [21:00:44] 3qru_X19_LIG.pdb: [21:00:44] 3qtx_X43_LIG.pdb: warning - O.co2 with non C.2 or S.o2 neighbor.\n",
      "RDKit WARNING: [21:00:44] 3qwj_X6A_LIG.pdb: warning - O.co2 with non C.2 or S.o2 neighbor.\n",
      "RDKit WARNING: [21:00:44] 3qwk_X62_LIG.pdb: warning - O.co2 with non C.2 or S.o2 neighbor.\n",
      "RDKit WARNING: [21:00:44] 3qx2_X63_LIG.pdb: warning - O.co2 with non C.2 or S.o2 neighbor.\n",
      "RDKit WARNING: [21:00:44] 3qx4_X4B_LIG.pdb: warning - O.co2 with non C.2 or S.o2 neighbor.\n",
      "RDKit WARNING: [21:00:44] 3qxo_X65_LIG.pdb: warning - O.co2 with non C.2 or S.o2 neighbor.\n",
      "RDKit WARNING: [21:00:44] 3qxp_X64_LIG.pdb: warning - O.co2 with non C.2 or S.o2 neighbor.\n",
      "RDKit ERROR: [21:00:44] Explicit valence for atom # 4 C, 5, is greater than permitted\n",
      "RDKit WARNING: [21:00:44] sanitise [21:00:44] 3qzg_X67_LIG.pdb: [21:00:44] 3qzh_X69_LIG.pdb: warning - O.co2 with non C.2 or S.o2 neighbor.\n",
      "RDKit WARNING: [21:00:44] 3qzi_X72_LIG.pdb: warning - O.co2 with non C.2 or S.o2 neighbor.\n",
      "RDKit WARNING: [21:00:44] 3r1q_X75_LIG.pdb: warning - O.co2 with non C.2 or S.o2 neighbor.\n",
      "RDKit WARNING: [21:00:44] 3r1s_X73_LIG.pdb: warning - O.co2 with non C.2 or S.o2 neighbor.\n",
      "RDKit WARNING: [21:00:44] 3r28_XA0_LIG.pdb: warning - O.co2 with non C.2 or S.o2 neighbor.\n",
      "RDKit WARNING: [21:00:44] 3r6x_X84_LIG.pdb: warning - O.co2 with non C.2 or S.o2 neighbor.\n",
      "RDKit WARNING: [21:00:44] 3r71_X86_LIG.pdb: warning - O.co2 with non C.2 or S.o2 neighbor.\n",
      "RDKit WARNING: [21:00:44] 3r73_X87_LIG.pdb: warning - O.co2 with non C.2 or S.o2 neighbor.\n",
      "RDKit WARNING: [21:00:44] 3r7e_X88_LIG.pdb: warning - O.co2 with non C.2 or S.o2 neighbor.\n",
      "RDKit WARNING: [21:00:44] 3r7i_X9I_LIG.pdb: warning - O.co2 with non C.2 or S.o2 neighbor.\n",
      "RDKit WARNING: [21:00:44] 3r7u_X96_LIG.pdb: warning - O.co2 with non C.2 or S.o2 neighbor.\n",
      "RDKit WARNING: [21:00:44] 3r7v_Z02_LIG.pdb: warning - O.co2 with non C.2 or S.o2 neighbor.\n",
      "RDKit WARNING: [21:00:44] 3r7y_Z04_LIG.pdb: warning - O.co2 with non C.2 or S.o2 neighbor.\n",
      "RDKit WARNING: [21:00:44] 3r83_Z14_LIG.pdb: warning - O.co2 with non C.2 or S.o2 neighbor.\n",
      "RDKit ERROR: [21:00:44] Explicit valence for atom # 2 C, 5, is greater than permitted\n",
      "RDKit ERROR: [21:00:44] Can't kekulize mol.  Unkekulized atoms: 0 1 2 3 4 9 10 11 12\n",
      "RDKit ERROR: \n",
      "RDKit ERROR: [21:00:44] Explicit valence for atom # 2 C, 6, is greater than permitted\n",
      "RDKit ERROR: [21:00:44] Explicit valence for atom # 2 C, 5, is greater than permitted\n",
      "RDKit WARNING: [21:00:44] sanitise [21:00:44] 3r8l_Z30_LIG.pdb: [21:00:44] sanitise [21:00:44] 3r8m_Z19_LIG.pdb: [21:00:44] sanitise [21:00:44] 3r8p_Z46_LIG.pdb: [21:00:44] sanitise [21:00:44] 3r8u_Z31_LIG.pdb: [21:00:44] 3r8v_Z62_LIG.pdb: warning - O.co2 with non C.2 or S.o2 neighbor.\n",
      "RDKit WARNING: [21:00:44] 3r9n_Z68_LIG.pdb: warning - O.co2 with non C.2 or S.o2 neighbor.\n",
      "RDKit WARNING: [21:00:44] 3rai_X85_LIG.pdb: warning - O.co2 with non C.2 or S.o2 neighbor.\n",
      "RDKit WARNING: [21:00:44] 3rm6_18Z_LIG.pdb: warning - O.co2 with non C.2 or S.o2 neighbor.\n",
      "RDKit WARNING: [21:00:44] 3rm7_19Z_LIG.pdb: warning - O.co2 with non C.2 or S.o2 neighbor.\n",
      "RDKit WARNING: [21:00:44] 3roy_22Z_LIG.pdb: warning - O.co2 with non C.2 or S.o2 neighbor.\n",
      "RDKit WARNING: [21:00:44] 3rpo_24Z_LIG.pdb: warning - O.co2 with non C.2 or S.o2 neighbor.\n",
      "RDKit WARNING: [21:00:44] 3sw7_19K_LIG.pdb: warning - O.co2 with non C.2 or S.o2 neighbor.\n",
      "RDKit ERROR: [21:00:44] Can't kekulize mol.  Unkekulized atoms: 1 2 3 5 6 7 8 13 17\n",
      "RDKit ERROR: \n",
      "RDKit ERROR: [21:00:44] Explicit valence for atom # 7 C, 5, is greater than permitted\n",
      "RDKit ERROR: [21:00:44] Can't kekulize mol.  Unkekulized atoms: 9 10 12 13 14\n",
      "RDKit ERROR: \n",
      "RDKit ERROR: [21:00:44] Explicit valence for atom # 8 C, 5, is greater than permitted\n",
      "RDKit ERROR: [21:00:44] Explicit valence for atom # 7 C, 6, is greater than permitted\n",
      "RDKit ERROR: [21:00:44] Can't kekulize mol.  Unkekulized atoms: 0 1 2 3 9 10 11 24 25\n",
      "RDKit ERROR: \n",
      "RDKit ERROR: [21:00:44] Explicit valence for atom # 17 C, 6, is greater than permitted\n",
      "RDKit ERROR: [21:00:44] Can't kekulize mol.  Unkekulized atoms: 4 5 6 7 8 9 10 12 13\n",
      "RDKit ERROR: \n",
      "RDKit ERROR: [21:00:44] Can't kekulize mol.  Unkekulized atoms: 8 9 10 12 13 14 15 16 17\n",
      "RDKit ERROR: \n",
      "RDKit ERROR: [21:00:44] Can't kekulize mol.  Unkekulized atoms: 0 1 3 4 5 6 8 9 10\n",
      "RDKit ERROR: \n",
      "RDKit ERROR: [21:00:44] Explicit valence for atom # 13 C, 5, is greater than permitted\n",
      "RDKit ERROR: [21:00:44] Can't kekulize mol.  Unkekulized atoms: 0 1 3 4 5 6 8 9 10\n",
      "RDKit ERROR: \n",
      "RDKit ERROR: [21:00:44] Can't kekulize mol.  Unkekulized atoms: 0 2 10 12 15\n",
      "RDKit ERROR: \n",
      "RDKit ERROR: [21:00:44] Can't kekulize mol.  Unkekulized atoms: 2 3 10 17 18\n",
      "RDKit ERROR: \n",
      "RDKit WARNING: [21:00:44] sanitise [21:00:44] 3ti1_B49_LIG.pdb: [21:00:44] sanitise [21:00:44] 3tiy_TIY_LIG.pdb: [21:00:44] sanitise [21:00:44] 3tnw_F18_LIG.pdb: [21:00:44] sanitise [21:00:44] 3uli_1N3_LIG.pdb: [21:00:44] sanitise [21:00:44] 3wbl_PDY_LIG.pdb: [21:00:44] sanitise [21:00:44] 4bzd_D6I_LIG.pdb: [21:00:44] sanitise [21:00:44] 4cfm_4QE_LIG.pdb: [21:00:44] sanitise [21:00:44] 4cfn_JYM_LIG.pdb: [21:00:44] sanitise [21:00:44] 4cfu_2WC_LIG.pdb: [21:00:44] sanitise [21:00:44] 4cfv_75X_LIG.pdb: [21:00:44] sanitise [21:00:44] 4cfw_SQ9_LIG.pdb: [21:00:44] sanitise [21:00:44] 4cfx_G6T_LIG.pdb: [21:00:44] sanitise [21:00:44] 4ek4_1CK_LIG.pdb: [21:00:44] sanitise [21:00:44] 4ek5_03K_LIG.pdb: [21:00:44] 4ek8_16K_LIG.pdb: warning - O.co2 with non C.2 or S.o2 neighbor.\n",
      "RDKit WARNING: [21:00:44] 4eoj_ATP_LIG.pdb: warning - O.co2 with non C.2 or S.o2 neighbor.\n",
      "RDKit ERROR: [21:00:44] Can't kekulize mol.  Unkekulized atoms: 0 1 14 15 17 18 19 20 21\n",
      "RDKit ERROR: \n",
      "RDKit WARNING: [21:00:44] sanitise [21:00:44] 4eok_4SP_LIG.pdb: [21:00:44] 4eom_ATP_LIG.pdb: warning - O.co2 with non C.2 or S.o2 neighbor.\n",
      "RDKit WARNING: [21:00:44] 4eoo_ATP_LIG.pdb: warning - O.co2 with non C.2 or S.o2 neighbor.\n",
      "RDKit WARNING: [21:00:44] 4eoq_ATP_LIG.pdb: warning - O.co2 with non C.2 or S.o2 neighbor.\n",
      "RDKit ERROR: [21:00:44] Can't kekulize mol.  Unkekulized atoms: 0 1 14 15 17 18 19 20 21\n",
      "RDKit ERROR: \n",
      "RDKit ERROR: [21:00:44] Can't kekulize mol.  Unkekulized atoms: 7 8 9 10 11 12 13 14 15 16 17 18 19 20 21 22 24 25 26 27 28 29 30\n",
      "RDKit ERROR: \n",
      "RDKit ERROR: [21:00:44] Explicit valence for atom # 5 C, 5, is greater than permitted\n",
      "RDKit ERROR: [21:00:44] Can't kekulize mol.  Unkekulized atoms: 7 8 9 10 11 12 13 14 15 16 17 18 19 20 21 22 24 25 26 27 28 29 30\n",
      "RDKit ERROR: \n",
      "RDKit ERROR: [21:00:44] Can't kekulize mol.  Unkekulized atoms: 0 1 10 17 18\n",
      "RDKit ERROR: \n",
      "RDKit ERROR: [21:00:44] Can't kekulize mol.  Unkekulized atoms: 6 10 17 18 19\n",
      "RDKit ERROR: \n",
      "RDKit ERROR: [21:00:44] Can't kekulize mol.  Unkekulized atoms: 0 1 9 23 24\n",
      "RDKit ERROR: \n",
      "RDKit ERROR: [21:00:44] Explicit valence for atom # 1 C, 6, is greater than permitted\n",
      "RDKit ERROR: [21:00:44] Can't kekulize mol.  Unkekulized atoms: 1 2 3 14 15 20 21 22 23\n",
      "RDKit ERROR: \n",
      "RDKit ERROR: [21:00:44] Explicit valence for atom # 6 C, 5, is greater than permitted\n",
      "RDKit ERROR: [21:00:44] Explicit valence for atom # 16 C, 5, is greater than permitted\n",
      "RDKit ERROR: [21:00:44] Explicit valence for atom # 15 C, 5, is greater than permitted\n",
      "RDKit ERROR: [21:00:44] Explicit valence for atom # 28 C, 6, is greater than permitted\n",
      "RDKit ERROR: [21:00:44] Explicit valence for atom # 24 C, 6, is greater than permitted\n",
      "RDKit WARNING: [21:00:44] sanitise [21:00:44] 4eor_4SP_LIG.pdb: [21:00:44] sanitise [21:00:44] 4erw_STU_LIG.pdb: [21:00:44] sanitise [21:00:44] 4ez3_0S0_LIG.pdb: [21:00:44] sanitise [21:00:44] 4ez7_STU_LIG.pdb: [21:00:44] sanitise [21:00:44] 4fkg_4CK_LIG.pdb: [21:00:44] sanitise [21:00:44] 4fki_09K_LIG.pdb: [21:00:44] sanitise [21:00:44] 4fkj_11K_LIG.pdb: [21:00:44] sanitise [21:00:44] 4fkp_LS5_LIG.pdb: [21:00:44] sanitise [21:00:44] 4fkq_42K_LIG.pdb: [21:00:44] sanitise [21:00:44] 4fkr_45K_LIG.pdb: [21:00:44] sanitise [21:00:44] 4fks_46K_LIG.pdb: [21:00:44] sanitise [21:00:44] 4fkt_48K_LIG.pdb: [21:00:44] sanitise [21:00:44] 4fkv_61K_LIG.pdb: [21:00:44] sanitise [21:00:44] 4fkw_62K_LIG.pdb: [21:00:44] 4gcj_X64_LIG.pdb: warning - O.co2 with non C.2 or S.o2 neighbor.\n",
      "RDKit WARNING: [21:00:44] 4i3z_ADP_LIG.pdb: warning - O.co2 with non C.2 or S.o2 neighbor.\n",
      "RDKit WARNING: [21:00:44] 4ii5_ADP_LIG.pdb: warning - O.co2 with non C.2 or S.o2 neighbor.\n",
      "RDKit ERROR: [21:00:44] Explicit valence for atom # 0 C, 5, is greater than permitted\n",
      "RDKit ERROR: [21:00:44] Can't kekulize mol.  Unkekulized atoms: 15 16 17 18 19 20 21 27 28\n",
      "RDKit ERROR: \n",
      "RDKit ERROR: [21:00:44] Explicit valence for atom # 12 C, 6, is greater than permitted\n",
      "RDKit ERROR: [21:00:44] Can't kekulize mol.  Unkekulized atoms: 0 2 3 6 7 10 11 12 13\n",
      "RDKit ERROR: \n",
      "RDKit ERROR: [21:00:44] Can't kekulize mol.  Unkekulized atoms: 0 1 2 3 4 5 6 7 8\n",
      "RDKit ERROR: \n",
      "RDKit ERROR: [21:00:44] Can't kekulize mol.  Unkekulized atoms: 0 2 3 4 5 6 7 8 9\n",
      "RDKit ERROR: \n",
      "RDKit ERROR: [21:00:44] Can't kekulize mol.  Unkekulized atoms: 0 1 2 3 5 6 7 8 10\n",
      "RDKit ERROR: \n",
      "RDKit ERROR: [21:00:44] Can't kekulize mol.  Unkekulized atoms: 3 5 6 7 8 11 12 14 24\n",
      "RDKit ERROR: \n",
      "RDKit ERROR: [21:00:44] Can't kekulize mol.  Unkekulized atoms: 4 5 6 7 8 10 11 12 14\n",
      "RDKit ERROR: \n",
      "RDKit ERROR: [21:00:44] Explicit valence for atom # 9 C, 6, is greater than permitted\n",
      "RDKit ERROR: [21:00:44] Explicit valence for atom # 14 C, 5, is greater than permitted\n",
      "RDKit ERROR: [21:00:44] Explicit valence for atom # 4 C, 5, is greater than permitted\n",
      "RDKit WARNING: [21:00:44] sanitise [21:00:44] 4kd1_1QK_LIG.pdb: [21:00:44] sanitise [21:00:44] 4rj3_3QS_LIG.pdb: [21:00:44] sanitise [21:00:44] 5a14_LQ5_LIG.pdb: [21:00:44] sanitise [21:00:44] 5and_5JE_LIG.pdb: [21:00:44] sanitise [21:00:44] 5ane_SZL_LIG.pdb: [21:00:44] sanitise [21:00:44] 5ani_ES4_LIG.pdb: [21:00:44] sanitise [21:00:44] 5anj_ZXC_LIG.pdb: [21:00:44] sanitise [21:00:44] 5cyi_55S_LIG.pdb: [21:00:44] sanitise [21:00:44] 5fp6_MFZ_LIG.pdb: [21:00:44] sanitise [21:00:44] 5jq5_I74_LIG.pdb: [21:00:44] sanitise [21:00:44] 5jq8_I73_LIG.pdb: [21:00:44] sanitise [21:00:44] 5k4j_6QB_LIG.pdb: [21:00:44] 5l2w_1QK_LIG.pdb: warning - O.co2 with non C.2 or S.o2 neighbor.\n",
      "RDKit ERROR: [21:00:44] Explicit valence for atom # 15 C, 5, is greater than permitted\n",
      "RDKit ERROR: [21:00:44] Can't kekulize mol.  Unkekulized atoms: 0 7 8 9 10 11 12 13 14\n",
      "RDKit ERROR: \n",
      "RDKit ERROR: [21:00:44] Explicit valence for atom # 4 C, 5, is greater than permitted\n",
      "RDKit ERROR: [21:00:44] Explicit valence for atom # 1 C, 5, is greater than permitted\n",
      "RDKit ERROR: [21:00:44] Can't kekulize mol.  Unkekulized atoms: 0 11 13 16 22\n",
      "RDKit ERROR: \n"
     ]
    },
    {
     "name": "stderr",
     "output_type": "stream",
     "text": [
      "RDKit ERROR: [21:00:44] Can't kekulize mol.  Unkekulized atoms: 8 9 10 11 12 13 16 17 18\n",
      "RDKit ERROR: \n",
      "RDKit ERROR: [21:00:44] Can't kekulize mol.  Unkekulized atoms: 0 11 13 16 22\n",
      "RDKit ERROR: \n",
      "RDKit ERROR: [21:00:44] Can't kekulize mol.  Unkekulized atoms: 0 2 9 11 12 13 18 25 26\n",
      "RDKit ERROR: \n",
      "RDKit ERROR: [21:00:44] Can't kekulize mol.  Unkekulized atoms: 0 2 3 5 8 11 12 14 19\n",
      "RDKit ERROR: \n",
      "RDKit ERROR: [21:00:44] Explicit valence for atom # 0 C, 5, is greater than permitted\n",
      "RDKit ERROR: [21:00:44] Can't kekulize mol.  Unkekulized atoms: 0 1 3 4 5 6 7 9 10\n",
      "RDKit ERROR: \n",
      "RDKit ERROR: [21:00:44] Can't kekulize mol.  Unkekulized atoms: 3 8 9 11 13 14 15 18 19\n",
      "RDKit ERROR: \n",
      "RDKit ERROR: [21:00:44] Can't kekulize mol.  Unkekulized atoms: 3 8 9 11 13 14 15 19 20\n",
      "RDKit ERROR: \n",
      "RDKit ERROR: [21:00:44] Explicit valence for atom # 4 C, 5, is greater than permitted\n"
     ]
    }
   ],
   "source": [
    "path_crys_poses = \"../ARCHIVOS/CRISTALES/LIGS_CDK2/IN_POCKET_NON_PREP/\"\n",
    "files_pose_crys = sorted( glob.glob(path_crys_poses + \"*mol2\") )\n",
    "# El número de ligandos a evaluar\n",
    "print(F'Número de archivos de ligandos a cargar: {len(files_pose_crys)}')\n",
    "\n",
    "ligs_cdk2_dic = {}\n",
    "for file in files_pose_crys:\n",
    "    pdb_id = file.split(\"/\")[-1].split(\"_\")[0]\n",
    "    ligs_cdk2_dic[pdb_id] =  Chem.MolFromMol2File(file, sanitize = True)"
   ]
  },
  {
   "cell_type": "markdown",
   "metadata": {},
   "source": [
    "#### Comparación entre archivos SDF y PDB\n",
    "Sólo a modo de ejemplo lo comparamos con un archivo PDB."
   ]
  },
  {
   "cell_type": "code",
   "execution_count": 63,
   "metadata": {},
   "outputs": [],
   "source": [
    "# Cargamos un archivo pdb como prueba\n",
    "_pdb_prueba = Chem.MolFromPDBFile(\"../ARCHIVOS/CRISTALES/LIGS_CDK2/LIGS_PREP_PDB_REDUCED/1b38_ATP_LIG.pdb\")"
   ]
  },
  {
   "cell_type": "code",
   "execution_count": 476,
   "metadata": {},
   "outputs": [
    {
     "ename": "TypeError",
     "evalue": "'NoneType' object is not subscriptable",
     "output_type": "error",
     "traceback": [
      "\u001b[0;31m---------------------------------------------------------------------------\u001b[0m",
      "\u001b[0;31mTypeError\u001b[0m                                 Traceback (most recent call last)",
      "\u001b[0;32m<ipython-input-476-ee9c5254be50>\u001b[0m in \u001b[0;36m<module>\u001b[0;34m\u001b[0m\n\u001b[1;32m      1\u001b[0m \u001b[0;31m# visualización con rdkit\u001b[0m\u001b[0;34m\u001b[0m\u001b[0;34m\u001b[0m\u001b[0;34m\u001b[0m\u001b[0m\n\u001b[0;32m----> 2\u001b[0;31m \u001b[0mcargas_\u001b[0m \u001b[0;34m=\u001b[0m \u001b[0;34m[\u001b[0m\u001b[0mChem\u001b[0m\u001b[0;34m.\u001b[0m\u001b[0mrdmolops\u001b[0m\u001b[0;34m.\u001b[0m\u001b[0mGetFormalCharge\u001b[0m\u001b[0;34m(\u001b[0m\u001b[0mi\u001b[0m\u001b[0;34m)\u001b[0m \u001b[0;32mfor\u001b[0m \u001b[0mi\u001b[0m \u001b[0;32min\u001b[0m \u001b[0;34m[\u001b[0m\u001b[0mligs_cdk2_dic\u001b[0m\u001b[0;34m[\u001b[0m\u001b[0;34m'1b38'\u001b[0m\u001b[0;34m]\u001b[0m\u001b[0;34m[\u001b[0m\u001b[0;36m0\u001b[0m\u001b[0;34m]\u001b[0m\u001b[0;34m,\u001b[0m \u001b[0m_pdb_prueba\u001b[0m\u001b[0;34m]\u001b[0m\u001b[0;34m]\u001b[0m\u001b[0;34m\u001b[0m\u001b[0;34m\u001b[0m\u001b[0m\n\u001b[0m\u001b[1;32m      3\u001b[0m Chem.Draw.MolsToGridImage([ligs_cdk2_dic['1b38'][0], _pdb_prueba],\n\u001b[1;32m      4\u001b[0m                          legends = [F'Archivo SDF (correcto) - Carga: {cargas_[0]}', \n\u001b[1;32m      5\u001b[0m                                     F'Archivo PDB (incorrecto) - Carga: {cargas_[1]}'],\n",
      "\u001b[0;31mTypeError\u001b[0m: 'NoneType' object is not subscriptable"
     ]
    }
   ],
   "source": [
    "# visualización con rdkit\n",
    "cargas_ = [Chem.rdmolops.GetFormalCharge(i) for i in [ligs_cdk2_dic['1b38'][0], _pdb_prueba]]\n",
    "Chem.Draw.MolsToGridImage([ligs_cdk2_dic['1b38'][0], _pdb_prueba],\n",
    "                         legends = [F'Archivo SDF (correcto) - Carga: {cargas_[0]}', \n",
    "                                    F'Archivo PDB (incorrecto) - Carga: {cargas_[1]}'],\n",
    "                         subImgSize = (300, 300))"
   ]
  },
  {
   "cell_type": "markdown",
   "metadata": {},
   "source": [
    "#### Visualización en 2d"
   ]
  },
  {
   "cell_type": "code",
   "execution_count": 65,
   "metadata": {},
   "outputs": [
    {
     "data": {
      "image/png": "[encoded data removed]",
      "text/plain": [
       "<PIL.PngImagePlugin.PngImageFile image mode=RGB size=1050x300 at 0x7F60F1C16D10>"
      ]
     },
     "execution_count": 65,
     "metadata": {},
     "output_type": "execute_result"
    }
   ],
   "source": [
    "import copy\n",
    "a_ = copy.copy(ligs_cdk2_dic['1b38'][0]); b_ = copy.copy(_pdb_prueba)\n",
    "for i in [a_, b_]: AllChem.Compute2DCoords(i)\n",
    "Chem.Draw.MolsToGridImage([a_, b_],\n",
    "                     legends = [F'Archivo SDF (correcto) - Carga: {cargas_[0]}', \n",
    "                                    F'Archivo PDB (incorrecto) - Carga: {cargas_[1]}'],\n",
    "                     subImgSize = (350, 300))"
   ]
  },
  {
   "cell_type": "markdown",
   "metadata": {},
   "source": [
    "La carga neta del **ATP** a pH 7.4 es de -3. [Ver fuente en Zinc15](http://zinc15.docking.org/substances/ZINC000004261765/)"
   ]
  },
  {
   "cell_type": "markdown",
   "metadata": {},
   "source": [
    "## DataFrame\n",
    "#### Creamos un Dataframe a partir del diccionario.\n",
    "En este punto se crea un **Dataframe** que permita vincular cada objeto de rdkir con el nombre de la molécula, el PDB id al que pertenece y al archivo del ligando."
   ]
  },
  {
   "cell_type": "code",
   "execution_count": 66,
   "metadata": {},
   "outputs": [
    {
     "data": {
      "text/html": [
       "<div>\n",
       "<style scoped>\n",
       "    .dataframe tbody tr th:only-of-type {\n",
       "        vertical-align: middle;\n",
       "    }\n",
       "\n",
       "    .dataframe tbody tr th {\n",
       "        vertical-align: top;\n",
       "    }\n",
       "\n",
       "    .dataframe thead th {\n",
       "        text-align: right;\n",
       "    }\n",
       "</style>\n",
       "<table border=\"1\" class=\"dataframe\">\n",
       "  <thead>\n",
       "    <tr style=\"text-align: right;\">\n",
       "      <th></th>\n",
       "      <th>Lig</th>\n",
       "      <th>mol_rdk</th>\n",
       "      <th>file</th>\n",
       "      <th>Labels_conf</th>\n",
       "    </tr>\n",
       "  </thead>\n",
       "  <tbody>\n",
       "    <tr>\n",
       "      <th>1aq1</th>\n",
       "      <td>STU</td>\n",
       "      <td>&lt;rdkit.Chem.rdchem.Mol object at 0x7f60f0ef6120&gt;</td>\n",
       "      <td>../ARCHIVOS/CRISTALES/LIGS_CDK2/LIGS_PREP_SDF_...</td>\n",
       "      <td>inact_b</td>\n",
       "    </tr>\n",
       "    <tr>\n",
       "      <th>1b38</th>\n",
       "      <td>ATP</td>\n",
       "      <td>&lt;rdkit.Chem.rdchem.Mol object at 0x7f60f0ef6850&gt;</td>\n",
       "      <td>../ARCHIVOS/CRISTALES/LIGS_CDK2/LIGS_PREP_SDF_...</td>\n",
       "      <td>inact_a</td>\n",
       "    </tr>\n",
       "    <tr>\n",
       "      <th>1b39</th>\n",
       "      <td>ATP</td>\n",
       "      <td>&lt;rdkit.Chem.rdchem.Mol object at 0x7f60f0ef67b0&gt;</td>\n",
       "      <td>../ARCHIVOS/CRISTALES/LIGS_CDK2/LIGS_PREP_SDF_...</td>\n",
       "      <td>inact_a</td>\n",
       "    </tr>\n",
       "    <tr>\n",
       "      <th>1ckp</th>\n",
       "      <td>PVB</td>\n",
       "      <td>&lt;rdkit.Chem.rdchem.Mol object at 0x7f60f0ef68a0&gt;</td>\n",
       "      <td>../ARCHIVOS/CRISTALES/LIGS_CDK2/LIGS_PREP_SDF_...</td>\n",
       "      <td>inact_a</td>\n",
       "    </tr>\n",
       "    <tr>\n",
       "      <th>1di8</th>\n",
       "      <td>DTQ</td>\n",
       "      <td>&lt;rdkit.Chem.rdchem.Mol object at 0x7f60f0ef6990&gt;</td>\n",
       "      <td>../ARCHIVOS/CRISTALES/LIGS_CDK2/LIGS_PREP_SDF_...</td>\n",
       "      <td>inact_a</td>\n",
       "    </tr>\n",
       "  </tbody>\n",
       "</table>\n",
       "</div>"
      ],
      "text/plain": [
       "      Lig                                           mol_rdk  \\\n",
       "1aq1  STU  <rdkit.Chem.rdchem.Mol object at 0x7f60f0ef6120>   \n",
       "1b38  ATP  <rdkit.Chem.rdchem.Mol object at 0x7f60f0ef6850>   \n",
       "1b39  ATP  <rdkit.Chem.rdchem.Mol object at 0x7f60f0ef67b0>   \n",
       "1ckp  PVB  <rdkit.Chem.rdchem.Mol object at 0x7f60f0ef68a0>   \n",
       "1di8  DTQ  <rdkit.Chem.rdchem.Mol object at 0x7f60f0ef6990>   \n",
       "\n",
       "                                                   file Labels_conf  \n",
       "1aq1  ../ARCHIVOS/CRISTALES/LIGS_CDK2/LIGS_PREP_SDF_...     inact_b  \n",
       "1b38  ../ARCHIVOS/CRISTALES/LIGS_CDK2/LIGS_PREP_SDF_...     inact_a  \n",
       "1b39  ../ARCHIVOS/CRISTALES/LIGS_CDK2/LIGS_PREP_SDF_...     inact_a  \n",
       "1ckp  ../ARCHIVOS/CRISTALES/LIGS_CDK2/LIGS_PREP_SDF_...     inact_a  \n",
       "1di8  ../ARCHIVOS/CRISTALES/LIGS_CDK2/LIGS_PREP_SDF_...     inact_a  "
      ]
     },
     "execution_count": 66,
     "metadata": {},
     "output_type": "execute_result"
    }
   ],
   "source": [
    "# Lista de PDBIds y sus ligandos\n",
    "df_crys_poses_rdk = pd.DataFrame.from_dict(pdbId_lig_dic, orient='index', columns=[\"Lig\"])\n",
    "# Se añaden las rutas a losarchivos pdb\n",
    "df_crys_poses_rdk[\"mol_rdk\"] = [i[0] for i in ligs_cdk2_dic.values()]\n",
    "df_crys_poses_rdk[\"file\"] = files_pose_crys\n",
    "df_crys_poses_rdk[\"Labels_conf\"] = df_cdk2_labels.loc[pdbId_lig_dic.keys()].Labels_conf\n",
    "# Visualizamos parte del dataframe\n",
    "df_crys_poses_rdk.head(5)"
   ]
  },
  {
   "cell_type": "markdown",
   "metadata": {},
   "source": [
    "#### Para accesar directamente a una molécula:"
   ]
  },
  {
   "cell_type": "code",
   "execution_count": 285,
   "metadata": {},
   "outputs": [
    {
     "name": "stdout",
     "output_type": "stream",
     "text": [
      "Lig               QQ2\n",
      "Labels_conf    active\n",
      "Name: 2iw6, dtype: object\n"
     ]
    },
    {
     "data": {
      "image/png": "[encoded data removed]",
      "text/plain": [
       "<rdkit.Chem.rdchem.Mol at 0x7f60f1e301c0>"
      ]
     },
     "execution_count": 285,
     "metadata": {},
     "output_type": "execute_result"
    }
   ],
   "source": [
    "print(df_crys_poses_rdk.loc['2iw6', ['Lig', 'Labels_conf']])\n",
    "df_crys_poses_rdk.loc['2iw6', 'mol_rdk']"
   ]
  },
  {
   "cell_type": "code",
   "execution_count": 453,
   "metadata": {},
   "outputs": [
    {
     "data": {
      "image/png": "[encoded data removed]",
      "text/plain": [
       "<rdkit.Chem.rdchem.Mol at 0x7f60f0ef6b70>"
      ]
     },
     "execution_count": 453,
     "metadata": {},
     "output_type": "execute_result"
    }
   ],
   "source": [
    "g = df_crys_poses_rdk.loc['1fin', 'mol_rdk']\n",
    "AllChem.Compute2DCoords(g)\n",
    "g"
   ]
  },
  {
   "cell_type": "markdown",
   "metadata": {},
   "source": [
    "### Visualizamos las poses: Ejemplo ATP\n",
    "Como ejemplo podemos hacer una búsqueda para elegir el número de conformaciones que poseen ATP."
   ]
  },
  {
   "cell_type": "code",
   "execution_count": 68,
   "metadata": {},
   "outputs": [
    {
     "name": "stdout",
     "output_type": "stream",
     "text": [
      "Número de estructuras cristalográficas que poseen ATP:       15\n"
     ]
    }
   ],
   "source": [
    "print(F'Número de estructuras cristalográficas que poseen ATP: \\\n",
    "      {len(df_crys_poses_rdk[df_crys_poses_rdk.Lig == \"ATP\"])}')"
   ]
  },
  {
   "cell_type": "markdown",
   "metadata": {},
   "source": [
    "Importamos **nglview**, y para este ejemplo usamos los archivos *pdb* de los ligandos, aunque también es posible realizar la vizualización desde los objetos de rdkit. Pra este ejemplo seleccionamos las conformaciones de ATP en estructuras inactivas de CDK2."
   ]
  },
  {
   "cell_type": "code",
   "execution_count": 18,
   "metadata": {},
   "outputs": [
    {
     "data": {
      "application/vnd.jupyter.widget-view+json": {
       "model_id": "393376be415841b29c6fd9735c467c82",
       "version_major": 2,
       "version_minor": 0
      },
      "text/plain": [
       "NGLWidget(background='#333333')"
      ]
     },
     "metadata": {},
     "output_type": "display_data"
    }
   ],
   "source": [
    "import nglview\n",
    "view = nglview.NGLWidget()\n",
    "view.background = '#333333'\n",
    "# Creamos una lista de moléculas a visualizar\n",
    "list_viz_files = df_crys_poses_rdk.file[df_crys_poses_rdk.Lig == \"ATP\"]\n",
    "# Leemos los archivos usando pytraj y los visualizamos con nglview\n",
    "for file in list_viz_files:\n",
    "    view.add_component(file)\n",
    "view"
   ]
  },
  {
   "cell_type": "code",
   "execution_count": 19,
   "metadata": {},
   "outputs": [
    {
     "data": {
      "text/html": [
       "\n",
       "        <iframe\n",
       "            width=\"800\"\n",
       "            height=\"320\"\n",
       "            src=\"atp_poses_view.html\"\n",
       "            frameborder=\"0\"\n",
       "            allowfullscreen\n",
       "        ></iframe>\n",
       "        "
      ],
      "text/plain": [
       "<IPython.lib.display.IFrame at 0x7f7558099110>"
      ]
     },
     "execution_count": 19,
     "metadata": {},
     "output_type": "execute_result"
    }
   ],
   "source": [
    "nglview.write_html('atp_poses_view.html', [view])\n",
    "\n",
    "from IPython.display import IFrame\n",
    "\n",
    "IFrame(src=\"atp_poses_view.html\", width=800, height=320)"
   ]
  },
  {
   "cell_type": "markdown",
   "metadata": {},
   "source": [
    "***\n",
    "<h1 class='text-danger'>Descriptores WHIM\n",
    "<small class=\"text-muted\">Weighted Holistic Invariant Molecular descriptors</small>\n",
    "</h1>\n",
    "\n",
    "- Los descriptores WHIM son **descriptores geométricos (3D)**.\n",
    "- Se construyen de tal forma que capturan información tridimencional relacionada con el tamaño molecular, la forma, la simetría y la distribución atómica.  \n",
    "- La molécula es representada como una **configuración de puntos** (los átomos) en un espacio tridimencional definido por los ejes $x, y, z$.\n",
    "- En términos generales su cálculo consiste en **centrar las coordenadas de los átomos** de la molécula, **calcular la matriz de covarianzas** de las coordenadas ($S_{qq'}$) y calcular los **eigenvalores** de dicha matriz:\n",
    "\n",
    "$$S_{qq'} = \\frac{\\sum_{i=1}^{A}w_i (q_i - \\overline{q}) (q'_i - \\overline{q}')}{\\sum_{i=1}^{A}w_i},$$\n",
    "\n",
    "> donde $q_i$ y $q'_i$ son coordenadas atómicas ($x, y, z$) del átomo $i$, $\\overline{q}$ y $\\overline{q}'$ son las medias de las coordenadas, $A$ es el número de átomos, $w_i$ es un 'peso' o porpiedad según el tipo de átomo.\n",
    "- Cada eigenvalor ($\\lambda_1, \\lambda_2, \\lambda_3$) de la matriz de covarianzas representa una medida de dispersión de los átomos proyectados en cada uno de los 3 ejes principales. Esta dispersión y distribución atómica en los ejes principales es depués evaluada en cada uno de los descriptores.\n",
    "\n",
    "- **Se dividen en dos clases principales:**\n",
    "    - Descriptores Axiales o Direccionales\n",
    "    - Descriptores Globales\n",
    "- Los descriptores direccionales son calculados a apartir de los eigenvalores de la matriz de covarianzas.\n",
    "- Los descriptores globales son una combinación de los direccionales.\n",
    "\n",
    "Los descriptores:\n",
    "- **Axiales o Direccionales:**\n",
    "    - $L_k$ : Dimensión axial (k = 1, 2, 3)\n",
    "    - $P_k$ : Forma axial (k = 1, 2); rdkit omite el k = 3\n",
    "    - $G_k$ : Simetria axial (k = 1, 2, 3)\n",
    "    - $E_k$ : Densidad axial (k = 1, 2, 3)  \n",
    "<br>\n",
    "- **Globales:**\n",
    "    - $T$ : Dimensión Global\n",
    "    - $A$ : Dimensión Global\n",
    "    - $G$ : Simetría Global\n",
    "    - $K$ : Forma Global\n",
    "    - $D$ : Densidad Global\n",
    "    - $V$ : Dimensión Global\n",
    "    \n",
    "- Los descriptores son invariantes a la traslación y a la rotación de la molécula. Invariante a la traslación porque las coordenadas de los átomos son centralizadas, e invariantes a la rotación, por la eigendescomposición de la matirz de covarianzas y la proyección en los eigenvectores resultantes.\n",
    "\n",
    "Las propiedades atómicas, o pesos, **_w_** son las siguientes (todos son escalados con respecto a un átomo de Carbono):\n",
    "- **_u_** : _unweighted_\n",
    "- **_m_** : _Atomic mass_\n",
    "- **_v_** : _van der Waals Volume_\n",
    "- **_e_** : _Sanderson Electronegativity_\n",
    "- **_p_** : _Atomic polarizability_\n",
    "- **_s_** : _Electropological satate indices of Kier and Hall_\n",
    "- **_i_** : _Topologycal I-state_"
   ]
  },
  {
   "cell_type": "markdown",
   "metadata": {},
   "source": [
    "### Calculamos los descriptores WHIM para las moléculas\n",
    "Creamos una **matriz donde cada fila corresponde a una molécula y las 114 características corresponden a las 114 propiedades** que calcula *rdkit*, las cuales son las mismas que calcula el software *Dragon*.\n",
    "\n",
    "> IMPORTANTE: https://sourceforge.net/p/rdkit/mailman/message/29261087/"
   ]
  },
  {
   "cell_type": "code",
   "execution_count": 69,
   "metadata": {},
   "outputs": [
    {
     "data": {
      "text/html": [
       "<div>\n",
       "<style scoped>\n",
       "    .dataframe tbody tr th:only-of-type {\n",
       "        vertical-align: middle;\n",
       "    }\n",
       "\n",
       "    .dataframe tbody tr th {\n",
       "        vertical-align: top;\n",
       "    }\n",
       "\n",
       "    .dataframe thead th {\n",
       "        text-align: right;\n",
       "    }\n",
       "</style>\n",
       "<table border=\"1\" class=\"dataframe\">\n",
       "  <thead>\n",
       "    <tr style=\"text-align: right;\">\n",
       "      <th></th>\n",
       "      <th>Lig</th>\n",
       "      <th>mol_rdk</th>\n",
       "      <th>file</th>\n",
       "      <th>Labels_conf</th>\n",
       "    </tr>\n",
       "  </thead>\n",
       "  <tbody>\n",
       "    <tr>\n",
       "      <th>1aq1</th>\n",
       "      <td>STU</td>\n",
       "      <td>&lt;rdkit.Chem.rdchem.Mol object at 0x7f60f0ef6120&gt;</td>\n",
       "      <td>../ARCHIVOS/CRISTALES/LIGS_CDK2/LIGS_PREP_SDF_...</td>\n",
       "      <td>inact_b</td>\n",
       "    </tr>\n",
       "    <tr>\n",
       "      <th>1b38</th>\n",
       "      <td>ATP</td>\n",
       "      <td>&lt;rdkit.Chem.rdchem.Mol object at 0x7f60f0ef6850&gt;</td>\n",
       "      <td>../ARCHIVOS/CRISTALES/LIGS_CDK2/LIGS_PREP_SDF_...</td>\n",
       "      <td>inact_a</td>\n",
       "    </tr>\n",
       "    <tr>\n",
       "      <th>1b39</th>\n",
       "      <td>ATP</td>\n",
       "      <td>&lt;rdkit.Chem.rdchem.Mol object at 0x7f60f0ef67b0&gt;</td>\n",
       "      <td>../ARCHIVOS/CRISTALES/LIGS_CDK2/LIGS_PREP_SDF_...</td>\n",
       "      <td>inact_a</td>\n",
       "    </tr>\n",
       "    <tr>\n",
       "      <th>1ckp</th>\n",
       "      <td>PVB</td>\n",
       "      <td>&lt;rdkit.Chem.rdchem.Mol object at 0x7f60f0ef68a0&gt;</td>\n",
       "      <td>../ARCHIVOS/CRISTALES/LIGS_CDK2/LIGS_PREP_SDF_...</td>\n",
       "      <td>inact_a</td>\n",
       "    </tr>\n",
       "    <tr>\n",
       "      <th>1di8</th>\n",
       "      <td>DTQ</td>\n",
       "      <td>&lt;rdkit.Chem.rdchem.Mol object at 0x7f60f0ef6990&gt;</td>\n",
       "      <td>../ARCHIVOS/CRISTALES/LIGS_CDK2/LIGS_PREP_SDF_...</td>\n",
       "      <td>inact_a</td>\n",
       "    </tr>\n",
       "    <tr>\n",
       "      <th>1dm2</th>\n",
       "      <td>HMD</td>\n",
       "      <td>&lt;rdkit.Chem.rdchem.Mol object at 0x7f60f0ef6710&gt;</td>\n",
       "      <td>../ARCHIVOS/CRISTALES/LIGS_CDK2/LIGS_PREP_SDF_...</td>\n",
       "      <td>inact_b</td>\n",
       "    </tr>\n",
       "  </tbody>\n",
       "</table>\n",
       "</div>"
      ],
      "text/plain": [
       "      Lig                                           mol_rdk  \\\n",
       "1aq1  STU  <rdkit.Chem.rdchem.Mol object at 0x7f60f0ef6120>   \n",
       "1b38  ATP  <rdkit.Chem.rdchem.Mol object at 0x7f60f0ef6850>   \n",
       "1b39  ATP  <rdkit.Chem.rdchem.Mol object at 0x7f60f0ef67b0>   \n",
       "1ckp  PVB  <rdkit.Chem.rdchem.Mol object at 0x7f60f0ef68a0>   \n",
       "1di8  DTQ  <rdkit.Chem.rdchem.Mol object at 0x7f60f0ef6990>   \n",
       "1dm2  HMD  <rdkit.Chem.rdchem.Mol object at 0x7f60f0ef6710>   \n",
       "\n",
       "                                                   file Labels_conf  \n",
       "1aq1  ../ARCHIVOS/CRISTALES/LIGS_CDK2/LIGS_PREP_SDF_...     inact_b  \n",
       "1b38  ../ARCHIVOS/CRISTALES/LIGS_CDK2/LIGS_PREP_SDF_...     inact_a  \n",
       "1b39  ../ARCHIVOS/CRISTALES/LIGS_CDK2/LIGS_PREP_SDF_...     inact_a  \n",
       "1ckp  ../ARCHIVOS/CRISTALES/LIGS_CDK2/LIGS_PREP_SDF_...     inact_a  \n",
       "1di8  ../ARCHIVOS/CRISTALES/LIGS_CDK2/LIGS_PREP_SDF_...     inact_a  \n",
       "1dm2  ../ARCHIVOS/CRISTALES/LIGS_CDK2/LIGS_PREP_SDF_...     inact_b  "
      ]
     },
     "execution_count": 69,
     "metadata": {},
     "output_type": "execute_result"
    }
   ],
   "source": [
    "df_crys_poses_rdk.head(6)"
   ]
  },
  {
   "cell_type": "markdown",
   "metadata": {},
   "source": [
    "``` python\n",
    "import glob, os, sys\n",
    "# Añadimos la ruta del directorio raíz para tener acceso a los archivos y módulos\n",
    "sys.path.append(r'..')\n",
    "from modules import dimorphite_dl\n",
    "```"
   ]
  },
  {
   "cell_type": "code",
   "execution_count": null,
   "metadata": {},
   "outputs": [],
   "source": []
  },
  {
   "cell_type": "code",
   "execution_count": 79,
   "metadata": {},
   "outputs": [
    {
     "ename": "RuntimeError",
     "evalue": "Pre-condition Violation\n\tgetNumImplicitHs() called without preceding call to calcImplicitValence()\n\tViolation occurred on line 171 in file Code/GraphMol/Atom.cpp\n\tFailed Expression: d_implicitValence > -1\n\tRDKIT: 2019.09.1\n\tBOOST: 1_67\n",
     "output_type": "error",
     "traceback": [
      "\u001b[0;31m---------------------------------------------------------------------------\u001b[0m",
      "\u001b[0;31mRuntimeError\u001b[0m                              Traceback (most recent call last)",
      "\u001b[0;32m<ipython-input-79-01fef50f7ca0>\u001b[0m in \u001b[0;36m<module>\u001b[0;34m\u001b[0m\n\u001b[1;32m      1\u001b[0m \u001b[0ma\u001b[0m \u001b[0;34m=\u001b[0m \u001b[0mdf_crys_poses_rdk\u001b[0m\u001b[0;34m.\u001b[0m\u001b[0mloc\u001b[0m\u001b[0;34m[\u001b[0m\u001b[0;34m'1e1x'\u001b[0m\u001b[0;34m,\u001b[0m \u001b[0;34m'mol_rdk'\u001b[0m\u001b[0;34m]\u001b[0m\u001b[0;34m\u001b[0m\u001b[0;34m\u001b[0m\u001b[0m\n\u001b[0;32m----> 2\u001b[0;31m \u001b[0mChem\u001b[0m\u001b[0;34m.\u001b[0m\u001b[0mrdMolDescriptors\u001b[0m\u001b[0;34m.\u001b[0m\u001b[0mCalcWHIM\u001b[0m\u001b[0;34m(\u001b[0m\u001b[0ma\u001b[0m\u001b[0;34m)\u001b[0m\u001b[0;34m\u001b[0m\u001b[0;34m\u001b[0m\u001b[0m\n\u001b[0m",
      "\u001b[0;31mRuntimeError\u001b[0m: Pre-condition Violation\n\tgetNumImplicitHs() called without preceding call to calcImplicitValence()\n\tViolation occurred on line 171 in file Code/GraphMol/Atom.cpp\n\tFailed Expression: d_implicitValence > -1\n\tRDKIT: 2019.09.1\n\tBOOST: 1_67\n"
     ]
    }
   ],
   "source": [
    "a = df_crys_poses_rdk.loc['1e1x', 'mol_rdk']\n",
    "Chem.rdMolDescriptors.CalcWHIM(a)"
   ]
  },
  {
   "cell_type": "code",
   "execution_count": 503,
   "metadata": {},
   "outputs": [],
   "source": [
    "# No funciona el formato pdb\n",
    "# k = Chem.MolFromPDBFile('/home/joel/Escritorio/1e1x_h.pdb', sanitize = True)\n",
    "\n",
    "\n",
    "# k = Chem.MolFromMol2File('/home/joel/Escritorio/1e1x_h_chim_from_pdb.mol2', sanitize = True)\n",
    "# k = Chem.MolFromMol2File('/home/joel/Escritorio/1ex_mol2_from_pdb_babel.mol2', sanitize = True)\n",
    "\n",
    "# Convertido de mol2de chimera a sdf con obabel\n",
    "k = Chem.SDMolSupplier('/home/joel/Escritorio/1e1x_from_mol2_ph.sdf', sanitize = True, removeHs=False); k=k[0]\n",
    "\n",
    "#k = Chem.SDMolSupplier('/home/joel/Escritorio/1ex_sdf_from_mol2_babel.sdf', sanitize = True, removeHs=False); k=k[0]\n",
    "\n",
    "# no funciona convertir de pdb sin hs (raw) a sdf con obabel\n",
    "# k = Chem.SDMolSupplier('/home/joel/Escritorio/1e1x_from_raw_pdb.sdf', sanitize = True); k=k[0]\n",
    "\n",
    "# Workflow que funciona con 1e1x. Con quimera añadir Hs al pdb sin Hs, luego guardar como mol2\n",
    "# también funciona convertir con obabel ese mol2, guardado con chimera, a sdf"
   ]
  },
  {
   "cell_type": "code",
   "execution_count": 504,
   "metadata": {},
   "outputs": [
    {
     "data": {
      "image/png": "[encoded data removed]",
      "text/plain": [
       "<PIL.PngImagePlugin.PngImageFile image mode=RGB size=1050x300 at 0x7F60F1ECAB50>"
      ]
     },
     "execution_count": 504,
     "metadata": {},
     "output_type": "execute_result"
    }
   ],
   "source": [
    "#k = copy.copy(s[0])\n",
    "\n",
    "Chem.rdMolDescriptors.CalcWHIM(k)\n",
    "\n",
    "#k.UpdatePropertyCache(strict = False)\n",
    "# Chem.rdmolops.RemoveHs(k)\n",
    "AllChem.Compute2DCoords(k)\n",
    "\n",
    "Chem.Draw.MolsToGridImage([k],\n",
    "                     subImgSize = (350, 300))\n"
   ]
  },
  {
   "cell_type": "code",
   "execution_count": 467,
   "metadata": {},
   "outputs": [
    {
     "name": "stderr",
     "output_type": "stream",
     "text": [
      "RDKit WARNING: [19:15:48] 1b38_ATP_LIG.pdb: warning - O.co2 with non C.2 or S.o2 neighbor.\n"
     ]
    }
   ],
   "source": [
    "Chem.MolFromMol2File('/home/joel/Escritorio/atp_mol2_from_raw_pdb.mol2', sanitize = True)"
   ]
  },
  {
   "cell_type": "code",
   "execution_count": 516,
   "metadata": {},
   "outputs": [
    {
     "data": {
      "image/png": "[encoded data removed]",
      "text/plain": [
       "<rdkit.Chem.rdchem.Mol at 0x7f60f0539da0>"
      ]
     },
     "execution_count": 516,
     "metadata": {},
     "output_type": "execute_result"
    }
   ],
   "source": [
    "# No funciona directamente de pdb raw a mol2 con chimera\n",
    "# k = Chem.MolFromMol2File('/home/joel/Escritorio/atp_chim_h.mol2', sanitize = True)\n",
    "\n",
    "# Convertido de mol2de chimera a sdf con obabel\n",
    "h = Chem.SDMolSupplier('/home/joel/Escritorio/atp_sdf_from_mol2_babel.sdf', \n",
    "                       sanitize = True); h=h[0]\n",
    "h"
   ]
  },
  {
   "cell_type": "code",
   "execution_count": 517,
   "metadata": {},
   "outputs": [
    {
     "name": "stdout",
     "output_type": "stream",
     "text": [
      "0\n"
     ]
    },
    {
     "data": {
      "image/png": "[encoded data removed]",
      "text/plain": [
       "<PIL.PngImagePlugin.PngImageFile image mode=RGB size=1050x300 at 0x7F60EFF70D90>"
      ]
     },
     "execution_count": 517,
     "metadata": {},
     "output_type": "execute_result"
    }
   ],
   "source": [
    "#k = copy.copy(s[0])\n",
    "#k.UpdatePropertyCache(strict = False)\n",
    "#Chem.rdmolops.RemoveHs(k)\n",
    "AllChem.Compute2DCoords(h)\n",
    "\n",
    "print(Chem.rdmolops.GetFormalCharge(h))\n",
    "Chem.Draw.MolsToGridImage([h],\n",
    "                     subImgSize = (350, 300))"
   ]
  },
  {
   "cell_type": "code",
   "execution_count": 426,
   "metadata": {},
   "outputs": [
    {
     "ename": "OSError",
     "evalue": "File error: Bad input file /home/joel/Escritorio/yyy.sdf",
     "output_type": "error",
     "traceback": [
      "\u001b[0;31m---------------------------------------------------------------------------\u001b[0m",
      "\u001b[0;31mOSError\u001b[0m                                   Traceback (most recent call last)",
      "\u001b[0;32m<ipython-input-426-fcdd620f2573>\u001b[0m in \u001b[0;36m<module>\u001b[0;34m\u001b[0m\n\u001b[1;32m      1\u001b[0m f = Chem.SDMolSupplier('/home/joel/Escritorio/yyy.sdf', \n\u001b[0;32m----> 2\u001b[0;31m                          sanitize = True)\n\u001b[0m\u001b[1;32m      3\u001b[0m \u001b[0;34m\u001b[0m\u001b[0m\n\u001b[1;32m      4\u001b[0m \u001b[0;31m# Chem.rdMolDescriptors.CalcWHIM(k)\u001b[0m\u001b[0;34m\u001b[0m\u001b[0;34m\u001b[0m\u001b[0;34m\u001b[0m\u001b[0m\n\u001b[1;32m      5\u001b[0m \u001b[0mf\u001b[0m \u001b[0;34m=\u001b[0m \u001b[0mf\u001b[0m\u001b[0;34m[\u001b[0m\u001b[0;36m0\u001b[0m\u001b[0;34m]\u001b[0m\u001b[0;34m\u001b[0m\u001b[0;34m\u001b[0m\u001b[0m\n",
      "\u001b[0;31mOSError\u001b[0m: File error: Bad input file /home/joel/Escritorio/yyy.sdf"
     ]
    }
   ],
   "source": [
    "f = Chem.SDMolSupplier('/home/joel/Escritorio/yyy.sdf', \n",
    "                         sanitize = True)\n",
    "\n",
    "# Chem.rdMolDescriptors.CalcWHIM(k)\n",
    "f = f[0]\n",
    "#f.UpdatePropertyCache(strict = False)\n",
    "# Chem.rdmolops.RemoveHs(k)\n",
    "AllChem.Compute2DCoords(f)\n",
    "\n",
    "Chem.Draw.MolsToGridImage([f], subImgSize = (350, 300))"
   ]
  },
  {
   "cell_type": "code",
   "execution_count": 269,
   "metadata": {},
   "outputs": [
    {
     "name": "stderr",
     "output_type": "stream",
     "text": [
      "RDKit WARNING: [17:06:26] 1b38_ATP_LIG.pdb: warning - O.co2 with non C.2 or S.o2 neighbor.\n"
     ]
    },
    {
     "ename": "AttributeError",
     "evalue": "'NoneType' object has no attribute 'UpdatePropertyCache'",
     "output_type": "error",
     "traceback": [
      "\u001b[0;31m---------------------------------------------------------------------------\u001b[0m",
      "\u001b[0;31mAttributeError\u001b[0m                            Traceback (most recent call last)",
      "\u001b[0;32m<ipython-input-269-e3a4a8497c71>\u001b[0m in \u001b[0;36m<module>\u001b[0;34m\u001b[0m\n\u001b[1;32m      4\u001b[0m \u001b[0;31m# Chem.rdMolDescriptors.CalcWHIM(k)\u001b[0m\u001b[0;34m\u001b[0m\u001b[0;34m\u001b[0m\u001b[0;34m\u001b[0m\u001b[0m\n\u001b[1;32m      5\u001b[0m \u001b[0;34m\u001b[0m\u001b[0m\n\u001b[0;32m----> 6\u001b[0;31m \u001b[0mk\u001b[0m\u001b[0;34m.\u001b[0m\u001b[0mUpdatePropertyCache\u001b[0m\u001b[0;34m(\u001b[0m\u001b[0mstrict\u001b[0m \u001b[0;34m=\u001b[0m \u001b[0;32mFalse\u001b[0m\u001b[0;34m)\u001b[0m\u001b[0;34m\u001b[0m\u001b[0;34m\u001b[0m\u001b[0m\n\u001b[0m\u001b[1;32m      7\u001b[0m \u001b[0;31m# Chem.rdmolops.RemoveHs(k)\u001b[0m\u001b[0;34m\u001b[0m\u001b[0;34m\u001b[0m\u001b[0;34m\u001b[0m\u001b[0m\n\u001b[1;32m      8\u001b[0m \u001b[0mAllChem\u001b[0m\u001b[0;34m.\u001b[0m\u001b[0mCompute2DCoords\u001b[0m\u001b[0;34m(\u001b[0m\u001b[0mk\u001b[0m\u001b[0;34m)\u001b[0m\u001b[0;34m\u001b[0m\u001b[0;34m\u001b[0m\u001b[0m\n",
      "\u001b[0;31mAttributeError\u001b[0m: 'NoneType' object has no attribute 'UpdatePropertyCache'"
     ]
    }
   ],
   "source": [
    "\n",
    "k = Chem.MolFromMol2File('/home/joel/Escritorio/zzz.mol2')\n",
    "\n",
    "\n",
    "# Chem.rdMolDescriptors.CalcWHIM(k)\n",
    "\n",
    "k.UpdatePropertyCache(strict = False)\n",
    "# Chem.rdmolops.RemoveHs(k)\n",
    "AllChem.Compute2DCoords(k)\n",
    "\n",
    "Chem.Draw.MolsToGridImage([k],\n",
    "                     subImgSize = (350, 300))"
   ]
  },
  {
   "cell_type": "code",
   "execution_count": 175,
   "metadata": {},
   "outputs": [
    {
     "data": {
      "image/png": "[encoded data removed]",
      "text/plain": [
       "<PIL.PngImagePlugin.PngImageFile image mode=RGB size=1050x300 at 0x7F60F07260D0>"
      ]
     },
     "execution_count": 175,
     "metadata": {},
     "output_type": "execute_result"
    }
   ],
   "source": [
    "\n",
    "k = Chem.MolFromMol2File('/home/joel/1e9h_INR_LIG.mol2')\n",
    "\n",
    "\n",
    "# Chem.rdMolDescriptors.CalcWHIM(k)\n",
    "\n",
    "k.UpdatePropertyCache(strict = False)\n",
    "# Chem.rdmolops.RemoveHs(k)\n",
    "AllChem.Compute2DCoords(k)\n",
    "\n",
    "Chem.Draw.MolsToGridImage([k],\n",
    "                     subImgSize = (350, 300))"
   ]
  },
  {
   "cell_type": "code",
   "execution_count": 117,
   "metadata": {},
   "outputs": [],
   "source": [
    "k"
   ]
  },
  {
   "cell_type": "code",
   "execution_count": 174,
   "metadata": {},
   "outputs": [
    {
     "ename": "RuntimeError",
     "evalue": "Pre-condition Violation\n\tgetNumImplicitHs() called without preceding call to calcImplicitValence()\n\tViolation occurred on line 171 in file Code/GraphMol/Atom.cpp\n\tFailed Expression: d_implicitValence > -1\n\tRDKIT: 2019.09.1\n\tBOOST: 1_67\n",
     "output_type": "error",
     "traceback": [
      "\u001b[0;31m---------------------------------------------------------------------------\u001b[0m",
      "\u001b[0;31mRuntimeError\u001b[0m                              Traceback (most recent call last)",
      "\u001b[0;32m<ipython-input-174-a0b2b99cc486>\u001b[0m in \u001b[0;36m<module>\u001b[0;34m\u001b[0m\n\u001b[1;32m      3\u001b[0m \u001b[0mk\u001b[0m \u001b[0;34m=\u001b[0m \u001b[0mcopy\u001b[0m\u001b[0;34m.\u001b[0m\u001b[0mcopy\u001b[0m\u001b[0;34m(\u001b[0m\u001b[0ms\u001b[0m\u001b[0;34m[\u001b[0m\u001b[0;36m0\u001b[0m\u001b[0;34m]\u001b[0m\u001b[0;34m)\u001b[0m\u001b[0;34m\u001b[0m\u001b[0;34m\u001b[0m\u001b[0m\n\u001b[1;32m      4\u001b[0m \u001b[0;34m\u001b[0m\u001b[0m\n\u001b[0;32m----> 5\u001b[0;31m \u001b[0mChem\u001b[0m\u001b[0;34m.\u001b[0m\u001b[0mrdMolDescriptors\u001b[0m\u001b[0;34m.\u001b[0m\u001b[0mCalcWHIM\u001b[0m\u001b[0;34m(\u001b[0m\u001b[0mk\u001b[0m\u001b[0;34m)\u001b[0m\u001b[0;34m\u001b[0m\u001b[0;34m\u001b[0m\u001b[0m\n\u001b[0m\u001b[1;32m      6\u001b[0m \u001b[0;34m\u001b[0m\u001b[0m\n\u001b[1;32m      7\u001b[0m \u001b[0mk\u001b[0m\u001b[0;34m.\u001b[0m\u001b[0mUpdatePropertyCache\u001b[0m\u001b[0;34m(\u001b[0m\u001b[0mstrict\u001b[0m \u001b[0;34m=\u001b[0m \u001b[0;32mFalse\u001b[0m\u001b[0;34m)\u001b[0m\u001b[0;34m\u001b[0m\u001b[0;34m\u001b[0m\u001b[0m\n",
      "\u001b[0;31mRuntimeError\u001b[0m: Pre-condition Violation\n\tgetNumImplicitHs() called without preceding call to calcImplicitValence()\n\tViolation occurred on line 171 in file Code/GraphMol/Atom.cpp\n\tFailed Expression: d_implicitValence > -1\n\tRDKIT: 2019.09.1\n\tBOOST: 1_67\n"
     ]
    }
   ],
   "source": [
    "s = Chem.SDMolSupplier('../ARCHIVOS/CRISTALES/LIGS_CDK2/IN_POCKET_NON_PREP/1e1x_NW1_LIG.sdf', \n",
    "                       sanitize = False)\n",
    "k = copy.copy(s[0])\n",
    "\n",
    "Chem.rdMolDescriptors.CalcWHIM(k)\n",
    "\n",
    "k.UpdatePropertyCache(strict = False)\n",
    "# Chem.rdmolops.RemoveHs(k)\n",
    "AllChem.Compute2DCoords(k)\n",
    "\n",
    "Chem.Draw.MolsToGridImage([k],\n",
    "                     subImgSize = (350, 300))"
   ]
  },
  {
   "cell_type": "code",
   "execution_count": 60,
   "metadata": {},
   "outputs": [
    {
     "data": {
      "image/png": "[encoded data removed]",
      "text/plain": [
       "<PIL.PngImagePlugin.PngImageFile image mode=RGB size=1050x300 at 0x7F60F0F9E590>"
      ]
     },
     "execution_count": 60,
     "metadata": {},
     "output_type": "execute_result"
    }
   ],
   "source": [
    "s = Chem.SDMolSupplier('../ARCHIVOS/CRISTALES/LIGS_CDK2/LIGS_PREP_SDF_REDUCED/1dm2_HMD_LIG_no_inizado.sdf', \n",
    "                       sanitize = False)\n",
    "k = copy.copy(s[0])\n",
    "k.UpdatePropertyCache(strict = False)\n",
    "\n",
    "AllChem.Compute2DCoords(k)\n",
    "\n",
    "\n",
    "Chem.Draw.MolsToGridImage([k],\n",
    "                     subImgSize = (350, 300))"
   ]
  },
  {
   "cell_type": "code",
   "execution_count": 51,
   "metadata": {},
   "outputs": [
    {
     "name": "stdout",
     "output_type": "stream",
     "text": [
      "HMD\n"
     ]
    },
    {
     "data": {
      "image/png": "[encoded data removed]",
      "text/plain": [
       "<rdkit.Chem.rdchem.Mol at 0x7f60f1be4300>"
      ]
     },
     "execution_count": 51,
     "metadata": {},
     "output_type": "execute_result"
    }
   ],
   "source": [
    "# https://sourceforge.net/p/rdkit/mailman/message/29261087/\n",
    "print(df_crys_poses_rdk.iloc[5, 0])\n",
    "df_crys_poses_rdk.iloc[5, 1].UpdatePropertyCache(strict = False)\n",
    "Chem.rdMolDescriptors.CalcWHIM(df_crys_poses_rdk.iloc[5, 1])\n",
    "x_ = copy.copy(df_crys_poses_rdk.iloc[5, 1])\n",
    "AllChem.Compute2DCoords(x_)\n",
    "x_"
   ]
  },
  {
   "cell_type": "code",
   "execution_count": 55,
   "metadata": {},
   "outputs": [
    {
     "name": "stdout",
     "output_type": "stream",
     "text": [
      "0\n",
      "1\n",
      "2\n",
      "3\n",
      "4\n",
      "5\n"
     ]
    },
    {
     "ename": "RuntimeError",
     "evalue": "Pre-condition Violation\n\tgetNumImplicitHs() called without preceding call to calcImplicitValence()\n\tViolation occurred on line 171 in file Code/GraphMol/Atom.cpp\n\tFailed Expression: d_implicitValence > -1\n\tRDKIT: 2019.09.1\n\tBOOST: 1_67\n",
     "output_type": "error",
     "traceback": [
      "\u001b[0;31m---------------------------------------------------------------------------\u001b[0m",
      "\u001b[0;31mRuntimeError\u001b[0m                              Traceback (most recent call last)",
      "\u001b[0;32m<ipython-input-55-472c973c04d9>\u001b[0m in \u001b[0;36m<module>\u001b[0;34m\u001b[0m\n\u001b[1;32m      4\u001b[0m \u001b[0;32mfor\u001b[0m \u001b[0mi\u001b[0m\u001b[0;34m,\u001b[0m \u001b[0mmol\u001b[0m \u001b[0;32min\u001b[0m \u001b[0menumerate\u001b[0m\u001b[0;34m(\u001b[0m\u001b[0mdf_crys_poses_rdk\u001b[0m\u001b[0;34m.\u001b[0m\u001b[0mmol_rdk\u001b[0m\u001b[0;34m)\u001b[0m\u001b[0;34m:\u001b[0m\u001b[0;34m\u001b[0m\u001b[0;34m\u001b[0m\u001b[0m\n\u001b[1;32m      5\u001b[0m     \u001b[0mprint\u001b[0m\u001b[0;34m(\u001b[0m\u001b[0mi\u001b[0m\u001b[0;34m)\u001b[0m\u001b[0;34m\u001b[0m\u001b[0;34m\u001b[0m\u001b[0m\n\u001b[0;32m----> 6\u001b[0;31m     \u001b[0mwhim_mol\u001b[0m \u001b[0;34m=\u001b[0m \u001b[0mChem\u001b[0m\u001b[0;34m.\u001b[0m\u001b[0mrdMolDescriptors\u001b[0m\u001b[0;34m.\u001b[0m\u001b[0mCalcWHIM\u001b[0m\u001b[0;34m(\u001b[0m\u001b[0mmol\u001b[0m\u001b[0;34m)\u001b[0m\u001b[0;34m\u001b[0m\u001b[0;34m\u001b[0m\u001b[0m\n\u001b[0m\u001b[1;32m      7\u001b[0m     \u001b[0mwhim_array\u001b[0m\u001b[0;34m[\u001b[0m\u001b[0mi\u001b[0m\u001b[0;34m]\u001b[0m \u001b[0;34m=\u001b[0m \u001b[0mwhim_mol\u001b[0m\u001b[0;34m\u001b[0m\u001b[0;34m\u001b[0m\u001b[0m\n",
      "\u001b[0;31mRuntimeError\u001b[0m: Pre-condition Violation\n\tgetNumImplicitHs() called without preceding call to calcImplicitValence()\n\tViolation occurred on line 171 in file Code/GraphMol/Atom.cpp\n\tFailed Expression: d_implicitValence > -1\n\tRDKIT: 2019.09.1\n\tBOOST: 1_67\n"
     ]
    }
   ],
   "source": [
    "n_moleculas = len(df_crys_poses_rdk.index)\n",
    "whim_array = np.empty((n_moleculas, 114))\n",
    "\n",
    "for i, mol in enumerate(df_crys_poses_rdk.mol_rdk):\n",
    "    print(i)\n",
    "    whim_mol = Chem.rdMolDescriptors.CalcWHIM(mol)\n",
    "    whim_array[i] = whim_mol"
   ]
  },
  {
   "cell_type": "markdown",
   "metadata": {},
   "source": [
    "Esta  es las lista de descriptores que calcula *rdkit*."
   ]
  },
  {
   "cell_type": "code",
   "execution_count": 9,
   "metadata": {},
   "outputs": [],
   "source": [
    "whim_axial = [ \"L1u\", \"L2u\", \"L3u\", \"P1u\", \"P2u\", \"G1u\", \"G2u\", \"G3u\", \"E1u\", \"E2u\", \"E3u\", \n",
    "               \"L1m\", \"L2m\", \"L3m\", \"P1m\", \"P2m\", \"G1m\", \"G2m\", \"G3m\", \"E1m\", \"E2m\", \"E3m\", \n",
    "               \"L1v\", \"L2v\", \"L3v\", \"P1v\", \"P2v\", \"G1v\", \"G2v\", \"G3v\", \"E1v\", \"E2v\", \"E3v\", \n",
    "               \"L1e\", \"L2e\", \"L3e\", \"P1e\", \"P2e\", \"G1e\", \"G2e\", \"G3e\", \"E1e\", \"E2e\", \"E3e\", \n",
    "               \"L1p\", \"L2p\", \"L3p\", \"P1p\", \"P2p\", \"G1p\", \"G2p\", \"G3p\", \"E1p\", \"E2p\", \"E3p\", \n",
    "               \"L1i\", \"L2i\", \"L3i\", \"P1i\", \"P2i\", \"G1i\", \"G2i\", \"G3i\", \"E1i\", \"E2i\", \"E3i\", \n",
    "               \"L1s\", \"L2s\", \"L3s\", \"P1s\", \"P2s\", \"G1s\", \"G2s\", \"G3s\", \"E1s\", \"E2s\", \"E3s\"]\n",
    "whim_global = [\"Tu\", \"Tm\", \"Tv\", \"Te\", \"Tp\", \"Ti\", \"Ts\", \n",
    "               \"Au\", \"Am\", \"Av\", \"Ae\", \"Ap\", \"Ai\", \"As\", \n",
    "               \"Gu\", \"Gm\", \n",
    "               \"Ku\", \"Km\", \"Kv\", \"Ke\", \"Kp\", \"Ki\", \"Ks\", \n",
    "               \"Du\", \"Dm\", \"Dv\", \"De\", \"Dp\", \"Di\", \"Ds\", \n",
    "               \"Vu\", \"Vm\", \"Vv\", \"Ve\", \"Vp\", \"Vi\", \"Vs\"]"
   ]
  },
  {
   "cell_type": "markdown",
   "metadata": {},
   "source": [
    "#### Creamos el DataFrame con las 365 moléculas y los 114 desciptores"
   ]
  },
  {
   "cell_type": "code",
   "execution_count": 10,
   "metadata": {},
   "outputs": [],
   "source": [
    "df_whim = pd.DataFrame(whim_array, index = df_pdb_ligs.index)\n",
    "df_whim.columns = whim_axial + whim_global"
   ]
  },
  {
   "cell_type": "markdown",
   "metadata": {},
   "source": [
    "Visualizamos la matriz de correlación de los descriptores. Como puede observarse hay patrones de correlación entre los descriptores que se diferencian únicamente por los esquemas de peso usados."
   ]
  },
  {
   "cell_type": "code",
   "execution_count": 11,
   "metadata": {},
   "outputs": [
    {
     "data": {
      "image/png": "[encoded data removed]",
      "text/plain": [
       "<Figure size 648x504 with 2 Axes>"
      ]
     },
     "metadata": {
      "needs_background": "light"
     },
     "output_type": "display_data"
    }
   ],
   "source": [
    "%matplotlib inline\n",
    "\n",
    "fig = plt.figure(figsize=(9, 7))\n",
    "plt.rcParams.update({'font.size': 15})\n",
    "plt.imshow( df_whim.corr(), cmap='BrBG')\n",
    "plt.colorbar();"
   ]
  },
  {
   "cell_type": "markdown",
   "metadata": {},
   "source": [
    "***\n",
    "### Selección de características\n",
    "Importamos las librerías de **sklearn** que vamos a utilizar para hacer la selección de los descriptores finales."
   ]
  },
  {
   "cell_type": "code",
   "execution_count": 12,
   "metadata": {},
   "outputs": [],
   "source": [
    "from sklearn.feature_selection import VarianceThreshold\n",
    "from sklearn.preprocessing import StandardScaler"
   ]
  },
  {
   "cell_type": "code",
   "execution_count": 13,
   "metadata": {},
   "outputs": [],
   "source": [
    "#Estandarizamos\n",
    "if False:\n",
    "    scaler = StandardScaler()\n",
    "    df_whim[df_whim.columns] = scaler.fit_transform(df_whim[df_whim.columns])"
   ]
  },
  {
   "cell_type": "markdown",
   "metadata": {},
   "source": [
    "- **Eliminando características constantes o poco variables.**"
   ]
  },
  {
   "cell_type": "code",
   "execution_count": 35,
   "metadata": {},
   "outputs": [
    {
     "name": "stdout",
     "output_type": "stream",
     "text": [
      "Número de características a conservar: 98\n",
      "Su varianza es mayor a 0.001.\n"
     ]
    }
   ],
   "source": [
    "#Eliminando características constantes\n",
    "umbral_var = 0.001\n",
    "constant_filter = VarianceThreshold(threshold = umbral_var)\n",
    "constant_filter.fit( df_whim )\n",
    "non_const_columns = df_whim.columns[constant_filter.get_support()]\n",
    "\n",
    "print(F'Número de características a conservar: {len(non_const_columns)}\\nSu varianza es mayor a {umbral_var}.')"
   ]
  },
  {
   "cell_type": "code",
   "execution_count": 36,
   "metadata": {},
   "outputs": [
    {
     "data": {
      "text/html": [
       "<div>\n",
       "<style scoped>\n",
       "    .dataframe tbody tr th:only-of-type {\n",
       "        vertical-align: middle;\n",
       "    }\n",
       "\n",
       "    .dataframe tbody tr th {\n",
       "        vertical-align: top;\n",
       "    }\n",
       "\n",
       "    .dataframe thead th {\n",
       "        text-align: right;\n",
       "    }\n",
       "</style>\n",
       "<table border=\"1\" class=\"dataframe\">\n",
       "  <thead>\n",
       "    <tr style=\"text-align: right;\">\n",
       "      <th></th>\n",
       "      <th>L1u</th>\n",
       "      <th>L2u</th>\n",
       "      <th>L3u</th>\n",
       "      <th>P1u</th>\n",
       "      <th>P2u</th>\n",
       "      <th>G3u</th>\n",
       "      <th>E1u</th>\n",
       "      <th>E2u</th>\n",
       "      <th>E3u</th>\n",
       "      <th>L1m</th>\n",
       "      <th>...</th>\n",
       "      <th>Dp</th>\n",
       "      <th>Di</th>\n",
       "      <th>Ds</th>\n",
       "      <th>Vu</th>\n",
       "      <th>Vm</th>\n",
       "      <th>Vv</th>\n",
       "      <th>Ve</th>\n",
       "      <th>Vp</th>\n",
       "      <th>Vi</th>\n",
       "      <th>Vs</th>\n",
       "    </tr>\n",
       "  </thead>\n",
       "  <tbody>\n",
       "    <tr>\n",
       "      <th>1aq1</th>\n",
       "      <td>7.055</td>\n",
       "      <td>6.592</td>\n",
       "      <td>0.574</td>\n",
       "      <td>0.496</td>\n",
       "      <td>0.464</td>\n",
       "      <td>0.165</td>\n",
       "      <td>0.560</td>\n",
       "      <td>0.509</td>\n",
       "      <td>0.220</td>\n",
       "      <td>7.143</td>\n",
       "      <td>...</td>\n",
       "      <td>0.312</td>\n",
       "      <td>0.387</td>\n",
       "      <td>0.335</td>\n",
       "      <td>95.243</td>\n",
       "      <td>96.377</td>\n",
       "      <td>93.868</td>\n",
       "      <td>96.361</td>\n",
       "      <td>92.425</td>\n",
       "      <td>96.050</td>\n",
       "      <td>83.125</td>\n",
       "    </tr>\n",
       "    <tr>\n",
       "      <th>1b38</th>\n",
       "      <td>14.627</td>\n",
       "      <td>3.017</td>\n",
       "      <td>1.072</td>\n",
       "      <td>0.782</td>\n",
       "      <td>0.161</td>\n",
       "      <td>0.168</td>\n",
       "      <td>0.537</td>\n",
       "      <td>0.444</td>\n",
       "      <td>0.306</td>\n",
       "      <td>15.008</td>\n",
       "      <td>...</td>\n",
       "      <td>0.359</td>\n",
       "      <td>0.447</td>\n",
       "      <td>0.345</td>\n",
       "      <td>129.040</td>\n",
       "      <td>128.184</td>\n",
       "      <td>119.394</td>\n",
       "      <td>136.450</td>\n",
       "      <td>105.957</td>\n",
       "      <td>134.649</td>\n",
       "      <td>97.375</td>\n",
       "    </tr>\n",
       "    <tr>\n",
       "      <th>1b39</th>\n",
       "      <td>15.143</td>\n",
       "      <td>2.971</td>\n",
       "      <td>1.157</td>\n",
       "      <td>0.786</td>\n",
       "      <td>0.154</td>\n",
       "      <td>0.168</td>\n",
       "      <td>0.540</td>\n",
       "      <td>0.430</td>\n",
       "      <td>0.307</td>\n",
       "      <td>15.540</td>\n",
       "      <td>...</td>\n",
       "      <td>0.357</td>\n",
       "      <td>0.443</td>\n",
       "      <td>0.341</td>\n",
       "      <td>137.255</td>\n",
       "      <td>136.863</td>\n",
       "      <td>126.726</td>\n",
       "      <td>145.415</td>\n",
       "      <td>112.378</td>\n",
       "      <td>143.401</td>\n",
       "      <td>101.990</td>\n",
       "    </tr>\n",
       "    <tr>\n",
       "      <th>1ckp</th>\n",
       "      <td>9.851</td>\n",
       "      <td>1.338</td>\n",
       "      <td>0.323</td>\n",
       "      <td>0.856</td>\n",
       "      <td>0.116</td>\n",
       "      <td>0.193</td>\n",
       "      <td>0.581</td>\n",
       "      <td>0.507</td>\n",
       "      <td>0.451</td>\n",
       "      <td>10.938</td>\n",
       "      <td>...</td>\n",
       "      <td>0.590</td>\n",
       "      <td>0.502</td>\n",
       "      <td>0.418</td>\n",
       "      <td>32.549</td>\n",
       "      <td>40.035</td>\n",
       "      <td>33.804</td>\n",
       "      <td>33.414</td>\n",
       "      <td>35.072</td>\n",
       "      <td>32.473</td>\n",
       "      <td>29.241</td>\n",
       "    </tr>\n",
       "    <tr>\n",
       "      <th>1di8</th>\n",
       "      <td>13.308</td>\n",
       "      <td>3.023</td>\n",
       "      <td>0.010</td>\n",
       "      <td>0.814</td>\n",
       "      <td>0.185</td>\n",
       "      <td>0.186</td>\n",
       "      <td>0.536</td>\n",
       "      <td>0.379</td>\n",
       "      <td>0.298</td>\n",
       "      <td>13.525</td>\n",
       "      <td>...</td>\n",
       "      <td>0.343</td>\n",
       "      <td>0.417</td>\n",
       "      <td>0.338</td>\n",
       "      <td>57.162</td>\n",
       "      <td>59.616</td>\n",
       "      <td>55.138</td>\n",
       "      <td>59.596</td>\n",
       "      <td>52.744</td>\n",
       "      <td>58.066</td>\n",
       "      <td>47.071</td>\n",
       "    </tr>\n",
       "  </tbody>\n",
       "</table>\n",
       "<p>5 rows × 98 columns</p>\n",
       "</div>"
      ],
      "text/plain": [
       "         L1u    L2u    L3u    P1u    P2u    G3u    E1u    E2u    E3u     L1m  \\\n",
       "1aq1   7.055  6.592  0.574  0.496  0.464  0.165  0.560  0.509  0.220   7.143   \n",
       "1b38  14.627  3.017  1.072  0.782  0.161  0.168  0.537  0.444  0.306  15.008   \n",
       "1b39  15.143  2.971  1.157  0.786  0.154  0.168  0.540  0.430  0.307  15.540   \n",
       "1ckp   9.851  1.338  0.323  0.856  0.116  0.193  0.581  0.507  0.451  10.938   \n",
       "1di8  13.308  3.023  0.010  0.814  0.185  0.186  0.536  0.379  0.298  13.525   \n",
       "\n",
       "      ...     Dp     Di     Ds       Vu       Vm       Vv       Ve       Vp  \\\n",
       "1aq1  ...  0.312  0.387  0.335   95.243   96.377   93.868   96.361   92.425   \n",
       "1b38  ...  0.359  0.447  0.345  129.040  128.184  119.394  136.450  105.957   \n",
       "1b39  ...  0.357  0.443  0.341  137.255  136.863  126.726  145.415  112.378   \n",
       "1ckp  ...  0.590  0.502  0.418   32.549   40.035   33.804   33.414   35.072   \n",
       "1di8  ...  0.343  0.417  0.338   57.162   59.616   55.138   59.596   52.744   \n",
       "\n",
       "           Vi       Vs  \n",
       "1aq1   96.050   83.125  \n",
       "1b38  134.649   97.375  \n",
       "1b39  143.401  101.990  \n",
       "1ckp   32.473   29.241  \n",
       "1di8   58.066   47.071  \n",
       "\n",
       "[5 rows x 98 columns]"
      ]
     },
     "execution_count": 36,
     "metadata": {},
     "output_type": "execute_result"
    }
   ],
   "source": [
    "df_whim_no_const = df_whim[non_const_columns]\n",
    "df_whim_no_const.head(5)"
   ]
  },
  {
   "cell_type": "code",
   "execution_count": 37,
   "metadata": {},
   "outputs": [
    {
     "data": {
      "text/plain": [
       "0"
      ]
     },
     "execution_count": 37,
     "metadata": {},
     "output_type": "execute_result"
    }
   ],
   "source": [
    "# Removiendo caracteristicas duplicadas\n",
    "# Verificamos si hay columnas identicas\n",
    "df_whim_no_const.T.duplicated().sum()"
   ]
  },
  {
   "cell_type": "code",
   "execution_count": 51,
   "metadata": {},
   "outputs": [
    {
     "data": {
      "text/plain": [
       "85"
      ]
     },
     "execution_count": 51,
     "metadata": {},
     "output_type": "execute_result"
    }
   ],
   "source": [
    "# Eliminando características correlacioneadas\n",
    "correlated_features = set()\n",
    "corr_mat_whim = df_whim_no_const.corr()\n",
    "\n",
    "for row in range(len(corr_mat_whim)):\n",
    "    for col in range(row):\n",
    "        if abs(corr_mat_whim.iloc[row, col]) > 0.7:\n",
    "            colname = corr_mat_whim.columns[row]\n",
    "            correlated_features.add(colname)\n",
    "len(correlated_features)"
   ]
  },
  {
   "cell_type": "code",
   "execution_count": 52,
   "metadata": {},
   "outputs": [],
   "source": [
    "#correlated_features"
   ]
  },
  {
   "cell_type": "code",
   "execution_count": 53,
   "metadata": {},
   "outputs": [],
   "source": [
    "# Eliminamos las características con mayor correlación\n",
    "df_whim_final = df_whim_no_const.drop(labels=correlated_features, axis=1)"
   ]
  },
  {
   "cell_type": "code",
   "execution_count": 54,
   "metadata": {},
   "outputs": [
    {
     "data": {
      "text/plain": [
       "Index(['L1u', 'L2u', 'L3u', 'G3u', 'E1u', 'E2u', 'E3u', 'E1m', 'E2m', 'E1s',\n",
       "       'E2s', 'E3s', 'Ds'],\n",
       "      dtype='object')"
      ]
     },
     "execution_count": 54,
     "metadata": {},
     "output_type": "execute_result"
    }
   ],
   "source": [
    "df_whim_final.columns"
   ]
  },
  {
   "cell_type": "code",
   "execution_count": 55,
   "metadata": {},
   "outputs": [
    {
     "data": {
      "image/png": "[encoded data removed]",
      "text/plain": [
       "<Figure size 648x504 with 2 Axes>"
      ]
     },
     "metadata": {
      "needs_background": "light"
     },
     "output_type": "display_data"
    }
   ],
   "source": [
    "%matplotlib inline\n",
    "# visualizamos la matriz D\n",
    "fig = plt.figure(figsize=(9, 7))\n",
    "plt.rcParams.update({'font.size': 15})\n",
    "plt.imshow(df_whim_final.corr(), cmap='BrBG')\n",
    "plt.colorbar();"
   ]
  },
  {
   "cell_type": "markdown",
   "metadata": {},
   "source": [
    "#### Análisis de Componentes Principales"
   ]
  },
  {
   "cell_type": "code",
   "execution_count": null,
   "metadata": {},
   "outputs": [],
   "source": []
  },
  {
   "cell_type": "code",
   "execution_count": 56,
   "metadata": {},
   "outputs": [],
   "source": [
    "from sklearn.decomposition import PCA\n",
    "from modulos.plotting_functions import plot_mds_or_pca, plot_anotation_labels\n",
    "\n",
    "pca_whim = PCA(copy=True, n_components= 2).fit_transform( df_whim_final )"
   ]
  },
  {
   "cell_type": "code",
   "execution_count": null,
   "metadata": {},
   "outputs": [],
   "source": []
  },
  {
   "cell_type": "code",
   "execution_count": 57,
   "metadata": {},
   "outputs": [
    {
     "data": {
      "text/plain": [
       "365"
      ]
     },
     "execution_count": 57,
     "metadata": {},
     "output_type": "execute_result"
    }
   ],
   "source": [
    "ligand_labels = [\"red\" if i else \"none\" for i in df_pdb_ligs.Lig == \"ATP\"]\n",
    "len(ligand_labels)"
   ]
  },
  {
   "cell_type": "code",
   "execution_count": 58,
   "metadata": {},
   "outputs": [
    {
     "data": {
      "image/png": "[encoded data removed]",
      "text/plain": [
       "<Figure size 648x648 with 1 Axes>"
      ]
     },
     "metadata": {
      "needs_background": "light"
     },
     "output_type": "display_data"
    }
   ],
   "source": [
    "label_ATP = [\"red\" if i else \"none\" for i in df_pdb_ligs.Lig == \"ATP\"]\n",
    "label_ADP = [\"orange\" if i else \"none\" for i in df_pdb_ligs.Lig == \"ADP\"]\n",
    "label_STU = [\"magenta\" if i else \"none\" for i in df_pdb_ligs.index == \"5a14\"]\n",
    "\n",
    "lista_csar = [\"4ek4\", \"4ek5\", \"4fkg\", \"4fki\", \"4ek6\", \"4fjk\", \"4fkl\", \"4ek8\", \"3sw4\", \"3sw7\", \n",
    "              \"4fko\", \"4fkp\", \"4fkq\", \"4fkr\", \"4fks\", \"4fkt\", \"4fku\", \"4fkv\", \"4fkw\"]\n",
    "#lista_csar = [\"4fku\", \"4fkw\"]\n",
    "label_csar = [\"cyan\" if i in lista_csar else \"none\" for i in df_pdb_ligs.index]\n",
    "\n",
    "fig = plt.figure(figsize=(9, 9))\n",
    "#plot_mds_or_pca(mds = pca_whim.T, alpha = 0.8, colors_list=ligand_labels, general_font_size= 20)\n",
    "plt.scatter(pca_whim.T[0], pca_whim.T[1])\n",
    "plt.scatter(pca_whim.T[0], pca_whim.T[1], color=label_ATP)\n",
    "plt.scatter(pca_whim.T[0], pca_whim.T[1], color=label_csar)\n",
    "plt.scatter(pca_whim.T[0], pca_whim.T[1], color=label_ADP)\n",
    "plt.scatter(pca_whim.T[0], pca_whim.T[1], color=label_STU);\n"
   ]
  },
  {
   "cell_type": "code",
   "execution_count": 63,
   "metadata": {},
   "outputs": [],
   "source": [
    "from sklearn.manifold import LocallyLinearEmbedding\n",
    "lle = LocallyLinearEmbedding(n_components= 2, n_neighbors=10).fit_transform( df_whim_final )"
   ]
  },
  {
   "cell_type": "code",
   "execution_count": 64,
   "metadata": {},
   "outputs": [
    {
     "data": {
      "image/png": "[encoded data removed]",
      "text/plain": [
       "<Figure size 648x648 with 1 Axes>"
      ]
     },
     "metadata": {
      "needs_background": "light"
     },
     "output_type": "display_data"
    }
   ],
   "source": [
    "fig = plt.figure(figsize=(9, 9))\n",
    "#plot_mds_or_pca(mds = pca_whim.T, alpha = 0.8, colors_list=ligand_labels, general_font_size= 20)\n",
    "plt.scatter(lle[:,0], lle[:,1])\n",
    "plt.scatter(lle[:,0], lle[:,1], color=label_ATP)\n",
    "plt.scatter(lle[:,0], lle[:,1], color=label_ADP)\n",
    "plt.scatter(lle[:,0], lle[:,1], color=label_csar)\n",
    "plt.scatter(lle[:,0], lle[:,1], color=label_STU);\n"
   ]
  },
  {
   "cell_type": "code",
   "execution_count": null,
   "metadata": {},
   "outputs": [],
   "source": []
  },
  {
   "cell_type": "code",
   "execution_count": 95,
   "metadata": {},
   "outputs": [],
   "source": [
    "from scipy.spatial import distance_matrix\n",
    "from sklearn.preprocessing import StandardScaler\n",
    "scaler = StandardScaler()\n",
    "whim_final = scaler.fit_transform(df_whim_final)\n",
    "D = distance_matrix(whim_final, whim_final)"
   ]
  },
  {
   "cell_type": "code",
   "execution_count": 96,
   "metadata": {},
   "outputs": [],
   "source": [
    "from scipy.spatial.distance import euclidean\n",
    "import scipy\n",
    "\n",
    "from sklearn.preprocessing import StandardScaler\n",
    "scaler = StandardScaler()\n",
    "whim_final = scaler.fit_transform(df_whim_final)\n",
    "\n",
    "leng = whim_final.shape[0]\n",
    "D = scipy.zeros([leng,leng])\n",
    "for i in range(leng):\n",
    "    for j in range(leng):\n",
    "        D[i,j] = euclidean(whim_final[i], whim_final[j])"
   ]
  },
  {
   "cell_type": "code",
   "execution_count": 97,
   "metadata": {},
   "outputs": [
    {
     "data": {
      "text/plain": [
       "(365, 365)"
      ]
     },
     "execution_count": 97,
     "metadata": {},
     "output_type": "execute_result"
    }
   ],
   "source": [
    "D.shape"
   ]
  },
  {
   "cell_type": "code",
   "execution_count": 98,
   "metadata": {},
   "outputs": [],
   "source": [
    "from modulos.MDS import cMDS\n",
    "mds = cMDS(D)"
   ]
  },
  {
   "cell_type": "code",
   "execution_count": 99,
   "metadata": {},
   "outputs": [
    {
     "data": {
      "text/plain": [
       "<matplotlib.collections.PathCollection at 0x7f75c9c502e8>"
      ]
     },
     "execution_count": 99,
     "metadata": {},
     "output_type": "execute_result"
    },
    {
     "data": {
      "image/png": "[encoded data removed]",
      "text/plain": [
       "<Figure size 648x648 with 1 Axes>"
      ]
     },
     "metadata": {
      "needs_background": "light"
     },
     "output_type": "display_data"
    }
   ],
   "source": [
    "fig = plt.figure(figsize=(9, 9))\n",
    "plt.scatter(mds[0][0], mds[0][1])\n",
    "plt.scatter(mds[0][0], mds[0][1], color=label_ATP)\n",
    "plt.scatter(mds[0][0], mds[0][1], color=label_ADP)\n",
    "plt.scatter(mds[0][0], mds[0][1], color=label_STU)"
   ]
  },
  {
   "cell_type": "code",
   "execution_count": null,
   "metadata": {},
   "outputs": [],
   "source": []
  }
 ],
 "metadata": {
  "kernelspec": {
   "display_name": "Python 3",
   "language": "python",
   "name": "python3"
  },
  "language_info": {
   "codemirror_mode": {
    "name": "ipython",
    "version": 3
   },
   "file_extension": ".py",
   "mimetype": "text/x-python",
   "name": "python",
   "nbconvert_exporter": "python",
   "pygments_lexer": "ipython3",
   "version": "3.7.4"
  }
 },
 "nbformat": 4,
 "nbformat_minor": 2
}
