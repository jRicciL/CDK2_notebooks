{
 "cells": [
  {
   "cell_type": "markdown",
   "metadata": {},
   "source": [
    "# Diámica Molecualr Acelerada\n",
    "The metgod modifies the potential energy landscape by rising energy wells that are below a certain thereshold, while leaving those above unaffected.\n",
    "$$ V^*(r)= V(r) + \\Delta V(r),$$\n",
    "where\n",
    "\\begin{equation*}\n",
    "  \\Delta V(r)=\\begin{cases}\n",
    "    0, & \\text{if $V(r) \\geq$} E\\\\\n",
    "    (E - V(r))^2 / \\alpha + E - V(r), & \\text{if $V(r) < E$}\n",
    "  \\end{cases}\n",
    "\\end{equation*}\n",
    "\n",
    "To test how the potential could vary, we have the  following example:"
   ]
  },
  {
   "cell_type": "code",
   "execution_count": 147,
   "metadata": {},
   "outputs": [],
   "source": [
    "import numpy as np\n",
    "def V(r):\n",
    "    V = (r**2 * np.sin(r) - r/3*np.cos(r**2))*10 - 1000\n",
    "    return V\n",
    "\n",
    "def delta_V(Vr, E, alfa):\n",
    "    delta_V = (E - Vr)**2 / (alfa + E - Vr)\n",
    "    return delta_V\n",
    "\n",
    "def modified_potential(r, E, alfa): # V*(r)\n",
    "    # Calculates the unbiased potential\n",
    "    V_r = V(r)\n",
    "    # Aplies the delta potential when needed\n",
    "    V_star = np.where( V_r < E, V_r + delta_V( V_r, E, alfa ), V_r)\n",
    "    return V_star"
   ]
  },
  {
   "cell_type": "code",
   "execution_count": 149,
   "metadata": {},
   "outputs": [
    {
     "data": {
      "text/plain": [
       "[<matplotlib.lines.Line2D at 0x7feb8508fac8>]"
      ]
     },
     "execution_count": 149,
     "metadata": {},
     "output_type": "execute_result"
    },
    {
     "data": {
      "image/png": "[encoded data removed]",
      "text/plain": [
       "<Figure size 432x288 with 1 Axes>"
      ]
     },
     "metadata": {
      "needs_background": "light"
     },
     "output_type": "display_data"
    }
   ],
   "source": [
    "import matplotlib.pyplot as plt\n",
    "x = np.linspace(0|,20,100)\n",
    "y = V(x)\n",
    "z = modified_potential(x, -100, 1000)\n",
    "\n",
    "plt.plot(x, y, )\n",
    "plt.plot(x,z)"
   ]
  },
  {
   "cell_type": "code",
   "execution_count": 83,
   "metadata": {},
   "outputs": [
    {
     "ename": "TypeError",
     "evalue": "Required argument 'number' (pos 1) not found",
     "output_type": "error",
     "traceback": [
      "\u001b[0;31m---------------------------------------------------------------------------\u001b[0m",
      "\u001b[0;31mTypeError\u001b[0m                                 Traceback (most recent call last)",
      "\u001b[0;32m<ipython-input-83-a7ec7f166d09>\u001b[0m in \u001b[0;36m<module>\u001b[0;34m\u001b[0m\n\u001b[0;32m----> 1\u001b[0;31m \u001b[0mnp\u001b[0m\u001b[0;34m.\u001b[0m\u001b[0mwhere\u001b[0m\u001b[0;34m(\u001b[0m\u001b[0my\u001b[0m\u001b[0;34m>\u001b[0m\u001b[0;36m5\u001b[0m\u001b[0;34m,\u001b[0m \u001b[0mround\u001b[0m\u001b[0;34m(\u001b[0m\u001b[0;34m)\u001b[0m\u001b[0;34m,\u001b[0m \u001b[0my\u001b[0m\u001b[0;34m)\u001b[0m\u001b[0;34m\u001b[0m\u001b[0;34m\u001b[0m\u001b[0m\n\u001b[0m",
      "\u001b[0;31mTypeError\u001b[0m: Required argument 'number' (pos 1) not found"
     ]
    }
   ],
   "source": [
    "np.where(y>5, round(), y)"
   ]
  }
 ],
 "metadata": {
  "kernelspec": {
   "display_name": "Python 3",
   "language": "python",
   "name": "python3"
  },
  "language_info": {
   "codemirror_mode": {
    "name": "ipython",
    "version": 3
   },
   "file_extension": ".py",
   "mimetype": "text/x-python",
   "name": "python",
   "nbconvert_exporter": "python",
   "pygments_lexer": "ipython3",
   "version": "3.6.7"
  }
 },
 "nbformat": 4,
 "nbformat_minor": 2
}
