{
 "cells": [
  {
   "cell_type": "markdown",
   "metadata": {},
   "source": [
    "# Análisis de Componetes Principales"
   ]
  },
  {
   "cell_type": "markdown",
   "metadata": {},
   "source": [
    "## Primer acercamineto: PRODy"
   ]
  },
  {
   "cell_type": "code",
   "execution_count": 1,
   "metadata": {},
   "outputs": [
    {
     "name": "stderr",
     "output_type": "stream",
     "text": [
      "/home/joel/anaconda3/envs/mds/lib/python3.6/importlib/_bootstrap.py:219: RuntimeWarning: numpy.ufunc size changed, may indicate binary incompatibility. Expected 192 from C header, got 216 from PyObject\n",
      "  return f(*args, **kwds)\n"
     ]
    }
   ],
   "source": [
    "from prody import *\n",
    "from pylab import *"
   ]
  },
  {
   "cell_type": "code",
   "execution_count": 19,
   "metadata": {},
   "outputs": [
    {
     "data": {
      "text/plain": [
       "[]"
      ]
     },
     "execution_count": 19,
     "metadata": {},
     "output_type": "execute_result"
    }
   ],
   "source": [
    "# Genero una lista de archivos disponibles en el directorio de los modelos completos\n",
    "import glob\n",
    "from pathlib import Path\n",
    "main_PDBS_dir = \"../ARCHIVOS/CRISTALES/PROT_CDK2_PREPARADAS/\"\n",
    "dir_ENS = main_PDBS_dir +  \"PREP_ALL_ENSAMBLE\" # Hidrógenos agregados sin pka\n",
    "\n",
    "# Es importante cargar la lista ORDENADA!!\n",
    "glob.glob(\"../ARCHIVOS/CRISTALES/PROT_CDK2_MODELOS_modeller_NoPrep/*\")\n"
   ]
  },
  {
   "cell_type": "code",
   "execution_count": 15,
   "metadata": {},
   "outputs": [
    {
     "data": {
      "text/plain": [
       "[]"
      ]
     },
     "execution_count": 15,
     "metadata": {},
     "output_type": "execute_result"
    }
   ],
   "source": [
    "pdbs_full"
   ]
  },
  {
   "cell_type": "code",
   "execution_count": 5,
   "metadata": {},
   "outputs": [
    {
     "name": "stderr",
     "output_type": "stream",
     "text": [
      "@> 385 PDBs were parsed in 4.19s.                                 \n"
     ]
    },
    {
     "data": {
      "text/plain": [
       "385"
      ]
     },
     "execution_count": 5,
     "metadata": {},
     "output_type": "execute_result"
    }
   ],
   "source": [
    "# Obtengo el conjunto de estructuras pdb de CDK2, en praticular sólo los CA\n",
    "pdbs = parsePDB( *[ pdb for pdb in pdbs_full ], subset='ca' )\n",
    "\n",
    "# Número de estructuras cargadas\n",
    "len(pdbs)"
   ]
  },
  {
   "cell_type": "markdown",
   "metadata": {},
   "source": [
    "### Estructura de referencia\n",
    "\n",
    "Se toma como estructura de referencia al cristal 1fin, el cual tiene un 100% de covertura con la secuencia de la cdk2."
   ]
  },
  {
   "cell_type": "code",
   "execution_count": 6,
   "metadata": {},
   "outputs": [
    {
     "name": "stderr",
     "output_type": "stream",
     "text": [
      "@> 298 atoms and 1 coordinate set(s) were parsed in 0.00s.\n"
     ]
    }
   ],
   "source": [
    "ref_id = '1fin'\n",
    "ref_structure = parsePDB(pdbs_model_dir + ref_id + \"_full.pdb\", subset = \"ca\")"
   ]
  },
  {
   "cell_type": "markdown",
   "metadata": {},
   "source": [
    "#### Residuos definidos por Pisiani (2015) para su análisis\n",
    "\n",
    "Para hacer el ensamble y alinear las estructuras en una *\"trayectoria\"* se definen los residuos que se tomaran en cuenta para el alineamiento:  \n",
    "**PISIANNI**: son los residuos usados por Pisiani en su artículo prara alinear las estructuras."
   ]
  },
  {
   "cell_type": "code",
   "execution_count": 7,
   "metadata": {},
   "outputs": [
    {
     "name": "stdout",
     "output_type": "stream",
     "text": [
      "4 5 6 7 8 9 10 11 17 18 19 20 21 22 23 29 30 31 32 33 46 47 48 49 50 51 52 53 54 66 67 68 69 70 76 77 78 79 80 87 88 89 90 91 92 101 102 103 104 105 106 107 108 109 110 111 112 113 114 115 116 117 118 119 121 122 123 124 125 126 127 128 129 130 131 132 133 134 140 141 142 143 144 145 146 147 148 149 182 183 184 185 186 187 188 189 190 191 192 193 277 278 279 280 281\n"
     ]
    }
   ],
   "source": [
    "from itertools import chain\n",
    "\n",
    "'''This list of residues was characterized as the subset of residues that contains \n",
    "the largest part of the information about the structural variability of CDK2 \n",
    "and includes residues of R-spine (except for Met 196), C-spine, DFG, and the catalytic loop.'''\n",
    "\n",
    "pisiani_rangeResidues = [ [4,12], [17, 24], [29,34], [46,55], [66,71], [76,81],  \n",
    "                         [87,93], [101, 120], [121, 135], [140, 150], [182, 194], [277, 282]]\n",
    "\n",
    "lista = [list( range(valor[0], valor[1]) ) for valor in pisiani_rangeResidues]\n",
    "\n",
    "# Se obtiene la lista de residuos, incluida en formato de cadena de texto\n",
    "pisiani_residues = list(chain.from_iterable(lista))\n",
    "pisiani_residues_str = ' '.join(str(e) for e in pisiani_residues)\n",
    "\n",
    "print(pisiani_residues_str)"
   ]
  },
  {
   "cell_type": "markdown",
   "metadata": {},
   "source": [
    "**RICCI**: Son residuos definidos a partir de la estructura 4fkw, del dataset de CSAR. Se definen al identificar todos los residuos que están dentro de 7 A de distancia de cualquier átomo del ligando cocristalizado, ubicado en la cavidad catalítica de la CDK2."
   ]
  },
  {
   "cell_type": "code",
   "execution_count": 8,
   "metadata": {},
   "outputs": [
    {
     "name": "stdout",
     "output_type": "stream",
     "text": [
      "8 9 10 11 12 13 14 15 16 17 18 30 31 32 64 79 80 81 82 83 84 85 86 87 88 89 129 130 131 132 133 143 144 145\n"
     ]
    }
   ],
   "source": [
    "# Pocket (4FKW y su ligando a 7 A): 8-19, 30-33, 64-65, 79-90, 129-134, 143-146\n",
    "# resid 8 to 19 30 to 33 64 65 79 to 90 129 to 134 143 to 146\n",
    "ricci_rangeResidues = [[8,19], [30,33], [64,65], [79,90], [129,134], [143,146]]\n",
    "\n",
    "lista = [list( range(valor[0], valor[1]) ) for valor in ricci_rangeResidues]\n",
    "ricci_residues = list(chain.from_iterable(lista))\n",
    "ricci_residues_str = ' '.join(str(e) for e in ricci_residues)\n",
    "\n",
    "print(ricci_residues_str)"
   ]
  },
  {
   "cell_type": "markdown",
   "metadata": {},
   "source": [
    "### Creación de  un Ensamble con las 387 estructuras y CA\n",
    "#### Estructuras pseudo-NMR (\"Estructuras homogéneas\")"
   ]
  },
  {
   "cell_type": "code",
   "execution_count": 9,
   "metadata": {},
   "outputs": [],
   "source": [
    "# Selección de los aminoácidos de referencia\n",
    "ref_strcRes =  ref_structure.select('resnum ' + pisiani_residues_str)"
   ]
  },
  {
   "cell_type": "markdown",
   "metadata": {},
   "source": [
    "#### Creación del Ensamble"
   ]
  },
  {
   "cell_type": "code",
   "execution_count": 10,
   "metadata": {},
   "outputs": [],
   "source": [
    "# Coordenadas de la CDK2 de refrencia tomando sólo los residuos de Pisiani\n",
    "ensamble = PDBEnsemble(\"Ensamble CDK2 pseudoNMR\")\n",
    "# Átomos de referencia\n",
    "ensamble.setAtoms( ref_structure )\n",
    "# Coordenadas de referencia\n",
    "ensamble.setCoords( ref_structure.getCoords() )\n",
    "\n",
    "# Ahora añadimos todas las estructuras al ensamble una a una\n",
    "for structure in pdbs:\n",
    "    ensamble.addCoordset(structure)"
   ]
  },
  {
   "cell_type": "code",
   "execution_count": 11,
   "metadata": {},
   "outputs": [
    {
     "name": "stdout",
     "output_type": "stream",
     "text": [
      "1aq1_full_ca\n",
      "1b38_full_ca\n",
      "1b39_full_ca\n",
      "1buh_full_ca\n",
      "1ckp_full_ca\n",
      "1di8_full_ca\n",
      "1dm2_full_ca\n",
      "1e1v_full_ca\n",
      "1e1x_full_ca\n",
      "1e9h_full_ca\n",
      "1f5q_full_ca\n",
      "1fin_full_ca\n",
      "1fq1_full_ca\n",
      "1fvt_full_ca\n",
      "1fvv_full_ca\n",
      "1g5s_full_ca\n",
      "1gih_full_ca\n",
      "1gii_full_ca\n",
      "1gij_full_ca\n",
      "1gy3_full_ca\n",
      "1gz8_full_ca\n",
      "1h00_full_ca\n",
      "1h01_full_ca\n",
      "1h07_full_ca\n",
      "1h08_full_ca\n",
      "1h0v_full_ca\n",
      "1h0w_full_ca\n",
      "1h1p_full_ca\n",
      "1h1q_full_ca\n",
      "1h1r_full_ca\n",
      "1h1s_full_ca\n",
      "1h24_full_ca\n",
      "1h25_full_ca\n",
      "1h26_full_ca\n",
      "1h27_full_ca\n",
      "1h28_full_ca\n",
      "1hck_full_ca\n",
      "1hcl_full_ca\n",
      "1jst_full_ca\n",
      "1jsv_full_ca\n",
      "1jvp_full_ca\n",
      "1ke5_full_ca\n",
      "1ke6_full_ca\n",
      "1ke7_full_ca\n",
      "1ke8_full_ca\n",
      "1ke9_full_ca\n",
      "1ogu_full_ca\n",
      "1oi9_full_ca\n",
      "1oiq_full_ca\n",
      "1oir_full_ca\n",
      "1oit_full_ca\n",
      "1oiu_full_ca\n",
      "1oiy_full_ca\n",
      "1okv_full_ca\n",
      "1okw_full_ca\n",
      "1ol1_full_ca\n",
      "1ol2_full_ca\n",
      "1p2a_full_ca\n",
      "1p5e_full_ca\n",
      "1pf8_full_ca\n",
      "1pkd_full_ca\n",
      "1pw2_full_ca\n",
      "1pxi_full_ca\n",
      "1pxj_full_ca\n",
      "1pxk_full_ca\n",
      "1pxl_full_ca\n",
      "1pxm_full_ca\n",
      "1pxn_full_ca\n",
      "1pxo_full_ca\n",
      "1pxp_full_ca\n",
      "1pye_full_ca\n",
      "1qmz_full_ca\n",
      "1r78_full_ca\n",
      "1urc_full_ca\n",
      "1urw_full_ca\n",
      "1v1k_full_ca\n",
      "1vyw_full_ca\n",
      "1vyz_full_ca\n",
      "1w0x_full_ca\n",
      "1w8c_full_ca\n",
      "1w98_full_ca\n",
      "1wcc_full_ca\n",
      "1y8y_full_ca\n",
      "1y91_full_ca\n",
      "1ykr_full_ca\n",
      "2a0c_full_ca\n",
      "2a4l_full_ca\n",
      "2b52_full_ca\n",
      "2b53_full_ca\n",
      "2b54_full_ca\n",
      "2b55_full_ca\n",
      "2bhe_full_ca\n",
      "2bhh_full_ca\n",
      "2bkz_full_ca\n",
      "2bpm_full_ca\n",
      "2btr_full_ca\n",
      "2bts_full_ca\n",
      "2c4g_full_ca\n",
      "2c5n_full_ca\n",
      "2c5o_full_ca\n",
      "2c5v_full_ca\n",
      "2c5x_full_ca\n",
      "2c5y_full_ca\n",
      "2c68_full_ca\n",
      "2c69_full_ca\n",
      "2c6i_full_ca\n",
      "2c6k_full_ca\n",
      "2c6l_full_ca\n",
      "2c6m_full_ca\n",
      "2c6o_full_ca\n",
      "2c6t_full_ca\n",
      "2cch_full_ca\n",
      "2cci_full_ca\n",
      "2cjm_full_ca\n",
      "2clx_full_ca\n",
      "2ds1_full_ca\n",
      "2duv_full_ca\n",
      "2exm_full_ca\n",
      "2fvd_full_ca\n",
      "2g9x_full_ca\n",
      "2i40_full_ca\n",
      "2iw6_full_ca\n",
      "2iw8_full_ca\n",
      "2iw9_full_ca\n",
      "2j9m_full_ca\n",
      "2jgz_full_ca\n",
      "2r3f_full_ca\n",
      "2r3g_full_ca\n",
      "2r3h_full_ca\n",
      "2r3i_full_ca\n",
      "2r3j_full_ca\n",
      "2r3k_full_ca\n",
      "2r3l_full_ca\n",
      "2r3m_full_ca\n",
      "2r3n_full_ca\n",
      "2r3o_full_ca\n",
      "2r3p_full_ca\n",
      "2r3q_full_ca\n",
      "2r3r_full_ca\n",
      "2r64_full_ca\n",
      "2uue_full_ca\n",
      "2uzb_full_ca\n",
      "2uzd_full_ca\n",
      "2uze_full_ca\n",
      "2uzl_full_ca\n",
      "2uzn_full_ca\n",
      "2uzo_full_ca\n",
      "2v0d_full_ca\n",
      "2v22_full_ca\n",
      "2vta_full_ca\n",
      "2vth_full_ca\n",
      "2vti_full_ca\n",
      "2vtj_full_ca\n",
      "2vtl_full_ca\n",
      "2vtm_full_ca\n",
      "2vtn_full_ca\n",
      "2vto_full_ca\n",
      "2vtp_full_ca\n",
      "2vtq_full_ca\n",
      "2vtr_full_ca\n",
      "2vts_full_ca\n",
      "2vtt_full_ca\n",
      "2vu3_full_ca\n",
      "2vv9_full_ca\n",
      "2w05_full_ca\n",
      "2w06_full_ca\n",
      "2w17_full_ca\n",
      "2w1h_full_ca\n",
      "2wev_full_ca\n",
      "2wfy_full_ca\n",
      "2whb_full_ca\n",
      "2wih_full_ca\n",
      "2wip_full_ca\n",
      "2wma_full_ca\n",
      "2wmb_full_ca\n",
      "2wpa_full_ca\n",
      "2wxv_full_ca\n",
      "2x1n_full_ca\n",
      "2xmy_full_ca\n",
      "2xnb_full_ca\n",
      "3bht_full_ca\n",
      "3bhu_full_ca\n",
      "3bhv_full_ca\n",
      "3ddp_full_ca\n",
      "3ddq_full_ca\n",
      "3dog_full_ca\n",
      "3eid_full_ca\n",
      "3ej1_full_ca\n",
      "3eoc_full_ca\n",
      "3ezr_full_ca\n",
      "3ezv_full_ca\n",
      "3f5x_full_ca\n",
      "3fz1_full_ca\n",
      "3ig7_full_ca\n",
      "3igg_full_ca\n",
      "3le6_full_ca\n",
      "3lfn_full_ca\n",
      "3lfq_full_ca\n",
      "3lfs_full_ca\n",
      "3my5_full_ca\n",
      "3ns9_full_ca\n",
      "3pj8_full_ca\n",
      "3pxf_full_ca\n",
      "3pxq_full_ca\n",
      "3pxr_full_ca\n",
      "3pxy_full_ca\n",
      "3pxz_full_ca\n",
      "3py0_full_ca\n",
      "3py1_full_ca\n",
      "3qhr_full_ca\n",
      "3qhw_full_ca\n",
      "3ql8_full_ca\n",
      "3qqf_full_ca\n",
      "3qqg_full_ca\n",
      "3qqh_full_ca\n",
      "3qqj_full_ca\n",
      "3qqk_full_ca\n",
      "3qql_full_ca\n",
      "3qrt_full_ca\n",
      "3qru_full_ca\n",
      "3qtq_full_ca\n",
      "3qtr_full_ca\n",
      "3qts_full_ca\n",
      "3qtu_full_ca\n",
      "3qtw_full_ca\n",
      "3qtx_full_ca\n",
      "3qtz_full_ca\n",
      "3qu0_full_ca\n",
      "3qwj_full_ca\n",
      "3qwk_full_ca\n",
      "3qx2_full_ca\n",
      "3qx4_full_ca\n",
      "3qxo_full_ca\n",
      "3qxp_full_ca\n",
      "3qzf_full_ca\n",
      "3qzg_full_ca\n",
      "3qzh_full_ca\n",
      "3qzi_full_ca\n",
      "3r1q_full_ca\n",
      "3r1s_full_ca\n",
      "3r1y_full_ca\n",
      "3r28_full_ca\n",
      "3r6x_full_ca\n",
      "3r71_full_ca\n",
      "3r73_full_ca\n",
      "3r7e_full_ca\n",
      "3r7i_full_ca\n",
      "3r7u_full_ca\n",
      "3r7v_full_ca\n",
      "3r7y_full_ca\n",
      "3r83_full_ca\n",
      "3r8l_full_ca\n",
      "3r8m_full_ca\n",
      "3r8p_full_ca\n",
      "3r8u_full_ca\n",
      "3r8v_full_ca\n",
      "3r8z_full_ca\n",
      "3r9d_full_ca\n",
      "3r9h_full_ca\n",
      "3r9n_full_ca\n",
      "3r9o_full_ca\n",
      "3rah_full_ca\n",
      "3rai_full_ca\n",
      "3rak_full_ca\n",
      "3ral_full_ca\n",
      "3rjc_full_ca\n",
      "3rk5_full_ca\n",
      "3rk7_full_ca\n",
      "3rk9_full_ca\n",
      "3rkb_full_ca\n",
      "3rm6_full_ca\n",
      "3rm7_full_ca\n",
      "3rmf_full_ca\n",
      "3rni_full_ca\n",
      "3roy_full_ca\n",
      "3rpo_full_ca\n",
      "3rpr_full_ca\n",
      "3rpv_full_ca\n",
      "3rpy_full_ca\n",
      "3rzb_full_ca\n",
      "3s00_full_ca\n",
      "3s0o_full_ca\n",
      "3s1h_full_ca\n",
      "3s2p_full_ca\n",
      "3sqq_full_ca\n",
      "3sw4_full_ca\n",
      "3sw7_full_ca\n",
      "3ti1_full_ca\n",
      "3tiy_full_ca\n",
      "3tiz_full_ca\n",
      "3tnw_full_ca\n",
      "3uli_full_ca\n",
      "3unj_full_ca\n",
      "3unk_full_ca\n",
      "3wbl_full_ca\n",
      "4acm_full_ca\n",
      "4bck_full_ca\n",
      "4bcm_full_ca\n",
      "4bcn_full_ca\n",
      "4bco_full_ca\n",
      "4bcp_full_ca\n",
      "4bcq_full_ca\n",
      "4bgh_full_ca\n",
      "4bzd_full_ca\n",
      "4cfm_full_ca\n",
      "4cfn_full_ca\n",
      "4cfu_full_ca\n",
      "4cfv_full_ca\n",
      "4cfw_full_ca\n",
      "4cfx_full_ca\n",
      "4d1x_full_ca\n",
      "4d1z_full_ca\n",
      "4ek3_full_ca\n",
      "4ek4_full_ca\n",
      "4ek5_full_ca\n",
      "4ek8_full_ca\n",
      "4eoi_full_ca\n",
      "4eoj_full_ca\n",
      "4eok_full_ca\n",
      "4eol_full_ca\n",
      "4eom_full_ca\n",
      "4eon_full_ca\n",
      "4eoo_full_ca\n",
      "4eop_full_ca\n",
      "4eoq_full_ca\n",
      "4eor_full_ca\n",
      "4eos_full_ca\n",
      "4erw_full_ca\n",
      "4ez3_full_ca\n",
      "4ez7_full_ca\n",
      "4fkg_full_ca\n",
      "4fki_full_ca\n",
      "4fkj_full_ca\n",
      "4fkl_full_ca\n",
      "4fko_full_ca\n",
      "4fkp_full_ca\n",
      "4fkq_full_ca\n",
      "4fkr_full_ca\n",
      "4fks_full_ca\n",
      "4fkt_full_ca\n",
      "4fku_full_ca\n",
      "4fkv_full_ca\n",
      "4fkw_full_ca\n",
      "4fx3_full_ca\n",
      "4gcj_full_ca\n",
      "4i3z_full_ca\n",
      "4ii5_full_ca\n",
      "4kd1_full_ca\n",
      "4lyn_full_ca\n",
      "4nj3_full_ca\n",
      "4rj3_full_ca\n",
      "5a14_full_ca\n",
      "5and_full_ca\n",
      "5ane_full_ca\n",
      "5ani_full_ca\n",
      "5anj_full_ca\n",
      "5ank_full_ca\n",
      "5ano_full_ca\n",
      "5cyi_full_ca\n",
      "5d1j_full_ca\n",
      "5fp5_full_ca\n",
      "5fp6_full_ca\n",
      "5iev_full_ca\n",
      "5iex_full_ca\n",
      "5iey_full_ca\n",
      "5if1_full_ca\n",
      "5jq5_full_ca\n",
      "5jq8_full_ca\n",
      "5k4j_full_ca\n",
      "5l2w_full_ca\n",
      "5lmk_full_ca\n",
      "5nev_full_ca\n",
      "5oo0_full_ca\n",
      "5oo1_full_ca\n",
      "5oo3_full_ca\n",
      "5osj_full_ca\n",
      "5osm_full_ca\n",
      "5uq1_full_ca\n",
      "5uq2_full_ca\n",
      "6gub_full_ca\n",
      "6guc_full_ca\n",
      "6gue_full_ca\n",
      "6guf_full_ca\n",
      "6guh_full_ca\n",
      "6guk_full_ca\n"
     ]
    }
   ],
   "source": [
    "# Para comprobar que sí están ordenadas las estructruas\n",
    "for structure in pdbs:\n",
    "  print(structure.getTitle())"
   ]
  },
  {
   "cell_type": "code",
   "execution_count": 12,
   "metadata": {},
   "outputs": [
    {
     "data": {
      "text/plain": [
       "<PDBEnsemble: Ensamble CDK2 pseudoNMR (385 conformations; 298 atoms)>"
      ]
     },
     "execution_count": 12,
     "metadata": {},
     "output_type": "execute_result"
    }
   ],
   "source": [
    "# El resultado es un ensamble de 385 conformaciones y 298 átomos\n",
    "ensamble"
   ]
  },
  {
   "cell_type": "markdown",
   "metadata": {},
   "source": [
    "#### Alineamiento de las estructuras\n",
    "Se utilizan los residuos nombrados por Pisiani (2015) para alinear las estructuras."
   ]
  },
  {
   "cell_type": "code",
   "execution_count": 13,
   "metadata": {},
   "outputs": [
    {
     "name": "stderr",
     "output_type": "stream",
     "text": [
      "@> Superposition completed in 0.57 seconds.\n"
     ]
    },
    {
     "data": {
      "text/plain": [
       "<PDBEnsemble: Ensamble CDK2 pseudoNMR (385 conformations; selected 105 of 298 atoms)>"
      ]
     },
     "execution_count": 13,
     "metadata": {},
     "output_type": "execute_result"
    }
   ],
   "source": [
    "# La siguiente parte es superponer todas las estructuras pero seleccionando los átomos (CA)\n",
    "# que alineará minimizando el RMSD\n",
    "ensamble.setAtoms( ref_strcRes )\n",
    "ensamble.superpose()\n",
    "\n",
    "# El resultado es una selección de 105 átomos, los definidos por Pisiani\n",
    "ensamble"
   ]
  },
  {
   "cell_type": "code",
   "execution_count": 14,
   "metadata": {},
   "outputs": [],
   "source": [
    "# una vez realizada la superposición, volvemos a establecer el ensamble con CA de todos los reisduos\n",
    "ensamble.setAtoms(ref_structure.calpha)"
   ]
  },
  {
   "cell_type": "markdown",
   "metadata": {},
   "source": [
    "### Se guarda el ensamble en .pdb y en formato PRODY"
   ]
  },
  {
   "cell_type": "code",
   "execution_count": 131,
   "metadata": {},
   "outputs": [],
   "source": [
    "# CORREGIDO: Conformaciones que necesitan atención\n",
    "# URGENTE: 1h00, 1oit, 1p2a, 2r3j, 2r3k, 4acm, 4ek6, 4fkj, 5ano, 6ath\n",
    "# LOOPS muy extendidos: 1w98, 5l2w, 5uq3, "
   ]
  },
  {
   "cell_type": "code",
   "execution_count": 15,
   "metadata": {},
   "outputs": [
    {
     "data": {
      "text/plain": [
       "'cdk2_crys_ensamble_385_CA.pdb'"
      ]
     },
     "execution_count": 15,
     "metadata": {},
     "output_type": "execute_result"
    }
   ],
   "source": [
    "# Guarda el archivo de ensamble, que puede ser cargada como una trayectoria con vmd\n",
    "# El ensamble está alineado según los residuos de Panini, y sólo contiene los átomos CA\n",
    "writePDB(\"cdk2_crys_ensamble_385_CA\" +'.pdb', ensamble)"
   ]
  },
  {
   "cell_type": "markdown",
   "metadata": {},
   "source": [
    "#### Se guarda en formato prody para facilitar el análisis posterior"
   ]
  },
  {
   "cell_type": "code",
   "execution_count": 16,
   "metadata": {},
   "outputs": [
    {
     "data": {
      "text/plain": [
       "'./cdk2_crys_ensamble_385_CA.ens.npz'"
      ]
     },
     "execution_count": 16,
     "metadata": {},
     "output_type": "execute_result"
    }
   ],
   "source": [
    "saveEnsemble(ensamble, \"./cdk2_crys_ensamble_385_CA\")"
   ]
  },
  {
   "cell_type": "markdown",
   "metadata": {},
   "source": [
    "### Pruebas con el ensamble"
   ]
  },
  {
   "cell_type": "code",
   "execution_count": 17,
   "metadata": {},
   "outputs": [
    {
     "data": {
      "text/plain": [
       "<PDBConformation: 6guh_full_ca from Ensamble CDK2 pseudoNMR (index: 383; 298 atoms)>"
      ]
     },
     "execution_count": 17,
     "metadata": {},
     "output_type": "execute_result"
    }
   ],
   "source": [
    "# Para obtener una conformación a aprtir del índice\n",
    "ensamble.getConformation(383)"
   ]
  },
  {
   "cell_type": "markdown",
   "metadata": {},
   "source": [
    "# Ensamble con todos los átomos"
   ]
  },
  {
   "cell_type": "code",
   "execution_count": 18,
   "metadata": {},
   "outputs": [
    {
     "name": "stderr",
     "output_type": "stream",
     "text": [
      "@> Retrieving ../Modelos_Full_CDK2_PDB/1e1v_full.pdb... [  1%] 11s"
     ]
    },
    {
     "name": "stdout",
     "output_type": "stream",
     "text": [
      "385\n"
     ]
    },
    {
     "name": "stderr",
     "output_type": "stream",
     "text": [
      "@> 385 PDBs were parsed in 8.41s.                                 \n"
     ]
    },
    {
     "name": "stdout",
     "output_type": "stream",
     "text": [
      "385\n"
     ]
    }
   ],
   "source": [
    "# Genero una lista de archivos disponibles en el directorio de los modelos completos\n",
    "import glob\n",
    "from prody import *\n",
    "pdbs_model_dir = \"../Modelos_Full_CDK2_PDB/\" # Directorio con las estructuras completas\n",
    "\n",
    "# Es importante cargar la lista ORDENADA!!\n",
    "pdbs_full = sorted( glob.glob(pdbs_model_dir + \"*\") )\n",
    "print(len(pdbs_full))\n",
    "\n",
    "# Obtengo el conjunto de estructuras pdb de CDK2, en praticular sólo los CA\n",
    "pdbs_TOTAL = parsePDB( *[ pdb for pdb in pdbs_full ])\n",
    "\n",
    "# Número de estructuras cargadas\n",
    "print(len(pdbs_TOTAL))"
   ]
  },
  {
   "cell_type": "code",
   "execution_count": 19,
   "metadata": {},
   "outputs": [
    {
     "name": "stderr",
     "output_type": "stream",
     "text": [
      "@> 2398 atoms and 1 coordinate set(s) were parsed in 0.04s.\n"
     ]
    }
   ],
   "source": [
    "# Estructura de referencia\n",
    "ref_id = '1fin'\n",
    "ref_structure_TOTAL = parsePDB(pdbs_model_dir + ref_id + \"_full.pdb\")\n",
    "\n",
    "ref_strcRes =  ref_structure_TOTAL.select('name CA and resnum ' + pisiani_residues_str) \n",
    "# Aquí fue importante añadir a la selección \"name CA\"\n",
    "\n",
    "# Coordenadas de la CDK2 de refrencia tomando sólo los residuos de Pisiani\n",
    "ensamble_TOTAL = PDBEnsemble(\"Ensamble CDK2 pseudoNMR TOTAL\")\n",
    "# Átomos de referencia\n",
    "ensamble_TOTAL.setAtoms( ref_structure_TOTAL )\n",
    "# Coordenadas de referencia\n",
    "ensamble_TOTAL.setCoords( ref_structure_TOTAL.getCoords() )\n",
    "\n",
    "# Ahora añadimos todas las estructuras al ensamble una a una\n",
    "for structure in pdbs_TOTAL:\n",
    "    ensamble_TOTAL.addCoordset(structure)"
   ]
  },
  {
   "cell_type": "code",
   "execution_count": 20,
   "metadata": {},
   "outputs": [
    {
     "name": "stderr",
     "output_type": "stream",
     "text": [
      "@> Superposition completed in 0.17 seconds.\n"
     ]
    },
    {
     "data": {
      "text/plain": [
       "<PDBEnsemble: Ensamble CDK2 pseudoNMR TOTAL (385 conformations; selected 105 of 2398 atoms)>"
      ]
     },
     "execution_count": 20,
     "metadata": {},
     "output_type": "execute_result"
    }
   ],
   "source": [
    "# La siguiente parte es superponer todas las estructuras pero seleccionando los átomos (CA)\n",
    "# que alineará minimizando el RMSD\n",
    "ensamble_TOTAL.setAtoms( ref_strcRes )\n",
    "ensamble_TOTAL.superpose()\n",
    "\n",
    "# El resultado es una selección de 105 átomos (CA), de los definidos por Pisiani\n",
    "ensamble_TOTAL"
   ]
  },
  {
   "cell_type": "code",
   "execution_count": 21,
   "metadata": {},
   "outputs": [
    {
     "data": {
      "text/plain": [
       "<PDBEnsemble: Ensamble CDK2 pseudoNMR TOTAL (385 conformations; 2398 atoms)>"
      ]
     },
     "execution_count": 21,
     "metadata": {},
     "output_type": "execute_result"
    }
   ],
   "source": [
    "# una vez realizada la superposición, volvemos a establecer el ensamble con CA de todos los reisduos\n",
    "ensamble_TOTAL.setAtoms(ref_structure_TOTAL)\n",
    "ensamble_TOTAL"
   ]
  },
  {
   "cell_type": "code",
   "execution_count": 22,
   "metadata": {},
   "outputs": [
    {
     "data": {
      "text/plain": [
       "'cdk2_crys_ensamble_385_TOTAL.pdb'"
      ]
     },
     "execution_count": 22,
     "metadata": {},
     "output_type": "execute_result"
    }
   ],
   "source": [
    "# Guarda el archivo de ensamble, que puede ser cargada como una trayectoria con vmd\n",
    "# El ensamble está alineado según los residuos de Panini, y en este caso contiene todos los átomos\n",
    "writePDB(\"cdk2_crys_ensamble_385_TOTAL\" +'.pdb', ensamble_TOTAL)"
   ]
  },
  {
   "cell_type": "code",
   "execution_count": 23,
   "metadata": {},
   "outputs": [
    {
     "data": {
      "text/plain": [
       "'./cdk2_crys_ensamble_385_TOTAL.ens.npz'"
      ]
     },
     "execution_count": 23,
     "metadata": {},
     "output_type": "execute_result"
    }
   ],
   "source": [
    "saveEnsemble(ensamble_TOTAL, \"./cdk2_crys_ensamble_385_TOTAL\")"
   ]
  },
  {
   "cell_type": "markdown",
   "metadata": {},
   "source": [
    "# Análisis de componentes principales"
   ]
  },
  {
   "cell_type": "markdown",
   "metadata": {},
   "source": [
    "## 1) PCA: Prody"
   ]
  },
  {
   "cell_type": "code",
   "execution_count": 8,
   "metadata": {},
   "outputs": [
    {
     "ename": "NameError",
     "evalue": "name 'ensamble' is not defined",
     "output_type": "error",
     "traceback": [
      "\u001b[0;31m---------------------------------------------------------------------------\u001b[0m",
      "\u001b[0;31mNameError\u001b[0m                                 Traceback (most recent call last)",
      "\u001b[0;32m<ipython-input-8-5fd1ea252344>\u001b[0m in \u001b[0;36m<module>\u001b[0;34m\u001b[0m\n\u001b[1;32m      4\u001b[0m \u001b[0;34m\u001b[0m\u001b[0m\n\u001b[1;32m      5\u001b[0m \u001b[0;31m# Se obtiene la matriz de covarianzas\u001b[0m\u001b[0;34m\u001b[0m\u001b[0;34m\u001b[0m\u001b[0;34m\u001b[0m\u001b[0m\n\u001b[0;32m----> 6\u001b[0;31m \u001b[0mpca_prody\u001b[0m\u001b[0;34m.\u001b[0m\u001b[0mbuildCovariance\u001b[0m\u001b[0;34m(\u001b[0m\u001b[0mensamble\u001b[0m\u001b[0;34m)\u001b[0m\u001b[0;34m\u001b[0m\u001b[0;34m\u001b[0m\u001b[0m\n\u001b[0m\u001b[1;32m      7\u001b[0m \u001b[0;34m\u001b[0m\u001b[0m\n\u001b[1;32m      8\u001b[0m \u001b[0;31m# Se calculan los eginvectores\u001b[0m\u001b[0;34m\u001b[0m\u001b[0;34m\u001b[0m\u001b[0;34m\u001b[0m\u001b[0m\n",
      "\u001b[0;31mNameError\u001b[0m: name 'ensamble' is not defined"
     ]
    }
   ],
   "source": [
    "# Instancia del PCA\n",
    "#ensamble.superpose()\n",
    "pca_prody = PCA(\"390 CDK2 Prody\")\n",
    "\n",
    "# Se obtiene la matriz de covarianzas\n",
    "pca_prody.buildCovariance(ensamble)\n",
    "\n",
    "# Se calculan los eginvectores\n",
    "pca_prody.calcModes()"
   ]
  },
  {
   "cell_type": "code",
   "execution_count": 15,
   "metadata": {},
   "outputs": [
    {
     "data": {
      "image/png": "[encoded data removed]",
      "text/plain": [
       "<Figure size 432x288 with 1 Axes>"
      ]
     },
     "metadata": {
      "needs_background": "light"
     },
     "output_type": "display_data"
    }
   ],
   "source": [
    "showProjection(ensamble, pca_prody[:2]);"
   ]
  },
  {
   "cell_type": "markdown",
   "metadata": {},
   "source": [
    "## 2) PCA: pytraj y sklearn"
   ]
  },
  {
   "cell_type": "code",
   "execution_count": 9,
   "metadata": {},
   "outputs": [],
   "source": [
    "import pytraj as pt\n",
    "import matplotlib.pyplot as plt\n",
    "from sklearn.decomposition import PCA"
   ]
  },
  {
   "cell_type": "code",
   "execution_count": 10,
   "metadata": {},
   "outputs": [
    {
     "data": {
      "text/plain": [
       "pytraj.Trajectory, 390 frames: \n",
       "Size: 0.002598 (GB)\n",
       "<Topology: 298 atoms, 298 residues, 298 mols, non-PBC>\n",
       "           "
      ]
     },
     "execution_count": 10,
     "metadata": {},
     "output_type": "execute_result"
    }
   ],
   "source": [
    "# Se carga el archivo pdb del ensamble\n",
    "traj = pt.load(\"./cdk2_ensamble_CA.pdb\")\n",
    "traj"
   ]
  },
  {
   "cell_type": "code",
   "execution_count": 11,
   "metadata": {},
   "outputs": [
    {
     "data": {
      "text/plain": [
       "PCA(copy=True, iterated_power='auto', n_components=2, random_state=None,\n",
       "  svd_solver='auto', tol=0.0, whiten=False)"
      ]
     },
     "execution_count": 11,
     "metadata": {},
     "output_type": "execute_result"
    }
   ],
   "source": [
    "# Se instancia un PCA de sklearn\n",
    "# Se inicializa con los parámetros por default\n",
    "\n",
    "pca = PCA(copy=True, iterated_power='auto', n_components= 2, random_state= None,\n",
    "       svd_solver= 'auto', tol= 0.0, whiten= False)\n",
    "pca"
   ]
  },
  {
   "cell_type": "code",
   "execution_count": 12,
   "metadata": {},
   "outputs": [
    {
     "data": {
      "text/plain": [
       "(390, 894)"
      ]
     },
     "execution_count": 12,
     "metadata": {},
     "output_type": "execute_result"
    }
   ],
   "source": [
    "# Se obtiene la matriz n*m de conformaciones y coordenadas (n= # conf y m = #de átomos * 3)\n",
    "xyz_2d = traj.xyz.reshape(traj.n_frames, traj.n_atoms * 3)\n",
    "# La matriz posee 390 conformaciones y 849 coordenadas (849/3 = 298 CA átomos)\n",
    "xyz_2d.shape"
   ]
  },
  {
   "cell_type": "code",
   "execution_count": 13,
   "metadata": {},
   "outputs": [],
   "source": [
    "# Se ajusta el modelo, fit_transform previamente estandariza los valores de la matriz y\n",
    "# después realiza el ajuste\n",
    "reduced_cartesian = pca.fit_transform(xyz_2d)"
   ]
  },
  {
   "cell_type": "code",
   "execution_count": 43,
   "metadata": {},
   "outputs": [
    {
     "data": {
      "image/png": "[encoded data removed]",
      "text/plain": [
       "<Figure size 432x288 with 2 Axes>"
      ]
     },
     "metadata": {
      "needs_background": "light"
     },
     "output_type": "display_data"
    }
   ],
   "source": [
    "# Observamos la distribución de las conformaciones en función de las primeras dos conformaciones\n",
    "import warnings\n",
    "warnings.filterwarnings('ignore')\n",
    "\n",
    "plt.figure()\n",
    "plt.scatter(reduced_cartesian[:, 0], reduced_cartesian[:,1], marker='o', c=range(traj.n_frames), alpha=0.5)\n",
    "plt.xlabel('PC1')\n",
    "plt.ylabel('PC2')\n",
    "plt.title(\"Ensamble CDK2: Pisiani superpose\")\n",
    "cbar = plt.colorbar()\n",
    "cbar.set_label('frame #')"
   ]
  },
  {
   "cell_type": "markdown",
   "metadata": {},
   "source": [
    "### PCA usando superpose para la \"trayectoria\"\n",
    "En el caso de abajo el ensamble es alineado nuevamente usando el método superpose(), que por defecto debería tomar en cuenta toda la estructura de la proteína para minimizar la matriz de RMSD. Recordar que el ensamble guardado originalmente con prody está alineado usando los residuos de Pisiani."
   ]
  },
  {
   "cell_type": "code",
   "execution_count": 14,
   "metadata": {},
   "outputs": [
    {
     "name": "stdout",
     "output_type": "stream",
     "text": [
      "(390, 894)\n",
      "[0.65441373 0.04351717]\n"
     ]
    },
    {
     "data": {
      "image/png": "[encoded data removed]",
      "text/plain": [
       "<Figure size 432x288 with 2 Axes>"
      ]
     },
     "metadata": {
      "needs_background": "light"
     },
     "output_type": "display_data"
    }
   ],
   "source": [
    "traj_2 = pt.load(\"./cdk2_ensamble_CA.pdb\")\n",
    "\n",
    "pca_2 = PCA(copy=True, iterated_power='auto', n_components= 2, random_state= None,\n",
    "   svd_solver= 'auto', tol= 0.0, whiten= False)\n",
    "\n",
    "traj_2 = traj_2.superpose()\n",
    "xyz_2d_2 = traj_2.xyz.reshape(traj.n_frames, traj.n_atoms * 3)\n",
    "print(xyz_2d_2.shape)\n",
    "\n",
    "reduced_cartesian_2 = pca_2.fit_transform(xyz_2d_2)\n",
    "\n",
    "print(pca_2.explained_variance_ratio_) # Porcentaje de varianza explicada\n",
    "\n",
    "plt.figure()\n",
    "plt.scatter(reduced_cartesian_2[:, 0], reduced_cartesian_2[:,1],\n",
    "            marker='o', c=range(traj_2.n_frames), alpha=0.5)\n",
    "plt.xlabel('PC1')\n",
    "plt.ylabel('PC2')\n",
    "plt.title(\"Ensamble CDK2: Total superpose\")\n",
    "cbar = plt.colorbar()\n",
    "cbar.set_label('frame #')"
   ]
  },
  {
   "cell_type": "code",
   "execution_count": null,
   "metadata": {},
   "outputs": [],
   "source": [
    "# Queda pendiente garegar una gráfica añadiendo las conformaciones conocidas activa, dfg-out, etc"
   ]
  },
  {
   "cell_type": "code",
   "execution_count": null,
   "metadata": {},
   "outputs": [],
   "source": []
  },
  {
   "cell_type": "markdown",
   "metadata": {},
   "source": [
    "### Proyectando un conjunto de datos al subespacio ya definido\n",
    "Ahora comparamos los dos conjuntos de datos (ensamble alineado por Pisiani, y alineado total). Más que nada como una manera de probar cómo protyectar nuevos datos a un subespacio ya definido."
   ]
  },
  {
   "cell_type": "code",
   "execution_count": null,
   "metadata": {},
   "outputs": [],
   "source": []
  },
  {
   "cell_type": "markdown",
   "metadata": {},
   "source": [
    "## 3) PCA: Forma manual"
   ]
  },
  {
   "cell_type": "markdown",
   "metadata": {},
   "source": [
    "[//]: # http://www.fuenterrebollo.com/Economicas/ECONOMETRIA/MULTIVARIANTE/ACP/ACP.pdf, http://www.ub.edu/stat/docencia/Mates/ejemploACP.PDF, \n",
    "https://sebastianraschka.com/Articles/2014_pca_step_by_step.html#2-computing-the-d-dimensional-mean-vector\n",
    "\n",
    "\n",
    "Se considera una serie de $m$ variables (coordenadas: $({x_1, x_2, .., x_m})$ sobre un grupo de $n$ individuos u observaciones (conformaciones) y se trata de calcular, a partir de ellos, un nuevo conjunto de variables (${w_1, w_2, .., w_j, .., w_m}$), incorreladas entre sí (ortogonales), cuyas varianzas van decreciendo progresivamente desde el primer CP al CP $m$.\n",
    "\n",
    "Por lo tanto, cada $w_j$, con $j\\in{1, .., m}$ es una combinación lineal de las (${x_1, x_2, .., x_m}$) originales, es decir:\n",
    "$$ \\mathbf{w_j} = a_{j1}·x_1 +  a_{j2}·x_2 + ... + a_{jm}·x_m, $$\n",
    "o, de otro modo\n",
    "$$ \\mathbf{w_j} = a^o_j·\\mathbf{x}, $$\n",
    "donde $a^o_j$ esun vector de constantes $a^o_j = (a_{j1}, a_{j2}, .., a_{jm})$ y $\\mathbf{x} = ({x_1, x_2, .., x_m})$ transpuesto.\n",
    "\n",
    "Debido a que lo que se busca es maximizar la varianza de cada CP ($w_j$), una alternativa podría ser aumentar indefinidamente los valores de su vector $a^o_{j}$. Por lo tanto, para mantener la ortogonalidad de la transformación, se impone que el módulo del vector (distancia euclídea) sea igualado a 1.\n",
    "\n"
   ]
  },
  {
   "cell_type": "code",
   "execution_count": 15,
   "metadata": {},
   "outputs": [
    {
     "name": "stdout",
     "output_type": "stream",
     "text": [
      "Matriz de coordenadas original: (390, 298, 3)  y es de tipo:  <class 'tuple'>\n"
     ]
    }
   ],
   "source": [
    "# Se obtiene la trayectoria\n",
    "traj_3 = pt.load(\"./cdk2_ensamble_CA.pdb\")\n",
    "\n",
    "# Se necesitan las coordenadas XYZ de la trayectoria\n",
    "print(\"Matriz de coordenadas original:\", traj_3.xyz.shape, \" y es de tipo: \", type(traj_3.xyz.shape))\n",
    "# La trayectoria está representada en una matriz de 3 dimensiones\n",
    "# Para hacer el trabajo se requiere una matriz de dos dimensiones"
   ]
  },
  {
   "cell_type": "markdown",
   "metadata": {},
   "source": [
    "Se transforma la matriz a dos dimensiones."
   ]
  },
  {
   "cell_type": "code",
   "execution_count": 16,
   "metadata": {},
   "outputs": [
    {
     "name": "stdout",
     "output_type": "stream",
     "text": [
      "Matriz de coordenadas en 2d: (390, 894)  y es de tipo:  <class 'numpy.ndarray'>\n"
     ]
    }
   ],
   "source": [
    "# Se transforma la matriz a dos dimensiones y a una matriz de numpy\n",
    "# # de columnas = num de frames, filas = num de coordenadas (átomos * 3)\n",
    "xyz_2d_3 = traj_3.xyz.reshape(traj_3.n_frames, traj_3.n_atoms * 3)\n",
    "\n",
    "print(\"Matriz de coordenadas en 2d:\", xyz_2d_3.shape, \" y es de tipo: \", type(xyz_2d_3))"
   ]
  },
  {
   "cell_type": "markdown",
   "metadata": {},
   "source": [
    "### 0) Preliminares\n",
    "#### ¿Se justifica el uso de un PCA?\n",
    "[//]: <http://www.ub.edu/stat/docencia/Mates/ejemploACP.PDF>\n",
    "Antes de aplicar el PCA hay que verificar si es necesario o beneficioso hacerlo, es decir, si la correlación (medida normalizada de la covarianza $r_{kj} = cov(k,j)/sd_k*sd_j$) entre las variables es lo suficientemente grande como para justificar la factorización de la matriz de correlaciones.  \n",
    "Para ello podemos hacer un test de Barlett cuya $H_0$ es que la matriz de covarianzas de las variables no es significativamente distinta a la matriz de identidad, es decir que para cada para de variables $j$ y $k$, donde $j \\neq k$, se tiene que $H_0=cov(j,k) = 0$."
   ]
  },
  {
   "cell_type": "code",
   "execution_count": null,
   "metadata": {},
   "outputs": [],
   "source": [
    "#### PENDIENTE"
   ]
  },
  {
   "cell_type": "markdown",
   "metadata": {},
   "source": [
    "### 1) Estandarización de los datos\n",
    "El PCA se ve afectado por la escala de las variables. Aunque en este caso la escala es la misma para todas las coordenadas; todas están en A, procedo a estandarizar cada dato $i$ para cada variable (coordenada) $x_j$:\n",
    "$$z_{ji} = \\frac{(x_{ji} - \\mu_{j})} {sd_{j}} $$\n",
    "\n",
    "#### Valores originales"
   ]
  },
  {
   "cell_type": "code",
   "execution_count": 17,
   "metadata": {},
   "outputs": [
    {
     "data": {
      "text/plain": [
       "array([[-13.743, 190.22 , 105.029, ...,   2.111, 214.475, 105.893],\n",
       "       [-12.923, 190.677, 105.77 , ...,   0.722, 213.462, 107.978],\n",
       "       [-13.83 , 190.927, 106.109, ...,   0.609, 213.291, 108.16 ],\n",
       "       ...,\n",
       "       [-13.124, 190.884, 102.087, ...,  -1.863, 214.657, 110.513],\n",
       "       [-10.753, 190.359, 106.61 , ...,   0.698, 213.412, 108.038],\n",
       "       [-10.593, 190.352, 106.158, ...,   0.849, 213.835, 108.759]])"
      ]
     },
     "execution_count": 17,
     "metadata": {},
     "output_type": "execute_result"
    }
   ],
   "source": [
    "# Valores originales\n",
    "xyz_2d_3"
   ]
  },
  {
   "cell_type": "markdown",
   "metadata": {},
   "source": [
    "#### Valores estandarizados"
   ]
  },
  {
   "cell_type": "code",
   "execution_count": 59,
   "metadata": {},
   "outputs": [
    {
     "data": {
      "text/plain": [
       "array([[-0.46896273, -0.24651228, -0.06446425, ...,  0.46251231,\n",
       "        -0.13488379, -1.79970805],\n",
       "       [-0.21127009,  0.11003491,  0.17921183, ...,  0.07540607,\n",
       "        -0.46410176, -0.62120364],\n",
       "       [-0.49630329,  0.3050826 ,  0.29069117, ...,  0.04391363,\n",
       "        -0.51967558, -0.51833179],\n",
       "       ...,\n",
       "       [-0.27443621,  0.27153439, -1.03193393, ..., -0.64501842,\n",
       "        -0.07573505,  0.81165424],\n",
       "       [ 0.47067262, -0.13806576,  0.45544383, ...,  0.06871741,\n",
       "        -0.48035141, -0.58728984],\n",
       "       [ 0.52095412, -0.14352709,  0.30680471, ...,  0.11080024,\n",
       "        -0.34287935, -0.17975906]])"
      ]
     },
     "execution_count": 59,
     "metadata": {},
     "output_type": "execute_result"
    }
   ],
   "source": [
    "# SOLO como ejercicio didáctico: Estandarización con numpy\n",
    "# z = (xi - u) / sd\n",
    "(xyz_2d_3 - np.mean(xyz_2d_3, axis=0) ) / np.std(xyz_2d_3, axis=0) \n",
    "# Especificando la operación por columna con axis = 0\n",
    "# No los guardo en una variable porque usaré el método de sklearn unas celdas más abajo"
   ]
  },
  {
   "cell_type": "code",
   "execution_count": 18,
   "metadata": {},
   "outputs": [
    {
     "name": "stdout",
     "output_type": "stream",
     "text": [
      "Número de variables:  894\n"
     ]
    }
   ],
   "source": [
    "# Mejor aún, guardo los valores en variables para usarlos más tarde\n",
    "vec_means_var = np.mean(xyz_2d_3, axis=0)\n",
    "vec_sd_var = np.std(xyz_2d_3, axis=0)\n",
    "print(\"Número de variables: \", len(vec_means_var))"
   ]
  },
  {
   "cell_type": "markdown",
   "metadata": {},
   "source": [
    "#### Estandarización con sklearn.preprocessing.StandarScale"
   ]
  },
  {
   "cell_type": "code",
   "execution_count": 64,
   "metadata": {},
   "outputs": [
    {
     "data": {
      "text/plain": [
       "array([[-0.46896273, -0.24651228, -0.06446425, ...,  0.46251231,\n",
       "        -0.13488379, -1.79970805],\n",
       "       [-0.21127009,  0.11003491,  0.17921183, ...,  0.07540607,\n",
       "        -0.46410176, -0.62120364],\n",
       "       [-0.49630329,  0.3050826 ,  0.29069117, ...,  0.04391363,\n",
       "        -0.51967558, -0.51833179],\n",
       "       ...,\n",
       "       [-0.27443621,  0.27153439, -1.03193393, ..., -0.64501842,\n",
       "        -0.07573505,  0.81165424],\n",
       "       [ 0.47067262, -0.13806576,  0.45544383, ...,  0.06871741,\n",
       "        -0.48035141, -0.58728984],\n",
       "       [ 0.52095412, -0.14352709,  0.30680471, ...,  0.11080024,\n",
       "        -0.34287935, -0.17975906]])"
      ]
     },
     "execution_count": 64,
     "metadata": {},
     "output_type": "execute_result"
    }
   ],
   "source": [
    "# Estandarización con sk.learn\n",
    "from sklearn.preprocessing import StandardScaler\n",
    "xyz_std = StandardScaler().fit_transform( xyz_2d )\n",
    "# Valores transformados\n",
    "xyz_std"
   ]
  },
  {
   "cell_type": "code",
   "execution_count": 67,
   "metadata": {},
   "outputs": [
    {
     "data": {
      "text/plain": [
       "(390, 894)"
      ]
     },
     "execution_count": 67,
     "metadata": {},
     "output_type": "execute_result"
    }
   ],
   "source": [
    "shape(xyz_std)"
   ]
  },
  {
   "cell_type": "markdown",
   "metadata": {},
   "source": [
    "### 2) Cálculo de la matriz de covarianza\n",
    "La covarianza $\\sigma_{kj}$ entre dos variables $k$ y $j$ se calcula de la siguiente manera:\n",
    "$$ \\sigma_{kj} = \\frac{1}{n-1} \\sum_{i=1}^{n}\\left(x_{ik} - \\bar{x_k}\\right)\\left(x_{ij}-\\bar{x_j}\\right)$$\n",
    "Es la sumatoria del producto de las diferencias de cada observación $i$ de las variables $k$ y $j$ con respecto a su media, dividido entre el número de observaciones $n$ menos uno. \n",
    "\n",
    "En la representación matricial es equivalente a la matriz $\\Sigma$:\n",
    "$$\\Sigma = \\frac{1}{n-1} \\left( (\\mathbf{X} - \\mathbf{\\bar{x}})^T\\;(\\mathbf{X} - \\mathbf{\\bar{x}}) \\right)$$\n",
    "\n",
    "Con lo cual la matriz de covarianzas $\\Sigma$ es bidimensional de tamaño $m*m$, con $m$ = número de variables (# átomos * 3). Y el vector $\\mathbf{\\bar{x}}$, es el vector de medias de todas las $m$ variables."
   ]
  },
  {
   "cell_type": "code",
   "execution_count": 82,
   "metadata": {},
   "outputs": [
    {
     "data": {
      "text/plain": [
       "array([[ 1.00257069,  0.05296743,  0.0777827 , ...,  0.05242455,\n",
       "         0.02861659, -0.16937585],\n",
       "       [ 0.05296743,  1.00257069,  0.36706642, ..., -0.06903732,\n",
       "         0.04648098,  0.00320468],\n",
       "       [ 0.0777827 ,  0.36706642,  1.00257069, ...,  0.11044851,\n",
       "        -0.11530103, -0.41230714],\n",
       "       ...,\n",
       "       [ 0.05242455, -0.06903732,  0.11044851, ...,  1.00257069,\n",
       "        -0.40227506,  0.11961   ],\n",
       "       [ 0.02861659,  0.04648098, -0.11530103, ..., -0.40227506,\n",
       "         1.00257069,  0.33748193],\n",
       "       [-0.16937585,  0.00320468, -0.41230714, ...,  0.11961   ,\n",
       "         0.33748193,  1.00257069]])"
      ]
     },
     "execution_count": 82,
     "metadata": {},
     "output_type": "execute_result"
    }
   ],
   "source": [
    "# Para ir con la nomenclatura.\n",
    "X_std = xyz_std\n",
    "\n",
    "# Cálculo del vector de medias\n",
    "vec_medias = np.mean(X_std)\n",
    "\n",
    "# Número de observaciones\n",
    "num_obs = X_std .shape[0]\n",
    "\n",
    "# Cálculo de la matriz de covarianzas\n",
    "( 1 / ( num_obs - 1 )  ) * ( ( xyz_std -  vec_medias).T.dot( xyz_std -  vec_medias))"
   ]
  },
  {
   "cell_type": "code",
   "execution_count": 81,
   "metadata": {},
   "outputs": [
    {
     "data": {
      "text/plain": [
       "array([[ 1.00257069,  0.05296743,  0.0777827 , ...,  0.05242455,\n",
       "         0.02861659, -0.16937585],\n",
       "       [ 0.05296743,  1.00257069,  0.36706642, ..., -0.06903732,\n",
       "         0.04648098,  0.00320468],\n",
       "       [ 0.0777827 ,  0.36706642,  1.00257069, ...,  0.11044851,\n",
       "        -0.11530103, -0.41230714],\n",
       "       ...,\n",
       "       [ 0.05242455, -0.06903732,  0.11044851, ...,  1.00257069,\n",
       "        -0.40227506,  0.11961   ],\n",
       "       [ 0.02861659,  0.04648098, -0.11530103, ..., -0.40227506,\n",
       "         1.00257069,  0.33748193],\n",
       "       [-0.16937585,  0.00320468, -0.41230714, ...,  0.11961   ,\n",
       "         0.33748193,  1.00257069]])"
      ]
     },
     "execution_count": 81,
     "metadata": {},
     "output_type": "execute_result"
    }
   ],
   "source": [
    "# Versión simple usando numpy\n",
    "cov_mtx = np.cov(X_std.T)\n",
    "cov_mtx"
   ]
  },
  {
   "cell_type": "markdown",
   "metadata": {},
   "source": [
    "### 3) Cálculo de los egeinvectores y egeinvalores (vectores y valores propios)\n",
    "#### Planteamiento\n",
    "Si A es una matriz de $m*m$, hay $x$ vectores diferentes de cero en $R^n$ tales que $A·x$ sea un múltiplo escalar de $x$."
   ]
  },
  {
   "cell_type": "code",
   "execution_count": null,
   "metadata": {},
   "outputs": [],
   "source": []
  },
  {
   "cell_type": "code",
   "execution_count": null,
   "metadata": {},
   "outputs": [],
   "source": []
  },
  {
   "cell_type": "code",
   "execution_count": null,
   "metadata": {},
   "outputs": [],
   "source": []
  }
 ],
 "metadata": {
  "kernelspec": {
   "display_name": "Python 3",
   "language": "python",
   "name": "python3"
  },
  "language_info": {
   "codemirror_mode": {
    "name": "ipython",
    "version": 3
   },
   "file_extension": ".py",
   "mimetype": "text/x-python",
   "name": "python",
   "nbconvert_exporter": "python",
   "pygments_lexer": "ipython3",
   "version": "3.6.7"
  }
 },
 "nbformat": 4,
 "nbformat_minor": 2
}
