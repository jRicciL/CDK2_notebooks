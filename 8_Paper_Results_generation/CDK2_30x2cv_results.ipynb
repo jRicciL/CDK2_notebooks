{
 "cells": [
  {
   "cell_type": "markdown",
   "metadata": {},
   "source": [
    "# CDK2 protein\n",
    "## Data load and preprocessing"
   ]
  },
  {
   "cell_type": "code",
   "execution_count": 1,
   "metadata": {},
   "outputs": [],
   "source": [
    "import pandas as pd\n",
    "import numpy as np\n",
    "import matplotlib.pyplot as plt\n",
    "import seaborn as sns\n",
    "%run ../modules/run_or_load_decorator.py\n",
    "%run ../modules/plotting_metrics.py"
   ]
  },
  {
   "cell_type": "code",
   "execution_count": 27,
   "metadata": {},
   "outputs": [],
   "source": [
    "%run ./1_Helper_functions.ipynb"
   ]
  },
  {
   "cell_type": "code",
   "execution_count": 3,
   "metadata": {},
   "outputs": [
    {
     "name": "stdout",
     "output_type": "stream",
     "text": [
      "(3466, 402)\n",
      "415\n",
      "Ra = 0.12\n"
     ]
    }
   ],
   "source": [
    "protein_name='cdk2'\n",
    "file_name = '../6_Machine_Learning_Models/df_DkSc_results_COCRYS_CSAR_DEKOIS_DUD.pkl'\n",
    "X_merged_dksc = pd.read_pickle(file_name)\n",
    "y_true_merged = X_merged_dksc['activity']\n",
    "X_merged_dksc = X_merged_dksc.drop('activity', axis=1)\n",
    "X_merged_dksc.shape\n",
    "\n",
    "# Simplify the names\n",
    "X = X_merged_dksc.values\n",
    "y = y_true_merged.values\n",
    "\n",
    "R_a = round(y.sum() / len(y), 2)\n",
    "print(X.shape)\n",
    "print(y.sum())\n",
    "print('Ra =', R_a)"
   ]
  },
  {
   "cell_type": "markdown",
   "metadata": {},
   "source": [
    "## Estimators\n",
    "### ML Classifiers"
   ]
  },
  {
   "cell_type": "code",
   "execution_count": 4,
   "metadata": {},
   "outputs": [],
   "source": [
    "from sklearn.dummy import DummyClassifier\n",
    "\n",
    "hyparams = {'strategy': \"stratified\", \"random_state\": 42}\n",
    "dclf = DummyClassifier(**hyparams)"
   ]
  },
  {
   "cell_type": "code",
   "execution_count": 5,
   "metadata": {},
   "outputs": [],
   "source": [
    "from sklearn.neighbors import KNeighborsClassifier\n",
    "\n",
    "hyparams ={'n_neighbors': 1, 'n_jobs': 4}\n",
    "knn = KNeighborsClassifier(**hyparams)"
   ]
  },
  {
   "cell_type": "code",
   "execution_count": 6,
   "metadata": {},
   "outputs": [],
   "source": [
    "from sklearn.linear_model import LogisticRegression \n",
    "\n",
    "hyparams = {'C': 0.01, 'penalty': 'l2', 'solver': 'lbfgs', 'max_iter':400}\n",
    "lr = LogisticRegression(**hyparams)"
   ]
  },
  {
   "cell_type": "code",
   "execution_count": 7,
   "metadata": {},
   "outputs": [],
   "source": [
    "from xgboost import XGBClassifier\n",
    "\n",
    "hyparams ={'subsample': 0.5, 'n_estimators': 200, \n",
    "           'max_depth': 20, 'learning_rate': 0.05, \n",
    "           'gamma': 0.01, 'colsample_bytree': 0.5, 'alpha': 0.01}\n",
    "xgb = XGBClassifier(**hyparams)"
   ]
  },
  {
   "cell_type": "code",
   "execution_count": 8,
   "metadata": {},
   "outputs": [],
   "source": [
    "# ML Classifier\n",
    "ml_classifiers = {\n",
    "    'knn': knn,\n",
    "    'lr': lr,\n",
    "    'xgb': xgb,\n",
    "    'dclf': dclf\n",
    "}\n",
    "\n",
    "# update names\n",
    "ml_classifiers = {f'ml_{name}': clf \n",
    "                for name, clf in ml_classifiers.items()}"
   ]
  },
  {
   "cell_type": "markdown",
   "metadata": {},
   "source": [
    "### Consensus Scorings"
   ]
  },
  {
   "cell_type": "code",
   "execution_count": 9,
   "metadata": {},
   "outputs": [],
   "source": [
    "%run ../6_Machine_Learning_Models/5_Helper_Consensus_Scoring.ipynb\n",
    "\n",
    "cs_functions = {\n",
    "    'MEAN': get_mean_score,\n",
    "    'MAX': get_max_score,\n",
    "    'MIN': get_min_score,\n",
    "    'VOTE': get_vote_score\n",
    "}\n",
    "\n",
    "# update names\n",
    "cs_functions = {f'cs_{name}': func \n",
    "                for name, func in cs_functions.items()}"
   ]
  },
  {
   "cell_type": "markdown",
   "metadata": {},
   "source": [
    "### Estimators dictionary "
   ]
  },
  {
   "cell_type": "code",
   "execution_count": 10,
   "metadata": {},
   "outputs": [],
   "source": [
    "estimators = {**ml_classifiers, **cs_functions}"
   ]
  },
  {
   "cell_type": "markdown",
   "metadata": {},
   "source": [
    "### Evaluation metrics "
   ]
  },
  {
   "cell_type": "code",
   "execution_count": 11,
   "metadata": {},
   "outputs": [],
   "source": [
    "metrics=dict(roc_auc = {'metric_name': 'roc_auc'},\n",
    "             nef_02 = {'metric_name': 'ef', \n",
    "                    'fraction': 0.02, 'method':'normalized'},\n",
    "             nef_12_Ra = {'metric_name': 'ef', \n",
    "                    'fraction': 0.12, 'method':'normalized'},\n",
    "             pROC = {'metric_name': 'p_roc'},\n",
    "             pr_auc = {'metric_name': 'pr_auc'}\n",
    "            )"
   ]
  },
  {
   "cell_type": "markdown",
   "metadata": {},
   "source": [
    "# Hold-out Validation \n",
    "\n",
    "### 30 replicas\n"
   ]
  },
  {
   "cell_type": "code",
   "execution_count": 24,
   "metadata": {},
   "outputs": [],
   "source": [
    "# Save the results to a file to ommit repeate the analysis\n",
    "@run_or_load_joblib\n",
    "def nk_rep_cross_validation_SAVE(filename, **kwargs):\n",
    "    return nk_rep_cross_validation(**kwargs)"
   ]
  },
  {
   "cell_type": "code",
   "execution_count": 33,
   "metadata": {},
   "outputs": [],
   "source": [
    "%run ./1_Helper_functions.ipynb"
   ]
  },
  {
   "cell_type": "code",
   "execution_count": 34,
   "metadata": {},
   "outputs": [
    {
     "name": "stdout",
     "output_type": "stream",
     "text": [
      "File saved: ./cachedir/2x2cv_cdk2\n",
      "Index(['ml_knn', 'ml_lr', 'ml_xgb', 'ml_dclf', 'cs_MEAN', 'cs_MAX', 'cs_MIN',\n",
      "       'cs_VOTE'],\n",
      "      dtype='object')\n",
      "CPU times: user 1min 47s, sys: 8.11 s, total: 1min 55s\n",
      "Wall time: 24.3 s\n"
     ]
    }
   ],
   "source": [
    "%%time\n",
    "evaluation_name='2x2cv'\n",
    "cv2x2, y_preds, test_idx = nk_rep_cross_validation_SAVE(\n",
    "    filename=f'./cachedir/{evaluation_name}_{protein_name}',\n",
    "    estimators=estimators, X=X, y=y, metrics=metrics, \n",
    "                      n_repeats=2, n_splits=2,\n",
    "    y_preds_return=True,\n",
    "    random_state=42)\n",
    "\n",
    "print(cv2x2.columns)\n",
    "full_names = ['1-NN', 'Log. Reg.', 'XGB', 'DummyClf', 'csMEAN', 'csMAX', 'csMIN', 'csVOTE']\n",
    "new_names = dict(zip(\n",
    "    [*cv2x2.columns],\n",
    "    full_names))\n",
    "\n",
    "cv2x2 = cv2x2.rename(columns=new_names)"
   ]
  },
  {
   "cell_type": "code",
   "execution_count": 35,
   "metadata": {},
   "outputs": [
    {
     "data": {
      "text/plain": [
       "{'ml_knn': [array([0., 0., 1., ..., 0., 0., 0.]),\n",
       "  array([1., 1., 0., ..., 1., 0., 0.]),\n",
       "  array([1., 1., 0., ..., 0., 0., 0.]),\n",
       "  array([0., 0., 0., ..., 0., 0., 0.])],\n",
       " 'ml_lr': [array([0.03865049, 0.01502006, 0.26443462, ..., 0.00926725, 0.01792476,\n",
       "         0.0095024 ]),\n",
       "  array([0.15702248, 0.16954113, 0.21855324, ..., 0.06257197, 0.02607888,\n",
       "         0.05572807]),\n",
       "  array([0.13311473, 0.13093885, 0.10171577, ..., 0.03978961, 0.15008364,\n",
       "         0.00959814]),\n",
       "  array([0.04932011, 0.01385943, 0.31926207, ..., 0.14930612, 0.00393362,\n",
       "         0.01010499])],\n",
       " 'ml_xgb': [array([0.00474921, 0.00636755, 0.18596889, ..., 0.10258859, 0.05236902,\n",
       "         0.00819158], dtype=float32),\n",
       "  array([0.4644325 , 0.30208465, 0.03592168, ..., 0.10637586, 0.04819962,\n",
       "         0.0183423 ], dtype=float32),\n",
       "  array([0.28509504, 0.08654587, 0.04428351, ..., 0.01471928, 0.02199385,\n",
       "         0.01804944], dtype=float32),\n",
       "  array([0.01027657, 0.00399475, 0.22023956, ..., 0.07347307, 0.06598884,\n",
       "         0.01886424], dtype=float32)],\n",
       " 'ml_dclf': [array([0., 1., 0., ..., 0., 0., 0.]),\n",
       "  array([0., 1., 0., ..., 0., 0., 0.]),\n",
       "  array([0., 1., 0., ..., 0., 0., 0.]),\n",
       "  array([0., 1., 0., ..., 0., 0., 0.])],\n",
       " 'cs_MEAN': [array([6.739801  , 8.09925373, 7.23507463, ..., 8.98034826, 8.57263682,\n",
       "         8.10049751]),\n",
       "  array([6.7840796 , 7.08059701, 8.71144279, ..., 9.51243781, 8.61517413,\n",
       "         8.25497512]),\n",
       "  array([6.7840796 , 7.08059701, 8.71144279, ..., 8.61517413, 8.25497512,\n",
       "         8.10049751]),\n",
       "  array([6.739801  , 8.09925373, 7.23507463, ..., 8.65497512, 8.98034826,\n",
       "         8.57263682])],\n",
       " 'cs_MAX': [array([4.7, 5.7, 6.2, ..., 5.1, 5.4, 5.9]),\n",
       "  array([5.5, 5.9, 6.7, ..., 7. , 5.4, 6.2]),\n",
       "  array([5.5, 5.9, 6.7, ..., 5.4, 6.2, 5.9]),\n",
       "  array([4.7, 5.7, 6.2, ..., 4.3, 5.1, 5.4])],\n",
       " 'cs_MIN': [array([ 9.6, 10.2,  9.1, ..., 12.1, 12.1, 10.3]),\n",
       "  array([ 9. , 10. , 11.5, ..., 11.9, 11.5, 10.3]),\n",
       "  array([ 9. , 10. , 11.5, ..., 11.5, 10.3, 10.3]),\n",
       "  array([ 9.6, 10.2,  9.1, ..., 10.7, 12.1, 12.1])],\n",
       " 'cs_VOTE': [array([ 0,  5,  0, ..., 60,  7,  0]),\n",
       "  array([ 0,  0, 12, ..., 93,  7,  0]),\n",
       "  array([ 0,  0, 13, ...,  6,  0,  0]),\n",
       "  array([ 0,  4,  0, ..., 12, 61,  6])]}"
      ]
     },
     "execution_count": 35,
     "metadata": {},
     "output_type": "execute_result"
    }
   ],
   "source": [
    "y_preds"
   ]
  },
  {
   "cell_type": "code",
   "execution_count": 36,
   "metadata": {},
   "outputs": [
    {
     "data": {
      "text/plain": [
       "[(array([   4,    5,    6, ..., 3458, 3462, 3463]),\n",
       "  array([   0,    1,    2, ..., 3461, 3464, 3465])),\n",
       " (array([   0,    1,    2, ..., 3461, 3464, 3465]),\n",
       "  array([   4,    5,    6, ..., 3458, 3462, 3463])),\n",
       " (array([   0,    1,    2, ..., 3459, 3461, 3464]),\n",
       "  array([   4,    5,    6, ..., 3462, 3463, 3465])),\n",
       " (array([   4,    5,    6, ..., 3462, 3463, 3465]),\n",
       "  array([   0,    1,    2, ..., 3459, 3461, 3464]))]"
      ]
     },
     "execution_count": 36,
     "metadata": {},
     "output_type": "execute_result"
    }
   ],
   "source": [
    "test_idx\n",
    "# aun se necesita quedarse solo con los del test set"
   ]
  },
  {
   "cell_type": "code",
   "execution_count": 37,
   "metadata": {},
   "outputs": [
    {
     "data": {
      "text/html": [
       "<div>\n",
       "<style scoped>\n",
       "    .dataframe tbody tr th:only-of-type {\n",
       "        vertical-align: middle;\n",
       "    }\n",
       "\n",
       "    .dataframe tbody tr th {\n",
       "        vertical-align: top;\n",
       "    }\n",
       "\n",
       "    .dataframe thead th {\n",
       "        text-align: right;\n",
       "    }\n",
       "</style>\n",
       "<table border=\"1\" class=\"dataframe\">\n",
       "  <thead>\n",
       "    <tr style=\"text-align: right;\">\n",
       "      <th></th>\n",
       "      <th></th>\n",
       "      <th>1-NN</th>\n",
       "      <th>Log. Reg.</th>\n",
       "      <th>XGB</th>\n",
       "      <th>DummyClf</th>\n",
       "      <th>csMEAN</th>\n",
       "      <th>csMAX</th>\n",
       "      <th>csMIN</th>\n",
       "      <th>csVOTE</th>\n",
       "    </tr>\n",
       "  </thead>\n",
       "  <tbody>\n",
       "    <tr>\n",
       "      <th rowspan=\"4\" valign=\"top\">nef_02</th>\n",
       "      <th>0</th>\n",
       "      <td>0.00000</td>\n",
       "      <td>0.71429</td>\n",
       "      <td>0.82857</td>\n",
       "      <td>0.05714</td>\n",
       "      <td>0.34286</td>\n",
       "      <td>0.48571</td>\n",
       "      <td>0.17143</td>\n",
       "      <td>0.37143</td>\n",
       "    </tr>\n",
       "    <tr>\n",
       "      <th>1</th>\n",
       "      <td>0.02857</td>\n",
       "      <td>0.85714</td>\n",
       "      <td>0.91429</td>\n",
       "      <td>0.08571</td>\n",
       "      <td>0.54286</td>\n",
       "      <td>0.31429</td>\n",
       "      <td>0.22857</td>\n",
       "      <td>0.48571</td>\n",
       "    </tr>\n",
       "    <tr>\n",
       "      <th>2</th>\n",
       "      <td>0.02857</td>\n",
       "      <td>0.82857</td>\n",
       "      <td>0.88571</td>\n",
       "      <td>0.05714</td>\n",
       "      <td>0.42857</td>\n",
       "      <td>0.34286</td>\n",
       "      <td>0.22857</td>\n",
       "      <td>0.45714</td>\n",
       "    </tr>\n",
       "    <tr>\n",
       "      <th>3</th>\n",
       "      <td>0.14286</td>\n",
       "      <td>0.71429</td>\n",
       "      <td>0.85714</td>\n",
       "      <td>0.08571</td>\n",
       "      <td>0.40000</td>\n",
       "      <td>0.37143</td>\n",
       "      <td>0.22857</td>\n",
       "      <td>0.40000</td>\n",
       "    </tr>\n",
       "    <tr>\n",
       "      <th rowspan=\"4\" valign=\"top\">nef_12_Ra</th>\n",
       "      <th>0</th>\n",
       "      <td>0.24519</td>\n",
       "      <td>0.53365</td>\n",
       "      <td>0.56731</td>\n",
       "      <td>0.11538</td>\n",
       "      <td>0.34615</td>\n",
       "      <td>0.28365</td>\n",
       "      <td>0.23558</td>\n",
       "      <td>0.31731</td>\n",
       "    </tr>\n",
       "    <tr>\n",
       "      <th>1</th>\n",
       "      <td>0.21256</td>\n",
       "      <td>0.55556</td>\n",
       "      <td>0.59420</td>\n",
       "      <td>0.12077</td>\n",
       "      <td>0.31401</td>\n",
       "      <td>0.29469</td>\n",
       "      <td>0.20290</td>\n",
       "      <td>0.27536</td>\n",
       "    </tr>\n",
       "    <tr>\n",
       "      <th>2</th>\n",
       "      <td>0.24519</td>\n",
       "      <td>0.55769</td>\n",
       "      <td>0.63462</td>\n",
       "      <td>0.11058</td>\n",
       "      <td>0.35096</td>\n",
       "      <td>0.28846</td>\n",
       "      <td>0.20192</td>\n",
       "      <td>0.30769</td>\n",
       "    </tr>\n",
       "    <tr>\n",
       "      <th>3</th>\n",
       "      <td>0.28019</td>\n",
       "      <td>0.54589</td>\n",
       "      <td>0.57971</td>\n",
       "      <td>0.11594</td>\n",
       "      <td>0.31884</td>\n",
       "      <td>0.30435</td>\n",
       "      <td>0.21256</td>\n",
       "      <td>0.28502</td>\n",
       "    </tr>\n",
       "    <tr>\n",
       "      <th rowspan=\"4\" valign=\"top\">pROC</th>\n",
       "      <th>0</th>\n",
       "      <td>0.22983</td>\n",
       "      <td>0.42739</td>\n",
       "      <td>0.44628</td>\n",
       "      <td>0.09161</td>\n",
       "      <td>0.23707</td>\n",
       "      <td>0.22933</td>\n",
       "      <td>0.17839</td>\n",
       "      <td>0.21229</td>\n",
       "    </tr>\n",
       "    <tr>\n",
       "      <th>1</th>\n",
       "      <td>0.22930</td>\n",
       "      <td>0.46433</td>\n",
       "      <td>0.48584</td>\n",
       "      <td>0.10051</td>\n",
       "      <td>0.25160</td>\n",
       "      <td>0.22855</td>\n",
       "      <td>0.17966</td>\n",
       "      <td>0.22898</td>\n",
       "    </tr>\n",
       "    <tr>\n",
       "      <th>2</th>\n",
       "      <td>0.24699</td>\n",
       "      <td>0.45062</td>\n",
       "      <td>0.49928</td>\n",
       "      <td>0.09137</td>\n",
       "      <td>0.24657</td>\n",
       "      <td>0.22264</td>\n",
       "      <td>0.18252</td>\n",
       "      <td>0.22327</td>\n",
       "    </tr>\n",
       "    <tr>\n",
       "      <th>3</th>\n",
       "      <td>0.23455</td>\n",
       "      <td>0.41984</td>\n",
       "      <td>0.46594</td>\n",
       "      <td>0.09679</td>\n",
       "      <td>0.23869</td>\n",
       "      <td>0.23417</td>\n",
       "      <td>0.17475</td>\n",
       "      <td>0.21504</td>\n",
       "    </tr>\n",
       "    <tr>\n",
       "      <th rowspan=\"4\" valign=\"top\">pr_auc</th>\n",
       "      <th>0</th>\n",
       "      <td>0.54613</td>\n",
       "      <td>0.55275</td>\n",
       "      <td>0.57901</td>\n",
       "      <td>0.17242</td>\n",
       "      <td>0.25077</td>\n",
       "      <td>0.23695</td>\n",
       "      <td>0.16846</td>\n",
       "      <td>0.22545</td>\n",
       "    </tr>\n",
       "    <tr>\n",
       "      <th>1</th>\n",
       "      <td>0.52356</td>\n",
       "      <td>0.60512</td>\n",
       "      <td>0.62606</td>\n",
       "      <td>0.17214</td>\n",
       "      <td>0.26705</td>\n",
       "      <td>0.22942</td>\n",
       "      <td>0.16667</td>\n",
       "      <td>0.24190</td>\n",
       "    </tr>\n",
       "    <tr>\n",
       "      <th>2</th>\n",
       "      <td>0.54795</td>\n",
       "      <td>0.58728</td>\n",
       "      <td>0.65395</td>\n",
       "      <td>0.16792</td>\n",
       "      <td>0.26050</td>\n",
       "      <td>0.21949</td>\n",
       "      <td>0.17259</td>\n",
       "      <td>0.23663</td>\n",
       "    </tr>\n",
       "    <tr>\n",
       "      <th>3</th>\n",
       "      <td>0.54017</td>\n",
       "      <td>0.53808</td>\n",
       "      <td>0.60390</td>\n",
       "      <td>0.16764</td>\n",
       "      <td>0.25042</td>\n",
       "      <td>0.24123</td>\n",
       "      <td>0.16264</td>\n",
       "      <td>0.22342</td>\n",
       "    </tr>\n",
       "    <tr>\n",
       "      <th rowspan=\"4\" valign=\"top\">roc_auc</th>\n",
       "      <th>0</th>\n",
       "      <td>0.75600</td>\n",
       "      <td>0.87950</td>\n",
       "      <td>0.87651</td>\n",
       "      <td>0.49944</td>\n",
       "      <td>0.62381</td>\n",
       "      <td>0.64119</td>\n",
       "      <td>0.55865</td>\n",
       "      <td>0.62238</td>\n",
       "    </tr>\n",
       "    <tr>\n",
       "      <th>1</th>\n",
       "      <td>0.74516</td>\n",
       "      <td>0.89313</td>\n",
       "      <td>0.88632</td>\n",
       "      <td>0.49944</td>\n",
       "      <td>0.64759</td>\n",
       "      <td>0.64727</td>\n",
       "      <td>0.57130</td>\n",
       "      <td>0.64467</td>\n",
       "    </tr>\n",
       "    <tr>\n",
       "      <th>2</th>\n",
       "      <td>0.76157</td>\n",
       "      <td>0.89386</td>\n",
       "      <td>0.89709</td>\n",
       "      <td>0.49671</td>\n",
       "      <td>0.64021</td>\n",
       "      <td>0.64406</td>\n",
       "      <td>0.57304</td>\n",
       "      <td>0.63119</td>\n",
       "    </tr>\n",
       "    <tr>\n",
       "      <th>3</th>\n",
       "      <td>0.75131</td>\n",
       "      <td>0.87021</td>\n",
       "      <td>0.87751</td>\n",
       "      <td>0.49670</td>\n",
       "      <td>0.63124</td>\n",
       "      <td>0.64447</td>\n",
       "      <td>0.55643</td>\n",
       "      <td>0.63332</td>\n",
       "    </tr>\n",
       "  </tbody>\n",
       "</table>\n",
       "</div>"
      ],
      "text/plain": [
       "                1-NN  Log. Reg.      XGB  DummyClf   csMEAN    csMAX    csMIN  \\\n",
       "nef_02    0  0.00000    0.71429  0.82857   0.05714  0.34286  0.48571  0.17143   \n",
       "          1  0.02857    0.85714  0.91429   0.08571  0.54286  0.31429  0.22857   \n",
       "          2  0.02857    0.82857  0.88571   0.05714  0.42857  0.34286  0.22857   \n",
       "          3  0.14286    0.71429  0.85714   0.08571  0.40000  0.37143  0.22857   \n",
       "nef_12_Ra 0  0.24519    0.53365  0.56731   0.11538  0.34615  0.28365  0.23558   \n",
       "          1  0.21256    0.55556  0.59420   0.12077  0.31401  0.29469  0.20290   \n",
       "          2  0.24519    0.55769  0.63462   0.11058  0.35096  0.28846  0.20192   \n",
       "          3  0.28019    0.54589  0.57971   0.11594  0.31884  0.30435  0.21256   \n",
       "pROC      0  0.22983    0.42739  0.44628   0.09161  0.23707  0.22933  0.17839   \n",
       "          1  0.22930    0.46433  0.48584   0.10051  0.25160  0.22855  0.17966   \n",
       "          2  0.24699    0.45062  0.49928   0.09137  0.24657  0.22264  0.18252   \n",
       "          3  0.23455    0.41984  0.46594   0.09679  0.23869  0.23417  0.17475   \n",
       "pr_auc    0  0.54613    0.55275  0.57901   0.17242  0.25077  0.23695  0.16846   \n",
       "          1  0.52356    0.60512  0.62606   0.17214  0.26705  0.22942  0.16667   \n",
       "          2  0.54795    0.58728  0.65395   0.16792  0.26050  0.21949  0.17259   \n",
       "          3  0.54017    0.53808  0.60390   0.16764  0.25042  0.24123  0.16264   \n",
       "roc_auc   0  0.75600    0.87950  0.87651   0.49944  0.62381  0.64119  0.55865   \n",
       "          1  0.74516    0.89313  0.88632   0.49944  0.64759  0.64727  0.57130   \n",
       "          2  0.76157    0.89386  0.89709   0.49671  0.64021  0.64406  0.57304   \n",
       "          3  0.75131    0.87021  0.87751   0.49670  0.63124  0.64447  0.55643   \n",
       "\n",
       "              csVOTE  \n",
       "nef_02    0  0.37143  \n",
       "          1  0.48571  \n",
       "          2  0.45714  \n",
       "          3  0.40000  \n",
       "nef_12_Ra 0  0.31731  \n",
       "          1  0.27536  \n",
       "          2  0.30769  \n",
       "          3  0.28502  \n",
       "pROC      0  0.21229  \n",
       "          1  0.22898  \n",
       "          2  0.22327  \n",
       "          3  0.21504  \n",
       "pr_auc    0  0.22545  \n",
       "          1  0.24190  \n",
       "          2  0.23663  \n",
       "          3  0.22342  \n",
       "roc_auc   0  0.62238  \n",
       "          1  0.64467  \n",
       "          2  0.63119  \n",
       "          3  0.63332  "
      ]
     },
     "execution_count": 37,
     "metadata": {},
     "output_type": "execute_result"
    }
   ],
   "source": [
    "cv2x2"
   ]
  },
  {
   "cell_type": "code",
   "execution_count": null,
   "metadata": {},
   "outputs": [],
   "source": [
    "%run Friedman_and_Nemenyi_test.ipynb\n",
    "%load_ext rpy2.ipython"
   ]
  },
  {
   "cell_type": "markdown",
   "metadata": {},
   "source": [
    "## AUC-ROC"
   ]
  },
  {
   "cell_type": "code",
   "execution_count": null,
   "metadata": {},
   "outputs": [],
   "source": [
    "# ROC-AUC\n",
    "metric_name='roc_auc'\n",
    "\n",
    "# Normality\n",
    "display(multi_norm_test(ho30, metric=metric_name))\n",
    "# Homocedasticity\n",
    "display(multi_homovar_test(ho30, metric=metric_name))\n",
    "\n",
    "display(friedmanTest(ho30.loc[metric_name]))\n",
    "\n",
    "df_R = order_df(ho30, metric_name).loc[metric_name]\n",
    "df_Rmelted = pd.melt(df_R, var_name='method', value_name='score')\n",
    "\n",
    "# Single conformation reference values\n",
    "single_mean, single_max = n_hold_out_single_performance(X, y, \n",
    "                            metrics[metric_name], n_reps=30, test_size=0.25, random_state=42)"
   ]
  },
  {
   "cell_type": "code",
   "execution_count": null,
   "metadata": {
    "scrolled": false
   },
   "outputs": [],
   "source": [
    "%%R -i full_names -i df_R -i single_mean -i single_max  -w 6 -h 4 --units in -r 200\n",
    "\n",
    "source('./plotSwarmBox.R')\n",
    "\n",
    "cbbPalette <- hue_pal()(ncol(df_R))\n",
    "names(cbbPalette) <- full_names\n",
    "\n",
    "plot_swarm_box(df_R, cbbPalette, decreasing_order = FALSE, y_min=0.4, y_max=1.) +\n",
    "add_ref_values('Sing. conf. mean', single_mean, color='cadetblue4') + \n",
    "add_ref_values('Sing. conf. max', single_max, color='coral1')"
   ]
  },
  {
   "cell_type": "code",
   "execution_count": null,
   "metadata": {},
   "outputs": [],
   "source": [
    "%%R -i df_R -i full_names -w 6 -h 2 --units in -r 130\n",
    "library(scmamp)\n",
    "\n",
    "source('./plotCD.R')\n",
    "\n",
    "cbbPalette <- hue_pal()(ncol(df_R))\n",
    "names(cbbPalette) <- full_names\n",
    "\n",
    "par(family = \"Trebuchet MS\")\n",
    "plotCD_color(df_R, alpha=0.05, cex=.9, colPalette=cbbPalette)"
   ]
  },
  {
   "cell_type": "code",
   "execution_count": null,
   "metadata": {},
   "outputs": [],
   "source": [
    "%%R -i df_R -w 4 -h 4 --units in -r 130\n",
    "\n",
    "source('./plot_p_vals_heatmap.R')\n",
    "\n",
    "plot_p_vals_heatmap(df_R)"
   ]
  },
  {
   "cell_type": "markdown",
   "metadata": {},
   "source": [
    "## pAUC-ROC Normalized"
   ]
  },
  {
   "cell_type": "code",
   "execution_count": null,
   "metadata": {},
   "outputs": [],
   "source": [
    "# Random value given n_a and N\n",
    "test_size=0.25\n",
    "N = y.size*0.25\n",
    "n_a = y.sum()*0.25\n",
    "print(N, n_a)\n",
    "pROC_base_random = pROC_auc_rand(N, n_a, normalized=True)\n",
    "print('Max pACU-ROC (non-normalized):', 1/N)\n",
    "pROC_base_random"
   ]
  },
  {
   "cell_type": "code",
   "execution_count": null,
   "metadata": {},
   "outputs": [],
   "source": [
    "# ROC-AUC\n",
    "metric_name='pROC'\n",
    "\n",
    "# Normality\n",
    "display(multi_norm_test(ho30, metric=metric_name))\n",
    "# Homocedasticity\n",
    "display(multi_homovar_test(ho30, metric=metric_name))\n",
    "# Friedman test\n",
    "display(friedmanTest(ho30.loc[metric_name]))\n",
    "\n",
    "df_R = order_df(ho30, metric_name).loc[metric_name]\n",
    "df_Rmelted = pd.melt(df_R, var_name='method', value_name='score')\n",
    "\n",
    "# Single conformation reference values\n",
    "single_mean, single_max = n_hold_out_single_performance(X, y, \n",
    "                            metrics[metric_name], n_reps=30, test_size=0.25, random_state=42)"
   ]
  },
  {
   "cell_type": "code",
   "execution_count": null,
   "metadata": {},
   "outputs": [],
   "source": [
    "%%R -i full_names -i df_R -i single_mean -i single_max -ipROC_base_random -w 6 -h 4 --units in -r 200\n",
    "source('./plotSwarmBox.R')\n",
    "\n",
    "cbbPalette <- hue_pal()(ncol(df_R))\n",
    "names(cbbPalette) <- full_names\n",
    "\n",
    "plot_swarm_box(df_R, cbbPalette, decreasing_order = FALSE, y_min=0.0, y_max=1., \n",
    "               dot_size=7, bin_width=0.002,\n",
    "               y_label='AUC-pROC', base_h_line=pROC_base_random) +\n",
    "add_ref_values('Sing. conf. mean', single_mean, color='cadetblue4') + \n",
    "add_ref_values('Sing. conf. max', single_max, color='coral1')"
   ]
  },
  {
   "cell_type": "code",
   "execution_count": null,
   "metadata": {},
   "outputs": [],
   "source": [
    "%%R -i df_R -i full_names -w 5 -h 2 --units in -r 150\n",
    "library(scmamp)\n",
    "\n",
    "source('./plotCD.R')\n",
    "\n",
    "cbbPalette <- hue_pal()(ncol(df_R))\n",
    "names(cbbPalette) <- full_names\n",
    "\n",
    "par(family = \"Trebuchet MS\")\n",
    "plotCD_color(df_R, alpha=0.05, cex=.9, colPalette=cbbPalette)"
   ]
  },
  {
   "cell_type": "code",
   "execution_count": null,
   "metadata": {
    "scrolled": false
   },
   "outputs": [],
   "source": [
    "%%R -i df_R -w 4 -h 4 --units in -r 130\n",
    "\n",
    "source('./plot_p_vals_heatmap.R')\n",
    "\n",
    "plot_p_vals_heatmap(df_R)"
   ]
  },
  {
   "cell_type": "markdown",
   "metadata": {},
   "source": [
    "## EF 2%\n"
   ]
  },
  {
   "cell_type": "code",
   "execution_count": null,
   "metadata": {},
   "outputs": [],
   "source": [
    "# ROC-AUC\n",
    "metric_name='nef_02'\n",
    "\n",
    "# Normality\n",
    "display(multi_norm_test(ho30, metric=metric_name))\n",
    "# Homocedasticity\n",
    "display(multi_homovar_test(ho30, metric=metric_name))\n",
    "# Friedman test\n",
    "display(friedmanTest(ho30.loc[metric_name]))\n",
    "\n",
    "df_R = order_df(ho30, metric_name).loc[metric_name]\n",
    "df_Rmelted = pd.melt(df_R, var_name='method', value_name='score')\n",
    "\n",
    "# Single conformation reference values\n",
    "single_mean, single_max = n_hold_out_single_performance(X, y, \n",
    "                            metrics[metric_name], n_reps=30, test_size=0.25, random_state=42)"
   ]
  },
  {
   "cell_type": "code",
   "execution_count": null,
   "metadata": {},
   "outputs": [],
   "source": [
    "%%R -i df_Rmelted -i df_R -i full_names -i R_a -i single_mean -i single_max -w 6 -h 4 --units in -r 200\n",
    "\n",
    "source('./plotSwarmBox.R')\n",
    "\n",
    "cbbPalette <- hue_pal()(ncol(df_R))\n",
    "names(cbbPalette) <- full_names\n",
    "\n",
    "plot_swarm_box(df_R, cbbPalette, decreasing_order = FALSE, y_min=0.0, y_max=1.0, \n",
    "               y_label='NEF (2%)', dot_size=12, bin_width=0.001, base_h_line=R_a) +\n",
    "add_ref_values('Sing. conf. mean', single_mean, color='cadetblue4') + \n",
    "add_ref_values('Sing. conf. max', single_max, color='coral1')"
   ]
  },
  {
   "cell_type": "code",
   "execution_count": null,
   "metadata": {},
   "outputs": [],
   "source": [
    "%%R -i df_R -i full_names -w 6 -h 2 --units in -r 130\n",
    "library(scmamp)\n",
    "\n",
    "source('./plotCD.R')\n",
    "\n",
    "cbbPalette <- hue_pal()(ncol(df_R))\n",
    "names(cbbPalette) <- full_names\n",
    "\n",
    "par(family = \"Trebuchet MS\")\n",
    "plotCD_color(df_R, alpha=0.05, cex=.9, colPalette=cbbPalette)"
   ]
  },
  {
   "cell_type": "code",
   "execution_count": null,
   "metadata": {},
   "outputs": [],
   "source": [
    "%%R -i df_R  -w 4 -h 4 --units in -r 130\n",
    "\n",
    "source('./plot_p_vals_heatmap.R')\n",
    "\n",
    "plot_p_vals_heatmap(df_R)"
   ]
  },
  {
   "cell_type": "markdown",
   "metadata": {},
   "source": [
    "## EF 12% = Ra"
   ]
  },
  {
   "cell_type": "code",
   "execution_count": null,
   "metadata": {},
   "outputs": [],
   "source": [
    "# ROC-AUC\n",
    "metric_name='nef_12_Ra'\n",
    "\n",
    "# Normality\n",
    "display(multi_norm_test(ho30, metric=metric_name))\n",
    "# Homocedasticity\n",
    "display(multi_homovar_test(ho30, metric=metric_name))\n",
    "# Friedman test\n",
    "display(friedmanTest(ho30.loc[metric_name]))\n",
    "\n",
    "df_R = order_df(ho30, metric_name).loc[metric_name]\n",
    "df_Rmelted = pd.melt(df_R, var_name='method', value_name='score')\n",
    "\n",
    "# Single conformation reference values\n",
    "single_mean, single_max = n_hold_out_single_performance(X, y, \n",
    "                            metrics[metric_name], n_reps=30, test_size=0.25, random_state=42)"
   ]
  },
  {
   "cell_type": "code",
   "execution_count": null,
   "metadata": {},
   "outputs": [],
   "source": [
    "%%R -i df_Rmelted -i df_R -i full_names -i R_a -i single_mean -i single_max -w 5 -h 4 --units in -r 260 \n",
    "\n",
    "source('./plotSwarmBox.R')\n",
    "\n",
    "cbbPalette <- hue_pal()(ncol(df_R))\n",
    "names(cbbPalette) <- full_names\n",
    "\n",
    "plot_swarm_box(df_R, cbbPalette, decreasing_order = FALSE, y_min=0.0, y_max=1.0, \n",
    "               y_label='NEF (12% = Ra)', dot_size=12, bin_width=0.001, base_h_line=R_a) +\n",
    "add_ref_values('Sing. conf. mean', single_mean, color='cadetblue4') + \n",
    "add_ref_values('Sing. conf. max', single_max, color='coral1')"
   ]
  },
  {
   "cell_type": "code",
   "execution_count": null,
   "metadata": {},
   "outputs": [],
   "source": [
    "%%R -i df_R  -w 6 -h 2 --units in -r 120\n",
    "library(scmamp)\n",
    "\n",
    "source('./plotCD.R')\n",
    "\n",
    "cbbPalette <- hue_pal()(ncol(df_R))\n",
    "names(cbbPalette) <- colnames(rev(df_R))\n",
    "\n",
    "par(family = \"Trebuchet MS\")\n",
    "plotCD_color(df_R, alpha=0.05, cex=.9, colPalette=cbbPalette)"
   ]
  },
  {
   "cell_type": "code",
   "execution_count": null,
   "metadata": {},
   "outputs": [],
   "source": [
    "%%R -i df_R -w 4 -h 4 --units in -r 130\n",
    "\n",
    "source('./plot_p_vals_heatmap.R')\n",
    "\n",
    "plot_p_vals_heatmap(df_R)"
   ]
  },
  {
   "cell_type": "markdown",
   "metadata": {},
   "source": [
    "# Y-randomization test"
   ]
  },
  {
   "cell_type": "code",
   "execution_count": null,
   "metadata": {},
   "outputs": [],
   "source": [
    "@run_or_load_joblib\n",
    "def n_hout_val_scrambling(filename, y, random_chi,  **kwargs):\n",
    "    y_rand = randomize_y_labels(y_target=y, random_chi=random_chi)\n",
    "    results = n_hold_out_validation(y=y_rand, **kwargs)\n",
    "    return results"
   ]
  },
  {
   "cell_type": "code",
   "execution_count": null,
   "metadata": {},
   "outputs": [],
   "source": [
    "%%time\n",
    "chi_fractions = [1, 0.75, 0.5, 0.25, 0.0]\n",
    "n_reps=30\n",
    "chi_results = {}\n",
    "evaluation_name = f'y_scrambling_{n_reps}_reps'\n",
    "\n",
    "for chi in chi_fractions:\n",
    "    filename = f'./cachedir/{evaluation_name}_{protein_name}_chi-{chi}'\n",
    "    result = n_hout_val_scrambling(filename=filename, \n",
    "                             random_chi=chi, estimators=estimators, \n",
    "                             X=X, y=y, metrics=metrics, \n",
    "                             n_reps=n_reps, random_state=42)\n",
    "    print(f'Fraction chi={chi} finished.')\n",
    "    chi_results[f'chi_{chi}'] = result\n",
    "    "
   ]
  },
  {
   "cell_type": "markdown",
   "metadata": {},
   "source": [
    "## AUC-ROC"
   ]
  },
  {
   "cell_type": "code",
   "execution_count": null,
   "metadata": {},
   "outputs": [],
   "source": [
    "df_y_random = get_group_stats(chi_results, metric_name='roc_auc')\n",
    "df_y_random = df_y_random.replace(new_names)"
   ]
  },
  {
   "cell_type": "code",
   "execution_count": null,
   "metadata": {
    "scrolled": false
   },
   "outputs": [],
   "source": [
    "%%R -i df_y_random -i full_names -i df_R -w 6 -h 3 --units in -r 130\n",
    " \n",
    "\n",
    "source('./plotSwarmBox.R')\n",
    "\n",
    "cbbPalette <- hue_pal()(8)\n",
    "names(cbbPalette) <- full_names\n",
    "\n",
    "plot_lines(df_y_random, cbbPalette)"
   ]
  },
  {
   "cell_type": "markdown",
   "metadata": {},
   "source": [
    "## AUC-pROC Normalized"
   ]
  },
  {
   "cell_type": "code",
   "execution_count": null,
   "metadata": {},
   "outputs": [],
   "source": [
    "df_y_random = get_group_stats(chi_results, metric_name='pROC')\n",
    "df_y_random = df_y_random.replace(new_names)"
   ]
  },
  {
   "cell_type": "code",
   "execution_count": null,
   "metadata": {
    "scrolled": false
   },
   "outputs": [],
   "source": [
    "%%R -i df_y_random -i df_R -i pROC_base_random -w 9 -h 4 --units in -r 130\n",
    "\n",
    "source('./plotSwarmBox.R')\n",
    "\n",
    "cbbPalette <- hue_pal()(ncol(df_R))\n",
    "names(cbbPalette) <- colnames(df_R)\n",
    "\n",
    "plot_lines(df_y_random, cbbPalette, y_min=0.0, y_max=1., \n",
    "               y_label='AUC-pROC', base_h_line=pROC_base_random)"
   ]
  },
  {
   "cell_type": "markdown",
   "metadata": {},
   "source": [
    "## EF 2% "
   ]
  },
  {
   "cell_type": "code",
   "execution_count": null,
   "metadata": {},
   "outputs": [],
   "source": [
    "df_y_random = get_group_stats(chi_results, metric_name='nef_02')\n",
    "df_y_random = df_y_random.replace(new_names)"
   ]
  },
  {
   "cell_type": "code",
   "execution_count": null,
   "metadata": {},
   "outputs": [],
   "source": [
    "%%R -i df_y_random -i df_R -w 9 -h 4 --units in -r 130\n",
    "\n",
    "source('./plotSwarmBox.R')\n",
    "\n",
    "cbbPalette <- hue_pal()(ncol(df_R))\n",
    "names(cbbPalette) <- colnames(df_R)\n",
    "\n",
    "plot_lines(df_y_random, cbbPalette, y_min=0, base_h_line=0.12, y_label='NEF (2%)')"
   ]
  },
  {
   "cell_type": "markdown",
   "metadata": {},
   "source": [
    "## EF 12% "
   ]
  },
  {
   "cell_type": "code",
   "execution_count": null,
   "metadata": {},
   "outputs": [],
   "source": [
    "df_y_random = get_group_stats(chi_results, metric_name='nef_12_Ra')\n",
    "df_y_random = df_y_random.replace(new_names)"
   ]
  },
  {
   "cell_type": "code",
   "execution_count": null,
   "metadata": {},
   "outputs": [],
   "source": [
    "%%R -i df_y_random -i df_R -w 9 -h 4 --units in -r 130\n",
    "\n",
    "source('./plotSwarmBox.R')\n",
    "\n",
    "cbbPalette <- hue_pal()(ncol(df_R))\n",
    "names(cbbPalette) <- colnames(df_R)\n",
    "\n",
    "plot_lines(df_y_random, cbbPalette, y_min=0, y_max=1, base_h_line=0.12, y_label='NEF (12%)')"
   ]
  },
  {
   "cell_type": "code",
   "execution_count": null,
   "metadata": {},
   "outputs": [],
   "source": []
  }
 ],
 "metadata": {
  "kernelspec": {
   "display_name": "Python 3",
   "language": "python",
   "name": "python3"
  },
  "language_info": {
   "codemirror_mode": {
    "name": "ipython",
    "version": 3
   },
   "file_extension": ".py",
   "mimetype": "text/x-python",
   "name": "python",
   "nbconvert_exporter": "python",
   "pygments_lexer": "ipython3",
   "version": "3.7.6"
  },
  "toc": {
   "base_numbering": 1,
   "nav_menu": {},
   "number_sections": true,
   "sideBar": true,
   "skip_h1_title": false,
   "title_cell": "Table of Contents",
   "title_sidebar": "Contents",
   "toc_cell": false,
   "toc_position": {
    "height": "calc(100% - 180px)",
    "left": "10px",
    "top": "150px",
    "width": "165px"
   },
   "toc_section_display": true,
   "toc_window_display": true
  }
 },
 "nbformat": 4,
 "nbformat_minor": 4
}
