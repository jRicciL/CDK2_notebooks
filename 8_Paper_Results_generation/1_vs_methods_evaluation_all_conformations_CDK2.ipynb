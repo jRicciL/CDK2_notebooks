{
 "cells": [
  {
   "cell_type": "code",
   "execution_count": 21,
   "metadata": {},
   "outputs": [],
   "source": [
    "import pandas as pd\n",
    "import numpy as np\n",
    "import matplotlib.pyplot as plt\n",
    "import seaborn as sns\n",
    "sns.set(context='talk', style='whitegrid', font_scale=0.8)\n",
    "\n",
    "from memoization import cached\n",
    "\n",
    "%run ../modules/plotting_metrics.py\n",
    "%run ../6_Machine_Learning_Models/5_Helper_Consensus_Scoring.ipynb"
   ]
  },
  {
   "cell_type": "code",
   "execution_count": 2,
   "metadata": {},
   "outputs": [],
   "source": [
    "# Hold-out and Cross Validation"
   ]
  },
  {
   "cell_type": "code",
   "execution_count": 3,
   "metadata": {},
   "outputs": [],
   "source": [
    "file_name = '../6_Machine_Learning_Models/df_DkSc_results_COCRYS_CSAR_DEKOIS_DUD.pkl'\n",
    "X_merged_dksc = pd.read_pickle(file_name)\n",
    "y_true_merged = X_merged_dksc['activity']\n",
    "X_merged_dksc = X_merged_dksc.drop('activity', axis=1)\n",
    "X_merged_dksc.shape\n",
    "\n",
    "# Simplify the names\n",
    "X = X_merged_dksc.values\n",
    "y = y_true_merged.values"
   ]
  },
  {
   "cell_type": "code",
   "execution_count": null,
   "metadata": {},
   "outputs": [],
   "source": []
  },
  {
   "cell_type": "code",
   "execution_count": 4,
   "metadata": {},
   "outputs": [],
   "source": [
    "## f-Fold Cross Validation"
   ]
  },
  {
   "cell_type": "markdown",
   "metadata": {},
   "source": [
    "# Stratified k-fold Cross Validation"
   ]
  },
  {
   "cell_type": "code",
   "execution_count": 5,
   "metadata": {},
   "outputs": [],
   "source": [
    "from sklearn.model_selection import StratifiedKFold, StratifiedShuffleSplit\n",
    "\n",
    "@cached()\n",
    "def _train_validate(clf, clf_name, \n",
    "                    X_train, X_test, y_train, y_test,\n",
    "                    metric_name, metric_params):\n",
    "    if clf_name.startswith('ml_'):\n",
    "        # Fit the estimator\n",
    "        clf.fit(X_train, y_train)\n",
    "        # Make the predictions\n",
    "        y_pred = clf.predict_proba(X_test)[:,1]\n",
    "    elif clf_name.startswith('cs_'):\n",
    "        # apply consensus\n",
    "        y_pred = clf(pd.DataFrame(X_test))\n",
    "    else:\n",
    "        print(clf_name, 'not found. Ommited.')\n",
    "        return\n",
    "\n",
    "    # Make the evaluation\n",
    "    metric = PlotMetric(y_test, {'': y_pred},\n",
    "                decreasing=False)\\\n",
    "                .format_metric_results(\n",
    "                    rounded=5,\n",
    "                    metric_name=metric_name,\n",
    "                    **metric_params)\n",
    "\n",
    "    return metric.values[0][0]\n",
    "\n",
    "@cached()\n",
    "def _do_replicates(splits, estimators, X, y,\n",
    "          metric_name='roc_auc', metric_params={}):\n",
    "    results={}\n",
    "    # Machine Learning Classifiers\n",
    "    for clf_name, clf in estimators.items():\n",
    "        folds = []\n",
    "        for i, (train, test) in enumerate(splits):\n",
    "            metric = _train_validate(\n",
    "                clf, clf_name, \n",
    "                X[train], X[test], y[train], y[test],\n",
    "                metric_name, metric_params\n",
    "            )\n",
    "            # Append the results\n",
    "            folds.append(metric)\n",
    "\n",
    "        # Add to the results dictonary \n",
    "        results['$'.join([clf_name])] = folds\n",
    "\n",
    "    return results\n",
    "\n",
    "@cached()\n",
    "def k_cross_validation(estimators, X, y,\n",
    "          metric_name='roc_auc', metric_params={},\n",
    "          n_splits=5, \n",
    "          random_state=None, shuffle=True):\n",
    "    # Compute the Stratified K folds\n",
    "    cv = StratifiedKFold(n_splits=n_splits, \n",
    "                         random_state=random_state,\n",
    "                         shuffle=shuffle)\n",
    "    splits = [*cv.split(X, y)]\n",
    "    \n",
    "    results = _do_replicates(splits, estimators, X, y,\n",
    "          metric_name, metric_params)\n",
    "    \n",
    "    return results\n",
    "\n",
    "@cached()\n",
    "def n_hold_out_validation(estimators, X, y,\n",
    "          metric_name='roc_auc', metric_params={},\n",
    "          n_reps=5, test_size=0.25,\n",
    "          random_state=None):\n",
    "    # Compute the Stratified K folds\n",
    "    cv = StratifiedShuffleSplit(\n",
    "                        n_splits=n_reps, \n",
    "                        test_size=test_size,\n",
    "                        random_state=random_state)\n",
    "    splits = [*cv.split(X, y)]\n",
    "    \n",
    "    results = _do_replicates(splits, estimators, X, y,\n",
    "          metric_name, metric_params)\n",
    "    \n",
    "    return results"
   ]
  },
  {
   "cell_type": "code",
   "execution_count": 6,
   "metadata": {},
   "outputs": [],
   "source": [
    "def plot_swarm_metrics(df_results, metric_name):\n",
    "    df_melted = pd.melt(df_results, var_name='method', value_name=metric_name)\n",
    "\n",
    "    fig, ax = plt.subplots(figsize=(12,6))\n",
    "    ax = sns.swarmplot(data=df_melted, x='method', y=metric_name)\n",
    "    ax.set(\n",
    "        title=f'ML vs CS results: {metric_name.replace(\"_\", \" \").upper()}',\n",
    "           xlabel='VS Method')\n"
   ]
  },
  {
   "cell_type": "markdown",
   "metadata": {},
   "source": [
    "## Classifiers and consensus Scorings\n",
    "### ML Classifiers"
   ]
  },
  {
   "cell_type": "code",
   "execution_count": 7,
   "metadata": {},
   "outputs": [],
   "source": [
    "from sklearn.dummy import DummyClassifier\n",
    "\n",
    "hyparams = {'strategy': \"stratified\"}\n",
    "dclf = DummyClassifier(**hyparams)"
   ]
  },
  {
   "cell_type": "code",
   "execution_count": 8,
   "metadata": {},
   "outputs": [],
   "source": [
    "from sklearn.neighbors import KNeighborsClassifier\n",
    "\n",
    "hyparams ={'n_neighbors': 1, 'n_jobs': 4}\n",
    "knn = KNeighborsClassifier(**hyparams)"
   ]
  },
  {
   "cell_type": "code",
   "execution_count": 9,
   "metadata": {},
   "outputs": [],
   "source": [
    "from sklearn.linear_model import LogisticRegression \n",
    "\n",
    "hyparams = {'C': 0.01, 'penalty': 'l2', 'solver': 'lbfgs', 'max_iter':400}\n",
    "lr = LogisticRegression(**hyparams)"
   ]
  },
  {
   "cell_type": "code",
   "execution_count": 10,
   "metadata": {},
   "outputs": [],
   "source": [
    "from xgboost import XGBClassifier\n",
    "\n",
    "hyparams ={'subsample': 0.5, 'n_estimators': 200, \n",
    "           'max_depth': 20, 'learning_rate': 0.05, \n",
    "           'gamma': 0.01, 'colsample_bytree': 0.5, 'alpha': 0.01}\n",
    "xgb = XGBClassifier(**hyparams)"
   ]
  },
  {
   "cell_type": "code",
   "execution_count": 11,
   "metadata": {},
   "outputs": [],
   "source": [
    "from sklearn.ensemble import RandomForestClassifier\n",
    "\n",
    "hyparams = {'n_estimators': 100, 'min_samples_split': 10,\n",
    "            'min_samples_leaf': 4, \n",
    "            'max_features': 'sqrt', 'max_depth': 10}\n",
    "rf = RandomForestClassifier(**hyparams)"
   ]
  },
  {
   "cell_type": "code",
   "execution_count": 12,
   "metadata": {},
   "outputs": [],
   "source": [
    "# ML Classifier\n",
    "ml_classifiers = {\n",
    "    'dclf': dclf,\n",
    "    'knn': knn,\n",
    "    'lr': lr,\n",
    "    'xgb': xgb,\n",
    "    'rf': rf\n",
    "}\n",
    "\n",
    "# update names\n",
    "ml_classifiers = {f'ml_{name}': clf \n",
    "                for name, clf in ml_classifiers.items()}"
   ]
  },
  {
   "cell_type": "markdown",
   "metadata": {},
   "source": [
    "### Consensus Scorings"
   ]
  },
  {
   "cell_type": "code",
   "execution_count": 13,
   "metadata": {},
   "outputs": [],
   "source": [
    "cs_functions = {\n",
    "    'MEAN': get_mean_score,\n",
    "    'MAX': get_max_score,\n",
    "    'MIN': get_min_score,\n",
    "    'VOTE': get_vote_score,\n",
    "    'RANK': get_rank_score \n",
    "}\n",
    "\n",
    "# update names\n",
    "cs_functions = {f'cs_{name}': func \n",
    "                for name, func in cs_functions.items()}"
   ]
  },
  {
   "cell_type": "markdown",
   "metadata": {},
   "source": [
    "## Estimators dictionary"
   ]
  },
  {
   "cell_type": "code",
   "execution_count": 14,
   "metadata": {},
   "outputs": [],
   "source": [
    "estimators = {**ml_classifiers, **cs_functions}"
   ]
  },
  {
   "cell_type": "markdown",
   "metadata": {},
   "source": [
    "# Cross Validation"
   ]
  },
  {
   "cell_type": "markdown",
   "metadata": {},
   "source": [
    "### 5 folds/reps"
   ]
  },
  {
   "cell_type": "code",
   "execution_count": 24,
   "metadata": {},
   "outputs": [
    {
     "name": "stdout",
     "output_type": "stream",
     "text": [
      "CPU times: user 5.52 ms, sys: 127 µs, total: 5.65 ms\n",
      "Wall time: 4.62 ms\n"
     ]
    }
   ],
   "source": [
    "%%time\n",
    "metric_name='roc_auc'\n",
    "cv5_roc = k_cross_validation(estimators, X, y, n_splits=5, random_state=42)\n",
    "\n",
    "df_res = pd.DataFrame(results)\n",
    "# plot_swarm_metrics(df_res, metric_name=metric_name)"
   ]
  },
  {
   "cell_type": "code",
   "execution_count": 25,
   "metadata": {},
   "outputs": [
    {
     "name": "stdout",
     "output_type": "stream",
     "text": [
      "CPU times: user 9.26 ms, sys: 22 µs, total: 9.28 ms\n",
      "Wall time: 8.45 ms\n"
     ]
    }
   ],
   "source": [
    "%%time\n",
    "metric_name='roc_auc'\n",
    "results = n_hold_out_validation(estimators, X, y, n_reps=5, random_state=42)\n",
    "\n",
    "df_res = pd.DataFrame(results)\n",
    "# plot_swarm_metrics(df_res, metric_name=metric_name)"
   ]
  },
  {
   "cell_type": "markdown",
   "metadata": {},
   "source": [
    "### 15 folds/reps"
   ]
  },
  {
   "cell_type": "code",
   "execution_count": 18,
   "metadata": {},
   "outputs": [
    {
     "ename": "NameError",
     "evalue": "name 'classifier' is not defined",
     "output_type": "error",
     "traceback": [
      "\u001b[0;31m---------------------------------------------------------------------------\u001b[0m",
      "\u001b[0;31mNameError\u001b[0m                                 Traceback (most recent call last)",
      "\u001b[0;32m<ipython-input-18-f9c7b88e2b84>\u001b[0m in \u001b[0;36m<module>\u001b[0;34m\u001b[0m\n\u001b[1;32m      7\u001b[0m \u001b[0mfig\u001b[0m\u001b[0;34m,\u001b[0m \u001b[0max\u001b[0m \u001b[0;34m=\u001b[0m \u001b[0mplt\u001b[0m\u001b[0;34m.\u001b[0m\u001b[0msubplots\u001b[0m\u001b[0;34m(\u001b[0m\u001b[0;34m)\u001b[0m\u001b[0;34m\u001b[0m\u001b[0;34m\u001b[0m\u001b[0m\n\u001b[1;32m      8\u001b[0m \u001b[0;32mfor\u001b[0m \u001b[0mi\u001b[0m\u001b[0;34m,\u001b[0m \u001b[0;34m(\u001b[0m\u001b[0mtrain\u001b[0m\u001b[0;34m,\u001b[0m \u001b[0mtest\u001b[0m\u001b[0;34m)\u001b[0m \u001b[0;32min\u001b[0m \u001b[0menumerate\u001b[0m\u001b[0;34m(\u001b[0m\u001b[0mcv\u001b[0m\u001b[0;34m.\u001b[0m\u001b[0msplit\u001b[0m\u001b[0;34m(\u001b[0m\u001b[0mX\u001b[0m\u001b[0;34m,\u001b[0m \u001b[0my\u001b[0m\u001b[0;34m)\u001b[0m\u001b[0;34m)\u001b[0m\u001b[0;34m:\u001b[0m\u001b[0;34m\u001b[0m\u001b[0;34m\u001b[0m\u001b[0m\n\u001b[0;32m----> 9\u001b[0;31m     \u001b[0mclassifier\u001b[0m\u001b[0;34m.\u001b[0m\u001b[0mfit\u001b[0m\u001b[0;34m(\u001b[0m\u001b[0mX\u001b[0m\u001b[0;34m[\u001b[0m\u001b[0mtrain\u001b[0m\u001b[0;34m]\u001b[0m\u001b[0;34m,\u001b[0m \u001b[0my\u001b[0m\u001b[0;34m[\u001b[0m\u001b[0mtrain\u001b[0m\u001b[0;34m]\u001b[0m\u001b[0;34m)\u001b[0m\u001b[0;34m\u001b[0m\u001b[0;34m\u001b[0m\u001b[0m\n\u001b[0m\u001b[1;32m     10\u001b[0m     viz = plot_roc_curve(classifier, X[test], y[test],\n\u001b[1;32m     11\u001b[0m                          \u001b[0mname\u001b[0m\u001b[0;34m=\u001b[0m\u001b[0;34m'ROC fold {}'\u001b[0m\u001b[0;34m.\u001b[0m\u001b[0mformat\u001b[0m\u001b[0;34m(\u001b[0m\u001b[0mi\u001b[0m\u001b[0;34m)\u001b[0m\u001b[0;34m,\u001b[0m\u001b[0;34m\u001b[0m\u001b[0;34m\u001b[0m\u001b[0m\n",
      "\u001b[0;31mNameError\u001b[0m: name 'classifier' is not defined"
     ]
    },
    {
     "data": {
      "image/png": "[encoded data removed]",
      "text/plain": [
       "<Figure size 504x504 with 1 Axes>"
      ]
     },
     "metadata": {},
     "output_type": "display_data"
    }
   ],
   "source": [
    "\n",
    "\n",
    "cv = StratifiedKFold(n_splits=5, random_state=random_state, shuffle=True)\n",
    "\n",
    "tprs = []\n",
    "aucs = []\n",
    "mean_fpr = np.linspace(0, 1, 100)\n",
    "\n",
    "fig, ax = plt.subplots()\n",
    "for i, (train, test) in enumerate(cv.split(X, y)):\n",
    "    classifier.fit(X[train], y[train])\n",
    "    viz = plot_roc_curve(classifier, X[test], y[test],\n",
    "                         name='ROC fold {}'.format(i),\n",
    "                         alpha=0.3, lw=1, ax=ax)\n",
    "    interp_tpr = np.interp(mean_fpr, viz.fpr, viz.tpr)\n",
    "    interp_tpr[0] = 0.0\n",
    "    tprs.append(interp_tpr)\n",
    "    aucs.append(viz.roc_auc)\n",
    "\n",
    "ax.plot([0, 1], [0, 1], linestyle='--', lw=2, color='r',\n",
    "        label='Chance', alpha=.8)\n",
    "\n",
    "mean_tpr = np.mean(tprs, axis=0)\n",
    "mean_tpr[-1] = 1.0\n",
    "mean_auc = auc(mean_fpr, mean_tpr)\n",
    "std_auc = np.std(aucs)\n",
    "ax.plot(mean_fpr, mean_tpr, color='b',\n",
    "        label=r'Mean ROC (AUC = %0.2f $\\pm$ %0.2f)' % (mean_auc, std_auc),\n",
    "        lw=2, alpha=.8)\n",
    "\n",
    "std_tpr = np.std(tprs, axis=0)\n",
    "tprs_upper = np.minimum(mean_tpr + std_tpr, 1)\n",
    "tprs_lower = np.maximum(mean_tpr - std_tpr, 0)\n",
    "ax.fill_between(mean_fpr, tprs_lower, tprs_upper, color='grey', alpha=.2,\n",
    "                label=r'$\\pm$ 1 std. dev.')\n",
    "\n",
    "ax.set(xlim=[-0.05, 1.05], ylim=[-0.05, 1.05],\n",
    "       title=\"Receiver operating characteristic example\")\n",
    "ax.legend(loc=\"lower right\")\n",
    "plt.show()"
   ]
  },
  {
   "cell_type": "code",
   "execution_count": null,
   "metadata": {},
   "outputs": [],
   "source": []
  }
 ],
 "metadata": {
  "kernelspec": {
   "display_name": "Python 3",
   "language": "python",
   "name": "python3"
  },
  "language_info": {
   "codemirror_mode": {
    "name": "ipython",
    "version": 3
   },
   "file_extension": ".py",
   "mimetype": "text/x-python",
   "name": "python",
   "nbconvert_exporter": "python",
   "pygments_lexer": "ipython3",
   "version": "3.7.6"
  }
 },
 "nbformat": 4,
 "nbformat_minor": 4
}
