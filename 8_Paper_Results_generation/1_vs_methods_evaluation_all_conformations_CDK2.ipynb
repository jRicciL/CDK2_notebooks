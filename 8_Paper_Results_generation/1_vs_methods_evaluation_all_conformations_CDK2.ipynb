{
 "cells": [
  {
   "cell_type": "code",
   "execution_count": 1,
   "metadata": {},
   "outputs": [],
   "source": [
    "import pandas as pd\n",
    "import numpy as np\n",
    "import matplotlib.pyplot as plt\n",
    "import seaborn as sns\n",
    "\n",
    "%run ../modules/plotting_metrics.py"
   ]
  },
  {
   "cell_type": "code",
   "execution_count": 2,
   "metadata": {},
   "outputs": [],
   "source": [
    "from memoization import cached\n"
   ]
  },
  {
   "cell_type": "code",
   "execution_count": 3,
   "metadata": {},
   "outputs": [],
   "source": [
    "# Hold-out and Cross Validation"
   ]
  },
  {
   "cell_type": "code",
   "execution_count": 4,
   "metadata": {},
   "outputs": [],
   "source": [
    "file_name = '../6_Machine_Learning_Models/df_DkSc_results_COCRYS_CSAR_DEKOIS_DUD.pkl'\n",
    "X_merged_dksc = pd.read_pickle(file_name)\n",
    "y_true_merged = X_merged_dksc['activity']\n",
    "X_merged_dksc = X_merged_dksc.drop('activity', axis=1)\n",
    "X_merged_dksc.shape\n",
    "\n",
    "# Simplify the names\n",
    "X = X_merged_dksc.values\n",
    "y = y_true_merged.values"
   ]
  },
  {
   "cell_type": "code",
   "execution_count": 5,
   "metadata": {},
   "outputs": [],
   "source": [
    "def plot_swarm_metrics(df_results, metric_name):\n",
    "    sns.set(context='talk', style='whitegrid', font_scale=0.8)\n",
    "    \n",
    "    df_melted = pd.melt(df_results.loc[metric_name], var_name='method', value_name=metric_name)\n",
    "\n",
    "    fig, ax = plt.subplots(figsize=(12,6))\n",
    "    ax = sns.swarmplot(data=df_melted, x='method', y=metric_name,\n",
    "                      size=6)\n",
    "    sns.pointplot(data=df_melted, x='method', y=metric_name, dodge=True,\n",
    "                  ci=95, ax=ax, join=False, color='black', capsize=0.4)\n",
    "    ax.set(\n",
    "           xlabel='VS Method')\n",
    "    ax.set_title(f'ML vs CS results: {metric_name.replace(\"_\", \" \").upper()}', \n",
    "                 fontweight='bold', fontsize=18)\n"
   ]
  },
  {
   "cell_type": "code",
   "execution_count": 6,
   "metadata": {},
   "outputs": [],
   "source": [
    "# Pandas styler\n",
    "def _col_sig_p_values(val):\n",
    "    color = 'red' if val < 0.05 else 'none'\n",
    "    return 'color: %s' % color"
   ]
  },
  {
   "cell_type": "markdown",
   "metadata": {},
   "source": [
    "## Classifiers and consensus Scorings\n",
    "### ML Classifiers"
   ]
  },
  {
   "cell_type": "code",
   "execution_count": 7,
   "metadata": {},
   "outputs": [],
   "source": [
    "from sklearn.dummy import DummyClassifier\n",
    "\n",
    "hyparams = {'strategy': \"stratified\"}\n",
    "dclf = DummyClassifier(**hyparams)"
   ]
  },
  {
   "cell_type": "code",
   "execution_count": 8,
   "metadata": {},
   "outputs": [],
   "source": [
    "from sklearn.neighbors import KNeighborsClassifier\n",
    "\n",
    "hyparams ={'n_neighbors': 1, 'n_jobs': 4}\n",
    "knn = KNeighborsClassifier(**hyparams)"
   ]
  },
  {
   "cell_type": "code",
   "execution_count": 9,
   "metadata": {},
   "outputs": [],
   "source": [
    "from sklearn.linear_model import LogisticRegression \n",
    "\n",
    "hyparams = {'C': 0.01, 'penalty': 'l2', 'solver': 'lbfgs', 'max_iter':400}\n",
    "lr = LogisticRegression(**hyparams)"
   ]
  },
  {
   "cell_type": "code",
   "execution_count": 10,
   "metadata": {},
   "outputs": [],
   "source": [
    "from xgboost import XGBClassifier\n",
    "\n",
    "hyparams ={'subsample': 0.5, 'n_estimators': 200, \n",
    "           'max_depth': 20, 'learning_rate': 0.05, \n",
    "           'gamma': 0.01, 'colsample_bytree': 0.5, 'alpha': 0.01}\n",
    "xgb = XGBClassifier(**hyparams)"
   ]
  },
  {
   "cell_type": "code",
   "execution_count": 11,
   "metadata": {},
   "outputs": [],
   "source": [
    "from sklearn.ensemble import RandomForestClassifier\n",
    "\n",
    "hyparams = {'n_estimators': 100, 'min_samples_split': 10,\n",
    "            'min_samples_leaf': 4, \n",
    "            'max_features': 'sqrt', 'max_depth': 10}\n",
    "rf = RandomForestClassifier(**hyparams)"
   ]
  },
  {
   "cell_type": "code",
   "execution_count": 12,
   "metadata": {},
   "outputs": [],
   "source": [
    "# ML Classifier\n",
    "ml_classifiers = {\n",
    "    'dclf': dclf,\n",
    "    'knn': knn,\n",
    "    'lr': lr,\n",
    "    'xgb': xgb,\n",
    "    'rf': rf\n",
    "}\n",
    "\n",
    "# update names\n",
    "ml_classifiers = {f'ml_{name}': clf \n",
    "                for name, clf in ml_classifiers.items()}"
   ]
  },
  {
   "cell_type": "markdown",
   "metadata": {},
   "source": [
    "### Consensus Scorings"
   ]
  },
  {
   "cell_type": "code",
   "execution_count": 13,
   "metadata": {},
   "outputs": [],
   "source": [
    "%run ../6_Machine_Learning_Models/5_Helper_Consensus_Scoring.ipynb\n",
    "\n",
    "cs_functions = {\n",
    "    'MEAN': get_mean_score,\n",
    "    'MAX': get_max_score,\n",
    "    'MIN': get_min_score,\n",
    "    'VOTE': get_vote_score,\n",
    "    'RANK': get_rank_score \n",
    "}\n",
    "\n",
    "# update names\n",
    "cs_functions = {f'cs_{name}': func \n",
    "                for name, func in cs_functions.items()}"
   ]
  },
  {
   "cell_type": "markdown",
   "metadata": {},
   "source": [
    "## Estimators dictionary"
   ]
  },
  {
   "cell_type": "code",
   "execution_count": 14,
   "metadata": {},
   "outputs": [],
   "source": [
    "estimators = {**ml_classifiers, **cs_functions}"
   ]
  },
  {
   "cell_type": "markdown",
   "metadata": {},
   "source": [
    "# Cross Validation"
   ]
  },
  {
   "cell_type": "code",
   "execution_count": 15,
   "metadata": {},
   "outputs": [],
   "source": [
    "%run ./1_Helper_functions.ipynb"
   ]
  },
  {
   "cell_type": "code",
   "execution_count": 16,
   "metadata": {},
   "outputs": [],
   "source": [
    "metrics=dict(roc_auc = {'metric_name': 'roc_auc'},\n",
    "             nef_02 = {'metric_name': 'ef', \n",
    "                    'fraction': 0.02, 'method':'normalized'},\n",
    "             nef_005 = {'metric_name': 'ef', \n",
    "                    'fraction': 0.005, 'method':'normalized'},\n",
    "             nef_12_Ra = {'metric_name': 'ef', \n",
    "                    'fraction': 0.12, 'method':'normalized'}\n",
    "            )"
   ]
  },
  {
   "cell_type": "markdown",
   "metadata": {},
   "source": [
    "### 5 folds/reps"
   ]
  },
  {
   "cell_type": "code",
   "execution_count": 18,
   "metadata": {},
   "outputs": [
    {
     "data": {
      "text/html": [
       "<div>\n",
       "<style scoped>\n",
       "    .dataframe tbody tr th:only-of-type {\n",
       "        vertical-align: middle;\n",
       "    }\n",
       "\n",
       "    .dataframe tbody tr th {\n",
       "        vertical-align: top;\n",
       "    }\n",
       "\n",
       "    .dataframe thead th {\n",
       "        text-align: right;\n",
       "    }\n",
       "</style>\n",
       "<table border=\"1\" class=\"dataframe\">\n",
       "  <thead>\n",
       "    <tr style=\"text-align: right;\">\n",
       "      <th></th>\n",
       "      <th>ml_dclf</th>\n",
       "      <th>ml_knn</th>\n",
       "      <th>ml_lr</th>\n",
       "      <th>ml_xgb</th>\n",
       "      <th>ml_rf</th>\n",
       "      <th>cs_MEAN</th>\n",
       "      <th>cs_MAX</th>\n",
       "      <th>cs_MIN</th>\n",
       "      <th>cs_VOTE</th>\n",
       "      <th>cs_RANK</th>\n",
       "    </tr>\n",
       "  </thead>\n",
       "  <tbody>\n",
       "    <tr>\n",
       "      <th>Normality</th>\n",
       "      <td>1</td>\n",
       "      <td>1</td>\n",
       "      <td>1</td>\n",
       "      <td>1</td>\n",
       "      <td>1</td>\n",
       "      <td>1</td>\n",
       "      <td>1</td>\n",
       "      <td>1</td>\n",
       "      <td>1</td>\n",
       "      <td>1</td>\n",
       "    </tr>\n",
       "  </tbody>\n",
       "</table>\n",
       "</div>"
      ],
      "text/plain": [
       "           ml_dclf  ml_knn  ml_lr  ml_xgb  ml_rf  cs_MEAN  cs_MAX  cs_MIN  \\\n",
       "Normality        1       1      1       1      1        1       1       1   \n",
       "\n",
       "           cs_VOTE  cs_RANK  \n",
       "Normality        1        1  "
      ]
     },
     "metadata": {},
     "output_type": "display_data"
    },
    {
     "data": {
      "text/html": [
       "<div>\n",
       "<style scoped>\n",
       "    .dataframe tbody tr th:only-of-type {\n",
       "        vertical-align: middle;\n",
       "    }\n",
       "\n",
       "    .dataframe tbody tr th {\n",
       "        vertical-align: top;\n",
       "    }\n",
       "\n",
       "    .dataframe thead th {\n",
       "        text-align: right;\n",
       "    }\n",
       "</style>\n",
       "<table border=\"1\" class=\"dataframe\">\n",
       "  <thead>\n",
       "    <tr style=\"text-align: right;\">\n",
       "      <th></th>\n",
       "      <th>statistic</th>\n",
       "      <th>p</th>\n",
       "    </tr>\n",
       "  </thead>\n",
       "  <tbody>\n",
       "    <tr>\n",
       "      <th>Bartlett</th>\n",
       "      <td>0.126863</td>\n",
       "      <td>0.998071</td>\n",
       "    </tr>\n",
       "  </tbody>\n",
       "</table>\n",
       "</div>"
      ],
      "text/plain": [
       "          statistic         p\n",
       "Bartlett   0.126863  0.998071"
      ]
     },
     "metadata": {},
     "output_type": "display_data"
    },
    {
     "name": "stdout",
     "output_type": "stream",
     "text": [
      "CPU times: user 57.6 ms, sys: 143 µs, total: 57.7 ms\n",
      "Wall time: 56.2 ms\n"
     ]
    },
    {
     "data": {
      "text/html": [
       "<div>\n",
       "<style scoped>\n",
       "    .dataframe tbody tr th:only-of-type {\n",
       "        vertical-align: middle;\n",
       "    }\n",
       "\n",
       "    .dataframe tbody tr th {\n",
       "        vertical-align: top;\n",
       "    }\n",
       "\n",
       "    .dataframe thead th {\n",
       "        text-align: right;\n",
       "    }\n",
       "</style>\n",
       "<table border=\"1\" class=\"dataframe\">\n",
       "  <thead>\n",
       "    <tr style=\"text-align: right;\">\n",
       "      <th></th>\n",
       "      <th>ml_dclf</th>\n",
       "      <th>ml_knn</th>\n",
       "      <th>ml_lr</th>\n",
       "      <th>ml_xgb</th>\n",
       "      <th>ml_rf</th>\n",
       "      <th>cs_MEAN</th>\n",
       "      <th>cs_MAX</th>\n",
       "      <th>cs_MIN</th>\n",
       "      <th>cs_VOTE</th>\n",
       "      <th>cs_RANK</th>\n",
       "    </tr>\n",
       "  </thead>\n",
       "  <tbody>\n",
       "    <tr>\n",
       "      <th>0</th>\n",
       "      <td>0.50653</td>\n",
       "      <td>0.79516</td>\n",
       "      <td>0.88112</td>\n",
       "      <td>0.92751</td>\n",
       "      <td>0.87512</td>\n",
       "      <td>0.64234</td>\n",
       "      <td>0.64502</td>\n",
       "      <td>0.57160</td>\n",
       "      <td>0.62889</td>\n",
       "      <td>0.64197</td>\n",
       "    </tr>\n",
       "    <tr>\n",
       "      <th>1</th>\n",
       "      <td>0.52860</td>\n",
       "      <td>0.78846</td>\n",
       "      <td>0.86721</td>\n",
       "      <td>0.88513</td>\n",
       "      <td>0.81211</td>\n",
       "      <td>0.60090</td>\n",
       "      <td>0.62607</td>\n",
       "      <td>0.54079</td>\n",
       "      <td>0.60534</td>\n",
       "      <td>0.59789</td>\n",
       "    </tr>\n",
       "    <tr>\n",
       "      <th>2</th>\n",
       "      <td>0.49467</td>\n",
       "      <td>0.81858</td>\n",
       "      <td>0.91357</td>\n",
       "      <td>0.91118</td>\n",
       "      <td>0.85323</td>\n",
       "      <td>0.65380</td>\n",
       "      <td>0.67037</td>\n",
       "      <td>0.58591</td>\n",
       "      <td>0.64147</td>\n",
       "      <td>0.65064</td>\n",
       "    </tr>\n",
       "    <tr>\n",
       "      <th>3</th>\n",
       "      <td>0.48893</td>\n",
       "      <td>0.80517</td>\n",
       "      <td>0.89885</td>\n",
       "      <td>0.90776</td>\n",
       "      <td>0.86725</td>\n",
       "      <td>0.63146</td>\n",
       "      <td>0.63170</td>\n",
       "      <td>0.54574</td>\n",
       "      <td>0.63917</td>\n",
       "      <td>0.62874</td>\n",
       "    </tr>\n",
       "    <tr>\n",
       "      <th>4</th>\n",
       "      <td>0.48209</td>\n",
       "      <td>0.78136</td>\n",
       "      <td>0.91855</td>\n",
       "      <td>0.93413</td>\n",
       "      <td>0.86544</td>\n",
       "      <td>0.65086</td>\n",
       "      <td>0.64554</td>\n",
       "      <td>0.57859</td>\n",
       "      <td>0.62882</td>\n",
       "      <td>0.64914</td>\n",
       "    </tr>\n",
       "  </tbody>\n",
       "</table>\n",
       "</div>"
      ],
      "text/plain": [
       "   ml_dclf   ml_knn    ml_lr   ml_xgb    ml_rf  cs_MEAN   cs_MAX   cs_MIN  \\\n",
       "0  0.50653  0.79516  0.88112  0.92751  0.87512  0.64234  0.64502  0.57160   \n",
       "1  0.52860  0.78846  0.86721  0.88513  0.81211  0.60090  0.62607  0.54079   \n",
       "2  0.49467  0.81858  0.91357  0.91118  0.85323  0.65380  0.67037  0.58591   \n",
       "3  0.48893  0.80517  0.89885  0.90776  0.86725  0.63146  0.63170  0.54574   \n",
       "4  0.48209  0.78136  0.91855  0.93413  0.86544  0.65086  0.64554  0.57859   \n",
       "\n",
       "   cs_VOTE  cs_RANK  \n",
       "0  0.62889  0.64197  \n",
       "1  0.60534  0.59789  \n",
       "2  0.64147  0.65064  \n",
       "3  0.63917  0.62874  \n",
       "4  0.62882  0.64914  "
      ]
     },
     "execution_count": 18,
     "metadata": {},
     "output_type": "execute_result"
    }
   ],
   "source": [
    "%%time\n",
    "cv5 = k_cross_validation(estimators, X, y, \n",
    "                             metrics=metrics,\n",
    "                             n_splits=5, random_state=42)\n",
    "\n",
    "metric='roc_auc'\n",
    "# Normality\n",
    "display(multi_norm_test(cv5, metric=metric))\n",
    "# Homocedasticity\n",
    "display(multi_homovar_test(cv5, metric=metric))\n",
    "\n",
    "cv5.loc[metric]"
   ]
  },
  {
   "cell_type": "code",
   "execution_count": 17,
   "metadata": {},
   "outputs": [
    {
     "data": {
      "image/png": "[encoded data removed]",
      "text/plain": [
       "<Figure size 1296x504 with 2 Axes>"
      ]
     },
     "metadata": {
      "needs_background": "light"
     },
     "output_type": "display_data"
    }
   ],
   "source": [
    "fig, ax = plt.subplots(1, 2, figsize=(18, 7))\n",
    "plot_roc_cv(lr, X, y, name='Log Reg', ax=ax[0], random_state=42)\n",
    "plot_roc_cv(xgb, X, y, name='XGB', ax=ax[1], random_state=42)\n",
    "plt.show()"
   ]
  },
  {
   "cell_type": "markdown",
   "metadata": {},
   "source": [
    "## Hold-out validation"
   ]
  },
  {
   "cell_type": "code",
   "execution_count": 19,
   "metadata": {},
   "outputs": [
    {
     "data": {
      "text/html": [
       "<div>\n",
       "<style scoped>\n",
       "    .dataframe tbody tr th:only-of-type {\n",
       "        vertical-align: middle;\n",
       "    }\n",
       "\n",
       "    .dataframe tbody tr th {\n",
       "        vertical-align: top;\n",
       "    }\n",
       "\n",
       "    .dataframe thead th {\n",
       "        text-align: right;\n",
       "    }\n",
       "</style>\n",
       "<table border=\"1\" class=\"dataframe\">\n",
       "  <thead>\n",
       "    <tr style=\"text-align: right;\">\n",
       "      <th></th>\n",
       "      <th>ml_dclf</th>\n",
       "      <th>ml_knn</th>\n",
       "      <th>ml_lr</th>\n",
       "      <th>ml_xgb</th>\n",
       "      <th>ml_rf</th>\n",
       "      <th>cs_MEAN</th>\n",
       "      <th>cs_MAX</th>\n",
       "      <th>cs_MIN</th>\n",
       "      <th>cs_VOTE</th>\n",
       "      <th>cs_RANK</th>\n",
       "    </tr>\n",
       "  </thead>\n",
       "  <tbody>\n",
       "    <tr>\n",
       "      <th>Normality</th>\n",
       "      <td>1</td>\n",
       "      <td>0</td>\n",
       "      <td>1</td>\n",
       "      <td>1</td>\n",
       "      <td>1</td>\n",
       "      <td>1</td>\n",
       "      <td>1</td>\n",
       "      <td>1</td>\n",
       "      <td>1</td>\n",
       "      <td>1</td>\n",
       "    </tr>\n",
       "  </tbody>\n",
       "</table>\n",
       "</div>"
      ],
      "text/plain": [
       "           ml_dclf  ml_knn  ml_lr  ml_xgb  ml_rf  cs_MEAN  cs_MAX  cs_MIN  \\\n",
       "Normality        1       0      1       1      1        1       1       1   \n",
       "\n",
       "           cs_VOTE  cs_RANK  \n",
       "Normality        1        1  "
      ]
     },
     "metadata": {},
     "output_type": "display_data"
    },
    {
     "data": {
      "text/html": [
       "<div>\n",
       "<style scoped>\n",
       "    .dataframe tbody tr th:only-of-type {\n",
       "        vertical-align: middle;\n",
       "    }\n",
       "\n",
       "    .dataframe tbody tr th {\n",
       "        vertical-align: top;\n",
       "    }\n",
       "\n",
       "    .dataframe thead th {\n",
       "        text-align: right;\n",
       "    }\n",
       "</style>\n",
       "<table border=\"1\" class=\"dataframe\">\n",
       "  <thead>\n",
       "    <tr style=\"text-align: right;\">\n",
       "      <th></th>\n",
       "      <th>statistic</th>\n",
       "      <th>p</th>\n",
       "    </tr>\n",
       "  </thead>\n",
       "  <tbody>\n",
       "    <tr>\n",
       "      <th>Bartlett</th>\n",
       "      <td>0.339467</td>\n",
       "      <td>0.987126</td>\n",
       "    </tr>\n",
       "  </tbody>\n",
       "</table>\n",
       "</div>"
      ],
      "text/plain": [
       "          statistic         p\n",
       "Bartlett   0.339467  0.987126"
      ]
     },
     "metadata": {},
     "output_type": "display_data"
    },
    {
     "name": "stdout",
     "output_type": "stream",
     "text": [
      "CPU times: user 3min 37s, sys: 17.8 s, total: 3min 55s\n",
      "Wall time: 48.1 s\n"
     ]
    }
   ],
   "source": [
    "%%time\n",
    "ho5 = n_hold_out_validation(estimators, X, y, metrics=metrics, \n",
    "                      n_reps=5, random_state=42)\n",
    "metric='roc_auc'\n",
    "# Normality\n",
    "display(multi_norm_test(ho5, metric=metric))\n",
    "# Homocedasticity\n",
    "display(multi_homovar_test(ho5, metric=metric))"
   ]
  },
  {
   "cell_type": "markdown",
   "metadata": {},
   "source": [
    "### 15 folds/reps"
   ]
  },
  {
   "cell_type": "code",
   "execution_count": 20,
   "metadata": {},
   "outputs": [
    {
     "data": {
      "text/html": [
       "<div>\n",
       "<style scoped>\n",
       "    .dataframe tbody tr th:only-of-type {\n",
       "        vertical-align: middle;\n",
       "    }\n",
       "\n",
       "    .dataframe tbody tr th {\n",
       "        vertical-align: top;\n",
       "    }\n",
       "\n",
       "    .dataframe thead th {\n",
       "        text-align: right;\n",
       "    }\n",
       "</style>\n",
       "<table border=\"1\" class=\"dataframe\">\n",
       "  <thead>\n",
       "    <tr style=\"text-align: right;\">\n",
       "      <th></th>\n",
       "      <th>ml_dclf</th>\n",
       "      <th>ml_knn</th>\n",
       "      <th>ml_lr</th>\n",
       "      <th>ml_xgb</th>\n",
       "      <th>ml_rf</th>\n",
       "      <th>cs_MEAN</th>\n",
       "      <th>cs_MAX</th>\n",
       "      <th>cs_MIN</th>\n",
       "      <th>cs_VOTE</th>\n",
       "      <th>cs_RANK</th>\n",
       "    </tr>\n",
       "  </thead>\n",
       "  <tbody>\n",
       "    <tr>\n",
       "      <th>Normality</th>\n",
       "      <td>1</td>\n",
       "      <td>1</td>\n",
       "      <td>1</td>\n",
       "      <td>0</td>\n",
       "      <td>1</td>\n",
       "      <td>1</td>\n",
       "      <td>1</td>\n",
       "      <td>1</td>\n",
       "      <td>1</td>\n",
       "      <td>1</td>\n",
       "    </tr>\n",
       "  </tbody>\n",
       "</table>\n",
       "</div>"
      ],
      "text/plain": [
       "           ml_dclf  ml_knn  ml_lr  ml_xgb  ml_rf  cs_MEAN  cs_MAX  cs_MIN  \\\n",
       "Normality        1       1      1       0      1        1       1       1   \n",
       "\n",
       "           cs_VOTE  cs_RANK  \n",
       "Normality        1        1  "
      ]
     },
     "metadata": {},
     "output_type": "display_data"
    },
    {
     "data": {
      "text/html": [
       "<div>\n",
       "<style scoped>\n",
       "    .dataframe tbody tr th:only-of-type {\n",
       "        vertical-align: middle;\n",
       "    }\n",
       "\n",
       "    .dataframe tbody tr th {\n",
       "        vertical-align: top;\n",
       "    }\n",
       "\n",
       "    .dataframe thead th {\n",
       "        text-align: right;\n",
       "    }\n",
       "</style>\n",
       "<table border=\"1\" class=\"dataframe\">\n",
       "  <thead>\n",
       "    <tr style=\"text-align: right;\">\n",
       "      <th></th>\n",
       "      <th>statistic</th>\n",
       "      <th>p</th>\n",
       "    </tr>\n",
       "  </thead>\n",
       "  <tbody>\n",
       "    <tr>\n",
       "      <th>Bartlett</th>\n",
       "      <td>7.230976</td>\n",
       "      <td>0.925441</td>\n",
       "    </tr>\n",
       "  </tbody>\n",
       "</table>\n",
       "</div>"
      ],
      "text/plain": [
       "          statistic         p\n",
       "Bartlett   7.230976  0.925441"
      ]
     },
     "metadata": {},
     "output_type": "display_data"
    },
    {
     "name": "stdout",
     "output_type": "stream",
     "text": [
      "CPU times: user 35min 30s, sys: 1min 44s, total: 37min 14s\n",
      "Wall time: 10min 24s\n"
     ]
    },
    {
     "data": {
      "image/png": "[encoded data removed]",
      "text/plain": [
       "<Figure size 864x432 with 1 Axes>"
      ]
     },
     "metadata": {},
     "output_type": "display_data"
    }
   ],
   "source": [
    "%%time\n",
    "cv15 = k_cross_validation(estimators, X, y, \n",
    "                             metrics=metrics,\n",
    "                             n_splits=15, random_state=42)\n",
    "\n",
    "metric='roc_auc'\n",
    "plot_swarm_metrics(cv15, metric_name=metric)\n",
    "# Normality\n",
    "display(multi_norm_test(cv15, metric=metric))\n",
    "# Homocedasticity\n",
    "display(multi_homovar_test(cv15, metric=metric))"
   ]
  },
  {
   "cell_type": "code",
   "execution_count": 21,
   "metadata": {},
   "outputs": [
    {
     "name": "stderr",
     "output_type": "stream",
     "text": [
      "/home/ricci/miniconda3/envs/mds/lib/python3.7/site-packages/sklearn/linear_model/_logistic.py:764: ConvergenceWarning: lbfgs failed to converge (status=1):\n",
      "STOP: TOTAL NO. of ITERATIONS REACHED LIMIT.\n",
      "\n",
      "Increase the number of iterations (max_iter) or scale the data as shown in:\n",
      "    https://scikit-learn.org/stable/modules/preprocessing.html\n",
      "Please also refer to the documentation for alternative solver options:\n",
      "    https://scikit-learn.org/stable/modules/linear_model.html#logistic-regression\n",
      "  extra_warning_msg=_LOGISTIC_SOLVER_CONVERGENCE_MSG)\n"
     ]
    },
    {
     "data": {
      "text/html": [
       "<div>\n",
       "<style scoped>\n",
       "    .dataframe tbody tr th:only-of-type {\n",
       "        vertical-align: middle;\n",
       "    }\n",
       "\n",
       "    .dataframe tbody tr th {\n",
       "        vertical-align: top;\n",
       "    }\n",
       "\n",
       "    .dataframe thead th {\n",
       "        text-align: right;\n",
       "    }\n",
       "</style>\n",
       "<table border=\"1\" class=\"dataframe\">\n",
       "  <thead>\n",
       "    <tr style=\"text-align: right;\">\n",
       "      <th></th>\n",
       "      <th>ml_dclf</th>\n",
       "      <th>ml_knn</th>\n",
       "      <th>ml_lr</th>\n",
       "      <th>ml_xgb</th>\n",
       "      <th>ml_rf</th>\n",
       "      <th>cs_MEAN</th>\n",
       "      <th>cs_MAX</th>\n",
       "      <th>cs_MIN</th>\n",
       "      <th>cs_VOTE</th>\n",
       "      <th>cs_RANK</th>\n",
       "    </tr>\n",
       "  </thead>\n",
       "  <tbody>\n",
       "    <tr>\n",
       "      <th>Normality</th>\n",
       "      <td>1</td>\n",
       "      <td>1</td>\n",
       "      <td>1</td>\n",
       "      <td>1</td>\n",
       "      <td>1</td>\n",
       "      <td>1</td>\n",
       "      <td>1</td>\n",
       "      <td>1</td>\n",
       "      <td>1</td>\n",
       "      <td>1</td>\n",
       "    </tr>\n",
       "  </tbody>\n",
       "</table>\n",
       "</div>"
      ],
      "text/plain": [
       "           ml_dclf  ml_knn  ml_lr  ml_xgb  ml_rf  cs_MEAN  cs_MAX  cs_MIN  \\\n",
       "Normality        1       1      1       1      1        1       1       1   \n",
       "\n",
       "           cs_VOTE  cs_RANK  \n",
       "Normality        1        1  "
      ]
     },
     "metadata": {},
     "output_type": "display_data"
    },
    {
     "data": {
      "text/html": [
       "<div>\n",
       "<style scoped>\n",
       "    .dataframe tbody tr th:only-of-type {\n",
       "        vertical-align: middle;\n",
       "    }\n",
       "\n",
       "    .dataframe tbody tr th {\n",
       "        vertical-align: top;\n",
       "    }\n",
       "\n",
       "    .dataframe thead th {\n",
       "        text-align: right;\n",
       "    }\n",
       "</style>\n",
       "<table border=\"1\" class=\"dataframe\">\n",
       "  <thead>\n",
       "    <tr style=\"text-align: right;\">\n",
       "      <th></th>\n",
       "      <th>statistic</th>\n",
       "      <th>p</th>\n",
       "    </tr>\n",
       "  </thead>\n",
       "  <tbody>\n",
       "    <tr>\n",
       "      <th>Bartlett</th>\n",
       "      <td>0.677887</td>\n",
       "      <td>1.0</td>\n",
       "    </tr>\n",
       "  </tbody>\n",
       "</table>\n",
       "</div>"
      ],
      "text/plain": [
       "          statistic    p\n",
       "Bartlett   0.677887  1.0"
      ]
     },
     "metadata": {},
     "output_type": "display_data"
    },
    {
     "name": "stdout",
     "output_type": "stream",
     "text": [
      "CPU times: user 45min 49s, sys: 1min 12s, total: 47min 1s\n",
      "Wall time: 15min 42s\n"
     ]
    },
    {
     "data": {
      "image/png": "[encoded data removed]",
      "text/plain": [
       "<Figure size 864x432 with 1 Axes>"
      ]
     },
     "metadata": {},
     "output_type": "display_data"
    }
   ],
   "source": [
    "%%time\n",
    "ho15 = n_hold_out_validation(estimators, X, y, metrics=metrics, \n",
    "                      n_reps=15, random_state=42)\n",
    "\n",
    "metric='roc_auc'\n",
    "plot_swarm_metrics(ho15, metric_name=metric)\n",
    "# Normality\n",
    "display(multi_norm_test(ho15, metric=metric))\n",
    "# Homocedasticity\n",
    "display(multi_homovar_test(ho15, metric=metric))"
   ]
  },
  {
   "cell_type": "markdown",
   "metadata": {},
   "source": [
    "### 5x2 CV"
   ]
  },
  {
   "cell_type": "code",
   "execution_count": 22,
   "metadata": {
    "scrolled": false
   },
   "outputs": [
    {
     "data": {
      "text/html": [
       "<div>\n",
       "<style scoped>\n",
       "    .dataframe tbody tr th:only-of-type {\n",
       "        vertical-align: middle;\n",
       "    }\n",
       "\n",
       "    .dataframe tbody tr th {\n",
       "        vertical-align: top;\n",
       "    }\n",
       "\n",
       "    .dataframe thead th {\n",
       "        text-align: right;\n",
       "    }\n",
       "</style>\n",
       "<table border=\"1\" class=\"dataframe\">\n",
       "  <thead>\n",
       "    <tr style=\"text-align: right;\">\n",
       "      <th></th>\n",
       "      <th>ml_dclf</th>\n",
       "      <th>ml_knn</th>\n",
       "      <th>ml_lr</th>\n",
       "      <th>ml_xgb</th>\n",
       "      <th>ml_rf</th>\n",
       "      <th>cs_MEAN</th>\n",
       "      <th>cs_MAX</th>\n",
       "      <th>cs_MIN</th>\n",
       "      <th>cs_VOTE</th>\n",
       "      <th>cs_RANK</th>\n",
       "    </tr>\n",
       "  </thead>\n",
       "  <tbody>\n",
       "    <tr>\n",
       "      <th>Normality</th>\n",
       "      <td>1</td>\n",
       "      <td>1</td>\n",
       "      <td>1</td>\n",
       "      <td>1</td>\n",
       "      <td>1</td>\n",
       "      <td>1</td>\n",
       "      <td>1</td>\n",
       "      <td>1</td>\n",
       "      <td>1</td>\n",
       "      <td>1</td>\n",
       "    </tr>\n",
       "  </tbody>\n",
       "</table>\n",
       "</div>"
      ],
      "text/plain": [
       "           ml_dclf  ml_knn  ml_lr  ml_xgb  ml_rf  cs_MEAN  cs_MAX  cs_MIN  \\\n",
       "Normality        1       1      1       1      1        1       1       1   \n",
       "\n",
       "           cs_VOTE  cs_RANK  \n",
       "Normality        1        1  "
      ]
     },
     "metadata": {},
     "output_type": "display_data"
    },
    {
     "data": {
      "text/html": [
       "<div>\n",
       "<style scoped>\n",
       "    .dataframe tbody tr th:only-of-type {\n",
       "        vertical-align: middle;\n",
       "    }\n",
       "\n",
       "    .dataframe tbody tr th {\n",
       "        vertical-align: top;\n",
       "    }\n",
       "\n",
       "    .dataframe thead th {\n",
       "        text-align: right;\n",
       "    }\n",
       "</style>\n",
       "<table border=\"1\" class=\"dataframe\">\n",
       "  <thead>\n",
       "    <tr style=\"text-align: right;\">\n",
       "      <th></th>\n",
       "      <th>statistic</th>\n",
       "      <th>p</th>\n",
       "    </tr>\n",
       "  </thead>\n",
       "  <tbody>\n",
       "    <tr>\n",
       "      <th>Bartlett</th>\n",
       "      <td>0.130247</td>\n",
       "      <td>1.0</td>\n",
       "    </tr>\n",
       "  </tbody>\n",
       "</table>\n",
       "</div>"
      ],
      "text/plain": [
       "          statistic    p\n",
       "Bartlett   0.130247  1.0"
      ]
     },
     "metadata": {},
     "output_type": "display_data"
    },
    {
     "name": "stdout",
     "output_type": "stream",
     "text": [
      "CPU times: user 26min 20s, sys: 39.2 s, total: 26min 59s\n",
      "Wall time: 7min 52s\n"
     ]
    },
    {
     "data": {
      "image/png": "[encoded data removed]",
      "text/plain": [
       "<Figure size 864x432 with 1 Axes>"
      ]
     },
     "metadata": {},
     "output_type": "display_data"
    }
   ],
   "source": [
    "%%time\n",
    "cv5x2 = nk_rep_cross_validation(estimators, X, y, metrics=metrics, \n",
    "                      n_splits=2, n_repeats=5, random_state=42)\n",
    "\n",
    "metric='roc_auc'\n",
    "plot_swarm_metrics(cv5x2, metric_name=metric)\n",
    "# Normality\n",
    "display(multi_norm_test(cv5x2))\n",
    "# Homocedasticity\n",
    "display(multi_homovar_test(cv5x2))"
   ]
  },
  {
   "cell_type": "markdown",
   "metadata": {},
   "source": [
    "### 10x2 CV"
   ]
  },
  {
   "cell_type": "code",
   "execution_count": 22,
   "metadata": {
    "scrolled": false
   },
   "outputs": [
    {
     "data": {
      "text/html": [
       "<div>\n",
       "<style scoped>\n",
       "    .dataframe tbody tr th:only-of-type {\n",
       "        vertical-align: middle;\n",
       "    }\n",
       "\n",
       "    .dataframe tbody tr th {\n",
       "        vertical-align: top;\n",
       "    }\n",
       "\n",
       "    .dataframe thead th {\n",
       "        text-align: right;\n",
       "    }\n",
       "</style>\n",
       "<table border=\"1\" class=\"dataframe\">\n",
       "  <thead>\n",
       "    <tr style=\"text-align: right;\">\n",
       "      <th></th>\n",
       "      <th>ml_dclf</th>\n",
       "      <th>ml_knn</th>\n",
       "      <th>ml_lr</th>\n",
       "      <th>ml_xgb</th>\n",
       "      <th>ml_rf</th>\n",
       "      <th>cs_MEAN</th>\n",
       "      <th>cs_MAX</th>\n",
       "      <th>cs_MIN</th>\n",
       "      <th>cs_VOTE</th>\n",
       "      <th>cs_RANK</th>\n",
       "    </tr>\n",
       "  </thead>\n",
       "  <tbody>\n",
       "    <tr>\n",
       "      <th>Normality</th>\n",
       "      <td>1</td>\n",
       "      <td>1</td>\n",
       "      <td>1</td>\n",
       "      <td>1</td>\n",
       "      <td>1</td>\n",
       "      <td>1</td>\n",
       "      <td>1</td>\n",
       "      <td>1</td>\n",
       "      <td>1</td>\n",
       "      <td>1</td>\n",
       "    </tr>\n",
       "  </tbody>\n",
       "</table>\n",
       "</div>"
      ],
      "text/plain": [
       "           ml_dclf  ml_knn  ml_lr  ml_xgb  ml_rf  cs_MEAN  cs_MAX  cs_MIN  \\\n",
       "Normality        1       1      1       1      1        1       1       1   \n",
       "\n",
       "           cs_VOTE  cs_RANK  \n",
       "Normality        1        1  "
      ]
     },
     "metadata": {},
     "output_type": "display_data"
    },
    {
     "data": {
      "text/html": [
       "<div>\n",
       "<style scoped>\n",
       "    .dataframe tbody tr th:only-of-type {\n",
       "        vertical-align: middle;\n",
       "    }\n",
       "\n",
       "    .dataframe tbody tr th {\n",
       "        vertical-align: top;\n",
       "    }\n",
       "\n",
       "    .dataframe thead th {\n",
       "        text-align: right;\n",
       "    }\n",
       "</style>\n",
       "<table border=\"1\" class=\"dataframe\">\n",
       "  <thead>\n",
       "    <tr style=\"text-align: right;\">\n",
       "      <th></th>\n",
       "      <th>statistic</th>\n",
       "      <th>p</th>\n",
       "    </tr>\n",
       "  </thead>\n",
       "  <tbody>\n",
       "    <tr>\n",
       "      <th>Bartlett</th>\n",
       "      <td>0.130247</td>\n",
       "      <td>1.0</td>\n",
       "    </tr>\n",
       "  </tbody>\n",
       "</table>\n",
       "</div>"
      ],
      "text/plain": [
       "          statistic    p\n",
       "Bartlett   0.130247  1.0"
      ]
     },
     "metadata": {},
     "output_type": "display_data"
    },
    {
     "name": "stdout",
     "output_type": "stream",
     "text": [
      "CPU times: user 26min 20s, sys: 39.2 s, total: 26min 59s\n",
      "Wall time: 7min 52s\n"
     ]
    },
    {
     "data": {
      "image/png": "[encoded data removed]",
      "text/plain": [
       "<Figure size 864x432 with 1 Axes>"
      ]
     },
     "metadata": {},
     "output_type": "display_data"
    }
   ],
   "source": [
    "%%time\n",
    "cv5x2 = nk_rep_cross_validation(estimators, X, y, metrics=metrics, \n",
    "                      n_splits=2, n_repeats=5, random_state=42)\n",
    "\n",
    "metric='roc_auc'\n",
    "plot_swarm_metrics(cv5x2, metric_name=metric)\n",
    "# Normality\n",
    "display(multi_norm_test(cv5x2))\n",
    "# Homocedasticity\n",
    "display(multi_homovar_test(cv5x2))"
   ]
  },
  {
   "cell_type": "code",
   "execution_count": 23,
   "metadata": {
    "scrolled": false
   },
   "outputs": [
    {
     "data": {
      "text/html": [
       "<div>\n",
       "<style scoped>\n",
       "    .dataframe tbody tr th:only-of-type {\n",
       "        vertical-align: middle;\n",
       "    }\n",
       "\n",
       "    .dataframe tbody tr th {\n",
       "        vertical-align: top;\n",
       "    }\n",
       "\n",
       "    .dataframe thead th {\n",
       "        text-align: right;\n",
       "    }\n",
       "</style>\n",
       "<table border=\"1\" class=\"dataframe\">\n",
       "  <thead>\n",
       "    <tr style=\"text-align: right;\">\n",
       "      <th></th>\n",
       "      <th>ml_dclf</th>\n",
       "      <th>ml_knn</th>\n",
       "      <th>ml_lr</th>\n",
       "      <th>ml_xgb</th>\n",
       "      <th>ml_rf</th>\n",
       "      <th>cs_MEAN</th>\n",
       "      <th>cs_MAX</th>\n",
       "      <th>cs_MIN</th>\n",
       "      <th>cs_VOTE</th>\n",
       "      <th>cs_RANK</th>\n",
       "    </tr>\n",
       "  </thead>\n",
       "  <tbody>\n",
       "    <tr>\n",
       "      <th>Normality</th>\n",
       "      <td>1</td>\n",
       "      <td>1</td>\n",
       "      <td>1</td>\n",
       "      <td>1</td>\n",
       "      <td>1</td>\n",
       "      <td>1</td>\n",
       "      <td>1</td>\n",
       "      <td>1</td>\n",
       "      <td>1</td>\n",
       "      <td>1</td>\n",
       "    </tr>\n",
       "  </tbody>\n",
       "</table>\n",
       "</div>"
      ],
      "text/plain": [
       "           ml_dclf  ml_knn  ml_lr  ml_xgb  ml_rf  cs_MEAN  cs_MAX  cs_MIN  \\\n",
       "Normality        1       1      1       1      1        1       1       1   \n",
       "\n",
       "           cs_VOTE  cs_RANK  \n",
       "Normality        1        1  "
      ]
     },
     "metadata": {},
     "output_type": "display_data"
    },
    {
     "data": {
      "text/html": [
       "<div>\n",
       "<style scoped>\n",
       "    .dataframe tbody tr th:only-of-type {\n",
       "        vertical-align: middle;\n",
       "    }\n",
       "\n",
       "    .dataframe tbody tr th {\n",
       "        vertical-align: top;\n",
       "    }\n",
       "\n",
       "    .dataframe thead th {\n",
       "        text-align: right;\n",
       "    }\n",
       "</style>\n",
       "<table border=\"1\" class=\"dataframe\">\n",
       "  <thead>\n",
       "    <tr style=\"text-align: right;\">\n",
       "      <th></th>\n",
       "      <th>statistic</th>\n",
       "      <th>p</th>\n",
       "    </tr>\n",
       "  </thead>\n",
       "  <tbody>\n",
       "    <tr>\n",
       "      <th>Bartlett</th>\n",
       "      <td>0.921509</td>\n",
       "      <td>0.999598</td>\n",
       "    </tr>\n",
       "  </tbody>\n",
       "</table>\n",
       "</div>"
      ],
      "text/plain": [
       "          statistic         p\n",
       "Bartlett   0.921509  0.999598"
      ]
     },
     "metadata": {},
     "output_type": "display_data"
    },
    {
     "name": "stdout",
     "output_type": "stream",
     "text": [
      "CPU times: user 1.28 s, sys: 108 ms, total: 1.39 s\n",
      "Wall time: 1.21 s\n"
     ]
    },
    {
     "data": {
      "image/png": "[encoded data removed]",
      "text/plain": [
       "<Figure size 864x432 with 1 Axes>"
      ]
     },
     "metadata": {},
     "output_type": "display_data"
    }
   ],
   "source": [
    "%%time\n",
    "cv5x2 = nk_rep_cross_validation(estimators, X, y, metrics=metrics, \n",
    "                      n_splits=2, n_repeats=5, random_state=42)\n",
    "\n",
    "metric='nef_12_Ra'\n",
    "plot_swarm_metrics(cv5x2, metric_name=metric)\n",
    "# Normality\n",
    "display(multi_norm_test(cv5x2, metric=metric))\n",
    "# Homocedasticity\n",
    "display(multi_homovar_test(cv5x2, metric=metric))"
   ]
  },
  {
   "cell_type": "markdown",
   "metadata": {},
   "source": [
    "## Multiple samples\n",
    "- one-way ANOVA with repeated measures\n",
    "- Friedman's ANOVA\n",
    "- Cochran's Q test\n",
    "- Binomial $\\chi^2$ with Bonferroni correction"
   ]
  },
  {
   "cell_type": "markdown",
   "metadata": {},
   "source": [
    "### one-way ANOVA with repeated measures\n",
    "\n",
    "$H_0$: $\\mu_1 = \\mu_2 = ... = \\mu_m$   \n",
    "$H_a$: $\\mu_i \\neq \\mu_j$, for at least one pair $i,j$ of the methods.\n",
    "\n",
    "##### post hoc Tucket HSD\n",
    "$H_0$: $\\mu_i = \\mu_j, \\forall i \\neq j$   \n",
    "$H_a$: $\\mu_i \\neq \\mu_j,  \\forall i \\neq j$\n"
   ]
  },
  {
   "cell_type": "code",
   "execution_count": 29,
   "metadata": {},
   "outputs": [],
   "source": [
    "import statsmodels\n",
    "from statsmodels.stats.anova import AnovaRM\n",
    "from statsmodels import stats\n",
    "from scipy.stats import f_oneway"
   ]
  },
  {
   "cell_type": "code",
   "execution_count": 30,
   "metadata": {},
   "outputs": [
    {
     "name": "stdout",
     "output_type": "stream",
     "text": [
      "               Anova\n",
      "===================================\n",
      "     F Value  Num DF  Den DF Pr > F\n",
      "-----------------------------------\n",
      "clf 1474.5861 8.0000 72.0000 0.0000\n",
      "===================================\n",
      "\n"
     ]
    },
    {
     "ename": "AttributeError",
     "evalue": "module 'statsmodels.stats' has no attribute 'multicomp'",
     "output_type": "error",
     "traceback": [
      "\u001b[0;31m---------------------------------------------------------------------------\u001b[0m",
      "\u001b[0;31mAttributeError\u001b[0m                            Traceback (most recent call last)",
      "\u001b[0;32m<ipython-input-30-c8f52b41d19e>\u001b[0m in \u001b[0;36m<module>\u001b[0;34m\u001b[0m\n\u001b[1;32m      9\u001b[0m \u001b[0mprint\u001b[0m\u001b[0;34m(\u001b[0m\u001b[0mAnovaRM\u001b[0m\u001b[0;34m(\u001b[0m\u001b[0mdata\u001b[0m\u001b[0;34m=\u001b[0m\u001b[0mf\u001b[0m\u001b[0;34m,\u001b[0m \u001b[0mdepvar\u001b[0m\u001b[0;34m=\u001b[0m\u001b[0;34m'score'\u001b[0m\u001b[0;34m,\u001b[0m \u001b[0msubject\u001b[0m\u001b[0;34m=\u001b[0m\u001b[0;34m'rep'\u001b[0m\u001b[0;34m,\u001b[0m \u001b[0mwithin\u001b[0m\u001b[0;34m=\u001b[0m\u001b[0;34m[\u001b[0m\u001b[0;34m'clf'\u001b[0m\u001b[0;34m]\u001b[0m\u001b[0;34m,\u001b[0m \u001b[0maggregate_func\u001b[0m\u001b[0;34m=\u001b[0m\u001b[0;34m'mean'\u001b[0m\u001b[0;34m)\u001b[0m\u001b[0;34m.\u001b[0m\u001b[0mfit\u001b[0m\u001b[0;34m(\u001b[0m\u001b[0;34m)\u001b[0m\u001b[0;34m)\u001b[0m\u001b[0;34m\u001b[0m\u001b[0;34m\u001b[0m\u001b[0m\n\u001b[1;32m     10\u001b[0m \u001b[0;34m\u001b[0m\u001b[0m\n\u001b[0;32m---> 11\u001b[0;31m \u001b[0mprint\u001b[0m\u001b[0;34m(\u001b[0m\u001b[0mstats\u001b[0m\u001b[0;34m.\u001b[0m\u001b[0mmulticomp\u001b[0m\u001b[0;34m.\u001b[0m\u001b[0mpairwise_tukeyhsd\u001b[0m\u001b[0;34m(\u001b[0m\u001b[0mendog\u001b[0m\u001b[0;34m=\u001b[0m\u001b[0mf\u001b[0m\u001b[0;34m[\u001b[0m\u001b[0;34m'score'\u001b[0m\u001b[0;34m]\u001b[0m\u001b[0;34m,\u001b[0m \u001b[0mgroups\u001b[0m\u001b[0;34m=\u001b[0m\u001b[0mf\u001b[0m\u001b[0;34m[\u001b[0m\u001b[0;34m'clf'\u001b[0m\u001b[0;34m]\u001b[0m\u001b[0;34m,\u001b[0m \u001b[0malpha\u001b[0m\u001b[0;34m=\u001b[0m\u001b[0;36m0.5\u001b[0m\u001b[0;34m)\u001b[0m\u001b[0;34m)\u001b[0m\u001b[0;34m\u001b[0m\u001b[0;34m\u001b[0m\u001b[0m\n\u001b[0m",
      "\u001b[0;31mAttributeError\u001b[0m: module 'statsmodels.stats' has no attribute 'multicomp'"
     ]
    }
   ],
   "source": [
    "df = cv5x2.loc['roc_auc']\n",
    "df = df.drop('ml_dclf', axis=1)\n",
    "n, m = df.shape\n",
    "\n",
    "f = pd.melt(df, var_name='clf', value_name='score')\n",
    "f['rep'] = np.tile(range(1, n + 1), m)\n",
    "\n",
    "\n",
    "print(AnovaRM(data=f, depvar='score', subject='rep', within=['clf'], aggregate_func='mean').fit())\n",
    "\n",
    "print(stats.multicomp.pairwise_tukeyhsd(endog=f['score'], groups=f['clf'], alpha=0.5))"
   ]
  },
  {
   "cell_type": "code",
   "execution_count": 31,
   "metadata": {},
   "outputs": [
    {
     "data": {
      "text/plain": [
       "F_onewayResult(statistic=778.9244574540766, pvalue=2.993189297928644e-73)"
      ]
     },
     "execution_count": 31,
     "metadata": {},
     "output_type": "execute_result"
    }
   ],
   "source": [
    "f_oneway(*df.values.T)"
   ]
  },
  {
   "cell_type": "code",
   "execution_count": 32,
   "metadata": {},
   "outputs": [
    {
     "data": {
      "text/html": [
       "<div>\n",
       "<style scoped>\n",
       "    .dataframe tbody tr th:only-of-type {\n",
       "        vertical-align: middle;\n",
       "    }\n",
       "\n",
       "    .dataframe tbody tr th {\n",
       "        vertical-align: top;\n",
       "    }\n",
       "\n",
       "    .dataframe thead th {\n",
       "        text-align: right;\n",
       "    }\n",
       "</style>\n",
       "<table border=\"1\" class=\"dataframe\">\n",
       "  <thead>\n",
       "    <tr style=\"text-align: right;\">\n",
       "      <th></th>\n",
       "      <th>sum_sq</th>\n",
       "      <th>df</th>\n",
       "      <th>F</th>\n",
       "      <th>PR(&gt;F)</th>\n",
       "    </tr>\n",
       "  </thead>\n",
       "  <tbody>\n",
       "    <tr>\n",
       "      <th>C(clf)</th>\n",
       "      <td>1.252779</td>\n",
       "      <td>8.0</td>\n",
       "      <td>1474.586094</td>\n",
       "      <td>1.376122e-76</td>\n",
       "    </tr>\n",
       "    <tr>\n",
       "      <th>C(rep)</th>\n",
       "      <td>0.008638</td>\n",
       "      <td>9.0</td>\n",
       "      <td>9.037949</td>\n",
       "      <td>5.327423e-09</td>\n",
       "    </tr>\n",
       "    <tr>\n",
       "      <th>Residual</th>\n",
       "      <td>0.007646</td>\n",
       "      <td>72.0</td>\n",
       "      <td>NaN</td>\n",
       "      <td>NaN</td>\n",
       "    </tr>\n",
       "  </tbody>\n",
       "</table>\n",
       "</div>"
      ],
      "text/plain": [
       "            sum_sq    df            F        PR(>F)\n",
       "C(clf)    1.252779   8.0  1474.586094  1.376122e-76\n",
       "C(rep)    0.008638   9.0     9.037949  5.327423e-09\n",
       "Residual  0.007646  72.0          NaN           NaN"
      ]
     },
     "execution_count": 32,
     "metadata": {},
     "output_type": "execute_result"
    }
   ],
   "source": [
    "import statsmodels.api as sm\n",
    "from statsmodels.formula.api import ols\n",
    "\n",
    "lm = ols('score ~ C(clf) + C(rep)', data=f).fit()\n",
    "# print(lm.summary())\n",
    "table = sm.stats.anova_lm(lm, typ=2) \n",
    "table"
   ]
  },
  {
   "cell_type": "markdown",
   "metadata": {},
   "source": [
    "### Non-parametric: Friedman's ANOVA for repeated measures"
   ]
  },
  {
   "cell_type": "code",
   "execution_count": 33,
   "metadata": {},
   "outputs": [
    {
     "data": {
      "text/plain": [
       "FriedmanchisquareResult(statistic=76.10666666666668, pvalue=2.9603179818747656e-13)"
      ]
     },
     "execution_count": 33,
     "metadata": {},
     "output_type": "execute_result"
    }
   ],
   "source": [
    "from scipy.stats import friedmanchisquare\n",
    "\n",
    "friedmanchisquare(*df.values.T)"
   ]
  },
  {
   "cell_type": "markdown",
   "metadata": {},
   "source": [
    "### post hocs\n",
    "\n",
    "#### Wilcoxon"
   ]
  },
  {
   "cell_type": "code",
   "execution_count": 34,
   "metadata": {},
   "outputs": [
    {
     "data": {
      "text/html": [
       "<style  type=\"text/css\" >\n",
       "    #T_863b3fac_1fa0_11eb_a157_f8165429eb40row0_col0 {\n",
       "            color:  none;\n",
       "        }    #T_863b3fac_1fa0_11eb_a157_f8165429eb40row0_col1 {\n",
       "            color:  none;\n",
       "        }    #T_863b3fac_1fa0_11eb_a157_f8165429eb40row0_col2 {\n",
       "            color:  red;\n",
       "        }    #T_863b3fac_1fa0_11eb_a157_f8165429eb40row0_col3 {\n",
       "            color:  none;\n",
       "        }    #T_863b3fac_1fa0_11eb_a157_f8165429eb40row0_col4 {\n",
       "            color:  none;\n",
       "        }    #T_863b3fac_1fa0_11eb_a157_f8165429eb40row0_col5 {\n",
       "            color:  red;\n",
       "        }    #T_863b3fac_1fa0_11eb_a157_f8165429eb40row0_col6 {\n",
       "            color:  red;\n",
       "        }    #T_863b3fac_1fa0_11eb_a157_f8165429eb40row0_col7 {\n",
       "            color:  red;\n",
       "        }    #T_863b3fac_1fa0_11eb_a157_f8165429eb40row0_col8 {\n",
       "            color:  red;\n",
       "        }    #T_863b3fac_1fa0_11eb_a157_f8165429eb40row1_col0 {\n",
       "            color:  none;\n",
       "        }    #T_863b3fac_1fa0_11eb_a157_f8165429eb40row1_col1 {\n",
       "            color:  none;\n",
       "        }    #T_863b3fac_1fa0_11eb_a157_f8165429eb40row1_col2 {\n",
       "            color:  red;\n",
       "        }    #T_863b3fac_1fa0_11eb_a157_f8165429eb40row1_col3 {\n",
       "            color:  none;\n",
       "        }    #T_863b3fac_1fa0_11eb_a157_f8165429eb40row1_col4 {\n",
       "            color:  none;\n",
       "        }    #T_863b3fac_1fa0_11eb_a157_f8165429eb40row1_col5 {\n",
       "            color:  red;\n",
       "        }    #T_863b3fac_1fa0_11eb_a157_f8165429eb40row1_col6 {\n",
       "            color:  red;\n",
       "        }    #T_863b3fac_1fa0_11eb_a157_f8165429eb40row1_col7 {\n",
       "            color:  red;\n",
       "        }    #T_863b3fac_1fa0_11eb_a157_f8165429eb40row1_col8 {\n",
       "            color:  red;\n",
       "        }    #T_863b3fac_1fa0_11eb_a157_f8165429eb40row2_col0 {\n",
       "            color:  red;\n",
       "        }    #T_863b3fac_1fa0_11eb_a157_f8165429eb40row2_col1 {\n",
       "            color:  red;\n",
       "        }    #T_863b3fac_1fa0_11eb_a157_f8165429eb40row2_col2 {\n",
       "            color:  none;\n",
       "        }    #T_863b3fac_1fa0_11eb_a157_f8165429eb40row2_col3 {\n",
       "            color:  red;\n",
       "        }    #T_863b3fac_1fa0_11eb_a157_f8165429eb40row2_col4 {\n",
       "            color:  red;\n",
       "        }    #T_863b3fac_1fa0_11eb_a157_f8165429eb40row2_col5 {\n",
       "            color:  red;\n",
       "        }    #T_863b3fac_1fa0_11eb_a157_f8165429eb40row2_col6 {\n",
       "            color:  red;\n",
       "        }    #T_863b3fac_1fa0_11eb_a157_f8165429eb40row2_col7 {\n",
       "            color:  red;\n",
       "        }    #T_863b3fac_1fa0_11eb_a157_f8165429eb40row2_col8 {\n",
       "            color:  red;\n",
       "        }    #T_863b3fac_1fa0_11eb_a157_f8165429eb40row3_col0 {\n",
       "            color:  none;\n",
       "        }    #T_863b3fac_1fa0_11eb_a157_f8165429eb40row3_col1 {\n",
       "            color:  none;\n",
       "        }    #T_863b3fac_1fa0_11eb_a157_f8165429eb40row3_col2 {\n",
       "            color:  red;\n",
       "        }    #T_863b3fac_1fa0_11eb_a157_f8165429eb40row3_col3 {\n",
       "            color:  none;\n",
       "        }    #T_863b3fac_1fa0_11eb_a157_f8165429eb40row3_col4 {\n",
       "            color:  none;\n",
       "        }    #T_863b3fac_1fa0_11eb_a157_f8165429eb40row3_col5 {\n",
       "            color:  red;\n",
       "        }    #T_863b3fac_1fa0_11eb_a157_f8165429eb40row3_col6 {\n",
       "            color:  red;\n",
       "        }    #T_863b3fac_1fa0_11eb_a157_f8165429eb40row3_col7 {\n",
       "            color:  red;\n",
       "        }    #T_863b3fac_1fa0_11eb_a157_f8165429eb40row3_col8 {\n",
       "            color:  red;\n",
       "        }    #T_863b3fac_1fa0_11eb_a157_f8165429eb40row4_col0 {\n",
       "            color:  none;\n",
       "        }    #T_863b3fac_1fa0_11eb_a157_f8165429eb40row4_col1 {\n",
       "            color:  none;\n",
       "        }    #T_863b3fac_1fa0_11eb_a157_f8165429eb40row4_col2 {\n",
       "            color:  red;\n",
       "        }    #T_863b3fac_1fa0_11eb_a157_f8165429eb40row4_col3 {\n",
       "            color:  none;\n",
       "        }    #T_863b3fac_1fa0_11eb_a157_f8165429eb40row4_col4 {\n",
       "            color:  none;\n",
       "        }    #T_863b3fac_1fa0_11eb_a157_f8165429eb40row4_col5 {\n",
       "            color:  red;\n",
       "        }    #T_863b3fac_1fa0_11eb_a157_f8165429eb40row4_col6 {\n",
       "            color:  red;\n",
       "        }    #T_863b3fac_1fa0_11eb_a157_f8165429eb40row4_col7 {\n",
       "            color:  red;\n",
       "        }    #T_863b3fac_1fa0_11eb_a157_f8165429eb40row4_col8 {\n",
       "            color:  red;\n",
       "        }    #T_863b3fac_1fa0_11eb_a157_f8165429eb40row5_col0 {\n",
       "            color:  red;\n",
       "        }    #T_863b3fac_1fa0_11eb_a157_f8165429eb40row5_col1 {\n",
       "            color:  red;\n",
       "        }    #T_863b3fac_1fa0_11eb_a157_f8165429eb40row5_col2 {\n",
       "            color:  red;\n",
       "        }    #T_863b3fac_1fa0_11eb_a157_f8165429eb40row5_col3 {\n",
       "            color:  red;\n",
       "        }    #T_863b3fac_1fa0_11eb_a157_f8165429eb40row5_col4 {\n",
       "            color:  red;\n",
       "        }    #T_863b3fac_1fa0_11eb_a157_f8165429eb40row5_col5 {\n",
       "            color:  none;\n",
       "        }    #T_863b3fac_1fa0_11eb_a157_f8165429eb40row5_col6 {\n",
       "            color:  red;\n",
       "        }    #T_863b3fac_1fa0_11eb_a157_f8165429eb40row5_col7 {\n",
       "            color:  red;\n",
       "        }    #T_863b3fac_1fa0_11eb_a157_f8165429eb40row5_col8 {\n",
       "            color:  red;\n",
       "        }    #T_863b3fac_1fa0_11eb_a157_f8165429eb40row6_col0 {\n",
       "            color:  red;\n",
       "        }    #T_863b3fac_1fa0_11eb_a157_f8165429eb40row6_col1 {\n",
       "            color:  red;\n",
       "        }    #T_863b3fac_1fa0_11eb_a157_f8165429eb40row6_col2 {\n",
       "            color:  red;\n",
       "        }    #T_863b3fac_1fa0_11eb_a157_f8165429eb40row6_col3 {\n",
       "            color:  red;\n",
       "        }    #T_863b3fac_1fa0_11eb_a157_f8165429eb40row6_col4 {\n",
       "            color:  red;\n",
       "        }    #T_863b3fac_1fa0_11eb_a157_f8165429eb40row6_col5 {\n",
       "            color:  red;\n",
       "        }    #T_863b3fac_1fa0_11eb_a157_f8165429eb40row6_col6 {\n",
       "            color:  none;\n",
       "        }    #T_863b3fac_1fa0_11eb_a157_f8165429eb40row6_col7 {\n",
       "            color:  red;\n",
       "        }    #T_863b3fac_1fa0_11eb_a157_f8165429eb40row6_col8 {\n",
       "            color:  none;\n",
       "        }    #T_863b3fac_1fa0_11eb_a157_f8165429eb40row7_col0 {\n",
       "            color:  red;\n",
       "        }    #T_863b3fac_1fa0_11eb_a157_f8165429eb40row7_col1 {\n",
       "            color:  red;\n",
       "        }    #T_863b3fac_1fa0_11eb_a157_f8165429eb40row7_col2 {\n",
       "            color:  red;\n",
       "        }    #T_863b3fac_1fa0_11eb_a157_f8165429eb40row7_col3 {\n",
       "            color:  red;\n",
       "        }    #T_863b3fac_1fa0_11eb_a157_f8165429eb40row7_col4 {\n",
       "            color:  red;\n",
       "        }    #T_863b3fac_1fa0_11eb_a157_f8165429eb40row7_col5 {\n",
       "            color:  red;\n",
       "        }    #T_863b3fac_1fa0_11eb_a157_f8165429eb40row7_col6 {\n",
       "            color:  red;\n",
       "        }    #T_863b3fac_1fa0_11eb_a157_f8165429eb40row7_col7 {\n",
       "            color:  none;\n",
       "        }    #T_863b3fac_1fa0_11eb_a157_f8165429eb40row7_col8 {\n",
       "            color:  red;\n",
       "        }    #T_863b3fac_1fa0_11eb_a157_f8165429eb40row8_col0 {\n",
       "            color:  red;\n",
       "        }    #T_863b3fac_1fa0_11eb_a157_f8165429eb40row8_col1 {\n",
       "            color:  red;\n",
       "        }    #T_863b3fac_1fa0_11eb_a157_f8165429eb40row8_col2 {\n",
       "            color:  red;\n",
       "        }    #T_863b3fac_1fa0_11eb_a157_f8165429eb40row8_col3 {\n",
       "            color:  red;\n",
       "        }    #T_863b3fac_1fa0_11eb_a157_f8165429eb40row8_col4 {\n",
       "            color:  red;\n",
       "        }    #T_863b3fac_1fa0_11eb_a157_f8165429eb40row8_col5 {\n",
       "            color:  red;\n",
       "        }    #T_863b3fac_1fa0_11eb_a157_f8165429eb40row8_col6 {\n",
       "            color:  none;\n",
       "        }    #T_863b3fac_1fa0_11eb_a157_f8165429eb40row8_col7 {\n",
       "            color:  red;\n",
       "        }    #T_863b3fac_1fa0_11eb_a157_f8165429eb40row8_col8 {\n",
       "            color:  none;\n",
       "        }</style><table id=\"T_863b3fac_1fa0_11eb_a157_f8165429eb40\" ><thead>    <tr>        <th class=\"blank level0\" ></th>        <th class=\"col_heading level0 col0\" >cs_MAX</th>        <th class=\"col_heading level0 col1\" >cs_MEAN</th>        <th class=\"col_heading level0 col2\" >cs_MIN</th>        <th class=\"col_heading level0 col3\" >cs_RANK</th>        <th class=\"col_heading level0 col4\" >cs_VOTE</th>        <th class=\"col_heading level0 col5\" >ml_knn</th>        <th class=\"col_heading level0 col6\" >ml_lr</th>        <th class=\"col_heading level0 col7\" >ml_rf</th>        <th class=\"col_heading level0 col8\" >ml_xgb</th>    </tr></thead><tbody>\n",
       "                <tr>\n",
       "                        <th id=\"T_863b3fac_1fa0_11eb_a157_f8165429eb40level0_row0\" class=\"row_heading level0 row0\" >cs_MAX</th>\n",
       "                        <td id=\"T_863b3fac_1fa0_11eb_a157_f8165429eb40row0_col0\" class=\"data row0 col0\" >1.000000</td>\n",
       "                        <td id=\"T_863b3fac_1fa0_11eb_a157_f8165429eb40row0_col1\" class=\"data row0 col1\" >0.143361</td>\n",
       "                        <td id=\"T_863b3fac_1fa0_11eb_a157_f8165429eb40row0_col2\" class=\"data row0 col2\" >0.000000</td>\n",
       "                        <td id=\"T_863b3fac_1fa0_11eb_a157_f8165429eb40row0_col3\" class=\"data row0 col3\" >0.054309</td>\n",
       "                        <td id=\"T_863b3fac_1fa0_11eb_a157_f8165429eb40row0_col4\" class=\"data row0 col4\" >0.054309</td>\n",
       "                        <td id=\"T_863b3fac_1fa0_11eb_a157_f8165429eb40row0_col5\" class=\"data row0 col5\" >0.000001</td>\n",
       "                        <td id=\"T_863b3fac_1fa0_11eb_a157_f8165429eb40row0_col6\" class=\"data row0 col6\" >0.000000</td>\n",
       "                        <td id=\"T_863b3fac_1fa0_11eb_a157_f8165429eb40row0_col7\" class=\"data row0 col7\" >0.000000</td>\n",
       "                        <td id=\"T_863b3fac_1fa0_11eb_a157_f8165429eb40row0_col8\" class=\"data row0 col8\" >0.000000</td>\n",
       "            </tr>\n",
       "            <tr>\n",
       "                        <th id=\"T_863b3fac_1fa0_11eb_a157_f8165429eb40level0_row1\" class=\"row_heading level0 row1\" >cs_MEAN</th>\n",
       "                        <td id=\"T_863b3fac_1fa0_11eb_a157_f8165429eb40row1_col0\" class=\"data row1 col0\" >0.143361</td>\n",
       "                        <td id=\"T_863b3fac_1fa0_11eb_a157_f8165429eb40row1_col1\" class=\"data row1 col1\" >1.000000</td>\n",
       "                        <td id=\"T_863b3fac_1fa0_11eb_a157_f8165429eb40row1_col2\" class=\"data row1 col2\" >0.000000</td>\n",
       "                        <td id=\"T_863b3fac_1fa0_11eb_a157_f8165429eb40row1_col3\" class=\"data row1 col3\" >0.636078</td>\n",
       "                        <td id=\"T_863b3fac_1fa0_11eb_a157_f8165429eb40row1_col4\" class=\"data row1 col4\" >0.636078</td>\n",
       "                        <td id=\"T_863b3fac_1fa0_11eb_a157_f8165429eb40row1_col5\" class=\"data row1 col5\" >0.000000</td>\n",
       "                        <td id=\"T_863b3fac_1fa0_11eb_a157_f8165429eb40row1_col6\" class=\"data row1 col6\" >0.000000</td>\n",
       "                        <td id=\"T_863b3fac_1fa0_11eb_a157_f8165429eb40row1_col7\" class=\"data row1 col7\" >0.000000</td>\n",
       "                        <td id=\"T_863b3fac_1fa0_11eb_a157_f8165429eb40row1_col8\" class=\"data row1 col8\" >0.000000</td>\n",
       "            </tr>\n",
       "            <tr>\n",
       "                        <th id=\"T_863b3fac_1fa0_11eb_a157_f8165429eb40level0_row2\" class=\"row_heading level0 row2\" >cs_MIN</th>\n",
       "                        <td id=\"T_863b3fac_1fa0_11eb_a157_f8165429eb40row2_col0\" class=\"data row2 col0\" >0.000000</td>\n",
       "                        <td id=\"T_863b3fac_1fa0_11eb_a157_f8165429eb40row2_col1\" class=\"data row2 col1\" >0.000000</td>\n",
       "                        <td id=\"T_863b3fac_1fa0_11eb_a157_f8165429eb40row2_col2\" class=\"data row2 col2\" >1.000000</td>\n",
       "                        <td id=\"T_863b3fac_1fa0_11eb_a157_f8165429eb40row2_col3\" class=\"data row2 col3\" >0.000000</td>\n",
       "                        <td id=\"T_863b3fac_1fa0_11eb_a157_f8165429eb40row2_col4\" class=\"data row2 col4\" >0.000000</td>\n",
       "                        <td id=\"T_863b3fac_1fa0_11eb_a157_f8165429eb40row2_col5\" class=\"data row2 col5\" >0.000000</td>\n",
       "                        <td id=\"T_863b3fac_1fa0_11eb_a157_f8165429eb40row2_col6\" class=\"data row2 col6\" >0.000000</td>\n",
       "                        <td id=\"T_863b3fac_1fa0_11eb_a157_f8165429eb40row2_col7\" class=\"data row2 col7\" >0.000000</td>\n",
       "                        <td id=\"T_863b3fac_1fa0_11eb_a157_f8165429eb40row2_col8\" class=\"data row2 col8\" >0.000000</td>\n",
       "            </tr>\n",
       "            <tr>\n",
       "                        <th id=\"T_863b3fac_1fa0_11eb_a157_f8165429eb40level0_row3\" class=\"row_heading level0 row3\" >cs_RANK</th>\n",
       "                        <td id=\"T_863b3fac_1fa0_11eb_a157_f8165429eb40row3_col0\" class=\"data row3 col0\" >0.054309</td>\n",
       "                        <td id=\"T_863b3fac_1fa0_11eb_a157_f8165429eb40row3_col1\" class=\"data row3 col1\" >0.636078</td>\n",
       "                        <td id=\"T_863b3fac_1fa0_11eb_a157_f8165429eb40row3_col2\" class=\"data row3 col2\" >0.000000</td>\n",
       "                        <td id=\"T_863b3fac_1fa0_11eb_a157_f8165429eb40row3_col3\" class=\"data row3 col3\" >1.000000</td>\n",
       "                        <td id=\"T_863b3fac_1fa0_11eb_a157_f8165429eb40row3_col4\" class=\"data row3 col4\" >1.000000</td>\n",
       "                        <td id=\"T_863b3fac_1fa0_11eb_a157_f8165429eb40row3_col5\" class=\"data row3 col5\" >0.000000</td>\n",
       "                        <td id=\"T_863b3fac_1fa0_11eb_a157_f8165429eb40row3_col6\" class=\"data row3 col6\" >0.000000</td>\n",
       "                        <td id=\"T_863b3fac_1fa0_11eb_a157_f8165429eb40row3_col7\" class=\"data row3 col7\" >0.000000</td>\n",
       "                        <td id=\"T_863b3fac_1fa0_11eb_a157_f8165429eb40row3_col8\" class=\"data row3 col8\" >0.000000</td>\n",
       "            </tr>\n",
       "            <tr>\n",
       "                        <th id=\"T_863b3fac_1fa0_11eb_a157_f8165429eb40level0_row4\" class=\"row_heading level0 row4\" >cs_VOTE</th>\n",
       "                        <td id=\"T_863b3fac_1fa0_11eb_a157_f8165429eb40row4_col0\" class=\"data row4 col0\" >0.054309</td>\n",
       "                        <td id=\"T_863b3fac_1fa0_11eb_a157_f8165429eb40row4_col1\" class=\"data row4 col1\" >0.636078</td>\n",
       "                        <td id=\"T_863b3fac_1fa0_11eb_a157_f8165429eb40row4_col2\" class=\"data row4 col2\" >0.000000</td>\n",
       "                        <td id=\"T_863b3fac_1fa0_11eb_a157_f8165429eb40row4_col3\" class=\"data row4 col3\" >1.000000</td>\n",
       "                        <td id=\"T_863b3fac_1fa0_11eb_a157_f8165429eb40row4_col4\" class=\"data row4 col4\" >1.000000</td>\n",
       "                        <td id=\"T_863b3fac_1fa0_11eb_a157_f8165429eb40row4_col5\" class=\"data row4 col5\" >0.000000</td>\n",
       "                        <td id=\"T_863b3fac_1fa0_11eb_a157_f8165429eb40row4_col6\" class=\"data row4 col6\" >0.000000</td>\n",
       "                        <td id=\"T_863b3fac_1fa0_11eb_a157_f8165429eb40row4_col7\" class=\"data row4 col7\" >0.000000</td>\n",
       "                        <td id=\"T_863b3fac_1fa0_11eb_a157_f8165429eb40row4_col8\" class=\"data row4 col8\" >0.000000</td>\n",
       "            </tr>\n",
       "            <tr>\n",
       "                        <th id=\"T_863b3fac_1fa0_11eb_a157_f8165429eb40level0_row5\" class=\"row_heading level0 row5\" >ml_knn</th>\n",
       "                        <td id=\"T_863b3fac_1fa0_11eb_a157_f8165429eb40row5_col0\" class=\"data row5 col0\" >0.000001</td>\n",
       "                        <td id=\"T_863b3fac_1fa0_11eb_a157_f8165429eb40row5_col1\" class=\"data row5 col1\" >0.000000</td>\n",
       "                        <td id=\"T_863b3fac_1fa0_11eb_a157_f8165429eb40row5_col2\" class=\"data row5 col2\" >0.000000</td>\n",
       "                        <td id=\"T_863b3fac_1fa0_11eb_a157_f8165429eb40row5_col3\" class=\"data row5 col3\" >0.000000</td>\n",
       "                        <td id=\"T_863b3fac_1fa0_11eb_a157_f8165429eb40row5_col4\" class=\"data row5 col4\" >0.000000</td>\n",
       "                        <td id=\"T_863b3fac_1fa0_11eb_a157_f8165429eb40row5_col5\" class=\"data row5 col5\" >1.000000</td>\n",
       "                        <td id=\"T_863b3fac_1fa0_11eb_a157_f8165429eb40row5_col6\" class=\"data row5 col6\" >0.000000</td>\n",
       "                        <td id=\"T_863b3fac_1fa0_11eb_a157_f8165429eb40row5_col7\" class=\"data row5 col7\" >0.009976</td>\n",
       "                        <td id=\"T_863b3fac_1fa0_11eb_a157_f8165429eb40row5_col8\" class=\"data row5 col8\" >0.000000</td>\n",
       "            </tr>\n",
       "            <tr>\n",
       "                        <th id=\"T_863b3fac_1fa0_11eb_a157_f8165429eb40level0_row6\" class=\"row_heading level0 row6\" >ml_lr</th>\n",
       "                        <td id=\"T_863b3fac_1fa0_11eb_a157_f8165429eb40row6_col0\" class=\"data row6 col0\" >0.000000</td>\n",
       "                        <td id=\"T_863b3fac_1fa0_11eb_a157_f8165429eb40row6_col1\" class=\"data row6 col1\" >0.000000</td>\n",
       "                        <td id=\"T_863b3fac_1fa0_11eb_a157_f8165429eb40row6_col2\" class=\"data row6 col2\" >0.000000</td>\n",
       "                        <td id=\"T_863b3fac_1fa0_11eb_a157_f8165429eb40row6_col3\" class=\"data row6 col3\" >0.000000</td>\n",
       "                        <td id=\"T_863b3fac_1fa0_11eb_a157_f8165429eb40row6_col4\" class=\"data row6 col4\" >0.000000</td>\n",
       "                        <td id=\"T_863b3fac_1fa0_11eb_a157_f8165429eb40row6_col5\" class=\"data row6 col5\" >0.000000</td>\n",
       "                        <td id=\"T_863b3fac_1fa0_11eb_a157_f8165429eb40row6_col6\" class=\"data row6 col6\" >1.000000</td>\n",
       "                        <td id=\"T_863b3fac_1fa0_11eb_a157_f8165429eb40row6_col7\" class=\"data row6 col7\" >0.000736</td>\n",
       "                        <td id=\"T_863b3fac_1fa0_11eb_a157_f8165429eb40row6_col8\" class=\"data row6 col8\" >0.372278</td>\n",
       "            </tr>\n",
       "            <tr>\n",
       "                        <th id=\"T_863b3fac_1fa0_11eb_a157_f8165429eb40level0_row7\" class=\"row_heading level0 row7\" >ml_rf</th>\n",
       "                        <td id=\"T_863b3fac_1fa0_11eb_a157_f8165429eb40row7_col0\" class=\"data row7 col0\" >0.000000</td>\n",
       "                        <td id=\"T_863b3fac_1fa0_11eb_a157_f8165429eb40row7_col1\" class=\"data row7 col1\" >0.000000</td>\n",
       "                        <td id=\"T_863b3fac_1fa0_11eb_a157_f8165429eb40row7_col2\" class=\"data row7 col2\" >0.000000</td>\n",
       "                        <td id=\"T_863b3fac_1fa0_11eb_a157_f8165429eb40row7_col3\" class=\"data row7 col3\" >0.000000</td>\n",
       "                        <td id=\"T_863b3fac_1fa0_11eb_a157_f8165429eb40row7_col4\" class=\"data row7 col4\" >0.000000</td>\n",
       "                        <td id=\"T_863b3fac_1fa0_11eb_a157_f8165429eb40row7_col5\" class=\"data row7 col5\" >0.009976</td>\n",
       "                        <td id=\"T_863b3fac_1fa0_11eb_a157_f8165429eb40row7_col6\" class=\"data row7 col6\" >0.000736</td>\n",
       "                        <td id=\"T_863b3fac_1fa0_11eb_a157_f8165429eb40row7_col7\" class=\"data row7 col7\" >1.000000</td>\n",
       "                        <td id=\"T_863b3fac_1fa0_11eb_a157_f8165429eb40row7_col8\" class=\"data row7 col8\" >0.000032</td>\n",
       "            </tr>\n",
       "            <tr>\n",
       "                        <th id=\"T_863b3fac_1fa0_11eb_a157_f8165429eb40level0_row8\" class=\"row_heading level0 row8\" >ml_xgb</th>\n",
       "                        <td id=\"T_863b3fac_1fa0_11eb_a157_f8165429eb40row8_col0\" class=\"data row8 col0\" >0.000000</td>\n",
       "                        <td id=\"T_863b3fac_1fa0_11eb_a157_f8165429eb40row8_col1\" class=\"data row8 col1\" >0.000000</td>\n",
       "                        <td id=\"T_863b3fac_1fa0_11eb_a157_f8165429eb40row8_col2\" class=\"data row8 col2\" >0.000000</td>\n",
       "                        <td id=\"T_863b3fac_1fa0_11eb_a157_f8165429eb40row8_col3\" class=\"data row8 col3\" >0.000000</td>\n",
       "                        <td id=\"T_863b3fac_1fa0_11eb_a157_f8165429eb40row8_col4\" class=\"data row8 col4\" >0.000000</td>\n",
       "                        <td id=\"T_863b3fac_1fa0_11eb_a157_f8165429eb40row8_col5\" class=\"data row8 col5\" >0.000000</td>\n",
       "                        <td id=\"T_863b3fac_1fa0_11eb_a157_f8165429eb40row8_col6\" class=\"data row8 col6\" >0.372278</td>\n",
       "                        <td id=\"T_863b3fac_1fa0_11eb_a157_f8165429eb40row8_col7\" class=\"data row8 col7\" >0.000032</td>\n",
       "                        <td id=\"T_863b3fac_1fa0_11eb_a157_f8165429eb40row8_col8\" class=\"data row8 col8\" >1.000000</td>\n",
       "            </tr>\n",
       "    </tbody></table>"
      ],
      "text/plain": [
       "<pandas.io.formats.style.Styler at 0x7f339c21c910>"
      ]
     },
     "execution_count": 34,
     "metadata": {},
     "output_type": "execute_result"
    }
   ],
   "source": [
    "import scikit_posthocs as sp\n",
    "\n",
    "sp.posthoc_conover(f, val_col='score', group_col='clf').style.applymap(_col_sig_p_values)"
   ]
  },
  {
   "cell_type": "markdown",
   "metadata": {},
   "source": [
    "#### Nemenyi"
   ]
  },
  {
   "cell_type": "code",
   "execution_count": 35,
   "metadata": {},
   "outputs": [
    {
     "data": {
      "text/html": [
       "<style  type=\"text/css\" >\n",
       "    #T_a19001d4_1fa0_11eb_a157_f8165429eb40row0_col0 {\n",
       "            color:  none;\n",
       "        }    #T_a19001d4_1fa0_11eb_a157_f8165429eb40row0_col1 {\n",
       "            color:  none;\n",
       "        }    #T_a19001d4_1fa0_11eb_a157_f8165429eb40row0_col2 {\n",
       "            color:  none;\n",
       "        }    #T_a19001d4_1fa0_11eb_a157_f8165429eb40row0_col3 {\n",
       "            color:  none;\n",
       "        }    #T_a19001d4_1fa0_11eb_a157_f8165429eb40row0_col4 {\n",
       "            color:  none;\n",
       "        }    #T_a19001d4_1fa0_11eb_a157_f8165429eb40row0_col5 {\n",
       "            color:  none;\n",
       "        }    #T_a19001d4_1fa0_11eb_a157_f8165429eb40row0_col6 {\n",
       "            color:  red;\n",
       "        }    #T_a19001d4_1fa0_11eb_a157_f8165429eb40row0_col7 {\n",
       "            color:  none;\n",
       "        }    #T_a19001d4_1fa0_11eb_a157_f8165429eb40row0_col8 {\n",
       "            color:  none;\n",
       "        }    #T_a19001d4_1fa0_11eb_a157_f8165429eb40row1_col0 {\n",
       "            color:  none;\n",
       "        }    #T_a19001d4_1fa0_11eb_a157_f8165429eb40row1_col1 {\n",
       "            color:  none;\n",
       "        }    #T_a19001d4_1fa0_11eb_a157_f8165429eb40row1_col2 {\n",
       "            color:  none;\n",
       "        }    #T_a19001d4_1fa0_11eb_a157_f8165429eb40row1_col3 {\n",
       "            color:  none;\n",
       "        }    #T_a19001d4_1fa0_11eb_a157_f8165429eb40row1_col4 {\n",
       "            color:  red;\n",
       "        }    #T_a19001d4_1fa0_11eb_a157_f8165429eb40row1_col5 {\n",
       "            color:  none;\n",
       "        }    #T_a19001d4_1fa0_11eb_a157_f8165429eb40row1_col6 {\n",
       "            color:  red;\n",
       "        }    #T_a19001d4_1fa0_11eb_a157_f8165429eb40row1_col7 {\n",
       "            color:  red;\n",
       "        }    #T_a19001d4_1fa0_11eb_a157_f8165429eb40row1_col8 {\n",
       "            color:  red;\n",
       "        }    #T_a19001d4_1fa0_11eb_a157_f8165429eb40row2_col0 {\n",
       "            color:  none;\n",
       "        }    #T_a19001d4_1fa0_11eb_a157_f8165429eb40row2_col1 {\n",
       "            color:  none;\n",
       "        }    #T_a19001d4_1fa0_11eb_a157_f8165429eb40row2_col2 {\n",
       "            color:  none;\n",
       "        }    #T_a19001d4_1fa0_11eb_a157_f8165429eb40row2_col3 {\n",
       "            color:  none;\n",
       "        }    #T_a19001d4_1fa0_11eb_a157_f8165429eb40row2_col4 {\n",
       "            color:  red;\n",
       "        }    #T_a19001d4_1fa0_11eb_a157_f8165429eb40row2_col5 {\n",
       "            color:  red;\n",
       "        }    #T_a19001d4_1fa0_11eb_a157_f8165429eb40row2_col6 {\n",
       "            color:  red;\n",
       "        }    #T_a19001d4_1fa0_11eb_a157_f8165429eb40row2_col7 {\n",
       "            color:  red;\n",
       "        }    #T_a19001d4_1fa0_11eb_a157_f8165429eb40row2_col8 {\n",
       "            color:  red;\n",
       "        }    #T_a19001d4_1fa0_11eb_a157_f8165429eb40row3_col0 {\n",
       "            color:  none;\n",
       "        }    #T_a19001d4_1fa0_11eb_a157_f8165429eb40row3_col1 {\n",
       "            color:  none;\n",
       "        }    #T_a19001d4_1fa0_11eb_a157_f8165429eb40row3_col2 {\n",
       "            color:  none;\n",
       "        }    #T_a19001d4_1fa0_11eb_a157_f8165429eb40row3_col3 {\n",
       "            color:  none;\n",
       "        }    #T_a19001d4_1fa0_11eb_a157_f8165429eb40row3_col4 {\n",
       "            color:  none;\n",
       "        }    #T_a19001d4_1fa0_11eb_a157_f8165429eb40row3_col5 {\n",
       "            color:  none;\n",
       "        }    #T_a19001d4_1fa0_11eb_a157_f8165429eb40row3_col6 {\n",
       "            color:  red;\n",
       "        }    #T_a19001d4_1fa0_11eb_a157_f8165429eb40row3_col7 {\n",
       "            color:  red;\n",
       "        }    #T_a19001d4_1fa0_11eb_a157_f8165429eb40row3_col8 {\n",
       "            color:  red;\n",
       "        }    #T_a19001d4_1fa0_11eb_a157_f8165429eb40row4_col0 {\n",
       "            color:  none;\n",
       "        }    #T_a19001d4_1fa0_11eb_a157_f8165429eb40row4_col1 {\n",
       "            color:  red;\n",
       "        }    #T_a19001d4_1fa0_11eb_a157_f8165429eb40row4_col2 {\n",
       "            color:  red;\n",
       "        }    #T_a19001d4_1fa0_11eb_a157_f8165429eb40row4_col3 {\n",
       "            color:  none;\n",
       "        }    #T_a19001d4_1fa0_11eb_a157_f8165429eb40row4_col4 {\n",
       "            color:  none;\n",
       "        }    #T_a19001d4_1fa0_11eb_a157_f8165429eb40row4_col5 {\n",
       "            color:  none;\n",
       "        }    #T_a19001d4_1fa0_11eb_a157_f8165429eb40row4_col6 {\n",
       "            color:  none;\n",
       "        }    #T_a19001d4_1fa0_11eb_a157_f8165429eb40row4_col7 {\n",
       "            color:  none;\n",
       "        }    #T_a19001d4_1fa0_11eb_a157_f8165429eb40row4_col8 {\n",
       "            color:  none;\n",
       "        }    #T_a19001d4_1fa0_11eb_a157_f8165429eb40row5_col0 {\n",
       "            color:  none;\n",
       "        }    #T_a19001d4_1fa0_11eb_a157_f8165429eb40row5_col1 {\n",
       "            color:  none;\n",
       "        }    #T_a19001d4_1fa0_11eb_a157_f8165429eb40row5_col2 {\n",
       "            color:  red;\n",
       "        }    #T_a19001d4_1fa0_11eb_a157_f8165429eb40row5_col3 {\n",
       "            color:  none;\n",
       "        }    #T_a19001d4_1fa0_11eb_a157_f8165429eb40row5_col4 {\n",
       "            color:  none;\n",
       "        }    #T_a19001d4_1fa0_11eb_a157_f8165429eb40row5_col5 {\n",
       "            color:  none;\n",
       "        }    #T_a19001d4_1fa0_11eb_a157_f8165429eb40row5_col6 {\n",
       "            color:  none;\n",
       "        }    #T_a19001d4_1fa0_11eb_a157_f8165429eb40row5_col7 {\n",
       "            color:  none;\n",
       "        }    #T_a19001d4_1fa0_11eb_a157_f8165429eb40row5_col8 {\n",
       "            color:  none;\n",
       "        }    #T_a19001d4_1fa0_11eb_a157_f8165429eb40row6_col0 {\n",
       "            color:  red;\n",
       "        }    #T_a19001d4_1fa0_11eb_a157_f8165429eb40row6_col1 {\n",
       "            color:  red;\n",
       "        }    #T_a19001d4_1fa0_11eb_a157_f8165429eb40row6_col2 {\n",
       "            color:  red;\n",
       "        }    #T_a19001d4_1fa0_11eb_a157_f8165429eb40row6_col3 {\n",
       "            color:  red;\n",
       "        }    #T_a19001d4_1fa0_11eb_a157_f8165429eb40row6_col4 {\n",
       "            color:  none;\n",
       "        }    #T_a19001d4_1fa0_11eb_a157_f8165429eb40row6_col5 {\n",
       "            color:  none;\n",
       "        }    #T_a19001d4_1fa0_11eb_a157_f8165429eb40row6_col6 {\n",
       "            color:  none;\n",
       "        }    #T_a19001d4_1fa0_11eb_a157_f8165429eb40row6_col7 {\n",
       "            color:  none;\n",
       "        }    #T_a19001d4_1fa0_11eb_a157_f8165429eb40row6_col8 {\n",
       "            color:  none;\n",
       "        }    #T_a19001d4_1fa0_11eb_a157_f8165429eb40row7_col0 {\n",
       "            color:  none;\n",
       "        }    #T_a19001d4_1fa0_11eb_a157_f8165429eb40row7_col1 {\n",
       "            color:  red;\n",
       "        }    #T_a19001d4_1fa0_11eb_a157_f8165429eb40row7_col2 {\n",
       "            color:  red;\n",
       "        }    #T_a19001d4_1fa0_11eb_a157_f8165429eb40row7_col3 {\n",
       "            color:  red;\n",
       "        }    #T_a19001d4_1fa0_11eb_a157_f8165429eb40row7_col4 {\n",
       "            color:  none;\n",
       "        }    #T_a19001d4_1fa0_11eb_a157_f8165429eb40row7_col5 {\n",
       "            color:  none;\n",
       "        }    #T_a19001d4_1fa0_11eb_a157_f8165429eb40row7_col6 {\n",
       "            color:  none;\n",
       "        }    #T_a19001d4_1fa0_11eb_a157_f8165429eb40row7_col7 {\n",
       "            color:  none;\n",
       "        }    #T_a19001d4_1fa0_11eb_a157_f8165429eb40row7_col8 {\n",
       "            color:  none;\n",
       "        }    #T_a19001d4_1fa0_11eb_a157_f8165429eb40row8_col0 {\n",
       "            color:  none;\n",
       "        }    #T_a19001d4_1fa0_11eb_a157_f8165429eb40row8_col1 {\n",
       "            color:  red;\n",
       "        }    #T_a19001d4_1fa0_11eb_a157_f8165429eb40row8_col2 {\n",
       "            color:  red;\n",
       "        }    #T_a19001d4_1fa0_11eb_a157_f8165429eb40row8_col3 {\n",
       "            color:  red;\n",
       "        }    #T_a19001d4_1fa0_11eb_a157_f8165429eb40row8_col4 {\n",
       "            color:  none;\n",
       "        }    #T_a19001d4_1fa0_11eb_a157_f8165429eb40row8_col5 {\n",
       "            color:  none;\n",
       "        }    #T_a19001d4_1fa0_11eb_a157_f8165429eb40row8_col6 {\n",
       "            color:  none;\n",
       "        }    #T_a19001d4_1fa0_11eb_a157_f8165429eb40row8_col7 {\n",
       "            color:  none;\n",
       "        }    #T_a19001d4_1fa0_11eb_a157_f8165429eb40row8_col8 {\n",
       "            color:  none;\n",
       "        }</style><table id=\"T_a19001d4_1fa0_11eb_a157_f8165429eb40\" ><thead>    <tr>        <th class=\"blank level0\" ></th>        <th class=\"col_heading level0 col0\" >ml_knn</th>        <th class=\"col_heading level0 col1\" >ml_lr</th>        <th class=\"col_heading level0 col2\" >ml_xgb</th>        <th class=\"col_heading level0 col3\" >ml_rf</th>        <th class=\"col_heading level0 col4\" >cs_MEAN</th>        <th class=\"col_heading level0 col5\" >cs_MAX</th>        <th class=\"col_heading level0 col6\" >cs_MIN</th>        <th class=\"col_heading level0 col7\" >cs_VOTE</th>        <th class=\"col_heading level0 col8\" >cs_RANK</th>    </tr></thead><tbody>\n",
       "                <tr>\n",
       "                        <th id=\"T_a19001d4_1fa0_11eb_a157_f8165429eb40level0_row0\" class=\"row_heading level0 row0\" >ml_knn</th>\n",
       "                        <td id=\"T_a19001d4_1fa0_11eb_a157_f8165429eb40row0_col0\" class=\"data row0 col0\" >1.000000</td>\n",
       "                        <td id=\"T_a19001d4_1fa0_11eb_a157_f8165429eb40row0_col1\" class=\"data row0 col1\" >0.611110</td>\n",
       "                        <td id=\"T_a19001d4_1fa0_11eb_a157_f8165429eb40row0_col2\" class=\"data row0 col2\" >0.405206</td>\n",
       "                        <td id=\"T_a19001d4_1fa0_11eb_a157_f8165429eb40row0_col3\" class=\"data row0 col3\" >0.900000</td>\n",
       "                        <td id=\"T_a19001d4_1fa0_11eb_a157_f8165429eb40row0_col4\" class=\"data row0 col4\" >0.710204</td>\n",
       "                        <td id=\"T_a19001d4_1fa0_11eb_a157_f8165429eb40row0_col5\" class=\"data row0 col5\" >0.900000</td>\n",
       "                        <td id=\"T_a19001d4_1fa0_11eb_a157_f8165429eb40row0_col6\" class=\"data row0 col6\" >0.001473</td>\n",
       "                        <td id=\"T_a19001d4_1fa0_11eb_a157_f8165429eb40row0_col7\" class=\"data row0 col7\" >0.180790</td>\n",
       "                        <td id=\"T_a19001d4_1fa0_11eb_a157_f8165429eb40row0_col8\" class=\"data row0 col8\" >0.149525</td>\n",
       "            </tr>\n",
       "            <tr>\n",
       "                        <th id=\"T_a19001d4_1fa0_11eb_a157_f8165429eb40level0_row1\" class=\"row_heading level0 row1\" >ml_lr</th>\n",
       "                        <td id=\"T_a19001d4_1fa0_11eb_a157_f8165429eb40row1_col0\" class=\"data row1 col0\" >0.611110</td>\n",
       "                        <td id=\"T_a19001d4_1fa0_11eb_a157_f8165429eb40row1_col1\" class=\"data row1 col1\" >1.000000</td>\n",
       "                        <td id=\"T_a19001d4_1fa0_11eb_a157_f8165429eb40row1_col2\" class=\"data row1 col2\" >0.900000</td>\n",
       "                        <td id=\"T_a19001d4_1fa0_11eb_a157_f8165429eb40row1_col3\" class=\"data row1 col3\" >0.900000</td>\n",
       "                        <td id=\"T_a19001d4_1fa0_11eb_a157_f8165429eb40row1_col4\" class=\"data row1 col4\" >0.009917</td>\n",
       "                        <td id=\"T_a19001d4_1fa0_11eb_a157_f8165429eb40row1_col5\" class=\"data row1 col5\" >0.063491</td>\n",
       "                        <td id=\"T_a19001d4_1fa0_11eb_a157_f8165429eb40row1_col6\" class=\"data row1 col6\" >0.001000</td>\n",
       "                        <td id=\"T_a19001d4_1fa0_11eb_a157_f8165429eb40row1_col7\" class=\"data row1 col7\" >0.001000</td>\n",
       "                        <td id=\"T_a19001d4_1fa0_11eb_a157_f8165429eb40row1_col8\" class=\"data row1 col8\" >0.001000</td>\n",
       "            </tr>\n",
       "            <tr>\n",
       "                        <th id=\"T_a19001d4_1fa0_11eb_a157_f8165429eb40level0_row2\" class=\"row_heading level0 row2\" >ml_xgb</th>\n",
       "                        <td id=\"T_a19001d4_1fa0_11eb_a157_f8165429eb40row2_col0\" class=\"data row2 col0\" >0.405206</td>\n",
       "                        <td id=\"T_a19001d4_1fa0_11eb_a157_f8165429eb40row2_col1\" class=\"data row2 col1\" >0.900000</td>\n",
       "                        <td id=\"T_a19001d4_1fa0_11eb_a157_f8165429eb40row2_col2\" class=\"data row2 col2\" >1.000000</td>\n",
       "                        <td id=\"T_a19001d4_1fa0_11eb_a157_f8165429eb40row2_col3\" class=\"data row2 col3\" >0.900000</td>\n",
       "                        <td id=\"T_a19001d4_1fa0_11eb_a157_f8165429eb40row2_col4\" class=\"data row2 col4\" >0.002867</td>\n",
       "                        <td id=\"T_a19001d4_1fa0_11eb_a157_f8165429eb40row2_col5\" class=\"data row2 col5\" >0.023112</td>\n",
       "                        <td id=\"T_a19001d4_1fa0_11eb_a157_f8165429eb40row2_col6\" class=\"data row2 col6\" >0.001000</td>\n",
       "                        <td id=\"T_a19001d4_1fa0_11eb_a157_f8165429eb40row2_col7\" class=\"data row2 col7\" >0.001000</td>\n",
       "                        <td id=\"T_a19001d4_1fa0_11eb_a157_f8165429eb40row2_col8\" class=\"data row2 col8\" >0.001000</td>\n",
       "            </tr>\n",
       "            <tr>\n",
       "                        <th id=\"T_a19001d4_1fa0_11eb_a157_f8165429eb40level0_row3\" class=\"row_heading level0 row3\" >ml_rf</th>\n",
       "                        <td id=\"T_a19001d4_1fa0_11eb_a157_f8165429eb40row3_col0\" class=\"data row3 col0\" >0.900000</td>\n",
       "                        <td id=\"T_a19001d4_1fa0_11eb_a157_f8165429eb40row3_col1\" class=\"data row3 col1\" >0.900000</td>\n",
       "                        <td id=\"T_a19001d4_1fa0_11eb_a157_f8165429eb40row3_col2\" class=\"data row3 col2\" >0.900000</td>\n",
       "                        <td id=\"T_a19001d4_1fa0_11eb_a157_f8165429eb40row3_col3\" class=\"data row3 col3\" >1.000000</td>\n",
       "                        <td id=\"T_a19001d4_1fa0_11eb_a157_f8165429eb40row3_col4\" class=\"data row3 col4\" >0.216940</td>\n",
       "                        <td id=\"T_a19001d4_1fa0_11eb_a157_f8165429eb40row3_col5\" class=\"data row3 col5\" >0.561564</td>\n",
       "                        <td id=\"T_a19001d4_1fa0_11eb_a157_f8165429eb40row3_col6\" class=\"data row3 col6\" >0.001000</td>\n",
       "                        <td id=\"T_a19001d4_1fa0_11eb_a157_f8165429eb40row3_col7\" class=\"data row3 col7\" >0.017589</td>\n",
       "                        <td id=\"T_a19001d4_1fa0_11eb_a157_f8165429eb40row3_col8\" class=\"data row3 col8\" >0.013263</td>\n",
       "            </tr>\n",
       "            <tr>\n",
       "                        <th id=\"T_a19001d4_1fa0_11eb_a157_f8165429eb40level0_row4\" class=\"row_heading level0 row4\" >cs_MEAN</th>\n",
       "                        <td id=\"T_a19001d4_1fa0_11eb_a157_f8165429eb40row4_col0\" class=\"data row4 col0\" >0.710204</td>\n",
       "                        <td id=\"T_a19001d4_1fa0_11eb_a157_f8165429eb40row4_col1\" class=\"data row4 col1\" >0.009917</td>\n",
       "                        <td id=\"T_a19001d4_1fa0_11eb_a157_f8165429eb40row4_col2\" class=\"data row4 col2\" >0.002867</td>\n",
       "                        <td id=\"T_a19001d4_1fa0_11eb_a157_f8165429eb40row4_col3\" class=\"data row4 col3\" >0.216940</td>\n",
       "                        <td id=\"T_a19001d4_1fa0_11eb_a157_f8165429eb40row4_col4\" class=\"data row4 col4\" >1.000000</td>\n",
       "                        <td id=\"T_a19001d4_1fa0_11eb_a157_f8165429eb40row4_col5\" class=\"data row4 col5\" >0.900000</td>\n",
       "                        <td id=\"T_a19001d4_1fa0_11eb_a157_f8165429eb40row4_col6\" class=\"data row4 col6\" >0.301968</td>\n",
       "                        <td id=\"T_a19001d4_1fa0_11eb_a157_f8165429eb40row4_col7\" class=\"data row4 col7\" >0.900000</td>\n",
       "                        <td id=\"T_a19001d4_1fa0_11eb_a157_f8165429eb40row4_col8\" class=\"data row4 col8\" >0.900000</td>\n",
       "            </tr>\n",
       "            <tr>\n",
       "                        <th id=\"T_a19001d4_1fa0_11eb_a157_f8165429eb40level0_row5\" class=\"row_heading level0 row5\" >cs_MAX</th>\n",
       "                        <td id=\"T_a19001d4_1fa0_11eb_a157_f8165429eb40row5_col0\" class=\"data row5 col0\" >0.900000</td>\n",
       "                        <td id=\"T_a19001d4_1fa0_11eb_a157_f8165429eb40row5_col1\" class=\"data row5 col1\" >0.063491</td>\n",
       "                        <td id=\"T_a19001d4_1fa0_11eb_a157_f8165429eb40row5_col2\" class=\"data row5 col2\" >0.023112</td>\n",
       "                        <td id=\"T_a19001d4_1fa0_11eb_a157_f8165429eb40row5_col3\" class=\"data row5 col3\" >0.561564</td>\n",
       "                        <td id=\"T_a19001d4_1fa0_11eb_a157_f8165429eb40row5_col4\" class=\"data row5 col4\" >0.900000</td>\n",
       "                        <td id=\"T_a19001d4_1fa0_11eb_a157_f8165429eb40row5_col5\" class=\"data row5 col5\" >1.000000</td>\n",
       "                        <td id=\"T_a19001d4_1fa0_11eb_a157_f8165429eb40row5_col6\" class=\"data row5 col6\" >0.079975</td>\n",
       "                        <td id=\"T_a19001d4_1fa0_11eb_a157_f8165429eb40row5_col7\" class=\"data row5 col7\" >0.858844</td>\n",
       "                        <td id=\"T_a19001d4_1fa0_11eb_a157_f8165429eb40row5_col8\" class=\"data row5 col8\" >0.809296</td>\n",
       "            </tr>\n",
       "            <tr>\n",
       "                        <th id=\"T_a19001d4_1fa0_11eb_a157_f8165429eb40level0_row6\" class=\"row_heading level0 row6\" >cs_MIN</th>\n",
       "                        <td id=\"T_a19001d4_1fa0_11eb_a157_f8165429eb40row6_col0\" class=\"data row6 col0\" >0.001473</td>\n",
       "                        <td id=\"T_a19001d4_1fa0_11eb_a157_f8165429eb40row6_col1\" class=\"data row6 col1\" >0.001000</td>\n",
       "                        <td id=\"T_a19001d4_1fa0_11eb_a157_f8165429eb40row6_col2\" class=\"data row6 col2\" >0.001000</td>\n",
       "                        <td id=\"T_a19001d4_1fa0_11eb_a157_f8165429eb40row6_col3\" class=\"data row6 col3\" >0.001000</td>\n",
       "                        <td id=\"T_a19001d4_1fa0_11eb_a157_f8165429eb40row6_col4\" class=\"data row6 col4\" >0.301968</td>\n",
       "                        <td id=\"T_a19001d4_1fa0_11eb_a157_f8165429eb40row6_col5\" class=\"data row6 col5\" >0.079975</td>\n",
       "                        <td id=\"T_a19001d4_1fa0_11eb_a157_f8165429eb40row6_col6\" class=\"data row6 col6\" >1.000000</td>\n",
       "                        <td id=\"T_a19001d4_1fa0_11eb_a157_f8165429eb40row6_col7\" class=\"data row6 col7\" >0.858844</td>\n",
       "                        <td id=\"T_a19001d4_1fa0_11eb_a157_f8165429eb40row6_col8\" class=\"data row6 col8\" >0.900000</td>\n",
       "            </tr>\n",
       "            <tr>\n",
       "                        <th id=\"T_a19001d4_1fa0_11eb_a157_f8165429eb40level0_row7\" class=\"row_heading level0 row7\" >cs_VOTE</th>\n",
       "                        <td id=\"T_a19001d4_1fa0_11eb_a157_f8165429eb40row7_col0\" class=\"data row7 col0\" >0.180790</td>\n",
       "                        <td id=\"T_a19001d4_1fa0_11eb_a157_f8165429eb40row7_col1\" class=\"data row7 col1\" >0.001000</td>\n",
       "                        <td id=\"T_a19001d4_1fa0_11eb_a157_f8165429eb40row7_col2\" class=\"data row7 col2\" >0.001000</td>\n",
       "                        <td id=\"T_a19001d4_1fa0_11eb_a157_f8165429eb40row7_col3\" class=\"data row7 col3\" >0.017589</td>\n",
       "                        <td id=\"T_a19001d4_1fa0_11eb_a157_f8165429eb40row7_col4\" class=\"data row7 col4\" >0.900000</td>\n",
       "                        <td id=\"T_a19001d4_1fa0_11eb_a157_f8165429eb40row7_col5\" class=\"data row7 col5\" >0.858844</td>\n",
       "                        <td id=\"T_a19001d4_1fa0_11eb_a157_f8165429eb40row7_col6\" class=\"data row7 col6\" >0.858844</td>\n",
       "                        <td id=\"T_a19001d4_1fa0_11eb_a157_f8165429eb40row7_col7\" class=\"data row7 col7\" >1.000000</td>\n",
       "                        <td id=\"T_a19001d4_1fa0_11eb_a157_f8165429eb40row7_col8\" class=\"data row7 col8\" >0.900000</td>\n",
       "            </tr>\n",
       "            <tr>\n",
       "                        <th id=\"T_a19001d4_1fa0_11eb_a157_f8165429eb40level0_row8\" class=\"row_heading level0 row8\" >cs_RANK</th>\n",
       "                        <td id=\"T_a19001d4_1fa0_11eb_a157_f8165429eb40row8_col0\" class=\"data row8 col0\" >0.149525</td>\n",
       "                        <td id=\"T_a19001d4_1fa0_11eb_a157_f8165429eb40row8_col1\" class=\"data row8 col1\" >0.001000</td>\n",
       "                        <td id=\"T_a19001d4_1fa0_11eb_a157_f8165429eb40row8_col2\" class=\"data row8 col2\" >0.001000</td>\n",
       "                        <td id=\"T_a19001d4_1fa0_11eb_a157_f8165429eb40row8_col3\" class=\"data row8 col3\" >0.013263</td>\n",
       "                        <td id=\"T_a19001d4_1fa0_11eb_a157_f8165429eb40row8_col4\" class=\"data row8 col4\" >0.900000</td>\n",
       "                        <td id=\"T_a19001d4_1fa0_11eb_a157_f8165429eb40row8_col5\" class=\"data row8 col5\" >0.809296</td>\n",
       "                        <td id=\"T_a19001d4_1fa0_11eb_a157_f8165429eb40row8_col6\" class=\"data row8 col6\" >0.900000</td>\n",
       "                        <td id=\"T_a19001d4_1fa0_11eb_a157_f8165429eb40row8_col7\" class=\"data row8 col7\" >0.900000</td>\n",
       "                        <td id=\"T_a19001d4_1fa0_11eb_a157_f8165429eb40row8_col8\" class=\"data row8 col8\" >1.000000</td>\n",
       "            </tr>\n",
       "    </tbody></table>"
      ],
      "text/plain": [
       "<pandas.io.formats.style.Styler at 0x7f33675cf6d0>"
      ]
     },
     "execution_count": 35,
     "metadata": {},
     "output_type": "execute_result"
    }
   ],
   "source": [
    "sp.posthoc_nemenyi_friedman(df).style.applymap(_col_sig_p_values)"
   ]
  },
  {
   "cell_type": "markdown",
   "metadata": {},
   "source": [
    "### Two Samples\n",
    "- Delong\n",
    "- Nedeau\n",
    "- Wilcoxon\n",
    "- Bootstrap\n",
    "- paired t-test\n",
    "- McNemar\n",
    "- 5x2cv F modified"
   ]
  },
  {
   "cell_type": "code",
   "execution_count": null,
   "metadata": {},
   "outputs": [],
   "source": [
    "xgb_res = ho15.loc['roc_auc','ml_xgb']\n",
    "knn_res = ho15.loc['roc_auc','ml_knn']\n",
    "\n",
    "# Normalidad\n",
    "norm_test(xgb_res)\n",
    "norm_test(knn_res)\n",
    "\n",
    "# Homogeneidad de varianzas\n",
    "homovar_test(xgb_res, knn_res)"
   ]
  },
  {
   "cell_type": "code",
   "execution_count": null,
   "metadata": {},
   "outputs": [],
   "source": [
    "%%time\n",
    "from mlxtend.evaluate import combined_ftest_5x2cv\n",
    "\n",
    "f, p = combined_ftest_5x2cv(\n",
    "        estimator1=estimators['ml_xgb'],\n",
    "        estimator2=estimators['ml_knn'],\n",
    "        X=X, y=y,\n",
    "        scoring='roc_auc',\n",
    "        random_seed=42\n",
    "    )\n",
    "\n",
    "print('F statistic: %.3f' % f)\n",
    "print('p value: %.3f' % p)"
   ]
  },
  {
   "cell_type": "code",
   "execution_count": null,
   "metadata": {},
   "outputs": [],
   "source": [
    "f, p = combined_ftest_5x2cv(\n",
    "        estimator1=estimators['ml_xgb'],\n",
    "        estimator2=estimators['ml_lr'],\n",
    "        X=X, y=y,\n",
    "        scoring='roc_auc',\n",
    "        random_seed=42\n",
    "    )\n",
    "\n",
    "print('F statistic: %.3f' % f)\n",
    "print('p value: %.3f' % p)"
   ]
  },
  {
   "cell_type": "code",
   "execution_count": null,
   "metadata": {},
   "outputs": [],
   "source": []
  },
  {
   "cell_type": "code",
   "execution_count": null,
   "metadata": {},
   "outputs": [],
   "source": []
  },
  {
   "cell_type": "code",
   "execution_count": null,
   "metadata": {},
   "outputs": [],
   "source": [
    "def standard_error(x):\n",
    "    return np.std(x)/np.sqrt(len(x) - 1)\n",
    "\n",
    "standard_error(cv15.loc['roc_auc','ml_xgb'])"
   ]
  },
  {
   "cell_type": "code",
   "execution_count": null,
   "metadata": {},
   "outputs": [],
   "source": [
    "import numpy as np\n",
    "from scipy import stats\n",
    "\n",
    "def mean_confidence_interval(x, confidence=0.95):\n",
    "    n = len(x)\n",
    "    mean, se = np.mean(x), stats.sem(x)\n",
    "    d = se * stats.t.ppf((1 + confidence)/2, n - 1)\n",
    "    return mean - d, mean + d\n",
    "\n",
    "a = cv15.loc['roc_auc','ml_xgb']\n",
    "mean_confidence_interval(a)\n",
    "\n",
    "sns.tsplot(a)"
   ]
  },
  {
   "cell_type": "code",
   "execution_count": null,
   "metadata": {},
   "outputs": [],
   "source": [
    "import numpy as np, scipy.stats as st\n",
    "\n",
    "st.t.interval(0.95, len(a)-1, loc=np.mean(a), scale=st.sem(a))"
   ]
  }
 ],
 "metadata": {
  "kernelspec": {
   "display_name": "Python 3",
   "language": "python",
   "name": "python3"
  },
  "language_info": {
   "codemirror_mode": {
    "name": "ipython",
    "version": 3
   },
   "file_extension": ".py",
   "mimetype": "text/x-python",
   "name": "python",
   "nbconvert_exporter": "python",
   "pygments_lexer": "ipython3",
   "version": "3.7.6"
  }
 },
 "nbformat": 4,
 "nbformat_minor": 4
}
