{
 "cells": [
  {
   "cell_type": "markdown",
   "metadata": {},
   "source": [
    "# Exploratory notebook\n",
    "## CDK2 protein"
   ]
  },
  {
   "cell_type": "code",
   "execution_count": 1,
   "metadata": {},
   "outputs": [],
   "source": [
    "import pandas as pd\n",
    "import numpy as np\n",
    "import matplotlib.pyplot as plt\n",
    "import seaborn as sns\n",
    "\n",
    "%run ../modules/plotting_metrics.py"
   ]
  },
  {
   "cell_type": "code",
   "execution_count": 2,
   "metadata": {},
   "outputs": [],
   "source": [
    "from memoization import cached\n"
   ]
  },
  {
   "cell_type": "code",
   "execution_count": 3,
   "metadata": {},
   "outputs": [],
   "source": [
    "# Hold-out and Cross Validation"
   ]
  },
  {
   "cell_type": "code",
   "execution_count": 4,
   "metadata": {},
   "outputs": [],
   "source": [
    "file_name = '../6_Machine_Learning_Models/df_DkSc_results_COCRYS_CSAR_DEKOIS_DUD.pkl'\n",
    "X_merged_dksc = pd.read_pickle(file_name)\n",
    "y_true_merged = X_merged_dksc['activity']\n",
    "X_merged_dksc = X_merged_dksc.drop('activity', axis=1)\n",
    "X_merged_dksc.shape\n",
    "\n",
    "# Simplify the names\n",
    "X = X_merged_dksc.values\n",
    "y = y_true_merged.values"
   ]
  },
  {
   "cell_type": "code",
   "execution_count": 5,
   "metadata": {},
   "outputs": [],
   "source": [
    "def plot_swarm_metrics(df_results, metric_name):\n",
    "    sns.set(context='talk', style='whitegrid', font_scale=0.8)\n",
    "    \n",
    "    df_melted = pd.melt(df_results.loc[metric_name], var_name='method', value_name=metric_name)\n",
    "\n",
    "    fig, ax = plt.subplots(figsize=(12,6))\n",
    "    ax = sns.swarmplot(data=df_melted, x='method', y=metric_name,\n",
    "                      size=6)\n",
    "    sns.pointplot(data=df_melted, x='method', y=metric_name, dodge=True,\n",
    "                  ci=95, ax=ax, join=False, color='black', capsize=0.4)\n",
    "    ax.set(\n",
    "           xlabel='VS Method')\n",
    "    ax.set_title(f'ML vs CS results: {metric_name.replace(\"_\", \" \").upper()}', \n",
    "                 fontweight='bold', fontsize=18)\n"
   ]
  },
  {
   "cell_type": "code",
   "execution_count": 6,
   "metadata": {},
   "outputs": [],
   "source": [
    "# Pandas styler\n",
    "def _col_sig_p_values(val):\n",
    "    color = 'red' if val < 0.05 else 'none'\n",
    "    return 'color: %s' % color"
   ]
  },
  {
   "cell_type": "markdown",
   "metadata": {},
   "source": [
    "## Classifiers and consensus Scorings\n",
    "### ML Classifiers"
   ]
  },
  {
   "cell_type": "code",
   "execution_count": 7,
   "metadata": {},
   "outputs": [],
   "source": [
    "from sklearn.dummy import DummyClassifier\n",
    "\n",
    "hyparams = {'strategy': \"stratified\", \"random_state\": 42}\n",
    "dclf = DummyClassifier(**hyparams)"
   ]
  },
  {
   "cell_type": "code",
   "execution_count": 8,
   "metadata": {},
   "outputs": [],
   "source": [
    "from sklearn.neighbors import KNeighborsClassifier\n",
    "\n",
    "hyparams ={'n_neighbors': 1, 'n_jobs': 4}\n",
    "knn = KNeighborsClassifier(**hyparams)"
   ]
  },
  {
   "cell_type": "code",
   "execution_count": 9,
   "metadata": {},
   "outputs": [],
   "source": [
    "from sklearn.linear_model import LogisticRegression \n",
    "\n",
    "hyparams = {'C': 0.01, 'penalty': 'l2', 'solver': 'lbfgs', 'max_iter':400}\n",
    "lr = LogisticRegression(**hyparams)"
   ]
  },
  {
   "cell_type": "code",
   "execution_count": 10,
   "metadata": {},
   "outputs": [],
   "source": [
    "from xgboost import XGBClassifier\n",
    "\n",
    "hyparams ={'subsample': 0.5, 'n_estimators': 200, \n",
    "           'max_depth': 20, 'learning_rate': 0.05, \n",
    "           'gamma': 0.01, 'colsample_bytree': 0.5, 'alpha': 0.01}\n",
    "xgb = XGBClassifier(**hyparams)"
   ]
  },
  {
   "cell_type": "code",
   "execution_count": 11,
   "metadata": {},
   "outputs": [],
   "source": [
    "from sklearn.ensemble import RandomForestClassifier\n",
    "\n",
    "hyparams = {'n_estimators': 100, 'min_samples_split': 10,\n",
    "            'min_samples_leaf': 4, \n",
    "            'max_features': 'sqrt', 'max_depth': 10,\n",
    "            'random_state': 42}\n",
    "rf = RandomForestClassifier(**hyparams)"
   ]
  },
  {
   "cell_type": "code",
   "execution_count": 12,
   "metadata": {},
   "outputs": [],
   "source": [
    "# ML Classifier\n",
    "ml_classifiers = {\n",
    "    'dclf': dclf,\n",
    "    'knn': knn,\n",
    "    'lr': lr,\n",
    "    'xgb': xgb,\n",
    "    'rf': rf\n",
    "}\n",
    "\n",
    "# update names\n",
    "ml_classifiers = {f'ml_{name}': clf \n",
    "                for name, clf in ml_classifiers.items()}"
   ]
  },
  {
   "cell_type": "markdown",
   "metadata": {},
   "source": [
    "### Consensus Scorings"
   ]
  },
  {
   "cell_type": "code",
   "execution_count": 13,
   "metadata": {},
   "outputs": [],
   "source": [
    "%run ../6_Machine_Learning_Models/5_Helper_Consensus_Scoring.ipynb\n",
    "\n",
    "cs_functions = {\n",
    "    'MEAN': get_mean_score,\n",
    "    'MAX': get_max_score,\n",
    "    'MIN': get_min_score,\n",
    "    'VOTE': get_vote_score,\n",
    "    'RANK': get_rank_score \n",
    "}\n",
    "\n",
    "# update names\n",
    "cs_functions = {f'cs_{name}': func \n",
    "                for name, func in cs_functions.items()}"
   ]
  },
  {
   "cell_type": "markdown",
   "metadata": {},
   "source": [
    "### Estimators dictionary"
   ]
  },
  {
   "cell_type": "code",
   "execution_count": 14,
   "metadata": {},
   "outputs": [],
   "source": [
    "estimators = {**ml_classifiers, **cs_functions}"
   ]
  },
  {
   "cell_type": "code",
   "execution_count": 15,
   "metadata": {},
   "outputs": [],
   "source": [
    "### Save Results to file"
   ]
  },
  {
   "cell_type": "code",
   "execution_count": 16,
   "metadata": {},
   "outputs": [],
   "source": [
    "# Save the results to a file to ommit repeate the analysis\n",
    "%run ../modules/run_or_load_decorator.py\n",
    "\n",
    "@run_or_load_joblib\n",
    "def n_hold_out_validation_SAVE(filename, **kwargs):\n",
    "    return n_hold_out_validation(**kwargs)\n",
    "\n",
    "@run_or_load_joblib\n",
    "def k_cross_validation_SAVE(filename, **kwargs):\n",
    "    return k_cross_validation(**kwargs)\n",
    "\n",
    "@run_or_load_joblib\n",
    "def nk_rep_cross_validation_SAVE(filename, **kwargs):\n",
    "    return nk_rep_cross_validation(**kwargs)"
   ]
  },
  {
   "cell_type": "markdown",
   "metadata": {},
   "source": [
    "## Cross Validation"
   ]
  },
  {
   "cell_type": "code",
   "execution_count": 17,
   "metadata": {},
   "outputs": [],
   "source": [
    "%run ./1_Helper_functions.ipynb"
   ]
  },
  {
   "cell_type": "code",
   "execution_count": 18,
   "metadata": {},
   "outputs": [],
   "source": [
    "metrics=dict(roc_auc = {'metric_name': 'roc_auc'},\n",
    "             nef_02 = {'metric_name': 'ef', \n",
    "                    'fraction': 0.02, 'method':'normalized'},\n",
    "             nef_005 = {'metric_name': 'ef', \n",
    "                    'fraction': 0.005, 'method':'normalized'},\n",
    "             nef_12_Ra = {'metric_name': 'ef', \n",
    "                    'fraction': 0.12, 'method':'normalized'}\n",
    "            )"
   ]
  },
  {
   "cell_type": "markdown",
   "metadata": {},
   "source": [
    "### 5 folds/reps"
   ]
  },
  {
   "cell_type": "code",
   "execution_count": 19,
   "metadata": {},
   "outputs": [
    {
     "name": "stdout",
     "output_type": "stream",
     "text": [
      "File saved: ./cachedir/test_cv5_cdk2\n"
     ]
    },
    {
     "data": {
      "text/html": [
       "<div>\n",
       "<style scoped>\n",
       "    .dataframe tbody tr th:only-of-type {\n",
       "        vertical-align: middle;\n",
       "    }\n",
       "\n",
       "    .dataframe tbody tr th {\n",
       "        vertical-align: top;\n",
       "    }\n",
       "\n",
       "    .dataframe thead th {\n",
       "        text-align: right;\n",
       "    }\n",
       "</style>\n",
       "<table border=\"1\" class=\"dataframe\">\n",
       "  <thead>\n",
       "    <tr style=\"text-align: right;\">\n",
       "      <th></th>\n",
       "      <th>ml_dclf</th>\n",
       "      <th>ml_knn</th>\n",
       "      <th>ml_lr</th>\n",
       "      <th>ml_xgb</th>\n",
       "      <th>ml_rf</th>\n",
       "      <th>cs_MEAN</th>\n",
       "      <th>cs_MAX</th>\n",
       "      <th>cs_MIN</th>\n",
       "      <th>cs_VOTE</th>\n",
       "      <th>cs_RANK</th>\n",
       "    </tr>\n",
       "  </thead>\n",
       "  <tbody>\n",
       "    <tr>\n",
       "      <th>Normality</th>\n",
       "      <td>1</td>\n",
       "      <td>1</td>\n",
       "      <td>1</td>\n",
       "      <td>1</td>\n",
       "      <td>0</td>\n",
       "      <td>1</td>\n",
       "      <td>1</td>\n",
       "      <td>1</td>\n",
       "      <td>1</td>\n",
       "      <td>1</td>\n",
       "    </tr>\n",
       "  </tbody>\n",
       "</table>\n",
       "</div>"
      ],
      "text/plain": [
       "           ml_dclf  ml_knn  ml_lr  ml_xgb  ml_rf  cs_MEAN  cs_MAX  cs_MIN  \\\n",
       "Normality        1       1      1       1      0        1       1       1   \n",
       "\n",
       "           cs_VOTE  cs_RANK  \n",
       "Normality        1        1  "
      ]
     },
     "metadata": {},
     "output_type": "display_data"
    },
    {
     "data": {
      "text/html": [
       "<div>\n",
       "<style scoped>\n",
       "    .dataframe tbody tr th:only-of-type {\n",
       "        vertical-align: middle;\n",
       "    }\n",
       "\n",
       "    .dataframe tbody tr th {\n",
       "        vertical-align: top;\n",
       "    }\n",
       "\n",
       "    .dataframe thead th {\n",
       "        text-align: right;\n",
       "    }\n",
       "</style>\n",
       "<table border=\"1\" class=\"dataframe\">\n",
       "  <thead>\n",
       "    <tr style=\"text-align: right;\">\n",
       "      <th></th>\n",
       "      <th>statistic</th>\n",
       "      <th>p</th>\n",
       "    </tr>\n",
       "  </thead>\n",
       "  <tbody>\n",
       "    <tr>\n",
       "      <th>Bartlett</th>\n",
       "      <td>4.718211</td>\n",
       "      <td>0.858148</td>\n",
       "    </tr>\n",
       "  </tbody>\n",
       "</table>\n",
       "</div>"
      ],
      "text/plain": [
       "          statistic         p\n",
       "Bartlett   4.718211  0.858148"
      ]
     },
     "metadata": {},
     "output_type": "display_data"
    },
    {
     "name": "stdout",
     "output_type": "stream",
     "text": [
      "CPU times: user 56.4 ms, sys: 77 µs, total: 56.5 ms\n",
      "Wall time: 54.5 ms\n"
     ]
    },
    {
     "data": {
      "text/html": [
       "<div>\n",
       "<style scoped>\n",
       "    .dataframe tbody tr th:only-of-type {\n",
       "        vertical-align: middle;\n",
       "    }\n",
       "\n",
       "    .dataframe tbody tr th {\n",
       "        vertical-align: top;\n",
       "    }\n",
       "\n",
       "    .dataframe thead th {\n",
       "        text-align: right;\n",
       "    }\n",
       "</style>\n",
       "<table border=\"1\" class=\"dataframe\">\n",
       "  <thead>\n",
       "    <tr style=\"text-align: right;\">\n",
       "      <th></th>\n",
       "      <th>ml_dclf</th>\n",
       "      <th>ml_knn</th>\n",
       "      <th>ml_lr</th>\n",
       "      <th>ml_xgb</th>\n",
       "      <th>ml_rf</th>\n",
       "      <th>cs_MEAN</th>\n",
       "      <th>cs_MAX</th>\n",
       "      <th>cs_MIN</th>\n",
       "      <th>cs_VOTE</th>\n",
       "      <th>cs_RANK</th>\n",
       "    </tr>\n",
       "  </thead>\n",
       "  <tbody>\n",
       "    <tr>\n",
       "      <th>0</th>\n",
       "      <td>0.49396</td>\n",
       "      <td>0.79516</td>\n",
       "      <td>0.88112</td>\n",
       "      <td>0.92751</td>\n",
       "      <td>0.87305</td>\n",
       "      <td>0.64234</td>\n",
       "      <td>0.64502</td>\n",
       "      <td>0.57160</td>\n",
       "      <td>0.62889</td>\n",
       "      <td>0.64197</td>\n",
       "    </tr>\n",
       "    <tr>\n",
       "      <th>1</th>\n",
       "      <td>0.50069</td>\n",
       "      <td>0.78846</td>\n",
       "      <td>0.86721</td>\n",
       "      <td>0.88513</td>\n",
       "      <td>0.81444</td>\n",
       "      <td>0.60090</td>\n",
       "      <td>0.62607</td>\n",
       "      <td>0.54079</td>\n",
       "      <td>0.60534</td>\n",
       "      <td>0.59789</td>\n",
       "    </tr>\n",
       "    <tr>\n",
       "      <th>2</th>\n",
       "      <td>0.50754</td>\n",
       "      <td>0.81858</td>\n",
       "      <td>0.91357</td>\n",
       "      <td>0.91118</td>\n",
       "      <td>0.86729</td>\n",
       "      <td>0.65380</td>\n",
       "      <td>0.67037</td>\n",
       "      <td>0.58591</td>\n",
       "      <td>0.64147</td>\n",
       "      <td>0.65064</td>\n",
       "    </tr>\n",
       "    <tr>\n",
       "      <th>3</th>\n",
       "      <td>0.49385</td>\n",
       "      <td>0.80517</td>\n",
       "      <td>0.89885</td>\n",
       "      <td>0.90776</td>\n",
       "      <td>0.86058</td>\n",
       "      <td>0.63146</td>\n",
       "      <td>0.63170</td>\n",
       "      <td>0.54574</td>\n",
       "      <td>0.63917</td>\n",
       "      <td>0.62874</td>\n",
       "    </tr>\n",
       "    <tr>\n",
       "      <th>4</th>\n",
       "      <td>0.51438</td>\n",
       "      <td>0.78136</td>\n",
       "      <td>0.91855</td>\n",
       "      <td>0.93413</td>\n",
       "      <td>0.87259</td>\n",
       "      <td>0.65086</td>\n",
       "      <td>0.64554</td>\n",
       "      <td>0.57859</td>\n",
       "      <td>0.62882</td>\n",
       "      <td>0.64914</td>\n",
       "    </tr>\n",
       "  </tbody>\n",
       "</table>\n",
       "</div>"
      ],
      "text/plain": [
       "   ml_dclf   ml_knn    ml_lr   ml_xgb    ml_rf  cs_MEAN   cs_MAX   cs_MIN  \\\n",
       "0  0.49396  0.79516  0.88112  0.92751  0.87305  0.64234  0.64502  0.57160   \n",
       "1  0.50069  0.78846  0.86721  0.88513  0.81444  0.60090  0.62607  0.54079   \n",
       "2  0.50754  0.81858  0.91357  0.91118  0.86729  0.65380  0.67037  0.58591   \n",
       "3  0.49385  0.80517  0.89885  0.90776  0.86058  0.63146  0.63170  0.54574   \n",
       "4  0.51438  0.78136  0.91855  0.93413  0.87259  0.65086  0.64554  0.57859   \n",
       "\n",
       "   cs_VOTE  cs_RANK  \n",
       "0  0.62889  0.64197  \n",
       "1  0.60534  0.59789  \n",
       "2  0.64147  0.65064  \n",
       "3  0.63917  0.62874  \n",
       "4  0.62882  0.64914  "
      ]
     },
     "execution_count": 19,
     "metadata": {},
     "output_type": "execute_result"
    }
   ],
   "source": [
    "%%time\n",
    "cv5 = k_cross_validation_SAVE(\n",
    "    filename=f'./cachedir/test_cv5_cdk2',\n",
    "    estimators=estimators, X=X, y=y, metrics=metrics, \n",
    "     n_splits=5, random_state=42)\n",
    "\n",
    "metric='roc_auc'\n",
    "# Normality\n",
    "display(multi_norm_test(cv5, metric=metric))\n",
    "# Homocedasticity\n",
    "display(multi_homovar_test(cv5, metric=metric))\n",
    "\n",
    "cv5.loc[metric]"
   ]
  },
  {
   "cell_type": "code",
   "execution_count": 20,
   "metadata": {},
   "outputs": [
    {
     "data": {
      "image/png": "[encoded data removed]",
      "text/plain": [
       "<Figure size 1296x504 with 2 Axes>"
      ]
     },
     "metadata": {
      "needs_background": "light"
     },
     "output_type": "display_data"
    }
   ],
   "source": [
    "fig, ax = plt.subplots(1, 2, figsize=(18, 7))\n",
    "plot_roc_cv(lr, X, y, name='Log Reg', ax=ax[0], random_state=42)\n",
    "plot_roc_cv(xgb, X, y, name='XGB', ax=ax[1], random_state=42)\n",
    "plt.show()"
   ]
  },
  {
   "cell_type": "markdown",
   "metadata": {},
   "source": [
    "### 15 folds/reps"
   ]
  },
  {
   "cell_type": "code",
   "execution_count": 21,
   "metadata": {},
   "outputs": [
    {
     "name": "stdout",
     "output_type": "stream",
     "text": [
      "File saved: ./cachedir/test_cv15_cdk2\n"
     ]
    },
    {
     "data": {
      "text/html": [
       "<div>\n",
       "<style scoped>\n",
       "    .dataframe tbody tr th:only-of-type {\n",
       "        vertical-align: middle;\n",
       "    }\n",
       "\n",
       "    .dataframe tbody tr th {\n",
       "        vertical-align: top;\n",
       "    }\n",
       "\n",
       "    .dataframe thead th {\n",
       "        text-align: right;\n",
       "    }\n",
       "</style>\n",
       "<table border=\"1\" class=\"dataframe\">\n",
       "  <thead>\n",
       "    <tr style=\"text-align: right;\">\n",
       "      <th></th>\n",
       "      <th>ml_dclf</th>\n",
       "      <th>ml_knn</th>\n",
       "      <th>ml_lr</th>\n",
       "      <th>ml_xgb</th>\n",
       "      <th>ml_rf</th>\n",
       "      <th>cs_MEAN</th>\n",
       "      <th>cs_MAX</th>\n",
       "      <th>cs_MIN</th>\n",
       "      <th>cs_VOTE</th>\n",
       "      <th>cs_RANK</th>\n",
       "    </tr>\n",
       "  </thead>\n",
       "  <tbody>\n",
       "    <tr>\n",
       "      <th>Normality</th>\n",
       "      <td>0</td>\n",
       "      <td>1</td>\n",
       "      <td>1</td>\n",
       "      <td>0</td>\n",
       "      <td>1</td>\n",
       "      <td>1</td>\n",
       "      <td>1</td>\n",
       "      <td>1</td>\n",
       "      <td>1</td>\n",
       "      <td>1</td>\n",
       "    </tr>\n",
       "  </tbody>\n",
       "</table>\n",
       "</div>"
      ],
      "text/plain": [
       "           ml_dclf  ml_knn  ml_lr  ml_xgb  ml_rf  cs_MEAN  cs_MAX  cs_MIN  \\\n",
       "Normality        0       1      1       0      1        1       1       1   \n",
       "\n",
       "           cs_VOTE  cs_RANK  \n",
       "Normality        1        1  "
      ]
     },
     "metadata": {},
     "output_type": "display_data"
    },
    {
     "data": {
      "text/html": [
       "<div>\n",
       "<style scoped>\n",
       "    .dataframe tbody tr th:only-of-type {\n",
       "        vertical-align: middle;\n",
       "    }\n",
       "\n",
       "    .dataframe tbody tr th {\n",
       "        vertical-align: top;\n",
       "    }\n",
       "\n",
       "    .dataframe thead th {\n",
       "        text-align: right;\n",
       "    }\n",
       "</style>\n",
       "<table border=\"1\" class=\"dataframe\">\n",
       "  <thead>\n",
       "    <tr style=\"text-align: right;\">\n",
       "      <th></th>\n",
       "      <th>statistic</th>\n",
       "      <th>p</th>\n",
       "    </tr>\n",
       "  </thead>\n",
       "  <tbody>\n",
       "    <tr>\n",
       "      <th>Bartlett</th>\n",
       "      <td>35.548471</td>\n",
       "      <td>0.000048</td>\n",
       "    </tr>\n",
       "  </tbody>\n",
       "</table>\n",
       "</div>"
      ],
      "text/plain": [
       "          statistic         p\n",
       "Bartlett  35.548471  0.000048"
      ]
     },
     "metadata": {},
     "output_type": "display_data"
    },
    {
     "name": "stdout",
     "output_type": "stream",
     "text": [
      "CPU times: user 595 ms, sys: 110 ms, total: 704 ms\n",
      "Wall time: 454 ms\n"
     ]
    },
    {
     "data": {
      "image/png": "[encoded data removed]",
      "text/plain": [
       "<Figure size 864x432 with 1 Axes>"
      ]
     },
     "metadata": {},
     "output_type": "display_data"
    }
   ],
   "source": [
    "%%time\n",
    "cv15 = k_cross_validation_SAVE(\n",
    "    filename=f'./cachedir/test_cv15_cdk2',\n",
    "    estimators=estimators, X=X, y=y, metrics=metrics,  \n",
    "     n_splits=15, random_state=42)\n",
    "\n",
    "metric='roc_auc'\n",
    "plot_swarm_metrics(cv15, metric_name=metric)\n",
    "# Normality\n",
    "display(multi_norm_test(cv15, metric=metric))\n",
    "# Homocedasticity\n",
    "display(multi_homovar_test(cv15, metric=metric))"
   ]
  },
  {
   "cell_type": "markdown",
   "metadata": {},
   "source": [
    "## 5x2 CV\n",
    "\n",
    "#### AUC-ROC"
   ]
  },
  {
   "cell_type": "code",
   "execution_count": 22,
   "metadata": {
    "scrolled": false
   },
   "outputs": [
    {
     "name": "stdout",
     "output_type": "stream",
     "text": [
      "File saved: ./cachedir/test_cv5x2_cdk2\n"
     ]
    },
    {
     "data": {
      "text/html": [
       "<div>\n",
       "<style scoped>\n",
       "    .dataframe tbody tr th:only-of-type {\n",
       "        vertical-align: middle;\n",
       "    }\n",
       "\n",
       "    .dataframe tbody tr th {\n",
       "        vertical-align: top;\n",
       "    }\n",
       "\n",
       "    .dataframe thead th {\n",
       "        text-align: right;\n",
       "    }\n",
       "</style>\n",
       "<table border=\"1\" class=\"dataframe\">\n",
       "  <thead>\n",
       "    <tr style=\"text-align: right;\">\n",
       "      <th></th>\n",
       "      <th>ml_dclf</th>\n",
       "      <th>ml_knn</th>\n",
       "      <th>ml_lr</th>\n",
       "      <th>ml_xgb</th>\n",
       "      <th>ml_rf</th>\n",
       "      <th>cs_MEAN</th>\n",
       "      <th>cs_MAX</th>\n",
       "      <th>cs_MIN</th>\n",
       "      <th>cs_VOTE</th>\n",
       "      <th>cs_RANK</th>\n",
       "    </tr>\n",
       "  </thead>\n",
       "  <tbody>\n",
       "    <tr>\n",
       "      <th>Normality</th>\n",
       "      <td>0</td>\n",
       "      <td>1</td>\n",
       "      <td>1</td>\n",
       "      <td>1</td>\n",
       "      <td>1</td>\n",
       "      <td>1</td>\n",
       "      <td>1</td>\n",
       "      <td>1</td>\n",
       "      <td>1</td>\n",
       "      <td>1</td>\n",
       "    </tr>\n",
       "  </tbody>\n",
       "</table>\n",
       "</div>"
      ],
      "text/plain": [
       "           ml_dclf  ml_knn  ml_lr  ml_xgb  ml_rf  cs_MEAN  cs_MAX  cs_MIN  \\\n",
       "Normality        0       1      1       1      1        1       1       1   \n",
       "\n",
       "           cs_VOTE  cs_RANK  \n",
       "Normality        1        1  "
      ]
     },
     "metadata": {},
     "output_type": "display_data"
    },
    {
     "data": {
      "text/html": [
       "<div>\n",
       "<style scoped>\n",
       "    .dataframe tbody tr th:only-of-type {\n",
       "        vertical-align: middle;\n",
       "    }\n",
       "\n",
       "    .dataframe tbody tr th {\n",
       "        vertical-align: top;\n",
       "    }\n",
       "\n",
       "    .dataframe thead th {\n",
       "        text-align: right;\n",
       "    }\n",
       "</style>\n",
       "<table border=\"1\" class=\"dataframe\">\n",
       "  <thead>\n",
       "    <tr style=\"text-align: right;\">\n",
       "      <th></th>\n",
       "      <th>statistic</th>\n",
       "      <th>p</th>\n",
       "    </tr>\n",
       "  </thead>\n",
       "  <tbody>\n",
       "    <tr>\n",
       "      <th>Bartlett</th>\n",
       "      <td>16.860476</td>\n",
       "      <td>0.050946</td>\n",
       "    </tr>\n",
       "  </tbody>\n",
       "</table>\n",
       "</div>"
      ],
      "text/plain": [
       "          statistic         p\n",
       "Bartlett  16.860476  0.050946"
      ]
     },
     "metadata": {},
     "output_type": "display_data"
    },
    {
     "name": "stdout",
     "output_type": "stream",
     "text": [
      "CPU times: user 5min 5s, sys: 18.4 s, total: 5min 24s\n",
      "Wall time: 1min 13s\n"
     ]
    },
    {
     "data": {
      "image/png": "[encoded data removed]",
      "text/plain": [
       "<Figure size 864x432 with 1 Axes>"
      ]
     },
     "metadata": {},
     "output_type": "display_data"
    }
   ],
   "source": [
    "%%time\n",
    "cv5x2 = nk_rep_cross_validation_SAVE(\n",
    "    filename=f'./cachedir/test_cv5x2_cdk2',\n",
    "    estimators=estimators, X=X, y=y, metrics=metrics, \n",
    "    n_splits=2, n_repeats=5, random_state=42)\n",
    "\n",
    "metric='roc_auc'\n",
    "plot_swarm_metrics(cv5x2, metric_name=metric)\n",
    "# Normality\n",
    "display(multi_norm_test(cv5x2))\n",
    "# Homocedasticity\n",
    "display(multi_homovar_test(cv5x2))"
   ]
  },
  {
   "cell_type": "markdown",
   "metadata": {},
   "source": [
    "#### Enrichment Factor"
   ]
  },
  {
   "cell_type": "code",
   "execution_count": 23,
   "metadata": {
    "scrolled": false
   },
   "outputs": [
    {
     "data": {
      "text/html": [
       "<div>\n",
       "<style scoped>\n",
       "    .dataframe tbody tr th:only-of-type {\n",
       "        vertical-align: middle;\n",
       "    }\n",
       "\n",
       "    .dataframe tbody tr th {\n",
       "        vertical-align: top;\n",
       "    }\n",
       "\n",
       "    .dataframe thead th {\n",
       "        text-align: right;\n",
       "    }\n",
       "</style>\n",
       "<table border=\"1\" class=\"dataframe\">\n",
       "  <thead>\n",
       "    <tr style=\"text-align: right;\">\n",
       "      <th></th>\n",
       "      <th>ml_dclf</th>\n",
       "      <th>ml_knn</th>\n",
       "      <th>ml_lr</th>\n",
       "      <th>ml_xgb</th>\n",
       "      <th>ml_rf</th>\n",
       "      <th>cs_MEAN</th>\n",
       "      <th>cs_MAX</th>\n",
       "      <th>cs_MIN</th>\n",
       "      <th>cs_VOTE</th>\n",
       "      <th>cs_RANK</th>\n",
       "    </tr>\n",
       "  </thead>\n",
       "  <tbody>\n",
       "    <tr>\n",
       "      <th>Normality</th>\n",
       "      <td>0</td>\n",
       "      <td>1</td>\n",
       "      <td>1</td>\n",
       "      <td>1</td>\n",
       "      <td>1</td>\n",
       "      <td>1</td>\n",
       "      <td>1</td>\n",
       "      <td>1</td>\n",
       "      <td>1</td>\n",
       "      <td>1</td>\n",
       "    </tr>\n",
       "  </tbody>\n",
       "</table>\n",
       "</div>"
      ],
      "text/plain": [
       "           ml_dclf  ml_knn  ml_lr  ml_xgb  ml_rf  cs_MEAN  cs_MAX  cs_MIN  \\\n",
       "Normality        0       1      1       1      1        1       1       1   \n",
       "\n",
       "           cs_VOTE  cs_RANK  \n",
       "Normality        1        1  "
      ]
     },
     "metadata": {},
     "output_type": "display_data"
    },
    {
     "data": {
      "text/html": [
       "<div>\n",
       "<style scoped>\n",
       "    .dataframe tbody tr th:only-of-type {\n",
       "        vertical-align: middle;\n",
       "    }\n",
       "\n",
       "    .dataframe tbody tr th {\n",
       "        vertical-align: top;\n",
       "    }\n",
       "\n",
       "    .dataframe thead th {\n",
       "        text-align: right;\n",
       "    }\n",
       "</style>\n",
       "<table border=\"1\" class=\"dataframe\">\n",
       "  <thead>\n",
       "    <tr style=\"text-align: right;\">\n",
       "      <th></th>\n",
       "      <th>statistic</th>\n",
       "      <th>p</th>\n",
       "    </tr>\n",
       "  </thead>\n",
       "  <tbody>\n",
       "    <tr>\n",
       "      <th>Bartlett</th>\n",
       "      <td>60.517488</td>\n",
       "      <td>1.065501e-09</td>\n",
       "    </tr>\n",
       "  </tbody>\n",
       "</table>\n",
       "</div>"
      ],
      "text/plain": [
       "          statistic             p\n",
       "Bartlett  60.517488  1.065501e-09"
      ]
     },
     "metadata": {},
     "output_type": "display_data"
    },
    {
     "name": "stdout",
     "output_type": "stream",
     "text": [
      "CPU times: user 602 ms, sys: 116 ms, total: 718 ms\n",
      "Wall time: 492 ms\n"
     ]
    },
    {
     "data": {
      "image/png": "[encoded data removed]",
      "text/plain": [
       "<Figure size 864x432 with 1 Axes>"
      ]
     },
     "metadata": {},
     "output_type": "display_data"
    }
   ],
   "source": [
    "%%time\n",
    "# cv5x2 = nk_rep_cross_validation(estimators, X, y, metrics=metrics, \n",
    "#                       n_splits=2, n_repeats=5, random_state=42)\n",
    "\n",
    "metric='nef_12_Ra'\n",
    "plot_swarm_metrics(cv5x2, metric_name=metric)\n",
    "# Normality\n",
    "display(multi_norm_test(cv5x2, metric=metric))\n",
    "# Homocedasticity\n",
    "display(multi_homovar_test(cv5x2, metric=metric))"
   ]
  },
  {
   "cell_type": "code",
   "execution_count": 43,
   "metadata": {
    "scrolled": false
   },
   "outputs": [
    {
     "data": {
      "text/html": [
       "<div>\n",
       "<style scoped>\n",
       "    .dataframe tbody tr th:only-of-type {\n",
       "        vertical-align: middle;\n",
       "    }\n",
       "\n",
       "    .dataframe tbody tr th {\n",
       "        vertical-align: top;\n",
       "    }\n",
       "\n",
       "    .dataframe thead th {\n",
       "        text-align: right;\n",
       "    }\n",
       "</style>\n",
       "<table border=\"1\" class=\"dataframe\">\n",
       "  <thead>\n",
       "    <tr style=\"text-align: right;\">\n",
       "      <th></th>\n",
       "      <th>ml_dclf</th>\n",
       "      <th>ml_knn</th>\n",
       "      <th>ml_lr</th>\n",
       "      <th>ml_xgb</th>\n",
       "      <th>ml_rf</th>\n",
       "      <th>cs_MEAN</th>\n",
       "      <th>cs_MAX</th>\n",
       "      <th>cs_MIN</th>\n",
       "      <th>cs_VOTE</th>\n",
       "      <th>cs_RANK</th>\n",
       "    </tr>\n",
       "  </thead>\n",
       "  <tbody>\n",
       "    <tr>\n",
       "      <th>Normality</th>\n",
       "      <td>0</td>\n",
       "      <td>0</td>\n",
       "      <td>1</td>\n",
       "      <td>1</td>\n",
       "      <td>1</td>\n",
       "      <td>1</td>\n",
       "      <td>1</td>\n",
       "      <td>1</td>\n",
       "      <td>1</td>\n",
       "      <td>1</td>\n",
       "    </tr>\n",
       "  </tbody>\n",
       "</table>\n",
       "</div>"
      ],
      "text/plain": [
       "           ml_dclf  ml_knn  ml_lr  ml_xgb  ml_rf  cs_MEAN  cs_MAX  cs_MIN  \\\n",
       "Normality        0       0      1       1      1        1       1       1   \n",
       "\n",
       "           cs_VOTE  cs_RANK  \n",
       "Normality        1        1  "
      ]
     },
     "metadata": {},
     "output_type": "display_data"
    },
    {
     "data": {
      "text/html": [
       "<div>\n",
       "<style scoped>\n",
       "    .dataframe tbody tr th:only-of-type {\n",
       "        vertical-align: middle;\n",
       "    }\n",
       "\n",
       "    .dataframe tbody tr th {\n",
       "        vertical-align: top;\n",
       "    }\n",
       "\n",
       "    .dataframe thead th {\n",
       "        text-align: right;\n",
       "    }\n",
       "</style>\n",
       "<table border=\"1\" class=\"dataframe\">\n",
       "  <thead>\n",
       "    <tr style=\"text-align: right;\">\n",
       "      <th></th>\n",
       "      <th>statistic</th>\n",
       "      <th>p</th>\n",
       "    </tr>\n",
       "  </thead>\n",
       "  <tbody>\n",
       "    <tr>\n",
       "      <th>Bartlett</th>\n",
       "      <td>10.62452</td>\n",
       "      <td>0.302326</td>\n",
       "    </tr>\n",
       "  </tbody>\n",
       "</table>\n",
       "</div>"
      ],
      "text/plain": [
       "          statistic         p\n",
       "Bartlett   10.62452  0.302326"
      ]
     },
     "metadata": {},
     "output_type": "display_data"
    },
    {
     "name": "stdout",
     "output_type": "stream",
     "text": [
      "CPU times: user 481 ms, sys: 108 ms, total: 590 ms\n",
      "Wall time: 362 ms\n"
     ]
    },
    {
     "data": {
      "image/png": "[encoded data removed]",
      "text/plain": [
       "<Figure size 864x432 with 1 Axes>"
      ]
     },
     "metadata": {},
     "output_type": "display_data"
    }
   ],
   "source": [
    "%%time\n",
    "# cv5x2 = nk_rep_cross_validation(estimators, X, y, metrics=metrics, \n",
    "#                       n_splits=2, n_repeats=5, random_state=42)\n",
    "\n",
    "metric='nef_02'\n",
    "plot_swarm_metrics(cv5x2, metric_name=metric)\n",
    "# Normality\n",
    "display(multi_norm_test(cv5x2, metric=metric))\n",
    "# Homocedasticity\n",
    "display(multi_homovar_test(cv5x2, metric=metric))"
   ]
  },
  {
   "cell_type": "markdown",
   "metadata": {},
   "source": [
    "## Hold-out validation"
   ]
  },
  {
   "cell_type": "markdown",
   "metadata": {},
   "source": [
    "### 5 folds/reps"
   ]
  },
  {
   "cell_type": "code",
   "execution_count": 24,
   "metadata": {},
   "outputs": [
    {
     "name": "stdout",
     "output_type": "stream",
     "text": [
      "File saved: ./cachedir/test_ho5_cdk2\n"
     ]
    },
    {
     "data": {
      "text/html": [
       "<div>\n",
       "<style scoped>\n",
       "    .dataframe tbody tr th:only-of-type {\n",
       "        vertical-align: middle;\n",
       "    }\n",
       "\n",
       "    .dataframe tbody tr th {\n",
       "        vertical-align: top;\n",
       "    }\n",
       "\n",
       "    .dataframe thead th {\n",
       "        text-align: right;\n",
       "    }\n",
       "</style>\n",
       "<table border=\"1\" class=\"dataframe\">\n",
       "  <thead>\n",
       "    <tr style=\"text-align: right;\">\n",
       "      <th></th>\n",
       "      <th>ml_dclf</th>\n",
       "      <th>ml_knn</th>\n",
       "      <th>ml_lr</th>\n",
       "      <th>ml_xgb</th>\n",
       "      <th>ml_rf</th>\n",
       "      <th>cs_MEAN</th>\n",
       "      <th>cs_MAX</th>\n",
       "      <th>cs_MIN</th>\n",
       "      <th>cs_VOTE</th>\n",
       "      <th>cs_RANK</th>\n",
       "    </tr>\n",
       "  </thead>\n",
       "  <tbody>\n",
       "    <tr>\n",
       "      <th>Normality</th>\n",
       "      <td>1</td>\n",
       "      <td>0</td>\n",
       "      <td>1</td>\n",
       "      <td>1</td>\n",
       "      <td>1</td>\n",
       "      <td>1</td>\n",
       "      <td>1</td>\n",
       "      <td>1</td>\n",
       "      <td>1</td>\n",
       "      <td>1</td>\n",
       "    </tr>\n",
       "  </tbody>\n",
       "</table>\n",
       "</div>"
      ],
      "text/plain": [
       "           ml_dclf  ml_knn  ml_lr  ml_xgb  ml_rf  cs_MEAN  cs_MAX  cs_MIN  \\\n",
       "Normality        1       0      1       1      1        1       1       1   \n",
       "\n",
       "           cs_VOTE  cs_RANK  \n",
       "Normality        1        1  "
      ]
     },
     "metadata": {},
     "output_type": "display_data"
    },
    {
     "data": {
      "text/html": [
       "<div>\n",
       "<style scoped>\n",
       "    .dataframe tbody tr th:only-of-type {\n",
       "        vertical-align: middle;\n",
       "    }\n",
       "\n",
       "    .dataframe tbody tr th {\n",
       "        vertical-align: top;\n",
       "    }\n",
       "\n",
       "    .dataframe thead th {\n",
       "        text-align: right;\n",
       "    }\n",
       "</style>\n",
       "<table border=\"1\" class=\"dataframe\">\n",
       "  <thead>\n",
       "    <tr style=\"text-align: right;\">\n",
       "      <th></th>\n",
       "      <th>statistic</th>\n",
       "      <th>p</th>\n",
       "    </tr>\n",
       "  </thead>\n",
       "  <tbody>\n",
       "    <tr>\n",
       "      <th>Bartlett</th>\n",
       "      <td>8.068439</td>\n",
       "      <td>0.527264</td>\n",
       "    </tr>\n",
       "  </tbody>\n",
       "</table>\n",
       "</div>"
      ],
      "text/plain": [
       "          statistic         p\n",
       "Bartlett   8.068439  0.527264"
      ]
     },
     "metadata": {},
     "output_type": "display_data"
    },
    {
     "name": "stdout",
     "output_type": "stream",
     "text": [
      "CPU times: user 4min 49s, sys: 22.3 s, total: 5min 12s\n",
      "Wall time: 1min 2s\n"
     ]
    }
   ],
   "source": [
    "%%time\n",
    "ho5 = n_hold_out_validation_SAVE(\n",
    "    filename=f'./cachedir/test_ho5_cdk2',\n",
    "    estimators=estimators, X=X, y=y, metrics=metrics, \n",
    "      n_reps=5, random_state=42)\n",
    "\n",
    "metric='roc_auc'\n",
    "# Normality\n",
    "display(multi_norm_test(ho5, metric=metric))\n",
    "# Homocedasticity\n",
    "display(multi_homovar_test(ho5, metric=metric))"
   ]
  },
  {
   "cell_type": "markdown",
   "metadata": {},
   "source": [
    "### 15 folds/reps"
   ]
  },
  {
   "cell_type": "code",
   "execution_count": 25,
   "metadata": {},
   "outputs": [
    {
     "name": "stderr",
     "output_type": "stream",
     "text": [
      "/home/ricci/miniconda3/envs/mds/lib/python3.7/site-packages/sklearn/linear_model/_logistic.py:764: ConvergenceWarning: lbfgs failed to converge (status=1):\n",
      "STOP: TOTAL NO. of ITERATIONS REACHED LIMIT.\n",
      "\n",
      "Increase the number of iterations (max_iter) or scale the data as shown in:\n",
      "    https://scikit-learn.org/stable/modules/preprocessing.html\n",
      "Please also refer to the documentation for alternative solver options:\n",
      "    https://scikit-learn.org/stable/modules/linear_model.html#logistic-regression\n",
      "  extra_warning_msg=_LOGISTIC_SOLVER_CONVERGENCE_MSG)\n"
     ]
    },
    {
     "name": "stdout",
     "output_type": "stream",
     "text": [
      "File saved: ./cachedir/test_ho15_cdk2\n"
     ]
    },
    {
     "data": {
      "text/html": [
       "<div>\n",
       "<style scoped>\n",
       "    .dataframe tbody tr th:only-of-type {\n",
       "        vertical-align: middle;\n",
       "    }\n",
       "\n",
       "    .dataframe tbody tr th {\n",
       "        vertical-align: top;\n",
       "    }\n",
       "\n",
       "    .dataframe thead th {\n",
       "        text-align: right;\n",
       "    }\n",
       "</style>\n",
       "<table border=\"1\" class=\"dataframe\">\n",
       "  <thead>\n",
       "    <tr style=\"text-align: right;\">\n",
       "      <th></th>\n",
       "      <th>ml_dclf</th>\n",
       "      <th>ml_knn</th>\n",
       "      <th>ml_lr</th>\n",
       "      <th>ml_xgb</th>\n",
       "      <th>ml_rf</th>\n",
       "      <th>cs_MEAN</th>\n",
       "      <th>cs_MAX</th>\n",
       "      <th>cs_MIN</th>\n",
       "      <th>cs_VOTE</th>\n",
       "      <th>cs_RANK</th>\n",
       "    </tr>\n",
       "  </thead>\n",
       "  <tbody>\n",
       "    <tr>\n",
       "      <th>Normality</th>\n",
       "      <td>1</td>\n",
       "      <td>1</td>\n",
       "      <td>1</td>\n",
       "      <td>1</td>\n",
       "      <td>1</td>\n",
       "      <td>1</td>\n",
       "      <td>1</td>\n",
       "      <td>1</td>\n",
       "      <td>1</td>\n",
       "      <td>1</td>\n",
       "    </tr>\n",
       "  </tbody>\n",
       "</table>\n",
       "</div>"
      ],
      "text/plain": [
       "           ml_dclf  ml_knn  ml_lr  ml_xgb  ml_rf  cs_MEAN  cs_MAX  cs_MIN  \\\n",
       "Normality        1       1      1       1      1        1       1       1   \n",
       "\n",
       "           cs_VOTE  cs_RANK  \n",
       "Normality        1        1  "
      ]
     },
     "metadata": {},
     "output_type": "display_data"
    },
    {
     "data": {
      "text/html": [
       "<div>\n",
       "<style scoped>\n",
       "    .dataframe tbody tr th:only-of-type {\n",
       "        vertical-align: middle;\n",
       "    }\n",
       "\n",
       "    .dataframe tbody tr th {\n",
       "        vertical-align: top;\n",
       "    }\n",
       "\n",
       "    .dataframe thead th {\n",
       "        text-align: right;\n",
       "    }\n",
       "</style>\n",
       "<table border=\"1\" class=\"dataframe\">\n",
       "  <thead>\n",
       "    <tr style=\"text-align: right;\">\n",
       "      <th></th>\n",
       "      <th>statistic</th>\n",
       "      <th>p</th>\n",
       "    </tr>\n",
       "  </thead>\n",
       "  <tbody>\n",
       "    <tr>\n",
       "      <th>Bartlett</th>\n",
       "      <td>33.114001</td>\n",
       "      <td>0.000128</td>\n",
       "    </tr>\n",
       "  </tbody>\n",
       "</table>\n",
       "</div>"
      ],
      "text/plain": [
       "          statistic         p\n",
       "Bartlett  33.114001  0.000128"
      ]
     },
     "metadata": {},
     "output_type": "display_data"
    },
    {
     "name": "stdout",
     "output_type": "stream",
     "text": [
      "CPU times: user 9min 9s, sys: 1min 9s, total: 10min 18s\n",
      "Wall time: 2min 12s\n"
     ]
    },
    {
     "data": {
      "image/png": "[encoded data removed]",
      "text/plain": [
       "<Figure size 864x432 with 1 Axes>"
      ]
     },
     "metadata": {},
     "output_type": "display_data"
    }
   ],
   "source": [
    "%%time\n",
    "ho15 = n_hold_out_validation_SAVE(\n",
    "    filename=f'./cachedir/test_ho15_cdk2',\n",
    "    estimators=estimators, X=X, y=y, metrics=metrics, \n",
    "    n_reps=15, random_state=42)\n",
    "\n",
    "metric='roc_auc'\n",
    "plot_swarm_metrics(ho15, metric_name=metric)\n",
    "# Normality\n",
    "display(multi_norm_test(ho15, metric=metric))\n",
    "# Homocedasticity\n",
    "display(multi_homovar_test(ho15, metric=metric))"
   ]
  },
  {
   "cell_type": "markdown",
   "metadata": {},
   "source": [
    "### 30 folds/reps"
   ]
  },
  {
   "cell_type": "code",
   "execution_count": 26,
   "metadata": {},
   "outputs": [
    {
     "name": "stderr",
     "output_type": "stream",
     "text": [
      "/home/ricci/miniconda3/envs/mds/lib/python3.7/site-packages/sklearn/linear_model/_logistic.py:764: ConvergenceWarning: lbfgs failed to converge (status=1):\n",
      "STOP: TOTAL NO. of ITERATIONS REACHED LIMIT.\n",
      "\n",
      "Increase the number of iterations (max_iter) or scale the data as shown in:\n",
      "    https://scikit-learn.org/stable/modules/preprocessing.html\n",
      "Please also refer to the documentation for alternative solver options:\n",
      "    https://scikit-learn.org/stable/modules/linear_model.html#logistic-regression\n",
      "  extra_warning_msg=_LOGISTIC_SOLVER_CONVERGENCE_MSG)\n"
     ]
    },
    {
     "name": "stdout",
     "output_type": "stream",
     "text": [
      "File saved: ./cachedir/test_ho30_cdk2\n"
     ]
    },
    {
     "data": {
      "text/html": [
       "<div>\n",
       "<style scoped>\n",
       "    .dataframe tbody tr th:only-of-type {\n",
       "        vertical-align: middle;\n",
       "    }\n",
       "\n",
       "    .dataframe tbody tr th {\n",
       "        vertical-align: top;\n",
       "    }\n",
       "\n",
       "    .dataframe thead th {\n",
       "        text-align: right;\n",
       "    }\n",
       "</style>\n",
       "<table border=\"1\" class=\"dataframe\">\n",
       "  <thead>\n",
       "    <tr style=\"text-align: right;\">\n",
       "      <th></th>\n",
       "      <th>ml_dclf</th>\n",
       "      <th>ml_knn</th>\n",
       "      <th>ml_lr</th>\n",
       "      <th>ml_xgb</th>\n",
       "      <th>ml_rf</th>\n",
       "      <th>cs_MEAN</th>\n",
       "      <th>cs_MAX</th>\n",
       "      <th>cs_MIN</th>\n",
       "      <th>cs_VOTE</th>\n",
       "      <th>cs_RANK</th>\n",
       "    </tr>\n",
       "  </thead>\n",
       "  <tbody>\n",
       "    <tr>\n",
       "      <th>Normality</th>\n",
       "      <td>1</td>\n",
       "      <td>1</td>\n",
       "      <td>1</td>\n",
       "      <td>1</td>\n",
       "      <td>1</td>\n",
       "      <td>1</td>\n",
       "      <td>1</td>\n",
       "      <td>1</td>\n",
       "      <td>1</td>\n",
       "      <td>1</td>\n",
       "    </tr>\n",
       "  </tbody>\n",
       "</table>\n",
       "</div>"
      ],
      "text/plain": [
       "           ml_dclf  ml_knn  ml_lr  ml_xgb  ml_rf  cs_MEAN  cs_MAX  cs_MIN  \\\n",
       "Normality        1       1      1       1      1        1       1       1   \n",
       "\n",
       "           cs_VOTE  cs_RANK  \n",
       "Normality        1        1  "
      ]
     },
     "metadata": {},
     "output_type": "display_data"
    },
    {
     "data": {
      "text/html": [
       "<div>\n",
       "<style scoped>\n",
       "    .dataframe tbody tr th:only-of-type {\n",
       "        vertical-align: middle;\n",
       "    }\n",
       "\n",
       "    .dataframe tbody tr th {\n",
       "        vertical-align: top;\n",
       "    }\n",
       "\n",
       "    .dataframe thead th {\n",
       "        text-align: right;\n",
       "    }\n",
       "</style>\n",
       "<table border=\"1\" class=\"dataframe\">\n",
       "  <thead>\n",
       "    <tr style=\"text-align: right;\">\n",
       "      <th></th>\n",
       "      <th>statistic</th>\n",
       "      <th>p</th>\n",
       "    </tr>\n",
       "  </thead>\n",
       "  <tbody>\n",
       "    <tr>\n",
       "      <th>Bartlett</th>\n",
       "      <td>50.384497</td>\n",
       "      <td>9.119564e-08</td>\n",
       "    </tr>\n",
       "  </tbody>\n",
       "</table>\n",
       "</div>"
      ],
      "text/plain": [
       "          statistic             p\n",
       "Bartlett  50.384497  9.119564e-08"
      ]
     },
     "metadata": {},
     "output_type": "display_data"
    },
    {
     "name": "stdout",
     "output_type": "stream",
     "text": [
      "CPU times: user 17min 1s, sys: 1min 22s, total: 18min 23s\n",
      "Wall time: 3min 51s\n"
     ]
    },
    {
     "data": {
      "image/png": "[encoded data removed]",
      "text/plain": [
       "<Figure size 864x432 with 1 Axes>"
      ]
     },
     "metadata": {},
     "output_type": "display_data"
    }
   ],
   "source": [
    "%%time\n",
    "ho30 = n_hold_out_validation_SAVE(\n",
    "    filename=f'./cachedir/test_ho30_cdk2',\n",
    "    estimators=estimators, X=X, y=y, metrics=metrics, \n",
    "    n_reps=30, random_state=42)\n",
    "\n",
    "metric='roc_auc'\n",
    "plot_swarm_metrics(ho30, metric_name=metric)\n",
    "# Normality\n",
    "display(multi_norm_test(ho30, metric=metric))\n",
    "# Homocedasticity\n",
    "display(multi_homovar_test(ho30, metric=metric))"
   ]
  },
  {
   "cell_type": "markdown",
   "metadata": {},
   "source": [
    "#### R version example"
   ]
  },
  {
   "cell_type": "code",
   "execution_count": 27,
   "metadata": {
    "scrolled": true
   },
   "outputs": [],
   "source": [
    "%load_ext rpy2.ipython\n",
    "\n",
    "ho30_roc_auc = ho30.loc['roc_auc', :]"
   ]
  },
  {
   "cell_type": "code",
   "execution_count": 28,
   "metadata": {},
   "outputs": [
    {
     "name": "stderr",
     "output_type": "stream",
     "text": [
      "R[write to console]: \n",
      "Attaching package: ‘dplyr’\n",
      "\n",
      "\n",
      "R[write to console]: The following objects are masked from ‘package:stats’:\n",
      "\n",
      "    filter, lag\n",
      "\n",
      "\n",
      "R[write to console]: The following objects are masked from ‘package:base’:\n",
      "\n",
      "    intersect, setdiff, setequal, union\n",
      "\n",
      "\n",
      "R[write to console]: Error in withVisible({ : objeto 'ho15_roc_auc' no encontrado\n",
      "\n",
      "R[write to console]: Además: \n",
      "R[write to console]: Warning message:\n",
      "\n",
      "R[write to console]: In (function (package, help, pos = 2, lib.loc = NULL, character.only = FALSE,  :\n",
      "R[write to console]: \n",
      " \n",
      "R[write to console]:  library ‘/usr/local/lib/R/site-library’ contains no packages\n",
      "\n"
     ]
    },
    {
     "name": "stdout",
     "output_type": "stream",
     "text": [
      "\n",
      "Error in withVisible({ : objeto 'ho15_roc_auc' no encontrado\n"
     ]
    }
   ],
   "source": [
    "%%R -i  ho30_roc_auc\n",
    "library(dplyr)\n",
    "library(tidyr)\n",
    "library(broom)\n",
    "\n",
    "df = ho15_roc_auc\n",
    "bartlett <- df %>%\n",
    "    pivot_longer(cols=everything(), names_to='Method', \n",
    "                 values_to='score') %>%\n",
    "    bartlett.test(formula=score~Method, data=.)\n",
    "\n",
    "shapiro <- df %>%\n",
    "    pivot_longer(cols=everything(), names_to='Method', \n",
    "                 values_to='score') %>%\n",
    "    group_by(Method) %>%\n",
    "    do(tidy(shapiro.test(.$score))) %>%\n",
    "    mutate(H0 = case_when(p.value < 0.05 ~ 'Rejected', TRUE ~ 'Accepted'))\n",
    "\n",
    "print(shapiro)\n",
    "print(bartlett)"
   ]
  },
  {
   "cell_type": "markdown",
   "metadata": {},
   "source": [
    "#### Enrichment Factor"
   ]
  },
  {
   "cell_type": "code",
   "execution_count": 29,
   "metadata": {},
   "outputs": [
    {
     "data": {
      "text/html": [
       "<div>\n",
       "<style scoped>\n",
       "    .dataframe tbody tr th:only-of-type {\n",
       "        vertical-align: middle;\n",
       "    }\n",
       "\n",
       "    .dataframe tbody tr th {\n",
       "        vertical-align: top;\n",
       "    }\n",
       "\n",
       "    .dataframe thead th {\n",
       "        text-align: right;\n",
       "    }\n",
       "</style>\n",
       "<table border=\"1\" class=\"dataframe\">\n",
       "  <thead>\n",
       "    <tr style=\"text-align: right;\">\n",
       "      <th></th>\n",
       "      <th>ml_dclf</th>\n",
       "      <th>ml_knn</th>\n",
       "      <th>ml_lr</th>\n",
       "      <th>ml_xgb</th>\n",
       "      <th>ml_rf</th>\n",
       "      <th>cs_MEAN</th>\n",
       "      <th>cs_MAX</th>\n",
       "      <th>cs_MIN</th>\n",
       "      <th>cs_VOTE</th>\n",
       "      <th>cs_RANK</th>\n",
       "    </tr>\n",
       "  </thead>\n",
       "  <tbody>\n",
       "    <tr>\n",
       "      <th>Normality</th>\n",
       "      <td>1</td>\n",
       "      <td>0</td>\n",
       "      <td>1</td>\n",
       "      <td>1</td>\n",
       "      <td>1</td>\n",
       "      <td>1</td>\n",
       "      <td>1</td>\n",
       "      <td>1</td>\n",
       "      <td>1</td>\n",
       "      <td>1</td>\n",
       "    </tr>\n",
       "  </tbody>\n",
       "</table>\n",
       "</div>"
      ],
      "text/plain": [
       "           ml_dclf  ml_knn  ml_lr  ml_xgb  ml_rf  cs_MEAN  cs_MAX  cs_MIN  \\\n",
       "Normality        1       0      1       1      1        1       1       1   \n",
       "\n",
       "           cs_VOTE  cs_RANK  \n",
       "Normality        1        1  "
      ]
     },
     "metadata": {},
     "output_type": "display_data"
    },
    {
     "data": {
      "text/html": [
       "<div>\n",
       "<style scoped>\n",
       "    .dataframe tbody tr th:only-of-type {\n",
       "        vertical-align: middle;\n",
       "    }\n",
       "\n",
       "    .dataframe tbody tr th {\n",
       "        vertical-align: top;\n",
       "    }\n",
       "\n",
       "    .dataframe thead th {\n",
       "        text-align: right;\n",
       "    }\n",
       "</style>\n",
       "<table border=\"1\" class=\"dataframe\">\n",
       "  <thead>\n",
       "    <tr style=\"text-align: right;\">\n",
       "      <th></th>\n",
       "      <th>statistic</th>\n",
       "      <th>p</th>\n",
       "    </tr>\n",
       "  </thead>\n",
       "  <tbody>\n",
       "    <tr>\n",
       "      <th>Bartlett</th>\n",
       "      <td>4.186318</td>\n",
       "      <td>0.898727</td>\n",
       "    </tr>\n",
       "  </tbody>\n",
       "</table>\n",
       "</div>"
      ],
      "text/plain": [
       "          statistic         p\n",
       "Bartlett   4.186318  0.898727"
      ]
     },
     "metadata": {},
     "output_type": "display_data"
    },
    {
     "name": "stdout",
     "output_type": "stream",
     "text": [
      "CPU times: user 708 ms, sys: 450 ms, total: 1.16 s\n",
      "Wall time: 438 ms\n"
     ]
    },
    {
     "data": {
      "image/png": "[encoded data removed]",
      "text/plain": [
       "<Figure size 864x432 with 1 Axes>"
      ]
     },
     "metadata": {},
     "output_type": "display_data"
    }
   ],
   "source": [
    "%%time\n",
    "# ho15 = n_hold_out_validation(estimators, X, y, metrics=metrics, \n",
    "#                       n_reps=15, random_state=42)\n",
    "\n",
    "metric='nef_12_Ra'\n",
    "plot_swarm_metrics(ho30, metric_name=metric)\n",
    "# Normality\n",
    "display(multi_norm_test(ho30, metric=metric))\n",
    "# Homocedasticity\n",
    "display(multi_homovar_test(ho30, metric=metric))"
   ]
  },
  {
   "cell_type": "markdown",
   "metadata": {},
   "source": [
    "## Multiple samples comparison\n",
    "\n",
    "- one-way ANOVA with repeated measures\n",
    "- Friedman's ANOVA\n",
    "- Cochran's Q test\n",
    "- Binomial $\\chi^2$ with Bonferroni correction"
   ]
  },
  {
   "cell_type": "markdown",
   "metadata": {},
   "source": [
    "### one-way ANOVA with repeated measures\n",
    "\n",
    "$H_0$: $\\mu_1 = \\mu_2 = ... = \\mu_m$   \n",
    "$H_a$: $\\mu_i \\neq \\mu_j$, for at least one pair $i,j$ of the methods.\n",
    "\n",
    "##### post hoc Tucket HSD\n",
    "$H_0$: $\\mu_i = \\mu_j, \\forall i \\neq j$   \n",
    "$H_a$: $\\mu_i \\neq \\mu_j,  \\forall i \\neq j$\n"
   ]
  },
  {
   "cell_type": "markdown",
   "metadata": {},
   "source": [
    "#### Python"
   ]
  },
  {
   "cell_type": "code",
   "execution_count": 30,
   "metadata": {},
   "outputs": [],
   "source": [
    "import statsmodels\n",
    "from statsmodels.stats.anova import AnovaRM\n",
    "from statsmodels import stats\n",
    "from statsmodels.stats.multicomp import pairwise_tukeyhsd\n",
    "from scipy.stats import f_oneway"
   ]
  },
  {
   "cell_type": "code",
   "execution_count": 31,
   "metadata": {},
   "outputs": [
    {
     "name": "stdout",
     "output_type": "stream",
     "text": [
      "               Anova\n",
      "====================================\n",
      "     F Value  Num DF  Den DF  Pr > F\n",
      "------------------------------------\n",
      "clf 1692.7993 8.0000 232.0000 0.0000\n",
      "====================================\n",
      "\n",
      " Multiple Comparison of Means - Tukey HSD, FWER=0.25  \n",
      "======================================================\n",
      " group1  group2 meandiff p-adj   lower   upper  reject\n",
      "------------------------------------------------------\n",
      " cs_MAX cs_MEAN   -0.009    0.9 -0.0251  0.0072  False\n",
      " cs_MAX  cs_MIN   -0.084  0.001 -0.1001 -0.0679   True\n",
      " cs_MAX cs_RANK  -0.0108 0.7397  -0.027  0.0053  False\n",
      " cs_MAX cs_VOTE  -0.0122  0.615 -0.0283  0.0039  False\n",
      " cs_MAX  ml_knn   0.1477  0.001  0.1316  0.1639   True\n",
      " cs_MAX   ml_lr   0.2457  0.001  0.2295  0.2618   True\n",
      " cs_MAX   ml_rf   0.2079  0.001  0.1918   0.224   True\n",
      " cs_MAX  ml_xgb   0.2607  0.001  0.2446  0.2768   True\n",
      "cs_MEAN  cs_MIN  -0.0751  0.001 -0.0912 -0.0589   True\n",
      "cs_MEAN cs_RANK  -0.0019    0.9  -0.018  0.0142  False\n",
      "cs_MEAN cs_VOTE  -0.0032    0.9 -0.0194  0.0129  False\n",
      "cs_MEAN  ml_knn   0.1567  0.001  0.1406  0.1728   True\n",
      "cs_MEAN   ml_lr   0.2546  0.001  0.2385  0.2707   True\n",
      "cs_MEAN   ml_rf   0.2168  0.001  0.2007   0.233   True\n",
      "cs_MEAN  ml_xgb   0.2697  0.001  0.2536  0.2858   True\n",
      " cs_MIN cs_RANK   0.0732  0.001  0.0571  0.0893   True\n",
      " cs_MIN cs_VOTE   0.0718  0.001  0.0557  0.0879   True\n",
      " cs_MIN  ml_knn   0.2318  0.001  0.2156  0.2479   True\n",
      " cs_MIN   ml_lr   0.3297  0.001  0.3136  0.3458   True\n",
      " cs_MIN   ml_rf   0.2919  0.001  0.2758   0.308   True\n",
      " cs_MIN  ml_xgb   0.3447  0.001  0.3286  0.3608   True\n",
      "cs_RANK cs_VOTE  -0.0014    0.9 -0.0175  0.0148  False\n",
      "cs_RANK  ml_knn   0.1586  0.001  0.1425  0.1747   True\n",
      "cs_RANK   ml_lr   0.2565  0.001  0.2404  0.2726   True\n",
      "cs_RANK   ml_rf   0.2187  0.001  0.2026  0.2349   True\n",
      "cs_RANK  ml_xgb   0.2716  0.001  0.2554  0.2877   True\n",
      "cs_VOTE  ml_knn   0.1599  0.001  0.1438  0.1761   True\n",
      "cs_VOTE   ml_lr   0.2579  0.001  0.2417   0.274   True\n",
      "cs_VOTE   ml_rf   0.2201  0.001   0.204  0.2362   True\n",
      "cs_VOTE  ml_xgb   0.2729  0.001  0.2568   0.289   True\n",
      " ml_knn   ml_lr   0.0979  0.001  0.0818   0.114   True\n",
      " ml_knn   ml_rf   0.0601  0.001   0.044  0.0763   True\n",
      " ml_knn  ml_xgb    0.113  0.001  0.0969  0.1291   True\n",
      "  ml_lr   ml_rf  -0.0378  0.001 -0.0539 -0.0217   True\n",
      "  ml_lr  ml_xgb   0.0151   0.34 -0.0011  0.0312  False\n",
      "  ml_rf  ml_xgb   0.0528  0.001  0.0367  0.0689   True\n",
      "------------------------------------------------------\n"
     ]
    }
   ],
   "source": [
    "df = ho30.loc['roc_auc'].drop('ml_dclf', axis=1)\n",
    "\n",
    "n, m = df.shape\n",
    "\n",
    "df2 =df.copy()\n",
    "df2['rep'] = np.arange(1, n + 1)\n",
    "f = pd.melt(df2, id_vars='rep', var_name='clf', value_name='score')\n",
    "\n",
    "print(AnovaRM(data=f, depvar='score', subject='rep', within=['clf'], aggregate_func='mean').fit())\n",
    "\n",
    "print(pairwise_tukeyhsd(endog=f['score'], groups=f['clf'], alpha=0.25))"
   ]
  },
  {
   "cell_type": "markdown",
   "metadata": {},
   "source": [
    "##### Using a Regression Model"
   ]
  },
  {
   "cell_type": "code",
   "execution_count": 32,
   "metadata": {},
   "outputs": [
    {
     "data": {
      "text/html": [
       "<div>\n",
       "<style scoped>\n",
       "    .dataframe tbody tr th:only-of-type {\n",
       "        vertical-align: middle;\n",
       "    }\n",
       "\n",
       "    .dataframe tbody tr th {\n",
       "        vertical-align: top;\n",
       "    }\n",
       "\n",
       "    .dataframe thead th {\n",
       "        text-align: right;\n",
       "    }\n",
       "</style>\n",
       "<table border=\"1\" class=\"dataframe\">\n",
       "  <thead>\n",
       "    <tr style=\"text-align: right;\">\n",
       "      <th></th>\n",
       "      <th>sum_sq</th>\n",
       "      <th>df</th>\n",
       "      <th>F</th>\n",
       "      <th>PR(&gt;F)</th>\n",
       "    </tr>\n",
       "  </thead>\n",
       "  <tbody>\n",
       "    <tr>\n",
       "      <th>C(clf)</th>\n",
       "      <td>4.168187</td>\n",
       "      <td>8.0</td>\n",
       "      <td>1692.799285</td>\n",
       "      <td>4.783197e-201</td>\n",
       "    </tr>\n",
       "    <tr>\n",
       "      <th>C(rep)</th>\n",
       "      <td>0.094815</td>\n",
       "      <td>29.0</td>\n",
       "      <td>10.622560</td>\n",
       "      <td>1.098587e-28</td>\n",
       "    </tr>\n",
       "    <tr>\n",
       "      <th>Residual</th>\n",
       "      <td>0.071407</td>\n",
       "      <td>232.0</td>\n",
       "      <td>NaN</td>\n",
       "      <td>NaN</td>\n",
       "    </tr>\n",
       "  </tbody>\n",
       "</table>\n",
       "</div>"
      ],
      "text/plain": [
       "            sum_sq     df            F         PR(>F)\n",
       "C(clf)    4.168187    8.0  1692.799285  4.783197e-201\n",
       "C(rep)    0.094815   29.0    10.622560   1.098587e-28\n",
       "Residual  0.071407  232.0          NaN            NaN"
      ]
     },
     "execution_count": 32,
     "metadata": {},
     "output_type": "execute_result"
    }
   ],
   "source": [
    "import statsmodels.api as sm\n",
    "from statsmodels.formula.api import ols\n",
    "\n",
    "lm = ols('score ~ C(clf) + C(rep)', data=f).fit()\n",
    "# print(lm.summary())\n",
    "table = sm.stats.anova_lm(lm, typ=2) \n",
    "table"
   ]
  },
  {
   "cell_type": "markdown",
   "metadata": {},
   "source": [
    "##### Pinguoin package"
   ]
  },
  {
   "cell_type": "code",
   "execution_count": 33,
   "metadata": {},
   "outputs": [],
   "source": [
    "import pingouin as pg"
   ]
  },
  {
   "cell_type": "code",
   "execution_count": 34,
   "metadata": {},
   "outputs": [
    {
     "data": {
      "text/html": [
       "<div>\n",
       "<style scoped>\n",
       "    .dataframe tbody tr th:only-of-type {\n",
       "        vertical-align: middle;\n",
       "    }\n",
       "\n",
       "    .dataframe tbody tr th {\n",
       "        vertical-align: top;\n",
       "    }\n",
       "\n",
       "    .dataframe thead th {\n",
       "        text-align: right;\n",
       "    }\n",
       "</style>\n",
       "<table border=\"1\" class=\"dataframe\">\n",
       "  <thead>\n",
       "    <tr style=\"text-align: right;\">\n",
       "      <th></th>\n",
       "      <th>Source</th>\n",
       "      <th>SS</th>\n",
       "      <th>DF</th>\n",
       "      <th>MS</th>\n",
       "      <th>F</th>\n",
       "      <th>p-unc</th>\n",
       "      <th>np2</th>\n",
       "      <th>eps</th>\n",
       "    </tr>\n",
       "  </thead>\n",
       "  <tbody>\n",
       "    <tr>\n",
       "      <th>0</th>\n",
       "      <td>clf</td>\n",
       "      <td>4.168187</td>\n",
       "      <td>8</td>\n",
       "      <td>0.521023</td>\n",
       "      <td>1692.799285</td>\n",
       "      <td>4.783197e-201</td>\n",
       "      <td>0.983157</td>\n",
       "      <td>0.238965</td>\n",
       "    </tr>\n",
       "    <tr>\n",
       "      <th>1</th>\n",
       "      <td>Error</td>\n",
       "      <td>0.071407</td>\n",
       "      <td>232</td>\n",
       "      <td>0.000308</td>\n",
       "      <td>NaN</td>\n",
       "      <td>NaN</td>\n",
       "      <td>NaN</td>\n",
       "      <td>NaN</td>\n",
       "    </tr>\n",
       "  </tbody>\n",
       "</table>\n",
       "</div>"
      ],
      "text/plain": [
       "  Source        SS   DF        MS            F          p-unc       np2  \\\n",
       "0    clf  4.168187    8  0.521023  1692.799285  4.783197e-201  0.983157   \n",
       "1  Error  0.071407  232  0.000308          NaN            NaN       NaN   \n",
       "\n",
       "        eps  \n",
       "0  0.238965  \n",
       "1       NaN  "
      ]
     },
     "execution_count": 34,
     "metadata": {},
     "output_type": "execute_result"
    }
   ],
   "source": [
    "pg.rm_anova(data=f, dv='score', within='clf', subject='rep', detailed=True)"
   ]
  },
  {
   "cell_type": "code",
   "execution_count": 35,
   "metadata": {},
   "outputs": [],
   "source": [
    "# FDR-corrected post hocs with Hedges'g effect size\n",
    "posthoc = pg.pairwise_ttests(data=f, dv='score', within='clf', subject='rep',\n",
    "                             parametric=True, padjust='fdr_bh', effsize='hedges')\n",
    "\n",
    "# Pretty printing of table\n",
    "# pg.print_table(posthoc, floatfmt='.3f')"
   ]
  },
  {
   "cell_type": "markdown",
   "metadata": {},
   "source": [
    "#### R"
   ]
  },
  {
   "cell_type": "code",
   "execution_count": 36,
   "metadata": {},
   "outputs": [],
   "source": [
    "# Using the same dataset, dropping the dummy classifier\n",
    "ho30_roc_auc = ho30.loc['roc_auc'].drop('ml_dclf', axis=1)"
   ]
  },
  {
   "cell_type": "code",
   "execution_count": 37,
   "metadata": {},
   "outputs": [
    {
     "name": "stderr",
     "output_type": "stream",
     "text": [
      "R[write to console]: Error in withVisible({ : objeto 'ho15_roc_auc' no encontrado\n",
      "\n"
     ]
    },
    {
     "name": "stdout",
     "output_type": "stream",
     "text": [
      "\n",
      "Error in withVisible({ : objeto 'ho15_roc_auc' no encontrado\n"
     ]
    }
   ],
   "source": [
    "%%R -i ho30_roc_auc\n",
    "\n",
    "# One way anova using R\n",
    "library(dplyr)\n",
    "library(tidyr)\n",
    "library(emmeans)\n",
    "\n",
    "df = ho15_roc_auc\n",
    "df_melt <- df %>%\n",
    "    mutate(rep = factor(1:15)) %>%\n",
    "    pivot_longer(cols=c(everything(), -rep), names_to='Method', \n",
    "                 values_to='score')\n",
    "\n",
    "anova <- aov(score ~ Method + factor(rep), data=df_melt)\n",
    "print(summary(anova))\n",
    "\n",
    "# print(pairs(emmeans(anova, 'Method'), infer=c(T,T), adjust='fdr', reverse=T))"
   ]
  },
  {
   "cell_type": "markdown",
   "metadata": {},
   "source": [
    "### Non-parametric: Friedman's ANOVA for repeated measures\n",
    "\n",
    "$H_0$: $R_i = R_j, \\forall i \\neq j$\n"
   ]
  },
  {
   "cell_type": "markdown",
   "metadata": {},
   "source": [
    "#### Python"
   ]
  },
  {
   "cell_type": "code",
   "execution_count": 38,
   "metadata": {},
   "outputs": [
    {
     "data": {
      "text/plain": [
       "FriedmanchisquareResult(statistic=222.19555555555553, pvalue=1.3230985905584587e-43)"
      ]
     },
     "execution_count": 38,
     "metadata": {},
     "output_type": "execute_result"
    }
   ],
   "source": [
    "from scipy.stats import friedmanchisquare\n",
    "\n",
    "friedmanchisquare(*df.values.T)"
   ]
  },
  {
   "cell_type": "code",
   "execution_count": 39,
   "metadata": {},
   "outputs": [
    {
     "data": {
      "text/html": [
       "<div>\n",
       "<style scoped>\n",
       "    .dataframe tbody tr th:only-of-type {\n",
       "        vertical-align: middle;\n",
       "    }\n",
       "\n",
       "    .dataframe tbody tr th {\n",
       "        vertical-align: top;\n",
       "    }\n",
       "\n",
       "    .dataframe thead th {\n",
       "        text-align: right;\n",
       "    }\n",
       "</style>\n",
       "<table border=\"1\" class=\"dataframe\">\n",
       "  <thead>\n",
       "    <tr style=\"text-align: right;\">\n",
       "      <th></th>\n",
       "      <th>Source</th>\n",
       "      <th>ddof1</th>\n",
       "      <th>Q</th>\n",
       "      <th>p-unc</th>\n",
       "    </tr>\n",
       "  </thead>\n",
       "  <tbody>\n",
       "    <tr>\n",
       "      <th>Friedman</th>\n",
       "      <td>clf</td>\n",
       "      <td>8</td>\n",
       "      <td>222.195556</td>\n",
       "      <td>1.323099e-43</td>\n",
       "    </tr>\n",
       "  </tbody>\n",
       "</table>\n",
       "</div>"
      ],
      "text/plain": [
       "         Source  ddof1           Q         p-unc\n",
       "Friedman    clf      8  222.195556  1.323099e-43"
      ]
     },
     "execution_count": 39,
     "metadata": {},
     "output_type": "execute_result"
    }
   ],
   "source": [
    "from pingouin import friedman\n",
    "\n",
    "friedman(data=f, dv='score', within='clf', subject='rep')"
   ]
  },
  {
   "cell_type": "markdown",
   "metadata": {},
   "source": [
    "#### R\n",
    "source: https://cran.r-project.org/web/packages/scmamp/vignettes/Statistical_assessment_of_the_differences.html"
   ]
  },
  {
   "cell_type": "code",
   "execution_count": 40,
   "metadata": {},
   "outputs": [
    {
     "name": "stdout",
     "output_type": "stream",
     "text": [
      "\n",
      "\tFriedman's rank sum test\n",
      "\n",
      "data:  df\n",
      "Friedman's chi-squared = 222.2, df = 8, p-value < 2.2e-16\n",
      "\n",
      "\n",
      "\tIman Davenport's correction of Friedman's rank sum test\n",
      "\n",
      "data:  df\n",
      "Corrected Friedman's chi-squared = 361.91, df1 = 8, df2 = 232, p-value\n",
      "< 2.2e-16\n",
      "\n"
     ]
    },
    {
     "ename": "KeyError",
     "evalue": "\"'odf' not found\"",
     "output_type": "error",
     "traceback": [
      "\u001b[0;31m---------------------------------------------------------------------------\u001b[0m",
      "\u001b[0;31mKeyError\u001b[0m                                  Traceback (most recent call last)",
      "\u001b[0;32m<ipython-input-40-891250c6295b>\u001b[0m in \u001b[0;36m<module>\u001b[0;34m\u001b[0m\n\u001b[0;32m----> 1\u001b[0;31m \u001b[0mget_ipython\u001b[0m\u001b[0;34m(\u001b[0m\u001b[0;34m)\u001b[0m\u001b[0;34m.\u001b[0m\u001b[0mrun_cell_magic\u001b[0m\u001b[0;34m(\u001b[0m\u001b[0;34m'R'\u001b[0m\u001b[0;34m,\u001b[0m \u001b[0;34m'-i ho30_roc_auc -o odf'\u001b[0m\u001b[0;34m,\u001b[0m \u001b[0;34m'library(\"scmamp\")\\n\\ndf = ho30_roc_auc\\nprint(friedmanTest(df))\\nprint(imanDavenportTest(df))\\n'\u001b[0m\u001b[0;34m)\u001b[0m\u001b[0;34m\u001b[0m\u001b[0;34m\u001b[0m\u001b[0m\n\u001b[0m",
      "\u001b[0;32m~/miniconda3/envs/mds/lib/python3.7/site-packages/IPython/core/interactiveshell.py\u001b[0m in \u001b[0;36mrun_cell_magic\u001b[0;34m(self, magic_name, line, cell)\u001b[0m\n\u001b[1;32m   2369\u001b[0m             \u001b[0;32mwith\u001b[0m \u001b[0mself\u001b[0m\u001b[0;34m.\u001b[0m\u001b[0mbuiltin_trap\u001b[0m\u001b[0;34m:\u001b[0m\u001b[0;34m\u001b[0m\u001b[0;34m\u001b[0m\u001b[0m\n\u001b[1;32m   2370\u001b[0m                 \u001b[0margs\u001b[0m \u001b[0;34m=\u001b[0m \u001b[0;34m(\u001b[0m\u001b[0mmagic_arg_s\u001b[0m\u001b[0;34m,\u001b[0m \u001b[0mcell\u001b[0m\u001b[0;34m)\u001b[0m\u001b[0;34m\u001b[0m\u001b[0;34m\u001b[0m\u001b[0m\n\u001b[0;32m-> 2371\u001b[0;31m                 \u001b[0mresult\u001b[0m \u001b[0;34m=\u001b[0m \u001b[0mfn\u001b[0m\u001b[0;34m(\u001b[0m\u001b[0;34m*\u001b[0m\u001b[0margs\u001b[0m\u001b[0;34m,\u001b[0m \u001b[0;34m**\u001b[0m\u001b[0mkwargs\u001b[0m\u001b[0;34m)\u001b[0m\u001b[0;34m\u001b[0m\u001b[0;34m\u001b[0m\u001b[0m\n\u001b[0m\u001b[1;32m   2372\u001b[0m             \u001b[0;32mreturn\u001b[0m \u001b[0mresult\u001b[0m\u001b[0;34m\u001b[0m\u001b[0;34m\u001b[0m\u001b[0m\n\u001b[1;32m   2373\u001b[0m \u001b[0;34m\u001b[0m\u001b[0m\n",
      "\u001b[0;32m<decorator-gen-130>\u001b[0m in \u001b[0;36mR\u001b[0;34m(self, line, cell, local_ns)\u001b[0m\n",
      "\u001b[0;32m~/miniconda3/envs/mds/lib/python3.7/site-packages/IPython/core/magic.py\u001b[0m in \u001b[0;36m<lambda>\u001b[0;34m(f, *a, **k)\u001b[0m\n\u001b[1;32m    185\u001b[0m     \u001b[0;31m# but it's overkill for just that one bit of state.\u001b[0m\u001b[0;34m\u001b[0m\u001b[0;34m\u001b[0m\u001b[0;34m\u001b[0m\u001b[0m\n\u001b[1;32m    186\u001b[0m     \u001b[0;32mdef\u001b[0m \u001b[0mmagic_deco\u001b[0m\u001b[0;34m(\u001b[0m\u001b[0marg\u001b[0m\u001b[0;34m)\u001b[0m\u001b[0;34m:\u001b[0m\u001b[0;34m\u001b[0m\u001b[0;34m\u001b[0m\u001b[0m\n\u001b[0;32m--> 187\u001b[0;31m         \u001b[0mcall\u001b[0m \u001b[0;34m=\u001b[0m \u001b[0;32mlambda\u001b[0m \u001b[0mf\u001b[0m\u001b[0;34m,\u001b[0m \u001b[0;34m*\u001b[0m\u001b[0ma\u001b[0m\u001b[0;34m,\u001b[0m \u001b[0;34m**\u001b[0m\u001b[0mk\u001b[0m\u001b[0;34m:\u001b[0m \u001b[0mf\u001b[0m\u001b[0;34m(\u001b[0m\u001b[0;34m*\u001b[0m\u001b[0ma\u001b[0m\u001b[0;34m,\u001b[0m \u001b[0;34m**\u001b[0m\u001b[0mk\u001b[0m\u001b[0;34m)\u001b[0m\u001b[0;34m\u001b[0m\u001b[0;34m\u001b[0m\u001b[0m\n\u001b[0m\u001b[1;32m    188\u001b[0m \u001b[0;34m\u001b[0m\u001b[0m\n\u001b[1;32m    189\u001b[0m         \u001b[0;32mif\u001b[0m \u001b[0mcallable\u001b[0m\u001b[0;34m(\u001b[0m\u001b[0marg\u001b[0m\u001b[0;34m)\u001b[0m\u001b[0;34m:\u001b[0m\u001b[0;34m\u001b[0m\u001b[0;34m\u001b[0m\u001b[0m\n",
      "\u001b[0;32m~/miniconda3/envs/mds/lib/python3.7/site-packages/rpy2/ipython/rmagic.py\u001b[0m in \u001b[0;36mR\u001b[0;34m(self, line, cell, local_ns)\u001b[0m\n\u001b[1;32m    807\u001b[0m             \u001b[0;32mwith\u001b[0m \u001b[0mlocalconverter\u001b[0m\u001b[0;34m(\u001b[0m\u001b[0mconverter\u001b[0m\u001b[0;34m)\u001b[0m \u001b[0;32mas\u001b[0m \u001b[0mcv\u001b[0m\u001b[0;34m:\u001b[0m\u001b[0;34m\u001b[0m\u001b[0;34m\u001b[0m\u001b[0m\n\u001b[1;32m    808\u001b[0m                 \u001b[0;32mfor\u001b[0m \u001b[0moutput\u001b[0m \u001b[0;32min\u001b[0m \u001b[0;34m','\u001b[0m\u001b[0;34m.\u001b[0m\u001b[0mjoin\u001b[0m\u001b[0;34m(\u001b[0m\u001b[0margs\u001b[0m\u001b[0;34m.\u001b[0m\u001b[0moutput\u001b[0m\u001b[0;34m)\u001b[0m\u001b[0;34m.\u001b[0m\u001b[0msplit\u001b[0m\u001b[0;34m(\u001b[0m\u001b[0;34m','\u001b[0m\u001b[0;34m)\u001b[0m\u001b[0;34m:\u001b[0m\u001b[0;34m\u001b[0m\u001b[0;34m\u001b[0m\u001b[0m\n\u001b[0;32m--> 809\u001b[0;31m                     \u001b[0moutput_ipy\u001b[0m \u001b[0;34m=\u001b[0m \u001b[0mro\u001b[0m\u001b[0;34m.\u001b[0m\u001b[0mglobalenv\u001b[0m\u001b[0;34m.\u001b[0m\u001b[0mfind\u001b[0m\u001b[0;34m(\u001b[0m\u001b[0moutput\u001b[0m\u001b[0;34m)\u001b[0m\u001b[0;34m\u001b[0m\u001b[0;34m\u001b[0m\u001b[0m\n\u001b[0m\u001b[1;32m    810\u001b[0m                     \u001b[0mself\u001b[0m\u001b[0;34m.\u001b[0m\u001b[0mshell\u001b[0m\u001b[0;34m.\u001b[0m\u001b[0mpush\u001b[0m\u001b[0;34m(\u001b[0m\u001b[0;34m{\u001b[0m\u001b[0moutput\u001b[0m\u001b[0;34m:\u001b[0m \u001b[0moutput_ipy\u001b[0m\u001b[0;34m}\u001b[0m\u001b[0;34m)\u001b[0m\u001b[0;34m\u001b[0m\u001b[0;34m\u001b[0m\u001b[0m\n\u001b[1;32m    811\u001b[0m \u001b[0;34m\u001b[0m\u001b[0m\n",
      "\u001b[0;32m~/miniconda3/envs/mds/lib/python3.7/site-packages/rpy2/robjects/environments.py\u001b[0m in \u001b[0;36mfind\u001b[0;34m(self, item, wantfun)\u001b[0m\n\u001b[1;32m     58\u001b[0m         \u001b[0;34m:\u001b[0m\u001b[0mrtype\u001b[0m\u001b[0;34m:\u001b[0m \u001b[0mobject\u001b[0m \u001b[0;34m(\u001b[0m\u001b[0;32mas\u001b[0m \u001b[0mreturned\u001b[0m \u001b[0mby\u001b[0m \u001b[0;34m:\u001b[0m\u001b[0mfunc\u001b[0m\u001b[0;34m:\u001b[0m\u001b[0;31m`\u001b[0m\u001b[0mconversion\u001b[0m\u001b[0;34m.\u001b[0m\u001b[0mconverter\u001b[0m\u001b[0;34m.\u001b[0m\u001b[0mrpy2py\u001b[0m\u001b[0;31m`\u001b[0m\u001b[0;34m)\u001b[0m\u001b[0;34m\u001b[0m\u001b[0;34m\u001b[0m\u001b[0m\n\u001b[1;32m     59\u001b[0m         \"\"\"\n\u001b[0;32m---> 60\u001b[0;31m         \u001b[0mres\u001b[0m \u001b[0;34m=\u001b[0m \u001b[0msuper\u001b[0m\u001b[0;34m(\u001b[0m\u001b[0mEnvironment\u001b[0m\u001b[0;34m,\u001b[0m \u001b[0mself\u001b[0m\u001b[0;34m)\u001b[0m\u001b[0;34m.\u001b[0m\u001b[0mfind\u001b[0m\u001b[0;34m(\u001b[0m\u001b[0mitem\u001b[0m\u001b[0;34m,\u001b[0m \u001b[0mwantfun\u001b[0m\u001b[0;34m=\u001b[0m\u001b[0mwantfun\u001b[0m\u001b[0;34m)\u001b[0m\u001b[0;34m\u001b[0m\u001b[0;34m\u001b[0m\u001b[0m\n\u001b[0m\u001b[1;32m     61\u001b[0m         \u001b[0mres\u001b[0m \u001b[0;34m=\u001b[0m \u001b[0mconversion\u001b[0m\u001b[0;34m.\u001b[0m\u001b[0mconverter\u001b[0m\u001b[0;34m.\u001b[0m\u001b[0mrpy2py\u001b[0m\u001b[0;34m(\u001b[0m\u001b[0mres\u001b[0m\u001b[0;34m)\u001b[0m\u001b[0;34m\u001b[0m\u001b[0;34m\u001b[0m\u001b[0m\n\u001b[1;32m     62\u001b[0m         \u001b[0;31m# TODO: There is a design issue here. The attribute __rname__ is\u001b[0m\u001b[0;34m\u001b[0m\u001b[0;34m\u001b[0m\u001b[0;34m\u001b[0m\u001b[0m\n",
      "\u001b[0;32m~/miniconda3/envs/mds/lib/python3.7/site-packages/rpy2/rinterface_lib/conversion.py\u001b[0m in \u001b[0;36m_\u001b[0;34m(*args, **kwargs)\u001b[0m\n\u001b[1;32m     42\u001b[0m \u001b[0;32mdef\u001b[0m \u001b[0m_cdata_res_to_rinterface\u001b[0m\u001b[0;34m(\u001b[0m\u001b[0mfunction\u001b[0m\u001b[0;34m)\u001b[0m\u001b[0;34m:\u001b[0m\u001b[0;34m\u001b[0m\u001b[0;34m\u001b[0m\u001b[0m\n\u001b[1;32m     43\u001b[0m     \u001b[0;32mdef\u001b[0m \u001b[0m_\u001b[0m\u001b[0;34m(\u001b[0m\u001b[0;34m*\u001b[0m\u001b[0margs\u001b[0m\u001b[0;34m,\u001b[0m \u001b[0;34m**\u001b[0m\u001b[0mkwargs\u001b[0m\u001b[0;34m)\u001b[0m\u001b[0;34m:\u001b[0m\u001b[0;34m\u001b[0m\u001b[0;34m\u001b[0m\u001b[0m\n\u001b[0;32m---> 44\u001b[0;31m         \u001b[0mcdata\u001b[0m \u001b[0;34m=\u001b[0m \u001b[0mfunction\u001b[0m\u001b[0;34m(\u001b[0m\u001b[0;34m*\u001b[0m\u001b[0margs\u001b[0m\u001b[0;34m,\u001b[0m \u001b[0;34m**\u001b[0m\u001b[0mkwargs\u001b[0m\u001b[0;34m)\u001b[0m\u001b[0;34m\u001b[0m\u001b[0;34m\u001b[0m\u001b[0m\n\u001b[0m\u001b[1;32m     45\u001b[0m         \u001b[0;31m# TODO: test cdata is of the expected CType\u001b[0m\u001b[0;34m\u001b[0m\u001b[0;34m\u001b[0m\u001b[0;34m\u001b[0m\u001b[0m\n\u001b[1;32m     46\u001b[0m         \u001b[0;32mreturn\u001b[0m \u001b[0m_cdata_to_rinterface\u001b[0m\u001b[0;34m(\u001b[0m\u001b[0mcdata\u001b[0m\u001b[0;34m)\u001b[0m\u001b[0;34m\u001b[0m\u001b[0;34m\u001b[0m\u001b[0m\n",
      "\u001b[0;32m~/miniconda3/envs/mds/lib/python3.7/site-packages/rpy2/rinterface_lib/_rinterface_capi.py\u001b[0m in \u001b[0;36m_\u001b[0;34m(*args, **kwargs)\u001b[0m\n\u001b[1;32m    280\u001b[0m \u001b[0;32mdef\u001b[0m \u001b[0m_evaluated_promise\u001b[0m\u001b[0;34m(\u001b[0m\u001b[0mfunction\u001b[0m\u001b[0;34m)\u001b[0m\u001b[0;34m:\u001b[0m\u001b[0;34m\u001b[0m\u001b[0;34m\u001b[0m\u001b[0m\n\u001b[1;32m    281\u001b[0m     \u001b[0;32mdef\u001b[0m \u001b[0m_\u001b[0m\u001b[0;34m(\u001b[0m\u001b[0;34m*\u001b[0m\u001b[0margs\u001b[0m\u001b[0;34m,\u001b[0m \u001b[0;34m**\u001b[0m\u001b[0mkwargs\u001b[0m\u001b[0;34m)\u001b[0m\u001b[0;34m:\u001b[0m\u001b[0;34m\u001b[0m\u001b[0;34m\u001b[0m\u001b[0m\n\u001b[0;32m--> 282\u001b[0;31m         \u001b[0mrobj\u001b[0m \u001b[0;34m=\u001b[0m \u001b[0mfunction\u001b[0m\u001b[0;34m(\u001b[0m\u001b[0;34m*\u001b[0m\u001b[0margs\u001b[0m\u001b[0;34m,\u001b[0m \u001b[0;34m**\u001b[0m\u001b[0mkwargs\u001b[0m\u001b[0;34m)\u001b[0m\u001b[0;34m\u001b[0m\u001b[0;34m\u001b[0m\u001b[0m\n\u001b[0m\u001b[1;32m    283\u001b[0m         \u001b[0;32mif\u001b[0m \u001b[0m_TYPEOF\u001b[0m\u001b[0;34m(\u001b[0m\u001b[0mrobj\u001b[0m\u001b[0;34m)\u001b[0m \u001b[0;34m==\u001b[0m \u001b[0mopenrlib\u001b[0m\u001b[0;34m.\u001b[0m\u001b[0mrlib\u001b[0m\u001b[0;34m.\u001b[0m\u001b[0mPROMSXP\u001b[0m\u001b[0;34m:\u001b[0m\u001b[0;34m\u001b[0m\u001b[0;34m\u001b[0m\u001b[0m\n\u001b[1;32m    284\u001b[0m             robj = openrlib.rlib.Rf_eval(\n",
      "\u001b[0;32m~/miniconda3/envs/mds/lib/python3.7/site-packages/rpy2/rinterface_lib/sexp.py\u001b[0m in \u001b[0;36mfind\u001b[0;34m(self, key, wantfun)\u001b[0m\n\u001b[1;32m    336\u001b[0m         \u001b[0;31m# TODO: move check of R_UnboundValue to _rinterface ?\u001b[0m\u001b[0;34m\u001b[0m\u001b[0;34m\u001b[0m\u001b[0;34m\u001b[0m\u001b[0m\n\u001b[1;32m    337\u001b[0m         \u001b[0;32mif\u001b[0m \u001b[0mres\u001b[0m \u001b[0;34m==\u001b[0m \u001b[0mopenrlib\u001b[0m\u001b[0;34m.\u001b[0m\u001b[0mrlib\u001b[0m\u001b[0;34m.\u001b[0m\u001b[0mR_UnboundValue\u001b[0m\u001b[0;34m:\u001b[0m\u001b[0;34m\u001b[0m\u001b[0;34m\u001b[0m\u001b[0m\n\u001b[0;32m--> 338\u001b[0;31m             \u001b[0;32mraise\u001b[0m \u001b[0mKeyError\u001b[0m\u001b[0;34m(\u001b[0m\u001b[0;34m\"'%s' not found\"\u001b[0m \u001b[0;34m%\u001b[0m \u001b[0mkey\u001b[0m\u001b[0;34m)\u001b[0m\u001b[0;34m\u001b[0m\u001b[0;34m\u001b[0m\u001b[0m\n\u001b[0m\u001b[1;32m    339\u001b[0m         \u001b[0;32mreturn\u001b[0m \u001b[0mres\u001b[0m\u001b[0;34m\u001b[0m\u001b[0;34m\u001b[0m\u001b[0m\n\u001b[1;32m    340\u001b[0m \u001b[0;34m\u001b[0m\u001b[0m\n",
      "\u001b[0;31mKeyError\u001b[0m: \"'odf' not found\""
     ]
    }
   ],
   "source": [
    "%%R -i ho30_roc_auc -o odf\n",
    "library(\"scmamp\")\n",
    "\n",
    "df = ho30_roc_auc\n",
    "print(friedmanTest(df))\n",
    "print(imanDavenportTest(df))"
   ]
  },
  {
   "cell_type": "markdown",
   "metadata": {},
   "source": [
    "#### Manual implementation \n",
    "\n",
    "$$\\chi^2_F = \\frac{12N}{k(k+1)}\\left[\\sum_j^k R^2_j - \\frac{k(k-1)^2}{4}\\right]$$\n",
    "\n",
    "where\n",
    "\n",
    "$$R_j = \\sum_i \\frac{1}{N}r_i^j$$\n",
    "\n",
    "and $r_i^j$ the rank of the $j$-th of $k$ algorithms on the $i$-th of $N$ data sets.\n",
    "The the null-hypothesis states that all the algorithms are equivalent and so their ranks $R_j$ should be equal:\n",
    " \n"
   ]
  },
  {
   "cell_type": "code",
   "execution_count": null,
   "metadata": {},
   "outputs": [],
   "source": [
    "%run Friedman_and_Nemenyi_test.ipynb"
   ]
  },
  {
   "cell_type": "code",
   "execution_count": null,
   "metadata": {},
   "outputs": [],
   "source": [
    "friedmanTest(df)"
   ]
  },
  {
   "cell_type": "markdown",
   "metadata": {},
   "source": [
    "**Iman and Davenport** (1980) showed that Friedman’s χ2\n",
    "F is undesirably conservative and derived a better statistic\n",
    "\n",
    "$$F_F = \\frac{(N-1)\\chi_F^2}{N(k-1) - \\chi_F^2}$$\n",
    "\n",
    "which is distributed according to the F-distribution with k−1 and (k−1)(N−1) degrees offreedom."
   ]
  },
  {
   "cell_type": "code",
   "execution_count": null,
   "metadata": {},
   "outputs": [],
   "source": [
    "friedman_imanDavenportTest(df)"
   ]
  },
  {
   "cell_type": "markdown",
   "metadata": {},
   "source": [
    "### post hocs\n",
    "\n",
    "#### Wilcoxon"
   ]
  },
  {
   "cell_type": "code",
   "execution_count": null,
   "metadata": {},
   "outputs": [],
   "source": [
    "import scikit_posthocs as sp\n",
    "\n",
    "sp.posthoc_conover(f, val_col='score', group_col='clf').style.applymap(_col_sig_p_values)"
   ]
  },
  {
   "cell_type": "markdown",
   "metadata": {},
   "source": [
    "#### Nemenyi test\n",
    "\n",
    "##### Critical Difference\n",
    "\n",
    "Two methods are significantly different if if the corresponding average ranks differ by at least the critical difference:\n",
    "\n",
    "$$CD = q_{\\alpha} \\sqrt\\frac{k(k+1)}{6N}$$\n",
    "\n"
   ]
  },
  {
   "cell_type": "code",
   "execution_count": null,
   "metadata": {},
   "outputs": [],
   "source": [
    "alpha, (N, k) = 0.05, df.shape\n",
    "CD = get_critical_values_nemenyi(alpha, k)\n",
    "print('Critical Difference:', CD)\n",
    "display(pairwise_nemenyi(df)[1].style.applymap(_col_H0_rejected))"
   ]
  },
  {
   "cell_type": "markdown",
   "metadata": {},
   "source": [
    "##### Statistical significance\n",
    "\n",
    "$$Q = |R_i - R_j| \\Bigg/ \\sqrt\\frac{k(k+1)}{6N}$$\n",
    "\n",
    "the probability distribution of **_Q_** can be approximated by that of a chi-squared distribution. In this case the p-value is given by\n",
    " $P(\\chi^2_{k-1} \\leq Q)$."
   ]
  },
  {
   "cell_type": "code",
   "execution_count": null,
   "metadata": {},
   "outputs": [],
   "source": [
    "display(pairwise_nemenyi(df)[0].style.applymap(_col_sig_p_values))"
   ]
  },
  {
   "cell_type": "code",
   "execution_count": null,
   "metadata": {
    "scrolled": true
   },
   "outputs": [],
   "source": [
    "# https://github.com/maximtrp/scikit-posthocs/blob/master/scikit_posthocs/_posthocs.py\n",
    "sp.posthoc_nemenyi_friedman(f, y_col='score', group_col='clf', \n",
    "                            block_col='rep', melted=True, sort=True).style.applymap(_col_sig_p_values)"
   ]
  },
  {
   "cell_type": "markdown",
   "metadata": {},
   "source": [
    "#### R"
   ]
  },
  {
   "cell_type": "code",
   "execution_count": null,
   "metadata": {},
   "outputs": [],
   "source": [
    "# Using the same dataset, dropping the dummy classifier\n",
    "ho30_roc_auc = ho30.loc['roc_auc'].drop('ml_dclf', axis=1)"
   ]
  },
  {
   "cell_type": "markdown",
   "metadata": {},
   "source": [
    "The p-values are sightly different because the degrees of freedom used when the **Studentized Range Distribution** is computed.\n",
    "The version of the PMCMR package used here uses a dof value of `1000000` instead of `inf`. [Link to the source code](https://github.com/cran/PMCMR/blob/master/R/posthoc.friedman.nemenyi.test.R).\n"
   ]
  },
  {
   "cell_type": "code",
   "execution_count": null,
   "metadata": {},
   "outputs": [],
   "source": [
    "%%R -i ho30_roc_auc\n",
    "\n",
    "# One way anova using R\n",
    "library(dplyr)\n",
    "library(rstatix)\n",
    "library(PMCMR)\n",
    "\n",
    "df = ho30_roc_auc\n",
    "df_melt <- df %>%\n",
    "    mutate(rep = factor(1:30)) %>%\n",
    "    pivot_longer(cols=c(everything(), -rep), names_to='Method', \n",
    "                 values_to='score')\n",
    "\n",
    "print(packageVersion(\"PMCMR\"))\n",
    "print(friedman.test(score ~ Method | rep, df_melt))\n",
    "\n",
    "pwc <- df_melt %>%\n",
    "  wilcox_test(score ~ Method, paired = TRUE, p.adjust.method = \"bonferroni\")\n",
    "pwc\n",
    "\n",
    "\n",
    "posthoc.friedman.nemenyi.test(formula=score ~ Method | rep, data=df_melt)"
   ]
  },
  {
   "cell_type": "markdown",
   "metadata": {},
   "source": [
    "### poshocs Visualization"
   ]
  },
  {
   "cell_type": "code",
   "execution_count": null,
   "metadata": {},
   "outputs": [],
   "source": [
    "metric='roc_auc'\n",
    "plot_swarm_metrics(ho15.drop('ml_dclf', axis=1), metric_name=metric)"
   ]
  },
  {
   "cell_type": "code",
   "execution_count": null,
   "metadata": {},
   "outputs": [],
   "source": [
    "import Orange\n",
    "import matplotlib.pyplot as plt\n",
    "\n",
    "names = df.columns\n",
    "avranks =  get_R(df)\n",
    "cd = Orange.evaluation.compute_CD(avranks, 15, alpha='0.05') #tested on 30 datasets\n",
    "print('Critical Difference:', cd)\n",
    "ax = Orange.evaluation.graph_ranks(avranks, names, cd=cd, width=12, textspace=1.)\n",
    "plt.show()"
   ]
  },
  {
   "cell_type": "code",
   "execution_count": null,
   "metadata": {},
   "outputs": [],
   "source": [
    "cmap = ['1', '#fb6a4a',  '#08306b',  '#4292c6', '#c6dbef']\n",
    "mask = np.zeros_like(p_values_nemenyi, dtype=np.bool)\n",
    "mask[np.triu_indices_from(mask)] = True\n",
    "\n",
    "p_values_nemenyi = pairwise_nemenyi(df)[0]\n",
    "\n",
    "ax, _ = sp.sign_plot(p_values_nemenyi - 0.000000001, clip_on= False, cmap=cmap,\n",
    "                 linewidths= 1, linecolor= 'white', mask=mask,\n",
    "                 annot=p_values_nemenyi, fmt='.2f')\n",
    "plt.show()"
   ]
  },
  {
   "cell_type": "code",
   "execution_count": null,
   "metadata": {},
   "outputs": [],
   "source": [
    "from statannot import add_stat_annotation\n",
    "\n",
    "\n",
    "box_pairs = [*it.combinations(df.columns, 2)]\n",
    "sig_p_values = []\n",
    "sig_box_pairs = []\n",
    "for pair in box_pairs:\n",
    "#     print(pair)\n",
    "    p = p_values_nemenyi.loc[pair]\n",
    "    if p <= 0.001:\n",
    "        sig_p_values.append(p)\n",
    "        sig_box_pairs.append(pair)\n",
    "    \n",
    "fig, ax = plt.subplots(figsize=(15,8))\n",
    "ax = sns.boxplot(data=f, x='clf', y='score')\n",
    "ax = sns.swarmplot(data=f, x='clf', y='score', size=8)\n",
    "for i,box in enumerate(ax.artists):\n",
    "    box.set_edgecolor('black')\n",
    "    box.set_facecolor('white')\n",
    "\n",
    "    # iterate over whiskers and median lines\n",
    "    for j in range(6*i,6*(i+1)):\n",
    "         ax.lines[j].set_color('black')\n",
    "\n",
    "\n",
    "test_results = add_stat_annotation(ax, data=f, x='clf', y='score',\n",
    "                                   box_pairs=sig_box_pairs,\n",
    "                                   perform_stat_test=False, pvalues=sig_p_values, #test_short_name=test_short_name,\n",
    "                                   text_format='star', verbose=0, loc='outside')"
   ]
  }
 ],
 "metadata": {
  "kernelspec": {
   "display_name": "Python 3",
   "language": "python",
   "name": "python3"
  },
  "language_info": {
   "codemirror_mode": {
    "name": "ipython",
    "version": 3
   },
   "file_extension": ".py",
   "mimetype": "text/x-python",
   "name": "python",
   "nbconvert_exporter": "python",
   "pygments_lexer": "ipython3",
   "version": "3.7.6"
  },
  "toc": {
   "base_numbering": 1,
   "nav_menu": {},
   "number_sections": true,
   "sideBar": true,
   "skip_h1_title": false,
   "title_cell": "Table of Contents",
   "title_sidebar": "Contents",
   "toc_cell": false,
   "toc_position": {
    "height": "calc(100% - 180px)",
    "left": "10px",
    "top": "150px",
    "width": "282px"
   },
   "toc_section_display": true,
   "toc_window_display": true
  }
 },
 "nbformat": 4,
 "nbformat_minor": 4
}
