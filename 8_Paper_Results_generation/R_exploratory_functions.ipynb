{
 "cells": [
  {
   "cell_type": "code",
   "execution_count": null,
   "metadata": {},
   "outputs": [],
   "source": [
    "%%R -i df_melted -w 8 -h 4 --units in -r 130\n",
    "\n",
    "library(tidyverse)\n",
    "library(extrafont)\n",
    "library(ggthemes)\n",
    "library(plyr)\n",
    "\n",
    "# devtools::source_gist(\"2a1bb0133ff568cbe28d\", \n",
    "#                       filename = \"geom_flat_violin.R\")\n",
    "\n",
    "lb <- function(x) mean(x) - sd(x)\n",
    "ub <- function(x) mean(x) + sd(x)\n",
    "\n",
    "sumld<- ddply(df_melted, ~method, summarise, \n",
    "              mean = mean(score), \n",
    "              median = median(score), \n",
    "              lower = lb(score), \n",
    "              upper = ub(score))\n",
    "\n",
    "head(sumld)\n",
    "\n",
    "ggplot(data = df_melted, \n",
    "       mapping = aes(x = method, \n",
    "                     y = score, \n",
    "                     fill = method)) + \n",
    "  geom_hline(yintercept= 0.5, linetype=\"dashed\", color=\"darkgrey\") +\n",
    "  geom_flat_violin(scale = \"count\", trim = FALSE) + \n",
    "#   geom_boxplot(notch=TRUE) +\n",
    "  theme(text=element_text(family=\"Trebuchet MS\")) + \n",
    "  stat_summary(fun.data = mean_sdl, \n",
    "               fun.args = list(mult = 1), \n",
    "               geom = \"pointrange\", \n",
    "               position = position_nudge(0.5)) +\n",
    "  geom_point(data = sumld, aes(x = method, y = mean), \n",
    "                position = position_nudge(x = 0.05), size = 1.5) +\n",
    "  geom_errorbar(data = sumld, aes(ymin = lower, ymax = upper, y = mean), \n",
    "                position = position_nudge(x = 0.05), width = 0) + \n",
    "  geom_dotplot(binaxis = \"y\", \n",
    "               dotsize = 7, \n",
    "               stackdir = \"down\", \n",
    "               binwidth = 0.001, \n",
    "               alpha = 0.7,\n",
    "               position = position_nudge(-0.05)) +\n",
    "    theme(legend.position = \"none\", panel.border = element_rect(colour = \"black\", fill=NA, size=1)) + \n",
    "      labs(x = \"Métodos (ML/CS)\", \n",
    "           y = \"AUC-ROC\") +\n",
    "#   scale_fill_brewer(palette = \"Spectral\") +\n",
    "  scale_x_discrete(labels= c('csMAX', 'csMEAN', 'csMIN', 'csVOTE', '1-NN', 'Log. Reg.', 'XGB'))"
   ]
  }
 ],
 "metadata": {
  "kernelspec": {
   "display_name": "Python 3",
   "language": "python",
   "name": "python3"
  },
  "language_info": {
   "codemirror_mode": {
    "name": "ipython",
    "version": 3
   },
   "file_extension": ".py",
   "mimetype": "text/x-python",
   "name": "python",
   "nbconvert_exporter": "python",
   "pygments_lexer": "ipython3",
   "version": "3.7.6"
  },
  "toc": {
   "base_numbering": 1,
   "nav_menu": {},
   "number_sections": true,
   "sideBar": true,
   "skip_h1_title": false,
   "title_cell": "Table of Contents",
   "title_sidebar": "Contents",
   "toc_cell": false,
   "toc_position": {},
   "toc_section_display": true,
   "toc_window_display": false
  }
 },
 "nbformat": 4,
 "nbformat_minor": 4
}
