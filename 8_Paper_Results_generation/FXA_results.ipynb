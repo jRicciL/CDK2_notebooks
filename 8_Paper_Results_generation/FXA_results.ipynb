{
 "cells": [
  {
   "cell_type": "markdown",
   "metadata": {},
   "source": [
    "# FXA protein\n",
    "# Data load and preprocessing"
   ]
  },
  {
   "cell_type": "code",
   "execution_count": 1,
   "metadata": {},
   "outputs": [],
   "source": [
    "import pandas as pd\n",
    "import numpy as np\n",
    "import matplotlib.pyplot as plt\n",
    "import seaborn as sns\n",
    "%run ../modules/run_or_load_decorator.py\n",
    "%run ../modules/plotting_metrics.py"
   ]
  },
  {
   "cell_type": "code",
   "execution_count": 2,
   "metadata": {},
   "outputs": [],
   "source": [
    "%run ./1_Helper_functions.ipynb"
   ]
  },
  {
   "cell_type": "code",
   "execution_count": 3,
   "metadata": {},
   "outputs": [],
   "source": [
    "protein_name='fxa'\n",
    "file_name = '../../../FXa/ANALISIS/6_Machine_Learning_Models/' + \\\n",
    "'df_DkSc_results_COCRYS_DEKOIS_DUD.pkl'\n",
    "X_merged_dksc = pd.read_pickle(file_name)\n",
    "y_true_merged = X_merged_dksc['activity']\n",
    "X_merged_dksc = X_merged_dksc.drop('activity', axis=1)\n",
    "X_merged_dksc.shape\n",
    "\n",
    "# Simplify the names\n",
    "X = X_merged_dksc.values\n",
    "y = y_true_merged.values"
   ]
  },
  {
   "cell_type": "markdown",
   "metadata": {},
   "source": [
    "## Estimators\n",
    "### ML Classifiers"
   ]
  },
  {
   "cell_type": "code",
   "execution_count": 4,
   "metadata": {},
   "outputs": [],
   "source": [
    "from sklearn.neighbors import KNeighborsClassifier\n",
    "\n",
    "hyparams ={'n_neighbors': 1, 'n_jobs': 4}\n",
    "knn = KNeighborsClassifier(**hyparams)"
   ]
  },
  {
   "cell_type": "code",
   "execution_count": 5,
   "metadata": {},
   "outputs": [],
   "source": [
    "from sklearn.linear_model import LogisticRegression \n",
    "\n",
    "hyparams = {'C': 1.0, 'penalty': 'l1', 'solver': 'liblinear', 'max_iter': 400}\n",
    "lr = LogisticRegression(**hyparams)"
   ]
  },
  {
   "cell_type": "code",
   "execution_count": 6,
   "metadata": {},
   "outputs": [],
   "source": [
    "from xgboost import XGBClassifier\n",
    "\n",
    "hyparams = {'subsample': 0.5, 'n_estimators': 200, \n",
    "            'max_depth': 10, 'learning_rate': 0.1,\n",
    "            'gamma': 1, 'colsample_bytree': 0.5, \n",
    "            'alpha': 0.5}\n",
    "\n",
    "xgb = XGBClassifier(**hyparams)"
   ]
  },
  {
   "cell_type": "code",
   "execution_count": 7,
   "metadata": {},
   "outputs": [],
   "source": [
    "# ML Classifier\n",
    "ml_classifiers = {\n",
    "    'knn': knn,\n",
    "    'lr': lr,\n",
    "    'xgb': xgb,\n",
    "}\n",
    "\n",
    "# update names\n",
    "ml_classifiers = {f'ml_{name}': clf \n",
    "                for name, clf in ml_classifiers.items()}"
   ]
  },
  {
   "cell_type": "markdown",
   "metadata": {},
   "source": [
    "### Consensus Scorings"
   ]
  },
  {
   "cell_type": "code",
   "execution_count": 8,
   "metadata": {},
   "outputs": [],
   "source": [
    "%run ../6_Machine_Learning_Models/5_Helper_Consensus_Scoring.ipynb\n",
    "\n",
    "cs_functions = {\n",
    "    'MEAN': get_mean_score,\n",
    "    'MAX': get_max_score,\n",
    "    'MIN': get_min_score,\n",
    "    'VOTE': get_vote_score\n",
    "}\n",
    "\n",
    "# update names\n",
    "cs_functions = {f'cs_{name}': func \n",
    "                for name, func in cs_functions.items()}"
   ]
  },
  {
   "cell_type": "markdown",
   "metadata": {},
   "source": [
    "### Estimators dictionary "
   ]
  },
  {
   "cell_type": "code",
   "execution_count": 9,
   "metadata": {},
   "outputs": [],
   "source": [
    "estimators = {**ml_classifiers, **cs_functions}"
   ]
  },
  {
   "cell_type": "markdown",
   "metadata": {},
   "source": [
    "### Evaluation metrics "
   ]
  },
  {
   "cell_type": "code",
   "execution_count": 10,
   "metadata": {},
   "outputs": [],
   "source": [
    "metrics=dict(roc_auc = {'metric_name': 'roc_auc'},\n",
    "             nef_02 = {'metric_name': 'ef', \n",
    "                    'fraction': 0.02, 'method':'normalized'},\n",
    "             nef_005 = {'metric_name': 'ef', \n",
    "                        \n",
    "                    'fraction': 0.005, 'method':'normalized'},\n",
    "             nef_12_Ra = {'metric_name': 'ef', \n",
    "                    'fraction': 0.12, 'method':'normalized'}\n",
    "            )"
   ]
  },
  {
   "cell_type": "markdown",
   "metadata": {},
   "source": [
    "# Hold-out Validation \n",
    "\n",
    "## 30 replicas\n",
    "### AUC-ROC\n"
   ]
  },
  {
   "cell_type": "code",
   "execution_count": 11,
   "metadata": {},
   "outputs": [],
   "source": [
    "# Save the results to a file to ommit repeate the analysis\n",
    "@run_or_load_joblib\n",
    "def n_hold_out_validation_SAVE(filename, **kwargs):\n",
    "    return n_hold_out_validation(**kwargs)"
   ]
  },
  {
   "cell_type": "code",
   "execution_count": null,
   "metadata": {},
   "outputs": [],
   "source": [
    "%%time\n",
    "evaluation_name='ho30'\n",
    "ho30 = n_hold_out_validation_SAVE(\n",
    "    filename=f'./cachedir/{evaluation_name}_{protein_name}',\n",
    "    estimators=estimators, X=X, y=y, metrics=metrics, \n",
    "                      n_reps=30, random_state=42)\n",
    "\n",
    "metric='roc_auc'\n",
    "# Normality\n",
    "display(multi_norm_test(ho30, metric=metric))\n",
    "# Homocedasticity\n",
    "display(multi_homovar_test(ho30, metric=metric))"
   ]
  },
  {
   "cell_type": "markdown",
   "metadata": {},
   "source": [
    "### Statistical Evaluation\n",
    "#### Multiple classifiers"
   ]
  },
  {
   "cell_type": "code",
   "execution_count": null,
   "metadata": {},
   "outputs": [],
   "source": [
    "%run Friedman_and_Nemenyi_test.ipynb"
   ]
  },
  {
   "cell_type": "code",
   "execution_count": null,
   "metadata": {},
   "outputs": [],
   "source": [
    "ho30_auc = ho30.loc['roc_auc']"
   ]
  },
  {
   "cell_type": "markdown",
   "metadata": {},
   "source": [
    "#### Friedman's test"
   ]
  },
  {
   "cell_type": "code",
   "execution_count": null,
   "metadata": {},
   "outputs": [],
   "source": [
    "friedmanTest(ho30_auc)"
   ]
  },
  {
   "cell_type": "code",
   "execution_count": null,
   "metadata": {},
   "outputs": [],
   "source": [
    "friedman_imanDavenportTest(ho30_auc)"
   ]
  },
  {
   "cell_type": "markdown",
   "metadata": {},
   "source": [
    "#### Nemenyi test - pairwise comparison"
   ]
  },
  {
   "cell_type": "code",
   "execution_count": null,
   "metadata": {},
   "outputs": [],
   "source": [
    "display(pairwise_nemenyi(ho30_auc)[0].style.applymap(_col_sig_p_values))"
   ]
  },
  {
   "cell_type": "markdown",
   "metadata": {},
   "source": [
    "### Visualizations\n",
    "\n",
    "#### Swarm plot"
   ]
  },
  {
   "cell_type": "code",
   "execution_count": null,
   "metadata": {},
   "outputs": [],
   "source": [
    "metric='roc_auc'\n",
    "plot_swarm_metrics(ho30, metric_name=metric, ascending=True, title_extra='- 30 reps')"
   ]
  },
  {
   "cell_type": "markdown",
   "metadata": {},
   "source": [
    "#### Critical Differences plot"
   ]
  },
  {
   "cell_type": "code",
   "execution_count": null,
   "metadata": {},
   "outputs": [],
   "source": [
    "plot_cd(ho30_auc)"
   ]
  },
  {
   "cell_type": "markdown",
   "metadata": {},
   "source": [
    "#### p-values heatmap"
   ]
  },
  {
   "cell_type": "code",
   "execution_count": null,
   "metadata": {
    "scrolled": false
   },
   "outputs": [],
   "source": [
    "plot_p_heatmap(ho30_auc)"
   ]
  },
  {
   "cell_type": "markdown",
   "metadata": {},
   "source": [
    "#### Boxplot: Pairwise statistical significance"
   ]
  },
  {
   "cell_type": "code",
   "execution_count": null,
   "metadata": {
    "scrolled": false
   },
   "outputs": [],
   "source": [
    "plot_box_signif(ho30, 'roc_auc', ascending=True)"
   ]
  },
  {
   "cell_type": "markdown",
   "metadata": {},
   "source": [
    "# Y-randomization test"
   ]
  },
  {
   "cell_type": "code",
   "execution_count": null,
   "metadata": {},
   "outputs": [],
   "source": [
    "@run_or_load_joblib\n",
    "def n_hout_val_scrambling(filename, y, random_chi,  **kwargs):\n",
    "    y_rand = randomize_y_labels(y_target=y, random_chi=random_chi)\n",
    "    results = n_hold_out_validation(y=y_rand, **kwargs)\n",
    "    return results"
   ]
  },
  {
   "cell_type": "code",
   "execution_count": null,
   "metadata": {},
   "outputs": [],
   "source": [
    "%%time\n",
    "chi_fractions = [1, 0.75, 0.5, 0.25, 0.0]\n",
    "n_reps=30\n",
    "chi_results = {}\n",
    "evaluation_name = f'y_scrambling_{n_reps}_reps'\n",
    "\n",
    "for chi in chi_fractions:\n",
    "    filename = f'./cachedir/{evaluation_name}_{protein_name}_chi-{chi}'\n",
    "    result = n_hout_val_scrambling(filename=filename, \n",
    "                             random_chi=chi, estimators=estimators, \n",
    "                             X=X, y=y, metrics=metrics, \n",
    "                             n_reps=3, random_state=42)\n",
    "    print(f'Fraction chi={chi} finished.')\n",
    "    chi_results[f'chi_{chi}'] = result\n",
    "    "
   ]
  },
  {
   "cell_type": "code",
   "execution_count": null,
   "metadata": {},
   "outputs": [],
   "source": [
    "for chi in chi_results.keys():\n",
    "    a = chi_results[chi]\n",
    "    plot_swarm_metrics(a, metric_name=metric, ascending=True, title_extra=f'- chi={chi}')"
   ]
  },
  {
   "cell_type": "code",
   "execution_count": null,
   "metadata": {},
   "outputs": [],
   "source": []
  }
 ],
 "metadata": {
  "kernelspec": {
   "display_name": "Python 3",
   "language": "python",
   "name": "python3"
  },
  "language_info": {
   "codemirror_mode": {
    "name": "ipython",
    "version": 3
   },
   "file_extension": ".py",
   "mimetype": "text/x-python",
   "name": "python",
   "nbconvert_exporter": "python",
   "pygments_lexer": "ipython3",
   "version": "3.7.6"
  },
  "toc": {
   "base_numbering": 1,
   "nav_menu": {},
   "number_sections": true,
   "sideBar": true,
   "skip_h1_title": false,
   "title_cell": "Table of Contents",
   "title_sidebar": "Contents",
   "toc_cell": false,
   "toc_position": {},
   "toc_section_display": true,
   "toc_window_display": true
  }
 },
 "nbformat": 4,
 "nbformat_minor": 4
}
