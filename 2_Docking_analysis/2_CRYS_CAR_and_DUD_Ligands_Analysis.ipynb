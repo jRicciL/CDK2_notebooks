{
 "cells": [
  {
   "cell_type": "markdown",
   "metadata": {},
   "source": [
    "# Datos de los ligandos\n",
    "\n",
    "## Obtención de los datos de los ligandos  cocristalizados con CDK2 desde Pubchem y Chembl\n",
    "\n",
    "**Esta libreta tiene como objetivo extraer datos de las moléculas cocristalizadas con la proteína CDK2 a partir de las bases de datos CheMBL y PubChem**\n",
    "\n",
    "> Puntos clave de esta libreta:\n",
    "- Se extrae de la tabla de datos principal de la proteína las conformaciones que poseen a algún ligando en el sitio activo.\n",
    "- Se crea un set de moléculas usando identificador PDB de cada molécula (cada molécula es designada con un id de 3 letras).\n",
    "- Se usa el id de cada molécula (LIG) para obtener los datos de la página `http://www.rcsb.org/ligand/LIG`, correspondiente a cada ligando. Con ello obtenemos:\n",
    "    - El smile isomérico de la molécula.\n",
    "    - El InChI\n",
    "    - El InChI Key\n",
    "- Usamos el **InChI** para obtener los datos de cada molécula desde _**PUBCHEM**_ y _**CHEMBL**_.\n",
    "- Guardamos los datos en un diccionario y a su vez lo exportamos a un archivo pinckle."
   ]
  },
  {
   "cell_type": "markdown",
   "metadata": {},
   "source": [
    "### Importamos algunas librerías iniciales"
   ]
  },
  {
   "cell_type": "code",
   "execution_count": 3,
   "metadata": {},
   "outputs": [],
   "source": [
    "import pandas as pd\n",
    "import numpy as np\n",
    "import glob, os, sys\n",
    "# Añadimos la ruta del directorio raíz para tener acceso a los archivos y módulos\n",
    "sys.path.append(r'..')"
   ]
  },
  {
   "cell_type": "markdown",
   "metadata": {},
   "source": [
    "## Cargamos los datos de la tabla principal"
   ]
  },
  {
   "cell_type": "markdown",
   "metadata": {},
   "source": [
    "Nombre de la proteína:"
   ]
  },
  {
   "cell_type": "code",
   "execution_count": 10,
   "metadata": {},
   "outputs": [],
   "source": [
    "# Nombre de la proteina de interes\n",
    "prot_name = 'cdk2'"
   ]
  },
  {
   "cell_type": "markdown",
   "metadata": {},
   "source": [
    "Cargamos el dataframe principal de la proteína:"
   ]
  },
  {
   "cell_type": "code",
   "execution_count": 13,
   "metadata": {},
   "outputs": [
    {
     "data": {
      "text/plain": [
       "(402, 14)"
      ]
     },
     "execution_count": 13,
     "metadata": {},
     "output_type": "execute_result"
    }
   ],
   "source": [
    "# Este es el DF que no tiene aun afgregados los valores AUC de las conformaciones\n",
    "patho_to_json_file = glob.glob((os.path.join( 'data', \n",
    "                        F'TABLA_MTDATA_{prot_name.upper()}_*_crys_LIGS_INFO.json')))[0]\n",
    "                      \n",
    "df_prot_labels = pd.read_json(patho_to_json_file)\n",
    "df_prot_labels.shape"
   ]
  },
  {
   "cell_type": "markdown",
   "metadata": {},
   "source": [
    "**Esta tabla contiene ya la información de la molécula presente en el sitio activo de cada conformación de la proteína**"
   ]
  },
  {
   "cell_type": "code",
   "execution_count": 14,
   "metadata": {},
   "outputs": [
    {
     "data": {
      "text/html": [
       "<div>\n",
       "<style scoped>\n",
       "    .dataframe tbody tr th:only-of-type {\n",
       "        vertical-align: middle;\n",
       "    }\n",
       "\n",
       "    .dataframe tbody tr th {\n",
       "        vertical-align: top;\n",
       "    }\n",
       "\n",
       "    .dataframe thead th {\n",
       "        text-align: right;\n",
       "    }\n",
       "</style>\n",
       "<table border=\"1\" class=\"dataframe\">\n",
       "  <thead>\n",
       "    <tr style=\"text-align: right;\">\n",
       "      <th></th>\n",
       "      <th>Title</th>\n",
       "      <th>Date</th>\n",
       "      <th>Entities</th>\n",
       "      <th>ChainID</th>\n",
       "      <th>Resolution</th>\n",
       "      <th>Identity</th>\n",
       "      <th>Coverage</th>\n",
       "      <th>NumGaps</th>\n",
       "      <th>GapLen</th>\n",
       "      <th>GapPos</th>\n",
       "      <th>NumLigs</th>\n",
       "      <th>NameLigs</th>\n",
       "      <th>Inhib</th>\n",
       "      <th>Inhib_mass</th>\n",
       "    </tr>\n",
       "  </thead>\n",
       "  <tbody>\n",
       "    <tr>\n",
       "      <th>1aq1</th>\n",
       "      <td>human cyclin dependent kinase 2 complexed with...</td>\n",
       "      <td>1997-11-12</td>\n",
       "      <td>1</td>\n",
       "      <td>A</td>\n",
       "      <td>2.0</td>\n",
       "      <td>298</td>\n",
       "      <td>92.953020</td>\n",
       "      <td>2</td>\n",
       "      <td>[9, 14]</td>\n",
       "      <td>[[36, 44], [149, 162]]</td>\n",
       "      <td>1</td>\n",
       "      <td>[STU]</td>\n",
       "      <td>STU</td>\n",
       "      <td>440.0</td>\n",
       "    </tr>\n",
       "    <tr>\n",
       "      <th>1b38</th>\n",
       "      <td>human cyclin-dependent kinase 2</td>\n",
       "      <td>1998-12-23</td>\n",
       "      <td>1</td>\n",
       "      <td>A</td>\n",
       "      <td>2.0</td>\n",
       "      <td>298</td>\n",
       "      <td>97.315436</td>\n",
       "      <td>1</td>\n",
       "      <td>[9]</td>\n",
       "      <td>[[36, 44]]</td>\n",
       "      <td>3</td>\n",
       "      <td>[ACE, ATP, MG]</td>\n",
       "      <td>ATP</td>\n",
       "      <td>398.0</td>\n",
       "    </tr>\n",
       "    <tr>\n",
       "      <th>1b39</th>\n",
       "      <td>human cyclin-dependent kinase 2 phosphorylated...</td>\n",
       "      <td>1998-12-23</td>\n",
       "      <td>1</td>\n",
       "      <td>A</td>\n",
       "      <td>2.1</td>\n",
       "      <td>298</td>\n",
       "      <td>97.315436</td>\n",
       "      <td>1</td>\n",
       "      <td>[9]</td>\n",
       "      <td>[[36, 44]]</td>\n",
       "      <td>3</td>\n",
       "      <td>[ACE, ATP, MG]</td>\n",
       "      <td>ATP</td>\n",
       "      <td>398.0</td>\n",
       "    </tr>\n",
       "  </tbody>\n",
       "</table>\n",
       "</div>"
      ],
      "text/plain": [
       "                                                  Title       Date  Entities  \\\n",
       "1aq1  human cyclin dependent kinase 2 complexed with... 1997-11-12         1   \n",
       "1b38                    human cyclin-dependent kinase 2 1998-12-23         1   \n",
       "1b39  human cyclin-dependent kinase 2 phosphorylated... 1998-12-23         1   \n",
       "\n",
       "     ChainID  Resolution  Identity   Coverage  NumGaps   GapLen  \\\n",
       "1aq1       A         2.0       298  92.953020        2  [9, 14]   \n",
       "1b38       A         2.0       298  97.315436        1      [9]   \n",
       "1b39       A         2.1       298  97.315436        1      [9]   \n",
       "\n",
       "                      GapPos  NumLigs        NameLigs Inhib  Inhib_mass  \n",
       "1aq1  [[36, 44], [149, 162]]        1           [STU]   STU       440.0  \n",
       "1b38              [[36, 44]]        3  [ACE, ATP, MG]   ATP       398.0  \n",
       "1b39              [[36, 44]]        3  [ACE, ATP, MG]   ATP       398.0  "
      ]
     },
     "execution_count": 14,
     "metadata": {},
     "output_type": "execute_result"
    }
   ],
   "source": [
    "df_prot_labels.head(3)"
   ]
  },
  {
   "cell_type": "markdown",
   "metadata": {},
   "source": [
    "## Identificación de los inhibidores\n",
    "### Seleccionamos las conformaciones que posean algun inhibidor"
   ]
  },
  {
   "cell_type": "code",
   "execution_count": 15,
   "metadata": {},
   "outputs": [],
   "source": [
    "filtro_inh = df_prot_labels.Inhib.notnull()\n",
    "df_ligs_crys = df_prot_labels[filtro_inh]"
   ]
  },
  {
   "cell_type": "code",
   "execution_count": 16,
   "metadata": {},
   "outputs": [
    {
     "data": {
      "text/plain": [
       "(365, 14)"
      ]
     },
     "execution_count": 16,
     "metadata": {},
     "output_type": "execute_result"
    }
   ],
   "source": [
    "# Número total de conformaciones con algún ligando en el sitio activo\n",
    "df_ligs_crys.shape"
   ]
  },
  {
   "cell_type": "markdown",
   "metadata": {},
   "source": [
    "### Identificamos el número de ligandos únicos"
   ]
  },
  {
   "cell_type": "code",
   "execution_count": 17,
   "metadata": {},
   "outputs": [
    {
     "data": {
      "text/plain": [
       "315"
      ]
     },
     "execution_count": 17,
     "metadata": {},
     "output_type": "execute_result"
    }
   ],
   "source": [
    "ligs_crys_prot = set(df_ligs_crys.Inhib)\n",
    "len(ligs_crys_prot)"
   ]
  },
  {
   "cell_type": "markdown",
   "metadata": {},
   "source": [
    "## Comenzamos la obtención de los datos\n",
    "El proceso es el siguiente:\n",
    "> 1. Con el identificador de la molécula del PDB (nombe de tres letras, por ejemplo: ATP) se busca en el PDB la información de dicha molécula: http://www.rcsb.org/ligand\n",
    "2. Se obtiene el *chemicalInChIKey*, el *chemicalInChI* y el SMILES isomérico de la molécula.\n",
    "3. El *InChI el *InChIKey* o en su defecto el SMILES isimérico, es usado para buscar a la molécula en las bases de datos PubChem y Chembl.\n",
    "    - Dichos *request* a la la API de cada base de datos se hacen con las librerías **_chembl_webresource_client_** y **_pubchemy_**.\n",
    "4. Todos los datos disponibles de las moléculas son guardados en un diccionario de pyhton.\n",
    "5. Finalmente el objeto se guarda en un archivo para posteriormente poder tener acceso al mismo.\n",
    "\n",
    "\n",
    "### Web scrapping de los ligandos"
   ]
  },
  {
   "cell_type": "code",
   "execution_count": 8,
   "metadata": {},
   "outputs": [],
   "source": [
    "# Librerías útiles para el web scrapping de los ligandos\n",
    "import urllib.request\n",
    "from bs4 import BeautifulSoup\n",
    "from chembl_webresource_client.new_client import new_client\n",
    "import pubchempy"
   ]
  },
  {
   "cell_type": "code",
   "execution_count": 9,
   "metadata": {},
   "outputs": [],
   "source": [
    "# Url para accesar a la información de los ligandos en el PDB\n",
    "URL_PDB = 'http://www.rcsb.org/ligand'"
   ]
  },
  {
   "cell_type": "markdown",
   "metadata": {},
   "source": [
    "### Obtenemos los datos de cada ligando y los guardamos en un diccionario"
   ]
  },
  {
   "cell_type": "code",
   "execution_count": 10,
   "metadata": {},
   "outputs": [],
   "source": [
    "# Generamos un diccionario con los datos de la molécula\n",
    "dic_ligs_crys_prot = {}\n",
    "\n",
    "for ligando in ligs_crys_prot[:\n",
    "    url_lig = F'{URL_PDB}/{ligando}'\n",
    "    print(F'Procesando al ligando: {ligando}\\n')\n",
    "    \n",
    "    # Extraemos los datos del html del ligando:\n",
    "    lig_data = urllib.request.urlopen( url_lig ).read().decode()\n",
    "    \n",
    "    # Extraemos del bsoup los siguientes datos:\n",
    "    # InChIKey\n",
    "    soup = BeautifulSoup(lig_data)\n",
    "    inchi_key = soup.find(\"tr\", {\"id\": \"chemicalInChIKey\"})\n",
    "    inchi_key_str = inchi_key.find('td').text\n",
    "    \n",
    "    # InChI\n",
    "    inchi = soup.find(\"tr\", {\"id\": \"chemicalInChI\"})\n",
    "    inchi_str = inchi.find('td').text\n",
    "    \n",
    "    # isomeric SMILE (por si no se encuentra en la API de PbCh)\n",
    "    smiles = soup.find(\"tr\", {\"id\": \"chemicalIsomeric\"})\n",
    "    smiles_str = smiles.find('td').text\n",
    "    \n",
    "    # Peso molecular\n",
    "    mw = soup.find(\"tr\", {\"id\": \"chemicalMolecularWeight\"})\n",
    "    mw_str = mw.find('td').text\n",
    "    \n",
    "    # Con los datos anteriores usamos la librería para accesar al Chembl\n",
    "    # **** CHEMBL ****\n",
    "    # Procedemos a extraer los datos del Chembl\n",
    "    molecule = new_client.molecule\n",
    "    try:\n",
    "        chblMol_info = molecule.get(inchi_key_str)\n",
    "        chembl_id = chblMol_info['molecule_chembl_id']\n",
    "    except:\n",
    "        print(F'No se pudo obtener infor de CEHMBL: {ligando}')\n",
    "        print(inchi_str + '\\n')\n",
    "        chblMol_info = None\n",
    "        chembl_id = None\n",
    "        \n",
    "    # Ahora obtenemos datos correspondientes a pubchem\n",
    "    # *** PUBCHEM ***\n",
    "    try:\n",
    "        pbch_mol = pubchempy.get_compounds(inchi_str, 'inchi')[0]\n",
    "        pbch_cid = pbch_mol.cid\n",
    "        pbch_data = pbch_mol.to_dict()\n",
    "        canonical_smiles = pbch_mol.canonical_smiles\n",
    "    except:\n",
    "        print(F'Fallo con datos PUBCHEM: {ligando}')\n",
    "        pbch_mol = None\n",
    "        pbch_cid = None\n",
    "        pbch_data = None\n",
    "        canonical_smiles = None\n",
    "    # Creamos la entrada para el diccionario\n",
    "    # Primero el diccionario del ligando\n",
    "    dic_lig = {'inchi_key': inchi_key_str,\n",
    "               'inchi': inchi_str,\n",
    "               'molecular_weight': float(mw_str),\n",
    "               'canonical_smiles': canonical_smiles,\n",
    "               'isomeric_similes': smiles_str,\n",
    "               'chembl_id': chembl_id,\n",
    "               'chembl_data': chblMol_info,\n",
    "               'pubchem_id': pbch_cid,\n",
    "               'pubchem_data': pbch_data,}\n",
    "    \n",
    "    # Anidamos el dict  del ligando al dic principal\n",
    "    dic_ligs_crys_prot[ligando] = dic_lig"
   ]
  },
  {
   "cell_type": "markdown",
   "metadata": {},
   "source": [
    "## Guardamos el set de datos en formato *pickle*"
   ]
  },
  {
   "cell_type": "code",
   "execution_count": 6,
   "metadata": {},
   "outputs": [],
   "source": [
    "import pickle"
   ]
  },
  {
   "cell_type": "code",
   "execution_count": 12,
   "metadata": {},
   "outputs": [],
   "source": [
    "nombre_archivo = os.path.join('..','data', 'LIGS_CDK2_crys_pubchem_chembl_data.pkl')\n",
    "if not os.path.exists(nombre_archivo):\n",
    "    with open(nombre_archivo, 'wb') as dic_file:\n",
    "        pickle.dump(dic_ligs_crys_prot, dic_file, protocol=pickle.HIGHEST_PROTOCOL)\n",
    "else:\n",
    "    print(\"El archivo ya ha sido creado.\")"
   ]
  },
  {
   "cell_type": "markdown",
   "metadata": {},
   "source": [
    "# Finalmente:\n",
    "## Uso del diccionario final\n",
    "A modo de ejemplo visualizamos algunos de los datos disponibles en el diccionario:"
   ]
  },
  {
   "cell_type": "code",
   "execution_count": 16,
   "metadata": {},
   "outputs": [],
   "source": [
    "import pandas as pd\n",
    "import numpy as np\n",
    "import rdkit as rd\n",
    "import glob, os, sys\n",
    "# Añadimos la ruta del directorio raíz para tener acceso a los archivos y módulos\n",
    "sys.path.append(r'..')"
   ]
  },
  {
   "cell_type": "markdown",
   "metadata": {},
   "source": [
    "### Lectura del diccionario de ligandos cocristalizados"
   ]
  },
  {
   "cell_type": "code",
   "execution_count": 18,
   "metadata": {},
   "outputs": [],
   "source": [
    "prot_name = 'cdk2'"
   ]
  },
  {
   "cell_type": "code",
   "execution_count": 19,
   "metadata": {},
   "outputs": [],
   "source": [
    "# Este es el DF que no tiene aun afgregados los valores AUC de las conformaciones\n",
    "patho_to_json_file = glob.glob((os.path.join('..', 'data', \n",
    "                        F'TABLA_MTDATA_{prot_name.upper()}_*_crys_LIGS_INFO.json')))[0] \n",
    "df_prot_labels = pd.read_json(patho_to_json_file)\n",
    "filtro_inh = df_prot_labels.Inhib.notnull()\n",
    "df_ligs_crys = df_prot_labels[filtro_inh]"
   ]
  },
  {
   "cell_type": "code",
   "execution_count": 20,
   "metadata": {},
   "outputs": [],
   "source": [
    "import pickle\n",
    "# Lectura del diccionario con pickle\n",
    "nombre_archivo = os.path.join('..', 'data', 'LIGS_CDK2_crys_pubchem_chembl_data.pkl')\n",
    "with open(nombre_archivo, 'rb') as dic_file:\n",
    "    dic_ligs_crys_prot = pickle.load(open(nombre_archivo, 'rb'))"
   ]
  },
  {
   "cell_type": "code",
   "execution_count": 21,
   "metadata": {},
   "outputs": [
    {
     "data": {
      "text/plain": [
       "315"
      ]
     },
     "execution_count": 21,
     "metadata": {},
     "output_type": "execute_result"
    }
   ],
   "source": [
    "len(dic_ligs_crys_prot)"
   ]
  },
  {
   "cell_type": "code",
   "execution_count": 22,
   "metadata": {},
   "outputs": [
    {
     "data": {
      "text/plain": [
       "315"
      ]
     },
     "execution_count": 22,
     "metadata": {},
     "output_type": "execute_result"
    }
   ],
   "source": [
    "# Generamos el diccionario de moléculas cocristalizadas \n",
    "dic_crys_mols = {}\n",
    "for key in dic_ligs_crys_prot:\n",
    "    # Usamos el smile isomérico, reportado en el PDB\n",
    "    smile = dic_ligs_crys_prot[key]['isomeric_similes']\n",
    "    mol = rd.Chem.MolFromSmiles(smile, False)\n",
    "    dic_crys_mols[key] = mol\n",
    "\n",
    "len(dic_crys_mols )"
   ]
  },
  {
   "cell_type": "code",
   "execution_count": 11,
   "metadata": {},
   "outputs": [
    {
     "name": "stdout",
     "output_type": "stream",
     "text": [
      "ID Chembl: CHEMBL14249\n",
      "cid Pubchem: 5957\n",
      "Nombre: ADENOSINE TRIPHOSPHATE\n"
     ]
    },
    {
     "data": {
      "image/png": "[encoded data removed]",
      "text/plain": [
       "<rdkit.Chem.rdchem.Mol at 0x7f1bd3561580>"
      ]
     },
     "execution_count": 11,
     "metadata": {},
     "output_type": "execute_result"
    }
   ],
   "source": [
    "# Obtención del un ligando a través de una conformación\n",
    "lig_1aq1 = df_ligs_crys.loc['1fin', 'Inhib']\n",
    "# Imprimimos su nombre y otros datos interesantes\n",
    "lig_1aq1_data = dic_ligs_crys_prot[lig_1aq1]\n",
    "print(F'ID Chembl: {lig_1aq1_data[\"chembl_id\"]}')\n",
    "print(F'cid Pubchem: {lig_1aq1_data[\"pubchem_id\"]}')\n",
    "print(F'Nombre: {lig_1aq1_data[\"chembl_data\"][\"pref_name\"]}')\n",
    "# Obtenemos el smiles canonico\n",
    "lig_1aq1_smiles = dic_ligs_crys_prot[lig_1aq1]['canonical_smiles']\n",
    "# Lo visualizamos con rdkit\n",
    "rd.Chem.MolFromSmiles(lig_1aq1_smiles)"
   ]
  },
  {
   "cell_type": "markdown",
   "metadata": {},
   "source": []
  },
  {
   "cell_type": "markdown",
   "metadata": {},
   "source": [
    "# DUD PRUEBAS"
   ]
  },
  {
   "cell_type": "code",
   "execution_count": 27,
   "metadata": {},
   "outputs": [],
   "source": [
    "#Convertir el archivo mol2 a sdf para poserlo parsear con rdkit\n",
    "dud_actives = '../../ARCHIVOS/CRISTALES/LIGS_CDK2/DUDE_DECOYS/DUD_2006/dud_ligands2006/cdk2_ligands'"
   ]
  },
  {
   "cell_type": "code",
   "execution_count": 16,
   "metadata": {},
   "outputs": [
    {
     "name": "stderr",
     "output_type": "stream",
     "text": [
      "72 molecules converted\n"
     ]
    }
   ],
   "source": [
    "%%bash -s \"$dud_actives\"\n",
    "obabel -imol2 ${1}.mol2 -osmi -O ${1}.smi"
   ]
  },
  {
   "cell_type": "code",
   "execution_count": 62,
   "metadata": {},
   "outputs": [],
   "source": [
    "a = rd.Chem.SDMolSupplier(dud_actives + '.sdf', False)"
   ]
  },
  {
   "cell_type": "code",
   "execution_count": null,
   "metadata": {},
   "outputs": [],
   "source": []
  },
  {
   "cell_type": "code",
   "execution_count": 68,
   "metadata": {},
   "outputs": [],
   "source": [
    "# Cargade mol2\n",
    "list_mol2_dud = glob.glob('../../ARCHIVOS/CRISTALES/LIGS_CDK2/DUDE_DECOYS/DUD_2006/\\\n",
    "dud_ligands2006/mol2/*sdf')\n",
    "# ordenamos la lista\n",
    "list_mol2_dud = sorted(list_mol2_dud, key = lambda x: int(x.split('_')[-1].split('.')[0]))\n",
    "# cargamos los ligandos usando rdkit\n",
    "dic_dud_mol2 = {i.split('/')[-1].split('.')[0]: rd.Chem.SDMolSupplier(i, False)[0] for i in list_mol2_dud}"
   ]
  },
  {
   "cell_type": "code",
   "execution_count": 76,
   "metadata": {},
   "outputs": [
    {
     "data": {
      "image/png": "[encoded data removed]",
      "text/plain": [
       "<rdkit.Chem.rdchem.Mol at 0x7f1bd4439440>"
      ]
     },
     "execution_count": 76,
     "metadata": {},
     "output_type": "execute_result"
    }
   ],
   "source": [
    "dic_dud_mol2['ligand_1']"
   ]
  },
  {
   "cell_type": "code",
   "execution_count": 113,
   "metadata": {},
   "outputs": [
    {
     "data": {
      "text/plain": [
       "72"
      ]
     },
     "execution_count": 113,
     "metadata": {},
     "output_type": "execute_result"
    }
   ],
   "source": [
    "contador_lineas = 0\n",
    "s = [] # Temporalemtne usamos una lista\n",
    "with open(F'{dud_actives}.smi', \"r\") as file:\n",
    "    for i, line in enumerate(file):\n",
    "        contador_lineas += 1\n",
    "        s.append(line)\n",
    "contador_lineas\n",
    "len(s)"
   ]
  },
  {
   "cell_type": "code",
   "execution_count": null,
   "metadata": {},
   "outputs": [],
   "source": [
    "#Convertir el archivo mol2 a sdf para poserlo parsear con rdkit\n",
    "dud_decoys_smi = '../../ARCHIVOS/CRISTALES/LIGS_CDK2/DUDE_DECOYS/DUD_2006/dud_decoys2006/'"
   ]
  },
  {
   "cell_type": "code",
   "execution_count": null,
   "metadata": {},
   "outputs": [],
   "source": [
    "contador_lineas = 0\n",
    "s = [] # Temporalemtne usamos una lista\n",
    "with open(F'{dud_actives}.smi', \"r\") as file:\n",
    "    for i, line in enumerate(file):\n",
    "        contador_lineas += 1\n",
    "        s.append(line)\n",
    "contador_lineas\n",
    "len(s)"
   ]
  },
  {
   "cell_type": "code",
   "execution_count": 139,
   "metadata": {},
   "outputs": [],
   "source": [
    "# Creamos una tabla pivote para enlzar el zinc id con elnombre del archivo mol2 usado para eldocking\n",
    "list_mol2_dud_files = glob.glob('../../ARCHIVOS/CRISTALES/LIGS_CDK2/DUDE_DECOYS/DUD_2006/\\\n",
    "dud_ligands2006/mol2/*mol2')\n",
    "\n",
    "dic_dus_zincid_file = {}\n",
    "# Crea el diccionario necesario\n",
    "for i in list_mol2_dud_files:\n",
    "    file_name = i.split('/')[-1].split('.')[0]\n",
    "    with open(i, 'r') as f:\n",
    "        first_line = f.readlines()[1].replace('\\n', '')\n",
    "        dic_dus_zincid_file[first_line] = file_name\n",
    "        "
   ]
  },
  {
   "cell_type": "code",
   "execution_count": 167,
   "metadata": {},
   "outputs": [],
   "source": [
    "# dic_dus_zincid_file"
   ]
  },
  {
   "cell_type": "code",
   "execution_count": 110,
   "metadata": {},
   "outputs": [],
   "source": [
    "# Extremos del set los smiles\n",
    "dic_dud_mols = {}\n",
    "# ordenamos el set\n",
    "set_ordenado = sorted(s, key = lambda x: int(x.replace('\\n', '').split('ZINC')[1]))\n",
    "for i, string in enumerate(set_ordenado):\n",
    "    split_string = string.replace('\\n', '').split('\\t')\n",
    "    mol_name = F'{i}_{split_string[1]}'\n",
    "    mol_smile = split_string[0]\n",
    "    mol_rdkit = rd.Chem.MolFromSmiles(mol_smile, False)\n",
    "    dic_dud_mols[mol_name] = mol_rdkit"
   ]
  },
  {
   "cell_type": "code",
   "execution_count": 111,
   "metadata": {},
   "outputs": [
    {
     "data": {
      "text/plain": [
       "58"
      ]
     },
     "execution_count": 111,
     "metadata": {},
     "output_type": "execute_result"
    }
   ],
   "source": [
    "len(dic_dud_mols)"
   ]
  },
  {
   "cell_type": "code",
   "execution_count": 23,
   "metadata": {},
   "outputs": [
    {
     "data": {
      "image/png": "[encoded data removed]",
      "text/plain": [
       "<rdkit.Chem.rdchem.Mol at 0x7f34f710c7b0>"
      ]
     },
     "execution_count": 23,
     "metadata": {},
     "output_type": "execute_result"
    }
   ],
   "source": [
    "dic_dud_mols['26_ZINC03814452']"
   ]
  },
  {
   "cell_type": "code",
   "execution_count": 109,
   "metadata": {},
   "outputs": [
    {
     "data": {
      "text/plain": [
       "True"
      ]
     },
     "execution_count": 109,
     "metadata": {},
     "output_type": "execute_result"
    }
   ],
   "source": [
    "# Un set para ver si hay repetidos en los smiles\n",
    "set_smiles = set()\n",
    "for i in dic_dud_mols:\n",
    "    set_smiles.add(i)\n",
    "    \n",
    "len(set_smiles) == len(dic_dud_mols)"
   ]
  },
  {
   "cell_type": "code",
   "execution_count": 25,
   "metadata": {},
   "outputs": [],
   "source": [
    "# Extraemos los smiles de los activos de DUD\n",
    "dud_smiles_iso = []\n",
    "for key,smi in dic_dud_mols.items():\n",
    "    smi = rd.Chem.MolToSmiles(smi, isomericSmiles=True)\n",
    "    dud_smiles_iso.append( smi )\n",
    "\n",
    "#dud_smiles_iso"
   ]
  },
  {
   "cell_type": "code",
   "execution_count": 24,
   "metadata": {},
   "outputs": [
    {
     "data": {
      "text/plain": [
       "317"
      ]
     },
     "execution_count": 24,
     "metadata": {},
     "output_type": "execute_result"
    }
   ],
   "source": [
    "# Generamos el diccionario de moléculas cocristalizadas \n",
    "dic_crys_mols = {}\n",
    "for key in dic_ligs_crys_prot:\n",
    "    # Usamos el smile isomérico, pues no de todos los ligandos fue posible obtener el canónico\n",
    "    # Debido a que el API de Chembl no está actualizada (moleculas depositadas en 2019 suelen dar error)\n",
    "    # Aunque rdkit, puede proveerlo una vez cargada la molécula\n",
    "    smile = dic_ligs_crys_prot[key]['isomeric_similes']\n",
    "    mol = rd.Chem.MolFromSmiles(smile, False)\n",
    "    dic_crys_mols[key] = mol\n",
    "\n",
    "len(dic_crys_mols )"
   ]
  },
  {
   "cell_type": "code",
   "execution_count": 25,
   "metadata": {},
   "outputs": [],
   "source": [
    "# Extraemos los smiles canónicos de las moléculas cocristalizadas\n",
    "crys_smiles_iso = []\n",
    "for key,smi in dic_crys_mols.items():\n",
    "    smi = rd.Chem.MolToSmiles(smi, isomericSmiles=True )\n",
    "    crys_smiles_iso.append( smi)\n",
    "\n",
    "#crys_smiles_iso"
   ]
  },
  {
   "cell_type": "code",
   "execution_count": null,
   "metadata": {},
   "outputs": [],
   "source": []
  },
  {
   "cell_type": "code",
   "execution_count": 80,
   "metadata": {},
   "outputs": [],
   "source": [
    "from rdkit import DataStructs\n",
    "from rdkit.Chem.Fingerprints import FingerprintMols"
   ]
  },
  {
   "cell_type": "code",
   "execution_count": 140,
   "metadata": {},
   "outputs": [],
   "source": [
    "dic_fps_dud = {i: rd.Chem.RDKFingerprint(j) for i, j in dic_dud_mols.items()}\n",
    "dic_fps_crys = {i: rd.Chem.RDKFingerprint(j) for i, j in dic_crys_mols.items()}"
   ]
  },
  {
   "cell_type": "code",
   "execution_count": null,
   "metadata": {},
   "outputs": [],
   "source": []
  },
  {
   "cell_type": "code",
   "execution_count": 142,
   "metadata": {},
   "outputs": [
    {
     "data": {
      "text/plain": [
       "<rdkit.DataStructs.cDataStructs.ExplicitBitVect at 0x7f1bd412a4e0>"
      ]
     },
     "execution_count": 142,
     "metadata": {},
     "output_type": "execute_result"
    }
   ],
   "source": [
    "dic_fps_crys['CK2']"
   ]
  },
  {
   "cell_type": "code",
   "execution_count": 170,
   "metadata": {},
   "outputs": [
    {
     "name": "stdout",
     "output_type": "stream",
     "text": [
      "1 14_ZINC03814435 UCN 1.0\n",
      "2 9_ZINC01641925 OLO 1.0\n",
      "3 51_ZINC03814479 NW1 1.0\n",
      "4 11_ZINC03591113 I17 1.0\n",
      "5 20_ZINC03814444 LS2 1.0\n",
      "6 41_ZINC03814467 SU9 1.0\n",
      "7 36_ZINC03814462 2A6 1.0\n",
      "8 19_ZINC03814443 LS1 1.0\n",
      "9 21_ZINC03814447 LS4 1.0\n",
      "10 15_ZINC03814437 PVB 1.0\n",
      "11 34_ZINC03814460 UN4 1.0\n",
      "12 24_ZINC03814451 ST8 1.0\n",
      "13 35_ZINC03814461 6CP 1.0\n",
      "14 7_ZINC00603011 4SP 1.0\n",
      "15 1_ZINC00023543 CMG 1.0\n",
      "16 17_ZINC03814440 INR 1.0\n",
      "17 31_ZINC03814457 MBP 1.0\n",
      "18 10_ZINC01649340 RRC 1.0\n",
      "19 56_ZINC04617747 LS5 1.0\n",
      "20 13_ZINC03814434 STU 1.0\n",
      "21 22_ZINC03814449 1PU 1.0\n"
     ]
    }
   ],
   "source": [
    "contador_sim = 0\n",
    "cutoff = 0.97\n",
    "\n",
    "lista_Archivos = []\n",
    "# Comparamos similitud entre los ligandos\n",
    "for name_crys, fps_crys in dic_fps_crys.items():\n",
    "    for name_dud, fps_dud in dic_fps_dud.items():\n",
    "        # Comparamos ambas estructuras usando los fingerprints\n",
    "        similarity = DataStructs.FingerprintSimilarity(fps_dud, fps_crys,\n",
    "                    metric= DataStructs.TanimotoSimilarity)\n",
    "        if similarity >= cutoff:\n",
    "            contador_sim += 1\n",
    "            print(contador_sim, name_dud, name_crys, similarity)\n",
    "            # Me dice el nombre del archivo\n",
    "            lista_Archivos.append(dic_dus_zincid_file[name_dud.split('_')[-1]])\n",
    "            break # Termina el ciclo si encuentra al menos una estructura"
   ]
  },
  {
   "cell_type": "code",
   "execution_count": 171,
   "metadata": {},
   "outputs": [
    {
     "data": {
      "text/plain": [
       "['ligand_16',\n",
       " 'ligand_11',\n",
       " 'ligand_66',\n",
       " 'ligand_13',\n",
       " 'ligand_22',\n",
       " 'ligand_52',\n",
       " 'ligand_45',\n",
       " 'ligand_21',\n",
       " 'ligand_23',\n",
       " 'ligand_17',\n",
       " 'ligand_40',\n",
       " 'ligand_27',\n",
       " 'ligand_43',\n",
       " 'ligand_9',\n",
       " 'ligand_2',\n",
       " 'ligand_19',\n",
       " 'ligand_34',\n",
       " 'ligand_12',\n",
       " 'ligand_71',\n",
       " 'ligand_15',\n",
       " 'ligand_24']"
      ]
     },
     "execution_count": 171,
     "metadata": {},
     "output_type": "execute_result"
    }
   ],
   "source": [
    "            \n",
    "lista_Archivos"
   ]
  },
  {
   "cell_type": "code",
   "execution_count": 156,
   "metadata": {},
   "outputs": [
    {
     "data": {
      "image/png": "[encoded data removed]",
      "text/plain": [
       "<rdkit.Chem.rdchem.Mol at 0x7f1bd422f8f0>"
      ]
     },
     "execution_count": 156,
     "metadata": {},
     "output_type": "execute_result"
    }
   ],
   "source": [
    "dic_dud_mols['41_ZINC03814467']"
   ]
  },
  {
   "cell_type": "code",
   "execution_count": 158,
   "metadata": {},
   "outputs": [
    {
     "name": "stderr",
     "output_type": "stream",
     "text": [
      "RDKit ERROR: [08:18:17] Can't kekulize mol.  Unkekulized atoms: 10 11 13\n",
      "RDKit ERROR: \n"
     ]
    },
    {
     "data": {
      "image/png": "[encoded data removed]",
      "text/plain": [
       "<rdkit.Chem.rdchem.Mol at 0x7f1bd422fe90>"
      ]
     },
     "execution_count": 158,
     "metadata": {},
     "output_type": "execute_result"
    }
   ],
   "source": [
    "dic_dud_mols['42_ZINC03814467']"
   ]
  },
  {
   "cell_type": "code",
   "execution_count": 153,
   "metadata": {},
   "outputs": [
    {
     "data": {
      "image/png": "[encoded data removed]",
      "text/plain": [
       "<rdkit.Chem.rdchem.Mol at 0x7f1bd2008b70>"
      ]
     },
     "execution_count": 153,
     "metadata": {},
     "output_type": "execute_result"
    }
   ],
   "source": [
    "dic_crys_mols['UCN']"
   ]
  },
  {
   "cell_type": "code",
   "execution_count": null,
   "metadata": {},
   "outputs": [],
   "source": [
    "# Otra comparación esntre estructura a 0.9"
   ]
  },
  {
   "cell_type": "code",
   "execution_count": 164,
   "metadata": {},
   "outputs": [
    {
     "data": {
      "image/png": "[encoded data removed]",
      "text/plain": [
       "<rdkit.Chem.rdchem.Mol at 0x7f34f710ca30>"
      ]
     },
     "execution_count": 164,
     "metadata": {},
     "output_type": "execute_result"
    }
   ],
   "source": [
    "dic_dud_mols['11_ZINC03591113']"
   ]
  },
  {
   "cell_type": "code",
   "execution_count": 165,
   "metadata": {},
   "outputs": [
    {
     "data": {
      "image/png": "[encoded data removed]",
      "text/plain": [
       "<rdkit.Chem.rdchem.Mol at 0x7f34f4fe48f0>"
      ]
     },
     "execution_count": 165,
     "metadata": {},
     "output_type": "execute_result"
    }
   ],
   "source": [
    "dic_crys_mols['RRC']"
   ]
  },
  {
   "cell_type": "markdown",
   "metadata": {},
   "source": [
    "## Comparación con los ligandos cocristalizados"
   ]
  },
  {
   "cell_type": "code",
   "execution_count": 29,
   "metadata": {},
   "outputs": [],
   "source": [
    "# Cargamos la tabla de información de los ligandos CSAR\n",
    "df_csar_2012 = pd.read_json('./data/csar_Binding_Data_Corrected_2016.json')"
   ]
  },
  {
   "cell_type": "code",
   "execution_count": 30,
   "metadata": {},
   "outputs": [],
   "source": [
    "# Cargamos las moléculas en un diccionario usando rdkit\n",
    "dic_csar_mols = {i: rd.Chem.MolFromSmiles(df_csar_2012.loc[i, \"SMILES\"]) for i in df_csar_2012.index}"
   ]
  },
  {
   "cell_type": "code",
   "execution_count": 31,
   "metadata": {},
   "outputs": [
    {
     "data": {
      "image/png": "[encoded data removed]",
      "text/plain": [
       "<rdkit.Chem.rdchem.Mol at 0x7fd5e14aaa30>"
      ]
     },
     "execution_count": 31,
     "metadata": {},
     "output_type": "execute_result"
    }
   ],
   "source": [
    "# Ejemplo de una primer molécula\n",
    "dic_csar_mols['CS1']"
   ]
  },
  {
   "cell_type": "code",
   "execution_count": 36,
   "metadata": {},
   "outputs": [],
   "source": [
    "# Ahora calculamos los fingerprints\n",
    "dic_fps_csar = {i: rd.Chem.RDKFingerprint(j) for i, j in dic_csar_mols.items()}\n",
    "dic_fps_crys = {i: rd.Chem.RDKFingerprint(j) for i, j in dic_crys_mols.items()}"
   ]
  },
  {
   "cell_type": "code",
   "execution_count": 33,
   "metadata": {},
   "outputs": [],
   "source": [
    "# Comparamos los fingerprints de CSAR frente a los cristalográficos"
   ]
  },
  {
   "cell_type": "code",
   "execution_count": 71,
   "metadata": {},
   "outputs": [
    {
     "name": "stdout",
     "output_type": "stream",
     "text": [
      "1 CS1 1CK\n",
      "2 CS3 03K\n",
      "3 CS4 4CK\n",
      "4 CS9 09K\n",
      "5 CS11 11K\n",
      "6 CS12 CK2\n",
      "7 CS16 16K\n",
      "8 CS18 18K\n",
      "9 CS19 19K\n",
      "10 CS20 20K\n",
      "11 CS241 LS5\n",
      "12 CS242 42K\n",
      "13 CS245 45K\n",
      "14 CS248 48K\n",
      "15 CS260 60K\n",
      "16 CS261 61K\n",
      "17 CS262 62K\n"
     ]
    }
   ],
   "source": [
    "contador_sim = 0\n",
    "cutoff = 1\n",
    "# Comparamos similitud entre los ligandos\n",
    "for name_csar, fps_csar in dic_fps_csar.items():\n",
    "    for name_crys, fps_crys in dic_fps_crys.items():\n",
    "        # Comparamos ambas estructuras usando los fingerprints\n",
    "        similarity = DataStructs.FingerprintSimilarity(fps_csar, fps_crys)\n",
    "        if similarity >= cutoff:\n",
    "            contador_sim += 1\n",
    "            print(contador_sim, name_csar, name_crys)\n",
    "            break"
   ]
  },
  {
   "cell_type": "code",
   "execution_count": 72,
   "metadata": {},
   "outputs": [
    {
     "name": "stderr",
     "output_type": "stream",
     "text": [
      "/home/joel/anaconda3/envs/mds/lib/python3.7/site-packages/ipykernel_launcher.py:1: UserWarning: Boolean Series key will be reindexed to match DataFrame index.\n",
      "  \"\"\"Entry point for launching an IPython kernel.\n"
     ]
    },
    {
     "data": {
      "text/plain": [
       "CS1      4EK4\n",
       "CS3      4EK5\n",
       "CS4      4FKG\n",
       "CS9      4FKI\n",
       "CS10     4EK6\n",
       "CS11     4FJK\n",
       "CS12     4FKL\n",
       "CS16     4EK8\n",
       "CS18     3SW4\n",
       "CS19     3SW7\n",
       "CS20     4FKO\n",
       "CS241    4FKP\n",
       "CS242    4FKQ\n",
       "CS245    4FKR\n",
       "CS246    4FKS\n",
       "CS248    4FKT\n",
       "CS260    4FKU\n",
       "CS261    4FKV\n",
       "CS262    4FKW\n",
       "Name: PDB ID, dtype: object"
      ]
     },
     "execution_count": 72,
     "metadata": {},
     "output_type": "execute_result"
    }
   ],
   "source": [
    "df_csar_2012[df_csar_2012.ActiveInactive == 'Active'][df_csar_2012['PDB ID'].notnull()]['PDB ID']\n",
    "# De arriba faltan CS10, CS146, "
   ]
  },
  {
   "cell_type": "code",
   "execution_count": 70,
   "metadata": {},
   "outputs": [
    {
     "name": "stderr",
     "output_type": "stream",
     "text": [
      "/home/joel/anaconda3/envs/mds/lib/python3.7/site-packages/ipykernel_launcher.py:2: UserWarning: Boolean Series key will be reindexed to match DataFrame index.\n",
      "  \n"
     ]
    },
    {
     "data": {
      "text/plain": [
       "CS2      None\n",
       "CS13     None\n",
       "CS14     None\n",
       "CS15     None\n",
       "CS17     None\n",
       "CS244    None\n",
       "CS247    None\n",
       "Name: PDB ID, dtype: object"
      ]
     },
     "execution_count": 70,
     "metadata": {},
     "output_type": "execute_result"
    }
   ],
   "source": [
    "# Ligandos que en CSAR no tienen cristal\n",
    "df_csar_2012[df_csar_2012.ActiveInactive == 'Active'][df_csar_2012['PDB ID'].isnull()]['PDB ID']"
   ]
  },
  {
   "cell_type": "code",
   "execution_count": 103,
   "metadata": {},
   "outputs": [
    {
     "name": "stdout",
     "output_type": "stream",
     "text": [
      "1 CS1 1CK\n",
      "2 CS3 4CK\n",
      "3 CS4 4CK\n",
      "4 CS9 09K\n",
      "5 CS11 09K\n",
      "6 CS12 CK8\n",
      "7 CS13 CK8\n",
      "8 CS14 CK8\n",
      "9 CS15 CK8\n",
      "10 CS16 19K\n",
      "11 CS17 CK7\n",
      "12 CS18 CK8\n",
      "13 CS19 19K\n",
      "14 CS20 CK8\n",
      "15 CS241 48K\n",
      "16 CS242 42K\n",
      "17 CS244 45K\n",
      "18 CS245 45K\n",
      "19 CS246 45K\n",
      "20 CS247 61K\n",
      "21 CS248 48K\n",
      "22 CS260 62K\n",
      "23 CS261 61K\n",
      "24 CS262 62K\n"
     ]
    }
   ],
   "source": [
    "contador_sim = 0\n",
    "cutoff = 0.8\n",
    "# Comparamos similitud entre los ligandos\n",
    "for name_csar, fps_csar in dic_fps_csar.items():\n",
    "    for name_crys, fps_crys in dic_fps_crys.items():\n",
    "        # Comparamos ambas estructuras usando los fingerprints\n",
    "        similarity = DataStructs.FingerprintSimilarity(fps_csar, fps_crys)\n",
    "        if similarity >= cutoff:\n",
    "            contador_sim += 1\n",
    "            print(contador_sim, name_csar, name_crys)\n",
    "            break"
   ]
  },
  {
   "cell_type": "code",
   "execution_count": null,
   "metadata": {},
   "outputs": [],
   "source": [
    "CS13 CK5\n",
    "CS14 CK8\n",
    "CS17 CK7\n",
    "CS244 46K\n",
    "CS247 61K"
   ]
  },
  {
   "cell_type": "code",
   "execution_count": 104,
   "metadata": {},
   "outputs": [
    {
     "data": {
      "image/svg+xml": [
       "<svg baseProfile=\"full\" height=\"200px\" version=\"1.1\" viewBox=\"0 0 400 200\" width=\"400px\" xml:space=\"preserve\" xmlns=\"http://www.w3.org/2000/svg\" xmlns:rdkit=\"http://www.rdkit.org/xml\" xmlns:xlink=\"http://www.w3.org/1999/xlink\">\n",
       "<!-- END OF HEADER -->\n",
       "<rect height=\"200\" style=\"opacity:1.0;fill:#FFFFFF;stroke:none\" width=\"400\" x=\"0\" y=\"0\"> </rect>\n",
       "<path class=\"bond-0\" d=\"M 81.3155,112.799 L 78.5607,105.785\" style=\"fill:none;fill-rule:evenodd;stroke:#CCCC00;stroke-width:2px;stroke-linecap:butt;stroke-linejoin:miter;stroke-opacity:1\"/>\n",
       "<path class=\"bond-0\" d=\"M 78.5607,105.785 L 75.8059,98.7717\" style=\"fill:none;fill-rule:evenodd;stroke:#000000;stroke-width:2px;stroke-linecap:butt;stroke-linejoin:miter;stroke-opacity:1\"/>\n",
       "<path class=\"bond-21\" d=\"M 80.0673,117.874 L 74.2038,122.698\" style=\"fill:none;fill-rule:evenodd;stroke:#CCCC00;stroke-width:2px;stroke-linecap:butt;stroke-linejoin:miter;stroke-opacity:1\"/>\n",
       "<path class=\"bond-21\" d=\"M 74.2038,122.698 L 68.3404,127.522\" style=\"fill:none;fill-rule:evenodd;stroke:#000000;stroke-width:2px;stroke-linecap:butt;stroke-linejoin:miter;stroke-opacity:1\"/>\n",
       "<path class=\"bond-1\" d=\"M 75.8059,98.7717 L 85.6848,83.2987\" style=\"fill:none;fill-rule:evenodd;stroke:#000000;stroke-width:2px;stroke-linecap:butt;stroke-linejoin:miter;stroke-opacity:1\"/>\n",
       "<path class=\"bond-16\" d=\"M 75.8059,98.7717 L 57.4813,99.8744\" style=\"fill:none;fill-rule:evenodd;stroke:#000000;stroke-width:2px;stroke-linecap:butt;stroke-linejoin:miter;stroke-opacity:1\"/>\n",
       "<path class=\"bond-16\" d=\"M 73.2778,102.602 L 60.4506,103.374\" style=\"fill:none;fill-rule:evenodd;stroke:#000000;stroke-width:2px;stroke-linecap:butt;stroke-linejoin:miter;stroke-opacity:1\"/>\n",
       "<path class=\"bond-2\" d=\"M 85.6848,83.2987 L 93.5286,83.6489\" style=\"fill:none;fill-rule:evenodd;stroke:#000000;stroke-width:2px;stroke-linecap:butt;stroke-linejoin:miter;stroke-opacity:1\"/>\n",
       "<path class=\"bond-2\" d=\"M 93.5286,83.6489 L 101.372,83.9992\" style=\"fill:none;fill-rule:evenodd;stroke:#0000FF;stroke-width:2px;stroke-linecap:butt;stroke-linejoin:miter;stroke-opacity:1\"/>\n",
       "<path class=\"bond-2\" d=\"M 88.2017,79.7359 L 93.6923,79.981\" style=\"fill:none;fill-rule:evenodd;stroke:#000000;stroke-width:2px;stroke-linecap:butt;stroke-linejoin:miter;stroke-opacity:1\"/>\n",
       "<path class=\"bond-2\" d=\"M 93.6923,79.981 L 99.183,80.2262\" style=\"fill:none;fill-rule:evenodd;stroke:#0000FF;stroke-width:2px;stroke-linecap:butt;stroke-linejoin:miter;stroke-opacity:1\"/>\n",
       "<path class=\"bond-22\" d=\"M 85.6848,83.2987 L 77.2242,67.0069\" style=\"fill:none;fill-rule:evenodd;stroke:#000000;stroke-width:2px;stroke-linecap:butt;stroke-linejoin:miter;stroke-opacity:1\"/>\n",
       "<path class=\"bond-3\" d=\"M 105.978,81.0579 L 109.94,74.8513\" style=\"fill:none;fill-rule:evenodd;stroke:#0000FF;stroke-width:2px;stroke-linecap:butt;stroke-linejoin:miter;stroke-opacity:1\"/>\n",
       "<path class=\"bond-3\" d=\"M 109.94,74.8513 L 113.903,68.6446\" style=\"fill:none;fill-rule:evenodd;stroke:#000000;stroke-width:2px;stroke-linecap:butt;stroke-linejoin:miter;stroke-opacity:1\"/>\n",
       "<path class=\"bond-4\" d=\"M 113.903,68.6446 L 110.467,62.0284\" style=\"fill:none;fill-rule:evenodd;stroke:#000000;stroke-width:2px;stroke-linecap:butt;stroke-linejoin:miter;stroke-opacity:1\"/>\n",
       "<path class=\"bond-4\" d=\"M 110.467,62.0284 L 107.031,55.4123\" style=\"fill:none;fill-rule:evenodd;stroke:#0000FF;stroke-width:2px;stroke-linecap:butt;stroke-linejoin:miter;stroke-opacity:1\"/>\n",
       "<path class=\"bond-4\" d=\"M 109.614,68.3518 L 107.209,63.7206\" style=\"fill:none;fill-rule:evenodd;stroke:#000000;stroke-width:2px;stroke-linecap:butt;stroke-linejoin:miter;stroke-opacity:1\"/>\n",
       "<path class=\"bond-4\" d=\"M 107.209,63.7206 L 104.804,59.0893\" style=\"fill:none;fill-rule:evenodd;stroke:#0000FF;stroke-width:2px;stroke-linecap:butt;stroke-linejoin:miter;stroke-opacity:1\"/>\n",
       "<path class=\"bond-7\" d=\"M 113.903,68.6446 L 120.421,68.9356\" style=\"fill:none;fill-rule:evenodd;stroke:#000000;stroke-width:2px;stroke-linecap:butt;stroke-linejoin:miter;stroke-opacity:1\"/>\n",
       "<path class=\"bond-7\" d=\"M 120.421,68.9356 L 126.939,69.2266\" style=\"fill:none;fill-rule:evenodd;stroke:#0000FF;stroke-width:2px;stroke-linecap:butt;stroke-linejoin:miter;stroke-opacity:1\"/>\n",
       "<path class=\"bond-5\" d=\"M 102.791,52.2343 L 94.9468,51.8841\" style=\"fill:none;fill-rule:evenodd;stroke:#0000FF;stroke-width:2px;stroke-linecap:butt;stroke-linejoin:miter;stroke-opacity:1\"/>\n",
       "<path class=\"bond-5\" d=\"M 94.9468,51.8841 L 87.1031,51.5339\" style=\"fill:none;fill-rule:evenodd;stroke:#000000;stroke-width:2px;stroke-linecap:butt;stroke-linejoin:miter;stroke-opacity:1\"/>\n",
       "<path class=\"bond-6\" d=\"M 87.1031,51.5339 L 77.2242,67.0069\" style=\"fill:none;fill-rule:evenodd;stroke:#000000;stroke-width:2px;stroke-linecap:butt;stroke-linejoin:miter;stroke-opacity:1\"/>\n",
       "<path class=\"bond-6\" d=\"M 88.7158,55.8306 L 81.8006,66.6617\" style=\"fill:none;fill-rule:evenodd;stroke:#000000;stroke-width:2px;stroke-linecap:butt;stroke-linejoin:miter;stroke-opacity:1\"/>\n",
       "<path class=\"bond-8\" d=\"M 133.831,72.523 L 137.267,79.1391\" style=\"fill:none;fill-rule:evenodd;stroke:#0000FF;stroke-width:2px;stroke-linecap:butt;stroke-linejoin:miter;stroke-opacity:1\"/>\n",
       "<path class=\"bond-8\" d=\"M 137.267,79.1391 L 140.703,85.7553\" style=\"fill:none;fill-rule:evenodd;stroke:#000000;stroke-width:2px;stroke-linecap:butt;stroke-linejoin:miter;stroke-opacity:1\"/>\n",
       "<path class=\"bond-9\" d=\"M 140.703,85.7553 L 130.824,101.228\" style=\"fill:none;fill-rule:evenodd;stroke:#000000;stroke-width:2px;stroke-linecap:butt;stroke-linejoin:miter;stroke-opacity:1\"/>\n",
       "<path class=\"bond-9\" d=\"M 142.316,90.052 L 135.401,100.883\" style=\"fill:none;fill-rule:evenodd;stroke:#000000;stroke-width:2px;stroke-linecap:butt;stroke-linejoin:miter;stroke-opacity:1\"/>\n",
       "<path class=\"bond-23\" d=\"M 140.703,85.7553 L 159.043,86.5741\" style=\"fill:none;fill-rule:evenodd;stroke:#000000;stroke-width:2px;stroke-linecap:butt;stroke-linejoin:miter;stroke-opacity:1\"/>\n",
       "<path class=\"bond-10\" d=\"M 130.824,101.228 L 139.285,117.52\" style=\"fill:none;fill-rule:evenodd;stroke:#000000;stroke-width:2px;stroke-linecap:butt;stroke-linejoin:miter;stroke-opacity:1\"/>\n",
       "<path class=\"bond-11\" d=\"M 139.285,117.52 L 157.624,118.339\" style=\"fill:none;fill-rule:evenodd;stroke:#000000;stroke-width:2px;stroke-linecap:butt;stroke-linejoin:miter;stroke-opacity:1\"/>\n",
       "<path class=\"bond-11\" d=\"M 142.2,113.975 L 155.037,114.548\" style=\"fill:none;fill-rule:evenodd;stroke:#000000;stroke-width:2px;stroke-linecap:butt;stroke-linejoin:miter;stroke-opacity:1\"/>\n",
       "<path class=\"bond-14\" d=\"M 139.285,117.52 L 129.406,132.993\" style=\"fill:none;fill-rule:evenodd;stroke:#000000;stroke-width:2px;stroke-linecap:butt;stroke-linejoin:miter;stroke-opacity:1\"/>\n",
       "<path class=\"bond-12\" d=\"M 157.624,118.339 L 167.503,102.866\" style=\"fill:none;fill-rule:evenodd;stroke:#000000;stroke-width:2px;stroke-linecap:butt;stroke-linejoin:miter;stroke-opacity:1\"/>\n",
       "<path class=\"bond-13\" d=\"M 167.503,102.866 L 159.043,86.5741\" style=\"fill:none;fill-rule:evenodd;stroke:#000000;stroke-width:2px;stroke-linecap:butt;stroke-linejoin:miter;stroke-opacity:1\"/>\n",
       "<path class=\"bond-13\" d=\"M 162.976,102.114 L 157.053,90.71\" style=\"fill:none;fill-rule:evenodd;stroke:#000000;stroke-width:2px;stroke-linecap:butt;stroke-linejoin:miter;stroke-opacity:1\"/>\n",
       "<path class=\"bond-15\" d=\"M 129.406,132.993 L 125.443,139.2\" style=\"fill:none;fill-rule:evenodd;stroke:#000000;stroke-width:2px;stroke-linecap:butt;stroke-linejoin:miter;stroke-opacity:1\"/>\n",
       "<path class=\"bond-15\" d=\"M 125.443,139.2 L 121.481,145.407\" style=\"fill:none;fill-rule:evenodd;stroke:#0000FF;stroke-width:2px;stroke-linecap:butt;stroke-linejoin:miter;stroke-opacity:1\"/>\n",
       "<path class=\"bond-15\" d=\"M 125.123,132.879 L 121.754,138.155\" style=\"fill:none;fill-rule:evenodd;stroke:#000000;stroke-width:2px;stroke-linecap:butt;stroke-linejoin:miter;stroke-opacity:1\"/>\n",
       "<path class=\"bond-15\" d=\"M 121.754,138.155 L 118.386,143.431\" style=\"fill:none;fill-rule:evenodd;stroke:#0000FF;stroke-width:2px;stroke-linecap:butt;stroke-linejoin:miter;stroke-opacity:1\"/>\n",
       "<path class=\"bond-15\" d=\"M 131.312,136.831 L 127.943,142.107\" style=\"fill:none;fill-rule:evenodd;stroke:#000000;stroke-width:2px;stroke-linecap:butt;stroke-linejoin:miter;stroke-opacity:1\"/>\n",
       "<path class=\"bond-15\" d=\"M 127.943,142.107 L 124.575,147.382\" style=\"fill:none;fill-rule:evenodd;stroke:#0000FF;stroke-width:2px;stroke-linecap:butt;stroke-linejoin:miter;stroke-opacity:1\"/>\n",
       "<path class=\"bond-17\" d=\"M 57.4813,99.8744 L 55.5716,107.229\" style=\"fill:none;fill-rule:evenodd;stroke:#000000;stroke-width:2px;stroke-linecap:butt;stroke-linejoin:miter;stroke-opacity:1\"/>\n",
       "<path class=\"bond-17\" d=\"M 55.5716,107.229 L 53.6619,114.583\" style=\"fill:none;fill-rule:evenodd;stroke:#0000FF;stroke-width:2px;stroke-linecap:butt;stroke-linejoin:miter;stroke-opacity:1\"/>\n",
       "<path class=\"bond-20\" d=\"M 57.4813,99.8744 L 45.8184,85.6976\" style=\"fill:none;fill-rule:evenodd;stroke:#000000;stroke-width:2px;stroke-linecap:butt;stroke-linejoin:miter;stroke-opacity:1\"/>\n",
       "<path class=\"bond-18\" d=\"M 55.5193,119.336 L 61.9299,123.429\" style=\"fill:none;fill-rule:evenodd;stroke:#0000FF;stroke-width:2px;stroke-linecap:butt;stroke-linejoin:miter;stroke-opacity:1\"/>\n",
       "<path class=\"bond-18\" d=\"M 61.9299,123.429 L 68.3404,127.522\" style=\"fill:none;fill-rule:evenodd;stroke:#000000;stroke-width:2px;stroke-linecap:butt;stroke-linejoin:miter;stroke-opacity:1\"/>\n",
       "<path class=\"bond-18\" d=\"M 59.4182,117.469 L 63.9056,120.334\" style=\"fill:none;fill-rule:evenodd;stroke:#0000FF;stroke-width:2px;stroke-linecap:butt;stroke-linejoin:miter;stroke-opacity:1\"/>\n",
       "<path class=\"bond-18\" d=\"M 63.9056,120.334 L 68.393,123.199\" style=\"fill:none;fill-rule:evenodd;stroke:#000000;stroke-width:2px;stroke-linecap:butt;stroke-linejoin:miter;stroke-opacity:1\"/>\n",
       "<path class=\"bond-19\" d=\"M 68.3404,127.522 L 69.443,145.846\" style=\"fill:none;fill-rule:evenodd;stroke:#000000;stroke-width:2px;stroke-linecap:butt;stroke-linejoin:miter;stroke-opacity:1\"/>\n",
       "<text style=\"font-size:6px;font-style:normal;font-weight:normal;fill-opacity:1;stroke:none;font-family:sans-serif;text-anchor:start;fill:#CCCC00\" x=\"80.0673\" y=\"118.918\"><tspan>S</tspan></text>\n",
       "<text style=\"font-size:6px;font-style:normal;font-weight:normal;fill-opacity:1;stroke:none;font-family:sans-serif;text-anchor:start;fill:#0000FF\" x=\"101.372\" y=\"87.1772\"><tspan>N</tspan></text>\n",
       "<text style=\"font-size:6px;font-style:normal;font-weight:normal;fill-opacity:1;stroke:none;font-family:sans-serif;text-anchor:start;fill:#0000FF\" x=\"102.791\" y=\"55.4123\"><tspan>N</tspan></text>\n",
       "<text style=\"font-size:6px;font-style:normal;font-weight:normal;fill-opacity:1;stroke:none;font-family:sans-serif;text-anchor:start;fill:#0000FF\" x=\"126.939\" y=\"72.523\"><tspan>NH</tspan></text>\n",
       "<text style=\"font-size:6px;font-style:normal;font-weight:normal;fill-opacity:1;stroke:none;font-family:sans-serif;text-anchor:start;fill:#0000FF\" x=\"116.875\" y=\"151.526\"><tspan>N</tspan></text>\n",
       "<text style=\"font-size:6px;font-style:normal;font-weight:normal;fill-opacity:1;stroke:none;font-family:sans-serif;text-anchor:start;fill:#0000FF\" x=\"50.2155\" y=\"120.702\"><tspan>N</tspan></text>\n",
       "<path class=\"bond-0\" d=\"M 209.091,88.1385 L 214.249,93.3064\" style=\"fill:none;fill-rule:evenodd;stroke:#000000;stroke-width:2px;stroke-linecap:butt;stroke-linejoin:miter;stroke-opacity:1\"/>\n",
       "<path class=\"bond-0\" d=\"M 214.249,93.3064 L 219.408,98.4744\" style=\"fill:none;fill-rule:evenodd;stroke:#0000FF;stroke-width:2px;stroke-linecap:butt;stroke-linejoin:miter;stroke-opacity:1\"/>\n",
       "<path class=\"bond-1\" d=\"M 221.237,104.191 L 219.265,111.525\" style=\"fill:none;fill-rule:evenodd;stroke:#0000FF;stroke-width:2px;stroke-linecap:butt;stroke-linejoin:miter;stroke-opacity:1\"/>\n",
       "<path class=\"bond-1\" d=\"M 219.265,111.525 L 217.293,118.859\" style=\"fill:none;fill-rule:evenodd;stroke:#000000;stroke-width:2px;stroke-linecap:butt;stroke-linejoin:miter;stroke-opacity:1\"/>\n",
       "<path class=\"bond-2\" d=\"M 224.712,100.423 L 232.254,98.4095\" style=\"fill:none;fill-rule:evenodd;stroke:#0000FF;stroke-width:2px;stroke-linecap:butt;stroke-linejoin:miter;stroke-opacity:1\"/>\n",
       "<path class=\"bond-2\" d=\"M 232.254,98.4095 L 239.797,96.3959\" style=\"fill:none;fill-rule:evenodd;stroke:#000000;stroke-width:2px;stroke-linecap:butt;stroke-linejoin:miter;stroke-opacity:1\"/>\n",
       "<path class=\"bond-3\" d=\"M 239.797,96.3959 L 244.564,78.668\" style=\"fill:none;fill-rule:evenodd;stroke:#000000;stroke-width:2px;stroke-linecap:butt;stroke-linejoin:miter;stroke-opacity:1\"/>\n",
       "<path class=\"bond-3\" d=\"M 244.057,94.6902 L 247.394,82.2807\" style=\"fill:none;fill-rule:evenodd;stroke:#000000;stroke-width:2px;stroke-linecap:butt;stroke-linejoin:miter;stroke-opacity:1\"/>\n",
       "<path class=\"bond-22\" d=\"M 239.797,96.3959 L 252.766,109.389\" style=\"fill:none;fill-rule:evenodd;stroke:#000000;stroke-width:2px;stroke-linecap:butt;stroke-linejoin:miter;stroke-opacity:1\"/>\n",
       "<path class=\"bond-4\" d=\"M 244.564,78.668 L 262.3,73.9328\" style=\"fill:none;fill-rule:evenodd;stroke:#000000;stroke-width:2px;stroke-linecap:butt;stroke-linejoin:miter;stroke-opacity:1\"/>\n",
       "<path class=\"bond-5\" d=\"M 262.3,73.9328 L 275.27,86.9254\" style=\"fill:none;fill-rule:evenodd;stroke:#000000;stroke-width:2px;stroke-linecap:butt;stroke-linejoin:miter;stroke-opacity:1\"/>\n",
       "<path class=\"bond-5\" d=\"M 261.647,78.4755 L 270.726,87.5703\" style=\"fill:none;fill-rule:evenodd;stroke:#000000;stroke-width:2px;stroke-linecap:butt;stroke-linejoin:miter;stroke-opacity:1\"/>\n",
       "<path class=\"bond-6\" d=\"M 275.27,86.9254 L 281.486,85.2658\" style=\"fill:none;fill-rule:evenodd;stroke:#000000;stroke-width:2px;stroke-linecap:butt;stroke-linejoin:miter;stroke-opacity:1\"/>\n",
       "<path class=\"bond-6\" d=\"M 281.486,85.2658 L 287.702,83.6062\" style=\"fill:none;fill-rule:evenodd;stroke:#0000FF;stroke-width:2px;stroke-linecap:butt;stroke-linejoin:miter;stroke-opacity:1\"/>\n",
       "<path class=\"bond-20\" d=\"M 275.27,86.9254 L 270.502,104.653\" style=\"fill:none;fill-rule:evenodd;stroke:#000000;stroke-width:2px;stroke-linecap:butt;stroke-linejoin:miter;stroke-opacity:1\"/>\n",
       "<path class=\"bond-7\" d=\"M 296.06,85.2498 L 301.018,90.2163\" style=\"fill:none;fill-rule:evenodd;stroke:#0000FF;stroke-width:2px;stroke-linecap:butt;stroke-linejoin:miter;stroke-opacity:1\"/>\n",
       "<path class=\"bond-7\" d=\"M 301.018,90.2163 L 305.975,95.1828\" style=\"fill:none;fill-rule:evenodd;stroke:#000000;stroke-width:2px;stroke-linecap:butt;stroke-linejoin:miter;stroke-opacity:1\"/>\n",
       "<path class=\"bond-8\" d=\"M 305.975,95.1828 L 304.003,102.517\" style=\"fill:none;fill-rule:evenodd;stroke:#000000;stroke-width:2px;stroke-linecap:butt;stroke-linejoin:miter;stroke-opacity:1\"/>\n",
       "<path class=\"bond-8\" d=\"M 304.003,102.517 L 302.03,109.851\" style=\"fill:none;fill-rule:evenodd;stroke:#0000FF;stroke-width:2px;stroke-linecap:butt;stroke-linejoin:miter;stroke-opacity:1\"/>\n",
       "<path class=\"bond-8\" d=\"M 308.929,98.3366 L 307.548,103.47\" style=\"fill:none;fill-rule:evenodd;stroke:#000000;stroke-width:2px;stroke-linecap:butt;stroke-linejoin:miter;stroke-opacity:1\"/>\n",
       "<path class=\"bond-8\" d=\"M 307.548,103.47 L 306.168,108.604\" style=\"fill:none;fill-rule:evenodd;stroke:#0000FF;stroke-width:2px;stroke-linecap:butt;stroke-linejoin:miter;stroke-opacity:1\"/>\n",
       "<path class=\"bond-23\" d=\"M 305.975,95.1828 L 313.517,93.1692\" style=\"fill:none;fill-rule:evenodd;stroke:#000000;stroke-width:2px;stroke-linecap:butt;stroke-linejoin:miter;stroke-opacity:1\"/>\n",
       "<path class=\"bond-23\" d=\"M 313.517,93.1692 L 321.06,91.1556\" style=\"fill:none;fill-rule:evenodd;stroke:#0000FF;stroke-width:2px;stroke-linecap:butt;stroke-linejoin:miter;stroke-opacity:1\"/>\n",
       "<path class=\"bond-9\" d=\"M 303.86,115.567 L 309.018,120.735\" style=\"fill:none;fill-rule:evenodd;stroke:#0000FF;stroke-width:2px;stroke-linecap:butt;stroke-linejoin:miter;stroke-opacity:1\"/>\n",
       "<path class=\"bond-9\" d=\"M 309.018,120.735 L 314.177,125.903\" style=\"fill:none;fill-rule:evenodd;stroke:#000000;stroke-width:2px;stroke-linecap:butt;stroke-linejoin:miter;stroke-opacity:1\"/>\n",
       "<path class=\"bond-10\" d=\"M 314.177,125.903 L 331.913,121.168\" style=\"fill:none;fill-rule:evenodd;stroke:#000000;stroke-width:2px;stroke-linecap:butt;stroke-linejoin:miter;stroke-opacity:1\"/>\n",
       "<path class=\"bond-10\" d=\"M 315.89,121.646 L 328.306,118.331\" style=\"fill:none;fill-rule:evenodd;stroke:#000000;stroke-width:2px;stroke-linecap:butt;stroke-linejoin:miter;stroke-opacity:1\"/>\n",
       "<path class=\"bond-11\" d=\"M 331.913,121.168 L 336.681,103.44\" style=\"fill:none;fill-rule:evenodd;stroke:#000000;stroke-width:2px;stroke-linecap:butt;stroke-linejoin:miter;stroke-opacity:1\"/>\n",
       "<path class=\"bond-12\" d=\"M 336.681,103.44 L 331.522,98.2723\" style=\"fill:none;fill-rule:evenodd;stroke:#000000;stroke-width:2px;stroke-linecap:butt;stroke-linejoin:miter;stroke-opacity:1\"/>\n",
       "<path class=\"bond-12\" d=\"M 331.522,98.2723 L 326.364,93.1043\" style=\"fill:none;fill-rule:evenodd;stroke:#0000FF;stroke-width:2px;stroke-linecap:butt;stroke-linejoin:miter;stroke-opacity:1\"/>\n",
       "<path class=\"bond-12\" d=\"M 332.535,104.484 L 328.924,100.866\" style=\"fill:none;fill-rule:evenodd;stroke:#000000;stroke-width:2px;stroke-linecap:butt;stroke-linejoin:miter;stroke-opacity:1\"/>\n",
       "<path class=\"bond-12\" d=\"M 328.924,100.866 L 325.313,97.2485\" style=\"fill:none;fill-rule:evenodd;stroke:#0000FF;stroke-width:2px;stroke-linecap:butt;stroke-linejoin:miter;stroke-opacity:1\"/>\n",
       "<path class=\"bond-13\" d=\"M 336.681,103.44 L 354.417,98.705\" style=\"fill:none;fill-rule:evenodd;stroke:#000000;stroke-width:2px;stroke-linecap:butt;stroke-linejoin:miter;stroke-opacity:1\"/>\n",
       "<path class=\"bond-14\" d=\"M 354.417,98.705 L 357.126,91.6686\" style=\"fill:none;fill-rule:evenodd;stroke:#000000;stroke-width:2px;stroke-linecap:butt;stroke-linejoin:miter;stroke-opacity:1\"/>\n",
       "<path class=\"bond-14\" d=\"M 357.126,91.6686 L 359.834,84.6322\" style=\"fill:none;fill-rule:evenodd;stroke:#CCCC00;stroke-width:2px;stroke-linecap:butt;stroke-linejoin:miter;stroke-opacity:1\"/>\n",
       "<path class=\"bond-24\" d=\"M 354.417,98.705 L 368.673,110.271\" style=\"fill:none;fill-rule:evenodd;stroke:#000000;stroke-width:2px;stroke-linecap:butt;stroke-linejoin:miter;stroke-opacity:1\"/>\n",
       "<path class=\"bond-24\" d=\"M 358.869,97.5887 L 368.848,105.685\" style=\"fill:none;fill-rule:evenodd;stroke:#000000;stroke-width:2px;stroke-linecap:butt;stroke-linejoin:miter;stroke-opacity:1\"/>\n",
       "<path class=\"bond-15\" d=\"M 363.461,81.7032 L 371.402,82.1266\" style=\"fill:none;fill-rule:evenodd;stroke:#CCCC00;stroke-width:2px;stroke-linecap:butt;stroke-linejoin:miter;stroke-opacity:1\"/>\n",
       "<path class=\"bond-15\" d=\"M 371.402,82.1266 L 379.343,82.55\" style=\"fill:none;fill-rule:evenodd;stroke:#000000;stroke-width:2px;stroke-linecap:butt;stroke-linejoin:miter;stroke-opacity:1\"/>\n",
       "<path class=\"bond-16\" d=\"M 379.343,82.55 L 390.909,68.2938\" style=\"fill:none;fill-rule:evenodd;stroke:#000000;stroke-width:2px;stroke-linecap:butt;stroke-linejoin:miter;stroke-opacity:1\"/>\n",
       "<path class=\"bond-17\" d=\"M 379.343,82.55 L 381.302,89.8884\" style=\"fill:none;fill-rule:evenodd;stroke:#000000;stroke-width:2px;stroke-linecap:butt;stroke-linejoin:miter;stroke-opacity:1\"/>\n",
       "<path class=\"bond-17\" d=\"M 381.302,89.8884 L 383.262,97.2269\" style=\"fill:none;fill-rule:evenodd;stroke:#0000FF;stroke-width:2px;stroke-linecap:butt;stroke-linejoin:miter;stroke-opacity:1\"/>\n",
       "<path class=\"bond-17\" d=\"M 376.384,85.6986 L 377.755,90.8355\" style=\"fill:none;fill-rule:evenodd;stroke:#000000;stroke-width:2px;stroke-linecap:butt;stroke-linejoin:miter;stroke-opacity:1\"/>\n",
       "<path class=\"bond-17\" d=\"M 377.755,90.8355 L 379.127,95.9724\" style=\"fill:none;fill-rule:evenodd;stroke:#0000FF;stroke-width:2px;stroke-linecap:butt;stroke-linejoin:miter;stroke-opacity:1\"/>\n",
       "<path class=\"bond-18\" d=\"M 381.427,102.005 L 375.05,106.138\" style=\"fill:none;fill-rule:evenodd;stroke:#0000FF;stroke-width:2px;stroke-linecap:butt;stroke-linejoin:miter;stroke-opacity:1\"/>\n",
       "<path class=\"bond-18\" d=\"M 375.05,106.138 L 368.673,110.271\" style=\"fill:none;fill-rule:evenodd;stroke:#000000;stroke-width:2px;stroke-linecap:butt;stroke-linejoin:miter;stroke-opacity:1\"/>\n",
       "<path class=\"bond-19\" d=\"M 368.673,110.271 L 367.696,128.603\" style=\"fill:none;fill-rule:evenodd;stroke:#000000;stroke-width:2px;stroke-linecap:butt;stroke-linejoin:miter;stroke-opacity:1\"/>\n",
       "<path class=\"bond-21\" d=\"M 270.502,104.653 L 252.766,109.389\" style=\"fill:none;fill-rule:evenodd;stroke:#000000;stroke-width:2px;stroke-linecap:butt;stroke-linejoin:miter;stroke-opacity:1\"/>\n",
       "<path class=\"bond-21\" d=\"M 266.895,101.816 L 254.479,105.131\" style=\"fill:none;fill-rule:evenodd;stroke:#000000;stroke-width:2px;stroke-linecap:butt;stroke-linejoin:miter;stroke-opacity:1\"/>\n",
       "<text style=\"font-size:6px;font-style:normal;font-weight:normal;fill-opacity:1;stroke:none;font-family:sans-serif;text-anchor:start;fill:#0000FF\" x=\"219.408\" y=\"104.191\"><tspan>N</tspan></text>\n",
       "<text style=\"font-size:6px;font-style:normal;font-weight:normal;fill-opacity:1;stroke:none;font-family:sans-serif;text-anchor:start;fill:#0000FF\" x=\"287.702\" y=\"85.2498\"><tspan>NH</tspan></text>\n",
       "<text style=\"font-size:6px;font-style:normal;font-weight:normal;fill-opacity:1;stroke:none;font-family:sans-serif;text-anchor:start;fill:#0000FF\" x=\"298.556\" y=\"115.97\"><tspan>N</tspan></text>\n",
       "<text style=\"font-size:6px;font-style:normal;font-weight:normal;fill-opacity:1;stroke:none;font-family:sans-serif;text-anchor:start;fill:#0000FF\" x=\"321.06\" y=\"93.5072\"><tspan>N</tspan></text>\n",
       "<text style=\"font-size:6px;font-style:normal;font-weight:normal;fill-opacity:1;stroke:none;font-family:sans-serif;text-anchor:start;fill:#CCCC00\" x=\"358.562\" y=\"84.6322\"><tspan>S</tspan></text>\n",
       "<text style=\"font-size:6px;font-style:normal;font-weight:normal;fill-opacity:1;stroke:none;font-family:sans-serif;text-anchor:start;fill:#0000FF\" x=\"381.427\" y=\"103.346\"><tspan>N</tspan></text>\n",
       "</svg>"
      ],
      "text/plain": [
       "<IPython.core.display.SVG object>"
      ]
     },
     "execution_count": 104,
     "metadata": {},
     "output_type": "execute_result"
    }
   ],
   "source": [
    "from rdkit.Chem import Draw\n",
    "ls = [dic_csar_mols['CS15'], dic_crys_mols['CK8']]\n",
    "\n",
    "img = Draw.MolsToGridImage( ls, molsPerRow=2, useSVG=True )\n",
    "img"
   ]
  },
  {
   "cell_type": "code",
   "execution_count": 102,
   "metadata": {},
   "outputs": [],
   "source": [
    "\n",
    "\n",
    "# df_prot_labels.loc['4EK6'] # 4ek6 fue removida durante el modelado con \n",
    "# modeller ya que modelar el loop no fue posible"
   ]
  },
  {
   "cell_type": "code",
   "execution_count": 45,
   "metadata": {},
   "outputs": [
    {
     "data": {
      "text/plain": [
       "19"
      ]
     },
     "execution_count": 45,
     "metadata": {},
     "output_type": "execute_result"
    }
   ],
   "source": [
    "df_csar_2012[df_csar_2012.ActiveInactive == 'Active']['PDB ID'].count()"
   ]
  },
  {
   "cell_type": "code",
   "execution_count": 106,
   "metadata": {},
   "outputs": [],
   "source": [
    "# No están ni 4e6k (CS10) ni 4fks (cs246)"
   ]
  },
  {
   "cell_type": "code",
   "execution_count": null,
   "metadata": {},
   "outputs": [],
   "source": [
    "# ¿Por que 4fks no está? Las compararemos a continuación"
   ]
  },
  {
   "cell_type": "code",
   "execution_count": 108,
   "metadata": {},
   "outputs": [
    {
     "data": {
      "image/png": "[encoded data removed]",
      "text/plain": [
       "<rdkit.Chem.rdchem.Mol at 0x7f34f71c8e40>"
      ]
     },
     "execution_count": 108,
     "metadata": {},
     "output_type": "execute_result"
    }
   ],
   "source": [
    "dic_csar_mols['CS246']"
   ]
  },
  {
   "cell_type": "code",
   "execution_count": 111,
   "metadata": {},
   "outputs": [
    {
     "data": {
      "text/plain": [
       "'46K'"
      ]
     },
     "execution_count": 111,
     "metadata": {},
     "output_type": "execute_result"
    }
   ],
   "source": [
    "df_prot_labels.loc['4fks', 'Inhib']"
   ]
  },
  {
   "cell_type": "code",
   "execution_count": 112,
   "metadata": {},
   "outputs": [
    {
     "data": {
      "image/png": "[encoded data removed]",
      "text/plain": [
       "<rdkit.Chem.rdchem.Mol at 0x7f34f4fe9670>"
      ]
     },
     "execution_count": 112,
     "metadata": {},
     "output_type": "execute_result"
    }
   ],
   "source": [
    "# LA conformación reportada por el pdb es esta:\n",
    "dic_crys_mols['46K']"
   ]
  },
  {
   "cell_type": "code",
   "execution_count": 160,
   "metadata": {},
   "outputs": [
    {
     "data": {
      "text/plain": [
       "0.9312859884836853"
      ]
     },
     "execution_count": 160,
     "metadata": {},
     "output_type": "execute_result"
    }
   ],
   "source": [
    "DataStructs.FingerprintSimilarity(dic_fps_csar['CS246'], dic_fps_crys['46K'], \n",
    "                                  metric = DataStructs.DiceSimilarity)"
   ]
  }
 ],
 "metadata": {
  "kernelspec": {
   "display_name": "Python 3",
   "language": "python",
   "name": "python3"
  },
  "language_info": {
   "codemirror_mode": {
    "name": "ipython",
    "version": 3
   },
   "file_extension": ".py",
   "mimetype": "text/x-python",
   "name": "python",
   "nbconvert_exporter": "python",
   "pygments_lexer": "ipython3",
   "version": "3.7.4"
  }
 },
 "nbformat": 4,
 "nbformat_minor": 2
}
