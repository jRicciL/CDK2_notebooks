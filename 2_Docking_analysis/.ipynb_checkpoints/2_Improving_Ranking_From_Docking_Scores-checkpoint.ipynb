{
 "cells": [
  {
   "cell_type": "markdown",
   "metadata": {},
   "source": [
    "## Ligand Efficiency"
   ]
  },
  {
   "cell_type": "code",
   "execution_count": 1,
   "metadata": {},
   "outputs": [],
   "source": [
    "import pandas as pd\n",
    "import numpy as np\n",
    "from glob import glob"
   ]
  },
  {
   "cell_type": "code",
   "execution_count": 2,
   "metadata": {},
   "outputs": [],
   "source": [
    "from rdkit import Chem, RDLogger\n",
    "from rdkit.Chem import rdchem\n",
    "# neccesary to ignore warning realte to molecule kekulization\n",
    "RDLogger.DisableLog('rdApp.*')"
   ]
  },
  {
   "cell_type": "code",
   "execution_count": 3,
   "metadata": {},
   "outputs": [],
   "source": [
    "def get_ligand_efficiency(scores_df, n_atoms_df, column_name = 'ActiveInactive'):\n",
    "    # First we need to make sure the index are the same\n",
    "    assert all(scores_df.index == n_atoms_df.index), 'Index are not the same'\n",
    "    assert column_name in scores_df.columns, 'Make sure \"ActiveInactive\" column exists in scores_df'\n",
    "    # Then the division is performed\n",
    "    lef_df = scores_df.drop([column_name], axis = 1).div(n_atoms_df.Num_heavy_atoms, axis = 0).round(4)\n",
    "    # Finally we reinsert the ActiveInactive Column at the begining\n",
    "    lef_df.insert(0, column_name, scores_df[column_name])\n",
    "    return lef_df"
   ]
  },
  {
   "cell_type": "code",
   "execution_count": 4,
   "metadata": {},
   "outputs": [],
   "source": [
    "def get_number_atoms(list_mol_files):\n",
    "    molecules = []\n",
    "    for mol_file in list_mol_files:\n",
    "        mol_name = mol_file.split('/')[-1].split('.')[0]\n",
    "        n_atoms = Chem.SDMolSupplier(mol_file, sanitize=False)[0].GetNumHeavyAtoms()\n",
    "        # Append to the series\n",
    "        molecules.append((mol_name, n_atoms))\n",
    "    idx, values = zip(*molecules)  \n",
    "    return pd.Series(values, idx)"
   ]
  },
  {
   "cell_type": "markdown",
   "metadata": {},
   "source": [
    "### Read Dk results from previous notebook"
   ]
  },
  {
   "cell_type": "code",
   "execution_count": 5,
   "metadata": {},
   "outputs": [],
   "source": [
    "def get_ligand_efficiency(scores_df, n_atoms_series, activity_col_name = 'activity'):\n",
    "    # First we need to make sure the index are the same\n",
    "    assert all(scores_df.sort_index().index == n_atoms_series.sort_index().index), 'Index are not the same'\n",
    "    assert activity_col_name in scores_df.columns, 'Make sure \"ActiveInactive\" column exists in scores_df'\n",
    "    # Add the n atoms series to the dataframe\n",
    "    df = scores_df.copy()\n",
    "    df['Num_heavy_atoms'] = n_atoms_series\n",
    "    # Then the division is performed\n",
    "    df_leff = df.drop([activity_col_name], axis = 1)\\\n",
    "                      .div(df.Num_heavy_atoms, axis = 0)\\\n",
    "                      .round(3)\\\n",
    "                      .drop('Num_heavy_atoms', axis=1)\n",
    "    # Finally we reinsert the ActiveInactive Column at the begining\n",
    "    df_leff.insert(0, activity_col_name, df[activity_col_name])\n",
    "    return df_leff"
   ]
  },
  {
   "cell_type": "markdown",
   "metadata": {},
   "source": [
    "First get the number of atoms per ligand."
   ]
  },
  {
   "cell_type": "markdown",
   "metadata": {},
   "source": [
    "### CSAR "
   ]
  },
  {
   "cell_type": "code",
   "execution_count": 12,
   "metadata": {},
   "outputs": [],
   "source": [
    "list_mol_files = glob('../../ARCHIVOS/CRISTALES/LIGS_CDK2/CSAR/sdf/*')\n",
    "dksc_filename = 'CSAR_VINARDO_403_prots_111_mols.csv'\n",
    "\n",
    "# First get the number of atoms per ligand.\n",
    "n_atoms_series = get_number_atoms(list_mol_files)\n",
    "# Then, get the Ligand efficiency values\n",
    "df_dekois_vrd = pd.read_csv(dksc_filename, index_col='ligand')\n",
    "# LEFF\n",
    "df_leff_dekois_vrd = get_ligand_efficiency(df_dekois_vrd, n_atoms_series)\n",
    "# Save as csv\n",
    "df_leff_dekois_vrd.to_csv(dksc_filename.replace('.csv', '') + '_' + 'LigEff.csv')"
   ]
  },
  {
   "cell_type": "markdown",
   "metadata": {},
   "source": [
    "### DEKOIS"
   ]
  },
  {
   "cell_type": "code",
   "execution_count": 8,
   "metadata": {},
   "outputs": [],
   "source": [
    "list_mol_files = glob('../../ARCHIVOS/CRISTALES/LIGS_CDK2/DEKOIS_2/sdf/*')\n",
    "dksc_filename = 'DEKOIS2_VINARDO_403_prots_1240_mols.csv'\n",
    "\n",
    "# First get the number of atoms per ligand.\n",
    "n_atoms_series = get_number_atoms(list_mol_files)\n",
    "# Then, get the Ligand efficiency values\n",
    "df_dekois_vrd = pd.read_csv(dksc_filename, index_col='ligand')\n",
    "# LEFF\n",
    "df_leff_dekois_vrd = get_ligand_efficiency(df_dekois_vrd, n_atoms_series)\n",
    "# Save as csv\n",
    "df_leff_dekois_vrd.to_csv(dksc_filename.replace('.csv', '') + '_' + 'LigEff.csv')"
   ]
  },
  {
   "cell_type": "markdown",
   "metadata": {},
   "source": [
    "### DUD"
   ]
  },
  {
   "cell_type": "code",
   "execution_count": 11,
   "metadata": {},
   "outputs": [],
   "source": [
    "list_mol_files = glob('../../ARCHIVOS/CRISTALES/LIGS_CDK2/DUD_2006/sdf/*')\n",
    "dksc_filename = 'DUD2006_VINARDO_403_prots_2146_mols.csv'\n",
    "\n",
    "# First get the number of atoms per ligand.\n",
    "n_atoms_series = get_number_atoms(list_mol_files)\n",
    "# Then, get the Ligand efficiency values\n",
    "df_dud_vrd = pd.read_csv(dksc_filename, index_col='ligand')\n",
    "# LEFF\n",
    "df_leff_dud_vrd = get_ligand_efficiency(df_dud_vrd, n_atoms_series)\n",
    "# Save as csv\n",
    "df_leff_dud_vrd.to_csv(dksc_filename.replace('.csv', '') + '_' + 'LigEff.csv')"
   ]
  },
  {
   "cell_type": "code",
   "execution_count": null,
   "metadata": {},
   "outputs": [],
   "source": []
  }
 ],
 "metadata": {
  "kernelspec": {
   "display_name": "Python 3.7.6 64-bit ('mds': conda)",
   "language": "python",
   "name": "python37664bitmdsconda8fcfe9b6c3484566880235af88776fef"
  },
  "language_info": {
   "codemirror_mode": {
    "name": "ipython",
    "version": 3
   },
   "file_extension": ".py",
   "mimetype": "text/x-python",
   "name": "python",
   "nbconvert_exporter": "python",
   "pygments_lexer": "ipython3",
   "version": "3.7.6"
  }
 },
 "nbformat": 4,
 "nbformat_minor": 4
}
