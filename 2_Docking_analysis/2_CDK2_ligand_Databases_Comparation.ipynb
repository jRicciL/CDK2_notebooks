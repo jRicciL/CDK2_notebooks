{
 "cells": [
  {
   "cell_type": "code",
   "execution_count": 1,
   "metadata": {},
   "outputs": [],
   "source": [
    "# Ideas generales\n",
    "# Cargar ligandos_\n",
    "# cocristalizados\n",
    "# CSAR\n",
    "# DUD\n",
    "# DEKOIS\n",
    "\n",
    "# Identificarlos como activos o inactivos"
   ]
  },
  {
   "cell_type": "code",
   "execution_count": 2,
   "metadata": {},
   "outputs": [
    {
     "name": "stderr",
     "output_type": "stream",
     "text": [
      "RDKit WARNING: [16:44:04] Enabling RDKit 2019.09.1 jupyter extensions\n"
     ]
    }
   ],
   "source": [
    "import pandas as pd\n",
    "import numpy as np\n",
    "from glob import glob\n",
    "import os, pickle\n",
    "\n",
    "from rdkit import Chem\n",
    "from rdkit.Chem import AllChem"
   ]
  },
  {
   "cell_type": "code",
   "execution_count": null,
   "metadata": {},
   "outputs": [],
   "source": []
  },
  {
   "cell_type": "code",
   "execution_count": 13,
   "metadata": {},
   "outputs": [],
   "source": [
    "def load_molecules_from_dir(list_of_sdf_files):\n",
    "    '''Function to load molecules from sdf files using rdkit'''\n",
    "    # Load the molecules in a dictionary\n",
    "    mols_dict = {}\n",
    "    for sdf_file in list_of_sdf_files:\n",
    "        # Get the molecule name\n",
    "        mol_name = sdf_file.split('/')[-1].split('.')[0]\n",
    "        # Load the molecule\n",
    "        mol_rd = Chem.SDMolSupplier(sdf_file, sanitize = False)\n",
    "        mols_dict[mol_name] = mol_rd\n",
    "    return mols_dict\n",
    "\n",
    "def get_files_list(path_to_sdfs, actives_name = 'ligand', inactives_name = 'decoy'):\n",
    "    # Active molecules\n",
    "    file_list_ACTIVES = glob(path_to_sdfs + F'/{actives_name}*')\n",
    "    file_list_ACTIVES.sort(key = lambda x: \n",
    "                        int(x.split('/')[-1].split('.')[0].split('_')[1]) )\n",
    "    # Inactive molecules\n",
    "    file_list_INACTIVES = glob(path_to_sdfs + F'/{inactives_name}*')\n",
    "    file_list_INACTIVES.sort(key = lambda x: \n",
    "                        int(x.split('/')[-1].split('.')[0].split('_')[1]) )\n",
    "    # Join both list\n",
    "    file_list = file_list_ACTIVES + file_list_INACTIVES\n",
    "    return file_list\n",
    "\n",
    "def get_mol_dataframe(mol_dictionary):\n",
    "    # Convert to a dataframe\n",
    "    df = pd.DataFrame(mol_dictionary).T\n",
    "    df = ['mol_rdk']\n",
    "    # Activity inactivity column\n",
    "    act_inact = ['active' if i[:6] == 'ligand' else 'inactive' for i in df.index]\n",
    "    df['Activity'] = act_inact\n",
    "    # Naming the columns\n",
    "    df = df[['Activity', 'mol_rdk']]\n",
    "    return df\n"
   ]
  },
  {
   "cell_type": "markdown",
   "metadata": {},
   "source": [
    "## Cocristalized ligands\n",
    "### Read the cocrystalized ligands\n",
    "Previously, in notebook `1_Working_with_3D_structures_in_rdkit` we have saved a python object containing a dataframe with the cocristalized ligands. That dataframe is the following:"
   ]
  },
  {
   "cell_type": "code",
   "execution_count": 4,
   "metadata": {},
   "outputs": [
    {
     "data": {
      "text/html": [
       "<div>\n",
       "<style scoped>\n",
       "    .dataframe tbody tr th:only-of-type {\n",
       "        vertical-align: middle;\n",
       "    }\n",
       "\n",
       "    .dataframe tbody tr th {\n",
       "        vertical-align: top;\n",
       "    }\n",
       "\n",
       "    .dataframe thead th {\n",
       "        text-align: right;\n",
       "    }\n",
       "</style>\n",
       "<table border=\"1\" class=\"dataframe\">\n",
       "  <thead>\n",
       "    <tr style=\"text-align: right;\">\n",
       "      <th></th>\n",
       "      <th>Lig</th>\n",
       "      <th>mol_rdk</th>\n",
       "      <th>file</th>\n",
       "      <th>Labels_conf</th>\n",
       "      <th>Validation</th>\n",
       "    </tr>\n",
       "  </thead>\n",
       "  <tbody>\n",
       "    <tr>\n",
       "      <th>1aq1</th>\n",
       "      <td>STU</td>\n",
       "      <td>&lt;rdkit.Chem.rdchem.Mol object at 0x7f2483383830&gt;</td>\n",
       "      <td>../../ARCHIVOS/CRISTALES/LIGS_CDK2/POCKET_LIGS...</td>\n",
       "      <td>inact_b</td>\n",
       "      <td>v1</td>\n",
       "    </tr>\n",
       "    <tr>\n",
       "      <th>1b38</th>\n",
       "      <td>ATP</td>\n",
       "      <td>&lt;rdkit.Chem.rdchem.Mol object at 0x7f2483383870&gt;</td>\n",
       "      <td>../../ARCHIVOS/CRISTALES/LIGS_CDK2/POCKET_LIGS...</td>\n",
       "      <td>inact_a</td>\n",
       "      <td>v1</td>\n",
       "    </tr>\n",
       "    <tr>\n",
       "      <th>1b39</th>\n",
       "      <td>ATP</td>\n",
       "      <td>&lt;rdkit.Chem.rdchem.Mol object at 0x7f24833838b0&gt;</td>\n",
       "      <td>../../ARCHIVOS/CRISTALES/LIGS_CDK2/POCKET_LIGS...</td>\n",
       "      <td>inact_a</td>\n",
       "      <td>v1</td>\n",
       "    </tr>\n",
       "    <tr>\n",
       "      <th>1ckp</th>\n",
       "      <td>PVB</td>\n",
       "      <td>&lt;rdkit.Chem.rdchem.Mol object at 0x7f24833838f0&gt;</td>\n",
       "      <td>../../ARCHIVOS/CRISTALES/LIGS_CDK2/POCKET_LIGS...</td>\n",
       "      <td>inact_a</td>\n",
       "      <td>v1</td>\n",
       "    </tr>\n",
       "    <tr>\n",
       "      <th>1di8</th>\n",
       "      <td>DTQ</td>\n",
       "      <td>&lt;rdkit.Chem.rdchem.Mol object at 0x7f2483383970&gt;</td>\n",
       "      <td>../../ARCHIVOS/CRISTALES/LIGS_CDK2/POCKET_LIGS...</td>\n",
       "      <td>inact_a</td>\n",
       "      <td>v1</td>\n",
       "    </tr>\n",
       "  </tbody>\n",
       "</table>\n",
       "</div>"
      ],
      "text/plain": [
       "      Lig                                           mol_rdk  \\\n",
       "1aq1  STU  <rdkit.Chem.rdchem.Mol object at 0x7f2483383830>   \n",
       "1b38  ATP  <rdkit.Chem.rdchem.Mol object at 0x7f2483383870>   \n",
       "1b39  ATP  <rdkit.Chem.rdchem.Mol object at 0x7f24833838b0>   \n",
       "1ckp  PVB  <rdkit.Chem.rdchem.Mol object at 0x7f24833838f0>   \n",
       "1di8  DTQ  <rdkit.Chem.rdchem.Mol object at 0x7f2483383970>   \n",
       "\n",
       "                                                   file Labels_conf Validation  \n",
       "1aq1  ../../ARCHIVOS/CRISTALES/LIGS_CDK2/POCKET_LIGS...     inact_b         v1  \n",
       "1b38  ../../ARCHIVOS/CRISTALES/LIGS_CDK2/POCKET_LIGS...     inact_a         v1  \n",
       "1b39  ../../ARCHIVOS/CRISTALES/LIGS_CDK2/POCKET_LIGS...     inact_a         v1  \n",
       "1ckp  ../../ARCHIVOS/CRISTALES/LIGS_CDK2/POCKET_LIGS...     inact_a         v1  \n",
       "1di8  ../../ARCHIVOS/CRISTALES/LIGS_CDK2/POCKET_LIGS...     inact_a         v1  "
      ]
     },
     "execution_count": 4,
     "metadata": {},
     "output_type": "execute_result"
    }
   ],
   "source": [
    "path_to_file_cocrys = os.path.join(*F'../data/rdkit_molecules/cdk2_365_cocristalized_ligands.pyobj'.split('/'))\n",
    "with open(path_to_file_cocrys, 'rb') as f:\n",
    "    df_crys_poses_rdk = pickle.load(f)\n",
    "df_crys_poses_rdk.head()"
   ]
  },
  {
   "cell_type": "markdown",
   "metadata": {},
   "source": [
    "From this dataframe we are only interested in the ligand name, and in the `mol_rd` columns, which has the *rdkit* molecule instances. W also need to add column indicating that the ligand is an **Active**, or Inactive, ligand. Of course because these molecules were cocristalized with the protein we're going to assume all of them are actives.  \n",
    "\n",
    "Also, we are going to remove duplicate ligands, mainly because for this analysis we are not interested in the 3D conformation. **At the end we only going to keep 315 ligands from the original 365**."
   ]
  },
  {
   "cell_type": "code",
   "execution_count": 5,
   "metadata": {},
   "outputs": [
    {
     "data": {
      "text/plain": [
       "(315, 2)"
      ]
     },
     "execution_count": 5,
     "metadata": {},
     "output_type": "execute_result"
    }
   ],
   "source": [
    "df_COCRYS = df_crys_poses_rdk.reset_index()[['Lig', 'mol_rdk']]\n",
    "df_COCRYS.drop_duplicates(subset = 'Lig', inplace = True)\n",
    "df_COCRYS.set_index('Lig', inplace = True)\n",
    "df_COCRYS['Activity'] = 'active'\n",
    "df_COCRYS = df_COCRYS[['Activity', 'mol_rdk']]\n",
    "df_COCRYS.shape"
   ]
  },
  {
   "cell_type": "code",
   "execution_count": 6,
   "metadata": {},
   "outputs": [
    {
     "data": {
      "text/html": [
       "<div>\n",
       "<style scoped>\n",
       "    .dataframe tbody tr th:only-of-type {\n",
       "        vertical-align: middle;\n",
       "    }\n",
       "\n",
       "    .dataframe tbody tr th {\n",
       "        vertical-align: top;\n",
       "    }\n",
       "\n",
       "    .dataframe thead th {\n",
       "        text-align: right;\n",
       "    }\n",
       "</style>\n",
       "<table border=\"1\" class=\"dataframe\">\n",
       "  <thead>\n",
       "    <tr style=\"text-align: right;\">\n",
       "      <th></th>\n",
       "      <th>Activity</th>\n",
       "      <th>mol_rdk</th>\n",
       "    </tr>\n",
       "    <tr>\n",
       "      <th>Lig</th>\n",
       "      <th></th>\n",
       "      <th></th>\n",
       "    </tr>\n",
       "  </thead>\n",
       "  <tbody>\n",
       "    <tr>\n",
       "      <th>STU</th>\n",
       "      <td>active</td>\n",
       "      <td>&lt;rdkit.Chem.rdchem.Mol object at 0x7f2483383830&gt;</td>\n",
       "    </tr>\n",
       "    <tr>\n",
       "      <th>ATP</th>\n",
       "      <td>active</td>\n",
       "      <td>&lt;rdkit.Chem.rdchem.Mol object at 0x7f2483383870&gt;</td>\n",
       "    </tr>\n",
       "    <tr>\n",
       "      <th>PVB</th>\n",
       "      <td>active</td>\n",
       "      <td>&lt;rdkit.Chem.rdchem.Mol object at 0x7f24833838f0&gt;</td>\n",
       "    </tr>\n",
       "    <tr>\n",
       "      <th>DTQ</th>\n",
       "      <td>active</td>\n",
       "      <td>&lt;rdkit.Chem.rdchem.Mol object at 0x7f2483383970&gt;</td>\n",
       "    </tr>\n",
       "    <tr>\n",
       "      <th>HMD</th>\n",
       "      <td>active</td>\n",
       "      <td>&lt;rdkit.Chem.rdchem.Mol object at 0x7f24833839f0&gt;</td>\n",
       "    </tr>\n",
       "  </tbody>\n",
       "</table>\n",
       "</div>"
      ],
      "text/plain": [
       "    Activity                                           mol_rdk\n",
       "Lig                                                           \n",
       "STU   active  <rdkit.Chem.rdchem.Mol object at 0x7f2483383830>\n",
       "ATP   active  <rdkit.Chem.rdchem.Mol object at 0x7f2483383870>\n",
       "PVB   active  <rdkit.Chem.rdchem.Mol object at 0x7f24833838f0>\n",
       "DTQ   active  <rdkit.Chem.rdchem.Mol object at 0x7f2483383970>\n",
       "HMD   active  <rdkit.Chem.rdchem.Mol object at 0x7f24833839f0>"
      ]
     },
     "execution_count": 6,
     "metadata": {},
     "output_type": "execute_result"
    }
   ],
   "source": [
    "df_COCRYS.head()"
   ]
  },
  {
   "cell_type": "markdown",
   "metadata": {},
   "source": [
    "## CSAR dataset\n",
    "### Read the CSAR dataset molecules"
   ]
  },
  {
   "cell_type": "code",
   "execution_count": 7,
   "metadata": {},
   "outputs": [],
   "source": [
    "# Firs we got the molecules dictionary\n",
    "path_to_file_csar_sdfs = \\\n",
    "os.path.join(*F'../../ARCHIVOS/CRISTALES/LIGS_CDK2/CSAR/sdf/*'.split('/'))\n",
    "csar_file_list = glob(path_to_file_csar_sdfs)\n",
    "# sort alphanumericalñy\n",
    "csar_file_list.sort(key = lambda x: int(x.split('/')[-1].split('.')[0].replace('CS', '')))\n",
    "\n",
    "# Load the molecules using the function previously declared\n",
    "csar_molecules_dic = load_molecules_from_dir(csar_file_list)\n",
    "# Convert to a dataframe\n",
    "df_CSAR = pd.DataFrame(csar_molecules_dic).T\n",
    "df_CSAR.columns = ['mol_rdk']\n",
    "# The information about if the molecule is active or inactive is in the following file\n",
    "df_csar_activity = pd.read_json('../data/csar_Binding_Data_Corrected_2016.json')\n",
    "# merge both dataframes\n",
    "df_CSAR['Activity'] = df_csar_activity[['ActiveInactive']]\n",
    "# Naming the columns\n",
    "df_CSAR = df_CSAR[['Activity', 'mol_rdk']]"
   ]
  },
  {
   "cell_type": "code",
   "execution_count": 8,
   "metadata": {},
   "outputs": [
    {
     "data": {
      "text/html": [
       "<div>\n",
       "<style scoped>\n",
       "    .dataframe tbody tr th:only-of-type {\n",
       "        vertical-align: middle;\n",
       "    }\n",
       "\n",
       "    .dataframe tbody tr th {\n",
       "        vertical-align: top;\n",
       "    }\n",
       "\n",
       "    .dataframe thead th {\n",
       "        text-align: right;\n",
       "    }\n",
       "</style>\n",
       "<table border=\"1\" class=\"dataframe\">\n",
       "  <thead>\n",
       "    <tr style=\"text-align: right;\">\n",
       "      <th></th>\n",
       "      <th>Activity</th>\n",
       "      <th>mol_rdk</th>\n",
       "    </tr>\n",
       "  </thead>\n",
       "  <tbody>\n",
       "    <tr>\n",
       "      <th>CS1</th>\n",
       "      <td>Active</td>\n",
       "      <td>&lt;rdkit.Chem.rdchem.Mol object at 0x7f248330a120&gt;</td>\n",
       "    </tr>\n",
       "    <tr>\n",
       "      <th>CS2</th>\n",
       "      <td>Active</td>\n",
       "      <td>&lt;rdkit.Chem.rdchem.Mol object at 0x7f248330a170&gt;</td>\n",
       "    </tr>\n",
       "    <tr>\n",
       "      <th>CS3</th>\n",
       "      <td>Active</td>\n",
       "      <td>&lt;rdkit.Chem.rdchem.Mol object at 0x7f248330a210&gt;</td>\n",
       "    </tr>\n",
       "    <tr>\n",
       "      <th>CS4</th>\n",
       "      <td>Active</td>\n",
       "      <td>&lt;rdkit.Chem.rdchem.Mol object at 0x7f248330a2b0&gt;</td>\n",
       "    </tr>\n",
       "    <tr>\n",
       "      <th>CS5</th>\n",
       "      <td>Inactive</td>\n",
       "      <td>&lt;rdkit.Chem.rdchem.Mol object at 0x7f248330a350&gt;</td>\n",
       "    </tr>\n",
       "  </tbody>\n",
       "</table>\n",
       "</div>"
      ],
      "text/plain": [
       "     Activity                                           mol_rdk\n",
       "CS1    Active  <rdkit.Chem.rdchem.Mol object at 0x7f248330a120>\n",
       "CS2    Active  <rdkit.Chem.rdchem.Mol object at 0x7f248330a170>\n",
       "CS3    Active  <rdkit.Chem.rdchem.Mol object at 0x7f248330a210>\n",
       "CS4    Active  <rdkit.Chem.rdchem.Mol object at 0x7f248330a2b0>\n",
       "CS5  Inactive  <rdkit.Chem.rdchem.Mol object at 0x7f248330a350>"
      ]
     },
     "execution_count": 8,
     "metadata": {},
     "output_type": "execute_result"
    }
   ],
   "source": [
    "df_CSAR.head()"
   ]
  },
  {
   "cell_type": "markdown",
   "metadata": {},
   "source": [
    "## DUD 2006 Dataset"
   ]
  },
  {
   "cell_type": "code",
   "execution_count": 14,
   "metadata": {},
   "outputs": [
    {
     "ename": "OSError",
     "evalue": "File error: Bad input file ../../ARCHIVOS/CRISTALES/LIGS_CDK2/DUDE_DECOYS/DUD_2006/sdf/decoy_478.sdf",
     "output_type": "error",
     "traceback": [
      "\u001b[0;31m---------------------------------------------------------------------------\u001b[0m",
      "\u001b[0;31mOSError\u001b[0m                                   Traceback (most recent call last)",
      "\u001b[0;32m<ipython-input-14-60327271b7bb>\u001b[0m in \u001b[0;36m<module>\u001b[0;34m\u001b[0m\n\u001b[1;32m      8\u001b[0m \u001b[0;31m# Load the molecules using the function previously declared\u001b[0m\u001b[0;34m\u001b[0m\u001b[0;34m\u001b[0m\u001b[0;34m\u001b[0m\u001b[0m\n\u001b[1;32m      9\u001b[0m \u001b[0;31m# load_molecules_from_dir(path_to_file_csar_sdfs)\u001b[0m\u001b[0;34m\u001b[0m\u001b[0;34m\u001b[0m\u001b[0;34m\u001b[0m\u001b[0m\n\u001b[0;32m---> 10\u001b[0;31m \u001b[0mdud_molecules_dic\u001b[0m \u001b[0;34m=\u001b[0m \u001b[0mload_molecules_from_dir\u001b[0m\u001b[0;34m(\u001b[0m\u001b[0mdud_file_list\u001b[0m\u001b[0;34m)\u001b[0m\u001b[0;34m\u001b[0m\u001b[0;34m\u001b[0m\u001b[0m\n\u001b[0m\u001b[1;32m     11\u001b[0m \u001b[0;34m\u001b[0m\u001b[0m\n\u001b[1;32m     12\u001b[0m \u001b[0;34m\u001b[0m\u001b[0m\n",
      "\u001b[0;32m<ipython-input-13-b2a446be4838>\u001b[0m in \u001b[0;36mload_molecules_from_dir\u001b[0;34m(list_of_sdf_files)\u001b[0m\n\u001b[1;32m      7\u001b[0m         \u001b[0mmol_name\u001b[0m \u001b[0;34m=\u001b[0m \u001b[0msdf_file\u001b[0m\u001b[0;34m.\u001b[0m\u001b[0msplit\u001b[0m\u001b[0;34m(\u001b[0m\u001b[0;34m'/'\u001b[0m\u001b[0;34m)\u001b[0m\u001b[0;34m[\u001b[0m\u001b[0;34m-\u001b[0m\u001b[0;36m1\u001b[0m\u001b[0;34m]\u001b[0m\u001b[0;34m.\u001b[0m\u001b[0msplit\u001b[0m\u001b[0;34m(\u001b[0m\u001b[0;34m'.'\u001b[0m\u001b[0;34m)\u001b[0m\u001b[0;34m[\u001b[0m\u001b[0;36m0\u001b[0m\u001b[0;34m]\u001b[0m\u001b[0;34m\u001b[0m\u001b[0;34m\u001b[0m\u001b[0m\n\u001b[1;32m      8\u001b[0m         \u001b[0;31m# Load the molecule\u001b[0m\u001b[0;34m\u001b[0m\u001b[0;34m\u001b[0m\u001b[0;34m\u001b[0m\u001b[0m\n\u001b[0;32m----> 9\u001b[0;31m         \u001b[0mmol_rd\u001b[0m \u001b[0;34m=\u001b[0m \u001b[0mChem\u001b[0m\u001b[0;34m.\u001b[0m\u001b[0mSDMolSupplier\u001b[0m\u001b[0;34m(\u001b[0m\u001b[0msdf_file\u001b[0m\u001b[0;34m,\u001b[0m \u001b[0msanitize\u001b[0m \u001b[0;34m=\u001b[0m \u001b[0;32mFalse\u001b[0m\u001b[0;34m)\u001b[0m\u001b[0;34m\u001b[0m\u001b[0;34m\u001b[0m\u001b[0m\n\u001b[0m\u001b[1;32m     10\u001b[0m         \u001b[0mmols_dict\u001b[0m\u001b[0;34m[\u001b[0m\u001b[0mmol_name\u001b[0m\u001b[0;34m]\u001b[0m \u001b[0;34m=\u001b[0m \u001b[0mmol_rd\u001b[0m\u001b[0;34m\u001b[0m\u001b[0;34m\u001b[0m\u001b[0m\n\u001b[1;32m     11\u001b[0m     \u001b[0;32mreturn\u001b[0m \u001b[0mmols_dict\u001b[0m\u001b[0;34m\u001b[0m\u001b[0;34m\u001b[0m\u001b[0m\n",
      "\u001b[0;31mOSError\u001b[0m: File error: Bad input file ../../ARCHIVOS/CRISTALES/LIGS_CDK2/DUDE_DECOYS/DUD_2006/sdf/decoy_478.sdf"
     ]
    }
   ],
   "source": [
    "# Firs we got the molecules dictionary\n",
    "path_to_file_dud_sdfs = \\\n",
    "os.path.join(*F'../../ARCHIVOS/CRISTALES/LIGS_CDK2/DUDE_DECOYS/DUD_2006/sdf/'.split('/'))\n",
    "# Get the files list\n",
    "dud_file_list = get_files_list(path_to_sdfs = path_to_file_dud_sdfs, \n",
    "                               actives_name='ligand', inactives_name='decoy')\n",
    "\n",
    "# Load the molecules using the function previously declared\n",
    "# load_molecules_from_dir(path_to_file_csar_sdfs)\n",
    "dud_molecules_dic = load_molecules_from_dir(dud_file_list)\n",
    "\n",
    "# Convert to a dataframe\n",
    "df_DUD = get_mol_dataframe(mol_dictionary=dud_molecules_dic)"
   ]
  },
  {
   "cell_type": "code",
   "execution_count": 10,
   "metadata": {},
   "outputs": [
    {
     "data": {
      "text/html": [
       "<div>\n",
       "<style scoped>\n",
       "    .dataframe tbody tr th:only-of-type {\n",
       "        vertical-align: middle;\n",
       "    }\n",
       "\n",
       "    .dataframe tbody tr th {\n",
       "        vertical-align: top;\n",
       "    }\n",
       "\n",
       "    .dataframe thead th {\n",
       "        text-align: right;\n",
       "    }\n",
       "</style>\n",
       "<table border=\"1\" class=\"dataframe\">\n",
       "  <thead>\n",
       "    <tr style=\"text-align: right;\">\n",
       "      <th></th>\n",
       "      <th>Activity</th>\n",
       "      <th>mol_rdk</th>\n",
       "    </tr>\n",
       "  </thead>\n",
       "  <tbody>\n",
       "    <tr>\n",
       "      <th>ligand_1</th>\n",
       "      <td>active</td>\n",
       "      <td>&lt;rdkit.Chem.rdchem.Mol object at 0x7f24831ecd00&gt;</td>\n",
       "    </tr>\n",
       "    <tr>\n",
       "      <th>ligand_2</th>\n",
       "      <td>active</td>\n",
       "      <td>&lt;rdkit.Chem.rdchem.Mol object at 0x7f24831ecd50&gt;</td>\n",
       "    </tr>\n",
       "    <tr>\n",
       "      <th>ligand_3</th>\n",
       "      <td>active</td>\n",
       "      <td>&lt;rdkit.Chem.rdchem.Mol object at 0x7f24831ecdf0&gt;</td>\n",
       "    </tr>\n",
       "    <tr>\n",
       "      <th>ligand_4</th>\n",
       "      <td>active</td>\n",
       "      <td>&lt;rdkit.Chem.rdchem.Mol object at 0x7f24831ece90&gt;</td>\n",
       "    </tr>\n",
       "    <tr>\n",
       "      <th>ligand_5</th>\n",
       "      <td>active</td>\n",
       "      <td>&lt;rdkit.Chem.rdchem.Mol object at 0x7f24831ef030&gt;</td>\n",
       "    </tr>\n",
       "  </tbody>\n",
       "</table>\n",
       "</div>"
      ],
      "text/plain": [
       "         Activity                                           mol_rdk\n",
       "ligand_1   active  <rdkit.Chem.rdchem.Mol object at 0x7f24831ecd00>\n",
       "ligand_2   active  <rdkit.Chem.rdchem.Mol object at 0x7f24831ecd50>\n",
       "ligand_3   active  <rdkit.Chem.rdchem.Mol object at 0x7f24831ecdf0>\n",
       "ligand_4   active  <rdkit.Chem.rdchem.Mol object at 0x7f24831ece90>\n",
       "ligand_5   active  <rdkit.Chem.rdchem.Mol object at 0x7f24831ef030>"
      ]
     },
     "execution_count": 10,
     "metadata": {},
     "output_type": "execute_result"
    }
   ],
   "source": [
    "df_DUD.head()"
   ]
  },
  {
   "cell_type": "markdown",
   "metadata": {},
   "source": [
    "## DEKOIS Dataset"
   ]
  },
  {
   "cell_type": "code",
   "execution_count": 11,
   "metadata": {},
   "outputs": [],
   "source": [
    "# Firs we got the molecules dictionary\n",
    "path_to_file_dekois_sdfs = \\\n",
    "os.path.join(*F'../../ARCHIVOS/CRISTALES/LIGS_CDK2/DEKOIS_2/sdf/'.split('/'))\n",
    "# Get the files list\n",
    "dekois_file_list = get_files_list(path_to_sdfs = path_to_file_dekois_sdfs, \n",
    "                               actives_name='ligand', inactives_name='decoy')\n",
    "\n",
    "# Load the molecules using the function previously declared\n",
    "# load_molecules_from_dir(path_to_file_csar_sdfs)\n",
    "dekois_molecules_dic = load_molecules_from_dir(dekois_file_list)\n",
    "\n",
    "# Convert to a dataframe\n",
    "df_DEKOIS = get_mol_dataframe(mol_dictionary=dekois_molecules_dic)"
   ]
  },
  {
   "cell_type": "code",
   "execution_count": 12,
   "metadata": {},
   "outputs": [
    {
     "data": {
      "text/html": [
       "<div>\n",
       "<style scoped>\n",
       "    .dataframe tbody tr th:only-of-type {\n",
       "        vertical-align: middle;\n",
       "    }\n",
       "\n",
       "    .dataframe tbody tr th {\n",
       "        vertical-align: top;\n",
       "    }\n",
       "\n",
       "    .dataframe thead th {\n",
       "        text-align: right;\n",
       "    }\n",
       "</style>\n",
       "<table border=\"1\" class=\"dataframe\">\n",
       "  <thead>\n",
       "    <tr style=\"text-align: right;\">\n",
       "      <th></th>\n",
       "      <th>Activity</th>\n",
       "      <th>mol_rdk</th>\n",
       "    </tr>\n",
       "  </thead>\n",
       "  <tbody>\n",
       "    <tr>\n",
       "      <th>ligand_1</th>\n",
       "      <td>active</td>\n",
       "      <td>&lt;rdkit.Chem.rdchem.Mol object at 0x7f2483223b20&gt;</td>\n",
       "    </tr>\n",
       "    <tr>\n",
       "      <th>ligand_2</th>\n",
       "      <td>active</td>\n",
       "      <td>&lt;rdkit.Chem.rdchem.Mol object at 0x7f2483223bc0&gt;</td>\n",
       "    </tr>\n",
       "    <tr>\n",
       "      <th>ligand_3</th>\n",
       "      <td>active</td>\n",
       "      <td>&lt;rdkit.Chem.rdchem.Mol object at 0x7f2483223d00&gt;</td>\n",
       "    </tr>\n",
       "    <tr>\n",
       "      <th>ligand_4</th>\n",
       "      <td>active</td>\n",
       "      <td>&lt;rdkit.Chem.rdchem.Mol object at 0x7f2483223e40&gt;</td>\n",
       "    </tr>\n",
       "    <tr>\n",
       "      <th>ligand_5</th>\n",
       "      <td>active</td>\n",
       "      <td>&lt;rdkit.Chem.rdchem.Mol object at 0x7f2483224120&gt;</td>\n",
       "    </tr>\n",
       "  </tbody>\n",
       "</table>\n",
       "</div>"
      ],
      "text/plain": [
       "         Activity                                           mol_rdk\n",
       "ligand_1   active  <rdkit.Chem.rdchem.Mol object at 0x7f2483223b20>\n",
       "ligand_2   active  <rdkit.Chem.rdchem.Mol object at 0x7f2483223bc0>\n",
       "ligand_3   active  <rdkit.Chem.rdchem.Mol object at 0x7f2483223d00>\n",
       "ligand_4   active  <rdkit.Chem.rdchem.Mol object at 0x7f2483223e40>\n",
       "ligand_5   active  <rdkit.Chem.rdchem.Mol object at 0x7f2483224120>"
      ]
     },
     "execution_count": 12,
     "metadata": {},
     "output_type": "execute_result"
    }
   ],
   "source": [
    "df_DEKOIS.head()"
   ]
  }
 ],
 "metadata": {
  "kernelspec": {
   "display_name": "Python 3",
   "language": "python",
   "name": "python3"
  },
  "language_info": {
   "codemirror_mode": {
    "name": "ipython",
    "version": 3
   },
   "file_extension": ".py",
   "mimetype": "text/x-python",
   "name": "python",
   "nbconvert_exporter": "python",
   "pygments_lexer": "ipython3",
   "version": "3.7.6"
  }
 },
 "nbformat": 4,
 "nbformat_minor": 4
}
