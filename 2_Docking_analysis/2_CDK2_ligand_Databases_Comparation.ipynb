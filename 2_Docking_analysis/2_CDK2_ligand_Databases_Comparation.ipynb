{
 "cells": [
  {
   "cell_type": "code",
   "execution_count": 1,
   "metadata": {},
   "outputs": [],
   "source": [
    "# Ideas generales\n",
    "# Cargar ligandos_\n",
    "# cocristalizados\n",
    "# CSAR\n",
    "# DUD\n",
    "# DEKOIS\n",
    "\n",
    "# Identificarlos como activos o inactivos"
   ]
  },
  {
   "cell_type": "code",
   "execution_count": 2,
   "metadata": {},
   "outputs": [
    {
     "name": "stderr",
     "output_type": "stream",
     "text": [
      "RDKit WARNING: [20:01:58] Enabling RDKit 2019.09.1 jupyter extensions\n"
     ]
    }
   ],
   "source": [
    "import pandas as pd\n",
    "import numpy as np\n",
    "from glob import glob\n",
    "import os, pickle\n",
    "\n",
    "from rdkit import Chem\n",
    "from rdkit.Chem import AllChem"
   ]
  },
  {
   "cell_type": "code",
   "execution_count": 3,
   "metadata": {},
   "outputs": [],
   "source": [
    "from rdkit import RDLogger \n",
    "RDLogger.DisableLog('rdApp.*')"
   ]
  },
  {
   "cell_type": "code",
   "execution_count": 4,
   "metadata": {},
   "outputs": [],
   "source": [
    "def load_molecules_from_dir(list_of_sdf_files):\n",
    "    '''Function to load molecules from sdf files using rdkit'''\n",
    "    # Load the molecules in a dictionary\n",
    "    mols_dict = {}\n",
    "    sanitized = True\n",
    "    for sdf_file in list_of_sdf_files:\n",
    "        # Get the molecule name\n",
    "        mol_name = sdf_file.split('/')[-1].split('.')[0]\n",
    "        # Try to load the molecule with sanitize = True\n",
    "        mol_rd = Chem.SDMolSupplier(sdf_file, sanitize = True)[0]\n",
    "        if mol_rd is None:\n",
    "            mol_rd = Chem.SDMolSupplier(sdf_file, sanitize = False)[0]\n",
    "            mol_rd.UpdatePropertyCache(strict = False)\n",
    "            sanitized = False\n",
    "        mols_dict[mol_name] = [mol_rd, sanitized]\n",
    "    return mols_dict\n",
    "\n",
    "def get_files_list(path_to_sdfs, actives_name = 'ligand', inactives_name = 'decoy'):\n",
    "    # Active molecules\n",
    "    file_list_ACTIVES = glob(path_to_sdfs + F'/{actives_name}*')\n",
    "    file_list_ACTIVES.sort(key = lambda x: \n",
    "                        int(x.split('/')[-1].split('.')[0].split('_')[1]) )\n",
    "    # Inactive molecules\n",
    "    file_list_INACTIVES = glob(path_to_sdfs + F'/{inactives_name}*')\n",
    "    file_list_INACTIVES.sort(key = lambda x: \n",
    "                        int(x.split('/')[-1].split('.')[0].split('_')[1]) )\n",
    "    # Join both list\n",
    "    file_list = file_list_ACTIVES + file_list_INACTIVES\n",
    "    return file_list\n",
    "\n",
    "def get_mol_dataframe(mol_dictionary):\n",
    "    # Convert to a dataframe\n",
    "    df = pd.DataFrame(mol_dictionary).T\n",
    "    df.columns = ['mol_rdk', 'sanitized']\n",
    "    # Activity inactivity column\n",
    "    act_inact = ['active' if i[:6] == 'ligand' else 'inactive' for i in df.index]\n",
    "    df['Activity'] = act_inact\n",
    "    # Naming the columns\n",
    "    df = df[['Activity', 'mol_rdk', 'sanitized']]\n",
    "    return df\n"
   ]
  },
  {
   "cell_type": "markdown",
   "metadata": {},
   "source": [
    "## Cocristalized ligands\n",
    "### Read the cocrystalized ligands\n",
    "Previously, in notebook `1_Working_with_3D_structures_in_rdkit` we have saved a python object containing a dataframe with the cocristalized ligands. That dataframe is the following:"
   ]
  },
  {
   "cell_type": "code",
   "execution_count": 5,
   "metadata": {},
   "outputs": [
    {
     "data": {
      "text/html": [
       "<div>\n",
       "<style scoped>\n",
       "    .dataframe tbody tr th:only-of-type {\n",
       "        vertical-align: middle;\n",
       "    }\n",
       "\n",
       "    .dataframe tbody tr th {\n",
       "        vertical-align: top;\n",
       "    }\n",
       "\n",
       "    .dataframe thead th {\n",
       "        text-align: right;\n",
       "    }\n",
       "</style>\n",
       "<table border=\"1\" class=\"dataframe\">\n",
       "  <thead>\n",
       "    <tr style=\"text-align: right;\">\n",
       "      <th></th>\n",
       "      <th>Lig</th>\n",
       "      <th>mol_rdk</th>\n",
       "      <th>file</th>\n",
       "      <th>Labels_conf</th>\n",
       "      <th>Validation</th>\n",
       "    </tr>\n",
       "  </thead>\n",
       "  <tbody>\n",
       "    <tr>\n",
       "      <th>1aq1</th>\n",
       "      <td>STU</td>\n",
       "      <td>&lt;rdkit.Chem.rdchem.Mol object at 0x7f21c22a82f0&gt;</td>\n",
       "      <td>../../ARCHIVOS/CRISTALES/LIGS_CDK2/POCKET_LIGS...</td>\n",
       "      <td>inact_b</td>\n",
       "      <td>v1</td>\n",
       "    </tr>\n",
       "    <tr>\n",
       "      <th>1b38</th>\n",
       "      <td>ATP</td>\n",
       "      <td>&lt;rdkit.Chem.rdchem.Mol object at 0x7f21c22a8330&gt;</td>\n",
       "      <td>../../ARCHIVOS/CRISTALES/LIGS_CDK2/POCKET_LIGS...</td>\n",
       "      <td>inact_a</td>\n",
       "      <td>v1</td>\n",
       "    </tr>\n",
       "    <tr>\n",
       "      <th>1b39</th>\n",
       "      <td>ATP</td>\n",
       "      <td>&lt;rdkit.Chem.rdchem.Mol object at 0x7f21c22a83b0&gt;</td>\n",
       "      <td>../../ARCHIVOS/CRISTALES/LIGS_CDK2/POCKET_LIGS...</td>\n",
       "      <td>inact_a</td>\n",
       "      <td>v1</td>\n",
       "    </tr>\n",
       "    <tr>\n",
       "      <th>1ckp</th>\n",
       "      <td>PVB</td>\n",
       "      <td>&lt;rdkit.Chem.rdchem.Mol object at 0x7f21c22a8430&gt;</td>\n",
       "      <td>../../ARCHIVOS/CRISTALES/LIGS_CDK2/POCKET_LIGS...</td>\n",
       "      <td>inact_a</td>\n",
       "      <td>v1</td>\n",
       "    </tr>\n",
       "    <tr>\n",
       "      <th>1di8</th>\n",
       "      <td>DTQ</td>\n",
       "      <td>&lt;rdkit.Chem.rdchem.Mol object at 0x7f21c22a84b0&gt;</td>\n",
       "      <td>../../ARCHIVOS/CRISTALES/LIGS_CDK2/POCKET_LIGS...</td>\n",
       "      <td>inact_a</td>\n",
       "      <td>v1</td>\n",
       "    </tr>\n",
       "  </tbody>\n",
       "</table>\n",
       "</div>"
      ],
      "text/plain": [
       "      Lig                                           mol_rdk  \\\n",
       "1aq1  STU  <rdkit.Chem.rdchem.Mol object at 0x7f21c22a82f0>   \n",
       "1b38  ATP  <rdkit.Chem.rdchem.Mol object at 0x7f21c22a8330>   \n",
       "1b39  ATP  <rdkit.Chem.rdchem.Mol object at 0x7f21c22a83b0>   \n",
       "1ckp  PVB  <rdkit.Chem.rdchem.Mol object at 0x7f21c22a8430>   \n",
       "1di8  DTQ  <rdkit.Chem.rdchem.Mol object at 0x7f21c22a84b0>   \n",
       "\n",
       "                                                   file Labels_conf Validation  \n",
       "1aq1  ../../ARCHIVOS/CRISTALES/LIGS_CDK2/POCKET_LIGS...     inact_b         v1  \n",
       "1b38  ../../ARCHIVOS/CRISTALES/LIGS_CDK2/POCKET_LIGS...     inact_a         v1  \n",
       "1b39  ../../ARCHIVOS/CRISTALES/LIGS_CDK2/POCKET_LIGS...     inact_a         v1  \n",
       "1ckp  ../../ARCHIVOS/CRISTALES/LIGS_CDK2/POCKET_LIGS...     inact_a         v1  \n",
       "1di8  ../../ARCHIVOS/CRISTALES/LIGS_CDK2/POCKET_LIGS...     inact_a         v1  "
      ]
     },
     "execution_count": 5,
     "metadata": {},
     "output_type": "execute_result"
    }
   ],
   "source": [
    "path_to_file_cocrys = os.path.join(*F'../data/rdkit_molecules/cdk2_365_cocristalized_ligands.pyobj'.split('/'))\n",
    "with open(path_to_file_cocrys, 'rb') as f:\n",
    "    df_crys_poses_rdk = pickle.load(f)\n",
    "df_crys_poses_rdk.head()"
   ]
  },
  {
   "cell_type": "markdown",
   "metadata": {},
   "source": [
    "From this dataframe we are only interested in the ligand name, and in the `mol_rd` columns, which has the *rdkit* molecule instances. W also need to add column indicating that the ligand is an **Active**, or Inactive, ligand. Of course because these molecules were cocristalized with the protein we're going to assume all of them are actives.  \n",
    "\n",
    "Also, we are going to remove duplicate ligands, mainly because for this analysis we are not interested in the 3D conformation. **At the end we only going to keep 315 ligands from the original 365**."
   ]
  },
  {
   "cell_type": "code",
   "execution_count": 6,
   "metadata": {},
   "outputs": [
    {
     "data": {
      "text/plain": [
       "(315, 3)"
      ]
     },
     "execution_count": 6,
     "metadata": {},
     "output_type": "execute_result"
    }
   ],
   "source": [
    "df_COCRYS = df_crys_poses_rdk.reset_index()[['Lig', 'mol_rdk']]\n",
    "df_COCRYS.drop_duplicates(subset = 'Lig', inplace = True)\n",
    "df_COCRYS.set_index('Lig', inplace = True)\n",
    "df_COCRYS['Activity'] = 'active'\n",
    "df_COCRYS['sanitized'] = True\n",
    "df_COCRYS = df_COCRYS[['Activity', 'mol_rdk', 'sanitized']]\n",
    "df_COCRYS.shape"
   ]
  },
  {
   "cell_type": "code",
   "execution_count": 7,
   "metadata": {},
   "outputs": [
    {
     "data": {
      "text/html": [
       "<div>\n",
       "<style scoped>\n",
       "    .dataframe tbody tr th:only-of-type {\n",
       "        vertical-align: middle;\n",
       "    }\n",
       "\n",
       "    .dataframe tbody tr th {\n",
       "        vertical-align: top;\n",
       "    }\n",
       "\n",
       "    .dataframe thead th {\n",
       "        text-align: right;\n",
       "    }\n",
       "</style>\n",
       "<table border=\"1\" class=\"dataframe\">\n",
       "  <thead>\n",
       "    <tr style=\"text-align: right;\">\n",
       "      <th></th>\n",
       "      <th>Activity</th>\n",
       "      <th>mol_rdk</th>\n",
       "      <th>sanitized</th>\n",
       "    </tr>\n",
       "    <tr>\n",
       "      <th>Lig</th>\n",
       "      <th></th>\n",
       "      <th></th>\n",
       "      <th></th>\n",
       "    </tr>\n",
       "  </thead>\n",
       "  <tbody>\n",
       "    <tr>\n",
       "      <th>STU</th>\n",
       "      <td>active</td>\n",
       "      <td>&lt;rdkit.Chem.rdchem.Mol object at 0x7f21c22a82f0&gt;</td>\n",
       "      <td>True</td>\n",
       "    </tr>\n",
       "    <tr>\n",
       "      <th>ATP</th>\n",
       "      <td>active</td>\n",
       "      <td>&lt;rdkit.Chem.rdchem.Mol object at 0x7f21c22a8330&gt;</td>\n",
       "      <td>True</td>\n",
       "    </tr>\n",
       "    <tr>\n",
       "      <th>PVB</th>\n",
       "      <td>active</td>\n",
       "      <td>&lt;rdkit.Chem.rdchem.Mol object at 0x7f21c22a8430&gt;</td>\n",
       "      <td>True</td>\n",
       "    </tr>\n",
       "    <tr>\n",
       "      <th>DTQ</th>\n",
       "      <td>active</td>\n",
       "      <td>&lt;rdkit.Chem.rdchem.Mol object at 0x7f21c22a84b0&gt;</td>\n",
       "      <td>True</td>\n",
       "    </tr>\n",
       "    <tr>\n",
       "      <th>HMD</th>\n",
       "      <td>active</td>\n",
       "      <td>&lt;rdkit.Chem.rdchem.Mol object at 0x7f21c22a8530&gt;</td>\n",
       "      <td>True</td>\n",
       "    </tr>\n",
       "  </tbody>\n",
       "</table>\n",
       "</div>"
      ],
      "text/plain": [
       "    Activity                                           mol_rdk  sanitized\n",
       "Lig                                                                      \n",
       "STU   active  <rdkit.Chem.rdchem.Mol object at 0x7f21c22a82f0>       True\n",
       "ATP   active  <rdkit.Chem.rdchem.Mol object at 0x7f21c22a8330>       True\n",
       "PVB   active  <rdkit.Chem.rdchem.Mol object at 0x7f21c22a8430>       True\n",
       "DTQ   active  <rdkit.Chem.rdchem.Mol object at 0x7f21c22a84b0>       True\n",
       "HMD   active  <rdkit.Chem.rdchem.Mol object at 0x7f21c22a8530>       True"
      ]
     },
     "execution_count": 7,
     "metadata": {},
     "output_type": "execute_result"
    }
   ],
   "source": [
    "df_COCRYS.head()"
   ]
  },
  {
   "cell_type": "markdown",
   "metadata": {},
   "source": [
    "## CSAR dataset\n",
    "### Read the CSAR dataset molecules"
   ]
  },
  {
   "cell_type": "code",
   "execution_count": 69,
   "metadata": {},
   "outputs": [],
   "source": [
    "# File of the python object\n",
    "csar_obj_file = os.path.join(*F'../data/rdkit_molecules/cdk2_CSAR_ligands.pyobj'.split('/'))\n",
    "\n",
    "if os.path.isfile(csar_obj_file):\n",
    "    with open(csar_obj_file, 'rb') as f:\n",
    "        df_CSAR = pickle.load(f)\n",
    "\n",
    "else:\n",
    "    # Firs we got the molecules dictionary\n",
    "    path_to_file_csar_sdfs = \\\n",
    "    os.path.join(*F'../../ARCHIVOS/CRISTALES/LIGS_CDK2/CSAR/sdf/*'.split('/'))\n",
    "    csar_file_list = glob(path_to_file_csar_sdfs)\n",
    "    # sort alphanumericalñy\n",
    "    csar_file_list.sort(key = lambda x: int(x.split('/')[-1].split('.')[0].replace('CS', '')))\n",
    "\n",
    "    # Load the molecules using the function previously declared\n",
    "    csar_molecules_dic = load_molecules_from_dir(csar_file_list)\n",
    "    # Convert to a dataframe\n",
    "    df_CSAR = pd.DataFrame(csar_molecules_dic).T\n",
    "    df_CSAR.columns = ['mol_rdk', 'sanitized']\n",
    "    # The information about if the molecule is active or inactive is in the following file\n",
    "    df_csar_activity = pd.read_json('../data/csar_Binding_Data_Corrected_2016.json')\n",
    "    # merge both dataframes\n",
    "    df_CSAR['Activity'] = df_csar_activity['ActiveInactive'].str.lower()\n",
    "    # Naming the columns\n",
    "    df_CSAR = df_CSAR[['Activity', 'mol_rdk', 'sanitized']]\n",
    "    \n",
    "    # Save the file\n",
    "    with open(csar_obj_file, 'wb') as f:\n",
    "        pickle.dump(df_CSAR, f)"
   ]
  },
  {
   "cell_type": "code",
   "execution_count": 70,
   "metadata": {},
   "outputs": [
    {
     "data": {
      "text/html": [
       "<div>\n",
       "<style scoped>\n",
       "    .dataframe tbody tr th:only-of-type {\n",
       "        vertical-align: middle;\n",
       "    }\n",
       "\n",
       "    .dataframe tbody tr th {\n",
       "        vertical-align: top;\n",
       "    }\n",
       "\n",
       "    .dataframe thead th {\n",
       "        text-align: right;\n",
       "    }\n",
       "</style>\n",
       "<table border=\"1\" class=\"dataframe\">\n",
       "  <thead>\n",
       "    <tr style=\"text-align: right;\">\n",
       "      <th></th>\n",
       "      <th>Activity</th>\n",
       "      <th>mol_rdk</th>\n",
       "      <th>sanitized</th>\n",
       "    </tr>\n",
       "  </thead>\n",
       "  <tbody>\n",
       "    <tr>\n",
       "      <th>CS1</th>\n",
       "      <td>active</td>\n",
       "      <td>&lt;rdkit.Chem.rdchem.Mol object at 0x7f21bd4b3ef0&gt;</td>\n",
       "      <td>True</td>\n",
       "    </tr>\n",
       "    <tr>\n",
       "      <th>CS2</th>\n",
       "      <td>active</td>\n",
       "      <td>&lt;rdkit.Chem.rdchem.Mol object at 0x7f21bd4b37f0&gt;</td>\n",
       "      <td>True</td>\n",
       "    </tr>\n",
       "    <tr>\n",
       "      <th>CS3</th>\n",
       "      <td>active</td>\n",
       "      <td>&lt;rdkit.Chem.rdchem.Mol object at 0x7f21bd4b3f70&gt;</td>\n",
       "      <td>True</td>\n",
       "    </tr>\n",
       "    <tr>\n",
       "      <th>CS4</th>\n",
       "      <td>active</td>\n",
       "      <td>&lt;rdkit.Chem.rdchem.Mol object at 0x7f21bd4b35b0&gt;</td>\n",
       "      <td>True</td>\n",
       "    </tr>\n",
       "    <tr>\n",
       "      <th>CS5</th>\n",
       "      <td>inactive</td>\n",
       "      <td>&lt;rdkit.Chem.rdchem.Mol object at 0x7f21bd4b3eb0&gt;</td>\n",
       "      <td>True</td>\n",
       "    </tr>\n",
       "  </tbody>\n",
       "</table>\n",
       "</div>"
      ],
      "text/plain": [
       "     Activity                                           mol_rdk sanitized\n",
       "CS1    active  <rdkit.Chem.rdchem.Mol object at 0x7f21bd4b3ef0>      True\n",
       "CS2    active  <rdkit.Chem.rdchem.Mol object at 0x7f21bd4b37f0>      True\n",
       "CS3    active  <rdkit.Chem.rdchem.Mol object at 0x7f21bd4b3f70>      True\n",
       "CS4    active  <rdkit.Chem.rdchem.Mol object at 0x7f21bd4b35b0>      True\n",
       "CS5  inactive  <rdkit.Chem.rdchem.Mol object at 0x7f21bd4b3eb0>      True"
      ]
     },
     "execution_count": 70,
     "metadata": {},
     "output_type": "execute_result"
    }
   ],
   "source": [
    "df_CSAR.head()"
   ]
  },
  {
   "cell_type": "markdown",
   "metadata": {},
   "source": [
    "## DUD 2006 Dataset"
   ]
  },
  {
   "cell_type": "code",
   "execution_count": 10,
   "metadata": {},
   "outputs": [],
   "source": [
    "dud_obj_file = os.path.join(*F'../data/rdkit_molecules/cdk2_DUD_ligands.pyobj'.split('/'))\n",
    "\n",
    "if os.path.isfile(dud_obj_file):\n",
    "    with open(dud_obj_file, 'rb') as f:\n",
    "        df_DUD = pickle.load(f)\n",
    "\n",
    "else:\n",
    "    # Firs we got the molecules dictionary\n",
    "    path_to_file_dud_sdfs = \\\n",
    "    os.path.join(*F'../../ARCHIVOS/CRISTALES/LIGS_CDK2/DUDE_DECOYS/DUD_2006/sdf/'.split('/'))\n",
    "    # Get the files list\n",
    "    dud_file_list = get_files_list(path_to_sdfs = path_to_file_dud_sdfs, \n",
    "                                   actives_name='ligand', inactives_name='decoy')\n",
    "\n",
    "    # Load the molecules using the function previously declared\n",
    "    # load_molecules_from_dir(path_to_file_csar_sdfs)\n",
    "    dud_molecules_dic = load_molecules_from_dir(dud_file_list)\n",
    "\n",
    "    # Convert to a dataframe\n",
    "    df_DUD = get_mol_dataframe(mol_dictionary=dud_molecules_dic)\n",
    "    \n",
    "    with open(dud_obj_file, 'wb') as f:\n",
    "        pickle.dump(df_DUD, f)"
   ]
  },
  {
   "cell_type": "code",
   "execution_count": 11,
   "metadata": {},
   "outputs": [
    {
     "data": {
      "text/html": [
       "<div>\n",
       "<style scoped>\n",
       "    .dataframe tbody tr th:only-of-type {\n",
       "        vertical-align: middle;\n",
       "    }\n",
       "\n",
       "    .dataframe tbody tr th {\n",
       "        vertical-align: top;\n",
       "    }\n",
       "\n",
       "    .dataframe thead th {\n",
       "        text-align: right;\n",
       "    }\n",
       "</style>\n",
       "<table border=\"1\" class=\"dataframe\">\n",
       "  <thead>\n",
       "    <tr style=\"text-align: right;\">\n",
       "      <th></th>\n",
       "      <th>Activity</th>\n",
       "      <th>mol_rdk</th>\n",
       "      <th>sanitized</th>\n",
       "    </tr>\n",
       "  </thead>\n",
       "  <tbody>\n",
       "    <tr>\n",
       "      <th>ligand_1</th>\n",
       "      <td>active</td>\n",
       "      <td>&lt;rdkit.Chem.rdchem.Mol object at 0x7f21c222e730&gt;</td>\n",
       "      <td>True</td>\n",
       "    </tr>\n",
       "    <tr>\n",
       "      <th>ligand_2</th>\n",
       "      <td>active</td>\n",
       "      <td>&lt;rdkit.Chem.rdchem.Mol object at 0x7f21c21d7130&gt;</td>\n",
       "      <td>True</td>\n",
       "    </tr>\n",
       "    <tr>\n",
       "      <th>ligand_3</th>\n",
       "      <td>active</td>\n",
       "      <td>&lt;rdkit.Chem.rdchem.Mol object at 0x7f21c21d7170&gt;</td>\n",
       "      <td>True</td>\n",
       "    </tr>\n",
       "    <tr>\n",
       "      <th>ligand_4</th>\n",
       "      <td>active</td>\n",
       "      <td>&lt;rdkit.Chem.rdchem.Mol object at 0x7f21c21d71b0&gt;</td>\n",
       "      <td>True</td>\n",
       "    </tr>\n",
       "    <tr>\n",
       "      <th>ligand_5</th>\n",
       "      <td>active</td>\n",
       "      <td>&lt;rdkit.Chem.rdchem.Mol object at 0x7f21c21d71f0&gt;</td>\n",
       "      <td>True</td>\n",
       "    </tr>\n",
       "  </tbody>\n",
       "</table>\n",
       "</div>"
      ],
      "text/plain": [
       "         Activity                                           mol_rdk sanitized\n",
       "ligand_1   active  <rdkit.Chem.rdchem.Mol object at 0x7f21c222e730>      True\n",
       "ligand_2   active  <rdkit.Chem.rdchem.Mol object at 0x7f21c21d7130>      True\n",
       "ligand_3   active  <rdkit.Chem.rdchem.Mol object at 0x7f21c21d7170>      True\n",
       "ligand_4   active  <rdkit.Chem.rdchem.Mol object at 0x7f21c21d71b0>      True\n",
       "ligand_5   active  <rdkit.Chem.rdchem.Mol object at 0x7f21c21d71f0>      True"
      ]
     },
     "execution_count": 11,
     "metadata": {},
     "output_type": "execute_result"
    }
   ],
   "source": [
    "df_DUD.head()"
   ]
  },
  {
   "cell_type": "markdown",
   "metadata": {},
   "source": [
    "## DEKOIS Dataset"
   ]
  },
  {
   "cell_type": "code",
   "execution_count": 12,
   "metadata": {},
   "outputs": [],
   "source": [
    "dekois_obj_file = os.path.join(*F'../data/rdkit_molecules/cdk2_DEKOIS_ligands.pyobj'.split('/'))\n",
    "\n",
    "if os.path.isfile(dekois_obj_file):\n",
    "    with open(dekois_obj_file, 'rb') as f:\n",
    "        df_DEKOIS = pickle.load(f)\n",
    "\n",
    "else:\n",
    "    # Firs we got the molecules dictionary\n",
    "    path_to_file_dekois_sdfs = \\\n",
    "    os.path.join(*F'../../ARCHIVOS/CRISTALES/LIGS_CDK2/DEKOIS_2/sdf/'.split('/'))\n",
    "    # Get the files list\n",
    "    dekois_file_list = get_files_list(path_to_sdfs = path_to_file_dekois_sdfs, \n",
    "                                   actives_name='ligand', inactives_name='decoy')\n",
    "\n",
    "    # Load the molecules using the function previously declared\n",
    "    # load_molecules_from_dir(path_to_file_csar_sdfs)\n",
    "    dekois_molecules_dic = load_molecules_from_dir(dekois_file_list)\n",
    "\n",
    "    # Convert to a dataframe\n",
    "    df_DEKOIS = get_mol_dataframe(mol_dictionary=dekois_molecules_dic)\n",
    "    \n",
    "    with open(dekois_obj_file, 'wb') as f:\n",
    "        pickle.dump(df_DEKOIS, f)"
   ]
  },
  {
   "cell_type": "code",
   "execution_count": 13,
   "metadata": {},
   "outputs": [
    {
     "data": {
      "text/html": [
       "<div>\n",
       "<style scoped>\n",
       "    .dataframe tbody tr th:only-of-type {\n",
       "        vertical-align: middle;\n",
       "    }\n",
       "\n",
       "    .dataframe tbody tr th {\n",
       "        vertical-align: top;\n",
       "    }\n",
       "\n",
       "    .dataframe thead th {\n",
       "        text-align: right;\n",
       "    }\n",
       "</style>\n",
       "<table border=\"1\" class=\"dataframe\">\n",
       "  <thead>\n",
       "    <tr style=\"text-align: right;\">\n",
       "      <th></th>\n",
       "      <th>Activity</th>\n",
       "      <th>mol_rdk</th>\n",
       "      <th>sanitized</th>\n",
       "    </tr>\n",
       "  </thead>\n",
       "  <tbody>\n",
       "    <tr>\n",
       "      <th>ligand_1</th>\n",
       "      <td>active</td>\n",
       "      <td>&lt;rdkit.Chem.rdchem.Mol object at 0x7f21c21d70f0&gt;</td>\n",
       "      <td>True</td>\n",
       "    </tr>\n",
       "    <tr>\n",
       "      <th>ligand_2</th>\n",
       "      <td>active</td>\n",
       "      <td>&lt;rdkit.Chem.rdchem.Mol object at 0x7f21c21bb7f0&gt;</td>\n",
       "      <td>True</td>\n",
       "    </tr>\n",
       "    <tr>\n",
       "      <th>ligand_3</th>\n",
       "      <td>active</td>\n",
       "      <td>&lt;rdkit.Chem.rdchem.Mol object at 0x7f21c21bb830&gt;</td>\n",
       "      <td>True</td>\n",
       "    </tr>\n",
       "    <tr>\n",
       "      <th>ligand_4</th>\n",
       "      <td>active</td>\n",
       "      <td>&lt;rdkit.Chem.rdchem.Mol object at 0x7f21c21bb870&gt;</td>\n",
       "      <td>True</td>\n",
       "    </tr>\n",
       "    <tr>\n",
       "      <th>ligand_5</th>\n",
       "      <td>active</td>\n",
       "      <td>&lt;rdkit.Chem.rdchem.Mol object at 0x7f21c21bb8b0&gt;</td>\n",
       "      <td>True</td>\n",
       "    </tr>\n",
       "  </tbody>\n",
       "</table>\n",
       "</div>"
      ],
      "text/plain": [
       "         Activity                                           mol_rdk sanitized\n",
       "ligand_1   active  <rdkit.Chem.rdchem.Mol object at 0x7f21c21d70f0>      True\n",
       "ligand_2   active  <rdkit.Chem.rdchem.Mol object at 0x7f21c21bb7f0>      True\n",
       "ligand_3   active  <rdkit.Chem.rdchem.Mol object at 0x7f21c21bb830>      True\n",
       "ligand_4   active  <rdkit.Chem.rdchem.Mol object at 0x7f21c21bb870>      True\n",
       "ligand_5   active  <rdkit.Chem.rdchem.Mol object at 0x7f21c21bb8b0>      True"
      ]
     },
     "execution_count": 13,
     "metadata": {},
     "output_type": "execute_result"
    }
   ],
   "source": [
    "df_DEKOIS.head()"
   ]
  },
  {
   "cell_type": "markdown",
   "metadata": {},
   "source": [
    "## List of Datasets"
   ]
  },
  {
   "cell_type": "code",
   "execution_count": 72,
   "metadata": {},
   "outputs": [],
   "source": [
    "lig_datasets = {'COCRYS': df_COCRYS, 'CSAR': df_CSAR, 'DUD': df_DUD, 'DEKOIS': df_DEKOIS}"
   ]
  },
  {
   "cell_type": "markdown",
   "metadata": {},
   "source": [
    "## Molecular Weight and Num. Heavy Atoms"
   ]
  },
  {
   "cell_type": "code",
   "execution_count": 74,
   "metadata": {},
   "outputs": [],
   "source": [
    "from rdkit.Chem import Descriptors, Lipinski"
   ]
  },
  {
   "cell_type": "code",
   "execution_count": 75,
   "metadata": {},
   "outputs": [],
   "source": [
    "# Get the molecular weight and # of heavy atoms for each ligand\n",
    "\n",
    "for dataset in lig_datasets.values():\n",
    "    # molecular weight\n",
    "    dataset['MW'] = [round(Descriptors.MolWt(m), 3) for m in dataset['mol_rdk']]\n",
    "    # number of heavy atoms\n",
    "    dataset['num_atoms'] = [round(Chem.Lipinski.HeavyAtomCount(m), 3) for m in dataset['mol_rdk']]"
   ]
  },
  {
   "cell_type": "markdown",
   "metadata": {},
   "source": [
    "## Fingerprints"
   ]
  },
  {
   "cell_type": "code",
   "execution_count": 76,
   "metadata": {},
   "outputs": [],
   "source": [
    "for dataset in lig_datasets.values():\n",
    "    # molecular weight\n",
    "    dataset['fps'] = [Chem.RDKFingerprint(i) for i in dataset['mol_rdk']]"
   ]
  },
  {
   "cell_type": "code",
   "execution_count": null,
   "metadata": {},
   "outputs": [],
   "source": []
  },
  {
   "cell_type": "markdown",
   "metadata": {},
   "source": [
    "## Histograms"
   ]
  },
  {
   "cell_type": "code",
   "execution_count": 25,
   "metadata": {},
   "outputs": [],
   "source": [
    "import seaborn as sns\n",
    "import matplotlib.pyplot as plt"
   ]
  },
  {
   "cell_type": "code",
   "execution_count": 77,
   "metadata": {},
   "outputs": [
    {
     "data": {
      "image/png": "[encoded data removed]",
      "text/plain": [
       "<Figure size 1080x504 with 1 Axes>"
      ]
     },
     "metadata": {
      "needs_background": "light"
     },
     "output_type": "display_data"
    }
   ],
   "source": [
    "plt.figure(figsize=(15,7))\n",
    "for name, dataset in lig_datasets.items():\n",
    "    sns.distplot(dataset['MW'], label = name, hist = False, bins = 30 )\n",
    "plt.grid()"
   ]
  },
  {
   "cell_type": "code",
   "execution_count": 82,
   "metadata": {},
   "outputs": [
    {
     "name": "stdout",
     "output_type": "stream",
     "text": [
      "315\n",
      "26\n",
      "72\n",
      "40\n"
     ]
    }
   ],
   "source": [
    "for name, dataset in lig_datasets.items():\n",
    "    df = dataset[dataset['Activity'] == 'active']\n",
    "    print(len(df))"
   ]
  },
  {
   "cell_type": "code",
   "execution_count": 87,
   "metadata": {},
   "outputs": [
    {
     "data": {
      "image/png": "[encoded data removed]",
      "text/plain": [
       "<Figure size 1080x504 with 1 Axes>"
      ]
     },
     "metadata": {
      "needs_background": "light"
     },
     "output_type": "display_data"
    }
   ],
   "source": [
    "plt.figure(figsize=(15,7))\n",
    "for name, dataset in lig_datasets.items():\n",
    "    df = dataset[dataset['Activity'] == 'active']\n",
    "    sns.distplot(df['MW'], label = name, kde = False, bins = 50 )\n",
    "plt.grid()"
   ]
  },
  {
   "cell_type": "code",
   "execution_count": 88,
   "metadata": {},
   "outputs": [
    {
     "name": "stderr",
     "output_type": "stream",
     "text": [
      "/home/joel/anaconda3/envs/mds/lib/python3.7/site-packages/seaborn/distributions.py:200: RuntimeWarning: Mean of empty slice.\n",
      "  line, = ax.plot(a.mean(), 0)\n",
      "/home/joel/anaconda3/envs/mds/lib/python3.7/site-packages/numpy/core/_methods.py:161: RuntimeWarning: invalid value encountered in double_scalars\n",
      "  ret = ret.dtype.type(ret / rcount)\n"
     ]
    },
    {
     "data": {
      "image/png": "[encoded data removed]",
      "text/plain": [
       "<Figure size 1080x504 with 1 Axes>"
      ]
     },
     "metadata": {
      "needs_background": "light"
     },
     "output_type": "display_data"
    }
   ],
   "source": [
    "plt.figure(figsize=(15,7))\n",
    "for name, dataset in lig_datasets.items():\n",
    "    df = dataset[dataset['Activity'] == 'inactive']\n",
    "    sns.distplot(df['MW'], label = name, kde = False, bins = 30 )\n",
    "plt.grid()"
   ]
  },
  {
   "cell_type": "code",
   "execution_count": null,
   "metadata": {},
   "outputs": [],
   "source": []
  },
  {
   "cell_type": "code",
   "execution_count": 52,
   "metadata": {},
   "outputs": [
    {
     "data": {
      "image/png": "[encoded data removed]",
      "text/plain": [
       "<Figure size 1080x504 with 1 Axes>"
      ]
     },
     "metadata": {
      "needs_background": "light"
     },
     "output_type": "display_data"
    }
   ],
   "source": [
    "plt.figure(figsize=(15,7))\n",
    "for name, dataset in lig_datasets.items():\n",
    "    sns.distplot(dataset['num_atoms'], label = name, hist = False, bins = 30)\n",
    "plt.grid()"
   ]
  },
  {
   "cell_type": "markdown",
   "metadata": {},
   "source": [
    "## Tanimoto similarity"
   ]
  },
  {
   "cell_type": "code",
   "execution_count": 133,
   "metadata": {},
   "outputs": [],
   "source": [
    "from rdkit.DataStructs import FingerprintSimilarity\n",
    "from itertools import combinations"
   ]
  },
  {
   "cell_type": "code",
   "execution_count": 145,
   "metadata": {},
   "outputs": [
    {
     "name": "stdout",
     "output_type": "stream",
     "text": [
      "\n",
      "====================\n",
      "COCRYS \t CSAR\n",
      "===============\n",
      "CK2 \t CS12\n",
      "N5B \t CS3\n",
      "18K \t CS18\n",
      "1CK \t CS1\n",
      "03K \t CS3\n",
      "09K \t CS9\n",
      "11K \t CS11\n",
      "20K \t CS20\n",
      "42K \t CS242\n",
      "60K \t CS260\n",
      "61K \t CS261\n",
      "62K \t CS262\n",
      "\n",
      "====================\n",
      "COCRYS \t DUD\n",
      "===============\n",
      "CMG \t ligand_2\n",
      "NW1 \t ligand_66\n",
      "NW1 \t ligand_67\n",
      "1PU \t ligand_24\n",
      "MBP \t ligand_34\n",
      "MBP \t ligand_35\n",
      "UN4 \t ligand_40\n",
      "UN4 \t ligand_41\n",
      "2A6 \t ligand_44\n",
      "2A6 \t ligand_45\n",
      "6CP \t ligand_42\n",
      "6CP \t ligand_43\n",
      "4SP \t ligand_9\n",
      "LS1 \t ligand_21\n",
      "LS4 \t ligand_23\n",
      "ST8 \t ligand_27\n",
      "N20 \t ligand_44\n",
      "N20 \t ligand_45\n",
      "UCN \t ligand_15\n",
      "UCN \t ligand_16\n",
      "OLO \t ligand_11\n",
      "RRC \t ligand_12\n",
      "D42 \t ligand_64\n",
      "D42 \t ligand_65\n",
      "F9Z \t ligand_69\n",
      "\n",
      "====================\n",
      "COCRYS \t DEKOIS\n",
      "===============\n",
      "CMG \t ligand_37\n",
      "1PU \t ligand_27\n",
      "1CD \t decoy_37\n",
      "F9Z \t ligand_38\n",
      "\n",
      "====================\n",
      "CSAR \t DUD\n",
      "===============\n",
      "CS241 \t ligand_71\n",
      "\n",
      "====================\n",
      "CSAR \t DEKOIS\n",
      "===============\n",
      "\n",
      "====================\n",
      "DUD \t DEKOIS\n",
      "===============\n",
      "ligand_2 \t ligand_37\n",
      "ligand_14 \t ligand_22\n",
      "ligand_15 \t ligand_3\n",
      "ligand_24 \t ligand_27\n",
      "ligand_69 \t ligand_38\n",
      "decoy_390 \t decoy_610\n",
      "decoy_391 \t decoy_610\n",
      "decoy_412 \t decoy_610\n",
      "decoy_413 \t decoy_610\n",
      "decoy_414 \t decoy_610\n",
      "decoy_415 \t decoy_610\n",
      "decoy_535 \t decoy_106\n",
      "decoy_536 \t decoy_106\n",
      "decoy_546 \t decoy_106\n",
      "decoy_547 \t decoy_106\n",
      "decoy_584 \t decoy_281\n",
      "decoy_740 \t decoy_698\n"
     ]
    }
   ],
   "source": [
    "for key_i, key_j in combinations(lig_datasets.keys(), 2):\n",
    "    print('\\n' + '='*20)\n",
    "    print(key_i, '\\t', key_j)\n",
    "    print('='*15)\n",
    "    d_i = lig_datasets[key_i]\n",
    "    d_j = lig_datasets[key_j]\n",
    "    \n",
    "    for k in d_i.index:\n",
    "        for p in d_j.index:\n",
    "            fp_sim = FingerprintSimilarity(\n",
    "                d_i.loc[k, 'fps'], \n",
    "                d_j.loc[p, 'fps'])\n",
    "            \n",
    "            if fp_sim >= 0.95:\n",
    "                print(k, '\\t', p)"
   ]
  },
  {
   "cell_type": "code",
   "execution_count": null,
   "metadata": {},
   "outputs": [],
   "source": []
  }
 ],
 "metadata": {
  "kernelspec": {
   "display_name": "Python 3",
   "language": "python",
   "name": "python3"
  },
  "language_info": {
   "codemirror_mode": {
    "name": "ipython",
    "version": 3
   },
   "file_extension": ".py",
   "mimetype": "text/x-python",
   "name": "python",
   "nbconvert_exporter": "python",
   "pygments_lexer": "ipython3",
   "version": "3.7.6"
  }
 },
 "nbformat": 4,
 "nbformat_minor": 4
}
