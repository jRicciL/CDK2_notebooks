{
 "cells": [
  {
   "cell_type": "markdown",
   "metadata": {},
   "source": [
    "## Notebook for load and processing molecules  using rdkit\n",
    "\n",
    "In this notebook we proceed to load the molecules (actives and decoys) from CSAR, DUD and DEKOIS2.0 datasets. Molecules are read from sdf files previously created."
   ]
  },
  {
   "cell_type": "code",
   "execution_count": 1,
   "metadata": {},
   "outputs": [],
   "source": [
    "import pandas as pd\n",
    "import numpy as np\n",
    "from glob import glob\n",
    "import os, pickle\n",
    "\n",
    "from rdkit import Chem\n",
    "from rdkit.Chem import AllChem"
   ]
  },
  {
   "cell_type": "code",
   "execution_count": 2,
   "metadata": {},
   "outputs": [],
   "source": [
    "from rdkit import RDLogger \n",
    "RDLogger.DisableLog('rdApp.*')"
   ]
  },
  {
   "cell_type": "markdown",
   "metadata": {},
   "source": [
    "### Useful functions "
   ]
  },
  {
   "cell_type": "code",
   "execution_count": 3,
   "metadata": {},
   "outputs": [],
   "source": [
    "from analyse_db_molecules import load_molecules_from_dir, get_files_list, get_mol_dataframe"
   ]
  },
  {
   "cell_type": "markdown",
   "metadata": {},
   "source": [
    "## Cocristalized ligands\n",
    "### Read the cocrystalized ligands\n",
    "Previously, in notebook `1_Working_with_3D_structures_in_rdkit` we have saved a python object containing a dataframe with the cocristalized ligands. That dataframe is the following:"
   ]
  },
  {
   "cell_type": "code",
   "execution_count": 4,
   "metadata": {},
   "outputs": [
    {
     "data": {
      "text/html": [
       "<div>\n",
       "<style scoped>\n",
       "    .dataframe tbody tr th:only-of-type {\n",
       "        vertical-align: middle;\n",
       "    }\n",
       "\n",
       "    .dataframe tbody tr th {\n",
       "        vertical-align: top;\n",
       "    }\n",
       "\n",
       "    .dataframe thead th {\n",
       "        text-align: right;\n",
       "    }\n",
       "</style>\n",
       "<table border=\"1\" class=\"dataframe\">\n",
       "  <thead>\n",
       "    <tr style=\"text-align: right;\">\n",
       "      <th></th>\n",
       "      <th>Lig</th>\n",
       "      <th>mol_rdk</th>\n",
       "      <th>file</th>\n",
       "      <th>Labels_conf</th>\n",
       "      <th>Validation</th>\n",
       "    </tr>\n",
       "  </thead>\n",
       "  <tbody>\n",
       "    <tr>\n",
       "      <th>1aq1</th>\n",
       "      <td>STU</td>\n",
       "      <td>&lt;rdkit.Chem.rdchem.Mol object at 0x7f376a01b4b0&gt;</td>\n",
       "      <td>../../ARCHIVOS/CRISTALES/LIGS_CDK2/POCKET_LIGS...</td>\n",
       "      <td>inact_b</td>\n",
       "      <td>v1</td>\n",
       "    </tr>\n",
       "    <tr>\n",
       "      <th>1b38</th>\n",
       "      <td>ATP</td>\n",
       "      <td>&lt;rdkit.Chem.rdchem.Mol object at 0x7f376a01b4f0&gt;</td>\n",
       "      <td>../../ARCHIVOS/CRISTALES/LIGS_CDK2/POCKET_LIGS...</td>\n",
       "      <td>inact_a</td>\n",
       "      <td>v1</td>\n",
       "    </tr>\n",
       "    <tr>\n",
       "      <th>1b39</th>\n",
       "      <td>ATP</td>\n",
       "      <td>&lt;rdkit.Chem.rdchem.Mol object at 0x7f376a01b5b0&gt;</td>\n",
       "      <td>../../ARCHIVOS/CRISTALES/LIGS_CDK2/POCKET_LIGS...</td>\n",
       "      <td>inact_a</td>\n",
       "      <td>v1</td>\n",
       "    </tr>\n",
       "    <tr>\n",
       "      <th>1ckp</th>\n",
       "      <td>PVB</td>\n",
       "      <td>&lt;rdkit.Chem.rdchem.Mol object at 0x7f376a01b5f0&gt;</td>\n",
       "      <td>../../ARCHIVOS/CRISTALES/LIGS_CDK2/POCKET_LIGS...</td>\n",
       "      <td>inact_a</td>\n",
       "      <td>v1</td>\n",
       "    </tr>\n",
       "    <tr>\n",
       "      <th>1di8</th>\n",
       "      <td>DTQ</td>\n",
       "      <td>&lt;rdkit.Chem.rdchem.Mol object at 0x7f376a01b630&gt;</td>\n",
       "      <td>../../ARCHIVOS/CRISTALES/LIGS_CDK2/POCKET_LIGS...</td>\n",
       "      <td>inact_a</td>\n",
       "      <td>v1</td>\n",
       "    </tr>\n",
       "  </tbody>\n",
       "</table>\n",
       "</div>"
      ],
      "text/plain": [
       "      Lig                                           mol_rdk  \\\n",
       "1aq1  STU  <rdkit.Chem.rdchem.Mol object at 0x7f376a01b4b0>   \n",
       "1b38  ATP  <rdkit.Chem.rdchem.Mol object at 0x7f376a01b4f0>   \n",
       "1b39  ATP  <rdkit.Chem.rdchem.Mol object at 0x7f376a01b5b0>   \n",
       "1ckp  PVB  <rdkit.Chem.rdchem.Mol object at 0x7f376a01b5f0>   \n",
       "1di8  DTQ  <rdkit.Chem.rdchem.Mol object at 0x7f376a01b630>   \n",
       "\n",
       "                                                   file Labels_conf Validation  \n",
       "1aq1  ../../ARCHIVOS/CRISTALES/LIGS_CDK2/POCKET_LIGS...     inact_b         v1  \n",
       "1b38  ../../ARCHIVOS/CRISTALES/LIGS_CDK2/POCKET_LIGS...     inact_a         v1  \n",
       "1b39  ../../ARCHIVOS/CRISTALES/LIGS_CDK2/POCKET_LIGS...     inact_a         v1  \n",
       "1ckp  ../../ARCHIVOS/CRISTALES/LIGS_CDK2/POCKET_LIGS...     inact_a         v1  \n",
       "1di8  ../../ARCHIVOS/CRISTALES/LIGS_CDK2/POCKET_LIGS...     inact_a         v1  "
      ]
     },
     "execution_count": 4,
     "metadata": {},
     "output_type": "execute_result"
    }
   ],
   "source": [
    "path_to_file_cocrys = os.path.join(*F'../data/rdkit_molecules/cdk2_365_cocristalized_ligands.pyobj'.split('/'))\n",
    "with open(path_to_file_cocrys, 'rb') as f:\n",
    "    df_crys_poses_rdk = pickle.load(f)\n",
    "df_crys_poses_rdk.head()"
   ]
  },
  {
   "cell_type": "markdown",
   "metadata": {},
   "source": [
    "From this dataframe we are only interested in the ligand name, and in the `mol_rd` columns, which has the *rdkit* molecule instances. We also need to add column indicating that the molecule is an **Active**, or Inactive, ligand. Of course, because these molecules were cocristalized with the protein we're going to assume all of them are actives.  \n",
    "\n",
    "Also, we are going to remove duplicate ligands, mainly because for this analysis we are not interested in the 3D conformation. **At the end we only going to keep 315 ligands from the original 365**."
   ]
  },
  {
   "cell_type": "code",
   "execution_count": 5,
   "metadata": {},
   "outputs": [
    {
     "data": {
      "text/plain": [
       "(315, 3)"
      ]
     },
     "execution_count": 5,
     "metadata": {},
     "output_type": "execute_result"
    }
   ],
   "source": [
    "df_COCRYS = df_crys_poses_rdk.reset_index()[['Lig', 'mol_rdk']]\n",
    "df_COCRYS.drop_duplicates(subset = 'Lig', inplace = True)\n",
    "df_COCRYS.set_index('Lig', inplace = True)\n",
    "df_COCRYS['Activity'] = 'active'\n",
    "df_COCRYS['sanitized'] = True\n",
    "df_COCRYS = df_COCRYS[['Activity', 'mol_rdk', 'sanitized']]\n",
    "df_COCRYS.shape"
   ]
  },
  {
   "cell_type": "code",
   "execution_count": 6,
   "metadata": {},
   "outputs": [
    {
     "data": {
      "text/html": [
       "<div>\n",
       "<style scoped>\n",
       "    .dataframe tbody tr th:only-of-type {\n",
       "        vertical-align: middle;\n",
       "    }\n",
       "\n",
       "    .dataframe tbody tr th {\n",
       "        vertical-align: top;\n",
       "    }\n",
       "\n",
       "    .dataframe thead th {\n",
       "        text-align: right;\n",
       "    }\n",
       "</style>\n",
       "<table border=\"1\" class=\"dataframe\">\n",
       "  <thead>\n",
       "    <tr style=\"text-align: right;\">\n",
       "      <th></th>\n",
       "      <th>Activity</th>\n",
       "      <th>mol_rdk</th>\n",
       "      <th>sanitized</th>\n",
       "    </tr>\n",
       "    <tr>\n",
       "      <th>Lig</th>\n",
       "      <th></th>\n",
       "      <th></th>\n",
       "      <th></th>\n",
       "    </tr>\n",
       "  </thead>\n",
       "  <tbody>\n",
       "    <tr>\n",
       "      <th>STU</th>\n",
       "      <td>active</td>\n",
       "      <td>&lt;rdkit.Chem.rdchem.Mol object at 0x7f376a01b4b0&gt;</td>\n",
       "      <td>True</td>\n",
       "    </tr>\n",
       "    <tr>\n",
       "      <th>ATP</th>\n",
       "      <td>active</td>\n",
       "      <td>&lt;rdkit.Chem.rdchem.Mol object at 0x7f376a01b4f0&gt;</td>\n",
       "      <td>True</td>\n",
       "    </tr>\n",
       "    <tr>\n",
       "      <th>PVB</th>\n",
       "      <td>active</td>\n",
       "      <td>&lt;rdkit.Chem.rdchem.Mol object at 0x7f376a01b5f0&gt;</td>\n",
       "      <td>True</td>\n",
       "    </tr>\n",
       "    <tr>\n",
       "      <th>DTQ</th>\n",
       "      <td>active</td>\n",
       "      <td>&lt;rdkit.Chem.rdchem.Mol object at 0x7f376a01b630&gt;</td>\n",
       "      <td>True</td>\n",
       "    </tr>\n",
       "    <tr>\n",
       "      <th>HMD</th>\n",
       "      <td>active</td>\n",
       "      <td>&lt;rdkit.Chem.rdchem.Mol object at 0x7f376a01b6b0&gt;</td>\n",
       "      <td>True</td>\n",
       "    </tr>\n",
       "  </tbody>\n",
       "</table>\n",
       "</div>"
      ],
      "text/plain": [
       "    Activity                                           mol_rdk  sanitized\n",
       "Lig                                                                      \n",
       "STU   active  <rdkit.Chem.rdchem.Mol object at 0x7f376a01b4b0>       True\n",
       "ATP   active  <rdkit.Chem.rdchem.Mol object at 0x7f376a01b4f0>       True\n",
       "PVB   active  <rdkit.Chem.rdchem.Mol object at 0x7f376a01b5f0>       True\n",
       "DTQ   active  <rdkit.Chem.rdchem.Mol object at 0x7f376a01b630>       True\n",
       "HMD   active  <rdkit.Chem.rdchem.Mol object at 0x7f376a01b6b0>       True"
      ]
     },
     "execution_count": 6,
     "metadata": {},
     "output_type": "execute_result"
    }
   ],
   "source": [
    "df_COCRYS.head()"
   ]
  },
  {
   "cell_type": "markdown",
   "metadata": {},
   "source": [
    "## CSAR dataset\n",
    "### Read the CSAR dataset molecules"
   ]
  },
  {
   "cell_type": "code",
   "execution_count": 7,
   "metadata": {},
   "outputs": [
    {
     "name": "stdout",
     "output_type": "stream",
     "text": [
      "(111, 3)\n"
     ]
    }
   ],
   "source": [
    "# File of the python object\n",
    "csar_obj_file = os.path.join(*F'../data/rdkit_molecules/cdk2_CSAR_ligands.pyobj'.split('/'))\n",
    "\n",
    "if os.path.isfile(csar_obj_file):\n",
    "    with open(csar_obj_file, 'rb') as f:\n",
    "        df_CSAR = pickle.load(f)\n",
    "\n",
    "else:\n",
    "    # Firs we got the molecules dictionary\n",
    "    path_to_file_csar_sdfs = \\\n",
    "    os.path.join(*F'../../ARCHIVOS/CRISTALES/LIGS_CDK2/CSAR/sdf/*'.split('/'))\n",
    "    csar_file_list = glob(path_to_file_csar_sdfs)\n",
    "    # sort alphanumericalñy\n",
    "    csar_file_list.sort(key = lambda x: int(x.split('/')[-1].split('.')[0].replace('CS', '')))\n",
    "\n",
    "    # Load the molecules using the function previously declared\n",
    "    csar_molecules_dic = load_molecules_from_dir(csar_file_list)\n",
    "    # Convert to a dataframe\n",
    "    df_CSAR = pd.DataFrame(csar_molecules_dic).T\n",
    "    df_CSAR.columns = ['mol_rdk', 'sanitized']\n",
    "    # The information about if the molecule is active or inactive is in the following file\n",
    "    df_csar_activity = pd.read_json('../data/csar_Binding_Data_Corrected_2016.json')\n",
    "    # merge both dataframes\n",
    "    df_CSAR['Activity'] = df_csar_activity['ActiveInactive'].str.lower()\n",
    "    # Naming the columns\n",
    "    df_CSAR = df_CSAR[['Activity', 'mol_rdk', 'sanitized']]\n",
    "    \n",
    "    # Save the file\n",
    "    with open(csar_obj_file, 'wb') as f:\n",
    "        pickle.dump(df_CSAR, f)\n",
    "\n",
    "print(df_CSAR.shape)"
   ]
  },
  {
   "cell_type": "code",
   "execution_count": 8,
   "metadata": {},
   "outputs": [
    {
     "data": {
      "text/html": [
       "<div>\n",
       "<style scoped>\n",
       "    .dataframe tbody tr th:only-of-type {\n",
       "        vertical-align: middle;\n",
       "    }\n",
       "\n",
       "    .dataframe tbody tr th {\n",
       "        vertical-align: top;\n",
       "    }\n",
       "\n",
       "    .dataframe thead th {\n",
       "        text-align: right;\n",
       "    }\n",
       "</style>\n",
       "<table border=\"1\" class=\"dataframe\">\n",
       "  <thead>\n",
       "    <tr style=\"text-align: right;\">\n",
       "      <th></th>\n",
       "      <th>Activity</th>\n",
       "      <th>mol_rdk</th>\n",
       "      <th>sanitized</th>\n",
       "    </tr>\n",
       "  </thead>\n",
       "  <tbody>\n",
       "    <tr>\n",
       "      <th>CS1</th>\n",
       "      <td>active</td>\n",
       "      <td>&lt;rdkit.Chem.rdchem.Mol object at 0x7f376a01b470&gt;</td>\n",
       "      <td>True</td>\n",
       "    </tr>\n",
       "    <tr>\n",
       "      <th>CS2</th>\n",
       "      <td>active</td>\n",
       "      <td>&lt;rdkit.Chem.rdchem.Mol object at 0x7f3769f36970&gt;</td>\n",
       "      <td>True</td>\n",
       "    </tr>\n",
       "    <tr>\n",
       "      <th>CS3</th>\n",
       "      <td>active</td>\n",
       "      <td>&lt;rdkit.Chem.rdchem.Mol object at 0x7f3769f369b0&gt;</td>\n",
       "      <td>True</td>\n",
       "    </tr>\n",
       "    <tr>\n",
       "      <th>CS4</th>\n",
       "      <td>active</td>\n",
       "      <td>&lt;rdkit.Chem.rdchem.Mol object at 0x7f3769f369f0&gt;</td>\n",
       "      <td>True</td>\n",
       "    </tr>\n",
       "    <tr>\n",
       "      <th>CS5</th>\n",
       "      <td>inactive</td>\n",
       "      <td>&lt;rdkit.Chem.rdchem.Mol object at 0x7f3769f36a30&gt;</td>\n",
       "      <td>True</td>\n",
       "    </tr>\n",
       "  </tbody>\n",
       "</table>\n",
       "</div>"
      ],
      "text/plain": [
       "     Activity                                           mol_rdk sanitized\n",
       "CS1    active  <rdkit.Chem.rdchem.Mol object at 0x7f376a01b470>      True\n",
       "CS2    active  <rdkit.Chem.rdchem.Mol object at 0x7f3769f36970>      True\n",
       "CS3    active  <rdkit.Chem.rdchem.Mol object at 0x7f3769f369b0>      True\n",
       "CS4    active  <rdkit.Chem.rdchem.Mol object at 0x7f3769f369f0>      True\n",
       "CS5  inactive  <rdkit.Chem.rdchem.Mol object at 0x7f3769f36a30>      True"
      ]
     },
     "execution_count": 8,
     "metadata": {},
     "output_type": "execute_result"
    }
   ],
   "source": [
    "df_CSAR.head()"
   ]
  },
  {
   "cell_type": "markdown",
   "metadata": {},
   "source": [
    "## DUD 2006 Dataset"
   ]
  },
  {
   "cell_type": "code",
   "execution_count": 9,
   "metadata": {},
   "outputs": [
    {
     "name": "stdout",
     "output_type": "stream",
     "text": [
      "(2146, 3)\n"
     ]
    }
   ],
   "source": [
    "dud_obj_file = os.path.join(*F'../data/rdkit_molecules/cdk2_DUD_ligands.pyobj'.split('/'))\n",
    "\n",
    "if os.path.isfile(dud_obj_file):\n",
    "    with open(dud_obj_file, 'rb') as f:\n",
    "        df_DUD = pickle.load(f)\n",
    "\n",
    "else:\n",
    "    # Firs we got the molecules dictionary\n",
    "    path_to_file_dud_sdfs = \\\n",
    "    os.path.join(*F'../../ARCHIVOS/CRISTALES/LIGS_CDK2/DUDE_DECOYS/DUD_2006/sdf/'.split('/'))\n",
    "    # Get the files list\n",
    "    dud_file_list = get_files_list(path_to_sdfs = path_to_file_dud_sdfs, \n",
    "                                   actives_name='ligand', inactives_name='decoy')\n",
    "\n",
    "    # Load the molecules using the function previously declared\n",
    "    # load_molecules_from_dir(path_to_file_csar_sdfs)\n",
    "    dud_molecules_dic = load_molecules_from_dir(dud_file_list)\n",
    "\n",
    "    # Convert to a dataframe\n",
    "    df_DUD = get_mol_dataframe(mol_dictionary=dud_molecules_dic)\n",
    "    \n",
    "    with open(dud_obj_file, 'wb') as f:\n",
    "        pickle.dump(df_DUD, f)\n",
    "        \n",
    "print(df_DUD.shape)"
   ]
  },
  {
   "cell_type": "code",
   "execution_count": 10,
   "metadata": {
    "scrolled": true
   },
   "outputs": [
    {
     "data": {
      "text/html": [
       "<div>\n",
       "<style scoped>\n",
       "    .dataframe tbody tr th:only-of-type {\n",
       "        vertical-align: middle;\n",
       "    }\n",
       "\n",
       "    .dataframe tbody tr th {\n",
       "        vertical-align: top;\n",
       "    }\n",
       "\n",
       "    .dataframe thead th {\n",
       "        text-align: right;\n",
       "    }\n",
       "</style>\n",
       "<table border=\"1\" class=\"dataframe\">\n",
       "  <thead>\n",
       "    <tr style=\"text-align: right;\">\n",
       "      <th></th>\n",
       "      <th>Activity</th>\n",
       "      <th>mol_rdk</th>\n",
       "      <th>sanitized</th>\n",
       "    </tr>\n",
       "  </thead>\n",
       "  <tbody>\n",
       "    <tr>\n",
       "      <th>ligand_1</th>\n",
       "      <td>active</td>\n",
       "      <td>&lt;rdkit.Chem.rdchem.Mol object at 0x7f3769f36930&gt;</td>\n",
       "      <td>True</td>\n",
       "    </tr>\n",
       "    <tr>\n",
       "      <th>ligand_2</th>\n",
       "      <td>active</td>\n",
       "      <td>&lt;rdkit.Chem.rdchem.Mol object at 0x7f3769ee93b0&gt;</td>\n",
       "      <td>True</td>\n",
       "    </tr>\n",
       "    <tr>\n",
       "      <th>ligand_3</th>\n",
       "      <td>active</td>\n",
       "      <td>&lt;rdkit.Chem.rdchem.Mol object at 0x7f3769ee93f0&gt;</td>\n",
       "      <td>True</td>\n",
       "    </tr>\n",
       "    <tr>\n",
       "      <th>ligand_4</th>\n",
       "      <td>active</td>\n",
       "      <td>&lt;rdkit.Chem.rdchem.Mol object at 0x7f3769ee9430&gt;</td>\n",
       "      <td>True</td>\n",
       "    </tr>\n",
       "    <tr>\n",
       "      <th>ligand_5</th>\n",
       "      <td>active</td>\n",
       "      <td>&lt;rdkit.Chem.rdchem.Mol object at 0x7f3769ee9470&gt;</td>\n",
       "      <td>True</td>\n",
       "    </tr>\n",
       "  </tbody>\n",
       "</table>\n",
       "</div>"
      ],
      "text/plain": [
       "         Activity                                           mol_rdk sanitized\n",
       "ligand_1   active  <rdkit.Chem.rdchem.Mol object at 0x7f3769f36930>      True\n",
       "ligand_2   active  <rdkit.Chem.rdchem.Mol object at 0x7f3769ee93b0>      True\n",
       "ligand_3   active  <rdkit.Chem.rdchem.Mol object at 0x7f3769ee93f0>      True\n",
       "ligand_4   active  <rdkit.Chem.rdchem.Mol object at 0x7f3769ee9430>      True\n",
       "ligand_5   active  <rdkit.Chem.rdchem.Mol object at 0x7f3769ee9470>      True"
      ]
     },
     "execution_count": 10,
     "metadata": {},
     "output_type": "execute_result"
    }
   ],
   "source": [
    "df_DUD.head()"
   ]
  },
  {
   "cell_type": "markdown",
   "metadata": {},
   "source": [
    "## DEKOIS Dataset"
   ]
  },
  {
   "cell_type": "code",
   "execution_count": 11,
   "metadata": {},
   "outputs": [
    {
     "name": "stdout",
     "output_type": "stream",
     "text": [
      "(1240, 3)\n"
     ]
    }
   ],
   "source": [
    "dekois_obj_file = os.path.join(*F'../data/rdkit_molecules/cdk2_DEKOIS_ligands.pyobj'.split('/'))\n",
    "\n",
    "if os.path.isfile(dekois_obj_file):\n",
    "    with open(dekois_obj_file, 'rb') as f:\n",
    "        df_DEKOIS = pickle.load(f)\n",
    "\n",
    "else:\n",
    "    # Firs we got the molecules dictionary\n",
    "    path_to_file_dekois_sdfs = \\\n",
    "    os.path.join(*F'../../ARCHIVOS/CRISTALES/LIGS_CDK2/DEKOIS_2/sdf/'.split('/'))\n",
    "    # Get the files list\n",
    "    dekois_file_list = get_files_list(path_to_sdfs = path_to_file_dekois_sdfs, \n",
    "                                   actives_name='ligand', inactives_name='decoy')\n",
    "\n",
    "    # Load the molecules using the function previously declared\n",
    "    # load_molecules_from_dir(path_to_file_csar_sdfs)\n",
    "    dekois_molecules_dic = load_molecules_from_dir(dekois_file_list)\n",
    "\n",
    "    # Convert to a dataframe\n",
    "    df_DEKOIS = get_mol_dataframe(mol_dictionary=dekois_molecules_dic)\n",
    "    \n",
    "    with open(dekois_obj_file, 'wb') as f:\n",
    "        pickle.dump(df_DEKOIS, f)\n",
    "        \n",
    "print(df_DEKOIS.shape)"
   ]
  },
  {
   "cell_type": "code",
   "execution_count": 12,
   "metadata": {},
   "outputs": [
    {
     "data": {
      "text/html": [
       "<div>\n",
       "<style scoped>\n",
       "    .dataframe tbody tr th:only-of-type {\n",
       "        vertical-align: middle;\n",
       "    }\n",
       "\n",
       "    .dataframe tbody tr th {\n",
       "        vertical-align: top;\n",
       "    }\n",
       "\n",
       "    .dataframe thead th {\n",
       "        text-align: right;\n",
       "    }\n",
       "</style>\n",
       "<table border=\"1\" class=\"dataframe\">\n",
       "  <thead>\n",
       "    <tr style=\"text-align: right;\">\n",
       "      <th></th>\n",
       "      <th>Activity</th>\n",
       "      <th>mol_rdk</th>\n",
       "      <th>sanitized</th>\n",
       "    </tr>\n",
       "  </thead>\n",
       "  <tbody>\n",
       "    <tr>\n",
       "      <th>ligand_1</th>\n",
       "      <td>active</td>\n",
       "      <td>&lt;rdkit.Chem.rdchem.Mol object at 0x7f3769ee9370&gt;</td>\n",
       "      <td>True</td>\n",
       "    </tr>\n",
       "    <tr>\n",
       "      <th>ligand_2</th>\n",
       "      <td>active</td>\n",
       "      <td>&lt;rdkit.Chem.rdchem.Mol object at 0x7f3769ec9bf0&gt;</td>\n",
       "      <td>True</td>\n",
       "    </tr>\n",
       "    <tr>\n",
       "      <th>ligand_3</th>\n",
       "      <td>active</td>\n",
       "      <td>&lt;rdkit.Chem.rdchem.Mol object at 0x7f3769ec9c30&gt;</td>\n",
       "      <td>True</td>\n",
       "    </tr>\n",
       "    <tr>\n",
       "      <th>ligand_4</th>\n",
       "      <td>active</td>\n",
       "      <td>&lt;rdkit.Chem.rdchem.Mol object at 0x7f3769ec9c70&gt;</td>\n",
       "      <td>True</td>\n",
       "    </tr>\n",
       "    <tr>\n",
       "      <th>ligand_5</th>\n",
       "      <td>active</td>\n",
       "      <td>&lt;rdkit.Chem.rdchem.Mol object at 0x7f3769ec9cb0&gt;</td>\n",
       "      <td>True</td>\n",
       "    </tr>\n",
       "  </tbody>\n",
       "</table>\n",
       "</div>"
      ],
      "text/plain": [
       "         Activity                                           mol_rdk sanitized\n",
       "ligand_1   active  <rdkit.Chem.rdchem.Mol object at 0x7f3769ee9370>      True\n",
       "ligand_2   active  <rdkit.Chem.rdchem.Mol object at 0x7f3769ec9bf0>      True\n",
       "ligand_3   active  <rdkit.Chem.rdchem.Mol object at 0x7f3769ec9c30>      True\n",
       "ligand_4   active  <rdkit.Chem.rdchem.Mol object at 0x7f3769ec9c70>      True\n",
       "ligand_5   active  <rdkit.Chem.rdchem.Mol object at 0x7f3769ec9cb0>      True"
      ]
     },
     "execution_count": 12,
     "metadata": {},
     "output_type": "execute_result"
    }
   ],
   "source": [
    "df_DEKOIS.head()"
   ]
  },
  {
   "cell_type": "code",
   "execution_count": 23,
   "metadata": {},
   "outputs": [
    {
     "data": {
      "text/plain": [
       "1240"
      ]
     },
     "execution_count": 23,
     "metadata": {},
     "output_type": "execute_result"
    }
   ],
   "source": [
    "df_DEKOIS.sanitized.sum()"
   ]
  },
  {
   "cell_type": "markdown",
   "metadata": {},
   "source": [
    "## DUD-E Dataset"
   ]
  },
  {
   "cell_type": "code",
   "execution_count": 28,
   "metadata": {},
   "outputs": [
    {
     "name": "stdout",
     "output_type": "stream",
     "text": [
      "(29126, 3)\n"
     ]
    }
   ],
   "source": [
    "dud_obj_file = os.path.join(*F'../data/rdkit_molecules/cdk2_DUDE_ligands.pyobj'.split('/'))\n",
    "\n",
    "if os.path.isfile(dud_obj_file):\n",
    "    with open(dud_obj_file, 'rb') as f:\n",
    "        df_DUDE = pickle.load(f)\n",
    "\n",
    "else:\n",
    "    # Firs we got the molecules dictionary\n",
    "    path_to_file_dud_sdfs = \\\n",
    "    os.path.join(*F'../../ARCHIVOS/CRISTALES/LIGS_CDK2/DUD_E/sdf/'.split('/'))\n",
    "    # Get the files list\n",
    "    dude_file_list = get_files_list(path_to_sdfs = path_to_file_dud_sdfs, \n",
    "                                   actives_name='ligand', inactives_name='decoy')\n",
    "\n",
    "    # Load the molecules using the function previously declared\n",
    "    # load_molecules_from_dir(path_to_file_csar_sdfs)\n",
    "    dude_molecules_dic = load_molecules_from_dir(dude_file_list)\n",
    "\n",
    "    # Convert to a dataframe\n",
    "    df_DUDE = get_mol_dataframe(mol_dictionary=dude_molecules_dic)\n",
    "    \n",
    "    with open(dud_obj_file, 'wb') as f:\n",
    "        pickle.dump(df_DUDE, f)\n",
    "        \n",
    "print(df_DUDE.shape)"
   ]
  },
  {
   "cell_type": "code",
   "execution_count": 29,
   "metadata": {
    "scrolled": true
   },
   "outputs": [
    {
     "data": {
      "text/plain": [
       "29126"
      ]
     },
     "execution_count": 29,
     "metadata": {},
     "output_type": "execute_result"
    }
   ],
   "source": [
    "df_DUDE.head()\n",
    "df_DUDE.sanitized.sum()"
   ]
  },
  {
   "cell_type": "markdown",
   "metadata": {},
   "source": [
    "## Dictionary of Datasets"
   ]
  },
  {
   "cell_type": "code",
   "execution_count": 31,
   "metadata": {},
   "outputs": [],
   "source": [
    "lig_datasets = {'COCRYS': df_COCRYS, 'CSAR': df_CSAR, 'DUD': df_DUD, 'DUDE': df_DUDE, 'DEKOIS': df_DEKOIS}"
   ]
  },
  {
   "cell_type": "markdown",
   "metadata": {},
   "source": [
    "### Save the python dictionary using pickle"
   ]
  },
  {
   "cell_type": "code",
   "execution_count": 16,
   "metadata": {},
   "outputs": [],
   "source": [
    "import pickle\n",
    "\n",
    "file_rd_mols = './rdKit_db_molecules.obj'\n",
    "if os.path.isfile(file_rd_mols):\n",
    "    with open(file_rd_mols, 'rb') as f:\n",
    "        lig_datasets = pickle.load(f)\n",
    "else:\n",
    "    with open(file_rd_mols, 'wb') as f:\n",
    "        pickle.dump(lig_datasets, f)"
   ]
  },
  {
   "cell_type": "code",
   "execution_count": 32,
   "metadata": {},
   "outputs": [],
   "source": [
    "import pickle\n",
    "\n",
    "file_rd_mols = './rdKit_db_molecules_with_DUDE.obj'\n",
    "if os.path.isfile(file_rd_mols):\n",
    "    with open(file_rd_mols, 'rb') as f:\n",
    "        lig_datasets = pickle.load(f)\n",
    "else:\n",
    "    with open(file_rd_mols, 'wb') as f:\n",
    "        pickle.dump(lig_datasets, f)"
   ]
  },
  {
   "cell_type": "code",
   "execution_count": null,
   "metadata": {},
   "outputs": [],
   "source": []
  }
 ],
 "metadata": {
  "kernelspec": {
   "display_name": "Python 3",
   "language": "python",
   "name": "python3"
  },
  "language_info": {
   "codemirror_mode": {
    "name": "ipython",
    "version": 3
   },
   "file_extension": ".py",
   "mimetype": "text/x-python",
   "name": "python",
   "nbconvert_exporter": "python",
   "pygments_lexer": "ipython3",
   "version": "3.7.6"
  }
 },
 "nbformat": 4,
 "nbformat_minor": 4
}
