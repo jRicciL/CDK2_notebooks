{
 "cells": [
  {
   "cell_type": "code",
   "execution_count": 1,
   "metadata": {},
   "outputs": [
    {
     "name": "stderr",
     "output_type": "stream",
     "text": [
      "/home/joel/anaconda3/envs/mds/lib/python3.6/importlib/_bootstrap.py:219: RuntimeWarning: numpy.ufunc size changed, may indicate binary incompatibility. Expected 192 from C header, got 216 from PyObject\n",
      "  return f(*args, **kwds)\n"
     ]
    }
   ],
   "source": [
    "import pandas as pd"
   ]
  },
  {
   "cell_type": "code",
   "execution_count": 2,
   "metadata": {},
   "outputs": [],
   "source": [
    "# ¿Es activa?\n",
    "# tine un puente salino y tiene como inhibidor al ATP\n",
    "import MDAnalysis\n",
    "ref_id = \"1fin\"\n",
    "dfg_out = \"5a14\"\n",
    "pdbs_ENS_dir = \"../ARCHIVOS/CRISTALES/PROT_CDK2_PREPARADAS/PREP_ALL_ENSAMBLE/\"\n",
    "ref_structure_file = pdbs_ENS_dir + ref_id + \"_ENS.pdb\"\n",
    "ref_dfgOut_file = pdbs_ENS_dir + dfg_out + \"_ENS.pdb\""
   ]
  },
  {
   "cell_type": "code",
   "execution_count": 2,
   "metadata": {},
   "outputs": [
    {
     "name": "stderr",
     "output_type": "stream",
     "text": [
      "/home/joel/anaconda3/envs/mds/lib/python3.6/site-packages/MDAnalysis/analysis/hbonds/hbond_analysis.py:649: SelectionWarning: No acceptors found in selection 2. You might have to specify a custom 'acceptors' keyword. Selection will update so continuing with fingers crossed.\n",
      "  warnings.warn(errmsg, category=SelectionWarning)\n",
      "/home/joel/anaconda3/envs/mds/lib/python3.6/site-packages/MDAnalysis/analysis/hbonds/hbond_analysis.py:649: SelectionWarning: No donors found in selection 2. You might have to specify a custom 'donors' keyword. Selection will update so continuing with fingers crossed.\n",
      "  warnings.warn(errmsg, category=SelectionWarning)\n",
      "/home/joel/anaconda3/envs/mds/lib/python3.6/site-packages/MDAnalysis/coordinates/base.py:836: UserWarning: Reader has no dt information, set to 1.0 ps\n",
      "  warnings.warn(\"Reader has no dt information, set to 1.0 ps\")\n"
     ]
    },
    {
     "name": "stdout",
     "output_type": "stream",
     "text": [
      "4gcj Es Inactiva B\n",
      "1aq1 Es Inactiva B\n",
      "4fkw Es Inactiva B\n",
      "3pxr Es Inactiva A\n",
      "1fin Es activa\n",
      "5a14 Es dfg-out\n"
     ]
    },
    {
     "ename": "NameError",
     "evalue": "name 'pd' is not defined",
     "output_type": "error",
     "traceback": [
      "\u001b[0;31m---------------------------------------------------------------------------\u001b[0m",
      "\u001b[0;31mNameError\u001b[0m                                 Traceback (most recent call last)",
      "\u001b[0;32m<ipython-input-2-466d6c174836>\u001b[0m in \u001b[0;36m<module>\u001b[0;34m\u001b[0m\n\u001b[1;32m     51\u001b[0m     \u001b[0mlista_res\u001b[0m\u001b[0;34m.\u001b[0m\u001b[0mupdate\u001b[0m\u001b[0;34m(\u001b[0m\u001b[0md\u001b[0m\u001b[0;34m)\u001b[0m\u001b[0;34m\u001b[0m\u001b[0;34m\u001b[0m\u001b[0m\n\u001b[1;32m     52\u001b[0m \u001b[0;34m\u001b[0m\u001b[0m\n\u001b[0;32m---> 53\u001b[0;31m \u001b[0mpd\u001b[0m\u001b[0;34m.\u001b[0m\u001b[0mSeries\u001b[0m\u001b[0;34m(\u001b[0m\u001b[0mlista_res\u001b[0m\u001b[0;34m)\u001b[0m\u001b[0;34m\u001b[0m\u001b[0;34m\u001b[0m\u001b[0m\n\u001b[0m",
      "\u001b[0;31mNameError\u001b[0m: name 'pd' is not defined"
     ]
    }
   ],
   "source": [
    "import MDAnalysis\n",
    "from MDAnalysis.analysis.dihedrals import Dihedral\n",
    "import MDAnalysis.analysis.hbonds\n",
    "import numpy as np\n",
    "\n",
    "lista_res = {}\n",
    "\n",
    "pdb_id_list = [\"4gcj\", \"1aq1\", \"4fkw\", \"3pxr\", \"1fin\", \"5a14\"]\n",
    "pdbs_ENS_dir = \"../ARCHIVOS/CRISTALES/PROT_CDK2_PREPARADAS/PREP_ALL_ENSAMBLE/\"\n",
    "\n",
    "for pdb_id in pdb_id_list:\n",
    "    pdb_id_file = pdbs_ENS_dir + pdb_id + \"_ENS.pdb\"\n",
    "    u = MDAnalysis.Universe(pdb_id_file)\n",
    "\n",
    "    # ¿Es activa? o dfgout, será activa si tiene un puente salino entre Lys33 y Glu51 y no es DFGOUT\n",
    "    hb_K33_Q51 = MDAnalysis.analysis.hbonds.HydrogenBondAnalysis(u, \n",
    "                            'resnum 33', 'resnum 51', distance=3.0, angle=120.0)\n",
    "    hb_K33_Q51.run()\n",
    "    hb_K33_Q51.generate_table()\n",
    "    if len(hb_K33_Q51.table) > 0:\n",
    "        # Es DFG-out\n",
    "        phi_res_D145 = [ u.residues[144].phi_selection() ]\n",
    "        phi_value = ( Dihedral(phi_res_D145).run() ).angles[0][0]\n",
    "        if phi_value < 0:\n",
    "            print(pdb_id, \"Es dfg-out\")\n",
    "            d = {pdb_id: \"dfg_out\"}\n",
    "        else:\n",
    "            print(pdb_id, \"Es activa\")\n",
    "            d = {pdb_id: \"active\"}\n",
    "    # Entonces es abierta, inhibidora A o B\n",
    "    else:\n",
    "        aC = u.select_atoms(\"resnum 46-55\").center_of_geometry()\n",
    "        B4 = u.select_atoms(\"resnum 76-81\").center_of_geometry()\n",
    "        dist_aC_B4 = np.linalg.norm(B4 - aC)\n",
    "        # ¿Es abierta?\n",
    "        if dist_aC_B4 > 14.5:\n",
    "            print(pdb_id, \"Es abierta\")\n",
    "            d = {pdb_id: \"open\"}\n",
    "        else:\n",
    "            hb_helix_ALoop = MDAnalysis.analysis.hbonds.HydrogenBondAnalysis(u, \n",
    "                             'resnum 147-155', 'resnum 147-155', distance=3.0, angle=120.0)\n",
    "            hb_helix_ALoop.run()\n",
    "            hb_helix_ALoop.generate_table()\n",
    "             # Entonces es inicativa A?\n",
    "            if len( hb_helix_ALoop.table ) > 1:\n",
    "                print(pdb_id, \"Es Inactiva A\")\n",
    "                d = {pdb_id: \"inactive_A\"}\n",
    "            else:\n",
    "                print(pdb_id, \"Es Inactiva B\")\n",
    "                d = {pdb_id: \"inactive_B\"}\n",
    "    lista_res.update(d)\n",
    "\n",
    "pd.Series(lista_res)"
   ]
  },
  {
   "cell_type": "code",
   "execution_count": 13,
   "metadata": {},
   "outputs": [
    {
     "name": "stdout",
     "output_type": "stream",
     "text": [
      "[[60.17351814]] [[55.29519936]]\n"
     ]
    },
    {
     "data": {
      "text/plain": [
       "[<AtomGroup with 4 atoms>]"
      ]
     },
     "execution_count": 13,
     "metadata": {},
     "output_type": "execute_result"
    }
   ],
   "source": [
    "u = MDAnalysis.Universe(ref_structure_file)\n",
    "g = MDAnalysis.Universe(ref_dfgOut_file)\n",
    "ags_1 = [res.phi_selection() for res in u.residues[144:145]]\n",
    "ags_2 = [res.phi_selection() for res in g.residues[144:145]]\n",
    "\n",
    "from MDAnalysis.analysis.dihedrals import Dihedral\n",
    "r = Dihedral(ags_1).run()\n",
    "s = Dihedral(ags_2).run()\n",
    "print(r.angles, s.angles)\n",
    "\n",
    "u.residues[144].phi_selection()\n",
    "ags_1"
   ]
  },
  {
   "cell_type": "code",
   "execution_count": 27,
   "metadata": {},
   "outputs": [
    {
     "name": "stdout",
     "output_type": "stream",
     "text": [
      "<MDAnalysis.analysis.dihedrals.Dihedral object at 0x7f78a8fac7b8>\n"
     ]
    }
   ],
   "source": [
    "ags_1 = [res.phi_selection() for res in u.residues[144:145]]\n",
    "dir(a)\n",
    "print(Dihedral(ags_1).run())"
   ]
  },
  {
   "cell_type": "code",
   "execution_count": 35,
   "metadata": {},
   "outputs": [
    {
     "data": {
      "text/plain": [
       "<Universe with 4848 atoms>"
      ]
     },
     "execution_count": 35,
     "metadata": {},
     "output_type": "execute_result"
    }
   ],
   "source": [
    "u.universe."
   ]
  },
  {
   "cell_type": "code",
   "execution_count": 21,
   "metadata": {},
   "outputs": [
    {
     "data": {
      "text/plain": [
       "(402, 3)"
      ]
     },
     "execution_count": 21,
     "metadata": {},
     "output_type": "execute_result"
    }
   ],
   "source": [
    "import pytraj as pt\n",
    "#traj = pt.load(ref_structure_file)\n",
    "pt.calc_center_of_geometry(traj, \":46-55\").shape\n",
    "#type(traj)"
   ]
  },
  {
   "cell_type": "code",
   "execution_count": 4,
   "metadata": {},
   "outputs": [
    {
     "data": {
      "text/plain": [
       "<pytraj.DatasetList with 1 datasets>\n",
       "phi:145\n",
       "[60.17326784]"
      ]
     },
     "execution_count": 4,
     "metadata": {},
     "output_type": "execute_result"
    }
   ],
   "source": [
    "#traj = pt.load(ref_dfgOut_file)\n",
    "pt.calc_phi(traj, resrange='145')"
   ]
  },
  {
   "cell_type": "code",
   "execution_count": 29,
   "metadata": {},
   "outputs": [
    {
     "data": {
      "text/plain": [
       "1754.9371967158077"
      ]
     },
     "execution_count": 29,
     "metadata": {},
     "output_type": "execute_result"
    }
   ],
   "source": [
    "import numpy as np\n",
    "a = np.random.rand(90, 3) * 100\n",
    "b = np.random.rand(90, 3) * -100\n",
    "\n",
    "np.linalg.norm(a - b)"
   ]
  },
  {
   "cell_type": "code",
   "execution_count": 79,
   "metadata": {},
   "outputs": [
    {
     "name": "stdout",
     "output_type": "stream",
     "text": [
      "402\n"
     ]
    },
    {
     "data": {
      "text/plain": [
       "array([50.9327455 , 60.64897315, 73.13150104, ..., 84.12745719,\n",
       "       81.08172202, 71.25038634])"
      ]
     },
     "execution_count": 79,
     "metadata": {},
     "output_type": "execute_result"
    }
   ],
   "source": [
    "file = '/home/joel/Documentos/Doctorado/DOCTO_TESIS/Proteinas_Modelo/CDK2/CDK2/ARCHIVOS/CRISTALES/VOLUMEN/CDK2_VOL_PISANI_402/PDB_402_cdk2_PISANI_ALL.pdb'\n",
    "\n",
    "traj = pt.load(file)\n",
    "print(traj.n_frames)\n",
    "a = pt.calc_phi(traj, resrange='145')\n",
    "\n",
    "a.values"
   ]
  },
  {
   "cell_type": "code",
   "execution_count": 17,
   "metadata": {},
   "outputs": [
    {
     "data": {
      "text/plain": [
       "402"
      ]
     },
     "execution_count": 17,
     "metadata": {},
     "output_type": "execute_result"
    }
   ],
   "source": [
    "traj.n_frames"
   ]
  },
  {
   "cell_type": "code",
   "execution_count": 18,
   "metadata": {},
   "outputs": [
    {
     "data": {
      "text/plain": [
       "<bound method BaseDataHolder.to_dict of <pytraj.hbonds.DatasetHBond\n",
       "donor_acceptor pairs : 6>>"
      ]
     },
     "execution_count": 18,
     "metadata": {},
     "output_type": "execute_result"
    }
   ],
   "source": [
    "a = pt.search_hbonds(traj, ':33,51', distance=5.0, angle=145.0)\n",
    "a.to_dict"
   ]
  },
  {
   "cell_type": "code",
   "execution_count": 31,
   "metadata": {},
   "outputs": [
    {
     "data": {
      "text/plain": [
       "array([13.82386476, 15.51196396, 15.90498947, ..., 18.35620105,\n",
       "       17.79975969, 17.97402047])"
      ]
     },
     "execution_count": 31,
     "metadata": {},
     "output_type": "execute_result"
    }
   ],
   "source": [
    "pt.distance(traj, ':33@NZ :51@CD')"
   ]
  },
  {
   "cell_type": "code",
   "execution_count": 68,
   "metadata": {},
   "outputs": [
    {
     "data": {
      "text/plain": [
       "402"
      ]
     },
     "execution_count": 68,
     "metadata": {},
     "output_type": "execute_result"
    }
   ],
   "source": [
    "sec_stc = pt.dssp_analysis.dssp(traj,  ':146-156')\n",
    "sec_stc[0][0]\n",
    "len(sec_stc[1][:])\n"
   ]
  },
  {
   "cell_type": "code",
   "execution_count": 80,
   "metadata": {},
   "outputs": [
    {
     "name": "stdout",
     "output_type": "stream",
     "text": [
      "['0' '0' 'H' ... '0' '0' '0']\n"
     ]
    },
    {
     "data": {
      "text/plain": [
       "array([False, False, False, ..., False, False, False])"
      ]
     },
     "execution_count": 80,
     "metadata": {},
     "output_type": "execute_result"
    }
   ],
   "source": [
    "print(sec_stc[1][1])\n",
    "    \n",
    "z = np.char.count(sec_stc[1], 'H').sum(axis=1) >= 4\n",
    "y = a.values < 0\n",
    "y"
   ]
  },
  {
   "cell_type": "code",
   "execution_count": 12,
   "metadata": {
    "scrolled": true
   },
   "outputs": [
    {
     "name": "stdout",
     "output_type": "stream",
     "text": [
      "None\n",
      "None\n",
      "<MDAnalysis.analysis.hbonds.hbond_analysis.HydrogenBondAnalysis object at 0x7f78ad35c780>\n"
     ]
    },
    {
     "data": {
      "text/plain": [
       "1"
      ]
     },
     "execution_count": 12,
     "metadata": {},
     "output_type": "execute_result"
    }
   ],
   "source": [
    "# PAra comprobar si es Inactivo A o B\n",
    "import MDAnalysis\n",
    "import MDAnalysis.analysis.hbonds\n",
    "\n",
    "h = MDAnalysis.analysis.hbonds.HydrogenBondAnalysis(u, 'resnum 147-155', 'resnum 147-155', distance=4.0, angle=120.0)\n",
    "print(h.run())\n",
    "print(h.generate_table())\n",
    "print(h)\n",
    "import pandas as pd\n",
    "len(h.table)"
   ]
  },
  {
   "cell_type": "code",
   "execution_count": 95,
   "metadata": {},
   "outputs": [
    {
     "data": {
      "text/plain": [
       "1"
      ]
     },
     "execution_count": 95,
     "metadata": {},
     "output_type": "execute_result"
    }
   ],
   "source": [
    "# PAra comprobar si es Inactivo A o B\n",
    "import MDAnalysis\n",
    "import MDAnalysis.analysis.hbonds\n",
    "\n",
    "h = MDAnalysis.analysis.hbonds.HydrogenBondAnalysis(u, 'resnum 33', 'resnum 51', distance=3.0, angle=120.0)\n",
    "h.run()\n",
    "h.generate_table()\n",
    "len(h.table)"
   ]
  },
  {
   "cell_type": "markdown",
   "metadata": {},
   "source": []
  },
  {
   "cell_type": "raw",
   "metadata": {},
   "source": []
  },
  {
   "cell_type": "code",
   "execution_count": 116,
   "metadata": {},
   "outputs": [
    {
     "name": "stdout",
     "output_type": "stream",
     "text": [
      "False\n"
     ]
    }
   ],
   "source": [
    "# tine un puente salino y tiene como inhibidor al ATP\n",
    "import MDAnalysis\n",
    "ref_id = \"1aq1\"\n",
    "dfg_out = \"1aq1\"\n",
    "pdbs_ENS_dir = \"../ARCHIVOS/CRISTALES/PROT_CDK2_PREPARADAS/PREP_ALL_ENSAMBLE/\"\n",
    "ref_structure_file = pdbs_ENS_dir + ref_id + \"_ENS.pdb\"\n",
    "ref_dfgOut_file = pdbs_ENS_dir + dfg_out + \"_ENS.pdb\"\n",
    "\n",
    "u = MDAnalysis.Universe(ref_structure_file)\n",
    "g = MDAnalysis.Universe(ref_dfgOut_file)\n",
    "\n",
    "# Para comprobar si es abierto\n",
    "import numpy as np\n",
    "aC = g.select_atoms(\"resnum 46-55\").center_of_geometry()\n",
    "b4 = g.select_atoms(\"resnum 76-81\").center_of_geometry()\n",
    "\n",
    "print(np.linalg.norm(b4 - aC) > 14)\n",
    "#print(aC, b4)"
   ]
  }
 ],
 "metadata": {
  "kernelspec": {
   "display_name": "Python 3",
   "language": "python",
   "name": "python3"
  },
  "language_info": {
   "codemirror_mode": {
    "name": "ipython",
    "version": 3
   },
   "file_extension": ".py",
   "mimetype": "text/x-python",
   "name": "python",
   "nbconvert_exporter": "python",
   "pygments_lexer": "ipython3",
   "version": "3.6.7"
  }
 },
 "nbformat": 4,
 "nbformat_minor": 2
}
