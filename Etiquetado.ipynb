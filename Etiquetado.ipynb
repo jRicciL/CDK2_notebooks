{
 "cells": [
  {
   "cell_type": "code",
   "execution_count": 111,
   "metadata": {},
   "outputs": [],
   "source": [
    "# ¿Es activa?\n",
    "# tine un puente salino y tiene como inhibidor al ATP\n",
    "import MDAnalysis\n",
    "ref_id = \"1fin\"\n",
    "dfg_out = \"4gcj\"\n",
    "pdbs_ENS_dir = \"../ARCHIVOS/CRISTALES/PROT_CDK2_PREPARADAS/PREP_ALL_ENSAMBLE/\"\n",
    "ref_structure_file = pdbs_ENS_dir + ref_id + \"_ENS.pdb\"\n",
    "ref_dfgOut_file = pdbs_ENS_dir + dfg_out + \"_ENS.pdb\""
   ]
  },
  {
   "cell_type": "code",
   "execution_count": 129,
   "metadata": {},
   "outputs": [
    {
     "name": "stdout",
     "output_type": "stream",
     "text": [
      "4gcj Es Inactiva B\n",
      "1aq1 Es Inactiva B\n",
      "4fkw Es Inactiva B\n",
      "3pxr Es Inactiva A\n",
      "1fin Es activa\n",
      "5a14 Es dfg-out\n"
     ]
    },
    {
     "data": {
      "text/plain": [
       "4gcj    inactive_B\n",
       "1aq1    inactive_B\n",
       "4fkw    inactive_B\n",
       "3pxr    inactive_A\n",
       "1fin        active\n",
       "5a14       dfg_out\n",
       "dtype: object"
      ]
     },
     "execution_count": 129,
     "metadata": {},
     "output_type": "execute_result"
    }
   ],
   "source": [
    "import MDAnalysis\n",
    "from MDAnalysis.analysis.dihedrals import Dihedral\n",
    "import MDAnalysis.analysis.hbonds\n",
    "import numpy as np\n",
    "\n",
    "lista_res = {}\n",
    "\n",
    "pdb_id_list = [\"4gcj\", \"1aq1\", \"4fkw\", \"3pxr\", \"1fin\", \"5a14\"]\n",
    "pdbs_ENS_dir = \"../ARCHIVOS/CRISTALES/PROT_CDK2_PREPARADAS/PREP_ALL_ENSAMBLE/\"\n",
    "\n",
    "for pdb_id in pdb_id_list:\n",
    "    pdb_id_file = pdbs_ENS_dir + pdb_id + \"_ENS.pdb\"\n",
    "    u = MDAnalysis.Universe(pdb_id_file)\n",
    "\n",
    "    # ¿Es activa? o dfgout, será activa si tiene un puente salino entre Lys33 y Glu51 y no es DFGOUT\n",
    "    hb_K33_Q51 = MDAnalysis.analysis.hbonds.HydrogenBondAnalysis(u, \n",
    "                            'resnum 33', 'resnum 51', distance=3.0, angle=120.0)\n",
    "    hb_K33_Q51.run()\n",
    "    hb_K33_Q51.generate_table()\n",
    "    if len(hb_K33_Q51.table) > 0:\n",
    "        # Es DFG-out\n",
    "        phi_res_D145 = [ u.residues[144].phi_selection() ]\n",
    "        phi_value = ( Dihedral(phi_res_D145).run() ).angles[0][0]\n",
    "        if phi_value < 0:\n",
    "            print(pdb_id, \"Es dfg-out\")\n",
    "            d = {pdb_id: \"dfg_out\"}\n",
    "        else:\n",
    "            print(pdb_id, \"Es activa\")\n",
    "            d = {pdb_id: \"active\"}\n",
    "    # Entonces es abierta, inhibidora A o B\n",
    "    else:\n",
    "        aC = u.select_atoms(\"resnum 46-55\").center_of_geometry()\n",
    "        B4 = u.select_atoms(\"resnum 76-81\").center_of_geometry()\n",
    "        dist_aC_B4 = np.linalg.norm(B4 - aC)\n",
    "        # ¿Es abierta?\n",
    "        if dist_aC_B4 > 14.5:\n",
    "            print(pdb_id, \"Es abierta\")\n",
    "            d = {pdb_id: \"open\"}\n",
    "        else:\n",
    "            hb_helix_ALoop = MDAnalysis.analysis.hbonds.HydrogenBondAnalysis(u, \n",
    "                             'resnum 147-155', 'resnum 147-155', distance=3.0, angle=120.0)\n",
    "            hb_helix_ALoop.run()\n",
    "            hb_helix_ALoop.generate_table()\n",
    "             # Entonces es inicativa A?\n",
    "            if len( hb_helix_ALoop.table ) > 1:\n",
    "                print(pdb_id, \"Es Inactiva A\")\n",
    "                d = {pdb_id: \"inactive_A\"}\n",
    "            else:\n",
    "                print(pdb_id, \"Es Inactiva B\")\n",
    "                d = {pdb_id: \"inactive_B\"}\n",
    "    lista_res.update(d)\n",
    "\n",
    "pd.Series(lista_res)"
   ]
  },
  {
   "cell_type": "code",
   "execution_count": 94,
   "metadata": {},
   "outputs": [
    {
     "name": "stdout",
     "output_type": "stream",
     "text": [
      "[[60.17351814]] [[57.6460866]]\n"
     ]
    },
    {
     "data": {
      "text/plain": [
       "[<AtomGroup with 4 atoms>]"
      ]
     },
     "execution_count": 94,
     "metadata": {},
     "output_type": "execute_result"
    }
   ],
   "source": [
    "u = MDAnalysis.Universe(ref_structure_file)\n",
    "g = MDAnalysis.Universe(ref_dfgOut_file)\n",
    "ags_1 = [res.phi_selection() for res in u.residues[144:145]]\n",
    "ags_2 = [res.phi_selection() for res in g.residues[144:145]]\n",
    "\n",
    "from MDAnalysis.analysis.dihedrals import Dihedral\n",
    "r = Dihedral(ags_1).run()\n",
    "s = Dihedral(ags_2).run()\n",
    "print(r.angles, s.angles)\n",
    "\n",
    "u.residues[144].phi_selection()\n",
    "ags_1"
   ]
  },
  {
   "cell_type": "code",
   "execution_count": 87,
   "metadata": {},
   "outputs": [
    {
     "data": {
      "text/plain": [
       "3"
      ]
     },
     "execution_count": 87,
     "metadata": {},
     "output_type": "execute_result"
    }
   ],
   "source": [
    "# PAra comprobar si es Inactivo A o B\n",
    "import MDAnalysis\n",
    "import MDAnalysis.analysis.hbonds\n",
    "\n",
    "h = MDAnalysis.analysis.hbonds.HydrogenBondAnalysis(u, 'resnum 147-155', 'resnum 147-155', distance=3.0, angle=120.0)\n",
    "h.run()\n",
    "h.generate_table()\n",
    "import pandas as pd\n",
    "len(h.table)"
   ]
  },
  {
   "cell_type": "code",
   "execution_count": 95,
   "metadata": {},
   "outputs": [
    {
     "data": {
      "text/plain": [
       "1"
      ]
     },
     "execution_count": 95,
     "metadata": {},
     "output_type": "execute_result"
    }
   ],
   "source": [
    "# PAra comprobar si es Inactivo A o B\n",
    "import MDAnalysis\n",
    "import MDAnalysis.analysis.hbonds\n",
    "\n",
    "h = MDAnalysis.analysis.hbonds.HydrogenBondAnalysis(u, 'resnum 33', 'resnum 51', distance=3.0, angle=120.0)\n",
    "h.run()\n",
    "h.generate_table()\n",
    "len(h.table)"
   ]
  },
  {
   "cell_type": "markdown",
   "metadata": {},
   "source": []
  },
  {
   "cell_type": "raw",
   "metadata": {},
   "source": []
  },
  {
   "cell_type": "code",
   "execution_count": 116,
   "metadata": {},
   "outputs": [
    {
     "name": "stdout",
     "output_type": "stream",
     "text": [
      "False\n"
     ]
    }
   ],
   "source": [
    "# tine un puente salino y tiene como inhibidor al ATP\n",
    "import MDAnalysis\n",
    "ref_id = \"1aq1\"\n",
    "dfg_out = \"1aq1\"\n",
    "pdbs_ENS_dir = \"../ARCHIVOS/CRISTALES/PROT_CDK2_PREPARADAS/PREP_ALL_ENSAMBLE/\"\n",
    "ref_structure_file = pdbs_ENS_dir + ref_id + \"_ENS.pdb\"\n",
    "ref_dfgOut_file = pdbs_ENS_dir + dfg_out + \"_ENS.pdb\"\n",
    "\n",
    "u = MDAnalysis.Universe(ref_structure_file)\n",
    "g = MDAnalysis.Universe(ref_dfgOut_file)\n",
    "\n",
    "# Para comprobar si es abierto\n",
    "import numpy as np\n",
    "aC = g.select_atoms(\"resnum 46-55\").center_of_geometry()\n",
    "b4 = g.select_atoms(\"resnum 76-81\").center_of_geometry()\n",
    "\n",
    "print(np.linalg.norm(b4 - aC) > 14)\n",
    "#print(aC, b4)"
   ]
  }
 ],
 "metadata": {
  "kernelspec": {
   "display_name": "Python 3",
   "language": "python",
   "name": "python3"
  },
  "language_info": {
   "codemirror_mode": {
    "name": "ipython",
    "version": 3
   },
   "file_extension": ".py",
   "mimetype": "text/x-python",
   "name": "python",
   "nbconvert_exporter": "python",
   "pygments_lexer": "ipython3",
   "version": "3.6.7"
  }
 },
 "nbformat": 4,
 "nbformat_minor": 2
}
