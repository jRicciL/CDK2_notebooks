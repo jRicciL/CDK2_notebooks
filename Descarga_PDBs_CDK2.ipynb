{
 "cells": [
  {
   "cell_type": "markdown",
   "metadata": {},
   "source": [
    "# Descarga de PDBs de la proteína CDK2\n",
    "Esta libreta de Jupiter permite descargar las estructuras cristalográficas disponibles de una proteína dada una secuencia de UniProt, un valor de identidad y un valor de covertura."
   ]
  },
  {
   "cell_type": "code",
   "execution_count": 61,
   "metadata": {},
   "outputs": [
    {
     "name": "stderr",
     "output_type": "stream",
     "text": [
      "/home/joel/anaconda3/envs/mds/lib/python3.6/importlib/_bootstrap.py:219: RuntimeWarning: numpy.ufunc size changed, may indicate binary incompatibility. Expected 192 from C header, got 216 from PyObject\n",
      "  return f(*args, **kwds)\n"
     ]
    }
   ],
   "source": [
    "from prody import *\n",
    "from pylab import *\n",
    "import pickle"
   ]
  },
  {
   "cell_type": "markdown",
   "metadata": {},
   "source": [
    "## Secuencia de la proteína\n",
    "Se obtiene define la secuencia de la proteína: P24941."
   ]
  },
  {
   "cell_type": "code",
   "execution_count": 72,
   "metadata": {},
   "outputs": [],
   "source": [
    "# Secuencia de la CDK2 de UniProt\n",
    "import requests\n",
    "from Bio import SeqIO\n",
    "\n",
    "# Secuencia P24941 (CDK2_HUMAN)\n",
    "uniprot_id = \"P24941\"\n",
    "# Descargamos el fasta de UniProt\n",
    "url_fasta = requests.get(\"https://www.uniprot.org/uniprot/\" + uniprot_id + \".fasta\")\n",
    "file_name_fasta = './B_DATOS/' + uniprot_id + '.fasta'\n",
    "open(file_name_fasta, 'wb').write(u.content)\n",
    "# Leemos la secuenciade aminoácidos\n",
    "handle = SeqIO.read(open(file_name_fasta),'fasta')\n",
    "cdk2_P24941 = str(handle.seq)\n",
    "\n",
    "cdk2_P24941 = \"MENFQKVEKIGEGTYGVVYKARNKLTGEVVALKKIRLDTETEGVPSTAIREISLLKELNHPNIVKLLDVIHTENKLYLVFEFLHQDLKKFMDASALTGIPLPLIKSYLFQLLQGLAFCHSHRVLHRDLKPQNLLINTEGAIKLADFGLARAFGVPVRTYTHEVVTLWYRAPEILLGCKYYSTAVDIWSLGCIFAEMVTRRALFPGDSEIDQLFRIFRTLGTPDEVVWPGVTSMPDYKPSFPKWARQDFSKVVPPLDEDGRSLLSQMLHYDPNKRISAKAALAHPFFQDVTKPVPHLRL\""
   ]
  },
  {
   "cell_type": "markdown",
   "metadata": {},
   "source": [
    "### BLASTp de la secuencia en el PDB\n",
    "Descomentar el código para volver a ejecutar, o en su defecto, recuperar el archivo de blast guardado en el directorio."
   ]
  },
  {
   "cell_type": "code",
   "execution_count": 73,
   "metadata": {},
   "outputs": [
    {
     "name": "stderr",
     "output_type": "stream",
     "text": [
      "@> Blast searching NCBI PDB database for \"MENFQ...\"\n",
      "@> Blast search completed in 21.0s.                 \n"
     ]
    }
   ],
   "source": [
    "## Hacemos un blast\n",
    "blast_record = blastPDB(cdk2_P24941)\n",
    "\n",
    "## Lo guardamos para poder usarlo y no tener que rehacerlo\n",
    "pickle.dump(blast_record, open('B_DATOS/cdk2_blast_record.pkl', 'wb'))\n",
    "\n",
    "# Para abrirlo:\n",
    "blast_record = pickle.load(open('B_DATOS/cdk2_blast_record.pkl', 'rb'))"
   ]
  },
  {
   "cell_type": "markdown",
   "metadata": {},
   "source": [
    "Se obtienen los \"hits\" del BLAST según un valor de identidad especificado. También se obtiene una lista con los identificadores de dichos hits."
   ]
  },
  {
   "cell_type": "code",
   "execution_count": 74,
   "metadata": {},
   "outputs": [
    {
     "data": {
      "text/plain": [
       "408"
      ]
     },
     "execution_count": 74,
     "metadata": {},
     "output_type": "execute_result"
    }
   ],
   "source": [
    "pdbids = blast_record.getHits(percent_identity=95) # Devuelve un diccionario con cada proteína hit\n",
    "len(pdbids) # 391 proteínas tienen un 95% de identidad con la seucuencia\n",
    "pdbids_list = list(pdbids.keys()) # lista de pdb_ids de las estructuras de CDK2\n",
    "len(pdbids_list)"
   ]
  },
  {
   "cell_type": "code",
   "execution_count": null,
   "metadata": {},
   "outputs": [],
   "source": []
  },
  {
   "cell_type": "markdown",
   "metadata": {},
   "source": [
    "### Lista de identificadores de los PDB hits\n",
    "Se guarda un archivo csv con todos los identificadores. Descomentar el código para volver a guardar.  \n",
    "**Se identificaron 391 PDB_ids.**"
   ]
  },
  {
   "cell_type": "code",
   "execution_count": 67,
   "metadata": {},
   "outputs": [
    {
     "data": {
      "text/plain": [
       "408"
      ]
     },
     "execution_count": 67,
     "metadata": {},
     "output_type": "execute_result"
    }
   ],
   "source": [
    "# Guarda la lista de PDB IDs de los hits\n",
    "import csv\n",
    "\n",
    "num_pdb_ids = len(pdbids_list); num_pdb_ids\n",
    "#with open('CDK2_pdb_' + str(num_pdb_ids) + '_IDs_P24941.csv', 'w') as myfile:\n",
    " # wr = csv.writer(myfile, quoting=csv.QUOTE_ALL)\n",
    " # wr.writerow(pdbids_list)"
   ]
  },
  {
   "cell_type": "markdown",
   "metadata": {},
   "source": [
    "## Descarga de los archivos PDB\n",
    "El siguiente ciclo descarga cada uno de los archivos PDB de la lista de identificadores PDB.\n",
    "* Descarga el archivo PDB completo\n",
    "* Descarga únicamente la cadena protéica del PDB con mayor identidad a la secuencia de UniProt dada\n",
    "* Descarga cualquier ligando asociado a la cadena protéica de mayor identidad."
   ]
  },
  {
   "cell_type": "code",
   "execution_count": 6,
   "metadata": {},
   "outputs": [
    {
     "name": "stderr",
     "output_type": "stream",
     "text": [
      "@> PDB file is found in working directory (PDB_CDK2_completos/1fin.pdb.gz).\n",
      "@> 9476 atoms and 1 coordinate set(s) were parsed in 0.12s.\n",
      "@> PDB file is found in working directory (PDB_CDK2_completos/5ang.pdb.gz).\n",
      "@> 2256 atoms and 1 coordinate set(s) were parsed in 0.03s.\n",
      "@> Checking AtomGroup 5ang: 3 chains are identified\n",
      "@> Checking AtomGroup 1fin: 1 chains are identified\n",
      "@> Trying to match chains based on residue numbers and names:\n",
      "@>   Comparing Chain A from 5ang (len=127) and Chain A from 1fin (len=298):\n",
      "@> \tFailed to match chains (seqid=100%, overlap=43%).\n",
      "@>   Comparing Chain A from 5ang (len=5) and Chain A from 1fin (len=298):\n",
      "@> \tFailed to match chains (seqid=100%, overlap=2%).\n",
      "@>   Comparing Chain A from 5ang (len=136) and Chain A from 1fin (len=298):\n",
      "@> \tMatch: 136 residues match with 100% sequence identity and 46% overlap.\n",
      "@> Alignment is based on 136 atoms matching 'calpha'.\n",
      "@> Before alignment RMSD: 268.76\n",
      "@> After alignment  RMSD: 1.39\n"
     ]
    }
   ],
   "source": [
    "# Directorios\n",
    "dir_pdbs_completos = './PDB_CDK2_completos/'\n",
    "dir_pdbs_cadena = './PDB_CDK2_chains/'\n",
    "dir_pdb_ligandos = './PDB_CDK2_ligands_chainA/'\n",
    "\n",
    "best_id = blast_record.getBest()['pdb_id']\n",
    "chain_best_id = pdbids[best_id]['chain_id']\n",
    "ref_struct = parsePDB(best_id, folder = dir_pdbs_completos).select('protein and chain ' + chain_best_id)\n",
    "\n",
    "# Esta lista es creada a aprtir de los hits del blast\n",
    "### pdbids_list = [\"1pye\", \"1jvp\", \"5ang\"] # tienen un overlap menor al 90%\n",
    "### pdbids_list = [\"5ang\"]\n",
    "\n",
    "for pdb_id in pdbids_list:\n",
    "    try:\n",
    "        # PROTEÍNA cadena única\n",
    "        chain_id = pdbids[pdb_id]['chain_id'] # Obtiene el id de la cadena correspondiente a la mejor estructura empatada según el BLAST\n",
    "        pdb_cry = parsePDB(pdb_id, folder = dir_pdbs_completos) # Obtiene del pdb la estructura y la guarda en el folder\n",
    "        pdb_chain = pdb_cry.select('protein and chain ' + chain_id) # selecciona de la proteína a la cadena que el BLAST indicó\n",
    "        pdb_alg = matchAlign(pdb_chain, ref_struct, overlap=85) #Retorna un tuple con la estructura alineada en el primer índice\n",
    "        ################ OJO: debo considerar si es buena o mala idea dejar estructuras con menos del 90 o 95% de OVERLAP #####\n",
    "        protein = pdb_alg[0]\n",
    "    except Exception as e:\n",
    "        print(e, \"Error al alinear:\", pdb_id)\n",
    "        continue\n",
    "    else:\n",
    "        repr(protein)\n",
    "        if protein: # si hubo una cadena, la guarda\n",
    "            protein.setChids(\"A\") # fuerza que la cadena sea A para homogenizar si es necesario\n",
    "            writePDB(dir_pdbs_cadena + pdb_id + '_A.pdb', protein)\n",
    "        # LIGANDOS (Si los hay)\n",
    "        ligand = pdb_cry.select('not protein and not water and chain ' + chain_id)\n",
    "        repr(ligand)\n",
    "        if ligand: # si hubo una cadena, la guarda\n",
    "            #ligand.setChids(\"A\")\n",
    "            writePDB(dir_pdb_ligandos + pdb_id + '_lig.pdb', ligand)\n",
    "            \n",
    "# Se obtuvieron 390 estructuras dejando fuera a 5ANG que tuvo un overlap menor al 50%"
   ]
  },
  {
   "cell_type": "code",
   "execution_count": 6,
   "metadata": {},
   "outputs": [],
   "source": [
    "# blast_record.writeSequences(\"a.d\", blast_record.getHits())"
   ]
  }
 ],
 "metadata": {
  "kernelspec": {
   "display_name": "Python 3",
   "language": "python",
   "name": "python3"
  },
  "language_info": {
   "codemirror_mode": {
    "name": "ipython",
    "version": 3
   },
   "file_extension": ".py",
   "mimetype": "text/x-python",
   "name": "python",
   "nbconvert_exporter": "python",
   "pygments_lexer": "ipython3",
   "version": "3.6.7"
  }
 },
 "nbformat": 4,
 "nbformat_minor": 2
}
