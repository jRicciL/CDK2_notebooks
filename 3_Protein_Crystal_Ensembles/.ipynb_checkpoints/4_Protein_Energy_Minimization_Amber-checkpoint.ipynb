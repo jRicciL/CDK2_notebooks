{
 "cells": [
  {
   "cell_type": "markdown",
   "metadata": {},
   "source": [
    "# Minimización de la energía potencial\n",
    "## Notebook con la información para realizar la minimización de un ensamble de conformaciones"
   ]
  },
  {
   "cell_type": "code",
   "execution_count": 62,
   "metadata": {},
   "outputs": [],
   "source": [
    "import glob, sys, os, shutil\n",
    "import pandas as pd"
   ]
  },
  {
   "cell_type": "code",
   "execution_count": 1,
   "metadata": {},
   "outputs": [],
   "source": [
    "prot_name = 'cdk2'"
   ]
  },
  {
   "cell_type": "code",
   "execution_count": 47,
   "metadata": {},
   "outputs": [],
   "source": [
    "os.chdir('.')\n",
    "EXEC_DIR = os.getcwd()"
   ]
  },
  {
   "cell_type": "code",
   "execution_count": 75,
   "metadata": {},
   "outputs": [],
   "source": [
    "PROT_CRYS_DIR = '../../ARCHIVOS/CRISTALES/PROT_CDK2_PREPARADAS'\n",
    "MIN_DIR = F'{PROT_CRYS_DIR}/MINIMIZADAS'\n",
    "PREP_DIR = F'{PROT_CRYS_DIR}/PREP_PH_7'"
   ]
  },
  {
   "cell_type": "markdown",
   "metadata": {},
   "source": [
    "## El archvio utilizado para realizar la minimización"
   ]
  },
  {
   "cell_type": "markdown",
   "metadata": {},
   "source": [
    "```python\n",
    "#!/bin/bash \n",
    "#BSUB -P project\n",
    "#BSUB -J cdk2_min\n",
    "#BSUB -a openmpi\n",
    "#BSUB -q q_gpu     \n",
    "#BSUB -n 1\n",
    "#BSUB -eo err.err\n",
    "#BSUB -oo err.out\n",
    "\n",
    "module purge\n",
    "module load intel/2017_update4\n",
    "module load amber/16\n",
    "module load cuda/7.5\n",
    "\n",
    "export AMBER_PREFIX=\"/opt/SC/amber-16\"\n",
    "export AMBERHOME=/opt/SC/amber-16\n",
    "\n",
    "\n",
    "# El directorio de trabajo\n",
    "WDIR=`pwd`\n",
    "\n",
    "# Ion a utilizar para la solvatacion\n",
    "ION='Cl-'\n",
    "\n",
    "minimizacion() {\n",
    "        $AMBERHOME/bin/pmemd.cuda -O -i ./1_min/min_solv.in -o ./1_min/\"$1\"_min_solv.out -p ./\"$1\".prmtop -c ./\"$1\".rst7 -ref ./\"$1\".rst7 -r ./1_min/\"$1\"_min_solv.rst7 -inf \"$1\"_min_solv.mdinfo\n",
    "        wait\n",
    "        # Análisis 1 min_solv\n",
    "        process_mdout.perl ./1_min/\"$1\"_min_solv.out\n",
    "        mkdir ./1_min/\"$1\"_min_solv\n",
    "        mv summary* ./1_min/\"$1\"_min_solv\n",
    "        wait\n",
    "        # Minimización total\n",
    "        $AMBERHOME/bin/pmemd.cuda -O -i ./1_min/min_all.in -o ./1_min/\"$1\"_min_all.out -p ./\"$1\".prmtop -c ./1_min/\"$1\"_min_solv.rst7 -r ./1_min/\"$1\"_min_all.rst7 -inf \"$1\"_min_all.mdinfo\n",
    "        wait\n",
    "        # Análisis 2 min_solv\n",
    "        process_mdout.perl ./1_min/\"$1\"_min_all.out\n",
    "        mkdir ./1_min/\"$1\"_min_all\n",
    "        mv summary* ./1_min/\"$1\"_min_all\n",
    "        wait\n",
    "        # Para covertir el rst a pdb\n",
    "        cpptraj -p ./\"$1\".prmtop -c ./1_min/\"$1\"_min_all.rst7 -y ./1_min/\"$1\"_min_all.rst7 -x ./1_min/\"$1\"_min.pdb -i ./protein_cpptraj.in\n",
    "}\n",
    "\n",
    "\n",
    "# para cada archivo PROT en la carpeta PREP_PH_7\n",
    "for i in $WDIR/PREP_PH_7/*;\n",
    "do\n",
    "# Obtenemos el nombre del ligando\n",
    "i=${i##*/}\n",
    "i=${i%_*}\n",
    "echo $i\n",
    "# Se crean los directorios necesarios\n",
    "mkdir $WDIR/EXECT/$i/\n",
    "mkdir $WDIR/EXECT/$i/1_min\n",
    "\n",
    "# Copiamos los archivos input a utilizar para procesar la porteina\n",
    "cp $WDIR/min*in $WDIR/EXECT/$i/1_min\n",
    "cp $WDIR/protein_cpptraj.in $WDIR/EXECT/$i\n",
    "\n",
    "# Copiamos el archivo de la proteína\n",
    "cp $WDIR/PREP_PH_7/$i*pdb $WDIR/EXECT/$i\n",
    "\n",
    "# Entramos al directorio de la proteina\n",
    "cd $WDIR/EXECT/$i/\n",
    "# Se crea el archivo tleap y cpptraj\n",
    "cat > ./leap_prep.in << EOF\n",
    "source leaprc.gaff\n",
    "source leaprc.protein.ff14SB\n",
    "loadoff atomic_ions.lib\n",
    "source leaprc.water.tip3p\n",
    "\n",
    "#Reading protein file\n",
    "protein = loadpdb ./${i}_PROT.pdb\n",
    "# Solvatation\n",
    "solvateOct protein TIP3PBOX 12\n",
    "# Neutralization\n",
    "addions protein $ION 0\n",
    "saveamberparm protein ${i}_PROT.prmtop ${i}_PROT.rst7\n",
    "quit\n",
    "EOF\n",
    "\n",
    "# Se ejecuta tleap para generar el sistema\n",
    "tleap -f ./leap_prep.in\n",
    "\n",
    "# Se lleva a cabo la minimizacion\n",
    "minimizacion \"$i\"_PROT\n",
    "wait\n",
    "\n",
    "# Al finalizar copia el pdb minimizado a MIN\n",
    "cp ./1_min/*_min.pdb $WDIR/MIN/\n",
    "\n",
    "# Volvemos al directorio de trabajo original\n",
    "cd $WDIR\n",
    "done\n",
    "\n",
    "\n",
    "```"
   ]
  }
 ],
 "metadata": {
  "kernelspec": {
   "display_name": "Python 3",
   "language": "python",
   "name": "python3"
  },
  "language_info": {
   "codemirror_mode": {
    "name": "ipython",
    "version": 3
   },
   "file_extension": ".py",
   "mimetype": "text/x-python",
   "name": "python",
   "nbconvert_exporter": "python",
   "pygments_lexer": "ipython3",
   "version": "3.7.4"
  }
 },
 "nbformat": 4,
 "nbformat_minor": 2
}
