{
 "cells": [
  {
   "cell_type": "markdown",
   "metadata": {
    "hideCode": false,
    "hidePrompt": false,
    "slideshow": {
     "slide_type": "slide"
    }
   },
   "source": [
    "## Congreso Estudiantil 2020\n",
    "\n",
    "\n",
    "### Título\n",
    "\n",
    "# Desarrollo de un método de Cribado Virtual Molecular utilizando descriptores basados en Acoplamiento Molecular en Conglomerado\n",
    "\n",
    "### Presenta\n",
    "\n",
    "Joel Ricci López"
   ]
  },
  {
   "cell_type": "markdown",
   "metadata": {
    "hideCode": false,
    "hidePrompt": false,
    "slideshow": {
     "slide_type": "slide"
    }
   },
   "source": [
    "> ## Comité de Tesis:\n",
    "- **Dr. Sergio Andrés Águila Puentes**\n",
    "- **Dr. Carlos Alberto Brizuela Rodríguez**\n",
    "- Dra. María Guadalupe Moreno Armenta\n",
    "- Dr. Abraham Marcelino Vidal Limón\n",
    "- Dr. Marcelino Arciniega Castro\n",
    "\n",
    "> ## Fecha de inicio:\n",
    "- Agosto 2018"
   ]
  },
  {
   "cell_type": "markdown",
   "metadata": {
    "hideCode": false,
    "hidePrompt": false,
    "slideshow": {
     "slide_type": "slide"
    }
   },
   "source": [
    "## Hipótesis\n",
    "\n",
    "El uso de descriptores moleculares calculados a patir del modo de unión de un complejo proteína-ligando, obtenido mediante simulaciones de acoplamiento en conglomerado, permitirá generar un modelo de predicción de la afinidad entre una proteína y una molécula dadas."
   ]
  },
  {
   "cell_type": "code",
   "execution_count": 5,
   "metadata": {
    "hideCode": false,
    "hidePrompt": false,
    "slideshow": {
     "slide_type": "slide"
    }
   },
   "outputs": [],
   "source": [
    "from IPython.display import IFrame"
   ]
  },
  {
   "cell_type": "code",
   "execution_count": null,
   "metadata": {
    "hideCode": false,
    "hidePrompt": false,
    "slideshow": {
     "slide_type": "slide"
    }
   },
   "outputs": [],
   "source": []
  },
  {
   "cell_type": "code",
   "execution_count": 4,
   "metadata": {
    "hideCode": false,
    "hidePrompt": false,
    "slideshow": {
     "slide_type": "slide"
    }
   },
   "outputs": [
    {
     "data": {
      "text/html": [
       "\n",
       "        <iframe\n",
       "            width=\"1000\"\n",
       "            height=\"1000\"\n",
       "            src=\"../8_Presentations/traj_projections.html\"\n",
       "            frameborder=\"0\"\n",
       "            allowfullscreen\n",
       "        ></iframe>\n",
       "        "
      ],
      "text/plain": [
       "<IPython.lib.display.IFrame at 0x7f165441dc18>"
      ]
     },
     "execution_count": 4,
     "metadata": {},
     "output_type": "execute_result"
    }
   ],
   "source": [
    "IFrame(src='../8_Presentations/traj_projections.html', width=1000, height=1000)"
   ]
  },
  {
   "cell_type": "code",
   "execution_count": null,
   "metadata": {
    "hideCode": false,
    "hidePrompt": false
   },
   "outputs": [],
   "source": []
  }
 ],
 "metadata": {
  "celltoolbar": "Hide code",
  "hide_code_all_hidden": false,
  "kernelspec": {
   "display_name": "Python 3",
   "language": "python",
   "name": "python3"
  },
  "language_info": {
   "codemirror_mode": {
    "name": "ipython",
    "version": 3
   },
   "file_extension": ".py",
   "mimetype": "text/x-python",
   "name": "python",
   "nbconvert_exporter": "python",
   "pygments_lexer": "ipython3",
   "version": "3.6.9"
  },
  "rise": {
   "height": "90%",
   "width": "80%"
  }
 },
 "nbformat": 4,
 "nbformat_minor": 2
}
