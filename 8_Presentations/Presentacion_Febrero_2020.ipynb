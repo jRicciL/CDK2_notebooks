{
 "cells": [
  {
   "cell_type": "markdown",
   "metadata": {
    "hideCode": false,
    "hidePrompt": false,
    "slideshow": {
     "slide_type": "slide"
    }
   },
   "source": [
    "## Congreso Estudiantil 2020\n",
    "\n",
    "\n",
    "### Título\n",
    "\n",
    "# Desarrollo de un método de Cribado Virtual Molecular utilizando descriptores basados en Acoplamiento Molecular en Conglomerado\n",
    "\n",
    "### Presenta\n",
    "\n",
    "Joel Ricci López"
   ]
  },
  {
   "cell_type": "code",
   "execution_count": null,
   "metadata": {
    "hideCode": false,
    "hidePrompt": false
   },
   "outputs": [],
   "source": [
    "# conda install -c conda-forge jupyter_contrib_nbextensions\n",
    "# jupyter nbextension enable splitcell/splitcell\n",
    "\n",
    "# conda install -c conda-forge hide_code"
   ]
  },
  {
   "cell_type": "markdown",
   "metadata": {
    "hideCode": false,
    "hidePrompt": false,
    "slideshow": {
     "slide_type": "slide"
    }
   },
   "source": [
    "> ## Comité de Tesis:\n",
    "- **Dr. Sergio Andrés Águila Puentes**\n",
    "- **Dr. Carlos Alberto Brizuela Rodríguez**\n",
    "- Dra. María Guadalupe Moreno Armenta\n",
    "- Dr. Abraham Marcelino Vidal Limón\n",
    "- Dr. Marcelino Arciniega Castro\n",
    "\n",
    "> ## Fecha de inicio:\n",
    "- Agosto 2018"
   ]
  },
  {
   "cell_type": "markdown",
   "metadata": {
    "hideCode": false,
    "hidePrompt": false,
    "slideshow": {
     "slide_type": "slide"
    }
   },
   "source": [
    "## Hipótesis\n",
    "\n",
    "El uso de descriptores moleculares calculados a patir del modo de unión de un complejo proteína-ligando, obtenido mediante simulaciones de acoplamiento en conglomerado, permitirá generar un modelo de predicción de la afinidad entre una proteína y una molécula dadas."
   ]
  },
  {
   "cell_type": "markdown",
   "metadata": {
    "cell_style": "center",
    "hideCode": false,
    "hidePrompt": false,
    "slideshow": {
     "slide_type": "slide"
    }
   },
   "source": [
    "## Objetivo\n",
    "\n",
    "Desarrollar un método de cribado virtual basado en la predicción de la afinidad entre una proteína y una molécula ligando utilizando descriptores calculados a patir de su modo de unión, obtenido mediante simulaciones de acoplamiento en conglomerado.\n"
   ]
  },
  {
   "cell_type": "markdown",
   "metadata": {
    "cell_style": "center",
    "hideCode": false,
    "hidePrompt": false,
    "slideshow": {
     "slide_type": "slide"
    }
   },
   "source": [
    "### Obtetivos Específicos:\n",
    "\n",
    "1. Evaluar las características estructurales de los sitios de unión a ligando de las proteínas blanco en las estructuras cristalográficas y de dinámica molecular.\n",
    "2. Comparar los diferentes métodos de selección conformacional.\n",
    "3. dentificar un conjunto de descriptores de los ligandos que permita describir y diferenciar a los inhibidores activos de los inactivos.\n",
    "4. Implementar un modelo de Aprendizaje automático que permita clasificar y ordenar un determinado conjunto de ligandos de acuerdo con el valor de afinidad.\n",
    "5. Comparar la sensibilidad del modelo con otros métodos de predicción de la afinidad proteína-ligando\n"
   ]
  },
  {
   "cell_type": "markdown",
   "metadata": {
    "slideshow": {
     "slide_type": "slide"
    }
   },
   "source": [
    "# Avances Globales del Año"
   ]
  },
  {
   "cell_type": "code",
   "execution_count": null,
   "metadata": {},
   "outputs": [],
   "source": []
  },
  {
   "cell_type": "markdown",
   "metadata": {
    "cell_style": "center",
    "slideshow": {
     "slide_type": "slide"
    }
   },
   "source": [
    "## Proteína CDK2: Caso de Estudio\n",
    "\n",
    "- Ampliamente estudiada\n",
    "- 402 estructuras cristalográficas\n",
    "    - ¡Por ahora nos podemos saltar las DMs!\n",
    "\n",
    "- Hasta cinco estados conformacionales (holo y apo)\n",
    "    - 1 activo y 4 inactivos\n",
    "\n",
    "- Librería de  111 ligandos estudiados experimentalmente por el mismo grupo de trabajo (benchmark CSAR 2012).\n",
    "    - 27 de ellos activos (realmente se unen a la proteína)\n",
    "    - 4 inactivos (No se unen)\n",
    "\n",
    "- Tres librerías con *decoys*:\n",
    "    - DUD 2006\n",
    "    - DUD-E\n",
    "    - DEKOIS 2.0"
   ]
  },
  {
   "cell_type": "markdown",
   "metadata": {
    "slideshow": {
     "slide_type": "slide"
    }
   },
   "source": [
    "## Análisis de Estructuras Cristalográficas\n",
    "\n",
    "*Classical Multidimensional Scaling*\n",
    "\n",
    "Imagen\n",
    "\n",
    "Se etiquetó cada una de las estructuras de la proteína.\n",
    "\n",
    "*Pisani, et al., 2016. PLoS ONE. 11 (4)*"
   ]
  },
  {
   "cell_type": "code",
   "execution_count": null,
   "metadata": {
    "slideshow": {
     "slide_type": "slide"
    }
   },
   "outputs": [],
   "source": []
  },
  {
   "cell_type": "markdown",
   "metadata": {
    "slideshow": {
     "slide_type": "slide"
    }
   },
   "source": [
    "## Acoplamiento Molecular en Conglomerado\n",
    "\n",
    "Acoplamiento Molecular en Conglomerado, proteína CDK2 con las librerías CSAR 2012 y DUD 2006.\n",
    "- Proteína: <span>CDK2</span>\n",
    "- Librerías de moléculas:\n",
    "    - CSAR: 111 moléculas (26 activas)\n",
    "    - DUD: 2146 moléculas (72 activas)\n",
    "- Sotware:\n",
    "    - AD4: Autodock 4.2\n",
    "    - VINA: Autodock Vina\n",
    "    - VINARDO: Smina-Vinardo"
   ]
  },
  {
   "cell_type": "code",
   "execution_count": null,
   "metadata": {},
   "outputs": [],
   "source": []
  },
  {
   "cell_type": "code",
   "execution_count": 6,
   "metadata": {
    "hideCode": false,
    "hidePrompt": false,
    "slideshow": {
     "slide_type": "slide"
    }
   },
   "outputs": [
    {
     "data": {
      "text/html": [
       "\n",
       "        <iframe\n",
       "            width=\"1000\"\n",
       "            height=\"1000\"\n",
       "            src=\"../8_Presentations/traj_projections.html\"\n",
       "            frameborder=\"0\"\n",
       "            allowfullscreen\n",
       "        ></iframe>\n",
       "        "
      ],
      "text/plain": [
       "<IPython.lib.display.IFrame at 0x7f165441dcc0>"
      ]
     },
     "execution_count": 6,
     "metadata": {},
     "output_type": "execute_result"
    }
   ],
   "source": [
    "IFrame(src='../8_Presentations/traj_projections.html', width=1000, height=1000)"
   ]
  },
  {
   "cell_type": "code",
   "execution_count": null,
   "metadata": {
    "hideCode": false,
    "hidePrompt": false
   },
   "outputs": [],
   "source": []
  }
 ],
 "metadata": {
  "celltoolbar": "Slideshow",
  "hide_code_all_hidden": false,
  "kernelspec": {
   "display_name": "Python 3",
   "language": "python",
   "name": "python3"
  },
  "language_info": {
   "codemirror_mode": {
    "name": "ipython",
    "version": 3
   },
   "file_extension": ".py",
   "mimetype": "text/x-python",
   "name": "python",
   "nbconvert_exporter": "python",
   "pygments_lexer": "ipython3",
   "version": "3.6.9"
  },
  "rise": {
   "height": "90%",
   "width": "80%"
  }
 },
 "nbformat": 4,
 "nbformat_minor": 2
}
