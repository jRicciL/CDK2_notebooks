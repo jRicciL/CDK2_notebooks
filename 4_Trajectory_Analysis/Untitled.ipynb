{
 "cells": [
  {
   "cell_type": "markdown",
   "metadata": {},
   "source": [
    "Pasos:\n",
    "\n",
    "Extraer con cpptraj las trayectorias con únicamente los CA y proteina\n",
    "\n",
    "% Ya en eel nootebook de pcas\n",
    "\n",
    "PAra cada ensayo:\n",
    "\n",
    "- Carga la conformación inicial\n",
    "- Carga las trayectorias (5 de 20 ns)\n",
    "- para PCA\n",
    "    - Alinear con respecto a la inicial (la estructura cristalográfica inicial)\n",
    "         - la idea es que la incial es un aestructura cristalográfica y está proyección original\n",
    "    - Alinear todas las conformaciones de la producción, de tal manera que el clustering y el PCA permita extraer las conformaciones centroides de únicamente este espacio\n",
    "- para MDS.\n",
    "    - Las estruturas se alinean con rs\n",
    " "
   ]
  }
 ],
 "metadata": {
  "kernelspec": {
   "display_name": "Python 3",
   "language": "python",
   "name": "python3"
  },
  "language_info": {
   "codemirror_mode": {
    "name": "ipython",
    "version": 3
   },
   "file_extension": ".py",
   "mimetype": "text/x-python",
   "name": "python",
   "nbconvert_exporter": "python",
   "pygments_lexer": "ipython3",
   "version": "3.7.4"
  }
 },
 "nbformat": 4,
 "nbformat_minor": 2
}
