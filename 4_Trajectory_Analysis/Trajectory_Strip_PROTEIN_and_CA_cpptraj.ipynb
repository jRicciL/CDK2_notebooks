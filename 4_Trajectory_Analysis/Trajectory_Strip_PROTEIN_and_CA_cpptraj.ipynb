{
 "cells": [
  {
   "cell_type": "markdown",
   "metadata": {},
   "source": [
    "Pasos:\n",
    "\n",
    "Extraer con cpptraj las trayectorias con únicamente los CA y proteina\n",
    "\n",
    "% Ya en eel nootebook de pcas\n",
    "\n",
    "PAra cada ensayo:\n",
    "\n",
    "- Carga la conformación inicial\n",
    "- Carga las trayectorias (5 de 20 ns)\n",
    "- para PCA\n",
    "    - Alinear con respecto a la inicial (la estructura cristalográfica inicial)\n",
    "         - la idea es que la incial es un aestructura cristalográfica y está proyección original\n",
    "    - Alinear todas las conformaciones de la producción, de tal manera que el clustering y el PCA permita extraer las conformaciones centroides de únicamente este espacio\n",
    "    - Usar los residuos definidos por Pisani\n",
    "    - Usar los residuos de la estructura secundaria\n",
    "    - Usar los residuos del pocket\n",
    "- Proyección con MDS\n",
    "    - Las estruturas se alinean con respecto al frame 1 de las cristalográficas\n",
    "    - Revisar el notebook proyeccion, dejamos pendiente por ahora esta parte\n",
    " "
   ]
  },
  {
   "cell_type": "code",
   "execution_count": 24,
   "metadata": {},
   "outputs": [],
   "source": []
  },
  {
   "cell_type": "code",
   "execution_count": 14,
   "metadata": {},
   "outputs": [],
   "source": [
    "import subprocess\n",
    "import os\n",
    "\n",
    "def strip_traj_cpptraj(system_prod_dir,\n",
    "                 file_system_name, \n",
    "                 ):\n",
    "    prevdir = os.getcwd()\n",
    "    # Determina el directorio del archivo de producción\n",
    "    # Se asume que la carpeta se llama 3_prod o 4_prod\n",
    "    DIR_REP_PRODUCTION = F'{DIR_DM}/{system_name}/{md_type}/rep_{n_rep}/{DIR_prod_name}'\n",
    "    # Crea el archivo para su ejecuación con cpptraj\n",
    "    with open(F'{DIR_REP_PRODUCTION}/run_strip.cpptraj', 'w') as f:\n",
    "        f.write(F'''# Strip CA atoms from traj\n",
    "parm ../{file_system_name}.prmtop\n",
    "trajin {file_system_name}_prod.nc\n",
    "reference ../{file_system_name}.rst7\n",
    "strip :WAT:Cl-:Na+:ETA outprefix PROT\n",
    "trajout ./PROT.{file_system_name}_prod.nc\n",
    "go\n",
    "strip !(@CA) outprefix CA\n",
    "trajout ./CA.{file_system_name}_prod.nc\n",
    "go\n",
    "    ''')\n",
    "    os.chdir(DIR_REP_PRODUCTION)\n",
    "    try:\n",
    "        os.system('cpptraj -i run_strip.cpptraj')\n",
    "    except ValueError as e:\n",
    "        print('Hubo un error en la ejecución', e)\n",
    "    finally:\n",
    "        os.chdir(prevdir)"
   ]
  },
  {
   "cell_type": "code",
   "execution_count": 11,
   "metadata": {},
   "outputs": [],
   "source": [
    "import subprocess\n",
    "import os\n",
    "\n",
    "def strip_traj_cpptraj(system_prod_dir, file_system_name):\n",
    "    wd_dir = os.getcwd()\n",
    "    # Crea el archivo de entrada para ejecutar cpptraj\n",
    "    with open(F'{system_prod_dir}/run_strip.cpptraj', 'w') as f:\n",
    "        f.write(F'''# Strip CA atoms from traj\n",
    "parm ../{file_system_name}.prmtop\n",
    "trajin {file_system_name}_prod.nc\n",
    "reference ../{file_system_name}.rst7\n",
    "strip :WAT:Cl-:Na+:ETA outprefix PROT\n",
    "trajout ./PROT.{file_system_name}_prod.nc\n",
    "go\n",
    "strip !(@CA) outprefix CA\n",
    "trajout ./CA.{file_system_name}_prod.nc\n",
    "go\n",
    "    ''') # NOTA: de ser necesario, actualizar moléculas del solvente\n",
    "    # Se dirije al directorio de producción para ejecutar el archivo\n",
    "    os.chdir(system_prod_dir)\n",
    "    try:\n",
    "        os.system('cpptraj -i run_strip.cpptraj')\n",
    "    except ValueError as e:\n",
    "        print('Hubo un error en la ejecución', e)\n",
    "    finally:\n",
    "        os.chdir(wd_dir)"
   ]
  },
  {
   "cell_type": "code",
   "execution_count": null,
   "metadata": {},
   "outputs": [],
   "source": [
    "# Directorio general de las dinámicas"
   ]
  },
  {
   "cell_type": "code",
   "execution_count": 4,
   "metadata": {},
   "outputs": [],
   "source": [
    "import glob"
   ]
  },
  {
   "cell_type": "code",
   "execution_count": 5,
   "metadata": {},
   "outputs": [],
   "source": [
    "DM_DIR = os.path.join('..', '..', 'ARCHIVOS', 'DINAMICA')"
   ]
  },
  {
   "cell_type": "code",
   "execution_count": 14,
   "metadata": {},
   "outputs": [
    {
     "name": "stdout",
     "output_type": "stream",
     "text": [
      "Procesando rep_1\n",
      "Procesando rep_2\n",
      "Procesando rep_3\n",
      "Procesando rep_4\n",
      "Procesando rep_5\n"
     ]
    }
   ],
   "source": [
    "# Sistema 4fkw\n",
    "## Solventes mixtos\n",
    "system = '4fku'\n",
    "md_type = 'mxs_sa'\n",
    "prod_dir = '4_prod'\n",
    "system_name = 'mxs_cdk2'\n",
    "# Tenemos cinco réplicas\n",
    "for rep in range(1, 6):\n",
    "    system_prod_dir = os.path.join(DM_DIR, system, md_type, F'rep_{rep}', prod_dir)\n",
    "    print(F'Procesando rep_{rep}')\n",
    "    strip_traj_cpptraj( system_prod_dir, system_name)"
   ]
  },
  {
   "cell_type": "code",
   "execution_count": null,
   "metadata": {},
   "outputs": [],
   "source": []
  },
  {
   "cell_type": "code",
   "execution_count": 15,
   "metadata": {},
   "outputs": [],
   "source": []
  },
  {
   "cell_type": "code",
   "execution_count": 10,
   "metadata": {},
   "outputs": [
    {
     "name": "stdout",
     "output_type": "stream",
     "text": [
      "Untitled.ipynb\r\n"
     ]
    }
   ],
   "source": []
  },
  {
   "cell_type": "code",
   "execution_count": 24,
   "metadata": {},
   "outputs": [],
   "source": []
  },
  {
   "cell_type": "code",
   "execution_count": 38,
   "metadata": {},
   "outputs": [],
   "source": []
  },
  {
   "cell_type": "markdown",
   "metadata": {},
   "source": [
    "# Pasos\n",
    "Crra un archivo script"
   ]
  },
  {
   "cell_type": "code",
   "execution_count": null,
   "metadata": {},
   "outputs": [],
   "source": []
  },
  {
   "cell_type": "code",
   "execution_count": 4,
   "metadata": {},
   "outputs": [
    {
     "name": "stdout",
     "output_type": "stream",
     "text": [
      "Untitled.ipynb\r\n"
     ]
    }
   ],
   "source": []
  },
  {
   "cell_type": "code",
   "execution_count": null,
   "metadata": {},
   "outputs": [],
   "source": []
  }
 ],
 "metadata": {
  "kernelspec": {
   "display_name": "Python 3",
   "language": "python",
   "name": "python3"
  },
  "language_info": {
   "codemirror_mode": {
    "name": "ipython",
    "version": 3
   },
   "file_extension": ".py",
   "mimetype": "text/x-python",
   "name": "python",
   "nbconvert_exporter": "python",
   "pygments_lexer": "ipython3",
   "version": "3.7.4"
  }
 },
 "nbformat": 4,
 "nbformat_minor": 2
}
