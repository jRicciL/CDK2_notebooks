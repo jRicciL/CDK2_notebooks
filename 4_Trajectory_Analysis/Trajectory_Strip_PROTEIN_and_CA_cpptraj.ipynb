{
 "cells": [
  {
   "cell_type": "markdown",
   "metadata": {},
   "source": [
    "Pasos:\n",
    "\n",
    "Extraer con cpptraj las trayectorias con únicamente los CA y proteina\n",
    "\n",
    "% Ya en eel nootebook de pcas\n",
    "\n",
    "PAra cada ensayo:\n",
    "\n",
    "- Carga la conformación inicial\n",
    "- Carga las trayectorias (5 de 20 ns)\n",
    "- para PCA\n",
    "    - Alinear con respecto a la inicial (la estructura cristalográfica inicial)\n",
    "         - la idea es que la incial es un aestructura cristalográfica y está proyección original\n",
    "    - Alinear todas las conformaciones de la producción, de tal manera que el clustering y el PCA permita extraer las conformaciones centroides de únicamente este espacio\n",
    "    - Usar los residuos definidos por Pisani\n",
    "    - Usar los residuos de la estructura secundaria\n",
    "    - Usar los residuos del pocket\n",
    "- Proyección con MDS\n",
    "    - Las estruturas se alinean con respecto al frame 1 de las cristalográficas\n",
    "    - Revisar el notebook proyeccion, dejamos pendiente por ahora esta parte\n",
    " "
   ]
  },
  {
   "cell_type": "code",
   "execution_count": 48,
   "metadata": {},
   "outputs": [],
   "source": [
    "import subprocess\n",
    "import glob\n",
    "import os\n",
    "from pathlib import Path"
   ]
  },
  {
   "cell_type": "code",
   "execution_count": null,
   "metadata": {},
   "outputs": [],
   "source": [
    "DM_DIR = os.path.join('..', '..', 'ARCHIVOS', 'DINAMICA')"
   ]
  },
  {
   "cell_type": "code",
   "execution_count": 58,
   "metadata": {},
   "outputs": [],
   "source": [
    "# Cambio de nombre de todos prmtop\n",
    "for file_path in Path(DM_DIR).glob('**/*.parm7'):\n",
    "    file_path.rename(file_path.with_suffix('.prmtop'))\n"
   ]
  },
  {
   "cell_type": "code",
   "execution_count": 23,
   "metadata": {},
   "outputs": [],
   "source": [
    "\n",
    "\n",
    "def strip_traj_cpptraj(system_prod_dir, file_system_name, run = True):\n",
    "    if not run:\n",
    "        return(None)\n",
    "        \n",
    "    wd_dir = os.getcwd()\n",
    "    # Crea el archivo de entrada para ejecutar cpptraj\n",
    "    with open(F'{system_prod_dir}/run_strip.cpptraj', 'w') as f:\n",
    "        f.write(F'''# Strip CA atoms from traj\n",
    "parm ../{file_system_name}.prmtop\n",
    "trajin {file_system_name}_prod.nc\n",
    "reference ../{file_system_name}.rst7\n",
    "strip :WAT:Cl-:Na+:ETA outprefix PROT\n",
    "trajout ./PROT.{file_system_name}_prod.nc\n",
    "go\n",
    "strip !(@CA) outprefix CA\n",
    "trajout ./CA.{file_system_name}_prod.nc\n",
    "go\n",
    "    ''') # NOTA: de ser necesario, actualizar moléculas del solvente\n",
    "    # Se dirije al directorio de producción para ejecutar el archivo\n",
    "    os.chdir(system_prod_dir)\n",
    "    try:\n",
    "        os.system('cpptraj -i run_strip.cpptraj')\n",
    "    except ValueError as e:\n",
    "        print('Hubo un error en la ejecución', e)\n",
    "    finally:\n",
    "        os.chdir(wd_dir)"
   ]
  },
  {
   "cell_type": "code",
   "execution_count": 34,
   "metadata": {},
   "outputs": [],
   "source": [
    "def process_trajs(system, md_type, prod_dir, system_name, run = True):\n",
    "    prod_files = glob.glob(os.path.join(DM_DIR, system, md_type, 'rep_*', prod_dir))\n",
    "    for system_prod_dir in prod_files:\n",
    "        print(F'Procesando {system_prod_dir}')\n",
    "        strip_traj_cpptraj( system_prod_dir, system_name, run = run)"
   ]
  },
  {
   "cell_type": "markdown",
   "metadata": {},
   "source": [
    "## Directorio general de las dinámicas"
   ]
  },
  {
   "cell_type": "code",
   "execution_count": 4,
   "metadata": {},
   "outputs": [],
   "source": [
    "import glob\n",
    "DM_DIR = os.path.join('..', '..', 'ARCHIVOS', 'DINAMICA')"
   ]
  },
  {
   "cell_type": "markdown",
   "metadata": {},
   "source": [
    "# Sistema 4fkw\n"
   ]
  },
  {
   "cell_type": "markdown",
   "metadata": {},
   "source": [
    "> ## MD / Simulated Annealing / apo"
   ]
  },
  {
   "cell_type": "code",
   "execution_count": 37,
   "metadata": {},
   "outputs": [
    {
     "name": "stdout",
     "output_type": "stream",
     "text": [
      "Procesando ../../ARCHIVOS/DINAMICA/4fku/sa_dm/rep_2/3_prod\n",
      "Procesando ../../ARCHIVOS/DINAMICA/4fku/sa_dm/rep_1/3_prod\n",
      "Procesando ../../ARCHIVOS/DINAMICA/4fku/sa_dm/rep_3/3_prod\n",
      "Procesando ../../ARCHIVOS/DINAMICA/4fku/sa_dm/rep_4/3_prod\n",
      "Procesando ../../ARCHIVOS/DINAMICA/4fku/sa_dm/rep_5/3_prod\n"
     ]
    }
   ],
   "source": [
    "system = '4fku'\n",
    "md_type = 'sa_dm'\n",
    "prod_dir = '3_prod'\n",
    "system_name = 'cdk2'\n",
    "# Tenemos cinco réplicas\n",
    "process_trajs(system, md_type, prod_dir, system_name, run = True)"
   ]
  },
  {
   "cell_type": "markdown",
   "metadata": {},
   "source": [
    "> ## Solventes Mixtos / Plain MD"
   ]
  },
  {
   "cell_type": "code",
   "execution_count": 44,
   "metadata": {},
   "outputs": [
    {
     "name": "stdout",
     "output_type": "stream",
     "text": [
      "Procesando ../../ARCHIVOS/DINAMICA/4fku/mix_solv/rep_2/4_prod\n",
      "Procesando ../../ARCHIVOS/DINAMICA/4fku/mix_solv/rep_1/4_prod\n",
      "Procesando ../../ARCHIVOS/DINAMICA/4fku/mix_solv/rep_3/4_prod\n",
      "Procesando ../../ARCHIVOS/DINAMICA/4fku/mix_solv/rep_4/4_prod\n",
      "Procesando ../../ARCHIVOS/DINAMICA/4fku/mix_solv/rep_5/4_prod\n"
     ]
    }
   ],
   "source": [
    "system = '4fku'\n",
    "md_type = 'mix_solv'\n",
    "prod_dir = '4_prod'\n",
    "system_name = 'mxs_cdk2'\n",
    "# Tenemos cinco réplicas\n",
    "process_trajs(system, md_type, prod_dir, system_name, run = True)"
   ]
  },
  {
   "cell_type": "markdown",
   "metadata": {},
   "source": [
    "> ## Solventes mixtos / Simulated Annealing"
   ]
  },
  {
   "cell_type": "code",
   "execution_count": 35,
   "metadata": {},
   "outputs": [
    {
     "name": "stdout",
     "output_type": "stream",
     "text": [
      "Procesando ../../ARCHIVOS/DINAMICA/4fku/mxs_sa/rep_2/4_prod\n",
      "Procesando ../../ARCHIVOS/DINAMICA/4fku/mxs_sa/rep_1/4_prod\n",
      "Procesando ../../ARCHIVOS/DINAMICA/4fku/mxs_sa/rep_3/4_prod\n",
      "Procesando ../../ARCHIVOS/DINAMICA/4fku/mxs_sa/rep_4/4_prod\n",
      "Procesando ../../ARCHIVOS/DINAMICA/4fku/mxs_sa/rep_5/4_prod\n"
     ]
    }
   ],
   "source": [
    "system = '4fku'\n",
    "md_type = 'mxs_sa'\n",
    "prod_dir = '4_prod'\n",
    "system_name = 'mxs_cdk2'\n",
    "# Tenemos cinco réplicas\n",
    "process_trajs(system, md_type, prod_dir, system_name, run = False)"
   ]
  },
  {
   "cell_type": "markdown",
   "metadata": {},
   "source": [
    "> ## Simulated Annealing / PL complex (CS62 lig)"
   ]
  },
  {
   "cell_type": "code",
   "execution_count": 42,
   "metadata": {},
   "outputs": [
    {
     "name": "stdout",
     "output_type": "stream",
     "text": [
      "Procesando ../../ARCHIVOS/DINAMICA/4fku/sa_lig_CS262/rep_2/4_prod\n",
      "Procesando ../../ARCHIVOS/DINAMICA/4fku/sa_lig_CS262/rep_1/4_prod\n",
      "Procesando ../../ARCHIVOS/DINAMICA/4fku/sa_lig_CS262/rep_3/4_prod\n",
      "Procesando ../../ARCHIVOS/DINAMICA/4fku/sa_lig_CS262/rep_4/4_prod\n",
      "Procesando ../../ARCHIVOS/DINAMICA/4fku/sa_lig_CS262/rep_5/4_prod\n"
     ]
    }
   ],
   "source": [
    "system = '4fku'\n",
    "md_type = 'sa_lig_CS262'\n",
    "prod_dir = '4_prod'\n",
    "system_name = 'cdk2_LIG'\n",
    "# Tenemos cinco réplicas\n",
    "process_trajs(system, md_type, prod_dir, system_name, run = True)"
   ]
  },
  {
   "cell_type": "markdown",
   "metadata": {},
   "source": [
    "# Sistema 1fin\n",
    "> ## MD / simulated Annealing"
   ]
  },
  {
   "cell_type": "code",
   "execution_count": 38,
   "metadata": {},
   "outputs": [
    {
     "name": "stdout",
     "output_type": "stream",
     "text": [
      "Procesando ../../ARCHIVOS/DINAMICA/1fin/sa_dm/rep_2/4_prod\n",
      "Procesando ../../ARCHIVOS/DINAMICA/1fin/sa_dm/rep_1/4_prod\n",
      "Procesando ../../ARCHIVOS/DINAMICA/1fin/sa_dm/rep_3/4_prod\n",
      "Procesando ../../ARCHIVOS/DINAMICA/1fin/sa_dm/rep_4/4_prod\n",
      "Procesando ../../ARCHIVOS/DINAMICA/1fin/sa_dm/rep_5/4_prod\n"
     ]
    }
   ],
   "source": [
    "system = '1fin'\n",
    "md_type = 'sa_dm'\n",
    "prod_dir = '4_prod'\n",
    "system_name = 'sa_dm_1fin'\n",
    "# Tenemos cinco réplicas\n",
    "process_trajs(system, md_type, prod_dir, system_name, run = True)"
   ]
  },
  {
   "cell_type": "code",
   "execution_count": 39,
   "metadata": {},
   "outputs": [
    {
     "name": "stdout",
     "output_type": "stream",
     "text": [
      "Procesando ../../ARCHIVOS/DINAMICA/1fin/mxs_sa/rep_2/4_prod\n",
      "Procesando ../../ARCHIVOS/DINAMICA/1fin/mxs_sa/rep_1/4_prod\n",
      "Procesando ../../ARCHIVOS/DINAMICA/1fin/mxs_sa/rep_3/4_prod\n",
      "Procesando ../../ARCHIVOS/DINAMICA/1fin/mxs_sa/rep_4/4_prod\n",
      "Procesando ../../ARCHIVOS/DINAMICA/1fin/mxs_sa/rep_5/4_prod\n"
     ]
    }
   ],
   "source": [
    "system = '1fin'\n",
    "md_type = 'mxs_sa'\n",
    "prod_dir = '4_prod'\n",
    "system_name = 'mxs_1fin'\n",
    "# Tenemos cinco réplicas\n",
    "process_trajs(system, md_type, prod_dir, system_name, run = True)"
   ]
  },
  {
   "cell_type": "code",
   "execution_count": 40,
   "metadata": {},
   "outputs": [
    {
     "name": "stdout",
     "output_type": "stream",
     "text": [
      "Procesando ../../ARCHIVOS/DINAMICA/1fin/sa_lig_ATP/rep_2/4_prod\n",
      "Procesando ../../ARCHIVOS/DINAMICA/1fin/sa_lig_ATP/rep_1/4_prod\n",
      "Procesando ../../ARCHIVOS/DINAMICA/1fin/sa_lig_ATP/rep_3/4_prod\n",
      "Procesando ../../ARCHIVOS/DINAMICA/1fin/sa_lig_ATP/rep_4/4_prod\n",
      "Procesando ../../ARCHIVOS/DINAMICA/1fin/sa_lig_ATP/rep_5/4_prod\n"
     ]
    }
   ],
   "source": [
    "system = '1fin'\n",
    "md_type = 'sa_lig_ATP'\n",
    "prod_dir = '4_prod'\n",
    "system_name = 'sa_lig_1fin_ATP'\n",
    "# Tenemos cinco réplicas\n",
    "process_trajs(system, md_type, prod_dir, system_name, run = True)"
   ]
  },
  {
   "cell_type": "code",
   "execution_count": 43,
   "metadata": {},
   "outputs": [
    {
     "name": "stdout",
     "output_type": "stream",
     "text": [
      "Procesando ../../ARCHIVOS/DINAMICA/1fin/sa_lig_CS262/rep_2/4_prod\n",
      "Procesando ../../ARCHIVOS/DINAMICA/1fin/sa_lig_CS262/rep_1/4_prod\n",
      "Procesando ../../ARCHIVOS/DINAMICA/1fin/sa_lig_CS262/rep_3/4_prod\n",
      "Procesando ../../ARCHIVOS/DINAMICA/1fin/sa_lig_CS262/rep_4/4_prod\n",
      "Procesando ../../ARCHIVOS/DINAMICA/1fin/sa_lig_CS262/rep_5/4_prod\n"
     ]
    }
   ],
   "source": [
    "system = '1fin'\n",
    "md_type = 'sa_lig_CS262'\n",
    "prod_dir = '4_prod'\n",
    "system_name = 'sa_lig_1fin_CS262'\n",
    "# Tenemos cinco réplicas\n",
    "process_trajs(system, md_type, prod_dir, system_name, run = True)"
   ]
  }
 ],
 "metadata": {
  "kernelspec": {
   "display_name": "Python 3",
   "language": "python",
   "name": "python3"
  },
  "language_info": {
   "codemirror_mode": {
    "name": "ipython",
    "version": 3
   },
   "file_extension": ".py",
   "mimetype": "text/x-python",
   "name": "python",
   "nbconvert_exporter": "python",
   "pygments_lexer": "ipython3",
   "version": "3.7.4"
  }
 },
 "nbformat": 4,
 "nbformat_minor": 2
}
