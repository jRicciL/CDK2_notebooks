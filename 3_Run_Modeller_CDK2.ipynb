{
 "cells": [
  {
   "cell_type": "markdown",
   "metadata": {},
   "source": [
    "# Modelado de los residuos restantes de los cristales\n"
   ]
  },
  {
   "cell_type": "code",
   "execution_count": 1,
   "metadata": {},
   "outputs": [
    {
     "name": "stderr",
     "output_type": "stream",
     "text": [
      "/home/joel/anaconda3/envs/mds/lib/python3.6/importlib/_bootstrap.py:219: RuntimeWarning: numpy.ufunc size changed, may indicate binary incompatibility. Expected 192 from C header, got 216 from PyObject\n",
      "  return f(*args, **kwds)\n"
     ]
    }
   ],
   "source": [
    "# Librerías\n",
    "from modeller import * # licencia modeller necesaria\n",
    "from prody import *\n",
    "import csv\n",
    "from modeller import * # licencia modeller necesaria\n",
    "from modeller.automodel import *\n",
    "from prody import * \n",
    "from Bio import pairwise2, SeqIO\n",
    "import os\n",
    "import glob"
   ]
  },
  {
   "cell_type": "markdown",
   "metadata": {},
   "source": [
    "### Obtener la secuencia de UniProt\n",
    "Utilizamos la secuencia P24941 correspondiente a la CDK2 humana."
   ]
  },
  {
   "cell_type": "code",
   "execution_count": 2,
   "metadata": {},
   "outputs": [
    {
     "name": "stdout",
     "output_type": "stream",
     "text": [
      "MENFQKVEKIGEGTYGVVYKARNKLTGEVVALKKIRLDTETEGVPSTAIREISLLKELNHPNIVKLLDVIHTENKLYLVFEFLHQDLKKFMDASALTGIPLPLIKSYLFQLLQGLAFCHSHRVLHRDLKPQNLLINTEGAIKLADFGLARAFGVPVRTYTHEVVTLWYRAPEILLGCKYYSTAVDIWSLGCIFAEMVTRRALFPGDSEIDQLFRIFRTLGTPDEVVWPGVTSMPDYKPSFPKWARQDFSKVVPPLDEDGRSLLSQMLHYDPNKRISAKAALAHPFFQDVTKPVPHLRL\n"
     ]
    }
   ],
   "source": [
    "# Secuencia de la CDK2 de UniProt\n",
    "fasta_cdk2 = SeqIO.read(open('./B_DATOS/P24941.fasta'),'fasta')\n",
    "cdk2_P24941 = str(fasta_cdk2.seq)\n",
    "print(cdk2_P24941)"
   ]
  },
  {
   "cell_type": "markdown",
   "metadata": {},
   "source": [
    "### Función find gaps\n",
    "Cargamos la función que permite permite identificar los gaps en una secuencia y devolver el rango del gap."
   ]
  },
  {
   "cell_type": "code",
   "execution_count": 3,
   "metadata": {},
   "outputs": [],
   "source": [
    "from Funciones.find_gaps import find_gaps\n",
    "# Recibe una secuencia (con gaps como \"-\") y un valor r para valorar el gap en +/- r posiciones "
   ]
  },
  {
   "cell_type": "code",
   "execution_count": 4,
   "metadata": {},
   "outputs": [
    {
     "data": {
      "text/plain": [
       "{'num_gaps': 1,\n",
       " 'gap_lengths': [2],\n",
       " 'gap_list': [[5, 6]],\n",
       " 'gap_window': [[3, 6]]}"
      ]
     },
     "execution_count": 4,
     "metadata": {},
     "output_type": "execute_result"
    }
   ],
   "source": [
    "# EJEMPLO:\n",
    "find_gaps(\"1234-5\", r=2)"
   ]
  },
  {
   "cell_type": "markdown",
   "metadata": {},
   "source": [
    "### Obtenemos los PDB IDs de los cristales\n",
    "A partir de la tabal de metadatos generada con *Get_Metadatos..*.  \n",
    "Tomar en cuenta que de los **408** cristales identificados, **seis han sido removidos**, debido a que el modelado no era posible:\n",
    "- 5ang, 4ek6, 6ath, 5uq3, 1jsu, 5mhq."
   ]
  },
  {
   "cell_type": "code",
   "execution_count": 7,
   "metadata": {},
   "outputs": [
    {
     "name": "stdout",
     "output_type": "stream",
     "text": [
      "Total de PDB IDs a modelar: 402\n"
     ]
    }
   ],
   "source": [
    "# Los IDs de los cristales están en el archivo\n",
    "import pandas as pd\n",
    "df_cdk2 = pd.read_csv(\"B_DATOS/TABLA_MTDATA_CDK2_402_crys.csv\", index_col=1)\n",
    "pdbids_list = df_cdk2.index\n",
    "print(\"Total de PDB IDs a modelar:\", len(pdbids_list))"
   ]
  },
  {
   "cell_type": "markdown",
   "metadata": {},
   "source": [
    "## Se ejecuta Modeller para refinamiento por loops\n",
    "#### Descripción de los pasos a ejecutar:\n",
    "- **1)** Se definen los directorios de entradas y salidas.\n",
    "- **2)** Se carga la estructura cristalográfica a modelar (*cristal*), correspondiente a cada pdb id.\n",
    "    - Si la proteína ya fue modelada se omite volver a modelarla.\n",
    "- **3)** Se hace un alineamiento de la secuencia del cristal y la secuecnia **P24941**.\n",
    "- **4)** Se identifican los gaps en la secuencia del cristal, si los hay. Se define una ventana de $\\pm$ *r* residuos que se considerarán dentro del gap.\n",
    "- **5)** Se modifica el método *select_atoms* de la clase *MyModel* de MODELLER para indicar que únicamente modele los residuos que pertenecen al gap del cristal, dejando intacto el resto de los átomos de la proteína.\n",
    "- **6)** Ejecuta MODELLER con los parámetros indicados, generando únicamente un modelo, el cual es guardado como _PDBID_**_MODLL.pdb**."
   ]
  },
  {
   "cell_type": "code",
   "execution_count": null,
   "metadata": {},
   "outputs": [],
   "source": [
    "import os\n",
    "import time\n",
    "start = time.time()\n",
    "\n",
    "# Directiros\n",
    "struct_dir = '../ARCHIVOS/CRISTALES/PROT_CDK2_CHAINS/'\n",
    "tail_pdb = '_A.pdb' # extensión del archivo pdb del cristal\n",
    "tail_model = '_MODLL' # epiteto del archivo del modelo final, la extensión .pdb la agrega modeller\n",
    "pdbs_model_dir = \"../ARCHIVOS/CRISTALES/PROT_CDK2_MODELOS_modeller_NOPREP/\" # Carpeta de salida para los modelos\n",
    "num_res_window = 2\n",
    "\n",
    "for pdb_code in pdbids_list:\n",
    "    ###########################\n",
    "    if os.path.isfile(pdbs_model_dir + pdb_code + tail_model + \".pdb\"):\n",
    "        print(\"El modelo ya existe en el directorio\")\n",
    "        continue\n",
    "\n",
    "    ###########################\n",
    "    try:\n",
    "        # Se lee el archivo pdb. La selección omite residuos negativos.\n",
    "        # Además omite los residuos no estandar, con modificaciones postTrad como el TPO (Tirosina fosfatada)\n",
    "        stc_prot = parsePDB(struct_dir \n",
    "                            + pdb_code + tail_pdb).select('not nonstdaa and resid > 0') \n",
    "        chaid = stc_prot.getChids()[0] # Obtiene el id de la cadena\n",
    "        ref_hv = stc_prot.getHierView()[chaid] # Se obtiene sólo la cadena\n",
    "        seq_cry = ref_hv.getSequence() # Se obtiene la secuencia de la estructura cristalográfica   \n",
    "    except:\n",
    "        print(\"Error al abrir y modelar:\", pdb_code)\n",
    "        continue\n",
    "    ########################### \n",
    "    # Pregunta si la longitud y la secuencias de Uniprot y de la estructura son iguales\n",
    "    same_seq = len(seq_cry) == len(cdk2_P24941) and seq_cry == cdk2_P24941\n",
    "    # si same_seq es verdadero, se omite hacer el modelado pues la estructura está completa\n",
    "    # y se pasa a la siguiente secuencia\n",
    "    if same_seq:\n",
    "        print(\"La proteína \" + pdb_code + \" ya está completa\")\n",
    "        continue  \n",
    "        ''' SI HACEN FALTA ÁTOMOS A UN RESIDUO, SE AGREGARÁN CON pdb4amber'''\n",
    "    print(\"Modelando proteína \" + pdb_code)\n",
    "    ###########################\n",
    "    # Obtener la secuecnia de la estructura a modelar y guardarla en un archivo\n",
    "    # Alineamiento global, se penalizan con -10 los gaps abiertos, se obtiene el mejor\n",
    "    alignment = pairwise2.align.globalxs(seq_cry, cdk2_P24941, -10, -0.5, gap_char='-')[0]\n",
    "    # Secuencias del alineamiento\n",
    "    algn1_struc = alignment[0] # Secuencia alineada de la estructura cristalográfica\n",
    "    algn2_seq = cdk2_P24941 # Secuencia completa de UniProt\n",
    "\n",
    "    # Nombre de los cabezales de las secuencia deben coincidir con el de los archivos de entrada y salida\n",
    "    crys_file_name = pdb_code + tail_pdb\n",
    "    model_file_name = pdb_code + tail_model\n",
    "\n",
    "    ''' NECESARIO: There should be 10 fields separated by colons \":\".\n",
    "    Please check the file to make sure your sequences end with the '*' character.\n",
    "    Nomenclaturas de los campos del header: https://salilab.org/modeller/8v2/manual/node176.html'''\n",
    "\n",
    "    # HEADERS (la secuencia del cristal va primero, luego la secuencia completa)\n",
    "    struc_header = \"structureX:\" + crys_file_name + \":.:\" + chaid + \":.:\" + chaid + \":.:.:.:\"\n",
    "    seq_header = \"sequence:\" + model_file_name + \":.:.:.:.:.:.:.:\"\n",
    "    \n",
    "    # Crea el archivo de alineamiento con la estructura requerida por modeller\n",
    "    alg_filename = pdb_code + \".alg\"\n",
    "    with open(alg_filename, \"w\") as handle:\n",
    "        handle.write(\"\\n>P1;%s\\n%s\\n%s*\\n>P1;%s\\n%s\\n%s*\\n\" % (crys_file_name, struc_header, algn1_struc, \n",
    "                                                               model_file_name, seq_header, algn2_seq))\n",
    "\n",
    "    ##########################\n",
    "    # Ejecuta find_gaps para obtener los posibles gaps de la secuencia\n",
    "    gaps = find_gaps(algn1_struc, r = num_res_window)\n",
    "    num_gaps = gaps[\"num_gaps\"]\n",
    "    # Comprueba si hay gaps\n",
    "    # if num_gaps != 0:\n",
    "     #   print(\"Se omite hacer el modelado de \" + pdb_code + \", la proteína ya está completa o tiene más residuos que la secuencia\")\n",
    "     #   print(\"Longitud de secuencia: \" + str(len(algn2_seq)))\n",
    "     #   print(\"Longitud de la estructura: \" + str(len(algn1_struc)))\n",
    "     #   continue\n",
    "\n",
    "    gap_i = gaps[\"gap_window\"]\n",
    "    # Se define el string que necesita Modeller para definir al primer gap\n",
    "    s = \"self.residue_range('\" + str(gap_i[0][0]) + \"', '\" + str(gap_i[0][1]) + \"')\"\n",
    "\n",
    "    # A pesar de que sólo haya un gap, se ejecuta el ciclo, \n",
    "    # si hay más de uno, se extiende el String para incluir los demás\n",
    "    for i in range(1, num_gaps):\n",
    "        s = s + \", \" + \"self.residue_range('\" + str(gap_i[i][0]) + \"', '\" + str(gap_i[i][1]) + \"')\" #nótese la coma\n",
    "    ##########################\n",
    "    ''' SE EJECUTA MODELLER'''\n",
    "    ##########################\n",
    "    env = environ()\n",
    "    env.io.atom_files_directory = ['.', struct_dir]\n",
    "    # Se modifica la clase MyModel de Modeller para fijar los residuos ya existentes en el cristal\n",
    "    # Estos residuos no se modelarán ni sus átomos cambiarán de posición\n",
    "    # NECESARIO para poder capturar los valores obtenidos por el rango de gaps\n",
    "    MyModel_code = \"\"\"\n",
    "class MyModel(automodel):\n",
    "    def select_atoms(self):\n",
    "        return selection(\"\"\" + s + \"\"\")\n",
    "\"\"\" # Al estar dentro del loop la identación extra es importante\n",
    "    exec(MyModel_code) # Se lleva a cabo la modificación a MyModel para agregar la región fijada\n",
    "    # Se intancia el objeto MyModel\n",
    "    a = MyModel(env, alnfile = alg_filename, # Lee el archivo fasta creado y guardado en el directorio actual\n",
    "                      knowns = crys_file_name, # Archivo pdb crys, que coincide con el id en el archivo fasta\n",
    "                      sequence = model_file_name) # Nombre del modelo\n",
    "    a.starting_model= 1\n",
    "    a.ending_model  = 1\n",
    "    a.library_schedule = autosched.slow # Originalmente comentado\n",
    "    a.max_var_iterations = 2000 #*500\n",
    "    a.md_level = refine.slow # Nivel del rifinamiento\n",
    "    a.repeat_optimization = 3 ##Originalmente comentado\n",
    "    \n",
    "    # Más info sobre el refinamiento: https://salilab.org/modeller/9.21/manual/node19.html\n",
    "    a.make()\n",
    "\n",
    "    ###########################\n",
    "    # Renombra el archivo pdb a pdb_code + _full.pdb\n",
    "    # DEBE ser el único archivo pdb en el directorio '.'\n",
    "\n",
    "    model_file = glob.glob('./' + pdb_code + '*.pdb')[0] # Nombre del archivo pdb\n",
    "    os.rename(model_file, pdbs_model_dir + pdb_code + tail_model + \".pdb\") # Mueve el pdb a la carpeta model_pdbs\n",
    "    # Elimina los archivos extra generados - Todos empiezan con el codigo del PDB ID\n",
    "    for f in glob.glob(pdb_code + \"*\"):\n",
    "        os.remove(f)\n",
    "\n",
    "end = time. time()\n",
    "print(end - start)"
   ]
  },
  {
   "cell_type": "code",
   "execution_count": 5,
   "metadata": {},
   "outputs": [],
   "source": [
    "print()"
   ]
  },
  {
   "cell_type": "markdown",
   "metadata": {},
   "source": [
    "## Como resultado se modelaron 402 estructuras.\n"
   ]
  },
  {
   "cell_type": "markdown",
   "metadata": {},
   "source": [
    "\n"
   ]
  }
 ],
 "metadata": {
  "kernelspec": {
   "display_name": "Python 3",
   "language": "python",
   "name": "python3"
  },
  "language_info": {
   "codemirror_mode": {
    "name": "ipython",
    "version": 3
   },
   "file_extension": ".py",
   "mimetype": "text/x-python",
   "name": "python",
   "nbconvert_exporter": "python",
   "pygments_lexer": "ipython3",
   "version": "3.6.7"
  }
 },
 "nbformat": 4,
 "nbformat_minor": 2
}
