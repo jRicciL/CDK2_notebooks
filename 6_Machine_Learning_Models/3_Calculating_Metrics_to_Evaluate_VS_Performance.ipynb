{
 "cells": [
  {
   "cell_type": "markdown",
   "metadata": {
    "slideshow": {
     "slide_type": "slide"
    }
   },
   "source": [
    "# Calculating Metrics to Evaluate VS performance\n",
    "\n",
    "This notebook applies different metrics to evaluate virtual screening performance. These metrics were reviewed in the previous notebook to the VS scoring results and predictions given by different docking tools."
   ]
  },
  {
   "cell_type": "code",
   "execution_count": 1,
   "metadata": {},
   "outputs": [],
   "source": [
    "import pandas as pd\n",
    "import numpy as np\n",
    "import glob, os, sys\n",
    "sys.path.append(r'..')"
   ]
  },
  {
   "cell_type": "code",
   "execution_count": 2,
   "metadata": {},
   "outputs": [],
   "source": [
    "from modules.plotting_metrics import PlotMetric"
   ]
  },
  {
   "cell_type": "markdown",
   "metadata": {
    "slideshow": {
     "slide_type": "slide"
    }
   },
   "source": [
    "## Loading Docking Results\n",
    "> ### Docking Score & Ligand Efficiency\n",
    "First, we have to load the docking results, which were directly obtained from the docking tools. Then, we also have to load the *Ligand Efficiency Scores*, which were calculated in a previous notebook and correspond to the quotient between *docking score* and the *number of heavy atoms* of each ligand.\n",
    "\n",
    "> Interesting paper: [*Beware of ligand efficiency (LE): understanding LE data in modeling structure-activity and structure-economy relationships*](https://www.ncbi.nlm.nih.gov/pmc/articles/PMC5593805/)\n",
    "\n",
    "Therefore, we load the data:"
   ]
  },
  {
   "cell_type": "code",
   "execution_count": 3,
   "metadata": {},
   "outputs": [],
   "source": [
    "# CSAR DockingScores\n",
    "docking_tools_csar = ['AD4_LE', 'AD4_LC', 'VINA', 'VINARDO']\n",
    "csar_dk_Scores = {dk_tool: pd.read_csv(F'../data/vs_docking_crys_ensemble_{dk_tool}.csv', index_col=0)\n",
    "                 for dk_tool in docking_tools_csar}\n",
    "# CSAR Ligand Efficiency\n",
    "csar_ligEff_Scores = {dk_tool: pd.read_csv(\n",
    "    F'../data/docking_scores/vs_dk_CRYS_402_CSAR_{dk_tool}_ligand_Efficiency.csv', index_col=0)\n",
    "                 for dk_tool in docking_tools_csar}"
   ]
  },
  {
   "cell_type": "markdown",
   "metadata": {},
   "source": [
    "We also need to define the `y_true_csar` variable, which indicates if a given molecule is truly **active** (=1) or **inactive** (=0) accordingly to the experimental report. We also obtain the *pdb_ids* of all conformations."
   ]
  },
  {
   "cell_type": "code",
   "execution_count": 4,
   "metadata": {},
   "outputs": [],
   "source": [
    "# TRUE CSAR VALUES\n",
    "y_true_csar = np.array(csar_dk_Scores['VINA'].ActiveInactive == \"Active\", dtype=int)\n",
    "# PDB_IDS\n",
    "pdb_ids = csar_dk_Scores['VINA'].drop('ActiveInactive', axis = 1).columns"
   ]
  },
  {
   "cell_type": "markdown",
   "metadata": {
    "slideshow": {
     "slide_type": "slide"
    }
   },
   "source": [
    "\n",
    "## Evaluation of VS performance\n",
    "\n",
    "Then we calculate the available metrics to evaluate the VS performance of the following:\n",
    "\n",
    "### For CSAR:\n",
    "1. **We have 402 CDK2 protein conformations**\n",
    "\n",
    "- **We have 4 docking tools/methods**:\n",
    "    - *AD4 LC*\n",
    "    - *AD4 LE*\n",
    "    - *VINA*\n",
    "    - *VINARDO*\n",
    "    \n",
    "- **We have two different _ranking features_**:\n",
    "    - *Docking Score*: The scores directly obtained from the each of the docking tools.\n",
    "    - *Ligand Efficiency*: The quotient between *docking score* and the *number of heavy atoms* of each ligand.\n",
    "    \n",
    "- **We evaluate four different metrics**:\n",
    "    - *ROC-AUC*\n",
    "    - *BEDROC (alpha = 4)*\n",
    "    - *Precision and Recall AUC*\n",
    "    - *Normalized Enrichment Factor AUC*\n",
    "\n",
    "\n",
    "This means that for each of the protein conformations we have calculated 8 different *rankings*, i.e., we evaluated each conformation with 4 docking tools/methods, following by applying two different *ranking features* (directly using the Dk score or by using Ligand Efficiency). And finally each one of these rankings is evaluated by 4 different metrics.\n",
    "\n",
    "**The following function performs this task:**"
   ]
  },
  {
   "cell_type": "code",
   "execution_count": 5,
   "metadata": {},
   "outputs": [],
   "source": [
    "def calc_vs_performance_metrics(ranking_scores_dfs, metrics, docking_tools, \n",
    "                                   y_true, bedroc_alpha, column_to_drop):\n",
    "    results_dic = {}\n",
    "    for ranking_score in ranking_scores_dfs.keys():\n",
    "        for metric in metrics.keys():\n",
    "            for dk_tool in docking_tools:\n",
    "                rks = ranking_scores_dfs[ranking_score]\n",
    "                y_preds_dic = rks[dk_tool].drop([column_to_drop], axis = 1).to_dict('list')\n",
    "                scores = PlotMetric(y_true = y_true, y_pred_dict = y_preds_dic)\n",
    "                # Now we get the name of the column\n",
    "                col_name = F'{dk_tool}-{ranking_score}-{metric}'\n",
    "                metric_to_use = metrics[metric]\n",
    "                # Calculation of the respective metric\n",
    "                if metric_to_use == 'bedroc': # If metric is BEDROC parse the alpha argument\n",
    "                    metric_values = scores.format_metric_results(metric_to_use, \n",
    "                                                    alpha = bedroc_alpha).iloc[:,0].values\n",
    "                else:\n",
    "                    metric_values = scores.format_metric_results(metric_to_use).iloc[:,0].values\n",
    "                results_dic[col_name] = metric_values\n",
    "    # Returns a Dataframe of metric results\n",
    "    return pd.DataFrame(results_dic, index = pdb_ids)"
   ]
  },
  {
   "cell_type": "markdown",
   "metadata": {},
   "source": [
    "Then, we apply the fucntion over csar results."
   ]
  },
  {
   "cell_type": "code",
   "execution_count": 6,
   "metadata": {},
   "outputs": [],
   "source": [
    "# CSAR metrics results\n",
    "docking_tools = docking_tools_csar\n",
    "metrics = {'ROC': 'roc_auc', 'PrcRll': 'pr_auc', 'NEF': 'ref_auc', 'BEDROC': 'bedroc'}\n",
    "column_to_drop = 'ActiveInactive'\n",
    "ranking_scores_dfs = {'DkS': csar_dk_Scores, 'DkLEff': csar_ligEff_Scores}\n",
    "bedroc_alpha = 4\n",
    "y_true = y_true_csar\n",
    "\n",
    "csar_dk_402confs_vs_metrics = calc_vs_performance_metrics(ranking_scores_dfs, metrics, docking_tools, \n",
    "                                              y_true, bedroc_alpha, column_to_drop)"
   ]
  },
  {
   "cell_type": "markdown",
   "metadata": {},
   "source": [
    "As a result we got  a new DataFrame of 402 rows and 32 columns (4 dk tools *times* 2 ranking features *times* 4 evaluation metrics)."
   ]
  },
  {
   "cell_type": "code",
   "execution_count": 7,
   "metadata": {},
   "outputs": [
    {
     "name": "stdout",
     "output_type": "stream",
     "text": [
      "VS Performance in CSAR Dataset\n"
     ]
    },
    {
     "data": {
      "text/html": [
       "<div>\n",
       "<style scoped>\n",
       "    .dataframe tbody tr th:only-of-type {\n",
       "        vertical-align: middle;\n",
       "    }\n",
       "\n",
       "    .dataframe tbody tr th {\n",
       "        vertical-align: top;\n",
       "    }\n",
       "\n",
       "    .dataframe thead th {\n",
       "        text-align: right;\n",
       "    }\n",
       "</style>\n",
       "<table border=\"1\" class=\"dataframe\">\n",
       "  <thead>\n",
       "    <tr style=\"text-align: right;\">\n",
       "      <th></th>\n",
       "      <th>AD4_LE-DkS-ROC</th>\n",
       "      <th>AD4_LC-DkS-ROC</th>\n",
       "      <th>VINA-DkS-ROC</th>\n",
       "      <th>VINARDO-DkS-ROC</th>\n",
       "      <th>AD4_LE-DkS-PrcRll</th>\n",
       "      <th>AD4_LC-DkS-PrcRll</th>\n",
       "      <th>VINA-DkS-PrcRll</th>\n",
       "      <th>VINARDO-DkS-PrcRll</th>\n",
       "      <th>AD4_LE-DkS-NEF</th>\n",
       "      <th>AD4_LC-DkS-NEF</th>\n",
       "      <th>...</th>\n",
       "      <th>VINA-DkLEff-PrcRll</th>\n",
       "      <th>VINARDO-DkLEff-PrcRll</th>\n",
       "      <th>AD4_LE-DkLEff-NEF</th>\n",
       "      <th>AD4_LC-DkLEff-NEF</th>\n",
       "      <th>VINA-DkLEff-NEF</th>\n",
       "      <th>VINARDO-DkLEff-NEF</th>\n",
       "      <th>AD4_LE-DkLEff-BEDROC</th>\n",
       "      <th>AD4_LC-DkLEff-BEDROC</th>\n",
       "      <th>VINA-DkLEff-BEDROC</th>\n",
       "      <th>VINARDO-DkLEff-BEDROC</th>\n",
       "    </tr>\n",
       "  </thead>\n",
       "  <tbody>\n",
       "    <tr>\n",
       "      <td>1aq1</td>\n",
       "      <td>0.637</td>\n",
       "      <td>0.726</td>\n",
       "      <td>0.575</td>\n",
       "      <td>0.730</td>\n",
       "      <td>0.491</td>\n",
       "      <td>0.554</td>\n",
       "      <td>0.273</td>\n",
       "      <td>0.407</td>\n",
       "      <td>0.691</td>\n",
       "      <td>0.763</td>\n",
       "      <td>...</td>\n",
       "      <td>0.582</td>\n",
       "      <td>0.625</td>\n",
       "      <td>0.856</td>\n",
       "      <td>0.890</td>\n",
       "      <td>0.775</td>\n",
       "      <td>0.826</td>\n",
       "      <td>0.748</td>\n",
       "      <td>0.806</td>\n",
       "      <td>0.682</td>\n",
       "      <td>0.723</td>\n",
       "    </tr>\n",
       "    <tr>\n",
       "      <td>1b38</td>\n",
       "      <td>0.642</td>\n",
       "      <td>0.694</td>\n",
       "      <td>0.546</td>\n",
       "      <td>0.678</td>\n",
       "      <td>0.402</td>\n",
       "      <td>0.481</td>\n",
       "      <td>0.278</td>\n",
       "      <td>0.352</td>\n",
       "      <td>0.671</td>\n",
       "      <td>0.726</td>\n",
       "      <td>...</td>\n",
       "      <td>0.541</td>\n",
       "      <td>0.636</td>\n",
       "      <td>0.802</td>\n",
       "      <td>0.808</td>\n",
       "      <td>0.763</td>\n",
       "      <td>0.822</td>\n",
       "      <td>0.690</td>\n",
       "      <td>0.692</td>\n",
       "      <td>0.656</td>\n",
       "      <td>0.720</td>\n",
       "    </tr>\n",
       "    <tr>\n",
       "      <td>1b39</td>\n",
       "      <td>0.465</td>\n",
       "      <td>0.525</td>\n",
       "      <td>0.581</td>\n",
       "      <td>0.765</td>\n",
       "      <td>0.209</td>\n",
       "      <td>0.249</td>\n",
       "      <td>0.400</td>\n",
       "      <td>0.553</td>\n",
       "      <td>0.483</td>\n",
       "      <td>0.554</td>\n",
       "      <td>...</td>\n",
       "      <td>0.553</td>\n",
       "      <td>0.729</td>\n",
       "      <td>0.700</td>\n",
       "      <td>0.733</td>\n",
       "      <td>0.785</td>\n",
       "      <td>0.873</td>\n",
       "      <td>0.553</td>\n",
       "      <td>0.572</td>\n",
       "      <td>0.676</td>\n",
       "      <td>0.790</td>\n",
       "    </tr>\n",
       "    <tr>\n",
       "      <td>1buh</td>\n",
       "      <td>0.573</td>\n",
       "      <td>0.660</td>\n",
       "      <td>0.535</td>\n",
       "      <td>0.708</td>\n",
       "      <td>0.343</td>\n",
       "      <td>0.475</td>\n",
       "      <td>0.287</td>\n",
       "      <td>0.398</td>\n",
       "      <td>0.616</td>\n",
       "      <td>0.702</td>\n",
       "      <td>...</td>\n",
       "      <td>0.488</td>\n",
       "      <td>0.625</td>\n",
       "      <td>0.810</td>\n",
       "      <td>0.849</td>\n",
       "      <td>0.733</td>\n",
       "      <td>0.811</td>\n",
       "      <td>0.702</td>\n",
       "      <td>0.752</td>\n",
       "      <td>0.620</td>\n",
       "      <td>0.699</td>\n",
       "    </tr>\n",
       "    <tr>\n",
       "      <td>1ckp</td>\n",
       "      <td>0.570</td>\n",
       "      <td>0.677</td>\n",
       "      <td>0.571</td>\n",
       "      <td>0.767</td>\n",
       "      <td>0.314</td>\n",
       "      <td>0.472</td>\n",
       "      <td>0.387</td>\n",
       "      <td>0.617</td>\n",
       "      <td>0.600</td>\n",
       "      <td>0.712</td>\n",
       "      <td>...</td>\n",
       "      <td>0.574</td>\n",
       "      <td>0.742</td>\n",
       "      <td>0.770</td>\n",
       "      <td>0.804</td>\n",
       "      <td>0.792</td>\n",
       "      <td>0.905</td>\n",
       "      <td>0.657</td>\n",
       "      <td>0.694</td>\n",
       "      <td>0.689</td>\n",
       "      <td>0.822</td>\n",
       "    </tr>\n",
       "  </tbody>\n",
       "</table>\n",
       "<p>5 rows × 32 columns</p>\n",
       "</div>"
      ],
      "text/plain": [
       "      AD4_LE-DkS-ROC  AD4_LC-DkS-ROC  VINA-DkS-ROC  VINARDO-DkS-ROC  \\\n",
       "1aq1           0.637           0.726         0.575            0.730   \n",
       "1b38           0.642           0.694         0.546            0.678   \n",
       "1b39           0.465           0.525         0.581            0.765   \n",
       "1buh           0.573           0.660         0.535            0.708   \n",
       "1ckp           0.570           0.677         0.571            0.767   \n",
       "\n",
       "      AD4_LE-DkS-PrcRll  AD4_LC-DkS-PrcRll  VINA-DkS-PrcRll  \\\n",
       "1aq1              0.491              0.554            0.273   \n",
       "1b38              0.402              0.481            0.278   \n",
       "1b39              0.209              0.249            0.400   \n",
       "1buh              0.343              0.475            0.287   \n",
       "1ckp              0.314              0.472            0.387   \n",
       "\n",
       "      VINARDO-DkS-PrcRll  AD4_LE-DkS-NEF  AD4_LC-DkS-NEF  ...  \\\n",
       "1aq1               0.407           0.691           0.763  ...   \n",
       "1b38               0.352           0.671           0.726  ...   \n",
       "1b39               0.553           0.483           0.554  ...   \n",
       "1buh               0.398           0.616           0.702  ...   \n",
       "1ckp               0.617           0.600           0.712  ...   \n",
       "\n",
       "      VINA-DkLEff-PrcRll  VINARDO-DkLEff-PrcRll  AD4_LE-DkLEff-NEF  \\\n",
       "1aq1               0.582                  0.625              0.856   \n",
       "1b38               0.541                  0.636              0.802   \n",
       "1b39               0.553                  0.729              0.700   \n",
       "1buh               0.488                  0.625              0.810   \n",
       "1ckp               0.574                  0.742              0.770   \n",
       "\n",
       "      AD4_LC-DkLEff-NEF  VINA-DkLEff-NEF  VINARDO-DkLEff-NEF  \\\n",
       "1aq1              0.890            0.775               0.826   \n",
       "1b38              0.808            0.763               0.822   \n",
       "1b39              0.733            0.785               0.873   \n",
       "1buh              0.849            0.733               0.811   \n",
       "1ckp              0.804            0.792               0.905   \n",
       "\n",
       "      AD4_LE-DkLEff-BEDROC  AD4_LC-DkLEff-BEDROC  VINA-DkLEff-BEDROC  \\\n",
       "1aq1                 0.748                 0.806               0.682   \n",
       "1b38                 0.690                 0.692               0.656   \n",
       "1b39                 0.553                 0.572               0.676   \n",
       "1buh                 0.702                 0.752               0.620   \n",
       "1ckp                 0.657                 0.694               0.689   \n",
       "\n",
       "      VINARDO-DkLEff-BEDROC  \n",
       "1aq1                  0.723  \n",
       "1b38                  0.720  \n",
       "1b39                  0.790  \n",
       "1buh                  0.699  \n",
       "1ckp                  0.822  \n",
       "\n",
       "[5 rows x 32 columns]"
      ]
     },
     "execution_count": 7,
     "metadata": {},
     "output_type": "execute_result"
    }
   ],
   "source": [
    "print('VS Performance in CSAR Dataset')\n",
    "csar_dk_402confs_vs_metrics.head()"
   ]
  },
  {
   "cell_type": "code",
   "execution_count": 8,
   "metadata": {},
   "outputs": [
    {
     "data": {
      "text/plain": [
       "(402, 32)"
      ]
     },
     "execution_count": 8,
     "metadata": {},
     "output_type": "execute_result"
    }
   ],
   "source": [
    "csar_dk_402confs_vs_metrics.shape"
   ]
  },
  {
   "cell_type": "markdown",
   "metadata": {},
   "source": [
    "### For DUD:\n",
    "Pretty much like with CSAR, although DUD has been only evaluated with Vinardo.\n",
    "1. **We have 402 CDK2 protein conformations**\n",
    "\n",
    "- **We have 1 docking tools/methods**\n",
    "    \n",
    "- **We have two different _ranking features_**\n",
    "    \n",
    "- **We evaluated four different metrics**"
   ]
  },
  {
   "cell_type": "code",
   "execution_count": 9,
   "metadata": {},
   "outputs": [],
   "source": [
    "# DUD DockingScores\n",
    "docking_tools_dud = ['VINARDO']\n",
    "dud_dk_Scores = {dk_tool: pd.read_csv(F'../data/vs_docking_DUD2006_vs_402_crys_vinardo_8x.csv', index_col=0)\n",
    "                 for dk_tool in docking_tools_dud}\n",
    "# DUD Ligand Efficiency\n",
    "dud_ligEff_Scores = {dk_tool: pd.read_csv(\n",
    "    F'../data/docking_scores/vs_dk_CRYS_402_DUD2006_{dk_tool}_ligand_Efficiency.csv', index_col=0)\n",
    "                 for dk_tool in docking_tools_dud}"
   ]
  },
  {
   "cell_type": "markdown",
   "metadata": {},
   "source": [
    "**True values of DUD.**"
   ]
  },
  {
   "cell_type": "code",
   "execution_count": 10,
   "metadata": {},
   "outputs": [],
   "source": [
    "# TRUE CSAR VALUES\n",
    "y_true_dud = np.array(dud_dk_Scores['VINARDO'].Actividad == \"Active\", dtype=int)"
   ]
  },
  {
   "cell_type": "code",
   "execution_count": null,
   "metadata": {},
   "outputs": [],
   "source": [
    "# DUD metrics results\n",
    "docking_tools = docking_tools_dud\n",
    "metrics = {'ROC': 'roc_auc', 'PrcRll': 'pr_auc', 'NEF': 'ref_auc', 'BEDROC': 'bedroc'}\n",
    "column_to_drop = 'Actividad'\n",
    "ranking_scores_dfs = {'DkS': dud_dk_Scores, 'DkLEff': dud_ligEff_Scores}\n",
    "bedroc_alpha = 20\n",
    "y_true = y_true_dud\n",
    "    \n",
    "dud_dk_402confs_vs_metrics = calc_vs_performance_metrics(ranking_scores_dfs, metrics, docking_tools, \n",
    "                                              y_true, bedroc_alpha, column_to_drop)"
   ]
  },
  {
   "cell_type": "code",
   "execution_count": null,
   "metadata": {},
   "outputs": [],
   "source": [
    "dud_dk_402confs_vs_metrics.head()"
   ]
  },
  {
   "cell_type": "markdown",
   "metadata": {},
   "source": [
    "# Visualization"
   ]
  },
  {
   "cell_type": "markdown",
   "metadata": {},
   "source": [
    "The following functions will be used to plot the results previously obtained."
   ]
  },
  {
   "cell_type": "code",
   "execution_count": null,
   "metadata": {},
   "outputs": [],
   "source": [
    "import holoviews as hv\n",
    "from holoviews import dim\n",
    "from bokeh.io import show\n",
    "hv.extension('bokeh')"
   ]
  },
  {
   "cell_type": "code",
   "execution_count": null,
   "metadata": {},
   "outputs": [],
   "source": [
    "from auxiliar_plot_swarm import boxplot_metrics"
   ]
  },
  {
   "cell_type": "markdown",
   "metadata": {},
   "source": [
    "## CSAR Databases vs 402 CDK2 conformations"
   ]
  },
  {
   "cell_type": "code",
   "execution_count": null,
   "metadata": {
    "slideshow": {
     "slide_type": "slide"
    }
   },
   "outputs": [],
   "source": [
    "f = boxplot_metrics(data = csar_dk_402confs_vs_metrics, \n",
    "                    title = \"CSAR vs 402 CDK2 conformations\")\n",
    "show(f)"
   ]
  },
  {
   "cell_type": "code",
   "execution_count": null,
   "metadata": {
    "slideshow": {
     "slide_type": "slide"
    }
   },
   "outputs": [],
   "source": [
    "f = boxplot_metrics(data = dud_dk_402confs_vs_metrics, color_by= 'Ranking',\n",
    "                    title = \"DUD vs 402 CDK2 conformations: Vinardo\")\n",
    "show(f)"
   ]
  },
  {
   "cell_type": "markdown",
   "metadata": {},
   "source": [
    "## ROC-AUC and Ligand Efficiency"
   ]
  },
  {
   "cell_type": "code",
   "execution_count": null,
   "metadata": {},
   "outputs": [],
   "source": [
    "from auxiliar_plot_swarm import plot_swarm_metrics, plot_swarm_pair"
   ]
  },
  {
   "cell_type": "code",
   "execution_count": null,
   "metadata": {},
   "outputs": [],
   "source": [
    "df = csar_dk_402confs_vs_metrics\n",
    "hue = df['VINARDO-DkS-ROC'] > 0.8\n",
    "plot_swarm_pair(df, title='CSAR vs 402 Conformations', metric='ROC', alpha = 0.8)"
   ]
  },
  {
   "cell_type": "code",
   "execution_count": null,
   "metadata": {},
   "outputs": [],
   "source": [
    "df = csar_dk_402confs_vs_metrics\n",
    "hue = pd.qcut(df['VINARDO-DkS-ROC'], 6)\n",
    "plot_swarm_pair(df, title='CSAR', metric='ROC', hue = hue, \n",
    "                legend = False, cmap = 'Spectral_r', alpha = 1)"
   ]
  },
  {
   "cell_type": "code",
   "execution_count": null,
   "metadata": {},
   "outputs": [],
   "source": [
    "from holoviews import gridmatrix\n",
    "\n",
    "df_1 = csar_dk_402confs_vs_metrics.filter(regex='-ROC', axis = 1).filter(regex='VINARDO', axis = 1)\n",
    "df_1.columns = ['CSAR_DkS_ROC', 'CSAR_DkLEff_ROC']\n",
    "\n",
    "df_2 = dud_dk_402confs_vs_metrics.filter(regex='-ROC', axis = 1).filter(regex='VINARDO', axis = 1)\n",
    "df_2.columns = ['DUD_DkS_ROC', 'DUD_DkLEff_ROC']\n",
    "\n",
    "df = pd.concat([df_1, df_2], axis = 1)\n",
    "ds = hv.Dataset(df)\n",
    "\n",
    "density_grid = gridmatrix(ds, diagonal_type=hv.Distribution, chart_type=hv.Bivariate)\n",
    "point_grid = gridmatrix(ds, chart_type=hv.Points)\n",
    "\n",
    "(density_grid * point_grid).opts(\n",
    "    opts.Bivariate(bandwidth=0.5, cmap='Blues'), \n",
    "    opts.Points(size=2, tools=['box_select']))"
   ]
  },
  {
   "cell_type": "code",
   "execution_count": null,
   "metadata": {},
   "outputs": [],
   "source": []
  }
 ],
 "metadata": {
  "kernelspec": {
   "display_name": "Python 3",
   "language": "python",
   "name": "python3"
  },
  "language_info": {
   "codemirror_mode": {
    "name": "ipython",
    "version": 3
   },
   "file_extension": ".py",
   "mimetype": "text/x-python",
   "name": "python",
   "nbconvert_exporter": "python",
   "pygments_lexer": "ipython3",
   "version": "3.6.9"
  }
 },
 "nbformat": 4,
 "nbformat_minor": 2
}
