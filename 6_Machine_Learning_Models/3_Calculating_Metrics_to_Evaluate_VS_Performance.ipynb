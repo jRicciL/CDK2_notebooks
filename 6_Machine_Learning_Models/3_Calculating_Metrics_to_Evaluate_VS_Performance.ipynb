{
 "cells": [
  {
   "cell_type": "markdown",
   "metadata": {},
   "source": [
    "# Calculating Metrics to Evaluate VS performance\n",
    "\n",
    "This notebook applies the different metrics reviewed in the previous notebook to the VS scoring results and predictions given by different docking tools."
   ]
  },
  {
   "cell_type": "code",
   "execution_count": 2,
   "metadata": {},
   "outputs": [],
   "source": [
    "import pandas as pd\n",
    "import numpy as np\n",
    "import glob, os, sys\n",
    "sys.path.append(r'..')"
   ]
  },
  {
   "cell_type": "code",
   "execution_count": 9,
   "metadata": {},
   "outputs": [],
   "source": [
    "from modules.plotting_metrics import PlotMetric"
   ]
  },
  {
   "cell_type": "markdown",
   "metadata": {},
   "source": [
    "## Loading Docking Results\n",
    "> ### Docking Score"
   ]
  },
  {
   "cell_type": "code",
   "execution_count": 24,
   "metadata": {},
   "outputs": [],
   "source": [
    "prot_name = 'cdk2'\n",
    "patho_to_json_file = glob.glob((os.path.join('..', 'data', \n",
    "                        F'TABLA_MTDATA_{prot_name.upper()}_*_crys_LIGS_INFO_LABELS_AUC_docking_DUD.json')))[0]\n",
    "df_cdk2_labels = pd.read_json(patho_to_json_file)"
   ]
  },
  {
   "cell_type": "code",
   "execution_count": 7,
   "metadata": {},
   "outputs": [],
   "source": [
    "# \n",
    "docking_tools = ['AD4_LE', 'AD4_LE', 'VINA', 'VINARDO']\n",
    "\n",
    "# CSAR DockingScores\n",
    "csar_dkScores = {dk_tool: pd.read_csv(F'../data/vs_docking_crys_ensemble_{dk_tool}.csv', index_col=0)\n",
    "                 for dk_tool in docking_tools}\n"
   ]
  },
  {
   "cell_type": "code",
   "execution_count": 20,
   "metadata": {},
   "outputs": [
    {
     "data": {
      "text/plain": [
       "Index(['1aq1', '1b38', '1b39', '1buh', '1ckp', '1di8', '1dm2', '1e1v', '1e1x',\n",
       "       '1e9h',\n",
       "       ...\n",
       "       '6q4b', '6q4c', '6q4d', '6q4e', '6q4f', '6q4g', '6q4h', '6q4i', '6q4j',\n",
       "       '6q4k'],\n",
       "      dtype='object', length=402)"
      ]
     },
     "execution_count": 20,
     "metadata": {},
     "output_type": "execute_result"
    }
   ],
   "source": [
    "pdb_ids = csar_dkScores['VINA'].drop(['ActiveInactive'], axis = 1).columns\n",
    "\n",
    "for pdb_id in pdb_ids:"
   ]
  },
  {
   "cell_type": "code",
   "execution_count": null,
   "metadata": {},
   "outputs": [],
   "source": []
  },
  {
   "cell_type": "code",
   "execution_count": null,
   "metadata": {},
   "outputs": [],
   "source": []
  },
  {
   "cell_type": "code",
   "execution_count": null,
   "metadata": {},
   "outputs": [],
   "source": []
  }
 ],
 "metadata": {
  "kernelspec": {
   "display_name": "Python 3",
   "language": "python",
   "name": "python3"
  },
  "language_info": {
   "codemirror_mode": {
    "name": "ipython",
    "version": 3
   },
   "file_extension": ".py",
   "mimetype": "text/x-python",
   "name": "python",
   "nbconvert_exporter": "python",
   "pygments_lexer": "ipython3",
   "version": "3.7.4"
  }
 },
 "nbformat": 4,
 "nbformat_minor": 2
}
