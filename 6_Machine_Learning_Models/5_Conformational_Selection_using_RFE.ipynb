{
 "cells": [
  {
   "cell_type": "markdown",
   "metadata": {},
   "source": [
    "# Conformational Selection using Recursive Feature Elimination"
   ]
  },
  {
   "cell_type": "code",
   "execution_count": 61,
   "metadata": {},
   "outputs": [],
   "source": [
    "import pandas as pd\n",
    "import numpy as np\n",
    "import sys\n",
    "from glob import glob\n",
    "import matplotlib.pyplot as plt\n",
    "import seaborn as sns\n",
    "sys.path.append('..')\n",
    "# Helper functions\n",
    "%run ./helper_functions_S6.ipynb"
   ]
  },
  {
   "cell_type": "markdown",
   "metadata": {},
   "source": [
    "#### Load the data"
   ]
  },
  {
   "cell_type": "code",
   "execution_count": 62,
   "metadata": {},
   "outputs": [],
   "source": [
    "# Dictionary of docking results\n",
    "scores_dic = get_docking_scores_dict()"
   ]
  },
  {
   "cell_type": "code",
   "execution_count": 63,
   "metadata": {},
   "outputs": [],
   "source": [
    "# Description"
   ]
  },
  {
   "cell_type": "code",
   "execution_count": null,
   "metadata": {},
   "outputs": [],
   "source": []
  },
  {
   "cell_type": "code",
   "execution_count": 64,
   "metadata": {},
   "outputs": [],
   "source": [
    "from sklearn.feature_selection import RFECV"
   ]
  },
  {
   "cell_type": "code",
   "execution_count": 65,
   "metadata": {},
   "outputs": [],
   "source": [
    "### Function to perform RFECV"
   ]
  },
  {
   "cell_type": "code",
   "execution_count": 66,
   "metadata": {},
   "outputs": [],
   "source": [
    "def RFE_wrapper(ml_model, model_name, hyparms, scores_dic, train_key, score_type,\n",
    "                n_jobs = 4, cv = 5, scoring = 'roc_auc', file_sufix = '',\n",
    "                file_path = '../data/ml_evaluations/ml_models/'):\n",
    "    # File name\n",
    "    file_name = file_path + train_key + \\\n",
    "            F\"_{model_name}_RFE_{score_type.replace('_', '')}\" + \\\n",
    "            file_sufix + '.json'\n",
    "    \n",
    "    if os.path.isfile(file_name):\n",
    "        df_confs_per_k = pd.read_json(file_name)\n",
    "        df_confs_per_k.sort_index(inplace=True)\n",
    "    else:\n",
    "        # Intantiate the external estimator used for rank the features\n",
    "        estimator_ref = ml_model(**hyparms)\n",
    "        X = scores_dic[train_key][score_type]['X']\n",
    "        y = scores_dic[train_key][score_type]['y']\n",
    "\n",
    "        # Performs the RFE with crossvalidation\n",
    "        selector = RFECV(estimator_ref, step = 1, cv = cv, scoring = scoring, n_jobs = n_jobs)\n",
    "        selector = selector.fit(X, y)\n",
    "        # Get the features ranking\n",
    "        df_ = pd.DataFrame({'pdb_id': X.columns, 'rfe_ranking': selector.ranking_})\n",
    "        df_.sort_values('rfe_ranking', inplace = True)\n",
    "        # Create a lsit of ranked features from 1 to n (n=402)\n",
    "        list_of_confs_per_k = [ df_.index[:i+1].tolist() for i in range(len(df_))]\n",
    "        df_confs_per_k = pd.DataFrame({'list_of_confs_rfe': list_of_confs_per_k})\n",
    "        # Returns a dataframe with the same structure used for k-means or correlated features selection\n",
    "    \n",
    "        #*** Saves the file ***\n",
    "        df_confs_per_k.to_json(file_name)\n",
    "    return(df_confs_per_k)"
   ]
  },
  {
   "cell_type": "markdown",
   "metadata": {},
   "source": [
    "## Linear SVC"
   ]
  },
  {
   "cell_type": "code",
   "execution_count": 67,
   "metadata": {},
   "outputs": [],
   "source": [
    "from sklearn.svm import SVC"
   ]
  },
  {
   "cell_type": "code",
   "execution_count": 68,
   "metadata": {},
   "outputs": [
    {
     "name": "stdout",
     "output_type": "stream",
     "text": [
      "LinearSVC CSAR Dk_sc\n",
      "LinearSVC CSAR Dk_lef\n",
      "LinearSVC DUD Dk_sc\n",
      "LinearSVC DUD Dk_lef\n",
      "LinearSVC DEKOIS Dk_sc\n",
      "LinearSVC DEKOIS Dk_lef\n",
      "CPU times: user 11min 55s, sys: 4min 3s, total: 15min 58s\n",
      "Wall time: 42min 26s\n"
     ]
    }
   ],
   "source": [
    "%%time\n",
    "ml_model = SVC\n",
    "model_name = 'LinearSVC'\n",
    "hyparms = dict(kernel = 'linear', probability = True, C = 0.1)\n",
    "scores_dic = scores_dic\n",
    "list_train_keys = ['CSAR', 'DUD', 'DEKOIS']\n",
    "list_score_types = ['Dk_sc', 'Dk_lef']\n",
    "\n",
    "for train_key in list_train_keys:\n",
    "    for score_type in list_score_types:\n",
    "        rfe_sel_conf = RFE_wrapper(ml_model, model_name, hyparms, \n",
    "                             scores_dic, train_key, score_type,\n",
    "                             n_jobs = 4, cv = 5, scoring = 'roc_auc')\n",
    "        print(model_name, train_key, score_type)"
   ]
  },
  {
   "cell_type": "code",
   "execution_count": null,
   "metadata": {},
   "outputs": [],
   "source": []
  },
  {
   "cell_type": "code",
   "execution_count": 69,
   "metadata": {},
   "outputs": [],
   "source": [
    "from sklearn.linear_model import LogisticRegression"
   ]
  },
  {
   "cell_type": "code",
   "execution_count": 74,
   "metadata": {},
   "outputs": [
    {
     "name": "stdout",
     "output_type": "stream",
     "text": [
      "LogRg CSAR Dk_sc\n",
      "LogRg CSAR Dk_lef\n",
      "LogRg DUD Dk_sc\n",
      "LogRg DUD Dk_lef\n",
      "LogRg DEKOIS Dk_sc\n",
      "LogRg DEKOIS Dk_lef\n",
      "CPU times: user 67.5 ms, sys: 5.54 ms, total: 73.1 ms\n",
      "Wall time: 67.9 ms\n"
     ]
    }
   ],
   "source": [
    "%%time\n",
    "ml_model = LogisticRegression\n",
    "model_name = 'LogRg'\n",
    "hyparms = dict(C = 1, penalty = 'l2', solver = 'lbfgs', max_iter = 200)\n",
    "scores_dic = scores_dic\n",
    "list_train_keys = ['CSAR', 'DUD', 'DEKOIS']\n",
    "list_score_types = ['Dk_sc', 'Dk_lef']\n",
    "\n",
    "for train_key in list_train_keys:\n",
    "    for score_type in list_score_types:\n",
    "        rfe_sel_conf = RFE_wrapper(ml_model, model_name, hyparms, \n",
    "                             scores_dic, train_key, score_type,\n",
    "                             n_jobs = 4, cv = 5, scoring = 'roc_auc')\n",
    "        print(model_name, train_key, score_type)"
   ]
  },
  {
   "cell_type": "code",
   "execution_count": null,
   "metadata": {},
   "outputs": [],
   "source": []
  },
  {
   "cell_type": "code",
   "execution_count": 75,
   "metadata": {},
   "outputs": [],
   "source": [
    "from sklearn.tree import DecisionTreeClassifier"
   ]
  },
  {
   "cell_type": "code",
   "execution_count": 76,
   "metadata": {},
   "outputs": [
    {
     "name": "stdout",
     "output_type": "stream",
     "text": [
      "Tree CSAR Dk_sc\n",
      "Tree CSAR Dk_lef\n",
      "Tree DUD Dk_sc\n",
      "Tree DUD Dk_lef\n",
      "Tree DEKOIS Dk_sc\n",
      "Tree DEKOIS Dk_lef\n",
      "CPU times: user 1min 8s, sys: 247 ms, total: 1min 8s\n",
      "Wall time: 3min 23s\n"
     ]
    }
   ],
   "source": [
    "%%time\n",
    "ml_model = DecisionTreeClassifier\n",
    "model_name = 'Tree'\n",
    "hyparms = dict(criterion = 'gini', max_depth = 2)\n",
    "scores_dic = scores_dic\n",
    "list_train_keys = ['CSAR', 'DUD', 'DEKOIS']\n",
    "list_score_types = ['Dk_sc', 'Dk_lef']\n",
    "\n",
    "for train_key in list_train_keys:\n",
    "    for score_type in list_score_types:\n",
    "        rfe_sel_conf = RFE_wrapper(ml_model, model_name, hyparms, \n",
    "                             scores_dic, train_key, score_type,\n",
    "                             n_jobs = 4, cv = 5, scoring = 'roc_auc')\n",
    "        print(model_name, train_key, score_type)"
   ]
  }
 ],
 "metadata": {
  "kernelspec": {
   "display_name": "Python 3",
   "language": "python",
   "name": "python3"
  },
  "language_info": {
   "codemirror_mode": {
    "name": "ipython",
    "version": 3
   },
   "file_extension": ".py",
   "mimetype": "text/x-python",
   "name": "python",
   "nbconvert_exporter": "python",
   "pygments_lexer": "ipython3",
   "version": "3.7.6"
  }
 },
 "nbformat": 4,
 "nbformat_minor": 4
}
