{
 "cells": [
  {
   "cell_type": "markdown",
   "metadata": {},
   "source": [
    "# Improving Ranking From Docking Scores\n",
    "\n",
    "This notebook applies different methodologies to improve the ranking of ligands beyond the scores directly obtained from docking scores.\n",
    "\n",
    "The methods here applied are reviewed by  Arcineaga and Lange (2014).\n",
    "\n",
    "- Ligand Efficiency"
   ]
  },
  {
   "cell_type": "code",
   "execution_count": 2,
   "metadata": {},
   "outputs": [],
   "source": [
    "import pandas as pd\n",
    "import numpy as np\n",
    "import glob, os, sys\n",
    "sys.path.append(r'..')"
   ]
  },
  {
   "cell_type": "markdown",
   "metadata": {},
   "source": [
    "These resultas are considered as 'DockScore', and corresponds to the best ligand ligand score given by the tool employed."
   ]
  },
  {
   "cell_type": "code",
   "execution_count": 5,
   "metadata": {},
   "outputs": [],
   "source": [
    "data_dir = '../data/docking_scores'\n",
    "# Resultados CSAR\n",
    "df_ad4_results_LE = pd.read_csv(F'{data_dir}/vs_docking_crys_ensemble_AD4_LE.csv', index_col=0)\n",
    "df_ad4_results_LC = pd.read_csv(F'{data_dir}/vs_docking_crys_ensemble_AD4_LC.csv', index_col=0)\n",
    "df_vina_results   = pd.read_csv(F'{data_dir}/vs_docking_crys_ensemble_VINA.csv', index_col=0)\n",
    "df_vinardo_results = pd.read_csv(F'{data_dir}/vs_docking_crys_ensemble_VINARDO.csv', index_col=0)\n",
    "\n",
    "# Resultados DUD\n",
    "df_vinardo_DUD = pd.read_csv(F'{data_dir}/vs_docking_DUD2006_vs_402_crys_vinardo_8x.csv', index_col=0)\n",
    "\n",
    "# Resultados DEKOIS2.0\n",
    "df_vinardo_DEKOIS = pd.read_csv(F'{data_dir}/vs_dk_CRYS_402_DEKOIS_VINARDO_docking_score.csv', \n",
    "                                index_col=0)"
   ]
  },
  {
   "cell_type": "markdown",
   "metadata": {},
   "source": [
    "## Ligand Efficiency\n",
    "\n",
    "Herein Ligand Efficiency corresponds to the quotient between the best ligand's score and the number of heavy atoms in the ligand.\n",
    "\n",
    "Because we only need the number  of heavy atoms, we can directly load the molecule using `rdkit`"
   ]
  },
  {
   "cell_type": "code",
   "execution_count": 6,
   "metadata": {},
   "outputs": [],
   "source": [
    "def get_ligand_efficiency(scores_df, n_atoms_df, column_name = 'ActiveInactive'):\n",
    "    # First we need to make sure the index are the same\n",
    "    assert all(scores_df.index == n_atoms_df.index), 'Index are not the same'\n",
    "    assert column_name in scores_df.columns, 'Make sure \"ActiveInactive\" column exists in scores_df'\n",
    "    # Then the division is performed\n",
    "    lef_df = scores_df.drop([column_name], axis = 1).div(n_atoms_df.Num_heavy_atoms, axis = 0)\n",
    "    # Finally we reinsert the ActiveInactive Column at the begining\n",
    "    lef_df.insert(0, column_name, scores_df[column_name])\n",
    "    return lef_df\n",
    "\n",
    "def write_ligand_efficiency_table(scores_df, n_atoms_df, file_name, column_name = 'ActiveInactive'):\n",
    "    df_lef = get_ligand_efficiency(scores_df, n_atoms_df, column_name = column_name)\n",
    "    df_lef.to_csv(file_name)"
   ]
  },
  {
   "cell_type": "code",
   "execution_count": 7,
   "metadata": {},
   "outputs": [
    {
     "name": "stderr",
     "output_type": "stream",
     "text": [
      "RDKit WARNING: [06:45:23] Enabling RDKit 2019.09.1 jupyter extensions\n"
     ]
    }
   ],
   "source": [
    "from rdkit import Chem, RDLogger\n",
    "from rdkit.Chem import rdchem\n",
    "# neccesary to ignore warning realte to molecule kekulization\n",
    "RDLogger.DisableLog('rdApp.*')"
   ]
  },
  {
   "cell_type": "markdown",
   "metadata": {},
   "source": [
    "### Ligand Efficiency of CSAR Results\n",
    "\n",
    "First, we need to get the number of heavy atoms per ligand."
   ]
  },
  {
   "cell_type": "code",
   "execution_count": 176,
   "metadata": {},
   "outputs": [],
   "source": [
    "files_csar_ligs_path = os.path.join(*'../../ARCHIVOS/CRISTALES/LIGS_CDK2/CSAR/sdf/*'.split('/'))\n",
    "files_csar_ligs = glob.glob(files_csar_ligs_path)\n",
    "# alphanumerical ordering\n",
    "files_csar_ligs.sort(key= lambda x: int(x.split('/')[-1].split('.')[0].replace('CS', '')))\n",
    "# We now load each molecule in a dictionary\n",
    "csar_natm_ligs_dic = {\n",
    "    file.split('/')[-1].split('.')[0] : Chem.SDMolSupplier(file, sanitize = False)[0].GetNumHeavyAtoms()\n",
    "    for file in files_csar_ligs\n",
    "}\n",
    "\n",
    "csar_natm_ligs = pd.DataFrame(csar_natm_ligs_dic, index = ['Num_heavy_atoms'])\n",
    "# Now transpose and arder the dataframe\n",
    "csar_natm_ligs = csar_natm_ligs.T"
   ]
  },
  {
   "cell_type": "markdown",
   "metadata": {},
   "source": [
    "#### Saving the score tables"
   ]
  },
  {
   "cell_type": "code",
   "execution_count": 177,
   "metadata": {},
   "outputs": [],
   "source": [
    "database = 'CSAR'\n",
    "ensemble = 'CRYS_402'\n",
    "docking_tools_dic = {'AD4_LE': df_ad4_results_LE, 'AD4_LC': df_ad4_results_LC, \n",
    "                     'VINA': df_vina_results, 'VINARDO': df_vinardo_results}\n",
    "\n",
    "for tool, scores in docking_tools_dic.items():\n",
    "    filename = F'{data_dir}/docking_scores/vs_dk_{ensemble}_{database}_{tool}_ligand_Efficiency.csv'\n",
    "    write_ligand_efficiency_table(scores_df = scores, \n",
    "                                  n_atoms_df = csar_natm_ligs, file_name = filename)"
   ]
  },
  {
   "cell_type": "markdown",
   "metadata": {},
   "source": [
    "### Ligand Efficiency of DUD Results\n",
    "\n",
    "First, we need to get the number of heavy atoms per ligand."
   ]
  },
  {
   "cell_type": "code",
   "execution_count": 178,
   "metadata": {},
   "outputs": [],
   "source": [
    "files_dud_ligs_path = os.path.join(*'../../ARCHIVOS/CRISTALES/LIGS_CDK2/DUDE_DECOYS/DUD_2006/sdf/*'.split('/'))\n",
    "files_dud_ligs = glob.glob(files_dud_ligs_path)\n",
    "# alphanumerical ordering\n",
    "# First we need to separate the actives from inactives and then perform the ordering in each set\n",
    "actives_dud = [i for i in filter(lambda x: 'ligand' in x.split('/')[-1].split('_')[0], \n",
    "                                 files_dud_ligs)]\n",
    "actives_dud_ord = sorted(actives_dud, key = lambda x: int(x.split('_')[-1].split('.')[0]))\n",
    "\n",
    "decoys_dud = [i for i in filter(lambda x: 'decoy' in x.split('/')[-1].split('_')[0], \n",
    "                                 files_dud_ligs)]\n",
    "decoys_dud_ord = sorted(decoys_dud, key = lambda x: int(x.split('_')[-1].split('.')[0]))\n",
    "\n",
    "# Now we merge both list\n",
    "files_dud_ligs = actives_dud_ord + decoys_dud_ord"
   ]
  },
  {
   "cell_type": "code",
   "execution_count": 179,
   "metadata": {},
   "outputs": [],
   "source": [
    "# We now load each molecule in a dictionary\n",
    "dud_natm_ligs_dic = {\n",
    "    file.split('/')[-1].split('.')[0] : Chem.SDMolSupplier(file, sanitize = False)[0].GetNumHeavyAtoms()\n",
    "    for file in files_dud_ligs\n",
    "}\n",
    "\n",
    "dud_natm_ligs = pd.DataFrame(dud_natm_ligs_dic, index = ['Num_heavy_atoms'])\n",
    "# Now transpose and arder the dataframe\n",
    "dud_natm_ligs = (dud_natm_ligs.T)"
   ]
  },
  {
   "cell_type": "markdown",
   "metadata": {},
   "source": [
    "#### Saving the score tables"
   ]
  },
  {
   "cell_type": "code",
   "execution_count": 180,
   "metadata": {},
   "outputs": [],
   "source": [
    "database = 'DUD2006'\n",
    "ensemble = 'CRYS_402'\n",
    "docking_tools_dic = {'VINARDO': df_vinardo_DUD}\n",
    "\n",
    "for tool, scores in docking_tools_dic.items():\n",
    "    filename = F'{data_dir}/docking_scores/vs_dk_{ensemble}_{database}_{tool}_ligand_Efficiency.csv'\n",
    "    write_ligand_efficiency_table(scores_df = scores, n_atoms_df = dud_natm_ligs, \n",
    "                                  file_name = filename, column_name= 'Actividad')"
   ]
  },
  {
   "cell_type": "markdown",
   "metadata": {},
   "source": [
    "### Ligand Efficiency of DEKOIS Results\n",
    "\n",
    "First, we need to get the number of heavy atoms per ligand."
   ]
  },
  {
   "cell_type": "code",
   "execution_count": 8,
   "metadata": {},
   "outputs": [],
   "source": [
    "files_dekois_ligs_path = os.path.join(*'../../ARCHIVOS/CRISTALES/LIGS_CDK2/DEKOIS_2/sdf/*'.split('/'))\n",
    "files_dekois_ligs = glob.glob(files_dekois_ligs_path)\n",
    "files_dekois_ligs\n",
    "\n",
    "# alphanumerical ordering\n",
    "# First we need to separate the actives from inactives and then perform the ordering in each set\n",
    "actives_dekois = [i for i in filter(lambda x: 'ligand' in x.split('/')[-1].split('_')[0], \n",
    "                                 files_dekois_ligs)]\n",
    "actives_dekois_ord = sorted(actives_dekois, key = lambda x: int(x.split('_')[-1].split('.')[0]))\n",
    "\n",
    "decoys_dekois = [i for i in filter(lambda x: 'decoy' in x.split('/')[-1].split('_')[0], \n",
    "                                 files_dekois_ligs)]\n",
    "decoys_dekois_ord = sorted(decoys_dekois, key = lambda x: int(x.split('_')[-1].split('.')[0]))\n",
    "\n",
    "# Now we merge both list\n",
    "files_dekois_ligs = actives_dekois_ord + decoys_dekois_ord"
   ]
  },
  {
   "cell_type": "code",
   "execution_count": 9,
   "metadata": {},
   "outputs": [],
   "source": [
    "# We now load each molecule in a dictionary\n",
    "dekois_natm_ligs_dic = {\n",
    "    file.split('/')[-1].split('.')[0] : Chem.SDMolSupplier(file, sanitize = False)[0].GetNumHeavyAtoms()\n",
    "    for file in files_dekois_ligs\n",
    "}\n",
    "\n",
    "dekois_natm_ligs = pd.DataFrame(dekois_natm_ligs_dic, index = ['Num_heavy_atoms'])\n",
    "# Now transpose and arder the dataframe\n",
    "dekois_natm_ligs = (dekois_natm_ligs.T)"
   ]
  },
  {
   "cell_type": "code",
   "execution_count": null,
   "metadata": {},
   "outputs": [],
   "source": []
  },
  {
   "cell_type": "code",
   "execution_count": 12,
   "metadata": {},
   "outputs": [],
   "source": [
    "database = 'DEKOIS2'\n",
    "ensemble = 'CRYS_402'\n",
    "docking_tools_dic = {'VINARDO': df_vinardo_DEKOIS}\n",
    "\n",
    "for tool, scores in docking_tools_dic.items():\n",
    "    filename = F'{data_dir}/vs_dk_{ensemble}_{database}_{tool}_ligand_Efficiency.csv'\n",
    "    write_ligand_efficiency_table(scores_df = scores, n_atoms_df = dekois_natm_ligs, \n",
    "                                  file_name = filename, column_name= 'Actividad')"
   ]
  },
  {
   "cell_type": "code",
   "execution_count": null,
   "metadata": {},
   "outputs": [],
   "source": []
  },
  {
   "cell_type": "markdown",
   "metadata": {},
   "source": [
    "## Binding Efficiency Index (BEI)"
   ]
  },
  {
   "cell_type": "code",
   "execution_count": 5,
   "metadata": {},
   "outputs": [],
   "source": [
    "files_csar_ligs_path = os.path.join(*'../../ARCHIVOS/CRISTALES/LIGS_CDK2/CSAR/sdf/*'.split('/'))\n",
    "files_csar_ligs = glob.glob(files_csar_ligs_path)\n",
    "# alphanumerical ordering\n",
    "files_csar_ligs.sort(key= lambda x: int(x.split('/')[-1].split('.')[0].replace('CS', '')))\n",
    "# We now load each molecule in a dictionary\n",
    "csar_mw_ligs_dic = {\n",
    "    file.split('/')[-1].split('.')[0] : Chem.SDMolSupplier(file, sanitize = False)[0].MolWt()\n",
    "    for file in files_csar_ligs\n",
    "}\n",
    "\n",
    "csar_mw_ligs = pd.DataFrame(csar_mw_ligs_dic, index = ['Mol_Weight'])\n",
    "# Now transpose and arder the dataframe\n",
    "csar_mw_ligs = csar_mw_ligs.T"
   ]
  },
  {
   "cell_type": "code",
   "execution_count": 6,
   "metadata": {},
   "outputs": [
    {
     "data": {
      "text/html": [
       "<div>\n",
       "<style scoped>\n",
       "    .dataframe tbody tr th:only-of-type {\n",
       "        vertical-align: middle;\n",
       "    }\n",
       "\n",
       "    .dataframe tbody tr th {\n",
       "        vertical-align: top;\n",
       "    }\n",
       "\n",
       "    .dataframe thead th {\n",
       "        text-align: right;\n",
       "    }\n",
       "</style>\n",
       "<table border=\"1\" class=\"dataframe\">\n",
       "  <thead>\n",
       "    <tr style=\"text-align: right;\">\n",
       "      <th></th>\n",
       "      <th>Mol_Weight</th>\n",
       "    </tr>\n",
       "  </thead>\n",
       "  <tbody>\n",
       "  </tbody>\n",
       "</table>\n",
       "</div>"
      ],
      "text/plain": [
       "Empty DataFrame\n",
       "Columns: [Mol_Weight]\n",
       "Index: []"
      ]
     },
     "execution_count": 6,
     "metadata": {},
     "output_type": "execute_result"
    }
   ],
   "source": [
    "csar_mw_ligs"
   ]
  },
  {
   "cell_type": "code",
   "execution_count": null,
   "metadata": {},
   "outputs": [],
   "source": [
    "database = 'CSAR'\n",
    "ensemble = 'CRYS_402'\n",
    "docking_tools_dic = {'AD4_LE': df_ad4_results_LE, 'AD4_LC': df_ad4_results_LC, \n",
    "                     'VINA': df_vina_results, 'VINARDO': df_vinardo_results}\n",
    "\n",
    "for tool, scores in docking_tools_dic.items():\n",
    "    filename = F'{data_dir}/docking_scores/vs_dk_{ensemble}_{database}_{tool}_ligand_Efficiency.csv'\n",
    "    write_ligand_efficiency_table(scores_df = scores, \n",
    "                                  n_atoms_df = csar_natm_ligs, file_name = filename)"
   ]
  }
 ],
 "metadata": {
  "kernelspec": {
   "display_name": "Python 3",
   "language": "python",
   "name": "python3"
  },
  "language_info": {
   "codemirror_mode": {
    "name": "ipython",
    "version": 3
   },
   "file_extension": ".py",
   "mimetype": "text/x-python",
   "name": "python",
   "nbconvert_exporter": "python",
   "pygments_lexer": "ipython3",
   "version": "3.7.6"
  }
 },
 "nbformat": 4,
 "nbformat_minor": 2
}
