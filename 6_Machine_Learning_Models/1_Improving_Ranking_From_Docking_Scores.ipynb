{
 "cells": [
  {
   "cell_type": "markdown",
   "metadata": {},
   "source": [
    "This notebook applies different methodologies to improve the ranking of ligands beyond the scores directly obtained from docking scores.\n",
    "\n",
    "The methods here applied are reviewed by  Arcineaga and Lange (2014).\n",
    "\n",
    "- Ligand Efficiency\n",
    "- Ranking Positions"
   ]
  },
  {
   "cell_type": "code",
   "execution_count": 2,
   "metadata": {},
   "outputs": [],
   "source": [
    "import pandas as pd\n",
    "import numpy as np\n",
    "import glob, os, sys\n",
    "sys.path.append(r'..')"
   ]
  },
  {
   "cell_type": "markdown",
   "metadata": {},
   "source": [
    "These resultas are considered as 'DockScore', and corresponds to the best ligand ligand score given by the tool employed."
   ]
  },
  {
   "cell_type": "code",
   "execution_count": 3,
   "metadata": {},
   "outputs": [],
   "source": [
    "data_dir = '../data'\n",
    "# Resultados CSAR\n",
    "df_ad4_results_LE = pd.read_csv(F'{data_dir}/vs_docking_crys_ensemble_AD4_LE.csv', index_col=0)\n",
    "df_ad4_results_LC = pd.read_csv(F'{data_dir}/vs_docking_crys_ensemble_AD4_LC.csv', index_col=0)\n",
    "df_vina_results   = pd.read_csv(F'{data_dir}/vs_docking_crys_ensemble_VINA.csv', index_col=0)\n",
    "df_vinardo_results = pd.read_csv(F'{data_dir}/vs_docking_crys_ensemble_VINARDO.csv', index_col=0)\n",
    "# Resultados DUD\n",
    "patho_to_json_vrd8_file = glob.glob((os.path.join('..', 'data', \n",
    "                       'vs_docking_DUD2006_vs_402_crys_vinardo_8x.csv')))[0]\n",
    "df_vinardo_DUD = pd.read_csv(patho_to_json_vrd8_file, index_col=0)"
   ]
  },
  {
   "cell_type": "markdown",
   "metadata": {},
   "source": [
    "## Ligand Efficiency\n",
    "\n",
    "Herein Ligand Efficiency corresponds to the quotient between the best ligand's score and the number of heavy atoms in the ligand.\n",
    "\n",
    "Because we only need the number  of heavy atoms, we can directly load the molecule using `rdkit`"
   ]
  },
  {
   "cell_type": "code",
   "execution_count": 120,
   "metadata": {},
   "outputs": [],
   "source": [
    "def get_ligand_efficiency(scores_df, n_atoms_df):\n",
    "    # First we need to make sure the index are the same\n",
    "    assert all(scores_df.index == n_atoms_df.index), 'Index are not the same'\n",
    "    assert 'ActiveInactive' in scores_df.columns, 'Make sure \"ActiveInactive\" column exists in scores_df'\n",
    "    # Then the division is performed\n",
    "    lef_df = scores_df.drop(['ActiveInactive'], axis = 1).div(n_atoms_df.Num_heavy_atoms, axis = 0)\n",
    "    # Finally we reinsert the ActiveInactive Column at the begining\n",
    "    lef_df.insert(0, 'ActiveInactive', scores_df['ActiveInactive'])\n",
    "    return lef_df\n",
    "\n",
    "def "
   ]
  },
  {
   "cell_type": "code",
   "execution_count": null,
   "metadata": {},
   "outputs": [],
   "source": []
  },
  {
   "cell_type": "code",
   "execution_count": 27,
   "metadata": {},
   "outputs": [],
   "source": [
    "from rdkit import Chem, RDLogger\n",
    "from rdkit.Chem import rdchem\n",
    "# neccesary to ignore warning realte to molecule kekulization\n",
    "RDLogger.DisableLog('rdApp.*')"
   ]
  },
  {
   "cell_type": "code",
   "execution_count": 67,
   "metadata": {},
   "outputs": [],
   "source": [
    "files_csar_ligs_path = os.path.join(*'../../ARCHIVOS/CRISTALES/LIGS_CDK2/CSAR/sdf/*'.split('/'))\n",
    "files_csar_ligs = glob.glob(files_csar_ligs_path)\n",
    "# alphanumerical ordering\n",
    "files_csar_ligs.sort(key= lambda x: int(x.split('/')[-1].split('.')[0].replace('CS', '')))\n",
    "# We now load each molecule in a dictionary\n",
    "csar_natm_ligs_dic = {\n",
    "    file.split('/')[-1].split('.')[0] : Chem.SDMolSupplier(file, sanitize = False)[0].GetNumHeavyAtoms()\n",
    "    for file in files_csar_ligs\n",
    "}"
   ]
  },
  {
   "cell_type": "code",
   "execution_count": 69,
   "metadata": {},
   "outputs": [],
   "source": [
    "nAtoms_csar_ligs = pd.DataFrame(csar_natm_ligs_dic, index = ['Num_heavy_atoms'])\n",
    "# Now transpose and arder the dataframe\n",
    "nAtoms_csar_ligs = (nAtoms_csar_ligs.T)"
   ]
  },
  {
   "cell_type": "code",
   "execution_count": null,
   "metadata": {},
   "outputs": [],
   "source": []
  },
  {
   "cell_type": "code",
   "execution_count": 111,
   "metadata": {},
   "outputs": [],
   "source": [
    "# Now we divide each ligand's score between the number of heavy atoms:\n"
   ]
  },
  {
   "cell_type": "code",
   "execution_count": null,
   "metadata": {},
   "outputs": [],
   "source": []
  },
  {
   "cell_type": "code",
   "execution_count": null,
   "metadata": {},
   "outputs": [],
   "source": []
  },
  {
   "cell_type": "code",
   "execution_count": null,
   "metadata": {},
   "outputs": [],
   "source": []
  }
 ],
 "metadata": {
  "kernelspec": {
   "display_name": "Python 3",
   "language": "python",
   "name": "python3"
  },
  "language_info": {
   "codemirror_mode": {
    "name": "ipython",
    "version": 3
   },
   "file_extension": ".py",
   "mimetype": "text/x-python",
   "name": "python",
   "nbconvert_exporter": "python",
   "pygments_lexer": "ipython3",
   "version": "3.7.4"
  }
 },
 "nbformat": 4,
 "nbformat_minor": 2
}
