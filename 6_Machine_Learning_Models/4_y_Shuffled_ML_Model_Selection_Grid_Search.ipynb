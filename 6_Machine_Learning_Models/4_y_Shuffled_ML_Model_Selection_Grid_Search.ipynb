{
 "cells": [
  {
   "cell_type": "markdown",
   "metadata": {},
   "source": [
    "# CDK2: Model Selection - y values shuffled\n",
    "### Validation Method"
   ]
  },
  {
   "cell_type": "code",
   "execution_count": 3,
   "metadata": {},
   "outputs": [],
   "source": [
    "import pandas as pd\n",
    "import numpy as np\n",
    "import glob, sys, os\n",
    "sys.path.append('..')"
   ]
  },
  {
   "cell_type": "code",
   "execution_count": 4,
   "metadata": {},
   "outputs": [],
   "source": [
    "from modules.plotting_metrics import PlotMetric\n",
    "import matplotlib.pyplot as plt\n",
    "import seaborn as sns\n",
    "sns.set(style='white', context='talk', font_scale=0.8)"
   ]
  },
  {
   "cell_type": "code",
   "execution_count": 5,
   "metadata": {
    "scrolled": true
   },
   "outputs": [
    {
     "data": {
      "text/plain": [
       "(3466, 402)"
      ]
     },
     "execution_count": 5,
     "metadata": {},
     "output_type": "execute_result"
    }
   ],
   "source": [
    "file_name = './df_DkSc_results_COCRYS_CSAR_DEKOIS_DUD.pkl' # Created in 3_Calculating metrics...\n",
    "X_merged_dksc = pd.read_pickle(file_name)\n",
    "# Extract activity column\n",
    "y_true_merged = X_merged_dksc['activity']\n",
    "# Drop column from merged_dkksc\n",
    "X_merged_dksc = X_merged_dksc.drop('activity', axis=1)\n",
    "X_merged_dksc.shape\n"
   ]
  },
  {
   "cell_type": "markdown",
   "metadata": {},
   "source": [
    "## Scaffold Splitting"
   ]
  },
  {
   "cell_type": "code",
   "execution_count": 6,
   "metadata": {},
   "outputs": [],
   "source": [
    "#*************************************************\n",
    "# Functions to compute stratify scaffold splitting\n",
    "#*************************************************\n",
    "sys.path.append('../2_Docking_analysis/')\n",
    "from scaffold_splitter import train_test_scaffold_split"
   ]
  },
  {
   "cell_type": "code",
   "execution_count": 7,
   "metadata": {},
   "outputs": [
    {
     "data": {
      "text/plain": [
       "(3466, 3)"
      ]
     },
     "execution_count": 7,
     "metadata": {},
     "output_type": "execute_result"
    }
   ],
   "source": [
    "# Compute or load the dataframe containing the Generic Murcko Scaffolds\n",
    "file = '../2_Docking_analysis/df_COCRYS_CSAR_DUD_DEKOIS_Murcko_Scaffolds_SMILES.obj'\n",
    "\n",
    "df_scff_murcko = pd.read_pickle(file)\n",
    "df_scff_murcko.shape"
   ]
  },
  {
   "cell_type": "code",
   "execution_count": 8,
   "metadata": {},
   "outputs": [],
   "source": [
    "%run 4_Helper_Functions_Model_Selection_Grid_Search.ipynb"
   ]
  },
  {
   "cell_type": "markdown",
   "metadata": {},
   "source": [
    "#  Hyperparameter Tunning: Grid Search"
   ]
  },
  {
   "cell_type": "code",
   "execution_count": 125,
   "metadata": {},
   "outputs": [],
   "source": [
    "def randomize_y_labels(y_target, random_chi=0.1):\n",
    "    '''Función para distribuir de forma aleatoria una fracción \n",
    "    chi del vector de etiquetas, de forma estratificada'''\n",
    "    \n",
    "    # Make a copy of the original vector\n",
    "    y_copy = y.copy()\n",
    "    \n",
    "    # Get the number of actives inside the y_target vector\n",
    "    n_actives = y_target.sum()\n",
    "    random_size = np.floor(random_chi * n_actives)\n",
    "    # Initialize the counters\n",
    "    act_count = random_size\n",
    "    inact_count = random_size\n",
    "    \n",
    "    # Create the randomized list of idexes\n",
    "    idx_shuffled = np.random.choice(range(len(y)), len(y), replace=False)\n",
    "    # iterate over idx_shuffled until act and inact counters == 0\n",
    "    for l in idx_shuffled:\n",
    "        if act_count > 0:\n",
    "            if y_copy[l] == 1: # Is active, then change it to inactive\n",
    "                y_copy[l] = 0\n",
    "                act_count = act_count - 1\n",
    "                continue\n",
    "            if inact_count > 0: # If is inactive, change it to active\n",
    "                y_copy[l] = 1\n",
    "                inact_count = inact_count - 1\n",
    "                continue\n",
    "        else:\n",
    "            break\n",
    "    return(y_copy)\n",
    "    "
   ]
  },
  {
   "cell_type": "code",
   "execution_count": 120,
   "metadata": {},
   "outputs": [
    {
     "name": "stdout",
     "output_type": "stream",
     "text": [
      "0.0\n",
      "41.0\n",
      "415\n",
      "0\n",
      "-82\n",
      "415\n",
      "415\n"
     ]
    }
   ],
   "source": [
    "y1 = randomize_y_labels(y, 0)\n",
    "y01 = randomize_y_labels(y, 0.1)\n",
    "print(y.sum())\n",
    "print(sum(y1 == y) - len(y))\n",
    "print(sum(y01 == y) - len(y))\n",
    "print(sum(y1))\n",
    "print(sum(y01))"
   ]
  },
  {
   "cell_type": "markdown",
   "metadata": {},
   "source": [
    "***\n",
    "<h2 style='background-color: #F9E5AB; padding: 5px;'>\n",
    "    Merged libraries: Shuffle *y* target values in the train set\n",
    "</h2>\n",
    "<div style='background-color: #FE8460; min-height: 5px'></div>\n",
    "\n",
    "#### DEKOIS, DUD and COCRYS are  treated as one unique library\n",
    "#### Target values (y) will be shuffled"
   ]
  },
  {
   "cell_type": "code",
   "execution_count": 34,
   "metadata": {},
   "outputs": [],
   "source": [
    "# Train and test over \n",
    "X = X_merged_dksc\n",
    "# ***** Permutate y values *****\n",
    "y = y_true_merged#.sample(frac=1, replace=False)\n",
    "\n",
    "library = 'Merged'\n",
    "scaffold_series = df_scff_murcko['scff_generic']"
   ]
  },
  {
   "cell_type": "markdown",
   "metadata": {},
   "source": [
    "<h3 style='color: #F84122; padding: 0px;; margin: 0px'>GS: Logistic Regression</h3>\n",
    "<b>Merged Libraries</b>"
   ]
  },
  {
   "cell_type": "code",
   "execution_count": 126,
   "metadata": {
    "cell_style": "split",
    "scrolled": false
   },
   "outputs": [
    {
     "name": "stdout",
     "output_type": "stream",
     "text": [
      "************************************************************ \n",
      " Randomized y fraction (actives): 0\n",
      "Number of actives/inactives shuffled: 0\n",
      "************************************************************\n",
      "LogReg => Train: Merged; Test: Merged; split: random\n",
      "No. of molecules in train set: 2599, with 311 actives.\n",
      "No. of molecules in test set: 867, with 104 actives.\n",
      "\n",
      "********** GRID SEARCH RESULTS **********\n",
      "- Mean CV ROC-AUC:\t0.887\n",
      "- Train ROC-AUC:  \t0.938\n",
      "- Test ROC-AUC:   \t0.892\n",
      "- Best hyperparameters {'C': 0.01, 'penalty': 'l2', 'solver': 'lbfgs'}\n",
      "******************************************\n",
      "\n",
      "***** Best Conformation's ROC-AUC using docking scores *****\n",
      "> Train best conf. ROC-AUC: 0.672 \t> median: 0.615, mean: 0.609\n",
      "> Test best conf. ROC-AUC: 0.669 \t> median: 0.612, mean: 0.608\n",
      "****************************************************************\n",
      "\n",
      "\n",
      "************************************************************ \n",
      " Randomized y fraction (actives): 0.1\n",
      "Number of actives/inactives shuffled: 41.5\n",
      "************************************************************\n",
      "LogReg => Train: Merged; Test: Merged; split: random\n"
     ]
    },
    {
     "name": "stderr",
     "output_type": "stream",
     "text": [
      "/home/ricci/miniconda3/envs/mds/lib/python3.7/site-packages/sklearn/linear_model/_logistic.py:764: ConvergenceWarning: lbfgs failed to converge (status=1):\n",
      "STOP: TOTAL NO. of ITERATIONS REACHED LIMIT.\n",
      "\n",
      "Increase the number of iterations (max_iter) or scale the data as shown in:\n",
      "    https://scikit-learn.org/stable/modules/preprocessing.html\n",
      "Please also refer to the documentation for alternative solver options:\n",
      "    https://scikit-learn.org/stable/modules/linear_model.html#logistic-regression\n",
      "  extra_warning_msg=_LOGISTIC_SOLVER_CONVERGENCE_MSG)\n"
     ]
    },
    {
     "name": "stdout",
     "output_type": "stream",
     "text": [
      "No. of molecules in train set: 2599, with 311 actives.\n",
      "No. of molecules in test set: 867, with 104 actives.\n",
      "\n",
      "********** GRID SEARCH RESULTS **********\n",
      "- Mean CV ROC-AUC:\t0.833\n",
      "- Train ROC-AUC:  \t0.899\n",
      "- Test ROC-AUC:   \t0.848\n",
      "- Best hyperparameters {'C': 0.01, 'penalty': 'l2', 'solver': 'lbfgs'}\n",
      "******************************************\n",
      "\n",
      "***** Best Conformation's ROC-AUC using docking scores *****\n",
      "> Train best conf. ROC-AUC: 0.665 \t> median: 0.610, mean: 0.604\n",
      "> Test best conf. ROC-AUC: 0.624 \t> median: 0.552, mean: 0.550\n",
      "****************************************************************\n",
      "\n",
      "\n",
      "************************************************************ \n",
      " Randomized y fraction (actives): 0.2\n",
      "Number of actives/inactives shuffled: 83.0\n",
      "************************************************************\n",
      "LogReg => Train: Merged; Test: Merged; split: random\n",
      "No. of molecules in train set: 2599, with 311 actives.\n",
      "No. of molecules in test set: 867, with 104 actives.\n",
      "\n",
      "********** GRID SEARCH RESULTS **********\n",
      "- Mean CV ROC-AUC:\t0.800\n",
      "- Train ROC-AUC:  \t0.879\n",
      "- Test ROC-AUC:   \t0.790\n",
      "- Best hyperparameters {'C': 0.01, 'penalty': 'l2', 'solver': 'lbfgs'}\n",
      "******************************************\n",
      "\n",
      "***** Best Conformation's ROC-AUC using docking scores *****\n",
      "> Train best conf. ROC-AUC: 0.635 \t> median: 0.585, mean: 0.582\n",
      "> Test best conf. ROC-AUC: 0.673 \t> median: 0.611, mean: 0.609\n",
      "****************************************************************\n",
      "\n",
      "\n",
      "************************************************************ \n",
      " Randomized y fraction (actives): 0.3\n",
      "Number of actives/inactives shuffled: 124.5\n",
      "************************************************************\n",
      "LogReg => Train: Merged; Test: Merged; split: random\n",
      "No. of molecules in train set: 2599, with 311 actives.\n",
      "No. of molecules in test set: 867, with 104 actives.\n",
      "\n",
      "********** GRID SEARCH RESULTS **********\n",
      "- Mean CV ROC-AUC:\t0.752\n",
      "- Train ROC-AUC:  \t0.855\n",
      "- Test ROC-AUC:   \t0.680\n",
      "- Best hyperparameters {'C': 0.01, 'penalty': 'l2', 'solver': 'lbfgs'}\n",
      "******************************************\n",
      "\n",
      "***** Best Conformation's ROC-AUC using docking scores *****\n",
      "> Train best conf. ROC-AUC: 0.611 \t> median: 0.569, mean: 0.567\n",
      "> Test best conf. ROC-AUC: 0.672 \t> median: 0.628, mean: 0.627\n",
      "****************************************************************\n",
      "\n",
      "\n",
      "************************************************************ \n",
      " Randomized y fraction (actives): 0.4\n",
      "Number of actives/inactives shuffled: 166.0\n",
      "************************************************************\n",
      "LogReg => Train: Merged; Test: Merged; split: random\n"
     ]
    },
    {
     "name": "stderr",
     "output_type": "stream",
     "text": [
      "/home/ricci/miniconda3/envs/mds/lib/python3.7/site-packages/sklearn/linear_model/_logistic.py:764: ConvergenceWarning: lbfgs failed to converge (status=1):\n",
      "STOP: TOTAL NO. of ITERATIONS REACHED LIMIT.\n",
      "\n",
      "Increase the number of iterations (max_iter) or scale the data as shown in:\n",
      "    https://scikit-learn.org/stable/modules/preprocessing.html\n",
      "Please also refer to the documentation for alternative solver options:\n",
      "    https://scikit-learn.org/stable/modules/linear_model.html#logistic-regression\n",
      "  extra_warning_msg=_LOGISTIC_SOLVER_CONVERGENCE_MSG)\n"
     ]
    },
    {
     "name": "stdout",
     "output_type": "stream",
     "text": [
      "No. of molecules in train set: 2599, with 311 actives.\n",
      "No. of molecules in test set: 867, with 104 actives.\n",
      "\n",
      "********** GRID SEARCH RESULTS **********\n",
      "- Mean CV ROC-AUC:\t0.684\n",
      "- Train ROC-AUC:  \t0.837\n",
      "- Test ROC-AUC:   \t0.727\n",
      "- Best hyperparameters {'C': 0.01, 'penalty': 'l2', 'solver': 'lbfgs'}\n",
      "******************************************\n",
      "\n",
      "***** Best Conformation's ROC-AUC using docking scores *****\n",
      "> Train best conf. ROC-AUC: 0.612 \t> median: 0.571, mean: 0.569\n",
      "> Test best conf. ROC-AUC: 0.652 \t> median: 0.603, mean: 0.601\n",
      "****************************************************************\n",
      "\n",
      "\n",
      "************************************************************ \n",
      " Randomized y fraction (actives): 0.5\n",
      "Number of actives/inactives shuffled: 207.5\n",
      "************************************************************\n",
      "LogReg => Train: Merged; Test: Merged; split: random\n",
      "No. of molecules in train set: 2599, with 311 actives.\n",
      "No. of molecules in test set: 867, with 104 actives.\n",
      "\n",
      "********** GRID SEARCH RESULTS **********\n",
      "- Mean CV ROC-AUC:\t0.654\n",
      "- Train ROC-AUC:  \t0.814\n",
      "- Test ROC-AUC:   \t0.618\n",
      "- Best hyperparameters {'C': 0.01, 'penalty': 'l2', 'solver': 'lbfgs'}\n",
      "******************************************\n",
      "\n",
      "***** Best Conformation's ROC-AUC using docking scores *****\n",
      "> Train best conf. ROC-AUC: 0.553 \t> median: 0.516, mean: 0.515\n",
      "> Test best conf. ROC-AUC: 0.563 \t> median: 0.509, mean: 0.507\n",
      "****************************************************************\n",
      "\n",
      "\n",
      "************************************************************ \n",
      " Randomized y fraction (actives): 1\n",
      "Number of actives/inactives shuffled: 415\n",
      "************************************************************\n",
      "LogReg => Train: Merged; Test: Merged; split: random\n"
     ]
    },
    {
     "name": "stderr",
     "output_type": "stream",
     "text": [
      "/home/ricci/miniconda3/envs/mds/lib/python3.7/site-packages/sklearn/linear_model/_logistic.py:764: ConvergenceWarning: lbfgs failed to converge (status=1):\n",
      "STOP: TOTAL NO. of ITERATIONS REACHED LIMIT.\n",
      "\n",
      "Increase the number of iterations (max_iter) or scale the data as shown in:\n",
      "    https://scikit-learn.org/stable/modules/preprocessing.html\n",
      "Please also refer to the documentation for alternative solver options:\n",
      "    https://scikit-learn.org/stable/modules/linear_model.html#logistic-regression\n",
      "  extra_warning_msg=_LOGISTIC_SOLVER_CONVERGENCE_MSG)\n"
     ]
    },
    {
     "name": "stdout",
     "output_type": "stream",
     "text": [
      "No. of molecules in train set: 2599, with 311 actives.\n",
      "No. of molecules in test set: 867, with 104 actives.\n",
      "\n",
      "********** GRID SEARCH RESULTS **********\n",
      "- Mean CV ROC-AUC:\t0.520\n",
      "- Train ROC-AUC:  \t0.847\n",
      "- Test ROC-AUC:   \t0.475\n",
      "- Best hyperparameters {'C': 100.0, 'penalty': 'l2', 'solver': 'lbfgs'}\n",
      "******************************************\n",
      "\n",
      "***** Best Conformation's ROC-AUC using docking scores *****\n",
      "> Train best conf. ROC-AUC: 0.512 \t> median: 0.483, mean: 0.483\n",
      "> Test best conf. ROC-AUC: 0.550 \t> median: 0.503, mean: 0.502\n",
      "****************************************************************\n",
      "\n",
      "\n",
      "CPU times: user 46.1 s, sys: 18 s, total: 1min 4s\n",
      "Wall time: 11min 42s\n"
     ]
    }
   ],
   "source": [
    "%%time\n",
    "from sklearn.linear_model import LogisticRegression\n",
    "\n",
    "chi_values = [0, 0.1, 0.2, 0.3, 0.4, 0.5, 1]\n",
    "\n",
    "for chi in chi_values:\n",
    "    y_rd = randomize_y_labels(y, chi)\n",
    "    \n",
    "    print('*'*60, '\\n', 'Randomized y fraction (actives):', chi)\n",
    "    print('Number of actives/inactives shuffled:', chi*y.sum())\n",
    "    print('*'*60)\n",
    "\n",
    "    estimator_name = 'LogReg'\n",
    "    estimator = LogisticRegression(max_iter=300)\n",
    "    hyperparams = {'C':  np.geomspace(1e-8, 1e2, 6),\n",
    "                   'penalty': ['l1', 'l2'], \n",
    "                   'solver': ['lbfgs', 'liblinear']}\n",
    "\n",
    "    # RANDOM Train test splitting\n",
    "    split_and_gs(library, library, estimator_name,\n",
    "                 X, y_rd, estimator, hyperparams,\n",
    "                 splitting='random', test_size=0.25, \n",
    "                 scaffold_series=None)\n",
    "    \n",
    "    print('\\n')"
   ]
  },
  {
   "cell_type": "code",
   "execution_count": 127,
   "metadata": {
    "cell_style": "split",
    "scrolled": false
   },
   "outputs": [
    {
     "name": "stdout",
     "output_type": "stream",
     "text": [
      "************************************************************ \n",
      " Randomized y fraction (actives): 0\n",
      "Number of actives/inactives shuffled: 0\n",
      "************************************************************\n",
      "LogReg => Train: Merged; Test: Merged; split: scaffold\n",
      "No. of molecules in train set: 2599, with 311 actives.\n",
      "No. of molecules in test set: 867, with 104 actives.\n",
      "\n",
      "********** GRID SEARCH RESULTS **********\n",
      "- Mean CV ROC-AUC:\t0.857\n",
      "- Train ROC-AUC:  \t0.949\n",
      "- Test ROC-AUC:   \t0.821\n",
      "- Best hyperparameters {'C': 0.01, 'penalty': 'l2', 'solver': 'lbfgs'}\n",
      "******************************************\n",
      "\n",
      "***** Best Conformation's ROC-AUC using docking scores *****\n",
      "> Train best conf. ROC-AUC: 0.654 \t> median: 0.602, mean: 0.596\n",
      "> Test best conf. ROC-AUC: 0.746 \t> median: 0.642, mean: 0.640\n",
      "****************************************************************\n",
      "************************************************************ \n",
      " Randomized y fraction (actives): 0.1\n",
      "Number of actives/inactives shuffled: 41.5\n",
      "************************************************************\n",
      "LogReg => Train: Merged; Test: Merged; split: scaffold\n"
     ]
    },
    {
     "name": "stderr",
     "output_type": "stream",
     "text": [
      "/home/ricci/miniconda3/envs/mds/lib/python3.7/site-packages/sklearn/linear_model/_logistic.py:764: ConvergenceWarning: lbfgs failed to converge (status=1):\n",
      "STOP: TOTAL NO. of ITERATIONS REACHED LIMIT.\n",
      "\n",
      "Increase the number of iterations (max_iter) or scale the data as shown in:\n",
      "    https://scikit-learn.org/stable/modules/preprocessing.html\n",
      "Please also refer to the documentation for alternative solver options:\n",
      "    https://scikit-learn.org/stable/modules/linear_model.html#logistic-regression\n",
      "  extra_warning_msg=_LOGISTIC_SOLVER_CONVERGENCE_MSG)\n"
     ]
    },
    {
     "name": "stdout",
     "output_type": "stream",
     "text": [
      "No. of molecules in train set: 2599, with 311 actives.\n",
      "No. of molecules in test set: 867, with 104 actives.\n",
      "\n",
      "********** GRID SEARCH RESULTS **********\n",
      "- Mean CV ROC-AUC:\t0.819\n",
      "- Train ROC-AUC:  \t0.920\n",
      "- Test ROC-AUC:   \t0.730\n",
      "- Best hyperparameters {'C': 0.01, 'penalty': 'l2', 'solver': 'lbfgs'}\n",
      "******************************************\n",
      "\n",
      "***** Best Conformation's ROC-AUC using docking scores *****\n",
      "> Train best conf. ROC-AUC: 0.639 \t> median: 0.584, mean: 0.580\n",
      "> Test best conf. ROC-AUC: 0.699 \t> median: 0.614, mean: 0.613\n",
      "****************************************************************\n",
      "************************************************************ \n",
      " Randomized y fraction (actives): 0.2\n",
      "Number of actives/inactives shuffled: 83.0\n",
      "************************************************************\n",
      "LogReg => Train: Merged; Test: Merged; split: scaffold\n",
      "No. of molecules in train set: 2599, with 311 actives.\n",
      "No. of molecules in test set: 867, with 104 actives.\n",
      "\n",
      "********** GRID SEARCH RESULTS **********\n",
      "- Mean CV ROC-AUC:\t0.784\n",
      "- Train ROC-AUC:  \t0.897\n",
      "- Test ROC-AUC:   \t0.689\n",
      "- Best hyperparameters {'C': 0.01, 'penalty': 'l2', 'solver': 'lbfgs'}\n",
      "******************************************\n",
      "\n",
      "***** Best Conformation's ROC-AUC using docking scores *****\n",
      "> Train best conf. ROC-AUC: 0.642 \t> median: 0.601, mean: 0.595\n",
      "> Test best conf. ROC-AUC: 0.647 \t> median: 0.583, mean: 0.582\n",
      "****************************************************************\n",
      "************************************************************ \n",
      " Randomized y fraction (actives): 0.3\n",
      "Number of actives/inactives shuffled: 124.5\n",
      "************************************************************\n",
      "LogReg => Train: Merged; Test: Merged; split: scaffold\n",
      "No. of molecules in train set: 2599, with 311 actives.\n",
      "No. of molecules in test set: 867, with 104 actives.\n",
      "\n",
      "********** GRID SEARCH RESULTS **********\n",
      "- Mean CV ROC-AUC:\t0.710\n",
      "- Train ROC-AUC:  \t0.868\n",
      "- Test ROC-AUC:   \t0.644\n",
      "- Best hyperparameters {'C': 0.01, 'penalty': 'l2', 'solver': 'lbfgs'}\n",
      "******************************************\n",
      "\n",
      "***** Best Conformation's ROC-AUC using docking scores *****\n",
      "> Train best conf. ROC-AUC: 0.639 \t> median: 0.595, mean: 0.590\n",
      "> Test best conf. ROC-AUC: 0.597 \t> median: 0.529, mean: 0.531\n",
      "****************************************************************\n",
      "************************************************************ \n",
      " Randomized y fraction (actives): 0.4\n",
      "Number of actives/inactives shuffled: 166.0\n",
      "************************************************************\n",
      "LogReg => Train: Merged; Test: Merged; split: scaffold\n",
      "No. of molecules in train set: 2599, with 311 actives.\n",
      "No. of molecules in test set: 867, with 104 actives.\n",
      "\n",
      "********** GRID SEARCH RESULTS **********\n",
      "- Mean CV ROC-AUC:\t0.648\n",
      "- Train ROC-AUC:  \t0.829\n",
      "- Test ROC-AUC:   \t0.601\n",
      "- Best hyperparameters {'C': 0.01, 'penalty': 'l2', 'solver': 'liblinear'}\n",
      "******************************************\n",
      "\n",
      "***** Best Conformation's ROC-AUC using docking scores *****\n",
      "> Train best conf. ROC-AUC: 0.606 \t> median: 0.567, mean: 0.564\n",
      "> Test best conf. ROC-AUC: 0.566 \t> median: 0.497, mean: 0.497\n",
      "****************************************************************\n",
      "************************************************************ \n",
      " Randomized y fraction (actives): 0.5\n",
      "Number of actives/inactives shuffled: 207.5\n",
      "************************************************************\n",
      "LogReg => Train: Merged; Test: Merged; split: scaffold\n"
     ]
    },
    {
     "name": "stderr",
     "output_type": "stream",
     "text": [
      "/home/ricci/miniconda3/envs/mds/lib/python3.7/site-packages/sklearn/linear_model/_logistic.py:764: ConvergenceWarning: lbfgs failed to converge (status=1):\n",
      "STOP: TOTAL NO. of ITERATIONS REACHED LIMIT.\n",
      "\n",
      "Increase the number of iterations (max_iter) or scale the data as shown in:\n",
      "    https://scikit-learn.org/stable/modules/preprocessing.html\n",
      "Please also refer to the documentation for alternative solver options:\n",
      "    https://scikit-learn.org/stable/modules/linear_model.html#logistic-regression\n",
      "  extra_warning_msg=_LOGISTIC_SOLVER_CONVERGENCE_MSG)\n"
     ]
    },
    {
     "name": "stdout",
     "output_type": "stream",
     "text": [
      "No. of molecules in train set: 2599, with 311 actives.\n",
      "No. of molecules in test set: 867, with 104 actives.\n",
      "\n",
      "********** GRID SEARCH RESULTS **********\n",
      "- Mean CV ROC-AUC:\t0.596\n",
      "- Train ROC-AUC:  \t0.825\n",
      "- Test ROC-AUC:   \t0.588\n",
      "- Best hyperparameters {'C': 0.01, 'penalty': 'l2', 'solver': 'lbfgs'}\n",
      "******************************************\n",
      "\n",
      "***** Best Conformation's ROC-AUC using docking scores *****\n",
      "> Train best conf. ROC-AUC: 0.602 \t> median: 0.567, mean: 0.565\n",
      "> Test best conf. ROC-AUC: 0.546 \t> median: 0.491, mean: 0.492\n",
      "****************************************************************\n",
      "************************************************************ \n",
      " Randomized y fraction (actives): 1\n",
      "Number of actives/inactives shuffled: 415\n",
      "************************************************************\n",
      "LogReg => Train: Merged; Test: Merged; split: scaffold\n"
     ]
    },
    {
     "name": "stderr",
     "output_type": "stream",
     "text": [
      "/home/ricci/miniconda3/envs/mds/lib/python3.7/site-packages/sklearn/linear_model/_logistic.py:764: ConvergenceWarning: lbfgs failed to converge (status=1):\n",
      "STOP: TOTAL NO. of ITERATIONS REACHED LIMIT.\n",
      "\n",
      "Increase the number of iterations (max_iter) or scale the data as shown in:\n",
      "    https://scikit-learn.org/stable/modules/preprocessing.html\n",
      "Please also refer to the documentation for alternative solver options:\n",
      "    https://scikit-learn.org/stable/modules/linear_model.html#logistic-regression\n",
      "  extra_warning_msg=_LOGISTIC_SOLVER_CONVERGENCE_MSG)\n"
     ]
    },
    {
     "name": "stdout",
     "output_type": "stream",
     "text": [
      "No. of molecules in train set: 2599, with 311 actives.\n",
      "No. of molecules in test set: 867, with 104 actives.\n",
      "\n",
      "********** GRID SEARCH RESULTS **********\n",
      "- Mean CV ROC-AUC:\t0.524\n",
      "- Train ROC-AUC:  \t0.803\n",
      "- Test ROC-AUC:   \t0.526\n",
      "- Best hyperparameters {'C': 0.01, 'penalty': 'l2', 'solver': 'lbfgs'}\n",
      "******************************************\n",
      "\n",
      "***** Best Conformation's ROC-AUC using docking scores *****\n",
      "> Train best conf. ROC-AUC: 0.548 \t> median: 0.498, mean: 0.501\n",
      "> Test best conf. ROC-AUC: 0.538 \t> median: 0.461, mean: 0.461\n",
      "****************************************************************\n",
      "CPU times: user 44.3 s, sys: 15.6 s, total: 59.9 s\n",
      "Wall time: 14min 38s\n"
     ]
    }
   ],
   "source": [
    "%%time\n",
    "from sklearn.linear_model import LogisticRegression\n",
    "\n",
    "chi_values = [0, 0.1, 0.2, 0.3, 0.4, 0.5, 1]\n",
    "\n",
    "for chi in chi_values:\n",
    "    y_rd = randomize_y_labels(y, chi)\n",
    "    \n",
    "    print('*'*60, '\\n', 'Randomized y fraction (actives):', chi)\n",
    "    print('Number of actives/inactives shuffled:', chi*y.sum())\n",
    "    print('*'*60)\n",
    "\n",
    "    estimator_name = 'LogReg'\n",
    "    estimator = LogisticRegression(max_iter=300)\n",
    "    hyperparams = {'C':  np.geomspace(1e-8, 1e2, 6),\n",
    "                   'penalty': ['l1', 'l2'], \n",
    "                   'solver': ['lbfgs', 'liblinear']}\n",
    "\n",
    "    # SCAFFOLD Train test splitting\n",
    "    split_and_gs(library, library, estimator_name,\n",
    "                 X, y_rd, estimator, hyperparams,\n",
    "                 splitting='scaffold', test_size=0.25, \n",
    "                 scaffold_series=scaffold_series)"
   ]
  },
  {
   "cell_type": "markdown",
   "metadata": {},
   "source": [
    "<h3 style='color: #F84122; padding: 0px;; margin: 0px'>GS: X Gradient Boosting </h3>\n",
    "<b>Merged Libraries</b>"
   ]
  },
  {
   "cell_type": "code",
   "execution_count": 128,
   "metadata": {
    "cell_style": "split"
   },
   "outputs": [
    {
     "name": "stdout",
     "output_type": "stream",
     "text": [
      "******************************************************************************** \n",
      " Randomized y fraction (actives): 0\n",
      "Number of actives/inactives shuffled: 0\n",
      "********************************************************************************\n",
      "XGB_tree => Train: Merged; Test: Merged; split: random\n",
      "No. of molecules in train set: 2599, with 311 actives.\n",
      "No. of molecules in test set: 867, with 104 actives.\n",
      "\n",
      "********** GRID SEARCH RESULTS **********\n",
      "- Mean CV ROC-AUC:\t0.905\n",
      "- Train ROC-AUC:  \t1.000\n",
      "- Test ROC-AUC:   \t0.922\n",
      "- Best hyperparameters {'subsample': 0.5, 'n_estimators': 300, 'max_depth': 20, 'learning_rate': 0.05, 'gamma': 0.1, 'colsample_bytree': 0.3, 'alpha': 0.01}\n",
      "******************************************\n",
      "\n",
      "***** Best Conformation's ROC-AUC using docking scores *****\n",
      "> Train best conf. ROC-AUC: 0.672 \t> median: 0.617, mean: 0.612\n",
      "> Test best conf. ROC-AUC: 0.675 \t> median: 0.605, mean: 0.600\n",
      "****************************************************************\n",
      "\n",
      "\n",
      "******************************************************************************** \n",
      " Randomized y fraction (actives): 0.1\n",
      "Number of actives/inactives shuffled: 41.5\n",
      "********************************************************************************\n",
      "XGB_tree => Train: Merged; Test: Merged; split: random\n",
      "No. of molecules in train set: 2599, with 311 actives.\n",
      "No. of molecules in test set: 867, with 104 actives.\n",
      "\n",
      "********** GRID SEARCH RESULTS **********\n",
      "- Mean CV ROC-AUC:\t0.855\n",
      "- Train ROC-AUC:  \t1.000\n",
      "- Test ROC-AUC:   \t0.868\n",
      "- Best hyperparameters {'subsample': 0.5, 'n_estimators': 300, 'max_depth': 20, 'learning_rate': 0.05, 'gamma': 0.5, 'colsample_bytree': 1, 'alpha': 1}\n",
      "******************************************\n",
      "\n",
      "***** Best Conformation's ROC-AUC using docking scores *****\n",
      "> Train best conf. ROC-AUC: 0.649 \t> median: 0.603, mean: 0.598\n",
      "> Test best conf. ROC-AUC: 0.661 \t> median: 0.588, mean: 0.583\n",
      "****************************************************************\n",
      "\n",
      "\n",
      "******************************************************************************** \n",
      " Randomized y fraction (actives): 0.2\n",
      "Number of actives/inactives shuffled: 83.0\n",
      "********************************************************************************\n",
      "XGB_tree => Train: Merged; Test: Merged; split: random\n",
      "No. of molecules in train set: 2599, with 311 actives.\n",
      "No. of molecules in test set: 867, with 104 actives.\n",
      "\n",
      "********** GRID SEARCH RESULTS **********\n",
      "- Mean CV ROC-AUC:\t0.811\n",
      "- Train ROC-AUC:  \t1.000\n",
      "- Test ROC-AUC:   \t0.782\n",
      "- Best hyperparameters {'subsample': 0.5, 'n_estimators': 300, 'max_depth': 10, 'learning_rate': 0.05, 'gamma': 0.1, 'colsample_bytree': 0.3, 'alpha': 0.01}\n",
      "******************************************\n",
      "\n",
      "***** Best Conformation's ROC-AUC using docking scores *****\n",
      "> Train best conf. ROC-AUC: 0.655 \t> median: 0.609, mean: 0.604\n",
      "> Test best conf. ROC-AUC: 0.597 \t> median: 0.539, mean: 0.538\n",
      "****************************************************************\n",
      "\n",
      "\n",
      "******************************************************************************** \n",
      " Randomized y fraction (actives): 0.3\n",
      "Number of actives/inactives shuffled: 124.5\n",
      "********************************************************************************\n",
      "XGB_tree => Train: Merged; Test: Merged; split: random\n",
      "No. of molecules in train set: 2599, with 311 actives.\n",
      "No. of molecules in test set: 867, with 104 actives.\n",
      "\n",
      "********** GRID SEARCH RESULTS **********\n",
      "- Mean CV ROC-AUC:\t0.747\n",
      "- Train ROC-AUC:  \t1.000\n",
      "- Test ROC-AUC:   \t0.711\n",
      "- Best hyperparameters {'subsample': 0.5, 'n_estimators': 200, 'max_depth': 20, 'learning_rate': 0.05, 'gamma': 0.5, 'colsample_bytree': 0.3, 'alpha': 0.5}\n",
      "******************************************\n",
      "\n",
      "***** Best Conformation's ROC-AUC using docking scores *****\n",
      "> Train best conf. ROC-AUC: 0.615 \t> median: 0.571, mean: 0.570\n",
      "> Test best conf. ROC-AUC: 0.648 \t> median: 0.583, mean: 0.577\n",
      "****************************************************************\n",
      "\n",
      "\n",
      "******************************************************************************** \n",
      " Randomized y fraction (actives): 0.4\n",
      "Number of actives/inactives shuffled: 166.0\n",
      "********************************************************************************\n",
      "XGB_tree => Train: Merged; Test: Merged; split: random\n",
      "No. of molecules in train set: 2599, with 311 actives.\n",
      "No. of molecules in test set: 867, with 104 actives.\n",
      "\n",
      "********** GRID SEARCH RESULTS **********\n",
      "- Mean CV ROC-AUC:\t0.686\n",
      "- Train ROC-AUC:  \t1.000\n",
      "- Test ROC-AUC:   \t0.693\n",
      "- Best hyperparameters {'subsample': 0.5, 'n_estimators': 300, 'max_depth': 10, 'learning_rate': 0.1, 'gamma': 0.5, 'colsample_bytree': 0.5, 'alpha': 0.5}\n",
      "******************************************\n",
      "\n",
      "***** Best Conformation's ROC-AUC using docking scores *****\n",
      "> Train best conf. ROC-AUC: 0.595 \t> median: 0.556, mean: 0.555\n",
      "> Test best conf. ROC-AUC: 0.640 \t> median: 0.573, mean: 0.569\n",
      "****************************************************************\n",
      "\n",
      "\n",
      "******************************************************************************** \n",
      " Randomized y fraction (actives): 0.5\n",
      "Number of actives/inactives shuffled: 207.5\n",
      "********************************************************************************\n",
      "XGB_tree => Train: Merged; Test: Merged; split: random\n",
      "No. of molecules in train set: 2599, with 311 actives.\n",
      "No. of molecules in test set: 867, with 104 actives.\n",
      "\n",
      "********** GRID SEARCH RESULTS **********\n",
      "- Mean CV ROC-AUC:\t0.667\n",
      "- Train ROC-AUC:  \t1.000\n",
      "- Test ROC-AUC:   \t0.574\n",
      "- Best hyperparameters {'subsample': 0.3, 'n_estimators': 300, 'max_depth': 10, 'learning_rate': 0.05, 'gamma': 0.5, 'colsample_bytree': 0.5, 'alpha': 0.5}\n",
      "******************************************\n",
      "\n",
      "***** Best Conformation's ROC-AUC using docking scores *****\n",
      "> Train best conf. ROC-AUC: 0.625 \t> median: 0.591, mean: 0.588\n",
      "> Test best conf. ROC-AUC: 0.546 \t> median: 0.483, mean: 0.483\n",
      "****************************************************************\n",
      "\n",
      "\n",
      "******************************************************************************** \n",
      " Randomized y fraction (actives): 1\n",
      "Number of actives/inactives shuffled: 415\n",
      "********************************************************************************\n",
      "XGB_tree => Train: Merged; Test: Merged; split: random\n",
      "No. of molecules in train set: 2599, with 311 actives.\n",
      "No. of molecules in test set: 867, with 104 actives.\n",
      "\n",
      "********** GRID SEARCH RESULTS **********\n",
      "- Mean CV ROC-AUC:\t0.553\n",
      "- Train ROC-AUC:  \t0.976\n",
      "- Test ROC-AUC:   \t0.544\n",
      "- Best hyperparameters {'subsample': 0.3, 'n_estimators': 200, 'max_depth': 3, 'learning_rate': 0.05, 'gamma': 0.1, 'colsample_bytree': 0.5, 'alpha': 0.1}\n",
      "******************************************\n",
      "\n",
      "***** Best Conformation's ROC-AUC using docking scores *****\n",
      "> Train best conf. ROC-AUC: 0.529 \t> median: 0.486, mean: 0.486\n",
      "> Test best conf. ROC-AUC: 0.576 \t> median: 0.494, mean: 0.495\n",
      "****************************************************************\n",
      "\n",
      "\n",
      "CPU times: user 4min 30s, sys: 1.22 s, total: 4min 31s\n",
      "Wall time: 45min 43s\n"
     ]
    }
   ],
   "source": [
    "%%time\n",
    "\n",
    "from xgboost import XGBClassifier\n",
    "\n",
    "chi_values = [0, 0.1, 0.2, 0.3, 0.4, 0.5, 1]\n",
    "\n",
    "for chi in chi_values:\n",
    "    y_rd = randomize_y_labels(y, chi)\n",
    "    \n",
    "    print('*'*80, '\\n', 'Randomized y fraction (actives):', chi)\n",
    "    print('Number of actives/inactives shuffled:', chi*y.sum())\n",
    "    print('*'*80)\n",
    "    \n",
    "    estimator_name = 'XGB_tree'\n",
    "    estimator = XGBClassifier()\n",
    "    hyperparams = {'n_estimators': [200, 300],\n",
    "                   'max_depth': [2, 3, 10, 20],\n",
    "                   'learning_rate': [0.05, 0.1],\n",
    "                   'gamma': [0.01, 0.1, 0.5, 1],\n",
    "                   'alpha': [0.01, 0.1, 0.5, 1],\n",
    "                   'subsample': [0.3, 0.5],\n",
    "                   'colsample_bytree': [0.3, 0.5, 1]\n",
    "                }\n",
    "\n",
    "    # RANDOM Train test splitting\n",
    "    split_and_gs(library, library, estimator_name,\n",
    "                 X, y_rd, estimator, hyperparams,\n",
    "                 splitting='random', test_size=0.25, \n",
    "                 scaffold_series=None,\n",
    "                 # RandomizedGS\n",
    "                 randomGS=True, n_iter=50)\n",
    "    \n",
    "    print('\\n')"
   ]
  },
  {
   "cell_type": "markdown",
   "metadata": {},
   "source": [
    "<h3 style='color: #F84122; padding: 0px;; margin: 0px'>GS: Radial Basis Function SVM</h3>\n",
    "<b>Merged Libraries</b>"
   ]
  },
  {
   "cell_type": "code",
   "execution_count": 20,
   "metadata": {
    "cell_style": "split"
   },
   "outputs": [
    {
     "name": "stdout",
     "output_type": "stream",
     "text": [
      "rbfSVC => Train: Merged; Test: Merged; split: random\n",
      "No. of molecules in train set: 2599, with 311 actives.\n",
      "No. of molecules in test set: 867, with 104 actives.\n",
      "\n",
      "********** GRID SEARCH RESULTS **********\n",
      "- Mean CV ROC-AUC:\t0.503\n",
      "- Train ROC-AUC:  \t0.000\n",
      "- Test ROC-AUC:   \t0.496\n",
      "- Best hyperparameters {'C': 10.0, 'gamma': 1.0}\n",
      "******************************************\n",
      "\n",
      "***** Best Conformation's ROC-AUC using docking scores *****\n",
      "> Train best conf. ROC-AUC: 0.521 \t> median: 0.496, mean: 0.496\n",
      "> Test best conf. ROC-AUC: 0.529 \t> median: 0.487, mean: 0.488\n",
      "****************************************************************\n",
      "CPU times: user 23 s, sys: 48.2 ms, total: 23 s\n",
      "Wall time: 4min 8s\n"
     ]
    }
   ],
   "source": [
    "%%time\n",
    "from sklearn.svm import SVC\n",
    "\n",
    "estimator_name = 'rbfSVC'\n",
    "estimator = SVC(kernel = 'rbf', probability=True)\n",
    "hyperparams = {'C': 1, 'gamma': 1} #{'C': np.geomspace(1e0, 1e2, 3), 'gamma': np.geomspace(1e-4, 1e0, 3)}\n",
    "\n",
    "# RANDOM Train test splitting\n",
    "split_and_gs(library, library, estimator_name,\n",
    "             X, y, estimator, hyperparams,\n",
    "             splitting='random', test_size=0.25, \n",
    "             scaffold_series=None)"
   ]
  },
  {
   "cell_type": "code",
   "execution_count": null,
   "metadata": {
    "cell_style": "split"
   },
   "outputs": [],
   "source": [
    "%%time\n",
    "\n",
    "estimator_name = 'rbfSVC'\n",
    "estimator = SVC(kernel = 'rbf', probability=True)\n",
    "hyperparams = {'C': np.geomspace(1e0, 1e2, 3), \n",
    "               'gamma': np.geomspace(1e-4, 1e0, 3)}\n",
    "\n",
    "# SCAFFOLD Train test splitting\n",
    "# split_and_gs(library, library, estimator_name,\n",
    "#              X, y, estimator, hyperparams,\n",
    "#              splitting='scaffold', test_size=0.25, \n",
    "#              scaffold_series=scaffold_series)"
   ]
  },
  {
   "cell_type": "markdown",
   "metadata": {
    "cell_style": "center"
   },
   "source": [
    "<h3 style='color: #F84122; padding: 0px;; margin:ade0px'>GS: Linear SVM </h3>\n",
    "<b>Merged Libraries</b>"
   ]
  },
  {
   "cell_type": "code",
   "execution_count": 10,
   "metadata": {
    "cell_style": "split",
    "scrolled": true
   },
   "outputs": [
    {
     "name": "stdout",
     "output_type": "stream",
     "text": [
      "LinearSVC => Train: Merged; Test: Merged; split: random\n"
     ]
    },
    {
     "ename": "KeyboardInterrupt",
     "evalue": "",
     "output_type": "error",
     "traceback": [
      "\u001b[0;31m---------------------------------------------------------------------------\u001b[0m",
      "\u001b[0;31mKeyboardInterrupt\u001b[0m                         Traceback (most recent call last)",
      "\u001b[0;32m<timed exec>\u001b[0m in \u001b[0;36m<module>\u001b[0;34m\u001b[0m\n",
      "\u001b[0;32m<ipython-input-8-984399ac6d8a>\u001b[0m in \u001b[0;36mwrapper\u001b[0;34m(*args, **kwargs)\u001b[0m\n\u001b[1;32m      9\u001b[0m         \u001b[0;32mdef\u001b[0m \u001b[0mwrapper\u001b[0m\u001b[0;34m(\u001b[0m\u001b[0;34m*\u001b[0m\u001b[0margs\u001b[0m\u001b[0;34m,\u001b[0m \u001b[0;34m**\u001b[0m\u001b[0mkwargs\u001b[0m\u001b[0;34m)\u001b[0m\u001b[0;34m:\u001b[0m\u001b[0;34m\u001b[0m\u001b[0;34m\u001b[0m\u001b[0m\n\u001b[1;32m     10\u001b[0m             \u001b[0;32mif\u001b[0m \u001b[0mresults_dict\u001b[0m \u001b[0;34m!=\u001b[0m \u001b[0;32mNone\u001b[0m \u001b[0;32mand\u001b[0m \u001b[0mcapture\u001b[0m\u001b[0;34m:\u001b[0m\u001b[0;34m\u001b[0m\u001b[0;34m\u001b[0m\u001b[0m\n\u001b[0;32m---> 11\u001b[0;31m                 \u001b[0mresults\u001b[0m \u001b[0;34m=\u001b[0m \u001b[0mfunc\u001b[0m\u001b[0;34m(\u001b[0m\u001b[0;34m*\u001b[0m\u001b[0margs\u001b[0m\u001b[0;34m,\u001b[0m \u001b[0;34m**\u001b[0m\u001b[0mkwargs\u001b[0m\u001b[0;34m)\u001b[0m\u001b[0;34m\u001b[0m\u001b[0;34m\u001b[0m\u001b[0m\n\u001b[0m\u001b[1;32m     12\u001b[0m                 \u001b[0;31m# Create a key with the first four values\u001b[0m\u001b[0;34m\u001b[0m\u001b[0;34m\u001b[0m\u001b[0;34m\u001b[0m\u001b[0m\n\u001b[1;32m     13\u001b[0m                 \u001b[0mkey\u001b[0m \u001b[0;34m=\u001b[0m \u001b[0;34m'_'\u001b[0m\u001b[0;34m.\u001b[0m\u001b[0mjoin\u001b[0m\u001b[0;34m(\u001b[0m\u001b[0mresults\u001b[0m\u001b[0;34m[\u001b[0m\u001b[0;34m:\u001b[0m\u001b[0;36m4\u001b[0m\u001b[0;34m]\u001b[0m\u001b[0;34m)\u001b[0m\u001b[0;34m\u001b[0m\u001b[0;34m\u001b[0m\u001b[0m\n",
      "\u001b[0;32m<ipython-input-8-984399ac6d8a>\u001b[0m in \u001b[0;36msplit_and_gs\u001b[0;34m(train_name, test_name, estimator_name, X, y, estimator, hyperparams, splitting, test_size, scaffold_series, random_state, **kwargs)\u001b[0m\n\u001b[1;32m     52\u001b[0m     gs_results = run_grid_search(estimator, \n\u001b[1;32m     53\u001b[0m                     \u001b[0mX_train\u001b[0m\u001b[0;34m,\u001b[0m \u001b[0my_train\u001b[0m\u001b[0;34m,\u001b[0m \u001b[0mX_test\u001b[0m\u001b[0;34m,\u001b[0m \u001b[0my_test\u001b[0m\u001b[0;34m,\u001b[0m\u001b[0;34m\u001b[0m\u001b[0;34m\u001b[0m\u001b[0m\n\u001b[0;32m---> 54\u001b[0;31m                     hyperparams = hyperparams,  **kwargs)\n\u001b[0m\u001b[1;32m     55\u001b[0m \u001b[0;34m\u001b[0m\u001b[0m\n\u001b[1;32m     56\u001b[0m     \u001b[0;31m# Function to extract ROC results from DkSc values\u001b[0m\u001b[0;34m\u001b[0m\u001b[0;34m\u001b[0m\u001b[0;34m\u001b[0m\u001b[0m\n",
      "\u001b[0;32m<ipython-input-8-7c56fd03ec8f>\u001b[0m in \u001b[0;36mrun_grid_search\u001b[0;34m(estimator, X_train, y_train, X_test, y_test, hyperparams, cv_value, scoring, splitting, std_scale, randomGS, n_iter)\u001b[0m\n\u001b[1;32m     21\u001b[0m                      cv = cv_value, scoring = scoring, n_jobs = 6, refit = True)\n\u001b[1;32m     22\u001b[0m     \u001b[0;31m# Train the model\u001b[0m\u001b[0;34m\u001b[0m\u001b[0;34m\u001b[0m\u001b[0;34m\u001b[0m\u001b[0m\n\u001b[0;32m---> 23\u001b[0;31m     \u001b[0mgs\u001b[0m\u001b[0;34m.\u001b[0m\u001b[0mfit\u001b[0m\u001b[0;34m(\u001b[0m\u001b[0mX_train\u001b[0m\u001b[0;34m,\u001b[0m \u001b[0my_train\u001b[0m\u001b[0;34m)\u001b[0m\u001b[0;34m\u001b[0m\u001b[0;34m\u001b[0m\u001b[0m\n\u001b[0m\u001b[1;32m     24\u001b[0m \u001b[0;34m\u001b[0m\u001b[0m\n\u001b[1;32m     25\u001b[0m     \u001b[0;31m# Predictions\u001b[0m\u001b[0;34m\u001b[0m\u001b[0;34m\u001b[0m\u001b[0;34m\u001b[0m\u001b[0m\n",
      "\u001b[0;32m~/miniconda3/envs/mds/lib/python3.7/site-packages/sklearn/utils/validation.py\u001b[0m in \u001b[0;36minner_f\u001b[0;34m(*args, **kwargs)\u001b[0m\n\u001b[1;32m     71\u001b[0m                           FutureWarning)\n\u001b[1;32m     72\u001b[0m         \u001b[0mkwargs\u001b[0m\u001b[0;34m.\u001b[0m\u001b[0mupdate\u001b[0m\u001b[0;34m(\u001b[0m\u001b[0;34m{\u001b[0m\u001b[0mk\u001b[0m\u001b[0;34m:\u001b[0m \u001b[0marg\u001b[0m \u001b[0;32mfor\u001b[0m \u001b[0mk\u001b[0m\u001b[0;34m,\u001b[0m \u001b[0marg\u001b[0m \u001b[0;32min\u001b[0m \u001b[0mzip\u001b[0m\u001b[0;34m(\u001b[0m\u001b[0msig\u001b[0m\u001b[0;34m.\u001b[0m\u001b[0mparameters\u001b[0m\u001b[0;34m,\u001b[0m \u001b[0margs\u001b[0m\u001b[0;34m)\u001b[0m\u001b[0;34m}\u001b[0m\u001b[0;34m)\u001b[0m\u001b[0;34m\u001b[0m\u001b[0;34m\u001b[0m\u001b[0m\n\u001b[0;32m---> 73\u001b[0;31m         \u001b[0;32mreturn\u001b[0m \u001b[0mf\u001b[0m\u001b[0;34m(\u001b[0m\u001b[0;34m**\u001b[0m\u001b[0mkwargs\u001b[0m\u001b[0;34m)\u001b[0m\u001b[0;34m\u001b[0m\u001b[0;34m\u001b[0m\u001b[0m\n\u001b[0m\u001b[1;32m     74\u001b[0m     \u001b[0;32mreturn\u001b[0m \u001b[0minner_f\u001b[0m\u001b[0;34m\u001b[0m\u001b[0;34m\u001b[0m\u001b[0m\n\u001b[1;32m     75\u001b[0m \u001b[0;34m\u001b[0m\u001b[0m\n",
      "\u001b[0;32m~/miniconda3/envs/mds/lib/python3.7/site-packages/sklearn/model_selection/_search.py\u001b[0m in \u001b[0;36mfit\u001b[0;34m(self, X, y, groups, **fit_params)\u001b[0m\n\u001b[1;32m    734\u001b[0m                 \u001b[0;32mreturn\u001b[0m \u001b[0mresults\u001b[0m\u001b[0;34m\u001b[0m\u001b[0;34m\u001b[0m\u001b[0m\n\u001b[1;32m    735\u001b[0m \u001b[0;34m\u001b[0m\u001b[0m\n\u001b[0;32m--> 736\u001b[0;31m             \u001b[0mself\u001b[0m\u001b[0;34m.\u001b[0m\u001b[0m_run_search\u001b[0m\u001b[0;34m(\u001b[0m\u001b[0mevaluate_candidates\u001b[0m\u001b[0;34m)\u001b[0m\u001b[0;34m\u001b[0m\u001b[0;34m\u001b[0m\u001b[0m\n\u001b[0m\u001b[1;32m    737\u001b[0m \u001b[0;34m\u001b[0m\u001b[0m\n\u001b[1;32m    738\u001b[0m         \u001b[0;31m# For multi-metric evaluation, store the best_index_, best_params_ and\u001b[0m\u001b[0;34m\u001b[0m\u001b[0;34m\u001b[0m\u001b[0;34m\u001b[0m\u001b[0m\n",
      "\u001b[0;32m~/miniconda3/envs/mds/lib/python3.7/site-packages/sklearn/model_selection/_search.py\u001b[0m in \u001b[0;36m_run_search\u001b[0;34m(self, evaluate_candidates)\u001b[0m\n\u001b[1;32m   1186\u001b[0m     \u001b[0;32mdef\u001b[0m \u001b[0m_run_search\u001b[0m\u001b[0;34m(\u001b[0m\u001b[0mself\u001b[0m\u001b[0;34m,\u001b[0m \u001b[0mevaluate_candidates\u001b[0m\u001b[0;34m)\u001b[0m\u001b[0;34m:\u001b[0m\u001b[0;34m\u001b[0m\u001b[0;34m\u001b[0m\u001b[0m\n\u001b[1;32m   1187\u001b[0m         \u001b[0;34m\"\"\"Search all candidates in param_grid\"\"\"\u001b[0m\u001b[0;34m\u001b[0m\u001b[0;34m\u001b[0m\u001b[0m\n\u001b[0;32m-> 1188\u001b[0;31m         \u001b[0mevaluate_candidates\u001b[0m\u001b[0;34m(\u001b[0m\u001b[0mParameterGrid\u001b[0m\u001b[0;34m(\u001b[0m\u001b[0mself\u001b[0m\u001b[0;34m.\u001b[0m\u001b[0mparam_grid\u001b[0m\u001b[0;34m)\u001b[0m\u001b[0;34m)\u001b[0m\u001b[0;34m\u001b[0m\u001b[0;34m\u001b[0m\u001b[0m\n\u001b[0m\u001b[1;32m   1189\u001b[0m \u001b[0;34m\u001b[0m\u001b[0m\n\u001b[1;32m   1190\u001b[0m \u001b[0;34m\u001b[0m\u001b[0m\n",
      "\u001b[0;32m~/miniconda3/envs/mds/lib/python3.7/site-packages/sklearn/model_selection/_search.py\u001b[0m in \u001b[0;36mevaluate_candidates\u001b[0;34m(candidate_params)\u001b[0m\n\u001b[1;32m    713\u001b[0m                                \u001b[0;32mfor\u001b[0m \u001b[0mparameters\u001b[0m\u001b[0;34m,\u001b[0m \u001b[0;34m(\u001b[0m\u001b[0mtrain\u001b[0m\u001b[0;34m,\u001b[0m \u001b[0mtest\u001b[0m\u001b[0;34m)\u001b[0m\u001b[0;34m\u001b[0m\u001b[0;34m\u001b[0m\u001b[0m\n\u001b[1;32m    714\u001b[0m                                in product(candidate_params,\n\u001b[0;32m--> 715\u001b[0;31m                                           cv.split(X, y, groups)))\n\u001b[0m\u001b[1;32m    716\u001b[0m \u001b[0;34m\u001b[0m\u001b[0m\n\u001b[1;32m    717\u001b[0m                 \u001b[0;32mif\u001b[0m \u001b[0mlen\u001b[0m\u001b[0;34m(\u001b[0m\u001b[0mout\u001b[0m\u001b[0;34m)\u001b[0m \u001b[0;34m<\u001b[0m \u001b[0;36m1\u001b[0m\u001b[0;34m:\u001b[0m\u001b[0;34m\u001b[0m\u001b[0;34m\u001b[0m\u001b[0m\n",
      "\u001b[0;32m~/miniconda3/envs/mds/lib/python3.7/site-packages/joblib/parallel.py\u001b[0m in \u001b[0;36m__call__\u001b[0;34m(self, iterable)\u001b[0m\n\u001b[1;32m   1040\u001b[0m \u001b[0;34m\u001b[0m\u001b[0m\n\u001b[1;32m   1041\u001b[0m             \u001b[0;32mwith\u001b[0m \u001b[0mself\u001b[0m\u001b[0;34m.\u001b[0m\u001b[0m_backend\u001b[0m\u001b[0;34m.\u001b[0m\u001b[0mretrieval_context\u001b[0m\u001b[0;34m(\u001b[0m\u001b[0;34m)\u001b[0m\u001b[0;34m:\u001b[0m\u001b[0;34m\u001b[0m\u001b[0;34m\u001b[0m\u001b[0m\n\u001b[0;32m-> 1042\u001b[0;31m                 \u001b[0mself\u001b[0m\u001b[0;34m.\u001b[0m\u001b[0mretrieve\u001b[0m\u001b[0;34m(\u001b[0m\u001b[0;34m)\u001b[0m\u001b[0;34m\u001b[0m\u001b[0;34m\u001b[0m\u001b[0m\n\u001b[0m\u001b[1;32m   1043\u001b[0m             \u001b[0;31m# Make sure that we get a last message telling us we are done\u001b[0m\u001b[0;34m\u001b[0m\u001b[0;34m\u001b[0m\u001b[0;34m\u001b[0m\u001b[0m\n\u001b[1;32m   1044\u001b[0m             \u001b[0melapsed_time\u001b[0m \u001b[0;34m=\u001b[0m \u001b[0mtime\u001b[0m\u001b[0;34m.\u001b[0m\u001b[0mtime\u001b[0m\u001b[0;34m(\u001b[0m\u001b[0;34m)\u001b[0m \u001b[0;34m-\u001b[0m \u001b[0mself\u001b[0m\u001b[0;34m.\u001b[0m\u001b[0m_start_time\u001b[0m\u001b[0;34m\u001b[0m\u001b[0;34m\u001b[0m\u001b[0m\n",
      "\u001b[0;32m~/miniconda3/envs/mds/lib/python3.7/site-packages/joblib/parallel.py\u001b[0m in \u001b[0;36mretrieve\u001b[0;34m(self)\u001b[0m\n\u001b[1;32m    919\u001b[0m             \u001b[0;32mtry\u001b[0m\u001b[0;34m:\u001b[0m\u001b[0;34m\u001b[0m\u001b[0;34m\u001b[0m\u001b[0m\n\u001b[1;32m    920\u001b[0m                 \u001b[0;32mif\u001b[0m \u001b[0mgetattr\u001b[0m\u001b[0;34m(\u001b[0m\u001b[0mself\u001b[0m\u001b[0;34m.\u001b[0m\u001b[0m_backend\u001b[0m\u001b[0;34m,\u001b[0m \u001b[0;34m'supports_timeout'\u001b[0m\u001b[0;34m,\u001b[0m \u001b[0;32mFalse\u001b[0m\u001b[0;34m)\u001b[0m\u001b[0;34m:\u001b[0m\u001b[0;34m\u001b[0m\u001b[0;34m\u001b[0m\u001b[0m\n\u001b[0;32m--> 921\u001b[0;31m                     \u001b[0mself\u001b[0m\u001b[0;34m.\u001b[0m\u001b[0m_output\u001b[0m\u001b[0;34m.\u001b[0m\u001b[0mextend\u001b[0m\u001b[0;34m(\u001b[0m\u001b[0mjob\u001b[0m\u001b[0;34m.\u001b[0m\u001b[0mget\u001b[0m\u001b[0;34m(\u001b[0m\u001b[0mtimeout\u001b[0m\u001b[0;34m=\u001b[0m\u001b[0mself\u001b[0m\u001b[0;34m.\u001b[0m\u001b[0mtimeout\u001b[0m\u001b[0;34m)\u001b[0m\u001b[0;34m)\u001b[0m\u001b[0;34m\u001b[0m\u001b[0;34m\u001b[0m\u001b[0m\n\u001b[0m\u001b[1;32m    922\u001b[0m                 \u001b[0;32melse\u001b[0m\u001b[0;34m:\u001b[0m\u001b[0;34m\u001b[0m\u001b[0;34m\u001b[0m\u001b[0m\n\u001b[1;32m    923\u001b[0m                     \u001b[0mself\u001b[0m\u001b[0;34m.\u001b[0m\u001b[0m_output\u001b[0m\u001b[0;34m.\u001b[0m\u001b[0mextend\u001b[0m\u001b[0;34m(\u001b[0m\u001b[0mjob\u001b[0m\u001b[0;34m.\u001b[0m\u001b[0mget\u001b[0m\u001b[0;34m(\u001b[0m\u001b[0;34m)\u001b[0m\u001b[0;34m)\u001b[0m\u001b[0;34m\u001b[0m\u001b[0;34m\u001b[0m\u001b[0m\n",
      "\u001b[0;32m~/miniconda3/envs/mds/lib/python3.7/site-packages/joblib/_parallel_backends.py\u001b[0m in \u001b[0;36mwrap_future_result\u001b[0;34m(future, timeout)\u001b[0m\n\u001b[1;32m    540\u001b[0m         AsyncResults.get from multiprocessing.\"\"\"\n\u001b[1;32m    541\u001b[0m         \u001b[0;32mtry\u001b[0m\u001b[0;34m:\u001b[0m\u001b[0;34m\u001b[0m\u001b[0;34m\u001b[0m\u001b[0m\n\u001b[0;32m--> 542\u001b[0;31m             \u001b[0;32mreturn\u001b[0m \u001b[0mfuture\u001b[0m\u001b[0;34m.\u001b[0m\u001b[0mresult\u001b[0m\u001b[0;34m(\u001b[0m\u001b[0mtimeout\u001b[0m\u001b[0;34m=\u001b[0m\u001b[0mtimeout\u001b[0m\u001b[0;34m)\u001b[0m\u001b[0;34m\u001b[0m\u001b[0;34m\u001b[0m\u001b[0m\n\u001b[0m\u001b[1;32m    543\u001b[0m         \u001b[0;32mexcept\u001b[0m \u001b[0mCfTimeoutError\u001b[0m \u001b[0;32mas\u001b[0m \u001b[0me\u001b[0m\u001b[0;34m:\u001b[0m\u001b[0;34m\u001b[0m\u001b[0;34m\u001b[0m\u001b[0m\n\u001b[1;32m    544\u001b[0m             \u001b[0;32mraise\u001b[0m \u001b[0mTimeoutError\u001b[0m \u001b[0;32mfrom\u001b[0m \u001b[0me\u001b[0m\u001b[0;34m\u001b[0m\u001b[0;34m\u001b[0m\u001b[0m\n",
      "\u001b[0;32m~/miniconda3/envs/mds/lib/python3.7/concurrent/futures/_base.py\u001b[0m in \u001b[0;36mresult\u001b[0;34m(self, timeout)\u001b[0m\n\u001b[1;32m    428\u001b[0m                 \u001b[0;32mreturn\u001b[0m \u001b[0mself\u001b[0m\u001b[0;34m.\u001b[0m\u001b[0m__get_result\u001b[0m\u001b[0;34m(\u001b[0m\u001b[0;34m)\u001b[0m\u001b[0;34m\u001b[0m\u001b[0;34m\u001b[0m\u001b[0m\n\u001b[1;32m    429\u001b[0m \u001b[0;34m\u001b[0m\u001b[0m\n\u001b[0;32m--> 430\u001b[0;31m             \u001b[0mself\u001b[0m\u001b[0;34m.\u001b[0m\u001b[0m_condition\u001b[0m\u001b[0;34m.\u001b[0m\u001b[0mwait\u001b[0m\u001b[0;34m(\u001b[0m\u001b[0mtimeout\u001b[0m\u001b[0;34m)\u001b[0m\u001b[0;34m\u001b[0m\u001b[0;34m\u001b[0m\u001b[0m\n\u001b[0m\u001b[1;32m    431\u001b[0m \u001b[0;34m\u001b[0m\u001b[0m\n\u001b[1;32m    432\u001b[0m             \u001b[0;32mif\u001b[0m \u001b[0mself\u001b[0m\u001b[0;34m.\u001b[0m\u001b[0m_state\u001b[0m \u001b[0;32min\u001b[0m \u001b[0;34m[\u001b[0m\u001b[0mCANCELLED\u001b[0m\u001b[0;34m,\u001b[0m \u001b[0mCANCELLED_AND_NOTIFIED\u001b[0m\u001b[0;34m]\u001b[0m\u001b[0;34m:\u001b[0m\u001b[0;34m\u001b[0m\u001b[0;34m\u001b[0m\u001b[0m\n",
      "\u001b[0;32m~/miniconda3/envs/mds/lib/python3.7/threading.py\u001b[0m in \u001b[0;36mwait\u001b[0;34m(self, timeout)\u001b[0m\n\u001b[1;32m    294\u001b[0m         \u001b[0;32mtry\u001b[0m\u001b[0;34m:\u001b[0m    \u001b[0;31m# restore state no matter what (e.g., KeyboardInterrupt)\u001b[0m\u001b[0;34m\u001b[0m\u001b[0;34m\u001b[0m\u001b[0m\n\u001b[1;32m    295\u001b[0m             \u001b[0;32mif\u001b[0m \u001b[0mtimeout\u001b[0m \u001b[0;32mis\u001b[0m \u001b[0;32mNone\u001b[0m\u001b[0;34m:\u001b[0m\u001b[0;34m\u001b[0m\u001b[0;34m\u001b[0m\u001b[0m\n\u001b[0;32m--> 296\u001b[0;31m                 \u001b[0mwaiter\u001b[0m\u001b[0;34m.\u001b[0m\u001b[0macquire\u001b[0m\u001b[0;34m(\u001b[0m\u001b[0;34m)\u001b[0m\u001b[0;34m\u001b[0m\u001b[0;34m\u001b[0m\u001b[0m\n\u001b[0m\u001b[1;32m    297\u001b[0m                 \u001b[0mgotit\u001b[0m \u001b[0;34m=\u001b[0m \u001b[0;32mTrue\u001b[0m\u001b[0;34m\u001b[0m\u001b[0;34m\u001b[0m\u001b[0m\n\u001b[1;32m    298\u001b[0m             \u001b[0;32melse\u001b[0m\u001b[0;34m:\u001b[0m\u001b[0;34m\u001b[0m\u001b[0;34m\u001b[0m\u001b[0m\n",
      "\u001b[0;31mKeyboardInterrupt\u001b[0m: "
     ]
    }
   ],
   "source": [
    "%%time\n",
    "from sklearn.svm import SVC\n",
    "\n",
    "estimator_name = 'LinearSVC'\n",
    "estimator = SVC(kernel = 'linear', probability=True)\n",
    "hyperparams = {'C':  np.geomspace(1e-8, 1e2, 3)}\n",
    "\n",
    "# RANDOM Train test splitting\n",
    "split_and_gs(library, library, estimator_name,\n",
    "             X, y, estimator, hyperparams,\n",
    "             splitting='random', test_size=0.25, \n",
    "             scaffold_series=None)"
   ]
  },
  {
   "cell_type": "code",
   "execution_count": 23,
   "metadata": {
    "cell_style": "split"
   },
   "outputs": [
    {
     "name": "stdout",
     "output_type": "stream",
     "text": [
      "LinearSVC => Train: Merged; Test: Merged; split: scaffold\n",
      "No. of molecules in train set: 2599, with 311 actives.\n",
      "No. of molecules in test set: 867, with 104 actives.\n",
      "\n",
      "********** GRID SEARCH RESULTS **********\n",
      "- Mean CV ROC-AUC:\t0.771\n",
      "- Train ROC-AUC:  \t0.903\n",
      "- Test ROC-AUC:   \t0.717\n",
      "- Best hyperparameters {'C': 1.584893192461111e-14}\n",
      "******************************************\n",
      "\n",
      "***** Best Conformation's ROC-AUC using docking scores *****\n",
      "> Train best conf. ROC-AUC: 0.654 \t> median: 0.602, mean: 0.596\n",
      "> Test best conf. ROC-AUC: 0.746 \t> median: 0.642, mean: 0.640\n",
      "****************************************************************\n",
      "CPU times: user 5.93 s, sys: 19.2 ms, total: 5.95 s\n",
      "Wall time: 35.8 s\n"
     ]
    }
   ],
   "source": [
    "%%time\n",
    "# from sklearn.svm import SVC\n",
    "\n",
    "estimator_name = 'LinearSVC'\n",
    "estimator = SVC(kernel = 'linear', probability=True)\n",
    "hyperparams = {'C': np.geomspace(1e-15, 1e-9, 6)}\n",
    "\n",
    "# SCAFFOLD Train test splitting\n",
    "split_and_gs(library, library, estimator_name,\n",
    "             X, y, estimator, hyperparams,\n",
    "             splitting='scaffold', test_size=0.25, \n",
    "             scaffold_series=scaffold_series)"
   ]
  },
  {
   "cell_type": "code",
   "execution_count": 16,
   "metadata": {},
   "outputs": [
    {
     "name": "stdout",
     "output_type": "stream",
     "text": [
      "DTree => Train: Merged; Test: Merged; split: random\n",
      "No. of molecules in train set: 2599, with 311 actives.\n",
      "No. of molecules in test set: 867, with 104 actives.\n",
      "\n",
      "********** GRID SEARCH RESULTS **********\n",
      "- Mean CV ROC-AUC:\t0.520\n",
      "- Train ROC-AUC:  \t0.536\n",
      "- Test ROC-AUC:   \t0.503\n",
      "- Best hyperparameters {'criterion': 'entropy', 'max_depth': 5, 'max_features': 'log2', 'min_samples_split': 0.25}\n",
      "******************************************\n",
      "\n",
      "***** Best Conformation's ROC-AUC using docking scores *****\n",
      "> Train best conf. ROC-AUC: 0.547 \t> median: 0.519, mean: 0.519\n",
      "> Test best conf. ROC-AUC: 0.545 \t> median: 0.497, mean: 0.496\n",
      "****************************************************************\n",
      "CPU times: user 2.15 s, sys: 57.2 ms, total: 2.21 s\n",
      "Wall time: 5.05 s\n"
     ]
    }
   ],
   "source": [
    "%%time\n",
    "from sklearn.tree import DecisionTreeClassifier\n",
    "\n",
    "estimator_name = 'DTree'\n",
    "estimator = DecisionTreeClassifier(splitter='best')\n",
    "hyperparams = {'criterion': ['gini', 'entropy'], \n",
    "               'max_depth': [2, 3, 5],\n",
    "               'min_samples_split': [0.2, 0.25, 0.3],\n",
    "               'max_features': [None, 'sqrt', 'log2']}\n",
    "\n",
    "# RANDOM Train test splitting\n",
    "split_and_gs(library, library, estimator_name,\n",
    "             X, y, estimator, hyperparams,\n",
    "             splitting='random', test_size=0.25, \n",
    "             scaffold_series=None)"
   ]
  },
  {
   "cell_type": "code",
   "execution_count": 35,
   "metadata": {
    "cell_style": "split"
   },
   "outputs": [
    {
     "name": "stdout",
     "output_type": "stream",
     "text": [
      "1-NN => Train: Merged; Test: Merged; split: random\n",
      "No. of molecules in train set: 2599, with 311 actives.\n",
      "No. of molecules in test set: 867, with 104 actives.\n",
      "\n",
      "********** GRID SEARCH RESULTS **********\n",
      "- Mean CV ROC-AUC:\t0.494\n",
      "- Train ROC-AUC:  \t1.000\n",
      "- Test ROC-AUC:   \t0.517\n",
      "- Best hyperparameters {'n_neighbors': 1, 'p': 1}\n",
      "******************************************\n",
      "\n",
      "***** Best Conformation's ROC-AUC using docking scores *****\n",
      "> Train best conf. ROC-AUC: 0.522 \t> median: 0.490, mean: 0.490\n",
      "> Test best conf. ROC-AUC: 0.565 \t> median: 0.521, mean: 0.520\n",
      "****************************************************************\n",
      "CPU times: user 3.12 s, sys: 8.41 ms, total: 3.13 s\n",
      "Wall time: 6.1 s\n"
     ]
    }
   ],
   "source": [
    "%%time\n",
    "from sklearn.neighbors import KNeighborsClassifier \n",
    "\n",
    "estimator_name = '1-NN'\n",
    "estimator = KNeighborsClassifier()\n",
    "hyperparams = {'n_neighbors': [1], \n",
    "               'p': [1, 2]\n",
    "             }\n",
    "\n",
    "# RANDOM Train test splitting\n",
    "split_and_gs(library, library, estimator_name,\n",
    "             X, y, estimator, hyperparams,\n",
    "             splitting='random', test_size=0.25, \n",
    "             scaffold_series=None)"
   ]
  },
  {
   "cell_type": "code",
   "execution_count": 17,
   "metadata": {},
   "outputs": [
    {
     "name": "stdout",
     "output_type": "stream",
     "text": [
      "RandForest => Train: Merged; Test: Merged; split: random\n",
      "No. of molecules in train set: 2599, with 311 actives.\n",
      "No. of molecules in test set: 867, with 104 actives.\n",
      "\n",
      "********** GRID SEARCH RESULTS **********\n",
      "- Mean CV ROC-AUC:\t0.516\n",
      "- Train ROC-AUC:  \t0.751\n",
      "- Test ROC-AUC:   \t0.484\n",
      "- Best hyperparameters {'max_depth': 5, 'max_features': 'sqrt', 'min_samples_leaf': 0.1, 'n_estimators': 500}\n",
      "******************************************\n",
      "\n",
      "***** Best Conformation's ROC-AUC using docking scores *****\n",
      "> Train best conf. ROC-AUC: 0.552 \t> median: 0.516, mean: 0.516\n",
      "> Test best conf. ROC-AUC: 0.543 \t> median: 0.505, mean: 0.505\n",
      "****************************************************************\n",
      "CPU times: user 4.53 s, sys: 13.4 ms, total: 4.54 s\n",
      "Wall time: 30.1 s\n"
     ]
    }
   ],
   "source": [
    "%%time\n",
    "from sklearn.ensemble import RandomForestClassifier\n",
    "\n",
    "estimator_name = 'RandForest'\n",
    "estimator = RandomForestClassifier()\n",
    "hyperparams = {'n_estimators': [300, 500],\n",
    "             'max_depth': [2,  5],\n",
    "             'min_samples_leaf': [0.1, 0.2],\n",
    "             'max_features': ['log2', 'sqrt']\n",
    "            }\n",
    "\n",
    "# RANDOM Train test splitting\n",
    "split_and_gs(library, library, estimator_name,\n",
    "             X, y, estimator, hyperparams,\n",
    "             splitting='random', test_size=0.25, \n",
    "             scaffold_series=None)"
   ]
  },
  {
   "cell_type": "code",
   "execution_count": null,
   "metadata": {},
   "outputs": [],
   "source": []
  },
  {
   "cell_type": "code",
   "execution_count": null,
   "metadata": {},
   "outputs": [],
   "source": []
  }
 ],
 "metadata": {
  "kernelspec": {
   "display_name": "Python 3",
   "language": "python",
   "name": "python3"
  },
  "language_info": {
   "codemirror_mode": {
    "name": "ipython",
    "version": 3
   },
   "file_extension": ".py",
   "mimetype": "text/x-python",
   "name": "python",
   "nbconvert_exporter": "python",
   "pygments_lexer": "ipython3",
   "version": "3.7.6"
  }
 },
 "nbformat": 4,
 "nbformat_minor": 4
}
